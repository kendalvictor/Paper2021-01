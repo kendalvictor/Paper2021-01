{
 "cells": [
  {
   "cell_type": "code",
   "execution_count": 1,
   "id": "42ae479b-e86e-4735-837e-f6d147e99b12",
   "metadata": {},
   "outputs": [],
   "source": [
    "# Nativos\n",
    "import random as rn\n",
    "import os\n",
    "import sys\n",
    "import gc\n",
    "\n",
    "#calculo\n",
    "import numpy as np\n",
    "import pandas as pd\n",
    "import scipy\n",
    "\n",
    "import pandas as pd\n",
    "import scorecardpy as sc\n",
    "\n",
    "SEED = 29082013\n",
    "os.environ['PYTHONHASHSEED']=str(SEED)\n",
    "np.random.seed(SEED)\n",
    "rn.seed(SEED)"
   ]
  },
  {
   "cell_type": "markdown",
   "id": "a5b7e3dc-72c1-48ed-93e3-b1a60ef3d6fe",
   "metadata": {},
   "source": [
    "### Utilitarios"
   ]
  },
  {
   "cell_type": "code",
   "execution_count": 2,
   "id": "49174cde-09c6-4267-bcb1-e28210a06921",
   "metadata": {},
   "outputs": [],
   "source": [
    "def calcular_pesos(modelo):\n",
    "    coef_model = pd.DataFrame(modelo.tvalues, columns=['t_value'])\n",
    "    coef_model['t_value2'] = np.power(coef_model['t_value'],2)\n",
    "    coef_model['total'] = sum(coef_model['t_value2'])\n",
    "    coef_model['part'] = coef_model['t_value2'] / coef_model['total']\n",
    "    coef_model['pesos'] = coef_model['part'] * 100\n",
    "    return coef_model['pesos'].sort_values(ascending=True)"
   ]
  },
  {
   "cell_type": "code",
   "execution_count": 3,
   "id": "801bea8d-50a7-4a50-af9b-6fe3c56e0ef3",
   "metadata": {},
   "outputs": [
    {
     "data": {
      "text/plain": [
       "((51120, 60), (12781, 60), (51120, 1), (12781, 1))"
      ]
     },
     "execution_count": 3,
     "metadata": {},
     "output_type": "execute_result"
    }
   ],
   "source": [
    "x_train = pd.read_csv(\"X_train.csv\")\n",
    "x_valid = pd.read_csv(\"X_valid.csv\")\n",
    "\n",
    "y_train = pd.read_csv(\"y_train.csv\")\n",
    "y_valid = pd.read_csv(\"y_valid.csv\")\n",
    "\n",
    "x_train.shape, x_valid.shape, y_train.shape, y_valid.shape"
   ]
  },
  {
   "cell_type": "code",
   "execution_count": null,
   "id": "813eef17-49d7-472a-b487-726087e4f1c3",
   "metadata": {},
   "outputs": [],
   "source": []
  },
  {
   "cell_type": "markdown",
   "id": "7b5a3e62-7c46-4189-b4d5-467a76f6c52a",
   "metadata": {},
   "source": [
    "### >> Modleo mayor p-value"
   ]
  },
  {
   "cell_type": "code",
   "execution_count": 4,
   "id": "17fad8f0-8b9f-4d08-a450-99d7e418352b",
   "metadata": {},
   "outputs": [],
   "source": [
    "cols_aporte = [\n",
    " 'Empleado',\n",
    " 'Tiempo_empleo',\n",
    " 'Saldo_cuenta',\n",
    " 'Valor_prestamo',\n",
    " 'Cuentas_otros',\n",
    " 'Autocontrol',\n",
    " 'Impulsividad',\n",
    " 'Confianza' \n",
    "]"
   ]
  },
  {
   "cell_type": "code",
   "execution_count": 5,
   "id": "d21cc8f4-e2a7-487a-820d-055eeae6fde0",
   "metadata": {},
   "outputs": [
    {
     "data": {
      "text/html": [
       "<style  type=\"text/css\" >\n",
       "#T_e3f65_row0_col0,#T_e3f65_row1_col1,#T_e3f65_row2_col2,#T_e3f65_row3_col3,#T_e3f65_row4_col4,#T_e3f65_row5_col5,#T_e3f65_row6_col6,#T_e3f65_row7_col7,#T_e3f65_row8_col8{\n",
       "            background-color:  #b40426;\n",
       "            color:  #f1f1f1;\n",
       "        }#T_e3f65_row0_col1,#T_e3f65_row1_col0{\n",
       "            background-color:  #d9dce1;\n",
       "            color:  #000000;\n",
       "        }#T_e3f65_row0_col2,#T_e3f65_row0_col7,#T_e3f65_row1_col5,#T_e3f65_row1_col8,#T_e3f65_row2_col0,#T_e3f65_row2_col4,#T_e3f65_row3_col4,#T_e3f65_row3_col7,#T_e3f65_row4_col2,#T_e3f65_row4_col3,#T_e3f65_row4_col6,#T_e3f65_row4_col8,#T_e3f65_row5_col1,#T_e3f65_row6_col4,#T_e3f65_row7_col0,#T_e3f65_row7_col3,#T_e3f65_row7_col8,#T_e3f65_row8_col1,#T_e3f65_row8_col4,#T_e3f65_row8_col7{\n",
       "            background-color:  #3d50c3;\n",
       "            color:  #f1f1f1;\n",
       "        }#T_e3f65_row0_col3,#T_e3f65_row0_col6,#T_e3f65_row1_col4,#T_e3f65_row1_col6,#T_e3f65_row2_col7,#T_e3f65_row2_col8,#T_e3f65_row3_col0,#T_e3f65_row4_col1,#T_e3f65_row5_col8,#T_e3f65_row6_col0,#T_e3f65_row6_col1,#T_e3f65_row6_col7,#T_e3f65_row7_col2,#T_e3f65_row7_col6,#T_e3f65_row8_col2,#T_e3f65_row8_col5{\n",
       "            background-color:  #3b4cc0;\n",
       "            color:  #f1f1f1;\n",
       "        }#T_e3f65_row0_col4,#T_e3f65_row0_col8,#T_e3f65_row1_col3,#T_e3f65_row2_col3,#T_e3f65_row2_col5,#T_e3f65_row3_col1,#T_e3f65_row3_col2,#T_e3f65_row3_col6,#T_e3f65_row3_col8,#T_e3f65_row4_col0,#T_e3f65_row4_col5,#T_e3f65_row4_col7,#T_e3f65_row5_col2,#T_e3f65_row5_col4,#T_e3f65_row6_col3,#T_e3f65_row6_col8,#T_e3f65_row7_col4,#T_e3f65_row8_col0,#T_e3f65_row8_col3,#T_e3f65_row8_col6{\n",
       "            background-color:  #3c4ec2;\n",
       "            color:  #f1f1f1;\n",
       "        }#T_e3f65_row0_col5,#T_e3f65_row1_col7,#T_e3f65_row2_col6,#T_e3f65_row5_col0,#T_e3f65_row5_col6,#T_e3f65_row5_col7,#T_e3f65_row6_col2,#T_e3f65_row6_col5,#T_e3f65_row7_col1,#T_e3f65_row7_col5{\n",
       "            background-color:  #3e51c5;\n",
       "            color:  #f1f1f1;\n",
       "        }#T_e3f65_row1_col2,#T_e3f65_row2_col1,#T_e3f65_row3_col5,#T_e3f65_row5_col3{\n",
       "            background-color:  #3f53c6;\n",
       "            color:  #f1f1f1;\n",
       "        }</style><table id=\"T_e3f65_\" ><thead>    <tr>        <th class=\"blank level0\" ></th>        <th class=\"col_heading level0 col0\" >Empleado</th>        <th class=\"col_heading level0 col1\" >Tiempo_empleo</th>        <th class=\"col_heading level0 col2\" >Saldo_cuenta</th>        <th class=\"col_heading level0 col3\" >Valor_prestamo</th>        <th class=\"col_heading level0 col4\" >Cuentas_otros</th>        <th class=\"col_heading level0 col5\" >Autocontrol</th>        <th class=\"col_heading level0 col6\" >Impulsividad</th>        <th class=\"col_heading level0 col7\" >Confianza</th>        <th class=\"col_heading level0 col8\" >target</th>    </tr></thead><tbody>\n",
       "                <tr>\n",
       "                        <th id=\"T_e3f65_level0_row0\" class=\"row_heading level0 row0\" >Empleado</th>\n",
       "                        <td id=\"T_e3f65_row0_col0\" class=\"data row0 col0\" >1.00000</td>\n",
       "                        <td id=\"T_e3f65_row0_col1\" class=\"data row0 col1\" >0.48055</td>\n",
       "                        <td id=\"T_e3f65_row0_col2\" class=\"data row0 col2\" >0.00228</td>\n",
       "                        <td id=\"T_e3f65_row0_col3\" class=\"data row0 col3\" >-0.00777</td>\n",
       "                        <td id=\"T_e3f65_row0_col4\" class=\"data row0 col4\" >-0.00280</td>\n",
       "                        <td id=\"T_e3f65_row0_col5\" class=\"data row0 col5\" >0.00654</td>\n",
       "                        <td id=\"T_e3f65_row0_col6\" class=\"data row0 col6\" >-0.00507</td>\n",
       "                        <td id=\"T_e3f65_row0_col7\" class=\"data row0 col7\" >0.00307</td>\n",
       "                        <td id=\"T_e3f65_row0_col8\" class=\"data row0 col8\" >-0.00068</td>\n",
       "            </tr>\n",
       "            <tr>\n",
       "                        <th id=\"T_e3f65_level0_row1\" class=\"row_heading level0 row1\" >Tiempo_empleo</th>\n",
       "                        <td id=\"T_e3f65_row1_col0\" class=\"data row1 col0\" >0.48055</td>\n",
       "                        <td id=\"T_e3f65_row1_col1\" class=\"data row1 col1\" >1.00000</td>\n",
       "                        <td id=\"T_e3f65_row1_col2\" class=\"data row1 col2\" >0.01015</td>\n",
       "                        <td id=\"T_e3f65_row1_col3\" class=\"data row1 col3\" >-0.00205</td>\n",
       "                        <td id=\"T_e3f65_row1_col4\" class=\"data row1 col4\" >-0.00453</td>\n",
       "                        <td id=\"T_e3f65_row1_col5\" class=\"data row1 col5\" >0.00186</td>\n",
       "                        <td id=\"T_e3f65_row1_col6\" class=\"data row1 col6\" >-0.00713</td>\n",
       "                        <td id=\"T_e3f65_row1_col7\" class=\"data row1 col7\" >0.00550</td>\n",
       "                        <td id=\"T_e3f65_row1_col8\" class=\"data row1 col8\" >0.00186</td>\n",
       "            </tr>\n",
       "            <tr>\n",
       "                        <th id=\"T_e3f65_level0_row2\" class=\"row_heading level0 row2\" >Saldo_cuenta</th>\n",
       "                        <td id=\"T_e3f65_row2_col0\" class=\"data row2 col0\" >0.00228</td>\n",
       "                        <td id=\"T_e3f65_row2_col1\" class=\"data row2 col1\" >0.01015</td>\n",
       "                        <td id=\"T_e3f65_row2_col2\" class=\"data row2 col2\" >1.00000</td>\n",
       "                        <td id=\"T_e3f65_row2_col3\" class=\"data row2 col3\" >-0.00130</td>\n",
       "                        <td id=\"T_e3f65_row2_col4\" class=\"data row2 col4\" >0.00060</td>\n",
       "                        <td id=\"T_e3f65_row2_col5\" class=\"data row2 col5\" >-0.00113</td>\n",
       "                        <td id=\"T_e3f65_row2_col6\" class=\"data row2 col6\" >0.00471</td>\n",
       "                        <td id=\"T_e3f65_row2_col7\" class=\"data row2 col7\" >-0.00429</td>\n",
       "                        <td id=\"T_e3f65_row2_col8\" class=\"data row2 col8\" >-0.00690</td>\n",
       "            </tr>\n",
       "            <tr>\n",
       "                        <th id=\"T_e3f65_level0_row3\" class=\"row_heading level0 row3\" >Valor_prestamo</th>\n",
       "                        <td id=\"T_e3f65_row3_col0\" class=\"data row3 col0\" >-0.00777</td>\n",
       "                        <td id=\"T_e3f65_row3_col1\" class=\"data row3 col1\" >-0.00205</td>\n",
       "                        <td id=\"T_e3f65_row3_col2\" class=\"data row3 col2\" >-0.00130</td>\n",
       "                        <td id=\"T_e3f65_row3_col3\" class=\"data row3 col3\" >1.00000</td>\n",
       "                        <td id=\"T_e3f65_row3_col4\" class=\"data row3 col4\" >0.00015</td>\n",
       "                        <td id=\"T_e3f65_row3_col5\" class=\"data row3 col5\" >0.00992</td>\n",
       "                        <td id=\"T_e3f65_row3_col6\" class=\"data row3 col6\" >-0.00262</td>\n",
       "                        <td id=\"T_e3f65_row3_col7\" class=\"data row3 col7\" >0.00102</td>\n",
       "                        <td id=\"T_e3f65_row3_col8\" class=\"data row3 col8\" >-0.00211</td>\n",
       "            </tr>\n",
       "            <tr>\n",
       "                        <th id=\"T_e3f65_level0_row4\" class=\"row_heading level0 row4\" >Cuentas_otros</th>\n",
       "                        <td id=\"T_e3f65_row4_col0\" class=\"data row4 col0\" >-0.00280</td>\n",
       "                        <td id=\"T_e3f65_row4_col1\" class=\"data row4 col1\" >-0.00453</td>\n",
       "                        <td id=\"T_e3f65_row4_col2\" class=\"data row4 col2\" >0.00060</td>\n",
       "                        <td id=\"T_e3f65_row4_col3\" class=\"data row4 col3\" >0.00015</td>\n",
       "                        <td id=\"T_e3f65_row4_col4\" class=\"data row4 col4\" >1.00000</td>\n",
       "                        <td id=\"T_e3f65_row4_col5\" class=\"data row4 col5\" >-0.00093</td>\n",
       "                        <td id=\"T_e3f65_row4_col6\" class=\"data row4 col6\" >0.00341</td>\n",
       "                        <td id=\"T_e3f65_row4_col7\" class=\"data row4 col7\" >-0.00164</td>\n",
       "                        <td id=\"T_e3f65_row4_col8\" class=\"data row4 col8\" >0.00383</td>\n",
       "            </tr>\n",
       "            <tr>\n",
       "                        <th id=\"T_e3f65_level0_row5\" class=\"row_heading level0 row5\" >Autocontrol</th>\n",
       "                        <td id=\"T_e3f65_row5_col0\" class=\"data row5 col0\" >0.00654</td>\n",
       "                        <td id=\"T_e3f65_row5_col1\" class=\"data row5 col1\" >0.00186</td>\n",
       "                        <td id=\"T_e3f65_row5_col2\" class=\"data row5 col2\" >-0.00113</td>\n",
       "                        <td id=\"T_e3f65_row5_col3\" class=\"data row5 col3\" >0.00992</td>\n",
       "                        <td id=\"T_e3f65_row5_col4\" class=\"data row5 col4\" >-0.00093</td>\n",
       "                        <td id=\"T_e3f65_row5_col5\" class=\"data row5 col5\" >1.00000</td>\n",
       "                        <td id=\"T_e3f65_row5_col6\" class=\"data row5 col6\" >0.00412</td>\n",
       "                        <td id=\"T_e3f65_row5_col7\" class=\"data row5 col7\" >0.00735</td>\n",
       "                        <td id=\"T_e3f65_row5_col8\" class=\"data row5 col8\" >-0.00478</td>\n",
       "            </tr>\n",
       "            <tr>\n",
       "                        <th id=\"T_e3f65_level0_row6\" class=\"row_heading level0 row6\" >Impulsividad</th>\n",
       "                        <td id=\"T_e3f65_row6_col0\" class=\"data row6 col0\" >-0.00507</td>\n",
       "                        <td id=\"T_e3f65_row6_col1\" class=\"data row6 col1\" >-0.00713</td>\n",
       "                        <td id=\"T_e3f65_row6_col2\" class=\"data row6 col2\" >0.00471</td>\n",
       "                        <td id=\"T_e3f65_row6_col3\" class=\"data row6 col3\" >-0.00262</td>\n",
       "                        <td id=\"T_e3f65_row6_col4\" class=\"data row6 col4\" >0.00341</td>\n",
       "                        <td id=\"T_e3f65_row6_col5\" class=\"data row6 col5\" >0.00412</td>\n",
       "                        <td id=\"T_e3f65_row6_col6\" class=\"data row6 col6\" >1.00000</td>\n",
       "                        <td id=\"T_e3f65_row6_col7\" class=\"data row6 col7\" >-0.00452</td>\n",
       "                        <td id=\"T_e3f65_row6_col8\" class=\"data row6 col8\" >-0.00201</td>\n",
       "            </tr>\n",
       "            <tr>\n",
       "                        <th id=\"T_e3f65_level0_row7\" class=\"row_heading level0 row7\" >Confianza</th>\n",
       "                        <td id=\"T_e3f65_row7_col0\" class=\"data row7 col0\" >0.00307</td>\n",
       "                        <td id=\"T_e3f65_row7_col1\" class=\"data row7 col1\" >0.00550</td>\n",
       "                        <td id=\"T_e3f65_row7_col2\" class=\"data row7 col2\" >-0.00429</td>\n",
       "                        <td id=\"T_e3f65_row7_col3\" class=\"data row7 col3\" >0.00102</td>\n",
       "                        <td id=\"T_e3f65_row7_col4\" class=\"data row7 col4\" >-0.00164</td>\n",
       "                        <td id=\"T_e3f65_row7_col5\" class=\"data row7 col5\" >0.00735</td>\n",
       "                        <td id=\"T_e3f65_row7_col6\" class=\"data row7 col6\" >-0.00452</td>\n",
       "                        <td id=\"T_e3f65_row7_col7\" class=\"data row7 col7\" >1.00000</td>\n",
       "                        <td id=\"T_e3f65_row7_col8\" class=\"data row7 col8\" >0.00093</td>\n",
       "            </tr>\n",
       "            <tr>\n",
       "                        <th id=\"T_e3f65_level0_row8\" class=\"row_heading level0 row8\" >target</th>\n",
       "                        <td id=\"T_e3f65_row8_col0\" class=\"data row8 col0\" >-0.00068</td>\n",
       "                        <td id=\"T_e3f65_row8_col1\" class=\"data row8 col1\" >0.00186</td>\n",
       "                        <td id=\"T_e3f65_row8_col2\" class=\"data row8 col2\" >-0.00690</td>\n",
       "                        <td id=\"T_e3f65_row8_col3\" class=\"data row8 col3\" >-0.00211</td>\n",
       "                        <td id=\"T_e3f65_row8_col4\" class=\"data row8 col4\" >0.00383</td>\n",
       "                        <td id=\"T_e3f65_row8_col5\" class=\"data row8 col5\" >-0.00478</td>\n",
       "                        <td id=\"T_e3f65_row8_col6\" class=\"data row8 col6\" >-0.00201</td>\n",
       "                        <td id=\"T_e3f65_row8_col7\" class=\"data row8 col7\" >0.00093</td>\n",
       "                        <td id=\"T_e3f65_row8_col8\" class=\"data row8 col8\" >1.00000</td>\n",
       "            </tr>\n",
       "    </tbody></table>"
      ],
      "text/plain": [
       "<pandas.io.formats.style.Styler at 0x227d8749ee0>"
      ]
     },
     "execution_count": 5,
     "metadata": {},
     "output_type": "execute_result"
    }
   ],
   "source": [
    "x_train['target'] = y_train.values\n",
    "matriz_corr = x_train[cols_aporte + ['target']].corr(method='pearson')\n",
    "\n",
    "matriz_corr.style.background_gradient(\n",
    "    cmap='coolwarm', axis=None\n",
    ").set_precision(5)"
   ]
  },
  {
   "cell_type": "code",
   "execution_count": 6,
   "id": "e288e8dc-164d-4b4d-b9ba-5ba5e1c46cf1",
   "metadata": {},
   "outputs": [
    {
     "data": {
      "text/html": [
       "<style  type=\"text/css\" >\n",
       "#T_2e984_row0_col0{\n",
       "            background-color:  #b40426;\n",
       "            color:  #f1f1f1;\n",
       "        }#T_2e984_row1_col0,#T_2e984_row2_col0{\n",
       "            background-color:  #3c4ec2;\n",
       "            color:  #f1f1f1;\n",
       "        }#T_2e984_row3_col0,#T_2e984_row4_col0,#T_2e984_row5_col0,#T_2e984_row6_col0,#T_2e984_row7_col0,#T_2e984_row8_col0{\n",
       "            background-color:  #3b4cc0;\n",
       "            color:  #f1f1f1;\n",
       "        }</style><table id=\"T_2e984_\" ><thead>    <tr>        <th class=\"blank level0\" ></th>        <th class=\"col_heading level0 col0\" >target</th>    </tr></thead><tbody>\n",
       "                <tr>\n",
       "                        <th id=\"T_2e984_level0_row0\" class=\"row_heading level0 row0\" >target</th>\n",
       "                        <td id=\"T_2e984_row0_col0\" class=\"data row0 col0\" >1.00000</td>\n",
       "            </tr>\n",
       "            <tr>\n",
       "                        <th id=\"T_2e984_level0_row1\" class=\"row_heading level0 row1\" >Saldo_cuenta</th>\n",
       "                        <td id=\"T_2e984_row1_col0\" class=\"data row1 col0\" >0.00690</td>\n",
       "            </tr>\n",
       "            <tr>\n",
       "                        <th id=\"T_2e984_level0_row2\" class=\"row_heading level0 row2\" >Autocontrol</th>\n",
       "                        <td id=\"T_2e984_row2_col0\" class=\"data row2 col0\" >0.00478</td>\n",
       "            </tr>\n",
       "            <tr>\n",
       "                        <th id=\"T_2e984_level0_row3\" class=\"row_heading level0 row3\" >Cuentas_otros</th>\n",
       "                        <td id=\"T_2e984_row3_col0\" class=\"data row3 col0\" >0.00383</td>\n",
       "            </tr>\n",
       "            <tr>\n",
       "                        <th id=\"T_2e984_level0_row4\" class=\"row_heading level0 row4\" >Valor_prestamo</th>\n",
       "                        <td id=\"T_2e984_row4_col0\" class=\"data row4 col0\" >0.00211</td>\n",
       "            </tr>\n",
       "            <tr>\n",
       "                        <th id=\"T_2e984_level0_row5\" class=\"row_heading level0 row5\" >Impulsividad</th>\n",
       "                        <td id=\"T_2e984_row5_col0\" class=\"data row5 col0\" >0.00201</td>\n",
       "            </tr>\n",
       "            <tr>\n",
       "                        <th id=\"T_2e984_level0_row6\" class=\"row_heading level0 row6\" >Tiempo_empleo</th>\n",
       "                        <td id=\"T_2e984_row6_col0\" class=\"data row6 col0\" >0.00186</td>\n",
       "            </tr>\n",
       "            <tr>\n",
       "                        <th id=\"T_2e984_level0_row7\" class=\"row_heading level0 row7\" >Confianza</th>\n",
       "                        <td id=\"T_2e984_row7_col0\" class=\"data row7 col0\" >0.00093</td>\n",
       "            </tr>\n",
       "            <tr>\n",
       "                        <th id=\"T_2e984_level0_row8\" class=\"row_heading level0 row8\" >Empleado</th>\n",
       "                        <td id=\"T_2e984_row8_col0\" class=\"data row8 col0\" >0.00068</td>\n",
       "            </tr>\n",
       "    </tbody></table>"
      ],
      "text/plain": [
       "<pandas.io.formats.style.Styler at 0x227a1738730>"
      ]
     },
     "execution_count": 6,
     "metadata": {},
     "output_type": "execute_result"
    }
   ],
   "source": [
    "pd.DataFrame(matriz_corr['target'].abs().sort_values(ascending=False)).style.background_gradient(\n",
    "    cmap='coolwarm', axis=None\n",
    ").set_precision(5)"
   ]
  },
  {
   "cell_type": "code",
   "execution_count": 7,
   "id": "f18fd809-066e-4a39-99b9-d3e7bf92b239",
   "metadata": {},
   "outputs": [
    {
     "data": {
      "text/html": [
       "<style  type=\"text/css\" >\n",
       "#T_bba57_row0_col0,#T_bba57_row1_col1,#T_bba57_row2_col2,#T_bba57_row3_col3,#T_bba57_row4_col4,#T_bba57_row5_col5,#T_bba57_row6_col6,#T_bba57_row7_col7,#T_bba57_row8_col8{\n",
       "            background-color:  #b40426;\n",
       "            color:  #f1f1f1;\n",
       "        }#T_bba57_row0_col1,#T_bba57_row1_col0{\n",
       "            background-color:  #f3c7b1;\n",
       "            color:  #000000;\n",
       "        }#T_bba57_row0_col2,#T_bba57_row0_col7,#T_bba57_row1_col2,#T_bba57_row1_col5,#T_bba57_row1_col8,#T_bba57_row2_col0,#T_bba57_row2_col1,#T_bba57_row2_col3,#T_bba57_row2_col4,#T_bba57_row2_col6,#T_bba57_row3_col2,#T_bba57_row3_col4,#T_bba57_row3_col7,#T_bba57_row4_col2,#T_bba57_row4_col3,#T_bba57_row4_col8,#T_bba57_row5_col1,#T_bba57_row6_col2,#T_bba57_row7_col0,#T_bba57_row7_col3,#T_bba57_row7_col8,#T_bba57_row8_col1,#T_bba57_row8_col4,#T_bba57_row8_col7{\n",
       "            background-color:  #3d50c3;\n",
       "            color:  #f1f1f1;\n",
       "        }#T_bba57_row0_col3,#T_bba57_row0_col6,#T_bba57_row1_col4,#T_bba57_row1_col6,#T_bba57_row2_col7,#T_bba57_row2_col8,#T_bba57_row3_col0,#T_bba57_row3_col8,#T_bba57_row4_col1,#T_bba57_row5_col8,#T_bba57_row6_col0,#T_bba57_row6_col1,#T_bba57_row7_col2,#T_bba57_row8_col2,#T_bba57_row8_col3,#T_bba57_row8_col5{\n",
       "            background-color:  #3b4cc0;\n",
       "            color:  #f1f1f1;\n",
       "        }#T_bba57_row0_col4,#T_bba57_row0_col8,#T_bba57_row1_col3,#T_bba57_row2_col5,#T_bba57_row3_col1,#T_bba57_row3_col6,#T_bba57_row4_col0,#T_bba57_row4_col5,#T_bba57_row4_col7,#T_bba57_row5_col2,#T_bba57_row5_col4,#T_bba57_row6_col3,#T_bba57_row6_col7,#T_bba57_row6_col8,#T_bba57_row7_col4,#T_bba57_row7_col6,#T_bba57_row8_col0,#T_bba57_row8_col6{\n",
       "            background-color:  #3c4ec2;\n",
       "            color:  #f1f1f1;\n",
       "        }#T_bba57_row0_col5,#T_bba57_row1_col7,#T_bba57_row4_col6,#T_bba57_row5_col0,#T_bba57_row5_col6,#T_bba57_row5_col7,#T_bba57_row6_col4,#T_bba57_row6_col5,#T_bba57_row7_col1,#T_bba57_row7_col5{\n",
       "            background-color:  #3e51c5;\n",
       "            color:  #f1f1f1;\n",
       "        }#T_bba57_row3_col5,#T_bba57_row5_col3{\n",
       "            background-color:  #3f53c6;\n",
       "            color:  #f1f1f1;\n",
       "        }</style><table id=\"T_bba57_\" ><thead>    <tr>        <th class=\"blank level0\" ></th>        <th class=\"col_heading level0 col0\" >Empleado</th>        <th class=\"col_heading level0 col1\" >Tiempo_empleo</th>        <th class=\"col_heading level0 col2\" >Saldo_cuenta</th>        <th class=\"col_heading level0 col3\" >Valor_prestamo</th>        <th class=\"col_heading level0 col4\" >Cuentas_otros</th>        <th class=\"col_heading level0 col5\" >Autocontrol</th>        <th class=\"col_heading level0 col6\" >Impulsividad</th>        <th class=\"col_heading level0 col7\" >Confianza</th>        <th class=\"col_heading level0 col8\" >target</th>    </tr></thead><tbody>\n",
       "                <tr>\n",
       "                        <th id=\"T_bba57_level0_row0\" class=\"row_heading level0 row0\" >Empleado</th>\n",
       "                        <td id=\"T_bba57_row0_col0\" class=\"data row0 col0\" >1.00000</td>\n",
       "                        <td id=\"T_bba57_row0_col1\" class=\"data row0 col1\" >0.61398</td>\n",
       "                        <td id=\"T_bba57_row0_col2\" class=\"data row0 col2\" >0.00248</td>\n",
       "                        <td id=\"T_bba57_row0_col3\" class=\"data row0 col3\" >-0.00547</td>\n",
       "                        <td id=\"T_bba57_row0_col4\" class=\"data row0 col4\" >-0.00123</td>\n",
       "                        <td id=\"T_bba57_row0_col5\" class=\"data row0 col5\" >0.00558</td>\n",
       "                        <td id=\"T_bba57_row0_col6\" class=\"data row0 col6\" >-0.00528</td>\n",
       "                        <td id=\"T_bba57_row0_col7\" class=\"data row0 col7\" >0.00263</td>\n",
       "                        <td id=\"T_bba57_row0_col8\" class=\"data row0 col8\" >-0.00068</td>\n",
       "            </tr>\n",
       "            <tr>\n",
       "                        <th id=\"T_bba57_level0_row1\" class=\"row_heading level0 row1\" >Tiempo_empleo</th>\n",
       "                        <td id=\"T_bba57_row1_col0\" class=\"data row1 col0\" >0.61398</td>\n",
       "                        <td id=\"T_bba57_row1_col1\" class=\"data row1 col1\" >1.00000</td>\n",
       "                        <td id=\"T_bba57_row1_col2\" class=\"data row1 col2\" >0.00249</td>\n",
       "                        <td id=\"T_bba57_row1_col3\" class=\"data row1 col3\" >-0.00161</td>\n",
       "                        <td id=\"T_bba57_row1_col4\" class=\"data row1 col4\" >-0.00478</td>\n",
       "                        <td id=\"T_bba57_row1_col5\" class=\"data row1 col5\" >0.00287</td>\n",
       "                        <td id=\"T_bba57_row1_col6\" class=\"data row1 col6\" >-0.00603</td>\n",
       "                        <td id=\"T_bba57_row1_col7\" class=\"data row1 col7\" >0.00498</td>\n",
       "                        <td id=\"T_bba57_row1_col8\" class=\"data row1 col8\" >0.00096</td>\n",
       "            </tr>\n",
       "            <tr>\n",
       "                        <th id=\"T_bba57_level0_row2\" class=\"row_heading level0 row2\" >Saldo_cuenta</th>\n",
       "                        <td id=\"T_bba57_row2_col0\" class=\"data row2 col0\" >0.00248</td>\n",
       "                        <td id=\"T_bba57_row2_col1\" class=\"data row2 col1\" >0.00249</td>\n",
       "                        <td id=\"T_bba57_row2_col2\" class=\"data row2 col2\" >1.00000</td>\n",
       "                        <td id=\"T_bba57_row2_col3\" class=\"data row2 col3\" >0.00325</td>\n",
       "                        <td id=\"T_bba57_row2_col4\" class=\"data row2 col4\" >0.00055</td>\n",
       "                        <td id=\"T_bba57_row2_col5\" class=\"data row2 col5\" >-0.00083</td>\n",
       "                        <td id=\"T_bba57_row2_col6\" class=\"data row2 col6\" >0.00214</td>\n",
       "                        <td id=\"T_bba57_row2_col7\" class=\"data row2 col7\" >-0.00655</td>\n",
       "                        <td id=\"T_bba57_row2_col8\" class=\"data row2 col8\" >-0.00791</td>\n",
       "            </tr>\n",
       "            <tr>\n",
       "                        <th id=\"T_bba57_level0_row3\" class=\"row_heading level0 row3\" >Valor_prestamo</th>\n",
       "                        <td id=\"T_bba57_row3_col0\" class=\"data row3 col0\" >-0.00547</td>\n",
       "                        <td id=\"T_bba57_row3_col1\" class=\"data row3 col1\" >-0.00161</td>\n",
       "                        <td id=\"T_bba57_row3_col2\" class=\"data row3 col2\" >0.00325</td>\n",
       "                        <td id=\"T_bba57_row3_col3\" class=\"data row3 col3\" >1.00000</td>\n",
       "                        <td id=\"T_bba57_row3_col4\" class=\"data row3 col4\" >0.00018</td>\n",
       "                        <td id=\"T_bba57_row3_col5\" class=\"data row3 col5\" >0.00950</td>\n",
       "                        <td id=\"T_bba57_row3_col6\" class=\"data row3 col6\" >-0.00224</td>\n",
       "                        <td id=\"T_bba57_row3_col7\" class=\"data row3 col7\" >0.00085</td>\n",
       "                        <td id=\"T_bba57_row3_col8\" class=\"data row3 col8\" >-0.00436</td>\n",
       "            </tr>\n",
       "            <tr>\n",
       "                        <th id=\"T_bba57_level0_row4\" class=\"row_heading level0 row4\" >Cuentas_otros</th>\n",
       "                        <td id=\"T_bba57_row4_col0\" class=\"data row4 col0\" >-0.00123</td>\n",
       "                        <td id=\"T_bba57_row4_col1\" class=\"data row4 col1\" >-0.00478</td>\n",
       "                        <td id=\"T_bba57_row4_col2\" class=\"data row4 col2\" >0.00055</td>\n",
       "                        <td id=\"T_bba57_row4_col3\" class=\"data row4 col3\" >0.00018</td>\n",
       "                        <td id=\"T_bba57_row4_col4\" class=\"data row4 col4\" >1.00000</td>\n",
       "                        <td id=\"T_bba57_row4_col5\" class=\"data row4 col5\" >-0.00073</td>\n",
       "                        <td id=\"T_bba57_row4_col6\" class=\"data row4 col6\" >0.00404</td>\n",
       "                        <td id=\"T_bba57_row4_col7\" class=\"data row4 col7\" >-0.00097</td>\n",
       "                        <td id=\"T_bba57_row4_col8\" class=\"data row4 col8\" >0.00278</td>\n",
       "            </tr>\n",
       "            <tr>\n",
       "                        <th id=\"T_bba57_level0_row5\" class=\"row_heading level0 row5\" >Autocontrol</th>\n",
       "                        <td id=\"T_bba57_row5_col0\" class=\"data row5 col0\" >0.00558</td>\n",
       "                        <td id=\"T_bba57_row5_col1\" class=\"data row5 col1\" >0.00287</td>\n",
       "                        <td id=\"T_bba57_row5_col2\" class=\"data row5 col2\" >-0.00083</td>\n",
       "                        <td id=\"T_bba57_row5_col3\" class=\"data row5 col3\" >0.00950</td>\n",
       "                        <td id=\"T_bba57_row5_col4\" class=\"data row5 col4\" >-0.00073</td>\n",
       "                        <td id=\"T_bba57_row5_col5\" class=\"data row5 col5\" >1.00000</td>\n",
       "                        <td id=\"T_bba57_row5_col6\" class=\"data row5 col6\" >0.00415</td>\n",
       "                        <td id=\"T_bba57_row5_col7\" class=\"data row5 col7\" >0.00759</td>\n",
       "                        <td id=\"T_bba57_row5_col8\" class=\"data row5 col8\" >-0.00407</td>\n",
       "            </tr>\n",
       "            <tr>\n",
       "                        <th id=\"T_bba57_level0_row6\" class=\"row_heading level0 row6\" >Impulsividad</th>\n",
       "                        <td id=\"T_bba57_row6_col0\" class=\"data row6 col0\" >-0.00528</td>\n",
       "                        <td id=\"T_bba57_row6_col1\" class=\"data row6 col1\" >-0.00603</td>\n",
       "                        <td id=\"T_bba57_row6_col2\" class=\"data row6 col2\" >0.00214</td>\n",
       "                        <td id=\"T_bba57_row6_col3\" class=\"data row6 col3\" >-0.00224</td>\n",
       "                        <td id=\"T_bba57_row6_col4\" class=\"data row6 col4\" >0.00404</td>\n",
       "                        <td id=\"T_bba57_row6_col5\" class=\"data row6 col5\" >0.00415</td>\n",
       "                        <td id=\"T_bba57_row6_col6\" class=\"data row6 col6\" >1.00000</td>\n",
       "                        <td id=\"T_bba57_row6_col7\" class=\"data row6 col7\" >-0.00383</td>\n",
       "                        <td id=\"T_bba57_row6_col8\" class=\"data row6 col8\" >-0.00219</td>\n",
       "            </tr>\n",
       "            <tr>\n",
       "                        <th id=\"T_bba57_level0_row7\" class=\"row_heading level0 row7\" >Confianza</th>\n",
       "                        <td id=\"T_bba57_row7_col0\" class=\"data row7 col0\" >0.00263</td>\n",
       "                        <td id=\"T_bba57_row7_col1\" class=\"data row7 col1\" >0.00498</td>\n",
       "                        <td id=\"T_bba57_row7_col2\" class=\"data row7 col2\" >-0.00655</td>\n",
       "                        <td id=\"T_bba57_row7_col3\" class=\"data row7 col3\" >0.00085</td>\n",
       "                        <td id=\"T_bba57_row7_col4\" class=\"data row7 col4\" >-0.00097</td>\n",
       "                        <td id=\"T_bba57_row7_col5\" class=\"data row7 col5\" >0.00759</td>\n",
       "                        <td id=\"T_bba57_row7_col6\" class=\"data row7 col6\" >-0.00383</td>\n",
       "                        <td id=\"T_bba57_row7_col7\" class=\"data row7 col7\" >1.00000</td>\n",
       "                        <td id=\"T_bba57_row7_col8\" class=\"data row7 col8\" >0.00042</td>\n",
       "            </tr>\n",
       "            <tr>\n",
       "                        <th id=\"T_bba57_level0_row8\" class=\"row_heading level0 row8\" >target</th>\n",
       "                        <td id=\"T_bba57_row8_col0\" class=\"data row8 col0\" >-0.00068</td>\n",
       "                        <td id=\"T_bba57_row8_col1\" class=\"data row8 col1\" >0.00096</td>\n",
       "                        <td id=\"T_bba57_row8_col2\" class=\"data row8 col2\" >-0.00791</td>\n",
       "                        <td id=\"T_bba57_row8_col3\" class=\"data row8 col3\" >-0.00436</td>\n",
       "                        <td id=\"T_bba57_row8_col4\" class=\"data row8 col4\" >0.00278</td>\n",
       "                        <td id=\"T_bba57_row8_col5\" class=\"data row8 col5\" >-0.00407</td>\n",
       "                        <td id=\"T_bba57_row8_col6\" class=\"data row8 col6\" >-0.00219</td>\n",
       "                        <td id=\"T_bba57_row8_col7\" class=\"data row8 col7\" >0.00042</td>\n",
       "                        <td id=\"T_bba57_row8_col8\" class=\"data row8 col8\" >1.00000</td>\n",
       "            </tr>\n",
       "    </tbody></table>"
      ],
      "text/plain": [
       "<pandas.io.formats.style.Styler at 0x227a1738dc0>"
      ]
     },
     "execution_count": 7,
     "metadata": {},
     "output_type": "execute_result"
    }
   ],
   "source": [
    "matriz_corr = x_train[cols_aporte + ['target']].corr(method='spearman')\n",
    "\n",
    "matriz_corr.style.background_gradient(\n",
    "    cmap='coolwarm', axis=None\n",
    ").set_precision(5)"
   ]
  },
  {
   "cell_type": "code",
   "execution_count": 8,
   "id": "f43ee10f-f127-4667-87e3-a31a69130539",
   "metadata": {},
   "outputs": [
    {
     "data": {
      "text/html": [
       "<style  type=\"text/css\" >\n",
       "#T_bf875_row0_col0{\n",
       "            background-color:  #b40426;\n",
       "            color:  #f1f1f1;\n",
       "        }#T_bf875_row1_col0,#T_bf875_row2_col0{\n",
       "            background-color:  #3c4ec2;\n",
       "            color:  #f1f1f1;\n",
       "        }#T_bf875_row3_col0,#T_bf875_row4_col0,#T_bf875_row5_col0,#T_bf875_row6_col0,#T_bf875_row7_col0,#T_bf875_row8_col0{\n",
       "            background-color:  #3b4cc0;\n",
       "            color:  #f1f1f1;\n",
       "        }</style><table id=\"T_bf875_\" ><thead>    <tr>        <th class=\"blank level0\" ></th>        <th class=\"col_heading level0 col0\" >target</th>    </tr></thead><tbody>\n",
       "                <tr>\n",
       "                        <th id=\"T_bf875_level0_row0\" class=\"row_heading level0 row0\" >target</th>\n",
       "                        <td id=\"T_bf875_row0_col0\" class=\"data row0 col0\" >1.00000</td>\n",
       "            </tr>\n",
       "            <tr>\n",
       "                        <th id=\"T_bf875_level0_row1\" class=\"row_heading level0 row1\" >Saldo_cuenta</th>\n",
       "                        <td id=\"T_bf875_row1_col0\" class=\"data row1 col0\" >0.00791</td>\n",
       "            </tr>\n",
       "            <tr>\n",
       "                        <th id=\"T_bf875_level0_row2\" class=\"row_heading level0 row2\" >Valor_prestamo</th>\n",
       "                        <td id=\"T_bf875_row2_col0\" class=\"data row2 col0\" >0.00436</td>\n",
       "            </tr>\n",
       "            <tr>\n",
       "                        <th id=\"T_bf875_level0_row3\" class=\"row_heading level0 row3\" >Autocontrol</th>\n",
       "                        <td id=\"T_bf875_row3_col0\" class=\"data row3 col0\" >0.00407</td>\n",
       "            </tr>\n",
       "            <tr>\n",
       "                        <th id=\"T_bf875_level0_row4\" class=\"row_heading level0 row4\" >Cuentas_otros</th>\n",
       "                        <td id=\"T_bf875_row4_col0\" class=\"data row4 col0\" >0.00278</td>\n",
       "            </tr>\n",
       "            <tr>\n",
       "                        <th id=\"T_bf875_level0_row5\" class=\"row_heading level0 row5\" >Impulsividad</th>\n",
       "                        <td id=\"T_bf875_row5_col0\" class=\"data row5 col0\" >0.00219</td>\n",
       "            </tr>\n",
       "            <tr>\n",
       "                        <th id=\"T_bf875_level0_row6\" class=\"row_heading level0 row6\" >Tiempo_empleo</th>\n",
       "                        <td id=\"T_bf875_row6_col0\" class=\"data row6 col0\" >0.00096</td>\n",
       "            </tr>\n",
       "            <tr>\n",
       "                        <th id=\"T_bf875_level0_row7\" class=\"row_heading level0 row7\" >Empleado</th>\n",
       "                        <td id=\"T_bf875_row7_col0\" class=\"data row7 col0\" >0.00068</td>\n",
       "            </tr>\n",
       "            <tr>\n",
       "                        <th id=\"T_bf875_level0_row8\" class=\"row_heading level0 row8\" >Confianza</th>\n",
       "                        <td id=\"T_bf875_row8_col0\" class=\"data row8 col0\" >0.00042</td>\n",
       "            </tr>\n",
       "    </tbody></table>"
      ],
      "text/plain": [
       "<pandas.io.formats.style.Styler at 0x227d8749790>"
      ]
     },
     "execution_count": 8,
     "metadata": {},
     "output_type": "execute_result"
    }
   ],
   "source": [
    "pd.DataFrame(matriz_corr['target'].abs().sort_values(ascending=False)).style.background_gradient(\n",
    "    cmap='coolwarm', axis=None\n",
    ").set_precision(5)"
   ]
  },
  {
   "cell_type": "code",
   "execution_count": 9,
   "id": "03aa5cd1-03ce-46bf-a492-aa9307177019",
   "metadata": {},
   "outputs": [],
   "source": [
    "if 'target' in x_train.columns:\n",
    "    del x_train['target']"
   ]
  },
  {
   "cell_type": "code",
   "execution_count": 10,
   "id": "517f716c-d259-496a-94e4-b6e7f8546476",
   "metadata": {},
   "outputs": [
    {
     "data": {
      "text/plain": [
       "Incumplimiento\n",
       "0                 0.858842\n",
       "1                 0.141158\n",
       "dtype: float64"
      ]
     },
     "execution_count": 10,
     "metadata": {},
     "output_type": "execute_result"
    }
   ],
   "source": [
    "y_train.value_counts(normalize=True)"
   ]
  },
  {
   "cell_type": "code",
   "execution_count": 11,
   "id": "f566e45f-11ad-47c4-bbd4-bcdb49f4f2c2",
   "metadata": {},
   "outputs": [
    {
     "data": {
      "text/plain": [
       "8"
      ]
     },
     "execution_count": 11,
     "metadata": {},
     "output_type": "execute_result"
    }
   ],
   "source": [
    "len(x_train[cols_aporte].columns)"
   ]
  },
  {
   "cell_type": "code",
   "execution_count": 12,
   "id": "8c7e70c8-e797-4bd5-8f88-502b6c3648aa",
   "metadata": {},
   "outputs": [
    {
     "data": {
      "text/plain": [
       "((87808, 8),\n",
       " (87808, 1),\n",
       " pandas.core.frame.DataFrame,\n",
       " pandas.core.frame.DataFrame)"
      ]
     },
     "execution_count": 12,
     "metadata": {},
     "output_type": "execute_result"
    }
   ],
   "source": [
    "from imblearn.over_sampling import RandomOverSampler\n",
    "from imblearn.under_sampling import RandomUnderSampler\n",
    "\n",
    "ros = RandomOverSampler(random_state=SEED)\n",
    "X_resampled, y_resampled = ros.fit_resample(x_train[cols_aporte], y_train)\n",
    "\n",
    "X_resampled.shape,  y_resampled.shape, type(X_resampled), type(y_resampled)"
   ]
  },
  {
   "cell_type": "code",
   "execution_count": 13,
   "id": "0c2828e4-c9ee-4e88-abd8-132fe23bc78d",
   "metadata": {},
   "outputs": [],
   "source": [
    "from sklearn.model_selection import StratifiedShuffleSplit, StratifiedKFold, TimeSeriesSplit, RepeatedStratifiedKFold\n",
    "from sklearn.model_selection import GridSearchCV\n",
    "from sklearn.linear_model import LogisticRegression\n",
    "from sklearn.tree import DecisionTreeClassifier\n",
    "from sklearn.model_selection import RandomizedSearchCV\n",
    "from sklearn.model_selection import StratifiedKFold\n",
    "\n",
    "kfold_off_on = StratifiedKFold(\n",
    "    n_splits=3, \n",
    "    shuffle=True,\n",
    "    random_state=SEED\n",
    ")\n",
    "\n",
    "param_grid_arbol = {\n",
    "    'penalty': ['elasticnet', 'none'],\n",
    "    'l1_ratio': [0, 0.1, 0.2, 0.3, 0.4, 0.5, 0.6, 0.7, 0.8, 0.9, 1],             \n",
    "    'n_jobs': -1,\n",
    "    'max_iter': [50, 100, 200, 500],\n",
    "    'solver': ['liblinear', 'saga', 'sag'],\n",
    "    'random_state': [SEED],\n",
    "    'class_weight': ['balanced', None],\n",
    "    'fit_intercept': [True, False],\n",
    "    'C': [1, 10, 20]\n",
    "}\n",
    "model_arbol = LogisticRegression(random_state=SEED)\n",
    "\n",
    "grid_arbol = RandomizedSearchCV(\n",
    "    model_arbol, \n",
    "    {k: [v] if not isinstance(v, list) else v for k, v in param_grid_arbol.items()}, \n",
    "    cv=kfold_off_on, \n",
    "    n_jobs=4, \n",
    "    scoring='roc_auc', \n",
    "    verbose=2,\n",
    "    n_iter=1000,\n",
    "    refit=True\n",
    ")"
   ]
  },
  {
   "cell_type": "code",
   "execution_count": 14,
   "id": "72f37540-5f33-4342-971a-8e7e05785785",
   "metadata": {},
   "outputs": [],
   "source": [
    "#help(grid_arbol.fit)"
   ]
  },
  {
   "cell_type": "code",
   "execution_count": 15,
   "id": "69288467-2282-45b5-8a95-b32958858864",
   "metadata": {},
   "outputs": [
    {
     "name": "stdout",
     "output_type": "stream",
     "text": [
      "Fitting 3 folds for each of 1000 candidates, totalling 3000 fits\n"
     ]
    },
    {
     "name": "stderr",
     "output_type": "stream",
     "text": [
      "C:\\ProgramData\\Anaconda3\\lib\\site-packages\\sklearn\\model_selection\\_search.py:922: UserWarning: One or more of the test scores are non-finite: [       nan        nan 0.49967852 0.49967852        nan        nan\n",
      " 0.49967818        nan 0.49933847 0.49965452 0.49967852        nan\n",
      " 0.49881808 0.49881612        nan        nan 0.49883719        nan\n",
      "        nan 0.49851268 0.49967487        nan 0.49963463        nan\n",
      " 0.49965127        nan        nan 0.49879958        nan        nan\n",
      "        nan        nan        nan        nan 0.49967487        nan\n",
      " 0.49853861 0.49883571 0.49845337 0.49967487 0.49883719        nan\n",
      " 0.49883498 0.49855221        nan 0.49883571        nan 0.49967487\n",
      "        nan        nan 0.49883498 0.49967818 0.49883498        nan\n",
      "        nan        nan        nan 0.49967487 0.49883716 0.49883498\n",
      " 0.4996755  0.49883716 0.49967818 0.49883716        nan        nan\n",
      "        nan        nan        nan        nan        nan        nan\n",
      "        nan        nan 0.4996755         nan        nan        nan\n",
      " 0.49883571 0.49967487 0.49883571        nan 0.49883716 0.49967818\n",
      "        nan 0.49883719        nan 0.49883719 0.49967818        nan\n",
      " 0.49883716 0.49967487        nan 0.49967818        nan        nan\n",
      " 0.49967487 0.49967852 0.49963257 0.49883498 0.49967818 0.49967818\n",
      "        nan        nan 0.49967487        nan        nan 0.49967852\n",
      "        nan        nan        nan 0.49883571 0.49967818        nan\n",
      "        nan 0.49883498        nan        nan 0.49883571        nan\n",
      " 0.49853861        nan 0.49967818        nan 0.49883498        nan\n",
      " 0.49965385        nan 0.49883571        nan 0.49883719 0.49939426\n",
      " 0.49967487        nan        nan        nan        nan 0.49879946\n",
      " 0.49937293 0.49967852        nan        nan 0.49883716 0.49880068\n",
      " 0.49967487 0.4996755  0.49967852 0.4987995         nan 0.49963101\n",
      "        nan        nan        nan 0.4996572         nan 0.49879949\n",
      "        nan 0.49883716        nan 0.49883719        nan 0.49967852\n",
      "        nan 0.49883571 0.4984829         nan 0.49852672        nan\n",
      "        nan 0.49883498        nan        nan 0.49883719        nan\n",
      " 0.49883571 0.49967818 0.4996755         nan        nan        nan\n",
      "        nan 0.49965254 0.4996755  0.49967852        nan 0.49962895\n",
      "        nan 0.49883498        nan        nan 0.49883716        nan\n",
      " 0.49967852        nan 0.49883571        nan 0.49967818        nan\n",
      "        nan 0.49849831 0.49883719 0.49967852        nan 0.49881947\n",
      "        nan 0.49967818 0.49883498 0.49967852        nan 0.49883498\n",
      " 0.49843489 0.49883716        nan        nan        nan 0.49883571\n",
      "        nan 0.49967852 0.49967487 0.49879911 0.49883498 0.49967852\n",
      "        nan        nan 0.49967852        nan        nan 0.49841115\n",
      "        nan 0.4992727         nan        nan        nan 0.4996755\n",
      "        nan 0.49965148        nan 0.49883571 0.49967852        nan\n",
      " 0.49965713 0.49967818 0.49962886 0.4996755         nan        nan\n",
      " 0.49965485 0.49883498        nan 0.49967818 0.4996755         nan\n",
      "        nan 0.49965656 0.49841115        nan        nan        nan\n",
      " 0.49967818        nan        nan 0.49879978 0.49883716 0.49879869\n",
      " 0.49962775        nan        nan 0.49967818        nan        nan\n",
      " 0.49967487        nan        nan 0.49967487        nan 0.49962818\n",
      " 0.49883498 0.49883498 0.4996572         nan 0.49881666 0.49967852\n",
      " 0.49925238 0.49879913 0.49883498        nan        nan 0.4996755\n",
      "        nan        nan 0.49939409        nan 0.49879869        nan\n",
      " 0.49939426 0.49879946        nan        nan 0.49881664        nan\n",
      " 0.49963421        nan        nan        nan 0.49883716 0.49846967\n",
      " 0.49965587        nan 0.4985267         nan 0.49965452 0.49883498\n",
      " 0.49962876 0.49965351        nan 0.49883716        nan 0.49881947\n",
      "        nan 0.49967487 0.49967852 0.49967487 0.49967487 0.49883716\n",
      " 0.49845337 0.49843489 0.49962935 0.49883498 0.49967818        nan\n",
      "        nan        nan        nan 0.49883719        nan 0.49967818\n",
      "        nan        nan 0.49967818 0.49883571        nan        nan\n",
      " 0.49879946 0.49883719        nan 0.49962895        nan        nan\n",
      " 0.49883716 0.49967818        nan        nan        nan        nan\n",
      "        nan 0.49967487 0.49963463        nan 0.4996755  0.49883498\n",
      "        nan 0.4996755  0.49883498        nan        nan 0.4996755\n",
      " 0.49879972        nan 0.49879911        nan        nan 0.49965656\n",
      "        nan        nan        nan        nan 0.49967487 0.49883716\n",
      " 0.49883719        nan 0.49883498        nan 0.49967818 0.49883716\n",
      "        nan        nan        nan 0.4996755         nan        nan\n",
      "        nan        nan 0.49883719 0.49963367 0.49883498        nan\n",
      "        nan        nan 0.49965661        nan 0.49881808        nan\n",
      " 0.49967852        nan 0.4996755  0.49967852        nan 0.49883719\n",
      "        nan 0.49962895        nan        nan        nan 0.49967852\n",
      " 0.49881612 0.49883719        nan 0.49967852        nan 0.49967852\n",
      "        nan 0.49935298 0.49935298 0.49851271 0.4996755  0.49962775\n",
      " 0.49967818 0.49883498 0.49883719        nan 0.4996755         nan\n",
      " 0.49883716        nan 0.49883719        nan        nan 0.49845336\n",
      " 0.49883716 0.49967487        nan        nan 0.4987996  0.49881933\n",
      "        nan        nan        nan        nan 0.49883719        nan\n",
      "        nan 0.4996755         nan        nan 0.4996755  0.49883571\n",
      " 0.49967852        nan 0.49883498        nan        nan        nan\n",
      "        nan        nan 0.4985386         nan        nan        nan\n",
      "        nan        nan        nan        nan 0.49962982 0.4996755\n",
      "        nan 0.49882029 0.49967487        nan 0.49967852        nan\n",
      " 0.4996558         nan        nan        nan        nan 0.49967852\n",
      " 0.49967818        nan 0.49883716        nan 0.49965326        nan\n",
      " 0.49967818        nan        nan        nan        nan        nan\n",
      "        nan        nan 0.49967818 0.49841115 0.49883571 0.49967487\n",
      " 0.49883716        nan 0.49967487 0.49883716 0.4996755         nan\n",
      " 0.49933836 0.49967818        nan        nan        nan 0.49967852\n",
      "        nan        nan 0.49883498        nan        nan 0.49883719\n",
      " 0.49883719 0.49967487 0.49883571 0.49841116        nan 0.49879974\n",
      " 0.49931579        nan 0.49883719 0.49883716 0.49883716        nan\n",
      " 0.49850512 0.49883719        nan        nan        nan        nan\n",
      "        nan        nan 0.49967818 0.49967487        nan        nan\n",
      " 0.49883498        nan        nan 0.49879978        nan 0.49883719\n",
      "        nan 0.4996755  0.4996755         nan 0.49883716 0.49883571\n",
      " 0.49881932        nan        nan        nan        nan 0.4987996\n",
      "        nan        nan        nan        nan 0.49883716 0.49883498\n",
      " 0.49967818        nan        nan        nan 0.49883716 0.49883571\n",
      " 0.49879978 0.49967487 0.49963142        nan 0.4996311  0.49967487\n",
      " 0.49883571        nan        nan 0.49965148 0.49883716 0.49846967\n",
      "        nan 0.49931606 0.49883498 0.4996755  0.49967818 0.49883716\n",
      " 0.49963609        nan        nan        nan        nan 0.49967852\n",
      " 0.49967487        nan 0.49967487 0.49967818        nan        nan\n",
      "        nan        nan        nan        nan 0.49967487        nan\n",
      " 0.49883571        nan        nan 0.4996755  0.49883571        nan\n",
      " 0.4996755  0.49967852        nan        nan        nan 0.49967818\n",
      "        nan        nan 0.49883716        nan        nan 0.49929652\n",
      " 0.49883571 0.49883571 0.49965323        nan        nan 0.49962935\n",
      " 0.4996755         nan        nan 0.49883719        nan 0.49967852\n",
      "        nan        nan 0.49967818        nan        nan        nan\n",
      "        nan 0.49967818        nan 0.49883716        nan 0.49883719\n",
      "        nan 0.49967852        nan 0.4988157  0.49883571        nan\n",
      "        nan        nan        nan        nan 0.49963672 0.49881924\n",
      " 0.499628   0.49963672 0.49967852 0.49967818 0.49883498 0.49851268\n",
      " 0.49915298        nan        nan 0.4996755         nan        nan\n",
      "        nan 0.49923217 0.49883498        nan 0.49883498        nan\n",
      " 0.49967818 0.49967487 0.49883498 0.49883498        nan        nan\n",
      "        nan 0.49883498        nan        nan 0.49967487 0.49883498\n",
      "        nan        nan 0.49929623        nan        nan        nan\n",
      " 0.49920253        nan        nan        nan 0.49879974 0.49967818\n",
      "        nan        nan        nan        nan        nan 0.49850512\n",
      "        nan        nan        nan 0.49883719 0.49967818 0.49883716\n",
      "        nan 0.49967818 0.49883498 0.49963101        nan 0.49967852\n",
      "        nan 0.49967487        nan 0.49967487 0.49963128 0.49967487\n",
      " 0.49967852 0.49927262        nan 0.49883716 0.49883719 0.49883498\n",
      "        nan 0.49883716        nan        nan 0.49881664        nan\n",
      "        nan 0.49883571 0.49939409 0.49883719        nan 0.49965485\n",
      " 0.49967818 0.49967487        nan        nan 0.4996755         nan\n",
      "        nan 0.49883571        nan        nan 0.49883716 0.49883716\n",
      " 0.49883498 0.49883716        nan        nan 0.49883571 0.49967487\n",
      "        nan 0.49883719 0.4996755         nan 0.49883498        nan\n",
      "        nan        nan 0.49967487        nan        nan 0.49967852\n",
      " 0.49965587        nan        nan 0.49967487        nan        nan\n",
      " 0.49967487        nan 0.49965594 0.4996558         nan        nan\n",
      " 0.49967487        nan        nan 0.49933847 0.49963386        nan\n",
      " 0.4996755  0.49962876 0.49883716        nan        nan        nan\n",
      "        nan        nan        nan        nan        nan 0.49883498\n",
      "        nan 0.49883716 0.49879911 0.49880068 0.49883498 0.49967487\n",
      "        nan        nan 0.49881575        nan        nan 0.49883716\n",
      "        nan 0.49883571 0.49915203 0.49967818        nan        nan\n",
      "        nan 0.49967852        nan 0.49841116        nan        nan\n",
      " 0.49883498        nan        nan 0.49883571 0.49879974        nan\n",
      "        nan        nan        nan 0.49883716 0.49963421        nan\n",
      "        nan        nan 0.49967852        nan 0.49967487 0.49967852\n",
      " 0.49883498 0.49883719 0.49967818 0.49963257        nan 0.4996311\n",
      " 0.49883571        nan        nan 0.49967852        nan 0.49967818\n",
      " 0.49883716        nan 0.49883571        nan 0.49967852 0.4996755\n",
      "        nan 0.49883719        nan 0.49883716        nan 0.49883571\n",
      " 0.49883716        nan 0.49883719        nan 0.49925238 0.49967487\n",
      "        nan        nan 0.49883571        nan        nan        nan\n",
      " 0.49967818 0.49967487 0.49848288 0.4996755  0.49881807        nan\n",
      "        nan 0.49967852 0.4996572  0.49967487        nan 0.49850512\n",
      "        nan        nan 0.49967852        nan 0.49883571        nan\n",
      "        nan        nan 0.4996755  0.49883716        nan        nan\n",
      " 0.49883498        nan        nan 0.49929652 0.49967487 0.499628\n",
      "        nan 0.49883498 0.49883719 0.49879822        nan        nan\n",
      " 0.49883571        nan 0.49967818        nan 0.49967487 0.49967818\n",
      " 0.49879946        nan 0.4996755         nan        nan        nan\n",
      "        nan 0.49967852        nan        nan 0.49967818 0.4996755\n",
      " 0.49848288 0.49967487 0.49883716 0.49967818 0.49881874 0.49923236\n",
      " 0.49915298 0.49883571 0.4984349         nan 0.4996755  0.49967852\n",
      "        nan 0.49883571        nan        nan        nan 0.49929623\n",
      "        nan 0.49967818        nan 0.4996755  0.4996755         nan\n",
      " 0.49967818        nan        nan 0.49881874 0.49925238        nan\n",
      "        nan        nan        nan        nan 0.4996755         nan\n",
      " 0.49967852        nan 0.49967852 0.49883498        nan 0.49883498\n",
      "        nan        nan 0.49963289        nan 0.49883716        nan\n",
      " 0.49880067        nan 0.49846965 0.49967487        nan        nan\n",
      " 0.49883719        nan        nan 0.49965329]\n",
      "  warnings.warn(\n",
      "C:\\ProgramData\\Anaconda3\\lib\\site-packages\\sklearn\\linear_model\\_logistic.py:1317: UserWarning: l1_ratio parameter is only used when penalty is 'elasticnet'. Got (penalty=none)\n",
      "  warnings.warn(\"l1_ratio parameter is only used when penalty is \"\n",
      "C:\\ProgramData\\Anaconda3\\lib\\site-packages\\sklearn\\linear_model\\_logistic.py:1322: UserWarning: Setting penalty='none' will ignore the C and l1_ratio parameters\n",
      "  warnings.warn(\n",
      "C:\\ProgramData\\Anaconda3\\lib\\site-packages\\sklearn\\utils\\validation.py:63: DataConversionWarning: A column-vector y was passed when a 1d array was expected. Please change the shape of y to (n_samples, ), for example using ravel().\n",
      "  return f(*args, **kwargs)\n"
     ]
    },
    {
     "name": "stdout",
     "output_type": "stream",
     "text": [
      "score:  0.4996785155006769\n",
      "Wall time: 6min 24s\n"
     ]
    }
   ],
   "source": [
    "%%time\n",
    "grid_arbol.fit(\n",
    "    X_resampled,\n",
    "    y_resampled,\n",
    ")\n",
    "\n",
    "best_params_arbol = grid_arbol.best_params_\n",
    "score_arbol = grid_arbol.best_score_\n",
    "result_2 = grid_arbol.best_estimator_\n",
    "\n",
    "print(\"score: \", score_arbol)"
   ]
  },
  {
   "cell_type": "code",
   "execution_count": 16,
   "id": "09bd61be-57ee-4227-994a-2f6c5014a3a7",
   "metadata": {},
   "outputs": [
    {
     "data": {
      "text/plain": [
       "{'solver': 'saga',\n",
       " 'random_state': 29082013,\n",
       " 'penalty': 'none',\n",
       " 'n_jobs': -1,\n",
       " 'max_iter': 50,\n",
       " 'l1_ratio': 0.4,\n",
       " 'fit_intercept': False,\n",
       " 'class_weight': None,\n",
       " 'C': 20}"
      ]
     },
     "execution_count": 16,
     "metadata": {},
     "output_type": "execute_result"
    }
   ],
   "source": [
    "best_params_arbol"
   ]
  },
  {
   "cell_type": "code",
   "execution_count": 17,
   "id": "3c3cfef9-ae28-4f1e-9dde-c31586281913",
   "metadata": {},
   "outputs": [],
   "source": [
    "import numpy as np\n",
    "#prediciendo en base al modelo \n",
    "y_pred_prob_2_train = result_2.predict_proba(x_train[cols_aporte])[:,1]\n",
    "y_pred_class_2_train = np.where(y_pred_prob_2_train < 0.5, 0 , 1)\n",
    "\n",
    "y_pred_prob_2_valid = result_2.predict_proba(x_valid[cols_aporte])[:,1]\n",
    "y_pred_class_2_valid = np.where(y_pred_prob_2_valid < 0.5, 0 , 1)"
   ]
  },
  {
   "cell_type": "code",
   "execution_count": 18,
   "id": "929481ff-8408-4334-92ee-364ec42f7279",
   "metadata": {},
   "outputs": [
    {
     "data": {
      "text/plain": [
       "0    26560\n",
       "1    24560\n",
       "dtype: int64"
      ]
     },
     "execution_count": 18,
     "metadata": {},
     "output_type": "execute_result"
    }
   ],
   "source": [
    "pd.Series(y_pred_class_2_train).value_counts()"
   ]
  },
  {
   "cell_type": "code",
   "execution_count": 19,
   "id": "85c6df65-6ba0-478d-af1e-b60500cf8a5d",
   "metadata": {},
   "outputs": [
    {
     "data": {
      "text/plain": [
       "0    6647\n",
       "1    6134\n",
       "dtype: int64"
      ]
     },
     "execution_count": 19,
     "metadata": {},
     "output_type": "execute_result"
    }
   ],
   "source": [
    "pd.Series(y_pred_class_2_valid).value_counts()"
   ]
  },
  {
   "cell_type": "code",
   "execution_count": 20,
   "id": "20f71671-f9d9-4c36-8c40-86e2ddecd706",
   "metadata": {},
   "outputs": [
    {
     "data": {
      "text/plain": [
       "<AxesSubplot:>"
      ]
     },
     "execution_count": 20,
     "metadata": {},
     "output_type": "execute_result"
    },
    {
     "data": {
      "image/png": "[encoded data removed]",
      "text/plain": [
       "<Figure size 432x288 with 1 Axes>"
      ]
     },
     "metadata": {
      "needs_background": "light"
     },
     "output_type": "display_data"
    }
   ],
   "source": [
    "pd.Series(y_pred_prob_2_train).hist()"
   ]
  },
  {
   "cell_type": "code",
   "execution_count": 21,
   "id": "a3d40869-a171-4a83-8ff1-0b57dfbd3e1a",
   "metadata": {},
   "outputs": [
    {
     "data": {
      "text/plain": [
       "<AxesSubplot:>"
      ]
     },
     "execution_count": 21,
     "metadata": {},
     "output_type": "execute_result"
    },
    {
     "data": {
      "image/png": "[encoded data removed]",
      "text/plain": [
       "<Figure size 432x288 with 1 Axes>"
      ]
     },
     "metadata": {
      "needs_background": "light"
     },
     "output_type": "display_data"
    }
   ],
   "source": [
    "pd.Series(y_pred_prob_2_valid).hist()"
   ]
  },
  {
   "cell_type": "code",
   "execution_count": 22,
   "id": "15f84aeb-81b6-4389-aedb-a64f4cf4cded",
   "metadata": {},
   "outputs": [
    {
     "name": "stdout",
     "output_type": "stream",
     "text": [
      "///////////////////////// TRAIN\n",
      "AUC: 0.504\n",
      "GINI: 0.007\n",
      "///////////////////////// VALIDATION\n",
      "AUC: 0.495\n",
      "GINI: -0.010\n"
     ]
    }
   ],
   "source": [
    "from sklearn.metrics import precision_score, recall_score, f1_score, accuracy_score, roc_auc_score\n",
    "\n",
    "print(\"/\"*25, 'TRAIN')\n",
    "auc = roc_auc_score(y_train, y_pred_prob_2_train)\n",
    "print(\"AUC: %1.3f\" % auc)\n",
    "print(\"GINI: %1.3f\" % (2*auc-1))\n",
    "\n",
    "print(\"/\"*25, 'VALIDATION')\n",
    "auc_2 = roc_auc_score(y_valid, y_pred_prob_2_valid)\n",
    "print(\"AUC: %1.3f\" % auc_2)\n",
    "print(\"GINI: %1.3f\" % (2*auc_2-1))"
   ]
  },
  {
   "cell_type": "code",
   "execution_count": 23,
   "id": "79b3629f-c679-422d-9b22-95a422e3d2b6",
   "metadata": {},
   "outputs": [
    {
     "name": "stdout",
     "output_type": "stream",
     "text": [
      "///////////////////////// TRAIN\n",
      "RECALL     : 0.48032151\n",
      "EFECTIVIDAD: 0.14112378\n",
      "F1 SCORE   : 0.21815206\n",
      "accuracy_score   : 0.51400626\n",
      "///////////////////////// VALIDATION\n",
      "RECALL     : 0.46396896\n",
      "EFECTIVIDAD: 0.13645256\n",
      "F1 SCORE   : 0.21088435\n",
      "accuracy_score   : 0.51400626\n"
     ]
    }
   ],
   "source": [
    "print(\"/\"*25, 'TRAIN')\n",
    "print(\"RECALL     : %1.8f\" % recall_score(y_train, y_pred_class_2_train))\n",
    "print(\"EFECTIVIDAD: %1.8f\" % precision_score(y_train, y_pred_class_2_train))\n",
    "print(\"F1 SCORE   : %1.8f\" % f1_score(y_train, y_pred_class_2_train))\n",
    "print(\"accuracy_score   : %1.8f\" % accuracy_score(y_train, y_pred_class_2_train))\n",
    "\n",
    "print(\"/\"*25, 'VALIDATION')\n",
    "print(\"RECALL     : %1.8f\" % recall_score(y_valid, y_pred_class_2_valid))\n",
    "print(\"EFECTIVIDAD: %1.8f\" % precision_score(y_valid, y_pred_class_2_valid))\n",
    "print(\"F1 SCORE   : %1.8f\" % f1_score(y_valid, y_pred_class_2_valid))\n",
    "print(\"accuracy_score   : %1.8f\" % accuracy_score(y_train, y_pred_class_2_train))"
   ]
  },
  {
   "cell_type": "code",
   "execution_count": null,
   "id": "9561f6ee-180f-4a8a-8457-56097f122ac8",
   "metadata": {},
   "outputs": [],
   "source": []
  },
  {
   "cell_type": "markdown",
   "id": "05ac40c6-1cbe-4afb-b9b7-5e4a4b58008e",
   "metadata": {},
   "source": [
    "#### >>> RECALL"
   ]
  },
  {
   "cell_type": "code",
   "execution_count": 24,
   "id": "2d77863f-417b-4360-9906-83a17f3a836f",
   "metadata": {},
   "outputs": [
    {
     "data": {
      "text/plain": [
       "     fun: -1.0\n",
       " message: 'Optimization terminated successfully.'\n",
       "    nfev: 62\n",
       "     nit: 3\n",
       " success: True\n",
       "       x: array([0.23889217])"
      ]
     },
     "execution_count": 24,
     "metadata": {},
     "output_type": "execute_result"
    }
   ],
   "source": [
    "from scipy.optimize import differential_evolution\n",
    "\n",
    "\n",
    "optimization_rec = differential_evolution(\n",
    "    lambda c: -1*recall_score(y_train, np.array([0 if _ < c[0] else 1 for _ in y_pred_prob_2_train])), \n",
    "    [(0, 1)],\n",
    "    seed=SEED\n",
    ")\n",
    "optimization_rec"
   ]
  },
  {
   "cell_type": "code",
   "execution_count": 25,
   "id": "66457ba9-9dbc-4dae-bb25-e9981a33eb1e",
   "metadata": {},
   "outputs": [
    {
     "data": {
      "text/plain": [
       "0.23889217415917813"
      ]
     },
     "execution_count": 25,
     "metadata": {},
     "output_type": "execute_result"
    }
   ],
   "source": [
    "corte_rec = optimization_rec['x'][0]\n",
    "corte_rec"
   ]
  },
  {
   "cell_type": "code",
   "execution_count": 26,
   "id": "597be65f-d57a-40f4-8cec-4625ff5e322c",
   "metadata": {},
   "outputs": [],
   "source": [
    "y_pred_class_train_2_rec = np.where(y_pred_prob_2_train < corte_rec, 0 , 1)\n",
    "y_pred_class_valid_2_rc = np.where(y_pred_prob_2_valid < corte_rec, 0 , 1)"
   ]
  },
  {
   "cell_type": "code",
   "execution_count": 27,
   "id": "c0c86b9d-0b63-4f79-b24d-912ea2693a5c",
   "metadata": {},
   "outputs": [
    {
     "data": {
      "text/plain": [
       "1    51119\n",
       "0        1\n",
       "dtype: int64"
      ]
     },
     "execution_count": 27,
     "metadata": {},
     "output_type": "execute_result"
    }
   ],
   "source": [
    "pd.Series(y_pred_class_train_2_rec).value_counts()"
   ]
  },
  {
   "cell_type": "code",
   "execution_count": 28,
   "id": "ce58f5eb-cb84-4fdc-bc33-02adaaee7ce7",
   "metadata": {},
   "outputs": [
    {
     "data": {
      "text/plain": [
       "1    12779\n",
       "0        2\n",
       "dtype: int64"
      ]
     },
     "execution_count": 28,
     "metadata": {},
     "output_type": "execute_result"
    }
   ],
   "source": [
    "pd.Series(y_pred_class_valid_2_rc).value_counts()"
   ]
  },
  {
   "cell_type": "code",
   "execution_count": 29,
   "id": "198229a3-f148-4601-8a76-67c15c07231d",
   "metadata": {},
   "outputs": [
    {
     "name": "stdout",
     "output_type": "stream",
     "text": [
      "///////////////////////// TRAIN\n",
      "RECALL     : 1.00000000\n",
      "EFECTIVIDAD: 0.14116082\n",
      "F1 SCORE   : 0.24739865\n",
      "///////////////////////// VALIDATION\n",
      "RECALL     : 1.00000000\n",
      "EFECTIVIDAD: 0.14116911\n",
      "F1 SCORE   : 0.24741137\n"
     ]
    }
   ],
   "source": [
    "print(\"/\"*25, \"TRAIN\")\n",
    "print(\"RECALL     : %1.8f\" % recall_score(y_train, y_pred_class_train_2_rec))\n",
    "print(\"EFECTIVIDAD: %1.8f\" % precision_score(y_train, y_pred_class_train_2_rec))\n",
    "print(\"F1 SCORE   : %1.8f\" % f1_score(y_train, y_pred_class_train_2_rec))\n",
    "\n",
    "print(\"/\"*25, \"VALIDATION\")\n",
    "print(\"RECALL     : %1.8f\" % recall_score(y_valid, y_pred_class_valid_2_rc))\n",
    "print(\"EFECTIVIDAD: %1.8f\" % precision_score(y_valid, y_pred_class_valid_2_rc))\n",
    "print(\"F1 SCORE   : %1.8f\" % f1_score(y_valid, y_pred_class_valid_2_rc))"
   ]
  },
  {
   "cell_type": "code",
   "execution_count": null,
   "id": "010f4b0e-de8c-450d-9a23-6b6686759336",
   "metadata": {},
   "outputs": [],
   "source": []
  },
  {
   "cell_type": "markdown",
   "id": "e3853f23-b161-4cbd-b97e-4052d694cfcd",
   "metadata": {},
   "source": [
    "#### >>> EFECTIVIDAD"
   ]
  },
  {
   "cell_type": "code",
   "execution_count": 30,
   "id": "d3a1c84a-b33b-433f-9580-07ac0911d5ec",
   "metadata": {},
   "outputs": [
    {
     "name": "stderr",
     "output_type": "stream",
     "text": [
      "C:\\ProgramData\\Anaconda3\\lib\\site-packages\\sklearn\\metrics\\_classification.py:1248: UndefinedMetricWarning: Precision is ill-defined and being set to 0.0 due to no predicted samples. Use `zero_division` parameter to control this behavior.\n",
      "  _warn_prf(average, modifier, msg_start, len(result))\n",
      "C:\\ProgramData\\Anaconda3\\lib\\site-packages\\sklearn\\metrics\\_classification.py:1248: UndefinedMetricWarning: Precision is ill-defined and being set to 0.0 due to no predicted samples. Use `zero_division` parameter to control this behavior.\n",
      "  _warn_prf(average, modifier, msg_start, len(result))\n",
      "C:\\ProgramData\\Anaconda3\\lib\\site-packages\\sklearn\\metrics\\_classification.py:1248: UndefinedMetricWarning: Precision is ill-defined and being set to 0.0 due to no predicted samples. Use `zero_division` parameter to control this behavior.\n",
      "  _warn_prf(average, modifier, msg_start, len(result))\n",
      "C:\\ProgramData\\Anaconda3\\lib\\site-packages\\sklearn\\metrics\\_classification.py:1248: UndefinedMetricWarning: Precision is ill-defined and being set to 0.0 due to no predicted samples. Use `zero_division` parameter to control this behavior.\n",
      "  _warn_prf(average, modifier, msg_start, len(result))\n",
      "C:\\ProgramData\\Anaconda3\\lib\\site-packages\\sklearn\\metrics\\_classification.py:1248: UndefinedMetricWarning: Precision is ill-defined and being set to 0.0 due to no predicted samples. Use `zero_division` parameter to control this behavior.\n",
      "  _warn_prf(average, modifier, msg_start, len(result))\n",
      "C:\\ProgramData\\Anaconda3\\lib\\site-packages\\sklearn\\metrics\\_classification.py:1248: UndefinedMetricWarning: Precision is ill-defined and being set to 0.0 due to no predicted samples. Use `zero_division` parameter to control this behavior.\n",
      "  _warn_prf(average, modifier, msg_start, len(result))\n",
      "C:\\ProgramData\\Anaconda3\\lib\\site-packages\\sklearn\\metrics\\_classification.py:1248: UndefinedMetricWarning: Precision is ill-defined and being set to 0.0 due to no predicted samples. Use `zero_division` parameter to control this behavior.\n",
      "  _warn_prf(average, modifier, msg_start, len(result))\n",
      "C:\\ProgramData\\Anaconda3\\lib\\site-packages\\sklearn\\metrics\\_classification.py:1248: UndefinedMetricWarning: Precision is ill-defined and being set to 0.0 due to no predicted samples. Use `zero_division` parameter to control this behavior.\n",
      "  _warn_prf(average, modifier, msg_start, len(result))\n",
      "C:\\ProgramData\\Anaconda3\\lib\\site-packages\\sklearn\\metrics\\_classification.py:1248: UndefinedMetricWarning: Precision is ill-defined and being set to 0.0 due to no predicted samples. Use `zero_division` parameter to control this behavior.\n",
      "  _warn_prf(average, modifier, msg_start, len(result))\n",
      "C:\\ProgramData\\Anaconda3\\lib\\site-packages\\sklearn\\metrics\\_classification.py:1248: UndefinedMetricWarning: Precision is ill-defined and being set to 0.0 due to no predicted samples. Use `zero_division` parameter to control this behavior.\n",
      "  _warn_prf(average, modifier, msg_start, len(result))\n",
      "C:\\ProgramData\\Anaconda3\\lib\\site-packages\\sklearn\\metrics\\_classification.py:1248: UndefinedMetricWarning: Precision is ill-defined and being set to 0.0 due to no predicted samples. Use `zero_division` parameter to control this behavior.\n",
      "  _warn_prf(average, modifier, msg_start, len(result))\n",
      "C:\\ProgramData\\Anaconda3\\lib\\site-packages\\sklearn\\metrics\\_classification.py:1248: UndefinedMetricWarning: Precision is ill-defined and being set to 0.0 due to no predicted samples. Use `zero_division` parameter to control this behavior.\n",
      "  _warn_prf(average, modifier, msg_start, len(result))\n",
      "C:\\ProgramData\\Anaconda3\\lib\\site-packages\\sklearn\\metrics\\_classification.py:1248: UndefinedMetricWarning: Precision is ill-defined and being set to 0.0 due to no predicted samples. Use `zero_division` parameter to control this behavior.\n",
      "  _warn_prf(average, modifier, msg_start, len(result))\n",
      "C:\\ProgramData\\Anaconda3\\lib\\site-packages\\sklearn\\metrics\\_classification.py:1248: UndefinedMetricWarning: Precision is ill-defined and being set to 0.0 due to no predicted samples. Use `zero_division` parameter to control this behavior.\n",
      "  _warn_prf(average, modifier, msg_start, len(result))\n",
      "C:\\ProgramData\\Anaconda3\\lib\\site-packages\\sklearn\\metrics\\_classification.py:1248: UndefinedMetricWarning: Precision is ill-defined and being set to 0.0 due to no predicted samples. Use `zero_division` parameter to control this behavior.\n",
      "  _warn_prf(average, modifier, msg_start, len(result))\n",
      "C:\\ProgramData\\Anaconda3\\lib\\site-packages\\sklearn\\metrics\\_classification.py:1248: UndefinedMetricWarning: Precision is ill-defined and being set to 0.0 due to no predicted samples. Use `zero_division` parameter to control this behavior.\n",
      "  _warn_prf(average, modifier, msg_start, len(result))\n",
      "C:\\ProgramData\\Anaconda3\\lib\\site-packages\\sklearn\\metrics\\_classification.py:1248: UndefinedMetricWarning: Precision is ill-defined and being set to 0.0 due to no predicted samples. Use `zero_division` parameter to control this behavior.\n",
      "  _warn_prf(average, modifier, msg_start, len(result))\n",
      "C:\\ProgramData\\Anaconda3\\lib\\site-packages\\sklearn\\metrics\\_classification.py:1248: UndefinedMetricWarning: Precision is ill-defined and being set to 0.0 due to no predicted samples. Use `zero_division` parameter to control this behavior.\n",
      "  _warn_prf(average, modifier, msg_start, len(result))\n",
      "C:\\ProgramData\\Anaconda3\\lib\\site-packages\\sklearn\\metrics\\_classification.py:1248: UndefinedMetricWarning: Precision is ill-defined and being set to 0.0 due to no predicted samples. Use `zero_division` parameter to control this behavior.\n",
      "  _warn_prf(average, modifier, msg_start, len(result))\n",
      "C:\\ProgramData\\Anaconda3\\lib\\site-packages\\sklearn\\metrics\\_classification.py:1248: UndefinedMetricWarning: Precision is ill-defined and being set to 0.0 due to no predicted samples. Use `zero_division` parameter to control this behavior.\n",
      "  _warn_prf(average, modifier, msg_start, len(result))\n",
      "C:\\ProgramData\\Anaconda3\\lib\\site-packages\\sklearn\\metrics\\_classification.py:1248: UndefinedMetricWarning: Precision is ill-defined and being set to 0.0 due to no predicted samples. Use `zero_division` parameter to control this behavior.\n",
      "  _warn_prf(average, modifier, msg_start, len(result))\n",
      "C:\\ProgramData\\Anaconda3\\lib\\site-packages\\sklearn\\metrics\\_classification.py:1248: UndefinedMetricWarning: Precision is ill-defined and being set to 0.0 due to no predicted samples. Use `zero_division` parameter to control this behavior.\n",
      "  _warn_prf(average, modifier, msg_start, len(result))\n",
      "C:\\ProgramData\\Anaconda3\\lib\\site-packages\\sklearn\\metrics\\_classification.py:1248: UndefinedMetricWarning: Precision is ill-defined and being set to 0.0 due to no predicted samples. Use `zero_division` parameter to control this behavior.\n",
      "  _warn_prf(average, modifier, msg_start, len(result))\n",
      "C:\\ProgramData\\Anaconda3\\lib\\site-packages\\sklearn\\metrics\\_classification.py:1248: UndefinedMetricWarning: Precision is ill-defined and being set to 0.0 due to no predicted samples. Use `zero_division` parameter to control this behavior.\n",
      "  _warn_prf(average, modifier, msg_start, len(result))\n",
      "C:\\ProgramData\\Anaconda3\\lib\\site-packages\\sklearn\\metrics\\_classification.py:1248: UndefinedMetricWarning: Precision is ill-defined and being set to 0.0 due to no predicted samples. Use `zero_division` parameter to control this behavior.\n",
      "  _warn_prf(average, modifier, msg_start, len(result))\n",
      "C:\\ProgramData\\Anaconda3\\lib\\site-packages\\sklearn\\metrics\\_classification.py:1248: UndefinedMetricWarning: Precision is ill-defined and being set to 0.0 due to no predicted samples. Use `zero_division` parameter to control this behavior.\n",
      "  _warn_prf(average, modifier, msg_start, len(result))\n",
      "C:\\ProgramData\\Anaconda3\\lib\\site-packages\\sklearn\\metrics\\_classification.py:1248: UndefinedMetricWarning: Precision is ill-defined and being set to 0.0 due to no predicted samples. Use `zero_division` parameter to control this behavior.\n",
      "  _warn_prf(average, modifier, msg_start, len(result))\n",
      "C:\\ProgramData\\Anaconda3\\lib\\site-packages\\sklearn\\metrics\\_classification.py:1248: UndefinedMetricWarning: Precision is ill-defined and being set to 0.0 due to no predicted samples. Use `zero_division` parameter to control this behavior.\n",
      "  _warn_prf(average, modifier, msg_start, len(result))\n",
      "C:\\ProgramData\\Anaconda3\\lib\\site-packages\\sklearn\\metrics\\_classification.py:1248: UndefinedMetricWarning: Precision is ill-defined and being set to 0.0 due to no predicted samples. Use `zero_division` parameter to control this behavior.\n",
      "  _warn_prf(average, modifier, msg_start, len(result))\n",
      "C:\\ProgramData\\Anaconda3\\lib\\site-packages\\sklearn\\metrics\\_classification.py:1248: UndefinedMetricWarning: Precision is ill-defined and being set to 0.0 due to no predicted samples. Use `zero_division` parameter to control this behavior.\n",
      "  _warn_prf(average, modifier, msg_start, len(result))\n",
      "C:\\ProgramData\\Anaconda3\\lib\\site-packages\\sklearn\\metrics\\_classification.py:1248: UndefinedMetricWarning: Precision is ill-defined and being set to 0.0 due to no predicted samples. Use `zero_division` parameter to control this behavior.\n",
      "  _warn_prf(average, modifier, msg_start, len(result))\n",
      "C:\\ProgramData\\Anaconda3\\lib\\site-packages\\sklearn\\metrics\\_classification.py:1248: UndefinedMetricWarning: Precision is ill-defined and being set to 0.0 due to no predicted samples. Use `zero_division` parameter to control this behavior.\n",
      "  _warn_prf(average, modifier, msg_start, len(result))\n",
      "C:\\ProgramData\\Anaconda3\\lib\\site-packages\\sklearn\\metrics\\_classification.py:1248: UndefinedMetricWarning: Precision is ill-defined and being set to 0.0 due to no predicted samples. Use `zero_division` parameter to control this behavior.\n",
      "  _warn_prf(average, modifier, msg_start, len(result))\n",
      "C:\\ProgramData\\Anaconda3\\lib\\site-packages\\sklearn\\metrics\\_classification.py:1248: UndefinedMetricWarning: Precision is ill-defined and being set to 0.0 due to no predicted samples. Use `zero_division` parameter to control this behavior.\n",
      "  _warn_prf(average, modifier, msg_start, len(result))\n",
      "C:\\ProgramData\\Anaconda3\\lib\\site-packages\\sklearn\\metrics\\_classification.py:1248: UndefinedMetricWarning: Precision is ill-defined and being set to 0.0 due to no predicted samples. Use `zero_division` parameter to control this behavior.\n",
      "  _warn_prf(average, modifier, msg_start, len(result))\n",
      "C:\\ProgramData\\Anaconda3\\lib\\site-packages\\sklearn\\metrics\\_classification.py:1248: UndefinedMetricWarning: Precision is ill-defined and being set to 0.0 due to no predicted samples. Use `zero_division` parameter to control this behavior.\n",
      "  _warn_prf(average, modifier, msg_start, len(result))\n",
      "C:\\ProgramData\\Anaconda3\\lib\\site-packages\\sklearn\\metrics\\_classification.py:1248: UndefinedMetricWarning: Precision is ill-defined and being set to 0.0 due to no predicted samples. Use `zero_division` parameter to control this behavior.\n",
      "  _warn_prf(average, modifier, msg_start, len(result))\n",
      "C:\\ProgramData\\Anaconda3\\lib\\site-packages\\sklearn\\metrics\\_classification.py:1248: UndefinedMetricWarning: Precision is ill-defined and being set to 0.0 due to no predicted samples. Use `zero_division` parameter to control this behavior.\n",
      "  _warn_prf(average, modifier, msg_start, len(result))\n",
      "C:\\ProgramData\\Anaconda3\\lib\\site-packages\\sklearn\\metrics\\_classification.py:1248: UndefinedMetricWarning: Precision is ill-defined and being set to 0.0 due to no predicted samples. Use `zero_division` parameter to control this behavior.\n",
      "  _warn_prf(average, modifier, msg_start, len(result))\n",
      "C:\\ProgramData\\Anaconda3\\lib\\site-packages\\sklearn\\metrics\\_classification.py:1248: UndefinedMetricWarning: Precision is ill-defined and being set to 0.0 due to no predicted samples. Use `zero_division` parameter to control this behavior.\n",
      "  _warn_prf(average, modifier, msg_start, len(result))\n",
      "C:\\ProgramData\\Anaconda3\\lib\\site-packages\\sklearn\\metrics\\_classification.py:1248: UndefinedMetricWarning: Precision is ill-defined and being set to 0.0 due to no predicted samples. Use `zero_division` parameter to control this behavior.\n",
      "  _warn_prf(average, modifier, msg_start, len(result))\n",
      "C:\\ProgramData\\Anaconda3\\lib\\site-packages\\sklearn\\metrics\\_classification.py:1248: UndefinedMetricWarning: Precision is ill-defined and being set to 0.0 due to no predicted samples. Use `zero_division` parameter to control this behavior.\n",
      "  _warn_prf(average, modifier, msg_start, len(result))\n",
      "C:\\ProgramData\\Anaconda3\\lib\\site-packages\\sklearn\\metrics\\_classification.py:1248: UndefinedMetricWarning: Precision is ill-defined and being set to 0.0 due to no predicted samples. Use `zero_division` parameter to control this behavior.\n",
      "  _warn_prf(average, modifier, msg_start, len(result))\n",
      "C:\\ProgramData\\Anaconda3\\lib\\site-packages\\sklearn\\metrics\\_classification.py:1248: UndefinedMetricWarning: Precision is ill-defined and being set to 0.0 due to no predicted samples. Use `zero_division` parameter to control this behavior.\n",
      "  _warn_prf(average, modifier, msg_start, len(result))\n",
      "C:\\ProgramData\\Anaconda3\\lib\\site-packages\\sklearn\\metrics\\_classification.py:1248: UndefinedMetricWarning: Precision is ill-defined and being set to 0.0 due to no predicted samples. Use `zero_division` parameter to control this behavior.\n",
      "  _warn_prf(average, modifier, msg_start, len(result))\n",
      "C:\\ProgramData\\Anaconda3\\lib\\site-packages\\sklearn\\metrics\\_classification.py:1248: UndefinedMetricWarning: Precision is ill-defined and being set to 0.0 due to no predicted samples. Use `zero_division` parameter to control this behavior.\n",
      "  _warn_prf(average, modifier, msg_start, len(result))\n",
      "C:\\ProgramData\\Anaconda3\\lib\\site-packages\\sklearn\\metrics\\_classification.py:1248: UndefinedMetricWarning: Precision is ill-defined and being set to 0.0 due to no predicted samples. Use `zero_division` parameter to control this behavior.\n",
      "  _warn_prf(average, modifier, msg_start, len(result))\n",
      "C:\\ProgramData\\Anaconda3\\lib\\site-packages\\sklearn\\metrics\\_classification.py:1248: UndefinedMetricWarning: Precision is ill-defined and being set to 0.0 due to no predicted samples. Use `zero_division` parameter to control this behavior.\n",
      "  _warn_prf(average, modifier, msg_start, len(result))\n",
      "C:\\ProgramData\\Anaconda3\\lib\\site-packages\\sklearn\\metrics\\_classification.py:1248: UndefinedMetricWarning: Precision is ill-defined and being set to 0.0 due to no predicted samples. Use `zero_division` parameter to control this behavior.\n",
      "  _warn_prf(average, modifier, msg_start, len(result))\n",
      "C:\\ProgramData\\Anaconda3\\lib\\site-packages\\sklearn\\metrics\\_classification.py:1248: UndefinedMetricWarning: Precision is ill-defined and being set to 0.0 due to no predicted samples. Use `zero_division` parameter to control this behavior.\n",
      "  _warn_prf(average, modifier, msg_start, len(result))\n",
      "C:\\ProgramData\\Anaconda3\\lib\\site-packages\\sklearn\\metrics\\_classification.py:1248: UndefinedMetricWarning: Precision is ill-defined and being set to 0.0 due to no predicted samples. Use `zero_division` parameter to control this behavior.\n",
      "  _warn_prf(average, modifier, msg_start, len(result))\n",
      "C:\\ProgramData\\Anaconda3\\lib\\site-packages\\sklearn\\metrics\\_classification.py:1248: UndefinedMetricWarning: Precision is ill-defined and being set to 0.0 due to no predicted samples. Use `zero_division` parameter to control this behavior.\n",
      "  _warn_prf(average, modifier, msg_start, len(result))\n",
      "C:\\ProgramData\\Anaconda3\\lib\\site-packages\\sklearn\\metrics\\_classification.py:1248: UndefinedMetricWarning: Precision is ill-defined and being set to 0.0 due to no predicted samples. Use `zero_division` parameter to control this behavior.\n",
      "  _warn_prf(average, modifier, msg_start, len(result))\n",
      "C:\\ProgramData\\Anaconda3\\lib\\site-packages\\sklearn\\metrics\\_classification.py:1248: UndefinedMetricWarning: Precision is ill-defined and being set to 0.0 due to no predicted samples. Use `zero_division` parameter to control this behavior.\n",
      "  _warn_prf(average, modifier, msg_start, len(result))\n",
      "C:\\ProgramData\\Anaconda3\\lib\\site-packages\\sklearn\\metrics\\_classification.py:1248: UndefinedMetricWarning: Precision is ill-defined and being set to 0.0 due to no predicted samples. Use `zero_division` parameter to control this behavior.\n",
      "  _warn_prf(average, modifier, msg_start, len(result))\n",
      "C:\\ProgramData\\Anaconda3\\lib\\site-packages\\sklearn\\metrics\\_classification.py:1248: UndefinedMetricWarning: Precision is ill-defined and being set to 0.0 due to no predicted samples. Use `zero_division` parameter to control this behavior.\n",
      "  _warn_prf(average, modifier, msg_start, len(result))\n",
      "C:\\ProgramData\\Anaconda3\\lib\\site-packages\\sklearn\\metrics\\_classification.py:1248: UndefinedMetricWarning: Precision is ill-defined and being set to 0.0 due to no predicted samples. Use `zero_division` parameter to control this behavior.\n",
      "  _warn_prf(average, modifier, msg_start, len(result))\n",
      "C:\\ProgramData\\Anaconda3\\lib\\site-packages\\sklearn\\metrics\\_classification.py:1248: UndefinedMetricWarning: Precision is ill-defined and being set to 0.0 due to no predicted samples. Use `zero_division` parameter to control this behavior.\n",
      "  _warn_prf(average, modifier, msg_start, len(result))\n",
      "C:\\ProgramData\\Anaconda3\\lib\\site-packages\\sklearn\\metrics\\_classification.py:1248: UndefinedMetricWarning: Precision is ill-defined and being set to 0.0 due to no predicted samples. Use `zero_division` parameter to control this behavior.\n",
      "  _warn_prf(average, modifier, msg_start, len(result))\n",
      "C:\\ProgramData\\Anaconda3\\lib\\site-packages\\sklearn\\metrics\\_classification.py:1248: UndefinedMetricWarning: Precision is ill-defined and being set to 0.0 due to no predicted samples. Use `zero_division` parameter to control this behavior.\n",
      "  _warn_prf(average, modifier, msg_start, len(result))\n",
      "C:\\ProgramData\\Anaconda3\\lib\\site-packages\\sklearn\\metrics\\_classification.py:1248: UndefinedMetricWarning: Precision is ill-defined and being set to 0.0 due to no predicted samples. Use `zero_division` parameter to control this behavior.\n",
      "  _warn_prf(average, modifier, msg_start, len(result))\n",
      "C:\\ProgramData\\Anaconda3\\lib\\site-packages\\sklearn\\metrics\\_classification.py:1248: UndefinedMetricWarning: Precision is ill-defined and being set to 0.0 due to no predicted samples. Use `zero_division` parameter to control this behavior.\n",
      "  _warn_prf(average, modifier, msg_start, len(result))\n",
      "C:\\ProgramData\\Anaconda3\\lib\\site-packages\\sklearn\\metrics\\_classification.py:1248: UndefinedMetricWarning: Precision is ill-defined and being set to 0.0 due to no predicted samples. Use `zero_division` parameter to control this behavior.\n",
      "  _warn_prf(average, modifier, msg_start, len(result))\n"
     ]
    },
    {
     "data": {
      "text/plain": [
       "     fun: -1.0\n",
       " message: 'Optimization terminated successfully.'\n",
       "    nfev: 152\n",
       "     nit: 9\n",
       " success: True\n",
       "       x: array([0.52450843])"
      ]
     },
     "execution_count": 30,
     "metadata": {},
     "output_type": "execute_result"
    }
   ],
   "source": [
    "optimization_pre = differential_evolution(\n",
    "    lambda c: -1*precision_score(y_train, np.array([0 if _ < c[0] else 1 for _ in y_pred_prob_2_train])), \n",
    "    [(0, 1)],\n",
    "    seed=SEED\n",
    ")\n",
    "optimization_pre"
   ]
  },
  {
   "cell_type": "code",
   "execution_count": 38,
   "id": "3b7e1286-2f54-49b0-9511-0da58d50386e",
   "metadata": {},
   "outputs": [],
   "source": [
    "corte_pre = optimization_pre['x'][0]\n",
    "\n",
    "y_pred_class_train_2_pre = np.where(y_pred_prob_2_train < corte_pre, 0 , 1)\n",
    "y_pred_class_valid_2_pre = np.where(y_pred_prob_2_valid < corte_pre, 0 , 1)"
   ]
  },
  {
   "cell_type": "code",
   "execution_count": 39,
   "id": "77af711a-f61a-4723-be2e-bdd657155c77",
   "metadata": {},
   "outputs": [
    {
     "data": {
      "text/plain": [
       "0    51119\n",
       "1        1\n",
       "dtype: int64"
      ]
     },
     "execution_count": 39,
     "metadata": {},
     "output_type": "execute_result"
    }
   ],
   "source": [
    "pd.Series(y_pred_class_train_2_pre).value_counts()"
   ]
  },
  {
   "cell_type": "code",
   "execution_count": 40,
   "id": "000e0431-f17c-49e0-b5c1-e177f5995e26",
   "metadata": {},
   "outputs": [
    {
     "data": {
      "text/plain": [
       "0    12781\n",
       "dtype: int64"
      ]
     },
     "execution_count": 40,
     "metadata": {},
     "output_type": "execute_result"
    }
   ],
   "source": [
    "pd.Series(y_pred_class_valid_2_pre).value_counts()"
   ]
  },
  {
   "cell_type": "markdown",
   "id": "3bb8cc6e-9805-4032-b6a8-e16e51976cc3",
   "metadata": {},
   "source": [
    "#### >>> AUC"
   ]
  },
  {
   "cell_type": "code",
   "execution_count": 31,
   "id": "501ea2b0-d72b-480e-aaf0-c63782c37bbc",
   "metadata": {},
   "outputs": [
    {
     "data": {
      "text/plain": [
       "     fun: -0.502301256561383\n",
       " message: 'Optimization terminated successfully.'\n",
       "    nfev: 32\n",
       "     nit: 1\n",
       " success: True\n",
       "       x: array([0.50855557])"
      ]
     },
     "execution_count": 31,
     "metadata": {},
     "output_type": "execute_result"
    }
   ],
   "source": [
    "optimization_auc = differential_evolution(\n",
    "    lambda c: -1*roc_auc_score(y_train, np.array([0 if _ < c[0] else 1 for _ in y_pred_prob_2_train])), \n",
    "    [(0, 1)],\n",
    "    seed=SEED\n",
    ")\n",
    "optimization_auc"
   ]
  },
  {
   "cell_type": "code",
   "execution_count": 32,
   "id": "2fe947ae-60bc-4fcc-aea4-2ffd517f131d",
   "metadata": {},
   "outputs": [
    {
     "data": {
      "text/plain": [
       "0.5085555730493562"
      ]
     },
     "execution_count": 32,
     "metadata": {},
     "output_type": "execute_result"
    }
   ],
   "source": [
    "corte_auc = optimization_auc['x'][0]\n",
    "corte_auc"
   ]
  },
  {
   "cell_type": "code",
   "execution_count": 33,
   "id": "2b7a4e33-2b7f-4601-b1ad-38ad776df862",
   "metadata": {},
   "outputs": [],
   "source": [
    "y_pred_class_train_2_auc = np.where(y_pred_prob_2_train < corte_auc, 0 , 1)\n",
    "y_pred_class_valid_2_auc = np.where(y_pred_prob_2_valid < corte_auc, 0 , 1)"
   ]
  },
  {
   "cell_type": "code",
   "execution_count": 34,
   "id": "a59cd7bf-51c8-4728-94f2-cb13da9b2cca",
   "metadata": {},
   "outputs": [
    {
     "data": {
      "text/plain": [
       "0    48878\n",
       "1     2242\n",
       "dtype: int64"
      ]
     },
     "execution_count": 34,
     "metadata": {},
     "output_type": "execute_result"
    }
   ],
   "source": [
    "pd.Series(y_pred_class_train_2_auc).value_counts()"
   ]
  },
  {
   "cell_type": "code",
   "execution_count": 35,
   "id": "9eb71106-5797-4f3d-a751-7c6503a847ec",
   "metadata": {},
   "outputs": [
    {
     "data": {
      "text/plain": [
       "0    12251\n",
       "1      530\n",
       "dtype: int64"
      ]
     },
     "execution_count": 35,
     "metadata": {},
     "output_type": "execute_result"
    }
   ],
   "source": [
    "pd.Series(y_pred_class_valid_2_auc).value_counts()"
   ]
  },
  {
   "cell_type": "code",
   "execution_count": 36,
   "id": "86edf21e-1992-48d8-8b2d-39f46f63993f",
   "metadata": {},
   "outputs": [
    {
     "name": "stdout",
     "output_type": "stream",
     "text": [
      "///////////////////////// TRAIN\n",
      "RECALL     : 0.04781042\n",
      "EFECTIVIDAD: 0.15388046\n",
      "F1 SCORE   : 0.07295411\n",
      "accuracy_score   : 0.82848200\n",
      "///////////////////////// VALIDATION\n",
      "RECALL     : 0.04323725\n",
      "EFECTIVIDAD: 0.14716981\n",
      "accuracy_score   : 0.82959080\n"
     ]
    }
   ],
   "source": [
    "print(\"/\"*25, \"TRAIN\")\n",
    "print(\"RECALL     : %1.8f\" % recall_score(y_train, y_pred_class_train_2_auc))\n",
    "print(\"EFECTIVIDAD: %1.8f\" % precision_score(y_train, y_pred_class_train_2_auc))\n",
    "print(\"F1 SCORE   : %1.8f\" % f1_score(y_train, y_pred_class_train_2_auc))\n",
    "print(\"accuracy_score   : %1.8f\" % accuracy_score(y_train, y_pred_class_train_2_auc))\n",
    "\n",
    "print(\"/\"*25, \"VALIDATION\")\n",
    "print(\"RECALL     : %1.8f\" % recall_score(y_valid, y_pred_class_valid_2_auc))\n",
    "print(\"EFECTIVIDAD: %1.8f\" % precision_score(y_valid, y_pred_class_valid_2_auc))\n",
    "print(\"accuracy_score   : %1.8f\" % accuracy_score(y_valid, y_pred_class_valid_2_auc))"
   ]
  },
  {
   "cell_type": "code",
   "execution_count": null,
   "id": "295d2776-7875-4a59-ae59-183fcee27f10",
   "metadata": {},
   "outputs": [],
   "source": []
  },
  {
   "cell_type": "code",
   "execution_count": null,
   "id": "88fd174a-17cb-4152-9f09-1fda38ea2fe5",
   "metadata": {},
   "outputs": [],
   "source": []
  },
  {
   "cell_type": "code",
   "execution_count": null,
   "id": "fbbeecd2-63c4-46d3-b039-061eac9c4689",
   "metadata": {},
   "outputs": [],
   "source": []
  },
  {
   "cell_type": "code",
   "execution_count": null,
   "id": "cd6bf05d-dd52-4430-83a3-68a70c765d7c",
   "metadata": {},
   "outputs": [],
   "source": []
  },
  {
   "cell_type": "code",
   "execution_count": null,
   "id": "b04104da-6a33-4228-9120-1d67abdb7c20",
   "metadata": {},
   "outputs": [],
   "source": []
  },
  {
   "cell_type": "code",
   "execution_count": null,
   "id": "c7f52ef9-058a-4d1a-a362-989da54a1e31",
   "metadata": {},
   "outputs": [],
   "source": []
  },
  {
   "cell_type": "code",
   "execution_count": null,
   "id": "b6907203-ed12-4c94-a55d-5c61e92de7b8",
   "metadata": {},
   "outputs": [],
   "source": []
  },
  {
   "cell_type": "code",
   "execution_count": null,
   "id": "96f17014-7e7a-49f6-83f0-ea1de729c5a1",
   "metadata": {},
   "outputs": [],
   "source": []
  },
  {
   "cell_type": "code",
   "execution_count": null,
   "id": "26e98a1c-33a2-41ad-97d7-6e09555b9aa2",
   "metadata": {},
   "outputs": [],
   "source": []
  },
  {
   "cell_type": "code",
   "execution_count": null,
   "id": "2f347e15-0629-46b2-aebc-58cabeff0543",
   "metadata": {},
   "outputs": [],
   "source": []
  },
  {
   "cell_type": "code",
   "execution_count": null,
   "id": "c4c492f3-94ed-489d-b668-bfbf01da9e6d",
   "metadata": {},
   "outputs": [],
   "source": []
  }
 ],
 "metadata": {
  "kernelspec": {
   "display_name": "Python 3",
   "language": "python",
   "name": "python3"
  },
  "language_info": {
   "codemirror_mode": {
    "name": "ipython",
    "version": 3
   },
   "file_extension": ".py",
   "mimetype": "text/x-python",
   "name": "python",
   "nbconvert_exporter": "python",
   "pygments_lexer": "ipython3",
   "version": "3.8.5"
  }
 },
 "nbformat": 4,
 "nbformat_minor": 5
}
