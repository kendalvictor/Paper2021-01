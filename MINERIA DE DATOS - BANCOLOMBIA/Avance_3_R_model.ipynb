{
 "cells": [
  {
   "cell_type": "code",
   "execution_count": 1,
   "id": "af10f242-5f90-4ce8-be01-a8d46624a7d0",
   "metadata": {},
   "outputs": [],
   "source": [
    "#install.packages('lattice')\n",
    "#install.packages('coda')\n",
    "#install.packages('BRugs')\n",
    "#install.packages('R2OpenBUGS')\n",
    "#install.packages('dplyr')\n",
    "#install.packages('MLmetrics')\n",
    "#install.packages('party')\n",
    "#install.packages('pROC')\n",
    "#install.packages('corrplot')\n",
    "#install.packages('mlr')\n",
    "#install.packages('sqldf')\n",
    "#install.packages('ggplot2')\n",
    "#install.packages('klaR')"
   ]
  },
  {
   "cell_type": "markdown",
   "id": "d03e097c-4032-4f3b-b646-4d7fa81aaf2c",
   "metadata": {},
   "source": [
    "## Load librariees"
   ]
  },
  {
   "cell_type": "code",
   "execution_count": 2,
   "id": "15a1e5bd-1e71-427c-9e0f-b59b1a229939",
   "metadata": {},
   "outputs": [
    {
     "name": "stderr",
     "output_type": "stream",
     "text": [
      "Warning message:\n",
      "\"package 'dplyr' was built under R version 3.6.3\"\n",
      "\n",
      "Attaching package: 'dplyr'\n",
      "\n",
      "\n",
      "The following objects are masked from 'package:stats':\n",
      "\n",
      "    filter, lag\n",
      "\n",
      "\n",
      "The following objects are masked from 'package:base':\n",
      "\n",
      "    intersect, setdiff, setequal, union\n",
      "\n",
      "\n",
      "Warning message:\n",
      "\"package 'MLmetrics' was built under R version 3.6.3\"\n",
      "\n",
      "Attaching package: 'MLmetrics'\n",
      "\n",
      "\n",
      "The following object is masked from 'package:base':\n",
      "\n",
      "    Recall\n",
      "\n",
      "\n",
      "Warning message:\n",
      "\"package 'party' was built under R version 3.6.3\"\n",
      "Loading required package: grid\n",
      "\n",
      "Loading required package: mvtnorm\n",
      "\n",
      "Warning message:\n",
      "\"package 'mvtnorm' was built under R version 3.6.3\"\n",
      "Loading required package: modeltools\n",
      "\n",
      "Warning message:\n",
      "\"package 'modeltools' was built under R version 3.6.3\"\n",
      "Loading required package: stats4\n",
      "\n",
      "Loading required package: strucchange\n",
      "\n",
      "Warning message:\n",
      "\"package 'strucchange' was built under R version 3.6.3\"\n",
      "Loading required package: zoo\n",
      "\n",
      "Warning message:\n",
      "\"package 'zoo' was built under R version 3.6.3\"\n",
      "\n",
      "Attaching package: 'zoo'\n",
      "\n",
      "\n",
      "The following objects are masked from 'package:base':\n",
      "\n",
      "    as.Date, as.Date.numeric\n",
      "\n",
      "\n",
      "Loading required package: sandwich\n",
      "\n",
      "Warning message:\n",
      "\"package 'pROC' was built under R version 3.6.3\"\n",
      "Type 'citation(\"pROC\")' for a citation.\n",
      "\n",
      "\n",
      "Attaching package: 'pROC'\n",
      "\n",
      "\n",
      "The following objects are masked from 'package:stats':\n",
      "\n",
      "    cov, smooth, var\n",
      "\n",
      "\n",
      "Warning message:\n",
      "\"package 'lattice' was built under R version 3.6.3\"\n",
      "Warning message:\n",
      "\"package 'corrplot' was built under R version 3.6.3\"\n",
      "corrplot 0.88 loaded\n",
      "\n",
      "Warning message:\n",
      "\"package 'mlr' was built under R version 3.6.3\"\n",
      "Loading required package: ParamHelpers\n",
      "\n",
      "Warning message:\n",
      "\"package 'ParamHelpers' was built under R version 3.6.3\"\n",
      "Warning message: 'mlr' is in 'maintenance-only' mode since July 2019.\n",
      "Future development will only happen in 'mlr3'\n",
      "(<https://mlr3.mlr-org.com>). Due to the focus on 'mlr3' there might be\n",
      "uncaught bugs meanwhile in {mlr} - please consider switching.\n",
      "\n",
      "Warning message:\n",
      "\"package 'sqldf' was built under R version 3.6.3\"\n",
      "Loading required package: gsubfn\n",
      "\n",
      "Warning message:\n",
      "\"package 'gsubfn' was built under R version 3.6.3\"\n",
      "Loading required package: proto\n",
      "\n",
      "Warning message:\n",
      "\"package 'proto' was built under R version 3.6.3\"\n",
      "\n",
      "Attaching package: 'gsubfn'\n",
      "\n",
      "\n",
      "The following object is masked from 'package:mlr':\n",
      "\n",
      "    fn\n",
      "\n",
      "\n",
      "Loading required package: RSQLite\n",
      "\n",
      "Warning message:\n",
      "\"package 'RSQLite' was built under R version 3.6.3\"\n",
      "Warning message:\n",
      "\"package 'ggplot2' was built under R version 3.6.3\"\n",
      "Warning message:\n",
      "\"package 'klaR' was built under R version 3.6.3\"\n",
      "Loading required package: MASS\n",
      "\n",
      "Warning message:\n",
      "\"package 'MASS' was built under R version 3.6.3\"\n",
      "\n",
      "Attaching package: 'MASS'\n",
      "\n",
      "\n",
      "The following object is masked from 'package:dplyr':\n",
      "\n",
      "    select\n",
      "\n",
      "\n",
      "Warning message:\n",
      "\"package 'BRugs' was built under R version 3.6.3\"\n",
      "Welcome to BRugs connected to OpenBUGS version 3.2.3\n",
      "\n",
      "Warning message:\n",
      "\"package 'R2OpenBUGS' was built under R version 3.6.3\"\n",
      "\n",
      "Attaching package: 'R2OpenBUGS'\n",
      "\n",
      "\n",
      "The following object is masked from 'package:strucchange':\n",
      "\n",
      "    monitor\n",
      "\n",
      "\n"
     ]
    }
   ],
   "source": [
    "library(dplyr)\n",
    "library(MLmetrics)\n",
    "library(party)\n",
    "library(pROC)\n",
    "library(lattice)\n",
    "library(corrplot)\n",
    "library(mlr)\n",
    "library(sqldf)\n",
    "library(ggplot2)\n",
    "library(klaR)\n",
    "library(BRugs)\n",
    "library(R2OpenBUGS)"
   ]
  },
  {
   "cell_type": "code",
   "execution_count": null,
   "id": "1d4d97d4-b2a3-43a0-99da-e4ac2228ea11",
   "metadata": {},
   "outputs": [],
   "source": []
  },
  {
   "cell_type": "markdown",
   "id": "57e0f96e-2927-4dfb-9632-a95fe45aa6f1",
   "metadata": {},
   "source": [
    "## Load dataset"
   ]
  },
  {
   "cell_type": "code",
   "execution_count": 3,
   "id": "a25df382-c170-4ba3-a596-655f8fd38398",
   "metadata": {},
   "outputs": [],
   "source": [
    "x_train <- read.csv(\"X_train_r.csv\")\n",
    "x_valid <- read.csv(\"X_valid_r.csv\")"
   ]
  },
  {
   "cell_type": "code",
   "execution_count": 4,
   "id": "b2cd814b-2ab7-4cf5-b7bf-9590bfa19c86",
   "metadata": {},
   "outputs": [
    {
     "data": {
      "text/html": [
       "<table class=\"dataframe\">\n",
       "<caption>A data.frame: 3 × 60</caption>\n",
       "<thead>\n",
       "\t<tr><th></th><th scope=col>Empleado</th><th scope=col>Tiempo_empleo</th><th scope=col>Saldo_cuenta</th><th scope=col>Valor_prestamo</th><th scope=col>Cuentas_otros</th><th scope=col>Autocontrol</th><th scope=col>Impulsividad</th><th scope=col>Confianza</th><th scope=col>cuentas_otros_x_valor_prestamo</th><th scope=col>cuentas_otros_x_valor_prestamo_entre_tiempo_empleo</th><th scope=col>...</th><th scope=col>autocontrol_x_impulsividad</th><th scope=col>autocontrol_x_impulsividad_entre_cuentas_otros</th><th scope=col>autocontrol_x_impulsividad_entre_tiempo_empleo</th><th scope=col>autocontrol_x_confianza</th><th scope=col>autocontrol_x_confianza_entre_cuentas_otros</th><th scope=col>autocontrol_x_confianza_entre_tiempo_empleo</th><th scope=col>impulsividad_x_confianza</th><th scope=col>impulsividad_x_confianza_entre_cuentas_otros</th><th scope=col>impulsividad_x_confianza_entre_tiempo_empleo</th><th scope=col>Imcumplimiento</th></tr>\n",
       "\t<tr><th></th><th scope=col>&lt;dbl&gt;</th><th scope=col>&lt;dbl&gt;</th><th scope=col>&lt;dbl&gt;</th><th scope=col>&lt;dbl&gt;</th><th scope=col>&lt;dbl&gt;</th><th scope=col>&lt;dbl&gt;</th><th scope=col>&lt;dbl&gt;</th><th scope=col>&lt;dbl&gt;</th><th scope=col>&lt;dbl&gt;</th><th scope=col>&lt;dbl&gt;</th><th scope=col>...</th><th scope=col>&lt;dbl&gt;</th><th scope=col>&lt;dbl&gt;</th><th scope=col>&lt;dbl&gt;</th><th scope=col>&lt;dbl&gt;</th><th scope=col>&lt;dbl&gt;</th><th scope=col>&lt;dbl&gt;</th><th scope=col>&lt;dbl&gt;</th><th scope=col>&lt;dbl&gt;</th><th scope=col>&lt;dbl&gt;</th><th scope=col>&lt;int&gt;</th></tr>\n",
       "</thead>\n",
       "<tbody>\n",
       "\t<tr><th scope=row>1</th><td>1</td><td>0.04166667</td><td>0.0003410238</td><td>0.8273312</td><td>0.1428571</td><td>0.4117647</td><td>0.6125</td><td>0.2674419</td><td>0.1895942</td><td>0.10507851</td><td>...</td><td>0.3376254</td><td>0.4424764</td><td>0.22123819</td><td>0.1887276</td><td>0.2191353</td><td>0.11748634</td><td>0.2704446</td><td>0.3150092</td><td>0.1659354</td><td>0</td></tr>\n",
       "\t<tr><th scope=row>2</th><td>1</td><td>0.16666667</td><td>0.0002458803</td><td>0.6064983</td><td>0.1428571</td><td>0.4117647</td><td>0.5750</td><td>0.5930233</td><td>0.1389874</td><td>0.01925769</td><td>...</td><td>0.3183111</td><td>0.4207152</td><td>0.05258941</td><td>0.3943638</td><td>0.4170639</td><td>0.05590076</td><td>0.5374019</td><td>0.5700483</td><td>0.0750702</td><td>0</td></tr>\n",
       "\t<tr><th scope=row>3</th><td>1</td><td>0.06250000</td><td>0.0048142338</td><td>0.3068804</td><td>0.2857143</td><td>0.3529412</td><td>0.4625</td><td>0.3837209</td><td>0.1406516</td><td>0.05196875</td><td>...</td><td>0.2236862</td><td>0.1570513</td><td>0.10470085</td><td>0.2271563</td><td>0.1280618</td><td>0.09154474</td><td>0.2910201</td><td>0.1673330</td><td>0.1175266</td><td>1</td></tr>\n",
       "</tbody>\n",
       "</table>\n"
      ],
      "text/latex": [
       "A data.frame: 3 × 60\n",
       "\\begin{tabular}{r|lllllllllllllllllllll}\n",
       "  & Empleado & Tiempo\\_empleo & Saldo\\_cuenta & Valor\\_prestamo & Cuentas\\_otros & Autocontrol & Impulsividad & Confianza & cuentas\\_otros\\_x\\_valor\\_prestamo & cuentas\\_otros\\_x\\_valor\\_prestamo\\_entre\\_tiempo\\_empleo & ... & autocontrol\\_x\\_impulsividad & autocontrol\\_x\\_impulsividad\\_entre\\_cuentas\\_otros & autocontrol\\_x\\_impulsividad\\_entre\\_tiempo\\_empleo & autocontrol\\_x\\_confianza & autocontrol\\_x\\_confianza\\_entre\\_cuentas\\_otros & autocontrol\\_x\\_confianza\\_entre\\_tiempo\\_empleo & impulsividad\\_x\\_confianza & impulsividad\\_x\\_confianza\\_entre\\_cuentas\\_otros & impulsividad\\_x\\_confianza\\_entre\\_tiempo\\_empleo & Imcumplimiento\\\\\n",
       "  & <dbl> & <dbl> & <dbl> & <dbl> & <dbl> & <dbl> & <dbl> & <dbl> & <dbl> & <dbl> & ... & <dbl> & <dbl> & <dbl> & <dbl> & <dbl> & <dbl> & <dbl> & <dbl> & <dbl> & <int>\\\\\n",
       "\\hline\n",
       "\t1 & 1 & 0.04166667 & 0.0003410238 & 0.8273312 & 0.1428571 & 0.4117647 & 0.6125 & 0.2674419 & 0.1895942 & 0.10507851 & ... & 0.3376254 & 0.4424764 & 0.22123819 & 0.1887276 & 0.2191353 & 0.11748634 & 0.2704446 & 0.3150092 & 0.1659354 & 0\\\\\n",
       "\t2 & 1 & 0.16666667 & 0.0002458803 & 0.6064983 & 0.1428571 & 0.4117647 & 0.5750 & 0.5930233 & 0.1389874 & 0.01925769 & ... & 0.3183111 & 0.4207152 & 0.05258941 & 0.3943638 & 0.4170639 & 0.05590076 & 0.5374019 & 0.5700483 & 0.0750702 & 0\\\\\n",
       "\t3 & 1 & 0.06250000 & 0.0048142338 & 0.3068804 & 0.2857143 & 0.3529412 & 0.4625 & 0.3837209 & 0.1406516 & 0.05196875 & ... & 0.2236862 & 0.1570513 & 0.10470085 & 0.2271563 & 0.1280618 & 0.09154474 & 0.2910201 & 0.1673330 & 0.1175266 & 1\\\\\n",
       "\\end{tabular}\n"
      ],
      "text/markdown": [
       "\n",
       "A data.frame: 3 × 60\n",
       "\n",
       "| <!--/--> | Empleado &lt;dbl&gt; | Tiempo_empleo &lt;dbl&gt; | Saldo_cuenta &lt;dbl&gt; | Valor_prestamo &lt;dbl&gt; | Cuentas_otros &lt;dbl&gt; | Autocontrol &lt;dbl&gt; | Impulsividad &lt;dbl&gt; | Confianza &lt;dbl&gt; | cuentas_otros_x_valor_prestamo &lt;dbl&gt; | cuentas_otros_x_valor_prestamo_entre_tiempo_empleo &lt;dbl&gt; | ... ... | autocontrol_x_impulsividad &lt;dbl&gt; | autocontrol_x_impulsividad_entre_cuentas_otros &lt;dbl&gt; | autocontrol_x_impulsividad_entre_tiempo_empleo &lt;dbl&gt; | autocontrol_x_confianza &lt;dbl&gt; | autocontrol_x_confianza_entre_cuentas_otros &lt;dbl&gt; | autocontrol_x_confianza_entre_tiempo_empleo &lt;dbl&gt; | impulsividad_x_confianza &lt;dbl&gt; | impulsividad_x_confianza_entre_cuentas_otros &lt;dbl&gt; | impulsividad_x_confianza_entre_tiempo_empleo &lt;dbl&gt; | Imcumplimiento &lt;int&gt; |\n",
       "|---|---|---|---|---|---|---|---|---|---|---|---|---|---|---|---|---|---|---|---|---|---|\n",
       "| 1 | 1 | 0.04166667 | 0.0003410238 | 0.8273312 | 0.1428571 | 0.4117647 | 0.6125 | 0.2674419 | 0.1895942 | 0.10507851 | ... | 0.3376254 | 0.4424764 | 0.22123819 | 0.1887276 | 0.2191353 | 0.11748634 | 0.2704446 | 0.3150092 | 0.1659354 | 0 |\n",
       "| 2 | 1 | 0.16666667 | 0.0002458803 | 0.6064983 | 0.1428571 | 0.4117647 | 0.5750 | 0.5930233 | 0.1389874 | 0.01925769 | ... | 0.3183111 | 0.4207152 | 0.05258941 | 0.3943638 | 0.4170639 | 0.05590076 | 0.5374019 | 0.5700483 | 0.0750702 | 0 |\n",
       "| 3 | 1 | 0.06250000 | 0.0048142338 | 0.3068804 | 0.2857143 | 0.3529412 | 0.4625 | 0.3837209 | 0.1406516 | 0.05196875 | ... | 0.2236862 | 0.1570513 | 0.10470085 | 0.2271563 | 0.1280618 | 0.09154474 | 0.2910201 | 0.1673330 | 0.1175266 | 1 |\n",
       "\n"
      ],
      "text/plain": [
       "  Empleado Tiempo_empleo Saldo_cuenta Valor_prestamo Cuentas_otros Autocontrol\n",
       "1 1        0.04166667    0.0003410238 0.8273312      0.1428571     0.4117647  \n",
       "2 1        0.16666667    0.0002458803 0.6064983      0.1428571     0.4117647  \n",
       "3 1        0.06250000    0.0048142338 0.3068804      0.2857143     0.3529412  \n",
       "  Impulsividad Confianza cuentas_otros_x_valor_prestamo\n",
       "1 0.6125       0.2674419 0.1895942                     \n",
       "2 0.5750       0.5930233 0.1389874                     \n",
       "3 0.4625       0.3837209 0.1406516                     \n",
       "  cuentas_otros_x_valor_prestamo_entre_tiempo_empleo ...\n",
       "1 0.10507851                                         ...\n",
       "2 0.01925769                                         ...\n",
       "3 0.05196875                                         ...\n",
       "  autocontrol_x_impulsividad autocontrol_x_impulsividad_entre_cuentas_otros\n",
       "1 0.3376254                  0.4424764                                     \n",
       "2 0.3183111                  0.4207152                                     \n",
       "3 0.2236862                  0.1570513                                     \n",
       "  autocontrol_x_impulsividad_entre_tiempo_empleo autocontrol_x_confianza\n",
       "1 0.22123819                                     0.1887276              \n",
       "2 0.05258941                                     0.3943638              \n",
       "3 0.10470085                                     0.2271563              \n",
       "  autocontrol_x_confianza_entre_cuentas_otros\n",
       "1 0.2191353                                  \n",
       "2 0.4170639                                  \n",
       "3 0.1280618                                  \n",
       "  autocontrol_x_confianza_entre_tiempo_empleo impulsividad_x_confianza\n",
       "1 0.11748634                                  0.2704446               \n",
       "2 0.05590076                                  0.5374019               \n",
       "3 0.09154474                                  0.2910201               \n",
       "  impulsividad_x_confianza_entre_cuentas_otros\n",
       "1 0.3150092                                   \n",
       "2 0.5700483                                   \n",
       "3 0.1673330                                   \n",
       "  impulsividad_x_confianza_entre_tiempo_empleo Imcumplimiento\n",
       "1 0.1659354                                    0             \n",
       "2 0.0750702                                    0             \n",
       "3 0.1175266                                    1             "
      ]
     },
     "metadata": {},
     "output_type": "display_data"
    }
   ],
   "source": [
    "head(x_train, 3)"
   ]
  },
  {
   "cell_type": "code",
   "execution_count": 5,
   "id": "a0ed0a29-198a-4c8f-9afc-8ec412aab6ba",
   "metadata": {},
   "outputs": [
    {
     "data": {
      "text/html": [
       "<table class=\"dataframe\">\n",
       "<caption>A data.frame: 3 × 60</caption>\n",
       "<thead>\n",
       "\t<tr><th></th><th scope=col>Empleado</th><th scope=col>Tiempo_empleo</th><th scope=col>Saldo_cuenta</th><th scope=col>Valor_prestamo</th><th scope=col>Cuentas_otros</th><th scope=col>Autocontrol</th><th scope=col>Impulsividad</th><th scope=col>Confianza</th><th scope=col>cuentas_otros_x_valor_prestamo</th><th scope=col>cuentas_otros_x_valor_prestamo_entre_tiempo_empleo</th><th scope=col>...</th><th scope=col>autocontrol_x_impulsividad</th><th scope=col>autocontrol_x_impulsividad_entre_cuentas_otros</th><th scope=col>autocontrol_x_impulsividad_entre_tiempo_empleo</th><th scope=col>autocontrol_x_confianza</th><th scope=col>autocontrol_x_confianza_entre_cuentas_otros</th><th scope=col>autocontrol_x_confianza_entre_tiempo_empleo</th><th scope=col>impulsividad_x_confianza</th><th scope=col>impulsividad_x_confianza_entre_cuentas_otros</th><th scope=col>impulsividad_x_confianza_entre_tiempo_empleo</th><th scope=col>Imcumplimiento</th></tr>\n",
       "\t<tr><th></th><th scope=col>&lt;dbl&gt;</th><th scope=col>&lt;dbl&gt;</th><th scope=col>&lt;dbl&gt;</th><th scope=col>&lt;dbl&gt;</th><th scope=col>&lt;dbl&gt;</th><th scope=col>&lt;dbl&gt;</th><th scope=col>&lt;dbl&gt;</th><th scope=col>&lt;dbl&gt;</th><th scope=col>&lt;dbl&gt;</th><th scope=col>&lt;dbl&gt;</th><th scope=col>...</th><th scope=col>&lt;dbl&gt;</th><th scope=col>&lt;dbl&gt;</th><th scope=col>&lt;dbl&gt;</th><th scope=col>&lt;dbl&gt;</th><th scope=col>&lt;dbl&gt;</th><th scope=col>&lt;dbl&gt;</th><th scope=col>&lt;dbl&gt;</th><th scope=col>&lt;dbl&gt;</th><th scope=col>&lt;dbl&gt;</th><th scope=col>&lt;int&gt;</th></tr>\n",
       "</thead>\n",
       "<tbody>\n",
       "\t<tr><th scope=row>1</th><td>1</td><td>0.10416667</td><td>1.232810e-04</td><td>0.3843286</td><td>0.2857143</td><td>0.4470588</td><td>0.4875</td><td>0.5813953</td><td>0.1761483</td><td>0.03905056</td><td>...</td><td>0.2961521</td><td>0.1978745</td><td>0.07914980</td><td>0.4167378</td><td>0.2192997</td><td>0.09405958</td><td>0.4564952</td><td>0.2463768</td><td>0.10382590</td><td>1</td></tr>\n",
       "\t<tr><th scope=row>2</th><td>1</td><td>0.10416667</td><td>4.927340e-05</td><td>0.4733561</td><td>0.0000000</td><td>0.5882353</td><td>0.4375</td><td>0.3255814</td><td>0.0000000</td><td>0.00000000</td><td>...</td><td>0.3530469</td><td>0.0000000</td><td>0.09197031</td><td>0.3176772</td><td>0.0000000</td><td>0.07361185</td><td>0.2357454</td><td>0.0000000</td><td>0.05938926</td><td>0</td></tr>\n",
       "\t<tr><th scope=row>3</th><td>1</td><td>0.02083333</td><td>5.132046e-05</td><td>0.5130381</td><td>0.1428571</td><td>0.5764706</td><td>0.4250</td><td>0.5348837</td><td>0.1175697</td><td>0.13032092</td><td>...</td><td>0.3374757</td><td>0.4423077</td><td>0.44230769</td><td>0.4867635</td><td>0.5060003</td><td>0.54257007</td><td>0.3738448</td><td>0.4137931</td><td>0.43594244</td><td>0</td></tr>\n",
       "</tbody>\n",
       "</table>\n"
      ],
      "text/latex": [
       "A data.frame: 3 × 60\n",
       "\\begin{tabular}{r|lllllllllllllllllllll}\n",
       "  & Empleado & Tiempo\\_empleo & Saldo\\_cuenta & Valor\\_prestamo & Cuentas\\_otros & Autocontrol & Impulsividad & Confianza & cuentas\\_otros\\_x\\_valor\\_prestamo & cuentas\\_otros\\_x\\_valor\\_prestamo\\_entre\\_tiempo\\_empleo & ... & autocontrol\\_x\\_impulsividad & autocontrol\\_x\\_impulsividad\\_entre\\_cuentas\\_otros & autocontrol\\_x\\_impulsividad\\_entre\\_tiempo\\_empleo & autocontrol\\_x\\_confianza & autocontrol\\_x\\_confianza\\_entre\\_cuentas\\_otros & autocontrol\\_x\\_confianza\\_entre\\_tiempo\\_empleo & impulsividad\\_x\\_confianza & impulsividad\\_x\\_confianza\\_entre\\_cuentas\\_otros & impulsividad\\_x\\_confianza\\_entre\\_tiempo\\_empleo & Imcumplimiento\\\\\n",
       "  & <dbl> & <dbl> & <dbl> & <dbl> & <dbl> & <dbl> & <dbl> & <dbl> & <dbl> & <dbl> & ... & <dbl> & <dbl> & <dbl> & <dbl> & <dbl> & <dbl> & <dbl> & <dbl> & <dbl> & <int>\\\\\n",
       "\\hline\n",
       "\t1 & 1 & 0.10416667 & 1.232810e-04 & 0.3843286 & 0.2857143 & 0.4470588 & 0.4875 & 0.5813953 & 0.1761483 & 0.03905056 & ... & 0.2961521 & 0.1978745 & 0.07914980 & 0.4167378 & 0.2192997 & 0.09405958 & 0.4564952 & 0.2463768 & 0.10382590 & 1\\\\\n",
       "\t2 & 1 & 0.10416667 & 4.927340e-05 & 0.4733561 & 0.0000000 & 0.5882353 & 0.4375 & 0.3255814 & 0.0000000 & 0.00000000 & ... & 0.3530469 & 0.0000000 & 0.09197031 & 0.3176772 & 0.0000000 & 0.07361185 & 0.2357454 & 0.0000000 & 0.05938926 & 0\\\\\n",
       "\t3 & 1 & 0.02083333 & 5.132046e-05 & 0.5130381 & 0.1428571 & 0.5764706 & 0.4250 & 0.5348837 & 0.1175697 & 0.13032092 & ... & 0.3374757 & 0.4423077 & 0.44230769 & 0.4867635 & 0.5060003 & 0.54257007 & 0.3738448 & 0.4137931 & 0.43594244 & 0\\\\\n",
       "\\end{tabular}\n"
      ],
      "text/markdown": [
       "\n",
       "A data.frame: 3 × 60\n",
       "\n",
       "| <!--/--> | Empleado &lt;dbl&gt; | Tiempo_empleo &lt;dbl&gt; | Saldo_cuenta &lt;dbl&gt; | Valor_prestamo &lt;dbl&gt; | Cuentas_otros &lt;dbl&gt; | Autocontrol &lt;dbl&gt; | Impulsividad &lt;dbl&gt; | Confianza &lt;dbl&gt; | cuentas_otros_x_valor_prestamo &lt;dbl&gt; | cuentas_otros_x_valor_prestamo_entre_tiempo_empleo &lt;dbl&gt; | ... ... | autocontrol_x_impulsividad &lt;dbl&gt; | autocontrol_x_impulsividad_entre_cuentas_otros &lt;dbl&gt; | autocontrol_x_impulsividad_entre_tiempo_empleo &lt;dbl&gt; | autocontrol_x_confianza &lt;dbl&gt; | autocontrol_x_confianza_entre_cuentas_otros &lt;dbl&gt; | autocontrol_x_confianza_entre_tiempo_empleo &lt;dbl&gt; | impulsividad_x_confianza &lt;dbl&gt; | impulsividad_x_confianza_entre_cuentas_otros &lt;dbl&gt; | impulsividad_x_confianza_entre_tiempo_empleo &lt;dbl&gt; | Imcumplimiento &lt;int&gt; |\n",
       "|---|---|---|---|---|---|---|---|---|---|---|---|---|---|---|---|---|---|---|---|---|---|\n",
       "| 1 | 1 | 0.10416667 | 1.232810e-04 | 0.3843286 | 0.2857143 | 0.4470588 | 0.4875 | 0.5813953 | 0.1761483 | 0.03905056 | ... | 0.2961521 | 0.1978745 | 0.07914980 | 0.4167378 | 0.2192997 | 0.09405958 | 0.4564952 | 0.2463768 | 0.10382590 | 1 |\n",
       "| 2 | 1 | 0.10416667 | 4.927340e-05 | 0.4733561 | 0.0000000 | 0.5882353 | 0.4375 | 0.3255814 | 0.0000000 | 0.00000000 | ... | 0.3530469 | 0.0000000 | 0.09197031 | 0.3176772 | 0.0000000 | 0.07361185 | 0.2357454 | 0.0000000 | 0.05938926 | 0 |\n",
       "| 3 | 1 | 0.02083333 | 5.132046e-05 | 0.5130381 | 0.1428571 | 0.5764706 | 0.4250 | 0.5348837 | 0.1175697 | 0.13032092 | ... | 0.3374757 | 0.4423077 | 0.44230769 | 0.4867635 | 0.5060003 | 0.54257007 | 0.3738448 | 0.4137931 | 0.43594244 | 0 |\n",
       "\n"
      ],
      "text/plain": [
       "  Empleado Tiempo_empleo Saldo_cuenta Valor_prestamo Cuentas_otros Autocontrol\n",
       "1 1        0.10416667    1.232810e-04 0.3843286      0.2857143     0.4470588  \n",
       "2 1        0.10416667    4.927340e-05 0.4733561      0.0000000     0.5882353  \n",
       "3 1        0.02083333    5.132046e-05 0.5130381      0.1428571     0.5764706  \n",
       "  Impulsividad Confianza cuentas_otros_x_valor_prestamo\n",
       "1 0.4875       0.5813953 0.1761483                     \n",
       "2 0.4375       0.3255814 0.0000000                     \n",
       "3 0.4250       0.5348837 0.1175697                     \n",
       "  cuentas_otros_x_valor_prestamo_entre_tiempo_empleo ...\n",
       "1 0.03905056                                         ...\n",
       "2 0.00000000                                         ...\n",
       "3 0.13032092                                         ...\n",
       "  autocontrol_x_impulsividad autocontrol_x_impulsividad_entre_cuentas_otros\n",
       "1 0.2961521                  0.1978745                                     \n",
       "2 0.3530469                  0.0000000                                     \n",
       "3 0.3374757                  0.4423077                                     \n",
       "  autocontrol_x_impulsividad_entre_tiempo_empleo autocontrol_x_confianza\n",
       "1 0.07914980                                     0.4167378              \n",
       "2 0.09197031                                     0.3176772              \n",
       "3 0.44230769                                     0.4867635              \n",
       "  autocontrol_x_confianza_entre_cuentas_otros\n",
       "1 0.2192997                                  \n",
       "2 0.0000000                                  \n",
       "3 0.5060003                                  \n",
       "  autocontrol_x_confianza_entre_tiempo_empleo impulsividad_x_confianza\n",
       "1 0.09405958                                  0.4564952               \n",
       "2 0.07361185                                  0.2357454               \n",
       "3 0.54257007                                  0.3738448               \n",
       "  impulsividad_x_confianza_entre_cuentas_otros\n",
       "1 0.2463768                                   \n",
       "2 0.0000000                                   \n",
       "3 0.4137931                                   \n",
       "  impulsividad_x_confianza_entre_tiempo_empleo Imcumplimiento\n",
       "1 0.10382590                                   1             \n",
       "2 0.05938926                                   0             \n",
       "3 0.43594244                                   0             "
      ]
     },
     "metadata": {},
     "output_type": "display_data"
    }
   ],
   "source": [
    "head(x_valid, 3)"
   ]
  },
  {
   "cell_type": "code",
   "execution_count": 6,
   "id": "0535b0b7-ca00-4c6f-b7c7-6ddeb7895514",
   "metadata": {},
   "outputs": [
    {
     "data": {
      "text/html": [
       "'data.frame'"
      ],
      "text/latex": [
       "'data.frame'"
      ],
      "text/markdown": [
       "'data.frame'"
      ],
      "text/plain": [
       "[1] \"data.frame\""
      ]
     },
     "metadata": {},
     "output_type": "display_data"
    }
   ],
   "source": [
    "class(x_train)"
   ]
  },
  {
   "cell_type": "code",
   "execution_count": 7,
   "id": "29a75e6f-e7f2-4401-8e77-9f1930f11785",
   "metadata": {},
   "outputs": [
    {
     "data": {
      "text/html": [
       "'data.frame'"
      ],
      "text/latex": [
       "'data.frame'"
      ],
      "text/markdown": [
       "'data.frame'"
      ],
      "text/plain": [
       "[1] \"data.frame\""
      ]
     },
     "metadata": {},
     "output_type": "display_data"
    }
   ],
   "source": [
    "class(x_valid)"
   ]
  },
  {
   "cell_type": "code",
   "execution_count": 8,
   "id": "ca467b2e-9331-4477-aec9-fa1b5c213dc6",
   "metadata": {},
   "outputs": [],
   "source": [
    "source(\"C:\\\\Users\\\\Villacorta\\\\Documents\\\\MAESTRIA_RICARDO_PALMA_URP\\\\3_APRENDIZAJE DE MAQUINA\\\\2\\\\codigo\\\\funciones.R\")"
   ]
  },
  {
   "cell_type": "code",
   "execution_count": null,
   "id": "a174ee8b-e455-4f4c-b467-da34254585ba",
   "metadata": {},
   "outputs": [],
   "source": []
  },
  {
   "cell_type": "markdown",
   "id": "26615918-52bb-4f6b-877a-c9a32906595e",
   "metadata": {},
   "source": [
    "### MODELO CON INTERCEPTO"
   ]
  },
  {
   "cell_type": "code",
   "execution_count": 9,
   "id": "2f3bab44-31bd-4517-95fa-0256c8e49508",
   "metadata": {},
   "outputs": [],
   "source": [
    "formula <- Imcumplimiento ~ \n",
    "           Empleado + \n",
    "           Tiempo_empleo + \n",
    "           Saldo_cuenta + \n",
    "           Valor_prestamo + \n",
    "           Cuentas_otros + \n",
    "           Autocontrol + \n",
    "           Impulsividad + \n",
    "           Confianza + \n",
    "           cuentas_otros_x_valor_prestamo + \n",
    "           cuentas_otros_x_saldo_cuenta + \n",
    "           cuentas_otros_x_tiempo_empleo + \n",
    "           valor_prestamo_x_saldo_cuenta + \n",
    "           valor_prestamo_x_tiempo_empleo + \n",
    "           saldo_cuenta_x_tiempo_empleo + \n",
    "           autocontrol_x_impulsividad + \n",
    "           autocontrol_x_confianza + \n",
    "           impulsividad_x_confianza +\n",
    "           tiempo_empleo_x_impulsividad +\n",
    "           tiempo_empleo_x_confianza +\n",
    "           tiempo_empleo_x_autocontrol +\n",
    "           saldo_cuenta_x_impulsividad +\n",
    "           saldo_cuenta_x_confianza +\n",
    "           saldo_cuenta_x_autocontrol +\n",
    "           valor_prestamo_x_impulsividad +\n",
    "           valor_prestamo_x_confianza +\n",
    "           valor_prestamo_x_autocontrol +\n",
    "           cuentas_otros_x_impulsividad +\n",
    "           cuentas_otros_x_confianza +\n",
    "           cuentas_otros_x_autocontrol "
   ]
  },
  {
   "cell_type": "code",
   "execution_count": 10,
   "id": "dbc062ea-4c9d-4321-8da8-6689f010f28f",
   "metadata": {},
   "outputs": [],
   "source": [
    "model_log <- glm(formula, data=x_train,family = binomial())"
   ]
  },
  {
   "cell_type": "code",
   "execution_count": 11,
   "id": "f7e933c0-04ba-4604-bb22-0d1c847b76a5",
   "metadata": {},
   "outputs": [
    {
     "name": "stderr",
     "output_type": "stream",
     "text": [
      "Setting levels: control = 0, case = 1\n",
      "\n",
      "Setting direction: controls < cases\n",
      "\n"
     ]
    },
    {
     "data": {
      "text/html": [
       "<table class=\"dataframe\">\n",
       "<caption>A data.frame: 1 × 3</caption>\n",
       "<thead>\n",
       "\t<tr><th scope=col>variable</th><th scope=col>Gini</th><th scope=col>KS</th></tr>\n",
       "\t<tr><th scope=col>&lt;fct&gt;</th><th scope=col>&lt;dbl&gt;</th><th scope=col>&lt;dbl&gt;</th></tr>\n",
       "</thead>\n",
       "<tbody>\n",
       "\t<tr><td>logistico</td><td>2.55</td><td>2.09</td></tr>\n",
       "</tbody>\n",
       "</table>\n"
      ],
      "text/latex": [
       "A data.frame: 1 × 3\n",
       "\\begin{tabular}{lll}\n",
       " variable & Gini & KS\\\\\n",
       " <fct> & <dbl> & <dbl>\\\\\n",
       "\\hline\n",
       "\t logistico & 2.55 & 2.09\\\\\n",
       "\\end{tabular}\n"
      ],
      "text/markdown": [
       "\n",
       "A data.frame: 1 × 3\n",
       "\n",
       "| variable &lt;fct&gt; | Gini &lt;dbl&gt; | KS &lt;dbl&gt; |\n",
       "|---|---|---|\n",
       "| logistico | 2.55 | 2.09 |\n",
       "\n"
      ],
      "text/plain": [
       "  variable  Gini KS  \n",
       "1 logistico 2.55 2.09"
      ]
     },
     "metadata": {},
     "output_type": "display_data"
    }
   ],
   "source": [
    "# indicadores mediante la segunda funcion\n",
    "calcula_indicadores(model_log)"
   ]
  },
  {
   "cell_type": "code",
   "execution_count": 12,
   "id": "bddf87f7-724d-4423-a780-8944d94e445b",
   "metadata": {},
   "outputs": [
    {
     "data": {
      "text/plain": [
       "\n",
       "Call:\n",
       "glm(formula = formula, family = binomial(), data = x_train)\n",
       "\n",
       "Deviance Residuals: \n",
       "    Min       1Q   Median       3Q      Max  \n",
       "-0.6611  -0.5569  -0.5498  -0.5396   2.3330  \n",
       "\n",
       "Coefficients:\n",
       "                                 Estimate Std. Error z value Pr(>|z|)   \n",
       "(Intercept)                     -1.588832   0.482940  -3.290   0.0010 **\n",
       "Empleado                        -0.012327   0.039332  -0.313   0.7540   \n",
       "Tiempo_empleo                    1.775936   1.190860   1.491   0.1359   \n",
       "Saldo_cuenta                   -11.926873  13.869144  -0.860   0.3898   \n",
       "Valor_prestamo                   0.249376   0.573578   0.435   0.6637   \n",
       "Cuentas_otros                   -0.453530   0.779463  -0.582   0.5607   \n",
       "Autocontrol                     -0.650521   0.802282  -0.811   0.4175   \n",
       "Impulsividad                     0.396382   0.745347   0.532   0.5949   \n",
       "Confianza                       -0.902973   0.815565  -1.107   0.2682   \n",
       "cuentas_otros_x_valor_prestamo  -0.008526   0.282906  -0.030   0.9760   \n",
       "cuentas_otros_x_saldo_cuenta    -0.623481   1.733976  -0.360   0.7192   \n",
       "cuentas_otros_x_tiempo_empleo    0.171588   0.311971   0.550   0.5823   \n",
       "valor_prestamo_x_saldo_cuenta    0.591613   4.608048   0.128   0.8978   \n",
       "valor_prestamo_x_tiempo_empleo  -0.594914   0.417413  -1.425   0.1541   \n",
       "saldo_cuenta_x_tiempo_empleo     2.034827   1.796765   1.132   0.2574   \n",
       "autocontrol_x_impulsividad      -0.532484   0.812731  -0.655   0.5124   \n",
       "autocontrol_x_confianza          1.288872   0.714440   1.804   0.0712 . \n",
       "impulsividad_x_confianza        -0.030376   0.699591  -0.043   0.9654   \n",
       "tiempo_empleo_x_impulsividad    -0.612391   0.633163  -0.967   0.3334   \n",
       "tiempo_empleo_x_confianza       -0.924486   0.687626  -1.344   0.1788   \n",
       "tiempo_empleo_x_autocontrol      0.208666   0.870410   0.240   0.8105   \n",
       "saldo_cuenta_x_impulsividad      7.678676   9.069945   0.847   0.3972   \n",
       "saldo_cuenta_x_confianza         1.864913   9.437256   0.198   0.8433   \n",
       "saldo_cuenta_x_autocontrol      -0.708256   6.390686  -0.111   0.9118   \n",
       "valor_prestamo_x_impulsividad   -0.083994   0.424086  -0.198   0.8430   \n",
       "valor_prestamo_x_confianza      -0.046033   0.494036  -0.093   0.9258   \n",
       "valor_prestamo_x_autocontrol    -0.087193   0.464074  -0.188   0.8510   \n",
       "cuentas_otros_x_impulsividad     0.052249   0.583764   0.090   0.9287   \n",
       "cuentas_otros_x_confianza        0.820945   0.598309   1.372   0.1700   \n",
       "cuentas_otros_x_autocontrol     -0.149590   0.520064  -0.288   0.7736   \n",
       "---\n",
       "Signif. codes:  0 '***' 0.001 '**' 0.01 '*' 0.05 '.' 0.1 ' ' 1\n",
       "\n",
       "(Dispersion parameter for binomial family taken to be 1)\n",
       "\n",
       "    Null deviance: 44219  on 54314  degrees of freedom\n",
       "Residual deviance: 44200  on 54285  degrees of freedom\n",
       "AIC: 44260\n",
       "\n",
       "Number of Fisher Scoring iterations: 4\n"
      ]
     },
     "metadata": {},
     "output_type": "display_data"
    }
   ],
   "source": [
    "summary(model_log)"
   ]
  },
  {
   "cell_type": "code",
   "execution_count": null,
   "id": "6adfabcc-edcc-41cd-bdc7-3f857c5405ad",
   "metadata": {},
   "outputs": [],
   "source": []
  },
  {
   "cell_type": "markdown",
   "id": "d00fec4e-a2b6-4345-be47-912d353c08c8",
   "metadata": {},
   "source": [
    "### MODELO SIN INTERCEPTO"
   ]
  },
  {
   "cell_type": "code",
   "execution_count": 13,
   "id": "89c8d788-589f-4c06-866b-0c1911f752b1",
   "metadata": {},
   "outputs": [],
   "source": [
    "formula_si <- Imcumplimiento ~ \n",
    "           Empleado + \n",
    "           Tiempo_empleo + \n",
    "           Saldo_cuenta + \n",
    "           Valor_prestamo + \n",
    "           Cuentas_otros + \n",
    "           Autocontrol + \n",
    "           Impulsividad + \n",
    "           Confianza + \n",
    "           cuentas_otros_x_valor_prestamo + \n",
    "           cuentas_otros_x_saldo_cuenta + \n",
    "           cuentas_otros_x_tiempo_empleo + \n",
    "           valor_prestamo_x_saldo_cuenta + \n",
    "           valor_prestamo_x_tiempo_empleo + \n",
    "           saldo_cuenta_x_tiempo_empleo + \n",
    "           autocontrol_x_impulsividad + \n",
    "           autocontrol_x_confianza + \n",
    "           impulsividad_x_confianza +\n",
    "           tiempo_empleo_x_impulsividad +\n",
    "           tiempo_empleo_x_confianza +\n",
    "           tiempo_empleo_x_autocontrol +\n",
    "           saldo_cuenta_x_impulsividad +\n",
    "           saldo_cuenta_x_confianza +\n",
    "           saldo_cuenta_x_autocontrol +\n",
    "           valor_prestamo_x_impulsividad +\n",
    "           valor_prestamo_x_confianza +\n",
    "           valor_prestamo_x_autocontrol +\n",
    "           cuentas_otros_x_impulsividad +\n",
    "           cuentas_otros_x_confianza +\n",
    "           cuentas_otros_x_autocontrol -1"
   ]
  },
  {
   "cell_type": "code",
   "execution_count": 14,
   "id": "369c935f-041e-40ab-8b41-e58b4623313a",
   "metadata": {},
   "outputs": [],
   "source": [
    "model_log_si <- glm(formula_si, data=x_train,family = binomial())"
   ]
  },
  {
   "cell_type": "code",
   "execution_count": 15,
   "id": "5899177a-7002-4bce-af83-a39bbf92a1cf",
   "metadata": {},
   "outputs": [
    {
     "name": "stderr",
     "output_type": "stream",
     "text": [
      "Setting levels: control = 0, case = 1\n",
      "\n",
      "Setting direction: controls < cases\n",
      "\n"
     ]
    },
    {
     "data": {
      "text/html": [
       "<table class=\"dataframe\">\n",
       "<caption>A data.frame: 1 × 3</caption>\n",
       "<thead>\n",
       "\t<tr><th scope=col>variable</th><th scope=col>Gini</th><th scope=col>KS</th></tr>\n",
       "\t<tr><th scope=col>&lt;fct&gt;</th><th scope=col>&lt;dbl&gt;</th><th scope=col>&lt;dbl&gt;</th></tr>\n",
       "</thead>\n",
       "<tbody>\n",
       "\t<tr><td>logistico</td><td>2.45</td><td>2.42</td></tr>\n",
       "</tbody>\n",
       "</table>\n"
      ],
      "text/latex": [
       "A data.frame: 1 × 3\n",
       "\\begin{tabular}{lll}\n",
       " variable & Gini & KS\\\\\n",
       " <fct> & <dbl> & <dbl>\\\\\n",
       "\\hline\n",
       "\t logistico & 2.45 & 2.42\\\\\n",
       "\\end{tabular}\n"
      ],
      "text/markdown": [
       "\n",
       "A data.frame: 1 × 3\n",
       "\n",
       "| variable &lt;fct&gt; | Gini &lt;dbl&gt; | KS &lt;dbl&gt; |\n",
       "|---|---|---|\n",
       "| logistico | 2.45 | 2.42 |\n",
       "\n"
      ],
      "text/plain": [
       "  variable  Gini KS  \n",
       "1 logistico 2.45 2.42"
      ]
     },
     "metadata": {},
     "output_type": "display_data"
    }
   ],
   "source": [
    "calcula_indicadores(model_log_si)"
   ]
  },
  {
   "cell_type": "code",
   "execution_count": 16,
   "id": "c755fdaf-25b4-4dfc-8cc2-16f30edf5ce6",
   "metadata": {},
   "outputs": [
    {
     "data": {
      "text/plain": [
       "\n",
       "Call:\n",
       "glm(formula = formula_si, family = binomial(), data = x_train)\n",
       "\n",
       "Deviance Residuals: \n",
       "    Min       1Q   Median       3Q      Max  \n",
       "-0.7437  -0.5577  -0.5484  -0.5362   2.3363  \n",
       "\n",
       "Coefficients:\n",
       "                                Estimate Std. Error z value Pr(>|z|)    \n",
       "Empleado                        -0.02024    0.03920  -0.516  0.60569    \n",
       "Tiempo_empleo                    0.86769    1.14102   0.760  0.44698    \n",
       "Saldo_cuenta                   -13.35005   13.68936  -0.975  0.32945    \n",
       "Valor_prestamo                  -0.61561    0.50287  -1.224  0.22088    \n",
       "Cuentas_otros                   -0.93876    0.75379  -1.245  0.21299    \n",
       "Autocontrol                     -2.63882    0.52955  -4.983 6.26e-07 ***\n",
       "Impulsividad                    -1.39955    0.50838  -2.753  0.00591 ** \n",
       "Confianza                       -2.90946    0.54305  -5.358 8.43e-08 ***\n",
       "cuentas_otros_x_valor_prestamo   0.04391    0.28242   0.155  0.87644    \n",
       "cuentas_otros_x_saldo_cuenta    -0.61135    1.73744  -0.352  0.72494    \n",
       "cuentas_otros_x_tiempo_empleo    0.19927    0.31167   0.639  0.52258    \n",
       "valor_prestamo_x_saldo_cuenta    0.71946    4.61115   0.156  0.87601    \n",
       "valor_prestamo_x_tiempo_empleo  -0.47740    0.41612  -1.147  0.25128    \n",
       "saldo_cuenta_x_tiempo_empleo     2.09806    1.79604   1.168  0.24274    \n",
       "autocontrol_x_impulsividad       0.72381    0.72151   1.003  0.31577    \n",
       "autocontrol_x_confianza          2.45130    0.62398   3.928 8.55e-05 ***\n",
       "impulsividad_x_confianza         1.04250    0.62264   1.674  0.09406 .  \n",
       "tiempo_empleo_x_impulsividad    -0.37095    0.62898  -0.590  0.55535    \n",
       "tiempo_empleo_x_confianza       -0.62410    0.68178  -0.915  0.35998    \n",
       "tiempo_empleo_x_autocontrol      0.56354    0.86377   0.652  0.51413    \n",
       "saldo_cuenta_x_impulsividad      8.09794    9.07733   0.892  0.37234    \n",
       "saldo_cuenta_x_confianza         2.42550    9.48840   0.256  0.79824    \n",
       "saldo_cuenta_x_autocontrol      -0.38154    6.38612  -0.060  0.95236    \n",
       "valor_prestamo_x_impulsividad    0.24298    0.41260   0.589  0.55593    \n",
       "valor_prestamo_x_confianza       0.37986    0.47738   0.796  0.42620    \n",
       "valor_prestamo_x_autocontrol     0.32626    0.44718   0.730  0.46564    \n",
       "cuentas_otros_x_impulsividad     0.24539    0.58100   0.422  0.67277    \n",
       "cuentas_otros_x_confianza        1.03114    0.59528   1.732  0.08324 .  \n",
       "cuentas_otros_x_autocontrol      0.01565    0.51814   0.030  0.97591    \n",
       "---\n",
       "Signif. codes:  0 '***' 0.001 '**' 0.01 '*' 0.05 '.' 0.1 ' ' 1\n",
       "\n",
       "(Dispersion parameter for binomial family taken to be 1)\n",
       "\n",
       "    Null deviance: 75297  on 54315  degrees of freedom\n",
       "Residual deviance: 44211  on 54286  degrees of freedom\n",
       "AIC: 44269\n",
       "\n",
       "Number of Fisher Scoring iterations: 4\n"
      ]
     },
     "metadata": {},
     "output_type": "display_data"
    }
   ],
   "source": [
    "summary(model_log_si)"
   ]
  },
  {
   "cell_type": "code",
   "execution_count": null,
   "id": "49d8240b-4f8c-45b1-834c-d6ac50ee7fe8",
   "metadata": {},
   "outputs": [],
   "source": []
  },
  {
   "cell_type": "code",
   "execution_count": 21,
   "id": "52642550-b1bd-4088-8b68-8e34abfb9f44",
   "metadata": {},
   "outputs": [],
   "source": [
    "formula_si_2 <- Imcumplimiento ~ \n",
    "           Autocontrol + \n",
    "           Impulsividad + \n",
    "           Confianza + \n",
    "           autocontrol_x_confianza +         \n",
    "           autocontrol_x_confianza -1\n"
   ]
  },
  {
   "cell_type": "code",
   "execution_count": 22,
   "id": "2f91fdf0-8a88-4906-9f9f-5510ed3cf5b1",
   "metadata": {},
   "outputs": [],
   "source": [
    "model_log_si_2 <- glm(formula_si_2, data=x_train,family = binomial())"
   ]
  },
  {
   "cell_type": "code",
   "execution_count": 23,
   "id": "cfaafa71-0768-4b01-9986-df747c451c12",
   "metadata": {},
   "outputs": [
    {
     "name": "stderr",
     "output_type": "stream",
     "text": [
      "Warning message in ks.test(x = objeto_logit$fitted.values[which(objeto_logit$y == :\n",
      "\"p-value will be approximate in the presence of ties\"\n",
      "Setting levels: control = 0, case = 1\n",
      "\n",
      "Setting direction: controls < cases\n",
      "\n"
     ]
    },
    {
     "data": {
      "text/html": [
       "<table class=\"dataframe\">\n",
       "<caption>A data.frame: 1 × 3</caption>\n",
       "<thead>\n",
       "\t<tr><th scope=col>variable</th><th scope=col>Gini</th><th scope=col>KS</th></tr>\n",
       "\t<tr><th scope=col>&lt;fct&gt;</th><th scope=col>&lt;dbl&gt;</th><th scope=col>&lt;dbl&gt;</th></tr>\n",
       "</thead>\n",
       "<tbody>\n",
       "\t<tr><td>logistico</td><td>1.39</td><td>1.25</td></tr>\n",
       "</tbody>\n",
       "</table>\n"
      ],
      "text/latex": [
       "A data.frame: 1 × 3\n",
       "\\begin{tabular}{lll}\n",
       " variable & Gini & KS\\\\\n",
       " <fct> & <dbl> & <dbl>\\\\\n",
       "\\hline\n",
       "\t logistico & 1.39 & 1.25\\\\\n",
       "\\end{tabular}\n"
      ],
      "text/markdown": [
       "\n",
       "A data.frame: 1 × 3\n",
       "\n",
       "| variable &lt;fct&gt; | Gini &lt;dbl&gt; | KS &lt;dbl&gt; |\n",
       "|---|---|---|\n",
       "| logistico | 1.39 | 1.25 |\n",
       "\n"
      ],
      "text/plain": [
       "  variable  Gini KS  \n",
       "1 logistico 1.39 1.25"
      ]
     },
     "metadata": {},
     "output_type": "display_data"
    }
   ],
   "source": [
    "calcula_indicadores(model_log_si_2)"
   ]
  },
  {
   "cell_type": "code",
   "execution_count": 24,
   "id": "43fcf840-d4ba-4670-8527-4f49ef0cb04f",
   "metadata": {},
   "outputs": [
    {
     "data": {
      "text/plain": [
       "\n",
       "Call:\n",
       "glm(formula = formula_si_2, family = binomial(), data = x_train)\n",
       "\n",
       "Deviance Residuals: \n",
       "    Min       1Q   Median       3Q      Max  \n",
       "-0.8956  -0.5588  -0.5484  -0.5321   2.1925  \n",
       "\n",
       "Coefficients:\n",
       "                        Estimate Std. Error z value Pr(>|z|)    \n",
       "Autocontrol             -3.66512    0.15024 -24.395   <2e-16 ***\n",
       "Impulsividad            -0.17106    0.09651  -1.772   0.0763 .  \n",
       "Confianza               -3.60555    0.15030 -23.989   <2e-16 ***\n",
       "autocontrol_x_confianza  4.75960    0.24521  19.410   <2e-16 ***\n",
       "---\n",
       "Signif. codes:  0 '***' 0.001 '**' 0.01 '*' 0.05 '.' 0.1 ' ' 1\n",
       "\n",
       "(Dispersion parameter for binomial family taken to be 1)\n",
       "\n",
       "    Null deviance: 75297  on 54315  degrees of freedom\n",
       "Residual deviance: 44241  on 54311  degrees of freedom\n",
       "AIC: 44249\n",
       "\n",
       "Number of Fisher Scoring iterations: 4\n"
      ]
     },
     "metadata": {},
     "output_type": "display_data"
    }
   ],
   "source": [
    "summary(model_log_si_2)"
   ]
  },
  {
   "cell_type": "code",
   "execution_count": null,
   "id": "80166aee-1537-4f25-8ffa-2a3cc2881d09",
   "metadata": {},
   "outputs": [],
   "source": []
  },
  {
   "cell_type": "code",
   "execution_count": null,
   "id": "61af1ac6-9a64-421e-bd5e-e007853d11d1",
   "metadata": {},
   "outputs": [],
   "source": []
  }
 ],
 "metadata": {
  "kernelspec": {
   "display_name": "R",
   "language": "R",
   "name": "ir"
  },
  "language_info": {
   "codemirror_mode": "r",
   "file_extension": ".r",
   "mimetype": "text/x-r-source",
   "name": "R",
   "pygments_lexer": "r",
   "version": "3.6.1"
  }
 },
 "nbformat": 4,
 "nbformat_minor": 5
}
