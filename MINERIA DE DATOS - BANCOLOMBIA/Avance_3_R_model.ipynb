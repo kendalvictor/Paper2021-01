{
 "cells": [
  {
   "cell_type": "code",
   "execution_count": 9,
   "id": "af10f242-5f90-4ce8-be01-a8d46624a7d0",
   "metadata": {},
   "outputs": [],
   "source": [
    "#install.packages('lattice')\n",
    "#install.packages('coda')\n",
    "#install.packages('BRugs')\n",
    "#install.packages('R2OpenBUGS')\n",
    "#install.packages('dplyr')\n",
    "#install.packages('MLmetrics')\n",
    "#install.packages('party')\n",
    "#install.packages('pROC')\n",
    "#install.packages('corrplot')\n",
    "#install.packages('mlr')\n",
    "#install.packages('sqldf')\n",
    "#install.packages('ggplot2')\n",
    "#install.packages('klaR')"
   ]
  },
  {
   "cell_type": "markdown",
   "id": "d03e097c-4032-4f3b-b646-4d7fa81aaf2c",
   "metadata": {},
   "source": [
    "## Load librariees"
   ]
  },
  {
   "cell_type": "code",
   "execution_count": 2,
   "id": "15a1e5bd-1e71-427c-9e0f-b59b1a229939",
   "metadata": {},
   "outputs": [
    {
     "name": "stderr",
     "output_type": "stream",
     "text": [
      "Warning message:\n",
      "\"package 'dplyr' was built under R version 3.6.3\"\n",
      "\n",
      "Attaching package: 'dplyr'\n",
      "\n",
      "\n",
      "The following objects are masked from 'package:stats':\n",
      "\n",
      "    filter, lag\n",
      "\n",
      "\n",
      "The following objects are masked from 'package:base':\n",
      "\n",
      "    intersect, setdiff, setequal, union\n",
      "\n",
      "\n",
      "Warning message:\n",
      "\"package 'MLmetrics' was built under R version 3.6.3\"\n",
      "\n",
      "Attaching package: 'MLmetrics'\n",
      "\n",
      "\n",
      "The following object is masked from 'package:base':\n",
      "\n",
      "    Recall\n",
      "\n",
      "\n",
      "Warning message:\n",
      "\"package 'party' was built under R version 3.6.3\"\n",
      "Loading required package: grid\n",
      "\n",
      "Loading required package: mvtnorm\n",
      "\n",
      "Warning message:\n",
      "\"package 'mvtnorm' was built under R version 3.6.3\"\n",
      "Loading required package: modeltools\n",
      "\n",
      "Warning message:\n",
      "\"package 'modeltools' was built under R version 3.6.3\"\n",
      "Loading required package: stats4\n",
      "\n",
      "Loading required package: strucchange\n",
      "\n",
      "Warning message:\n",
      "\"package 'strucchange' was built under R version 3.6.3\"\n",
      "Loading required package: zoo\n",
      "\n",
      "Warning message:\n",
      "\"package 'zoo' was built under R version 3.6.3\"\n",
      "\n",
      "Attaching package: 'zoo'\n",
      "\n",
      "\n",
      "The following objects are masked from 'package:base':\n",
      "\n",
      "    as.Date, as.Date.numeric\n",
      "\n",
      "\n",
      "Loading required package: sandwich\n",
      "\n",
      "Warning message:\n",
      "\"package 'pROC' was built under R version 3.6.3\"\n",
      "Type 'citation(\"pROC\")' for a citation.\n",
      "\n",
      "\n",
      "Attaching package: 'pROC'\n",
      "\n",
      "\n",
      "The following objects are masked from 'package:stats':\n",
      "\n",
      "    cov, smooth, var\n",
      "\n",
      "\n",
      "Warning message:\n",
      "\"package 'lattice' was built under R version 3.6.3\"\n",
      "Warning message:\n",
      "\"package 'corrplot' was built under R version 3.6.3\"\n",
      "corrplot 0.88 loaded\n",
      "\n",
      "Warning message:\n",
      "\"package 'mlr' was built under R version 3.6.3\"\n",
      "Loading required package: ParamHelpers\n",
      "\n",
      "Warning message:\n",
      "\"package 'ParamHelpers' was built under R version 3.6.3\"\n",
      "Warning message: 'mlr' is in 'maintenance-only' mode since July 2019.\n",
      "Future development will only happen in 'mlr3'\n",
      "(<https://mlr3.mlr-org.com>). Due to the focus on 'mlr3' there might be\n",
      "uncaught bugs meanwhile in {mlr} - please consider switching.\n",
      "\n",
      "Warning message:\n",
      "\"package 'sqldf' was built under R version 3.6.3\"\n",
      "Loading required package: gsubfn\n",
      "\n",
      "Warning message:\n",
      "\"package 'gsubfn' was built under R version 3.6.3\"\n",
      "Loading required package: proto\n",
      "\n",
      "Warning message:\n",
      "\"package 'proto' was built under R version 3.6.3\"\n",
      "\n",
      "Attaching package: 'gsubfn'\n",
      "\n",
      "\n",
      "The following object is masked from 'package:mlr':\n",
      "\n",
      "    fn\n",
      "\n",
      "\n",
      "Loading required package: RSQLite\n",
      "\n",
      "Warning message:\n",
      "\"package 'RSQLite' was built under R version 3.6.3\"\n",
      "Warning message:\n",
      "\"package 'ggplot2' was built under R version 3.6.3\"\n",
      "Warning message:\n",
      "\"package 'klaR' was built under R version 3.6.3\"\n",
      "Loading required package: MASS\n",
      "\n",
      "Warning message:\n",
      "\"package 'MASS' was built under R version 3.6.3\"\n",
      "\n",
      "Attaching package: 'MASS'\n",
      "\n",
      "\n",
      "The following object is masked from 'package:dplyr':\n",
      "\n",
      "    select\n",
      "\n",
      "\n",
      "Warning message:\n",
      "\"package 'BRugs' was built under R version 3.6.3\"\n",
      "Welcome to BRugs connected to OpenBUGS version 3.2.3\n",
      "\n",
      "Warning message:\n",
      "\"package 'R2OpenBUGS' was built under R version 3.6.3\"\n",
      "\n",
      "Attaching package: 'R2OpenBUGS'\n",
      "\n",
      "\n",
      "The following object is masked from 'package:strucchange':\n",
      "\n",
      "    monitor\n",
      "\n",
      "\n"
     ]
    }
   ],
   "source": [
    "library(dplyr)\n",
    "library(MLmetrics)\n",
    "library(party)\n",
    "library(pROC)\n",
    "library(lattice)\n",
    "library(corrplot)\n",
    "library(mlr)\n",
    "library(sqldf)\n",
    "library(ggplot2)\n",
    "library(klaR)\n",
    "library(BRugs)\n",
    "library(R2OpenBUGS)"
   ]
  },
  {
   "cell_type": "code",
   "execution_count": null,
   "id": "1d4d97d4-b2a3-43a0-99da-e4ac2228ea11",
   "metadata": {},
   "outputs": [],
   "source": []
  },
  {
   "cell_type": "markdown",
   "id": "57e0f96e-2927-4dfb-9632-a95fe45aa6f1",
   "metadata": {},
   "source": [
    "## Load dataset"
   ]
  },
  {
   "cell_type": "code",
   "execution_count": 3,
   "id": "a25df382-c170-4ba3-a596-655f8fd38398",
   "metadata": {},
   "outputs": [],
   "source": [
    "x_train <- read.csv(\"X_train_r.csv\")\n",
    "x_valid <- read.csv(\"X_valid_r.csv\")"
   ]
  },
  {
   "cell_type": "code",
   "execution_count": 4,
   "id": "b2cd814b-2ab7-4cf5-b7bf-9590bfa19c86",
   "metadata": {},
   "outputs": [
    {
     "data": {
      "text/html": [
       "<table class=\"dataframe\">\n",
       "<caption>A data.frame: 3 × 12</caption>\n",
       "<thead>\n",
       "\t<tr><th></th><th scope=col>Empleado</th><th scope=col>Tiempo_empleo</th><th scope=col>Saldo_cuenta</th><th scope=col>Valor_prestamo</th><th scope=col>Cuentas_otros</th><th scope=col>Autocontrol</th><th scope=col>Impulsividad</th><th scope=col>Confianza</th><th scope=col>polinomico_aut_imp</th><th scope=col>div_conf_impul</th><th scope=col>polinomico_aut_imp_conf</th><th scope=col>Imcumplimiento</th></tr>\n",
       "\t<tr><th></th><th scope=col>&lt;dbl&gt;</th><th scope=col>&lt;dbl&gt;</th><th scope=col>&lt;dbl&gt;</th><th scope=col>&lt;dbl&gt;</th><th scope=col>&lt;dbl&gt;</th><th scope=col>&lt;dbl&gt;</th><th scope=col>&lt;dbl&gt;</th><th scope=col>&lt;dbl&gt;</th><th scope=col>&lt;dbl&gt;</th><th scope=col>&lt;dbl&gt;</th><th scope=col>&lt;dbl&gt;</th><th scope=col>&lt;int&gt;</th></tr>\n",
       "</thead>\n",
       "<tbody>\n",
       "\t<tr><th scope=row>1</th><td>0</td><td>0.0000</td><td>3.328666e-04</td><td>0.5678192</td><td>0.0000000</td><td>0.4470588</td><td>0.2625</td><td>0.3372093</td><td>0.1721815</td><td>0.1611408</td><td>0.1161226</td><td>1</td></tr>\n",
       "\t<tr><th scope=row>2</th><td>0</td><td>0.0000</td><td>7.240807e-04</td><td>0.6548200</td><td>0.0000000</td><td>0.5294118</td><td>0.4000</td><td>0.5697674</td><td>0.2940560</td><td>0.1898396</td><td>0.3112569</td><td>0</td></tr>\n",
       "\t<tr><th scope=row>3</th><td>1</td><td>0.0625</td><td>2.180308e-05</td><td>0.5357129</td><td>0.2857143</td><td>0.4941176</td><td>0.3125</td><td>0.3720930</td><td>0.2218895</td><td>0.1545310</td><td>0.1614602</td><td>1</td></tr>\n",
       "</tbody>\n",
       "</table>\n"
      ],
      "text/latex": [
       "A data.frame: 3 × 12\n",
       "\\begin{tabular}{r|llllllllllll}\n",
       "  & Empleado & Tiempo\\_empleo & Saldo\\_cuenta & Valor\\_prestamo & Cuentas\\_otros & Autocontrol & Impulsividad & Confianza & polinomico\\_aut\\_imp & div\\_conf\\_impul & polinomico\\_aut\\_imp\\_conf & Imcumplimiento\\\\\n",
       "  & <dbl> & <dbl> & <dbl> & <dbl> & <dbl> & <dbl> & <dbl> & <dbl> & <dbl> & <dbl> & <dbl> & <int>\\\\\n",
       "\\hline\n",
       "\t1 & 0 & 0.0000 & 3.328666e-04 & 0.5678192 & 0.0000000 & 0.4470588 & 0.2625 & 0.3372093 & 0.1721815 & 0.1611408 & 0.1161226 & 1\\\\\n",
       "\t2 & 0 & 0.0000 & 7.240807e-04 & 0.6548200 & 0.0000000 & 0.5294118 & 0.4000 & 0.5697674 & 0.2940560 & 0.1898396 & 0.3112569 & 0\\\\\n",
       "\t3 & 1 & 0.0625 & 2.180308e-05 & 0.5357129 & 0.2857143 & 0.4941176 & 0.3125 & 0.3720930 & 0.2218895 & 0.1545310 & 0.1614602 & 1\\\\\n",
       "\\end{tabular}\n"
      ],
      "text/markdown": [
       "\n",
       "A data.frame: 3 × 12\n",
       "\n",
       "| <!--/--> | Empleado &lt;dbl&gt; | Tiempo_empleo &lt;dbl&gt; | Saldo_cuenta &lt;dbl&gt; | Valor_prestamo &lt;dbl&gt; | Cuentas_otros &lt;dbl&gt; | Autocontrol &lt;dbl&gt; | Impulsividad &lt;dbl&gt; | Confianza &lt;dbl&gt; | polinomico_aut_imp &lt;dbl&gt; | div_conf_impul &lt;dbl&gt; | polinomico_aut_imp_conf &lt;dbl&gt; | Imcumplimiento &lt;int&gt; |\n",
       "|---|---|---|---|---|---|---|---|---|---|---|---|---|\n",
       "| 1 | 0 | 0.0000 | 3.328666e-04 | 0.5678192 | 0.0000000 | 0.4470588 | 0.2625 | 0.3372093 | 0.1721815 | 0.1611408 | 0.1161226 | 1 |\n",
       "| 2 | 0 | 0.0000 | 7.240807e-04 | 0.6548200 | 0.0000000 | 0.5294118 | 0.4000 | 0.5697674 | 0.2940560 | 0.1898396 | 0.3112569 | 0 |\n",
       "| 3 | 1 | 0.0625 | 2.180308e-05 | 0.5357129 | 0.2857143 | 0.4941176 | 0.3125 | 0.3720930 | 0.2218895 | 0.1545310 | 0.1614602 | 1 |\n",
       "\n"
      ],
      "text/plain": [
       "  Empleado Tiempo_empleo Saldo_cuenta Valor_prestamo Cuentas_otros Autocontrol\n",
       "1 0        0.0000        3.328666e-04 0.5678192      0.0000000     0.4470588  \n",
       "2 0        0.0000        7.240807e-04 0.6548200      0.0000000     0.5294118  \n",
       "3 1        0.0625        2.180308e-05 0.5357129      0.2857143     0.4941176  \n",
       "  Impulsividad Confianza polinomico_aut_imp div_conf_impul\n",
       "1 0.2625       0.3372093 0.1721815          0.1611408     \n",
       "2 0.4000       0.5697674 0.2940560          0.1898396     \n",
       "3 0.3125       0.3720930 0.2218895          0.1545310     \n",
       "  polinomico_aut_imp_conf Imcumplimiento\n",
       "1 0.1161226               1             \n",
       "2 0.3112569               0             \n",
       "3 0.1614602               1             "
      ]
     },
     "metadata": {},
     "output_type": "display_data"
    }
   ],
   "source": [
    "head(x_train, 3)"
   ]
  },
  {
   "cell_type": "code",
   "execution_count": 5,
   "id": "a0ed0a29-198a-4c8f-9afc-8ec412aab6ba",
   "metadata": {},
   "outputs": [
    {
     "data": {
      "text/html": [
       "<table class=\"dataframe\">\n",
       "<caption>A data.frame: 3 × 12</caption>\n",
       "<thead>\n",
       "\t<tr><th></th><th scope=col>Empleado</th><th scope=col>Tiempo_empleo</th><th scope=col>Saldo_cuenta</th><th scope=col>Valor_prestamo</th><th scope=col>Cuentas_otros</th><th scope=col>Autocontrol</th><th scope=col>Impulsividad</th><th scope=col>Confianza</th><th scope=col>polinomico_aut_imp</th><th scope=col>div_conf_impul</th><th scope=col>polinomico_aut_imp_conf</th><th scope=col>Imcumplimiento</th></tr>\n",
       "\t<tr><th></th><th scope=col>&lt;dbl&gt;</th><th scope=col>&lt;dbl&gt;</th><th scope=col>&lt;dbl&gt;</th><th scope=col>&lt;dbl&gt;</th><th scope=col>&lt;dbl&gt;</th><th scope=col>&lt;dbl&gt;</th><th scope=col>&lt;dbl&gt;</th><th scope=col>&lt;dbl&gt;</th><th scope=col>&lt;dbl&gt;</th><th scope=col>&lt;dbl&gt;</th><th scope=col>&lt;dbl&gt;</th><th scope=col>&lt;int&gt;</th></tr>\n",
       "</thead>\n",
       "<tbody>\n",
       "\t<tr><th scope=row>1</th><td>1</td><td>0.02083333</td><td>3.715418e-03</td><td>0.501563025</td><td>0.0000000</td><td>0.6235294</td><td>0.7000</td><td>0.4069767</td><td>0.5659530</td><td>0.08062284</td><td>0.4267745</td><td>1</td></tr>\n",
       "\t<tr><th scope=row>2</th><td>1</td><td>0.04166667</td><td>3.213681e-05</td><td>0.639685525</td><td>0.0000000</td><td>0.3764706</td><td>0.4625</td><td>0.3837209</td><td>0.2383590</td><td>0.11428571</td><td>0.1776286</td><td>0</td></tr>\n",
       "\t<tr><th scope=row>3</th><td>1</td><td>0.12500000</td><td>3.009048e-04</td><td>0.005580987</td><td>0.1428571</td><td>0.4705882</td><td>0.3000</td><td>0.2790698</td><td>0.2036233</td><td>0.12287582</td><td>0.1139109</td><td>0</td></tr>\n",
       "</tbody>\n",
       "</table>\n"
      ],
      "text/latex": [
       "A data.frame: 3 × 12\n",
       "\\begin{tabular}{r|llllllllllll}\n",
       "  & Empleado & Tiempo\\_empleo & Saldo\\_cuenta & Valor\\_prestamo & Cuentas\\_otros & Autocontrol & Impulsividad & Confianza & polinomico\\_aut\\_imp & div\\_conf\\_impul & polinomico\\_aut\\_imp\\_conf & Imcumplimiento\\\\\n",
       "  & <dbl> & <dbl> & <dbl> & <dbl> & <dbl> & <dbl> & <dbl> & <dbl> & <dbl> & <dbl> & <dbl> & <int>\\\\\n",
       "\\hline\n",
       "\t1 & 1 & 0.02083333 & 3.715418e-03 & 0.501563025 & 0.0000000 & 0.6235294 & 0.7000 & 0.4069767 & 0.5659530 & 0.08062284 & 0.4267745 & 1\\\\\n",
       "\t2 & 1 & 0.04166667 & 3.213681e-05 & 0.639685525 & 0.0000000 & 0.3764706 & 0.4625 & 0.3837209 & 0.2383590 & 0.11428571 & 0.1776286 & 0\\\\\n",
       "\t3 & 1 & 0.12500000 & 3.009048e-04 & 0.005580987 & 0.1428571 & 0.4705882 & 0.3000 & 0.2790698 & 0.2036233 & 0.12287582 & 0.1139109 & 0\\\\\n",
       "\\end{tabular}\n"
      ],
      "text/markdown": [
       "\n",
       "A data.frame: 3 × 12\n",
       "\n",
       "| <!--/--> | Empleado &lt;dbl&gt; | Tiempo_empleo &lt;dbl&gt; | Saldo_cuenta &lt;dbl&gt; | Valor_prestamo &lt;dbl&gt; | Cuentas_otros &lt;dbl&gt; | Autocontrol &lt;dbl&gt; | Impulsividad &lt;dbl&gt; | Confianza &lt;dbl&gt; | polinomico_aut_imp &lt;dbl&gt; | div_conf_impul &lt;dbl&gt; | polinomico_aut_imp_conf &lt;dbl&gt; | Imcumplimiento &lt;int&gt; |\n",
       "|---|---|---|---|---|---|---|---|---|---|---|---|---|\n",
       "| 1 | 1 | 0.02083333 | 3.715418e-03 | 0.501563025 | 0.0000000 | 0.6235294 | 0.7000 | 0.4069767 | 0.5659530 | 0.08062284 | 0.4267745 | 1 |\n",
       "| 2 | 1 | 0.04166667 | 3.213681e-05 | 0.639685525 | 0.0000000 | 0.3764706 | 0.4625 | 0.3837209 | 0.2383590 | 0.11428571 | 0.1776286 | 0 |\n",
       "| 3 | 1 | 0.12500000 | 3.009048e-04 | 0.005580987 | 0.1428571 | 0.4705882 | 0.3000 | 0.2790698 | 0.2036233 | 0.12287582 | 0.1139109 | 0 |\n",
       "\n"
      ],
      "text/plain": [
       "  Empleado Tiempo_empleo Saldo_cuenta Valor_prestamo Cuentas_otros Autocontrol\n",
       "1 1        0.02083333    3.715418e-03 0.501563025    0.0000000     0.6235294  \n",
       "2 1        0.04166667    3.213681e-05 0.639685525    0.0000000     0.3764706  \n",
       "3 1        0.12500000    3.009048e-04 0.005580987    0.1428571     0.4705882  \n",
       "  Impulsividad Confianza polinomico_aut_imp div_conf_impul\n",
       "1 0.7000       0.4069767 0.5659530          0.08062284    \n",
       "2 0.4625       0.3837209 0.2383590          0.11428571    \n",
       "3 0.3000       0.2790698 0.2036233          0.12287582    \n",
       "  polinomico_aut_imp_conf Imcumplimiento\n",
       "1 0.4267745               1             \n",
       "2 0.1776286               0             \n",
       "3 0.1139109               0             "
      ]
     },
     "metadata": {},
     "output_type": "display_data"
    }
   ],
   "source": [
    "head(x_valid, 3)"
   ]
  },
  {
   "cell_type": "code",
   "execution_count": 6,
   "id": "0535b0b7-ca00-4c6f-b7c7-6ddeb7895514",
   "metadata": {},
   "outputs": [
    {
     "data": {
      "text/html": [
       "'data.frame'"
      ],
      "text/latex": [
       "'data.frame'"
      ],
      "text/markdown": [
       "'data.frame'"
      ],
      "text/plain": [
       "[1] \"data.frame\""
      ]
     },
     "metadata": {},
     "output_type": "display_data"
    }
   ],
   "source": [
    "class(x_train)"
   ]
  },
  {
   "cell_type": "code",
   "execution_count": 7,
   "id": "29a75e6f-e7f2-4401-8e77-9f1930f11785",
   "metadata": {},
   "outputs": [
    {
     "data": {
      "text/html": [
       "'data.frame'"
      ],
      "text/latex": [
       "'data.frame'"
      ],
      "text/markdown": [
       "'data.frame'"
      ],
      "text/plain": [
       "[1] \"data.frame\""
      ]
     },
     "metadata": {},
     "output_type": "display_data"
    }
   ],
   "source": [
    "class(x_valid)"
   ]
  },
  {
   "cell_type": "code",
   "execution_count": null,
   "id": "ca467b2e-9331-4477-aec9-fa1b5c213dc6",
   "metadata": {},
   "outputs": [],
   "source": []
  },
  {
   "cell_type": "markdown",
   "id": "26615918-52bb-4f6b-877a-c9a32906595e",
   "metadata": {},
   "source": [
    "### MODELO CON INTERCEPTO"
   ]
  },
  {
   "cell_type": "code",
   "execution_count": 15,
   "id": "2f3bab44-31bd-4517-95fa-0256c8e49508",
   "metadata": {},
   "outputs": [],
   "source": [
    "formula <- Imcumplimiento ~ Empleado+ Tiempo_empleo+ Saldo_cuenta+ Valor_prestamo+ Cuentas_otros+ Autocontrol+ Impulsividad+ Confianza+ polinomico_aut_imp+ div_conf_impul+ polinomico_aut_imp_conf"
   ]
  },
  {
   "cell_type": "code",
   "execution_count": 22,
   "id": "dbc062ea-4c9d-4321-8da8-6689f010f28f",
   "metadata": {},
   "outputs": [
    {
     "data": {
      "text/plain": [
       "\n",
       "Call:  glm(formula = formula, family = binomial(), data = x_train)\n",
       "\n",
       "Coefficients:\n",
       "            (Intercept)                 Empleado            Tiempo_empleo  \n",
       "               -1.65432                 -0.01664                  0.09169  \n",
       "           Saldo_cuenta           Valor_prestamo            Cuentas_otros  \n",
       "               -2.49994                 -0.03103                  0.07722  \n",
       "            Autocontrol             Impulsividad                Confianza  \n",
       "                0.14341                 -0.02522                  0.07358  \n",
       "     polinomico_aut_imp           div_conf_impul  polinomico_aut_imp_conf  \n",
       "               -0.67217                 -0.73793                  0.31041  \n",
       "\n",
       "Degrees of Freedom: 51119 Total (i.e. Null);  51108 Residual\n",
       "Null Deviance:\t    41620 \n",
       "Residual Deviance: 41610 \tAIC: 41630"
      ]
     },
     "metadata": {},
     "output_type": "display_data"
    }
   ],
   "source": [
    "model_log <- glm(formula, data=x_train,family = binomial())\n",
    "model_log"
   ]
  },
  {
   "cell_type": "code",
   "execution_count": 28,
   "id": "17001557-3598-4bde-8820-387227b099eb",
   "metadata": {},
   "outputs": [],
   "source": [
    "source(\"C:\\\\Users\\\\Villacorta\\\\Documents\\\\MAESTRIA_RICARDO_PALMA_URP\\\\3_APRENDIZAJE DE MAQUINA\\\\2\\\\codigo\\\\funciones.R\")"
   ]
  },
  {
   "cell_type": "code",
   "execution_count": 29,
   "id": "f7e933c0-04ba-4604-bb22-0d1c847b76a5",
   "metadata": {},
   "outputs": [
    {
     "name": "stderr",
     "output_type": "stream",
     "text": [
      "Setting levels: control = 0, case = 1\n",
      "\n",
      "Setting direction: controls < cases\n",
      "\n"
     ]
    },
    {
     "data": {
      "text/html": [
       "<table class=\"dataframe\">\n",
       "<caption>A data.frame: 1 × 3</caption>\n",
       "<thead>\n",
       "\t<tr><th scope=col>variable</th><th scope=col>Gini</th><th scope=col>KS</th></tr>\n",
       "\t<tr><th scope=col>&lt;fct&gt;</th><th scope=col>&lt;dbl&gt;</th><th scope=col>&lt;dbl&gt;</th></tr>\n",
       "</thead>\n",
       "<tbody>\n",
       "\t<tr><td>logistico</td><td>1.5</td><td>1.61</td></tr>\n",
       "</tbody>\n",
       "</table>\n"
      ],
      "text/latex": [
       "A data.frame: 1 × 3\n",
       "\\begin{tabular}{lll}\n",
       " variable & Gini & KS\\\\\n",
       " <fct> & <dbl> & <dbl>\\\\\n",
       "\\hline\n",
       "\t logistico & 1.5 & 1.61\\\\\n",
       "\\end{tabular}\n"
      ],
      "text/markdown": [
       "\n",
       "A data.frame: 1 × 3\n",
       "\n",
       "| variable &lt;fct&gt; | Gini &lt;dbl&gt; | KS &lt;dbl&gt; |\n",
       "|---|---|---|\n",
       "| logistico | 1.5 | 1.61 |\n",
       "\n"
      ],
      "text/plain": [
       "  variable  Gini KS  \n",
       "1 logistico 1.5  1.61"
      ]
     },
     "metadata": {},
     "output_type": "display_data"
    }
   ],
   "source": [
    "# indicadores mediante la segunda funcion\n",
    "calcula_indicadores(model_log)"
   ]
  },
  {
   "cell_type": "code",
   "execution_count": 30,
   "id": "255216e4-6422-40ce-ac45-0bc43e38d136",
   "metadata": {},
   "outputs": [
    {
     "data": {
      "text/html": [
       "<table class=\"dataframe\">\n",
       "<caption>A data.frame: 11 × 2</caption>\n",
       "<thead>\n",
       "\t<tr><th scope=col>variable2</th><th scope=col>pesos</th></tr>\n",
       "\t<tr><th scope=col>&lt;chr&gt;</th><th scope=col>&lt;dbl&gt;</th></tr>\n",
       "</thead>\n",
       "<tbody>\n",
       "\t<tr><td>Impulsivida           </td><td> 0.03589716</td></tr>\n",
       "\t<tr><td>Confianz              </td><td> 0.32441762</td></tr>\n",
       "\t<tr><td>Autocontro            </td><td> 1.29976507</td></tr>\n",
       "\t<tr><td>Emplead               </td><td> 3.16660964</td></tr>\n",
       "\t<tr><td>polinomico_aut_imp_con</td><td> 3.26576512</td></tr>\n",
       "\t<tr><td>Valor_prestam         </td><td> 4.01808063</td></tr>\n",
       "\t<tr><td>Tiempo_emple          </td><td> 6.50878777</td></tr>\n",
       "\t<tr><td>polinomico_aut_im     </td><td> 7.60513936</td></tr>\n",
       "\t<tr><td>div_conf_impu         </td><td>13.56135262</td></tr>\n",
       "\t<tr><td>Cuentas_otro          </td><td>14.29786703</td></tr>\n",
       "\t<tr><td>Saldo_cuent           </td><td>45.91631798</td></tr>\n",
       "</tbody>\n",
       "</table>\n"
      ],
      "text/latex": [
       "A data.frame: 11 × 2\n",
       "\\begin{tabular}{ll}\n",
       " variable2 & pesos\\\\\n",
       " <chr> & <dbl>\\\\\n",
       "\\hline\n",
       "\t Impulsivida            &  0.03589716\\\\\n",
       "\t Confianz               &  0.32441762\\\\\n",
       "\t Autocontro             &  1.29976507\\\\\n",
       "\t Emplead                &  3.16660964\\\\\n",
       "\t polinomico\\_aut\\_imp\\_con &  3.26576512\\\\\n",
       "\t Valor\\_prestam          &  4.01808063\\\\\n",
       "\t Tiempo\\_emple           &  6.50878777\\\\\n",
       "\t polinomico\\_aut\\_im      &  7.60513936\\\\\n",
       "\t div\\_conf\\_impu          & 13.56135262\\\\\n",
       "\t Cuentas\\_otro           & 14.29786703\\\\\n",
       "\t Saldo\\_cuent            & 45.91631798\\\\\n",
       "\\end{tabular}\n"
      ],
      "text/markdown": [
       "\n",
       "A data.frame: 11 × 2\n",
       "\n",
       "| variable2 &lt;chr&gt; | pesos &lt;dbl&gt; |\n",
       "|---|---|\n",
       "| Impulsivida            |  0.03589716 |\n",
       "| Confianz               |  0.32441762 |\n",
       "| Autocontro             |  1.29976507 |\n",
       "| Emplead                |  3.16660964 |\n",
       "| polinomico_aut_imp_con |  3.26576512 |\n",
       "| Valor_prestam          |  4.01808063 |\n",
       "| Tiempo_emple           |  6.50878777 |\n",
       "| polinomico_aut_im      |  7.60513936 |\n",
       "| div_conf_impu          | 13.56135262 |\n",
       "| Cuentas_otro           | 14.29786703 |\n",
       "| Saldo_cuent            | 45.91631798 |\n",
       "\n"
      ],
      "text/plain": [
       "   variable2              pesos      \n",
       "1  Impulsivida             0.03589716\n",
       "2  Confianz                0.32441762\n",
       "3  Autocontro              1.29976507\n",
       "4  Emplead                 3.16660964\n",
       "5  polinomico_aut_imp_con  3.26576512\n",
       "6  Valor_prestam           4.01808063\n",
       "7  Tiempo_emple            6.50878777\n",
       "8  polinomico_aut_im       7.60513936\n",
       "9  div_conf_impu          13.56135262\n",
       "10 Cuentas_otro           14.29786703\n",
       "11 Saldo_cuent            45.91631798"
      ]
     },
     "metadata": {},
     "output_type": "display_data"
    }
   ],
   "source": [
    "# pesos del modelo importancia mediante la tercera funcion\n",
    "pesos(model_log)"
   ]
  },
  {
   "cell_type": "code",
   "execution_count": 31,
   "id": "bddf87f7-724d-4423-a780-8944d94e445b",
   "metadata": {},
   "outputs": [
    {
     "data": {
      "text/plain": [
       "\n",
       "Call:\n",
       "glm(formula = formula, family = binomial(), data = x_train)\n",
       "\n",
       "Deviance Residuals: \n",
       "    Min       1Q   Median       3Q      Max  \n",
       "-0.5794  -0.5557  -0.5512  -0.5444   2.1623  \n",
       "\n",
       "Coefficients:\n",
       "                        Estimate Std. Error z value Pr(>|z|)    \n",
       "(Intercept)             -1.65432    0.31402  -5.268 1.38e-07 ***\n",
       "Empleado                -0.01664    0.04053  -0.411    0.681    \n",
       "Tiempo_empleo            0.09169    0.15577   0.589    0.556    \n",
       "Saldo_cuenta            -2.49994    1.59899  -1.563    0.118    \n",
       "Valor_prestamo          -0.03103    0.06709  -0.462    0.644    \n",
       "Cuentas_otros            0.07722    0.08851   0.872    0.383    \n",
       "Autocontrol              0.14341    0.54518   0.263    0.793    \n",
       "Impulsividad            -0.02522    0.57690  -0.044    0.965    \n",
       "Confianza                0.07358    0.55990   0.131    0.895    \n",
       "polinomico_aut_imp      -0.67217    1.05639  -0.636    0.525    \n",
       "div_conf_impul          -0.73793    0.86849  -0.850    0.396    \n",
       "polinomico_aut_imp_conf  0.31041    0.74446   0.417    0.677    \n",
       "---\n",
       "Signif. codes:  0 '***' 0.001 '**' 0.01 '*' 0.05 '.' 0.1 ' ' 1\n",
       "\n",
       "(Dispersion parameter for binomial family taken to be 1)\n",
       "\n",
       "    Null deviance: 41618  on 51119  degrees of freedom\n",
       "Residual deviance: 41611  on 51108  degrees of freedom\n",
       "AIC: 41635\n",
       "\n",
       "Number of Fisher Scoring iterations: 4\n"
      ]
     },
     "metadata": {},
     "output_type": "display_data"
    }
   ],
   "source": [
    "summary(model_log)"
   ]
  },
  {
   "cell_type": "code",
   "execution_count": null,
   "id": "6adfabcc-edcc-41cd-bdc7-3f857c5405ad",
   "metadata": {},
   "outputs": [],
   "source": []
  },
  {
   "cell_type": "markdown",
   "id": "d00fec4e-a2b6-4345-be47-912d353c08c8",
   "metadata": {},
   "source": [
    "### MODELO SIN INTERCEPTO"
   ]
  },
  {
   "cell_type": "code",
   "execution_count": 32,
   "id": "89c8d788-589f-4c06-866b-0c1911f752b1",
   "metadata": {},
   "outputs": [],
   "source": [
    "formula_si <- Imcumplimiento ~ Empleado+ Tiempo_empleo+ Saldo_cuenta+ Valor_prestamo+ Cuentas_otros+ Autocontrol+ Impulsividad+ Confianza+ polinomico_aut_imp+ div_conf_impul+ polinomico_aut_imp_conf-1"
   ]
  },
  {
   "cell_type": "code",
   "execution_count": 37,
   "id": "369c935f-041e-40ab-8b41-e58b4623313a",
   "metadata": {},
   "outputs": [
    {
     "data": {
      "text/plain": [
       "\n",
       "Call:  glm(formula = formula_si, family = binomial(), data = x_train)\n",
       "\n",
       "Coefficients:\n",
       "               Empleado            Tiempo_empleo             Saldo_cuenta  \n",
       "               -0.03598                  0.09673                 -2.61874  \n",
       "         Valor_prestamo            Cuentas_otros              Autocontrol  \n",
       "               -0.06560                  0.05562                 -2.05758  \n",
       "           Impulsividad                Confianza       polinomico_aut_imp  \n",
       "               -2.42501                 -0.58143                  1.26696  \n",
       "         div_conf_impul  polinomico_aut_imp_conf  \n",
       "               -1.84621                  1.94143  \n",
       "\n",
       "Degrees of Freedom: 51120 Total (i.e. Null);  51109 Residual\n",
       "Null Deviance:\t    70870 \n",
       "Residual Deviance: 41640 \tAIC: 41660"
      ]
     },
     "metadata": {},
     "output_type": "display_data"
    }
   ],
   "source": [
    "model_log_si <- glm(formula_si, data=x_train,family = binomial())\n",
    "model_log_si"
   ]
  },
  {
   "cell_type": "code",
   "execution_count": 39,
   "id": "5899177a-7002-4bce-af83-a39bbf92a1cf",
   "metadata": {},
   "outputs": [
    {
     "name": "stderr",
     "output_type": "stream",
     "text": [
      "Setting levels: control = 0, case = 1\n",
      "\n",
      "Setting direction: controls < cases\n",
      "\n"
     ]
    },
    {
     "data": {
      "text/html": [
       "<table class=\"dataframe\">\n",
       "<caption>A data.frame: 1 × 3</caption>\n",
       "<thead>\n",
       "\t<tr><th scope=col>variable</th><th scope=col>Gini</th><th scope=col>KS</th></tr>\n",
       "\t<tr><th scope=col>&lt;fct&gt;</th><th scope=col>&lt;dbl&gt;</th><th scope=col>&lt;dbl&gt;</th></tr>\n",
       "</thead>\n",
       "<tbody>\n",
       "\t<tr><td>logistico</td><td>1.1</td><td>1.47</td></tr>\n",
       "</tbody>\n",
       "</table>\n"
      ],
      "text/latex": [
       "A data.frame: 1 × 3\n",
       "\\begin{tabular}{lll}\n",
       " variable & Gini & KS\\\\\n",
       " <fct> & <dbl> & <dbl>\\\\\n",
       "\\hline\n",
       "\t logistico & 1.1 & 1.47\\\\\n",
       "\\end{tabular}\n"
      ],
      "text/markdown": [
       "\n",
       "A data.frame: 1 × 3\n",
       "\n",
       "| variable &lt;fct&gt; | Gini &lt;dbl&gt; | KS &lt;dbl&gt; |\n",
       "|---|---|---|\n",
       "| logistico | 1.1 | 1.47 |\n",
       "\n"
      ],
      "text/plain": [
       "  variable  Gini KS  \n",
       "1 logistico 1.1  1.47"
      ]
     },
     "metadata": {},
     "output_type": "display_data"
    }
   ],
   "source": [
    "calcula_indicadores(model_log_si)"
   ]
  },
  {
   "cell_type": "code",
   "execution_count": 40,
   "id": "0a1411e6-a76a-46ff-8a1c-2d3211e5a0fd",
   "metadata": {},
   "outputs": [
    {
     "data": {
      "text/html": [
       "<table class=\"dataframe\">\n",
       "<caption>A data.frame: 10 × 2</caption>\n",
       "<thead>\n",
       "\t<tr><th scope=col>variable2</th><th scope=col>pesos</th></tr>\n",
       "\t<tr><th scope=col>&lt;chr&gt;</th><th scope=col>&lt;dbl&gt;</th></tr>\n",
       "</thead>\n",
       "<tbody>\n",
       "\t<tr><td>Tiempo_emple          </td><td> 0.3993791</td></tr>\n",
       "\t<tr><td>Cuentas_otro          </td><td> 0.4099016</td></tr>\n",
       "\t<tr><td>Valor_prestam         </td><td> 1.0072787</td></tr>\n",
       "\t<tr><td>Confianz              </td><td> 1.1535689</td></tr>\n",
       "\t<tr><td>polinomico_aut_im     </td><td> 1.6555813</td></tr>\n",
       "\t<tr><td>Saldo_cuent           </td><td> 2.7673472</td></tr>\n",
       "\t<tr><td>div_conf_impu         </td><td> 4.6321710</td></tr>\n",
       "\t<tr><td>polinomico_aut_imp_con</td><td> 8.6190920</td></tr>\n",
       "\t<tr><td>Autocontro            </td><td>34.9290029</td></tr>\n",
       "\t<tr><td>Impulsivida           </td><td>44.4266774</td></tr>\n",
       "</tbody>\n",
       "</table>\n"
      ],
      "text/latex": [
       "A data.frame: 10 × 2\n",
       "\\begin{tabular}{ll}\n",
       " variable2 & pesos\\\\\n",
       " <chr> & <dbl>\\\\\n",
       "\\hline\n",
       "\t Tiempo\\_emple           &  0.3993791\\\\\n",
       "\t Cuentas\\_otro           &  0.4099016\\\\\n",
       "\t Valor\\_prestam          &  1.0072787\\\\\n",
       "\t Confianz               &  1.1535689\\\\\n",
       "\t polinomico\\_aut\\_im      &  1.6555813\\\\\n",
       "\t Saldo\\_cuent            &  2.7673472\\\\\n",
       "\t div\\_conf\\_impu          &  4.6321710\\\\\n",
       "\t polinomico\\_aut\\_imp\\_con &  8.6190920\\\\\n",
       "\t Autocontro             & 34.9290029\\\\\n",
       "\t Impulsivida            & 44.4266774\\\\\n",
       "\\end{tabular}\n"
      ],
      "text/markdown": [
       "\n",
       "A data.frame: 10 × 2\n",
       "\n",
       "| variable2 &lt;chr&gt; | pesos &lt;dbl&gt; |\n",
       "|---|---|\n",
       "| Tiempo_emple           |  0.3993791 |\n",
       "| Cuentas_otro           |  0.4099016 |\n",
       "| Valor_prestam          |  1.0072787 |\n",
       "| Confianz               |  1.1535689 |\n",
       "| polinomico_aut_im      |  1.6555813 |\n",
       "| Saldo_cuent            |  2.7673472 |\n",
       "| div_conf_impu          |  4.6321710 |\n",
       "| polinomico_aut_imp_con |  8.6190920 |\n",
       "| Autocontro             | 34.9290029 |\n",
       "| Impulsivida            | 44.4266774 |\n",
       "\n"
      ],
      "text/plain": [
       "   variable2              pesos     \n",
       "1  Tiempo_emple            0.3993791\n",
       "2  Cuentas_otro            0.4099016\n",
       "3  Valor_prestam           1.0072787\n",
       "4  Confianz                1.1535689\n",
       "5  polinomico_aut_im       1.6555813\n",
       "6  Saldo_cuent             2.7673472\n",
       "7  div_conf_impu           4.6321710\n",
       "8  polinomico_aut_imp_con  8.6190920\n",
       "9  Autocontro             34.9290029\n",
       "10 Impulsivida            44.4266774"
      ]
     },
     "metadata": {},
     "output_type": "display_data"
    }
   ],
   "source": [
    "pesos(model_log_si)"
   ]
  },
  {
   "cell_type": "code",
   "execution_count": 41,
   "id": "c755fdaf-25b4-4dfc-8cc2-16f30edf5ce6",
   "metadata": {},
   "outputs": [
    {
     "data": {
      "text/plain": [
       "\n",
       "Call:\n",
       "glm(formula = formula_si, family = binomial(), data = x_train)\n",
       "\n",
       "Deviance Residuals: \n",
       "    Min       1Q   Median       3Q      Max  \n",
       "-0.7154  -0.5593  -0.5492  -0.5337   2.2307  \n",
       "\n",
       "Coefficients:\n",
       "                        Estimate Std. Error z value Pr(>|z|)    \n",
       "Empleado                -0.03598    0.04021  -0.895  0.37087    \n",
       "Tiempo_empleo            0.09673    0.15581   0.621  0.53474    \n",
       "Saldo_cuenta            -2.61874    1.60254  -1.634  0.10223    \n",
       "Valor_prestamo          -0.06560    0.06654  -0.986  0.32419    \n",
       "Cuentas_otros            0.05562    0.08844   0.629  0.52940    \n",
       "Autocontrol             -2.05758    0.35441  -5.806 6.41e-09 ***\n",
       "Impulsividad            -2.42501    0.37037  -6.547 5.85e-11 ***\n",
       "Confianza               -0.58143    0.55109  -1.055  0.29140    \n",
       "polinomico_aut_imp       1.26696    1.00238   1.264  0.20625    \n",
       "div_conf_impul          -1.84621    0.87325  -2.114  0.03450 *  \n",
       "polinomico_aut_imp_conf  1.94143    0.67319   2.884  0.00393 ** \n",
       "---\n",
       "Signif. codes:  0 '***' 0.001 '**' 0.01 '*' 0.05 '.' 0.1 ' ' 1\n",
       "\n",
       "(Dispersion parameter for binomial family taken to be 1)\n",
       "\n",
       "    Null deviance: 70867  on 51120  degrees of freedom\n",
       "Residual deviance: 41639  on 51109  degrees of freedom\n",
       "AIC: 41661\n",
       "\n",
       "Number of Fisher Scoring iterations: 4\n"
      ]
     },
     "metadata": {},
     "output_type": "display_data"
    }
   ],
   "source": [
    "summary(model_log_si)"
   ]
  },
  {
   "cell_type": "code",
   "execution_count": null,
   "id": "49d8240b-4f8c-45b1-834c-d6ac50ee7fe8",
   "metadata": {},
   "outputs": [],
   "source": []
  }
 ],
 "metadata": {
  "kernelspec": {
   "display_name": "R",
   "language": "R",
   "name": "ir"
  },
  "language_info": {
   "codemirror_mode": "r",
   "file_extension": ".r",
   "mimetype": "text/x-r-source",
   "name": "R",
   "pygments_lexer": "r",
   "version": "3.6.1"
  }
 },
 "nbformat": 4,
 "nbformat_minor": 5
}
