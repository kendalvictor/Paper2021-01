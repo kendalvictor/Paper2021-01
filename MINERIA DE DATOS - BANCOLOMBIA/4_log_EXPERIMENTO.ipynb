{
 "cells": [
  {
   "cell_type": "code",
   "execution_count": 1,
   "id": "42ae479b-e86e-4735-837e-f6d147e99b12",
   "metadata": {},
   "outputs": [],
   "source": [
    "# Nativos\n",
    "import random as rn\n",
    "import os\n",
    "import sys\n",
    "import gc\n",
    "\n",
    "#calculo\n",
    "import numpy as np\n",
    "import pandas as pd\n",
    "import scipy\n",
    "\n",
    "import pandas as pd\n",
    "import scorecardpy as sc\n",
    "\n",
    "SEED = 29082013\n",
    "os.environ['PYTHONHASHSEED']=str(SEED)\n",
    "np.random.seed(SEED)\n",
    "rn.seed(SEED)\n"
   ]
  },
  {
   "cell_type": "code",
   "execution_count": 2,
   "id": "801bea8d-50a7-4a50-af9b-6fe3c56e0ef3",
   "metadata": {},
   "outputs": [
    {
     "data": {
      "text/plain": [
       "((54315, 59), (9586, 59), (54315, 1), (9586, 1))"
      ]
     },
     "execution_count": 2,
     "metadata": {},
     "output_type": "execute_result"
    }
   ],
   "source": [
    "x_train = pd.read_csv(\"X_train.csv\")\n",
    "x_valid = pd.read_csv(\"X_valid.csv\")\n",
    "\n",
    "y_train = pd.read_csv(\"y_train.csv\")\n",
    "y_valid = pd.read_csv(\"y_valid.csv\")\n",
    "\n",
    "x_train.shape, x_valid.shape, y_train.shape, y_valid.shape"
   ]
  },
  {
   "cell_type": "code",
   "execution_count": 3,
   "id": "813eef17-49d7-472a-b487-726087e4f1c3",
   "metadata": {},
   "outputs": [],
   "source": [
    "def calcular_pesos(modelo):\n",
    "    coef_model = pd.DataFrame(modelo.tvalues, columns=['t_value'])\n",
    "    coef_model['t_value2'] = np.power(coef_model['t_value'],2)\n",
    "    coef_model['total'] = sum(coef_model['t_value2'])\n",
    "    coef_model['part'] = coef_model['t_value2'] / coef_model['total']\n",
    "    coef_model['pesos'] = coef_model['part'] * 100\n",
    "    return coef_model['pesos'].sort_values(ascending=True)"
   ]
  },
  {
   "cell_type": "markdown",
   "id": "7b5a3e62-7c46-4189-b4d5-467a76f6c52a",
   "metadata": {},
   "source": [
    "### >> Modleo mayor p-value"
   ]
  },
  {
   "cell_type": "code",
   "execution_count": 4,
   "id": "17fad8f0-8b9f-4d08-a450-99d7e418352b",
   "metadata": {},
   "outputs": [],
   "source": [
    "cols_aporte = [\n",
    " 'valor_prestamo_x_impulsividad_entre_cuentas_otros', \n",
    " 'valor_prestamo_x_confianza_entre_cuentas_otros',\n",
    " 'saldo_cuenta_x_confianza_entre_tiempo_empleo', \n",
    " 'autocontrol_x_confianza', \n",
    " 'impulsividad_x_confianza',\n",
    " 'Autocontrol',\n",
    " 'Impulsividad',\n",
    " 'Confianza' \n",
    "]"
   ]
  },
  {
   "cell_type": "code",
   "execution_count": 5,
   "id": "d21cc8f4-e2a7-487a-820d-055eeae6fde0",
   "metadata": {},
   "outputs": [
    {
     "data": {
      "text/html": [
       "<style  type=\"text/css\" >\n",
       "#T_cdadc_row0_col0,#T_cdadc_row1_col1,#T_cdadc_row2_col2,#T_cdadc_row3_col3,#T_cdadc_row4_col4,#T_cdadc_row5_col5,#T_cdadc_row6_col6,#T_cdadc_row7_col7,#T_cdadc_row8_col8{\n",
       "            background-color:  #b40426;\n",
       "            color:  #f1f1f1;\n",
       "        }#T_cdadc_row0_col1,#T_cdadc_row1_col0{\n",
       "            background-color:  #cd423b;\n",
       "            color:  #f1f1f1;\n",
       "        }#T_cdadc_row0_col2,#T_cdadc_row0_col7,#T_cdadc_row1_col6,#T_cdadc_row2_col0,#T_cdadc_row2_col6,#T_cdadc_row3_col6,#T_cdadc_row6_col1,#T_cdadc_row6_col2,#T_cdadc_row6_col3,#T_cdadc_row7_col0{\n",
       "            background-color:  #3c4ec2;\n",
       "            color:  #f1f1f1;\n",
       "        }#T_cdadc_row0_col3,#T_cdadc_row1_col2,#T_cdadc_row2_col1,#T_cdadc_row3_col0,#T_cdadc_row5_col6,#T_cdadc_row5_col7,#T_cdadc_row6_col5,#T_cdadc_row7_col5{\n",
       "            background-color:  #3d50c3;\n",
       "            color:  #f1f1f1;\n",
       "        }#T_cdadc_row0_col4,#T_cdadc_row1_col3,#T_cdadc_row1_col4,#T_cdadc_row3_col1,#T_cdadc_row4_col0,#T_cdadc_row4_col1{\n",
       "            background-color:  #6687ed;\n",
       "            color:  #000000;\n",
       "        }#T_cdadc_row0_col5,#T_cdadc_row1_col5,#T_cdadc_row2_col5,#T_cdadc_row4_col5,#T_cdadc_row5_col0,#T_cdadc_row5_col1,#T_cdadc_row5_col2,#T_cdadc_row5_col4{\n",
       "            background-color:  #3e51c5;\n",
       "            color:  #f1f1f1;\n",
       "        }#T_cdadc_row0_col6,#T_cdadc_row1_col7,#T_cdadc_row6_col0,#T_cdadc_row7_col1{\n",
       "            background-color:  #799cf8;\n",
       "            color:  #000000;\n",
       "        }#T_cdadc_row0_col8,#T_cdadc_row1_col8,#T_cdadc_row2_col8,#T_cdadc_row3_col8,#T_cdadc_row4_col8,#T_cdadc_row5_col8,#T_cdadc_row6_col7,#T_cdadc_row6_col8,#T_cdadc_row7_col6,#T_cdadc_row7_col8,#T_cdadc_row8_col0,#T_cdadc_row8_col1,#T_cdadc_row8_col2,#T_cdadc_row8_col3,#T_cdadc_row8_col4,#T_cdadc_row8_col5,#T_cdadc_row8_col6,#T_cdadc_row8_col7{\n",
       "            background-color:  #3b4cc0;\n",
       "            color:  #f1f1f1;\n",
       "        }#T_cdadc_row2_col3,#T_cdadc_row2_col7,#T_cdadc_row3_col2,#T_cdadc_row7_col2{\n",
       "            background-color:  #4358cb;\n",
       "            color:  #f1f1f1;\n",
       "        }#T_cdadc_row2_col4,#T_cdadc_row4_col2{\n",
       "            background-color:  #4257c9;\n",
       "            color:  #f1f1f1;\n",
       "        }#T_cdadc_row3_col4,#T_cdadc_row4_col3{\n",
       "            background-color:  #dbdcde;\n",
       "            color:  #000000;\n",
       "        }#T_cdadc_row3_col5,#T_cdadc_row5_col3{\n",
       "            background-color:  #f7aa8c;\n",
       "            color:  #000000;\n",
       "        }#T_cdadc_row3_col7,#T_cdadc_row4_col6,#T_cdadc_row4_col7,#T_cdadc_row6_col4,#T_cdadc_row7_col3,#T_cdadc_row7_col4{\n",
       "            background-color:  #f7ac8e;\n",
       "            color:  #000000;\n",
       "        }</style><table id=\"T_cdadc_\" ><thead>    <tr>        <th class=\"blank level0\" ></th>        <th class=\"col_heading level0 col0\" >valor_prestamo_x_impulsividad_entre_cuentas_otros</th>        <th class=\"col_heading level0 col1\" >valor_prestamo_x_confianza_entre_cuentas_otros</th>        <th class=\"col_heading level0 col2\" >saldo_cuenta_x_confianza_entre_tiempo_empleo</th>        <th class=\"col_heading level0 col3\" >autocontrol_x_confianza</th>        <th class=\"col_heading level0 col4\" >impulsividad_x_confianza</th>        <th class=\"col_heading level0 col5\" >Autocontrol</th>        <th class=\"col_heading level0 col6\" >Impulsividad</th>        <th class=\"col_heading level0 col7\" >Confianza</th>        <th class=\"col_heading level0 col8\" >target</th>    </tr></thead><tbody>\n",
       "                <tr>\n",
       "                        <th id=\"T_cdadc_level0_row0\" class=\"row_heading level0 row0\" >valor_prestamo_x_impulsividad_entre_cuentas_otros</th>\n",
       "                        <td id=\"T_cdadc_row0_col0\" class=\"data row0 col0\" >1.00000</td>\n",
       "                        <td id=\"T_cdadc_row0_col1\" class=\"data row0 col1\" >0.92748</td>\n",
       "                        <td id=\"T_cdadc_row0_col2\" class=\"data row0 col2\" >0.00139</td>\n",
       "                        <td id=\"T_cdadc_row0_col3\" class=\"data row0 col3\" >0.00635</td>\n",
       "                        <td id=\"T_cdadc_row0_col4\" class=\"data row0 col4\" >0.13367</td>\n",
       "                        <td id=\"T_cdadc_row0_col5\" class=\"data row0 col5\" >0.00822</td>\n",
       "                        <td id=\"T_cdadc_row0_col6\" class=\"data row0 col6\" >0.18930</td>\n",
       "                        <td id=\"T_cdadc_row0_col7\" class=\"data row0 col7\" >0.00073</td>\n",
       "                        <td id=\"T_cdadc_row0_col8\" class=\"data row0 col8\" >-0.00175</td>\n",
       "            </tr>\n",
       "            <tr>\n",
       "                        <th id=\"T_cdadc_level0_row1\" class=\"row_heading level0 row1\" >valor_prestamo_x_confianza_entre_cuentas_otros</th>\n",
       "                        <td id=\"T_cdadc_row1_col0\" class=\"data row1 col0\" >0.92748</td>\n",
       "                        <td id=\"T_cdadc_row1_col1\" class=\"data row1 col1\" >1.00000</td>\n",
       "                        <td id=\"T_cdadc_row1_col2\" class=\"data row1 col2\" >0.00612</td>\n",
       "                        <td id=\"T_cdadc_row1_col3\" class=\"data row1 col3\" >0.13648</td>\n",
       "                        <td id=\"T_cdadc_row1_col4\" class=\"data row1 col4\" >0.13321</td>\n",
       "                        <td id=\"T_cdadc_row1_col5\" class=\"data row1 col5\" >0.00792</td>\n",
       "                        <td id=\"T_cdadc_row1_col6\" class=\"data row1 col6\" >0.00182</td>\n",
       "                        <td id=\"T_cdadc_row1_col7\" class=\"data row1 col7\" >0.18791</td>\n",
       "                        <td id=\"T_cdadc_row1_col8\" class=\"data row1 col8\" >-0.00185</td>\n",
       "            </tr>\n",
       "            <tr>\n",
       "                        <th id=\"T_cdadc_level0_row2\" class=\"row_heading level0 row2\" >saldo_cuenta_x_confianza_entre_tiempo_empleo</th>\n",
       "                        <td id=\"T_cdadc_row2_col0\" class=\"data row2 col0\" >0.00139</td>\n",
       "                        <td id=\"T_cdadc_row2_col1\" class=\"data row2 col1\" >0.00612</td>\n",
       "                        <td id=\"T_cdadc_row2_col2\" class=\"data row2 col2\" >1.00000</td>\n",
       "                        <td id=\"T_cdadc_row2_col3\" class=\"data row2 col3\" >0.02300</td>\n",
       "                        <td id=\"T_cdadc_row2_col4\" class=\"data row2 col4\" >0.01920</td>\n",
       "                        <td id=\"T_cdadc_row2_col5\" class=\"data row2 col5\" >0.00749</td>\n",
       "                        <td id=\"T_cdadc_row2_col6\" class=\"data row2 col6\" >0.00145</td>\n",
       "                        <td id=\"T_cdadc_row2_col7\" class=\"data row2 col7\" >0.02488</td>\n",
       "                        <td id=\"T_cdadc_row2_col8\" class=\"data row2 col8\" >-0.00394</td>\n",
       "            </tr>\n",
       "            <tr>\n",
       "                        <th id=\"T_cdadc_level0_row3\" class=\"row_heading level0 row3\" >autocontrol_x_confianza</th>\n",
       "                        <td id=\"T_cdadc_row3_col0\" class=\"data row3 col0\" >0.00635</td>\n",
       "                        <td id=\"T_cdadc_row3_col1\" class=\"data row3 col1\" >0.13648</td>\n",
       "                        <td id=\"T_cdadc_row3_col2\" class=\"data row3 col2\" >0.02300</td>\n",
       "                        <td id=\"T_cdadc_row3_col3\" class=\"data row3 col3\" >1.00000</td>\n",
       "                        <td id=\"T_cdadc_row3_col4\" class=\"data row3 col4\" >0.49199</td>\n",
       "                        <td id=\"T_cdadc_row3_col5\" class=\"data row3 col5\" >0.70467</td>\n",
       "                        <td id=\"T_cdadc_row3_col6\" class=\"data row3 col6\" >0.00296</td>\n",
       "                        <td id=\"T_cdadc_row3_col7\" class=\"data row3 col7\" >0.69984</td>\n",
       "                        <td id=\"T_cdadc_row3_col8\" class=\"data row3 col8\" >-0.00248</td>\n",
       "            </tr>\n",
       "            <tr>\n",
       "                        <th id=\"T_cdadc_level0_row4\" class=\"row_heading level0 row4\" >impulsividad_x_confianza</th>\n",
       "                        <td id=\"T_cdadc_row4_col0\" class=\"data row4 col0\" >0.13367</td>\n",
       "                        <td id=\"T_cdadc_row4_col1\" class=\"data row4 col1\" >0.13321</td>\n",
       "                        <td id=\"T_cdadc_row4_col2\" class=\"data row4 col2\" >0.01920</td>\n",
       "                        <td id=\"T_cdadc_row4_col3\" class=\"data row4 col3\" >0.49199</td>\n",
       "                        <td id=\"T_cdadc_row4_col4\" class=\"data row4 col4\" >1.00000</td>\n",
       "                        <td id=\"T_cdadc_row4_col5\" class=\"data row4 col5\" >0.00897</td>\n",
       "                        <td id=\"T_cdadc_row4_col6\" class=\"data row4 col6\" >0.70017</td>\n",
       "                        <td id=\"T_cdadc_row4_col7\" class=\"data row4 col7\" >0.69816</td>\n",
       "                        <td id=\"T_cdadc_row4_col8\" class=\"data row4 col8\" >-0.00274</td>\n",
       "            </tr>\n",
       "            <tr>\n",
       "                        <th id=\"T_cdadc_level0_row5\" class=\"row_heading level0 row5\" >Autocontrol</th>\n",
       "                        <td id=\"T_cdadc_row5_col0\" class=\"data row5 col0\" >0.00822</td>\n",
       "                        <td id=\"T_cdadc_row5_col1\" class=\"data row5 col1\" >0.00792</td>\n",
       "                        <td id=\"T_cdadc_row5_col2\" class=\"data row5 col2\" >0.00749</td>\n",
       "                        <td id=\"T_cdadc_row5_col3\" class=\"data row5 col3\" >0.70467</td>\n",
       "                        <td id=\"T_cdadc_row5_col4\" class=\"data row5 col4\" >0.00897</td>\n",
       "                        <td id=\"T_cdadc_row5_col5\" class=\"data row5 col5\" >1.00000</td>\n",
       "                        <td id=\"T_cdadc_row5_col6\" class=\"data row5 col6\" >0.00585</td>\n",
       "                        <td id=\"T_cdadc_row5_col7\" class=\"data row5 col7\" >0.00627</td>\n",
       "                        <td id=\"T_cdadc_row5_col8\" class=\"data row5 col8\" >-0.00449</td>\n",
       "            </tr>\n",
       "            <tr>\n",
       "                        <th id=\"T_cdadc_level0_row6\" class=\"row_heading level0 row6\" >Impulsividad</th>\n",
       "                        <td id=\"T_cdadc_row6_col0\" class=\"data row6 col0\" >0.18930</td>\n",
       "                        <td id=\"T_cdadc_row6_col1\" class=\"data row6 col1\" >0.00182</td>\n",
       "                        <td id=\"T_cdadc_row6_col2\" class=\"data row6 col2\" >0.00145</td>\n",
       "                        <td id=\"T_cdadc_row6_col3\" class=\"data row6 col3\" >0.00296</td>\n",
       "                        <td id=\"T_cdadc_row6_col4\" class=\"data row6 col4\" >0.70017</td>\n",
       "                        <td id=\"T_cdadc_row6_col5\" class=\"data row6 col5\" >0.00585</td>\n",
       "                        <td id=\"T_cdadc_row6_col6\" class=\"data row6 col6\" >1.00000</td>\n",
       "                        <td id=\"T_cdadc_row6_col7\" class=\"data row6 col7\" >-0.00233</td>\n",
       "                        <td id=\"T_cdadc_row6_col8\" class=\"data row6 col8\" >-0.00322</td>\n",
       "            </tr>\n",
       "            <tr>\n",
       "                        <th id=\"T_cdadc_level0_row7\" class=\"row_heading level0 row7\" >Confianza</th>\n",
       "                        <td id=\"T_cdadc_row7_col0\" class=\"data row7 col0\" >0.00073</td>\n",
       "                        <td id=\"T_cdadc_row7_col1\" class=\"data row7 col1\" >0.18791</td>\n",
       "                        <td id=\"T_cdadc_row7_col2\" class=\"data row7 col2\" >0.02488</td>\n",
       "                        <td id=\"T_cdadc_row7_col3\" class=\"data row7 col3\" >0.69984</td>\n",
       "                        <td id=\"T_cdadc_row7_col4\" class=\"data row7 col4\" >0.69816</td>\n",
       "                        <td id=\"T_cdadc_row7_col5\" class=\"data row7 col5\" >0.00627</td>\n",
       "                        <td id=\"T_cdadc_row7_col6\" class=\"data row7 col6\" >-0.00233</td>\n",
       "                        <td id=\"T_cdadc_row7_col7\" class=\"data row7 col7\" >1.00000</td>\n",
       "                        <td id=\"T_cdadc_row7_col8\" class=\"data row7 col8\" >-0.00062</td>\n",
       "            </tr>\n",
       "            <tr>\n",
       "                        <th id=\"T_cdadc_level0_row8\" class=\"row_heading level0 row8\" >target</th>\n",
       "                        <td id=\"T_cdadc_row8_col0\" class=\"data row8 col0\" >-0.00175</td>\n",
       "                        <td id=\"T_cdadc_row8_col1\" class=\"data row8 col1\" >-0.00185</td>\n",
       "                        <td id=\"T_cdadc_row8_col2\" class=\"data row8 col2\" >-0.00394</td>\n",
       "                        <td id=\"T_cdadc_row8_col3\" class=\"data row8 col3\" >-0.00248</td>\n",
       "                        <td id=\"T_cdadc_row8_col4\" class=\"data row8 col4\" >-0.00274</td>\n",
       "                        <td id=\"T_cdadc_row8_col5\" class=\"data row8 col5\" >-0.00449</td>\n",
       "                        <td id=\"T_cdadc_row8_col6\" class=\"data row8 col6\" >-0.00322</td>\n",
       "                        <td id=\"T_cdadc_row8_col7\" class=\"data row8 col7\" >-0.00062</td>\n",
       "                        <td id=\"T_cdadc_row8_col8\" class=\"data row8 col8\" >1.00000</td>\n",
       "            </tr>\n",
       "    </tbody></table>"
      ],
      "text/plain": [
       "<pandas.io.formats.style.Styler at 0x198dd004cd0>"
      ]
     },
     "execution_count": 5,
     "metadata": {},
     "output_type": "execute_result"
    }
   ],
   "source": [
    "x_train['target'] = y_train.values\n",
    "matriz_corr = x_train[cols_aporte + ['target']].corr(method='pearson')\n",
    "\n",
    "matriz_corr.style.background_gradient(\n",
    "    cmap='coolwarm', axis=None\n",
    ").set_precision(5)"
   ]
  },
  {
   "cell_type": "code",
   "execution_count": 6,
   "id": "e288e8dc-164d-4b4d-b9ba-5ba5e1c46cf1",
   "metadata": {},
   "outputs": [
    {
     "data": {
      "text/html": [
       "<style  type=\"text/css\" >\n",
       "#T_3d197_row0_col0{\n",
       "            background-color:  #b40426;\n",
       "            color:  #f1f1f1;\n",
       "        }#T_3d197_row1_col0,#T_3d197_row2_col0,#T_3d197_row3_col0,#T_3d197_row4_col0,#T_3d197_row5_col0,#T_3d197_row6_col0,#T_3d197_row7_col0,#T_3d197_row8_col0{\n",
       "            background-color:  #3b4cc0;\n",
       "            color:  #f1f1f1;\n",
       "        }</style><table id=\"T_3d197_\" ><thead>    <tr>        <th class=\"blank level0\" ></th>        <th class=\"col_heading level0 col0\" >target</th>    </tr></thead><tbody>\n",
       "                <tr>\n",
       "                        <th id=\"T_3d197_level0_row0\" class=\"row_heading level0 row0\" >target</th>\n",
       "                        <td id=\"T_3d197_row0_col0\" class=\"data row0 col0\" >1.00000</td>\n",
       "            </tr>\n",
       "            <tr>\n",
       "                        <th id=\"T_3d197_level0_row1\" class=\"row_heading level0 row1\" >Autocontrol</th>\n",
       "                        <td id=\"T_3d197_row1_col0\" class=\"data row1 col0\" >0.00449</td>\n",
       "            </tr>\n",
       "            <tr>\n",
       "                        <th id=\"T_3d197_level0_row2\" class=\"row_heading level0 row2\" >saldo_cuenta_x_confianza_entre_tiempo_empleo</th>\n",
       "                        <td id=\"T_3d197_row2_col0\" class=\"data row2 col0\" >0.00394</td>\n",
       "            </tr>\n",
       "            <tr>\n",
       "                        <th id=\"T_3d197_level0_row3\" class=\"row_heading level0 row3\" >Impulsividad</th>\n",
       "                        <td id=\"T_3d197_row3_col0\" class=\"data row3 col0\" >0.00322</td>\n",
       "            </tr>\n",
       "            <tr>\n",
       "                        <th id=\"T_3d197_level0_row4\" class=\"row_heading level0 row4\" >impulsividad_x_confianza</th>\n",
       "                        <td id=\"T_3d197_row4_col0\" class=\"data row4 col0\" >0.00274</td>\n",
       "            </tr>\n",
       "            <tr>\n",
       "                        <th id=\"T_3d197_level0_row5\" class=\"row_heading level0 row5\" >autocontrol_x_confianza</th>\n",
       "                        <td id=\"T_3d197_row5_col0\" class=\"data row5 col0\" >0.00248</td>\n",
       "            </tr>\n",
       "            <tr>\n",
       "                        <th id=\"T_3d197_level0_row6\" class=\"row_heading level0 row6\" >valor_prestamo_x_confianza_entre_cuentas_otros</th>\n",
       "                        <td id=\"T_3d197_row6_col0\" class=\"data row6 col0\" >0.00185</td>\n",
       "            </tr>\n",
       "            <tr>\n",
       "                        <th id=\"T_3d197_level0_row7\" class=\"row_heading level0 row7\" >valor_prestamo_x_impulsividad_entre_cuentas_otros</th>\n",
       "                        <td id=\"T_3d197_row7_col0\" class=\"data row7 col0\" >0.00175</td>\n",
       "            </tr>\n",
       "            <tr>\n",
       "                        <th id=\"T_3d197_level0_row8\" class=\"row_heading level0 row8\" >Confianza</th>\n",
       "                        <td id=\"T_3d197_row8_col0\" class=\"data row8 col0\" >0.00062</td>\n",
       "            </tr>\n",
       "    </tbody></table>"
      ],
      "text/plain": [
       "<pandas.io.formats.style.Styler at 0x198dfe34a90>"
      ]
     },
     "execution_count": 6,
     "metadata": {},
     "output_type": "execute_result"
    }
   ],
   "source": [
    "pd.DataFrame(matriz_corr['target'].abs().sort_values(ascending=False)).style.background_gradient(\n",
    "    cmap='coolwarm', axis=None\n",
    ").set_precision(5)"
   ]
  },
  {
   "cell_type": "code",
   "execution_count": 7,
   "id": "f18fd809-066e-4a39-99b9-d3e7bf92b239",
   "metadata": {},
   "outputs": [
    {
     "data": {
      "text/html": [
       "<style  type=\"text/css\" >\n",
       "#T_23e94_row0_col0,#T_23e94_row1_col1,#T_23e94_row2_col2,#T_23e94_row3_col3,#T_23e94_row4_col4,#T_23e94_row5_col5,#T_23e94_row6_col6,#T_23e94_row7_col7,#T_23e94_row8_col8{\n",
       "            background-color:  #b40426;\n",
       "            color:  #f1f1f1;\n",
       "        }#T_23e94_row0_col1,#T_23e94_row1_col0{\n",
       "            background-color:  #c0282f;\n",
       "            color:  #f1f1f1;\n",
       "        }#T_23e94_row0_col2,#T_23e94_row0_col3,#T_23e94_row2_col0,#T_23e94_row3_col0,#T_23e94_row3_col6,#T_23e94_row5_col6,#T_23e94_row5_col7,#T_23e94_row6_col3,#T_23e94_row6_col5,#T_23e94_row7_col5{\n",
       "            background-color:  #3d50c3;\n",
       "            color:  #f1f1f1;\n",
       "        }#T_23e94_row0_col4,#T_23e94_row1_col4,#T_23e94_row4_col0,#T_23e94_row4_col1{\n",
       "            background-color:  #5875e1;\n",
       "            color:  #000000;\n",
       "        }#T_23e94_row0_col5,#T_23e94_row1_col5,#T_23e94_row4_col5,#T_23e94_row5_col0,#T_23e94_row5_col1,#T_23e94_row5_col4{\n",
       "            background-color:  #3e51c5;\n",
       "            color:  #f1f1f1;\n",
       "        }#T_23e94_row0_col6,#T_23e94_row1_col7,#T_23e94_row6_col0,#T_23e94_row7_col1{\n",
       "            background-color:  #6485ec;\n",
       "            color:  #000000;\n",
       "        }#T_23e94_row0_col7,#T_23e94_row1_col6,#T_23e94_row2_col5,#T_23e94_row2_col6,#T_23e94_row5_col2,#T_23e94_row6_col1,#T_23e94_row6_col2,#T_23e94_row7_col0{\n",
       "            background-color:  #3c4ec2;\n",
       "            color:  #f1f1f1;\n",
       "        }#T_23e94_row0_col8,#T_23e94_row1_col8,#T_23e94_row2_col8,#T_23e94_row3_col8,#T_23e94_row4_col8,#T_23e94_row5_col8,#T_23e94_row6_col7,#T_23e94_row6_col8,#T_23e94_row7_col6,#T_23e94_row7_col8,#T_23e94_row8_col0,#T_23e94_row8_col1,#T_23e94_row8_col2,#T_23e94_row8_col3,#T_23e94_row8_col4,#T_23e94_row8_col5,#T_23e94_row8_col6,#T_23e94_row8_col7{\n",
       "            background-color:  #3b4cc0;\n",
       "            color:  #f1f1f1;\n",
       "        }#T_23e94_row1_col2,#T_23e94_row2_col1{\n",
       "            background-color:  #3f53c6;\n",
       "            color:  #f1f1f1;\n",
       "        }#T_23e94_row1_col3,#T_23e94_row3_col1{\n",
       "            background-color:  #5977e3;\n",
       "            color:  #000000;\n",
       "        }#T_23e94_row2_col3,#T_23e94_row2_col4,#T_23e94_row3_col2,#T_23e94_row4_col2{\n",
       "            background-color:  #4961d2;\n",
       "            color:  #f1f1f1;\n",
       "        }#T_23e94_row2_col7,#T_23e94_row7_col2{\n",
       "            background-color:  #4e68d8;\n",
       "            color:  #000000;\n",
       "        }#T_23e94_row3_col4,#T_23e94_row4_col3{\n",
       "            background-color:  #d9dce1;\n",
       "            color:  #000000;\n",
       "        }#T_23e94_row3_col5,#T_23e94_row5_col3{\n",
       "            background-color:  #f7af91;\n",
       "            color:  #000000;\n",
       "        }#T_23e94_row3_col7,#T_23e94_row4_col7,#T_23e94_row7_col3,#T_23e94_row7_col4{\n",
       "            background-color:  #f7b194;\n",
       "            color:  #000000;\n",
       "        }#T_23e94_row4_col6,#T_23e94_row6_col4{\n",
       "            background-color:  #f7b093;\n",
       "            color:  #000000;\n",
       "        }</style><table id=\"T_23e94_\" ><thead>    <tr>        <th class=\"blank level0\" ></th>        <th class=\"col_heading level0 col0\" >valor_prestamo_x_impulsividad_entre_cuentas_otros</th>        <th class=\"col_heading level0 col1\" >valor_prestamo_x_confianza_entre_cuentas_otros</th>        <th class=\"col_heading level0 col2\" >saldo_cuenta_x_confianza_entre_tiempo_empleo</th>        <th class=\"col_heading level0 col3\" >autocontrol_x_confianza</th>        <th class=\"col_heading level0 col4\" >impulsividad_x_confianza</th>        <th class=\"col_heading level0 col5\" >Autocontrol</th>        <th class=\"col_heading level0 col6\" >Impulsividad</th>        <th class=\"col_heading level0 col7\" >Confianza</th>        <th class=\"col_heading level0 col8\" >target</th>    </tr></thead><tbody>\n",
       "                <tr>\n",
       "                        <th id=\"T_23e94_level0_row0\" class=\"row_heading level0 row0\" >valor_prestamo_x_impulsividad_entre_cuentas_otros</th>\n",
       "                        <td id=\"T_23e94_row0_col0\" class=\"data row0 col0\" >1.00000</td>\n",
       "                        <td id=\"T_23e94_row0_col1\" class=\"data row0 col1\" >0.96648</td>\n",
       "                        <td id=\"T_23e94_row0_col2\" class=\"data row0 col2\" >0.00434</td>\n",
       "                        <td id=\"T_23e94_row0_col3\" class=\"data row0 col3\" >0.00583</td>\n",
       "                        <td id=\"T_23e94_row0_col4\" class=\"data row0 col4\" >0.09213</td>\n",
       "                        <td id=\"T_23e94_row0_col5\" class=\"data row0 col5\" >0.00936</td>\n",
       "                        <td id=\"T_23e94_row0_col6\" class=\"data row0 col6\" >0.13123</td>\n",
       "                        <td id=\"T_23e94_row0_col7\" class=\"data row0 col7\" >0.00103</td>\n",
       "                        <td id=\"T_23e94_row0_col8\" class=\"data row0 col8\" >-0.00118</td>\n",
       "            </tr>\n",
       "            <tr>\n",
       "                        <th id=\"T_23e94_level0_row1\" class=\"row_heading level0 row1\" >valor_prestamo_x_confianza_entre_cuentas_otros</th>\n",
       "                        <td id=\"T_23e94_row1_col0\" class=\"data row1 col0\" >0.96648</td>\n",
       "                        <td id=\"T_23e94_row1_col1\" class=\"data row1 col1\" >1.00000</td>\n",
       "                        <td id=\"T_23e94_row1_col2\" class=\"data row1 col2\" >0.01277</td>\n",
       "                        <td id=\"T_23e94_row1_col3\" class=\"data row1 col3\" >0.09535</td>\n",
       "                        <td id=\"T_23e94_row1_col4\" class=\"data row1 col4\" >0.09165</td>\n",
       "                        <td id=\"T_23e94_row1_col5\" class=\"data row1 col5\" >0.00881</td>\n",
       "                        <td id=\"T_23e94_row1_col6\" class=\"data row1 col6\" >0.00310</td>\n",
       "                        <td id=\"T_23e94_row1_col7\" class=\"data row1 col7\" >0.12916</td>\n",
       "                        <td id=\"T_23e94_row1_col8\" class=\"data row1 col8\" >-0.00104</td>\n",
       "            </tr>\n",
       "            <tr>\n",
       "                        <th id=\"T_23e94_level0_row2\" class=\"row_heading level0 row2\" >saldo_cuenta_x_confianza_entre_tiempo_empleo</th>\n",
       "                        <td id=\"T_23e94_row2_col0\" class=\"data row2 col0\" >0.00434</td>\n",
       "                        <td id=\"T_23e94_row2_col1\" class=\"data row2 col1\" >0.01277</td>\n",
       "                        <td id=\"T_23e94_row2_col2\" class=\"data row2 col2\" >1.00000</td>\n",
       "                        <td id=\"T_23e94_row2_col3\" class=\"data row2 col3\" >0.04537</td>\n",
       "                        <td id=\"T_23e94_row2_col4\" class=\"data row2 col4\" >0.04459</td>\n",
       "                        <td id=\"T_23e94_row2_col5\" class=\"data row2 col5\" >0.00136</td>\n",
       "                        <td id=\"T_23e94_row2_col6\" class=\"data row2 col6\" >0.00007</td>\n",
       "                        <td id=\"T_23e94_row2_col7\" class=\"data row2 col7\" >0.06187</td>\n",
       "                        <td id=\"T_23e94_row2_col8\" class=\"data row2 col8\" >-0.00354</td>\n",
       "            </tr>\n",
       "            <tr>\n",
       "                        <th id=\"T_23e94_level0_row3\" class=\"row_heading level0 row3\" >autocontrol_x_confianza</th>\n",
       "                        <td id=\"T_23e94_row3_col0\" class=\"data row3 col0\" >0.00583</td>\n",
       "                        <td id=\"T_23e94_row3_col1\" class=\"data row3 col1\" >0.09535</td>\n",
       "                        <td id=\"T_23e94_row3_col2\" class=\"data row3 col2\" >0.04537</td>\n",
       "                        <td id=\"T_23e94_row3_col3\" class=\"data row3 col3\" >1.00000</td>\n",
       "                        <td id=\"T_23e94_row3_col4\" class=\"data row3 col4\" >0.48264</td>\n",
       "                        <td id=\"T_23e94_row3_col5\" class=\"data row3 col5\" >0.69262</td>\n",
       "                        <td id=\"T_23e94_row3_col6\" class=\"data row3 col6\" >0.00441</td>\n",
       "                        <td id=\"T_23e94_row3_col7\" class=\"data row3 col7\" >0.68471</td>\n",
       "                        <td id=\"T_23e94_row3_col8\" class=\"data row3 col8\" >-0.00423</td>\n",
       "            </tr>\n",
       "            <tr>\n",
       "                        <th id=\"T_23e94_level0_row4\" class=\"row_heading level0 row4\" >impulsividad_x_confianza</th>\n",
       "                        <td id=\"T_23e94_row4_col0\" class=\"data row4 col0\" >0.09213</td>\n",
       "                        <td id=\"T_23e94_row4_col1\" class=\"data row4 col1\" >0.09165</td>\n",
       "                        <td id=\"T_23e94_row4_col2\" class=\"data row4 col2\" >0.04459</td>\n",
       "                        <td id=\"T_23e94_row4_col3\" class=\"data row4 col3\" >0.48264</td>\n",
       "                        <td id=\"T_23e94_row4_col4\" class=\"data row4 col4\" >1.00000</td>\n",
       "                        <td id=\"T_23e94_row4_col5\" class=\"data row4 col5\" >0.01129</td>\n",
       "                        <td id=\"T_23e94_row4_col6\" class=\"data row4 col6\" >0.68763</td>\n",
       "                        <td id=\"T_23e94_row4_col7\" class=\"data row4 col7\" >0.68401</td>\n",
       "                        <td id=\"T_23e94_row4_col8\" class=\"data row4 col8\" >-0.00223</td>\n",
       "            </tr>\n",
       "            <tr>\n",
       "                        <th id=\"T_23e94_level0_row5\" class=\"row_heading level0 row5\" >Autocontrol</th>\n",
       "                        <td id=\"T_23e94_row5_col0\" class=\"data row5 col0\" >0.00936</td>\n",
       "                        <td id=\"T_23e94_row5_col1\" class=\"data row5 col1\" >0.00881</td>\n",
       "                        <td id=\"T_23e94_row5_col2\" class=\"data row5 col2\" >0.00136</td>\n",
       "                        <td id=\"T_23e94_row5_col3\" class=\"data row5 col3\" >0.69262</td>\n",
       "                        <td id=\"T_23e94_row5_col4\" class=\"data row5 col4\" >0.01129</td>\n",
       "                        <td id=\"T_23e94_row5_col5\" class=\"data row5 col5\" >1.00000</td>\n",
       "                        <td id=\"T_23e94_row5_col6\" class=\"data row5 col6\" >0.00551</td>\n",
       "                        <td id=\"T_23e94_row5_col7\" class=\"data row5 col7\" >0.00627</td>\n",
       "                        <td id=\"T_23e94_row5_col8\" class=\"data row5 col8\" >-0.00370</td>\n",
       "            </tr>\n",
       "            <tr>\n",
       "                        <th id=\"T_23e94_level0_row6\" class=\"row_heading level0 row6\" >Impulsividad</th>\n",
       "                        <td id=\"T_23e94_row6_col0\" class=\"data row6 col0\" >0.13123</td>\n",
       "                        <td id=\"T_23e94_row6_col1\" class=\"data row6 col1\" >0.00310</td>\n",
       "                        <td id=\"T_23e94_row6_col2\" class=\"data row6 col2\" >0.00007</td>\n",
       "                        <td id=\"T_23e94_row6_col3\" class=\"data row6 col3\" >0.00441</td>\n",
       "                        <td id=\"T_23e94_row6_col4\" class=\"data row6 col4\" >0.68763</td>\n",
       "                        <td id=\"T_23e94_row6_col5\" class=\"data row6 col5\" >0.00551</td>\n",
       "                        <td id=\"T_23e94_row6_col6\" class=\"data row6 col6\" >1.00000</td>\n",
       "                        <td id=\"T_23e94_row6_col7\" class=\"data row6 col7\" >-0.00156</td>\n",
       "                        <td id=\"T_23e94_row6_col8\" class=\"data row6 col8\" >-0.00377</td>\n",
       "            </tr>\n",
       "            <tr>\n",
       "                        <th id=\"T_23e94_level0_row7\" class=\"row_heading level0 row7\" >Confianza</th>\n",
       "                        <td id=\"T_23e94_row7_col0\" class=\"data row7 col0\" >0.00103</td>\n",
       "                        <td id=\"T_23e94_row7_col1\" class=\"data row7 col1\" >0.12916</td>\n",
       "                        <td id=\"T_23e94_row7_col2\" class=\"data row7 col2\" >0.06187</td>\n",
       "                        <td id=\"T_23e94_row7_col3\" class=\"data row7 col3\" >0.68471</td>\n",
       "                        <td id=\"T_23e94_row7_col4\" class=\"data row7 col4\" >0.68401</td>\n",
       "                        <td id=\"T_23e94_row7_col5\" class=\"data row7 col5\" >0.00627</td>\n",
       "                        <td id=\"T_23e94_row7_col6\" class=\"data row7 col6\" >-0.00156</td>\n",
       "                        <td id=\"T_23e94_row7_col7\" class=\"data row7 col7\" >1.00000</td>\n",
       "                        <td id=\"T_23e94_row7_col8\" class=\"data row7 col8\" >-0.00111</td>\n",
       "            </tr>\n",
       "            <tr>\n",
       "                        <th id=\"T_23e94_level0_row8\" class=\"row_heading level0 row8\" >target</th>\n",
       "                        <td id=\"T_23e94_row8_col0\" class=\"data row8 col0\" >-0.00118</td>\n",
       "                        <td id=\"T_23e94_row8_col1\" class=\"data row8 col1\" >-0.00104</td>\n",
       "                        <td id=\"T_23e94_row8_col2\" class=\"data row8 col2\" >-0.00354</td>\n",
       "                        <td id=\"T_23e94_row8_col3\" class=\"data row8 col3\" >-0.00423</td>\n",
       "                        <td id=\"T_23e94_row8_col4\" class=\"data row8 col4\" >-0.00223</td>\n",
       "                        <td id=\"T_23e94_row8_col5\" class=\"data row8 col5\" >-0.00370</td>\n",
       "                        <td id=\"T_23e94_row8_col6\" class=\"data row8 col6\" >-0.00377</td>\n",
       "                        <td id=\"T_23e94_row8_col7\" class=\"data row8 col7\" >-0.00111</td>\n",
       "                        <td id=\"T_23e94_row8_col8\" class=\"data row8 col8\" >1.00000</td>\n",
       "            </tr>\n",
       "    </tbody></table>"
      ],
      "text/plain": [
       "<pandas.io.formats.style.Styler at 0x198dffb64f0>"
      ]
     },
     "execution_count": 7,
     "metadata": {},
     "output_type": "execute_result"
    }
   ],
   "source": [
    "matriz_corr = x_train[cols_aporte + ['target']].corr(method='spearman')\n",
    "\n",
    "matriz_corr.style.background_gradient(\n",
    "    cmap='coolwarm', axis=None\n",
    ").set_precision(5)"
   ]
  },
  {
   "cell_type": "code",
   "execution_count": 8,
   "id": "f43ee10f-f127-4667-87e3-a31a69130539",
   "metadata": {},
   "outputs": [
    {
     "data": {
      "text/html": [
       "<style  type=\"text/css\" >\n",
       "#T_7f97b_row0_col0{\n",
       "            background-color:  #b40426;\n",
       "            color:  #f1f1f1;\n",
       "        }#T_7f97b_row1_col0,#T_7f97b_row2_col0,#T_7f97b_row3_col0,#T_7f97b_row4_col0,#T_7f97b_row5_col0,#T_7f97b_row6_col0,#T_7f97b_row7_col0,#T_7f97b_row8_col0{\n",
       "            background-color:  #3b4cc0;\n",
       "            color:  #f1f1f1;\n",
       "        }</style><table id=\"T_7f97b_\" ><thead>    <tr>        <th class=\"blank level0\" ></th>        <th class=\"col_heading level0 col0\" >target</th>    </tr></thead><tbody>\n",
       "                <tr>\n",
       "                        <th id=\"T_7f97b_level0_row0\" class=\"row_heading level0 row0\" >target</th>\n",
       "                        <td id=\"T_7f97b_row0_col0\" class=\"data row0 col0\" >1.00000</td>\n",
       "            </tr>\n",
       "            <tr>\n",
       "                        <th id=\"T_7f97b_level0_row1\" class=\"row_heading level0 row1\" >autocontrol_x_confianza</th>\n",
       "                        <td id=\"T_7f97b_row1_col0\" class=\"data row1 col0\" >0.00423</td>\n",
       "            </tr>\n",
       "            <tr>\n",
       "                        <th id=\"T_7f97b_level0_row2\" class=\"row_heading level0 row2\" >Impulsividad</th>\n",
       "                        <td id=\"T_7f97b_row2_col0\" class=\"data row2 col0\" >0.00377</td>\n",
       "            </tr>\n",
       "            <tr>\n",
       "                        <th id=\"T_7f97b_level0_row3\" class=\"row_heading level0 row3\" >Autocontrol</th>\n",
       "                        <td id=\"T_7f97b_row3_col0\" class=\"data row3 col0\" >0.00370</td>\n",
       "            </tr>\n",
       "            <tr>\n",
       "                        <th id=\"T_7f97b_level0_row4\" class=\"row_heading level0 row4\" >saldo_cuenta_x_confianza_entre_tiempo_empleo</th>\n",
       "                        <td id=\"T_7f97b_row4_col0\" class=\"data row4 col0\" >0.00354</td>\n",
       "            </tr>\n",
       "            <tr>\n",
       "                        <th id=\"T_7f97b_level0_row5\" class=\"row_heading level0 row5\" >impulsividad_x_confianza</th>\n",
       "                        <td id=\"T_7f97b_row5_col0\" class=\"data row5 col0\" >0.00223</td>\n",
       "            </tr>\n",
       "            <tr>\n",
       "                        <th id=\"T_7f97b_level0_row6\" class=\"row_heading level0 row6\" >valor_prestamo_x_impulsividad_entre_cuentas_otros</th>\n",
       "                        <td id=\"T_7f97b_row6_col0\" class=\"data row6 col0\" >0.00118</td>\n",
       "            </tr>\n",
       "            <tr>\n",
       "                        <th id=\"T_7f97b_level0_row7\" class=\"row_heading level0 row7\" >Confianza</th>\n",
       "                        <td id=\"T_7f97b_row7_col0\" class=\"data row7 col0\" >0.00111</td>\n",
       "            </tr>\n",
       "            <tr>\n",
       "                        <th id=\"T_7f97b_level0_row8\" class=\"row_heading level0 row8\" >valor_prestamo_x_confianza_entre_cuentas_otros</th>\n",
       "                        <td id=\"T_7f97b_row8_col0\" class=\"data row8 col0\" >0.00104</td>\n",
       "            </tr>\n",
       "    </tbody></table>"
      ],
      "text/plain": [
       "<pandas.io.formats.style.Styler at 0x198dffc0070>"
      ]
     },
     "execution_count": 8,
     "metadata": {},
     "output_type": "execute_result"
    }
   ],
   "source": [
    "pd.DataFrame(matriz_corr['target'].abs().sort_values(ascending=False)).style.background_gradient(\n",
    "    cmap='coolwarm', axis=None\n",
    ").set_precision(5)"
   ]
  },
  {
   "cell_type": "code",
   "execution_count": 9,
   "id": "03aa5cd1-03ce-46bf-a492-aa9307177019",
   "metadata": {},
   "outputs": [],
   "source": [
    "del x_train['target']"
   ]
  },
  {
   "cell_type": "code",
   "execution_count": 10,
   "id": "0c2828e4-c9ee-4e88-abd8-132fe23bc78d",
   "metadata": {},
   "outputs": [
    {
     "name": "stdout",
     "output_type": "stream",
     "text": [
      "Optimization terminated successfully.\n",
      "         Current function value: 0.407139\n",
      "         Iterations 6\n"
     ]
    }
   ],
   "source": [
    "import statsmodels.api as sm\n",
    "\n",
    "logit_model_2 = sm.Logit(y_train , x_train[cols_aporte])\n",
    "result_2 = logit_model_2.fit()"
   ]
  },
  {
   "cell_type": "code",
   "execution_count": 11,
   "id": "02935258-4fc2-4356-b67b-506ae4c2d773",
   "metadata": {},
   "outputs": [
    {
     "data": {
      "text/plain": [
       "valor_prestamo_x_impulsividad_entre_cuentas_otros     0.033243\n",
       "valor_prestamo_x_confianza_entre_cuentas_otros        0.050183\n",
       "saldo_cuenta_x_confianza_entre_tiempo_empleo          0.146708\n",
       "impulsividad_x_confianza                              2.005306\n",
       "Impulsividad                                          2.437555\n",
       "autocontrol_x_confianza                               6.838120\n",
       "Autocontrol                                           7.891878\n",
       "Confianza                                            80.597006\n",
       "Name: pesos, dtype: float64"
      ]
     },
     "execution_count": 11,
     "metadata": {},
     "output_type": "execute_result"
    }
   ],
   "source": [
    "calcular_pesos(result_2)"
   ]
  },
  {
   "cell_type": "code",
   "execution_count": 12,
   "id": "0a77b32b-8318-4afd-9ba0-252f95e5d01a",
   "metadata": {},
   "outputs": [
    {
     "data": {
      "text/html": [
       "<table class=\"simpletable\">\n",
       "<tr>\n",
       "        <td>Model:</td>              <td>Logit</td>      <td>Pseudo R-squared:</td>   <td>-0.000</td>  \n",
       "</tr>\n",
       "<tr>\n",
       "  <td>Dependent Variable:</td>  <td>Incumplimiento</td>        <td>AIC:</td>        <td>44243.5255</td>\n",
       "</tr>\n",
       "<tr>\n",
       "         <td>Date:</td>        <td>2021-06-07 19:23</td>       <td>BIC:</td>        <td>44314.7459</td>\n",
       "</tr>\n",
       "<tr>\n",
       "   <td>No. Observations:</td>        <td>54315</td>       <td>Log-Likelihood:</td>    <td>-22114.</td> \n",
       "</tr>\n",
       "<tr>\n",
       "       <td>Df Model:</td>              <td>7</td>            <td>LL-Null:</td>        <td>-22109.</td> \n",
       "</tr>\n",
       "<tr>\n",
       "     <td>Df Residuals:</td>          <td>54307</td>        <td>LLR p-value:</td>      <td>1.0000</td>  \n",
       "</tr>\n",
       "<tr>\n",
       "      <td>Converged:</td>           <td>1.0000</td>           <td>Scale:</td>         <td>1.0000</td>  \n",
       "</tr>\n",
       "<tr>\n",
       "    <td>No. Iterations:</td>        <td>6.0000</td>              <td></td>               <td></td>     \n",
       "</tr>\n",
       "</table>\n",
       "<table class=\"simpletable\">\n",
       "<tr>\n",
       "                          <td></td>                           <th>Coef.</th>  <th>Std.Err.</th>     <th>z</th>     <th>P>|z|</th> <th>[0.025</th>  <th>0.975]</th> \n",
       "</tr>\n",
       "<tr>\n",
       "  <th>valor_prestamo_x_impulsividad_entre_cuentas_otros</th> <td>0.1077</td>   <td>0.2433</td>   <td>0.4428</td>  <td>0.6579</td> <td>-0.3690</td> <td>0.5845</td> \n",
       "</tr>\n",
       "<tr>\n",
       "  <th>valor_prestamo_x_confianza_entre_cuentas_otros</th>    <td>-0.1550</td>  <td>0.2848</td>   <td>-0.5441</td> <td>0.5864</td> <td>-0.7133</td> <td>0.4033</td> \n",
       "</tr>\n",
       "<tr>\n",
       "  <th>saldo_cuenta_x_confianza_entre_tiempo_empleo</th>      <td>-1.6421</td>  <td>1.7651</td>   <td>-0.9303</td> <td>0.3522</td> <td>-5.1017</td> <td>1.8175</td> \n",
       "</tr>\n",
       "<tr>\n",
       "  <th>autocontrol_x_confianza</th>                           <td>3.2293</td>   <td>0.5084</td>   <td>6.3513</td>  <td>0.0000</td> <td>2.2328</td>  <td>4.2258</td> \n",
       "</tr>\n",
       "<tr>\n",
       "  <th>impulsividad_x_confianza</th>                          <td>1.7795</td>   <td>0.5174</td>   <td>3.4394</td>  <td>0.0006</td> <td>0.7654</td>  <td>2.7935</td> \n",
       "</tr>\n",
       "<tr>\n",
       "  <th>Autocontrol</th>                                       <td>-2.5096</td>  <td>0.3678</td>   <td>-6.8232</td> <td>0.0000</td> <td>-3.2305</td> <td>-1.7887</td>\n",
       "</tr>\n",
       "<tr>\n",
       "  <th>Impulsividad</th>                                      <td>-1.3973</td>  <td>0.3685</td>   <td>-3.7921</td> <td>0.0001</td> <td>-2.1195</td> <td>-0.6751</td>\n",
       "</tr>\n",
       "<tr>\n",
       "  <th>Confianza</th>                                         <td>-3.7258</td>  <td>0.1709</td>  <td>-21.8050</td> <td>0.0000</td> <td>-4.0607</td> <td>-3.3909</td>\n",
       "</tr>\n",
       "</table>"
      ],
      "text/plain": [
       "<class 'statsmodels.iolib.summary2.Summary'>\n",
       "\"\"\"\n",
       "                                          Results: Logit\n",
       "==================================================================================================\n",
       "Model:                         Logit                       Pseudo R-squared:            -0.000    \n",
       "Dependent Variable:            Incumplimiento              AIC:                         44243.5255\n",
       "Date:                          2021-06-07 19:23            BIC:                         44314.7459\n",
       "No. Observations:              54315                       Log-Likelihood:              -22114.   \n",
       "Df Model:                      7                           LL-Null:                     -22109.   \n",
       "Df Residuals:                  54307                       LLR p-value:                 1.0000    \n",
       "Converged:                     1.0000                      Scale:                       1.0000    \n",
       "No. Iterations:                6.0000                                                             \n",
       "--------------------------------------------------------------------------------------------------\n",
       "                                                   Coef.  Std.Err.    z     P>|z|   [0.025  0.975]\n",
       "--------------------------------------------------------------------------------------------------\n",
       "valor_prestamo_x_impulsividad_entre_cuentas_otros  0.1077   0.2433   0.4428 0.6579 -0.3690  0.5845\n",
       "valor_prestamo_x_confianza_entre_cuentas_otros    -0.1550   0.2848  -0.5441 0.5864 -0.7133  0.4033\n",
       "saldo_cuenta_x_confianza_entre_tiempo_empleo      -1.6421   1.7651  -0.9303 0.3522 -5.1017  1.8175\n",
       "autocontrol_x_confianza                            3.2293   0.5084   6.3513 0.0000  2.2328  4.2258\n",
       "impulsividad_x_confianza                           1.7795   0.5174   3.4394 0.0006  0.7654  2.7935\n",
       "Autocontrol                                       -2.5096   0.3678  -6.8232 0.0000 -3.2305 -1.7887\n",
       "Impulsividad                                      -1.3973   0.3685  -3.7921 0.0001 -2.1195 -0.6751\n",
       "Confianza                                         -3.7258   0.1709 -21.8050 0.0000 -4.0607 -3.3909\n",
       "==================================================================================================\n",
       "\n",
       "\"\"\""
      ]
     },
     "execution_count": 12,
     "metadata": {},
     "output_type": "execute_result"
    }
   ],
   "source": [
    "result_2.summary2()"
   ]
  },
  {
   "cell_type": "code",
   "execution_count": 13,
   "id": "3c3cfef9-ae28-4f1e-9dde-c31586281913",
   "metadata": {},
   "outputs": [],
   "source": [
    "import numpy as np\n",
    "#prediciendo en base al modelo \n",
    "y_pred_prob_2_train = result_2.predict(x_train[cols_aporte])\n",
    "y_pred_class_2_train = np.where(y_pred_prob_2_train < 0.5, 0 , 1)\n",
    "\n",
    "y_pred_prob_2_valid = result_2.predict(x_valid[cols_aporte])\n",
    "y_pred_class_2_valid = np.where(y_pred_prob_2_valid < 0.5, 0 , 1)"
   ]
  },
  {
   "cell_type": "code",
   "execution_count": 14,
   "id": "929481ff-8408-4334-92ee-364ec42f7279",
   "metadata": {},
   "outputs": [
    {
     "data": {
      "text/plain": [
       "0    54315\n",
       "dtype: int64"
      ]
     },
     "execution_count": 14,
     "metadata": {},
     "output_type": "execute_result"
    }
   ],
   "source": [
    "pd.Series(y_pred_class_2_train).value_counts()"
   ]
  },
  {
   "cell_type": "code",
   "execution_count": 15,
   "id": "85c6df65-6ba0-478d-af1e-b60500cf8a5d",
   "metadata": {},
   "outputs": [
    {
     "data": {
      "text/plain": [
       "0    9586\n",
       "dtype: int64"
      ]
     },
     "execution_count": 15,
     "metadata": {},
     "output_type": "execute_result"
    }
   ],
   "source": [
    "pd.Series(y_pred_class_2_valid).value_counts()"
   ]
  },
  {
   "cell_type": "code",
   "execution_count": 16,
   "id": "20f71671-f9d9-4c36-8c40-86e2ddecd706",
   "metadata": {},
   "outputs": [
    {
     "data": {
      "text/plain": [
       "<AxesSubplot:>"
      ]
     },
     "execution_count": 16,
     "metadata": {},
     "output_type": "execute_result"
    },
    {
     "data": {
      "image/png": "[encoded data removed]",
      "text/plain": [
       "<Figure size 432x288 with 1 Axes>"
      ]
     },
     "metadata": {
      "needs_background": "light"
     },
     "output_type": "display_data"
    }
   ],
   "source": [
    "y_pred_prob_2_train.hist()"
   ]
  },
  {
   "cell_type": "code",
   "execution_count": 17,
   "id": "a3d40869-a171-4a83-8ff1-0b57dfbd3e1a",
   "metadata": {},
   "outputs": [
    {
     "data": {
      "text/plain": [
       "<AxesSubplot:>"
      ]
     },
     "execution_count": 17,
     "metadata": {},
     "output_type": "execute_result"
    },
    {
     "data": {
      "image/png": "[encoded data removed]",
      "text/plain": [
       "<Figure size 432x288 with 1 Axes>"
      ]
     },
     "metadata": {
      "needs_background": "light"
     },
     "output_type": "display_data"
    }
   ],
   "source": [
    "y_pred_prob_2_valid.hist()"
   ]
  },
  {
   "cell_type": "code",
   "execution_count": 18,
   "id": "15f84aeb-81b6-4389-aedb-a64f4cf4cded",
   "metadata": {},
   "outputs": [
    {
     "name": "stdout",
     "output_type": "stream",
     "text": [
      "///////////////////////// TRAIN\n",
      "AUC: 0.508\n",
      "GINI: 0.016\n",
      "///////////////////////// VALIDATION\n",
      "AUC: 0.497\n",
      "GINI: -0.005\n"
     ]
    }
   ],
   "source": [
    "from sklearn.metrics import precision_score, recall_score, f1_score, accuracy_score, roc_auc_score\n",
    "\n",
    "print(\"/\"*25, 'TRAIN')\n",
    "auc = roc_auc_score(y_train, y_pred_prob_2_train)\n",
    "print(\"AUC: %1.3f\" % auc)\n",
    "print(\"GINI: %1.3f\" % (2*auc-1))\n",
    "\n",
    "print(\"/\"*25, 'VALIDATION')\n",
    "auc_2 = roc_auc_score(y_valid, y_pred_prob_2_valid)\n",
    "print(\"AUC: %1.3f\" % auc_2)\n",
    "print(\"GINI: %1.3f\" % (2*auc_2-1))"
   ]
  },
  {
   "cell_type": "code",
   "execution_count": 19,
   "id": "79b3629f-c679-422d-9b22-95a422e3d2b6",
   "metadata": {},
   "outputs": [
    {
     "name": "stdout",
     "output_type": "stream",
     "text": [
      "///////////////////////// TRAIN\n",
      "RECALL     : 0.00000000\n",
      "EFECTIVIDAD: 0.00000000\n",
      "F1 SCORE   : 0.00000000\n",
      "///////////////////////// VALIDATION\n",
      "RECALL     : 0.00000000\n",
      "EFECTIVIDAD: 0.00000000\n",
      "F1 SCORE   : 0.00000000\n"
     ]
    },
    {
     "name": "stderr",
     "output_type": "stream",
     "text": [
      "C:\\ProgramData\\Anaconda3\\lib\\site-packages\\sklearn\\metrics\\_classification.py:1221: UndefinedMetricWarning: Precision is ill-defined and being set to 0.0 due to no predicted samples. Use `zero_division` parameter to control this behavior.\n",
      "  _warn_prf(average, modifier, msg_start, len(result))\n"
     ]
    }
   ],
   "source": [
    "print(\"/\"*25, 'TRAIN')\n",
    "print(\"RECALL     : %1.8f\" % recall_score(y_train, y_pred_class_2_train))\n",
    "print(\"EFECTIVIDAD: %1.8f\" % precision_score(y_train, y_pred_class_2_train))\n",
    "print(\"F1 SCORE   : %1.8f\" % f1_score(y_train, y_pred_class_2_train))\n",
    "\n",
    "print(\"/\"*25, 'VALIDATION')\n",
    "print(\"RECALL     : %1.8f\" % recall_score(y_valid, y_pred_class_2_valid))\n",
    "print(\"EFECTIVIDAD: %1.8f\" % precision_score(y_valid, y_pred_class_2_valid))\n",
    "print(\"F1 SCORE   : %1.8f\" % f1_score(y_valid, y_pred_class_2_valid))"
   ]
  },
  {
   "cell_type": "code",
   "execution_count": null,
   "id": "9561f6ee-180f-4a8a-8457-56097f122ac8",
   "metadata": {},
   "outputs": [],
   "source": []
  },
  {
   "cell_type": "markdown",
   "id": "05ac40c6-1cbe-4afb-b9b7-5e4a4b58008e",
   "metadata": {},
   "source": [
    "#### >>> RECALL"
   ]
  },
  {
   "cell_type": "code",
   "execution_count": 20,
   "id": "2d77863f-417b-4360-9906-83a17f3a836f",
   "metadata": {},
   "outputs": [
    {
     "data": {
      "text/plain": [
       "     fun: -1.0\n",
       " message: 'Optimization terminated successfully.'\n",
       "    nfev: 122\n",
       "     nit: 7\n",
       " success: True\n",
       "       x: array([0.01298791])"
      ]
     },
     "execution_count": 20,
     "metadata": {},
     "output_type": "execute_result"
    }
   ],
   "source": [
    "from scipy.optimize import differential_evolution\n",
    "\n",
    "\n",
    "optimization_rec = differential_evolution(\n",
    "    lambda c: -1*recall_score(y_train, np.array([0 if _ < c[0] else 1 for _ in y_pred_prob_2_train])), \n",
    "    [(0, 1)],\n",
    "    seed=SEED\n",
    ")\n",
    "optimization_rec"
   ]
  },
  {
   "cell_type": "code",
   "execution_count": 21,
   "id": "66457ba9-9dbc-4dae-bb25-e9981a33eb1e",
   "metadata": {},
   "outputs": [
    {
     "data": {
      "text/plain": [
       "0.012987907660010789"
      ]
     },
     "execution_count": 21,
     "metadata": {},
     "output_type": "execute_result"
    }
   ],
   "source": [
    "corte_rec = optimization_rec['x'][0]\n",
    "corte_rec"
   ]
  },
  {
   "cell_type": "code",
   "execution_count": 22,
   "id": "597be65f-d57a-40f4-8cec-4625ff5e322c",
   "metadata": {},
   "outputs": [],
   "source": [
    "y_pred_class_train_2_rec = np.where(y_pred_prob_2_train < corte_rec, 0 , 1)\n",
    "y_pred_class_valid_2_rc = np.where(y_pred_prob_2_valid < corte_rec, 0 , 1)"
   ]
  },
  {
   "cell_type": "code",
   "execution_count": 23,
   "id": "c0c86b9d-0b63-4f79-b24d-912ea2693a5c",
   "metadata": {},
   "outputs": [
    {
     "data": {
      "text/plain": [
       "1    54315\n",
       "dtype: int64"
      ]
     },
     "execution_count": 23,
     "metadata": {},
     "output_type": "execute_result"
    }
   ],
   "source": [
    "pd.Series(y_pred_class_train_2_rec).value_counts()"
   ]
  },
  {
   "cell_type": "code",
   "execution_count": 24,
   "id": "ce58f5eb-cb84-4fdc-bc33-02adaaee7ce7",
   "metadata": {},
   "outputs": [
    {
     "data": {
      "text/plain": [
       "1    9586\n",
       "dtype: int64"
      ]
     },
     "execution_count": 24,
     "metadata": {},
     "output_type": "execute_result"
    }
   ],
   "source": [
    "pd.Series(y_pred_class_valid_2_rc).value_counts()"
   ]
  },
  {
   "cell_type": "code",
   "execution_count": 25,
   "id": "198229a3-f148-4601-8a76-67c15c07231d",
   "metadata": {},
   "outputs": [
    {
     "name": "stdout",
     "output_type": "stream",
     "text": [
      "///////////////////////// TRAIN\n",
      "RECALL     : 1.00000000\n",
      "EFECTIVIDAD: 0.14115806\n",
      "F1 SCORE   : 0.24739440\n",
      "///////////////////////// VALIDATION\n",
      "RECALL     : 1.00000000\n",
      "EFECTIVIDAD: 0.14114333\n",
      "F1 SCORE   : 0.24737179\n"
     ]
    }
   ],
   "source": [
    "print(\"/\"*25, \"TRAIN\")\n",
    "print(\"RECALL     : %1.8f\" % recall_score(y_train, y_pred_class_train_2_rec))\n",
    "print(\"EFECTIVIDAD: %1.8f\" % precision_score(y_train, y_pred_class_train_2_rec))\n",
    "print(\"F1 SCORE   : %1.8f\" % f1_score(y_train, y_pred_class_train_2_rec))\n",
    "\n",
    "print(\"/\"*25, \"VALIDATION\")\n",
    "print(\"RECALL     : %1.8f\" % recall_score(y_valid, y_pred_class_valid_2_rc))\n",
    "print(\"EFECTIVIDAD: %1.8f\" % precision_score(y_valid, y_pred_class_valid_2_rc))\n",
    "print(\"F1 SCORE   : %1.8f\" % f1_score(y_valid, y_pred_class_valid_2_rc))"
   ]
  },
  {
   "cell_type": "code",
   "execution_count": null,
   "id": "010f4b0e-de8c-450d-9a23-6b6686759336",
   "metadata": {},
   "outputs": [],
   "source": []
  },
  {
   "cell_type": "markdown",
   "id": "e3853f23-b161-4cbd-b97e-4052d694cfcd",
   "metadata": {},
   "source": [
    "#### >>> EFECTIVIDAD"
   ]
  },
  {
   "cell_type": "code",
   "execution_count": 26,
   "id": "d3a1c84a-b33b-433f-9580-07ac0911d5ec",
   "metadata": {},
   "outputs": [
    {
     "name": "stderr",
     "output_type": "stream",
     "text": [
      "C:\\ProgramData\\Anaconda3\\lib\\site-packages\\sklearn\\metrics\\_classification.py:1221: UndefinedMetricWarning: Precision is ill-defined and being set to 0.0 due to no predicted samples. Use `zero_division` parameter to control this behavior.\n",
      "  _warn_prf(average, modifier, msg_start, len(result))\n"
     ]
    },
    {
     "data": {
      "text/plain": [
       "     fun: -0.25\n",
       " message: 'Optimization terminated successfully.'\n",
       "    nfev: 152\n",
       "     nit: 9\n",
       " success: True\n",
       "       x: array([0.23116881])"
      ]
     },
     "execution_count": 26,
     "metadata": {},
     "output_type": "execute_result"
    }
   ],
   "source": [
    "optimization_pre = differential_evolution(\n",
    "    lambda c: -1*precision_score(y_train, np.array([0 if _ < c[0] else 1 for _ in y_pred_prob_2_train])), \n",
    "    [(0, 1)],\n",
    "    seed=SEED\n",
    ")\n",
    "optimization_pre"
   ]
  },
  {
   "cell_type": "code",
   "execution_count": null,
   "id": "3b7e1286-2f54-49b0-9511-0da58d50386e",
   "metadata": {},
   "outputs": [],
   "source": []
  },
  {
   "cell_type": "markdown",
   "id": "3bb8cc6e-9805-4032-b6a8-e16e51976cc3",
   "metadata": {},
   "source": [
    "#### >>> AUC"
   ]
  },
  {
   "cell_type": "code",
   "execution_count": 27,
   "id": "501ea2b0-d72b-480e-aaf0-c63782c37bbc",
   "metadata": {},
   "outputs": [
    {
     "data": {
      "text/plain": [
       "     fun: -0.5009804048321894\n",
       " message: 'Optimization terminated successfully.'\n",
       "    nfev: 32\n",
       "     nit: 1\n",
       " success: True\n",
       "       x: array([0.12192201])"
      ]
     },
     "execution_count": 27,
     "metadata": {},
     "output_type": "execute_result"
    }
   ],
   "source": [
    "optimization_auc = differential_evolution(\n",
    "    lambda c: -1*roc_auc_score(y_train, np.array([0 if _ < c[0] else 1 for _ in y_pred_prob_2_train])), \n",
    "    [(0, 1)],\n",
    "    seed=SEED\n",
    ")\n",
    "optimization_auc"
   ]
  },
  {
   "cell_type": "code",
   "execution_count": 28,
   "id": "2fe947ae-60bc-4fcc-aea4-2ffd517f131d",
   "metadata": {},
   "outputs": [
    {
     "data": {
      "text/plain": [
       "0.12192200646606993"
      ]
     },
     "execution_count": 28,
     "metadata": {},
     "output_type": "execute_result"
    }
   ],
   "source": [
    "corte_auc = optimization_auc['x'][0]\n",
    "corte_auc"
   ]
  },
  {
   "cell_type": "code",
   "execution_count": 29,
   "id": "2b7a4e33-2b7f-4601-b1ad-38ad776df862",
   "metadata": {},
   "outputs": [],
   "source": [
    "y_pred_class_train_2_auc = np.where(y_pred_prob_2_train < corte_auc, 0 , 1)\n",
    "y_pred_class_valid_2_auc = np.where(y_pred_prob_2_valid < corte_auc, 0 , 1)"
   ]
  },
  {
   "cell_type": "code",
   "execution_count": 30,
   "id": "86edf21e-1992-48d8-8b2d-39f46f63993f",
   "metadata": {},
   "outputs": [
    {
     "name": "stdout",
     "output_type": "stream",
     "text": [
      "///////////////////////// TRAIN\n",
      "RECALL     : 0.98369636\n",
      "EFECTIVIDAD: 0.14140013\n",
      "F1 SCORE   : 0.24725842\n",
      "///////////////////////// VALIDATION\n",
      "RECALL     : 0.98152254\n",
      "EFECTIVIDAD: 0.14138188\n",
      "F1 SCORE   : 0.24716173\n"
     ]
    }
   ],
   "source": [
    "print(\"/\"*25, \"TRAIN\")\n",
    "print(\"RECALL     : %1.8f\" % recall_score(y_train, y_pred_class_train_2_auc))\n",
    "print(\"EFECTIVIDAD: %1.8f\" % precision_score(y_train, y_pred_class_train_2_auc))\n",
    "print(\"F1 SCORE   : %1.8f\" % f1_score(y_train, y_pred_class_train_2_auc))\n",
    "\n",
    "print(\"/\"*25, \"VALIDATION\")\n",
    "print(\"RECALL     : %1.8f\" % recall_score(y_valid, y_pred_class_valid_2_auc))\n",
    "print(\"EFECTIVIDAD: %1.8f\" % precision_score(y_valid, y_pred_class_valid_2_auc))\n",
    "print(\"F1 SCORE   : %1.8f\" % f1_score(y_valid, y_pred_class_valid_2_auc))"
   ]
  },
  {
   "cell_type": "code",
   "execution_count": null,
   "id": "295d2776-7875-4a59-ae59-183fcee27f10",
   "metadata": {},
   "outputs": [],
   "source": []
  },
  {
   "cell_type": "code",
   "execution_count": null,
   "id": "88fd174a-17cb-4152-9f09-1fda38ea2fe5",
   "metadata": {},
   "outputs": [],
   "source": []
  },
  {
   "cell_type": "code",
   "execution_count": null,
   "id": "fbbeecd2-63c4-46d3-b039-061eac9c4689",
   "metadata": {},
   "outputs": [],
   "source": []
  },
  {
   "cell_type": "code",
   "execution_count": null,
   "id": "cd6bf05d-dd52-4430-83a3-68a70c765d7c",
   "metadata": {},
   "outputs": [],
   "source": []
  },
  {
   "cell_type": "code",
   "execution_count": null,
   "id": "b04104da-6a33-4228-9120-1d67abdb7c20",
   "metadata": {},
   "outputs": [],
   "source": []
  }
 ],
 "metadata": {
  "kernelspec": {
   "display_name": "Python 3",
   "language": "python",
   "name": "python3"
  },
  "language_info": {
   "codemirror_mode": {
    "name": "ipython",
    "version": 3
   },
   "file_extension": ".py",
   "mimetype": "text/x-python",
   "name": "python",
   "nbconvert_exporter": "python",
   "pygments_lexer": "ipython3",
   "version": "3.8.5"
  }
 },
 "nbformat": 4,
 "nbformat_minor": 5
}
