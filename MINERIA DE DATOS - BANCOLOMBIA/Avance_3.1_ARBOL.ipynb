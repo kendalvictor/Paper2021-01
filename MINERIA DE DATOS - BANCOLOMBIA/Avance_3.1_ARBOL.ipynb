{
 "cells": [
  {
   "cell_type": "code",
   "execution_count": 1,
   "id": "42ae479b-e86e-4735-837e-f6d147e99b12",
   "metadata": {},
   "outputs": [],
   "source": [
    "# Nativos\n",
    "import random as rn\n",
    "import os\n",
    "import sys\n",
    "import gc\n",
    "\n",
    "#calculo\n",
    "import numpy as np\n",
    "import pandas as pd\n",
    "import scipy\n",
    "\n",
    "import pandas as pd\n",
    "import scorecardpy as sc\n",
    "\n",
    "SEED = 29082013\n",
    "os.environ['PYTHONHASHSEED']=str(SEED)\n",
    "np.random.seed(SEED)\n",
    "rn.seed(SEED)"
   ]
  },
  {
   "cell_type": "code",
   "execution_count": 2,
   "id": "801bea8d-50a7-4a50-af9b-6fe3c56e0ef3",
   "metadata": {},
   "outputs": [
    {
     "data": {
      "text/plain": [
       "((54315, 59), (9586, 59), (54315, 1), (9586, 1))"
      ]
     },
     "execution_count": 2,
     "metadata": {},
     "output_type": "execute_result"
    }
   ],
   "source": [
    "x_train = pd.read_csv(\"X_train.csv\")\n",
    "x_valid = pd.read_csv(\"X_valid.csv\")\n",
    "\n",
    "y_train = pd.read_csv(\"y_train.csv\")\n",
    "y_valid = pd.read_csv(\"y_valid.csv\")\n",
    "\n",
    "x_train.shape, x_valid.shape, y_train.shape, y_valid.shape"
   ]
  },
  {
   "cell_type": "code",
   "execution_count": 3,
   "id": "813eef17-49d7-472a-b487-726087e4f1c3",
   "metadata": {},
   "outputs": [],
   "source": [
    "def calcular_pesos(modelo):\n",
    "    coef_model = pd.DataFrame(modelo.tvalues, columns=['t_value'])\n",
    "    coef_model['t_value2'] = np.power(coef_model['t_value'],2)\n",
    "    coef_model['total'] = sum(coef_model['t_value2'])\n",
    "    coef_model['part'] = coef_model['t_value2'] / coef_model['total']\n",
    "    coef_model['pesos'] = coef_model['part'] * 100\n",
    "    return coef_model['pesos'].sort_values(ascending=True)"
   ]
  },
  {
   "cell_type": "markdown",
   "id": "7b5a3e62-7c46-4189-b4d5-467a76f6c52a",
   "metadata": {},
   "source": [
    "### >> Modleo mayor p-value"
   ]
  },
  {
   "cell_type": "code",
   "execution_count": 4,
   "id": "17fad8f0-8b9f-4d08-a450-99d7e418352b",
   "metadata": {},
   "outputs": [],
   "source": [
    "cols_aporte = [\n",
    " 'Empleado',\n",
    " 'Tiempo_empleo',\n",
    " 'Saldo_cuenta',\n",
    " 'Valor_prestamo',\n",
    " 'Cuentas_otros',\n",
    " 'Autocontrol',\n",
    " 'Impulsividad',\n",
    " 'Confianza' \n",
    "]"
   ]
  },
  {
   "cell_type": "code",
   "execution_count": 5,
   "id": "d21cc8f4-e2a7-487a-820d-055eeae6fde0",
   "metadata": {},
   "outputs": [
    {
     "data": {
      "text/html": [
       "<style  type=\"text/css\" >\n",
       "#T_53921_row0_col0,#T_53921_row1_col1,#T_53921_row2_col2,#T_53921_row3_col3,#T_53921_row4_col4,#T_53921_row5_col5,#T_53921_row6_col6,#T_53921_row7_col7,#T_53921_row8_col8{\n",
       "            background-color:  #b40426;\n",
       "            color:  #f1f1f1;\n",
       "        }#T_53921_row0_col1,#T_53921_row1_col0{\n",
       "            background-color:  #d8dce2;\n",
       "            color:  #000000;\n",
       "        }#T_53921_row0_col2,#T_53921_row0_col4,#T_53921_row0_col8,#T_53921_row1_col3,#T_53921_row1_col4,#T_53921_row2_col0,#T_53921_row2_col4,#T_53921_row2_col5,#T_53921_row2_col7,#T_53921_row3_col1,#T_53921_row3_col4,#T_53921_row3_col7,#T_53921_row3_col8,#T_53921_row4_col0,#T_53921_row4_col1,#T_53921_row4_col2,#T_53921_row4_col3,#T_53921_row4_col5,#T_53921_row4_col7,#T_53921_row5_col2,#T_53921_row5_col4,#T_53921_row6_col7,#T_53921_row6_col8,#T_53921_row7_col2,#T_53921_row7_col3,#T_53921_row7_col4,#T_53921_row7_col6,#T_53921_row7_col8,#T_53921_row8_col0,#T_53921_row8_col3,#T_53921_row8_col6,#T_53921_row8_col7{\n",
       "            background-color:  #3c4ec2;\n",
       "            color:  #f1f1f1;\n",
       "        }#T_53921_row0_col3,#T_53921_row0_col6,#T_53921_row1_col6,#T_53921_row2_col8,#T_53921_row3_col0,#T_53921_row3_col6,#T_53921_row5_col8,#T_53921_row6_col0,#T_53921_row6_col1,#T_53921_row6_col3,#T_53921_row8_col2,#T_53921_row8_col5{\n",
       "            background-color:  #3b4cc0;\n",
       "            color:  #f1f1f1;\n",
       "        }#T_53921_row0_col5,#T_53921_row1_col2,#T_53921_row1_col7,#T_53921_row2_col1,#T_53921_row4_col8,#T_53921_row5_col0,#T_53921_row5_col6,#T_53921_row5_col7,#T_53921_row6_col5,#T_53921_row7_col1,#T_53921_row7_col5,#T_53921_row8_col4{\n",
       "            background-color:  #3e51c5;\n",
       "            color:  #f1f1f1;\n",
       "        }#T_53921_row0_col7,#T_53921_row1_col5,#T_53921_row1_col8,#T_53921_row2_col3,#T_53921_row2_col6,#T_53921_row3_col2,#T_53921_row4_col6,#T_53921_row5_col1,#T_53921_row6_col2,#T_53921_row6_col4,#T_53921_row7_col0,#T_53921_row8_col1{\n",
       "            background-color:  #3d50c3;\n",
       "            color:  #f1f1f1;\n",
       "        }#T_53921_row3_col5,#T_53921_row5_col3{\n",
       "            background-color:  #3f53c6;\n",
       "            color:  #f1f1f1;\n",
       "        }</style><table id=\"T_53921_\" ><thead>    <tr>        <th class=\"blank level0\" ></th>        <th class=\"col_heading level0 col0\" >Empleado</th>        <th class=\"col_heading level0 col1\" >Tiempo_empleo</th>        <th class=\"col_heading level0 col2\" >Saldo_cuenta</th>        <th class=\"col_heading level0 col3\" >Valor_prestamo</th>        <th class=\"col_heading level0 col4\" >Cuentas_otros</th>        <th class=\"col_heading level0 col5\" >Autocontrol</th>        <th class=\"col_heading level0 col6\" >Impulsividad</th>        <th class=\"col_heading level0 col7\" >Confianza</th>        <th class=\"col_heading level0 col8\" >target</th>    </tr></thead><tbody>\n",
       "                <tr>\n",
       "                        <th id=\"T_53921_level0_row0\" class=\"row_heading level0 row0\" >Empleado</th>\n",
       "                        <td id=\"T_53921_row0_col0\" class=\"data row0 col0\" >1.00000</td>\n",
       "                        <td id=\"T_53921_row0_col1\" class=\"data row0 col1\" >0.48037</td>\n",
       "                        <td id=\"T_53921_row0_col2\" class=\"data row0 col2\" >-0.00128</td>\n",
       "                        <td id=\"T_53921_row0_col3\" class=\"data row0 col3\" >-0.00633</td>\n",
       "                        <td id=\"T_53921_row0_col4\" class=\"data row0 col4\" >-0.00115</td>\n",
       "                        <td id=\"T_53921_row0_col5\" class=\"data row0 col5\" >0.00754</td>\n",
       "                        <td id=\"T_53921_row0_col6\" class=\"data row0 col6\" >-0.00448</td>\n",
       "                        <td id=\"T_53921_row0_col7\" class=\"data row0 col7\" >0.00228</td>\n",
       "                        <td id=\"T_53921_row0_col8\" class=\"data row0 col8\" >-0.00068</td>\n",
       "            </tr>\n",
       "            <tr>\n",
       "                        <th id=\"T_53921_level0_row1\" class=\"row_heading level0 row1\" >Tiempo_empleo</th>\n",
       "                        <td id=\"T_53921_row1_col0\" class=\"data row1 col0\" >0.48037</td>\n",
       "                        <td id=\"T_53921_row1_col1\" class=\"data row1 col1\" >1.00000</td>\n",
       "                        <td id=\"T_53921_row1_col2\" class=\"data row1 col2\" >0.00696</td>\n",
       "                        <td id=\"T_53921_row1_col3\" class=\"data row1 col3\" >-0.00080</td>\n",
       "                        <td id=\"T_53921_row1_col4\" class=\"data row1 col4\" >-0.00228</td>\n",
       "                        <td id=\"T_53921_row1_col5\" class=\"data row1 col5\" >0.00410</td>\n",
       "                        <td id=\"T_53921_row1_col6\" class=\"data row1 col6\" >-0.00682</td>\n",
       "                        <td id=\"T_53921_row1_col7\" class=\"data row1 col7\" >0.00556</td>\n",
       "                        <td id=\"T_53921_row1_col8\" class=\"data row1 col8\" >0.00129</td>\n",
       "            </tr>\n",
       "            <tr>\n",
       "                        <th id=\"T_53921_level0_row2\" class=\"row_heading level0 row2\" >Saldo_cuenta</th>\n",
       "                        <td id=\"T_53921_row2_col0\" class=\"data row2 col0\" >-0.00128</td>\n",
       "                        <td id=\"T_53921_row2_col1\" class=\"data row2 col1\" >0.00696</td>\n",
       "                        <td id=\"T_53921_row2_col2\" class=\"data row2 col2\" >1.00000</td>\n",
       "                        <td id=\"T_53921_row2_col3\" class=\"data row2 col3\" >0.00120</td>\n",
       "                        <td id=\"T_53921_row2_col4\" class=\"data row2 col4\" >0.00043</td>\n",
       "                        <td id=\"T_53921_row2_col5\" class=\"data row2 col5\" >-0.00272</td>\n",
       "                        <td id=\"T_53921_row2_col6\" class=\"data row2 col6\" >0.00377</td>\n",
       "                        <td id=\"T_53921_row2_col7\" class=\"data row2 col7\" >-0.00196</td>\n",
       "                        <td id=\"T_53921_row2_col8\" class=\"data row2 col8\" >-0.00716</td>\n",
       "            </tr>\n",
       "            <tr>\n",
       "                        <th id=\"T_53921_level0_row3\" class=\"row_heading level0 row3\" >Valor_prestamo</th>\n",
       "                        <td id=\"T_53921_row3_col0\" class=\"data row3 col0\" >-0.00633</td>\n",
       "                        <td id=\"T_53921_row3_col1\" class=\"data row3 col1\" >-0.00080</td>\n",
       "                        <td id=\"T_53921_row3_col2\" class=\"data row3 col2\" >0.00120</td>\n",
       "                        <td id=\"T_53921_row3_col3\" class=\"data row3 col3\" >1.00000</td>\n",
       "                        <td id=\"T_53921_row3_col4\" class=\"data row3 col4\" >-0.00041</td>\n",
       "                        <td id=\"T_53921_row3_col5\" class=\"data row3 col5\" >0.00983</td>\n",
       "                        <td id=\"T_53921_row3_col6\" class=\"data row3 col6\" >-0.00334</td>\n",
       "                        <td id=\"T_53921_row3_col7\" class=\"data row3 col7\" >-0.00069</td>\n",
       "                        <td id=\"T_53921_row3_col8\" class=\"data row3 col8\" >-0.00088</td>\n",
       "            </tr>\n",
       "            <tr>\n",
       "                        <th id=\"T_53921_level0_row4\" class=\"row_heading level0 row4\" >Cuentas_otros</th>\n",
       "                        <td id=\"T_53921_row4_col0\" class=\"data row4 col0\" >-0.00115</td>\n",
       "                        <td id=\"T_53921_row4_col1\" class=\"data row4 col1\" >-0.00228</td>\n",
       "                        <td id=\"T_53921_row4_col2\" class=\"data row4 col2\" >0.00043</td>\n",
       "                        <td id=\"T_53921_row4_col3\" class=\"data row4 col3\" >-0.00041</td>\n",
       "                        <td id=\"T_53921_row4_col4\" class=\"data row4 col4\" >1.00000</td>\n",
       "                        <td id=\"T_53921_row4_col5\" class=\"data row4 col5\" >-0.00159</td>\n",
       "                        <td id=\"T_53921_row4_col6\" class=\"data row4 col6\" >0.00314</td>\n",
       "                        <td id=\"T_53921_row4_col7\" class=\"data row4 col7\" >-0.00146</td>\n",
       "                        <td id=\"T_53921_row4_col8\" class=\"data row4 col8\" >0.00477</td>\n",
       "            </tr>\n",
       "            <tr>\n",
       "                        <th id=\"T_53921_level0_row5\" class=\"row_heading level0 row5\" >Autocontrol</th>\n",
       "                        <td id=\"T_53921_row5_col0\" class=\"data row5 col0\" >0.00754</td>\n",
       "                        <td id=\"T_53921_row5_col1\" class=\"data row5 col1\" >0.00410</td>\n",
       "                        <td id=\"T_53921_row5_col2\" class=\"data row5 col2\" >-0.00272</td>\n",
       "                        <td id=\"T_53921_row5_col3\" class=\"data row5 col3\" >0.00983</td>\n",
       "                        <td id=\"T_53921_row5_col4\" class=\"data row5 col4\" >-0.00159</td>\n",
       "                        <td id=\"T_53921_row5_col5\" class=\"data row5 col5\" >1.00000</td>\n",
       "                        <td id=\"T_53921_row5_col6\" class=\"data row5 col6\" >0.00585</td>\n",
       "                        <td id=\"T_53921_row5_col7\" class=\"data row5 col7\" >0.00627</td>\n",
       "                        <td id=\"T_53921_row5_col8\" class=\"data row5 col8\" >-0.00449</td>\n",
       "            </tr>\n",
       "            <tr>\n",
       "                        <th id=\"T_53921_level0_row6\" class=\"row_heading level0 row6\" >Impulsividad</th>\n",
       "                        <td id=\"T_53921_row6_col0\" class=\"data row6 col0\" >-0.00448</td>\n",
       "                        <td id=\"T_53921_row6_col1\" class=\"data row6 col1\" >-0.00682</td>\n",
       "                        <td id=\"T_53921_row6_col2\" class=\"data row6 col2\" >0.00377</td>\n",
       "                        <td id=\"T_53921_row6_col3\" class=\"data row6 col3\" >-0.00334</td>\n",
       "                        <td id=\"T_53921_row6_col4\" class=\"data row6 col4\" >0.00314</td>\n",
       "                        <td id=\"T_53921_row6_col5\" class=\"data row6 col5\" >0.00585</td>\n",
       "                        <td id=\"T_53921_row6_col6\" class=\"data row6 col6\" >1.00000</td>\n",
       "                        <td id=\"T_53921_row6_col7\" class=\"data row6 col7\" >-0.00233</td>\n",
       "                        <td id=\"T_53921_row6_col8\" class=\"data row6 col8\" >-0.00322</td>\n",
       "            </tr>\n",
       "            <tr>\n",
       "                        <th id=\"T_53921_level0_row7\" class=\"row_heading level0 row7\" >Confianza</th>\n",
       "                        <td id=\"T_53921_row7_col0\" class=\"data row7 col0\" >0.00228</td>\n",
       "                        <td id=\"T_53921_row7_col1\" class=\"data row7 col1\" >0.00556</td>\n",
       "                        <td id=\"T_53921_row7_col2\" class=\"data row7 col2\" >-0.00196</td>\n",
       "                        <td id=\"T_53921_row7_col3\" class=\"data row7 col3\" >-0.00069</td>\n",
       "                        <td id=\"T_53921_row7_col4\" class=\"data row7 col4\" >-0.00146</td>\n",
       "                        <td id=\"T_53921_row7_col5\" class=\"data row7 col5\" >0.00627</td>\n",
       "                        <td id=\"T_53921_row7_col6\" class=\"data row7 col6\" >-0.00233</td>\n",
       "                        <td id=\"T_53921_row7_col7\" class=\"data row7 col7\" >1.00000</td>\n",
       "                        <td id=\"T_53921_row7_col8\" class=\"data row7 col8\" >-0.00062</td>\n",
       "            </tr>\n",
       "            <tr>\n",
       "                        <th id=\"T_53921_level0_row8\" class=\"row_heading level0 row8\" >target</th>\n",
       "                        <td id=\"T_53921_row8_col0\" class=\"data row8 col0\" >-0.00068</td>\n",
       "                        <td id=\"T_53921_row8_col1\" class=\"data row8 col1\" >0.00129</td>\n",
       "                        <td id=\"T_53921_row8_col2\" class=\"data row8 col2\" >-0.00716</td>\n",
       "                        <td id=\"T_53921_row8_col3\" class=\"data row8 col3\" >-0.00088</td>\n",
       "                        <td id=\"T_53921_row8_col4\" class=\"data row8 col4\" >0.00477</td>\n",
       "                        <td id=\"T_53921_row8_col5\" class=\"data row8 col5\" >-0.00449</td>\n",
       "                        <td id=\"T_53921_row8_col6\" class=\"data row8 col6\" >-0.00322</td>\n",
       "                        <td id=\"T_53921_row8_col7\" class=\"data row8 col7\" >-0.00062</td>\n",
       "                        <td id=\"T_53921_row8_col8\" class=\"data row8 col8\" >1.00000</td>\n",
       "            </tr>\n",
       "    </tbody></table>"
      ],
      "text/plain": [
       "<pandas.io.formats.style.Styler at 0x1e660cdf940>"
      ]
     },
     "execution_count": 5,
     "metadata": {},
     "output_type": "execute_result"
    }
   ],
   "source": [
    "x_train['target'] = y_train.values\n",
    "matriz_corr = x_train[cols_aporte + ['target']].corr(method='pearson')\n",
    "\n",
    "matriz_corr.style.background_gradient(\n",
    "    cmap='coolwarm', axis=None\n",
    ").set_precision(5)"
   ]
  },
  {
   "cell_type": "code",
   "execution_count": 6,
   "id": "e288e8dc-164d-4b4d-b9ba-5ba5e1c46cf1",
   "metadata": {},
   "outputs": [
    {
     "data": {
      "text/html": [
       "<style  type=\"text/css\" >\n",
       "#T_54040_row0_col0{\n",
       "            background-color:  #b40426;\n",
       "            color:  #f1f1f1;\n",
       "        }#T_54040_row1_col0,#T_54040_row2_col0{\n",
       "            background-color:  #3c4ec2;\n",
       "            color:  #f1f1f1;\n",
       "        }#T_54040_row3_col0,#T_54040_row4_col0,#T_54040_row5_col0,#T_54040_row6_col0,#T_54040_row7_col0,#T_54040_row8_col0{\n",
       "            background-color:  #3b4cc0;\n",
       "            color:  #f1f1f1;\n",
       "        }</style><table id=\"T_54040_\" ><thead>    <tr>        <th class=\"blank level0\" ></th>        <th class=\"col_heading level0 col0\" >target</th>    </tr></thead><tbody>\n",
       "                <tr>\n",
       "                        <th id=\"T_54040_level0_row0\" class=\"row_heading level0 row0\" >target</th>\n",
       "                        <td id=\"T_54040_row0_col0\" class=\"data row0 col0\" >1.00000</td>\n",
       "            </tr>\n",
       "            <tr>\n",
       "                        <th id=\"T_54040_level0_row1\" class=\"row_heading level0 row1\" >Saldo_cuenta</th>\n",
       "                        <td id=\"T_54040_row1_col0\" class=\"data row1 col0\" >0.00716</td>\n",
       "            </tr>\n",
       "            <tr>\n",
       "                        <th id=\"T_54040_level0_row2\" class=\"row_heading level0 row2\" >Cuentas_otros</th>\n",
       "                        <td id=\"T_54040_row2_col0\" class=\"data row2 col0\" >0.00477</td>\n",
       "            </tr>\n",
       "            <tr>\n",
       "                        <th id=\"T_54040_level0_row3\" class=\"row_heading level0 row3\" >Autocontrol</th>\n",
       "                        <td id=\"T_54040_row3_col0\" class=\"data row3 col0\" >0.00449</td>\n",
       "            </tr>\n",
       "            <tr>\n",
       "                        <th id=\"T_54040_level0_row4\" class=\"row_heading level0 row4\" >Impulsividad</th>\n",
       "                        <td id=\"T_54040_row4_col0\" class=\"data row4 col0\" >0.00322</td>\n",
       "            </tr>\n",
       "            <tr>\n",
       "                        <th id=\"T_54040_level0_row5\" class=\"row_heading level0 row5\" >Tiempo_empleo</th>\n",
       "                        <td id=\"T_54040_row5_col0\" class=\"data row5 col0\" >0.00129</td>\n",
       "            </tr>\n",
       "            <tr>\n",
       "                        <th id=\"T_54040_level0_row6\" class=\"row_heading level0 row6\" >Valor_prestamo</th>\n",
       "                        <td id=\"T_54040_row6_col0\" class=\"data row6 col0\" >0.00088</td>\n",
       "            </tr>\n",
       "            <tr>\n",
       "                        <th id=\"T_54040_level0_row7\" class=\"row_heading level0 row7\" >Empleado</th>\n",
       "                        <td id=\"T_54040_row7_col0\" class=\"data row7 col0\" >0.00068</td>\n",
       "            </tr>\n",
       "            <tr>\n",
       "                        <th id=\"T_54040_level0_row8\" class=\"row_heading level0 row8\" >Confianza</th>\n",
       "                        <td id=\"T_54040_row8_col0\" class=\"data row8 col0\" >0.00062</td>\n",
       "            </tr>\n",
       "    </tbody></table>"
      ],
      "text/plain": [
       "<pandas.io.formats.style.Styler at 0x1e6612c8eb0>"
      ]
     },
     "execution_count": 6,
     "metadata": {},
     "output_type": "execute_result"
    }
   ],
   "source": [
    "pd.DataFrame(matriz_corr['target'].abs().sort_values(ascending=False)).style.background_gradient(\n",
    "    cmap='coolwarm', axis=None\n",
    ").set_precision(5)"
   ]
  },
  {
   "cell_type": "code",
   "execution_count": 7,
   "id": "f18fd809-066e-4a39-99b9-d3e7bf92b239",
   "metadata": {},
   "outputs": [
    {
     "data": {
      "text/html": [
       "<style  type=\"text/css\" >\n",
       "#T_42a40_row0_col0,#T_42a40_row1_col1,#T_42a40_row2_col2,#T_42a40_row3_col3,#T_42a40_row4_col4,#T_42a40_row5_col5,#T_42a40_row6_col6,#T_42a40_row7_col7,#T_42a40_row8_col8{\n",
       "            background-color:  #b40426;\n",
       "            color:  #f1f1f1;\n",
       "        }#T_42a40_row0_col1,#T_42a40_row1_col0{\n",
       "            background-color:  #f3c7b1;\n",
       "            color:  #000000;\n",
       "        }#T_42a40_row0_col2,#T_42a40_row0_col7,#T_42a40_row1_col2,#T_42a40_row1_col5,#T_42a40_row1_col7,#T_42a40_row2_col0,#T_42a40_row2_col1,#T_42a40_row2_col3,#T_42a40_row3_col2,#T_42a40_row4_col6,#T_42a40_row4_col8,#T_42a40_row5_col1,#T_42a40_row6_col4,#T_42a40_row7_col0,#T_42a40_row7_col1,#T_42a40_row8_col4{\n",
       "            background-color:  #3d50c3;\n",
       "            color:  #f1f1f1;\n",
       "        }#T_42a40_row0_col3,#T_42a40_row0_col6,#T_42a40_row1_col6,#T_42a40_row2_col7,#T_42a40_row2_col8,#T_42a40_row3_col0,#T_42a40_row3_col6,#T_42a40_row3_col8,#T_42a40_row5_col8,#T_42a40_row6_col0,#T_42a40_row6_col1,#T_42a40_row6_col3,#T_42a40_row6_col8,#T_42a40_row7_col2,#T_42a40_row8_col2,#T_42a40_row8_col3,#T_42a40_row8_col5,#T_42a40_row8_col6{\n",
       "            background-color:  #3b4cc0;\n",
       "            color:  #f1f1f1;\n",
       "        }#T_42a40_row0_col4,#T_42a40_row0_col8,#T_42a40_row1_col3,#T_42a40_row1_col4,#T_42a40_row1_col8,#T_42a40_row2_col4,#T_42a40_row2_col5,#T_42a40_row2_col6,#T_42a40_row3_col1,#T_42a40_row3_col4,#T_42a40_row3_col7,#T_42a40_row4_col0,#T_42a40_row4_col1,#T_42a40_row4_col2,#T_42a40_row4_col3,#T_42a40_row4_col5,#T_42a40_row4_col7,#T_42a40_row5_col2,#T_42a40_row5_col4,#T_42a40_row6_col2,#T_42a40_row6_col7,#T_42a40_row7_col3,#T_42a40_row7_col4,#T_42a40_row7_col6,#T_42a40_row7_col8,#T_42a40_row8_col0,#T_42a40_row8_col1,#T_42a40_row8_col7{\n",
       "            background-color:  #3c4ec2;\n",
       "            color:  #f1f1f1;\n",
       "        }#T_42a40_row0_col5,#T_42a40_row5_col0,#T_42a40_row5_col6,#T_42a40_row5_col7,#T_42a40_row6_col5,#T_42a40_row7_col5{\n",
       "            background-color:  #3e51c5;\n",
       "            color:  #f1f1f1;\n",
       "        }#T_42a40_row3_col5,#T_42a40_row5_col3{\n",
       "            background-color:  #3f53c6;\n",
       "            color:  #f1f1f1;\n",
       "        }</style><table id=\"T_42a40_\" ><thead>    <tr>        <th class=\"blank level0\" ></th>        <th class=\"col_heading level0 col0\" >Empleado</th>        <th class=\"col_heading level0 col1\" >Tiempo_empleo</th>        <th class=\"col_heading level0 col2\" >Saldo_cuenta</th>        <th class=\"col_heading level0 col3\" >Valor_prestamo</th>        <th class=\"col_heading level0 col4\" >Cuentas_otros</th>        <th class=\"col_heading level0 col5\" >Autocontrol</th>        <th class=\"col_heading level0 col6\" >Impulsividad</th>        <th class=\"col_heading level0 col7\" >Confianza</th>        <th class=\"col_heading level0 col8\" >target</th>    </tr></thead><tbody>\n",
       "                <tr>\n",
       "                        <th id=\"T_42a40_level0_row0\" class=\"row_heading level0 row0\" >Empleado</th>\n",
       "                        <td id=\"T_42a40_row0_col0\" class=\"data row0 col0\" >1.00000</td>\n",
       "                        <td id=\"T_42a40_row0_col1\" class=\"data row0 col1\" >0.61396</td>\n",
       "                        <td id=\"T_42a40_row0_col2\" class=\"data row0 col2\" >0.00270</td>\n",
       "                        <td id=\"T_42a40_row0_col3\" class=\"data row0 col3\" >-0.00463</td>\n",
       "                        <td id=\"T_42a40_row0_col4\" class=\"data row0 col4\" >0.00038</td>\n",
       "                        <td id=\"T_42a40_row0_col5\" class=\"data row0 col5\" >0.00647</td>\n",
       "                        <td id=\"T_42a40_row0_col6\" class=\"data row0 col6\" >-0.00503</td>\n",
       "                        <td id=\"T_42a40_row0_col7\" class=\"data row0 col7\" >0.00187</td>\n",
       "                        <td id=\"T_42a40_row0_col8\" class=\"data row0 col8\" >-0.00068</td>\n",
       "            </tr>\n",
       "            <tr>\n",
       "                        <th id=\"T_42a40_level0_row1\" class=\"row_heading level0 row1\" >Tiempo_empleo</th>\n",
       "                        <td id=\"T_42a40_row1_col0\" class=\"data row1 col0\" >0.61396</td>\n",
       "                        <td id=\"T_42a40_row1_col1\" class=\"data row1 col1\" >1.00000</td>\n",
       "                        <td id=\"T_42a40_row1_col2\" class=\"data row1 col2\" >0.00137</td>\n",
       "                        <td id=\"T_42a40_row1_col3\" class=\"data row1 col3\" >-0.00128</td>\n",
       "                        <td id=\"T_42a40_row1_col4\" class=\"data row1 col4\" >-0.00269</td>\n",
       "                        <td id=\"T_42a40_row1_col5\" class=\"data row1 col5\" >0.00448</td>\n",
       "                        <td id=\"T_42a40_row1_col6\" class=\"data row1 col6\" >-0.00591</td>\n",
       "                        <td id=\"T_42a40_row1_col7\" class=\"data row1 col7\" >0.00414</td>\n",
       "                        <td id=\"T_42a40_row1_col8\" class=\"data row1 col8\" >0.00045</td>\n",
       "            </tr>\n",
       "            <tr>\n",
       "                        <th id=\"T_42a40_level0_row2\" class=\"row_heading level0 row2\" >Saldo_cuenta</th>\n",
       "                        <td id=\"T_42a40_row2_col0\" class=\"data row2 col0\" >0.00270</td>\n",
       "                        <td id=\"T_42a40_row2_col1\" class=\"data row2 col1\" >0.00137</td>\n",
       "                        <td id=\"T_42a40_row2_col2\" class=\"data row2 col2\" >1.00000</td>\n",
       "                        <td id=\"T_42a40_row2_col3\" class=\"data row2 col3\" >0.00463</td>\n",
       "                        <td id=\"T_42a40_row2_col4\" class=\"data row2 col4\" >0.00004</td>\n",
       "                        <td id=\"T_42a40_row2_col5\" class=\"data row2 col5\" >-0.00199</td>\n",
       "                        <td id=\"T_42a40_row2_col6\" class=\"data row2 col6\" >0.00101</td>\n",
       "                        <td id=\"T_42a40_row2_col7\" class=\"data row2 col7\" >-0.00535</td>\n",
       "                        <td id=\"T_42a40_row2_col8\" class=\"data row2 col8\" >-0.00680</td>\n",
       "            </tr>\n",
       "            <tr>\n",
       "                        <th id=\"T_42a40_level0_row3\" class=\"row_heading level0 row3\" >Valor_prestamo</th>\n",
       "                        <td id=\"T_42a40_row3_col0\" class=\"data row3 col0\" >-0.00463</td>\n",
       "                        <td id=\"T_42a40_row3_col1\" class=\"data row3 col1\" >-0.00128</td>\n",
       "                        <td id=\"T_42a40_row3_col2\" class=\"data row3 col2\" >0.00463</td>\n",
       "                        <td id=\"T_42a40_row3_col3\" class=\"data row3 col3\" >1.00000</td>\n",
       "                        <td id=\"T_42a40_row3_col4\" class=\"data row3 col4\" >-0.00142</td>\n",
       "                        <td id=\"T_42a40_row3_col5\" class=\"data row3 col5\" >0.00946</td>\n",
       "                        <td id=\"T_42a40_row3_col6\" class=\"data row3 col6\" >-0.00336</td>\n",
       "                        <td id=\"T_42a40_row3_col7\" class=\"data row3 col7\" >-0.00009</td>\n",
       "                        <td id=\"T_42a40_row3_col8\" class=\"data row3 col8\" >-0.00345</td>\n",
       "            </tr>\n",
       "            <tr>\n",
       "                        <th id=\"T_42a40_level0_row4\" class=\"row_heading level0 row4\" >Cuentas_otros</th>\n",
       "                        <td id=\"T_42a40_row4_col0\" class=\"data row4 col0\" >0.00038</td>\n",
       "                        <td id=\"T_42a40_row4_col1\" class=\"data row4 col1\" >-0.00269</td>\n",
       "                        <td id=\"T_42a40_row4_col2\" class=\"data row4 col2\" >0.00004</td>\n",
       "                        <td id=\"T_42a40_row4_col3\" class=\"data row4 col3\" >-0.00142</td>\n",
       "                        <td id=\"T_42a40_row4_col4\" class=\"data row4 col4\" >1.00000</td>\n",
       "                        <td id=\"T_42a40_row4_col5\" class=\"data row4 col5\" >-0.00163</td>\n",
       "                        <td id=\"T_42a40_row4_col6\" class=\"data row4 col6\" >0.00415</td>\n",
       "                        <td id=\"T_42a40_row4_col7\" class=\"data row4 col7\" >-0.00101</td>\n",
       "                        <td id=\"T_42a40_row4_col8\" class=\"data row4 col8\" >0.00393</td>\n",
       "            </tr>\n",
       "            <tr>\n",
       "                        <th id=\"T_42a40_level0_row5\" class=\"row_heading level0 row5\" >Autocontrol</th>\n",
       "                        <td id=\"T_42a40_row5_col0\" class=\"data row5 col0\" >0.00647</td>\n",
       "                        <td id=\"T_42a40_row5_col1\" class=\"data row5 col1\" >0.00448</td>\n",
       "                        <td id=\"T_42a40_row5_col2\" class=\"data row5 col2\" >-0.00199</td>\n",
       "                        <td id=\"T_42a40_row5_col3\" class=\"data row5 col3\" >0.00946</td>\n",
       "                        <td id=\"T_42a40_row5_col4\" class=\"data row5 col4\" >-0.00163</td>\n",
       "                        <td id=\"T_42a40_row5_col5\" class=\"data row5 col5\" >1.00000</td>\n",
       "                        <td id=\"T_42a40_row5_col6\" class=\"data row5 col6\" >0.00551</td>\n",
       "                        <td id=\"T_42a40_row5_col7\" class=\"data row5 col7\" >0.00627</td>\n",
       "                        <td id=\"T_42a40_row5_col8\" class=\"data row5 col8\" >-0.00370</td>\n",
       "            </tr>\n",
       "            <tr>\n",
       "                        <th id=\"T_42a40_level0_row6\" class=\"row_heading level0 row6\" >Impulsividad</th>\n",
       "                        <td id=\"T_42a40_row6_col0\" class=\"data row6 col0\" >-0.00503</td>\n",
       "                        <td id=\"T_42a40_row6_col1\" class=\"data row6 col1\" >-0.00591</td>\n",
       "                        <td id=\"T_42a40_row6_col2\" class=\"data row6 col2\" >0.00101</td>\n",
       "                        <td id=\"T_42a40_row6_col3\" class=\"data row6 col3\" >-0.00336</td>\n",
       "                        <td id=\"T_42a40_row6_col4\" class=\"data row6 col4\" >0.00415</td>\n",
       "                        <td id=\"T_42a40_row6_col5\" class=\"data row6 col5\" >0.00551</td>\n",
       "                        <td id=\"T_42a40_row6_col6\" class=\"data row6 col6\" >1.00000</td>\n",
       "                        <td id=\"T_42a40_row6_col7\" class=\"data row6 col7\" >-0.00156</td>\n",
       "                        <td id=\"T_42a40_row6_col8\" class=\"data row6 col8\" >-0.00377</td>\n",
       "            </tr>\n",
       "            <tr>\n",
       "                        <th id=\"T_42a40_level0_row7\" class=\"row_heading level0 row7\" >Confianza</th>\n",
       "                        <td id=\"T_42a40_row7_col0\" class=\"data row7 col0\" >0.00187</td>\n",
       "                        <td id=\"T_42a40_row7_col1\" class=\"data row7 col1\" >0.00414</td>\n",
       "                        <td id=\"T_42a40_row7_col2\" class=\"data row7 col2\" >-0.00535</td>\n",
       "                        <td id=\"T_42a40_row7_col3\" class=\"data row7 col3\" >-0.00009</td>\n",
       "                        <td id=\"T_42a40_row7_col4\" class=\"data row7 col4\" >-0.00101</td>\n",
       "                        <td id=\"T_42a40_row7_col5\" class=\"data row7 col5\" >0.00627</td>\n",
       "                        <td id=\"T_42a40_row7_col6\" class=\"data row7 col6\" >-0.00156</td>\n",
       "                        <td id=\"T_42a40_row7_col7\" class=\"data row7 col7\" >1.00000</td>\n",
       "                        <td id=\"T_42a40_row7_col8\" class=\"data row7 col8\" >-0.00111</td>\n",
       "            </tr>\n",
       "            <tr>\n",
       "                        <th id=\"T_42a40_level0_row8\" class=\"row_heading level0 row8\" >target</th>\n",
       "                        <td id=\"T_42a40_row8_col0\" class=\"data row8 col0\" >-0.00068</td>\n",
       "                        <td id=\"T_42a40_row8_col1\" class=\"data row8 col1\" >0.00045</td>\n",
       "                        <td id=\"T_42a40_row8_col2\" class=\"data row8 col2\" >-0.00680</td>\n",
       "                        <td id=\"T_42a40_row8_col3\" class=\"data row8 col3\" >-0.00345</td>\n",
       "                        <td id=\"T_42a40_row8_col4\" class=\"data row8 col4\" >0.00393</td>\n",
       "                        <td id=\"T_42a40_row8_col5\" class=\"data row8 col5\" >-0.00370</td>\n",
       "                        <td id=\"T_42a40_row8_col6\" class=\"data row8 col6\" >-0.00377</td>\n",
       "                        <td id=\"T_42a40_row8_col7\" class=\"data row8 col7\" >-0.00111</td>\n",
       "                        <td id=\"T_42a40_row8_col8\" class=\"data row8 col8\" >1.00000</td>\n",
       "            </tr>\n",
       "    </tbody></table>"
      ],
      "text/plain": [
       "<pandas.io.formats.style.Styler at 0x1e6612c8850>"
      ]
     },
     "execution_count": 7,
     "metadata": {},
     "output_type": "execute_result"
    }
   ],
   "source": [
    "matriz_corr = x_train[cols_aporte + ['target']].corr(method='spearman')\n",
    "\n",
    "matriz_corr.style.background_gradient(\n",
    "    cmap='coolwarm', axis=None\n",
    ").set_precision(5)"
   ]
  },
  {
   "cell_type": "code",
   "execution_count": 8,
   "id": "f43ee10f-f127-4667-87e3-a31a69130539",
   "metadata": {},
   "outputs": [
    {
     "data": {
      "text/html": [
       "<style  type=\"text/css\" >\n",
       "#T_603c0_row0_col0{\n",
       "            background-color:  #b40426;\n",
       "            color:  #f1f1f1;\n",
       "        }#T_603c0_row1_col0{\n",
       "            background-color:  #3c4ec2;\n",
       "            color:  #f1f1f1;\n",
       "        }#T_603c0_row2_col0,#T_603c0_row3_col0,#T_603c0_row4_col0,#T_603c0_row5_col0,#T_603c0_row6_col0,#T_603c0_row7_col0,#T_603c0_row8_col0{\n",
       "            background-color:  #3b4cc0;\n",
       "            color:  #f1f1f1;\n",
       "        }</style><table id=\"T_603c0_\" ><thead>    <tr>        <th class=\"blank level0\" ></th>        <th class=\"col_heading level0 col0\" >target</th>    </tr></thead><tbody>\n",
       "                <tr>\n",
       "                        <th id=\"T_603c0_level0_row0\" class=\"row_heading level0 row0\" >target</th>\n",
       "                        <td id=\"T_603c0_row0_col0\" class=\"data row0 col0\" >1.00000</td>\n",
       "            </tr>\n",
       "            <tr>\n",
       "                        <th id=\"T_603c0_level0_row1\" class=\"row_heading level0 row1\" >Saldo_cuenta</th>\n",
       "                        <td id=\"T_603c0_row1_col0\" class=\"data row1 col0\" >0.00680</td>\n",
       "            </tr>\n",
       "            <tr>\n",
       "                        <th id=\"T_603c0_level0_row2\" class=\"row_heading level0 row2\" >Cuentas_otros</th>\n",
       "                        <td id=\"T_603c0_row2_col0\" class=\"data row2 col0\" >0.00393</td>\n",
       "            </tr>\n",
       "            <tr>\n",
       "                        <th id=\"T_603c0_level0_row3\" class=\"row_heading level0 row3\" >Impulsividad</th>\n",
       "                        <td id=\"T_603c0_row3_col0\" class=\"data row3 col0\" >0.00377</td>\n",
       "            </tr>\n",
       "            <tr>\n",
       "                        <th id=\"T_603c0_level0_row4\" class=\"row_heading level0 row4\" >Autocontrol</th>\n",
       "                        <td id=\"T_603c0_row4_col0\" class=\"data row4 col0\" >0.00370</td>\n",
       "            </tr>\n",
       "            <tr>\n",
       "                        <th id=\"T_603c0_level0_row5\" class=\"row_heading level0 row5\" >Valor_prestamo</th>\n",
       "                        <td id=\"T_603c0_row5_col0\" class=\"data row5 col0\" >0.00345</td>\n",
       "            </tr>\n",
       "            <tr>\n",
       "                        <th id=\"T_603c0_level0_row6\" class=\"row_heading level0 row6\" >Confianza</th>\n",
       "                        <td id=\"T_603c0_row6_col0\" class=\"data row6 col0\" >0.00111</td>\n",
       "            </tr>\n",
       "            <tr>\n",
       "                        <th id=\"T_603c0_level0_row7\" class=\"row_heading level0 row7\" >Empleado</th>\n",
       "                        <td id=\"T_603c0_row7_col0\" class=\"data row7 col0\" >0.00068</td>\n",
       "            </tr>\n",
       "            <tr>\n",
       "                        <th id=\"T_603c0_level0_row8\" class=\"row_heading level0 row8\" >Tiempo_empleo</th>\n",
       "                        <td id=\"T_603c0_row8_col0\" class=\"data row8 col0\" >0.00045</td>\n",
       "            </tr>\n",
       "    </tbody></table>"
      ],
      "text/plain": [
       "<pandas.io.formats.style.Styler at 0x1e61b107e50>"
      ]
     },
     "execution_count": 8,
     "metadata": {},
     "output_type": "execute_result"
    }
   ],
   "source": [
    "pd.DataFrame(matriz_corr['target'].abs().sort_values(ascending=False)).style.background_gradient(\n",
    "    cmap='coolwarm', axis=None\n",
    ").set_precision(5)"
   ]
  },
  {
   "cell_type": "code",
   "execution_count": 9,
   "id": "03aa5cd1-03ce-46bf-a492-aa9307177019",
   "metadata": {},
   "outputs": [],
   "source": [
    "del x_train['target']"
   ]
  },
  {
   "cell_type": "code",
   "execution_count": 10,
   "id": "0c2828e4-c9ee-4e88-abd8-132fe23bc78d",
   "metadata": {},
   "outputs": [
    {
     "name": "stdout",
     "output_type": "stream",
     "text": [
      "Optimization terminated successfully.\n",
      "         Current function value: 0.409889\n",
      "         Iterations 6\n"
     ]
    }
   ],
   "source": [
    "import statsmodels.api as sm\n",
    "\n",
    "logit_model_2 = sm.Logit(y_train , x_train[cols_aporte])\n",
    "result_2 = logit_model_2.fit()"
   ]
  },
  {
   "cell_type": "code",
   "execution_count": 33,
   "id": "f2d47660-35f0-4db8-bb75-4a49433b7403",
   "metadata": {},
   "outputs": [],
   "source": [
    "#help(logit_model_2.fit)"
   ]
  },
  {
   "cell_type": "code",
   "execution_count": 34,
   "id": "02935258-4fc2-4356-b67b-506ae4c2d773",
   "metadata": {},
   "outputs": [
    {
     "data": {
      "text/html": [
       "<div>\n",
       "<style scoped>\n",
       "    .dataframe tbody tr th:only-of-type {\n",
       "        vertical-align: middle;\n",
       "    }\n",
       "\n",
       "    .dataframe tbody tr th {\n",
       "        vertical-align: top;\n",
       "    }\n",
       "\n",
       "    .dataframe thead th {\n",
       "        text-align: right;\n",
       "    }\n",
       "</style>\n",
       "<table border=\"1\" class=\"dataframe\">\n",
       "  <thead>\n",
       "    <tr style=\"text-align: right;\">\n",
       "      <th></th>\n",
       "      <th>index</th>\n",
       "      <th>pesos</th>\n",
       "    </tr>\n",
       "  </thead>\n",
       "  <tbody>\n",
       "    <tr>\n",
       "      <th>0</th>\n",
       "      <td>Tiempo_empleo</td>\n",
       "      <td>0.047774</td>\n",
       "    </tr>\n",
       "    <tr>\n",
       "      <th>1</th>\n",
       "      <td>Cuentas_otros</td>\n",
       "      <td>0.309007</td>\n",
       "    </tr>\n",
       "    <tr>\n",
       "      <th>2</th>\n",
       "      <td>Saldo_cuenta</td>\n",
       "      <td>0.993621</td>\n",
       "    </tr>\n",
       "    <tr>\n",
       "      <th>3</th>\n",
       "      <td>Empleado</td>\n",
       "      <td>5.879682</td>\n",
       "    </tr>\n",
       "    <tr>\n",
       "      <th>4</th>\n",
       "      <td>Valor_prestamo</td>\n",
       "      <td>7.954889</td>\n",
       "    </tr>\n",
       "    <tr>\n",
       "      <th>5</th>\n",
       "      <td>Impulsividad</td>\n",
       "      <td>24.826648</td>\n",
       "    </tr>\n",
       "    <tr>\n",
       "      <th>6</th>\n",
       "      <td>Confianza</td>\n",
       "      <td>28.326063</td>\n",
       "    </tr>\n",
       "    <tr>\n",
       "      <th>7</th>\n",
       "      <td>Autocontrol</td>\n",
       "      <td>31.662316</td>\n",
       "    </tr>\n",
       "  </tbody>\n",
       "</table>\n",
       "</div>"
      ],
      "text/plain": [
       "            index      pesos\n",
       "0   Tiempo_empleo   0.047774\n",
       "1   Cuentas_otros   0.309007\n",
       "2    Saldo_cuenta   0.993621\n",
       "3        Empleado   5.879682\n",
       "4  Valor_prestamo   7.954889\n",
       "5    Impulsividad  24.826648\n",
       "6       Confianza  28.326063\n",
       "7     Autocontrol  31.662316"
      ]
     },
     "execution_count": 34,
     "metadata": {},
     "output_type": "execute_result"
    }
   ],
   "source": [
    "pesos_ = pd.DataFrame(calcular_pesos(result_2)).reset_index()\n",
    "pesos_"
   ]
  },
  {
   "cell_type": "code",
   "execution_count": 35,
   "id": "e1b59688-3a1d-4c59-8f81-ddde92585747",
   "metadata": {},
   "outputs": [],
   "source": [
    "pesos_.to_excel('pesos_originales.xlsx', index=False)"
   ]
  },
  {
   "cell_type": "code",
   "execution_count": 36,
   "id": "0a77b32b-8318-4afd-9ba0-252f95e5d01a",
   "metadata": {},
   "outputs": [
    {
     "data": {
      "text/html": [
       "<table class=\"simpletable\">\n",
       "<tr>\n",
       "        <td>Model:</td>              <td>Logit</td>      <td>Pseudo R-squared:</td>   <td>-0.007</td>  \n",
       "</tr>\n",
       "<tr>\n",
       "  <td>Dependent Variable:</td>  <td>Incumplimiento</td>        <td>AIC:</td>        <td>44542.2532</td>\n",
       "</tr>\n",
       "<tr>\n",
       "         <td>Date:</td>        <td>2021-06-05 19:08</td>       <td>BIC:</td>        <td>44613.4737</td>\n",
       "</tr>\n",
       "<tr>\n",
       "   <td>No. Observations:</td>        <td>54315</td>       <td>Log-Likelihood:</td>    <td>-22263.</td> \n",
       "</tr>\n",
       "<tr>\n",
       "       <td>Df Model:</td>              <td>7</td>            <td>LL-Null:</td>        <td>-22109.</td> \n",
       "</tr>\n",
       "<tr>\n",
       "     <td>Df Residuals:</td>          <td>54307</td>        <td>LLR p-value:</td>      <td>1.0000</td>  \n",
       "</tr>\n",
       "<tr>\n",
       "      <td>Converged:</td>           <td>1.0000</td>           <td>Scale:</td>         <td>1.0000</td>  \n",
       "</tr>\n",
       "<tr>\n",
       "    <td>No. Iterations:</td>        <td>6.0000</td>              <td></td>               <td></td>     \n",
       "</tr>\n",
       "</table>\n",
       "<table class=\"simpletable\">\n",
       "<tr>\n",
       "         <td></td>         <th>Coef.</th>  <th>Std.Err.</th>     <th>z</th>     <th>P>|z|</th> <th>[0.025</th>  <th>0.975]</th> \n",
       "</tr>\n",
       "<tr>\n",
       "  <th>Empleado</th>       <td>-0.1902</td>  <td>0.0367</td>   <td>-5.1830</td> <td>0.0000</td> <td>-0.2621</td> <td>-0.1183</td>\n",
       "</tr>\n",
       "<tr>\n",
       "  <th>Tiempo_empleo</th>  <td>0.0708</td>   <td>0.1515</td>   <td>0.4672</td>  <td>0.6404</td> <td>-0.2262</td> <td>0.3678</td> \n",
       "</tr>\n",
       "<tr>\n",
       "  <th>Saldo_cuenta</th>   <td>-3.4593</td>  <td>1.6236</td>   <td>-2.1306</td> <td>0.0331</td> <td>-6.6415</td> <td>-0.2771</td>\n",
       "</tr>\n",
       "<tr>\n",
       "  <th>Valor_prestamo</th> <td>-0.3602</td>  <td>0.0597</td>   <td>-6.0286</td> <td>0.0000</td> <td>-0.4773</td> <td>-0.2431</td>\n",
       "</tr>\n",
       "<tr>\n",
       "  <th>Cuentas_otros</th>  <td>-0.1014</td>  <td>0.0853</td>   <td>-1.1882</td> <td>0.2348</td> <td>-0.2686</td> <td>0.0658</td> \n",
       "</tr>\n",
       "<tr>\n",
       "  <th>Autocontrol</th>    <td>-1.0642</td>  <td>0.0885</td>  <td>-12.0274</td> <td>0.0000</td> <td>-1.2377</td> <td>-0.8908</td>\n",
       "</tr>\n",
       "<tr>\n",
       "  <th>Impulsividad</th>   <td>-0.9125</td>  <td>0.0857</td>  <td>-10.6502</td> <td>0.0000</td> <td>-1.0804</td> <td>-0.7445</td>\n",
       "</tr>\n",
       "<tr>\n",
       "  <th>Confianza</th>      <td>-1.0141</td>  <td>0.0891</td>  <td>-11.3761</td> <td>0.0000</td> <td>-1.1888</td> <td>-0.8394</td>\n",
       "</tr>\n",
       "</table>"
      ],
      "text/plain": [
       "<class 'statsmodels.iolib.summary2.Summary'>\n",
       "\"\"\"\n",
       "                         Results: Logit\n",
       "=================================================================\n",
       "Model:              Logit            Pseudo R-squared: -0.007    \n",
       "Dependent Variable: Incumplimiento   AIC:              44542.2532\n",
       "Date:               2021-06-05 19:08 BIC:              44613.4737\n",
       "No. Observations:   54315            Log-Likelihood:   -22263.   \n",
       "Df Model:           7                LL-Null:          -22109.   \n",
       "Df Residuals:       54307            LLR p-value:      1.0000    \n",
       "Converged:          1.0000           Scale:            1.0000    \n",
       "No. Iterations:     6.0000                                       \n",
       "-----------------------------------------------------------------\n",
       "                  Coef.  Std.Err.    z     P>|z|   [0.025  0.975]\n",
       "-----------------------------------------------------------------\n",
       "Empleado         -0.1902   0.0367  -5.1830 0.0000 -0.2621 -0.1183\n",
       "Tiempo_empleo     0.0708   0.1515   0.4672 0.6404 -0.2262  0.3678\n",
       "Saldo_cuenta     -3.4593   1.6236  -2.1306 0.0331 -6.6415 -0.2771\n",
       "Valor_prestamo   -0.3602   0.0597  -6.0286 0.0000 -0.4773 -0.2431\n",
       "Cuentas_otros    -0.1014   0.0853  -1.1882 0.2348 -0.2686  0.0658\n",
       "Autocontrol      -1.0642   0.0885 -12.0274 0.0000 -1.2377 -0.8908\n",
       "Impulsividad     -0.9125   0.0857 -10.6502 0.0000 -1.0804 -0.7445\n",
       "Confianza        -1.0141   0.0891 -11.3761 0.0000 -1.1888 -0.8394\n",
       "=================================================================\n",
       "\n",
       "\"\"\""
      ]
     },
     "execution_count": 36,
     "metadata": {},
     "output_type": "execute_result"
    }
   ],
   "source": [
    "result_2.summary2()"
   ]
  },
  {
   "cell_type": "code",
   "execution_count": 37,
   "id": "3c3cfef9-ae28-4f1e-9dde-c31586281913",
   "metadata": {},
   "outputs": [],
   "source": [
    "import numpy as np\n",
    "#prediciendo en base al modelo \n",
    "y_pred_prob_2_train = result_2.predict(x_train[cols_aporte])\n",
    "y_pred_class_2_train = np.where(y_pred_prob_2_train < 0.5, 0 , 1)\n",
    "\n",
    "y_pred_prob_2_valid = result_2.predict(x_valid[cols_aporte])\n",
    "y_pred_class_2_valid = np.where(y_pred_prob_2_valid < 0.5, 0 , 1)"
   ]
  },
  {
   "cell_type": "code",
   "execution_count": 38,
   "id": "929481ff-8408-4334-92ee-364ec42f7279",
   "metadata": {},
   "outputs": [
    {
     "data": {
      "text/plain": [
       "0    54315\n",
       "dtype: int64"
      ]
     },
     "execution_count": 38,
     "metadata": {},
     "output_type": "execute_result"
    }
   ],
   "source": [
    "pd.Series(y_pred_class_2_train).value_counts()"
   ]
  },
  {
   "cell_type": "code",
   "execution_count": 39,
   "id": "85c6df65-6ba0-478d-af1e-b60500cf8a5d",
   "metadata": {},
   "outputs": [
    {
     "data": {
      "text/plain": [
       "0    9586\n",
       "dtype: int64"
      ]
     },
     "execution_count": 39,
     "metadata": {},
     "output_type": "execute_result"
    }
   ],
   "source": [
    "pd.Series(y_pred_class_2_valid).value_counts()"
   ]
  },
  {
   "cell_type": "code",
   "execution_count": 40,
   "id": "20f71671-f9d9-4c36-8c40-86e2ddecd706",
   "metadata": {},
   "outputs": [
    {
     "data": {
      "text/plain": [
       "<AxesSubplot:>"
      ]
     },
     "execution_count": 40,
     "metadata": {},
     "output_type": "execute_result"
    },
    {
     "data": {
      "image/png": "[encoded data removed]",
      "text/plain": [
       "<Figure size 432x288 with 1 Axes>"
      ]
     },
     "metadata": {
      "needs_background": "light"
     },
     "output_type": "display_data"
    }
   ],
   "source": [
    "y_pred_prob_2_train.hist()"
   ]
  },
  {
   "cell_type": "code",
   "execution_count": 41,
   "id": "a3d40869-a171-4a83-8ff1-0b57dfbd3e1a",
   "metadata": {},
   "outputs": [
    {
     "data": {
      "text/plain": [
       "<AxesSubplot:>"
      ]
     },
     "execution_count": 41,
     "metadata": {},
     "output_type": "execute_result"
    },
    {
     "data": {
      "image/png": "[encoded data removed]",
      "text/plain": [
       "<Figure size 432x288 with 1 Axes>"
      ]
     },
     "metadata": {
      "needs_background": "light"
     },
     "output_type": "display_data"
    }
   ],
   "source": [
    "y_pred_prob_2_valid.hist()"
   ]
  },
  {
   "cell_type": "code",
   "execution_count": 42,
   "id": "15f84aeb-81b6-4389-aedb-a64f4cf4cded",
   "metadata": {},
   "outputs": [
    {
     "name": "stdout",
     "output_type": "stream",
     "text": [
      "///////////////////////// TRAIN\n",
      "AUC: 0.505\n",
      "GINI: 0.011\n",
      "///////////////////////// VALIDATION\n",
      "AUC: 0.507\n",
      "GINI: 0.014\n"
     ]
    }
   ],
   "source": [
    "from sklearn.metrics import precision_score, recall_score, f1_score, accuracy_score, roc_auc_score, accuracy_score\n",
    "\n",
    "print(\"/\"*25, 'TRAIN')\n",
    "auc = roc_auc_score(y_train, y_pred_prob_2_train)\n",
    "print(\"AUC: %1.3f\" % auc)\n",
    "print(\"GINI: %1.3f\" % (2*auc-1))\n",
    "\n",
    "print(\"/\"*25, 'VALIDATION')\n",
    "auc_2 = roc_auc_score(y_valid, y_pred_prob_2_valid)\n",
    "print(\"AUC: %1.3f\" % auc_2)\n",
    "print(\"GINI: %1.3f\" % (2*auc_2-1))"
   ]
  },
  {
   "cell_type": "code",
   "execution_count": 43,
   "id": "79b3629f-c679-422d-9b22-95a422e3d2b6",
   "metadata": {},
   "outputs": [
    {
     "name": "stdout",
     "output_type": "stream",
     "text": [
      "///////////////////////// TRAIN\n",
      "RECALL     : 0.00000000\n",
      "EFECTIVIDAD: 0.00000000\n",
      "F1 SCORE   : 0.00000000\n",
      "///////////////////////// VALIDATION\n",
      "RECALL     : 0.00000000\n",
      "EFECTIVIDAD: 0.00000000\n",
      "F1 SCORE   : 0.00000000\n"
     ]
    },
    {
     "name": "stderr",
     "output_type": "stream",
     "text": [
      "C:\\ProgramData\\Anaconda3\\lib\\site-packages\\sklearn\\metrics\\_classification.py:1221: UndefinedMetricWarning: Precision is ill-defined and being set to 0.0 due to no predicted samples. Use `zero_division` parameter to control this behavior.\n",
      "  _warn_prf(average, modifier, msg_start, len(result))\n"
     ]
    }
   ],
   "source": [
    "print(\"/\"*25, 'TRAIN')\n",
    "print(\"RECALL     : %1.8f\" % recall_score(y_train, y_pred_class_2_train))\n",
    "print(\"EFECTIVIDAD: %1.8f\" % precision_score(y_train, y_pred_class_2_train))\n",
    "print(\"F1 SCORE   : %1.8f\" % f1_score(y_train, y_pred_class_2_train))\n",
    "\n",
    "print(\"/\"*25, 'VALIDATION')\n",
    "print(\"RECALL     : %1.8f\" % recall_score(y_valid, y_pred_class_2_valid))\n",
    "print(\"EFECTIVIDAD: %1.8f\" % precision_score(y_valid, y_pred_class_2_valid))\n",
    "print(\"F1 SCORE   : %1.8f\" % f1_score(y_valid, y_pred_class_2_valid))"
   ]
  },
  {
   "cell_type": "code",
   "execution_count": null,
   "id": "9561f6ee-180f-4a8a-8457-56097f122ac8",
   "metadata": {},
   "outputs": [],
   "source": []
  },
  {
   "cell_type": "markdown",
   "id": "05ac40c6-1cbe-4afb-b9b7-5e4a4b58008e",
   "metadata": {},
   "source": [
    "#### >>> RECALL"
   ]
  },
  {
   "cell_type": "code",
   "execution_count": 44,
   "id": "2d77863f-417b-4360-9906-83a17f3a836f",
   "metadata": {},
   "outputs": [
    {
     "data": {
      "text/plain": [
       "     fun: -1.0\n",
       " message: 'Optimization terminated successfully.'\n",
       "    nfev: 92\n",
       "     nit: 5\n",
       " success: True\n",
       "       x: array([0.05451543])"
      ]
     },
     "execution_count": 44,
     "metadata": {},
     "output_type": "execute_result"
    }
   ],
   "source": [
    "from scipy.optimize import differential_evolution\n",
    "\n",
    "\n",
    "optimization_rec = differential_evolution(\n",
    "    lambda c: -1*recall_score(y_train, np.array([0 if _ < c[0] else 1 for _ in y_pred_prob_2_train])), \n",
    "    [(0, 1)]\n",
    ")\n",
    "optimization_rec"
   ]
  },
  {
   "cell_type": "code",
   "execution_count": 45,
   "id": "66457ba9-9dbc-4dae-bb25-e9981a33eb1e",
   "metadata": {},
   "outputs": [
    {
     "data": {
      "text/plain": [
       "0.05451543136062381"
      ]
     },
     "execution_count": 45,
     "metadata": {},
     "output_type": "execute_result"
    }
   ],
   "source": [
    "corte_rec = optimization_rec['x'][0]\n",
    "corte_rec"
   ]
  },
  {
   "cell_type": "code",
   "execution_count": 46,
   "id": "597be65f-d57a-40f4-8cec-4625ff5e322c",
   "metadata": {},
   "outputs": [],
   "source": [
    "y_pred_class_train_2_rec = np.where(y_pred_prob_2_train < corte_rec, 0 , 1)\n",
    "y_pred_class_valid_2_rc = np.where(y_pred_prob_2_valid < corte_rec, 0 , 1)"
   ]
  },
  {
   "cell_type": "code",
   "execution_count": 47,
   "id": "c0c86b9d-0b63-4f79-b24d-912ea2693a5c",
   "metadata": {},
   "outputs": [
    {
     "data": {
      "text/plain": [
       "1    54303\n",
       "0       12\n",
       "dtype: int64"
      ]
     },
     "execution_count": 47,
     "metadata": {},
     "output_type": "execute_result"
    }
   ],
   "source": [
    "pd.Series(y_pred_class_train_2_rec).value_counts()"
   ]
  },
  {
   "cell_type": "code",
   "execution_count": 48,
   "id": "ce58f5eb-cb84-4fdc-bc33-02adaaee7ce7",
   "metadata": {},
   "outputs": [
    {
     "data": {
      "text/plain": [
       "1    9584\n",
       "0       2\n",
       "dtype: int64"
      ]
     },
     "execution_count": 48,
     "metadata": {},
     "output_type": "execute_result"
    }
   ],
   "source": [
    "pd.Series(y_pred_class_valid_2_rc).value_counts()"
   ]
  },
  {
   "cell_type": "code",
   "execution_count": 49,
   "id": "198229a3-f148-4601-8a76-67c15c07231d",
   "metadata": {},
   "outputs": [
    {
     "name": "stdout",
     "output_type": "stream",
     "text": [
      "///////////////////////// TRAIN\n",
      "RECALL     : 1.00000000\n",
      "EFECTIVIDAD: 0.14118925\n",
      "F1 SCORE   : 0.24744231\n",
      "///////////////////////// VALIDATION\n",
      "RECALL     : 1.00000000\n",
      "EFECTIVIDAD: 0.14117279\n",
      "F1 SCORE   : 0.24741702\n"
     ]
    }
   ],
   "source": [
    "print(\"/\"*25, \"TRAIN\")\n",
    "print(\"RECALL     : %1.8f\" % recall_score(y_train, y_pred_class_train_2_rec))\n",
    "print(\"EFECTIVIDAD: %1.8f\" % precision_score(y_train, y_pred_class_train_2_rec))\n",
    "print(\"F1 SCORE   : %1.8f\" % f1_score(y_train, y_pred_class_train_2_rec))\n",
    "\n",
    "print(\"/\"*25, \"VALIDATION\")\n",
    "print(\"RECALL     : %1.8f\" % recall_score(y_valid, y_pred_class_valid_2_rc))\n",
    "print(\"EFECTIVIDAD: %1.8f\" % precision_score(y_valid, y_pred_class_valid_2_rc))\n",
    "print(\"F1 SCORE   : %1.8f\" % f1_score(y_valid, y_pred_class_valid_2_rc))"
   ]
  },
  {
   "cell_type": "code",
   "execution_count": null,
   "id": "010f4b0e-de8c-450d-9a23-6b6686759336",
   "metadata": {},
   "outputs": [],
   "source": []
  },
  {
   "cell_type": "markdown",
   "id": "e3853f23-b161-4cbd-b97e-4052d694cfcd",
   "metadata": {},
   "source": [
    "#### >>> EFECTIVIDAD"
   ]
  },
  {
   "cell_type": "code",
   "execution_count": 50,
   "id": "d3a1c84a-b33b-433f-9580-07ac0911d5ec",
   "metadata": {},
   "outputs": [
    {
     "name": "stderr",
     "output_type": "stream",
     "text": [
      "C:\\ProgramData\\Anaconda3\\lib\\site-packages\\sklearn\\metrics\\_classification.py:1221: UndefinedMetricWarning: Precision is ill-defined and being set to 0.0 due to no predicted samples. Use `zero_division` parameter to control this behavior.\n",
      "  _warn_prf(average, modifier, msg_start, len(result))\n"
     ]
    },
    {
     "data": {
      "text/plain": [
       "     fun: -0.3333333333333333\n",
       " message: 'Optimization terminated successfully.'\n",
       "    nfev: 182\n",
       "     nit: 11\n",
       " success: True\n",
       "       x: array([0.29153277])"
      ]
     },
     "execution_count": 50,
     "metadata": {},
     "output_type": "execute_result"
    }
   ],
   "source": [
    "optimization_pre = differential_evolution(\n",
    "    lambda c: -1*precision_score(y_train, np.array([0 if _ < c[0] else 1 for _ in y_pred_prob_2_train])), \n",
    "    [(0, 1)]\n",
    ")\n",
    "optimization_pre"
   ]
  },
  {
   "cell_type": "code",
   "execution_count": null,
   "id": "3b7e1286-2f54-49b0-9511-0da58d50386e",
   "metadata": {},
   "outputs": [],
   "source": []
  },
  {
   "cell_type": "markdown",
   "id": "3bb8cc6e-9805-4032-b6a8-e16e51976cc3",
   "metadata": {},
   "source": [
    "#### >>> AUC"
   ]
  },
  {
   "cell_type": "code",
   "execution_count": 51,
   "id": "501ea2b0-d72b-480e-aaf0-c63782c37bbc",
   "metadata": {},
   "outputs": [
    {
     "data": {
      "text/plain": [
       "     fun: -0.5009503167754273\n",
       " message: 'Optimization terminated successfully.'\n",
       "    nfev: 32\n",
       "     nit: 1\n",
       " success: True\n",
       "       x: array([0.17566663])"
      ]
     },
     "execution_count": 51,
     "metadata": {},
     "output_type": "execute_result"
    }
   ],
   "source": [
    "optimization_auc = differential_evolution(\n",
    "    lambda c: -1*roc_auc_score(y_train, np.array([0 if _ < c[0] else 1 for _ in y_pred_prob_2_train])), \n",
    "    [(0, 1)]\n",
    ")\n",
    "optimization_auc"
   ]
  },
  {
   "cell_type": "code",
   "execution_count": 52,
   "id": "2fe947ae-60bc-4fcc-aea4-2ffd517f131d",
   "metadata": {},
   "outputs": [
    {
     "data": {
      "text/plain": [
       "0.17566662842575215"
      ]
     },
     "execution_count": 52,
     "metadata": {},
     "output_type": "execute_result"
    }
   ],
   "source": [
    "corte_auc = optimization_auc['x'][0]\n",
    "corte_auc"
   ]
  },
  {
   "cell_type": "code",
   "execution_count": 53,
   "id": "2b7a4e33-2b7f-4601-b1ad-38ad776df862",
   "metadata": {},
   "outputs": [],
   "source": [
    "y_pred_class_train_2_auc = np.where(y_pred_prob_2_train < corte_auc, 0 , 1)\n",
    "y_pred_class_valid_2_auc = np.where(y_pred_prob_2_valid < corte_auc, 0 , 1)"
   ]
  },
  {
   "cell_type": "code",
   "execution_count": 54,
   "id": "86edf21e-1992-48d8-8b2d-39f46f63993f",
   "metadata": {},
   "outputs": [
    {
     "name": "stdout",
     "output_type": "stream",
     "text": [
      "///////////////////////// TRAIN\n",
      "ac     : 0.75975329\n",
      "RECALL     : 0.14034172\n",
      "EFECTIVIDAD: 0.14281922\n",
      "F1 SCORE   : 0.14156963\n",
      "///////////////////////// VALIDATION\n",
      "AC     : 0.75975329\n",
      "RECALL     : 0.13821138\n",
      "EFECTIVIDAD: 0.14263921\n",
      "F1 SCORE   : 0.14039039\n"
     ]
    }
   ],
   "source": [
    "print(\"/\"*25, \"TRAIN\")\n",
    "print(\"ac     : %1.8f\" % accuracy_score(y_train, y_pred_class_train_2_auc))\n",
    "print(\"RECALL     : %1.8f\" % recall_score(y_train, y_pred_class_train_2_auc))\n",
    "print(\"EFECTIVIDAD: %1.8f\" % precision_score(y_train, y_pred_class_train_2_auc))\n",
    "print(\"F1 SCORE   : %1.8f\" % f1_score(y_train, y_pred_class_train_2_auc))\n",
    "\n",
    "print(\"/\"*25, \"VALIDATION\")\n",
    "print(\"AC     : %1.8f\" % accuracy_score(y_train, y_pred_class_train_2_auc))\n",
    "print(\"RECALL     : %1.8f\" % recall_score(y_valid, y_pred_class_valid_2_auc))\n",
    "print(\"EFECTIVIDAD: %1.8f\" % precision_score(y_valid, y_pred_class_valid_2_auc))\n",
    "print(\"F1 SCORE   : %1.8f\" % f1_score(y_valid, y_pred_class_valid_2_auc))"
   ]
  },
  {
   "cell_type": "code",
   "execution_count": null,
   "id": "295d2776-7875-4a59-ae59-183fcee27f10",
   "metadata": {},
   "outputs": [],
   "source": []
  },
  {
   "cell_type": "code",
   "execution_count": null,
   "id": "88fd174a-17cb-4152-9f09-1fda38ea2fe5",
   "metadata": {},
   "outputs": [],
   "source": []
  },
  {
   "cell_type": "code",
   "execution_count": null,
   "id": "fbbeecd2-63c4-46d3-b039-061eac9c4689",
   "metadata": {},
   "outputs": [],
   "source": []
  },
  {
   "cell_type": "code",
   "execution_count": null,
   "id": "cd6bf05d-dd52-4430-83a3-68a70c765d7c",
   "metadata": {},
   "outputs": [],
   "source": []
  },
  {
   "cell_type": "code",
   "execution_count": null,
   "id": "b04104da-6a33-4228-9120-1d67abdb7c20",
   "metadata": {},
   "outputs": [],
   "source": []
  }
 ],
 "metadata": {
  "kernelspec": {
   "display_name": "Python 3",
   "language": "python",
   "name": "python3"
  },
  "language_info": {
   "codemirror_mode": {
    "name": "ipython",
    "version": 3
   },
   "file_extension": ".py",
   "mimetype": "text/x-python",
   "name": "python",
   "nbconvert_exporter": "python",
   "pygments_lexer": "ipython3",
   "version": "3.8.5"
  }
 },
 "nbformat": 4,
 "nbformat_minor": 5
}
