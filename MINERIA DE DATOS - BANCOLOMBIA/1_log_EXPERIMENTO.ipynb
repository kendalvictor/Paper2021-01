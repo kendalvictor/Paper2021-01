{
 "cells": [
  {
   "cell_type": "code",
   "execution_count": 1,
   "id": "42ae479b-e86e-4735-837e-f6d147e99b12",
   "metadata": {},
   "outputs": [],
   "source": [
    "# Nativos\n",
    "import random as rn\n",
    "import os\n",
    "import sys\n",
    "import gc\n",
    "\n",
    "#calculo\n",
    "import numpy as np\n",
    "import pandas as pd\n",
    "import scipy\n",
    "\n",
    "import pandas as pd\n",
    "import scorecardpy as sc\n",
    "\n",
    "SEED = 29082013\n",
    "os.environ['PYTHONHASHSEED']=str(SEED)\n",
    "np.random.seed(SEED)\n",
    "rn.seed(SEED)"
   ]
  },
  {
   "cell_type": "code",
   "execution_count": 2,
   "id": "801bea8d-50a7-4a50-af9b-6fe3c56e0ef3",
   "metadata": {},
   "outputs": [
    {
     "data": {
      "text/plain": [
       "((51120, 60), (12781, 60), (51120, 1), (12781, 1))"
      ]
     },
     "execution_count": 2,
     "metadata": {},
     "output_type": "execute_result"
    }
   ],
   "source": [
    "x_train = pd.read_csv(\"X_train.csv\")\n",
    "x_valid = pd.read_csv(\"X_valid.csv\")\n",
    "\n",
    "y_train = pd.read_csv(\"y_train.csv\")\n",
    "y_valid = pd.read_csv(\"y_valid.csv\")\n",
    "\n",
    "x_train.shape, x_valid.shape, y_train.shape, y_valid.shape"
   ]
  },
  {
   "cell_type": "code",
   "execution_count": 3,
   "id": "813eef17-49d7-472a-b487-726087e4f1c3",
   "metadata": {},
   "outputs": [],
   "source": [
    "def calcular_pesos(modelo):\n",
    "    coef_model = pd.DataFrame(modelo.tvalues, columns=['t_value'])\n",
    "    coef_model['t_value2'] = np.power(coef_model['t_value'],2)\n",
    "    coef_model['total'] = sum(coef_model['t_value2'])\n",
    "    coef_model['part'] = coef_model['t_value2'] / coef_model['total']\n",
    "    coef_model['pesos'] = coef_model['part'] * 100\n",
    "    return coef_model['pesos'].sort_values(ascending=True)"
   ]
  },
  {
   "cell_type": "markdown",
   "id": "7b5a3e62-7c46-4189-b4d5-467a76f6c52a",
   "metadata": {},
   "source": [
    "### >> Modleo mayor p-value"
   ]
  },
  {
   "cell_type": "code",
   "execution_count": 4,
   "id": "17fad8f0-8b9f-4d08-a450-99d7e418352b",
   "metadata": {},
   "outputs": [],
   "source": [
    "cols_aporte = [\n",
    " 'Empleado',\n",
    " 'Tiempo_empleo',\n",
    " 'Saldo_cuenta',\n",
    " 'Valor_prestamo',\n",
    " 'Cuentas_otros',\n",
    " 'Autocontrol',\n",
    " 'Impulsividad',\n",
    " 'Confianza' \n",
    "]"
   ]
  },
  {
   "cell_type": "code",
   "execution_count": 5,
   "id": "d21cc8f4-e2a7-487a-820d-055eeae6fde0",
   "metadata": {},
   "outputs": [
    {
     "data": {
      "text/html": [
       "<style  type=\"text/css\" >\n",
       "#T_7de6f_row0_col0,#T_7de6f_row1_col1,#T_7de6f_row2_col2,#T_7de6f_row3_col3,#T_7de6f_row4_col4,#T_7de6f_row5_col5,#T_7de6f_row6_col6,#T_7de6f_row7_col7,#T_7de6f_row8_col8{\n",
       "            background-color:  #b40426;\n",
       "            color:  #f1f1f1;\n",
       "        }#T_7de6f_row0_col1,#T_7de6f_row1_col0{\n",
       "            background-color:  #d9dce1;\n",
       "            color:  #000000;\n",
       "        }#T_7de6f_row0_col2,#T_7de6f_row0_col7,#T_7de6f_row1_col5,#T_7de6f_row1_col8,#T_7de6f_row2_col0,#T_7de6f_row2_col4,#T_7de6f_row3_col4,#T_7de6f_row3_col7,#T_7de6f_row4_col2,#T_7de6f_row4_col3,#T_7de6f_row4_col6,#T_7de6f_row4_col8,#T_7de6f_row5_col1,#T_7de6f_row6_col4,#T_7de6f_row7_col0,#T_7de6f_row7_col3,#T_7de6f_row7_col8,#T_7de6f_row8_col1,#T_7de6f_row8_col4,#T_7de6f_row8_col7{\n",
       "            background-color:  #3d50c3;\n",
       "            color:  #f1f1f1;\n",
       "        }#T_7de6f_row0_col3,#T_7de6f_row0_col6,#T_7de6f_row1_col4,#T_7de6f_row1_col6,#T_7de6f_row2_col7,#T_7de6f_row2_col8,#T_7de6f_row3_col0,#T_7de6f_row4_col1,#T_7de6f_row5_col8,#T_7de6f_row6_col0,#T_7de6f_row6_col1,#T_7de6f_row6_col7,#T_7de6f_row7_col2,#T_7de6f_row7_col6,#T_7de6f_row8_col2,#T_7de6f_row8_col5{\n",
       "            background-color:  #3b4cc0;\n",
       "            color:  #f1f1f1;\n",
       "        }#T_7de6f_row0_col4,#T_7de6f_row0_col8,#T_7de6f_row1_col3,#T_7de6f_row2_col3,#T_7de6f_row2_col5,#T_7de6f_row3_col1,#T_7de6f_row3_col2,#T_7de6f_row3_col6,#T_7de6f_row3_col8,#T_7de6f_row4_col0,#T_7de6f_row4_col5,#T_7de6f_row4_col7,#T_7de6f_row5_col2,#T_7de6f_row5_col4,#T_7de6f_row6_col3,#T_7de6f_row6_col8,#T_7de6f_row7_col4,#T_7de6f_row8_col0,#T_7de6f_row8_col3,#T_7de6f_row8_col6{\n",
       "            background-color:  #3c4ec2;\n",
       "            color:  #f1f1f1;\n",
       "        }#T_7de6f_row0_col5,#T_7de6f_row1_col7,#T_7de6f_row2_col6,#T_7de6f_row5_col0,#T_7de6f_row5_col6,#T_7de6f_row5_col7,#T_7de6f_row6_col2,#T_7de6f_row6_col5,#T_7de6f_row7_col1,#T_7de6f_row7_col5{\n",
       "            background-color:  #3e51c5;\n",
       "            color:  #f1f1f1;\n",
       "        }#T_7de6f_row1_col2,#T_7de6f_row2_col1,#T_7de6f_row3_col5,#T_7de6f_row5_col3{\n",
       "            background-color:  #3f53c6;\n",
       "            color:  #f1f1f1;\n",
       "        }</style><table id=\"T_7de6f_\" ><thead>    <tr>        <th class=\"blank level0\" ></th>        <th class=\"col_heading level0 col0\" >Empleado</th>        <th class=\"col_heading level0 col1\" >Tiempo_empleo</th>        <th class=\"col_heading level0 col2\" >Saldo_cuenta</th>        <th class=\"col_heading level0 col3\" >Valor_prestamo</th>        <th class=\"col_heading level0 col4\" >Cuentas_otros</th>        <th class=\"col_heading level0 col5\" >Autocontrol</th>        <th class=\"col_heading level0 col6\" >Impulsividad</th>        <th class=\"col_heading level0 col7\" >Confianza</th>        <th class=\"col_heading level0 col8\" >target</th>    </tr></thead><tbody>\n",
       "                <tr>\n",
       "                        <th id=\"T_7de6f_level0_row0\" class=\"row_heading level0 row0\" >Empleado</th>\n",
       "                        <td id=\"T_7de6f_row0_col0\" class=\"data row0 col0\" >1.00000</td>\n",
       "                        <td id=\"T_7de6f_row0_col1\" class=\"data row0 col1\" >0.48055</td>\n",
       "                        <td id=\"T_7de6f_row0_col2\" class=\"data row0 col2\" >0.00228</td>\n",
       "                        <td id=\"T_7de6f_row0_col3\" class=\"data row0 col3\" >-0.00777</td>\n",
       "                        <td id=\"T_7de6f_row0_col4\" class=\"data row0 col4\" >-0.00280</td>\n",
       "                        <td id=\"T_7de6f_row0_col5\" class=\"data row0 col5\" >0.00654</td>\n",
       "                        <td id=\"T_7de6f_row0_col6\" class=\"data row0 col6\" >-0.00507</td>\n",
       "                        <td id=\"T_7de6f_row0_col7\" class=\"data row0 col7\" >0.00307</td>\n",
       "                        <td id=\"T_7de6f_row0_col8\" class=\"data row0 col8\" >-0.00068</td>\n",
       "            </tr>\n",
       "            <tr>\n",
       "                        <th id=\"T_7de6f_level0_row1\" class=\"row_heading level0 row1\" >Tiempo_empleo</th>\n",
       "                        <td id=\"T_7de6f_row1_col0\" class=\"data row1 col0\" >0.48055</td>\n",
       "                        <td id=\"T_7de6f_row1_col1\" class=\"data row1 col1\" >1.00000</td>\n",
       "                        <td id=\"T_7de6f_row1_col2\" class=\"data row1 col2\" >0.01015</td>\n",
       "                        <td id=\"T_7de6f_row1_col3\" class=\"data row1 col3\" >-0.00205</td>\n",
       "                        <td id=\"T_7de6f_row1_col4\" class=\"data row1 col4\" >-0.00453</td>\n",
       "                        <td id=\"T_7de6f_row1_col5\" class=\"data row1 col5\" >0.00186</td>\n",
       "                        <td id=\"T_7de6f_row1_col6\" class=\"data row1 col6\" >-0.00713</td>\n",
       "                        <td id=\"T_7de6f_row1_col7\" class=\"data row1 col7\" >0.00550</td>\n",
       "                        <td id=\"T_7de6f_row1_col8\" class=\"data row1 col8\" >0.00186</td>\n",
       "            </tr>\n",
       "            <tr>\n",
       "                        <th id=\"T_7de6f_level0_row2\" class=\"row_heading level0 row2\" >Saldo_cuenta</th>\n",
       "                        <td id=\"T_7de6f_row2_col0\" class=\"data row2 col0\" >0.00228</td>\n",
       "                        <td id=\"T_7de6f_row2_col1\" class=\"data row2 col1\" >0.01015</td>\n",
       "                        <td id=\"T_7de6f_row2_col2\" class=\"data row2 col2\" >1.00000</td>\n",
       "                        <td id=\"T_7de6f_row2_col3\" class=\"data row2 col3\" >-0.00130</td>\n",
       "                        <td id=\"T_7de6f_row2_col4\" class=\"data row2 col4\" >0.00060</td>\n",
       "                        <td id=\"T_7de6f_row2_col5\" class=\"data row2 col5\" >-0.00113</td>\n",
       "                        <td id=\"T_7de6f_row2_col6\" class=\"data row2 col6\" >0.00471</td>\n",
       "                        <td id=\"T_7de6f_row2_col7\" class=\"data row2 col7\" >-0.00429</td>\n",
       "                        <td id=\"T_7de6f_row2_col8\" class=\"data row2 col8\" >-0.00690</td>\n",
       "            </tr>\n",
       "            <tr>\n",
       "                        <th id=\"T_7de6f_level0_row3\" class=\"row_heading level0 row3\" >Valor_prestamo</th>\n",
       "                        <td id=\"T_7de6f_row3_col0\" class=\"data row3 col0\" >-0.00777</td>\n",
       "                        <td id=\"T_7de6f_row3_col1\" class=\"data row3 col1\" >-0.00205</td>\n",
       "                        <td id=\"T_7de6f_row3_col2\" class=\"data row3 col2\" >-0.00130</td>\n",
       "                        <td id=\"T_7de6f_row3_col3\" class=\"data row3 col3\" >1.00000</td>\n",
       "                        <td id=\"T_7de6f_row3_col4\" class=\"data row3 col4\" >0.00015</td>\n",
       "                        <td id=\"T_7de6f_row3_col5\" class=\"data row3 col5\" >0.00992</td>\n",
       "                        <td id=\"T_7de6f_row3_col6\" class=\"data row3 col6\" >-0.00262</td>\n",
       "                        <td id=\"T_7de6f_row3_col7\" class=\"data row3 col7\" >0.00102</td>\n",
       "                        <td id=\"T_7de6f_row3_col8\" class=\"data row3 col8\" >-0.00211</td>\n",
       "            </tr>\n",
       "            <tr>\n",
       "                        <th id=\"T_7de6f_level0_row4\" class=\"row_heading level0 row4\" >Cuentas_otros</th>\n",
       "                        <td id=\"T_7de6f_row4_col0\" class=\"data row4 col0\" >-0.00280</td>\n",
       "                        <td id=\"T_7de6f_row4_col1\" class=\"data row4 col1\" >-0.00453</td>\n",
       "                        <td id=\"T_7de6f_row4_col2\" class=\"data row4 col2\" >0.00060</td>\n",
       "                        <td id=\"T_7de6f_row4_col3\" class=\"data row4 col3\" >0.00015</td>\n",
       "                        <td id=\"T_7de6f_row4_col4\" class=\"data row4 col4\" >1.00000</td>\n",
       "                        <td id=\"T_7de6f_row4_col5\" class=\"data row4 col5\" >-0.00093</td>\n",
       "                        <td id=\"T_7de6f_row4_col6\" class=\"data row4 col6\" >0.00341</td>\n",
       "                        <td id=\"T_7de6f_row4_col7\" class=\"data row4 col7\" >-0.00164</td>\n",
       "                        <td id=\"T_7de6f_row4_col8\" class=\"data row4 col8\" >0.00383</td>\n",
       "            </tr>\n",
       "            <tr>\n",
       "                        <th id=\"T_7de6f_level0_row5\" class=\"row_heading level0 row5\" >Autocontrol</th>\n",
       "                        <td id=\"T_7de6f_row5_col0\" class=\"data row5 col0\" >0.00654</td>\n",
       "                        <td id=\"T_7de6f_row5_col1\" class=\"data row5 col1\" >0.00186</td>\n",
       "                        <td id=\"T_7de6f_row5_col2\" class=\"data row5 col2\" >-0.00113</td>\n",
       "                        <td id=\"T_7de6f_row5_col3\" class=\"data row5 col3\" >0.00992</td>\n",
       "                        <td id=\"T_7de6f_row5_col4\" class=\"data row5 col4\" >-0.00093</td>\n",
       "                        <td id=\"T_7de6f_row5_col5\" class=\"data row5 col5\" >1.00000</td>\n",
       "                        <td id=\"T_7de6f_row5_col6\" class=\"data row5 col6\" >0.00412</td>\n",
       "                        <td id=\"T_7de6f_row5_col7\" class=\"data row5 col7\" >0.00735</td>\n",
       "                        <td id=\"T_7de6f_row5_col8\" class=\"data row5 col8\" >-0.00478</td>\n",
       "            </tr>\n",
       "            <tr>\n",
       "                        <th id=\"T_7de6f_level0_row6\" class=\"row_heading level0 row6\" >Impulsividad</th>\n",
       "                        <td id=\"T_7de6f_row6_col0\" class=\"data row6 col0\" >-0.00507</td>\n",
       "                        <td id=\"T_7de6f_row6_col1\" class=\"data row6 col1\" >-0.00713</td>\n",
       "                        <td id=\"T_7de6f_row6_col2\" class=\"data row6 col2\" >0.00471</td>\n",
       "                        <td id=\"T_7de6f_row6_col3\" class=\"data row6 col3\" >-0.00262</td>\n",
       "                        <td id=\"T_7de6f_row6_col4\" class=\"data row6 col4\" >0.00341</td>\n",
       "                        <td id=\"T_7de6f_row6_col5\" class=\"data row6 col5\" >0.00412</td>\n",
       "                        <td id=\"T_7de6f_row6_col6\" class=\"data row6 col6\" >1.00000</td>\n",
       "                        <td id=\"T_7de6f_row6_col7\" class=\"data row6 col7\" >-0.00452</td>\n",
       "                        <td id=\"T_7de6f_row6_col8\" class=\"data row6 col8\" >-0.00201</td>\n",
       "            </tr>\n",
       "            <tr>\n",
       "                        <th id=\"T_7de6f_level0_row7\" class=\"row_heading level0 row7\" >Confianza</th>\n",
       "                        <td id=\"T_7de6f_row7_col0\" class=\"data row7 col0\" >0.00307</td>\n",
       "                        <td id=\"T_7de6f_row7_col1\" class=\"data row7 col1\" >0.00550</td>\n",
       "                        <td id=\"T_7de6f_row7_col2\" class=\"data row7 col2\" >-0.00429</td>\n",
       "                        <td id=\"T_7de6f_row7_col3\" class=\"data row7 col3\" >0.00102</td>\n",
       "                        <td id=\"T_7de6f_row7_col4\" class=\"data row7 col4\" >-0.00164</td>\n",
       "                        <td id=\"T_7de6f_row7_col5\" class=\"data row7 col5\" >0.00735</td>\n",
       "                        <td id=\"T_7de6f_row7_col6\" class=\"data row7 col6\" >-0.00452</td>\n",
       "                        <td id=\"T_7de6f_row7_col7\" class=\"data row7 col7\" >1.00000</td>\n",
       "                        <td id=\"T_7de6f_row7_col8\" class=\"data row7 col8\" >0.00093</td>\n",
       "            </tr>\n",
       "            <tr>\n",
       "                        <th id=\"T_7de6f_level0_row8\" class=\"row_heading level0 row8\" >target</th>\n",
       "                        <td id=\"T_7de6f_row8_col0\" class=\"data row8 col0\" >-0.00068</td>\n",
       "                        <td id=\"T_7de6f_row8_col1\" class=\"data row8 col1\" >0.00186</td>\n",
       "                        <td id=\"T_7de6f_row8_col2\" class=\"data row8 col2\" >-0.00690</td>\n",
       "                        <td id=\"T_7de6f_row8_col3\" class=\"data row8 col3\" >-0.00211</td>\n",
       "                        <td id=\"T_7de6f_row8_col4\" class=\"data row8 col4\" >0.00383</td>\n",
       "                        <td id=\"T_7de6f_row8_col5\" class=\"data row8 col5\" >-0.00478</td>\n",
       "                        <td id=\"T_7de6f_row8_col6\" class=\"data row8 col6\" >-0.00201</td>\n",
       "                        <td id=\"T_7de6f_row8_col7\" class=\"data row8 col7\" >0.00093</td>\n",
       "                        <td id=\"T_7de6f_row8_col8\" class=\"data row8 col8\" >1.00000</td>\n",
       "            </tr>\n",
       "    </tbody></table>"
      ],
      "text/plain": [
       "<pandas.io.formats.style.Styler at 0x1e81af62820>"
      ]
     },
     "execution_count": 5,
     "metadata": {},
     "output_type": "execute_result"
    }
   ],
   "source": [
    "x_train['target'] = y_train.values\n",
    "matriz_corr = x_train[cols_aporte + ['target']].corr(method='pearson')\n",
    "\n",
    "matriz_corr.style.background_gradient(\n",
    "    cmap='coolwarm', axis=None\n",
    ").set_precision(5)"
   ]
  },
  {
   "cell_type": "code",
   "execution_count": 6,
   "id": "e288e8dc-164d-4b4d-b9ba-5ba5e1c46cf1",
   "metadata": {},
   "outputs": [
    {
     "data": {
      "text/html": [
       "<style  type=\"text/css\" >\n",
       "#T_f464f_row0_col0{\n",
       "            background-color:  #b40426;\n",
       "            color:  #f1f1f1;\n",
       "        }#T_f464f_row1_col0,#T_f464f_row2_col0{\n",
       "            background-color:  #3c4ec2;\n",
       "            color:  #f1f1f1;\n",
       "        }#T_f464f_row3_col0,#T_f464f_row4_col0,#T_f464f_row5_col0,#T_f464f_row6_col0,#T_f464f_row7_col0,#T_f464f_row8_col0{\n",
       "            background-color:  #3b4cc0;\n",
       "            color:  #f1f1f1;\n",
       "        }</style><table id=\"T_f464f_\" ><thead>    <tr>        <th class=\"blank level0\" ></th>        <th class=\"col_heading level0 col0\" >target</th>    </tr></thead><tbody>\n",
       "                <tr>\n",
       "                        <th id=\"T_f464f_level0_row0\" class=\"row_heading level0 row0\" >target</th>\n",
       "                        <td id=\"T_f464f_row0_col0\" class=\"data row0 col0\" >1.00000</td>\n",
       "            </tr>\n",
       "            <tr>\n",
       "                        <th id=\"T_f464f_level0_row1\" class=\"row_heading level0 row1\" >Saldo_cuenta</th>\n",
       "                        <td id=\"T_f464f_row1_col0\" class=\"data row1 col0\" >0.00690</td>\n",
       "            </tr>\n",
       "            <tr>\n",
       "                        <th id=\"T_f464f_level0_row2\" class=\"row_heading level0 row2\" >Autocontrol</th>\n",
       "                        <td id=\"T_f464f_row2_col0\" class=\"data row2 col0\" >0.00478</td>\n",
       "            </tr>\n",
       "            <tr>\n",
       "                        <th id=\"T_f464f_level0_row3\" class=\"row_heading level0 row3\" >Cuentas_otros</th>\n",
       "                        <td id=\"T_f464f_row3_col0\" class=\"data row3 col0\" >0.00383</td>\n",
       "            </tr>\n",
       "            <tr>\n",
       "                        <th id=\"T_f464f_level0_row4\" class=\"row_heading level0 row4\" >Valor_prestamo</th>\n",
       "                        <td id=\"T_f464f_row4_col0\" class=\"data row4 col0\" >0.00211</td>\n",
       "            </tr>\n",
       "            <tr>\n",
       "                        <th id=\"T_f464f_level0_row5\" class=\"row_heading level0 row5\" >Impulsividad</th>\n",
       "                        <td id=\"T_f464f_row5_col0\" class=\"data row5 col0\" >0.00201</td>\n",
       "            </tr>\n",
       "            <tr>\n",
       "                        <th id=\"T_f464f_level0_row6\" class=\"row_heading level0 row6\" >Tiempo_empleo</th>\n",
       "                        <td id=\"T_f464f_row6_col0\" class=\"data row6 col0\" >0.00186</td>\n",
       "            </tr>\n",
       "            <tr>\n",
       "                        <th id=\"T_f464f_level0_row7\" class=\"row_heading level0 row7\" >Confianza</th>\n",
       "                        <td id=\"T_f464f_row7_col0\" class=\"data row7 col0\" >0.00093</td>\n",
       "            </tr>\n",
       "            <tr>\n",
       "                        <th id=\"T_f464f_level0_row8\" class=\"row_heading level0 row8\" >Empleado</th>\n",
       "                        <td id=\"T_f464f_row8_col0\" class=\"data row8 col0\" >0.00068</td>\n",
       "            </tr>\n",
       "    </tbody></table>"
      ],
      "text/plain": [
       "<pandas.io.formats.style.Styler at 0x1e8612884f0>"
      ]
     },
     "execution_count": 6,
     "metadata": {},
     "output_type": "execute_result"
    }
   ],
   "source": [
    "pd.DataFrame(matriz_corr['target'].abs().sort_values(ascending=False)).style.background_gradient(\n",
    "    cmap='coolwarm', axis=None\n",
    ").set_precision(5)"
   ]
  },
  {
   "cell_type": "code",
   "execution_count": 7,
   "id": "f18fd809-066e-4a39-99b9-d3e7bf92b239",
   "metadata": {},
   "outputs": [
    {
     "data": {
      "text/html": [
       "<style  type=\"text/css\" >\n",
       "#T_32d46_row0_col0,#T_32d46_row1_col1,#T_32d46_row2_col2,#T_32d46_row3_col3,#T_32d46_row4_col4,#T_32d46_row5_col5,#T_32d46_row6_col6,#T_32d46_row7_col7,#T_32d46_row8_col8{\n",
       "            background-color:  #b40426;\n",
       "            color:  #f1f1f1;\n",
       "        }#T_32d46_row0_col1,#T_32d46_row1_col0{\n",
       "            background-color:  #f3c7b1;\n",
       "            color:  #000000;\n",
       "        }#T_32d46_row0_col2,#T_32d46_row0_col7,#T_32d46_row1_col2,#T_32d46_row1_col5,#T_32d46_row1_col8,#T_32d46_row2_col0,#T_32d46_row2_col1,#T_32d46_row2_col3,#T_32d46_row2_col4,#T_32d46_row2_col6,#T_32d46_row3_col2,#T_32d46_row3_col4,#T_32d46_row3_col7,#T_32d46_row4_col2,#T_32d46_row4_col3,#T_32d46_row4_col8,#T_32d46_row5_col1,#T_32d46_row6_col2,#T_32d46_row7_col0,#T_32d46_row7_col3,#T_32d46_row7_col8,#T_32d46_row8_col1,#T_32d46_row8_col4,#T_32d46_row8_col7{\n",
       "            background-color:  #3d50c3;\n",
       "            color:  #f1f1f1;\n",
       "        }#T_32d46_row0_col3,#T_32d46_row0_col6,#T_32d46_row1_col4,#T_32d46_row1_col6,#T_32d46_row2_col7,#T_32d46_row2_col8,#T_32d46_row3_col0,#T_32d46_row3_col8,#T_32d46_row4_col1,#T_32d46_row5_col8,#T_32d46_row6_col0,#T_32d46_row6_col1,#T_32d46_row7_col2,#T_32d46_row8_col2,#T_32d46_row8_col3,#T_32d46_row8_col5{\n",
       "            background-color:  #3b4cc0;\n",
       "            color:  #f1f1f1;\n",
       "        }#T_32d46_row0_col4,#T_32d46_row0_col8,#T_32d46_row1_col3,#T_32d46_row2_col5,#T_32d46_row3_col1,#T_32d46_row3_col6,#T_32d46_row4_col0,#T_32d46_row4_col5,#T_32d46_row4_col7,#T_32d46_row5_col2,#T_32d46_row5_col4,#T_32d46_row6_col3,#T_32d46_row6_col7,#T_32d46_row6_col8,#T_32d46_row7_col4,#T_32d46_row7_col6,#T_32d46_row8_col0,#T_32d46_row8_col6{\n",
       "            background-color:  #3c4ec2;\n",
       "            color:  #f1f1f1;\n",
       "        }#T_32d46_row0_col5,#T_32d46_row1_col7,#T_32d46_row4_col6,#T_32d46_row5_col0,#T_32d46_row5_col6,#T_32d46_row5_col7,#T_32d46_row6_col4,#T_32d46_row6_col5,#T_32d46_row7_col1,#T_32d46_row7_col5{\n",
       "            background-color:  #3e51c5;\n",
       "            color:  #f1f1f1;\n",
       "        }#T_32d46_row3_col5,#T_32d46_row5_col3{\n",
       "            background-color:  #3f53c6;\n",
       "            color:  #f1f1f1;\n",
       "        }</style><table id=\"T_32d46_\" ><thead>    <tr>        <th class=\"blank level0\" ></th>        <th class=\"col_heading level0 col0\" >Empleado</th>        <th class=\"col_heading level0 col1\" >Tiempo_empleo</th>        <th class=\"col_heading level0 col2\" >Saldo_cuenta</th>        <th class=\"col_heading level0 col3\" >Valor_prestamo</th>        <th class=\"col_heading level0 col4\" >Cuentas_otros</th>        <th class=\"col_heading level0 col5\" >Autocontrol</th>        <th class=\"col_heading level0 col6\" >Impulsividad</th>        <th class=\"col_heading level0 col7\" >Confianza</th>        <th class=\"col_heading level0 col8\" >target</th>    </tr></thead><tbody>\n",
       "                <tr>\n",
       "                        <th id=\"T_32d46_level0_row0\" class=\"row_heading level0 row0\" >Empleado</th>\n",
       "                        <td id=\"T_32d46_row0_col0\" class=\"data row0 col0\" >1.00000</td>\n",
       "                        <td id=\"T_32d46_row0_col1\" class=\"data row0 col1\" >0.61398</td>\n",
       "                        <td id=\"T_32d46_row0_col2\" class=\"data row0 col2\" >0.00248</td>\n",
       "                        <td id=\"T_32d46_row0_col3\" class=\"data row0 col3\" >-0.00547</td>\n",
       "                        <td id=\"T_32d46_row0_col4\" class=\"data row0 col4\" >-0.00123</td>\n",
       "                        <td id=\"T_32d46_row0_col5\" class=\"data row0 col5\" >0.00558</td>\n",
       "                        <td id=\"T_32d46_row0_col6\" class=\"data row0 col6\" >-0.00528</td>\n",
       "                        <td id=\"T_32d46_row0_col7\" class=\"data row0 col7\" >0.00263</td>\n",
       "                        <td id=\"T_32d46_row0_col8\" class=\"data row0 col8\" >-0.00068</td>\n",
       "            </tr>\n",
       "            <tr>\n",
       "                        <th id=\"T_32d46_level0_row1\" class=\"row_heading level0 row1\" >Tiempo_empleo</th>\n",
       "                        <td id=\"T_32d46_row1_col0\" class=\"data row1 col0\" >0.61398</td>\n",
       "                        <td id=\"T_32d46_row1_col1\" class=\"data row1 col1\" >1.00000</td>\n",
       "                        <td id=\"T_32d46_row1_col2\" class=\"data row1 col2\" >0.00249</td>\n",
       "                        <td id=\"T_32d46_row1_col3\" class=\"data row1 col3\" >-0.00161</td>\n",
       "                        <td id=\"T_32d46_row1_col4\" class=\"data row1 col4\" >-0.00478</td>\n",
       "                        <td id=\"T_32d46_row1_col5\" class=\"data row1 col5\" >0.00287</td>\n",
       "                        <td id=\"T_32d46_row1_col6\" class=\"data row1 col6\" >-0.00603</td>\n",
       "                        <td id=\"T_32d46_row1_col7\" class=\"data row1 col7\" >0.00498</td>\n",
       "                        <td id=\"T_32d46_row1_col8\" class=\"data row1 col8\" >0.00096</td>\n",
       "            </tr>\n",
       "            <tr>\n",
       "                        <th id=\"T_32d46_level0_row2\" class=\"row_heading level0 row2\" >Saldo_cuenta</th>\n",
       "                        <td id=\"T_32d46_row2_col0\" class=\"data row2 col0\" >0.00248</td>\n",
       "                        <td id=\"T_32d46_row2_col1\" class=\"data row2 col1\" >0.00249</td>\n",
       "                        <td id=\"T_32d46_row2_col2\" class=\"data row2 col2\" >1.00000</td>\n",
       "                        <td id=\"T_32d46_row2_col3\" class=\"data row2 col3\" >0.00325</td>\n",
       "                        <td id=\"T_32d46_row2_col4\" class=\"data row2 col4\" >0.00055</td>\n",
       "                        <td id=\"T_32d46_row2_col5\" class=\"data row2 col5\" >-0.00083</td>\n",
       "                        <td id=\"T_32d46_row2_col6\" class=\"data row2 col6\" >0.00214</td>\n",
       "                        <td id=\"T_32d46_row2_col7\" class=\"data row2 col7\" >-0.00655</td>\n",
       "                        <td id=\"T_32d46_row2_col8\" class=\"data row2 col8\" >-0.00791</td>\n",
       "            </tr>\n",
       "            <tr>\n",
       "                        <th id=\"T_32d46_level0_row3\" class=\"row_heading level0 row3\" >Valor_prestamo</th>\n",
       "                        <td id=\"T_32d46_row3_col0\" class=\"data row3 col0\" >-0.00547</td>\n",
       "                        <td id=\"T_32d46_row3_col1\" class=\"data row3 col1\" >-0.00161</td>\n",
       "                        <td id=\"T_32d46_row3_col2\" class=\"data row3 col2\" >0.00325</td>\n",
       "                        <td id=\"T_32d46_row3_col3\" class=\"data row3 col3\" >1.00000</td>\n",
       "                        <td id=\"T_32d46_row3_col4\" class=\"data row3 col4\" >0.00018</td>\n",
       "                        <td id=\"T_32d46_row3_col5\" class=\"data row3 col5\" >0.00950</td>\n",
       "                        <td id=\"T_32d46_row3_col6\" class=\"data row3 col6\" >-0.00224</td>\n",
       "                        <td id=\"T_32d46_row3_col7\" class=\"data row3 col7\" >0.00085</td>\n",
       "                        <td id=\"T_32d46_row3_col8\" class=\"data row3 col8\" >-0.00436</td>\n",
       "            </tr>\n",
       "            <tr>\n",
       "                        <th id=\"T_32d46_level0_row4\" class=\"row_heading level0 row4\" >Cuentas_otros</th>\n",
       "                        <td id=\"T_32d46_row4_col0\" class=\"data row4 col0\" >-0.00123</td>\n",
       "                        <td id=\"T_32d46_row4_col1\" class=\"data row4 col1\" >-0.00478</td>\n",
       "                        <td id=\"T_32d46_row4_col2\" class=\"data row4 col2\" >0.00055</td>\n",
       "                        <td id=\"T_32d46_row4_col3\" class=\"data row4 col3\" >0.00018</td>\n",
       "                        <td id=\"T_32d46_row4_col4\" class=\"data row4 col4\" >1.00000</td>\n",
       "                        <td id=\"T_32d46_row4_col5\" class=\"data row4 col5\" >-0.00073</td>\n",
       "                        <td id=\"T_32d46_row4_col6\" class=\"data row4 col6\" >0.00404</td>\n",
       "                        <td id=\"T_32d46_row4_col7\" class=\"data row4 col7\" >-0.00097</td>\n",
       "                        <td id=\"T_32d46_row4_col8\" class=\"data row4 col8\" >0.00278</td>\n",
       "            </tr>\n",
       "            <tr>\n",
       "                        <th id=\"T_32d46_level0_row5\" class=\"row_heading level0 row5\" >Autocontrol</th>\n",
       "                        <td id=\"T_32d46_row5_col0\" class=\"data row5 col0\" >0.00558</td>\n",
       "                        <td id=\"T_32d46_row5_col1\" class=\"data row5 col1\" >0.00287</td>\n",
       "                        <td id=\"T_32d46_row5_col2\" class=\"data row5 col2\" >-0.00083</td>\n",
       "                        <td id=\"T_32d46_row5_col3\" class=\"data row5 col3\" >0.00950</td>\n",
       "                        <td id=\"T_32d46_row5_col4\" class=\"data row5 col4\" >-0.00073</td>\n",
       "                        <td id=\"T_32d46_row5_col5\" class=\"data row5 col5\" >1.00000</td>\n",
       "                        <td id=\"T_32d46_row5_col6\" class=\"data row5 col6\" >0.00415</td>\n",
       "                        <td id=\"T_32d46_row5_col7\" class=\"data row5 col7\" >0.00759</td>\n",
       "                        <td id=\"T_32d46_row5_col8\" class=\"data row5 col8\" >-0.00407</td>\n",
       "            </tr>\n",
       "            <tr>\n",
       "                        <th id=\"T_32d46_level0_row6\" class=\"row_heading level0 row6\" >Impulsividad</th>\n",
       "                        <td id=\"T_32d46_row6_col0\" class=\"data row6 col0\" >-0.00528</td>\n",
       "                        <td id=\"T_32d46_row6_col1\" class=\"data row6 col1\" >-0.00603</td>\n",
       "                        <td id=\"T_32d46_row6_col2\" class=\"data row6 col2\" >0.00214</td>\n",
       "                        <td id=\"T_32d46_row6_col3\" class=\"data row6 col3\" >-0.00224</td>\n",
       "                        <td id=\"T_32d46_row6_col4\" class=\"data row6 col4\" >0.00404</td>\n",
       "                        <td id=\"T_32d46_row6_col5\" class=\"data row6 col5\" >0.00415</td>\n",
       "                        <td id=\"T_32d46_row6_col6\" class=\"data row6 col6\" >1.00000</td>\n",
       "                        <td id=\"T_32d46_row6_col7\" class=\"data row6 col7\" >-0.00383</td>\n",
       "                        <td id=\"T_32d46_row6_col8\" class=\"data row6 col8\" >-0.00219</td>\n",
       "            </tr>\n",
       "            <tr>\n",
       "                        <th id=\"T_32d46_level0_row7\" class=\"row_heading level0 row7\" >Confianza</th>\n",
       "                        <td id=\"T_32d46_row7_col0\" class=\"data row7 col0\" >0.00263</td>\n",
       "                        <td id=\"T_32d46_row7_col1\" class=\"data row7 col1\" >0.00498</td>\n",
       "                        <td id=\"T_32d46_row7_col2\" class=\"data row7 col2\" >-0.00655</td>\n",
       "                        <td id=\"T_32d46_row7_col3\" class=\"data row7 col3\" >0.00085</td>\n",
       "                        <td id=\"T_32d46_row7_col4\" class=\"data row7 col4\" >-0.00097</td>\n",
       "                        <td id=\"T_32d46_row7_col5\" class=\"data row7 col5\" >0.00759</td>\n",
       "                        <td id=\"T_32d46_row7_col6\" class=\"data row7 col6\" >-0.00383</td>\n",
       "                        <td id=\"T_32d46_row7_col7\" class=\"data row7 col7\" >1.00000</td>\n",
       "                        <td id=\"T_32d46_row7_col8\" class=\"data row7 col8\" >0.00042</td>\n",
       "            </tr>\n",
       "            <tr>\n",
       "                        <th id=\"T_32d46_level0_row8\" class=\"row_heading level0 row8\" >target</th>\n",
       "                        <td id=\"T_32d46_row8_col0\" class=\"data row8 col0\" >-0.00068</td>\n",
       "                        <td id=\"T_32d46_row8_col1\" class=\"data row8 col1\" >0.00096</td>\n",
       "                        <td id=\"T_32d46_row8_col2\" class=\"data row8 col2\" >-0.00791</td>\n",
       "                        <td id=\"T_32d46_row8_col3\" class=\"data row8 col3\" >-0.00436</td>\n",
       "                        <td id=\"T_32d46_row8_col4\" class=\"data row8 col4\" >0.00278</td>\n",
       "                        <td id=\"T_32d46_row8_col5\" class=\"data row8 col5\" >-0.00407</td>\n",
       "                        <td id=\"T_32d46_row8_col6\" class=\"data row8 col6\" >-0.00219</td>\n",
       "                        <td id=\"T_32d46_row8_col7\" class=\"data row8 col7\" >0.00042</td>\n",
       "                        <td id=\"T_32d46_row8_col8\" class=\"data row8 col8\" >1.00000</td>\n",
       "            </tr>\n",
       "    </tbody></table>"
      ],
      "text/plain": [
       "<pandas.io.formats.style.Styler at 0x1e860acde50>"
      ]
     },
     "execution_count": 7,
     "metadata": {},
     "output_type": "execute_result"
    }
   ],
   "source": [
    "matriz_corr = x_train[cols_aporte + ['target']].corr(method='spearman')\n",
    "\n",
    "matriz_corr.style.background_gradient(\n",
    "    cmap='coolwarm', axis=None\n",
    ").set_precision(5)"
   ]
  },
  {
   "cell_type": "code",
   "execution_count": 8,
   "id": "f43ee10f-f127-4667-87e3-a31a69130539",
   "metadata": {},
   "outputs": [
    {
     "data": {
      "text/html": [
       "<style  type=\"text/css\" >\n",
       "#T_582ac_row0_col0{\n",
       "            background-color:  #b40426;\n",
       "            color:  #f1f1f1;\n",
       "        }#T_582ac_row1_col0,#T_582ac_row2_col0{\n",
       "            background-color:  #3c4ec2;\n",
       "            color:  #f1f1f1;\n",
       "        }#T_582ac_row3_col0,#T_582ac_row4_col0,#T_582ac_row5_col0,#T_582ac_row6_col0,#T_582ac_row7_col0,#T_582ac_row8_col0{\n",
       "            background-color:  #3b4cc0;\n",
       "            color:  #f1f1f1;\n",
       "        }</style><table id=\"T_582ac_\" ><thead>    <tr>        <th class=\"blank level0\" ></th>        <th class=\"col_heading level0 col0\" >target</th>    </tr></thead><tbody>\n",
       "                <tr>\n",
       "                        <th id=\"T_582ac_level0_row0\" class=\"row_heading level0 row0\" >target</th>\n",
       "                        <td id=\"T_582ac_row0_col0\" class=\"data row0 col0\" >1.00000</td>\n",
       "            </tr>\n",
       "            <tr>\n",
       "                        <th id=\"T_582ac_level0_row1\" class=\"row_heading level0 row1\" >Saldo_cuenta</th>\n",
       "                        <td id=\"T_582ac_row1_col0\" class=\"data row1 col0\" >0.00791</td>\n",
       "            </tr>\n",
       "            <tr>\n",
       "                        <th id=\"T_582ac_level0_row2\" class=\"row_heading level0 row2\" >Valor_prestamo</th>\n",
       "                        <td id=\"T_582ac_row2_col0\" class=\"data row2 col0\" >0.00436</td>\n",
       "            </tr>\n",
       "            <tr>\n",
       "                        <th id=\"T_582ac_level0_row3\" class=\"row_heading level0 row3\" >Autocontrol</th>\n",
       "                        <td id=\"T_582ac_row3_col0\" class=\"data row3 col0\" >0.00407</td>\n",
       "            </tr>\n",
       "            <tr>\n",
       "                        <th id=\"T_582ac_level0_row4\" class=\"row_heading level0 row4\" >Cuentas_otros</th>\n",
       "                        <td id=\"T_582ac_row4_col0\" class=\"data row4 col0\" >0.00278</td>\n",
       "            </tr>\n",
       "            <tr>\n",
       "                        <th id=\"T_582ac_level0_row5\" class=\"row_heading level0 row5\" >Impulsividad</th>\n",
       "                        <td id=\"T_582ac_row5_col0\" class=\"data row5 col0\" >0.00219</td>\n",
       "            </tr>\n",
       "            <tr>\n",
       "                        <th id=\"T_582ac_level0_row6\" class=\"row_heading level0 row6\" >Tiempo_empleo</th>\n",
       "                        <td id=\"T_582ac_row6_col0\" class=\"data row6 col0\" >0.00096</td>\n",
       "            </tr>\n",
       "            <tr>\n",
       "                        <th id=\"T_582ac_level0_row7\" class=\"row_heading level0 row7\" >Empleado</th>\n",
       "                        <td id=\"T_582ac_row7_col0\" class=\"data row7 col0\" >0.00068</td>\n",
       "            </tr>\n",
       "            <tr>\n",
       "                        <th id=\"T_582ac_level0_row8\" class=\"row_heading level0 row8\" >Confianza</th>\n",
       "                        <td id=\"T_582ac_row8_col0\" class=\"data row8 col0\" >0.00042</td>\n",
       "            </tr>\n",
       "    </tbody></table>"
      ],
      "text/plain": [
       "<pandas.io.formats.style.Styler at 0x1e8612d2c70>"
      ]
     },
     "execution_count": 8,
     "metadata": {},
     "output_type": "execute_result"
    }
   ],
   "source": [
    "pd.DataFrame(matriz_corr['target'].abs().sort_values(ascending=False)).style.background_gradient(\n",
    "    cmap='coolwarm', axis=None\n",
    ").set_precision(5)"
   ]
  },
  {
   "cell_type": "code",
   "execution_count": 9,
   "id": "03aa5cd1-03ce-46bf-a492-aa9307177019",
   "metadata": {},
   "outputs": [],
   "source": [
    "del x_train['target']"
   ]
  },
  {
   "cell_type": "code",
   "execution_count": 10,
   "id": "0c2828e4-c9ee-4e88-abd8-132fe23bc78d",
   "metadata": {},
   "outputs": [
    {
     "name": "stdout",
     "output_type": "stream",
     "text": [
      "Optimization terminated successfully.\n",
      "         Current function value: 0.409955\n",
      "         Iterations 6\n"
     ]
    }
   ],
   "source": [
    "import statsmodels.api as sm\n",
    "\n",
    "logit_model_2 = sm.Logit(y_train , x_train[cols_aporte])\n",
    "result_2 = logit_model_2.fit()"
   ]
  },
  {
   "cell_type": "code",
   "execution_count": 11,
   "id": "f2d47660-35f0-4db8-bb75-4a49433b7403",
   "metadata": {},
   "outputs": [],
   "source": [
    "#help(logit_model_2.fit)"
   ]
  },
  {
   "cell_type": "code",
   "execution_count": 12,
   "id": "02935258-4fc2-4356-b67b-506ae4c2d773",
   "metadata": {},
   "outputs": [
    {
     "data": {
      "text/html": [
       "<div>\n",
       "<style scoped>\n",
       "    .dataframe tbody tr th:only-of-type {\n",
       "        vertical-align: middle;\n",
       "    }\n",
       "\n",
       "    .dataframe tbody tr th {\n",
       "        vertical-align: top;\n",
       "    }\n",
       "\n",
       "    .dataframe thead th {\n",
       "        text-align: right;\n",
       "    }\n",
       "</style>\n",
       "<table border=\"1\" class=\"dataframe\">\n",
       "  <thead>\n",
       "    <tr style=\"text-align: right;\">\n",
       "      <th></th>\n",
       "      <th>index</th>\n",
       "      <th>pesos</th>\n",
       "    </tr>\n",
       "  </thead>\n",
       "  <tbody>\n",
       "    <tr>\n",
       "      <th>0</th>\n",
       "      <td>Tiempo_empleo</td>\n",
       "      <td>0.077504</td>\n",
       "    </tr>\n",
       "    <tr>\n",
       "      <th>1</th>\n",
       "      <td>Cuentas_otros</td>\n",
       "      <td>0.450101</td>\n",
       "    </tr>\n",
       "    <tr>\n",
       "      <th>2</th>\n",
       "      <td>Saldo_cuenta</td>\n",
       "      <td>0.926233</td>\n",
       "    </tr>\n",
       "    <tr>\n",
       "      <th>3</th>\n",
       "      <td>Empleado</td>\n",
       "      <td>6.182634</td>\n",
       "    </tr>\n",
       "    <tr>\n",
       "      <th>4</th>\n",
       "      <td>Valor_prestamo</td>\n",
       "      <td>8.845750</td>\n",
       "    </tr>\n",
       "    <tr>\n",
       "      <th>5</th>\n",
       "      <td>Impulsividad</td>\n",
       "      <td>24.083078</td>\n",
       "    </tr>\n",
       "    <tr>\n",
       "      <th>6</th>\n",
       "      <td>Confianza</td>\n",
       "      <td>26.701109</td>\n",
       "    </tr>\n",
       "    <tr>\n",
       "      <th>7</th>\n",
       "      <td>Autocontrol</td>\n",
       "      <td>32.733590</td>\n",
       "    </tr>\n",
       "  </tbody>\n",
       "</table>\n",
       "</div>"
      ],
      "text/plain": [
       "            index      pesos\n",
       "0   Tiempo_empleo   0.077504\n",
       "1   Cuentas_otros   0.450101\n",
       "2    Saldo_cuenta   0.926233\n",
       "3        Empleado   6.182634\n",
       "4  Valor_prestamo   8.845750\n",
       "5    Impulsividad  24.083078\n",
       "6       Confianza  26.701109\n",
       "7     Autocontrol  32.733590"
      ]
     },
     "execution_count": 12,
     "metadata": {},
     "output_type": "execute_result"
    }
   ],
   "source": [
    "pesos_ = pd.DataFrame(calcular_pesos(result_2)).reset_index()\n",
    "pesos_"
   ]
  },
  {
   "cell_type": "code",
   "execution_count": 13,
   "id": "e1b59688-3a1d-4c59-8f81-ddde92585747",
   "metadata": {},
   "outputs": [],
   "source": [
    "pesos_.to_excel('pesos_originales.xlsx', index=False)"
   ]
  },
  {
   "cell_type": "code",
   "execution_count": 14,
   "id": "0a77b32b-8318-4afd-9ba0-252f95e5d01a",
   "metadata": {},
   "outputs": [
    {
     "data": {
      "text/html": [
       "<table class=\"simpletable\">\n",
       "<tr>\n",
       "        <td>Model:</td>              <td>Logit</td>      <td>Pseudo R-squared:</td>   <td>-0.007</td>  \n",
       "</tr>\n",
       "<tr>\n",
       "  <td>Dependent Variable:</td>  <td>Incumplimiento</td>        <td>AIC:</td>        <td>41929.7943</td>\n",
       "</tr>\n",
       "<tr>\n",
       "         <td>Date:</td>        <td>2021-06-12 09:12</td>       <td>BIC:</td>        <td>42000.5298</td>\n",
       "</tr>\n",
       "<tr>\n",
       "   <td>No. Observations:</td>        <td>51120</td>       <td>Log-Likelihood:</td>    <td>-20957.</td> \n",
       "</tr>\n",
       "<tr>\n",
       "       <td>Df Model:</td>              <td>7</td>            <td>LL-Null:</td>        <td>-20809.</td> \n",
       "</tr>\n",
       "<tr>\n",
       "     <td>Df Residuals:</td>          <td>51112</td>        <td>LLR p-value:</td>      <td>1.0000</td>  \n",
       "</tr>\n",
       "<tr>\n",
       "      <td>Converged:</td>           <td>1.0000</td>           <td>Scale:</td>         <td>1.0000</td>  \n",
       "</tr>\n",
       "<tr>\n",
       "    <td>No. Iterations:</td>        <td>6.0000</td>              <td></td>               <td></td>     \n",
       "</tr>\n",
       "</table>\n",
       "<table class=\"simpletable\">\n",
       "<tr>\n",
       "         <td></td>         <th>Coef.</th>  <th>Std.Err.</th>     <th>z</th>     <th>P>|z|</th> <th>[0.025</th>  <th>0.975]</th> \n",
       "</tr>\n",
       "<tr>\n",
       "  <th>Empleado</th>       <td>-0.1950</td>  <td>0.0378</td>   <td>-5.1552</td> <td>0.0000</td> <td>-0.2691</td> <td>-0.1208</td>\n",
       "</tr>\n",
       "<tr>\n",
       "  <th>Tiempo_empleo</th>  <td>0.0901</td>   <td>0.1562</td>   <td>0.5772</td>  <td>0.5638</td> <td>-0.2159</td> <td>0.3962</td> \n",
       "</tr>\n",
       "<tr>\n",
       "  <th>Saldo_cuenta</th>   <td>-2.1356</td>  <td>1.0703</td>   <td>-1.9953</td> <td>0.0460</td> <td>-4.2334</td> <td>-0.0379</td>\n",
       "</tr>\n",
       "<tr>\n",
       "  <th>Valor_prestamo</th> <td>-0.3790</td>  <td>0.0615</td>   <td>-6.1663</td> <td>0.0000</td> <td>-0.4995</td> <td>-0.2585</td>\n",
       "</tr>\n",
       "<tr>\n",
       "  <th>Cuentas_otros</th>  <td>-0.1224</td>  <td>0.0880</td>   <td>-1.3909</td> <td>0.1642</td> <td>-0.2950</td> <td>0.0501</td> \n",
       "</tr>\n",
       "<tr>\n",
       "  <th>Autocontrol</th>    <td>-1.0562</td>  <td>0.0890</td>  <td>-11.8619</td> <td>0.0000</td> <td>-1.2308</td> <td>-0.8817</td>\n",
       "</tr>\n",
       "<tr>\n",
       "  <th>Impulsividad</th>   <td>-0.8860</td>  <td>0.0871</td>  <td>-10.1745</td> <td>0.0000</td> <td>-1.0567</td> <td>-0.7154</td>\n",
       "</tr>\n",
       "<tr>\n",
       "  <th>Confianza</th>      <td>-0.9834</td>  <td>0.0918</td>  <td>-10.7132</td> <td>0.0000</td> <td>-1.1634</td> <td>-0.8035</td>\n",
       "</tr>\n",
       "</table>"
      ],
      "text/plain": [
       "<class 'statsmodels.iolib.summary2.Summary'>\n",
       "\"\"\"\n",
       "                         Results: Logit\n",
       "=================================================================\n",
       "Model:              Logit            Pseudo R-squared: -0.007    \n",
       "Dependent Variable: Incumplimiento   AIC:              41929.7943\n",
       "Date:               2021-06-12 09:12 BIC:              42000.5298\n",
       "No. Observations:   51120            Log-Likelihood:   -20957.   \n",
       "Df Model:           7                LL-Null:          -20809.   \n",
       "Df Residuals:       51112            LLR p-value:      1.0000    \n",
       "Converged:          1.0000           Scale:            1.0000    \n",
       "No. Iterations:     6.0000                                       \n",
       "-----------------------------------------------------------------\n",
       "                  Coef.  Std.Err.    z     P>|z|   [0.025  0.975]\n",
       "-----------------------------------------------------------------\n",
       "Empleado         -0.1950   0.0378  -5.1552 0.0000 -0.2691 -0.1208\n",
       "Tiempo_empleo     0.0901   0.1562   0.5772 0.5638 -0.2159  0.3962\n",
       "Saldo_cuenta     -2.1356   1.0703  -1.9953 0.0460 -4.2334 -0.0379\n",
       "Valor_prestamo   -0.3790   0.0615  -6.1663 0.0000 -0.4995 -0.2585\n",
       "Cuentas_otros    -0.1224   0.0880  -1.3909 0.1642 -0.2950  0.0501\n",
       "Autocontrol      -1.0562   0.0890 -11.8619 0.0000 -1.2308 -0.8817\n",
       "Impulsividad     -0.8860   0.0871 -10.1745 0.0000 -1.0567 -0.7154\n",
       "Confianza        -0.9834   0.0918 -10.7132 0.0000 -1.1634 -0.8035\n",
       "=================================================================\n",
       "\n",
       "\"\"\""
      ]
     },
     "execution_count": 14,
     "metadata": {},
     "output_type": "execute_result"
    }
   ],
   "source": [
    "result_2.summary2()"
   ]
  },
  {
   "cell_type": "code",
   "execution_count": 15,
   "id": "3c3cfef9-ae28-4f1e-9dde-c31586281913",
   "metadata": {},
   "outputs": [],
   "source": [
    "import numpy as np\n",
    "#prediciendo en base al modelo \n",
    "y_pred_prob_2_train = result_2.predict(x_train[cols_aporte])\n",
    "y_pred_class_2_train = np.where(y_pred_prob_2_train < 0.5, 0 , 1)\n",
    "\n",
    "y_pred_prob_2_valid = result_2.predict(x_valid[cols_aporte])\n",
    "y_pred_class_2_valid = np.where(y_pred_prob_2_valid < 0.5, 0 , 1)"
   ]
  },
  {
   "cell_type": "code",
   "execution_count": 16,
   "id": "929481ff-8408-4334-92ee-364ec42f7279",
   "metadata": {},
   "outputs": [
    {
     "data": {
      "text/plain": [
       "0    51120\n",
       "dtype: int64"
      ]
     },
     "execution_count": 16,
     "metadata": {},
     "output_type": "execute_result"
    }
   ],
   "source": [
    "pd.Series(y_pred_class_2_train).value_counts()"
   ]
  },
  {
   "cell_type": "code",
   "execution_count": 17,
   "id": "85c6df65-6ba0-478d-af1e-b60500cf8a5d",
   "metadata": {},
   "outputs": [
    {
     "data": {
      "text/plain": [
       "0    12781\n",
       "dtype: int64"
      ]
     },
     "execution_count": 17,
     "metadata": {},
     "output_type": "execute_result"
    }
   ],
   "source": [
    "pd.Series(y_pred_class_2_valid).value_counts()"
   ]
  },
  {
   "cell_type": "code",
   "execution_count": 18,
   "id": "20f71671-f9d9-4c36-8c40-86e2ddecd706",
   "metadata": {},
   "outputs": [
    {
     "data": {
      "text/plain": [
       "<AxesSubplot:>"
      ]
     },
     "execution_count": 18,
     "metadata": {},
     "output_type": "execute_result"
    },
    {
     "data": {
      "image/png": "[encoded data removed]",
      "text/plain": [
       "<Figure size 432x288 with 1 Axes>"
      ]
     },
     "metadata": {
      "needs_background": "light"
     },
     "output_type": "display_data"
    }
   ],
   "source": [
    "y_pred_prob_2_train.hist()"
   ]
  },
  {
   "cell_type": "code",
   "execution_count": 19,
   "id": "a3d40869-a171-4a83-8ff1-0b57dfbd3e1a",
   "metadata": {},
   "outputs": [
    {
     "data": {
      "text/plain": [
       "<AxesSubplot:>"
      ]
     },
     "execution_count": 19,
     "metadata": {},
     "output_type": "execute_result"
    },
    {
     "data": {
      "image/png": "[encoded data removed]",
      "text/plain": [
       "<Figure size 432x288 with 1 Axes>"
      ]
     },
     "metadata": {
      "needs_background": "light"
     },
     "output_type": "display_data"
    }
   ],
   "source": [
    "y_pred_prob_2_valid.hist()"
   ]
  },
  {
   "cell_type": "code",
   "execution_count": 20,
   "id": "15f84aeb-81b6-4389-aedb-a64f4cf4cded",
   "metadata": {},
   "outputs": [
    {
     "name": "stdout",
     "output_type": "stream",
     "text": [
      "///////////////////////// TRAIN\n",
      "AUC: 0.504\n",
      "GINI: 0.009\n",
      "///////////////////////// VALIDATION\n",
      "AUC: 0.510\n",
      "GINI: 0.020\n"
     ]
    }
   ],
   "source": [
    "from sklearn.metrics import precision_score, recall_score, f1_score, accuracy_score, roc_auc_score\n",
    "\n",
    "print(\"/\"*25, 'TRAIN')\n",
    "auc = roc_auc_score(y_train, y_pred_prob_2_train)\n",
    "print(\"AUC: %1.3f\" % auc)\n",
    "print(\"GINI: %1.3f\" % (2*auc-1))\n",
    "\n",
    "print(\"/\"*25, 'VALIDATION')\n",
    "auc_2 = roc_auc_score(y_valid, y_pred_prob_2_valid)\n",
    "print(\"AUC: %1.3f\" % auc_2)\n",
    "print(\"GINI: %1.3f\" % (2*auc_2-1))"
   ]
  },
  {
   "cell_type": "code",
   "execution_count": 21,
   "id": "79b3629f-c679-422d-9b22-95a422e3d2b6",
   "metadata": {},
   "outputs": [
    {
     "name": "stdout",
     "output_type": "stream",
     "text": [
      "///////////////////////// TRAIN\n",
      "RECALL     : 0.00000000\n",
      "EFECTIVIDAD: 0.00000000\n",
      "F1 SCORE   : 0.00000000\n",
      "ACCURACY   : 0.85884194\n",
      "///////////////////////// VALIDATION\n",
      "RECALL     : 0.00000000\n",
      "EFECTIVIDAD: 0.00000000\n",
      "F1 SCORE   : 0.00000000\n",
      "accuracy_score   : 0.85885298\n"
     ]
    },
    {
     "name": "stderr",
     "output_type": "stream",
     "text": [
      "C:\\ProgramData\\Anaconda3\\lib\\site-packages\\sklearn\\metrics\\_classification.py:1248: UndefinedMetricWarning: Precision is ill-defined and being set to 0.0 due to no predicted samples. Use `zero_division` parameter to control this behavior.\n",
      "  _warn_prf(average, modifier, msg_start, len(result))\n",
      "C:\\ProgramData\\Anaconda3\\lib\\site-packages\\sklearn\\metrics\\_classification.py:1248: UndefinedMetricWarning: Precision is ill-defined and being set to 0.0 due to no predicted samples. Use `zero_division` parameter to control this behavior.\n",
      "  _warn_prf(average, modifier, msg_start, len(result))\n"
     ]
    }
   ],
   "source": [
    "print(\"/\"*25, 'TRAIN')\n",
    "print(\"RECALL     : %1.8f\" % recall_score(y_train, y_pred_class_2_train))\n",
    "print(\"EFECTIVIDAD: %1.8f\" % precision_score(y_train, y_pred_class_2_train))\n",
    "print(\"F1 SCORE   : %1.8f\" % f1_score(y_train, y_pred_class_2_train))\n",
    "print(\"ACCURACY   : %1.8f\" % accuracy_score(y_train, y_pred_class_2_train))\n",
    "\n",
    "print(\"/\"*25, 'VALIDATION')\n",
    "print(\"RECALL     : %1.8f\" % recall_score(y_valid, y_pred_class_2_valid))\n",
    "print(\"EFECTIVIDAD: %1.8f\" % precision_score(y_valid, y_pred_class_2_valid))\n",
    "print(\"F1 SCORE   : %1.8f\" % f1_score(y_valid, y_pred_class_2_valid))\n",
    "print(\"accuracy_score   : %1.8f\" % accuracy_score(y_valid, y_pred_class_2_valid))"
   ]
  },
  {
   "cell_type": "code",
   "execution_count": null,
   "id": "9561f6ee-180f-4a8a-8457-56097f122ac8",
   "metadata": {},
   "outputs": [],
   "source": []
  },
  {
   "cell_type": "markdown",
   "id": "05ac40c6-1cbe-4afb-b9b7-5e4a4b58008e",
   "metadata": {},
   "source": [
    "#### >>> RECALL"
   ]
  },
  {
   "cell_type": "code",
   "execution_count": 22,
   "id": "2d77863f-417b-4360-9906-83a17f3a836f",
   "metadata": {},
   "outputs": [
    {
     "data": {
      "text/plain": [
       "     fun: -1.0\n",
       " message: 'Optimization terminated successfully.'\n",
       "    nfev: 122\n",
       "     nit: 7\n",
       " success: True\n",
       "       x: array([0.01298791])"
      ]
     },
     "execution_count": 22,
     "metadata": {},
     "output_type": "execute_result"
    }
   ],
   "source": [
    "from scipy.optimize import differential_evolution\n",
    "\n",
    "\n",
    "optimization_rec = differential_evolution(\n",
    "    lambda c: -1*recall_score(y_train, np.array([0 if _ < c[0] else 1 for _ in y_pred_prob_2_train])), \n",
    "    [(0, 1)],\n",
    "    seed=SEED\n",
    ")\n",
    "optimization_rec"
   ]
  },
  {
   "cell_type": "code",
   "execution_count": 23,
   "id": "66457ba9-9dbc-4dae-bb25-e9981a33eb1e",
   "metadata": {},
   "outputs": [
    {
     "data": {
      "text/plain": [
       "0.012987907660010789"
      ]
     },
     "execution_count": 23,
     "metadata": {},
     "output_type": "execute_result"
    }
   ],
   "source": [
    "corte_rec = optimization_rec['x'][0]\n",
    "corte_rec"
   ]
  },
  {
   "cell_type": "code",
   "execution_count": 24,
   "id": "597be65f-d57a-40f4-8cec-4625ff5e322c",
   "metadata": {},
   "outputs": [],
   "source": [
    "y_pred_class_train_2_rec = np.where(y_pred_prob_2_train < corte_rec, 0 , 1)\n",
    "y_pred_class_valid_2_rc = np.where(y_pred_prob_2_valid < corte_rec, 0 , 1)"
   ]
  },
  {
   "cell_type": "code",
   "execution_count": 25,
   "id": "c0c86b9d-0b63-4f79-b24d-912ea2693a5c",
   "metadata": {},
   "outputs": [
    {
     "data": {
      "text/plain": [
       "1    51120\n",
       "dtype: int64"
      ]
     },
     "execution_count": 25,
     "metadata": {},
     "output_type": "execute_result"
    }
   ],
   "source": [
    "pd.Series(y_pred_class_train_2_rec).value_counts()"
   ]
  },
  {
   "cell_type": "code",
   "execution_count": 26,
   "id": "ce58f5eb-cb84-4fdc-bc33-02adaaee7ce7",
   "metadata": {},
   "outputs": [
    {
     "data": {
      "text/plain": [
       "1    12780\n",
       "0        1\n",
       "dtype: int64"
      ]
     },
     "execution_count": 26,
     "metadata": {},
     "output_type": "execute_result"
    }
   ],
   "source": [
    "pd.Series(y_pred_class_valid_2_rc).value_counts()"
   ]
  },
  {
   "cell_type": "code",
   "execution_count": 27,
   "id": "198229a3-f148-4601-8a76-67c15c07231d",
   "metadata": {},
   "outputs": [
    {
     "name": "stdout",
     "output_type": "stream",
     "text": [
      "///////////////////////// TRAIN\n",
      "RECALL     : 1.00000000\n",
      "EFECTIVIDAD: 0.14115806\n",
      "F1 SCORE   : 0.24739440\n",
      "///////////////////////// VALIDATION\n",
      "RECALL     : 1.00000000\n",
      "EFECTIVIDAD: 0.14115806\n",
      "F1 SCORE   : 0.24739440\n"
     ]
    }
   ],
   "source": [
    "print(\"/\"*25, \"TRAIN\")\n",
    "print(\"RECALL     : %1.8f\" % recall_score(y_train, y_pred_class_train_2_rec))\n",
    "print(\"EFECTIVIDAD: %1.8f\" % precision_score(y_train, y_pred_class_train_2_rec))\n",
    "print(\"F1 SCORE   : %1.8f\" % f1_score(y_train, y_pred_class_train_2_rec))\n",
    "\n",
    "print(\"/\"*25, \"VALIDATION\")\n",
    "print(\"RECALL     : %1.8f\" % recall_score(y_valid, y_pred_class_valid_2_rc))\n",
    "print(\"EFECTIVIDAD: %1.8f\" % precision_score(y_valid, y_pred_class_valid_2_rc))\n",
    "print(\"F1 SCORE   : %1.8f\" % f1_score(y_valid, y_pred_class_valid_2_rc))"
   ]
  },
  {
   "cell_type": "code",
   "execution_count": null,
   "id": "010f4b0e-de8c-450d-9a23-6b6686759336",
   "metadata": {},
   "outputs": [],
   "source": []
  },
  {
   "cell_type": "markdown",
   "id": "e3853f23-b161-4cbd-b97e-4052d694cfcd",
   "metadata": {},
   "source": [
    "#### >>> EFECTIVIDAD"
   ]
  },
  {
   "cell_type": "code",
   "execution_count": 28,
   "id": "d3a1c84a-b33b-433f-9580-07ac0911d5ec",
   "metadata": {},
   "outputs": [
    {
     "name": "stderr",
     "output_type": "stream",
     "text": [
      "C:\\ProgramData\\Anaconda3\\lib\\site-packages\\sklearn\\metrics\\_classification.py:1248: UndefinedMetricWarning: Precision is ill-defined and being set to 0.0 due to no predicted samples. Use `zero_division` parameter to control this behavior.\n",
      "  _warn_prf(average, modifier, msg_start, len(result))\n",
      "C:\\ProgramData\\Anaconda3\\lib\\site-packages\\sklearn\\metrics\\_classification.py:1248: UndefinedMetricWarning: Precision is ill-defined and being set to 0.0 due to no predicted samples. Use `zero_division` parameter to control this behavior.\n",
      "  _warn_prf(average, modifier, msg_start, len(result))\n",
      "C:\\ProgramData\\Anaconda3\\lib\\site-packages\\sklearn\\metrics\\_classification.py:1248: UndefinedMetricWarning: Precision is ill-defined and being set to 0.0 due to no predicted samples. Use `zero_division` parameter to control this behavior.\n",
      "  _warn_prf(average, modifier, msg_start, len(result))\n",
      "C:\\ProgramData\\Anaconda3\\lib\\site-packages\\sklearn\\metrics\\_classification.py:1248: UndefinedMetricWarning: Precision is ill-defined and being set to 0.0 due to no predicted samples. Use `zero_division` parameter to control this behavior.\n",
      "  _warn_prf(average, modifier, msg_start, len(result))\n",
      "C:\\ProgramData\\Anaconda3\\lib\\site-packages\\sklearn\\metrics\\_classification.py:1248: UndefinedMetricWarning: Precision is ill-defined and being set to 0.0 due to no predicted samples. Use `zero_division` parameter to control this behavior.\n",
      "  _warn_prf(average, modifier, msg_start, len(result))\n",
      "C:\\ProgramData\\Anaconda3\\lib\\site-packages\\sklearn\\metrics\\_classification.py:1248: UndefinedMetricWarning: Precision is ill-defined and being set to 0.0 due to no predicted samples. Use `zero_division` parameter to control this behavior.\n",
      "  _warn_prf(average, modifier, msg_start, len(result))\n",
      "C:\\ProgramData\\Anaconda3\\lib\\site-packages\\sklearn\\metrics\\_classification.py:1248: UndefinedMetricWarning: Precision is ill-defined and being set to 0.0 due to no predicted samples. Use `zero_division` parameter to control this behavior.\n",
      "  _warn_prf(average, modifier, msg_start, len(result))\n",
      "C:\\ProgramData\\Anaconda3\\lib\\site-packages\\sklearn\\metrics\\_classification.py:1248: UndefinedMetricWarning: Precision is ill-defined and being set to 0.0 due to no predicted samples. Use `zero_division` parameter to control this behavior.\n",
      "  _warn_prf(average, modifier, msg_start, len(result))\n",
      "C:\\ProgramData\\Anaconda3\\lib\\site-packages\\sklearn\\metrics\\_classification.py:1248: UndefinedMetricWarning: Precision is ill-defined and being set to 0.0 due to no predicted samples. Use `zero_division` parameter to control this behavior.\n",
      "  _warn_prf(average, modifier, msg_start, len(result))\n",
      "C:\\ProgramData\\Anaconda3\\lib\\site-packages\\sklearn\\metrics\\_classification.py:1248: UndefinedMetricWarning: Precision is ill-defined and being set to 0.0 due to no predicted samples. Use `zero_division` parameter to control this behavior.\n",
      "  _warn_prf(average, modifier, msg_start, len(result))\n",
      "C:\\ProgramData\\Anaconda3\\lib\\site-packages\\sklearn\\metrics\\_classification.py:1248: UndefinedMetricWarning: Precision is ill-defined and being set to 0.0 due to no predicted samples. Use `zero_division` parameter to control this behavior.\n",
      "  _warn_prf(average, modifier, msg_start, len(result))\n",
      "C:\\ProgramData\\Anaconda3\\lib\\site-packages\\sklearn\\metrics\\_classification.py:1248: UndefinedMetricWarning: Precision is ill-defined and being set to 0.0 due to no predicted samples. Use `zero_division` parameter to control this behavior.\n",
      "  _warn_prf(average, modifier, msg_start, len(result))\n",
      "C:\\ProgramData\\Anaconda3\\lib\\site-packages\\sklearn\\metrics\\_classification.py:1248: UndefinedMetricWarning: Precision is ill-defined and being set to 0.0 due to no predicted samples. Use `zero_division` parameter to control this behavior.\n",
      "  _warn_prf(average, modifier, msg_start, len(result))\n",
      "C:\\ProgramData\\Anaconda3\\lib\\site-packages\\sklearn\\metrics\\_classification.py:1248: UndefinedMetricWarning: Precision is ill-defined and being set to 0.0 due to no predicted samples. Use `zero_division` parameter to control this behavior.\n",
      "  _warn_prf(average, modifier, msg_start, len(result))\n",
      "C:\\ProgramData\\Anaconda3\\lib\\site-packages\\sklearn\\metrics\\_classification.py:1248: UndefinedMetricWarning: Precision is ill-defined and being set to 0.0 due to no predicted samples. Use `zero_division` parameter to control this behavior.\n",
      "  _warn_prf(average, modifier, msg_start, len(result))\n",
      "C:\\ProgramData\\Anaconda3\\lib\\site-packages\\sklearn\\metrics\\_classification.py:1248: UndefinedMetricWarning: Precision is ill-defined and being set to 0.0 due to no predicted samples. Use `zero_division` parameter to control this behavior.\n",
      "  _warn_prf(average, modifier, msg_start, len(result))\n",
      "C:\\ProgramData\\Anaconda3\\lib\\site-packages\\sklearn\\metrics\\_classification.py:1248: UndefinedMetricWarning: Precision is ill-defined and being set to 0.0 due to no predicted samples. Use `zero_division` parameter to control this behavior.\n",
      "  _warn_prf(average, modifier, msg_start, len(result))\n",
      "C:\\ProgramData\\Anaconda3\\lib\\site-packages\\sklearn\\metrics\\_classification.py:1248: UndefinedMetricWarning: Precision is ill-defined and being set to 0.0 due to no predicted samples. Use `zero_division` parameter to control this behavior.\n",
      "  _warn_prf(average, modifier, msg_start, len(result))\n",
      "C:\\ProgramData\\Anaconda3\\lib\\site-packages\\sklearn\\metrics\\_classification.py:1248: UndefinedMetricWarning: Precision is ill-defined and being set to 0.0 due to no predicted samples. Use `zero_division` parameter to control this behavior.\n",
      "  _warn_prf(average, modifier, msg_start, len(result))\n",
      "C:\\ProgramData\\Anaconda3\\lib\\site-packages\\sklearn\\metrics\\_classification.py:1248: UndefinedMetricWarning: Precision is ill-defined and being set to 0.0 due to no predicted samples. Use `zero_division` parameter to control this behavior.\n",
      "  _warn_prf(average, modifier, msg_start, len(result))\n",
      "C:\\ProgramData\\Anaconda3\\lib\\site-packages\\sklearn\\metrics\\_classification.py:1248: UndefinedMetricWarning: Precision is ill-defined and being set to 0.0 due to no predicted samples. Use `zero_division` parameter to control this behavior.\n",
      "  _warn_prf(average, modifier, msg_start, len(result))\n",
      "C:\\ProgramData\\Anaconda3\\lib\\site-packages\\sklearn\\metrics\\_classification.py:1248: UndefinedMetricWarning: Precision is ill-defined and being set to 0.0 due to no predicted samples. Use `zero_division` parameter to control this behavior.\n",
      "  _warn_prf(average, modifier, msg_start, len(result))\n",
      "C:\\ProgramData\\Anaconda3\\lib\\site-packages\\sklearn\\metrics\\_classification.py:1248: UndefinedMetricWarning: Precision is ill-defined and being set to 0.0 due to no predicted samples. Use `zero_division` parameter to control this behavior.\n",
      "  _warn_prf(average, modifier, msg_start, len(result))\n",
      "C:\\ProgramData\\Anaconda3\\lib\\site-packages\\sklearn\\metrics\\_classification.py:1248: UndefinedMetricWarning: Precision is ill-defined and being set to 0.0 due to no predicted samples. Use `zero_division` parameter to control this behavior.\n",
      "  _warn_prf(average, modifier, msg_start, len(result))\n",
      "C:\\ProgramData\\Anaconda3\\lib\\site-packages\\sklearn\\metrics\\_classification.py:1248: UndefinedMetricWarning: Precision is ill-defined and being set to 0.0 due to no predicted samples. Use `zero_division` parameter to control this behavior.\n",
      "  _warn_prf(average, modifier, msg_start, len(result))\n",
      "C:\\ProgramData\\Anaconda3\\lib\\site-packages\\sklearn\\metrics\\_classification.py:1248: UndefinedMetricWarning: Precision is ill-defined and being set to 0.0 due to no predicted samples. Use `zero_division` parameter to control this behavior.\n",
      "  _warn_prf(average, modifier, msg_start, len(result))\n",
      "C:\\ProgramData\\Anaconda3\\lib\\site-packages\\sklearn\\metrics\\_classification.py:1248: UndefinedMetricWarning: Precision is ill-defined and being set to 0.0 due to no predicted samples. Use `zero_division` parameter to control this behavior.\n",
      "  _warn_prf(average, modifier, msg_start, len(result))\n",
      "C:\\ProgramData\\Anaconda3\\lib\\site-packages\\sklearn\\metrics\\_classification.py:1248: UndefinedMetricWarning: Precision is ill-defined and being set to 0.0 due to no predicted samples. Use `zero_division` parameter to control this behavior.\n",
      "  _warn_prf(average, modifier, msg_start, len(result))\n",
      "C:\\ProgramData\\Anaconda3\\lib\\site-packages\\sklearn\\metrics\\_classification.py:1248: UndefinedMetricWarning: Precision is ill-defined and being set to 0.0 due to no predicted samples. Use `zero_division` parameter to control this behavior.\n",
      "  _warn_prf(average, modifier, msg_start, len(result))\n",
      "C:\\ProgramData\\Anaconda3\\lib\\site-packages\\sklearn\\metrics\\_classification.py:1248: UndefinedMetricWarning: Precision is ill-defined and being set to 0.0 due to no predicted samples. Use `zero_division` parameter to control this behavior.\n",
      "  _warn_prf(average, modifier, msg_start, len(result))\n",
      "C:\\ProgramData\\Anaconda3\\lib\\site-packages\\sklearn\\metrics\\_classification.py:1248: UndefinedMetricWarning: Precision is ill-defined and being set to 0.0 due to no predicted samples. Use `zero_division` parameter to control this behavior.\n",
      "  _warn_prf(average, modifier, msg_start, len(result))\n",
      "C:\\ProgramData\\Anaconda3\\lib\\site-packages\\sklearn\\metrics\\_classification.py:1248: UndefinedMetricWarning: Precision is ill-defined and being set to 0.0 due to no predicted samples. Use `zero_division` parameter to control this behavior.\n",
      "  _warn_prf(average, modifier, msg_start, len(result))\n",
      "C:\\ProgramData\\Anaconda3\\lib\\site-packages\\sklearn\\metrics\\_classification.py:1248: UndefinedMetricWarning: Precision is ill-defined and being set to 0.0 due to no predicted samples. Use `zero_division` parameter to control this behavior.\n",
      "  _warn_prf(average, modifier, msg_start, len(result))\n"
     ]
    },
    {
     "data": {
      "text/plain": [
       "     fun: -0.3333333333333333\n",
       " message: 'Optimization terminated successfully.'\n",
       "    nfev: 152\n",
       "     nit: 9\n",
       " success: True\n",
       "       x: array([0.28533042])"
      ]
     },
     "execution_count": 28,
     "metadata": {},
     "output_type": "execute_result"
    }
   ],
   "source": [
    "optimization_pre = differential_evolution(\n",
    "    lambda c: -1*precision_score(y_train, np.array([0 if _ < c[0] else 1 for _ in y_pred_prob_2_train])), \n",
    "    [(0, 1)],\n",
    "    seed=SEED\n",
    ")\n",
    "optimization_pre"
   ]
  },
  {
   "cell_type": "code",
   "execution_count": 29,
   "id": "3b7e1286-2f54-49b0-9511-0da58d50386e",
   "metadata": {},
   "outputs": [
    {
     "data": {
      "text/plain": [
       "0.2853304237081857"
      ]
     },
     "execution_count": 29,
     "metadata": {},
     "output_type": "execute_result"
    }
   ],
   "source": [
    "corte_pre = optimization_pre['x'][0]\n",
    "corte_pre"
   ]
  },
  {
   "cell_type": "code",
   "execution_count": 30,
   "id": "db8ffd7a-3fc5-4b62-b9a6-f445b442c675",
   "metadata": {},
   "outputs": [],
   "source": [
    "y_pred_class_train_2_pre = np.where(y_pred_prob_2_train < corte_pre, 0 , 1)\n",
    "y_pred_class_valid_2_pre = np.where(y_pred_prob_2_valid < corte_pre, 0 , 1)"
   ]
  },
  {
   "cell_type": "code",
   "execution_count": 31,
   "id": "0b5bd176-397c-47b3-b9b2-d5e769a4f989",
   "metadata": {},
   "outputs": [
    {
     "name": "stdout",
     "output_type": "stream",
     "text": [
      "///////////////////////// TRAIN\n",
      "RECALL     : 0.00013858\n",
      "EFECTIVIDAD: 0.33333333\n",
      "F1 SCORE   : 0.00027705\n",
      "///////////////////////// VALIDATION\n",
      "RECALL     : 0.00000000\n",
      "EFECTIVIDAD: 0.00000000\n",
      "F1 SCORE   : 0.00000000\n"
     ]
    }
   ],
   "source": [
    "print(\"/\"*25, \"TRAIN\")\n",
    "print(\"RECALL     : %1.8f\" % recall_score(y_train, y_pred_class_train_2_pre))\n",
    "print(\"EFECTIVIDAD: %1.8f\" % precision_score(y_train, y_pred_class_train_2_pre))\n",
    "print(\"F1 SCORE   : %1.8f\" % f1_score(y_train, y_pred_class_train_2_pre))\n",
    "\n",
    "print(\"/\"*25, \"VALIDATION\")\n",
    "print(\"RECALL     : %1.8f\" % recall_score(y_valid, y_pred_class_valid_2_pre))\n",
    "print(\"EFECTIVIDAD: %1.8f\" % precision_score(y_valid, y_pred_class_valid_2_pre))\n",
    "print(\"F1 SCORE   : %1.8f\" % f1_score(y_valid, y_pred_class_valid_2_pre))"
   ]
  },
  {
   "cell_type": "code",
   "execution_count": null,
   "id": "ff94d761-df40-4d9a-96e8-83443f18c49b",
   "metadata": {},
   "outputs": [],
   "source": []
  },
  {
   "cell_type": "markdown",
   "id": "3bb8cc6e-9805-4032-b6a8-e16e51976cc3",
   "metadata": {},
   "source": [
    "#### >>> AUC"
   ]
  },
  {
   "cell_type": "code",
   "execution_count": 48,
   "id": "501ea2b0-d72b-480e-aaf0-c63782c37bbc",
   "metadata": {},
   "outputs": [
    {
     "data": {
      "text/plain": [
       "     fun: -0.5029950450246617\n",
       " message: 'Optimization terminated successfully.'\n",
       "    nfev: 32\n",
       "     nit: 1\n",
       " success: True\n",
       "       x: array([0.13374649])"
      ]
     },
     "execution_count": 48,
     "metadata": {},
     "output_type": "execute_result"
    }
   ],
   "source": [
    "optimization_auc = differential_evolution(\n",
    "    lambda c: -1*roc_auc_score(y_train, np.array([0 if _ < c[0] else 1 for _ in y_pred_prob_2_train])), \n",
    "    [(0, 1)],\n",
    "    seed=SEED\n",
    ")\n",
    "optimization_auc"
   ]
  },
  {
   "cell_type": "code",
   "execution_count": 49,
   "id": "2fe947ae-60bc-4fcc-aea4-2ffd517f131d",
   "metadata": {},
   "outputs": [
    {
     "data": {
      "text/plain": [
       "0.13374649447335152"
      ]
     },
     "execution_count": 49,
     "metadata": {},
     "output_type": "execute_result"
    }
   ],
   "source": [
    "corte_auc = optimization_auc['x'][0]\n",
    "corte_auc"
   ]
  },
  {
   "cell_type": "code",
   "execution_count": 50,
   "id": "2b7a4e33-2b7f-4601-b1ad-38ad776df862",
   "metadata": {},
   "outputs": [],
   "source": [
    "y_pred_class_train_2_auc = np.where(y_pred_prob_2_train < corte_auc, 0 , 1)\n",
    "y_pred_class_valid_2_auc = np.where(y_pred_prob_2_valid < corte_auc, 0 , 1)"
   ]
  },
  {
   "cell_type": "code",
   "execution_count": 51,
   "id": "86edf21e-1992-48d8-8b2d-39f46f63993f",
   "metadata": {},
   "outputs": [
    {
     "name": "stdout",
     "output_type": "stream",
     "text": [
      "///////////////////////// TRAIN\n",
      "RECALL     : 0.62333703\n",
      "EFECTIVIDAD: 0.14233276\n",
      "F1 SCORE   : 0.23174816\n",
      "accuracy_score    : 0.41662754\n",
      "///////////////////////// VALIDATION\n",
      "RECALL     : 0.63192905\n",
      "EFECTIVIDAD: 0.14461499\n",
      "F1 SCORE   : 0.23536699\n",
      "accuracy_score   : 0.42046788\n"
     ]
    }
   ],
   "source": [
    "print(\"/\"*25, \"TRAIN\")\n",
    "print(\"RECALL     : %1.8f\" % recall_score(y_train, y_pred_class_train_2_auc))\n",
    "print(\"EFECTIVIDAD: %1.8f\" % precision_score(y_train, y_pred_class_train_2_auc))\n",
    "print(\"F1 SCORE   : %1.8f\" % f1_score(y_train, y_pred_class_train_2_auc))\n",
    "print(\"accuracy_score    : %1.8f\" % accuracy_score(y_train, y_pred_class_train_2_auc))\n",
    "\n",
    "print(\"/\"*25, \"VALIDATION\")\n",
    "print(\"RECALL     : %1.8f\" % recall_score(y_valid, y_pred_class_valid_2_auc))\n",
    "print(\"EFECTIVIDAD: %1.8f\" % precision_score(y_valid, y_pred_class_valid_2_auc))\n",
    "print(\"F1 SCORE   : %1.8f\" % f1_score(y_valid, y_pred_class_valid_2_auc))\n",
    "print(\"accuracy_score   : %1.8f\" % accuracy_score(y_valid, y_pred_class_valid_2_auc))"
   ]
  },
  {
   "cell_type": "code",
   "execution_count": 52,
   "id": "e598d6bd-6d78-4630-8b34-7b8b508f3a2e",
   "metadata": {},
   "outputs": [
    {
     "data": {
      "text/plain": [
       "1    31602\n",
       "0    19518\n",
       "dtype: int64"
      ]
     },
     "execution_count": 52,
     "metadata": {},
     "output_type": "execute_result"
    }
   ],
   "source": [
    "pd.Series(y_pred_class_train_2_auc).value_counts()"
   ]
  },
  {
   "cell_type": "code",
   "execution_count": 53,
   "id": "d6b53f0c-00bc-4638-9af1-359a0afeefba",
   "metadata": {},
   "outputs": [
    {
     "data": {
      "text/plain": [
       "1    7883\n",
       "0    4898\n",
       "dtype: int64"
      ]
     },
     "execution_count": 53,
     "metadata": {},
     "output_type": "execute_result"
    }
   ],
   "source": [
    "pd.Series(y_pred_class_valid_2_auc).value_counts()"
   ]
  },
  {
   "cell_type": "code",
   "execution_count": 36,
   "id": "edd33e0a-79d1-45be-84a9-727318161988",
   "metadata": {},
   "outputs": [
    {
     "data": {
      "text/plain": [
       "Incumplimiento\n",
       "0                 43904\n",
       "1                  7216\n",
       "dtype: int64"
      ]
     },
     "execution_count": 36,
     "metadata": {},
     "output_type": "execute_result"
    }
   ],
   "source": [
    "y_train.value_counts()"
   ]
  },
  {
   "cell_type": "code",
   "execution_count": 37,
   "id": "295d2776-7875-4a59-ae59-183fcee27f10",
   "metadata": {},
   "outputs": [
    {
     "data": {
      "text/plain": [
       "Incumplimiento\n",
       "0                 10977\n",
       "1                  1804\n",
       "dtype: int64"
      ]
     },
     "execution_count": 37,
     "metadata": {},
     "output_type": "execute_result"
    }
   ],
   "source": [
    "y_valid.value_counts()"
   ]
  },
  {
   "cell_type": "code",
   "execution_count": 38,
   "id": "88fd174a-17cb-4152-9f09-1fda38ea2fe5",
   "metadata": {},
   "outputs": [
    {
     "data": {
      "text/plain": [
       "(51120, 1)"
      ]
     },
     "execution_count": 38,
     "metadata": {},
     "output_type": "execute_result"
    }
   ],
   "source": [
    "y_train.shape"
   ]
  },
  {
   "cell_type": "code",
   "execution_count": 39,
   "id": "fbbeecd2-63c4-46d3-b039-061eac9c4689",
   "metadata": {},
   "outputs": [
    {
     "data": {
      "text/plain": [
       "(12781, 1)"
      ]
     },
     "execution_count": 39,
     "metadata": {},
     "output_type": "execute_result"
    }
   ],
   "source": [
    "y_valid.shape"
   ]
  },
  {
   "cell_type": "code",
   "execution_count": null,
   "id": "cd6bf05d-dd52-4430-83a3-68a70c765d7c",
   "metadata": {},
   "outputs": [],
   "source": []
  },
  {
   "cell_type": "code",
   "execution_count": null,
   "id": "b04104da-6a33-4228-9120-1d67abdb7c20",
   "metadata": {},
   "outputs": [],
   "source": []
  }
 ],
 "metadata": {
  "kernelspec": {
   "display_name": "Python 3",
   "language": "python",
   "name": "python3"
  },
  "language_info": {
   "codemirror_mode": {
    "name": "ipython",
    "version": 3
   },
   "file_extension": ".py",
   "mimetype": "text/x-python",
   "name": "python",
   "nbconvert_exporter": "python",
   "pygments_lexer": "ipython3",
   "version": "3.8.5"
  }
 },
 "nbformat": 4,
 "nbformat_minor": 5
}
