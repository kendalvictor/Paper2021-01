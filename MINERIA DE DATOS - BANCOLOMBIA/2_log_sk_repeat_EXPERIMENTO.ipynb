{
 "cells": [
  {
   "cell_type": "code",
   "execution_count": 1,
   "id": "42ae479b-e86e-4735-837e-f6d147e99b12",
   "metadata": {},
   "outputs": [],
   "source": [
    "# Nativos\n",
    "import random as rn\n",
    "import os\n",
    "import sys\n",
    "import gc\n",
    "\n",
    "#calculo\n",
    "import numpy as np\n",
    "import pandas as pd\n",
    "import scipy\n",
    "\n",
    "import pandas as pd\n",
    "import scorecardpy as sc\n",
    "\n",
    "SEED = 29082013\n",
    "os.environ['PYTHONHASHSEED']=str(SEED)\n",
    "np.random.seed(SEED)\n",
    "rn.seed(SEED)"
   ]
  },
  {
   "cell_type": "markdown",
   "id": "a5b7e3dc-72c1-48ed-93e3-b1a60ef3d6fe",
   "metadata": {},
   "source": [
    "### Utilitarios"
   ]
  },
  {
   "cell_type": "code",
   "execution_count": 2,
   "id": "49174cde-09c6-4267-bcb1-e28210a06921",
   "metadata": {},
   "outputs": [],
   "source": [
    "def calcular_pesos(modelo):\n",
    "    coef_model = pd.DataFrame(modelo.tvalues, columns=['t_value'])\n",
    "    coef_model['t_value2'] = np.power(coef_model['t_value'],2)\n",
    "    coef_model['total'] = sum(coef_model['t_value2'])\n",
    "    coef_model['part'] = coef_model['t_value2'] / coef_model['total']\n",
    "    coef_model['pesos'] = coef_model['part'] * 100\n",
    "    return coef_model['pesos'].sort_values(ascending=True)"
   ]
  },
  {
   "cell_type": "code",
   "execution_count": 3,
   "id": "801bea8d-50a7-4a50-af9b-6fe3c56e0ef3",
   "metadata": {},
   "outputs": [
    {
     "data": {
      "text/plain": [
       "((51120, 60), (12781, 60), (51120, 1), (12781, 1))"
      ]
     },
     "execution_count": 3,
     "metadata": {},
     "output_type": "execute_result"
    }
   ],
   "source": [
    "x_train = pd.read_csv(\"X_train.csv\")\n",
    "x_valid = pd.read_csv(\"X_valid.csv\")\n",
    "\n",
    "y_train = pd.read_csv(\"y_train.csv\")\n",
    "y_valid = pd.read_csv(\"y_valid.csv\")\n",
    "\n",
    "x_train.shape, x_valid.shape, y_train.shape, y_valid.shape"
   ]
  },
  {
   "cell_type": "code",
   "execution_count": null,
   "id": "813eef17-49d7-472a-b487-726087e4f1c3",
   "metadata": {},
   "outputs": [],
   "source": []
  },
  {
   "cell_type": "markdown",
   "id": "7b5a3e62-7c46-4189-b4d5-467a76f6c52a",
   "metadata": {},
   "source": [
    "### >> Modleo mayor p-value"
   ]
  },
  {
   "cell_type": "code",
   "execution_count": 4,
   "id": "17fad8f0-8b9f-4d08-a450-99d7e418352b",
   "metadata": {},
   "outputs": [],
   "source": [
    "cols_aporte = [\n",
    " 'Empleado',\n",
    " 'Saldo_cuenta',\n",
    " 'Valor_prestamo',\n",
    " 'Autocontrol',\n",
    " 'Impulsividad',\n",
    " 'Confianza' \n",
    "]"
   ]
  },
  {
   "cell_type": "code",
   "execution_count": 5,
   "id": "d21cc8f4-e2a7-487a-820d-055eeae6fde0",
   "metadata": {},
   "outputs": [
    {
     "data": {
      "text/html": [
       "<style  type=\"text/css\" >\n",
       "#T_24d00_row0_col0,#T_24d00_row1_col1,#T_24d00_row2_col2,#T_24d00_row3_col3,#T_24d00_row4_col4,#T_24d00_row5_col5,#T_24d00_row6_col6{\n",
       "            background-color:  #b40426;\n",
       "            color:  #f1f1f1;\n",
       "        }#T_24d00_row0_col1,#T_24d00_row0_col5,#T_24d00_row1_col0,#T_24d00_row2_col5,#T_24d00_row5_col0,#T_24d00_row5_col2,#T_24d00_row5_col6,#T_24d00_row6_col5{\n",
       "            background-color:  #3d50c3;\n",
       "            color:  #f1f1f1;\n",
       "        }#T_24d00_row0_col2,#T_24d00_row0_col4,#T_24d00_row1_col5,#T_24d00_row1_col6,#T_24d00_row2_col0,#T_24d00_row3_col6,#T_24d00_row4_col0,#T_24d00_row4_col5,#T_24d00_row5_col1,#T_24d00_row5_col4,#T_24d00_row6_col1,#T_24d00_row6_col3{\n",
       "            background-color:  #3b4cc0;\n",
       "            color:  #f1f1f1;\n",
       "        }#T_24d00_row0_col3,#T_24d00_row1_col4,#T_24d00_row3_col0,#T_24d00_row3_col4,#T_24d00_row3_col5,#T_24d00_row4_col1,#T_24d00_row4_col3,#T_24d00_row5_col3{\n",
       "            background-color:  #3e51c5;\n",
       "            color:  #f1f1f1;\n",
       "        }#T_24d00_row0_col6,#T_24d00_row1_col2,#T_24d00_row1_col3,#T_24d00_row2_col1,#T_24d00_row2_col4,#T_24d00_row2_col6,#T_24d00_row3_col1,#T_24d00_row4_col2,#T_24d00_row4_col6,#T_24d00_row6_col0,#T_24d00_row6_col2,#T_24d00_row6_col4{\n",
       "            background-color:  #3c4ec2;\n",
       "            color:  #f1f1f1;\n",
       "        }#T_24d00_row2_col3,#T_24d00_row3_col2{\n",
       "            background-color:  #3f53c6;\n",
       "            color:  #f1f1f1;\n",
       "        }</style><table id=\"T_24d00_\" ><thead>    <tr>        <th class=\"blank level0\" ></th>        <th class=\"col_heading level0 col0\" >Empleado</th>        <th class=\"col_heading level0 col1\" >Saldo_cuenta</th>        <th class=\"col_heading level0 col2\" >Valor_prestamo</th>        <th class=\"col_heading level0 col3\" >Autocontrol</th>        <th class=\"col_heading level0 col4\" >Impulsividad</th>        <th class=\"col_heading level0 col5\" >Confianza</th>        <th class=\"col_heading level0 col6\" >target</th>    </tr></thead><tbody>\n",
       "                <tr>\n",
       "                        <th id=\"T_24d00_level0_row0\" class=\"row_heading level0 row0\" >Empleado</th>\n",
       "                        <td id=\"T_24d00_row0_col0\" class=\"data row0 col0\" >1.00000</td>\n",
       "                        <td id=\"T_24d00_row0_col1\" class=\"data row0 col1\" >0.00228</td>\n",
       "                        <td id=\"T_24d00_row0_col2\" class=\"data row0 col2\" >-0.00777</td>\n",
       "                        <td id=\"T_24d00_row0_col3\" class=\"data row0 col3\" >0.00654</td>\n",
       "                        <td id=\"T_24d00_row0_col4\" class=\"data row0 col4\" >-0.00507</td>\n",
       "                        <td id=\"T_24d00_row0_col5\" class=\"data row0 col5\" >0.00307</td>\n",
       "                        <td id=\"T_24d00_row0_col6\" class=\"data row0 col6\" >-0.00068</td>\n",
       "            </tr>\n",
       "            <tr>\n",
       "                        <th id=\"T_24d00_level0_row1\" class=\"row_heading level0 row1\" >Saldo_cuenta</th>\n",
       "                        <td id=\"T_24d00_row1_col0\" class=\"data row1 col0\" >0.00228</td>\n",
       "                        <td id=\"T_24d00_row1_col1\" class=\"data row1 col1\" >1.00000</td>\n",
       "                        <td id=\"T_24d00_row1_col2\" class=\"data row1 col2\" >-0.00130</td>\n",
       "                        <td id=\"T_24d00_row1_col3\" class=\"data row1 col3\" >-0.00113</td>\n",
       "                        <td id=\"T_24d00_row1_col4\" class=\"data row1 col4\" >0.00471</td>\n",
       "                        <td id=\"T_24d00_row1_col5\" class=\"data row1 col5\" >-0.00429</td>\n",
       "                        <td id=\"T_24d00_row1_col6\" class=\"data row1 col6\" >-0.00690</td>\n",
       "            </tr>\n",
       "            <tr>\n",
       "                        <th id=\"T_24d00_level0_row2\" class=\"row_heading level0 row2\" >Valor_prestamo</th>\n",
       "                        <td id=\"T_24d00_row2_col0\" class=\"data row2 col0\" >-0.00777</td>\n",
       "                        <td id=\"T_24d00_row2_col1\" class=\"data row2 col1\" >-0.00130</td>\n",
       "                        <td id=\"T_24d00_row2_col2\" class=\"data row2 col2\" >1.00000</td>\n",
       "                        <td id=\"T_24d00_row2_col3\" class=\"data row2 col3\" >0.00992</td>\n",
       "                        <td id=\"T_24d00_row2_col4\" class=\"data row2 col4\" >-0.00262</td>\n",
       "                        <td id=\"T_24d00_row2_col5\" class=\"data row2 col5\" >0.00102</td>\n",
       "                        <td id=\"T_24d00_row2_col6\" class=\"data row2 col6\" >-0.00211</td>\n",
       "            </tr>\n",
       "            <tr>\n",
       "                        <th id=\"T_24d00_level0_row3\" class=\"row_heading level0 row3\" >Autocontrol</th>\n",
       "                        <td id=\"T_24d00_row3_col0\" class=\"data row3 col0\" >0.00654</td>\n",
       "                        <td id=\"T_24d00_row3_col1\" class=\"data row3 col1\" >-0.00113</td>\n",
       "                        <td id=\"T_24d00_row3_col2\" class=\"data row3 col2\" >0.00992</td>\n",
       "                        <td id=\"T_24d00_row3_col3\" class=\"data row3 col3\" >1.00000</td>\n",
       "                        <td id=\"T_24d00_row3_col4\" class=\"data row3 col4\" >0.00412</td>\n",
       "                        <td id=\"T_24d00_row3_col5\" class=\"data row3 col5\" >0.00735</td>\n",
       "                        <td id=\"T_24d00_row3_col6\" class=\"data row3 col6\" >-0.00478</td>\n",
       "            </tr>\n",
       "            <tr>\n",
       "                        <th id=\"T_24d00_level0_row4\" class=\"row_heading level0 row4\" >Impulsividad</th>\n",
       "                        <td id=\"T_24d00_row4_col0\" class=\"data row4 col0\" >-0.00507</td>\n",
       "                        <td id=\"T_24d00_row4_col1\" class=\"data row4 col1\" >0.00471</td>\n",
       "                        <td id=\"T_24d00_row4_col2\" class=\"data row4 col2\" >-0.00262</td>\n",
       "                        <td id=\"T_24d00_row4_col3\" class=\"data row4 col3\" >0.00412</td>\n",
       "                        <td id=\"T_24d00_row4_col4\" class=\"data row4 col4\" >1.00000</td>\n",
       "                        <td id=\"T_24d00_row4_col5\" class=\"data row4 col5\" >-0.00452</td>\n",
       "                        <td id=\"T_24d00_row4_col6\" class=\"data row4 col6\" >-0.00201</td>\n",
       "            </tr>\n",
       "            <tr>\n",
       "                        <th id=\"T_24d00_level0_row5\" class=\"row_heading level0 row5\" >Confianza</th>\n",
       "                        <td id=\"T_24d00_row5_col0\" class=\"data row5 col0\" >0.00307</td>\n",
       "                        <td id=\"T_24d00_row5_col1\" class=\"data row5 col1\" >-0.00429</td>\n",
       "                        <td id=\"T_24d00_row5_col2\" class=\"data row5 col2\" >0.00102</td>\n",
       "                        <td id=\"T_24d00_row5_col3\" class=\"data row5 col3\" >0.00735</td>\n",
       "                        <td id=\"T_24d00_row5_col4\" class=\"data row5 col4\" >-0.00452</td>\n",
       "                        <td id=\"T_24d00_row5_col5\" class=\"data row5 col5\" >1.00000</td>\n",
       "                        <td id=\"T_24d00_row5_col6\" class=\"data row5 col6\" >0.00093</td>\n",
       "            </tr>\n",
       "            <tr>\n",
       "                        <th id=\"T_24d00_level0_row6\" class=\"row_heading level0 row6\" >target</th>\n",
       "                        <td id=\"T_24d00_row6_col0\" class=\"data row6 col0\" >-0.00068</td>\n",
       "                        <td id=\"T_24d00_row6_col1\" class=\"data row6 col1\" >-0.00690</td>\n",
       "                        <td id=\"T_24d00_row6_col2\" class=\"data row6 col2\" >-0.00211</td>\n",
       "                        <td id=\"T_24d00_row6_col3\" class=\"data row6 col3\" >-0.00478</td>\n",
       "                        <td id=\"T_24d00_row6_col4\" class=\"data row6 col4\" >-0.00201</td>\n",
       "                        <td id=\"T_24d00_row6_col5\" class=\"data row6 col5\" >0.00093</td>\n",
       "                        <td id=\"T_24d00_row6_col6\" class=\"data row6 col6\" >1.00000</td>\n",
       "            </tr>\n",
       "    </tbody></table>"
      ],
      "text/plain": [
       "<pandas.io.formats.style.Styler at 0x2416731ae80>"
      ]
     },
     "execution_count": 5,
     "metadata": {},
     "output_type": "execute_result"
    }
   ],
   "source": [
    "x_train['target'] = y_train.values\n",
    "matriz_corr = x_train[cols_aporte + ['target']].corr(method='pearson')\n",
    "\n",
    "matriz_corr.style.background_gradient(\n",
    "    cmap='coolwarm', axis=None\n",
    ").set_precision(5)"
   ]
  },
  {
   "cell_type": "code",
   "execution_count": 6,
   "id": "e288e8dc-164d-4b4d-b9ba-5ba5e1c46cf1",
   "metadata": {},
   "outputs": [
    {
     "data": {
      "text/html": [
       "<style  type=\"text/css\" >\n",
       "#T_5c611_row0_col0{\n",
       "            background-color:  #b40426;\n",
       "            color:  #f1f1f1;\n",
       "        }#T_5c611_row1_col0,#T_5c611_row2_col0{\n",
       "            background-color:  #3c4ec2;\n",
       "            color:  #f1f1f1;\n",
       "        }#T_5c611_row3_col0,#T_5c611_row4_col0,#T_5c611_row5_col0,#T_5c611_row6_col0{\n",
       "            background-color:  #3b4cc0;\n",
       "            color:  #f1f1f1;\n",
       "        }</style><table id=\"T_5c611_\" ><thead>    <tr>        <th class=\"blank level0\" ></th>        <th class=\"col_heading level0 col0\" >target</th>    </tr></thead><tbody>\n",
       "                <tr>\n",
       "                        <th id=\"T_5c611_level0_row0\" class=\"row_heading level0 row0\" >target</th>\n",
       "                        <td id=\"T_5c611_row0_col0\" class=\"data row0 col0\" >1.00000</td>\n",
       "            </tr>\n",
       "            <tr>\n",
       "                        <th id=\"T_5c611_level0_row1\" class=\"row_heading level0 row1\" >Saldo_cuenta</th>\n",
       "                        <td id=\"T_5c611_row1_col0\" class=\"data row1 col0\" >0.00690</td>\n",
       "            </tr>\n",
       "            <tr>\n",
       "                        <th id=\"T_5c611_level0_row2\" class=\"row_heading level0 row2\" >Autocontrol</th>\n",
       "                        <td id=\"T_5c611_row2_col0\" class=\"data row2 col0\" >0.00478</td>\n",
       "            </tr>\n",
       "            <tr>\n",
       "                        <th id=\"T_5c611_level0_row3\" class=\"row_heading level0 row3\" >Valor_prestamo</th>\n",
       "                        <td id=\"T_5c611_row3_col0\" class=\"data row3 col0\" >0.00211</td>\n",
       "            </tr>\n",
       "            <tr>\n",
       "                        <th id=\"T_5c611_level0_row4\" class=\"row_heading level0 row4\" >Impulsividad</th>\n",
       "                        <td id=\"T_5c611_row4_col0\" class=\"data row4 col0\" >0.00201</td>\n",
       "            </tr>\n",
       "            <tr>\n",
       "                        <th id=\"T_5c611_level0_row5\" class=\"row_heading level0 row5\" >Confianza</th>\n",
       "                        <td id=\"T_5c611_row5_col0\" class=\"data row5 col0\" >0.00093</td>\n",
       "            </tr>\n",
       "            <tr>\n",
       "                        <th id=\"T_5c611_level0_row6\" class=\"row_heading level0 row6\" >Empleado</th>\n",
       "                        <td id=\"T_5c611_row6_col0\" class=\"data row6 col0\" >0.00068</td>\n",
       "            </tr>\n",
       "    </tbody></table>"
      ],
      "text/plain": [
       "<pandas.io.formats.style.Styler at 0x24167ab9250>"
      ]
     },
     "execution_count": 6,
     "metadata": {},
     "output_type": "execute_result"
    }
   ],
   "source": [
    "pd.DataFrame(matriz_corr['target'].abs().sort_values(ascending=False)).style.background_gradient(\n",
    "    cmap='coolwarm', axis=None\n",
    ").set_precision(5)"
   ]
  },
  {
   "cell_type": "code",
   "execution_count": 7,
   "id": "f18fd809-066e-4a39-99b9-d3e7bf92b239",
   "metadata": {},
   "outputs": [
    {
     "data": {
      "text/html": [
       "<style  type=\"text/css\" >\n",
       "#T_6750a_row0_col0,#T_6750a_row1_col1,#T_6750a_row2_col2,#T_6750a_row3_col3,#T_6750a_row4_col4,#T_6750a_row5_col5,#T_6750a_row6_col6{\n",
       "            background-color:  #b40426;\n",
       "            color:  #f1f1f1;\n",
       "        }#T_6750a_row0_col1,#T_6750a_row0_col5,#T_6750a_row1_col0,#T_6750a_row1_col2,#T_6750a_row1_col4,#T_6750a_row2_col1,#T_6750a_row2_col5,#T_6750a_row4_col1,#T_6750a_row5_col0,#T_6750a_row5_col2,#T_6750a_row5_col6,#T_6750a_row6_col5{\n",
       "            background-color:  #3d50c3;\n",
       "            color:  #f1f1f1;\n",
       "        }#T_6750a_row0_col2,#T_6750a_row0_col4,#T_6750a_row1_col5,#T_6750a_row1_col6,#T_6750a_row2_col0,#T_6750a_row2_col6,#T_6750a_row3_col6,#T_6750a_row4_col0,#T_6750a_row5_col1,#T_6750a_row6_col1,#T_6750a_row6_col2,#T_6750a_row6_col3{\n",
       "            background-color:  #3b4cc0;\n",
       "            color:  #f1f1f1;\n",
       "        }#T_6750a_row0_col3,#T_6750a_row3_col0,#T_6750a_row3_col4,#T_6750a_row3_col5,#T_6750a_row4_col3,#T_6750a_row5_col3{\n",
       "            background-color:  #3e51c5;\n",
       "            color:  #f1f1f1;\n",
       "        }#T_6750a_row0_col6,#T_6750a_row1_col3,#T_6750a_row2_col4,#T_6750a_row3_col1,#T_6750a_row4_col2,#T_6750a_row4_col5,#T_6750a_row4_col6,#T_6750a_row5_col4,#T_6750a_row6_col0,#T_6750a_row6_col4{\n",
       "            background-color:  #3c4ec2;\n",
       "            color:  #f1f1f1;\n",
       "        }#T_6750a_row2_col3,#T_6750a_row3_col2{\n",
       "            background-color:  #3f53c6;\n",
       "            color:  #f1f1f1;\n",
       "        }</style><table id=\"T_6750a_\" ><thead>    <tr>        <th class=\"blank level0\" ></th>        <th class=\"col_heading level0 col0\" >Empleado</th>        <th class=\"col_heading level0 col1\" >Saldo_cuenta</th>        <th class=\"col_heading level0 col2\" >Valor_prestamo</th>        <th class=\"col_heading level0 col3\" >Autocontrol</th>        <th class=\"col_heading level0 col4\" >Impulsividad</th>        <th class=\"col_heading level0 col5\" >Confianza</th>        <th class=\"col_heading level0 col6\" >target</th>    </tr></thead><tbody>\n",
       "                <tr>\n",
       "                        <th id=\"T_6750a_level0_row0\" class=\"row_heading level0 row0\" >Empleado</th>\n",
       "                        <td id=\"T_6750a_row0_col0\" class=\"data row0 col0\" >1.00000</td>\n",
       "                        <td id=\"T_6750a_row0_col1\" class=\"data row0 col1\" >0.00248</td>\n",
       "                        <td id=\"T_6750a_row0_col2\" class=\"data row0 col2\" >-0.00547</td>\n",
       "                        <td id=\"T_6750a_row0_col3\" class=\"data row0 col3\" >0.00558</td>\n",
       "                        <td id=\"T_6750a_row0_col4\" class=\"data row0 col4\" >-0.00528</td>\n",
       "                        <td id=\"T_6750a_row0_col5\" class=\"data row0 col5\" >0.00263</td>\n",
       "                        <td id=\"T_6750a_row0_col6\" class=\"data row0 col6\" >-0.00068</td>\n",
       "            </tr>\n",
       "            <tr>\n",
       "                        <th id=\"T_6750a_level0_row1\" class=\"row_heading level0 row1\" >Saldo_cuenta</th>\n",
       "                        <td id=\"T_6750a_row1_col0\" class=\"data row1 col0\" >0.00248</td>\n",
       "                        <td id=\"T_6750a_row1_col1\" class=\"data row1 col1\" >1.00000</td>\n",
       "                        <td id=\"T_6750a_row1_col2\" class=\"data row1 col2\" >0.00325</td>\n",
       "                        <td id=\"T_6750a_row1_col3\" class=\"data row1 col3\" >-0.00083</td>\n",
       "                        <td id=\"T_6750a_row1_col4\" class=\"data row1 col4\" >0.00214</td>\n",
       "                        <td id=\"T_6750a_row1_col5\" class=\"data row1 col5\" >-0.00655</td>\n",
       "                        <td id=\"T_6750a_row1_col6\" class=\"data row1 col6\" >-0.00791</td>\n",
       "            </tr>\n",
       "            <tr>\n",
       "                        <th id=\"T_6750a_level0_row2\" class=\"row_heading level0 row2\" >Valor_prestamo</th>\n",
       "                        <td id=\"T_6750a_row2_col0\" class=\"data row2 col0\" >-0.00547</td>\n",
       "                        <td id=\"T_6750a_row2_col1\" class=\"data row2 col1\" >0.00325</td>\n",
       "                        <td id=\"T_6750a_row2_col2\" class=\"data row2 col2\" >1.00000</td>\n",
       "                        <td id=\"T_6750a_row2_col3\" class=\"data row2 col3\" >0.00950</td>\n",
       "                        <td id=\"T_6750a_row2_col4\" class=\"data row2 col4\" >-0.00224</td>\n",
       "                        <td id=\"T_6750a_row2_col5\" class=\"data row2 col5\" >0.00085</td>\n",
       "                        <td id=\"T_6750a_row2_col6\" class=\"data row2 col6\" >-0.00436</td>\n",
       "            </tr>\n",
       "            <tr>\n",
       "                        <th id=\"T_6750a_level0_row3\" class=\"row_heading level0 row3\" >Autocontrol</th>\n",
       "                        <td id=\"T_6750a_row3_col0\" class=\"data row3 col0\" >0.00558</td>\n",
       "                        <td id=\"T_6750a_row3_col1\" class=\"data row3 col1\" >-0.00083</td>\n",
       "                        <td id=\"T_6750a_row3_col2\" class=\"data row3 col2\" >0.00950</td>\n",
       "                        <td id=\"T_6750a_row3_col3\" class=\"data row3 col3\" >1.00000</td>\n",
       "                        <td id=\"T_6750a_row3_col4\" class=\"data row3 col4\" >0.00415</td>\n",
       "                        <td id=\"T_6750a_row3_col5\" class=\"data row3 col5\" >0.00759</td>\n",
       "                        <td id=\"T_6750a_row3_col6\" class=\"data row3 col6\" >-0.00407</td>\n",
       "            </tr>\n",
       "            <tr>\n",
       "                        <th id=\"T_6750a_level0_row4\" class=\"row_heading level0 row4\" >Impulsividad</th>\n",
       "                        <td id=\"T_6750a_row4_col0\" class=\"data row4 col0\" >-0.00528</td>\n",
       "                        <td id=\"T_6750a_row4_col1\" class=\"data row4 col1\" >0.00214</td>\n",
       "                        <td id=\"T_6750a_row4_col2\" class=\"data row4 col2\" >-0.00224</td>\n",
       "                        <td id=\"T_6750a_row4_col3\" class=\"data row4 col3\" >0.00415</td>\n",
       "                        <td id=\"T_6750a_row4_col4\" class=\"data row4 col4\" >1.00000</td>\n",
       "                        <td id=\"T_6750a_row4_col5\" class=\"data row4 col5\" >-0.00383</td>\n",
       "                        <td id=\"T_6750a_row4_col6\" class=\"data row4 col6\" >-0.00219</td>\n",
       "            </tr>\n",
       "            <tr>\n",
       "                        <th id=\"T_6750a_level0_row5\" class=\"row_heading level0 row5\" >Confianza</th>\n",
       "                        <td id=\"T_6750a_row5_col0\" class=\"data row5 col0\" >0.00263</td>\n",
       "                        <td id=\"T_6750a_row5_col1\" class=\"data row5 col1\" >-0.00655</td>\n",
       "                        <td id=\"T_6750a_row5_col2\" class=\"data row5 col2\" >0.00085</td>\n",
       "                        <td id=\"T_6750a_row5_col3\" class=\"data row5 col3\" >0.00759</td>\n",
       "                        <td id=\"T_6750a_row5_col4\" class=\"data row5 col4\" >-0.00383</td>\n",
       "                        <td id=\"T_6750a_row5_col5\" class=\"data row5 col5\" >1.00000</td>\n",
       "                        <td id=\"T_6750a_row5_col6\" class=\"data row5 col6\" >0.00042</td>\n",
       "            </tr>\n",
       "            <tr>\n",
       "                        <th id=\"T_6750a_level0_row6\" class=\"row_heading level0 row6\" >target</th>\n",
       "                        <td id=\"T_6750a_row6_col0\" class=\"data row6 col0\" >-0.00068</td>\n",
       "                        <td id=\"T_6750a_row6_col1\" class=\"data row6 col1\" >-0.00791</td>\n",
       "                        <td id=\"T_6750a_row6_col2\" class=\"data row6 col2\" >-0.00436</td>\n",
       "                        <td id=\"T_6750a_row6_col3\" class=\"data row6 col3\" >-0.00407</td>\n",
       "                        <td id=\"T_6750a_row6_col4\" class=\"data row6 col4\" >-0.00219</td>\n",
       "                        <td id=\"T_6750a_row6_col5\" class=\"data row6 col5\" >0.00042</td>\n",
       "                        <td id=\"T_6750a_row6_col6\" class=\"data row6 col6\" >1.00000</td>\n",
       "            </tr>\n",
       "    </tbody></table>"
      ],
      "text/plain": [
       "<pandas.io.formats.style.Styler at 0x2416731a130>"
      ]
     },
     "execution_count": 7,
     "metadata": {},
     "output_type": "execute_result"
    }
   ],
   "source": [
    "matriz_corr = x_train[cols_aporte + ['target']].corr(method='spearman')\n",
    "\n",
    "matriz_corr.style.background_gradient(\n",
    "    cmap='coolwarm', axis=None\n",
    ").set_precision(5)"
   ]
  },
  {
   "cell_type": "code",
   "execution_count": 8,
   "id": "f43ee10f-f127-4667-87e3-a31a69130539",
   "metadata": {},
   "outputs": [
    {
     "data": {
      "text/html": [
       "<style  type=\"text/css\" >\n",
       "#T_4d684_row0_col0{\n",
       "            background-color:  #b40426;\n",
       "            color:  #f1f1f1;\n",
       "        }#T_4d684_row1_col0,#T_4d684_row2_col0{\n",
       "            background-color:  #3c4ec2;\n",
       "            color:  #f1f1f1;\n",
       "        }#T_4d684_row3_col0,#T_4d684_row4_col0,#T_4d684_row5_col0,#T_4d684_row6_col0{\n",
       "            background-color:  #3b4cc0;\n",
       "            color:  #f1f1f1;\n",
       "        }</style><table id=\"T_4d684_\" ><thead>    <tr>        <th class=\"blank level0\" ></th>        <th class=\"col_heading level0 col0\" >target</th>    </tr></thead><tbody>\n",
       "                <tr>\n",
       "                        <th id=\"T_4d684_level0_row0\" class=\"row_heading level0 row0\" >target</th>\n",
       "                        <td id=\"T_4d684_row0_col0\" class=\"data row0 col0\" >1.00000</td>\n",
       "            </tr>\n",
       "            <tr>\n",
       "                        <th id=\"T_4d684_level0_row1\" class=\"row_heading level0 row1\" >Saldo_cuenta</th>\n",
       "                        <td id=\"T_4d684_row1_col0\" class=\"data row1 col0\" >0.00791</td>\n",
       "            </tr>\n",
       "            <tr>\n",
       "                        <th id=\"T_4d684_level0_row2\" class=\"row_heading level0 row2\" >Valor_prestamo</th>\n",
       "                        <td id=\"T_4d684_row2_col0\" class=\"data row2 col0\" >0.00436</td>\n",
       "            </tr>\n",
       "            <tr>\n",
       "                        <th id=\"T_4d684_level0_row3\" class=\"row_heading level0 row3\" >Autocontrol</th>\n",
       "                        <td id=\"T_4d684_row3_col0\" class=\"data row3 col0\" >0.00407</td>\n",
       "            </tr>\n",
       "            <tr>\n",
       "                        <th id=\"T_4d684_level0_row4\" class=\"row_heading level0 row4\" >Impulsividad</th>\n",
       "                        <td id=\"T_4d684_row4_col0\" class=\"data row4 col0\" >0.00219</td>\n",
       "            </tr>\n",
       "            <tr>\n",
       "                        <th id=\"T_4d684_level0_row5\" class=\"row_heading level0 row5\" >Empleado</th>\n",
       "                        <td id=\"T_4d684_row5_col0\" class=\"data row5 col0\" >0.00068</td>\n",
       "            </tr>\n",
       "            <tr>\n",
       "                        <th id=\"T_4d684_level0_row6\" class=\"row_heading level0 row6\" >Confianza</th>\n",
       "                        <td id=\"T_4d684_row6_col0\" class=\"data row6 col0\" >0.00042</td>\n",
       "            </tr>\n",
       "    </tbody></table>"
      ],
      "text/plain": [
       "<pandas.io.formats.style.Styler at 0x24167ab9af0>"
      ]
     },
     "execution_count": 8,
     "metadata": {},
     "output_type": "execute_result"
    }
   ],
   "source": [
    "pd.DataFrame(matriz_corr['target'].abs().sort_values(ascending=False)).style.background_gradient(\n",
    "    cmap='coolwarm', axis=None\n",
    ").set_precision(5)"
   ]
  },
  {
   "cell_type": "code",
   "execution_count": 9,
   "id": "03aa5cd1-03ce-46bf-a492-aa9307177019",
   "metadata": {},
   "outputs": [],
   "source": [
    "if 'target' in x_train.columns:\n",
    "    del x_train['target']"
   ]
  },
  {
   "cell_type": "code",
   "execution_count": 10,
   "id": "517f716c-d259-496a-94e4-b6e7f8546476",
   "metadata": {},
   "outputs": [
    {
     "data": {
      "text/plain": [
       "Incumplimiento\n",
       "0                 0.858842\n",
       "1                 0.141158\n",
       "dtype: float64"
      ]
     },
     "execution_count": 10,
     "metadata": {},
     "output_type": "execute_result"
    }
   ],
   "source": [
    "y_train.value_counts(normalize=True)"
   ]
  },
  {
   "cell_type": "code",
   "execution_count": 11,
   "id": "f566e45f-11ad-47c4-bbd4-bcdb49f4f2c2",
   "metadata": {},
   "outputs": [
    {
     "data": {
      "text/plain": [
       "6"
      ]
     },
     "execution_count": 11,
     "metadata": {},
     "output_type": "execute_result"
    }
   ],
   "source": [
    "len(x_train[cols_aporte].columns)"
   ]
  },
  {
   "cell_type": "code",
   "execution_count": 12,
   "id": "0c2828e4-c9ee-4e88-abd8-132fe23bc78d",
   "metadata": {},
   "outputs": [],
   "source": [
    "from sklearn.model_selection import StratifiedShuffleSplit, StratifiedKFold, TimeSeriesSplit, RepeatedStratifiedKFold\n",
    "from sklearn.model_selection import GridSearchCV\n",
    "from sklearn.linear_model import LogisticRegression\n",
    "from sklearn.tree import DecisionTreeClassifier\n",
    "from sklearn.model_selection import RandomizedSearchCV\n",
    "from sklearn.model_selection import StratifiedKFold\n",
    "\n",
    "kfold_off_on = RepeatedStratifiedKFold(\n",
    "    n_splits=3, \n",
    "    n_repeats=2,\n",
    "    random_state=SEED\n",
    ")\n",
    "\n",
    "param_grid_arbol = {\n",
    "    'penalty': ['elasticnet', 'none'],\n",
    "    'l1_ratio': [0, 0.1, 0.2, 0.3, 0.4, 0.5, 0.6, 0.7, 0.8, 0.9, 1],             \n",
    "    'n_jobs': 4,\n",
    "    'max_iter': [50, 25, 75, 35],\n",
    "    'solver': ['liblinear', 'saga', 'sag'],\n",
    "    'random_state': [SEED],\n",
    "    'class_weight': ['balanced', None],\n",
    "    'fit_intercept': [True, False],\n",
    "    'C': [1, 10, 20, 50]\n",
    "}\n",
    "model_arbol = LogisticRegression(random_state=SEED)\n",
    "\n",
    "grid_arbol = RandomizedSearchCV(\n",
    "    model_arbol, \n",
    "    {k: [v] if not isinstance(v, list) else v for k, v in param_grid_arbol.items()}, \n",
    "    cv=kfold_off_on, \n",
    "    n_jobs=4, \n",
    "    scoring='roc_auc', \n",
    "    verbose=2,\n",
    "    n_iter=1000,\n",
    "    refit=True\n",
    ")"
   ]
  },
  {
   "cell_type": "code",
   "execution_count": 13,
   "id": "72f37540-5f33-4342-971a-8e7e05785785",
   "metadata": {},
   "outputs": [],
   "source": [
    "#help(grid_arbol.fit)"
   ]
  },
  {
   "cell_type": "code",
   "execution_count": 14,
   "id": "69288467-2282-45b5-8a95-b32958858864",
   "metadata": {},
   "outputs": [
    {
     "name": "stdout",
     "output_type": "stream",
     "text": [
      "Fitting 6 folds for each of 1000 candidates, totalling 6000 fits\n"
     ]
    },
    {
     "name": "stderr",
     "output_type": "stream",
     "text": [
      "C:\\ProgramData\\Anaconda3\\lib\\site-packages\\sklearn\\model_selection\\_search.py:922: UserWarning: One or more of the test scores are non-finite: [0.50382342 0.49627557        nan 0.49827193 0.49794532 0.49634824\n",
      " 0.49692876        nan 0.49804855 0.49804855 0.4980521         nan\n",
      "        nan        nan 0.49827193        nan        nan 0.49807261\n",
      "        nan        nan 0.4980521  0.49805239 0.49637248 0.4980521\n",
      " 0.49637248        nan        nan        nan        nan        nan\n",
      " 0.50382347        nan 0.49697771 0.49623742        nan        nan\n",
      " 0.49808091 0.49636276        nan 0.49816025 0.4980521         nan\n",
      "        nan 0.4980521  0.4963741         nan 0.49812636 0.49816025\n",
      "        nan        nan 0.50382347 0.49873554        nan        nan\n",
      "        nan        nan        nan        nan 0.50369821 0.50382347\n",
      "        nan 0.49804855        nan 0.49805239 0.49804855        nan\n",
      "        nan 0.49636276 0.49627353        nan        nan 0.49804855\n",
      "        nan        nan        nan        nan 0.50382344 0.50382342\n",
      " 0.4963741         nan 0.49748442        nan        nan 0.50382385\n",
      " 0.50382385 0.49705525        nan 0.49804855 0.49804855 0.496352\n",
      " 0.49816191        nan        nan 0.49827193 0.50382344        nan\n",
      " 0.49881364 0.49635745 0.49747999 0.4980521  0.4963428         nan\n",
      " 0.4980623  0.49796395        nan 0.49636276        nan        nan\n",
      " 0.49805239 0.49796755        nan 0.4980521  0.50382005        nan\n",
      " 0.49636276        nan        nan        nan        nan        nan\n",
      "        nan        nan 0.4980521         nan        nan        nan\n",
      " 0.49814535 0.49804855 0.49801733        nan        nan        nan\n",
      " 0.49804855        nan        nan        nan        nan        nan\n",
      "        nan        nan 0.49683551 0.49804855        nan 0.49807261\n",
      " 0.4963741         nan        nan        nan 0.49550287        nan\n",
      "        nan 0.49630595 0.50105761 0.49630451        nan 0.50088536\n",
      " 0.49686702 0.49806924        nan 0.50380608 0.4962765  0.49633211\n",
      "        nan 0.50382347        nan        nan        nan 0.50382344\n",
      "        nan 0.50364405        nan 0.49827193 0.49796036        nan\n",
      " 0.49807261        nan        nan 0.50382347        nan 0.50382385\n",
      " 0.49798982 0.50381647 0.49816025 0.49683551 0.49632719        nan\n",
      " 0.49806305 0.50382347 0.49808091 0.50381647        nan 0.49636276\n",
      "        nan        nan        nan 0.50382342 0.50382347        nan\n",
      " 0.50088536        nan 0.49637248        nan        nan        nan\n",
      " 0.50381352        nan 0.49805239        nan        nan        nan\n",
      "        nan 0.50088536 0.50382347        nan        nan 0.4963741\n",
      "        nan 0.49632294        nan 0.4963741  0.49804855        nan\n",
      " 0.49802531 0.4963741         nan 0.5038142  0.50382342        nan\n",
      " 0.49623429        nan        nan 0.49677659 0.50382347 0.49812784\n",
      " 0.49827193        nan 0.49797118 0.49640699 0.49816191        nan\n",
      " 0.49816025 0.49881364        nan        nan 0.49827193 0.50088536\n",
      " 0.50105761        nan        nan        nan        nan 0.49683551\n",
      "        nan 0.50382347        nan 0.49804855        nan 0.49873554\n",
      " 0.4980521         nan 0.49814632 0.49823902 0.49702559 0.49816025\n",
      " 0.4963741         nan 0.49873554        nan        nan        nan\n",
      " 0.49804855        nan        nan        nan        nan        nan\n",
      " 0.49707542 0.50382347 0.49633743 0.4981081  0.49815038        nan\n",
      " 0.49873554 0.49632294        nan        nan        nan        nan\n",
      " 0.50381959 0.49805239 0.49747931 0.49814298        nan 0.49816025\n",
      " 0.50382385 0.50380622        nan        nan        nan 0.49808091\n",
      " 0.50382385        nan 0.50105761 0.49638164 0.50382347        nan\n",
      " 0.49788479        nan 0.49640699        nan        nan 0.50382342\n",
      " 0.49683551 0.50382347        nan 0.50088536        nan        nan\n",
      "        nan 0.49744796        nan 0.50105761 0.50381434 0.49816191\n",
      " 0.49683551        nan 0.50382385        nan 0.50381352 0.4963741\n",
      " 0.49636276        nan        nan        nan        nan 0.50366666\n",
      " 0.49812636 0.49804855        nan        nan 0.49804855        nan\n",
      "        nan 0.49805239 0.49804855        nan 0.49816191        nan\n",
      " 0.49801146        nan        nan 0.49741991 0.49640699        nan\n",
      "        nan        nan        nan        nan        nan 0.4980521\n",
      " 0.4981271         nan        nan 0.49805239        nan        nan\n",
      " 0.49804855        nan        nan        nan        nan 0.49632294\n",
      "        nan 0.4963741         nan 0.50382344 0.49637248 0.49805239\n",
      "        nan        nan        nan        nan 0.49873554 0.50382347\n",
      "        nan 0.50367659        nan        nan        nan 0.50382347\n",
      " 0.4980521         nan        nan 0.49816025        nan 0.49827193\n",
      " 0.49816025        nan        nan        nan        nan 0.4963741\n",
      "        nan        nan        nan        nan        nan 0.50105761\n",
      " 0.50382347 0.49632294 0.49791093 0.50105761        nan        nan\n",
      "        nan 0.49873554        nan 0.50382347 0.4980521         nan\n",
      "        nan        nan 0.49751176 0.50382385        nan        nan\n",
      " 0.50380508 0.49787681        nan 0.49804855 0.49697771 0.4963766\n",
      "        nan 0.49805239 0.49659531 0.4963741         nan        nan\n",
      "        nan 0.49800975 0.50382385 0.49632294 0.49794544 0.49804855\n",
      " 0.50382342 0.49811481        nan        nan 0.4980521  0.49827193\n",
      " 0.49787151        nan        nan 0.49632294 0.4980521         nan\n",
      " 0.50105761        nan 0.49804855 0.49640699 0.49805239 0.4980521\n",
      " 0.49827193        nan        nan        nan        nan        nan\n",
      "        nan        nan        nan 0.49796036 0.49804855 0.4963741\n",
      "        nan        nan 0.4963741         nan        nan        nan\n",
      " 0.50380525        nan        nan 0.4980521         nan 0.50381647\n",
      " 0.49804855 0.49739058 0.49816025 0.49801154 0.49683551        nan\n",
      " 0.50382385        nan        nan 0.49630527 0.49636881        nan\n",
      " 0.49632294        nan        nan 0.4980521  0.49824481 0.49881364\n",
      "        nan 0.49632294 0.49634959 0.50380615        nan 0.49822485\n",
      "        nan        nan        nan 0.49802531 0.50382347 0.49801743\n",
      "        nan 0.50382347 0.49632294 0.49809474 0.49632225 0.49640699\n",
      "        nan 0.49816025        nan 0.49632294        nan 0.4963176\n",
      "        nan        nan 0.50381986        nan        nan        nan\n",
      "        nan 0.50380615 0.50105761        nan        nan        nan\n",
      " 0.49827193 0.4963428  0.49808091 0.49881364        nan 0.4980521\n",
      "        nan        nan        nan 0.50368174        nan        nan\n",
      "        nan        nan 0.49640699        nan 0.4954951  0.49808272\n",
      "        nan 0.49804855        nan        nan        nan 0.49881364\n",
      "        nan 0.4980521         nan 0.49748442        nan        nan\n",
      " 0.49804855        nan 0.49640699        nan        nan        nan\n",
      " 0.49873554        nan        nan 0.49873554 0.49636276        nan\n",
      "        nan        nan        nan        nan 0.49800975 0.4963741\n",
      "        nan 0.49804855        nan        nan        nan        nan\n",
      "        nan 0.50105761 0.49814224 0.4980521         nan        nan\n",
      " 0.49802678        nan        nan        nan        nan 0.4980521\n",
      " 0.49632294 0.49632294 0.49827193        nan        nan 0.49683551\n",
      " 0.49816025        nan        nan 0.4963741         nan        nan\n",
      "        nan        nan 0.49814318        nan        nan 0.50382347\n",
      "        nan 0.49807261 0.50382385 0.49802212        nan        nan\n",
      " 0.4980521         nan        nan        nan        nan 0.49816025\n",
      " 0.50382385        nan 0.49631508        nan 0.49640699 0.50382347\n",
      "        nan 0.49873554        nan        nan        nan        nan\n",
      " 0.49637248 0.49801324 0.50369349 0.49623429        nan 0.49873554\n",
      " 0.49795551 0.50382347 0.50380584 0.49796034 0.49807261 0.4980521\n",
      "        nan 0.49788488 0.49805239        nan 0.49548873 0.49640699\n",
      " 0.49804855        nan        nan        nan        nan 0.50382347\n",
      "        nan 0.49804855 0.49805239 0.4980521  0.49815233 0.50382344\n",
      " 0.49629936        nan 0.49816025 0.50382385 0.49807261 0.50382347\n",
      "        nan        nan 0.50105761 0.50088536        nan 0.50382385\n",
      "        nan        nan        nan 0.49819527        nan        nan\n",
      "        nan 0.50382385 0.50382385        nan        nan 0.49804855\n",
      " 0.4980521         nan 0.50382347 0.49640699 0.5038203         nan\n",
      "        nan 0.49881364        nan        nan        nan        nan\n",
      " 0.49636276 0.49786727 0.50382003 0.50382347        nan        nan\n",
      "        nan 0.50088536        nan        nan        nan        nan\n",
      " 0.50088536        nan        nan        nan 0.50088536 0.49636276\n",
      " 0.50382385        nan        nan        nan 0.50382344 0.49785486\n",
      " 0.50382344        nan        nan 0.50382347        nan 0.49811339\n",
      "        nan        nan        nan 0.49804855 0.50382347 0.50382342\n",
      "        nan        nan        nan        nan        nan 0.50382347\n",
      " 0.50382385 0.49804855        nan 0.50361624 0.49805239        nan\n",
      "        nan 0.4963741         nan 0.50382347 0.50381332        nan\n",
      "        nan        nan        nan        nan        nan        nan\n",
      " 0.49637248        nan 0.49873554        nan        nan 0.50088536\n",
      "        nan 0.50382347        nan        nan        nan 0.49663504\n",
      "        nan 0.50382347        nan 0.50382344 0.49632294        nan\n",
      " 0.49683551        nan        nan 0.50382385        nan        nan\n",
      "        nan 0.49808992 0.50365558 0.49808091        nan 0.4963741\n",
      "        nan        nan 0.50105761        nan        nan 0.50382344\n",
      "        nan 0.4963741  0.49805239 0.50380748 0.50382385 0.49632294\n",
      "        nan 0.5038142  0.4981081  0.49637248 0.49816191 0.49791979\n",
      "        nan 0.49816191 0.49636276        nan 0.49637248 0.49816191\n",
      "        nan        nan        nan 0.49805239 0.50105761        nan\n",
      " 0.49807261 0.49816025 0.49873554        nan 0.49804855        nan\n",
      "        nan        nan 0.49683551        nan 0.50381407        nan\n",
      " 0.50382385 0.50380748 0.49804855        nan 0.49807261 0.49804855\n",
      "        nan 0.4980521  0.49816191 0.4980521  0.50382385 0.49804855\n",
      "        nan        nan 0.49819312 0.49807261 0.49794894        nan\n",
      "        nan        nan 0.49804855        nan        nan        nan\n",
      "        nan        nan        nan 0.49547227        nan        nan\n",
      " 0.4962765         nan        nan 0.50382347 0.49807112 0.49873554\n",
      " 0.49630053        nan 0.50088536 0.49881364        nan 0.49816191\n",
      " 0.49816025        nan        nan        nan 0.49814024        nan\n",
      " 0.49683551 0.49804855        nan        nan 0.4963741         nan\n",
      " 0.50382385 0.50382109 0.4980521  0.49804855        nan        nan\n",
      " 0.49827193 0.49683551 0.49808992 0.49804855 0.50382385        nan\n",
      " 0.4954982  0.49804855        nan        nan 0.49804855        nan\n",
      " 0.49813034        nan        nan        nan 0.4980521  0.49816191\n",
      " 0.50382344 0.4963741         nan        nan 0.49787151 0.49825367\n",
      " 0.49747999 0.4963552  0.49804855        nan 0.49683551        nan\n",
      " 0.50382385 0.50380592 0.49827193 0.49881364        nan 0.49550374\n",
      " 0.49804855        nan 0.50382109        nan        nan        nan\n",
      "        nan        nan 0.49633017        nan        nan 0.50369821\n",
      "        nan        nan 0.49808091        nan 0.50382347        nan\n",
      "        nan        nan        nan 0.50382344 0.49785505 0.49816025\n",
      " 0.4980521  0.50382347 0.50382347 0.49683551        nan        nan\n",
      "        nan 0.50382385        nan 0.50382347        nan 0.49825959\n",
      " 0.50382347 0.50380566 0.50380748 0.50381529        nan        nan\n",
      " 0.49881364        nan 0.49789824        nan        nan 0.50382385\n",
      " 0.50382347 0.50382347        nan        nan 0.4963741         nan\n",
      " 0.49547414        nan        nan 0.50382347]\n",
      "  warnings.warn(\n",
      "C:\\ProgramData\\Anaconda3\\lib\\site-packages\\sklearn\\linear_model\\_logistic.py:1317: UserWarning: l1_ratio parameter is only used when penalty is 'elasticnet'. Got (penalty=none)\n",
      "  warnings.warn(\"l1_ratio parameter is only used when penalty is \"\n",
      "C:\\ProgramData\\Anaconda3\\lib\\site-packages\\sklearn\\utils\\validation.py:63: DataConversionWarning: A column-vector y was passed when a 1d array was expected. Please change the shape of y to (n_samples, ), for example using ravel().\n",
      "  return f(*args, **kwargs)\n"
     ]
    },
    {
     "name": "stdout",
     "output_type": "stream",
     "text": [
      "score:  0.5038238516658299\n",
      "Wall time: 7min 45s\n"
     ]
    }
   ],
   "source": [
    "%%time\n",
    "grid_arbol.fit(\n",
    "    x_train[cols_aporte],\n",
    "    y_train,\n",
    ")\n",
    "\n",
    "best_params_arbol = grid_arbol.best_params_\n",
    "score_arbol = grid_arbol.best_score_\n",
    "result_2 = grid_arbol.best_estimator_\n",
    "\n",
    "print(\"score: \", score_arbol)"
   ]
  },
  {
   "cell_type": "code",
   "execution_count": 15,
   "id": "09bd61be-57ee-4227-994a-2f6c5014a3a7",
   "metadata": {},
   "outputs": [
    {
     "data": {
      "text/plain": [
       "{'solver': 'sag',\n",
       " 'random_state': 29082013,\n",
       " 'penalty': 'none',\n",
       " 'n_jobs': 4,\n",
       " 'max_iter': 35,\n",
       " 'l1_ratio': 0.2,\n",
       " 'fit_intercept': False,\n",
       " 'class_weight': None,\n",
       " 'C': 1}"
      ]
     },
     "execution_count": 15,
     "metadata": {},
     "output_type": "execute_result"
    }
   ],
   "source": [
    "best_params_arbol"
   ]
  },
  {
   "cell_type": "code",
   "execution_count": 16,
   "id": "3c3cfef9-ae28-4f1e-9dde-c31586281913",
   "metadata": {},
   "outputs": [],
   "source": [
    "import numpy as np\n",
    "#prediciendo en base al modelo \n",
    "y_pred_prob_2_train = result_2.predict_proba(x_train[cols_aporte])[:,1]\n",
    "y_pred_class_2_train = np.where(y_pred_prob_2_train < 0.5, 0 , 1)\n",
    "\n",
    "y_pred_prob_2_valid = result_2.predict_proba(x_valid[cols_aporte])[:,1]\n",
    "y_pred_class_2_valid = np.where(y_pred_prob_2_valid < 0.5, 0 , 1)"
   ]
  },
  {
   "cell_type": "code",
   "execution_count": 17,
   "id": "929481ff-8408-4334-92ee-364ec42f7279",
   "metadata": {},
   "outputs": [
    {
     "data": {
      "text/plain": [
       "0    51120\n",
       "dtype: int64"
      ]
     },
     "execution_count": 17,
     "metadata": {},
     "output_type": "execute_result"
    }
   ],
   "source": [
    "pd.Series(y_pred_class_2_train).value_counts()"
   ]
  },
  {
   "cell_type": "code",
   "execution_count": 18,
   "id": "85c6df65-6ba0-478d-af1e-b60500cf8a5d",
   "metadata": {},
   "outputs": [
    {
     "data": {
      "text/plain": [
       "0    12781\n",
       "dtype: int64"
      ]
     },
     "execution_count": 18,
     "metadata": {},
     "output_type": "execute_result"
    }
   ],
   "source": [
    "pd.Series(y_pred_class_2_valid).value_counts()"
   ]
  },
  {
   "cell_type": "code",
   "execution_count": 19,
   "id": "20f71671-f9d9-4c36-8c40-86e2ddecd706",
   "metadata": {},
   "outputs": [
    {
     "data": {
      "text/plain": [
       "<AxesSubplot:>"
      ]
     },
     "execution_count": 19,
     "metadata": {},
     "output_type": "execute_result"
    },
    {
     "data": {
      "image/png": "[encoded data removed]",
      "text/plain": [
       "<Figure size 432x288 with 1 Axes>"
      ]
     },
     "metadata": {
      "needs_background": "light"
     },
     "output_type": "display_data"
    }
   ],
   "source": [
    "pd.Series(y_pred_prob_2_train).hist()"
   ]
  },
  {
   "cell_type": "code",
   "execution_count": 20,
   "id": "a3d40869-a171-4a83-8ff1-0b57dfbd3e1a",
   "metadata": {},
   "outputs": [
    {
     "data": {
      "text/plain": [
       "<AxesSubplot:>"
      ]
     },
     "execution_count": 20,
     "metadata": {},
     "output_type": "execute_result"
    },
    {
     "data": {
      "image/png": "[encoded data removed]",
      "text/plain": [
       "<Figure size 432x288 with 1 Axes>"
      ]
     },
     "metadata": {
      "needs_background": "light"
     },
     "output_type": "display_data"
    }
   ],
   "source": [
    "pd.Series(y_pred_prob_2_valid).hist()"
   ]
  },
  {
   "cell_type": "code",
   "execution_count": 21,
   "id": "15f84aeb-81b6-4389-aedb-a64f4cf4cded",
   "metadata": {},
   "outputs": [
    {
     "name": "stdout",
     "output_type": "stream",
     "text": [
      "///////////////////////// TRAIN\n",
      "AUC: 0.505\n",
      "GINI: 0.009\n",
      "///////////////////////// VALIDATION\n",
      "AUC: 0.510\n",
      "GINI: 0.021\n"
     ]
    }
   ],
   "source": [
    "from sklearn.metrics import precision_score, recall_score, f1_score, accuracy_score, roc_auc_score\n",
    "\n",
    "print(\"/\"*25, 'TRAIN')\n",
    "auc = roc_auc_score(y_train, y_pred_prob_2_train)\n",
    "print(\"AUC: %1.3f\" % auc)\n",
    "print(\"GINI: %1.3f\" % (2*auc-1))\n",
    "\n",
    "print(\"/\"*25, 'VALIDATION')\n",
    "auc_2 = roc_auc_score(y_valid, y_pred_prob_2_valid)\n",
    "print(\"AUC: %1.3f\" % auc_2)\n",
    "print(\"GINI: %1.3f\" % (2*auc_2-1))"
   ]
  },
  {
   "cell_type": "code",
   "execution_count": 22,
   "id": "79b3629f-c679-422d-9b22-95a422e3d2b6",
   "metadata": {},
   "outputs": [
    {
     "name": "stdout",
     "output_type": "stream",
     "text": [
      "///////////////////////// TRAIN\n",
      "RECALL     : 0.00000000\n",
      "EFECTIVIDAD: 0.00000000\n",
      "F1 SCORE   : 0.00000000\n",
      "F1 SCORE   : 0.85884194\n",
      "///////////////////////// VALIDATION\n",
      "RECALL     : 0.00000000\n",
      "EFECTIVIDAD: 0.00000000\n",
      "F1 SCORE   : 0.00000000\n",
      "F1 SCORE   : 0.85885298\n"
     ]
    },
    {
     "name": "stderr",
     "output_type": "stream",
     "text": [
      "C:\\ProgramData\\Anaconda3\\lib\\site-packages\\sklearn\\metrics\\_classification.py:1248: UndefinedMetricWarning: Precision is ill-defined and being set to 0.0 due to no predicted samples. Use `zero_division` parameter to control this behavior.\n",
      "  _warn_prf(average, modifier, msg_start, len(result))\n",
      "C:\\ProgramData\\Anaconda3\\lib\\site-packages\\sklearn\\metrics\\_classification.py:1248: UndefinedMetricWarning: Precision is ill-defined and being set to 0.0 due to no predicted samples. Use `zero_division` parameter to control this behavior.\n",
      "  _warn_prf(average, modifier, msg_start, len(result))\n"
     ]
    }
   ],
   "source": [
    "print(\"/\"*25, 'TRAIN')\n",
    "print(\"RECALL     : %1.8f\" % recall_score(y_train, y_pred_class_2_train))\n",
    "print(\"EFECTIVIDAD: %1.8f\" % precision_score(y_train, y_pred_class_2_train))\n",
    "print(\"F1 SCORE   : %1.8f\" % f1_score(y_train, y_pred_class_2_train))\n",
    "print(\"F1 SCORE   : %1.8f\" % accuracy_score(y_train, y_pred_class_2_train))\n",
    "\n",
    "print(\"/\"*25, 'VALIDATION')\n",
    "print(\"RECALL     : %1.8f\" % recall_score(y_valid, y_pred_class_2_valid))\n",
    "print(\"EFECTIVIDAD: %1.8f\" % precision_score(y_valid, y_pred_class_2_valid))\n",
    "print(\"F1 SCORE   : %1.8f\" % f1_score(y_valid, y_pred_class_2_valid))\n",
    "print(\"F1 SCORE   : %1.8f\" % accuracy_score(y_valid, y_pred_class_2_valid))"
   ]
  },
  {
   "cell_type": "code",
   "execution_count": null,
   "id": "9561f6ee-180f-4a8a-8457-56097f122ac8",
   "metadata": {},
   "outputs": [],
   "source": []
  },
  {
   "cell_type": "markdown",
   "id": "05ac40c6-1cbe-4afb-b9b7-5e4a4b58008e",
   "metadata": {},
   "source": [
    "#### >>> RECALL"
   ]
  },
  {
   "cell_type": "code",
   "execution_count": 23,
   "id": "2d77863f-417b-4360-9906-83a17f3a836f",
   "metadata": {},
   "outputs": [
    {
     "data": {
      "text/plain": [
       "     fun: -1.0\n",
       " message: 'Optimization terminated successfully.'\n",
       "    nfev: 122\n",
       "     nit: 7\n",
       " success: True\n",
       "       x: array([0.01298791])"
      ]
     },
     "execution_count": 23,
     "metadata": {},
     "output_type": "execute_result"
    }
   ],
   "source": [
    "from scipy.optimize import differential_evolution\n",
    "\n",
    "\n",
    "optimization_rec = differential_evolution(\n",
    "    lambda c: -1*recall_score(y_train, np.array([0 if _ < c[0] else 1 for _ in y_pred_prob_2_train])), \n",
    "    [(0, 1)],\n",
    "    seed=SEED\n",
    ")\n",
    "optimization_rec"
   ]
  },
  {
   "cell_type": "code",
   "execution_count": 24,
   "id": "66457ba9-9dbc-4dae-bb25-e9981a33eb1e",
   "metadata": {},
   "outputs": [
    {
     "data": {
      "text/plain": [
       "0.012987907660010789"
      ]
     },
     "execution_count": 24,
     "metadata": {},
     "output_type": "execute_result"
    }
   ],
   "source": [
    "corte_rec = optimization_rec['x'][0]\n",
    "corte_rec"
   ]
  },
  {
   "cell_type": "code",
   "execution_count": 25,
   "id": "597be65f-d57a-40f4-8cec-4625ff5e322c",
   "metadata": {},
   "outputs": [],
   "source": [
    "y_pred_class_train_2_rec = np.where(y_pred_prob_2_train < corte_rec, 0 , 1)\n",
    "y_pred_class_valid_2_rc = np.where(y_pred_prob_2_valid < corte_rec, 0 , 1)"
   ]
  },
  {
   "cell_type": "code",
   "execution_count": 26,
   "id": "c0c86b9d-0b63-4f79-b24d-912ea2693a5c",
   "metadata": {},
   "outputs": [
    {
     "data": {
      "text/plain": [
       "1    51120\n",
       "dtype: int64"
      ]
     },
     "execution_count": 26,
     "metadata": {},
     "output_type": "execute_result"
    }
   ],
   "source": [
    "pd.Series(y_pred_class_train_2_rec).value_counts()"
   ]
  },
  {
   "cell_type": "code",
   "execution_count": 27,
   "id": "ce58f5eb-cb84-4fdc-bc33-02adaaee7ce7",
   "metadata": {},
   "outputs": [
    {
     "data": {
      "text/plain": [
       "1    12780\n",
       "0        1\n",
       "dtype: int64"
      ]
     },
     "execution_count": 27,
     "metadata": {},
     "output_type": "execute_result"
    }
   ],
   "source": [
    "pd.Series(y_pred_class_valid_2_rc).value_counts()"
   ]
  },
  {
   "cell_type": "code",
   "execution_count": 28,
   "id": "198229a3-f148-4601-8a76-67c15c07231d",
   "metadata": {},
   "outputs": [
    {
     "name": "stdout",
     "output_type": "stream",
     "text": [
      "///////////////////////// TRAIN\n",
      "RECALL     : 1.00000000\n",
      "EFECTIVIDAD: 0.14115806\n",
      "F1 SCORE   : 0.24739440\n",
      "F1 SCORE   : 0.14115806\n",
      "///////////////////////// VALIDATION\n",
      "RECALL     : 1.00000000\n",
      "EFECTIVIDAD: 0.14115806\n",
      "F1 SCORE   : 0.24739440\n",
      "F1 SCORE   : 0.14122526\n"
     ]
    }
   ],
   "source": [
    "print(\"/\"*25, \"TRAIN\")\n",
    "print(\"RECALL     : %1.8f\" % recall_score(y_train, y_pred_class_train_2_rec))\n",
    "print(\"EFECTIVIDAD: %1.8f\" % precision_score(y_train, y_pred_class_train_2_rec))\n",
    "print(\"F1 SCORE   : %1.8f\" % f1_score(y_train, y_pred_class_train_2_rec))\n",
    "print(\"F1 SCORE   : %1.8f\" % accuracy_score(y_train, y_pred_class_train_2_rec))\n",
    "\n",
    "print(\"/\"*25, \"VALIDATION\")\n",
    "print(\"RECALL     : %1.8f\" % recall_score(y_valid, y_pred_class_valid_2_rc))\n",
    "print(\"EFECTIVIDAD: %1.8f\" % precision_score(y_valid, y_pred_class_valid_2_rc))\n",
    "print(\"F1 SCORE   : %1.8f\" % f1_score(y_valid, y_pred_class_valid_2_rc))\n",
    "print(\"F1 SCORE   : %1.8f\" % accuracy_score(y_valid, y_pred_class_valid_2_rc))"
   ]
  },
  {
   "cell_type": "code",
   "execution_count": null,
   "id": "010f4b0e-de8c-450d-9a23-6b6686759336",
   "metadata": {},
   "outputs": [],
   "source": []
  },
  {
   "cell_type": "markdown",
   "id": "e3853f23-b161-4cbd-b97e-4052d694cfcd",
   "metadata": {},
   "source": [
    "#### >>> EFECTIVIDAD"
   ]
  },
  {
   "cell_type": "code",
   "execution_count": 29,
   "id": "d3a1c84a-b33b-433f-9580-07ac0911d5ec",
   "metadata": {},
   "outputs": [
    {
     "name": "stderr",
     "output_type": "stream",
     "text": [
      "C:\\ProgramData\\Anaconda3\\lib\\site-packages\\sklearn\\metrics\\_classification.py:1248: UndefinedMetricWarning: Precision is ill-defined and being set to 0.0 due to no predicted samples. Use `zero_division` parameter to control this behavior.\n",
      "  _warn_prf(average, modifier, msg_start, len(result))\n",
      "C:\\ProgramData\\Anaconda3\\lib\\site-packages\\sklearn\\metrics\\_classification.py:1248: UndefinedMetricWarning: Precision is ill-defined and being set to 0.0 due to no predicted samples. Use `zero_division` parameter to control this behavior.\n",
      "  _warn_prf(average, modifier, msg_start, len(result))\n",
      "C:\\ProgramData\\Anaconda3\\lib\\site-packages\\sklearn\\metrics\\_classification.py:1248: UndefinedMetricWarning: Precision is ill-defined and being set to 0.0 due to no predicted samples. Use `zero_division` parameter to control this behavior.\n",
      "  _warn_prf(average, modifier, msg_start, len(result))\n",
      "C:\\ProgramData\\Anaconda3\\lib\\site-packages\\sklearn\\metrics\\_classification.py:1248: UndefinedMetricWarning: Precision is ill-defined and being set to 0.0 due to no predicted samples. Use `zero_division` parameter to control this behavior.\n",
      "  _warn_prf(average, modifier, msg_start, len(result))\n",
      "C:\\ProgramData\\Anaconda3\\lib\\site-packages\\sklearn\\metrics\\_classification.py:1248: UndefinedMetricWarning: Precision is ill-defined and being set to 0.0 due to no predicted samples. Use `zero_division` parameter to control this behavior.\n",
      "  _warn_prf(average, modifier, msg_start, len(result))\n",
      "C:\\ProgramData\\Anaconda3\\lib\\site-packages\\sklearn\\metrics\\_classification.py:1248: UndefinedMetricWarning: Precision is ill-defined and being set to 0.0 due to no predicted samples. Use `zero_division` parameter to control this behavior.\n",
      "  _warn_prf(average, modifier, msg_start, len(result))\n",
      "C:\\ProgramData\\Anaconda3\\lib\\site-packages\\sklearn\\metrics\\_classification.py:1248: UndefinedMetricWarning: Precision is ill-defined and being set to 0.0 due to no predicted samples. Use `zero_division` parameter to control this behavior.\n",
      "  _warn_prf(average, modifier, msg_start, len(result))\n",
      "C:\\ProgramData\\Anaconda3\\lib\\site-packages\\sklearn\\metrics\\_classification.py:1248: UndefinedMetricWarning: Precision is ill-defined and being set to 0.0 due to no predicted samples. Use `zero_division` parameter to control this behavior.\n",
      "  _warn_prf(average, modifier, msg_start, len(result))\n",
      "C:\\ProgramData\\Anaconda3\\lib\\site-packages\\sklearn\\metrics\\_classification.py:1248: UndefinedMetricWarning: Precision is ill-defined and being set to 0.0 due to no predicted samples. Use `zero_division` parameter to control this behavior.\n",
      "  _warn_prf(average, modifier, msg_start, len(result))\n",
      "C:\\ProgramData\\Anaconda3\\lib\\site-packages\\sklearn\\metrics\\_classification.py:1248: UndefinedMetricWarning: Precision is ill-defined and being set to 0.0 due to no predicted samples. Use `zero_division` parameter to control this behavior.\n",
      "  _warn_prf(average, modifier, msg_start, len(result))\n",
      "C:\\ProgramData\\Anaconda3\\lib\\site-packages\\sklearn\\metrics\\_classification.py:1248: UndefinedMetricWarning: Precision is ill-defined and being set to 0.0 due to no predicted samples. Use `zero_division` parameter to control this behavior.\n",
      "  _warn_prf(average, modifier, msg_start, len(result))\n",
      "C:\\ProgramData\\Anaconda3\\lib\\site-packages\\sklearn\\metrics\\_classification.py:1248: UndefinedMetricWarning: Precision is ill-defined and being set to 0.0 due to no predicted samples. Use `zero_division` parameter to control this behavior.\n",
      "  _warn_prf(average, modifier, msg_start, len(result))\n",
      "C:\\ProgramData\\Anaconda3\\lib\\site-packages\\sklearn\\metrics\\_classification.py:1248: UndefinedMetricWarning: Precision is ill-defined and being set to 0.0 due to no predicted samples. Use `zero_division` parameter to control this behavior.\n",
      "  _warn_prf(average, modifier, msg_start, len(result))\n",
      "C:\\ProgramData\\Anaconda3\\lib\\site-packages\\sklearn\\metrics\\_classification.py:1248: UndefinedMetricWarning: Precision is ill-defined and being set to 0.0 due to no predicted samples. Use `zero_division` parameter to control this behavior.\n",
      "  _warn_prf(average, modifier, msg_start, len(result))\n",
      "C:\\ProgramData\\Anaconda3\\lib\\site-packages\\sklearn\\metrics\\_classification.py:1248: UndefinedMetricWarning: Precision is ill-defined and being set to 0.0 due to no predicted samples. Use `zero_division` parameter to control this behavior.\n",
      "  _warn_prf(average, modifier, msg_start, len(result))\n",
      "C:\\ProgramData\\Anaconda3\\lib\\site-packages\\sklearn\\metrics\\_classification.py:1248: UndefinedMetricWarning: Precision is ill-defined and being set to 0.0 due to no predicted samples. Use `zero_division` parameter to control this behavior.\n",
      "  _warn_prf(average, modifier, msg_start, len(result))\n",
      "C:\\ProgramData\\Anaconda3\\lib\\site-packages\\sklearn\\metrics\\_classification.py:1248: UndefinedMetricWarning: Precision is ill-defined and being set to 0.0 due to no predicted samples. Use `zero_division` parameter to control this behavior.\n",
      "  _warn_prf(average, modifier, msg_start, len(result))\n",
      "C:\\ProgramData\\Anaconda3\\lib\\site-packages\\sklearn\\metrics\\_classification.py:1248: UndefinedMetricWarning: Precision is ill-defined and being set to 0.0 due to no predicted samples. Use `zero_division` parameter to control this behavior.\n",
      "  _warn_prf(average, modifier, msg_start, len(result))\n",
      "C:\\ProgramData\\Anaconda3\\lib\\site-packages\\sklearn\\metrics\\_classification.py:1248: UndefinedMetricWarning: Precision is ill-defined and being set to 0.0 due to no predicted samples. Use `zero_division` parameter to control this behavior.\n",
      "  _warn_prf(average, modifier, msg_start, len(result))\n",
      "C:\\ProgramData\\Anaconda3\\lib\\site-packages\\sklearn\\metrics\\_classification.py:1248: UndefinedMetricWarning: Precision is ill-defined and being set to 0.0 due to no predicted samples. Use `zero_division` parameter to control this behavior.\n",
      "  _warn_prf(average, modifier, msg_start, len(result))\n",
      "C:\\ProgramData\\Anaconda3\\lib\\site-packages\\sklearn\\metrics\\_classification.py:1248: UndefinedMetricWarning: Precision is ill-defined and being set to 0.0 due to no predicted samples. Use `zero_division` parameter to control this behavior.\n",
      "  _warn_prf(average, modifier, msg_start, len(result))\n",
      "C:\\ProgramData\\Anaconda3\\lib\\site-packages\\sklearn\\metrics\\_classification.py:1248: UndefinedMetricWarning: Precision is ill-defined and being set to 0.0 due to no predicted samples. Use `zero_division` parameter to control this behavior.\n",
      "  _warn_prf(average, modifier, msg_start, len(result))\n",
      "C:\\ProgramData\\Anaconda3\\lib\\site-packages\\sklearn\\metrics\\_classification.py:1248: UndefinedMetricWarning: Precision is ill-defined and being set to 0.0 due to no predicted samples. Use `zero_division` parameter to control this behavior.\n",
      "  _warn_prf(average, modifier, msg_start, len(result))\n",
      "C:\\ProgramData\\Anaconda3\\lib\\site-packages\\sklearn\\metrics\\_classification.py:1248: UndefinedMetricWarning: Precision is ill-defined and being set to 0.0 due to no predicted samples. Use `zero_division` parameter to control this behavior.\n",
      "  _warn_prf(average, modifier, msg_start, len(result))\n",
      "C:\\ProgramData\\Anaconda3\\lib\\site-packages\\sklearn\\metrics\\_classification.py:1248: UndefinedMetricWarning: Precision is ill-defined and being set to 0.0 due to no predicted samples. Use `zero_division` parameter to control this behavior.\n",
      "  _warn_prf(average, modifier, msg_start, len(result))\n",
      "C:\\ProgramData\\Anaconda3\\lib\\site-packages\\sklearn\\metrics\\_classification.py:1248: UndefinedMetricWarning: Precision is ill-defined and being set to 0.0 due to no predicted samples. Use `zero_division` parameter to control this behavior.\n",
      "  _warn_prf(average, modifier, msg_start, len(result))\n",
      "C:\\ProgramData\\Anaconda3\\lib\\site-packages\\sklearn\\metrics\\_classification.py:1248: UndefinedMetricWarning: Precision is ill-defined and being set to 0.0 due to no predicted samples. Use `zero_division` parameter to control this behavior.\n",
      "  _warn_prf(average, modifier, msg_start, len(result))\n",
      "C:\\ProgramData\\Anaconda3\\lib\\site-packages\\sklearn\\metrics\\_classification.py:1248: UndefinedMetricWarning: Precision is ill-defined and being set to 0.0 due to no predicted samples. Use `zero_division` parameter to control this behavior.\n",
      "  _warn_prf(average, modifier, msg_start, len(result))\n",
      "C:\\ProgramData\\Anaconda3\\lib\\site-packages\\sklearn\\metrics\\_classification.py:1248: UndefinedMetricWarning: Precision is ill-defined and being set to 0.0 due to no predicted samples. Use `zero_division` parameter to control this behavior.\n",
      "  _warn_prf(average, modifier, msg_start, len(result))\n",
      "C:\\ProgramData\\Anaconda3\\lib\\site-packages\\sklearn\\metrics\\_classification.py:1248: UndefinedMetricWarning: Precision is ill-defined and being set to 0.0 due to no predicted samples. Use `zero_division` parameter to control this behavior.\n",
      "  _warn_prf(average, modifier, msg_start, len(result))\n",
      "C:\\ProgramData\\Anaconda3\\lib\\site-packages\\sklearn\\metrics\\_classification.py:1248: UndefinedMetricWarning: Precision is ill-defined and being set to 0.0 due to no predicted samples. Use `zero_division` parameter to control this behavior.\n",
      "  _warn_prf(average, modifier, msg_start, len(result))\n",
      "C:\\ProgramData\\Anaconda3\\lib\\site-packages\\sklearn\\metrics\\_classification.py:1248: UndefinedMetricWarning: Precision is ill-defined and being set to 0.0 due to no predicted samples. Use `zero_division` parameter to control this behavior.\n",
      "  _warn_prf(average, modifier, msg_start, len(result))\n",
      "C:\\ProgramData\\Anaconda3\\lib\\site-packages\\sklearn\\metrics\\_classification.py:1248: UndefinedMetricWarning: Precision is ill-defined and being set to 0.0 due to no predicted samples. Use `zero_division` parameter to control this behavior.\n",
      "  _warn_prf(average, modifier, msg_start, len(result))\n",
      "C:\\ProgramData\\Anaconda3\\lib\\site-packages\\sklearn\\metrics\\_classification.py:1248: UndefinedMetricWarning: Precision is ill-defined and being set to 0.0 due to no predicted samples. Use `zero_division` parameter to control this behavior.\n",
      "  _warn_prf(average, modifier, msg_start, len(result))\n"
     ]
    },
    {
     "data": {
      "text/plain": [
       "     fun: -0.3333333333333333\n",
       " message: 'Optimization terminated successfully.'\n",
       "    nfev: 167\n",
       "     nit: 10\n",
       " success: True\n",
       "       x: array([0.28896121])"
      ]
     },
     "execution_count": 29,
     "metadata": {},
     "output_type": "execute_result"
    }
   ],
   "source": [
    "optimization_pre = differential_evolution(\n",
    "    lambda c: -1*precision_score(y_train, np.array([0 if _ < c[0] else 1 for _ in y_pred_prob_2_train])), \n",
    "    [(0, 1)],\n",
    "    seed=SEED\n",
    ")\n",
    "optimization_pre"
   ]
  },
  {
   "cell_type": "code",
   "execution_count": null,
   "id": "3b7e1286-2f54-49b0-9511-0da58d50386e",
   "metadata": {},
   "outputs": [],
   "source": []
  },
  {
   "cell_type": "markdown",
   "id": "3bb8cc6e-9805-4032-b6a8-e16e51976cc3",
   "metadata": {},
   "source": [
    "#### >>> AUC"
   ]
  },
  {
   "cell_type": "code",
   "execution_count": 30,
   "id": "501ea2b0-d72b-480e-aaf0-c63782c37bbc",
   "metadata": {},
   "outputs": [
    {
     "data": {
      "text/plain": [
       "     fun: -0.504076521723672\n",
       " message: 'Optimization terminated successfully.'\n",
       "    nfev: 32\n",
       "     nit: 1\n",
       " success: True\n",
       "       x: array([0.14845676])"
      ]
     },
     "execution_count": 30,
     "metadata": {},
     "output_type": "execute_result"
    }
   ],
   "source": [
    "optimization_auc = differential_evolution(\n",
    "    lambda c: -1*roc_auc_score(y_train, np.array([0 if _ < c[0] else 1 for _ in y_pred_prob_2_train])), \n",
    "    [(0, 1)],\n",
    "    seed=123\n",
    ")\n",
    "optimization_auc"
   ]
  },
  {
   "cell_type": "code",
   "execution_count": 31,
   "id": "2fe947ae-60bc-4fcc-aea4-2ffd517f131d",
   "metadata": {},
   "outputs": [
    {
     "data": {
      "text/plain": [
       "0.14845676357094684"
      ]
     },
     "execution_count": 31,
     "metadata": {},
     "output_type": "execute_result"
    }
   ],
   "source": [
    "corte_auc = optimization_auc['x'][0]\n",
    "corte_auc"
   ]
  },
  {
   "cell_type": "code",
   "execution_count": 32,
   "id": "2b7a4e33-2b7f-4601-b1ad-38ad776df862",
   "metadata": {},
   "outputs": [],
   "source": [
    "y_pred_class_train_2_auc = np.where(y_pred_prob_2_train < corte_auc, 0 , 1)\n",
    "y_pred_class_valid_2_auc = np.where(y_pred_prob_2_valid < corte_auc, 0 , 1)"
   ]
  },
  {
   "cell_type": "code",
   "execution_count": 33,
   "id": "a59cd7bf-51c8-4728-94f2-cb13da9b2cca",
   "metadata": {},
   "outputs": [
    {
     "data": {
      "text/plain": [
       "0    30126\n",
       "1    20994\n",
       "dtype: int64"
      ]
     },
     "execution_count": 33,
     "metadata": {},
     "output_type": "execute_result"
    }
   ],
   "source": [
    "pd.Series(y_pred_class_train_2_auc).value_counts()"
   ]
  },
  {
   "cell_type": "code",
   "execution_count": 34,
   "id": "9eb71106-5797-4f3d-a751-7c6503a847ec",
   "metadata": {},
   "outputs": [
    {
     "data": {
      "text/plain": [
       "0    7536\n",
       "1    5245\n",
       "dtype: int64"
      ]
     },
     "execution_count": 34,
     "metadata": {},
     "output_type": "execute_result"
    }
   ],
   "source": [
    "pd.Series(y_pred_class_valid_2_auc).value_counts()"
   ]
  },
  {
   "cell_type": "code",
   "execution_count": 35,
   "id": "86edf21e-1992-48d8-8b2d-39f46f63993f",
   "metadata": {},
   "outputs": [
    {
     "name": "stdout",
     "output_type": "stream",
     "text": [
      "///////////////////////// TRAIN\n",
      "RECALL     : 0.41768293\n",
      "EFECTIVIDAD: 0.14356483\n",
      "F1 SCORE   : 0.21368309\n",
      "F1 SCORE   : 0.56607981\n",
      "///////////////////////// VALIDATION\n",
      "RECALL     : 0.41851441\n",
      "EFECTIVIDAD: 0.14394662\n",
      "F1 SCORE   : 0.21421478\n",
      "F1 SCORE   : 0.56662233\n"
     ]
    }
   ],
   "source": [
    "print(\"/\"*25, \"TRAIN\")\n",
    "print(\"RECALL     : %1.8f\" % recall_score(y_train, y_pred_class_train_2_auc))\n",
    "print(\"EFECTIVIDAD: %1.8f\" % precision_score(y_train, y_pred_class_train_2_auc))\n",
    "print(\"F1 SCORE   : %1.8f\" % f1_score(y_train, y_pred_class_train_2_auc))\n",
    "print(\"F1 SCORE   : %1.8f\" % accuracy_score(y_train, y_pred_class_train_2_auc))\n",
    "\n",
    "print(\"/\"*25, \"VALIDATION\")\n",
    "print(\"RECALL     : %1.8f\" % recall_score(y_valid, y_pred_class_valid_2_auc))\n",
    "print(\"EFECTIVIDAD: %1.8f\" % precision_score(y_valid, y_pred_class_valid_2_auc))\n",
    "print(\"F1 SCORE   : %1.8f\" % f1_score(y_valid, y_pred_class_valid_2_auc))\n",
    "print(\"F1 SCORE   : %1.8f\" % accuracy_score(y_valid, y_pred_class_valid_2_auc))"
   ]
  },
  {
   "cell_type": "code",
   "execution_count": null,
   "id": "295d2776-7875-4a59-ae59-183fcee27f10",
   "metadata": {},
   "outputs": [],
   "source": []
  },
  {
   "cell_type": "code",
   "execution_count": null,
   "id": "88fd174a-17cb-4152-9f09-1fda38ea2fe5",
   "metadata": {},
   "outputs": [],
   "source": []
  },
  {
   "cell_type": "code",
   "execution_count": null,
   "id": "fbbeecd2-63c4-46d3-b039-061eac9c4689",
   "metadata": {},
   "outputs": [],
   "source": []
  },
  {
   "cell_type": "code",
   "execution_count": null,
   "id": "cd6bf05d-dd52-4430-83a3-68a70c765d7c",
   "metadata": {},
   "outputs": [],
   "source": []
  },
  {
   "cell_type": "code",
   "execution_count": null,
   "id": "b04104da-6a33-4228-9120-1d67abdb7c20",
   "metadata": {},
   "outputs": [],
   "source": []
  },
  {
   "cell_type": "code",
   "execution_count": null,
   "id": "c7f52ef9-058a-4d1a-a362-989da54a1e31",
   "metadata": {},
   "outputs": [],
   "source": []
  },
  {
   "cell_type": "code",
   "execution_count": null,
   "id": "b6907203-ed12-4c94-a55d-5c61e92de7b8",
   "metadata": {},
   "outputs": [],
   "source": []
  },
  {
   "cell_type": "code",
   "execution_count": null,
   "id": "96f17014-7e7a-49f6-83f0-ea1de729c5a1",
   "metadata": {},
   "outputs": [],
   "source": []
  },
  {
   "cell_type": "code",
   "execution_count": null,
   "id": "26e98a1c-33a2-41ad-97d7-6e09555b9aa2",
   "metadata": {},
   "outputs": [],
   "source": []
  },
  {
   "cell_type": "code",
   "execution_count": null,
   "id": "2f347e15-0629-46b2-aebc-58cabeff0543",
   "metadata": {},
   "outputs": [],
   "source": []
  },
  {
   "cell_type": "code",
   "execution_count": null,
   "id": "c4c492f3-94ed-489d-b668-bfbf01da9e6d",
   "metadata": {},
   "outputs": [],
   "source": []
  }
 ],
 "metadata": {
  "kernelspec": {
   "display_name": "Python 3",
   "language": "python",
   "name": "python3"
  },
  "language_info": {
   "codemirror_mode": {
    "name": "ipython",
    "version": 3
   },
   "file_extension": ".py",
   "mimetype": "text/x-python",
   "name": "python",
   "nbconvert_exporter": "python",
   "pygments_lexer": "ipython3",
   "version": "3.8.5"
  }
 },
 "nbformat": 4,
 "nbformat_minor": 5
}
