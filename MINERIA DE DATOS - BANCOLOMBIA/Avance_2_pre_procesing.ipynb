{
 "cells": [
  {
   "cell_type": "code",
   "execution_count": null,
   "id": "searching-thickness",
   "metadata": {},
   "outputs": [],
   "source": [
    "# Nativos\n",
    "import random as rn\n",
    "import os\n",
    "import sys\n",
    "import gc\n",
    "\n",
    "#calculo\n",
    "import numpy as np\n",
    "import pandas as pd\n",
    "import scipy\n",
    "from scipy import stats\n",
    "\n",
    "\n",
    "#grafico\n",
    "import matplotlib.pyplot as plt\n",
    "import seaborn as sns\n",
    "from IPython.display import display\n",
    "from IPython.display import display_html\n",
    "%matplotlib inline\n",
    "sns.set(style=\"whitegrid\")\n",
    "\n",
    "#Interacciones con output\n",
    "import warnings\n",
    "warnings.filterwarnings(\"ignore\")\n",
    "# warnings.simplefilter(action='ignore', category=FutureWarning)\n",
    "pd.set_option('display.max_rows', 500)\n",
    "pd.set_option('display.max_columns', 500)\n",
    "pd.set_option('display.width', 1000)\n",
    "\n",
    "from IPython.core.interactiveshell import InteractiveShell\n",
    "InteractiveShell.ast_node_interactivity = \"all\"\n",
    "\n",
    "gc.collect()\n",
    "\n",
    "BASE_DIR = os.path.dirname(os.getcwd())\n",
    "if BASE_DIR not in sys.path: sys.path.append(BASE_DIR)\n",
    "\n",
    "#from utils import *\n",
    "#from graphs import *\n",
    "\n",
    "SEED = 29082013\n",
    "os.environ['PYTHONHASHSEED']=str(SEED)\n",
    "np.random.seed(SEED)\n",
    "rn.seed(SEED)\n",
    "\n",
    "#subfolder = \"data\"\n",
    "# os.listdir(subfolder)"
   ]
  },
  {
   "cell_type": "markdown",
   "id": "joined-reading",
   "metadata": {},
   "source": [
    "## >> Utilitarios"
   ]
  },
  {
   "cell_type": "code",
   "execution_count": null,
   "id": "imposed-plane",
   "metadata": {},
   "outputs": [],
   "source": [
    "def null_verificator(data):        \n",
    "    if data.isnull().any().any():\n",
    "        view_info = pd.DataFrame(\n",
    "            pd.concat(\n",
    "                [data.isnull().any(), \n",
    "                 data.isnull().sum(),\n",
    "                 data.dtypes], \n",
    "                axis=1)\n",
    "        )\n",
    "        view_info.columns = ['Nulos', 'Cantidad', 'Tipo Col']\n",
    "        size = data.shape[0]\n",
    "        view_info['Porcentaje'] = view_info['Cantidad'].apply(\n",
    "            lambda x: np.round(0 if not x else x*100 / size, 2))\n",
    "        return view_info\n",
    "    else:\n",
    "        return pd.DataFrame.from_dict({'msje':\"DATA LIMPIA DE NULOS\"}, orient='index')"
   ]
  },
  {
   "cell_type": "code",
   "execution_count": null,
   "id": "biblical-provincial",
   "metadata": {},
   "outputs": [],
   "source": [
    "def display_horizontal(*args, percent_sep=5):\n",
    "    html_str=''\n",
    "    for table in args:\n",
    "        df = table if isinstance(table, pd.DataFrame) else  pd.DataFrame(table)\n",
    "        html_str+=df.to_html()\n",
    "    display_html(\n",
    "        html_str.replace(\n",
    "            'table','table style=\"display:inline;padding-right:{}%\"'.format(percent_sep)\n",
    "        ), \n",
    "        raw=True)"
   ]
  },
  {
   "cell_type": "code",
   "execution_count": null,
   "id": "outer-australian",
   "metadata": {},
   "outputs": [],
   "source": [
    "def compare_var_train_test(train, test, col_, **kwargs):\n",
    "    fig, axes = plt.subplots(nrows=1, ncols=2, figsize=(15, 4))\n",
    "    \n",
    "    # cantidad\n",
    "    sns.displot(train[col_], bins=20, ax=axes[0])\n",
    "    sns.displot(test[col_], bins=20, ax=axes[0])\n",
    "    \n",
    "    #densudad\n",
    "    sns.kdeplot(train[col_], shade=True, ax=axes[1])\n",
    "    sns.kdeplot(test[col_], shade=True, ax=axes[1])\n"
   ]
  },
  {
   "cell_type": "code",
   "execution_count": null,
   "id": "unlike-cuisine",
   "metadata": {},
   "outputs": [],
   "source": [
    "def compare_var_train_test(train, test, col_, **kwargs):\n",
    "    fig, axes_ = plt.subplots(nrows=1, ncols=4, figsize=(20, 4))\n",
    "    \n",
    "    # cantidad\n",
    "    sns.histplot(train[col_], bins=20, ax=axes_[0], color='b')\n",
    "    sns.histplot(test[col_], bins=20, ax=axes_[0], color='r')\n",
    "    \n",
    "    #densudad\n",
    "    sns.kdeplot(train[col_], shade=True, ax=axes_[1], color='b')\n",
    "    sns.kdeplot(test[col_], shade=True, ax=axes_[1], color='r')\n",
    "    \n",
    "    ## cajas\n",
    "    sns.boxplot(y=train[col], ax=axes_[2], color='b')\n",
    "    sns.boxplot(y=test[col], ax=axes_[3], color='r')"
   ]
  },
  {
   "cell_type": "code",
   "execution_count": null,
   "id": "77b15665-0615-47b5-9906-ef37c102ef8e",
   "metadata": {},
   "outputs": [],
   "source": []
  },
  {
   "cell_type": "markdown",
   "id": "boolean-gossip",
   "metadata": {},
   "source": [
    "## >> Descripción de campos"
   ]
  },
  {
   "cell_type": "raw",
   "id": "biological-crystal",
   "metadata": {},
   "source": [
    "Empleado --------------- 0=Desempleado, 1=Empleado actualmente\n",
    "Tiempo_empleado--------- Número de años que lleva en el empleo actual (si aplica)\n",
    "Saldo_cuenta ----------- Saldo en miles de pesos de la cuenta principal con el banco\n",
    "Valor_préstamo --------- Valor actual que adeuda en préstamos en el sistema financiero\n",
    "Cuentas_otros ---------- Número de cuentas que tiene en otros bancos\n",
    "Autocontrol ------------ Mediante una prueba escrita se mide el nivel de autocontrol de la persona, en puntaje de 0 a 100\n",
    "Impulsividad ----------- Mediante una prueba escrita se mide el nivel de impulsividad de la persona, en puntaje de 0 a 100\n",
    "Confianza -------------- Mediante una prueba escrita se mide el nivel de confianza en sí misma de la persona, en puntaje de 0 a 100\n",
    "Incumplimiento --------- 0=Cumplimiento; 1=Incumplimiento"
   ]
  },
  {
   "cell_type": "code",
   "execution_count": null,
   "id": "descending-election",
   "metadata": {},
   "outputs": [],
   "source": []
  },
  {
   "cell_type": "markdown",
   "id": "saved-cement",
   "metadata": {},
   "source": [
    "## >> Load data"
   ]
  },
  {
   "cell_type": "code",
   "execution_count": null,
   "id": "animal-defendant",
   "metadata": {},
   "outputs": [],
   "source": [
    "dicc_load = {\n",
    "    'engine': 'openpyxl',\n",
    "    'dtype': {'id': str}\n",
    "}"
   ]
  },
  {
   "cell_type": "code",
   "execution_count": null,
   "id": "abstract-muscle",
   "metadata": {},
   "outputs": [],
   "source": [
    "train = pd.read_excel('score_train.xlsx',  **dicc_load)\n",
    "display(train.head())\n",
    "\n",
    "test = pd.read_excel('score_test.xlsx',  **dicc_load)\n",
    "display(test.head())"
   ]
  },
  {
   "cell_type": "code",
   "execution_count": null,
   "id": "hispanic-yorkshire",
   "metadata": {},
   "outputs": [],
   "source": [
    "train.shape, test.shape"
   ]
  },
  {
   "cell_type": "code",
   "execution_count": null,
   "id": "lucky-jewel",
   "metadata": {},
   "outputs": [],
   "source": []
  },
  {
   "cell_type": "markdown",
   "id": "novel-dictionary",
   "metadata": {},
   "source": [
    "## >> Análisis de nulos"
   ]
  },
  {
   "cell_type": "code",
   "execution_count": null,
   "id": "accepted-cooler",
   "metadata": {},
   "outputs": [],
   "source": [
    "display_horizontal(\n",
    "    null_verificator(train), null_verificator(test)\n",
    ")"
   ]
  },
  {
   "cell_type": "markdown",
   "id": "floral-paint",
   "metadata": {},
   "source": [
    "Conclusión: Data sin nulos"
   ]
  },
  {
   "cell_type": "code",
   "execution_count": null,
   "id": "liberal-patent",
   "metadata": {},
   "outputs": [],
   "source": []
  },
  {
   "cell_type": "markdown",
   "id": "4e12466e-0ab5-4a23-8ff5-14240733e963",
   "metadata": {},
   "source": [
    "## >> Revisión de Balanceo"
   ]
  },
  {
   "cell_type": "code",
   "execution_count": null,
   "id": "994105eb-bfc2-4dda-b628-95ceb40698a8",
   "metadata": {},
   "outputs": [],
   "source": [
    "train['Incumplimiento'].value_counts(dropna=False, normalize=True)"
   ]
  },
  {
   "cell_type": "code",
   "execution_count": null,
   "id": "fb16d33c-91d8-47f3-8dda-5f70a77586b3",
   "metadata": {},
   "outputs": [],
   "source": []
  },
  {
   "cell_type": "markdown",
   "id": "heated-register",
   "metadata": {},
   "source": [
    "## >> Análisis Descriptivo"
   ]
  },
  {
   "cell_type": "markdown",
   "id": "absolute-patio",
   "metadata": {},
   "source": [
    "#### >>>> Cuantitativos"
   ]
  },
  {
   "cell_type": "code",
   "execution_count": null,
   "id": "rubber-excitement",
   "metadata": {},
   "outputs": [],
   "source": [
    "display_horizontal(\n",
    "    train.describe().T, test.describe().T\n",
    ")"
   ]
  },
  {
   "cell_type": "markdown",
   "id": "750fd98b-847b-43f9-a42c-6dc9587f1ffd",
   "metadata": {},
   "source": [
    "### >> Correcion de valor_prestamo negativos"
   ]
  },
  {
   "cell_type": "code",
   "execution_count": null,
   "id": "43c2775d-7259-4ba5-b2ff-9ea9330495fc",
   "metadata": {},
   "outputs": [],
   "source": [
    "train['Valor_prestamo'] = train['Valor_prestamo'].apply(lambda _: 0 if _ < 0 else _)\n",
    "test['Valor_prestamo'] = test['Valor_prestamo'].apply(lambda _: 0 if _ < 0 else _)"
   ]
  },
  {
   "cell_type": "code",
   "execution_count": null,
   "id": "6d13fbc1-0c96-4e84-b1bb-d545cc2034de",
   "metadata": {},
   "outputs": [],
   "source": [
    "cols_num = [col for col in train.describe().columns if set(train[col]) != {0, 1}]\n",
    "print(cols_num)"
   ]
  },
  {
   "cell_type": "code",
   "execution_count": null,
   "id": "polished-parcel",
   "metadata": {},
   "outputs": [],
   "source": [
    "for col in cols_num:\n",
    "    compare_var_train_test(train, test, col)"
   ]
  },
  {
   "cell_type": "markdown",
   "id": "provincial-internship",
   "metadata": {},
   "source": [
    "#### >>>> Cualitativos"
   ]
  },
  {
   "cell_type": "code",
   "execution_count": null,
   "id": "partial-square",
   "metadata": {},
   "outputs": [],
   "source": [
    "display_horizontal(\n",
    "    train.describe(include=[bool, object]).T, test.describe(include=[bool, object]).T\n",
    ")"
   ]
  },
  {
   "cell_type": "markdown",
   "id": "e7c06fba-240b-4683-b869-f19af6b3da15",
   "metadata": {},
   "source": []
  },
  {
   "cell_type": "code",
   "execution_count": null,
   "id": "4e076e50-7045-4c5d-b507-01fd952e7def",
   "metadata": {},
   "outputs": [],
   "source": []
  },
  {
   "cell_type": "markdown",
   "id": "22978598-35e5-4717-b3e1-78f511aa93f6",
   "metadata": {},
   "source": [
    "## >> Gráfico QQplot"
   ]
  },
  {
   "cell_type": "code",
   "execution_count": null,
   "id": "bc9abcca-ede7-4e4c-8eab-618ad7185827",
   "metadata": {},
   "outputs": [],
   "source": [
    "from statsmodels.graphics.gofplots import qqplot\n",
    "\n",
    "for col in cols_num:\n",
    "    print(\"/\"*50, col)\n",
    "    fig = qqplot(train[col] , line='s')\n",
    "    fig2 = qqplot(test[col] , line='s')\n",
    "    plt.show()\n",
    "    print(\"/\"*100)"
   ]
  },
  {
   "cell_type": "code",
   "execution_count": null,
   "id": "dfecaab7-4951-484b-97c5-453c6f18d201",
   "metadata": {},
   "outputs": [],
   "source": []
  },
  {
   "cell_type": "markdown",
   "id": "007e99ed-5787-42b6-84ac-fef3295c86b2",
   "metadata": {},
   "source": [
    "## >> Pruebas de Normalidad"
   ]
  },
  {
   "cell_type": "raw",
   "id": "24a9e8f4-c766-4c30-bfa7-18fad12dc92a",
   "metadata": {},
   "source": [
    "H0: los datos proceden de una distribución normal\n",
    "H1: los datos no proceden de una distribución normal\n",
    "\n",
    "\n",
    "Si p_value <= 0.05 ----> rechazamos la hispotesis nula\n",
    "si p_value > 0.05  ----> no existe argumentos suficientes para rechazar la hipótesis"
   ]
  },
  {
   "cell_type": "code",
   "execution_count": null,
   "id": "7c176d83-fc5c-4b9f-8e29-7917e6c53b96",
   "metadata": {},
   "outputs": [],
   "source": [
    "def test_normalidad(data, col, method='kolmogorov', alpha=0.05, tipo='train'):\n",
    "    metodos_validos = ['shapiro', 'kolmogorov', 'agostino']\n",
    "    \n",
    "    if method not in metodos_validos:\n",
    "        return 'Ingrese un método válido'\n",
    "    \n",
    "    if method == 'shapiro':\n",
    "        stat, p = stats.shapiro(data[col])\n",
    "    elif method == 'kolmogorov':\n",
    "        ks = stats.kstest(data[col], 'norm')\n",
    "        p = ks.pvalue\n",
    "        stat = ks.statistic\n",
    "    elif method == 'agostino':\n",
    "        stat, p = stats.normaltest(data[col])\n",
    "    \n",
    "    if p > alpha:\n",
    "        msg = 'NORMALIDAD - No hay evidencia para rechzar la hipotesis nula'\n",
    "    else:\n",
    "        msg = 'NO GAUSSIANO - Se rechaza la hipotesis nula - NO NORMAL'\n",
    "    \n",
    "    return pd.DataFrame({\n",
    "        'Nombre de variable':  col,\n",
    "        'Tipo de data': tipo,\n",
    "        'Tamaño de la muestra': 'train: {}, test: {} '.format(train.shape[0], test.shape[0]),\n",
    "        'valor del estadístico': stat,\n",
    "        'p-valor': p,\n",
    "        'Resultado': msg\n",
    "    }, index=[0])"
   ]
  },
  {
   "cell_type": "markdown",
   "id": "9ce01970-9498-480d-b4a0-3be6b2f0e14f",
   "metadata": {},
   "source": [
    "#### >>>> Shapiro "
   ]
  },
  {
   "cell_type": "code",
   "execution_count": null,
   "id": "a0c75770-893a-4b23-b675-2abac446c1e8",
   "metadata": {},
   "outputs": [],
   "source": [
    "pd.concat( \n",
    "    [test_normalidad(train, col, method='shapiro', tipo='train') for col in cols_num] + [test_normalidad(test, col, method='shapiro', tipo='test') for col in cols_num] , axis=0, ignore_index=True\n",
    ").sort_values(by=['Nombre de variable'], ascending=False)"
   ]
  },
  {
   "cell_type": "markdown",
   "id": "09ad9ec6-9f44-467c-9356-0d9cf585f445",
   "metadata": {},
   "source": [
    "#### >>>>  Kolmogorov Smirnov"
   ]
  },
  {
   "cell_type": "code",
   "execution_count": null,
   "id": "9dc36493-5176-487e-9fa0-a308aceeaf9f",
   "metadata": {},
   "outputs": [],
   "source": [
    "pd.concat( \n",
    "    [test_normalidad(train, col, method='kolmogorov', tipo='train') for col in cols_num] + [test_normalidad(test, col, method='kolmogorov', tipo='test') for col in cols_num] , axis=0, ignore_index=True\n",
    ").sort_values(by=['Nombre de variable'], ascending=False)"
   ]
  },
  {
   "cell_type": "markdown",
   "id": "2ec2a601-6977-42db-9498-561987a3a51f",
   "metadata": {},
   "source": [
    "#### >>>> Agostino"
   ]
  },
  {
   "cell_type": "code",
   "execution_count": null,
   "id": "7bc0630a-a83c-41a9-81e3-5c9ea0e661d5",
   "metadata": {},
   "outputs": [],
   "source": [
    "pd.concat( \n",
    "    [test_normalidad(train, col, method='agostino', tipo='train') for col in cols_num] + [test_normalidad(test, col, method='agostino', tipo='test') for col in cols_num] , axis=0, ignore_index=True\n",
    ").sort_values(by=['Nombre de variable'], ascending=False)"
   ]
  },
  {
   "cell_type": "code",
   "execution_count": null,
   "id": "88dc491e-c525-415e-b5b1-6bdddd25c96c",
   "metadata": {},
   "outputs": [],
   "source": []
  },
  {
   "cell_type": "code",
   "execution_count": null,
   "id": "e387a255-9bf0-41f2-8758-014d859a4f69",
   "metadata": {},
   "outputs": [],
   "source": []
  },
  {
   "cell_type": "markdown",
   "id": "f600f088-7436-4342-af3a-2d02d5659bad",
   "metadata": {},
   "source": [
    "## >> Pruebas de Homocedasticidad"
   ]
  },
  {
   "cell_type": "raw",
   "id": "a5485f1a-1690-402e-a8b6-58a4a1efbe62",
   "metadata": {},
   "source": [
    "H0: Todas las varianzas de una población k son iguales (homocedasticidad)\n",
    "H1: Al menos dos son diferentes (heterocedasticidad) \n",
    "\n",
    "Si p_value <= 0.05 ----> rechazamos la hispotesis nula\n",
    "si p_value > 0.05  ----> no existe argumentos suficientes para rechazar la hipótesis"
   ]
  },
  {
   "cell_type": "code",
   "execution_count": null,
   "id": "6745b3ca-91eb-4fb2-a4d9-0a96d1b35bc2",
   "metadata": {},
   "outputs": [],
   "source": [
    "def test_homocedasticidad(train, test, col, method='bartlett', alpha=0.05):\n",
    "    metodos_validos = ['levene', 'bartlett', 'fligner']\n",
    "    \n",
    "    if method not in metodos_validos:\n",
    "        return 'Ingrese un método válido'\n",
    "    \n",
    "    if method == 'levene':\n",
    "        prueba = stats.levene(train[col], test[col], center='median')\n",
    "    elif method == 'bartlett':\n",
    "        prueba = stats.bartlett(train[col], test[col])\n",
    "    elif method == 'fligner':\n",
    "        prueba = stats.fligner(train[col], test[col], center='median')\n",
    "\n",
    "    p = prueba.pvalue\n",
    "    stat = prueba.statistic\n",
    "    \n",
    "    if p > alpha:\n",
    "        msg = 'HOMOCEDASTICIDAD - No hay evidencia para rechzar la hipotesis nula'\n",
    "    else:\n",
    "        msg = 'HETEROCEDASTICIDAD - Se rechaza la hipotesis nula - NO NORMAL'\n",
    "    \n",
    "    return pd.DataFrame({\n",
    "        'Nombre de variable':  col,\n",
    "        'Tamaño de la muestra': 'train: {}, test: {} '.format(train.shape[0], test.shape[0]),\n",
    "        'valor del estadístico': stat,\n",
    "        'p-valor': p,\n",
    "        'Resultado': msg\n",
    "    }, index=[0])"
   ]
  },
  {
   "cell_type": "markdown",
   "id": "6134adfd-704b-4706-8959-1336f8c0bae1",
   "metadata": {},
   "source": [
    "#### >>>> Barlett"
   ]
  },
  {
   "cell_type": "code",
   "execution_count": null,
   "id": "07a7e910-6eef-4d76-97a4-889afb614f58",
   "metadata": {},
   "outputs": [],
   "source": [
    "pd.concat( \n",
    "    [test_homocedasticidad(train, test, col, method='bartlett') for col in cols_num], axis=0, ignore_index=True\n",
    ")"
   ]
  },
  {
   "cell_type": "markdown",
   "id": "fe07bd36-06d7-4d8c-b18e-05589069c922",
   "metadata": {},
   "source": [
    "#### >>>> Levene"
   ]
  },
  {
   "cell_type": "code",
   "execution_count": null,
   "id": "a42c81da-5eb0-4672-8986-9820186959fe",
   "metadata": {},
   "outputs": [],
   "source": [
    "pd.concat( \n",
    "    [test_homocedasticidad(train, test, col, method='levene') for col in cols_num], axis=0, ignore_index=True\n",
    ")"
   ]
  },
  {
   "cell_type": "markdown",
   "id": "84025ef3-5558-4aa2-abae-f53a8e1e10c5",
   "metadata": {},
   "source": [
    "#### >>>> Fligner"
   ]
  },
  {
   "cell_type": "code",
   "execution_count": null,
   "id": "0ba7cba8-e6d4-46f6-91fa-77e904d35c47",
   "metadata": {},
   "outputs": [],
   "source": [
    "pd.concat( \n",
    "    [test_homocedasticidad(train, test, col, method='fligner') for col in cols_num], axis=0, ignore_index=True\n",
    ")"
   ]
  },
  {
   "cell_type": "code",
   "execution_count": null,
   "id": "5c5d130b-d5c0-4961-9709-6cfc35af745e",
   "metadata": {},
   "outputs": [],
   "source": []
  },
  {
   "cell_type": "markdown",
   "id": "96052633-cfc2-4a6f-b1bc-71ccc3223932",
   "metadata": {},
   "source": [
    "## >> Analisis de Correlación"
   ]
  },
  {
   "cell_type": "code",
   "execution_count": null,
   "id": "dc891eaf-3176-4e8b-a7e4-2781f1ed39e9",
   "metadata": {},
   "outputs": [],
   "source": [
    "train.corr(method='spearman').style.background_gradient(\n",
    "    cmap='coolwarm', axis=None\n",
    ").set_precision(3)"
   ]
  },
  {
   "cell_type": "code",
   "execution_count": null,
   "id": "1166a5f0-f244-43ab-b185-7677ddb4cfd2",
   "metadata": {},
   "outputs": [],
   "source": [
    "test.corr(method='spearman').style.background_gradient(\n",
    "    cmap='coolwarm', axis=None\n",
    ").set_precision(3)"
   ]
  },
  {
   "cell_type": "code",
   "execution_count": null,
   "id": "297d7b3d-2e67-4ee5-b271-2256af8b5e7b",
   "metadata": {},
   "outputs": [],
   "source": []
  },
  {
   "cell_type": "code",
   "execution_count": null,
   "id": "f149acec-3b80-475c-b8e8-a260abc7eb93",
   "metadata": {},
   "outputs": [],
   "source": []
  },
  {
   "cell_type": "markdown",
   "id": "163ab3ae-457d-4fd5-9712-315b106222d9",
   "metadata": {},
   "source": [
    "## >> Inspección de Gráicos Bivariado"
   ]
  },
  {
   "cell_type": "code",
   "execution_count": null,
   "id": "86bacc1e-acdc-4387-aba8-9bf96013790e",
   "metadata": {},
   "outputs": [],
   "source": [
    "def graph_numeric(data, col_init, col_out, **kwargs):\n",
    "    fig, axes = plt.subplots(nrows=1, ncols=3, figsize=(15, 4))\n",
    "    \n",
    "    sns.lineplot(x=col_init, y=col_out, data=data, ax=axes[0])\n",
    "    sns.violinplot(x=col_init, y=col_out, data=data, ax=axes[1], orient='h')\n",
    "    \n",
    "    legend_list = []\n",
    "    \n",
    "    for opt in data[col_out].unique():\n",
    "        sns.kdeplot(data[data[col_out] == opt][col_init], ax=axes[2], shade=True)\n",
    "        legend_list.append(opt)\n",
    "    plt.legend(legend_list)"
   ]
  },
  {
   "cell_type": "code",
   "execution_count": null,
   "id": "9b9f58cb-bc1b-4175-80bf-0f05c29c085c",
   "metadata": {},
   "outputs": [],
   "source": [
    "def graph_categoryc(data, col_init, col_out, **kwargs):\n",
    "    fig, axes = plt.subplots(nrows=1, ncols=3, figsize=(20, 5))\n",
    "    \n",
    "    cp = sns.countplot(x=col_init, hue=col_out, data=data, ax=axes[0])\n",
    "    plt.setp(cp.get_xticklabels(), rotation=90)\n",
    "    \n",
    "    cross = pd.crosstab(data[col_out], data[col_init])\n",
    "    sum_total = sum([cross[col].sum() for col in cross.columns])\n",
    "    sns.heatmap(\n",
    "        cross/sum_total, \n",
    "        annot=True, ax=axes[1], center=0, cmap=\"YlGnBu\", fmt='.0%'\n",
    "    )\n",
    "    bp = sns.barplot(\n",
    "        x=col_init, y=col_out, data=data, ax=axes[2]\n",
    "    )\n",
    "    \n",
    "    plt.setp(bp.get_xticklabels(), rotation=90)"
   ]
  },
  {
   "cell_type": "code",
   "execution_count": null,
   "id": "124f1486-0373-43a3-b916-87926cec2f3e",
   "metadata": {},
   "outputs": [],
   "source": [
    "graph_numeric(train, 'Tiempo_empleo', 'Incumplimiento')"
   ]
  },
  {
   "cell_type": "code",
   "execution_count": null,
   "id": "8399d2d5-12b8-445c-8094-e6898c171a2c",
   "metadata": {},
   "outputs": [],
   "source": [
    "graph_numeric(train[train['Saldo_cuenta'] < 1000], 'Saldo_cuenta', 'Incumplimiento')"
   ]
  },
  {
   "cell_type": "code",
   "execution_count": null,
   "id": "c88ee7b5-f8cc-48c1-9c35-ec5841482031",
   "metadata": {},
   "outputs": [],
   "source": [
    "graph_numeric(train, 'Valor_prestamo', 'Incumplimiento')"
   ]
  },
  {
   "cell_type": "code",
   "execution_count": null,
   "id": "a145007a-1a74-497e-be90-40d31dfdb907",
   "metadata": {},
   "outputs": [],
   "source": [
    "graph_numeric(train, 'Cuentas_otros', 'Incumplimiento')"
   ]
  },
  {
   "cell_type": "code",
   "execution_count": null,
   "id": "21d1af8a-1779-4326-af7e-c937012566aa",
   "metadata": {},
   "outputs": [],
   "source": []
  },
  {
   "cell_type": "code",
   "execution_count": null,
   "id": "7fa87c23-41ba-47a4-be9a-d2573176eb24",
   "metadata": {},
   "outputs": [],
   "source": [
    "graph_numeric(train, 'Autocontrol', 'Incumplimiento')"
   ]
  },
  {
   "cell_type": "code",
   "execution_count": null,
   "id": "1704de44-2eca-4528-93b4-0821c8ecadf3",
   "metadata": {},
   "outputs": [],
   "source": [
    "graph_numeric(train, 'Impulsividad', 'Incumplimiento')"
   ]
  },
  {
   "cell_type": "code",
   "execution_count": null,
   "id": "1adb488b-c74c-45c7-9e12-f36ccc561e3d",
   "metadata": {},
   "outputs": [],
   "source": [
    "graph_numeric(train, 'Confianza', 'Incumplimiento')"
   ]
  },
  {
   "cell_type": "code",
   "execution_count": null,
   "id": "6660b5fb-1146-4c22-832e-7226623dee7c",
   "metadata": {},
   "outputs": [],
   "source": []
  },
  {
   "cell_type": "code",
   "execution_count": null,
   "id": "1291a061-b7fb-4344-af8d-a2e81a251b7e",
   "metadata": {},
   "outputs": [],
   "source": [
    "import itertools\n",
    "\n",
    "def div_simple(x, y):\n",
    "    if x == 0 or y == 0:\n",
    "        return 0\n",
    "    \n",
    "    return x / y\n",
    "\n",
    "for a, b in list(itertools.combinations(['Cuentas_otros', 'Valor_prestamo', 'Saldo_cuenta', 'Tiempo_empleo'] + ['Autocontrol', 'Impulsividad', 'Confianza'], 2)):\n",
    "    new_col = '{}_x_{}'.format(a, b).lower()\n",
    "    \n",
    "    train[new_col] = train[[a, b]].apply(lambda _: _[0]*_[1], axis=1)\n",
    "    test[new_col] = test[[a, b]].apply(lambda _: _[0]*_[1], axis=1)\n",
    "    \n",
    "    if 'cuentas_otros' not in new_col:\n",
    "        other_nwe = new_col  + '_entre_cuentas_otros'\n",
    "        train[other_nwe] = train[[new_col, 'Cuentas_otros']].apply(lambda _: div_simple(_[0], _[1]), axis=1)\n",
    "        test[other_nwe] = test[[new_col, 'Cuentas_otros']].apply(lambda _: div_simple(_[0], _[1]), axis=1)\n",
    "        \n",
    "    if 'tiempo_empleo' not in new_col:\n",
    "        other_nwe = new_col  + '_entre_tiempo_empleo'\n",
    "        train[other_nwe] = train[[new_col, 'Tiempo_empleo']].apply(lambda _: div_simple(_[0], _[1]), axis=1)\n",
    "        test[other_nwe] = test[[new_col, 'Tiempo_empleo']].apply(lambda _: div_simple(_[0], _[1]), axis=1)\n",
    "        \n",
    "    graph_numeric(train, new_col, 'Incumplimiento')"
   ]
  },
  {
   "cell_type": "code",
   "execution_count": null,
   "id": "9797f8ba-91bd-47e2-b33d-293092d2560c",
   "metadata": {},
   "outputs": [],
   "source": []
  },
  {
   "cell_type": "code",
   "execution_count": null,
   "id": "fc22e864-84e7-4095-9847-1dd19c65fdfe",
   "metadata": {},
   "outputs": [],
   "source": []
  },
  {
   "cell_type": "code",
   "execution_count": null,
   "id": "d52b2d98-864e-4adb-8be9-257f33da7910",
   "metadata": {},
   "outputs": [],
   "source": []
  },
  {
   "cell_type": "code",
   "execution_count": null,
   "id": "93694597-6d3b-4164-8d41-f4e23d2ff3c3",
   "metadata": {},
   "outputs": [],
   "source": []
  },
  {
   "cell_type": "code",
   "execution_count": null,
   "id": "739ce80b-6a61-4390-8930-243c8ef066b4",
   "metadata": {},
   "outputs": [],
   "source": []
  },
  {
   "cell_type": "code",
   "execution_count": null,
   "id": "d4496e56-885a-4815-acb0-752b6115f788",
   "metadata": {},
   "outputs": [],
   "source": [
    "view_graph = False"
   ]
  },
  {
   "cell_type": "code",
   "execution_count": null,
   "id": "219629d9-b696-479a-b3f6-65a526d5ef85",
   "metadata": {},
   "outputs": [],
   "source": [
    "train.describe().T"
   ]
  },
  {
   "cell_type": "code",
   "execution_count": null,
   "id": "aa4695ab-3f6c-4074-8dd0-e0fa689bc3ae",
   "metadata": {},
   "outputs": [],
   "source": []
  },
  {
   "cell_type": "code",
   "execution_count": null,
   "id": "2225afb8-b907-4154-84d9-04ac087002db",
   "metadata": {},
   "outputs": [],
   "source": []
  },
  {
   "cell_type": "code",
   "execution_count": null,
   "id": "85a41f0b-4d0c-4fea-ab42-acca3f45057b",
   "metadata": {},
   "outputs": [],
   "source": []
  },
  {
   "cell_type": "markdown",
   "id": "db48ed7f-614c-44b1-af3d-25d07099383f",
   "metadata": {},
   "source": [
    "## Nuevamente correlacion"
   ]
  },
  {
   "cell_type": "code",
   "execution_count": null,
   "id": "b0ac6d98-4151-4e8a-8ea8-0ed5c6b57ce4",
   "metadata": {},
   "outputs": [],
   "source": [
    "matriz_corr = train.corr(method='spearman')\n",
    "\n",
    "matriz_corr.style.background_gradient(\n",
    "    cmap='coolwarm', axis=None\n",
    ").set_precision(5)"
   ]
  },
  {
   "cell_type": "code",
   "execution_count": null,
   "id": "aea8f0d7-aa61-4e06-9b94-6494bb99e03b",
   "metadata": {},
   "outputs": [],
   "source": [
    "pd.DataFrame(matriz_corr['Incumplimiento'].abs().sort_values(ascending=False)).style.background_gradient(\n",
    "    cmap='coolwarm', axis=None\n",
    ").set_precision(5)"
   ]
  },
  {
   "cell_type": "code",
   "execution_count": null,
   "id": "f2dc9e0a-2c43-4f97-bc8c-0f3b4574ec9d",
   "metadata": {},
   "outputs": [],
   "source": []
  },
  {
   "cell_type": "markdown",
   "id": "9576f6d8-93da-4534-8143-ac16b79bad0b",
   "metadata": {},
   "source": [
    "## ESCALAMIENTO"
   ]
  },
  {
   "cell_type": "code",
   "execution_count": null,
   "id": "0066d87b-58a7-4798-a7c4-ed04641f9ea9",
   "metadata": {},
   "outputs": [],
   "source": [
    "from sklearn.preprocessing import MinMaxScaler"
   ]
  },
  {
   "cell_type": "code",
   "execution_count": null,
   "id": "2ba0b720-4052-44d7-bb2e-0f23484d796c",
   "metadata": {},
   "outputs": [],
   "source": [
    "X_train = train.drop(['id', 'Incumplimiento'], axis=1)\n",
    "columnas_train = X_train.columns\n",
    "X_test = test.drop(['id', 'Incumplimiento'], axis=1)\n",
    "columnas_test = X_test.columns\n",
    "\n",
    "all(columnas_train == columnas_test)"
   ]
  },
  {
   "cell_type": "code",
   "execution_count": null,
   "id": "f62a6dbb-ca24-4500-965b-030a1217b751",
   "metadata": {},
   "outputs": [],
   "source": [
    "assert all(columnas_train == columnas_test)"
   ]
  },
  {
   "cell_type": "code",
   "execution_count": null,
   "id": "03f9d607-fd28-4bcc-baaf-bc410f8a8e2f",
   "metadata": {},
   "outputs": [],
   "source": []
  },
  {
   "cell_type": "code",
   "execution_count": null,
   "id": "a918317f-94d1-48a1-98f3-bb5ec124e048",
   "metadata": {},
   "outputs": [],
   "source": [
    "scaler = MinMaxScaler()\n",
    "X_train = scaler.fit_transform(X_train)"
   ]
  },
  {
   "cell_type": "code",
   "execution_count": null,
   "id": "5d753c47-4d48-464c-b17c-9e5cf83aad64",
   "metadata": {},
   "outputs": [],
   "source": [
    "import joblib\n",
    "\n",
    "joblib.dump(scaler, 'scaler.pkl')\n",
    "load_scaler = joblib.load('scaler.pkl')    #--> para cargarlo en un ambiente externo\n",
    "\n",
    "X_test = load_scaler.transform(X_test)"
   ]
  },
  {
   "cell_type": "code",
   "execution_count": null,
   "id": "83f65d3c-5336-416f-9f94-f261fb952e1c",
   "metadata": {
    "tags": []
   },
   "outputs": [],
   "source": [
    "X_train = pd.DataFrame(X_train, columns=columnas_train)\n",
    "X_test = pd.DataFrame(X_test, columns=columnas_test)"
   ]
  },
  {
   "cell_type": "code",
   "execution_count": null,
   "id": "2f6e9413-99a8-46f6-9028-e2555d4e0c76",
   "metadata": {},
   "outputs": [],
   "source": [
    "X_train.corr(method='spearman').style.background_gradient(\n",
    "    cmap='coolwarm', axis=None\n",
    ").set_precision(5)"
   ]
  },
  {
   "cell_type": "code",
   "execution_count": null,
   "id": "f3135c9a-f1fb-4b0d-9153-db99ea5b754b",
   "metadata": {},
   "outputs": [],
   "source": [
    "X_test.corr(method='spearman').style.background_gradient(\n",
    "    cmap='coolwarm', axis=None\n",
    ").set_precision(5)"
   ]
  },
  {
   "cell_type": "code",
   "execution_count": null,
   "id": "05385a24-b43e-4362-8a49-39732c32ec61",
   "metadata": {},
   "outputs": [],
   "source": []
  },
  {
   "cell_type": "code",
   "execution_count": null,
   "id": "cc9db5c2-e960-44d6-9c77-cf42683ef7c6",
   "metadata": {},
   "outputs": [],
   "source": []
  },
  {
   "cell_type": "markdown",
   "id": "d54f24ed-6e01-450e-9558-e329b56af727",
   "metadata": {},
   "source": [
    "### Separacion en TRAIN Y VALIDACION"
   ]
  },
  {
   "cell_type": "code",
   "execution_count": null,
   "id": "b8805d51-5d50-452d-b479-d7faa2513db0",
   "metadata": {},
   "outputs": [],
   "source": [
    "X_test.head()"
   ]
  },
  {
   "cell_type": "code",
   "execution_count": null,
   "id": "88964690-42f7-404c-97a7-8d294827e980",
   "metadata": {},
   "outputs": [],
   "source": [
    "X_train.head()"
   ]
  },
  {
   "cell_type": "code",
   "execution_count": null,
   "id": "d2391b42-0fa3-4ec4-97cb-4239a941e808",
   "metadata": {},
   "outputs": [],
   "source": [
    "X_train.shape, X_test.shape"
   ]
  },
  {
   "cell_type": "code",
   "execution_count": null,
   "id": "b252c6ee-e073-4bf1-a873-f6d873854efc",
   "metadata": {},
   "outputs": [],
   "source": [
    "y_train = train['Incumplimiento'].copy()\n",
    "del train\n",
    "del test"
   ]
  },
  {
   "cell_type": "code",
   "execution_count": null,
   "id": "b07624cf-0db0-4741-8b44-ed99e8457b21",
   "metadata": {},
   "outputs": [],
   "source": [
    "y_train.shape"
   ]
  },
  {
   "cell_type": "code",
   "execution_count": null,
   "id": "987c8396-670b-4da1-8478-2713c5682072",
   "metadata": {},
   "outputs": [],
   "source": []
  },
  {
   "cell_type": "code",
   "execution_count": null,
   "id": "39cb57c8-0295-40c9-9c3a-4bb958302f20",
   "metadata": {},
   "outputs": [],
   "source": [
    "from sklearn.model_selection import train_test_split\n",
    "X_train, X_valid, y_train, y_valid = train_test_split(X_train, y_train, train_size=0.85, random_state=SEED, stratify=y_train)"
   ]
  },
  {
   "cell_type": "code",
   "execution_count": null,
   "id": "1c00ee6b-6718-4af2-8d01-a8c863dee0ff",
   "metadata": {},
   "outputs": [],
   "source": [
    "X_train.shape, X_valid.shape, y_train.shape, y_valid.shape"
   ]
  },
  {
   "cell_type": "code",
   "execution_count": null,
   "id": "fabed2bf-d031-4d47-b442-13e9191c51dd",
   "metadata": {},
   "outputs": [],
   "source": []
  },
  {
   "cell_type": "markdown",
   "id": "23d83841-0714-4c11-b6f7-a1dc0574e21b",
   "metadata": {},
   "source": [
    "### SAVE"
   ]
  },
  {
   "cell_type": "code",
   "execution_count": null,
   "id": "35207afa-355c-4e8d-bd03-12ee05e8b1b9",
   "metadata": {},
   "outputs": [],
   "source": [
    "X_train.to_csv('X_train.csv', index=False)\n",
    "X_valid.to_csv('X_valid.csv', index=False)\n",
    "X_test.to_csv('X_test.csv', index=False)"
   ]
  },
  {
   "cell_type": "code",
   "execution_count": null,
   "id": "848cb16b-e00b-43fe-ad85-0ab5b2132394",
   "metadata": {},
   "outputs": [],
   "source": [
    "y_train.to_csv('y_train.csv', index=False)\n",
    "y_valid.to_csv('y_valid.csv', index=False)"
   ]
  },
  {
   "cell_type": "code",
   "execution_count": null,
   "id": "8d0d562e-d246-448d-8d8d-ee3ee09ba7ab",
   "metadata": {},
   "outputs": [],
   "source": [
    "X_train['Imcumplimiento'] = y_train\n",
    "X_valid['Imcumplimiento'] = y_valid\n",
    "X_train.to_csv('X_train_r.csv', index=False)\n",
    "X_valid.to_csv('X_valid_r.csv', index=False)"
   ]
  },
  {
   "cell_type": "code",
   "execution_count": null,
   "id": "c81c1ddb-6091-4998-8237-45dec5c7076f",
   "metadata": {},
   "outputs": [],
   "source": []
  },
  {
   "cell_type": "code",
   "execution_count": null,
   "id": "73e1bbe6-5e13-4a5c-ae73-a505b72126b6",
   "metadata": {},
   "outputs": [],
   "source": []
  },
  {
   "cell_type": "markdown",
   "id": "e3f7916d-627f-4546-a3c2-29f18d1ed75a",
   "metadata": {},
   "source": [
    "### Información de versionaiento"
   ]
  },
  {
   "cell_type": "code",
   "execution_count": null,
   "id": "9138a2cd-e4ec-4d70-a61d-f481288fb3c1",
   "metadata": {},
   "outputs": [],
   "source": [
    "!pip install sinfo"
   ]
  },
  {
   "cell_type": "code",
   "execution_count": null,
   "id": "ebdc886b-0908-4c11-a823-35bef0363f51",
   "metadata": {},
   "outputs": [],
   "source": [
    "from sinfo import sinfo\n",
    "sinfo()"
   ]
  },
  {
   "cell_type": "code",
   "execution_count": null,
   "id": "073471d4-caf9-42e4-9f3a-e8439024ea8c",
   "metadata": {},
   "outputs": [],
   "source": []
  },
  {
   "cell_type": "code",
   "execution_count": null,
   "id": "084e9fae-8421-41ec-b6ca-a29147b77f25",
   "metadata": {},
   "outputs": [],
   "source": []
  }
 ],
 "metadata": {
  "kernelspec": {
   "display_name": "Python 3",
   "language": "python",
   "name": "python3"
  },
  "language_info": {
   "codemirror_mode": {
    "name": "ipython",
    "version": 3
   },
   "file_extension": ".py",
   "mimetype": "text/x-python",
   "name": "python",
   "nbconvert_exporter": "python",
   "pygments_lexer": "ipython3",
   "version": "3.8.5"
  }
 },
 "nbformat": 4,
 "nbformat_minor": 5
}
