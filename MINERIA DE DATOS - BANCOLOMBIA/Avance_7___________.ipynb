{
 "cells": [
  {
   "cell_type": "code",
   "execution_count": 4,
   "id": "42ae479b-e86e-4735-837e-f6d147e99b12",
   "metadata": {},
   "outputs": [],
   "source": [
    "# Nativos\n",
    "import random as rn\n",
    "import os\n",
    "import sys\n",
    "import gc\n",
    "\n",
    "#calculo\n",
    "import numpy as np\n",
    "import pandas as pd\n",
    "import scipy\n",
    "\n",
    "import pandas as pd\n",
    "import scorecardpy as sc\n",
    "\n",
    "SEED = 29082013\n",
    "os.environ['PYTHONHASHSEED'] = str(SEED)\n",
    "np.random.seed(SEED)\n",
    "rn.seed(SEED)"
   ]
  },
  {
   "cell_type": "code",
   "execution_count": 5,
   "id": "b3a4be64-1368-493f-97ea-231c7845e89f",
   "metadata": {},
   "outputs": [],
   "source": [
    "def calcular_pesos(modelo):\n",
    "    coef_model = pd.DataFrame(modelo.tvalues,columns=['t_value'])\n",
    "    coef_model['t_value2'] = np.power(coef_model['t_value'],2)\n",
    "    coef_model['total'] = sum(coef_model['t_value2'])\n",
    "    coef_model['part'] = coef_model['t_value2'] / coef_model['total']\n",
    "    coef_model['pesos'] = coef_model['part'] * 100\n",
    "    return coef_model['pesos'].sort_values(ascending=True)"
   ]
  },
  {
   "cell_type": "code",
   "execution_count": 6,
   "id": "801bea8d-50a7-4a50-af9b-6fe3c56e0ef3",
   "metadata": {},
   "outputs": [
    {
     "data": {
      "text/plain": [
       "((54315, 59), (9586, 59), (54315, 1), (9586, 1))"
      ]
     },
     "execution_count": 6,
     "metadata": {},
     "output_type": "execute_result"
    }
   ],
   "source": [
    "x_train = pd.read_csv(\"X_train.csv\")\n",
    "x_valid = pd.read_csv(\"X_valid.csv\")\n",
    "\n",
    "y_train = pd.read_csv(\"y_train.csv\")\n",
    "y_valid = pd.read_csv(\"y_valid.csv\")\n",
    "\n",
    "x_train.shape, x_valid.shape, y_train.shape, y_valid.shape"
   ]
  },
  {
   "cell_type": "code",
   "execution_count": 7,
   "id": "813eef17-49d7-472a-b487-726087e4f1c3",
   "metadata": {},
   "outputs": [],
   "source": [
    "def corr_detail(df_corr, min_value=0.85, show_detail=True, col_target='target'):\n",
    "    \n",
    "    corr_taret = df_corr[col_target].sort_values(ascending=False).apply(lambda _: abs(_)).sort_values(ascending=False)\n",
    "    \n",
    "    from itertools import combinations\n",
    "    def add_dicc(key, val, num, dicc):\n",
    "        if key in dicc:\n",
    "            dicc[key].append((val, num))\n",
    "        else:\n",
    "            dicc[key] = [(val, num)]\n",
    "        \n",
    "    set_unique, list_detected = set(), []\n",
    "    dicc_detected = {}\n",
    "    \n",
    "\n",
    "    for cols in combinations(list(df_corr.columns), 2):\n",
    "        corr_columns = np.fabs(df_corr[cols[0]][cols[1]])\n",
    "        \n",
    "        if corr_columns >= min_value:\n",
    "            set_unique.update(cols)\n",
    "            list_detected.extend(list(cols))\n",
    "            add_dicc(cols[0], cols[1], corr_columns, dicc_detected)\n",
    "            add_dicc(cols[1], cols[0], corr_columns, dicc_detected)        \n",
    "            \n",
    "    print(\"ANALISIS CORRELACION ENTRE COLUMNAS :\")\n",
    "    columnas_aparece = []\n",
    "    cols_del = []\n",
    "    for colc, cant in sorted(\n",
    "        [(col, list_detected.count(col)) for col in set_unique], key=lambda _: _[1], reverse=True):\n",
    "        \n",
    "        if colc not in columnas_aparece:\n",
    "            print(\"/\"*30)\n",
    "            print(\"-> \", colc, ' :::: ',cant, ' ///// ', corr_taret[colc])\n",
    "            columnas_aparece.append(colc)\n",
    "            if show_detail:\n",
    "                for _ in dicc_detected[colc]:\n",
    "                    print(\" \"*10, *_, '///// ',  corr_taret[_[0]])\n",
    "                    #columnas_aparece.append(_[0])\n",
    "                    \n",
    "                    if corr_taret[_[0]] <= corr_taret[colc]:\n",
    "                        cols_del.append(_[0])\n",
    "                    else:\n",
    "                        cols_del.append(colc)\n",
    "                    \n",
    "    del dicc_detected\n",
    "    del list_detected\n",
    "    del set_unique\n",
    "    return list(set(cols_del))"
   ]
  },
  {
   "cell_type": "markdown",
   "id": "7b5a3e62-7c46-4189-b4d5-467a76f6c52a",
   "metadata": {},
   "source": [
    "### >> Modleo TOP IV"
   ]
  },
  {
   "cell_type": "code",
   "execution_count": 9,
   "id": "17fad8f0-8b9f-4d08-a450-99d7e418352b",
   "metadata": {},
   "outputs": [
    {
     "name": "stdout",
     "output_type": "stream",
     "text": [
      "['Empleado', 'Tiempo_empleo', 'Saldo_cuenta', 'Valor_prestamo', 'Cuentas_otros', 'Autocontrol', 'Impulsividad', 'Confianza', 'cuentas_otros_x_valor_prestamo', 'cuentas_otros_x_valor_prestamo_entre_tiempo_empleo', 'cuentas_otros_x_saldo_cuenta', 'cuentas_otros_x_saldo_cuenta_entre_tiempo_empleo', 'cuentas_otros_x_tiempo_empleo', 'cuentas_otros_x_autocontrol', 'cuentas_otros_x_autocontrol_entre_tiempo_empleo', 'cuentas_otros_x_impulsividad', 'cuentas_otros_x_impulsividad_entre_tiempo_empleo', 'cuentas_otros_x_confianza', 'cuentas_otros_x_confianza_entre_tiempo_empleo', 'valor_prestamo_x_saldo_cuenta', 'valor_prestamo_x_saldo_cuenta_entre_cuentas_otros', 'valor_prestamo_x_saldo_cuenta_entre_tiempo_empleo', 'valor_prestamo_x_tiempo_empleo', 'valor_prestamo_x_tiempo_empleo_entre_cuentas_otros', 'valor_prestamo_x_autocontrol', 'valor_prestamo_x_autocontrol_entre_cuentas_otros', 'valor_prestamo_x_autocontrol_entre_tiempo_empleo', 'valor_prestamo_x_impulsividad', 'valor_prestamo_x_impulsividad_entre_cuentas_otros', 'valor_prestamo_x_impulsividad_entre_tiempo_empleo', 'valor_prestamo_x_confianza', 'valor_prestamo_x_confianza_entre_cuentas_otros', 'valor_prestamo_x_confianza_entre_tiempo_empleo', 'saldo_cuenta_x_tiempo_empleo', 'saldo_cuenta_x_tiempo_empleo_entre_cuentas_otros', 'saldo_cuenta_x_autocontrol', 'saldo_cuenta_x_autocontrol_entre_cuentas_otros', 'saldo_cuenta_x_autocontrol_entre_tiempo_empleo', 'saldo_cuenta_x_impulsividad', 'saldo_cuenta_x_impulsividad_entre_cuentas_otros', 'saldo_cuenta_x_impulsividad_entre_tiempo_empleo', 'saldo_cuenta_x_confianza', 'saldo_cuenta_x_confianza_entre_cuentas_otros', 'saldo_cuenta_x_confianza_entre_tiempo_empleo', 'tiempo_empleo_x_autocontrol', 'tiempo_empleo_x_autocontrol_entre_cuentas_otros', 'tiempo_empleo_x_impulsividad', 'tiempo_empleo_x_impulsividad_entre_cuentas_otros', 'tiempo_empleo_x_confianza', 'tiempo_empleo_x_confianza_entre_cuentas_otros', 'autocontrol_x_impulsividad', 'autocontrol_x_impulsividad_entre_cuentas_otros', 'autocontrol_x_impulsividad_entre_tiempo_empleo', 'autocontrol_x_confianza', 'autocontrol_x_confianza_entre_cuentas_otros', 'autocontrol_x_confianza_entre_tiempo_empleo', 'impulsividad_x_confianza', 'impulsividad_x_confianza_entre_cuentas_otros', 'impulsividad_x_confianza_entre_tiempo_empleo']\n"
     ]
    }
   ],
   "source": [
    "cols_aporte = [col for col in x_train.columns if col.lower() not in ['target', 'incumplimiento']]\n",
    "print(cols_aporte)"
   ]
  },
  {
   "cell_type": "code",
   "execution_count": null,
   "id": "d21cc8f4-e2a7-487a-820d-055eeae6fde0",
   "metadata": {},
   "outputs": [],
   "source": [
    "x_train['target'] = y_train.values\n",
    "matriz_corr = x_train[cols_aporte + ['target']].corr(method='pearson')\n",
    "\n",
    "matriz_corr.style.background_gradient(\n",
    "    cmap='coolwarm', axis=None\n",
    ").set_precision(5)"
   ]
  },
  {
   "cell_type": "code",
   "execution_count": null,
   "id": "e288e8dc-164d-4b4d-b9ba-5ba5e1c46cf1",
   "metadata": {},
   "outputs": [],
   "source": [
    "pd.DataFrame(matriz_corr['target'].abs().sort_values(ascending=False)).style.background_gradient(\n",
    "    cmap='coolwarm', axis=None\n",
    ").set_precision(5)"
   ]
  },
  {
   "cell_type": "code",
   "execution_count": null,
   "id": "f18fd809-066e-4a39-99b9-d3e7bf92b239",
   "metadata": {},
   "outputs": [],
   "source": [
    "matriz_corr = x_train[cols_aporte + ['target']].corr(method='spearman')\n",
    "\n",
    "matriz_corr.style.background_gradient(\n",
    "    cmap='coolwarm', axis=None\n",
    ").set_precision(5)"
   ]
  },
  {
   "cell_type": "code",
   "execution_count": null,
   "id": "f43ee10f-f127-4667-87e3-a31a69130539",
   "metadata": {},
   "outputs": [],
   "source": [
    "pd.DataFrame(matriz_corr['target'].abs().sort_values(ascending=False)).style.background_gradient(\n",
    "    cmap='coolwarm', axis=None\n",
    ").set_precision(5)"
   ]
  },
  {
   "cell_type": "code",
   "execution_count": null,
   "id": "03aa5cd1-03ce-46bf-a492-aa9307177019",
   "metadata": {},
   "outputs": [],
   "source": [
    "#if 'target' in x_train.columns:\n",
    "#    del x_train['target']"
   ]
  },
  {
   "cell_type": "code",
   "execution_count": null,
   "id": "e53367b6-4532-467c-831c-0a9cfe4cbb4f",
   "metadata": {},
   "outputs": [],
   "source": [
    "corr_detail(matriz_corr, min_value=0.85, show_detail=True, col_target='target')"
   ]
  },
  {
   "cell_type": "code",
   "execution_count": null,
   "id": "4c40b2b5-4be8-4176-9aef-732e0156376f",
   "metadata": {},
   "outputs": [],
   "source": [
    "for col in ['autocontrol_x_confianza_entre_tiempo_empleo', 'autocontrol_x_impulsividad_entre_tiempo_empleo',\n",
    "            'valor_prestamo_x_impulsividad_entre_tiempo_empleo', 'saldo_cuenta_x_autocontrol']:\n",
    "    del x_train[col]\n",
    "    del x_valid[col]\n",
    "    cols_aporte.remove(col)"
   ]
  },
  {
   "cell_type": "code",
   "execution_count": null,
   "id": "85cb0c6a-fba4-4bd4-a609-7cefbb4da1de",
   "metadata": {},
   "outputs": [],
   "source": [
    "import statsmodels.api as sm\n",
    "\n",
    "help(sm.Logit)"
   ]
  },
  {
   "cell_type": "code",
   "execution_count": null,
   "id": "0c2828e4-c9ee-4e88-abd8-132fe23bc78d",
   "metadata": {},
   "outputs": [],
   "source": [
    "import statsmodels.api as sm\n",
    "\n",
    "logit_model_2 = sm.Logit(y_train , x_train[cols_aporte])\n",
    "result_2 = logit_model_2.fit()"
   ]
  },
  {
   "cell_type": "code",
   "execution_count": null,
   "id": "0a77b32b-8318-4afd-9ba0-252f95e5d01a",
   "metadata": {},
   "outputs": [],
   "source": [
    "result_2.summary2()"
   ]
  },
  {
   "cell_type": "code",
   "execution_count": null,
   "id": "3c3cfef9-ae28-4f1e-9dde-c31586281913",
   "metadata": {},
   "outputs": [],
   "source": [
    "import numpy as np\n",
    "#prediciendo en base al modelo \n",
    "y_pred_prob_2_train = result_2.predict(x_train[cols_aporte])\n",
    "y_pred_class_2_train = np.where(y_pred_prob_2_train < 0.5, 0 , 1)\n",
    "\n",
    "y_pred_prob_2_valid = result_2.predict(x_valid[cols_aporte])\n",
    "y_pred_class_2_valid = np.where(y_pred_prob_2_valid < 0.5, 0 , 1)"
   ]
  },
  {
   "cell_type": "code",
   "execution_count": null,
   "id": "20f71671-f9d9-4c36-8c40-86e2ddecd706",
   "metadata": {},
   "outputs": [],
   "source": [
    "y_pred_prob_2_train.hist()"
   ]
  },
  {
   "cell_type": "code",
   "execution_count": null,
   "id": "a3d40869-a171-4a83-8ff1-0b57dfbd3e1a",
   "metadata": {},
   "outputs": [],
   "source": [
    "y_pred_prob_2_valid.hist()"
   ]
  },
  {
   "cell_type": "code",
   "execution_count": null,
   "id": "15f84aeb-81b6-4389-aedb-a64f4cf4cded",
   "metadata": {},
   "outputs": [],
   "source": [
    "from sklearn.metrics import precision_score, recall_score, f1_score, accuracy_score, roc_auc_score\n",
    "\n",
    "print(\"/\"*25, 'TRAIN')\n",
    "auc = roc_auc_score(y_train, y_pred_prob_2_train)\n",
    "print(\"AUC: %1.3f\" % auc)\n",
    "print(\"GINI: %1.3f\" % (2*auc-1))\n",
    "\n",
    "print(\"/\"*25, 'VALIDATION')\n",
    "auc_2 = roc_auc_score(y_valid, y_pred_prob_2_valid)\n",
    "print(\"AUC: %1.3f\" % auc_2)\n",
    "print(\"GINI: %1.3f\" % (2*auc_2-1))"
   ]
  },
  {
   "cell_type": "code",
   "execution_count": null,
   "id": "79b3629f-c679-422d-9b22-95a422e3d2b6",
   "metadata": {},
   "outputs": [],
   "source": [
    "print(\"/\"*25, 'TRAIN')\n",
    "print(\"RECALL     : %1.8f\" % recall_score(y_train, y_pred_class_2_train))\n",
    "print(\"EFECTIVIDAD: %1.8f\" % precision_score(y_train, y_pred_class_2_train))\n",
    "print(\"F1 SCORE   : %1.8f\" % f1_score(y_train, y_pred_class_2_train))\n",
    "\n",
    "print(\"/\"*25, 'VALIDATION')\n",
    "print(\"RECALL     : %1.8f\" % recall_score(y_valid, y_pred_class_2_valid))\n",
    "print(\"EFECTIVIDAD: %1.8f\" % precision_score(y_valid, y_pred_class_2_valid))\n",
    "print(\"F1 SCORE   : %1.8f\" % f1_score(y_valid, y_pred_class_2_valid))"
   ]
  },
  {
   "cell_type": "code",
   "execution_count": null,
   "id": "9561f6ee-180f-4a8a-8457-56097f122ac8",
   "metadata": {},
   "outputs": [],
   "source": []
  },
  {
   "cell_type": "markdown",
   "id": "05ac40c6-1cbe-4afb-b9b7-5e4a4b58008e",
   "metadata": {},
   "source": [
    "#### >>> RECALL"
   ]
  },
  {
   "cell_type": "code",
   "execution_count": null,
   "id": "2d77863f-417b-4360-9906-83a17f3a836f",
   "metadata": {},
   "outputs": [],
   "source": [
    "from scipy.optimize import differential_evolution\n",
    "\n",
    "\n",
    "optimization_rec = differential_evolution(\n",
    "    lambda c: -1*recall_score(y_train, np.array([0 if _ < c[0] else 1 for _ in y_pred_prob_2_train])), \n",
    "    [(0, 1)]\n",
    ")\n",
    "optimization_rec"
   ]
  },
  {
   "cell_type": "code",
   "execution_count": null,
   "id": "66457ba9-9dbc-4dae-bb25-e9981a33eb1e",
   "metadata": {},
   "outputs": [],
   "source": [
    "corte_rec = optimization_rec['x'][0]\n",
    "corte_rec"
   ]
  },
  {
   "cell_type": "code",
   "execution_count": null,
   "id": "597be65f-d57a-40f4-8cec-4625ff5e322c",
   "metadata": {},
   "outputs": [],
   "source": [
    "y_pred_class_train_2_rec = np.where(y_pred_prob_2_train < corte_rec, 0 , 1)\n",
    "y_pred_class_valid_2_rc = np.where(y_pred_prob_2_valid < corte_rec, 0 , 1)"
   ]
  },
  {
   "cell_type": "code",
   "execution_count": null,
   "id": "4e5ec13b-6b27-4eaf-a1be-72098f916a9b",
   "metadata": {},
   "outputs": [],
   "source": [
    "pd.Series(y_pred_class_train_2_rec).value_counts()"
   ]
  },
  {
   "cell_type": "code",
   "execution_count": null,
   "id": "bceb32a4-90b2-43e1-ad56-281956e39015",
   "metadata": {},
   "outputs": [],
   "source": [
    "pd.Series(y_pred_class_valid_2_rc).value_counts()"
   ]
  },
  {
   "cell_type": "code",
   "execution_count": null,
   "id": "198229a3-f148-4601-8a76-67c15c07231d",
   "metadata": {},
   "outputs": [],
   "source": [
    "print(\"/\"*25, \"TRAIN\")\n",
    "print(\"RECALL     : %1.8f\" % recall_score(y_train, y_pred_class_train_2_rec))\n",
    "print(\"EFECTIVIDAD: %1.8f\" % precision_score(y_train, y_pred_class_train_2_rec))\n",
    "print(\"F1 SCORE   : %1.8f\" % f1_score(y_train, y_pred_class_train_2_rec))\n",
    "\n",
    "print(\"/\"*25, \"VALIDATION\")\n",
    "print(\"RECALL     : %1.8f\" % recall_score(y_valid, y_pred_class_valid_2_rc))\n",
    "print(\"EFECTIVIDAD: %1.8f\" % precision_score(y_valid, y_pred_class_valid_2_rc))\n",
    "print(\"F1 SCORE   : %1.8f\" % f1_score(y_valid, y_pred_class_valid_2_rc))"
   ]
  },
  {
   "cell_type": "code",
   "execution_count": null,
   "id": "010f4b0e-de8c-450d-9a23-6b6686759336",
   "metadata": {},
   "outputs": [],
   "source": []
  },
  {
   "cell_type": "markdown",
   "id": "e3853f23-b161-4cbd-b97e-4052d694cfcd",
   "metadata": {},
   "source": [
    "#### >>> EFECTIVIDAD"
   ]
  },
  {
   "cell_type": "code",
   "execution_count": null,
   "id": "d3a1c84a-b33b-433f-9580-07ac0911d5ec",
   "metadata": {},
   "outputs": [],
   "source": [
    "optimization_pre = differential_evolution(\n",
    "    lambda c: -1*precision_score(y_train, np.array([0 if _ < c[0] else 1 for _ in y_pred_prob_2_train])), \n",
    "    [(0, 1)]\n",
    ")\n",
    "optimization_pre"
   ]
  },
  {
   "cell_type": "code",
   "execution_count": null,
   "id": "3b7e1286-2f54-49b0-9511-0da58d50386e",
   "metadata": {},
   "outputs": [],
   "source": []
  },
  {
   "cell_type": "markdown",
   "id": "3bb8cc6e-9805-4032-b6a8-e16e51976cc3",
   "metadata": {},
   "source": [
    "#### >>> AUC"
   ]
  },
  {
   "cell_type": "code",
   "execution_count": null,
   "id": "501ea2b0-d72b-480e-aaf0-c63782c37bbc",
   "metadata": {},
   "outputs": [],
   "source": [
    "optimization_auc = differential_evolution(\n",
    "    lambda c: -1*roc_auc_score(y_train, np.array([0 if _ < c[0] else 1 for _ in y_pred_prob_2_train])), \n",
    "    [(0, 1)]\n",
    ")\n",
    "optimization_auc"
   ]
  },
  {
   "cell_type": "code",
   "execution_count": null,
   "id": "2fe947ae-60bc-4fcc-aea4-2ffd517f131d",
   "metadata": {},
   "outputs": [],
   "source": [
    "corte_auc = optimization_auc['x'][0]\n",
    "corte_auc"
   ]
  },
  {
   "cell_type": "code",
   "execution_count": null,
   "id": "2b7a4e33-2b7f-4601-b1ad-38ad776df862",
   "metadata": {},
   "outputs": [],
   "source": [
    "y_pred_class_train_2_auc = np.where(y_pred_prob_2_train < corte_auc, 0 , 1)\n",
    "y_pred_class_valid_2_auc = np.where(y_pred_prob_2_valid < corte_auc, 0 , 1)"
   ]
  },
  {
   "cell_type": "code",
   "execution_count": null,
   "id": "ce291602-0ec7-4940-a7f6-def817d21f08",
   "metadata": {},
   "outputs": [],
   "source": [
    "pd.Series(y_pred_class_train_2_auc).value_counts()"
   ]
  },
  {
   "cell_type": "code",
   "execution_count": null,
   "id": "65ac2381-0ed2-4fb5-a001-dfea2c294e7e",
   "metadata": {},
   "outputs": [],
   "source": [
    "pd.Series(y_pred_class_valid_2_auc).value_counts()"
   ]
  },
  {
   "cell_type": "code",
   "execution_count": null,
   "id": "86edf21e-1992-48d8-8b2d-39f46f63993f",
   "metadata": {},
   "outputs": [],
   "source": [
    "print(\"/\"*25, \"TRAIN\")\n",
    "print(\"RECALL     : %1.8f\" % recall_score(y_train, y_pred_class_train_2_auc))\n",
    "print(\"EFECTIVIDAD: %1.8f\" % precision_score(y_train, y_pred_class_train_2_auc))\n",
    "print(\"F1 SCORE   : %1.8f\" % f1_score(y_train, y_pred_class_train_2_auc))\n",
    "\n",
    "print(\"/\"*25, \"VALIDATION\")\n",
    "print(\"RECALL     : %1.8f\" % recall_score(y_valid, y_pred_class_valid_2_auc))\n",
    "print(\"EFECTIVIDAD: %1.8f\" % precision_score(y_valid, y_pred_class_valid_2_auc))\n",
    "print(\"F1 SCORE   : %1.8f\" % f1_score(y_valid, y_pred_class_valid_2_auc))"
   ]
  },
  {
   "cell_type": "code",
   "execution_count": null,
   "id": "295d2776-7875-4a59-ae59-183fcee27f10",
   "metadata": {},
   "outputs": [],
   "source": []
  }
 ],
 "metadata": {
  "kernelspec": {
   "display_name": "Python 3",
   "language": "python",
   "name": "python3"
  },
  "language_info": {
   "codemirror_mode": {
    "name": "ipython",
    "version": 3
   },
   "file_extension": ".py",
   "mimetype": "text/x-python",
   "name": "python",
   "nbconvert_exporter": "python",
   "pygments_lexer": "ipython3",
   "version": "3.8.5"
  }
 },
 "nbformat": 4,
 "nbformat_minor": 5
}
