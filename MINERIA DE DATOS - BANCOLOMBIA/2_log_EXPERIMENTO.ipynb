{
 "cells": [
  {
   "cell_type": "code",
   "execution_count": 1,
   "id": "42ae479b-e86e-4735-837e-f6d147e99b12",
   "metadata": {},
   "outputs": [],
   "source": [
    "# Nativos\n",
    "import random as rn\n",
    "import os\n",
    "import sys\n",
    "import gc\n",
    "\n",
    "#calculo\n",
    "import numpy as np\n",
    "import pandas as pd\n",
    "import scipy\n",
    "\n",
    "import pandas as pd\n",
    "import scorecardpy as sc\n",
    "\n",
    "SEED = 29082013\n",
    "os.environ['PYTHONHASHSEED']=str(SEED)\n",
    "np.random.seed(SEED)\n",
    "rn.seed(SEED)"
   ]
  },
  {
   "cell_type": "code",
   "execution_count": 2,
   "id": "801bea8d-50a7-4a50-af9b-6fe3c56e0ef3",
   "metadata": {},
   "outputs": [
    {
     "data": {
      "text/plain": [
       "((54315, 59), (9586, 59), (54315, 1), (9586, 1))"
      ]
     },
     "execution_count": 2,
     "metadata": {},
     "output_type": "execute_result"
    }
   ],
   "source": [
    "x_train = pd.read_csv(\"X_train.csv\")\n",
    "x_valid = pd.read_csv(\"X_valid.csv\")\n",
    "\n",
    "y_train = pd.read_csv(\"y_train.csv\")\n",
    "y_valid = pd.read_csv(\"y_valid.csv\")\n",
    "\n",
    "x_train.shape, x_valid.shape, y_train.shape, y_valid.shape"
   ]
  },
  {
   "cell_type": "code",
   "execution_count": 3,
   "id": "813eef17-49d7-472a-b487-726087e4f1c3",
   "metadata": {},
   "outputs": [],
   "source": [
    "def calcular_pesos(modelo):\n",
    "    coef_model = pd.DataFrame(modelo.tvalues, columns=['t_value'])\n",
    "    coef_model['t_value2'] = np.power(coef_model['t_value'],2)\n",
    "    coef_model['total'] = sum(coef_model['t_value2'])\n",
    "    coef_model['part'] = coef_model['t_value2'] / coef_model['total']\n",
    "    coef_model['pesos'] = coef_model['part'] * 100\n",
    "    return coef_model['pesos'].sort_values(ascending=True)"
   ]
  },
  {
   "cell_type": "markdown",
   "id": "7b5a3e62-7c46-4189-b4d5-467a76f6c52a",
   "metadata": {},
   "source": [
    "### >> Modleo mayor p-value"
   ]
  },
  {
   "cell_type": "code",
   "execution_count": 4,
   "id": "17fad8f0-8b9f-4d08-a450-99d7e418352b",
   "metadata": {},
   "outputs": [],
   "source": [
    "cols_aporte = [\n",
    " 'Empleado',\n",
    " 'Saldo_cuenta',\n",
    " 'Valor_prestamo',\n",
    " 'Autocontrol',\n",
    " 'Impulsividad',\n",
    " 'Confianza' \n",
    "]"
   ]
  },
  {
   "cell_type": "code",
   "execution_count": 5,
   "id": "d21cc8f4-e2a7-487a-820d-055eeae6fde0",
   "metadata": {},
   "outputs": [
    {
     "data": {
      "text/html": [
       "<style  type=\"text/css\" >\n",
       "#T_20a2c_row0_col0,#T_20a2c_row1_col1,#T_20a2c_row2_col2,#T_20a2c_row3_col3,#T_20a2c_row4_col4,#T_20a2c_row5_col5,#T_20a2c_row6_col6{\n",
       "            background-color:  #b40426;\n",
       "            color:  #f1f1f1;\n",
       "        }#T_20a2c_row0_col1,#T_20a2c_row0_col6,#T_20a2c_row1_col0,#T_20a2c_row1_col3,#T_20a2c_row1_col5,#T_20a2c_row2_col5,#T_20a2c_row2_col6,#T_20a2c_row3_col1,#T_20a2c_row4_col5,#T_20a2c_row4_col6,#T_20a2c_row5_col1,#T_20a2c_row5_col2,#T_20a2c_row5_col4,#T_20a2c_row5_col6,#T_20a2c_row6_col0,#T_20a2c_row6_col2,#T_20a2c_row6_col4,#T_20a2c_row6_col5{\n",
       "            background-color:  #3c4ec2;\n",
       "            color:  #f1f1f1;\n",
       "        }#T_20a2c_row0_col2,#T_20a2c_row0_col4,#T_20a2c_row1_col6,#T_20a2c_row2_col0,#T_20a2c_row2_col4,#T_20a2c_row3_col6,#T_20a2c_row4_col0,#T_20a2c_row4_col2,#T_20a2c_row6_col1,#T_20a2c_row6_col3{\n",
       "            background-color:  #3b4cc0;\n",
       "            color:  #f1f1f1;\n",
       "        }#T_20a2c_row0_col3,#T_20a2c_row3_col0,#T_20a2c_row3_col4,#T_20a2c_row3_col5,#T_20a2c_row4_col3,#T_20a2c_row5_col3{\n",
       "            background-color:  #3e51c5;\n",
       "            color:  #f1f1f1;\n",
       "        }#T_20a2c_row0_col5,#T_20a2c_row1_col2,#T_20a2c_row1_col4,#T_20a2c_row2_col1,#T_20a2c_row4_col1,#T_20a2c_row5_col0{\n",
       "            background-color:  #3d50c3;\n",
       "            color:  #f1f1f1;\n",
       "        }#T_20a2c_row2_col3,#T_20a2c_row3_col2{\n",
       "            background-color:  #3f53c6;\n",
       "            color:  #f1f1f1;\n",
       "        }</style><table id=\"T_20a2c_\" ><thead>    <tr>        <th class=\"blank level0\" ></th>        <th class=\"col_heading level0 col0\" >Empleado</th>        <th class=\"col_heading level0 col1\" >Saldo_cuenta</th>        <th class=\"col_heading level0 col2\" >Valor_prestamo</th>        <th class=\"col_heading level0 col3\" >Autocontrol</th>        <th class=\"col_heading level0 col4\" >Impulsividad</th>        <th class=\"col_heading level0 col5\" >Confianza</th>        <th class=\"col_heading level0 col6\" >target</th>    </tr></thead><tbody>\n",
       "                <tr>\n",
       "                        <th id=\"T_20a2c_level0_row0\" class=\"row_heading level0 row0\" >Empleado</th>\n",
       "                        <td id=\"T_20a2c_row0_col0\" class=\"data row0 col0\" >1.00000</td>\n",
       "                        <td id=\"T_20a2c_row0_col1\" class=\"data row0 col1\" >-0.00128</td>\n",
       "                        <td id=\"T_20a2c_row0_col2\" class=\"data row0 col2\" >-0.00633</td>\n",
       "                        <td id=\"T_20a2c_row0_col3\" class=\"data row0 col3\" >0.00754</td>\n",
       "                        <td id=\"T_20a2c_row0_col4\" class=\"data row0 col4\" >-0.00448</td>\n",
       "                        <td id=\"T_20a2c_row0_col5\" class=\"data row0 col5\" >0.00228</td>\n",
       "                        <td id=\"T_20a2c_row0_col6\" class=\"data row0 col6\" >-0.00068</td>\n",
       "            </tr>\n",
       "            <tr>\n",
       "                        <th id=\"T_20a2c_level0_row1\" class=\"row_heading level0 row1\" >Saldo_cuenta</th>\n",
       "                        <td id=\"T_20a2c_row1_col0\" class=\"data row1 col0\" >-0.00128</td>\n",
       "                        <td id=\"T_20a2c_row1_col1\" class=\"data row1 col1\" >1.00000</td>\n",
       "                        <td id=\"T_20a2c_row1_col2\" class=\"data row1 col2\" >0.00120</td>\n",
       "                        <td id=\"T_20a2c_row1_col3\" class=\"data row1 col3\" >-0.00272</td>\n",
       "                        <td id=\"T_20a2c_row1_col4\" class=\"data row1 col4\" >0.00377</td>\n",
       "                        <td id=\"T_20a2c_row1_col5\" class=\"data row1 col5\" >-0.00196</td>\n",
       "                        <td id=\"T_20a2c_row1_col6\" class=\"data row1 col6\" >-0.00716</td>\n",
       "            </tr>\n",
       "            <tr>\n",
       "                        <th id=\"T_20a2c_level0_row2\" class=\"row_heading level0 row2\" >Valor_prestamo</th>\n",
       "                        <td id=\"T_20a2c_row2_col0\" class=\"data row2 col0\" >-0.00633</td>\n",
       "                        <td id=\"T_20a2c_row2_col1\" class=\"data row2 col1\" >0.00120</td>\n",
       "                        <td id=\"T_20a2c_row2_col2\" class=\"data row2 col2\" >1.00000</td>\n",
       "                        <td id=\"T_20a2c_row2_col3\" class=\"data row2 col3\" >0.00983</td>\n",
       "                        <td id=\"T_20a2c_row2_col4\" class=\"data row2 col4\" >-0.00334</td>\n",
       "                        <td id=\"T_20a2c_row2_col5\" class=\"data row2 col5\" >-0.00069</td>\n",
       "                        <td id=\"T_20a2c_row2_col6\" class=\"data row2 col6\" >-0.00088</td>\n",
       "            </tr>\n",
       "            <tr>\n",
       "                        <th id=\"T_20a2c_level0_row3\" class=\"row_heading level0 row3\" >Autocontrol</th>\n",
       "                        <td id=\"T_20a2c_row3_col0\" class=\"data row3 col0\" >0.00754</td>\n",
       "                        <td id=\"T_20a2c_row3_col1\" class=\"data row3 col1\" >-0.00272</td>\n",
       "                        <td id=\"T_20a2c_row3_col2\" class=\"data row3 col2\" >0.00983</td>\n",
       "                        <td id=\"T_20a2c_row3_col3\" class=\"data row3 col3\" >1.00000</td>\n",
       "                        <td id=\"T_20a2c_row3_col4\" class=\"data row3 col4\" >0.00585</td>\n",
       "                        <td id=\"T_20a2c_row3_col5\" class=\"data row3 col5\" >0.00627</td>\n",
       "                        <td id=\"T_20a2c_row3_col6\" class=\"data row3 col6\" >-0.00449</td>\n",
       "            </tr>\n",
       "            <tr>\n",
       "                        <th id=\"T_20a2c_level0_row4\" class=\"row_heading level0 row4\" >Impulsividad</th>\n",
       "                        <td id=\"T_20a2c_row4_col0\" class=\"data row4 col0\" >-0.00448</td>\n",
       "                        <td id=\"T_20a2c_row4_col1\" class=\"data row4 col1\" >0.00377</td>\n",
       "                        <td id=\"T_20a2c_row4_col2\" class=\"data row4 col2\" >-0.00334</td>\n",
       "                        <td id=\"T_20a2c_row4_col3\" class=\"data row4 col3\" >0.00585</td>\n",
       "                        <td id=\"T_20a2c_row4_col4\" class=\"data row4 col4\" >1.00000</td>\n",
       "                        <td id=\"T_20a2c_row4_col5\" class=\"data row4 col5\" >-0.00233</td>\n",
       "                        <td id=\"T_20a2c_row4_col6\" class=\"data row4 col6\" >-0.00322</td>\n",
       "            </tr>\n",
       "            <tr>\n",
       "                        <th id=\"T_20a2c_level0_row5\" class=\"row_heading level0 row5\" >Confianza</th>\n",
       "                        <td id=\"T_20a2c_row5_col0\" class=\"data row5 col0\" >0.00228</td>\n",
       "                        <td id=\"T_20a2c_row5_col1\" class=\"data row5 col1\" >-0.00196</td>\n",
       "                        <td id=\"T_20a2c_row5_col2\" class=\"data row5 col2\" >-0.00069</td>\n",
       "                        <td id=\"T_20a2c_row5_col3\" class=\"data row5 col3\" >0.00627</td>\n",
       "                        <td id=\"T_20a2c_row5_col4\" class=\"data row5 col4\" >-0.00233</td>\n",
       "                        <td id=\"T_20a2c_row5_col5\" class=\"data row5 col5\" >1.00000</td>\n",
       "                        <td id=\"T_20a2c_row5_col6\" class=\"data row5 col6\" >-0.00062</td>\n",
       "            </tr>\n",
       "            <tr>\n",
       "                        <th id=\"T_20a2c_level0_row6\" class=\"row_heading level0 row6\" >target</th>\n",
       "                        <td id=\"T_20a2c_row6_col0\" class=\"data row6 col0\" >-0.00068</td>\n",
       "                        <td id=\"T_20a2c_row6_col1\" class=\"data row6 col1\" >-0.00716</td>\n",
       "                        <td id=\"T_20a2c_row6_col2\" class=\"data row6 col2\" >-0.00088</td>\n",
       "                        <td id=\"T_20a2c_row6_col3\" class=\"data row6 col3\" >-0.00449</td>\n",
       "                        <td id=\"T_20a2c_row6_col4\" class=\"data row6 col4\" >-0.00322</td>\n",
       "                        <td id=\"T_20a2c_row6_col5\" class=\"data row6 col5\" >-0.00062</td>\n",
       "                        <td id=\"T_20a2c_row6_col6\" class=\"data row6 col6\" >1.00000</td>\n",
       "            </tr>\n",
       "    </tbody></table>"
      ],
      "text/plain": [
       "<pandas.io.formats.style.Styler at 0x24ac1974c70>"
      ]
     },
     "execution_count": 5,
     "metadata": {},
     "output_type": "execute_result"
    }
   ],
   "source": [
    "x_train['target'] = y_train.values\n",
    "matriz_corr = x_train[cols_aporte + ['target']].corr(method='pearson')\n",
    "\n",
    "matriz_corr.style.background_gradient(\n",
    "    cmap='coolwarm', axis=None\n",
    ").set_precision(5)"
   ]
  },
  {
   "cell_type": "code",
   "execution_count": 6,
   "id": "e288e8dc-164d-4b4d-b9ba-5ba5e1c46cf1",
   "metadata": {},
   "outputs": [
    {
     "data": {
      "text/html": [
       "<style  type=\"text/css\" >\n",
       "#T_08c8e_row0_col0{\n",
       "            background-color:  #b40426;\n",
       "            color:  #f1f1f1;\n",
       "        }#T_08c8e_row1_col0{\n",
       "            background-color:  #3c4ec2;\n",
       "            color:  #f1f1f1;\n",
       "        }#T_08c8e_row2_col0,#T_08c8e_row3_col0,#T_08c8e_row4_col0,#T_08c8e_row5_col0,#T_08c8e_row6_col0{\n",
       "            background-color:  #3b4cc0;\n",
       "            color:  #f1f1f1;\n",
       "        }</style><table id=\"T_08c8e_\" ><thead>    <tr>        <th class=\"blank level0\" ></th>        <th class=\"col_heading level0 col0\" >target</th>    </tr></thead><tbody>\n",
       "                <tr>\n",
       "                        <th id=\"T_08c8e_level0_row0\" class=\"row_heading level0 row0\" >target</th>\n",
       "                        <td id=\"T_08c8e_row0_col0\" class=\"data row0 col0\" >1.00000</td>\n",
       "            </tr>\n",
       "            <tr>\n",
       "                        <th id=\"T_08c8e_level0_row1\" class=\"row_heading level0 row1\" >Saldo_cuenta</th>\n",
       "                        <td id=\"T_08c8e_row1_col0\" class=\"data row1 col0\" >0.00716</td>\n",
       "            </tr>\n",
       "            <tr>\n",
       "                        <th id=\"T_08c8e_level0_row2\" class=\"row_heading level0 row2\" >Autocontrol</th>\n",
       "                        <td id=\"T_08c8e_row2_col0\" class=\"data row2 col0\" >0.00449</td>\n",
       "            </tr>\n",
       "            <tr>\n",
       "                        <th id=\"T_08c8e_level0_row3\" class=\"row_heading level0 row3\" >Impulsividad</th>\n",
       "                        <td id=\"T_08c8e_row3_col0\" class=\"data row3 col0\" >0.00322</td>\n",
       "            </tr>\n",
       "            <tr>\n",
       "                        <th id=\"T_08c8e_level0_row4\" class=\"row_heading level0 row4\" >Valor_prestamo</th>\n",
       "                        <td id=\"T_08c8e_row4_col0\" class=\"data row4 col0\" >0.00088</td>\n",
       "            </tr>\n",
       "            <tr>\n",
       "                        <th id=\"T_08c8e_level0_row5\" class=\"row_heading level0 row5\" >Empleado</th>\n",
       "                        <td id=\"T_08c8e_row5_col0\" class=\"data row5 col0\" >0.00068</td>\n",
       "            </tr>\n",
       "            <tr>\n",
       "                        <th id=\"T_08c8e_level0_row6\" class=\"row_heading level0 row6\" >Confianza</th>\n",
       "                        <td id=\"T_08c8e_row6_col0\" class=\"data row6 col0\" >0.00062</td>\n",
       "            </tr>\n",
       "    </tbody></table>"
      ],
      "text/plain": [
       "<pandas.io.formats.style.Styler at 0x24ac1f6f850>"
      ]
     },
     "execution_count": 6,
     "metadata": {},
     "output_type": "execute_result"
    }
   ],
   "source": [
    "pd.DataFrame(matriz_corr['target'].abs().sort_values(ascending=False)).style.background_gradient(\n",
    "    cmap='coolwarm', axis=None\n",
    ").set_precision(5)"
   ]
  },
  {
   "cell_type": "code",
   "execution_count": 7,
   "id": "f18fd809-066e-4a39-99b9-d3e7bf92b239",
   "metadata": {},
   "outputs": [
    {
     "data": {
      "text/html": [
       "<style  type=\"text/css\" >\n",
       "#T_c584f_row0_col0,#T_c584f_row1_col1,#T_c584f_row2_col2,#T_c584f_row3_col3,#T_c584f_row4_col4,#T_c584f_row5_col5,#T_c584f_row6_col6{\n",
       "            background-color:  #b40426;\n",
       "            color:  #f1f1f1;\n",
       "        }#T_c584f_row0_col1,#T_c584f_row0_col5,#T_c584f_row1_col0,#T_c584f_row1_col2,#T_c584f_row2_col1,#T_c584f_row5_col0{\n",
       "            background-color:  #3d50c3;\n",
       "            color:  #f1f1f1;\n",
       "        }#T_c584f_row0_col2,#T_c584f_row0_col4,#T_c584f_row1_col5,#T_c584f_row1_col6,#T_c584f_row2_col0,#T_c584f_row2_col4,#T_c584f_row2_col6,#T_c584f_row3_col6,#T_c584f_row4_col0,#T_c584f_row4_col2,#T_c584f_row4_col6,#T_c584f_row5_col1,#T_c584f_row6_col1,#T_c584f_row6_col2,#T_c584f_row6_col3,#T_c584f_row6_col4{\n",
       "            background-color:  #3b4cc0;\n",
       "            color:  #f1f1f1;\n",
       "        }#T_c584f_row0_col3,#T_c584f_row3_col0,#T_c584f_row3_col4,#T_c584f_row3_col5,#T_c584f_row4_col3,#T_c584f_row5_col3{\n",
       "            background-color:  #3e51c5;\n",
       "            color:  #f1f1f1;\n",
       "        }#T_c584f_row0_col6,#T_c584f_row1_col3,#T_c584f_row1_col4,#T_c584f_row2_col5,#T_c584f_row3_col1,#T_c584f_row4_col1,#T_c584f_row4_col5,#T_c584f_row5_col2,#T_c584f_row5_col4,#T_c584f_row5_col6,#T_c584f_row6_col0,#T_c584f_row6_col5{\n",
       "            background-color:  #3c4ec2;\n",
       "            color:  #f1f1f1;\n",
       "        }#T_c584f_row2_col3,#T_c584f_row3_col2{\n",
       "            background-color:  #3f53c6;\n",
       "            color:  #f1f1f1;\n",
       "        }</style><table id=\"T_c584f_\" ><thead>    <tr>        <th class=\"blank level0\" ></th>        <th class=\"col_heading level0 col0\" >Empleado</th>        <th class=\"col_heading level0 col1\" >Saldo_cuenta</th>        <th class=\"col_heading level0 col2\" >Valor_prestamo</th>        <th class=\"col_heading level0 col3\" >Autocontrol</th>        <th class=\"col_heading level0 col4\" >Impulsividad</th>        <th class=\"col_heading level0 col5\" >Confianza</th>        <th class=\"col_heading level0 col6\" >target</th>    </tr></thead><tbody>\n",
       "                <tr>\n",
       "                        <th id=\"T_c584f_level0_row0\" class=\"row_heading level0 row0\" >Empleado</th>\n",
       "                        <td id=\"T_c584f_row0_col0\" class=\"data row0 col0\" >1.00000</td>\n",
       "                        <td id=\"T_c584f_row0_col1\" class=\"data row0 col1\" >0.00270</td>\n",
       "                        <td id=\"T_c584f_row0_col2\" class=\"data row0 col2\" >-0.00463</td>\n",
       "                        <td id=\"T_c584f_row0_col3\" class=\"data row0 col3\" >0.00647</td>\n",
       "                        <td id=\"T_c584f_row0_col4\" class=\"data row0 col4\" >-0.00503</td>\n",
       "                        <td id=\"T_c584f_row0_col5\" class=\"data row0 col5\" >0.00187</td>\n",
       "                        <td id=\"T_c584f_row0_col6\" class=\"data row0 col6\" >-0.00068</td>\n",
       "            </tr>\n",
       "            <tr>\n",
       "                        <th id=\"T_c584f_level0_row1\" class=\"row_heading level0 row1\" >Saldo_cuenta</th>\n",
       "                        <td id=\"T_c584f_row1_col0\" class=\"data row1 col0\" >0.00270</td>\n",
       "                        <td id=\"T_c584f_row1_col1\" class=\"data row1 col1\" >1.00000</td>\n",
       "                        <td id=\"T_c584f_row1_col2\" class=\"data row1 col2\" >0.00463</td>\n",
       "                        <td id=\"T_c584f_row1_col3\" class=\"data row1 col3\" >-0.00199</td>\n",
       "                        <td id=\"T_c584f_row1_col4\" class=\"data row1 col4\" >0.00101</td>\n",
       "                        <td id=\"T_c584f_row1_col5\" class=\"data row1 col5\" >-0.00535</td>\n",
       "                        <td id=\"T_c584f_row1_col6\" class=\"data row1 col6\" >-0.00680</td>\n",
       "            </tr>\n",
       "            <tr>\n",
       "                        <th id=\"T_c584f_level0_row2\" class=\"row_heading level0 row2\" >Valor_prestamo</th>\n",
       "                        <td id=\"T_c584f_row2_col0\" class=\"data row2 col0\" >-0.00463</td>\n",
       "                        <td id=\"T_c584f_row2_col1\" class=\"data row2 col1\" >0.00463</td>\n",
       "                        <td id=\"T_c584f_row2_col2\" class=\"data row2 col2\" >1.00000</td>\n",
       "                        <td id=\"T_c584f_row2_col3\" class=\"data row2 col3\" >0.00946</td>\n",
       "                        <td id=\"T_c584f_row2_col4\" class=\"data row2 col4\" >-0.00336</td>\n",
       "                        <td id=\"T_c584f_row2_col5\" class=\"data row2 col5\" >-0.00009</td>\n",
       "                        <td id=\"T_c584f_row2_col6\" class=\"data row2 col6\" >-0.00345</td>\n",
       "            </tr>\n",
       "            <tr>\n",
       "                        <th id=\"T_c584f_level0_row3\" class=\"row_heading level0 row3\" >Autocontrol</th>\n",
       "                        <td id=\"T_c584f_row3_col0\" class=\"data row3 col0\" >0.00647</td>\n",
       "                        <td id=\"T_c584f_row3_col1\" class=\"data row3 col1\" >-0.00199</td>\n",
       "                        <td id=\"T_c584f_row3_col2\" class=\"data row3 col2\" >0.00946</td>\n",
       "                        <td id=\"T_c584f_row3_col3\" class=\"data row3 col3\" >1.00000</td>\n",
       "                        <td id=\"T_c584f_row3_col4\" class=\"data row3 col4\" >0.00551</td>\n",
       "                        <td id=\"T_c584f_row3_col5\" class=\"data row3 col5\" >0.00627</td>\n",
       "                        <td id=\"T_c584f_row3_col6\" class=\"data row3 col6\" >-0.00370</td>\n",
       "            </tr>\n",
       "            <tr>\n",
       "                        <th id=\"T_c584f_level0_row4\" class=\"row_heading level0 row4\" >Impulsividad</th>\n",
       "                        <td id=\"T_c584f_row4_col0\" class=\"data row4 col0\" >-0.00503</td>\n",
       "                        <td id=\"T_c584f_row4_col1\" class=\"data row4 col1\" >0.00101</td>\n",
       "                        <td id=\"T_c584f_row4_col2\" class=\"data row4 col2\" >-0.00336</td>\n",
       "                        <td id=\"T_c584f_row4_col3\" class=\"data row4 col3\" >0.00551</td>\n",
       "                        <td id=\"T_c584f_row4_col4\" class=\"data row4 col4\" >1.00000</td>\n",
       "                        <td id=\"T_c584f_row4_col5\" class=\"data row4 col5\" >-0.00156</td>\n",
       "                        <td id=\"T_c584f_row4_col6\" class=\"data row4 col6\" >-0.00377</td>\n",
       "            </tr>\n",
       "            <tr>\n",
       "                        <th id=\"T_c584f_level0_row5\" class=\"row_heading level0 row5\" >Confianza</th>\n",
       "                        <td id=\"T_c584f_row5_col0\" class=\"data row5 col0\" >0.00187</td>\n",
       "                        <td id=\"T_c584f_row5_col1\" class=\"data row5 col1\" >-0.00535</td>\n",
       "                        <td id=\"T_c584f_row5_col2\" class=\"data row5 col2\" >-0.00009</td>\n",
       "                        <td id=\"T_c584f_row5_col3\" class=\"data row5 col3\" >0.00627</td>\n",
       "                        <td id=\"T_c584f_row5_col4\" class=\"data row5 col4\" >-0.00156</td>\n",
       "                        <td id=\"T_c584f_row5_col5\" class=\"data row5 col5\" >1.00000</td>\n",
       "                        <td id=\"T_c584f_row5_col6\" class=\"data row5 col6\" >-0.00111</td>\n",
       "            </tr>\n",
       "            <tr>\n",
       "                        <th id=\"T_c584f_level0_row6\" class=\"row_heading level0 row6\" >target</th>\n",
       "                        <td id=\"T_c584f_row6_col0\" class=\"data row6 col0\" >-0.00068</td>\n",
       "                        <td id=\"T_c584f_row6_col1\" class=\"data row6 col1\" >-0.00680</td>\n",
       "                        <td id=\"T_c584f_row6_col2\" class=\"data row6 col2\" >-0.00345</td>\n",
       "                        <td id=\"T_c584f_row6_col3\" class=\"data row6 col3\" >-0.00370</td>\n",
       "                        <td id=\"T_c584f_row6_col4\" class=\"data row6 col4\" >-0.00377</td>\n",
       "                        <td id=\"T_c584f_row6_col5\" class=\"data row6 col5\" >-0.00111</td>\n",
       "                        <td id=\"T_c584f_row6_col6\" class=\"data row6 col6\" >1.00000</td>\n",
       "            </tr>\n",
       "    </tbody></table>"
      ],
      "text/plain": [
       "<pandas.io.formats.style.Styler at 0x24ac1f6ff10>"
      ]
     },
     "execution_count": 7,
     "metadata": {},
     "output_type": "execute_result"
    }
   ],
   "source": [
    "matriz_corr = x_train[cols_aporte + ['target']].corr(method='spearman')\n",
    "\n",
    "matriz_corr.style.background_gradient(\n",
    "    cmap='coolwarm', axis=None\n",
    ").set_precision(5)"
   ]
  },
  {
   "cell_type": "code",
   "execution_count": 8,
   "id": "f43ee10f-f127-4667-87e3-a31a69130539",
   "metadata": {},
   "outputs": [
    {
     "data": {
      "text/html": [
       "<style  type=\"text/css\" >\n",
       "#T_19026_row0_col0{\n",
       "            background-color:  #b40426;\n",
       "            color:  #f1f1f1;\n",
       "        }#T_19026_row1_col0{\n",
       "            background-color:  #3c4ec2;\n",
       "            color:  #f1f1f1;\n",
       "        }#T_19026_row2_col0,#T_19026_row3_col0,#T_19026_row4_col0,#T_19026_row5_col0,#T_19026_row6_col0{\n",
       "            background-color:  #3b4cc0;\n",
       "            color:  #f1f1f1;\n",
       "        }</style><table id=\"T_19026_\" ><thead>    <tr>        <th class=\"blank level0\" ></th>        <th class=\"col_heading level0 col0\" >target</th>    </tr></thead><tbody>\n",
       "                <tr>\n",
       "                        <th id=\"T_19026_level0_row0\" class=\"row_heading level0 row0\" >target</th>\n",
       "                        <td id=\"T_19026_row0_col0\" class=\"data row0 col0\" >1.00000</td>\n",
       "            </tr>\n",
       "            <tr>\n",
       "                        <th id=\"T_19026_level0_row1\" class=\"row_heading level0 row1\" >Saldo_cuenta</th>\n",
       "                        <td id=\"T_19026_row1_col0\" class=\"data row1 col0\" >0.00680</td>\n",
       "            </tr>\n",
       "            <tr>\n",
       "                        <th id=\"T_19026_level0_row2\" class=\"row_heading level0 row2\" >Impulsividad</th>\n",
       "                        <td id=\"T_19026_row2_col0\" class=\"data row2 col0\" >0.00377</td>\n",
       "            </tr>\n",
       "            <tr>\n",
       "                        <th id=\"T_19026_level0_row3\" class=\"row_heading level0 row3\" >Autocontrol</th>\n",
       "                        <td id=\"T_19026_row3_col0\" class=\"data row3 col0\" >0.00370</td>\n",
       "            </tr>\n",
       "            <tr>\n",
       "                        <th id=\"T_19026_level0_row4\" class=\"row_heading level0 row4\" >Valor_prestamo</th>\n",
       "                        <td id=\"T_19026_row4_col0\" class=\"data row4 col0\" >0.00345</td>\n",
       "            </tr>\n",
       "            <tr>\n",
       "                        <th id=\"T_19026_level0_row5\" class=\"row_heading level0 row5\" >Confianza</th>\n",
       "                        <td id=\"T_19026_row5_col0\" class=\"data row5 col0\" >0.00111</td>\n",
       "            </tr>\n",
       "            <tr>\n",
       "                        <th id=\"T_19026_level0_row6\" class=\"row_heading level0 row6\" >Empleado</th>\n",
       "                        <td id=\"T_19026_row6_col0\" class=\"data row6 col0\" >0.00068</td>\n",
       "            </tr>\n",
       "    </tbody></table>"
      ],
      "text/plain": [
       "<pandas.io.formats.style.Styler at 0x24ac1f9e280>"
      ]
     },
     "execution_count": 8,
     "metadata": {},
     "output_type": "execute_result"
    }
   ],
   "source": [
    "pd.DataFrame(matriz_corr['target'].abs().sort_values(ascending=False)).style.background_gradient(\n",
    "    cmap='coolwarm', axis=None\n",
    ").set_precision(5)"
   ]
  },
  {
   "cell_type": "code",
   "execution_count": 9,
   "id": "03aa5cd1-03ce-46bf-a492-aa9307177019",
   "metadata": {},
   "outputs": [],
   "source": [
    "del x_train['target']"
   ]
  },
  {
   "cell_type": "code",
   "execution_count": 10,
   "id": "0c2828e4-c9ee-4e88-abd8-132fe23bc78d",
   "metadata": {},
   "outputs": [
    {
     "name": "stdout",
     "output_type": "stream",
     "text": [
      "Optimization terminated successfully.\n",
      "         Current function value: 0.409904\n",
      "         Iterations 6\n"
     ]
    }
   ],
   "source": [
    "import statsmodels.api as sm\n",
    "\n",
    "logit_model_2 = sm.Logit(y_train , x_train[cols_aporte])\n",
    "result_2 = logit_model_2.fit()"
   ]
  },
  {
   "cell_type": "code",
   "execution_count": 11,
   "id": "f2d47660-35f0-4db8-bb75-4a49433b7403",
   "metadata": {},
   "outputs": [],
   "source": [
    "#help(logit_model_2.fit)"
   ]
  },
  {
   "cell_type": "code",
   "execution_count": 12,
   "id": "02935258-4fc2-4356-b67b-506ae4c2d773",
   "metadata": {},
   "outputs": [
    {
     "data": {
      "text/html": [
       "<div>\n",
       "<style scoped>\n",
       "    .dataframe tbody tr th:only-of-type {\n",
       "        vertical-align: middle;\n",
       "    }\n",
       "\n",
       "    .dataframe tbody tr th {\n",
       "        vertical-align: top;\n",
       "    }\n",
       "\n",
       "    .dataframe thead th {\n",
       "        text-align: right;\n",
       "    }\n",
       "</style>\n",
       "<table border=\"1\" class=\"dataframe\">\n",
       "  <thead>\n",
       "    <tr style=\"text-align: right;\">\n",
       "      <th></th>\n",
       "      <th>index</th>\n",
       "      <th>pesos</th>\n",
       "    </tr>\n",
       "  </thead>\n",
       "  <tbody>\n",
       "    <tr>\n",
       "      <th>0</th>\n",
       "      <td>Saldo_cuenta</td>\n",
       "      <td>0.963098</td>\n",
       "    </tr>\n",
       "    <tr>\n",
       "      <th>1</th>\n",
       "      <td>Empleado</td>\n",
       "      <td>7.188732</td>\n",
       "    </tr>\n",
       "    <tr>\n",
       "      <th>2</th>\n",
       "      <td>Valor_prestamo</td>\n",
       "      <td>7.840996</td>\n",
       "    </tr>\n",
       "    <tr>\n",
       "      <th>3</th>\n",
       "      <td>Impulsividad</td>\n",
       "      <td>24.609024</td>\n",
       "    </tr>\n",
       "    <tr>\n",
       "      <th>4</th>\n",
       "      <td>Confianza</td>\n",
       "      <td>28.071359</td>\n",
       "    </tr>\n",
       "    <tr>\n",
       "      <th>5</th>\n",
       "      <td>Autocontrol</td>\n",
       "      <td>31.326792</td>\n",
       "    </tr>\n",
       "  </tbody>\n",
       "</table>\n",
       "</div>"
      ],
      "text/plain": [
       "            index      pesos\n",
       "0    Saldo_cuenta   0.963098\n",
       "1        Empleado   7.188732\n",
       "2  Valor_prestamo   7.840996\n",
       "3    Impulsividad  24.609024\n",
       "4       Confianza  28.071359\n",
       "5     Autocontrol  31.326792"
      ]
     },
     "execution_count": 12,
     "metadata": {},
     "output_type": "execute_result"
    }
   ],
   "source": [
    "pesos_ = pd.DataFrame(calcular_pesos(result_2)).reset_index()\n",
    "pesos_"
   ]
  },
  {
   "cell_type": "code",
   "execution_count": 13,
   "id": "e1b59688-3a1d-4c59-8f81-ddde92585747",
   "metadata": {},
   "outputs": [],
   "source": [
    "pesos_.to_excel('pesos_originales.xlsx', index=False)"
   ]
  },
  {
   "cell_type": "code",
   "execution_count": 14,
   "id": "0a77b32b-8318-4afd-9ba0-252f95e5d01a",
   "metadata": {},
   "outputs": [
    {
     "data": {
      "text/html": [
       "<table class=\"simpletable\">\n",
       "<tr>\n",
       "        <td>Model:</td>              <td>Logit</td>      <td>Pseudo R-squared:</td>   <td>-0.007</td>  \n",
       "</tr>\n",
       "<tr>\n",
       "  <td>Dependent Variable:</td>  <td>Incumplimiento</td>        <td>AIC:</td>        <td>44539.8899</td>\n",
       "</tr>\n",
       "<tr>\n",
       "         <td>Date:</td>        <td>2021-06-05 19:06</td>       <td>BIC:</td>        <td>44593.3052</td>\n",
       "</tr>\n",
       "<tr>\n",
       "   <td>No. Observations:</td>        <td>54315</td>       <td>Log-Likelihood:</td>    <td>-22264.</td> \n",
       "</tr>\n",
       "<tr>\n",
       "       <td>Df Model:</td>              <td>5</td>            <td>LL-Null:</td>        <td>-22109.</td> \n",
       "</tr>\n",
       "<tr>\n",
       "     <td>Df Residuals:</td>          <td>54309</td>        <td>LLR p-value:</td>      <td>1.0000</td>  \n",
       "</tr>\n",
       "<tr>\n",
       "      <td>Converged:</td>           <td>1.0000</td>           <td>Scale:</td>         <td>1.0000</td>  \n",
       "</tr>\n",
       "<tr>\n",
       "    <td>No. Iterations:</td>        <td>6.0000</td>              <td></td>               <td></td>     \n",
       "</tr>\n",
       "</table>\n",
       "<table class=\"simpletable\">\n",
       "<tr>\n",
       "         <td></td>         <th>Coef.</th>  <th>Std.Err.</th>     <th>z</th>     <th>P>|z|</th> <th>[0.025</th>  <th>0.975]</th> \n",
       "</tr>\n",
       "<tr>\n",
       "  <th>Empleado</th>       <td>-0.1828</td>  <td>0.0314</td>   <td>-5.8239</td> <td>0.0000</td> <td>-0.2444</td> <td>-0.1213</td>\n",
       "</tr>\n",
       "<tr>\n",
       "  <th>Saldo_cuenta</th>   <td>-3.4619</td>  <td>1.6240</td>   <td>-2.1317</td> <td>0.0330</td> <td>-6.6449</td> <td>-0.2789</td>\n",
       "</tr>\n",
       "<tr>\n",
       "  <th>Valor_prestamo</th> <td>-0.3630</td>  <td>0.0597</td>   <td>-6.0823</td> <td>0.0000</td> <td>-0.4800</td> <td>-0.2460</td>\n",
       "</tr>\n",
       "<tr>\n",
       "  <th>Autocontrol</th>    <td>-1.0724</td>  <td>0.0882</td>  <td>-12.1574</td> <td>0.0000</td> <td>-1.2453</td> <td>-0.8995</td>\n",
       "</tr>\n",
       "<tr>\n",
       "  <th>Impulsividad</th>   <td>-0.9205</td>  <td>0.0854</td>  <td>-10.7753</td> <td>0.0000</td> <td>-1.0879</td> <td>-0.7531</td>\n",
       "</tr>\n",
       "<tr>\n",
       "  <th>Confianza</th>      <td>-1.0225</td>  <td>0.0888</td>  <td>-11.5084</td> <td>0.0000</td> <td>-1.1966</td> <td>-0.8483</td>\n",
       "</tr>\n",
       "</table>"
      ],
      "text/plain": [
       "<class 'statsmodels.iolib.summary2.Summary'>\n",
       "\"\"\"\n",
       "                         Results: Logit\n",
       "=================================================================\n",
       "Model:              Logit            Pseudo R-squared: -0.007    \n",
       "Dependent Variable: Incumplimiento   AIC:              44539.8899\n",
       "Date:               2021-06-05 19:06 BIC:              44593.3052\n",
       "No. Observations:   54315            Log-Likelihood:   -22264.   \n",
       "Df Model:           5                LL-Null:          -22109.   \n",
       "Df Residuals:       54309            LLR p-value:      1.0000    \n",
       "Converged:          1.0000           Scale:            1.0000    \n",
       "No. Iterations:     6.0000                                       \n",
       "-----------------------------------------------------------------\n",
       "                  Coef.  Std.Err.    z     P>|z|   [0.025  0.975]\n",
       "-----------------------------------------------------------------\n",
       "Empleado         -0.1828   0.0314  -5.8239 0.0000 -0.2444 -0.1213\n",
       "Saldo_cuenta     -3.4619   1.6240  -2.1317 0.0330 -6.6449 -0.2789\n",
       "Valor_prestamo   -0.3630   0.0597  -6.0823 0.0000 -0.4800 -0.2460\n",
       "Autocontrol      -1.0724   0.0882 -12.1574 0.0000 -1.2453 -0.8995\n",
       "Impulsividad     -0.9205   0.0854 -10.7753 0.0000 -1.0879 -0.7531\n",
       "Confianza        -1.0225   0.0888 -11.5084 0.0000 -1.1966 -0.8483\n",
       "=================================================================\n",
       "\n",
       "\"\"\""
      ]
     },
     "execution_count": 14,
     "metadata": {},
     "output_type": "execute_result"
    }
   ],
   "source": [
    "result_2.summary2()"
   ]
  },
  {
   "cell_type": "code",
   "execution_count": 15,
   "id": "3c3cfef9-ae28-4f1e-9dde-c31586281913",
   "metadata": {},
   "outputs": [],
   "source": [
    "import numpy as np\n",
    "#prediciendo en base al modelo \n",
    "y_pred_prob_2_train = result_2.predict(x_train[cols_aporte])\n",
    "y_pred_class_2_train = np.where(y_pred_prob_2_train < 0.5, 0 , 1)\n",
    "\n",
    "y_pred_prob_2_valid = result_2.predict(x_valid[cols_aporte])\n",
    "y_pred_class_2_valid = np.where(y_pred_prob_2_valid < 0.5, 0 , 1)"
   ]
  },
  {
   "cell_type": "code",
   "execution_count": 16,
   "id": "929481ff-8408-4334-92ee-364ec42f7279",
   "metadata": {},
   "outputs": [
    {
     "data": {
      "text/plain": [
       "0    54315\n",
       "dtype: int64"
      ]
     },
     "execution_count": 16,
     "metadata": {},
     "output_type": "execute_result"
    }
   ],
   "source": [
    "pd.Series(y_pred_class_2_train).value_counts()"
   ]
  },
  {
   "cell_type": "code",
   "execution_count": 17,
   "id": "85c6df65-6ba0-478d-af1e-b60500cf8a5d",
   "metadata": {},
   "outputs": [
    {
     "data": {
      "text/plain": [
       "0    9586\n",
       "dtype: int64"
      ]
     },
     "execution_count": 17,
     "metadata": {},
     "output_type": "execute_result"
    }
   ],
   "source": [
    "pd.Series(y_pred_class_2_valid).value_counts()"
   ]
  },
  {
   "cell_type": "code",
   "execution_count": 18,
   "id": "20f71671-f9d9-4c36-8c40-86e2ddecd706",
   "metadata": {},
   "outputs": [
    {
     "data": {
      "text/plain": [
       "<AxesSubplot:>"
      ]
     },
     "execution_count": 18,
     "metadata": {},
     "output_type": "execute_result"
    },
    {
     "data": {
      "image/png": "[encoded data removed]",
      "text/plain": [
       "<Figure size 432x288 with 1 Axes>"
      ]
     },
     "metadata": {
      "needs_background": "light"
     },
     "output_type": "display_data"
    }
   ],
   "source": [
    "y_pred_prob_2_train.hist()"
   ]
  },
  {
   "cell_type": "code",
   "execution_count": 19,
   "id": "a3d40869-a171-4a83-8ff1-0b57dfbd3e1a",
   "metadata": {},
   "outputs": [
    {
     "data": {
      "text/plain": [
       "<AxesSubplot:>"
      ]
     },
     "execution_count": 19,
     "metadata": {},
     "output_type": "execute_result"
    },
    {
     "data": {
      "image/png": "[encoded data removed]",
      "text/plain": [
       "<Figure size 432x288 with 1 Axes>"
      ]
     },
     "metadata": {
      "needs_background": "light"
     },
     "output_type": "display_data"
    }
   ],
   "source": [
    "y_pred_prob_2_valid.hist()"
   ]
  },
  {
   "cell_type": "code",
   "execution_count": 20,
   "id": "15f84aeb-81b6-4389-aedb-a64f4cf4cded",
   "metadata": {},
   "outputs": [
    {
     "name": "stdout",
     "output_type": "stream",
     "text": [
      "///////////////////////// TRAIN\n",
      "AUC: 0.505\n",
      "GINI: 0.011\n",
      "///////////////////////// VALIDATION\n",
      "AUC: 0.507\n",
      "GINI: 0.014\n"
     ]
    }
   ],
   "source": [
    "from sklearn.metrics import precision_score, recall_score, f1_score, accuracy_score, roc_auc_score, accuracy_score\n",
    "\n",
    "print(\"/\"*25, 'TRAIN')\n",
    "auc = roc_auc_score(y_train, y_pred_prob_2_train)\n",
    "print(\"AUC: %1.3f\" % auc)\n",
    "print(\"GINI: %1.3f\" % (2*auc-1))\n",
    "\n",
    "print(\"/\"*25, 'VALIDATION')\n",
    "auc_2 = roc_auc_score(y_valid, y_pred_prob_2_valid)\n",
    "print(\"AUC: %1.3f\" % auc_2)\n",
    "print(\"GINI: %1.3f\" % (2*auc_2-1))"
   ]
  },
  {
   "cell_type": "code",
   "execution_count": 21,
   "id": "79b3629f-c679-422d-9b22-95a422e3d2b6",
   "metadata": {},
   "outputs": [
    {
     "name": "stdout",
     "output_type": "stream",
     "text": [
      "///////////////////////// TRAIN\n",
      "RECALL     : 0.00000000\n",
      "EFECTIVIDAD: 0.00000000\n",
      "F1 SCORE   : 0.00000000\n",
      "///////////////////////// VALIDATION\n",
      "RECALL     : 0.00000000\n",
      "EFECTIVIDAD: 0.00000000\n",
      "F1 SCORE   : 0.00000000\n"
     ]
    },
    {
     "name": "stderr",
     "output_type": "stream",
     "text": [
      "C:\\ProgramData\\Anaconda3\\lib\\site-packages\\sklearn\\metrics\\_classification.py:1221: UndefinedMetricWarning: Precision is ill-defined and being set to 0.0 due to no predicted samples. Use `zero_division` parameter to control this behavior.\n",
      "  _warn_prf(average, modifier, msg_start, len(result))\n"
     ]
    }
   ],
   "source": [
    "print(\"/\"*25, 'TRAIN')\n",
    "print(\"RECALL     : %1.8f\" % recall_score(y_train, y_pred_class_2_train))\n",
    "print(\"EFECTIVIDAD: %1.8f\" % precision_score(y_train, y_pred_class_2_train))\n",
    "print(\"F1 SCORE   : %1.8f\" % f1_score(y_train, y_pred_class_2_train))\n",
    "\n",
    "print(\"/\"*25, 'VALIDATION')\n",
    "print(\"RECALL     : %1.8f\" % recall_score(y_valid, y_pred_class_2_valid))\n",
    "print(\"EFECTIVIDAD: %1.8f\" % precision_score(y_valid, y_pred_class_2_valid))\n",
    "print(\"F1 SCORE   : %1.8f\" % f1_score(y_valid, y_pred_class_2_valid))"
   ]
  },
  {
   "cell_type": "code",
   "execution_count": null,
   "id": "9561f6ee-180f-4a8a-8457-56097f122ac8",
   "metadata": {},
   "outputs": [],
   "source": []
  },
  {
   "cell_type": "markdown",
   "id": "05ac40c6-1cbe-4afb-b9b7-5e4a4b58008e",
   "metadata": {},
   "source": [
    "#### >>> RECALL"
   ]
  },
  {
   "cell_type": "code",
   "execution_count": 22,
   "id": "2d77863f-417b-4360-9906-83a17f3a836f",
   "metadata": {},
   "outputs": [
    {
     "data": {
      "text/plain": [
       "     fun: -1.0\n",
       " message: 'Optimization terminated successfully.'\n",
       "    nfev: 122\n",
       "     nit: 7\n",
       " success: True\n",
       "       x: array([0.01298791])"
      ]
     },
     "execution_count": 22,
     "metadata": {},
     "output_type": "execute_result"
    }
   ],
   "source": [
    "from scipy.optimize import differential_evolution\n",
    "\n",
    "\n",
    "optimization_rec = differential_evolution(\n",
    "    lambda c: -1*recall_score(y_train, np.array([0 if _ < c[0] else 1 for _ in y_pred_prob_2_train])), \n",
    "    [(0, 1)]\n",
    ")\n",
    "optimization_rec"
   ]
  },
  {
   "cell_type": "code",
   "execution_count": 23,
   "id": "66457ba9-9dbc-4dae-bb25-e9981a33eb1e",
   "metadata": {},
   "outputs": [
    {
     "data": {
      "text/plain": [
       "0.012987907660010789"
      ]
     },
     "execution_count": 23,
     "metadata": {},
     "output_type": "execute_result"
    }
   ],
   "source": [
    "corte_rec = optimization_rec['x'][0]\n",
    "corte_rec"
   ]
  },
  {
   "cell_type": "code",
   "execution_count": 24,
   "id": "597be65f-d57a-40f4-8cec-4625ff5e322c",
   "metadata": {},
   "outputs": [],
   "source": [
    "y_pred_class_train_2_rec = np.where(y_pred_prob_2_train < corte_rec, 0 , 1)\n",
    "y_pred_class_valid_2_rc = np.where(y_pred_prob_2_valid < corte_rec, 0 , 1)"
   ]
  },
  {
   "cell_type": "code",
   "execution_count": 25,
   "id": "c0c86b9d-0b63-4f79-b24d-912ea2693a5c",
   "metadata": {},
   "outputs": [
    {
     "data": {
      "text/plain": [
       "1    54314\n",
       "0        1\n",
       "dtype: int64"
      ]
     },
     "execution_count": 25,
     "metadata": {},
     "output_type": "execute_result"
    }
   ],
   "source": [
    "pd.Series(y_pred_class_train_2_rec).value_counts()"
   ]
  },
  {
   "cell_type": "code",
   "execution_count": 26,
   "id": "ce58f5eb-cb84-4fdc-bc33-02adaaee7ce7",
   "metadata": {},
   "outputs": [
    {
     "data": {
      "text/plain": [
       "1    9586\n",
       "dtype: int64"
      ]
     },
     "execution_count": 26,
     "metadata": {},
     "output_type": "execute_result"
    }
   ],
   "source": [
    "pd.Series(y_pred_class_valid_2_rc).value_counts()"
   ]
  },
  {
   "cell_type": "code",
   "execution_count": 27,
   "id": "198229a3-f148-4601-8a76-67c15c07231d",
   "metadata": {},
   "outputs": [
    {
     "name": "stdout",
     "output_type": "stream",
     "text": [
      "///////////////////////// TRAIN\n",
      "ACCURACY     : 0.14117647\n",
      "RECALL     : 1.00000000\n",
      "EFECTIVIDAD: 0.14116066\n",
      "F1 SCORE   : 0.24739840\n",
      "///////////////////////// VALIDATION\n",
      "ACCURACY     : 0.14114333\n",
      "RECALL     : 1.00000000\n",
      "EFECTIVIDAD: 0.14114333\n",
      "F1 SCORE   : 0.24737179\n"
     ]
    }
   ],
   "source": [
    "print(\"/\"*25, \"TRAIN\")\n",
    "\n",
    "print(\"ACCURACY     : %1.8f\" % accuracy_score(y_train, y_pred_class_train_2_rec))\n",
    "print(\"RECALL     : %1.8f\" % recall_score(y_train, y_pred_class_train_2_rec))\n",
    "print(\"EFECTIVIDAD: %1.8f\" % precision_score(y_train, y_pred_class_train_2_rec))\n",
    "print(\"F1 SCORE   : %1.8f\" % f1_score(y_train, y_pred_class_train_2_rec))\n",
    "\n",
    "print(\"/\"*25, \"VALIDATION\")\n",
    "print(\"ACCURACY     : %1.8f\" % accuracy_score(y_valid, y_pred_class_valid_2_rc))\n",
    "print(\"RECALL     : %1.8f\" % recall_score(y_valid, y_pred_class_valid_2_rc))\n",
    "print(\"EFECTIVIDAD: %1.8f\" % precision_score(y_valid, y_pred_class_valid_2_rc))\n",
    "print(\"F1 SCORE   : %1.8f\" % f1_score(y_valid, y_pred_class_valid_2_rc))"
   ]
  },
  {
   "cell_type": "code",
   "execution_count": null,
   "id": "010f4b0e-de8c-450d-9a23-6b6686759336",
   "metadata": {},
   "outputs": [],
   "source": []
  },
  {
   "cell_type": "markdown",
   "id": "e3853f23-b161-4cbd-b97e-4052d694cfcd",
   "metadata": {},
   "source": [
    "#### >>> EFECTIVIDAD"
   ]
  },
  {
   "cell_type": "code",
   "execution_count": 28,
   "id": "d3a1c84a-b33b-433f-9580-07ac0911d5ec",
   "metadata": {},
   "outputs": [
    {
     "name": "stderr",
     "output_type": "stream",
     "text": [
      "C:\\ProgramData\\Anaconda3\\lib\\site-packages\\sklearn\\metrics\\_classification.py:1221: UndefinedMetricWarning: Precision is ill-defined and being set to 0.0 due to no predicted samples. Use `zero_division` parameter to control this behavior.\n",
      "  _warn_prf(average, modifier, msg_start, len(result))\n"
     ]
    },
    {
     "data": {
      "text/plain": [
       "     fun: -0.3333333333333333\n",
       " message: 'Optimization terminated successfully.'\n",
       "    nfev: 137\n",
       "     nit: 8\n",
       " success: True\n",
       "       x: array([0.2899879])"
      ]
     },
     "execution_count": 28,
     "metadata": {},
     "output_type": "execute_result"
    }
   ],
   "source": [
    "optimization_pre = differential_evolution(\n",
    "    lambda c: -1*precision_score(y_train, np.array([0 if _ < c[0] else 1 for _ in y_pred_prob_2_train])), \n",
    "    [(0, 1)]\n",
    ")\n",
    "optimization_pre"
   ]
  },
  {
   "cell_type": "code",
   "execution_count": null,
   "id": "3b7e1286-2f54-49b0-9511-0da58d50386e",
   "metadata": {},
   "outputs": [],
   "source": []
  },
  {
   "cell_type": "markdown",
   "id": "3bb8cc6e-9805-4032-b6a8-e16e51976cc3",
   "metadata": {},
   "source": [
    "#### >>> AUC"
   ]
  },
  {
   "cell_type": "code",
   "execution_count": 29,
   "id": "501ea2b0-d72b-480e-aaf0-c63782c37bbc",
   "metadata": {},
   "outputs": [
    {
     "data": {
      "text/plain": [
       "     fun: -0.5006240300998448\n",
       " message: 'Optimization terminated successfully.'\n",
       "    nfev: 32\n",
       "     nit: 1\n",
       " success: True\n",
       "       x: array([0.10475241])"
      ]
     },
     "execution_count": 29,
     "metadata": {},
     "output_type": "execute_result"
    }
   ],
   "source": [
    "optimization_auc = differential_evolution(\n",
    "    lambda c: -1*roc_auc_score(y_train, np.array([0 if _ < c[0] else 1 for _ in y_pred_prob_2_train])), \n",
    "    [(0, 1)]\n",
    ")\n",
    "optimization_auc"
   ]
  },
  {
   "cell_type": "code",
   "execution_count": 30,
   "id": "2fe947ae-60bc-4fcc-aea4-2ffd517f131d",
   "metadata": {},
   "outputs": [
    {
     "data": {
      "text/plain": [
       "0.10475240957750814"
      ]
     },
     "execution_count": 30,
     "metadata": {},
     "output_type": "execute_result"
    }
   ],
   "source": [
    "corte_auc = optimization_auc['x'][0]\n",
    "corte_auc"
   ]
  },
  {
   "cell_type": "code",
   "execution_count": 31,
   "id": "2b7a4e33-2b7f-4601-b1ad-38ad776df862",
   "metadata": {},
   "outputs": [],
   "source": [
    "y_pred_class_train_2_auc = np.where(y_pred_prob_2_train < corte_auc, 0 , 1)\n",
    "y_pred_class_valid_2_auc = np.where(y_pred_prob_2_valid < corte_auc, 0 , 1)"
   ]
  },
  {
   "cell_type": "code",
   "execution_count": 32,
   "id": "bfd2817d-e93a-404d-999a-2bdbd4abe7bb",
   "metadata": {},
   "outputs": [
    {
     "data": {
      "text/plain": [
       "1    50828\n",
       "0     3487\n",
       "dtype: int64"
      ]
     },
     "execution_count": 32,
     "metadata": {},
     "output_type": "execute_result"
    }
   ],
   "source": [
    "pd.Series(y_pred_class_train_2_auc).value_counts()"
   ]
  },
  {
   "cell_type": "code",
   "execution_count": 33,
   "id": "8a25f0ec-92e9-46ab-bc1e-a4abf7d680bd",
   "metadata": {},
   "outputs": [
    {
     "data": {
      "text/plain": [
       "Incumplimiento\n",
       "0                 46648\n",
       "1                  7667\n",
       "dtype: int64"
      ]
     },
     "execution_count": 33,
     "metadata": {},
     "output_type": "execute_result"
    }
   ],
   "source": [
    "y_train.value_counts()"
   ]
  },
  {
   "cell_type": "code",
   "execution_count": 34,
   "id": "f707e43f-6122-4dca-a777-a01becf4fdc3",
   "metadata": {},
   "outputs": [
    {
     "data": {
      "text/plain": [
       "1    8989\n",
       "0     597\n",
       "dtype: int64"
      ]
     },
     "execution_count": 34,
     "metadata": {},
     "output_type": "execute_result"
    }
   ],
   "source": [
    "pd.Series(y_pred_class_valid_2_auc).value_counts()"
   ]
  },
  {
   "cell_type": "code",
   "execution_count": 35,
   "id": "c427303c-1d85-406d-b64b-86afd3318b10",
   "metadata": {},
   "outputs": [
    {
     "data": {
      "text/plain": [
       "Incumplimiento\n",
       "0                 8233\n",
       "1                 1353\n",
       "dtype: int64"
      ]
     },
     "execution_count": 35,
     "metadata": {},
     "output_type": "execute_result"
    }
   ],
   "source": [
    "y_valid.value_counts()"
   ]
  },
  {
   "cell_type": "code",
   "execution_count": 36,
   "id": "86edf21e-1992-48d8-8b2d-39f46f63993f",
   "metadata": {},
   "outputs": [
    {
     "name": "stdout",
     "output_type": "stream",
     "text": [
      "///////////////////////// TRAIN\n",
      "AC     : 0.18753567\n",
      "RECALL     : 0.93687231\n",
      "EFECTIVIDAD: 0.14131975\n",
      "F1 SCORE   : 0.24559364\n",
      "///////////////////////// VALIDATION\n",
      "AC     : 0.18693929\n",
      "RECALL     : 0.94161123\n",
      "EFECTIVIDAD: 0.14172878\n",
      "F1 SCORE   : 0.24637401\n"
     ]
    }
   ],
   "source": [
    "print(\"/\"*25, \"TRAIN\")\n",
    "print(\"AC     : %1.8f\" % accuracy_score(y_train, y_pred_class_train_2_auc))\n",
    "print(\"RECALL     : %1.8f\" % recall_score(y_train, y_pred_class_train_2_auc))\n",
    "print(\"EFECTIVIDAD: %1.8f\" % precision_score(y_train, y_pred_class_train_2_auc))\n",
    "print(\"F1 SCORE   : %1.8f\" % f1_score(y_train, y_pred_class_train_2_auc))\n",
    "\n",
    "print(\"/\"*25, \"VALIDATION\")\n",
    "print(\"AC     : %1.8f\" % accuracy_score(y_valid, y_pred_class_valid_2_auc))\n",
    "print(\"RECALL     : %1.8f\" % recall_score(y_valid, y_pred_class_valid_2_auc))\n",
    "print(\"EFECTIVIDAD: %1.8f\" % precision_score(y_valid, y_pred_class_valid_2_auc))\n",
    "print(\"F1 SCORE   : %1.8f\" % f1_score(y_valid, y_pred_class_valid_2_auc))"
   ]
  },
  {
   "cell_type": "code",
   "execution_count": null,
   "id": "295d2776-7875-4a59-ae59-183fcee27f10",
   "metadata": {},
   "outputs": [],
   "source": []
  },
  {
   "cell_type": "code",
   "execution_count": null,
   "id": "88fd174a-17cb-4152-9f09-1fda38ea2fe5",
   "metadata": {},
   "outputs": [],
   "source": []
  },
  {
   "cell_type": "code",
   "execution_count": null,
   "id": "fbbeecd2-63c4-46d3-b039-061eac9c4689",
   "metadata": {},
   "outputs": [],
   "source": []
  },
  {
   "cell_type": "code",
   "execution_count": null,
   "id": "cd6bf05d-dd52-4430-83a3-68a70c765d7c",
   "metadata": {},
   "outputs": [],
   "source": []
  },
  {
   "cell_type": "code",
   "execution_count": null,
   "id": "b04104da-6a33-4228-9120-1d67abdb7c20",
   "metadata": {},
   "outputs": [],
   "source": []
  }
 ],
 "metadata": {
  "kernelspec": {
   "display_name": "Python 3",
   "language": "python",
   "name": "python3"
  },
  "language_info": {
   "codemirror_mode": {
    "name": "ipython",
    "version": 3
   },
   "file_extension": ".py",
   "mimetype": "text/x-python",
   "name": "python",
   "nbconvert_exporter": "python",
   "pygments_lexer": "ipython3",
   "version": "3.8.5"
  }
 },
 "nbformat": 4,
 "nbformat_minor": 5
}
