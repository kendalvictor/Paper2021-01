{
 "cells": [
  {
   "cell_type": "code",
   "execution_count": 1,
   "id": "42ae479b-e86e-4735-837e-f6d147e99b12",
   "metadata": {},
   "outputs": [],
   "source": [
    "# Nativos\n",
    "import random as rn\n",
    "import os\n",
    "import sys\n",
    "import gc\n",
    "\n",
    "#calculo\n",
    "import numpy as np\n",
    "import pandas as pd\n",
    "import scipy\n",
    "\n",
    "import pandas as pd\n",
    "import scorecardpy as sc\n",
    "\n",
    "SEED = 29082013\n",
    "os.environ['PYTHONHASHSEED']=str(SEED)\n",
    "np.random.seed(SEED)\n",
    "rn.seed(SEED)"
   ]
  },
  {
   "cell_type": "code",
   "execution_count": 2,
   "id": "801bea8d-50a7-4a50-af9b-6fe3c56e0ef3",
   "metadata": {},
   "outputs": [
    {
     "data": {
      "text/plain": [
       "((51120, 60), (12781, 60), (51120, 1), (12781, 1))"
      ]
     },
     "execution_count": 2,
     "metadata": {},
     "output_type": "execute_result"
    }
   ],
   "source": [
    "x_train = pd.read_csv(\"X_train.csv\")\n",
    "x_valid = pd.read_csv(\"X_valid.csv\")\n",
    "\n",
    "y_train = pd.read_csv(\"y_train.csv\")\n",
    "y_valid = pd.read_csv(\"y_valid.csv\")\n",
    "\n",
    "x_train.shape, x_valid.shape, y_train.shape, y_valid.shape"
   ]
  },
  {
   "cell_type": "code",
   "execution_count": 3,
   "id": "813eef17-49d7-472a-b487-726087e4f1c3",
   "metadata": {},
   "outputs": [],
   "source": [
    "def calcular_pesos(modelo):\n",
    "    coef_model = pd.DataFrame(modelo.tvalues,columns=['t_value'])\n",
    "    coef_model['t_value2'] = np.power(coef_model['t_value'],2)\n",
    "    coef_model['total'] = sum(coef_model['t_value2'])\n",
    "    coef_model['part'] = coef_model['t_value2'] / coef_model['total']\n",
    "    coef_model['pesos'] = coef_model['part'] * 100\n",
    "    return coef_model['pesos'].sort_values(ascending=True)\n",
    "\n"
   ]
  },
  {
   "cell_type": "markdown",
   "id": "7b5a3e62-7c46-4189-b4d5-467a76f6c52a",
   "metadata": {},
   "source": [
    "### >> Modleo TOP IV"
   ]
  },
  {
   "cell_type": "code",
   "execution_count": 4,
   "id": "17fad8f0-8b9f-4d08-a450-99d7e418352b",
   "metadata": {},
   "outputs": [],
   "source": [
    "cols_aporte = [\n",
    "     'autocontrol_x_confianza_entre_tiempo_empleo',\n",
    "     'saldo_cuenta_x_confianza_entre_tiempo_empleo',\n",
    "     'autocontrol_x_impulsividad_entre_tiempo_empleo',\n",
    "     'valor_prestamo_x_saldo_cuenta',\n",
    "     'valor_prestamo_x_impulsividad_entre_tiempo_empleo',\n",
    "     'saldo_cuenta_x_autocontrol',\n",
    "     'Saldo_cuenta',\n",
    "     'tiempo_empleo_x_impulsividad_entre_cuentas_otros',\n",
    "     'valor_prestamo_x_autocontrol_entre_tiempo_empleo',\n",
    "     'valor_prestamo_x_saldo_cuenta_entre_tiempo_empleo',\n",
    "     'impulsividad_x_confianza_entre_tiempo_empleo',\n",
    "     'cuentas_otros_x_autocontrol_entre_tiempo_empleo',\n",
    "     'cuentas_otros_x_impulsividad_entre_tiempo_empleo'\n",
    "]"
   ]
  },
  {
   "cell_type": "code",
   "execution_count": 5,
   "id": "d21cc8f4-e2a7-487a-820d-055eeae6fde0",
   "metadata": {},
   "outputs": [
    {
     "data": {
      "text/html": [
       "<style  type=\"text/css\" >\n",
       "#T_6c491_row0_col0,#T_6c491_row1_col1,#T_6c491_row2_col2,#T_6c491_row3_col3,#T_6c491_row4_col4,#T_6c491_row5_col5,#T_6c491_row6_col6,#T_6c491_row7_col7,#T_6c491_row8_col8,#T_6c491_row9_col9,#T_6c491_row10_col10,#T_6c491_row11_col11,#T_6c491_row12_col12,#T_6c491_row13_col13{\n",
       "            background-color:  #b40426;\n",
       "            color:  #f1f1f1;\n",
       "        }#T_6c491_row0_col1,#T_6c491_row1_col0{\n",
       "            background-color:  #96b7ff;\n",
       "            color:  #000000;\n",
       "        }#T_6c491_row0_col2,#T_6c491_row2_col0,#T_6c491_row2_col10,#T_6c491_row10_col2{\n",
       "            background-color:  #ca3b37;\n",
       "            color:  #f1f1f1;\n",
       "        }#T_6c491_row0_col3,#T_6c491_row0_col6,#T_6c491_row0_col13,#T_6c491_row2_col3,#T_6c491_row2_col6,#T_6c491_row2_col13,#T_6c491_row3_col0,#T_6c491_row3_col2,#T_6c491_row3_col11,#T_6c491_row4_col5,#T_6c491_row4_col13,#T_6c491_row5_col4,#T_6c491_row5_col10,#T_6c491_row5_col12,#T_6c491_row6_col0,#T_6c491_row6_col2,#T_6c491_row6_col8,#T_6c491_row6_col11,#T_6c491_row7_col13,#T_6c491_row8_col6,#T_6c491_row8_col13,#T_6c491_row10_col5,#T_6c491_row10_col13,#T_6c491_row11_col3,#T_6c491_row11_col6,#T_6c491_row11_col13,#T_6c491_row12_col5,#T_6c491_row12_col13,#T_6c491_row13_col0,#T_6c491_row13_col2,#T_6c491_row13_col4,#T_6c491_row13_col7,#T_6c491_row13_col8,#T_6c491_row13_col10,#T_6c491_row13_col11,#T_6c491_row13_col12{\n",
       "            background-color:  #6a8bef;\n",
       "            color:  #000000;\n",
       "        }#T_6c491_row0_col4,#T_6c491_row4_col0,#T_6c491_row8_col10,#T_6c491_row10_col8{\n",
       "            background-color:  #ea7b60;\n",
       "            color:  #000000;\n",
       "        }#T_6c491_row0_col5,#T_6c491_row2_col5,#T_6c491_row5_col0,#T_6c491_row5_col2,#T_6c491_row5_col8,#T_6c491_row8_col5{\n",
       "            background-color:  #6c8ff1;\n",
       "            color:  #000000;\n",
       "        }#T_6c491_row0_col7,#T_6c491_row7_col0{\n",
       "            background-color:  #3b4cc0;\n",
       "            color:  #f1f1f1;\n",
       "        }#T_6c491_row0_col8,#T_6c491_row2_col4,#T_6c491_row2_col8,#T_6c491_row3_col5,#T_6c491_row4_col2,#T_6c491_row4_col10,#T_6c491_row5_col3,#T_6c491_row8_col0,#T_6c491_row8_col2,#T_6c491_row10_col4{\n",
       "            background-color:  #df634e;\n",
       "            color:  #000000;\n",
       "        }#T_6c491_row0_col9,#T_6c491_row1_col10,#T_6c491_row9_col0,#T_6c491_row10_col1{\n",
       "            background-color:  #94b6ff;\n",
       "            color:  #000000;\n",
       "        }#T_6c491_row0_col10,#T_6c491_row10_col0{\n",
       "            background-color:  #c83836;\n",
       "            color:  #f1f1f1;\n",
       "        }#T_6c491_row0_col11,#T_6c491_row2_col11,#T_6c491_row2_col12,#T_6c491_row6_col9,#T_6c491_row9_col6,#T_6c491_row10_col12,#T_6c491_row11_col0,#T_6c491_row11_col2,#T_6c491_row12_col2,#T_6c491_row12_col10{\n",
       "            background-color:  #f5c1a9;\n",
       "            color:  #000000;\n",
       "        }#T_6c491_row0_col12,#T_6c491_row10_col11,#T_6c491_row11_col10,#T_6c491_row12_col0{\n",
       "            background-color:  #f2cbb7;\n",
       "            color:  #000000;\n",
       "        }#T_6c491_row1_col2,#T_6c491_row2_col1,#T_6c491_row2_col9,#T_6c491_row9_col2,#T_6c491_row9_col10,#T_6c491_row10_col9{\n",
       "            background-color:  #93b5fe;\n",
       "            color:  #000000;\n",
       "        }#T_6c491_row1_col3,#T_6c491_row3_col1{\n",
       "            background-color:  #f2c9b4;\n",
       "            color:  #000000;\n",
       "        }#T_6c491_row1_col4,#T_6c491_row4_col1{\n",
       "            background-color:  #8db0fe;\n",
       "            color:  #000000;\n",
       "        }#T_6c491_row1_col5,#T_6c491_row5_col1{\n",
       "            background-color:  #f7a688;\n",
       "            color:  #000000;\n",
       "        }#T_6c491_row1_col6,#T_6c491_row3_col9,#T_6c491_row6_col1,#T_6c491_row9_col3{\n",
       "            background-color:  #f7aa8c;\n",
       "            color:  #000000;\n",
       "        }#T_6c491_row1_col7,#T_6c491_row7_col1{\n",
       "            background-color:  #6384eb;\n",
       "            color:  #000000;\n",
       "        }#T_6c491_row1_col8,#T_6c491_row8_col1{\n",
       "            background-color:  #8fb1fe;\n",
       "            color:  #000000;\n",
       "        }#T_6c491_row1_col9,#T_6c491_row9_col1{\n",
       "            background-color:  #da5a49;\n",
       "            color:  #000000;\n",
       "        }#T_6c491_row1_col11,#T_6c491_row11_col1{\n",
       "            background-color:  #81a4fb;\n",
       "            color:  #000000;\n",
       "        }#T_6c491_row1_col12,#T_6c491_row12_col1{\n",
       "            background-color:  #80a3fa;\n",
       "            color:  #000000;\n",
       "        }#T_6c491_row1_col13,#T_6c491_row3_col10,#T_6c491_row3_col12,#T_6c491_row3_col13,#T_6c491_row4_col6,#T_6c491_row5_col13,#T_6c491_row6_col4,#T_6c491_row6_col10,#T_6c491_row6_col12,#T_6c491_row6_col13,#T_6c491_row9_col13,#T_6c491_row10_col3,#T_6c491_row10_col6,#T_6c491_row12_col3,#T_6c491_row12_col6,#T_6c491_row13_col1,#T_6c491_row13_col3,#T_6c491_row13_col5,#T_6c491_row13_col6,#T_6c491_row13_col9{\n",
       "            background-color:  #688aef;\n",
       "            color:  #000000;\n",
       "        }#T_6c491_row2_col7,#T_6c491_row7_col2,#T_6c491_row7_col8,#T_6c491_row7_col10,#T_6c491_row8_col7,#T_6c491_row10_col7{\n",
       "            background-color:  #3e51c5;\n",
       "            color:  #f1f1f1;\n",
       "        }#T_6c491_row3_col4,#T_6c491_row3_col8,#T_6c491_row4_col3,#T_6c491_row8_col3{\n",
       "            background-color:  #7093f3;\n",
       "            color:  #000000;\n",
       "        }#T_6c491_row3_col6,#T_6c491_row6_col3{\n",
       "            background-color:  #d95847;\n",
       "            color:  #000000;\n",
       "        }#T_6c491_row3_col7,#T_6c491_row5_col7,#T_6c491_row5_col11,#T_6c491_row6_col7,#T_6c491_row7_col3,#T_6c491_row7_col5,#T_6c491_row7_col6,#T_6c491_row11_col5{\n",
       "            background-color:  #6b8df0;\n",
       "            color:  #000000;\n",
       "        }#T_6c491_row4_col7,#T_6c491_row7_col4{\n",
       "            background-color:  #4358cb;\n",
       "            color:  #f1f1f1;\n",
       "        }#T_6c491_row4_col8,#T_6c491_row8_col4{\n",
       "            background-color:  #c73635;\n",
       "            color:  #f1f1f1;\n",
       "        }#T_6c491_row4_col9,#T_6c491_row9_col4{\n",
       "            background-color:  #9abbff;\n",
       "            color:  #000000;\n",
       "        }#T_6c491_row4_col11,#T_6c491_row8_col12,#T_6c491_row11_col4,#T_6c491_row12_col8{\n",
       "            background-color:  #ead4c8;\n",
       "            color:  #000000;\n",
       "        }#T_6c491_row4_col12,#T_6c491_row8_col11,#T_6c491_row11_col8,#T_6c491_row12_col4{\n",
       "            background-color:  #f0cdbb;\n",
       "            color:  #000000;\n",
       "        }#T_6c491_row5_col6,#T_6c491_row6_col5{\n",
       "            background-color:  #ba162b;\n",
       "            color:  #f1f1f1;\n",
       "        }#T_6c491_row5_col9,#T_6c491_row9_col5{\n",
       "            background-color:  #f6bda2;\n",
       "            color:  #000000;\n",
       "        }#T_6c491_row7_col9,#T_6c491_row7_col12,#T_6c491_row9_col7,#T_6c491_row12_col7{\n",
       "            background-color:  #6282ea;\n",
       "            color:  #000000;\n",
       "        }#T_6c491_row7_col11,#T_6c491_row11_col7{\n",
       "            background-color:  #5e7de7;\n",
       "            color:  #000000;\n",
       "        }#T_6c491_row8_col9,#T_6c491_row9_col8{\n",
       "            background-color:  #9dbdff;\n",
       "            color:  #000000;\n",
       "        }#T_6c491_row9_col11,#T_6c491_row11_col9{\n",
       "            background-color:  #84a7fc;\n",
       "            color:  #000000;\n",
       "        }#T_6c491_row9_col12,#T_6c491_row12_col9{\n",
       "            background-color:  #82a6fb;\n",
       "            color:  #000000;\n",
       "        }#T_6c491_row11_col12,#T_6c491_row12_col11{\n",
       "            background-color:  #c32e31;\n",
       "            color:  #f1f1f1;\n",
       "        }</style><table id=\"T_6c491_\" ><thead>    <tr>        <th class=\"blank level0\" ></th>        <th class=\"col_heading level0 col0\" >autocontrol_x_confianza_entre_tiempo_empleo</th>        <th class=\"col_heading level0 col1\" >saldo_cuenta_x_confianza_entre_tiempo_empleo</th>        <th class=\"col_heading level0 col2\" >autocontrol_x_impulsividad_entre_tiempo_empleo</th>        <th class=\"col_heading level0 col3\" >valor_prestamo_x_saldo_cuenta</th>        <th class=\"col_heading level0 col4\" >valor_prestamo_x_impulsividad_entre_tiempo_empleo</th>        <th class=\"col_heading level0 col5\" >saldo_cuenta_x_autocontrol</th>        <th class=\"col_heading level0 col6\" >Saldo_cuenta</th>        <th class=\"col_heading level0 col7\" >tiempo_empleo_x_impulsividad_entre_cuentas_otros</th>        <th class=\"col_heading level0 col8\" >valor_prestamo_x_autocontrol_entre_tiempo_empleo</th>        <th class=\"col_heading level0 col9\" >valor_prestamo_x_saldo_cuenta_entre_tiempo_empleo</th>        <th class=\"col_heading level0 col10\" >impulsividad_x_confianza_entre_tiempo_empleo</th>        <th class=\"col_heading level0 col11\" >cuentas_otros_x_autocontrol_entre_tiempo_empleo</th>        <th class=\"col_heading level0 col12\" >cuentas_otros_x_impulsividad_entre_tiempo_empleo</th>        <th class=\"col_heading level0 col13\" >target</th>    </tr></thead><tbody>\n",
       "                <tr>\n",
       "                        <th id=\"T_6c491_level0_row0\" class=\"row_heading level0 row0\" >autocontrol_x_confianza_entre_tiempo_empleo</th>\n",
       "                        <td id=\"T_6c491_row0_col0\" class=\"data row0 col0\" >1.00000</td>\n",
       "                        <td id=\"T_6c491_row0_col1\" class=\"data row0 col1\" >0.14549</td>\n",
       "                        <td id=\"T_6c491_row0_col2\" class=\"data row0 col2\" >0.92987</td>\n",
       "                        <td id=\"T_6c491_row0_col3\" class=\"data row0 col3\" >-0.00224</td>\n",
       "                        <td id=\"T_6c491_row0_col4\" class=\"data row0 col4\" >0.78822</td>\n",
       "                        <td id=\"T_6c491_row0_col5\" class=\"data row0 col5\" >0.00700</td>\n",
       "                        <td id=\"T_6c491_row0_col6\" class=\"data row0 col6\" >-0.00224</td>\n",
       "                        <td id=\"T_6c491_row0_col7\" class=\"data row0 col7\" >-0.17768</td>\n",
       "                        <td id=\"T_6c491_row0_col8\" class=\"data row0 col8\" >0.84651</td>\n",
       "                        <td id=\"T_6c491_row0_col9\" class=\"data row0 col9\" >0.14207</td>\n",
       "                        <td id=\"T_6c491_row0_col10\" class=\"data row0 col10\" >0.93228</td>\n",
       "                        <td id=\"T_6c491_row0_col11\" class=\"data row0 col11\" >0.57023</td>\n",
       "                        <td id=\"T_6c491_row0_col12\" class=\"data row0 col12\" >0.53063</td>\n",
       "                        <td id=\"T_6c491_row0_col13\" class=\"data row0 col13\" >-0.00070</td>\n",
       "            </tr>\n",
       "            <tr>\n",
       "                        <th id=\"T_6c491_level0_row1\" class=\"row_heading level0 row1\" >saldo_cuenta_x_confianza_entre_tiempo_empleo</th>\n",
       "                        <td id=\"T_6c491_row1_col0\" class=\"data row1 col0\" >0.14549</td>\n",
       "                        <td id=\"T_6c491_row1_col1\" class=\"data row1 col1\" >1.00000</td>\n",
       "                        <td id=\"T_6c491_row1_col2\" class=\"data row1 col2\" >0.13593</td>\n",
       "                        <td id=\"T_6c491_row1_col3\" class=\"data row1 col3\" >0.53850</td>\n",
       "                        <td id=\"T_6c491_row1_col4\" class=\"data row1 col4\" >0.11790</td>\n",
       "                        <td id=\"T_6c491_row1_col5\" class=\"data row1 col5\" >0.66638</td>\n",
       "                        <td id=\"T_6c491_row1_col6\" class=\"data row1 col6\" >0.65321</td>\n",
       "                        <td id=\"T_6c491_row1_col7\" class=\"data row1 col7\" >-0.02451</td>\n",
       "                        <td id=\"T_6c491_row1_col8\" class=\"data row1 col8\" >0.12208</td>\n",
       "                        <td id=\"T_6c491_row1_col9\" class=\"data row1 col9\" >0.86237</td>\n",
       "                        <td id=\"T_6c491_row1_col10\" class=\"data row1 col10\" >0.14280</td>\n",
       "                        <td id=\"T_6c491_row1_col11\" class=\"data row1 col11\" >0.07720</td>\n",
       "                        <td id=\"T_6c491_row1_col12\" class=\"data row1 col12\" >0.07387</td>\n",
       "                        <td id=\"T_6c491_row1_col13\" class=\"data row1 col13\" >-0.00398</td>\n",
       "            </tr>\n",
       "            <tr>\n",
       "                        <th id=\"T_6c491_level0_row2\" class=\"row_heading level0 row2\" >autocontrol_x_impulsividad_entre_tiempo_empleo</th>\n",
       "                        <td id=\"T_6c491_row2_col0\" class=\"data row2 col0\" >0.92987</td>\n",
       "                        <td id=\"T_6c491_row2_col1\" class=\"data row2 col1\" >0.13593</td>\n",
       "                        <td id=\"T_6c491_row2_col2\" class=\"data row2 col2\" >1.00000</td>\n",
       "                        <td id=\"T_6c491_row2_col3\" class=\"data row2 col3\" >-0.00202</td>\n",
       "                        <td id=\"T_6c491_row2_col4\" class=\"data row2 col4\" >0.84770</td>\n",
       "                        <td id=\"T_6c491_row2_col5\" class=\"data row2 col5\" >0.00895</td>\n",
       "                        <td id=\"T_6c491_row2_col6\" class=\"data row2 col6\" >-0.00031</td>\n",
       "                        <td id=\"T_6c491_row2_col7\" class=\"data row2 col7\" >-0.16142</td>\n",
       "                        <td id=\"T_6c491_row2_col8\" class=\"data row2 col8\" >0.84551</td>\n",
       "                        <td id=\"T_6c491_row2_col9\" class=\"data row2 col9\" >0.13969</td>\n",
       "                        <td id=\"T_6c491_row2_col10\" class=\"data row2 col10\" >0.93097</td>\n",
       "                        <td id=\"T_6c491_row2_col11\" class=\"data row2 col11\" >0.56949</td>\n",
       "                        <td id=\"T_6c491_row2_col12\" class=\"data row2 col12\" >0.57034</td>\n",
       "                        <td id=\"T_6c491_row2_col13\" class=\"data row2 col13\" >-0.00149</td>\n",
       "            </tr>\n",
       "            <tr>\n",
       "                        <th id=\"T_6c491_level0_row3\" class=\"row_heading level0 row3\" >valor_prestamo_x_saldo_cuenta</th>\n",
       "                        <td id=\"T_6c491_row3_col0\" class=\"data row3 col0\" >-0.00224</td>\n",
       "                        <td id=\"T_6c491_row3_col1\" class=\"data row3 col1\" >0.53850</td>\n",
       "                        <td id=\"T_6c491_row3_col2\" class=\"data row3 col2\" >-0.00202</td>\n",
       "                        <td id=\"T_6c491_row3_col3\" class=\"data row3 col3\" >1.00000</td>\n",
       "                        <td id=\"T_6c491_row3_col4\" class=\"data row3 col4\" >0.02255</td>\n",
       "                        <td id=\"T_6c491_row3_col5\" class=\"data row3 col5\" >0.84631</td>\n",
       "                        <td id=\"T_6c491_row3_col6\" class=\"data row3 col6\" >0.86824</td>\n",
       "                        <td id=\"T_6c491_row3_col7\" class=\"data row3 col7\" >0.00440</td>\n",
       "                        <td id=\"T_6c491_row3_col8\" class=\"data row3 col8\" >0.02413</td>\n",
       "                        <td id=\"T_6c491_row3_col9\" class=\"data row3 col9\" >0.65491</td>\n",
       "                        <td id=\"T_6c491_row3_col10\" class=\"data row3 col10\" >-0.00404</td>\n",
       "                        <td id=\"T_6c491_row3_col11\" class=\"data row3 col11\" >-0.00072</td>\n",
       "                        <td id=\"T_6c491_row3_col12\" class=\"data row3 col12\" >-0.00313</td>\n",
       "                        <td id=\"T_6c491_row3_col13\" class=\"data row3 col13\" >-0.00652</td>\n",
       "            </tr>\n",
       "            <tr>\n",
       "                        <th id=\"T_6c491_level0_row4\" class=\"row_heading level0 row4\" >valor_prestamo_x_impulsividad_entre_tiempo_empleo</th>\n",
       "                        <td id=\"T_6c491_row4_col0\" class=\"data row4 col0\" >0.78822</td>\n",
       "                        <td id=\"T_6c491_row4_col1\" class=\"data row4 col1\" >0.11790</td>\n",
       "                        <td id=\"T_6c491_row4_col2\" class=\"data row4 col2\" >0.84770</td>\n",
       "                        <td id=\"T_6c491_row4_col3\" class=\"data row4 col3\" >0.02255</td>\n",
       "                        <td id=\"T_6c491_row4_col4\" class=\"data row4 col4\" >1.00000</td>\n",
       "                        <td id=\"T_6c491_row4_col5\" class=\"data row4 col5\" >-0.00152</td>\n",
       "                        <td id=\"T_6c491_row4_col6\" class=\"data row4 col6\" >-0.00391</td>\n",
       "                        <td id=\"T_6c491_row4_col7\" class=\"data row4 col7\" >-0.14544</td>\n",
       "                        <td id=\"T_6c491_row4_col8\" class=\"data row4 col8\" >0.93771</td>\n",
       "                        <td id=\"T_6c491_row4_col9\" class=\"data row4 col9\" >0.16195</td>\n",
       "                        <td id=\"T_6c491_row4_col10\" class=\"data row4 col10\" >0.84472</td>\n",
       "                        <td id=\"T_6c491_row4_col11\" class=\"data row4 col11\" >0.47910</td>\n",
       "                        <td id=\"T_6c491_row4_col12\" class=\"data row4 col12\" >0.51255</td>\n",
       "                        <td id=\"T_6c491_row4_col13\" class=\"data row4 col13\" >0.00110</td>\n",
       "            </tr>\n",
       "            <tr>\n",
       "                        <th id=\"T_6c491_level0_row5\" class=\"row_heading level0 row5\" >saldo_cuenta_x_autocontrol</th>\n",
       "                        <td id=\"T_6c491_row5_col0\" class=\"data row5 col0\" >0.00700</td>\n",
       "                        <td id=\"T_6c491_row5_col1\" class=\"data row5 col1\" >0.66638</td>\n",
       "                        <td id=\"T_6c491_row5_col2\" class=\"data row5 col2\" >0.00895</td>\n",
       "                        <td id=\"T_6c491_row5_col3\" class=\"data row5 col3\" >0.84631</td>\n",
       "                        <td id=\"T_6c491_row5_col4\" class=\"data row5 col4\" >-0.00152</td>\n",
       "                        <td id=\"T_6c491_row5_col5\" class=\"data row5 col5\" >1.00000</td>\n",
       "                        <td id=\"T_6c491_row5_col6\" class=\"data row5 col6\" >0.98034</td>\n",
       "                        <td id=\"T_6c491_row5_col7\" class=\"data row5 col7\" >0.00418</td>\n",
       "                        <td id=\"T_6c491_row5_col8\" class=\"data row5 col8\" >0.00652</td>\n",
       "                        <td id=\"T_6c491_row5_col9\" class=\"data row5 col9\" >0.58772</td>\n",
       "                        <td id=\"T_6c491_row5_col10\" class=\"data row5 col10\" >-0.00074</td>\n",
       "                        <td id=\"T_6c491_row5_col11\" class=\"data row5 col11\" >0.00396</td>\n",
       "                        <td id=\"T_6c491_row5_col12\" class=\"data row5 col12\" >-0.00227</td>\n",
       "                        <td id=\"T_6c491_row5_col13\" class=\"data row5 col13\" >-0.00699</td>\n",
       "            </tr>\n",
       "            <tr>\n",
       "                        <th id=\"T_6c491_level0_row6\" class=\"row_heading level0 row6\" >Saldo_cuenta</th>\n",
       "                        <td id=\"T_6c491_row6_col0\" class=\"data row6 col0\" >-0.00224</td>\n",
       "                        <td id=\"T_6c491_row6_col1\" class=\"data row6 col1\" >0.65321</td>\n",
       "                        <td id=\"T_6c491_row6_col2\" class=\"data row6 col2\" >-0.00031</td>\n",
       "                        <td id=\"T_6c491_row6_col3\" class=\"data row6 col3\" >0.86824</td>\n",
       "                        <td id=\"T_6c491_row6_col4\" class=\"data row6 col4\" >-0.00391</td>\n",
       "                        <td id=\"T_6c491_row6_col5\" class=\"data row6 col5\" >0.98034</td>\n",
       "                        <td id=\"T_6c491_row6_col6\" class=\"data row6 col6\" >1.00000</td>\n",
       "                        <td id=\"T_6c491_row6_col7\" class=\"data row6 col7\" >0.00517</td>\n",
       "                        <td id=\"T_6c491_row6_col8\" class=\"data row6 col8\" >-0.00219</td>\n",
       "                        <td id=\"T_6c491_row6_col9\" class=\"data row6 col9\" >0.57213</td>\n",
       "                        <td id=\"T_6c491_row6_col10\" class=\"data row6 col10\" >-0.00321</td>\n",
       "                        <td id=\"T_6c491_row6_col11\" class=\"data row6 col11\" >-0.00236</td>\n",
       "                        <td id=\"T_6c491_row6_col12\" class=\"data row6 col12\" >-0.00442</td>\n",
       "                        <td id=\"T_6c491_row6_col13\" class=\"data row6 col13\" >-0.00690</td>\n",
       "            </tr>\n",
       "            <tr>\n",
       "                        <th id=\"T_6c491_level0_row7\" class=\"row_heading level0 row7\" >tiempo_empleo_x_impulsividad_entre_cuentas_otros</th>\n",
       "                        <td id=\"T_6c491_row7_col0\" class=\"data row7 col0\" >-0.17768</td>\n",
       "                        <td id=\"T_6c491_row7_col1\" class=\"data row7 col1\" >-0.02451</td>\n",
       "                        <td id=\"T_6c491_row7_col2\" class=\"data row7 col2\" >-0.16142</td>\n",
       "                        <td id=\"T_6c491_row7_col3\" class=\"data row7 col3\" >0.00440</td>\n",
       "                        <td id=\"T_6c491_row7_col4\" class=\"data row7 col4\" >-0.14544</td>\n",
       "                        <td id=\"T_6c491_row7_col5\" class=\"data row7 col5\" >0.00418</td>\n",
       "                        <td id=\"T_6c491_row7_col6\" class=\"data row7 col6\" >0.00517</td>\n",
       "                        <td id=\"T_6c491_row7_col7\" class=\"data row7 col7\" >1.00000</td>\n",
       "                        <td id=\"T_6c491_row7_col8\" class=\"data row7 col8\" >-0.16034</td>\n",
       "                        <td id=\"T_6c491_row7_col9\" class=\"data row7 col9\" >-0.02660</td>\n",
       "                        <td id=\"T_6c491_row7_col10\" class=\"data row7 col10\" >-0.16123</td>\n",
       "                        <td id=\"T_6c491_row7_col11\" class=\"data row7 col11\" >-0.03974</td>\n",
       "                        <td id=\"T_6c491_row7_col12\" class=\"data row7 col12\" >-0.02663</td>\n",
       "                        <td id=\"T_6c491_row7_col13\" class=\"data row7 col13\" >-0.00045</td>\n",
       "            </tr>\n",
       "            <tr>\n",
       "                        <th id=\"T_6c491_level0_row8\" class=\"row_heading level0 row8\" >valor_prestamo_x_autocontrol_entre_tiempo_empleo</th>\n",
       "                        <td id=\"T_6c491_row8_col0\" class=\"data row8 col0\" >0.84651</td>\n",
       "                        <td id=\"T_6c491_row8_col1\" class=\"data row8 col1\" >0.12208</td>\n",
       "                        <td id=\"T_6c491_row8_col2\" class=\"data row8 col2\" >0.84551</td>\n",
       "                        <td id=\"T_6c491_row8_col3\" class=\"data row8 col3\" >0.02413</td>\n",
       "                        <td id=\"T_6c491_row8_col4\" class=\"data row8 col4\" >0.93771</td>\n",
       "                        <td id=\"T_6c491_row8_col5\" class=\"data row8 col5\" >0.00652</td>\n",
       "                        <td id=\"T_6c491_row8_col6\" class=\"data row8 col6\" >-0.00219</td>\n",
       "                        <td id=\"T_6c491_row8_col7\" class=\"data row8 col7\" >-0.16034</td>\n",
       "                        <td id=\"T_6c491_row8_col8\" class=\"data row8 col8\" >1.00000</td>\n",
       "                        <td id=\"T_6c491_row8_col9\" class=\"data row8 col9\" >0.16782</td>\n",
       "                        <td id=\"T_6c491_row8_col10\" class=\"data row8 col10\" >0.78512</td>\n",
       "                        <td id=\"T_6c491_row8_col11\" class=\"data row8 col11\" >0.51676</td>\n",
       "                        <td id=\"T_6c491_row8_col12\" class=\"data row8 col12\" >0.47865</td>\n",
       "                        <td id=\"T_6c491_row8_col13\" class=\"data row8 col13\" >-0.00087</td>\n",
       "            </tr>\n",
       "            <tr>\n",
       "                        <th id=\"T_6c491_level0_row9\" class=\"row_heading level0 row9\" >valor_prestamo_x_saldo_cuenta_entre_tiempo_empleo</th>\n",
       "                        <td id=\"T_6c491_row9_col0\" class=\"data row9 col0\" >0.14207</td>\n",
       "                        <td id=\"T_6c491_row9_col1\" class=\"data row9 col1\" >0.86237</td>\n",
       "                        <td id=\"T_6c491_row9_col2\" class=\"data row9 col2\" >0.13969</td>\n",
       "                        <td id=\"T_6c491_row9_col3\" class=\"data row9 col3\" >0.65491</td>\n",
       "                        <td id=\"T_6c491_row9_col4\" class=\"data row9 col4\" >0.16195</td>\n",
       "                        <td id=\"T_6c491_row9_col5\" class=\"data row9 col5\" >0.58772</td>\n",
       "                        <td id=\"T_6c491_row9_col6\" class=\"data row9 col6\" >0.57213</td>\n",
       "                        <td id=\"T_6c491_row9_col7\" class=\"data row9 col7\" >-0.02660</td>\n",
       "                        <td id=\"T_6c491_row9_col8\" class=\"data row9 col8\" >0.16782</td>\n",
       "                        <td id=\"T_6c491_row9_col9\" class=\"data row9 col9\" >1.00000</td>\n",
       "                        <td id=\"T_6c491_row9_col10\" class=\"data row9 col10\" >0.13666</td>\n",
       "                        <td id=\"T_6c491_row9_col11\" class=\"data row9 col11\" >0.08680</td>\n",
       "                        <td id=\"T_6c491_row9_col12\" class=\"data row9 col12\" >0.08076</td>\n",
       "                        <td id=\"T_6c491_row9_col13\" class=\"data row9 col13\" >-0.00590</td>\n",
       "            </tr>\n",
       "            <tr>\n",
       "                        <th id=\"T_6c491_level0_row10\" class=\"row_heading level0 row10\" >impulsividad_x_confianza_entre_tiempo_empleo</th>\n",
       "                        <td id=\"T_6c491_row10_col0\" class=\"data row10 col0\" >0.93228</td>\n",
       "                        <td id=\"T_6c491_row10_col1\" class=\"data row10 col1\" >0.14280</td>\n",
       "                        <td id=\"T_6c491_row10_col2\" class=\"data row10 col2\" >0.93097</td>\n",
       "                        <td id=\"T_6c491_row10_col3\" class=\"data row10 col3\" >-0.00404</td>\n",
       "                        <td id=\"T_6c491_row10_col4\" class=\"data row10 col4\" >0.84472</td>\n",
       "                        <td id=\"T_6c491_row10_col5\" class=\"data row10 col5\" >-0.00074</td>\n",
       "                        <td id=\"T_6c491_row10_col6\" class=\"data row10 col6\" >-0.00321</td>\n",
       "                        <td id=\"T_6c491_row10_col7\" class=\"data row10 col7\" >-0.16123</td>\n",
       "                        <td id=\"T_6c491_row10_col8\" class=\"data row10 col8\" >0.78512</td>\n",
       "                        <td id=\"T_6c491_row10_col9\" class=\"data row10 col9\" >0.13666</td>\n",
       "                        <td id=\"T_6c491_row10_col10\" class=\"data row10 col10\" >1.00000</td>\n",
       "                        <td id=\"T_6c491_row10_col11\" class=\"data row10 col11\" >0.52904</td>\n",
       "                        <td id=\"T_6c491_row10_col12\" class=\"data row10 col12\" >0.56899</td>\n",
       "                        <td id=\"T_6c491_row10_col13\" class=\"data row10 col13\" >0.00031</td>\n",
       "            </tr>\n",
       "            <tr>\n",
       "                        <th id=\"T_6c491_level0_row11\" class=\"row_heading level0 row11\" >cuentas_otros_x_autocontrol_entre_tiempo_empleo</th>\n",
       "                        <td id=\"T_6c491_row11_col0\" class=\"data row11 col0\" >0.57023</td>\n",
       "                        <td id=\"T_6c491_row11_col1\" class=\"data row11 col1\" >0.07720</td>\n",
       "                        <td id=\"T_6c491_row11_col2\" class=\"data row11 col2\" >0.56949</td>\n",
       "                        <td id=\"T_6c491_row11_col3\" class=\"data row11 col3\" >-0.00072</td>\n",
       "                        <td id=\"T_6c491_row11_col4\" class=\"data row11 col4\" >0.47910</td>\n",
       "                        <td id=\"T_6c491_row11_col5\" class=\"data row11 col5\" >0.00396</td>\n",
       "                        <td id=\"T_6c491_row11_col6\" class=\"data row11 col6\" >-0.00236</td>\n",
       "                        <td id=\"T_6c491_row11_col7\" class=\"data row11 col7\" >-0.03974</td>\n",
       "                        <td id=\"T_6c491_row11_col8\" class=\"data row11 col8\" >0.51676</td>\n",
       "                        <td id=\"T_6c491_row11_col9\" class=\"data row11 col9\" >0.08680</td>\n",
       "                        <td id=\"T_6c491_row11_col10\" class=\"data row11 col10\" >0.52904</td>\n",
       "                        <td id=\"T_6c491_row11_col11\" class=\"data row11 col11\" >1.00000</td>\n",
       "                        <td id=\"T_6c491_row11_col12\" class=\"data row11 col12\" >0.95131</td>\n",
       "                        <td id=\"T_6c491_row11_col13\" class=\"data row11 col13\" >-0.00093</td>\n",
       "            </tr>\n",
       "            <tr>\n",
       "                        <th id=\"T_6c491_level0_row12\" class=\"row_heading level0 row12\" >cuentas_otros_x_impulsividad_entre_tiempo_empleo</th>\n",
       "                        <td id=\"T_6c491_row12_col0\" class=\"data row12 col0\" >0.53063</td>\n",
       "                        <td id=\"T_6c491_row12_col1\" class=\"data row12 col1\" >0.07387</td>\n",
       "                        <td id=\"T_6c491_row12_col2\" class=\"data row12 col2\" >0.57034</td>\n",
       "                        <td id=\"T_6c491_row12_col3\" class=\"data row12 col3\" >-0.00313</td>\n",
       "                        <td id=\"T_6c491_row12_col4\" class=\"data row12 col4\" >0.51255</td>\n",
       "                        <td id=\"T_6c491_row12_col5\" class=\"data row12 col5\" >-0.00227</td>\n",
       "                        <td id=\"T_6c491_row12_col6\" class=\"data row12 col6\" >-0.00442</td>\n",
       "                        <td id=\"T_6c491_row12_col7\" class=\"data row12 col7\" >-0.02663</td>\n",
       "                        <td id=\"T_6c491_row12_col8\" class=\"data row12 col8\" >0.47865</td>\n",
       "                        <td id=\"T_6c491_row12_col9\" class=\"data row12 col9\" >0.08076</td>\n",
       "                        <td id=\"T_6c491_row12_col10\" class=\"data row12 col10\" >0.56899</td>\n",
       "                        <td id=\"T_6c491_row12_col11\" class=\"data row12 col11\" >0.95131</td>\n",
       "                        <td id=\"T_6c491_row12_col12\" class=\"data row12 col12\" >1.00000</td>\n",
       "                        <td id=\"T_6c491_row12_col13\" class=\"data row12 col13\" >0.00030</td>\n",
       "            </tr>\n",
       "            <tr>\n",
       "                        <th id=\"T_6c491_level0_row13\" class=\"row_heading level0 row13\" >target</th>\n",
       "                        <td id=\"T_6c491_row13_col0\" class=\"data row13 col0\" >-0.00070</td>\n",
       "                        <td id=\"T_6c491_row13_col1\" class=\"data row13 col1\" >-0.00398</td>\n",
       "                        <td id=\"T_6c491_row13_col2\" class=\"data row13 col2\" >-0.00149</td>\n",
       "                        <td id=\"T_6c491_row13_col3\" class=\"data row13 col3\" >-0.00652</td>\n",
       "                        <td id=\"T_6c491_row13_col4\" class=\"data row13 col4\" >0.00110</td>\n",
       "                        <td id=\"T_6c491_row13_col5\" class=\"data row13 col5\" >-0.00699</td>\n",
       "                        <td id=\"T_6c491_row13_col6\" class=\"data row13 col6\" >-0.00690</td>\n",
       "                        <td id=\"T_6c491_row13_col7\" class=\"data row13 col7\" >-0.00045</td>\n",
       "                        <td id=\"T_6c491_row13_col8\" class=\"data row13 col8\" >-0.00087</td>\n",
       "                        <td id=\"T_6c491_row13_col9\" class=\"data row13 col9\" >-0.00590</td>\n",
       "                        <td id=\"T_6c491_row13_col10\" class=\"data row13 col10\" >0.00031</td>\n",
       "                        <td id=\"T_6c491_row13_col11\" class=\"data row13 col11\" >-0.00093</td>\n",
       "                        <td id=\"T_6c491_row13_col12\" class=\"data row13 col12\" >0.00030</td>\n",
       "                        <td id=\"T_6c491_row13_col13\" class=\"data row13 col13\" >1.00000</td>\n",
       "            </tr>\n",
       "    </tbody></table>"
      ],
      "text/plain": [
       "<pandas.io.formats.style.Styler at 0x26f834dfd60>"
      ]
     },
     "execution_count": 5,
     "metadata": {},
     "output_type": "execute_result"
    }
   ],
   "source": [
    "x_train['target'] = y_train.values\n",
    "matriz_corr = x_train[cols_aporte + ['target']].corr(method='pearson')\n",
    "\n",
    "matriz_corr.style.background_gradient(\n",
    "    cmap='coolwarm', axis=None\n",
    ").set_precision(5)"
   ]
  },
  {
   "cell_type": "code",
   "execution_count": 6,
   "id": "e288e8dc-164d-4b4d-b9ba-5ba5e1c46cf1",
   "metadata": {},
   "outputs": [
    {
     "data": {
      "text/html": [
       "<style  type=\"text/css\" >\n",
       "#T_24056_row0_col0{\n",
       "            background-color:  #b40426;\n",
       "            color:  #f1f1f1;\n",
       "        }#T_24056_row1_col0,#T_24056_row2_col0,#T_24056_row3_col0,#T_24056_row4_col0{\n",
       "            background-color:  #3c4ec2;\n",
       "            color:  #f1f1f1;\n",
       "        }#T_24056_row5_col0,#T_24056_row6_col0,#T_24056_row7_col0,#T_24056_row8_col0,#T_24056_row9_col0,#T_24056_row10_col0,#T_24056_row11_col0,#T_24056_row12_col0,#T_24056_row13_col0{\n",
       "            background-color:  #3b4cc0;\n",
       "            color:  #f1f1f1;\n",
       "        }</style><table id=\"T_24056_\" ><thead>    <tr>        <th class=\"blank level0\" ></th>        <th class=\"col_heading level0 col0\" >target</th>    </tr></thead><tbody>\n",
       "                <tr>\n",
       "                        <th id=\"T_24056_level0_row0\" class=\"row_heading level0 row0\" >target</th>\n",
       "                        <td id=\"T_24056_row0_col0\" class=\"data row0 col0\" >1.00000</td>\n",
       "            </tr>\n",
       "            <tr>\n",
       "                        <th id=\"T_24056_level0_row1\" class=\"row_heading level0 row1\" >saldo_cuenta_x_autocontrol</th>\n",
       "                        <td id=\"T_24056_row1_col0\" class=\"data row1 col0\" >0.00699</td>\n",
       "            </tr>\n",
       "            <tr>\n",
       "                        <th id=\"T_24056_level0_row2\" class=\"row_heading level0 row2\" >Saldo_cuenta</th>\n",
       "                        <td id=\"T_24056_row2_col0\" class=\"data row2 col0\" >0.00690</td>\n",
       "            </tr>\n",
       "            <tr>\n",
       "                        <th id=\"T_24056_level0_row3\" class=\"row_heading level0 row3\" >valor_prestamo_x_saldo_cuenta</th>\n",
       "                        <td id=\"T_24056_row3_col0\" class=\"data row3 col0\" >0.00652</td>\n",
       "            </tr>\n",
       "            <tr>\n",
       "                        <th id=\"T_24056_level0_row4\" class=\"row_heading level0 row4\" >valor_prestamo_x_saldo_cuenta_entre_tiempo_empleo</th>\n",
       "                        <td id=\"T_24056_row4_col0\" class=\"data row4 col0\" >0.00590</td>\n",
       "            </tr>\n",
       "            <tr>\n",
       "                        <th id=\"T_24056_level0_row5\" class=\"row_heading level0 row5\" >saldo_cuenta_x_confianza_entre_tiempo_empleo</th>\n",
       "                        <td id=\"T_24056_row5_col0\" class=\"data row5 col0\" >0.00398</td>\n",
       "            </tr>\n",
       "            <tr>\n",
       "                        <th id=\"T_24056_level0_row6\" class=\"row_heading level0 row6\" >autocontrol_x_impulsividad_entre_tiempo_empleo</th>\n",
       "                        <td id=\"T_24056_row6_col0\" class=\"data row6 col0\" >0.00149</td>\n",
       "            </tr>\n",
       "            <tr>\n",
       "                        <th id=\"T_24056_level0_row7\" class=\"row_heading level0 row7\" >valor_prestamo_x_impulsividad_entre_tiempo_empleo</th>\n",
       "                        <td id=\"T_24056_row7_col0\" class=\"data row7 col0\" >0.00110</td>\n",
       "            </tr>\n",
       "            <tr>\n",
       "                        <th id=\"T_24056_level0_row8\" class=\"row_heading level0 row8\" >cuentas_otros_x_autocontrol_entre_tiempo_empleo</th>\n",
       "                        <td id=\"T_24056_row8_col0\" class=\"data row8 col0\" >0.00093</td>\n",
       "            </tr>\n",
       "            <tr>\n",
       "                        <th id=\"T_24056_level0_row9\" class=\"row_heading level0 row9\" >valor_prestamo_x_autocontrol_entre_tiempo_empleo</th>\n",
       "                        <td id=\"T_24056_row9_col0\" class=\"data row9 col0\" >0.00087</td>\n",
       "            </tr>\n",
       "            <tr>\n",
       "                        <th id=\"T_24056_level0_row10\" class=\"row_heading level0 row10\" >autocontrol_x_confianza_entre_tiempo_empleo</th>\n",
       "                        <td id=\"T_24056_row10_col0\" class=\"data row10 col0\" >0.00070</td>\n",
       "            </tr>\n",
       "            <tr>\n",
       "                        <th id=\"T_24056_level0_row11\" class=\"row_heading level0 row11\" >tiempo_empleo_x_impulsividad_entre_cuentas_otros</th>\n",
       "                        <td id=\"T_24056_row11_col0\" class=\"data row11 col0\" >0.00045</td>\n",
       "            </tr>\n",
       "            <tr>\n",
       "                        <th id=\"T_24056_level0_row12\" class=\"row_heading level0 row12\" >impulsividad_x_confianza_entre_tiempo_empleo</th>\n",
       "                        <td id=\"T_24056_row12_col0\" class=\"data row12 col0\" >0.00031</td>\n",
       "            </tr>\n",
       "            <tr>\n",
       "                        <th id=\"T_24056_level0_row13\" class=\"row_heading level0 row13\" >cuentas_otros_x_impulsividad_entre_tiempo_empleo</th>\n",
       "                        <td id=\"T_24056_row13_col0\" class=\"data row13 col0\" >0.00030</td>\n",
       "            </tr>\n",
       "    </tbody></table>"
      ],
      "text/plain": [
       "<pandas.io.formats.style.Styler at 0x26f83c59430>"
      ]
     },
     "execution_count": 6,
     "metadata": {},
     "output_type": "execute_result"
    }
   ],
   "source": [
    "pd.DataFrame(matriz_corr['target'].abs().sort_values(ascending=False)).style.background_gradient(\n",
    "    cmap='coolwarm', axis=None\n",
    ").set_precision(5)"
   ]
  },
  {
   "cell_type": "code",
   "execution_count": 7,
   "id": "f18fd809-066e-4a39-99b9-d3e7bf92b239",
   "metadata": {},
   "outputs": [
    {
     "data": {
      "text/html": [
       "<style  type=\"text/css\" >\n",
       "#T_da18d_row0_col0,#T_da18d_row1_col1,#T_da18d_row2_col2,#T_da18d_row3_col3,#T_da18d_row4_col4,#T_da18d_row5_col5,#T_da18d_row6_col6,#T_da18d_row7_col7,#T_da18d_row8_col8,#T_da18d_row9_col9,#T_da18d_row10_col10,#T_da18d_row11_col11,#T_da18d_row12_col12,#T_da18d_row13_col13{\n",
       "            background-color:  #b40426;\n",
       "            color:  #f1f1f1;\n",
       "        }#T_da18d_row0_col1,#T_da18d_row1_col0,#T_da18d_row1_col10,#T_da18d_row10_col1{\n",
       "            background-color:  #f2cab5;\n",
       "            color:  #000000;\n",
       "        }#T_da18d_row0_col2,#T_da18d_row0_col10,#T_da18d_row2_col0,#T_da18d_row2_col10,#T_da18d_row10_col0,#T_da18d_row10_col2{\n",
       "            background-color:  #c43032;\n",
       "            color:  #f1f1f1;\n",
       "        }#T_da18d_row0_col3,#T_da18d_row1_col13,#T_da18d_row3_col0,#T_da18d_row3_col10,#T_da18d_row3_col13,#T_da18d_row5_col13,#T_da18d_row6_col13,#T_da18d_row10_col3,#T_da18d_row13_col1,#T_da18d_row13_col3,#T_da18d_row13_col5,#T_da18d_row13_col6{\n",
       "            background-color:  #3b4cc0;\n",
       "            color:  #f1f1f1;\n",
       "        }#T_da18d_row0_col4,#T_da18d_row4_col0{\n",
       "            background-color:  #f5a081;\n",
       "            color:  #000000;\n",
       "        }#T_da18d_row0_col5,#T_da18d_row5_col0,#T_da18d_row5_col8,#T_da18d_row8_col5{\n",
       "            background-color:  #4257c9;\n",
       "            color:  #f1f1f1;\n",
       "        }#T_da18d_row0_col6,#T_da18d_row2_col3,#T_da18d_row2_col13,#T_da18d_row3_col2,#T_da18d_row5_col10,#T_da18d_row5_col12,#T_da18d_row6_col0,#T_da18d_row6_col10,#T_da18d_row6_col11,#T_da18d_row6_col12,#T_da18d_row9_col13,#T_da18d_row10_col5,#T_da18d_row10_col6,#T_da18d_row10_col13,#T_da18d_row11_col6,#T_da18d_row12_col5,#T_da18d_row12_col6,#T_da18d_row13_col2,#T_da18d_row13_col9,#T_da18d_row13_col10{\n",
       "            background-color:  #3c4ec2;\n",
       "            color:  #f1f1f1;\n",
       "        }#T_da18d_row0_col7,#T_da18d_row7_col0{\n",
       "            background-color:  #88abfd;\n",
       "            color:  #000000;\n",
       "        }#T_da18d_row0_col8,#T_da18d_row2_col4,#T_da18d_row2_col8,#T_da18d_row4_col2,#T_da18d_row8_col0,#T_da18d_row8_col2{\n",
       "            background-color:  #f29274;\n",
       "            color:  #000000;\n",
       "        }#T_da18d_row0_col9,#T_da18d_row1_col4,#T_da18d_row1_col8,#T_da18d_row2_col9,#T_da18d_row4_col1,#T_da18d_row8_col1,#T_da18d_row9_col0,#T_da18d_row9_col2,#T_da18d_row9_col10,#T_da18d_row10_col9{\n",
       "            background-color:  #d6dce4;\n",
       "            color:  #000000;\n",
       "        }#T_da18d_row0_col11,#T_da18d_row2_col11,#T_da18d_row2_col12,#T_da18d_row10_col12,#T_da18d_row11_col0,#T_da18d_row11_col2,#T_da18d_row12_col2,#T_da18d_row12_col10{\n",
       "            background-color:  #b9d0f9;\n",
       "            color:  #000000;\n",
       "        }#T_da18d_row0_col12,#T_da18d_row10_col11,#T_da18d_row11_col10,#T_da18d_row12_col0{\n",
       "            background-color:  #b3cdfb;\n",
       "            color:  #000000;\n",
       "        }#T_da18d_row0_col13,#T_da18d_row2_col6,#T_da18d_row3_col7,#T_da18d_row3_col11,#T_da18d_row3_col12,#T_da18d_row4_col5,#T_da18d_row4_col6,#T_da18d_row4_col13,#T_da18d_row5_col4,#T_da18d_row5_col7,#T_da18d_row6_col2,#T_da18d_row6_col4,#T_da18d_row6_col7,#T_da18d_row6_col8,#T_da18d_row7_col3,#T_da18d_row7_col5,#T_da18d_row7_col6,#T_da18d_row7_col13,#T_da18d_row8_col6,#T_da18d_row8_col13,#T_da18d_row11_col3,#T_da18d_row11_col13,#T_da18d_row12_col3,#T_da18d_row12_col13,#T_da18d_row13_col0,#T_da18d_row13_col4,#T_da18d_row13_col7,#T_da18d_row13_col8,#T_da18d_row13_col11,#T_da18d_row13_col12{\n",
       "            background-color:  #3d50c3;\n",
       "            color:  #f1f1f1;\n",
       "        }#T_da18d_row1_col2,#T_da18d_row2_col1{\n",
       "            background-color:  #f1cdba;\n",
       "            color:  #000000;\n",
       "        }#T_da18d_row1_col3,#T_da18d_row3_col1{\n",
       "            background-color:  #e4d9d2;\n",
       "            color:  #000000;\n",
       "        }#T_da18d_row1_col5,#T_da18d_row5_col1{\n",
       "            background-color:  #f7bca1;\n",
       "            color:  #000000;\n",
       "        }#T_da18d_row1_col6,#T_da18d_row6_col1{\n",
       "            background-color:  #f7ba9f;\n",
       "            color:  #000000;\n",
       "        }#T_da18d_row1_col7,#T_da18d_row7_col1{\n",
       "            background-color:  #afcafc;\n",
       "            color:  #000000;\n",
       "        }#T_da18d_row1_col9,#T_da18d_row3_col5,#T_da18d_row5_col3,#T_da18d_row9_col1{\n",
       "            background-color:  #ed8366;\n",
       "            color:  #000000;\n",
       "        }#T_da18d_row1_col11,#T_da18d_row1_col12,#T_da18d_row11_col1,#T_da18d_row12_col1{\n",
       "            background-color:  #89acfd;\n",
       "            color:  #000000;\n",
       "        }#T_da18d_row2_col5,#T_da18d_row5_col2{\n",
       "            background-color:  #4358cb;\n",
       "            color:  #f1f1f1;\n",
       "        }#T_da18d_row2_col7,#T_da18d_row7_col2,#T_da18d_row7_col10,#T_da18d_row10_col7{\n",
       "            background-color:  #8db0fe;\n",
       "            color:  #000000;\n",
       "        }#T_da18d_row3_col4,#T_da18d_row3_col8,#T_da18d_row4_col3,#T_da18d_row4_col11,#T_da18d_row8_col3,#T_da18d_row11_col4{\n",
       "            background-color:  #9dbdff;\n",
       "            color:  #000000;\n",
       "        }#T_da18d_row3_col6,#T_da18d_row6_col3{\n",
       "            background-color:  #ec8165;\n",
       "            color:  #000000;\n",
       "        }#T_da18d_row3_col9,#T_da18d_row9_col3{\n",
       "            background-color:  #f39778;\n",
       "            color:  #000000;\n",
       "        }#T_da18d_row4_col7,#T_da18d_row7_col4{\n",
       "            background-color:  #7da0f9;\n",
       "            color:  #000000;\n",
       "        }#T_da18d_row4_col8,#T_da18d_row8_col4{\n",
       "            background-color:  #c0282f;\n",
       "            color:  #f1f1f1;\n",
       "        }#T_da18d_row4_col9,#T_da18d_row9_col4{\n",
       "            background-color:  #f7a688;\n",
       "            color:  #000000;\n",
       "        }#T_da18d_row4_col10,#T_da18d_row10_col4{\n",
       "            background-color:  #f39475;\n",
       "            color:  #000000;\n",
       "        }#T_da18d_row4_col12,#T_da18d_row8_col11,#T_da18d_row11_col8,#T_da18d_row12_col4{\n",
       "            background-color:  #a1c0ff;\n",
       "            color:  #000000;\n",
       "        }#T_da18d_row5_col6,#T_da18d_row6_col5{\n",
       "            background-color:  #b50927;\n",
       "            color:  #f1f1f1;\n",
       "        }#T_da18d_row5_col9,#T_da18d_row6_col9,#T_da18d_row9_col5,#T_da18d_row9_col6{\n",
       "            background-color:  #e5d8d1;\n",
       "            color:  #000000;\n",
       "        }#T_da18d_row5_col11,#T_da18d_row11_col5{\n",
       "            background-color:  #3e51c5;\n",
       "            color:  #f1f1f1;\n",
       "        }#T_da18d_row7_col8,#T_da18d_row8_col7{\n",
       "            background-color:  #799cf8;\n",
       "            color:  #000000;\n",
       "        }#T_da18d_row7_col9,#T_da18d_row9_col7{\n",
       "            background-color:  #9abbff;\n",
       "            color:  #000000;\n",
       "        }#T_da18d_row7_col11,#T_da18d_row11_col7{\n",
       "            background-color:  #f0cdbb;\n",
       "            color:  #000000;\n",
       "        }#T_da18d_row7_col12,#T_da18d_row12_col7{\n",
       "            background-color:  #f1ccb8;\n",
       "            color:  #000000;\n",
       "        }#T_da18d_row8_col9,#T_da18d_row9_col8{\n",
       "            background-color:  #f7a889;\n",
       "            color:  #000000;\n",
       "        }#T_da18d_row8_col10,#T_da18d_row10_col8{\n",
       "            background-color:  #f6a283;\n",
       "            color:  #000000;\n",
       "        }#T_da18d_row8_col12,#T_da18d_row12_col8{\n",
       "            background-color:  #9bbcff;\n",
       "            color:  #000000;\n",
       "        }#T_da18d_row9_col11,#T_da18d_row9_col12,#T_da18d_row11_col9,#T_da18d_row12_col9{\n",
       "            background-color:  #7a9df8;\n",
       "            color:  #000000;\n",
       "        }#T_da18d_row11_col12,#T_da18d_row12_col11{\n",
       "            background-color:  #b70d28;\n",
       "            color:  #f1f1f1;\n",
       "        }</style><table id=\"T_da18d_\" ><thead>    <tr>        <th class=\"blank level0\" ></th>        <th class=\"col_heading level0 col0\" >autocontrol_x_confianza_entre_tiempo_empleo</th>        <th class=\"col_heading level0 col1\" >saldo_cuenta_x_confianza_entre_tiempo_empleo</th>        <th class=\"col_heading level0 col2\" >autocontrol_x_impulsividad_entre_tiempo_empleo</th>        <th class=\"col_heading level0 col3\" >valor_prestamo_x_saldo_cuenta</th>        <th class=\"col_heading level0 col4\" >valor_prestamo_x_impulsividad_entre_tiempo_empleo</th>        <th class=\"col_heading level0 col5\" >saldo_cuenta_x_autocontrol</th>        <th class=\"col_heading level0 col6\" >Saldo_cuenta</th>        <th class=\"col_heading level0 col7\" >tiempo_empleo_x_impulsividad_entre_cuentas_otros</th>        <th class=\"col_heading level0 col8\" >valor_prestamo_x_autocontrol_entre_tiempo_empleo</th>        <th class=\"col_heading level0 col9\" >valor_prestamo_x_saldo_cuenta_entre_tiempo_empleo</th>        <th class=\"col_heading level0 col10\" >impulsividad_x_confianza_entre_tiempo_empleo</th>        <th class=\"col_heading level0 col11\" >cuentas_otros_x_autocontrol_entre_tiempo_empleo</th>        <th class=\"col_heading level0 col12\" >cuentas_otros_x_impulsividad_entre_tiempo_empleo</th>        <th class=\"col_heading level0 col13\" >target</th>    </tr></thead><tbody>\n",
       "                <tr>\n",
       "                        <th id=\"T_da18d_level0_row0\" class=\"row_heading level0 row0\" >autocontrol_x_confianza_entre_tiempo_empleo</th>\n",
       "                        <td id=\"T_da18d_row0_col0\" class=\"data row0 col0\" >1.00000</td>\n",
       "                        <td id=\"T_da18d_row0_col1\" class=\"data row0 col1\" >0.59936</td>\n",
       "                        <td id=\"T_da18d_row0_col2\" class=\"data row0 col2\" >0.95458</td>\n",
       "                        <td id=\"T_da18d_row0_col3\" class=\"data row0 col3\" >-0.00660</td>\n",
       "                        <td id=\"T_da18d_row0_col4\" class=\"data row0 col4\" >0.72956</td>\n",
       "                        <td id=\"T_da18d_row0_col5\" class=\"data row0 col5\" >0.01660</td>\n",
       "                        <td id=\"T_da18d_row0_col6\" class=\"data row0 col6\" >-0.00265</td>\n",
       "                        <td id=\"T_da18d_row0_col7\" class=\"data row0 col7\" >0.22954</td>\n",
       "                        <td id=\"T_da18d_row0_col8\" class=\"data row0 col8\" >0.76505</td>\n",
       "                        <td id=\"T_da18d_row0_col9\" class=\"data row0 col9\" >0.46950</td>\n",
       "                        <td id=\"T_da18d_row0_col10\" class=\"data row0 col10\" >0.95440</td>\n",
       "                        <td id=\"T_da18d_row0_col11\" class=\"data row0 col11\" >0.37290</td>\n",
       "                        <td id=\"T_da18d_row0_col12\" class=\"data row0 col12\" >0.35672</td>\n",
       "                        <td id=\"T_da18d_row0_col13\" class=\"data row0 col13\" >0.00027</td>\n",
       "            </tr>\n",
       "            <tr>\n",
       "                        <th id=\"T_da18d_level0_row1\" class=\"row_heading level0 row1\" >saldo_cuenta_x_confianza_entre_tiempo_empleo</th>\n",
       "                        <td id=\"T_da18d_row1_col0\" class=\"data row1 col0\" >0.59936</td>\n",
       "                        <td id=\"T_da18d_row1_col1\" class=\"data row1 col1\" >1.00000</td>\n",
       "                        <td id=\"T_da18d_row1_col2\" class=\"data row1 col2\" >0.58677</td>\n",
       "                        <td id=\"T_da18d_row1_col3\" class=\"data row1 col3\" >0.52448</td>\n",
       "                        <td id=\"T_da18d_row1_col4\" class=\"data row1 col4\" >0.47204</td>\n",
       "                        <td id=\"T_da18d_row1_col5\" class=\"data row1 col5\" >0.65334</td>\n",
       "                        <td id=\"T_da18d_row1_col6\" class=\"data row1 col6\" >0.65733</td>\n",
       "                        <td id=\"T_da18d_row1_col7\" class=\"data row1 col7\" >0.34374</td>\n",
       "                        <td id=\"T_da18d_row1_col8\" class=\"data row1 col8\" >0.47089</td>\n",
       "                        <td id=\"T_da18d_row1_col9\" class=\"data row1 col9\" >0.80074</td>\n",
       "                        <td id=\"T_da18d_row1_col10\" class=\"data row1 col10\" >0.60066</td>\n",
       "                        <td id=\"T_da18d_row1_col11\" class=\"data row1 col11\" >0.23538</td>\n",
       "                        <td id=\"T_da18d_row1_col12\" class=\"data row1 col12\" >0.23584</td>\n",
       "                        <td id=\"T_da18d_row1_col13\" class=\"data row1 col13\" >-0.00447</td>\n",
       "            </tr>\n",
       "            <tr>\n",
       "                        <th id=\"T_da18d_level0_row2\" class=\"row_heading level0 row2\" >autocontrol_x_impulsividad_entre_tiempo_empleo</th>\n",
       "                        <td id=\"T_da18d_row2_col0\" class=\"data row2 col0\" >0.95458</td>\n",
       "                        <td id=\"T_da18d_row2_col1\" class=\"data row2 col1\" >0.58677</td>\n",
       "                        <td id=\"T_da18d_row2_col2\" class=\"data row2 col2\" >1.00000</td>\n",
       "                        <td id=\"T_da18d_row2_col3\" class=\"data row2 col3\" >-0.00411</td>\n",
       "                        <td id=\"T_da18d_row2_col4\" class=\"data row2 col4\" >0.76517</td>\n",
       "                        <td id=\"T_da18d_row2_col5\" class=\"data row2 col5\" >0.01954</td>\n",
       "                        <td id=\"T_da18d_row2_col6\" class=\"data row2 col6\" >0.00040</td>\n",
       "                        <td id=\"T_da18d_row2_col7\" class=\"data row2 col7\" >0.24389</td>\n",
       "                        <td id=\"T_da18d_row2_col8\" class=\"data row2 col8\" >0.76542</td>\n",
       "                        <td id=\"T_da18d_row2_col9\" class=\"data row2 col9\" >0.47151</td>\n",
       "                        <td id=\"T_da18d_row2_col10\" class=\"data row2 col10\" >0.95440</td>\n",
       "                        <td id=\"T_da18d_row2_col11\" class=\"data row2 col11\" >0.37270</td>\n",
       "                        <td id=\"T_da18d_row2_col12\" class=\"data row2 col12\" >0.37247</td>\n",
       "                        <td id=\"T_da18d_row2_col13\" class=\"data row2 col13\" >-0.00033</td>\n",
       "            </tr>\n",
       "            <tr>\n",
       "                        <th id=\"T_da18d_level0_row3\" class=\"row_heading level0 row3\" >valor_prestamo_x_saldo_cuenta</th>\n",
       "                        <td id=\"T_da18d_row3_col0\" class=\"data row3 col0\" >-0.00660</td>\n",
       "                        <td id=\"T_da18d_row3_col1\" class=\"data row3 col1\" >0.52448</td>\n",
       "                        <td id=\"T_da18d_row3_col2\" class=\"data row3 col2\" >-0.00411</td>\n",
       "                        <td id=\"T_da18d_row3_col3\" class=\"data row3 col3\" >1.00000</td>\n",
       "                        <td id=\"T_da18d_row3_col4\" class=\"data row3 col4\" >0.28965</td>\n",
       "                        <td id=\"T_da18d_row3_col5\" class=\"data row3 col5\" >0.79983</td>\n",
       "                        <td id=\"T_da18d_row3_col6\" class=\"data row3 col6\" >0.80431</td>\n",
       "                        <td id=\"T_da18d_row3_col7\" class=\"data row3 col7\" >0.00050</td>\n",
       "                        <td id=\"T_da18d_row3_col8\" class=\"data row3 col8\" >0.28858</td>\n",
       "                        <td id=\"T_da18d_row3_col9\" class=\"data row3 col9\" >0.75252</td>\n",
       "                        <td id=\"T_da18d_row3_col10\" class=\"data row3 col10\" >-0.00716</td>\n",
       "                        <td id=\"T_da18d_row3_col11\" class=\"data row3 col11\" >-0.00012</td>\n",
       "                        <td id=\"T_da18d_row3_col12\" class=\"data row3 col12\" >0.00018</td>\n",
       "                        <td id=\"T_da18d_row3_col13\" class=\"data row3 col13\" >-0.00716</td>\n",
       "            </tr>\n",
       "            <tr>\n",
       "                        <th id=\"T_da18d_level0_row4\" class=\"row_heading level0 row4\" >valor_prestamo_x_impulsividad_entre_tiempo_empleo</th>\n",
       "                        <td id=\"T_da18d_row4_col0\" class=\"data row4 col0\" >0.72956</td>\n",
       "                        <td id=\"T_da18d_row4_col1\" class=\"data row4 col1\" >0.47204</td>\n",
       "                        <td id=\"T_da18d_row4_col2\" class=\"data row4 col2\" >0.76517</td>\n",
       "                        <td id=\"T_da18d_row4_col3\" class=\"data row4 col3\" >0.28965</td>\n",
       "                        <td id=\"T_da18d_row4_col4\" class=\"data row4 col4\" >1.00000</td>\n",
       "                        <td id=\"T_da18d_row4_col5\" class=\"data row4 col5\" >0.00259</td>\n",
       "                        <td id=\"T_da18d_row4_col6\" class=\"data row4 col6\" >0.00165</td>\n",
       "                        <td id=\"T_da18d_row4_col7\" class=\"data row4 col7\" >0.19940</td>\n",
       "                        <td id=\"T_da18d_row4_col8\" class=\"data row4 col8\" >0.96757</td>\n",
       "                        <td id=\"T_da18d_row4_col9\" class=\"data row4 col9\" >0.71293</td>\n",
       "                        <td id=\"T_da18d_row4_col10\" class=\"data row4 col10\" >0.76369</td>\n",
       "                        <td id=\"T_da18d_row4_col11\" class=\"data row4 col11\" >0.28804</td>\n",
       "                        <td id=\"T_da18d_row4_col12\" class=\"data row4 col12\" >0.30044</td>\n",
       "                        <td id=\"T_da18d_row4_col13\" class=\"data row4 col13\" >0.00009</td>\n",
       "            </tr>\n",
       "            <tr>\n",
       "                        <th id=\"T_da18d_level0_row5\" class=\"row_heading level0 row5\" >saldo_cuenta_x_autocontrol</th>\n",
       "                        <td id=\"T_da18d_row5_col0\" class=\"data row5 col0\" >0.01660</td>\n",
       "                        <td id=\"T_da18d_row5_col1\" class=\"data row5 col1\" >0.65334</td>\n",
       "                        <td id=\"T_da18d_row5_col2\" class=\"data row5 col2\" >0.01954</td>\n",
       "                        <td id=\"T_da18d_row5_col3\" class=\"data row5 col3\" >0.79983</td>\n",
       "                        <td id=\"T_da18d_row5_col4\" class=\"data row5 col4\" >0.00259</td>\n",
       "                        <td id=\"T_da18d_row5_col5\" class=\"data row5 col5\" >1.00000</td>\n",
       "                        <td id=\"T_da18d_row5_col6\" class=\"data row5 col6\" >0.99384</td>\n",
       "                        <td id=\"T_da18d_row5_col7\" class=\"data row5 col7\" >0.00060</td>\n",
       "                        <td id=\"T_da18d_row5_col8\" class=\"data row5 col8\" >0.01634</td>\n",
       "                        <td id=\"T_da18d_row5_col9\" class=\"data row5 col9\" >0.52823</td>\n",
       "                        <td id=\"T_da18d_row5_col10\" class=\"data row5 col10\" >-0.00084</td>\n",
       "                        <td id=\"T_da18d_row5_col11\" class=\"data row5 col11\" >0.00582</td>\n",
       "                        <td id=\"T_da18d_row5_col12\" class=\"data row5 col12\" >-0.00040</td>\n",
       "                        <td id=\"T_da18d_row5_col13\" class=\"data row5 col13\" >-0.00815</td>\n",
       "            </tr>\n",
       "            <tr>\n",
       "                        <th id=\"T_da18d_level0_row6\" class=\"row_heading level0 row6\" >Saldo_cuenta</th>\n",
       "                        <td id=\"T_da18d_row6_col0\" class=\"data row6 col0\" >-0.00265</td>\n",
       "                        <td id=\"T_da18d_row6_col1\" class=\"data row6 col1\" >0.65733</td>\n",
       "                        <td id=\"T_da18d_row6_col2\" class=\"data row6 col2\" >0.00040</td>\n",
       "                        <td id=\"T_da18d_row6_col3\" class=\"data row6 col3\" >0.80431</td>\n",
       "                        <td id=\"T_da18d_row6_col4\" class=\"data row6 col4\" >0.00165</td>\n",
       "                        <td id=\"T_da18d_row6_col5\" class=\"data row6 col5\" >0.99384</td>\n",
       "                        <td id=\"T_da18d_row6_col6\" class=\"data row6 col6\" >1.00000</td>\n",
       "                        <td id=\"T_da18d_row6_col7\" class=\"data row6 col7\" >0.00050</td>\n",
       "                        <td id=\"T_da18d_row6_col8\" class=\"data row6 col8\" >0.00032</td>\n",
       "                        <td id=\"T_da18d_row6_col9\" class=\"data row6 col9\" >0.53089</td>\n",
       "                        <td id=\"T_da18d_row6_col10\" class=\"data row6 col10\" >-0.00120</td>\n",
       "                        <td id=\"T_da18d_row6_col11\" class=\"data row6 col11\" >-0.00114</td>\n",
       "                        <td id=\"T_da18d_row6_col12\" class=\"data row6 col12\" >-0.00048</td>\n",
       "                        <td id=\"T_da18d_row6_col13\" class=\"data row6 col13\" >-0.00791</td>\n",
       "            </tr>\n",
       "            <tr>\n",
       "                        <th id=\"T_da18d_level0_row7\" class=\"row_heading level0 row7\" >tiempo_empleo_x_impulsividad_entre_cuentas_otros</th>\n",
       "                        <td id=\"T_da18d_row7_col0\" class=\"data row7 col0\" >0.22954</td>\n",
       "                        <td id=\"T_da18d_row7_col1\" class=\"data row7 col1\" >0.34374</td>\n",
       "                        <td id=\"T_da18d_row7_col2\" class=\"data row7 col2\" >0.24389</td>\n",
       "                        <td id=\"T_da18d_row7_col3\" class=\"data row7 col3\" >0.00050</td>\n",
       "                        <td id=\"T_da18d_row7_col4\" class=\"data row7 col4\" >0.19940</td>\n",
       "                        <td id=\"T_da18d_row7_col5\" class=\"data row7 col5\" >0.00060</td>\n",
       "                        <td id=\"T_da18d_row7_col6\" class=\"data row7 col6\" >0.00050</td>\n",
       "                        <td id=\"T_da18d_row7_col7\" class=\"data row7 col7\" >1.00000</td>\n",
       "                        <td id=\"T_da18d_row7_col8\" class=\"data row7 col8\" >0.18669</td>\n",
       "                        <td id=\"T_da18d_row7_col9\" class=\"data row7 col9\" >0.27981</td>\n",
       "                        <td id=\"T_da18d_row7_col10\" class=\"data row7 col10\" >0.24473</td>\n",
       "                        <td id=\"T_da18d_row7_col11\" class=\"data row7 col11\" >0.58461</td>\n",
       "                        <td id=\"T_da18d_row7_col12\" class=\"data row7 col12\" >0.59381</td>\n",
       "                        <td id=\"T_da18d_row7_col13\" class=\"data row7 col13\" >0.00066</td>\n",
       "            </tr>\n",
       "            <tr>\n",
       "                        <th id=\"T_da18d_level0_row8\" class=\"row_heading level0 row8\" >valor_prestamo_x_autocontrol_entre_tiempo_empleo</th>\n",
       "                        <td id=\"T_da18d_row8_col0\" class=\"data row8 col0\" >0.76505</td>\n",
       "                        <td id=\"T_da18d_row8_col1\" class=\"data row8 col1\" >0.47089</td>\n",
       "                        <td id=\"T_da18d_row8_col2\" class=\"data row8 col2\" >0.76542</td>\n",
       "                        <td id=\"T_da18d_row8_col3\" class=\"data row8 col3\" >0.28858</td>\n",
       "                        <td id=\"T_da18d_row8_col4\" class=\"data row8 col4\" >0.96757</td>\n",
       "                        <td id=\"T_da18d_row8_col5\" class=\"data row8 col5\" >0.01634</td>\n",
       "                        <td id=\"T_da18d_row8_col6\" class=\"data row8 col6\" >0.00032</td>\n",
       "                        <td id=\"T_da18d_row8_col7\" class=\"data row8 col7\" >0.18669</td>\n",
       "                        <td id=\"T_da18d_row8_col8\" class=\"data row8 col8\" >1.00000</td>\n",
       "                        <td id=\"T_da18d_row8_col9\" class=\"data row8 col9\" >0.71188</td>\n",
       "                        <td id=\"T_da18d_row8_col10\" class=\"data row8 col10\" >0.72824</td>\n",
       "                        <td id=\"T_da18d_row8_col11\" class=\"data row8 col11\" >0.29928</td>\n",
       "                        <td id=\"T_da18d_row8_col12\" class=\"data row8 col12\" >0.28626</td>\n",
       "                        <td id=\"T_da18d_row8_col13\" class=\"data row8 col13\" >-0.00022</td>\n",
       "            </tr>\n",
       "            <tr>\n",
       "                        <th id=\"T_da18d_level0_row9\" class=\"row_heading level0 row9\" >valor_prestamo_x_saldo_cuenta_entre_tiempo_empleo</th>\n",
       "                        <td id=\"T_da18d_row9_col0\" class=\"data row9 col0\" >0.46950</td>\n",
       "                        <td id=\"T_da18d_row9_col1\" class=\"data row9 col1\" >0.80074</td>\n",
       "                        <td id=\"T_da18d_row9_col2\" class=\"data row9 col2\" >0.47151</td>\n",
       "                        <td id=\"T_da18d_row9_col3\" class=\"data row9 col3\" >0.75252</td>\n",
       "                        <td id=\"T_da18d_row9_col4\" class=\"data row9 col4\" >0.71293</td>\n",
       "                        <td id=\"T_da18d_row9_col5\" class=\"data row9 col5\" >0.52823</td>\n",
       "                        <td id=\"T_da18d_row9_col6\" class=\"data row9 col6\" >0.53089</td>\n",
       "                        <td id=\"T_da18d_row9_col7\" class=\"data row9 col7\" >0.27981</td>\n",
       "                        <td id=\"T_da18d_row9_col8\" class=\"data row9 col8\" >0.71188</td>\n",
       "                        <td id=\"T_da18d_row9_col9\" class=\"data row9 col9\" >1.00000</td>\n",
       "                        <td id=\"T_da18d_row9_col10\" class=\"data row9 col10\" >0.46881</td>\n",
       "                        <td id=\"T_da18d_row9_col11\" class=\"data row9 col11\" >0.19173</td>\n",
       "                        <td id=\"T_da18d_row9_col12\" class=\"data row9 col12\" >0.19192</td>\n",
       "                        <td id=\"T_da18d_row9_col13\" class=\"data row9 col13\" >-0.00360</td>\n",
       "            </tr>\n",
       "            <tr>\n",
       "                        <th id=\"T_da18d_level0_row10\" class=\"row_heading level0 row10\" >impulsividad_x_confianza_entre_tiempo_empleo</th>\n",
       "                        <td id=\"T_da18d_row10_col0\" class=\"data row10 col0\" >0.95440</td>\n",
       "                        <td id=\"T_da18d_row10_col1\" class=\"data row10 col1\" >0.60066</td>\n",
       "                        <td id=\"T_da18d_row10_col2\" class=\"data row10 col2\" >0.95440</td>\n",
       "                        <td id=\"T_da18d_row10_col3\" class=\"data row10 col3\" >-0.00716</td>\n",
       "                        <td id=\"T_da18d_row10_col4\" class=\"data row10 col4\" >0.76369</td>\n",
       "                        <td id=\"T_da18d_row10_col5\" class=\"data row10 col5\" >-0.00084</td>\n",
       "                        <td id=\"T_da18d_row10_col6\" class=\"data row10 col6\" >-0.00120</td>\n",
       "                        <td id=\"T_da18d_row10_col7\" class=\"data row10 col7\" >0.24473</td>\n",
       "                        <td id=\"T_da18d_row10_col8\" class=\"data row10 col8\" >0.72824</td>\n",
       "                        <td id=\"T_da18d_row10_col9\" class=\"data row10 col9\" >0.46881</td>\n",
       "                        <td id=\"T_da18d_row10_col10\" class=\"data row10 col10\" >1.00000</td>\n",
       "                        <td id=\"T_da18d_row10_col11\" class=\"data row10 col11\" >0.35778</td>\n",
       "                        <td id=\"T_da18d_row10_col12\" class=\"data row10 col12\" >0.37345</td>\n",
       "                        <td id=\"T_da18d_row10_col13\" class=\"data row10 col13\" >-0.00043</td>\n",
       "            </tr>\n",
       "            <tr>\n",
       "                        <th id=\"T_da18d_level0_row11\" class=\"row_heading level0 row11\" >cuentas_otros_x_autocontrol_entre_tiempo_empleo</th>\n",
       "                        <td id=\"T_da18d_row11_col0\" class=\"data row11 col0\" >0.37290</td>\n",
       "                        <td id=\"T_da18d_row11_col1\" class=\"data row11 col1\" >0.23538</td>\n",
       "                        <td id=\"T_da18d_row11_col2\" class=\"data row11 col2\" >0.37270</td>\n",
       "                        <td id=\"T_da18d_row11_col3\" class=\"data row11 col3\" >-0.00012</td>\n",
       "                        <td id=\"T_da18d_row11_col4\" class=\"data row11 col4\" >0.28804</td>\n",
       "                        <td id=\"T_da18d_row11_col5\" class=\"data row11 col5\" >0.00582</td>\n",
       "                        <td id=\"T_da18d_row11_col6\" class=\"data row11 col6\" >-0.00114</td>\n",
       "                        <td id=\"T_da18d_row11_col7\" class=\"data row11 col7\" >0.58461</td>\n",
       "                        <td id=\"T_da18d_row11_col8\" class=\"data row11 col8\" >0.29928</td>\n",
       "                        <td id=\"T_da18d_row11_col9\" class=\"data row11 col9\" >0.19173</td>\n",
       "                        <td id=\"T_da18d_row11_col10\" class=\"data row11 col10\" >0.35778</td>\n",
       "                        <td id=\"T_da18d_row11_col11\" class=\"data row11 col11\" >1.00000</td>\n",
       "                        <td id=\"T_da18d_row11_col12\" class=\"data row11 col12\" >0.99036</td>\n",
       "                        <td id=\"T_da18d_row11_col13\" class=\"data row11 col13\" >0.00087</td>\n",
       "            </tr>\n",
       "            <tr>\n",
       "                        <th id=\"T_da18d_level0_row12\" class=\"row_heading level0 row12\" >cuentas_otros_x_impulsividad_entre_tiempo_empleo</th>\n",
       "                        <td id=\"T_da18d_row12_col0\" class=\"data row12 col0\" >0.35672</td>\n",
       "                        <td id=\"T_da18d_row12_col1\" class=\"data row12 col1\" >0.23584</td>\n",
       "                        <td id=\"T_da18d_row12_col2\" class=\"data row12 col2\" >0.37247</td>\n",
       "                        <td id=\"T_da18d_row12_col3\" class=\"data row12 col3\" >0.00018</td>\n",
       "                        <td id=\"T_da18d_row12_col4\" class=\"data row12 col4\" >0.30044</td>\n",
       "                        <td id=\"T_da18d_row12_col5\" class=\"data row12 col5\" >-0.00040</td>\n",
       "                        <td id=\"T_da18d_row12_col6\" class=\"data row12 col6\" >-0.00048</td>\n",
       "                        <td id=\"T_da18d_row12_col7\" class=\"data row12 col7\" >0.59381</td>\n",
       "                        <td id=\"T_da18d_row12_col8\" class=\"data row12 col8\" >0.28626</td>\n",
       "                        <td id=\"T_da18d_row12_col9\" class=\"data row12 col9\" >0.19192</td>\n",
       "                        <td id=\"T_da18d_row12_col10\" class=\"data row12 col10\" >0.37345</td>\n",
       "                        <td id=\"T_da18d_row12_col11\" class=\"data row12 col11\" >0.99036</td>\n",
       "                        <td id=\"T_da18d_row12_col12\" class=\"data row12 col12\" >1.00000</td>\n",
       "                        <td id=\"T_da18d_row12_col13\" class=\"data row12 col13\" >0.00065</td>\n",
       "            </tr>\n",
       "            <tr>\n",
       "                        <th id=\"T_da18d_level0_row13\" class=\"row_heading level0 row13\" >target</th>\n",
       "                        <td id=\"T_da18d_row13_col0\" class=\"data row13 col0\" >0.00027</td>\n",
       "                        <td id=\"T_da18d_row13_col1\" class=\"data row13 col1\" >-0.00447</td>\n",
       "                        <td id=\"T_da18d_row13_col2\" class=\"data row13 col2\" >-0.00033</td>\n",
       "                        <td id=\"T_da18d_row13_col3\" class=\"data row13 col3\" >-0.00716</td>\n",
       "                        <td id=\"T_da18d_row13_col4\" class=\"data row13 col4\" >0.00009</td>\n",
       "                        <td id=\"T_da18d_row13_col5\" class=\"data row13 col5\" >-0.00815</td>\n",
       "                        <td id=\"T_da18d_row13_col6\" class=\"data row13 col6\" >-0.00791</td>\n",
       "                        <td id=\"T_da18d_row13_col7\" class=\"data row13 col7\" >0.00066</td>\n",
       "                        <td id=\"T_da18d_row13_col8\" class=\"data row13 col8\" >-0.00022</td>\n",
       "                        <td id=\"T_da18d_row13_col9\" class=\"data row13 col9\" >-0.00360</td>\n",
       "                        <td id=\"T_da18d_row13_col10\" class=\"data row13 col10\" >-0.00043</td>\n",
       "                        <td id=\"T_da18d_row13_col11\" class=\"data row13 col11\" >0.00087</td>\n",
       "                        <td id=\"T_da18d_row13_col12\" class=\"data row13 col12\" >0.00065</td>\n",
       "                        <td id=\"T_da18d_row13_col13\" class=\"data row13 col13\" >1.00000</td>\n",
       "            </tr>\n",
       "    </tbody></table>"
      ],
      "text/plain": [
       "<pandas.io.formats.style.Styler at 0x26f83c59b50>"
      ]
     },
     "execution_count": 7,
     "metadata": {},
     "output_type": "execute_result"
    }
   ],
   "source": [
    "matriz_corr = x_train[cols_aporte + ['target']].corr(method='spearman')\n",
    "\n",
    "matriz_corr.style.background_gradient(\n",
    "    cmap='coolwarm', axis=None\n",
    ").set_precision(5)"
   ]
  },
  {
   "cell_type": "code",
   "execution_count": 8,
   "id": "f43ee10f-f127-4667-87e3-a31a69130539",
   "metadata": {},
   "outputs": [
    {
     "data": {
      "text/html": [
       "<style  type=\"text/css\" >\n",
       "#T_ae8b8_row0_col0{\n",
       "            background-color:  #b40426;\n",
       "            color:  #f1f1f1;\n",
       "        }#T_ae8b8_row1_col0,#T_ae8b8_row2_col0{\n",
       "            background-color:  #3d50c3;\n",
       "            color:  #f1f1f1;\n",
       "        }#T_ae8b8_row3_col0,#T_ae8b8_row4_col0{\n",
       "            background-color:  #3c4ec2;\n",
       "            color:  #f1f1f1;\n",
       "        }#T_ae8b8_row5_col0,#T_ae8b8_row6_col0,#T_ae8b8_row7_col0,#T_ae8b8_row8_col0,#T_ae8b8_row9_col0,#T_ae8b8_row10_col0,#T_ae8b8_row11_col0,#T_ae8b8_row12_col0,#T_ae8b8_row13_col0{\n",
       "            background-color:  #3b4cc0;\n",
       "            color:  #f1f1f1;\n",
       "        }</style><table id=\"T_ae8b8_\" ><thead>    <tr>        <th class=\"blank level0\" ></th>        <th class=\"col_heading level0 col0\" >target</th>    </tr></thead><tbody>\n",
       "                <tr>\n",
       "                        <th id=\"T_ae8b8_level0_row0\" class=\"row_heading level0 row0\" >target</th>\n",
       "                        <td id=\"T_ae8b8_row0_col0\" class=\"data row0 col0\" >1.00000</td>\n",
       "            </tr>\n",
       "            <tr>\n",
       "                        <th id=\"T_ae8b8_level0_row1\" class=\"row_heading level0 row1\" >saldo_cuenta_x_autocontrol</th>\n",
       "                        <td id=\"T_ae8b8_row1_col0\" class=\"data row1 col0\" >0.00815</td>\n",
       "            </tr>\n",
       "            <tr>\n",
       "                        <th id=\"T_ae8b8_level0_row2\" class=\"row_heading level0 row2\" >Saldo_cuenta</th>\n",
       "                        <td id=\"T_ae8b8_row2_col0\" class=\"data row2 col0\" >0.00791</td>\n",
       "            </tr>\n",
       "            <tr>\n",
       "                        <th id=\"T_ae8b8_level0_row3\" class=\"row_heading level0 row3\" >valor_prestamo_x_saldo_cuenta</th>\n",
       "                        <td id=\"T_ae8b8_row3_col0\" class=\"data row3 col0\" >0.00716</td>\n",
       "            </tr>\n",
       "            <tr>\n",
       "                        <th id=\"T_ae8b8_level0_row4\" class=\"row_heading level0 row4\" >saldo_cuenta_x_confianza_entre_tiempo_empleo</th>\n",
       "                        <td id=\"T_ae8b8_row4_col0\" class=\"data row4 col0\" >0.00447</td>\n",
       "            </tr>\n",
       "            <tr>\n",
       "                        <th id=\"T_ae8b8_level0_row5\" class=\"row_heading level0 row5\" >valor_prestamo_x_saldo_cuenta_entre_tiempo_empleo</th>\n",
       "                        <td id=\"T_ae8b8_row5_col0\" class=\"data row5 col0\" >0.00360</td>\n",
       "            </tr>\n",
       "            <tr>\n",
       "                        <th id=\"T_ae8b8_level0_row6\" class=\"row_heading level0 row6\" >cuentas_otros_x_autocontrol_entre_tiempo_empleo</th>\n",
       "                        <td id=\"T_ae8b8_row6_col0\" class=\"data row6 col0\" >0.00087</td>\n",
       "            </tr>\n",
       "            <tr>\n",
       "                        <th id=\"T_ae8b8_level0_row7\" class=\"row_heading level0 row7\" >tiempo_empleo_x_impulsividad_entre_cuentas_otros</th>\n",
       "                        <td id=\"T_ae8b8_row7_col0\" class=\"data row7 col0\" >0.00066</td>\n",
       "            </tr>\n",
       "            <tr>\n",
       "                        <th id=\"T_ae8b8_level0_row8\" class=\"row_heading level0 row8\" >cuentas_otros_x_impulsividad_entre_tiempo_empleo</th>\n",
       "                        <td id=\"T_ae8b8_row8_col0\" class=\"data row8 col0\" >0.00065</td>\n",
       "            </tr>\n",
       "            <tr>\n",
       "                        <th id=\"T_ae8b8_level0_row9\" class=\"row_heading level0 row9\" >impulsividad_x_confianza_entre_tiempo_empleo</th>\n",
       "                        <td id=\"T_ae8b8_row9_col0\" class=\"data row9 col0\" >0.00043</td>\n",
       "            </tr>\n",
       "            <tr>\n",
       "                        <th id=\"T_ae8b8_level0_row10\" class=\"row_heading level0 row10\" >autocontrol_x_impulsividad_entre_tiempo_empleo</th>\n",
       "                        <td id=\"T_ae8b8_row10_col0\" class=\"data row10 col0\" >0.00033</td>\n",
       "            </tr>\n",
       "            <tr>\n",
       "                        <th id=\"T_ae8b8_level0_row11\" class=\"row_heading level0 row11\" >autocontrol_x_confianza_entre_tiempo_empleo</th>\n",
       "                        <td id=\"T_ae8b8_row11_col0\" class=\"data row11 col0\" >0.00027</td>\n",
       "            </tr>\n",
       "            <tr>\n",
       "                        <th id=\"T_ae8b8_level0_row12\" class=\"row_heading level0 row12\" >valor_prestamo_x_autocontrol_entre_tiempo_empleo</th>\n",
       "                        <td id=\"T_ae8b8_row12_col0\" class=\"data row12 col0\" >0.00022</td>\n",
       "            </tr>\n",
       "            <tr>\n",
       "                        <th id=\"T_ae8b8_level0_row13\" class=\"row_heading level0 row13\" >valor_prestamo_x_impulsividad_entre_tiempo_empleo</th>\n",
       "                        <td id=\"T_ae8b8_row13_col0\" class=\"data row13 col0\" >0.00009</td>\n",
       "            </tr>\n",
       "    </tbody></table>"
      ],
      "text/plain": [
       "<pandas.io.formats.style.Styler at 0x26f83c5cf70>"
      ]
     },
     "execution_count": 8,
     "metadata": {},
     "output_type": "execute_result"
    }
   ],
   "source": [
    "pd.DataFrame(matriz_corr['target'].abs().sort_values(ascending=False)).style.background_gradient(\n",
    "    cmap='coolwarm', axis=None\n",
    ").set_precision(5)"
   ]
  },
  {
   "cell_type": "code",
   "execution_count": 9,
   "id": "03aa5cd1-03ce-46bf-a492-aa9307177019",
   "metadata": {},
   "outputs": [],
   "source": [
    "del x_train['target']"
   ]
  },
  {
   "cell_type": "code",
   "execution_count": 10,
   "id": "0c2828e4-c9ee-4e88-abd8-132fe23bc78d",
   "metadata": {},
   "outputs": [],
   "source": [
    "from sklearn.model_selection import StratifiedShuffleSplit, StratifiedKFold, TimeSeriesSplit, RepeatedStratifiedKFold\n",
    "from sklearn.model_selection import GridSearchCV\n",
    "from sklearn.tree import DecisionTreeClassifier\n",
    "from sklearn.model_selection import RandomizedSearchCV\n",
    "from sklearn.model_selection import StratifiedKFold\n",
    "\n",
    "kfold_off_on = RepeatedStratifiedKFold(\n",
    "    n_splits=3, \n",
    "    n_repeats=2,\n",
    "    random_state=SEED\n",
    ")\n",
    "\n",
    "param_grid_arbol = {\n",
    "    'criterion': ['gini', 'entropy'],\n",
    "    'splitter': ['best', 'random'],             \n",
    "    'min_samples_split': [0.03, 0.05, 0.07, 0.1],\n",
    "    'max_depth': [2, 3, 4, 5, 6, 7],\n",
    "    'max_features': [0.8, 0.85, 0.9, 0.95, 1.0],\n",
    "    'random_state': [SEED],\n",
    "    'class_weight': ['balanced', None],\n",
    "    'ccp_alpha': [0, 0.001, 0.005, 0.01]\n",
    "}\n",
    "model_arbol = DecisionTreeClassifier(random_state=SEED)\n",
    "\n",
    "grid_arbol = RandomizedSearchCV(\n",
    "    model_arbol, \n",
    "    {k: [v] if not isinstance(v, list) else v for k, v in param_grid_arbol.items()}, \n",
    "    cv=kfold_off_on, \n",
    "    n_jobs=4, \n",
    "    scoring='roc_auc', \n",
    "    verbose=2,\n",
    "    n_iter=1000,\n",
    "    refit=True\n",
    ")"
   ]
  },
  {
   "cell_type": "code",
   "execution_count": 11,
   "id": "5f92874e-8093-4ae4-9488-ae44d4b4ef6c",
   "metadata": {},
   "outputs": [
    {
     "name": "stdout",
     "output_type": "stream",
     "text": [
      "Fitting 6 folds for each of 1000 candidates, totalling 6000 fits\n"
     ]
    },
    {
     "name": "stderr",
     "output_type": "stream",
     "text": [
      "[Parallel(n_jobs=4)]: Using backend LokyBackend with 4 concurrent workers.\n",
      "[Parallel(n_jobs=4)]: Done  33 tasks      | elapsed:    3.9s\n",
      "[Parallel(n_jobs=4)]: Done 228 tasks      | elapsed:   11.1s\n",
      "[Parallel(n_jobs=4)]: Done 634 tasks      | elapsed:   32.6s\n",
      "[Parallel(n_jobs=4)]: Done 1200 tasks      | elapsed:   56.1s\n",
      "[Parallel(n_jobs=4)]: Done 1930 tasks      | elapsed:  1.5min\n",
      "[Parallel(n_jobs=4)]: Done 2820 tasks      | elapsed:  2.3min\n",
      "[Parallel(n_jobs=4)]: Done 3874 tasks      | elapsed:  3.1min\n",
      "[Parallel(n_jobs=4)]: Done 5088 tasks      | elapsed:  4.0min\n",
      "[Parallel(n_jobs=4)]: Done 6000 out of 6000 | elapsed:  4.7min finished\n"
     ]
    },
    {
     "name": "stdout",
     "output_type": "stream",
     "text": [
      "score:  0.5030837242238189\n",
      "Wall time: 4min 41s\n"
     ]
    }
   ],
   "source": [
    "%%time\n",
    "grid_arbol.fit(\n",
    "    x_train[cols_aporte],\n",
    "    y_train,\n",
    ")\n",
    "\n",
    "best_params_arbol = grid_arbol.best_params_\n",
    "score_arbol = grid_arbol.best_score_\n",
    "result_2 = grid_arbol.best_estimator_\n",
    "\n",
    "print(\"score: \", score_arbol)"
   ]
  },
  {
   "cell_type": "code",
   "execution_count": 12,
   "id": "0a77b32b-8318-4afd-9ba0-252f95e5d01a",
   "metadata": {},
   "outputs": [
    {
     "data": {
      "text/plain": [
       "{'splitter': 'best',\n",
       " 'random_state': 29082013,\n",
       " 'min_samples_split': 0.1,\n",
       " 'max_features': 0.9,\n",
       " 'max_depth': 5,\n",
       " 'criterion': 'gini',\n",
       " 'class_weight': None,\n",
       " 'ccp_alpha': 0}"
      ]
     },
     "execution_count": 12,
     "metadata": {},
     "output_type": "execute_result"
    }
   ],
   "source": [
    "best_params_arbol"
   ]
  },
  {
   "cell_type": "code",
   "execution_count": 13,
   "id": "3c3cfef9-ae28-4f1e-9dde-c31586281913",
   "metadata": {},
   "outputs": [],
   "source": [
    "import numpy as np\n",
    "#prediciendo en base al modelo \n",
    "y_pred_prob_2_train = result_2.predict(x_train[cols_aporte])\n",
    "y_pred_class_2_train = np.where(y_pred_prob_2_train < 0.5, 0 , 1)\n",
    "\n",
    "y_pred_prob_2_valid = result_2.predict(x_valid[cols_aporte])\n",
    "y_pred_class_2_valid = np.where(y_pred_prob_2_valid < 0.5, 0 , 1)"
   ]
  },
  {
   "cell_type": "code",
   "execution_count": 15,
   "id": "20f71671-f9d9-4c36-8c40-86e2ddecd706",
   "metadata": {},
   "outputs": [
    {
     "data": {
      "text/plain": [
       "<AxesSubplot:>"
      ]
     },
     "execution_count": 15,
     "metadata": {},
     "output_type": "execute_result"
    },
    {
     "data": {
      "image/png": "[encoded data removed]",
      "text/plain": [
       "<Figure size 432x288 with 1 Axes>"
      ]
     },
     "metadata": {
      "needs_background": "light"
     },
     "output_type": "display_data"
    }
   ],
   "source": [
    "pd.Series(y_pred_prob_2_train).hist()"
   ]
  },
  {
   "cell_type": "code",
   "execution_count": 16,
   "id": "a3d40869-a171-4a83-8ff1-0b57dfbd3e1a",
   "metadata": {},
   "outputs": [
    {
     "data": {
      "text/plain": [
       "<AxesSubplot:>"
      ]
     },
     "execution_count": 16,
     "metadata": {},
     "output_type": "execute_result"
    },
    {
     "data": {
      "image/png": "[encoded data removed]",
      "text/plain": [
       "<Figure size 432x288 with 1 Axes>"
      ]
     },
     "metadata": {
      "needs_background": "light"
     },
     "output_type": "display_data"
    }
   ],
   "source": [
    "pd.Series(y_pred_prob_2_valid).hist()"
   ]
  },
  {
   "cell_type": "code",
   "execution_count": 17,
   "id": "15f84aeb-81b6-4389-aedb-a64f4cf4cded",
   "metadata": {},
   "outputs": [
    {
     "name": "stdout",
     "output_type": "stream",
     "text": [
      "///////////////////////// TRAIN\n",
      "AUC: 0.500\n",
      "GINI: 0.001\n",
      "///////////////////////// VALIDATION\n",
      "AUC: 0.500\n",
      "GINI: 0.000\n"
     ]
    }
   ],
   "source": [
    "from sklearn.metrics import precision_score, recall_score, f1_score, accuracy_score, roc_auc_score\n",
    "\n",
    "print(\"/\"*25, 'TRAIN')\n",
    "auc = roc_auc_score(y_train, y_pred_prob_2_train)\n",
    "print(\"AUC: %1.3f\" % auc)\n",
    "print(\"GINI: %1.3f\" % (2*auc-1))\n",
    "\n",
    "print(\"/\"*25, 'VALIDATION')\n",
    "auc_2 = roc_auc_score(y_valid, y_pred_prob_2_valid)\n",
    "print(\"AUC: %1.3f\" % auc_2)\n",
    "print(\"GINI: %1.3f\" % (2*auc_2-1))"
   ]
  },
  {
   "cell_type": "code",
   "execution_count": 18,
   "id": "79b3629f-c679-422d-9b22-95a422e3d2b6",
   "metadata": {},
   "outputs": [
    {
     "name": "stdout",
     "output_type": "stream",
     "text": [
      "///////////////////////// TRAIN\n",
      "RECALL     : 0.00055432\n",
      "EFECTIVIDAD: 0.80000000\n",
      "F1 SCORE   : 0.00110788\n",
      "///////////////////////// VALIDATION\n",
      "RECALL     : 0.00000000\n",
      "EFECTIVIDAD: 0.00000000\n",
      "F1 SCORE   : 0.00000000\n"
     ]
    },
    {
     "name": "stderr",
     "output_type": "stream",
     "text": [
      "C:\\ProgramData\\Anaconda3\\lib\\site-packages\\sklearn\\metrics\\_classification.py:1221: UndefinedMetricWarning: Precision is ill-defined and being set to 0.0 due to no predicted samples. Use `zero_division` parameter to control this behavior.\n",
      "  _warn_prf(average, modifier, msg_start, len(result))\n"
     ]
    }
   ],
   "source": [
    "print(\"/\"*25, 'TRAIN')\n",
    "print(\"RECALL     : %1.8f\" % recall_score(y_train, y_pred_class_2_train))\n",
    "print(\"EFECTIVIDAD: %1.8f\" % precision_score(y_train, y_pred_class_2_train))\n",
    "print(\"F1 SCORE   : %1.8f\" % f1_score(y_train, y_pred_class_2_train))\n",
    "\n",
    "print(\"/\"*25, 'VALIDATION')\n",
    "print(\"RECALL     : %1.8f\" % recall_score(y_valid, y_pred_class_2_valid))\n",
    "print(\"EFECTIVIDAD: %1.8f\" % precision_score(y_valid, y_pred_class_2_valid))\n",
    "print(\"F1 SCORE   : %1.8f\" % f1_score(y_valid, y_pred_class_2_valid))"
   ]
  },
  {
   "cell_type": "code",
   "execution_count": null,
   "id": "9561f6ee-180f-4a8a-8457-56097f122ac8",
   "metadata": {},
   "outputs": [],
   "source": []
  },
  {
   "cell_type": "markdown",
   "id": "05ac40c6-1cbe-4afb-b9b7-5e4a4b58008e",
   "metadata": {},
   "source": [
    "#### >>> RECALL"
   ]
  },
  {
   "cell_type": "code",
   "execution_count": 19,
   "id": "2d77863f-417b-4360-9906-83a17f3a836f",
   "metadata": {},
   "outputs": [
    {
     "data": {
      "text/plain": [
       "     fun: -0.0005543237250554324\n",
       " message: 'Optimization terminated successfully.'\n",
       "    nfev: 32\n",
       "     nit: 1\n",
       " success: True\n",
       "       x: array([0.11725487])"
      ]
     },
     "execution_count": 19,
     "metadata": {},
     "output_type": "execute_result"
    }
   ],
   "source": [
    "from scipy.optimize import differential_evolution\n",
    "\n",
    "\n",
    "optimization_rec = differential_evolution(\n",
    "    lambda c: -1*recall_score(y_train, np.array([0 if _ < c[0] else 1 for _ in y_pred_prob_2_train])), \n",
    "    [(0, 1)],\n",
    "    seed=SEED\n",
    ")\n",
    "optimization_rec"
   ]
  },
  {
   "cell_type": "code",
   "execution_count": 20,
   "id": "66457ba9-9dbc-4dae-bb25-e9981a33eb1e",
   "metadata": {},
   "outputs": [
    {
     "data": {
      "text/plain": [
       "0.11725487017104697"
      ]
     },
     "execution_count": 20,
     "metadata": {},
     "output_type": "execute_result"
    }
   ],
   "source": [
    "corte_rec = optimization_rec['x'][0]\n",
    "corte_rec"
   ]
  },
  {
   "cell_type": "code",
   "execution_count": 21,
   "id": "597be65f-d57a-40f4-8cec-4625ff5e322c",
   "metadata": {},
   "outputs": [],
   "source": [
    "y_pred_class_train_2_rec = np.where(y_pred_prob_2_train < corte_rec, 0 , 1)\n",
    "y_pred_class_valid_2_rc = np.where(y_pred_prob_2_valid < corte_rec, 0 , 1)"
   ]
  },
  {
   "cell_type": "code",
   "execution_count": 22,
   "id": "4e5ec13b-6b27-4eaf-a1be-72098f916a9b",
   "metadata": {},
   "outputs": [
    {
     "data": {
      "text/plain": [
       "0    51115\n",
       "1        5\n",
       "dtype: int64"
      ]
     },
     "execution_count": 22,
     "metadata": {},
     "output_type": "execute_result"
    }
   ],
   "source": [
    "pd.Series(y_pred_class_train_2_rec).value_counts()"
   ]
  },
  {
   "cell_type": "code",
   "execution_count": 23,
   "id": "bceb32a4-90b2-43e1-ad56-281956e39015",
   "metadata": {},
   "outputs": [
    {
     "data": {
      "text/plain": [
       "0    12781\n",
       "dtype: int64"
      ]
     },
     "execution_count": 23,
     "metadata": {},
     "output_type": "execute_result"
    }
   ],
   "source": [
    "pd.Series(y_pred_class_valid_2_rc).value_counts()"
   ]
  },
  {
   "cell_type": "code",
   "execution_count": 24,
   "id": "198229a3-f148-4601-8a76-67c15c07231d",
   "metadata": {},
   "outputs": [
    {
     "name": "stdout",
     "output_type": "stream",
     "text": [
      "///////////////////////// TRAIN\n",
      "RECALL     : 0.00055432\n",
      "EFECTIVIDAD: 0.80000000\n",
      "F1 SCORE   : 0.00110788\n",
      "///////////////////////// VALIDATION\n",
      "RECALL     : 0.00000000\n",
      "EFECTIVIDAD: 0.00000000\n",
      "F1 SCORE   : 0.00000000\n"
     ]
    }
   ],
   "source": [
    "print(\"/\"*25, \"TRAIN\")\n",
    "print(\"RECALL     : %1.8f\" % recall_score(y_train, y_pred_class_train_2_rec))\n",
    "print(\"EFECTIVIDAD: %1.8f\" % precision_score(y_train, y_pred_class_train_2_rec))\n",
    "print(\"F1 SCORE   : %1.8f\" % f1_score(y_train, y_pred_class_train_2_rec))\n",
    "\n",
    "print(\"/\"*25, \"VALIDATION\")\n",
    "print(\"RECALL     : %1.8f\" % recall_score(y_valid, y_pred_class_valid_2_rc))\n",
    "print(\"EFECTIVIDAD: %1.8f\" % precision_score(y_valid, y_pred_class_valid_2_rc))\n",
    "print(\"F1 SCORE   : %1.8f\" % f1_score(y_valid, y_pred_class_valid_2_rc))"
   ]
  },
  {
   "cell_type": "code",
   "execution_count": null,
   "id": "010f4b0e-de8c-450d-9a23-6b6686759336",
   "metadata": {},
   "outputs": [],
   "source": []
  },
  {
   "cell_type": "markdown",
   "id": "e3853f23-b161-4cbd-b97e-4052d694cfcd",
   "metadata": {},
   "source": [
    "#### >>> EFECTIVIDAD"
   ]
  },
  {
   "cell_type": "code",
   "execution_count": 25,
   "id": "d3a1c84a-b33b-433f-9580-07ac0911d5ec",
   "metadata": {},
   "outputs": [
    {
     "data": {
      "text/plain": [
       "     fun: -0.8\n",
       " message: 'Optimization terminated successfully.'\n",
       "    nfev: 32\n",
       "     nit: 1\n",
       " success: True\n",
       "       x: array([0.11725487])"
      ]
     },
     "execution_count": 25,
     "metadata": {},
     "output_type": "execute_result"
    }
   ],
   "source": [
    "optimization_pre = differential_evolution(\n",
    "    lambda c: -1*precision_score(y_train, np.array([0 if _ < c[0] else 1 for _ in y_pred_prob_2_train])), \n",
    "    [(0, 1)],\n",
    "    seed=SEED\n",
    ")\n",
    "optimization_pre"
   ]
  },
  {
   "cell_type": "code",
   "execution_count": null,
   "id": "3b7e1286-2f54-49b0-9511-0da58d50386e",
   "metadata": {},
   "outputs": [],
   "source": []
  },
  {
   "cell_type": "markdown",
   "id": "3bb8cc6e-9805-4032-b6a8-e16e51976cc3",
   "metadata": {},
   "source": [
    "#### >>> AUC"
   ]
  },
  {
   "cell_type": "code",
   "execution_count": 26,
   "id": "501ea2b0-d72b-480e-aaf0-c63782c37bbc",
   "metadata": {},
   "outputs": [
    {
     "data": {
      "text/plain": [
       "     fun: -0.5002657733785627\n",
       " message: 'Optimization terminated successfully.'\n",
       "    nfev: 32\n",
       "     nit: 1\n",
       " success: True\n",
       "       x: array([0.11725487])"
      ]
     },
     "execution_count": 26,
     "metadata": {},
     "output_type": "execute_result"
    }
   ],
   "source": [
    "optimization_auc = differential_evolution(\n",
    "    lambda c: -1*roc_auc_score(y_train, np.array([0 if _ < c[0] else 1 for _ in y_pred_prob_2_train])), \n",
    "    [(0, 1)],\n",
    "    seed=SEED\n",
    ")\n",
    "optimization_auc"
   ]
  },
  {
   "cell_type": "code",
   "execution_count": 27,
   "id": "2fe947ae-60bc-4fcc-aea4-2ffd517f131d",
   "metadata": {},
   "outputs": [
    {
     "data": {
      "text/plain": [
       "0.11725487017104697"
      ]
     },
     "execution_count": 27,
     "metadata": {},
     "output_type": "execute_result"
    }
   ],
   "source": [
    "corte_auc = optimization_auc['x'][0]\n",
    "corte_auc"
   ]
  },
  {
   "cell_type": "code",
   "execution_count": 28,
   "id": "2b7a4e33-2b7f-4601-b1ad-38ad776df862",
   "metadata": {},
   "outputs": [],
   "source": [
    "y_pred_class_train_2_auc = np.where(y_pred_prob_2_train < corte_auc, 0 , 1)\n",
    "y_pred_class_valid_2_auc = np.where(y_pred_prob_2_valid < corte_auc, 0 , 1)"
   ]
  },
  {
   "cell_type": "code",
   "execution_count": 29,
   "id": "ce291602-0ec7-4940-a7f6-def817d21f08",
   "metadata": {},
   "outputs": [
    {
     "data": {
      "text/plain": [
       "0    51115\n",
       "1        5\n",
       "dtype: int64"
      ]
     },
     "execution_count": 29,
     "metadata": {},
     "output_type": "execute_result"
    }
   ],
   "source": [
    "pd.Series(y_pred_class_train_2_auc).value_counts()"
   ]
  },
  {
   "cell_type": "code",
   "execution_count": 30,
   "id": "65ac2381-0ed2-4fb5-a001-dfea2c294e7e",
   "metadata": {},
   "outputs": [
    {
     "data": {
      "text/plain": [
       "0    12781\n",
       "dtype: int64"
      ]
     },
     "execution_count": 30,
     "metadata": {},
     "output_type": "execute_result"
    }
   ],
   "source": [
    "pd.Series(y_pred_class_valid_2_auc).value_counts()"
   ]
  },
  {
   "cell_type": "code",
   "execution_count": 31,
   "id": "86edf21e-1992-48d8-8b2d-39f46f63993f",
   "metadata": {},
   "outputs": [
    {
     "name": "stdout",
     "output_type": "stream",
     "text": [
      "///////////////////////// TRAIN\n",
      "RECALL     : 0.00055432\n",
      "EFECTIVIDAD: 0.80000000\n",
      "F1 SCORE   : 0.00110788\n",
      "///////////////////////// VALIDATION\n",
      "RECALL     : 0.00000000\n",
      "EFECTIVIDAD: 0.00000000\n",
      "F1 SCORE   : 0.00000000\n"
     ]
    },
    {
     "name": "stderr",
     "output_type": "stream",
     "text": [
      "C:\\ProgramData\\Anaconda3\\lib\\site-packages\\sklearn\\metrics\\_classification.py:1221: UndefinedMetricWarning: Precision is ill-defined and being set to 0.0 due to no predicted samples. Use `zero_division` parameter to control this behavior.\n",
      "  _warn_prf(average, modifier, msg_start, len(result))\n"
     ]
    }
   ],
   "source": [
    "print(\"/\"*25, \"TRAIN\")\n",
    "print(\"RECALL     : %1.8f\" % recall_score(y_train, y_pred_class_train_2_auc))\n",
    "print(\"EFECTIVIDAD: %1.8f\" % precision_score(y_train, y_pred_class_train_2_auc))\n",
    "print(\"F1 SCORE   : %1.8f\" % f1_score(y_train, y_pred_class_train_2_auc))\n",
    "\n",
    "print(\"/\"*25, \"VALIDATION\")\n",
    "print(\"RECALL     : %1.8f\" % recall_score(y_valid, y_pred_class_valid_2_auc))\n",
    "print(\"EFECTIVIDAD: %1.8f\" % precision_score(y_valid, y_pred_class_valid_2_auc))\n",
    "print(\"F1 SCORE   : %1.8f\" % f1_score(y_valid, y_pred_class_valid_2_auc))"
   ]
  },
  {
   "cell_type": "code",
   "execution_count": null,
   "id": "295d2776-7875-4a59-ae59-183fcee27f10",
   "metadata": {},
   "outputs": [],
   "source": []
  },
  {
   "cell_type": "code",
   "execution_count": null,
   "id": "c4a2594f-f34b-4644-af36-47c320880cfe",
   "metadata": {},
   "outputs": [],
   "source": []
  }
 ],
 "metadata": {
  "kernelspec": {
   "display_name": "Python 3",
   "language": "python",
   "name": "python3"
  },
  "language_info": {
   "codemirror_mode": {
    "name": "ipython",
    "version": 3
   },
   "file_extension": ".py",
   "mimetype": "text/x-python",
   "name": "python",
   "nbconvert_exporter": "python",
   "pygments_lexer": "ipython3",
   "version": "3.8.5"
  }
 },
 "nbformat": 4,
 "nbformat_minor": 5
}
