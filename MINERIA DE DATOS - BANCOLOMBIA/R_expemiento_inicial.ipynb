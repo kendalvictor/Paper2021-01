{
 "cells": [
  {
   "cell_type": "code",
   "execution_count": 1,
   "id": "af10f242-5f90-4ce8-be01-a8d46624a7d0",
   "metadata": {},
   "outputs": [],
   "source": [
    "#install.packages('lattice')\n",
    "#install.packages('coda')\n",
    "#install.packages('BRugs')\n",
    "#install.packages('R2OpenBUGS')\n",
    "#install.packages('dplyr')\n",
    "#install.packages('MLmetrics')\n",
    "#install.packages('party')\n",
    "#install.packages('pROC')\n",
    "#install.packages('corrplot')\n",
    "#install.packages('mlr')\n",
    "#install.packages('sqldf')\n",
    "#install.packages('ggplot2')\n",
    "#install.packages('klaR')"
   ]
  },
  {
   "cell_type": "markdown",
   "id": "d03e097c-4032-4f3b-b646-4d7fa81aaf2c",
   "metadata": {},
   "source": [
    "## Load librariees"
   ]
  },
  {
   "cell_type": "code",
   "execution_count": 2,
   "id": "15a1e5bd-1e71-427c-9e0f-b59b1a229939",
   "metadata": {},
   "outputs": [
    {
     "name": "stderr",
     "output_type": "stream",
     "text": [
      "Warning message:\n",
      "\"package 'dplyr' was built under R version 3.6.3\"\n",
      "\n",
      "Attaching package: 'dplyr'\n",
      "\n",
      "\n",
      "The following objects are masked from 'package:stats':\n",
      "\n",
      "    filter, lag\n",
      "\n",
      "\n",
      "The following objects are masked from 'package:base':\n",
      "\n",
      "    intersect, setdiff, setequal, union\n",
      "\n",
      "\n",
      "Warning message:\n",
      "\"package 'MLmetrics' was built under R version 3.6.3\"\n",
      "\n",
      "Attaching package: 'MLmetrics'\n",
      "\n",
      "\n",
      "The following object is masked from 'package:base':\n",
      "\n",
      "    Recall\n",
      "\n",
      "\n",
      "Warning message:\n",
      "\"package 'party' was built under R version 3.6.3\"\n",
      "Loading required package: grid\n",
      "\n",
      "Loading required package: mvtnorm\n",
      "\n",
      "Warning message:\n",
      "\"package 'mvtnorm' was built under R version 3.6.3\"\n",
      "Loading required package: modeltools\n",
      "\n",
      "Warning message:\n",
      "\"package 'modeltools' was built under R version 3.6.3\"\n",
      "Loading required package: stats4\n",
      "\n",
      "Loading required package: strucchange\n",
      "\n",
      "Warning message:\n",
      "\"package 'strucchange' was built under R version 3.6.3\"\n",
      "Loading required package: zoo\n",
      "\n",
      "Warning message:\n",
      "\"package 'zoo' was built under R version 3.6.3\"\n",
      "\n",
      "Attaching package: 'zoo'\n",
      "\n",
      "\n",
      "The following objects are masked from 'package:base':\n",
      "\n",
      "    as.Date, as.Date.numeric\n",
      "\n",
      "\n",
      "Loading required package: sandwich\n",
      "\n",
      "Warning message:\n",
      "\"package 'pROC' was built under R version 3.6.3\"\n",
      "Type 'citation(\"pROC\")' for a citation.\n",
      "\n",
      "\n",
      "Attaching package: 'pROC'\n",
      "\n",
      "\n",
      "The following objects are masked from 'package:stats':\n",
      "\n",
      "    cov, smooth, var\n",
      "\n",
      "\n",
      "Warning message:\n",
      "\"package 'lattice' was built under R version 3.6.3\"\n",
      "Warning message:\n",
      "\"package 'corrplot' was built under R version 3.6.3\"\n",
      "corrplot 0.88 loaded\n",
      "\n",
      "Warning message:\n",
      "\"package 'mlr' was built under R version 3.6.3\"\n",
      "Loading required package: ParamHelpers\n",
      "\n",
      "Warning message:\n",
      "\"package 'ParamHelpers' was built under R version 3.6.3\"\n",
      "Warning message: 'mlr' is in 'maintenance-only' mode since July 2019.\n",
      "Future development will only happen in 'mlr3'\n",
      "(<https://mlr3.mlr-org.com>). Due to the focus on 'mlr3' there might be\n",
      "uncaught bugs meanwhile in {mlr} - please consider switching.\n",
      "\n",
      "Warning message:\n",
      "\"package 'sqldf' was built under R version 3.6.3\"\n",
      "Loading required package: gsubfn\n",
      "\n",
      "Warning message:\n",
      "\"package 'gsubfn' was built under R version 3.6.3\"\n",
      "Loading required package: proto\n",
      "\n",
      "Warning message:\n",
      "\"package 'proto' was built under R version 3.6.3\"\n",
      "\n",
      "Attaching package: 'gsubfn'\n",
      "\n",
      "\n",
      "The following object is masked from 'package:mlr':\n",
      "\n",
      "    fn\n",
      "\n",
      "\n",
      "Loading required package: RSQLite\n",
      "\n",
      "Warning message:\n",
      "\"package 'RSQLite' was built under R version 3.6.3\"\n",
      "Warning message:\n",
      "\"package 'ggplot2' was built under R version 3.6.3\"\n",
      "Warning message:\n",
      "\"package 'klaR' was built under R version 3.6.3\"\n",
      "Loading required package: MASS\n",
      "\n",
      "Warning message:\n",
      "\"package 'MASS' was built under R version 3.6.3\"\n",
      "\n",
      "Attaching package: 'MASS'\n",
      "\n",
      "\n",
      "The following object is masked from 'package:dplyr':\n",
      "\n",
      "    select\n",
      "\n",
      "\n",
      "Warning message:\n",
      "\"package 'BRugs' was built under R version 3.6.3\"\n",
      "Welcome to BRugs connected to OpenBUGS version 3.2.3\n",
      "\n",
      "Warning message:\n",
      "\"package 'R2OpenBUGS' was built under R version 3.6.3\"\n",
      "\n",
      "Attaching package: 'R2OpenBUGS'\n",
      "\n",
      "\n",
      "The following object is masked from 'package:strucchange':\n",
      "\n",
      "    monitor\n",
      "\n",
      "\n"
     ]
    }
   ],
   "source": [
    "library(dplyr)\n",
    "library(MLmetrics)\n",
    "library(party)\n",
    "library(pROC)\n",
    "library(lattice)\n",
    "library(corrplot)\n",
    "library(mlr)\n",
    "library(sqldf)\n",
    "library(ggplot2)\n",
    "library(klaR)\n",
    "library(BRugs)\n",
    "library(R2OpenBUGS)"
   ]
  },
  {
   "cell_type": "code",
   "execution_count": null,
   "id": "1d4d97d4-b2a3-43a0-99da-e4ac2228ea11",
   "metadata": {},
   "outputs": [],
   "source": []
  },
  {
   "cell_type": "markdown",
   "id": "57e0f96e-2927-4dfb-9632-a95fe45aa6f1",
   "metadata": {},
   "source": [
    "## Load dataset"
   ]
  },
  {
   "cell_type": "code",
   "execution_count": 3,
   "id": "a25df382-c170-4ba3-a596-655f8fd38398",
   "metadata": {},
   "outputs": [],
   "source": [
    "x_train <- read.csv(\"X_train_r.csv\")\n",
    "x_valid <- read.csv(\"X_valid_r.csv\")"
   ]
  },
  {
   "cell_type": "code",
   "execution_count": 4,
   "id": "b2cd814b-2ab7-4cf5-b7bf-9590bfa19c86",
   "metadata": {},
   "outputs": [
    {
     "data": {
      "text/html": [
       "<table class=\"dataframe\">\n",
       "<caption>A data.frame: 3 × 60</caption>\n",
       "<thead>\n",
       "\t<tr><th></th><th scope=col>Empleado</th><th scope=col>Tiempo_empleo</th><th scope=col>Saldo_cuenta</th><th scope=col>Valor_prestamo</th><th scope=col>Cuentas_otros</th><th scope=col>Autocontrol</th><th scope=col>Impulsividad</th><th scope=col>Confianza</th><th scope=col>cuentas_otros_x_valor_prestamo</th><th scope=col>cuentas_otros_x_valor_prestamo_entre_tiempo_empleo</th><th scope=col>...</th><th scope=col>autocontrol_x_impulsividad</th><th scope=col>autocontrol_x_impulsividad_entre_cuentas_otros</th><th scope=col>autocontrol_x_impulsividad_entre_tiempo_empleo</th><th scope=col>autocontrol_x_confianza</th><th scope=col>autocontrol_x_confianza_entre_cuentas_otros</th><th scope=col>autocontrol_x_confianza_entre_tiempo_empleo</th><th scope=col>impulsividad_x_confianza</th><th scope=col>impulsividad_x_confianza_entre_cuentas_otros</th><th scope=col>impulsividad_x_confianza_entre_tiempo_empleo</th><th scope=col>Imcumplimiento</th></tr>\n",
       "\t<tr><th></th><th scope=col>&lt;dbl&gt;</th><th scope=col>&lt;dbl&gt;</th><th scope=col>&lt;dbl&gt;</th><th scope=col>&lt;dbl&gt;</th><th scope=col>&lt;dbl&gt;</th><th scope=col>&lt;dbl&gt;</th><th scope=col>&lt;dbl&gt;</th><th scope=col>&lt;dbl&gt;</th><th scope=col>&lt;dbl&gt;</th><th scope=col>&lt;dbl&gt;</th><th scope=col>...</th><th scope=col>&lt;dbl&gt;</th><th scope=col>&lt;dbl&gt;</th><th scope=col>&lt;dbl&gt;</th><th scope=col>&lt;dbl&gt;</th><th scope=col>&lt;dbl&gt;</th><th scope=col>&lt;dbl&gt;</th><th scope=col>&lt;dbl&gt;</th><th scope=col>&lt;dbl&gt;</th><th scope=col>&lt;dbl&gt;</th><th scope=col>&lt;int&gt;</th></tr>\n",
       "</thead>\n",
       "<tbody>\n",
       "\t<tr><th scope=row>1</th><td>1</td><td>0.04166667</td><td>0.0003410238</td><td>0.8273312</td><td>0.1428571</td><td>0.4117647</td><td>0.6125</td><td>0.2674419</td><td>0.1895942</td><td>0.10507851</td><td>...</td><td>0.3376254</td><td>0.4424764</td><td>0.22123819</td><td>0.1887276</td><td>0.2191353</td><td>0.11748634</td><td>0.2704446</td><td>0.3150092</td><td>0.1659354</td><td>0</td></tr>\n",
       "\t<tr><th scope=row>2</th><td>1</td><td>0.16666667</td><td>0.0002458803</td><td>0.6064983</td><td>0.1428571</td><td>0.4117647</td><td>0.5750</td><td>0.5930233</td><td>0.1389874</td><td>0.01925769</td><td>...</td><td>0.3183111</td><td>0.4207152</td><td>0.05258941</td><td>0.3943638</td><td>0.4170639</td><td>0.05590076</td><td>0.5374019</td><td>0.5700483</td><td>0.0750702</td><td>0</td></tr>\n",
       "\t<tr><th scope=row>3</th><td>1</td><td>0.06250000</td><td>0.0048142338</td><td>0.3068804</td><td>0.2857143</td><td>0.3529412</td><td>0.4625</td><td>0.3837209</td><td>0.1406516</td><td>0.05196875</td><td>...</td><td>0.2236862</td><td>0.1570513</td><td>0.10470085</td><td>0.2271563</td><td>0.1280618</td><td>0.09154474</td><td>0.2910201</td><td>0.1673330</td><td>0.1175266</td><td>1</td></tr>\n",
       "</tbody>\n",
       "</table>\n"
      ],
      "text/latex": [
       "A data.frame: 3 × 60\n",
       "\\begin{tabular}{r|lllllllllllllllllllll}\n",
       "  & Empleado & Tiempo\\_empleo & Saldo\\_cuenta & Valor\\_prestamo & Cuentas\\_otros & Autocontrol & Impulsividad & Confianza & cuentas\\_otros\\_x\\_valor\\_prestamo & cuentas\\_otros\\_x\\_valor\\_prestamo\\_entre\\_tiempo\\_empleo & ... & autocontrol\\_x\\_impulsividad & autocontrol\\_x\\_impulsividad\\_entre\\_cuentas\\_otros & autocontrol\\_x\\_impulsividad\\_entre\\_tiempo\\_empleo & autocontrol\\_x\\_confianza & autocontrol\\_x\\_confianza\\_entre\\_cuentas\\_otros & autocontrol\\_x\\_confianza\\_entre\\_tiempo\\_empleo & impulsividad\\_x\\_confianza & impulsividad\\_x\\_confianza\\_entre\\_cuentas\\_otros & impulsividad\\_x\\_confianza\\_entre\\_tiempo\\_empleo & Imcumplimiento\\\\\n",
       "  & <dbl> & <dbl> & <dbl> & <dbl> & <dbl> & <dbl> & <dbl> & <dbl> & <dbl> & <dbl> & ... & <dbl> & <dbl> & <dbl> & <dbl> & <dbl> & <dbl> & <dbl> & <dbl> & <dbl> & <int>\\\\\n",
       "\\hline\n",
       "\t1 & 1 & 0.04166667 & 0.0003410238 & 0.8273312 & 0.1428571 & 0.4117647 & 0.6125 & 0.2674419 & 0.1895942 & 0.10507851 & ... & 0.3376254 & 0.4424764 & 0.22123819 & 0.1887276 & 0.2191353 & 0.11748634 & 0.2704446 & 0.3150092 & 0.1659354 & 0\\\\\n",
       "\t2 & 1 & 0.16666667 & 0.0002458803 & 0.6064983 & 0.1428571 & 0.4117647 & 0.5750 & 0.5930233 & 0.1389874 & 0.01925769 & ... & 0.3183111 & 0.4207152 & 0.05258941 & 0.3943638 & 0.4170639 & 0.05590076 & 0.5374019 & 0.5700483 & 0.0750702 & 0\\\\\n",
       "\t3 & 1 & 0.06250000 & 0.0048142338 & 0.3068804 & 0.2857143 & 0.3529412 & 0.4625 & 0.3837209 & 0.1406516 & 0.05196875 & ... & 0.2236862 & 0.1570513 & 0.10470085 & 0.2271563 & 0.1280618 & 0.09154474 & 0.2910201 & 0.1673330 & 0.1175266 & 1\\\\\n",
       "\\end{tabular}\n"
      ],
      "text/markdown": [
       "\n",
       "A data.frame: 3 × 60\n",
       "\n",
       "| <!--/--> | Empleado &lt;dbl&gt; | Tiempo_empleo &lt;dbl&gt; | Saldo_cuenta &lt;dbl&gt; | Valor_prestamo &lt;dbl&gt; | Cuentas_otros &lt;dbl&gt; | Autocontrol &lt;dbl&gt; | Impulsividad &lt;dbl&gt; | Confianza &lt;dbl&gt; | cuentas_otros_x_valor_prestamo &lt;dbl&gt; | cuentas_otros_x_valor_prestamo_entre_tiempo_empleo &lt;dbl&gt; | ... ... | autocontrol_x_impulsividad &lt;dbl&gt; | autocontrol_x_impulsividad_entre_cuentas_otros &lt;dbl&gt; | autocontrol_x_impulsividad_entre_tiempo_empleo &lt;dbl&gt; | autocontrol_x_confianza &lt;dbl&gt; | autocontrol_x_confianza_entre_cuentas_otros &lt;dbl&gt; | autocontrol_x_confianza_entre_tiempo_empleo &lt;dbl&gt; | impulsividad_x_confianza &lt;dbl&gt; | impulsividad_x_confianza_entre_cuentas_otros &lt;dbl&gt; | impulsividad_x_confianza_entre_tiempo_empleo &lt;dbl&gt; | Imcumplimiento &lt;int&gt; |\n",
       "|---|---|---|---|---|---|---|---|---|---|---|---|---|---|---|---|---|---|---|---|---|---|\n",
       "| 1 | 1 | 0.04166667 | 0.0003410238 | 0.8273312 | 0.1428571 | 0.4117647 | 0.6125 | 0.2674419 | 0.1895942 | 0.10507851 | ... | 0.3376254 | 0.4424764 | 0.22123819 | 0.1887276 | 0.2191353 | 0.11748634 | 0.2704446 | 0.3150092 | 0.1659354 | 0 |\n",
       "| 2 | 1 | 0.16666667 | 0.0002458803 | 0.6064983 | 0.1428571 | 0.4117647 | 0.5750 | 0.5930233 | 0.1389874 | 0.01925769 | ... | 0.3183111 | 0.4207152 | 0.05258941 | 0.3943638 | 0.4170639 | 0.05590076 | 0.5374019 | 0.5700483 | 0.0750702 | 0 |\n",
       "| 3 | 1 | 0.06250000 | 0.0048142338 | 0.3068804 | 0.2857143 | 0.3529412 | 0.4625 | 0.3837209 | 0.1406516 | 0.05196875 | ... | 0.2236862 | 0.1570513 | 0.10470085 | 0.2271563 | 0.1280618 | 0.09154474 | 0.2910201 | 0.1673330 | 0.1175266 | 1 |\n",
       "\n"
      ],
      "text/plain": [
       "  Empleado Tiempo_empleo Saldo_cuenta Valor_prestamo Cuentas_otros Autocontrol\n",
       "1 1        0.04166667    0.0003410238 0.8273312      0.1428571     0.4117647  \n",
       "2 1        0.16666667    0.0002458803 0.6064983      0.1428571     0.4117647  \n",
       "3 1        0.06250000    0.0048142338 0.3068804      0.2857143     0.3529412  \n",
       "  Impulsividad Confianza cuentas_otros_x_valor_prestamo\n",
       "1 0.6125       0.2674419 0.1895942                     \n",
       "2 0.5750       0.5930233 0.1389874                     \n",
       "3 0.4625       0.3837209 0.1406516                     \n",
       "  cuentas_otros_x_valor_prestamo_entre_tiempo_empleo ...\n",
       "1 0.10507851                                         ...\n",
       "2 0.01925769                                         ...\n",
       "3 0.05196875                                         ...\n",
       "  autocontrol_x_impulsividad autocontrol_x_impulsividad_entre_cuentas_otros\n",
       "1 0.3376254                  0.4424764                                     \n",
       "2 0.3183111                  0.4207152                                     \n",
       "3 0.2236862                  0.1570513                                     \n",
       "  autocontrol_x_impulsividad_entre_tiempo_empleo autocontrol_x_confianza\n",
       "1 0.22123819                                     0.1887276              \n",
       "2 0.05258941                                     0.3943638              \n",
       "3 0.10470085                                     0.2271563              \n",
       "  autocontrol_x_confianza_entre_cuentas_otros\n",
       "1 0.2191353                                  \n",
       "2 0.4170639                                  \n",
       "3 0.1280618                                  \n",
       "  autocontrol_x_confianza_entre_tiempo_empleo impulsividad_x_confianza\n",
       "1 0.11748634                                  0.2704446               \n",
       "2 0.05590076                                  0.5374019               \n",
       "3 0.09154474                                  0.2910201               \n",
       "  impulsividad_x_confianza_entre_cuentas_otros\n",
       "1 0.3150092                                   \n",
       "2 0.5700483                                   \n",
       "3 0.1673330                                   \n",
       "  impulsividad_x_confianza_entre_tiempo_empleo Imcumplimiento\n",
       "1 0.1659354                                    0             \n",
       "2 0.0750702                                    0             \n",
       "3 0.1175266                                    1             "
      ]
     },
     "metadata": {},
     "output_type": "display_data"
    }
   ],
   "source": [
    "head(x_train, 3)"
   ]
  },
  {
   "cell_type": "code",
   "execution_count": 5,
   "id": "a0ed0a29-198a-4c8f-9afc-8ec412aab6ba",
   "metadata": {},
   "outputs": [
    {
     "data": {
      "text/html": [
       "<table class=\"dataframe\">\n",
       "<caption>A data.frame: 3 × 60</caption>\n",
       "<thead>\n",
       "\t<tr><th></th><th scope=col>Empleado</th><th scope=col>Tiempo_empleo</th><th scope=col>Saldo_cuenta</th><th scope=col>Valor_prestamo</th><th scope=col>Cuentas_otros</th><th scope=col>Autocontrol</th><th scope=col>Impulsividad</th><th scope=col>Confianza</th><th scope=col>cuentas_otros_x_valor_prestamo</th><th scope=col>cuentas_otros_x_valor_prestamo_entre_tiempo_empleo</th><th scope=col>...</th><th scope=col>autocontrol_x_impulsividad</th><th scope=col>autocontrol_x_impulsividad_entre_cuentas_otros</th><th scope=col>autocontrol_x_impulsividad_entre_tiempo_empleo</th><th scope=col>autocontrol_x_confianza</th><th scope=col>autocontrol_x_confianza_entre_cuentas_otros</th><th scope=col>autocontrol_x_confianza_entre_tiempo_empleo</th><th scope=col>impulsividad_x_confianza</th><th scope=col>impulsividad_x_confianza_entre_cuentas_otros</th><th scope=col>impulsividad_x_confianza_entre_tiempo_empleo</th><th scope=col>Imcumplimiento</th></tr>\n",
       "\t<tr><th></th><th scope=col>&lt;dbl&gt;</th><th scope=col>&lt;dbl&gt;</th><th scope=col>&lt;dbl&gt;</th><th scope=col>&lt;dbl&gt;</th><th scope=col>&lt;dbl&gt;</th><th scope=col>&lt;dbl&gt;</th><th scope=col>&lt;dbl&gt;</th><th scope=col>&lt;dbl&gt;</th><th scope=col>&lt;dbl&gt;</th><th scope=col>&lt;dbl&gt;</th><th scope=col>...</th><th scope=col>&lt;dbl&gt;</th><th scope=col>&lt;dbl&gt;</th><th scope=col>&lt;dbl&gt;</th><th scope=col>&lt;dbl&gt;</th><th scope=col>&lt;dbl&gt;</th><th scope=col>&lt;dbl&gt;</th><th scope=col>&lt;dbl&gt;</th><th scope=col>&lt;dbl&gt;</th><th scope=col>&lt;dbl&gt;</th><th scope=col>&lt;int&gt;</th></tr>\n",
       "</thead>\n",
       "<tbody>\n",
       "\t<tr><th scope=row>1</th><td>1</td><td>0.10416667</td><td>1.232810e-04</td><td>0.3843286</td><td>0.2857143</td><td>0.4470588</td><td>0.4875</td><td>0.5813953</td><td>0.1761483</td><td>0.03905056</td><td>...</td><td>0.2961521</td><td>0.1978745</td><td>0.07914980</td><td>0.4167378</td><td>0.2192997</td><td>0.09405958</td><td>0.4564952</td><td>0.2463768</td><td>0.10382590</td><td>1</td></tr>\n",
       "\t<tr><th scope=row>2</th><td>1</td><td>0.10416667</td><td>4.927340e-05</td><td>0.4733561</td><td>0.0000000</td><td>0.5882353</td><td>0.4375</td><td>0.3255814</td><td>0.0000000</td><td>0.00000000</td><td>...</td><td>0.3530469</td><td>0.0000000</td><td>0.09197031</td><td>0.3176772</td><td>0.0000000</td><td>0.07361185</td><td>0.2357454</td><td>0.0000000</td><td>0.05938926</td><td>0</td></tr>\n",
       "\t<tr><th scope=row>3</th><td>1</td><td>0.02083333</td><td>5.132046e-05</td><td>0.5130381</td><td>0.1428571</td><td>0.5764706</td><td>0.4250</td><td>0.5348837</td><td>0.1175697</td><td>0.13032092</td><td>...</td><td>0.3374757</td><td>0.4423077</td><td>0.44230769</td><td>0.4867635</td><td>0.5060003</td><td>0.54257007</td><td>0.3738448</td><td>0.4137931</td><td>0.43594244</td><td>0</td></tr>\n",
       "</tbody>\n",
       "</table>\n"
      ],
      "text/latex": [
       "A data.frame: 3 × 60\n",
       "\\begin{tabular}{r|lllllllllllllllllllll}\n",
       "  & Empleado & Tiempo\\_empleo & Saldo\\_cuenta & Valor\\_prestamo & Cuentas\\_otros & Autocontrol & Impulsividad & Confianza & cuentas\\_otros\\_x\\_valor\\_prestamo & cuentas\\_otros\\_x\\_valor\\_prestamo\\_entre\\_tiempo\\_empleo & ... & autocontrol\\_x\\_impulsividad & autocontrol\\_x\\_impulsividad\\_entre\\_cuentas\\_otros & autocontrol\\_x\\_impulsividad\\_entre\\_tiempo\\_empleo & autocontrol\\_x\\_confianza & autocontrol\\_x\\_confianza\\_entre\\_cuentas\\_otros & autocontrol\\_x\\_confianza\\_entre\\_tiempo\\_empleo & impulsividad\\_x\\_confianza & impulsividad\\_x\\_confianza\\_entre\\_cuentas\\_otros & impulsividad\\_x\\_confianza\\_entre\\_tiempo\\_empleo & Imcumplimiento\\\\\n",
       "  & <dbl> & <dbl> & <dbl> & <dbl> & <dbl> & <dbl> & <dbl> & <dbl> & <dbl> & <dbl> & ... & <dbl> & <dbl> & <dbl> & <dbl> & <dbl> & <dbl> & <dbl> & <dbl> & <dbl> & <int>\\\\\n",
       "\\hline\n",
       "\t1 & 1 & 0.10416667 & 1.232810e-04 & 0.3843286 & 0.2857143 & 0.4470588 & 0.4875 & 0.5813953 & 0.1761483 & 0.03905056 & ... & 0.2961521 & 0.1978745 & 0.07914980 & 0.4167378 & 0.2192997 & 0.09405958 & 0.4564952 & 0.2463768 & 0.10382590 & 1\\\\\n",
       "\t2 & 1 & 0.10416667 & 4.927340e-05 & 0.4733561 & 0.0000000 & 0.5882353 & 0.4375 & 0.3255814 & 0.0000000 & 0.00000000 & ... & 0.3530469 & 0.0000000 & 0.09197031 & 0.3176772 & 0.0000000 & 0.07361185 & 0.2357454 & 0.0000000 & 0.05938926 & 0\\\\\n",
       "\t3 & 1 & 0.02083333 & 5.132046e-05 & 0.5130381 & 0.1428571 & 0.5764706 & 0.4250 & 0.5348837 & 0.1175697 & 0.13032092 & ... & 0.3374757 & 0.4423077 & 0.44230769 & 0.4867635 & 0.5060003 & 0.54257007 & 0.3738448 & 0.4137931 & 0.43594244 & 0\\\\\n",
       "\\end{tabular}\n"
      ],
      "text/markdown": [
       "\n",
       "A data.frame: 3 × 60\n",
       "\n",
       "| <!--/--> | Empleado &lt;dbl&gt; | Tiempo_empleo &lt;dbl&gt; | Saldo_cuenta &lt;dbl&gt; | Valor_prestamo &lt;dbl&gt; | Cuentas_otros &lt;dbl&gt; | Autocontrol &lt;dbl&gt; | Impulsividad &lt;dbl&gt; | Confianza &lt;dbl&gt; | cuentas_otros_x_valor_prestamo &lt;dbl&gt; | cuentas_otros_x_valor_prestamo_entre_tiempo_empleo &lt;dbl&gt; | ... ... | autocontrol_x_impulsividad &lt;dbl&gt; | autocontrol_x_impulsividad_entre_cuentas_otros &lt;dbl&gt; | autocontrol_x_impulsividad_entre_tiempo_empleo &lt;dbl&gt; | autocontrol_x_confianza &lt;dbl&gt; | autocontrol_x_confianza_entre_cuentas_otros &lt;dbl&gt; | autocontrol_x_confianza_entre_tiempo_empleo &lt;dbl&gt; | impulsividad_x_confianza &lt;dbl&gt; | impulsividad_x_confianza_entre_cuentas_otros &lt;dbl&gt; | impulsividad_x_confianza_entre_tiempo_empleo &lt;dbl&gt; | Imcumplimiento &lt;int&gt; |\n",
       "|---|---|---|---|---|---|---|---|---|---|---|---|---|---|---|---|---|---|---|---|---|---|\n",
       "| 1 | 1 | 0.10416667 | 1.232810e-04 | 0.3843286 | 0.2857143 | 0.4470588 | 0.4875 | 0.5813953 | 0.1761483 | 0.03905056 | ... | 0.2961521 | 0.1978745 | 0.07914980 | 0.4167378 | 0.2192997 | 0.09405958 | 0.4564952 | 0.2463768 | 0.10382590 | 1 |\n",
       "| 2 | 1 | 0.10416667 | 4.927340e-05 | 0.4733561 | 0.0000000 | 0.5882353 | 0.4375 | 0.3255814 | 0.0000000 | 0.00000000 | ... | 0.3530469 | 0.0000000 | 0.09197031 | 0.3176772 | 0.0000000 | 0.07361185 | 0.2357454 | 0.0000000 | 0.05938926 | 0 |\n",
       "| 3 | 1 | 0.02083333 | 5.132046e-05 | 0.5130381 | 0.1428571 | 0.5764706 | 0.4250 | 0.5348837 | 0.1175697 | 0.13032092 | ... | 0.3374757 | 0.4423077 | 0.44230769 | 0.4867635 | 0.5060003 | 0.54257007 | 0.3738448 | 0.4137931 | 0.43594244 | 0 |\n",
       "\n"
      ],
      "text/plain": [
       "  Empleado Tiempo_empleo Saldo_cuenta Valor_prestamo Cuentas_otros Autocontrol\n",
       "1 1        0.10416667    1.232810e-04 0.3843286      0.2857143     0.4470588  \n",
       "2 1        0.10416667    4.927340e-05 0.4733561      0.0000000     0.5882353  \n",
       "3 1        0.02083333    5.132046e-05 0.5130381      0.1428571     0.5764706  \n",
       "  Impulsividad Confianza cuentas_otros_x_valor_prestamo\n",
       "1 0.4875       0.5813953 0.1761483                     \n",
       "2 0.4375       0.3255814 0.0000000                     \n",
       "3 0.4250       0.5348837 0.1175697                     \n",
       "  cuentas_otros_x_valor_prestamo_entre_tiempo_empleo ...\n",
       "1 0.03905056                                         ...\n",
       "2 0.00000000                                         ...\n",
       "3 0.13032092                                         ...\n",
       "  autocontrol_x_impulsividad autocontrol_x_impulsividad_entre_cuentas_otros\n",
       "1 0.2961521                  0.1978745                                     \n",
       "2 0.3530469                  0.0000000                                     \n",
       "3 0.3374757                  0.4423077                                     \n",
       "  autocontrol_x_impulsividad_entre_tiempo_empleo autocontrol_x_confianza\n",
       "1 0.07914980                                     0.4167378              \n",
       "2 0.09197031                                     0.3176772              \n",
       "3 0.44230769                                     0.4867635              \n",
       "  autocontrol_x_confianza_entre_cuentas_otros\n",
       "1 0.2192997                                  \n",
       "2 0.0000000                                  \n",
       "3 0.5060003                                  \n",
       "  autocontrol_x_confianza_entre_tiempo_empleo impulsividad_x_confianza\n",
       "1 0.09405958                                  0.4564952               \n",
       "2 0.07361185                                  0.2357454               \n",
       "3 0.54257007                                  0.3738448               \n",
       "  impulsividad_x_confianza_entre_cuentas_otros\n",
       "1 0.2463768                                   \n",
       "2 0.0000000                                   \n",
       "3 0.4137931                                   \n",
       "  impulsividad_x_confianza_entre_tiempo_empleo Imcumplimiento\n",
       "1 0.10382590                                   1             \n",
       "2 0.05938926                                   0             \n",
       "3 0.43594244                                   0             "
      ]
     },
     "metadata": {},
     "output_type": "display_data"
    }
   ],
   "source": [
    "head(x_valid, 3)"
   ]
  },
  {
   "cell_type": "code",
   "execution_count": 6,
   "id": "0535b0b7-ca00-4c6f-b7c7-6ddeb7895514",
   "metadata": {},
   "outputs": [
    {
     "data": {
      "text/html": [
       "'data.frame'"
      ],
      "text/latex": [
       "'data.frame'"
      ],
      "text/markdown": [
       "'data.frame'"
      ],
      "text/plain": [
       "[1] \"data.frame\""
      ]
     },
     "metadata": {},
     "output_type": "display_data"
    }
   ],
   "source": [
    "class(x_train)"
   ]
  },
  {
   "cell_type": "code",
   "execution_count": 7,
   "id": "29a75e6f-e7f2-4401-8e77-9f1930f11785",
   "metadata": {},
   "outputs": [
    {
     "data": {
      "text/html": [
       "'data.frame'"
      ],
      "text/latex": [
       "'data.frame'"
      ],
      "text/markdown": [
       "'data.frame'"
      ],
      "text/plain": [
       "[1] \"data.frame\""
      ]
     },
     "metadata": {},
     "output_type": "display_data"
    }
   ],
   "source": [
    "class(x_valid)"
   ]
  },
  {
   "cell_type": "code",
   "execution_count": 8,
   "id": "ca467b2e-9331-4477-aec9-fa1b5c213dc6",
   "metadata": {},
   "outputs": [],
   "source": [
    "source(\"C:\\\\Users\\\\Villacorta\\\\Documents\\\\MAESTRIA_RICARDO_PALMA_URP\\\\3_APRENDIZAJE DE MAQUINA\\\\2\\\\codigo\\\\funciones.R\")"
   ]
  },
  {
   "cell_type": "code",
   "execution_count": null,
   "id": "a174ee8b-e455-4f4c-b467-da34254585ba",
   "metadata": {},
   "outputs": [],
   "source": []
  },
  {
   "cell_type": "markdown",
   "id": "26615918-52bb-4f6b-877a-c9a32906595e",
   "metadata": {},
   "source": [
    "### MODELO CON INTERCEPTO"
   ]
  },
  {
   "cell_type": "code",
   "execution_count": 21,
   "id": "2f3bab44-31bd-4517-95fa-0256c8e49508",
   "metadata": {},
   "outputs": [],
   "source": [
    "formula <- Imcumplimiento ~ \n",
    "           Empleado + \n",
    "           Tiempo_empleo + \n",
    "           Saldo_cuenta + \n",
    "           Valor_prestamo + \n",
    "           Cuentas_otros + \n",
    "           Autocontrol + \n",
    "           Impulsividad + \n",
    "           Confianza + \n",
    "           cuentas_otros_x_valor_prestamo + \n",
    "           cuentas_otros_x_saldo_cuenta + \n",
    "           cuentas_otros_x_tiempo_empleo + \n",
    "           valor_prestamo_x_saldo_cuenta + \n",
    "           valor_prestamo_x_tiempo_empleo + \n",
    "           saldo_cuenta_x_tiempo_empleo + \n",
    "           autocontrol_x_impulsividad + \n",
    "           autocontrol_x_confianza + \n",
    "           impulsividad_x_confianza +\n",
    "           tiempo_empleo_x_impulsividad +\n",
    "           tiempo_empleo_x_confianza +\n",
    "           tiempo_empleo_x_autocontrol +\n",
    "           saldo_cuenta_x_impulsividad +\n",
    "           saldo_cuenta_x_confianza +\n",
    "           saldo_cuenta_x_autocontrol +\n",
    "           valor_prestamo_x_impulsividad +\n",
    "           valor_prestamo_x_confianza +\n",
    "           valor_prestamo_x_autocontrol +\n",
    "           cuentas_otros_x_impulsividad +\n",
    "           cuentas_otros_x_confianza +\n",
    "           cuentas_otros_x_autocontrol +\n",
    "            impulsividad_x_confianza_entre_cuentas_otros +\n",
    "            impulsividad_x_confianza_entre_tiempo_empleo+\n",
    "            autocontrol_x_confianza_entre_cuentas_otros\t+\n",
    "            autocontrol_x_confianza_entre_tiempo_empleo+\n",
    "            autocontrol_x_impulsividad_entre_cuentas_otros+\t\n",
    "            autocontrol_x_impulsividad_entre_tiempo_empleo+\n",
    "            cuentas_otros_x_valor_prestamo_entre_tiempo_empleo"
   ]
  },
  {
   "cell_type": "code",
   "execution_count": 22,
   "id": "dbc062ea-4c9d-4321-8da8-6689f010f28f",
   "metadata": {},
   "outputs": [],
   "source": [
    "model_log <- glm(formula, data=x_train,family = binomial())"
   ]
  },
  {
   "cell_type": "code",
   "execution_count": 23,
   "id": "f7e933c0-04ba-4604-bb22-0d1c847b76a5",
   "metadata": {},
   "outputs": [
    {
     "name": "stderr",
     "output_type": "stream",
     "text": [
      "Setting levels: control = 0, case = 1\n",
      "\n",
      "Setting direction: controls < cases\n",
      "\n"
     ]
    },
    {
     "data": {
      "text/html": [
       "<table class=\"dataframe\">\n",
       "<caption>A data.frame: 1 × 3</caption>\n",
       "<thead>\n",
       "\t<tr><th scope=col>variable</th><th scope=col>Gini</th><th scope=col>KS</th></tr>\n",
       "\t<tr><th scope=col>&lt;fct&gt;</th><th scope=col>&lt;dbl&gt;</th><th scope=col>&lt;dbl&gt;</th></tr>\n",
       "</thead>\n",
       "<tbody>\n",
       "\t<tr><td>logistico</td><td>2.54</td><td>2.19</td></tr>\n",
       "</tbody>\n",
       "</table>\n"
      ],
      "text/latex": [
       "A data.frame: 1 × 3\n",
       "\\begin{tabular}{lll}\n",
       " variable & Gini & KS\\\\\n",
       " <fct> & <dbl> & <dbl>\\\\\n",
       "\\hline\n",
       "\t logistico & 2.54 & 2.19\\\\\n",
       "\\end{tabular}\n"
      ],
      "text/markdown": [
       "\n",
       "A data.frame: 1 × 3\n",
       "\n",
       "| variable &lt;fct&gt; | Gini &lt;dbl&gt; | KS &lt;dbl&gt; |\n",
       "|---|---|---|\n",
       "| logistico | 2.54 | 2.19 |\n",
       "\n"
      ],
      "text/plain": [
       "  variable  Gini KS  \n",
       "1 logistico 2.54 2.19"
      ]
     },
     "metadata": {},
     "output_type": "display_data"
    }
   ],
   "source": [
    "# indicadores mediante la segunda funcion\n",
    "calcula_indicadores(model_log)"
   ]
  },
  {
   "cell_type": "code",
   "execution_count": 24,
   "id": "bddf87f7-724d-4423-a780-8944d94e445b",
   "metadata": {},
   "outputs": [
    {
     "data": {
      "text/plain": [
       "\n",
       "Call:\n",
       "glm(formula = formula, family = binomial(), data = x_train)\n",
       "\n",
       "Deviance Residuals: \n",
       "    Min       1Q   Median       3Q      Max  \n",
       "-0.6621  -0.5569  -0.5493  -0.5393   2.3286  \n",
       "\n",
       "Coefficients:\n",
       "                                                    Estimate Std. Error z value\n",
       "(Intercept)                                         -1.57377    0.48351  -3.255\n",
       "Empleado                                            -0.03077    0.05235  -0.588\n",
       "Tiempo_empleo                                        1.76827    1.18910   1.487\n",
       "Saldo_cuenta                                       -11.98101   13.85459  -0.865\n",
       "Valor_prestamo                                       0.24911    0.57362   0.434\n",
       "Cuentas_otros                                       -0.45494    0.77898  -0.584\n",
       "Autocontrol                                         -0.62491    0.80331  -0.778\n",
       "Impulsividad                                         0.36713    0.74646   0.492\n",
       "Confianza                                           -0.92610    0.81697  -1.134\n",
       "cuentas_otros_x_valor_prestamo                       0.02277    0.29827   0.076\n",
       "cuentas_otros_x_saldo_cuenta                        -0.61540    1.73148  -0.355\n",
       "cuentas_otros_x_tiempo_empleo                        0.13879    0.32379   0.429\n",
       "valor_prestamo_x_saldo_cuenta                        0.59021    4.60325   0.128\n",
       "valor_prestamo_x_tiempo_empleo                      -0.60901    0.41998  -1.450\n",
       "saldo_cuenta_x_tiempo_empleo                         2.01959    1.79402   1.126\n",
       "autocontrol_x_impulsividad                          -0.59802    0.84103  -0.711\n",
       "autocontrol_x_confianza                              1.28070    0.73956   1.732\n",
       "impulsividad_x_confianza                             0.02013    0.72351   0.028\n",
       "tiempo_empleo_x_impulsividad                        -0.51087    0.65889  -0.775\n",
       "tiempo_empleo_x_confianza                           -0.89160    0.71475  -1.247\n",
       "tiempo_empleo_x_autocontrol                          0.16011    0.90347   0.177\n",
       "saldo_cuenta_x_impulsividad                          7.80428    9.08071   0.859\n",
       "saldo_cuenta_x_confianza                             1.88424    9.42768   0.200\n",
       "saldo_cuenta_x_autocontrol                          -0.74469    6.39986  -0.116\n",
       "valor_prestamo_x_impulsividad                       -0.08129    0.42410  -0.192\n",
       "valor_prestamo_x_confianza                          -0.04307    0.49411  -0.087\n",
       "valor_prestamo_x_autocontrol                        -0.08852    0.46407  -0.191\n",
       "cuentas_otros_x_impulsividad                         0.12148    0.60585   0.201\n",
       "cuentas_otros_x_confianza                            0.88386    0.62036   1.425\n",
       "cuentas_otros_x_autocontrol                         -0.24058    0.53995  -0.446\n",
       "impulsividad_x_confianza_entre_cuentas_otros        -0.21437    0.29213  -0.734\n",
       "impulsividad_x_confianza_entre_tiempo_empleo         0.21603    0.48240   0.448\n",
       "autocontrol_x_confianza_entre_cuentas_otros          0.09808    0.29283   0.335\n",
       "autocontrol_x_confianza_entre_tiempo_empleo         -0.13494    0.47841  -0.282\n",
       "autocontrol_x_impulsividad_entre_cuentas_otros       0.08975    0.28951   0.310\n",
       "autocontrol_x_impulsividad_entre_tiempo_empleo       0.03730    0.49913   0.075\n",
       "cuentas_otros_x_valor_prestamo_entre_tiempo_empleo  -0.11903    0.37242  -0.320\n",
       "                                                   Pr(>|z|)   \n",
       "(Intercept)                                         0.00113 **\n",
       "Empleado                                            0.55671   \n",
       "Tiempo_empleo                                       0.13700   \n",
       "Saldo_cuenta                                        0.38717   \n",
       "Valor_prestamo                                      0.66409   \n",
       "Cuentas_otros                                       0.55921   \n",
       "Autocontrol                                         0.43662   \n",
       "Impulsividad                                        0.62284   \n",
       "Confianza                                           0.25697   \n",
       "cuentas_otros_x_valor_prestamo                      0.93915   \n",
       "cuentas_otros_x_saldo_cuenta                        0.72228   \n",
       "cuentas_otros_x_tiempo_empleo                       0.66818   \n",
       "valor_prestamo_x_saldo_cuenta                       0.89798   \n",
       "valor_prestamo_x_tiempo_empleo                      0.14704   \n",
       "saldo_cuenta_x_tiempo_empleo                        0.26028   \n",
       "autocontrol_x_impulsividad                          0.47705   \n",
       "autocontrol_x_confianza                             0.08332 . \n",
       "impulsividad_x_confianza                            0.97780   \n",
       "tiempo_empleo_x_impulsividad                        0.43813   \n",
       "tiempo_empleo_x_confianza                           0.21224   \n",
       "tiempo_empleo_x_autocontrol                         0.85934   \n",
       "saldo_cuenta_x_impulsividad                         0.39010   \n",
       "saldo_cuenta_x_confianza                            0.84159   \n",
       "saldo_cuenta_x_autocontrol                          0.90737   \n",
       "valor_prestamo_x_impulsividad                       0.84799   \n",
       "valor_prestamo_x_confianza                          0.93054   \n",
       "valor_prestamo_x_autocontrol                        0.84873   \n",
       "cuentas_otros_x_impulsividad                        0.84108   \n",
       "cuentas_otros_x_confianza                           0.15422   \n",
       "cuentas_otros_x_autocontrol                         0.65591   \n",
       "impulsividad_x_confianza_entre_cuentas_otros        0.46305   \n",
       "impulsividad_x_confianza_entre_tiempo_empleo        0.65428   \n",
       "autocontrol_x_confianza_entre_cuentas_otros         0.73767   \n",
       "autocontrol_x_confianza_entre_tiempo_empleo         0.77790   \n",
       "autocontrol_x_impulsividad_entre_cuentas_otros      0.75655   \n",
       "autocontrol_x_impulsividad_entre_tiempo_empleo      0.94043   \n",
       "cuentas_otros_x_valor_prestamo_entre_tiempo_empleo  0.74927   \n",
       "---\n",
       "Signif. codes:  0 '***' 0.001 '**' 0.01 '*' 0.05 '.' 0.1 ' ' 1\n",
       "\n",
       "(Dispersion parameter for binomial family taken to be 1)\n",
       "\n",
       "    Null deviance: 44219  on 54314  degrees of freedom\n",
       "Residual deviance: 44199  on 54278  degrees of freedom\n",
       "AIC: 44273\n",
       "\n",
       "Number of Fisher Scoring iterations: 4\n"
      ]
     },
     "metadata": {},
     "output_type": "display_data"
    }
   ],
   "source": [
    "summary(model_log)"
   ]
  },
  {
   "cell_type": "code",
   "execution_count": null,
   "id": "6adfabcc-edcc-41cd-bdc7-3f857c5405ad",
   "metadata": {},
   "outputs": [],
   "source": []
  },
  {
   "cell_type": "markdown",
   "id": "d00fec4e-a2b6-4345-be47-912d353c08c8",
   "metadata": {},
   "source": [
    "### MODELO SIN INTERCEPTO"
   ]
  },
  {
   "cell_type": "code",
   "execution_count": 25,
   "id": "89c8d788-589f-4c06-866b-0c1911f752b1",
   "metadata": {},
   "outputs": [],
   "source": [
    "formula_si <- Imcumplimiento ~ \n",
    "           Empleado + \n",
    "           Tiempo_empleo + \n",
    "           Saldo_cuenta + \n",
    "           Valor_prestamo + \n",
    "           Cuentas_otros + \n",
    "           Autocontrol + \n",
    "           Impulsividad + \n",
    "           Confianza + \n",
    "           cuentas_otros_x_valor_prestamo + \n",
    "           cuentas_otros_x_saldo_cuenta + \n",
    "           cuentas_otros_x_tiempo_empleo + \n",
    "           valor_prestamo_x_saldo_cuenta + \n",
    "           valor_prestamo_x_tiempo_empleo + \n",
    "           saldo_cuenta_x_tiempo_empleo + \n",
    "           autocontrol_x_impulsividad + \n",
    "           autocontrol_x_confianza + \n",
    "           impulsividad_x_confianza +\n",
    "           tiempo_empleo_x_impulsividad +\n",
    "           tiempo_empleo_x_confianza +\n",
    "           tiempo_empleo_x_autocontrol +\n",
    "           saldo_cuenta_x_impulsividad +\n",
    "           saldo_cuenta_x_confianza +\n",
    "           saldo_cuenta_x_autocontrol +\n",
    "           valor_prestamo_x_impulsividad +\n",
    "           valor_prestamo_x_confianza +\n",
    "           valor_prestamo_x_autocontrol +\n",
    "           cuentas_otros_x_impulsividad +\n",
    "           cuentas_otros_x_confianza +\n",
    "           cuentas_otros_x_autocontrol +\n",
    "            impulsividad_x_confianza_entre_cuentas_otros +\n",
    "            impulsividad_x_confianza_entre_tiempo_empleo+\n",
    "            autocontrol_x_confianza_entre_cuentas_otros\t+\n",
    "            autocontrol_x_confianza_entre_tiempo_empleo+\n",
    "            autocontrol_x_impulsividad_entre_cuentas_otros+\t\n",
    "            autocontrol_x_impulsividad_entre_tiempo_empleo+\n",
    "            cuentas_otros_x_valor_prestamo_entre_tiempo_empleo -1"
   ]
  },
  {
   "cell_type": "code",
   "execution_count": 26,
   "id": "369c935f-041e-40ab-8b41-e58b4623313a",
   "metadata": {},
   "outputs": [],
   "source": [
    "model_log_si <- glm(formula_si, data=x_train,family = binomial())"
   ]
  },
  {
   "cell_type": "code",
   "execution_count": 27,
   "id": "5899177a-7002-4bce-af83-a39bbf92a1cf",
   "metadata": {},
   "outputs": [
    {
     "name": "stderr",
     "output_type": "stream",
     "text": [
      "Setting levels: control = 0, case = 1\n",
      "\n",
      "Setting direction: controls < cases\n",
      "\n"
     ]
    },
    {
     "data": {
      "text/html": [
       "<table class=\"dataframe\">\n",
       "<caption>A data.frame: 1 × 3</caption>\n",
       "<thead>\n",
       "\t<tr><th scope=col>variable</th><th scope=col>Gini</th><th scope=col>KS</th></tr>\n",
       "\t<tr><th scope=col>&lt;fct&gt;</th><th scope=col>&lt;dbl&gt;</th><th scope=col>&lt;dbl&gt;</th></tr>\n",
       "</thead>\n",
       "<tbody>\n",
       "\t<tr><td>logistico</td><td>2.47</td><td>2.5</td></tr>\n",
       "</tbody>\n",
       "</table>\n"
      ],
      "text/latex": [
       "A data.frame: 1 × 3\n",
       "\\begin{tabular}{lll}\n",
       " variable & Gini & KS\\\\\n",
       " <fct> & <dbl> & <dbl>\\\\\n",
       "\\hline\n",
       "\t logistico & 2.47 & 2.5\\\\\n",
       "\\end{tabular}\n"
      ],
      "text/markdown": [
       "\n",
       "A data.frame: 1 × 3\n",
       "\n",
       "| variable &lt;fct&gt; | Gini &lt;dbl&gt; | KS &lt;dbl&gt; |\n",
       "|---|---|---|\n",
       "| logistico | 2.47 | 2.5 |\n",
       "\n"
      ],
      "text/plain": [
       "  variable  Gini KS \n",
       "1 logistico 2.47 2.5"
      ]
     },
     "metadata": {},
     "output_type": "display_data"
    }
   ],
   "source": [
    "calcula_indicadores(model_log_si)"
   ]
  },
  {
   "cell_type": "code",
   "execution_count": 28,
   "id": "c755fdaf-25b4-4dfc-8cc2-16f30edf5ce6",
   "metadata": {},
   "outputs": [
    {
     "data": {
      "text/plain": [
       "\n",
       "Call:\n",
       "glm(formula = formula_si, family = binomial(), data = x_train)\n",
       "\n",
       "Deviance Residuals: \n",
       "    Min       1Q   Median       3Q      Max  \n",
       "-0.7411  -0.5581  -0.5480  -0.5358   2.3319  \n",
       "\n",
       "Coefficients:\n",
       "                                                    Estimate Std. Error z value\n",
       "Empleado                                            -0.04425    0.05209  -0.850\n",
       "Tiempo_empleo                                        0.87186    1.13903   0.765\n",
       "Saldo_cuenta                                       -13.38454   13.67577  -0.979\n",
       "Valor_prestamo                                      -0.60554    0.50317  -1.203\n",
       "Cuentas_otros                                       -0.93382    0.75338  -1.240\n",
       "Autocontrol                                         -2.58941    0.53195  -4.868\n",
       "Impulsividad                                        -1.40852    0.51036  -2.760\n",
       "Confianza                                           -2.91033    0.54543  -5.336\n",
       "cuentas_otros_x_valor_prestamo                       0.07237    0.29787   0.243\n",
       "cuentas_otros_x_saldo_cuenta                        -0.60290    1.73486  -0.348\n",
       "cuentas_otros_x_tiempo_empleo                        0.16727    0.32332   0.517\n",
       "valor_prestamo_x_saldo_cuenta                        0.71526    4.60651   0.155\n",
       "valor_prestamo_x_tiempo_empleo                      -0.49137    0.41841  -1.174\n",
       "saldo_cuenta_x_tiempo_empleo                         2.07993    1.79264   1.160\n",
       "autocontrol_x_impulsividad                           0.63577    0.75500   0.842\n",
       "autocontrol_x_confianza                              2.42464    0.65380   3.709\n",
       "impulsividad_x_confianza                             1.08616    0.64899   1.674\n",
       "tiempo_empleo_x_impulsividad                        -0.26749    0.65449  -0.409\n",
       "tiempo_empleo_x_confianza                           -0.59106    0.70885  -0.834\n",
       "tiempo_empleo_x_autocontrol                          0.52310    0.89636   0.584\n",
       "saldo_cuenta_x_impulsividad                          8.23182    9.08904   0.906\n",
       "saldo_cuenta_x_confianza                             2.43132    9.47665   0.257\n",
       "saldo_cuenta_x_autocontrol                          -0.42680    6.39589  -0.067\n",
       "valor_prestamo_x_impulsividad                        0.24198    0.41262   0.586\n",
       "valor_prestamo_x_confianza                           0.37772    0.47748   0.791\n",
       "valor_prestamo_x_autocontrol                         0.31929    0.44726   0.714\n",
       "cuentas_otros_x_impulsividad                         0.31474    0.60325   0.522\n",
       "cuentas_otros_x_confianza                            1.09429    0.61754   1.772\n",
       "cuentas_otros_x_autocontrol                         -0.08230    0.53847  -0.153\n",
       "impulsividad_x_confianza_entre_cuentas_otros        -0.22446    0.29434  -0.763\n",
       "impulsividad_x_confianza_entre_tiempo_empleo         0.21263    0.48538   0.438\n",
       "autocontrol_x_confianza_entre_cuentas_otros          0.10144    0.29497   0.344\n",
       "autocontrol_x_confianza_entre_tiempo_empleo         -0.12113    0.48111  -0.252\n",
       "autocontrol_x_impulsividad_entre_cuentas_otros       0.09493    0.29166   0.325\n",
       "autocontrol_x_impulsividad_entre_tiempo_empleo       0.05085    0.50228   0.101\n",
       "cuentas_otros_x_valor_prestamo_entre_tiempo_empleo  -0.11062    0.37222  -0.297\n",
       "                                                   Pr(>|z|)    \n",
       "Empleado                                           0.395559    \n",
       "Tiempo_empleo                                      0.444008    \n",
       "Saldo_cuenta                                       0.327726    \n",
       "Valor_prestamo                                     0.228797    \n",
       "Cuentas_otros                                      0.215159    \n",
       "Autocontrol                                        1.13e-06 ***\n",
       "Impulsividad                                       0.005783 ** \n",
       "Confianza                                          9.51e-08 ***\n",
       "cuentas_otros_x_valor_prestamo                     0.808042    \n",
       "cuentas_otros_x_saldo_cuenta                       0.728202    \n",
       "cuentas_otros_x_tiempo_empleo                      0.604901    \n",
       "valor_prestamo_x_saldo_cuenta                      0.876608    \n",
       "valor_prestamo_x_tiempo_empleo                     0.240249    \n",
       "saldo_cuenta_x_tiempo_empleo                       0.245942    \n",
       "autocontrol_x_impulsividad                         0.399743    \n",
       "autocontrol_x_confianza                            0.000208 ***\n",
       "impulsividad_x_confianza                           0.094207 .  \n",
       "tiempo_empleo_x_impulsividad                       0.682764    \n",
       "tiempo_empleo_x_confianza                          0.404379    \n",
       "tiempo_empleo_x_autocontrol                        0.559502    \n",
       "saldo_cuenta_x_impulsividad                        0.365102    \n",
       "saldo_cuenta_x_confianza                           0.797519    \n",
       "saldo_cuenta_x_autocontrol                         0.946796    \n",
       "valor_prestamo_x_impulsividad                      0.557580    \n",
       "valor_prestamo_x_confianza                         0.428897    \n",
       "valor_prestamo_x_autocontrol                       0.475305    \n",
       "cuentas_otros_x_impulsividad                       0.601851    \n",
       "cuentas_otros_x_confianza                          0.076391 .  \n",
       "cuentas_otros_x_autocontrol                        0.878519    \n",
       "impulsividad_x_confianza_entre_cuentas_otros       0.445707    \n",
       "impulsividad_x_confianza_entre_tiempo_empleo       0.661334    \n",
       "autocontrol_x_confianza_entre_cuentas_otros        0.730915    \n",
       "autocontrol_x_confianza_entre_tiempo_empleo        0.801215    \n",
       "autocontrol_x_impulsividad_entre_cuentas_otros     0.744821    \n",
       "autocontrol_x_impulsividad_entre_tiempo_empleo     0.919356    \n",
       "cuentas_otros_x_valor_prestamo_entre_tiempo_empleo 0.766322    \n",
       "---\n",
       "Signif. codes:  0 '***' 0.001 '**' 0.01 '*' 0.05 '.' 0.1 ' ' 1\n",
       "\n",
       "(Dispersion parameter for binomial family taken to be 1)\n",
       "\n",
       "    Null deviance: 75297  on 54315  degrees of freedom\n",
       "Residual deviance: 44209  on 54279  degrees of freedom\n",
       "AIC: 44281\n",
       "\n",
       "Number of Fisher Scoring iterations: 4\n"
      ]
     },
     "metadata": {},
     "output_type": "display_data"
    }
   ],
   "source": [
    "summary(model_log_si)"
   ]
  },
  {
   "cell_type": "code",
   "execution_count": null,
   "id": "49d8240b-4f8c-45b1-834c-d6ac50ee7fe8",
   "metadata": {},
   "outputs": [],
   "source": []
  },
  {
   "cell_type": "code",
   "execution_count": 29,
   "id": "52642550-b1bd-4088-8b68-8e34abfb9f44",
   "metadata": {},
   "outputs": [],
   "source": [
    "formula_si_2 <- Imcumplimiento ~ \n",
    "           Autocontrol + \n",
    "           Impulsividad + \n",
    "           Confianza + \n",
    "           autocontrol_x_confianza +         \n",
    "           autocontrol_x_confianza -1\n"
   ]
  },
  {
   "cell_type": "code",
   "execution_count": 30,
   "id": "2f91fdf0-8a88-4906-9f9f-5510ed3cf5b1",
   "metadata": {},
   "outputs": [],
   "source": [
    "model_log_si_2 <- glm(formula_si_2, data=x_train,family = binomial())"
   ]
  },
  {
   "cell_type": "code",
   "execution_count": 31,
   "id": "cfaafa71-0768-4b01-9986-df747c451c12",
   "metadata": {},
   "outputs": [
    {
     "name": "stderr",
     "output_type": "stream",
     "text": [
      "Warning message in ks.test(x = objeto_logit$fitted.values[which(objeto_logit$y == :\n",
      "\"p-value will be approximate in the presence of ties\"\n",
      "Setting levels: control = 0, case = 1\n",
      "\n",
      "Setting direction: controls < cases\n",
      "\n"
     ]
    },
    {
     "data": {
      "text/html": [
       "<table class=\"dataframe\">\n",
       "<caption>A data.frame: 1 × 3</caption>\n",
       "<thead>\n",
       "\t<tr><th scope=col>variable</th><th scope=col>Gini</th><th scope=col>KS</th></tr>\n",
       "\t<tr><th scope=col>&lt;fct&gt;</th><th scope=col>&lt;dbl&gt;</th><th scope=col>&lt;dbl&gt;</th></tr>\n",
       "</thead>\n",
       "<tbody>\n",
       "\t<tr><td>logistico</td><td>1.39</td><td>1.25</td></tr>\n",
       "</tbody>\n",
       "</table>\n"
      ],
      "text/latex": [
       "A data.frame: 1 × 3\n",
       "\\begin{tabular}{lll}\n",
       " variable & Gini & KS\\\\\n",
       " <fct> & <dbl> & <dbl>\\\\\n",
       "\\hline\n",
       "\t logistico & 1.39 & 1.25\\\\\n",
       "\\end{tabular}\n"
      ],
      "text/markdown": [
       "\n",
       "A data.frame: 1 × 3\n",
       "\n",
       "| variable &lt;fct&gt; | Gini &lt;dbl&gt; | KS &lt;dbl&gt; |\n",
       "|---|---|---|\n",
       "| logistico | 1.39 | 1.25 |\n",
       "\n"
      ],
      "text/plain": [
       "  variable  Gini KS  \n",
       "1 logistico 1.39 1.25"
      ]
     },
     "metadata": {},
     "output_type": "display_data"
    }
   ],
   "source": [
    "calcula_indicadores(model_log_si_2)"
   ]
  },
  {
   "cell_type": "code",
   "execution_count": 32,
   "id": "43fcf840-d4ba-4670-8527-4f49ef0cb04f",
   "metadata": {},
   "outputs": [
    {
     "data": {
      "text/plain": [
       "\n",
       "Call:\n",
       "glm(formula = formula_si_2, family = binomial(), data = x_train)\n",
       "\n",
       "Deviance Residuals: \n",
       "    Min       1Q   Median       3Q      Max  \n",
       "-0.8956  -0.5588  -0.5484  -0.5321   2.1925  \n",
       "\n",
       "Coefficients:\n",
       "                        Estimate Std. Error z value Pr(>|z|)    \n",
       "Autocontrol             -3.66512    0.15024 -24.395   <2e-16 ***\n",
       "Impulsividad            -0.17106    0.09651  -1.772   0.0763 .  \n",
       "Confianza               -3.60555    0.15030 -23.989   <2e-16 ***\n",
       "autocontrol_x_confianza  4.75960    0.24521  19.410   <2e-16 ***\n",
       "---\n",
       "Signif. codes:  0 '***' 0.001 '**' 0.01 '*' 0.05 '.' 0.1 ' ' 1\n",
       "\n",
       "(Dispersion parameter for binomial family taken to be 1)\n",
       "\n",
       "    Null deviance: 75297  on 54315  degrees of freedom\n",
       "Residual deviance: 44241  on 54311  degrees of freedom\n",
       "AIC: 44249\n",
       "\n",
       "Number of Fisher Scoring iterations: 4\n"
      ]
     },
     "metadata": {},
     "output_type": "display_data"
    }
   ],
   "source": [
    "summary(model_log_si_2)"
   ]
  },
  {
   "cell_type": "code",
   "execution_count": null,
   "id": "80166aee-1537-4f25-8ffa-2a3cc2881d09",
   "metadata": {},
   "outputs": [],
   "source": []
  },
  {
   "cell_type": "code",
   "execution_count": null,
   "id": "61af1ac6-9a64-421e-bd5e-e007853d11d1",
   "metadata": {},
   "outputs": [],
   "source": []
  }
 ],
 "metadata": {
  "kernelspec": {
   "display_name": "R",
   "language": "R",
   "name": "ir"
  },
  "language_info": {
   "codemirror_mode": "r",
   "file_extension": ".r",
   "mimetype": "text/x-r-source",
   "name": "R",
   "pygments_lexer": "r",
   "version": "3.6.1"
  }
 },
 "nbformat": 4,
 "nbformat_minor": 5
}
