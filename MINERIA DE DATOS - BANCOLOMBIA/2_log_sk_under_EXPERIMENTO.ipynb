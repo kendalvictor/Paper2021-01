{
 "cells": [
  {
   "cell_type": "code",
   "execution_count": 1,
   "id": "42ae479b-e86e-4735-837e-f6d147e99b12",
   "metadata": {},
   "outputs": [],
   "source": [
    "# Nativos\n",
    "import random as rn\n",
    "import os\n",
    "import sys\n",
    "import gc\n",
    "\n",
    "#calculo\n",
    "import numpy as np\n",
    "import pandas as pd\n",
    "import scipy\n",
    "\n",
    "import pandas as pd\n",
    "import scorecardpy as sc\n",
    "\n",
    "SEED = 29082013\n",
    "os.environ['PYTHONHASHSEED']=str(SEED)\n",
    "np.random.seed(SEED)\n",
    "rn.seed(SEED)"
   ]
  },
  {
   "cell_type": "markdown",
   "id": "a5b7e3dc-72c1-48ed-93e3-b1a60ef3d6fe",
   "metadata": {},
   "source": [
    "### Utilitarios"
   ]
  },
  {
   "cell_type": "code",
   "execution_count": 2,
   "id": "49174cde-09c6-4267-bcb1-e28210a06921",
   "metadata": {},
   "outputs": [],
   "source": [
    "def calcular_pesos(modelo):\n",
    "    coef_model = pd.DataFrame(modelo.tvalues, columns=['t_value'])\n",
    "    coef_model['t_value2'] = np.power(coef_model['t_value'],2)\n",
    "    coef_model['total'] = sum(coef_model['t_value2'])\n",
    "    coef_model['part'] = coef_model['t_value2'] / coef_model['total']\n",
    "    coef_model['pesos'] = coef_model['part'] * 100\n",
    "    return coef_model['pesos'].sort_values(ascending=True)"
   ]
  },
  {
   "cell_type": "code",
   "execution_count": 3,
   "id": "801bea8d-50a7-4a50-af9b-6fe3c56e0ef3",
   "metadata": {},
   "outputs": [
    {
     "data": {
      "text/plain": [
       "((51120, 60), (12781, 60), (51120, 1), (12781, 1))"
      ]
     },
     "execution_count": 3,
     "metadata": {},
     "output_type": "execute_result"
    }
   ],
   "source": [
    "x_train = pd.read_csv(\"X_train.csv\")\n",
    "x_valid = pd.read_csv(\"X_valid.csv\")\n",
    "\n",
    "y_train = pd.read_csv(\"y_train.csv\")\n",
    "y_valid = pd.read_csv(\"y_valid.csv\")\n",
    "\n",
    "x_train.shape, x_valid.shape, y_train.shape, y_valid.shape"
   ]
  },
  {
   "cell_type": "code",
   "execution_count": null,
   "id": "813eef17-49d7-472a-b487-726087e4f1c3",
   "metadata": {},
   "outputs": [],
   "source": []
  },
  {
   "cell_type": "markdown",
   "id": "7b5a3e62-7c46-4189-b4d5-467a76f6c52a",
   "metadata": {},
   "source": [
    "### >> Modleo mayor p-value"
   ]
  },
  {
   "cell_type": "code",
   "execution_count": 4,
   "id": "17fad8f0-8b9f-4d08-a450-99d7e418352b",
   "metadata": {},
   "outputs": [],
   "source": [
    "cols_aporte = [\n",
    " 'Empleado',\n",
    " 'Saldo_cuenta',\n",
    " 'Valor_prestamo',\n",
    " 'Autocontrol',\n",
    " 'Impulsividad',\n",
    " 'Confianza' \n",
    "]"
   ]
  },
  {
   "cell_type": "code",
   "execution_count": 5,
   "id": "d21cc8f4-e2a7-487a-820d-055eeae6fde0",
   "metadata": {},
   "outputs": [
    {
     "data": {
      "text/html": [
       "<style  type=\"text/css\" >\n",
       "#T_71b79_row0_col0,#T_71b79_row1_col1,#T_71b79_row2_col2,#T_71b79_row3_col3,#T_71b79_row4_col4,#T_71b79_row5_col5,#T_71b79_row6_col6{\n",
       "            background-color:  #b40426;\n",
       "            color:  #f1f1f1;\n",
       "        }#T_71b79_row0_col1,#T_71b79_row0_col5,#T_71b79_row1_col0,#T_71b79_row2_col5,#T_71b79_row5_col0,#T_71b79_row5_col2,#T_71b79_row5_col6,#T_71b79_row6_col5{\n",
       "            background-color:  #3d50c3;\n",
       "            color:  #f1f1f1;\n",
       "        }#T_71b79_row0_col2,#T_71b79_row0_col4,#T_71b79_row1_col5,#T_71b79_row1_col6,#T_71b79_row2_col0,#T_71b79_row3_col6,#T_71b79_row4_col0,#T_71b79_row4_col5,#T_71b79_row5_col1,#T_71b79_row5_col4,#T_71b79_row6_col1,#T_71b79_row6_col3{\n",
       "            background-color:  #3b4cc0;\n",
       "            color:  #f1f1f1;\n",
       "        }#T_71b79_row0_col3,#T_71b79_row1_col4,#T_71b79_row3_col0,#T_71b79_row3_col4,#T_71b79_row3_col5,#T_71b79_row4_col1,#T_71b79_row4_col3,#T_71b79_row5_col3{\n",
       "            background-color:  #3e51c5;\n",
       "            color:  #f1f1f1;\n",
       "        }#T_71b79_row0_col6,#T_71b79_row1_col2,#T_71b79_row1_col3,#T_71b79_row2_col1,#T_71b79_row2_col4,#T_71b79_row2_col6,#T_71b79_row3_col1,#T_71b79_row4_col2,#T_71b79_row4_col6,#T_71b79_row6_col0,#T_71b79_row6_col2,#T_71b79_row6_col4{\n",
       "            background-color:  #3c4ec2;\n",
       "            color:  #f1f1f1;\n",
       "        }#T_71b79_row2_col3,#T_71b79_row3_col2{\n",
       "            background-color:  #3f53c6;\n",
       "            color:  #f1f1f1;\n",
       "        }</style><table id=\"T_71b79_\" ><thead>    <tr>        <th class=\"blank level0\" ></th>        <th class=\"col_heading level0 col0\" >Empleado</th>        <th class=\"col_heading level0 col1\" >Saldo_cuenta</th>        <th class=\"col_heading level0 col2\" >Valor_prestamo</th>        <th class=\"col_heading level0 col3\" >Autocontrol</th>        <th class=\"col_heading level0 col4\" >Impulsividad</th>        <th class=\"col_heading level0 col5\" >Confianza</th>        <th class=\"col_heading level0 col6\" >target</th>    </tr></thead><tbody>\n",
       "                <tr>\n",
       "                        <th id=\"T_71b79_level0_row0\" class=\"row_heading level0 row0\" >Empleado</th>\n",
       "                        <td id=\"T_71b79_row0_col0\" class=\"data row0 col0\" >1.00000</td>\n",
       "                        <td id=\"T_71b79_row0_col1\" class=\"data row0 col1\" >0.00228</td>\n",
       "                        <td id=\"T_71b79_row0_col2\" class=\"data row0 col2\" >-0.00777</td>\n",
       "                        <td id=\"T_71b79_row0_col3\" class=\"data row0 col3\" >0.00654</td>\n",
       "                        <td id=\"T_71b79_row0_col4\" class=\"data row0 col4\" >-0.00507</td>\n",
       "                        <td id=\"T_71b79_row0_col5\" class=\"data row0 col5\" >0.00307</td>\n",
       "                        <td id=\"T_71b79_row0_col6\" class=\"data row0 col6\" >-0.00068</td>\n",
       "            </tr>\n",
       "            <tr>\n",
       "                        <th id=\"T_71b79_level0_row1\" class=\"row_heading level0 row1\" >Saldo_cuenta</th>\n",
       "                        <td id=\"T_71b79_row1_col0\" class=\"data row1 col0\" >0.00228</td>\n",
       "                        <td id=\"T_71b79_row1_col1\" class=\"data row1 col1\" >1.00000</td>\n",
       "                        <td id=\"T_71b79_row1_col2\" class=\"data row1 col2\" >-0.00130</td>\n",
       "                        <td id=\"T_71b79_row1_col3\" class=\"data row1 col3\" >-0.00113</td>\n",
       "                        <td id=\"T_71b79_row1_col4\" class=\"data row1 col4\" >0.00471</td>\n",
       "                        <td id=\"T_71b79_row1_col5\" class=\"data row1 col5\" >-0.00429</td>\n",
       "                        <td id=\"T_71b79_row1_col6\" class=\"data row1 col6\" >-0.00690</td>\n",
       "            </tr>\n",
       "            <tr>\n",
       "                        <th id=\"T_71b79_level0_row2\" class=\"row_heading level0 row2\" >Valor_prestamo</th>\n",
       "                        <td id=\"T_71b79_row2_col0\" class=\"data row2 col0\" >-0.00777</td>\n",
       "                        <td id=\"T_71b79_row2_col1\" class=\"data row2 col1\" >-0.00130</td>\n",
       "                        <td id=\"T_71b79_row2_col2\" class=\"data row2 col2\" >1.00000</td>\n",
       "                        <td id=\"T_71b79_row2_col3\" class=\"data row2 col3\" >0.00992</td>\n",
       "                        <td id=\"T_71b79_row2_col4\" class=\"data row2 col4\" >-0.00262</td>\n",
       "                        <td id=\"T_71b79_row2_col5\" class=\"data row2 col5\" >0.00102</td>\n",
       "                        <td id=\"T_71b79_row2_col6\" class=\"data row2 col6\" >-0.00211</td>\n",
       "            </tr>\n",
       "            <tr>\n",
       "                        <th id=\"T_71b79_level0_row3\" class=\"row_heading level0 row3\" >Autocontrol</th>\n",
       "                        <td id=\"T_71b79_row3_col0\" class=\"data row3 col0\" >0.00654</td>\n",
       "                        <td id=\"T_71b79_row3_col1\" class=\"data row3 col1\" >-0.00113</td>\n",
       "                        <td id=\"T_71b79_row3_col2\" class=\"data row3 col2\" >0.00992</td>\n",
       "                        <td id=\"T_71b79_row3_col3\" class=\"data row3 col3\" >1.00000</td>\n",
       "                        <td id=\"T_71b79_row3_col4\" class=\"data row3 col4\" >0.00412</td>\n",
       "                        <td id=\"T_71b79_row3_col5\" class=\"data row3 col5\" >0.00735</td>\n",
       "                        <td id=\"T_71b79_row3_col6\" class=\"data row3 col6\" >-0.00478</td>\n",
       "            </tr>\n",
       "            <tr>\n",
       "                        <th id=\"T_71b79_level0_row4\" class=\"row_heading level0 row4\" >Impulsividad</th>\n",
       "                        <td id=\"T_71b79_row4_col0\" class=\"data row4 col0\" >-0.00507</td>\n",
       "                        <td id=\"T_71b79_row4_col1\" class=\"data row4 col1\" >0.00471</td>\n",
       "                        <td id=\"T_71b79_row4_col2\" class=\"data row4 col2\" >-0.00262</td>\n",
       "                        <td id=\"T_71b79_row4_col3\" class=\"data row4 col3\" >0.00412</td>\n",
       "                        <td id=\"T_71b79_row4_col4\" class=\"data row4 col4\" >1.00000</td>\n",
       "                        <td id=\"T_71b79_row4_col5\" class=\"data row4 col5\" >-0.00452</td>\n",
       "                        <td id=\"T_71b79_row4_col6\" class=\"data row4 col6\" >-0.00201</td>\n",
       "            </tr>\n",
       "            <tr>\n",
       "                        <th id=\"T_71b79_level0_row5\" class=\"row_heading level0 row5\" >Confianza</th>\n",
       "                        <td id=\"T_71b79_row5_col0\" class=\"data row5 col0\" >0.00307</td>\n",
       "                        <td id=\"T_71b79_row5_col1\" class=\"data row5 col1\" >-0.00429</td>\n",
       "                        <td id=\"T_71b79_row5_col2\" class=\"data row5 col2\" >0.00102</td>\n",
       "                        <td id=\"T_71b79_row5_col3\" class=\"data row5 col3\" >0.00735</td>\n",
       "                        <td id=\"T_71b79_row5_col4\" class=\"data row5 col4\" >-0.00452</td>\n",
       "                        <td id=\"T_71b79_row5_col5\" class=\"data row5 col5\" >1.00000</td>\n",
       "                        <td id=\"T_71b79_row5_col6\" class=\"data row5 col6\" >0.00093</td>\n",
       "            </tr>\n",
       "            <tr>\n",
       "                        <th id=\"T_71b79_level0_row6\" class=\"row_heading level0 row6\" >target</th>\n",
       "                        <td id=\"T_71b79_row6_col0\" class=\"data row6 col0\" >-0.00068</td>\n",
       "                        <td id=\"T_71b79_row6_col1\" class=\"data row6 col1\" >-0.00690</td>\n",
       "                        <td id=\"T_71b79_row6_col2\" class=\"data row6 col2\" >-0.00211</td>\n",
       "                        <td id=\"T_71b79_row6_col3\" class=\"data row6 col3\" >-0.00478</td>\n",
       "                        <td id=\"T_71b79_row6_col4\" class=\"data row6 col4\" >-0.00201</td>\n",
       "                        <td id=\"T_71b79_row6_col5\" class=\"data row6 col5\" >0.00093</td>\n",
       "                        <td id=\"T_71b79_row6_col6\" class=\"data row6 col6\" >1.00000</td>\n",
       "            </tr>\n",
       "    </tbody></table>"
      ],
      "text/plain": [
       "<pandas.io.formats.style.Styler at 0x1bd8cf18fd0>"
      ]
     },
     "execution_count": 5,
     "metadata": {},
     "output_type": "execute_result"
    }
   ],
   "source": [
    "x_train['target'] = y_train.values\n",
    "matriz_corr = x_train[cols_aporte + ['target']].corr(method='pearson')\n",
    "\n",
    "matriz_corr.style.background_gradient(\n",
    "    cmap='coolwarm', axis=None\n",
    ").set_precision(5)"
   ]
  },
  {
   "cell_type": "code",
   "execution_count": 6,
   "id": "e288e8dc-164d-4b4d-b9ba-5ba5e1c46cf1",
   "metadata": {},
   "outputs": [
    {
     "data": {
      "text/html": [
       "<style  type=\"text/css\" >\n",
       "#T_f4117_row0_col0{\n",
       "            background-color:  #b40426;\n",
       "            color:  #f1f1f1;\n",
       "        }#T_f4117_row1_col0,#T_f4117_row2_col0{\n",
       "            background-color:  #3c4ec2;\n",
       "            color:  #f1f1f1;\n",
       "        }#T_f4117_row3_col0,#T_f4117_row4_col0,#T_f4117_row5_col0,#T_f4117_row6_col0{\n",
       "            background-color:  #3b4cc0;\n",
       "            color:  #f1f1f1;\n",
       "        }</style><table id=\"T_f4117_\" ><thead>    <tr>        <th class=\"blank level0\" ></th>        <th class=\"col_heading level0 col0\" >target</th>    </tr></thead><tbody>\n",
       "                <tr>\n",
       "                        <th id=\"T_f4117_level0_row0\" class=\"row_heading level0 row0\" >target</th>\n",
       "                        <td id=\"T_f4117_row0_col0\" class=\"data row0 col0\" >1.00000</td>\n",
       "            </tr>\n",
       "            <tr>\n",
       "                        <th id=\"T_f4117_level0_row1\" class=\"row_heading level0 row1\" >Saldo_cuenta</th>\n",
       "                        <td id=\"T_f4117_row1_col0\" class=\"data row1 col0\" >0.00690</td>\n",
       "            </tr>\n",
       "            <tr>\n",
       "                        <th id=\"T_f4117_level0_row2\" class=\"row_heading level0 row2\" >Autocontrol</th>\n",
       "                        <td id=\"T_f4117_row2_col0\" class=\"data row2 col0\" >0.00478</td>\n",
       "            </tr>\n",
       "            <tr>\n",
       "                        <th id=\"T_f4117_level0_row3\" class=\"row_heading level0 row3\" >Valor_prestamo</th>\n",
       "                        <td id=\"T_f4117_row3_col0\" class=\"data row3 col0\" >0.00211</td>\n",
       "            </tr>\n",
       "            <tr>\n",
       "                        <th id=\"T_f4117_level0_row4\" class=\"row_heading level0 row4\" >Impulsividad</th>\n",
       "                        <td id=\"T_f4117_row4_col0\" class=\"data row4 col0\" >0.00201</td>\n",
       "            </tr>\n",
       "            <tr>\n",
       "                        <th id=\"T_f4117_level0_row5\" class=\"row_heading level0 row5\" >Confianza</th>\n",
       "                        <td id=\"T_f4117_row5_col0\" class=\"data row5 col0\" >0.00093</td>\n",
       "            </tr>\n",
       "            <tr>\n",
       "                        <th id=\"T_f4117_level0_row6\" class=\"row_heading level0 row6\" >Empleado</th>\n",
       "                        <td id=\"T_f4117_row6_col0\" class=\"data row6 col0\" >0.00068</td>\n",
       "            </tr>\n",
       "    </tbody></table>"
      ],
      "text/plain": [
       "<pandas.io.formats.style.Styler at 0x1bdd3269c40>"
      ]
     },
     "execution_count": 6,
     "metadata": {},
     "output_type": "execute_result"
    }
   ],
   "source": [
    "pd.DataFrame(matriz_corr['target'].abs().sort_values(ascending=False)).style.background_gradient(\n",
    "    cmap='coolwarm', axis=None\n",
    ").set_precision(5)"
   ]
  },
  {
   "cell_type": "code",
   "execution_count": 7,
   "id": "f18fd809-066e-4a39-99b9-d3e7bf92b239",
   "metadata": {},
   "outputs": [
    {
     "data": {
      "text/html": [
       "<style  type=\"text/css\" >\n",
       "#T_6e3bd_row0_col0,#T_6e3bd_row1_col1,#T_6e3bd_row2_col2,#T_6e3bd_row3_col3,#T_6e3bd_row4_col4,#T_6e3bd_row5_col5,#T_6e3bd_row6_col6{\n",
       "            background-color:  #b40426;\n",
       "            color:  #f1f1f1;\n",
       "        }#T_6e3bd_row0_col1,#T_6e3bd_row0_col5,#T_6e3bd_row1_col0,#T_6e3bd_row1_col2,#T_6e3bd_row1_col4,#T_6e3bd_row2_col1,#T_6e3bd_row2_col5,#T_6e3bd_row4_col1,#T_6e3bd_row5_col0,#T_6e3bd_row5_col2,#T_6e3bd_row5_col6,#T_6e3bd_row6_col5{\n",
       "            background-color:  #3d50c3;\n",
       "            color:  #f1f1f1;\n",
       "        }#T_6e3bd_row0_col2,#T_6e3bd_row0_col4,#T_6e3bd_row1_col5,#T_6e3bd_row1_col6,#T_6e3bd_row2_col0,#T_6e3bd_row2_col6,#T_6e3bd_row3_col6,#T_6e3bd_row4_col0,#T_6e3bd_row5_col1,#T_6e3bd_row6_col1,#T_6e3bd_row6_col2,#T_6e3bd_row6_col3{\n",
       "            background-color:  #3b4cc0;\n",
       "            color:  #f1f1f1;\n",
       "        }#T_6e3bd_row0_col3,#T_6e3bd_row3_col0,#T_6e3bd_row3_col4,#T_6e3bd_row3_col5,#T_6e3bd_row4_col3,#T_6e3bd_row5_col3{\n",
       "            background-color:  #3e51c5;\n",
       "            color:  #f1f1f1;\n",
       "        }#T_6e3bd_row0_col6,#T_6e3bd_row1_col3,#T_6e3bd_row2_col4,#T_6e3bd_row3_col1,#T_6e3bd_row4_col2,#T_6e3bd_row4_col5,#T_6e3bd_row4_col6,#T_6e3bd_row5_col4,#T_6e3bd_row6_col0,#T_6e3bd_row6_col4{\n",
       "            background-color:  #3c4ec2;\n",
       "            color:  #f1f1f1;\n",
       "        }#T_6e3bd_row2_col3,#T_6e3bd_row3_col2{\n",
       "            background-color:  #3f53c6;\n",
       "            color:  #f1f1f1;\n",
       "        }</style><table id=\"T_6e3bd_\" ><thead>    <tr>        <th class=\"blank level0\" ></th>        <th class=\"col_heading level0 col0\" >Empleado</th>        <th class=\"col_heading level0 col1\" >Saldo_cuenta</th>        <th class=\"col_heading level0 col2\" >Valor_prestamo</th>        <th class=\"col_heading level0 col3\" >Autocontrol</th>        <th class=\"col_heading level0 col4\" >Impulsividad</th>        <th class=\"col_heading level0 col5\" >Confianza</th>        <th class=\"col_heading level0 col6\" >target</th>    </tr></thead><tbody>\n",
       "                <tr>\n",
       "                        <th id=\"T_6e3bd_level0_row0\" class=\"row_heading level0 row0\" >Empleado</th>\n",
       "                        <td id=\"T_6e3bd_row0_col0\" class=\"data row0 col0\" >1.00000</td>\n",
       "                        <td id=\"T_6e3bd_row0_col1\" class=\"data row0 col1\" >0.00248</td>\n",
       "                        <td id=\"T_6e3bd_row0_col2\" class=\"data row0 col2\" >-0.00547</td>\n",
       "                        <td id=\"T_6e3bd_row0_col3\" class=\"data row0 col3\" >0.00558</td>\n",
       "                        <td id=\"T_6e3bd_row0_col4\" class=\"data row0 col4\" >-0.00528</td>\n",
       "                        <td id=\"T_6e3bd_row0_col5\" class=\"data row0 col5\" >0.00263</td>\n",
       "                        <td id=\"T_6e3bd_row0_col6\" class=\"data row0 col6\" >-0.00068</td>\n",
       "            </tr>\n",
       "            <tr>\n",
       "                        <th id=\"T_6e3bd_level0_row1\" class=\"row_heading level0 row1\" >Saldo_cuenta</th>\n",
       "                        <td id=\"T_6e3bd_row1_col0\" class=\"data row1 col0\" >0.00248</td>\n",
       "                        <td id=\"T_6e3bd_row1_col1\" class=\"data row1 col1\" >1.00000</td>\n",
       "                        <td id=\"T_6e3bd_row1_col2\" class=\"data row1 col2\" >0.00325</td>\n",
       "                        <td id=\"T_6e3bd_row1_col3\" class=\"data row1 col3\" >-0.00083</td>\n",
       "                        <td id=\"T_6e3bd_row1_col4\" class=\"data row1 col4\" >0.00214</td>\n",
       "                        <td id=\"T_6e3bd_row1_col5\" class=\"data row1 col5\" >-0.00655</td>\n",
       "                        <td id=\"T_6e3bd_row1_col6\" class=\"data row1 col6\" >-0.00791</td>\n",
       "            </tr>\n",
       "            <tr>\n",
       "                        <th id=\"T_6e3bd_level0_row2\" class=\"row_heading level0 row2\" >Valor_prestamo</th>\n",
       "                        <td id=\"T_6e3bd_row2_col0\" class=\"data row2 col0\" >-0.00547</td>\n",
       "                        <td id=\"T_6e3bd_row2_col1\" class=\"data row2 col1\" >0.00325</td>\n",
       "                        <td id=\"T_6e3bd_row2_col2\" class=\"data row2 col2\" >1.00000</td>\n",
       "                        <td id=\"T_6e3bd_row2_col3\" class=\"data row2 col3\" >0.00950</td>\n",
       "                        <td id=\"T_6e3bd_row2_col4\" class=\"data row2 col4\" >-0.00224</td>\n",
       "                        <td id=\"T_6e3bd_row2_col5\" class=\"data row2 col5\" >0.00085</td>\n",
       "                        <td id=\"T_6e3bd_row2_col6\" class=\"data row2 col6\" >-0.00436</td>\n",
       "            </tr>\n",
       "            <tr>\n",
       "                        <th id=\"T_6e3bd_level0_row3\" class=\"row_heading level0 row3\" >Autocontrol</th>\n",
       "                        <td id=\"T_6e3bd_row3_col0\" class=\"data row3 col0\" >0.00558</td>\n",
       "                        <td id=\"T_6e3bd_row3_col1\" class=\"data row3 col1\" >-0.00083</td>\n",
       "                        <td id=\"T_6e3bd_row3_col2\" class=\"data row3 col2\" >0.00950</td>\n",
       "                        <td id=\"T_6e3bd_row3_col3\" class=\"data row3 col3\" >1.00000</td>\n",
       "                        <td id=\"T_6e3bd_row3_col4\" class=\"data row3 col4\" >0.00415</td>\n",
       "                        <td id=\"T_6e3bd_row3_col5\" class=\"data row3 col5\" >0.00759</td>\n",
       "                        <td id=\"T_6e3bd_row3_col6\" class=\"data row3 col6\" >-0.00407</td>\n",
       "            </tr>\n",
       "            <tr>\n",
       "                        <th id=\"T_6e3bd_level0_row4\" class=\"row_heading level0 row4\" >Impulsividad</th>\n",
       "                        <td id=\"T_6e3bd_row4_col0\" class=\"data row4 col0\" >-0.00528</td>\n",
       "                        <td id=\"T_6e3bd_row4_col1\" class=\"data row4 col1\" >0.00214</td>\n",
       "                        <td id=\"T_6e3bd_row4_col2\" class=\"data row4 col2\" >-0.00224</td>\n",
       "                        <td id=\"T_6e3bd_row4_col3\" class=\"data row4 col3\" >0.00415</td>\n",
       "                        <td id=\"T_6e3bd_row4_col4\" class=\"data row4 col4\" >1.00000</td>\n",
       "                        <td id=\"T_6e3bd_row4_col5\" class=\"data row4 col5\" >-0.00383</td>\n",
       "                        <td id=\"T_6e3bd_row4_col6\" class=\"data row4 col6\" >-0.00219</td>\n",
       "            </tr>\n",
       "            <tr>\n",
       "                        <th id=\"T_6e3bd_level0_row5\" class=\"row_heading level0 row5\" >Confianza</th>\n",
       "                        <td id=\"T_6e3bd_row5_col0\" class=\"data row5 col0\" >0.00263</td>\n",
       "                        <td id=\"T_6e3bd_row5_col1\" class=\"data row5 col1\" >-0.00655</td>\n",
       "                        <td id=\"T_6e3bd_row5_col2\" class=\"data row5 col2\" >0.00085</td>\n",
       "                        <td id=\"T_6e3bd_row5_col3\" class=\"data row5 col3\" >0.00759</td>\n",
       "                        <td id=\"T_6e3bd_row5_col4\" class=\"data row5 col4\" >-0.00383</td>\n",
       "                        <td id=\"T_6e3bd_row5_col5\" class=\"data row5 col5\" >1.00000</td>\n",
       "                        <td id=\"T_6e3bd_row5_col6\" class=\"data row5 col6\" >0.00042</td>\n",
       "            </tr>\n",
       "            <tr>\n",
       "                        <th id=\"T_6e3bd_level0_row6\" class=\"row_heading level0 row6\" >target</th>\n",
       "                        <td id=\"T_6e3bd_row6_col0\" class=\"data row6 col0\" >-0.00068</td>\n",
       "                        <td id=\"T_6e3bd_row6_col1\" class=\"data row6 col1\" >-0.00791</td>\n",
       "                        <td id=\"T_6e3bd_row6_col2\" class=\"data row6 col2\" >-0.00436</td>\n",
       "                        <td id=\"T_6e3bd_row6_col3\" class=\"data row6 col3\" >-0.00407</td>\n",
       "                        <td id=\"T_6e3bd_row6_col4\" class=\"data row6 col4\" >-0.00219</td>\n",
       "                        <td id=\"T_6e3bd_row6_col5\" class=\"data row6 col5\" >0.00042</td>\n",
       "                        <td id=\"T_6e3bd_row6_col6\" class=\"data row6 col6\" >1.00000</td>\n",
       "            </tr>\n",
       "    </tbody></table>"
      ],
      "text/plain": [
       "<pandas.io.formats.style.Styler at 0x1bd8cf595b0>"
      ]
     },
     "execution_count": 7,
     "metadata": {},
     "output_type": "execute_result"
    }
   ],
   "source": [
    "matriz_corr = x_train[cols_aporte + ['target']].corr(method='spearman')\n",
    "\n",
    "matriz_corr.style.background_gradient(\n",
    "    cmap='coolwarm', axis=None\n",
    ").set_precision(5)"
   ]
  },
  {
   "cell_type": "code",
   "execution_count": 8,
   "id": "f43ee10f-f127-4667-87e3-a31a69130539",
   "metadata": {},
   "outputs": [
    {
     "data": {
      "text/html": [
       "<style  type=\"text/css\" >\n",
       "#T_0ec18_row0_col0{\n",
       "            background-color:  #b40426;\n",
       "            color:  #f1f1f1;\n",
       "        }#T_0ec18_row1_col0,#T_0ec18_row2_col0{\n",
       "            background-color:  #3c4ec2;\n",
       "            color:  #f1f1f1;\n",
       "        }#T_0ec18_row3_col0,#T_0ec18_row4_col0,#T_0ec18_row5_col0,#T_0ec18_row6_col0{\n",
       "            background-color:  #3b4cc0;\n",
       "            color:  #f1f1f1;\n",
       "        }</style><table id=\"T_0ec18_\" ><thead>    <tr>        <th class=\"blank level0\" ></th>        <th class=\"col_heading level0 col0\" >target</th>    </tr></thead><tbody>\n",
       "                <tr>\n",
       "                        <th id=\"T_0ec18_level0_row0\" class=\"row_heading level0 row0\" >target</th>\n",
       "                        <td id=\"T_0ec18_row0_col0\" class=\"data row0 col0\" >1.00000</td>\n",
       "            </tr>\n",
       "            <tr>\n",
       "                        <th id=\"T_0ec18_level0_row1\" class=\"row_heading level0 row1\" >Saldo_cuenta</th>\n",
       "                        <td id=\"T_0ec18_row1_col0\" class=\"data row1 col0\" >0.00791</td>\n",
       "            </tr>\n",
       "            <tr>\n",
       "                        <th id=\"T_0ec18_level0_row2\" class=\"row_heading level0 row2\" >Valor_prestamo</th>\n",
       "                        <td id=\"T_0ec18_row2_col0\" class=\"data row2 col0\" >0.00436</td>\n",
       "            </tr>\n",
       "            <tr>\n",
       "                        <th id=\"T_0ec18_level0_row3\" class=\"row_heading level0 row3\" >Autocontrol</th>\n",
       "                        <td id=\"T_0ec18_row3_col0\" class=\"data row3 col0\" >0.00407</td>\n",
       "            </tr>\n",
       "            <tr>\n",
       "                        <th id=\"T_0ec18_level0_row4\" class=\"row_heading level0 row4\" >Impulsividad</th>\n",
       "                        <td id=\"T_0ec18_row4_col0\" class=\"data row4 col0\" >0.00219</td>\n",
       "            </tr>\n",
       "            <tr>\n",
       "                        <th id=\"T_0ec18_level0_row5\" class=\"row_heading level0 row5\" >Empleado</th>\n",
       "                        <td id=\"T_0ec18_row5_col0\" class=\"data row5 col0\" >0.00068</td>\n",
       "            </tr>\n",
       "            <tr>\n",
       "                        <th id=\"T_0ec18_level0_row6\" class=\"row_heading level0 row6\" >Confianza</th>\n",
       "                        <td id=\"T_0ec18_row6_col0\" class=\"data row6 col0\" >0.00042</td>\n",
       "            </tr>\n",
       "    </tbody></table>"
      ],
      "text/plain": [
       "<pandas.io.formats.style.Styler at 0x1bdd2acc760>"
      ]
     },
     "execution_count": 8,
     "metadata": {},
     "output_type": "execute_result"
    }
   ],
   "source": [
    "pd.DataFrame(matriz_corr['target'].abs().sort_values(ascending=False)).style.background_gradient(\n",
    "    cmap='coolwarm', axis=None\n",
    ").set_precision(5)"
   ]
  },
  {
   "cell_type": "code",
   "execution_count": 9,
   "id": "03aa5cd1-03ce-46bf-a492-aa9307177019",
   "metadata": {},
   "outputs": [],
   "source": [
    "if 'target' in x_train.columns:\n",
    "    del x_train['target']"
   ]
  },
  {
   "cell_type": "code",
   "execution_count": 10,
   "id": "517f716c-d259-496a-94e4-b6e7f8546476",
   "metadata": {},
   "outputs": [
    {
     "data": {
      "text/plain": [
       "Incumplimiento\n",
       "0                 0.858842\n",
       "1                 0.141158\n",
       "dtype: float64"
      ]
     },
     "execution_count": 10,
     "metadata": {},
     "output_type": "execute_result"
    }
   ],
   "source": [
    "y_train.value_counts(normalize=True)"
   ]
  },
  {
   "cell_type": "code",
   "execution_count": 11,
   "id": "f566e45f-11ad-47c4-bbd4-bcdb49f4f2c2",
   "metadata": {},
   "outputs": [
    {
     "data": {
      "text/plain": [
       "6"
      ]
     },
     "execution_count": 11,
     "metadata": {},
     "output_type": "execute_result"
    }
   ],
   "source": [
    "len(x_train[cols_aporte].columns)"
   ]
  },
  {
   "cell_type": "code",
   "execution_count": 12,
   "id": "ec29686d-3ad8-4cc2-af51-b4856ae051c0",
   "metadata": {},
   "outputs": [
    {
     "data": {
      "text/plain": [
       "((14432, 6),\n",
       " (14432, 1),\n",
       " pandas.core.frame.DataFrame,\n",
       " pandas.core.frame.DataFrame)"
      ]
     },
     "execution_count": 12,
     "metadata": {},
     "output_type": "execute_result"
    }
   ],
   "source": [
    "from imblearn.over_sampling import RandomOverSampler\n",
    "from imblearn.under_sampling import RandomUnderSampler\n",
    "\n",
    "ros = RandomUnderSampler(random_state=SEED)\n",
    "X_resampled, y_resampled = ros.fit_resample(x_train[cols_aporte], y_train)\n",
    "\n",
    "X_resampled.shape,  y_resampled.shape, type(X_resampled), type(y_resampled)"
   ]
  },
  {
   "cell_type": "code",
   "execution_count": 13,
   "id": "0c2828e4-c9ee-4e88-abd8-132fe23bc78d",
   "metadata": {},
   "outputs": [],
   "source": [
    "from sklearn.model_selection import StratifiedShuffleSplit, StratifiedKFold, TimeSeriesSplit, RepeatedStratifiedKFold\n",
    "from sklearn.model_selection import GridSearchCV\n",
    "from sklearn.linear_model import LogisticRegression\n",
    "from sklearn.tree import DecisionTreeClassifier\n",
    "from sklearn.model_selection import RandomizedSearchCV\n",
    "from sklearn.model_selection import StratifiedKFold\n",
    "\n",
    "kfold_off_on = StratifiedKFold(\n",
    "    n_splits=3, \n",
    "    shuffle=True,\n",
    "    random_state=SEED\n",
    ")\n",
    "\n",
    "param_grid_arbol = {\n",
    "    'penalty': ['elasticnet', 'none'],\n",
    "    'l1_ratio': [0, 0.1, 0.2, 0.3, 0.4, 0.5, 0.6, 0.7, 0.8, 0.9, 1],             \n",
    "    'n_jobs': -1,\n",
    "    'max_iter': [50, 100, 200, 500],\n",
    "    'solver': ['liblinear', 'saga', 'sag'],\n",
    "    'random_state': [SEED],\n",
    "    'class_weight': ['balanced', None],\n",
    "    'fit_intercept': [True, False],\n",
    "    'C': [1, 10, 20]\n",
    "}\n",
    "model_arbol = LogisticRegression(random_state=SEED)\n",
    "\n",
    "grid_arbol = RandomizedSearchCV(\n",
    "    model_arbol, \n",
    "    {k: [v] if not isinstance(v, list) else v for k, v in param_grid_arbol.items()}, \n",
    "    cv=kfold_off_on, \n",
    "    n_jobs=4, \n",
    "    scoring='roc_auc', \n",
    "    verbose=2,\n",
    "    n_iter=1000,\n",
    "    refit=True\n",
    ")"
   ]
  },
  {
   "cell_type": "code",
   "execution_count": 14,
   "id": "72f37540-5f33-4342-971a-8e7e05785785",
   "metadata": {},
   "outputs": [],
   "source": [
    "#help(grid_arbol.fit)"
   ]
  },
  {
   "cell_type": "code",
   "execution_count": 15,
   "id": "69288467-2282-45b5-8a95-b32958858864",
   "metadata": {},
   "outputs": [
    {
     "name": "stdout",
     "output_type": "stream",
     "text": [
      "Fitting 3 folds for each of 1000 candidates, totalling 3000 fits\n"
     ]
    },
    {
     "name": "stderr",
     "output_type": "stream",
     "text": [
      "C:\\ProgramData\\Anaconda3\\lib\\site-packages\\sklearn\\model_selection\\_search.py:922: UserWarning: One or more of the test scores are non-finite: [       nan        nan 0.49534149 0.49534149        nan        nan\n",
      " 0.49534126        nan 0.49236529 0.49513956 0.49534149        nan\n",
      " 0.49574162 0.49572348        nan        nan 0.49597015        nan\n",
      "        nan 0.49351092 0.49534529        nan 0.49488233        nan\n",
      " 0.49521037        nan        nan 0.4955203         nan        nan\n",
      "        nan        nan        nan        nan 0.49534529        nan\n",
      " 0.4940136  0.49597631 0.49315565 0.49534529 0.49597015        nan\n",
      " 0.49597931 0.49425186        nan 0.49597631        nan 0.49534529\n",
      "        nan        nan 0.49597931 0.49534126 0.49597931        nan\n",
      "        nan        nan        nan 0.49534529 0.49597003 0.49597931\n",
      " 0.4953446  0.49597003 0.49534126 0.49597003        nan        nan\n",
      "        nan        nan        nan        nan        nan        nan\n",
      "        nan        nan 0.4953446         nan        nan        nan\n",
      " 0.49597631 0.49534529 0.49597631        nan 0.49597003 0.49534126\n",
      "        nan 0.49597015        nan 0.49597015 0.49534126        nan\n",
      " 0.49597003 0.49534529        nan 0.49534126        nan        nan\n",
      " 0.49534529 0.49534149 0.49493776 0.49597931 0.49534126 0.49534126\n",
      "        nan        nan 0.49534529        nan        nan 0.49534149\n",
      "        nan        nan        nan 0.49597631 0.49534126        nan\n",
      "        nan 0.49597931        nan        nan 0.49597631        nan\n",
      " 0.4940136         nan 0.49534126        nan 0.49597931        nan\n",
      " 0.49515281        nan 0.49597631        nan 0.49597015 0.49315103\n",
      " 0.49534529        nan        nan        nan        nan 0.49559807\n",
      " 0.49301997 0.49534149        nan        nan 0.49597003 0.49552272\n",
      " 0.49534529 0.4953446  0.49534149 0.49556391        nan 0.49498166\n",
      "        nan        nan        nan 0.495088          nan 0.49556402\n",
      "        nan 0.49597003        nan 0.49597015        nan 0.49534149\n",
      "        nan 0.49597631 0.49318793        nan 0.493772          nan\n",
      "        nan 0.49597931        nan        nan 0.49597015        nan\n",
      " 0.49597631 0.49534126 0.4953446         nan        nan        nan\n",
      "        nan 0.49520461 0.4953446  0.49534149        nan 0.49504912\n",
      "        nan 0.49597931        nan        nan 0.49597003        nan\n",
      " 0.49534149        nan 0.49597631        nan 0.49534126        nan\n",
      "        nan 0.4932501  0.49597015 0.49534149        nan 0.49577066\n",
      "        nan 0.49534126 0.49597931 0.49534149        nan 0.49597931\n",
      " 0.49308547 0.49597003        nan        nan        nan 0.49597631\n",
      "        nan 0.49534149 0.49534529 0.49557848 0.49597931 0.49534149\n",
      "        nan        nan 0.49534149        nan        nan 0.49289046\n",
      "        nan 0.49195399        nan        nan        nan 0.4953446\n",
      "        nan 0.49521129        nan 0.49597631 0.49534149        nan\n",
      " 0.49509618 0.49534126 0.49503097 0.4953446         nan        nan\n",
      " 0.49513323 0.49597931        nan 0.49534126 0.4953446         nan\n",
      "        nan 0.49509803 0.49289046        nan        nan        nan\n",
      " 0.49534126        nan        nan 0.49550924 0.49597003 0.49553251\n",
      " 0.49507424        nan        nan 0.49534126        nan        nan\n",
      " 0.49534529        nan        nan 0.49534529        nan 0.49507562\n",
      " 0.49597931 0.49597931 0.495088          nan 0.49572999 0.49534149\n",
      " 0.49186842 0.49557831 0.49597931        nan        nan 0.4953446\n",
      "        nan        nan 0.4931455         nan 0.49553251        nan\n",
      " 0.49315103 0.49559807        nan        nan 0.4957301         nan\n",
      " 0.49491155        nan        nan        nan 0.49597003 0.49318735\n",
      " 0.49511134        nan 0.49377252        nan 0.49513956 0.49597931\n",
      " 0.4950312  0.49516612        nan 0.49597003        nan 0.49577054\n",
      "        nan 0.49534529 0.49534149 0.49534529 0.49534529 0.49597003\n",
      " 0.49315565 0.49308547 0.494999   0.49597931 0.49534126        nan\n",
      "        nan        nan        nan 0.49597015        nan 0.49534126\n",
      "        nan        nan 0.49534126 0.49597631        nan        nan\n",
      " 0.49559807 0.49597015        nan 0.49504912        nan        nan\n",
      " 0.49597003 0.49534126        nan        nan        nan        nan\n",
      "        nan 0.49534529 0.49488233        nan 0.4953446  0.49597931\n",
      "        nan 0.4953446  0.49597931        nan        nan 0.4953446\n",
      " 0.49553522        nan 0.49557848        nan        nan 0.49509803\n",
      "        nan        nan        nan        nan 0.49534529 0.49597003\n",
      " 0.49597015        nan 0.49597931        nan 0.49534126 0.49597003\n",
      "        nan        nan        nan 0.4953446         nan        nan\n",
      "        nan        nan 0.49597015 0.49491829 0.49597931        nan\n",
      "        nan        nan 0.4951164         nan 0.49574162        nan\n",
      " 0.49534149        nan 0.4953446  0.49534149        nan 0.49597015\n",
      "        nan 0.49504912        nan        nan        nan 0.49534149\n",
      " 0.49572348 0.49597015        nan 0.49534149        nan 0.49534149\n",
      "        nan 0.49274839 0.49274839 0.49351127 0.4953446  0.49507424\n",
      " 0.49534126 0.49597931 0.49597015        nan 0.4953446         nan\n",
      " 0.49597003        nan 0.49597015        nan        nan 0.49315594\n",
      " 0.49597003 0.49534529        nan        nan 0.49552042 0.49576887\n",
      "        nan        nan        nan        nan 0.49597015        nan\n",
      "        nan 0.4953446         nan        nan 0.4953446  0.49597631\n",
      " 0.49534149        nan 0.49597931        nan        nan        nan\n",
      "        nan        nan 0.49401337        nan        nan        nan\n",
      "        nan        nan        nan        nan 0.49499422 0.4953446\n",
      "        nan 0.49575775 0.49534529        nan 0.49534149        nan\n",
      " 0.4951198         nan        nan        nan        nan 0.49534149\n",
      " 0.49534126        nan 0.49597003        nan 0.49517782        nan\n",
      " 0.49534126        nan        nan        nan        nan        nan\n",
      "        nan        nan 0.49534126 0.49289046 0.49597631 0.49534529\n",
      " 0.49597003        nan 0.49534529 0.49597003 0.4953446         nan\n",
      " 0.49235354 0.49534126        nan        nan        nan 0.49534149\n",
      "        nan        nan 0.49597931        nan        nan 0.49597015\n",
      " 0.49597015 0.49534529 0.49597631 0.49289086        nan 0.49550959\n",
      " 0.49210111        nan 0.49597015 0.49597003 0.49597003        nan\n",
      " 0.4933027  0.49597015        nan        nan        nan        nan\n",
      "        nan        nan 0.49534126 0.49534529        nan        nan\n",
      " 0.49597931        nan        nan 0.49550924        nan 0.49597015\n",
      "        nan 0.4953446  0.4953446         nan 0.49597003 0.49597631\n",
      " 0.49575844        nan        nan        nan        nan 0.49552042\n",
      "        nan        nan        nan        nan 0.49597003 0.49597931\n",
      " 0.49534126        nan        nan        nan 0.49597003 0.49597631\n",
      " 0.49550924 0.49534529 0.49496305        nan 0.49496518 0.49534529\n",
      " 0.49597631        nan        nan 0.49521129 0.49597003 0.49318735\n",
      "        nan 0.4921026  0.49597931 0.4953446  0.49534126 0.49597003\n",
      " 0.49485624        nan        nan        nan        nan 0.49534149\n",
      " 0.49534529        nan 0.49534529 0.49534126        nan        nan\n",
      "        nan        nan        nan        nan 0.49534529        nan\n",
      " 0.49597631        nan        nan 0.4953446  0.49597631        nan\n",
      " 0.4953446  0.49534149        nan        nan        nan 0.49534126\n",
      "        nan        nan 0.49597003        nan        nan 0.49203069\n",
      " 0.49597631 0.49597631 0.49517494        nan        nan 0.494999\n",
      " 0.4953446         nan        nan 0.49597015        nan 0.49534149\n",
      "        nan        nan 0.49534126        nan        nan        nan\n",
      "        nan 0.49534126        nan 0.49597003        nan 0.49597015\n",
      "        nan 0.49534149        nan 0.49572469 0.49597631        nan\n",
      "        nan        nan        nan        nan 0.49486557 0.49575528\n",
      " 0.49504745 0.49486557 0.49534149 0.49534126 0.49597931 0.49351092\n",
      " 0.49142682        nan        nan 0.4953446         nan        nan\n",
      "        nan 0.49180707 0.49597931        nan 0.49597931        nan\n",
      " 0.49534126 0.49534529 0.49597931 0.49597931        nan        nan\n",
      "        nan 0.49597931        nan        nan 0.49534529 0.49597931\n",
      "        nan        nan 0.4920315         nan        nan        nan\n",
      " 0.49167357        nan        nan        nan 0.49550959 0.49534126\n",
      "        nan        nan        nan        nan        nan 0.49330258\n",
      "        nan        nan        nan 0.49597015 0.49534126 0.49597003\n",
      "        nan 0.49534126 0.49597931 0.49498166        nan 0.49534149\n",
      "        nan 0.49534529        nan 0.49534529 0.49498552 0.49534529\n",
      " 0.49534149 0.49195238        nan 0.49597003 0.49597015 0.49597931\n",
      "        nan 0.49597003        nan        nan 0.4957301         nan\n",
      "        nan 0.49597631 0.4931455  0.49597015        nan 0.49513323\n",
      " 0.49534126 0.49534529        nan        nan 0.4953446         nan\n",
      "        nan 0.49597631        nan        nan 0.49597003 0.49597003\n",
      " 0.49597931 0.49597003        nan        nan 0.49597631 0.49534529\n",
      "        nan 0.49597015 0.4953446         nan 0.49597931        nan\n",
      "        nan        nan 0.49534529        nan        nan 0.49534149\n",
      " 0.49511134        nan        nan 0.49534529        nan        nan\n",
      " 0.49534529        nan 0.49512435 0.4951198         nan        nan\n",
      " 0.49534529        nan        nan 0.49236529 0.49487329        nan\n",
      " 0.4953446  0.4950312  0.49597003        nan        nan        nan\n",
      "        nan        nan        nan        nan        nan 0.49597931\n",
      "        nan 0.49597003 0.49557848 0.49552272 0.49597931 0.49534529\n",
      "        nan        nan 0.49572457        nan        nan 0.49597003\n",
      "        nan 0.49597631 0.49142648 0.49534126        nan        nan\n",
      "        nan 0.49534149        nan 0.49289086        nan        nan\n",
      " 0.49597931        nan        nan 0.49597631 0.49550959        nan\n",
      "        nan        nan        nan 0.49597003 0.49491155        nan\n",
      "        nan        nan 0.49534149        nan 0.49534529 0.49534149\n",
      " 0.49597931 0.49597015 0.49534126 0.49493776        nan 0.49496518\n",
      " 0.49597631        nan        nan 0.49534149        nan 0.49534126\n",
      " 0.49597003        nan 0.49597631        nan 0.49534149 0.4953446\n",
      "        nan 0.49597015        nan 0.49597003        nan 0.49597631\n",
      " 0.49597003        nan 0.49597015        nan 0.49186842 0.49534529\n",
      "        nan        nan 0.49597631        nan        nan        nan\n",
      " 0.49534126 0.49534529 0.49318798 0.4953446  0.49574174        nan\n",
      "        nan 0.49534149 0.495088   0.49534529        nan 0.4933027\n",
      "        nan        nan 0.49534149        nan 0.49597631        nan\n",
      "        nan        nan 0.4953446  0.49597003        nan        nan\n",
      " 0.49597931        nan        nan 0.49203069 0.49534529 0.49504745\n",
      "        nan 0.49597931 0.49597015 0.49549939        nan        nan\n",
      " 0.49597631        nan 0.49534126        nan 0.49534529 0.49534126\n",
      " 0.49559807        nan 0.4953446         nan        nan        nan\n",
      "        nan 0.49534149        nan        nan 0.49534126 0.4953446\n",
      " 0.49318798 0.49534529 0.49597003 0.49534126 0.49574491 0.49179791\n",
      " 0.49142682 0.49597631 0.49308576        nan 0.4953446  0.49534149\n",
      "        nan 0.49597631        nan        nan        nan 0.4920315\n",
      "        nan 0.49534126        nan 0.4953446  0.4953446         nan\n",
      " 0.49534126        nan        nan 0.49574491 0.49186842        nan\n",
      "        nan        nan        nan        nan 0.4953446         nan\n",
      " 0.49534149        nan 0.49534149 0.49597931        nan 0.49597931\n",
      "        nan        nan 0.49493119        nan 0.49597003        nan\n",
      " 0.49552284        nan 0.493187   0.49534529        nan        nan\n",
      " 0.49597015        nan        nan 0.49518531]\n",
      "  warnings.warn(\n",
      "C:\\ProgramData\\Anaconda3\\lib\\site-packages\\sklearn\\linear_model\\_logistic.py:1317: UserWarning: l1_ratio parameter is only used when penalty is 'elasticnet'. Got (penalty=none)\n",
      "  warnings.warn(\"l1_ratio parameter is only used when penalty is \"\n",
      "C:\\ProgramData\\Anaconda3\\lib\\site-packages\\sklearn\\linear_model\\_logistic.py:1322: UserWarning: Setting penalty='none' will ignore the C and l1_ratio parameters\n",
      "  warnings.warn(\n",
      "C:\\ProgramData\\Anaconda3\\lib\\site-packages\\sklearn\\utils\\validation.py:63: DataConversionWarning: A column-vector y was passed when a 1d array was expected. Please change the shape of y to (n_samples, ), for example using ravel().\n",
      "  return f(*args, **kwargs)\n"
     ]
    },
    {
     "name": "stdout",
     "output_type": "stream",
     "text": [
      "score:  0.49597930704239773\n",
      "Wall time: 7min 57s\n"
     ]
    }
   ],
   "source": [
    "%%time\n",
    "grid_arbol.fit(\n",
    "    X_resampled,\n",
    "    y_resampled\n",
    ")\n",
    "\n",
    "best_params_arbol = grid_arbol.best_params_\n",
    "score_arbol = grid_arbol.best_score_\n",
    "result_2 = grid_arbol.best_estimator_\n",
    "\n",
    "print(\"score: \", score_arbol)"
   ]
  },
  {
   "cell_type": "code",
   "execution_count": 16,
   "id": "09bd61be-57ee-4227-994a-2f6c5014a3a7",
   "metadata": {},
   "outputs": [
    {
     "data": {
      "text/plain": [
       "{'solver': 'sag',\n",
       " 'random_state': 29082013,\n",
       " 'penalty': 'none',\n",
       " 'n_jobs': -1,\n",
       " 'max_iter': 100,\n",
       " 'l1_ratio': 0.1,\n",
       " 'fit_intercept': True,\n",
       " 'class_weight': None,\n",
       " 'C': 10}"
      ]
     },
     "execution_count": 16,
     "metadata": {},
     "output_type": "execute_result"
    }
   ],
   "source": [
    "best_params_arbol"
   ]
  },
  {
   "cell_type": "code",
   "execution_count": 17,
   "id": "3c3cfef9-ae28-4f1e-9dde-c31586281913",
   "metadata": {},
   "outputs": [],
   "source": [
    "import numpy as np\n",
    "#prediciendo en base al modelo \n",
    "y_pred_prob_2_train = result_2.predict_proba(x_train[cols_aporte])[:,1]\n",
    "y_pred_class_2_train = np.where(y_pred_prob_2_train < 0.5, 0 , 1)\n",
    "\n",
    "y_pred_prob_2_valid = result_2.predict_proba(x_valid[cols_aporte])[:,1]\n",
    "y_pred_class_2_valid = np.where(y_pred_prob_2_valid < 0.5, 0 , 1)"
   ]
  },
  {
   "cell_type": "code",
   "execution_count": 18,
   "id": "929481ff-8408-4334-92ee-364ec42f7279",
   "metadata": {},
   "outputs": [
    {
     "data": {
      "text/plain": [
       "1    28547\n",
       "0    22573\n",
       "dtype: int64"
      ]
     },
     "execution_count": 18,
     "metadata": {},
     "output_type": "execute_result"
    }
   ],
   "source": [
    "pd.Series(y_pred_class_2_train).value_counts()"
   ]
  },
  {
   "cell_type": "code",
   "execution_count": 19,
   "id": "85c6df65-6ba0-478d-af1e-b60500cf8a5d",
   "metadata": {},
   "outputs": [
    {
     "data": {
      "text/plain": [
       "1    7038\n",
       "0    5743\n",
       "dtype: int64"
      ]
     },
     "execution_count": 19,
     "metadata": {},
     "output_type": "execute_result"
    }
   ],
   "source": [
    "pd.Series(y_pred_class_2_valid).value_counts()"
   ]
  },
  {
   "cell_type": "code",
   "execution_count": 20,
   "id": "20f71671-f9d9-4c36-8c40-86e2ddecd706",
   "metadata": {},
   "outputs": [
    {
     "data": {
      "text/plain": [
       "<AxesSubplot:>"
      ]
     },
     "execution_count": 20,
     "metadata": {},
     "output_type": "execute_result"
    },
    {
     "data": {
      "image/png": "[encoded data removed]",
      "text/plain": [
       "<Figure size 432x288 with 1 Axes>"
      ]
     },
     "metadata": {
      "needs_background": "light"
     },
     "output_type": "display_data"
    }
   ],
   "source": [
    "pd.Series(y_pred_prob_2_train).hist()"
   ]
  },
  {
   "cell_type": "code",
   "execution_count": 21,
   "id": "a3d40869-a171-4a83-8ff1-0b57dfbd3e1a",
   "metadata": {},
   "outputs": [
    {
     "data": {
      "text/plain": [
       "<AxesSubplot:>"
      ]
     },
     "execution_count": 21,
     "metadata": {},
     "output_type": "execute_result"
    },
    {
     "data": {
      "image/png": "[encoded data removed]",
      "text/plain": [
       "<Figure size 432x288 with 1 Axes>"
      ]
     },
     "metadata": {
      "needs_background": "light"
     },
     "output_type": "display_data"
    }
   ],
   "source": [
    "pd.Series(y_pred_prob_2_valid).hist()"
   ]
  },
  {
   "cell_type": "code",
   "execution_count": 22,
   "id": "15f84aeb-81b6-4389-aedb-a64f4cf4cded",
   "metadata": {},
   "outputs": [
    {
     "name": "stdout",
     "output_type": "stream",
     "text": [
      "///////////////////////// TRAIN\n",
      "AUC: 0.506\n",
      "GINI: 0.012\n",
      "///////////////////////// VALIDATION\n",
      "AUC: 0.504\n",
      "GINI: 0.009\n"
     ]
    }
   ],
   "source": [
    "from sklearn.metrics import precision_score, recall_score, f1_score, accuracy_score, roc_auc_score\n",
    "\n",
    "print(\"/\"*25, 'TRAIN')\n",
    "auc = roc_auc_score(y_train, y_pred_prob_2_train)\n",
    "print(\"AUC: %1.3f\" % auc)\n",
    "print(\"GINI: %1.3f\" % (2*auc-1))\n",
    "\n",
    "print(\"/\"*25, 'VALIDATION')\n",
    "auc_2 = roc_auc_score(y_valid, y_pred_prob_2_valid)\n",
    "print(\"AUC: %1.3f\" % auc_2)\n",
    "print(\"GINI: %1.3f\" % (2*auc_2-1))"
   ]
  },
  {
   "cell_type": "code",
   "execution_count": 23,
   "id": "79b3629f-c679-422d-9b22-95a422e3d2b6",
   "metadata": {},
   "outputs": [
    {
     "name": "stdout",
     "output_type": "stream",
     "text": [
      "///////////////////////// TRAIN\n",
      "RECALL     : 0.56638027\n",
      "EFECTIVIDAD: 0.14316741\n",
      "F1 SCORE   : 0.22856024\n",
      "accuracy_score   : 0.46030908\n",
      "///////////////////////// VALIDATION\n",
      "RECALL     : 0.55155211\n",
      "EFECTIVIDAD: 0.14137539\n",
      "F1 SCORE   : 0.22506220\n",
      "accuracy_score   : 0.46389171\n"
     ]
    }
   ],
   "source": [
    "print(\"/\"*25, 'TRAIN')\n",
    "print(\"RECALL     : %1.8f\" % recall_score(y_train, y_pred_class_2_train))\n",
    "print(\"EFECTIVIDAD: %1.8f\" % precision_score(y_train, y_pred_class_2_train))\n",
    "print(\"F1 SCORE   : %1.8f\" % f1_score(y_train, y_pred_class_2_train))\n",
    "print(\"accuracy_score   : %1.8f\" % accuracy_score(y_train, y_pred_class_2_train))\n",
    "\n",
    "print(\"/\"*25, 'VALIDATION')\n",
    "print(\"RECALL     : %1.8f\" % recall_score(y_valid, y_pred_class_2_valid))\n",
    "print(\"EFECTIVIDAD: %1.8f\" % precision_score(y_valid, y_pred_class_2_valid))\n",
    "print(\"F1 SCORE   : %1.8f\" % f1_score(y_valid, y_pred_class_2_valid))\n",
    "print(\"accuracy_score   : %1.8f\" % accuracy_score(y_valid, y_pred_class_2_valid))"
   ]
  },
  {
   "cell_type": "code",
   "execution_count": null,
   "id": "9561f6ee-180f-4a8a-8457-56097f122ac8",
   "metadata": {},
   "outputs": [],
   "source": []
  },
  {
   "cell_type": "markdown",
   "id": "05ac40c6-1cbe-4afb-b9b7-5e4a4b58008e",
   "metadata": {},
   "source": [
    "#### >>> RECALL"
   ]
  },
  {
   "cell_type": "code",
   "execution_count": 24,
   "id": "2d77863f-417b-4360-9906-83a17f3a836f",
   "metadata": {},
   "outputs": [
    {
     "data": {
      "text/plain": [
       "     fun: -1.0\n",
       " message: 'Optimization terminated successfully.'\n",
       "    nfev: 62\n",
       "     nit: 3\n",
       " success: True\n",
       "       x: array([0.23889217])"
      ]
     },
     "execution_count": 24,
     "metadata": {},
     "output_type": "execute_result"
    }
   ],
   "source": [
    "from scipy.optimize import differential_evolution\n",
    "\n",
    "\n",
    "optimization_rec = differential_evolution(\n",
    "    lambda c: -1*recall_score(y_train, np.array([0 if _ < c[0] else 1 for _ in y_pred_prob_2_train])), \n",
    "    [(0, 1)],\n",
    "    seed=SEED\n",
    ")\n",
    "optimization_rec"
   ]
  },
  {
   "cell_type": "code",
   "execution_count": 25,
   "id": "66457ba9-9dbc-4dae-bb25-e9981a33eb1e",
   "metadata": {},
   "outputs": [
    {
     "data": {
      "text/plain": [
       "0.23889217415917813"
      ]
     },
     "execution_count": 25,
     "metadata": {},
     "output_type": "execute_result"
    }
   ],
   "source": [
    "corte_rec = optimization_rec['x'][0]\n",
    "corte_rec"
   ]
  },
  {
   "cell_type": "code",
   "execution_count": 26,
   "id": "597be65f-d57a-40f4-8cec-4625ff5e322c",
   "metadata": {},
   "outputs": [],
   "source": [
    "y_pred_class_train_2_rec = np.where(y_pred_prob_2_train < corte_rec, 0 , 1)\n",
    "y_pred_class_valid_2_rc = np.where(y_pred_prob_2_valid < corte_rec, 0 , 1)"
   ]
  },
  {
   "cell_type": "code",
   "execution_count": 27,
   "id": "c0c86b9d-0b63-4f79-b24d-912ea2693a5c",
   "metadata": {},
   "outputs": [
    {
     "data": {
      "text/plain": [
       "1    51108\n",
       "0       12\n",
       "dtype: int64"
      ]
     },
     "execution_count": 27,
     "metadata": {},
     "output_type": "execute_result"
    }
   ],
   "source": [
    "pd.Series(y_pred_class_train_2_rec).value_counts()"
   ]
  },
  {
   "cell_type": "code",
   "execution_count": 28,
   "id": "ce58f5eb-cb84-4fdc-bc33-02adaaee7ce7",
   "metadata": {},
   "outputs": [
    {
     "data": {
      "text/plain": [
       "1    12779\n",
       "0        2\n",
       "dtype: int64"
      ]
     },
     "execution_count": 28,
     "metadata": {},
     "output_type": "execute_result"
    }
   ],
   "source": [
    "pd.Series(y_pred_class_valid_2_rc).value_counts()"
   ]
  },
  {
   "cell_type": "code",
   "execution_count": 29,
   "id": "198229a3-f148-4601-8a76-67c15c07231d",
   "metadata": {},
   "outputs": [
    {
     "name": "stdout",
     "output_type": "stream",
     "text": [
      "///////////////////////// TRAIN\n",
      "RECALL     : 1.00000000\n",
      "EFECTIVIDAD: 0.14119120\n",
      "F1 SCORE   : 0.24744531\n",
      "///////////////////////// VALIDATION\n",
      "RECALL     : 1.00000000\n",
      "EFECTIVIDAD: 0.14116911\n",
      "F1 SCORE   : 0.24741137\n"
     ]
    }
   ],
   "source": [
    "print(\"/\"*25, \"TRAIN\")\n",
    "print(\"RECALL     : %1.8f\" % recall_score(y_train, y_pred_class_train_2_rec))\n",
    "print(\"EFECTIVIDAD: %1.8f\" % precision_score(y_train, y_pred_class_train_2_rec))\n",
    "print(\"F1 SCORE   : %1.8f\" % f1_score(y_train, y_pred_class_train_2_rec))\n",
    "\n",
    "print(\"/\"*25, \"VALIDATION\")\n",
    "print(\"RECALL     : %1.8f\" % recall_score(y_valid, y_pred_class_valid_2_rc))\n",
    "print(\"EFECTIVIDAD: %1.8f\" % precision_score(y_valid, y_pred_class_valid_2_rc))\n",
    "print(\"F1 SCORE   : %1.8f\" % f1_score(y_valid, y_pred_class_valid_2_rc))"
   ]
  },
  {
   "cell_type": "code",
   "execution_count": null,
   "id": "010f4b0e-de8c-450d-9a23-6b6686759336",
   "metadata": {},
   "outputs": [],
   "source": []
  },
  {
   "cell_type": "markdown",
   "id": "e3853f23-b161-4cbd-b97e-4052d694cfcd",
   "metadata": {},
   "source": [
    "#### >>> EFECTIVIDAD"
   ]
  },
  {
   "cell_type": "code",
   "execution_count": 30,
   "id": "d3a1c84a-b33b-433f-9580-07ac0911d5ec",
   "metadata": {},
   "outputs": [
    {
     "name": "stderr",
     "output_type": "stream",
     "text": [
      "C:\\ProgramData\\Anaconda3\\lib\\site-packages\\sklearn\\metrics\\_classification.py:1248: UndefinedMetricWarning: Precision is ill-defined and being set to 0.0 due to no predicted samples. Use `zero_division` parameter to control this behavior.\n",
      "  _warn_prf(average, modifier, msg_start, len(result))\n",
      "C:\\ProgramData\\Anaconda3\\lib\\site-packages\\sklearn\\metrics\\_classification.py:1248: UndefinedMetricWarning: Precision is ill-defined and being set to 0.0 due to no predicted samples. Use `zero_division` parameter to control this behavior.\n",
      "  _warn_prf(average, modifier, msg_start, len(result))\n",
      "C:\\ProgramData\\Anaconda3\\lib\\site-packages\\sklearn\\metrics\\_classification.py:1248: UndefinedMetricWarning: Precision is ill-defined and being set to 0.0 due to no predicted samples. Use `zero_division` parameter to control this behavior.\n",
      "  _warn_prf(average, modifier, msg_start, len(result))\n",
      "C:\\ProgramData\\Anaconda3\\lib\\site-packages\\sklearn\\metrics\\_classification.py:1248: UndefinedMetricWarning: Precision is ill-defined and being set to 0.0 due to no predicted samples. Use `zero_division` parameter to control this behavior.\n",
      "  _warn_prf(average, modifier, msg_start, len(result))\n",
      "C:\\ProgramData\\Anaconda3\\lib\\site-packages\\sklearn\\metrics\\_classification.py:1248: UndefinedMetricWarning: Precision is ill-defined and being set to 0.0 due to no predicted samples. Use `zero_division` parameter to control this behavior.\n",
      "  _warn_prf(average, modifier, msg_start, len(result))\n",
      "C:\\ProgramData\\Anaconda3\\lib\\site-packages\\sklearn\\metrics\\_classification.py:1248: UndefinedMetricWarning: Precision is ill-defined and being set to 0.0 due to no predicted samples. Use `zero_division` parameter to control this behavior.\n",
      "  _warn_prf(average, modifier, msg_start, len(result))\n",
      "C:\\ProgramData\\Anaconda3\\lib\\site-packages\\sklearn\\metrics\\_classification.py:1248: UndefinedMetricWarning: Precision is ill-defined and being set to 0.0 due to no predicted samples. Use `zero_division` parameter to control this behavior.\n",
      "  _warn_prf(average, modifier, msg_start, len(result))\n",
      "C:\\ProgramData\\Anaconda3\\lib\\site-packages\\sklearn\\metrics\\_classification.py:1248: UndefinedMetricWarning: Precision is ill-defined and being set to 0.0 due to no predicted samples. Use `zero_division` parameter to control this behavior.\n",
      "  _warn_prf(average, modifier, msg_start, len(result))\n",
      "C:\\ProgramData\\Anaconda3\\lib\\site-packages\\sklearn\\metrics\\_classification.py:1248: UndefinedMetricWarning: Precision is ill-defined and being set to 0.0 due to no predicted samples. Use `zero_division` parameter to control this behavior.\n",
      "  _warn_prf(average, modifier, msg_start, len(result))\n",
      "C:\\ProgramData\\Anaconda3\\lib\\site-packages\\sklearn\\metrics\\_classification.py:1248: UndefinedMetricWarning: Precision is ill-defined and being set to 0.0 due to no predicted samples. Use `zero_division` parameter to control this behavior.\n",
      "  _warn_prf(average, modifier, msg_start, len(result))\n",
      "C:\\ProgramData\\Anaconda3\\lib\\site-packages\\sklearn\\metrics\\_classification.py:1248: UndefinedMetricWarning: Precision is ill-defined and being set to 0.0 due to no predicted samples. Use `zero_division` parameter to control this behavior.\n",
      "  _warn_prf(average, modifier, msg_start, len(result))\n",
      "C:\\ProgramData\\Anaconda3\\lib\\site-packages\\sklearn\\metrics\\_classification.py:1248: UndefinedMetricWarning: Precision is ill-defined and being set to 0.0 due to no predicted samples. Use `zero_division` parameter to control this behavior.\n",
      "  _warn_prf(average, modifier, msg_start, len(result))\n",
      "C:\\ProgramData\\Anaconda3\\lib\\site-packages\\sklearn\\metrics\\_classification.py:1248: UndefinedMetricWarning: Precision is ill-defined and being set to 0.0 due to no predicted samples. Use `zero_division` parameter to control this behavior.\n",
      "  _warn_prf(average, modifier, msg_start, len(result))\n",
      "C:\\ProgramData\\Anaconda3\\lib\\site-packages\\sklearn\\metrics\\_classification.py:1248: UndefinedMetricWarning: Precision is ill-defined and being set to 0.0 due to no predicted samples. Use `zero_division` parameter to control this behavior.\n",
      "  _warn_prf(average, modifier, msg_start, len(result))\n",
      "C:\\ProgramData\\Anaconda3\\lib\\site-packages\\sklearn\\metrics\\_classification.py:1248: UndefinedMetricWarning: Precision is ill-defined and being set to 0.0 due to no predicted samples. Use `zero_division` parameter to control this behavior.\n",
      "  _warn_prf(average, modifier, msg_start, len(result))\n",
      "C:\\ProgramData\\Anaconda3\\lib\\site-packages\\sklearn\\metrics\\_classification.py:1248: UndefinedMetricWarning: Precision is ill-defined and being set to 0.0 due to no predicted samples. Use `zero_division` parameter to control this behavior.\n",
      "  _warn_prf(average, modifier, msg_start, len(result))\n",
      "C:\\ProgramData\\Anaconda3\\lib\\site-packages\\sklearn\\metrics\\_classification.py:1248: UndefinedMetricWarning: Precision is ill-defined and being set to 0.0 due to no predicted samples. Use `zero_division` parameter to control this behavior.\n",
      "  _warn_prf(average, modifier, msg_start, len(result))\n",
      "C:\\ProgramData\\Anaconda3\\lib\\site-packages\\sklearn\\metrics\\_classification.py:1248: UndefinedMetricWarning: Precision is ill-defined and being set to 0.0 due to no predicted samples. Use `zero_division` parameter to control this behavior.\n",
      "  _warn_prf(average, modifier, msg_start, len(result))\n",
      "C:\\ProgramData\\Anaconda3\\lib\\site-packages\\sklearn\\metrics\\_classification.py:1248: UndefinedMetricWarning: Precision is ill-defined and being set to 0.0 due to no predicted samples. Use `zero_division` parameter to control this behavior.\n",
      "  _warn_prf(average, modifier, msg_start, len(result))\n",
      "C:\\ProgramData\\Anaconda3\\lib\\site-packages\\sklearn\\metrics\\_classification.py:1248: UndefinedMetricWarning: Precision is ill-defined and being set to 0.0 due to no predicted samples. Use `zero_division` parameter to control this behavior.\n",
      "  _warn_prf(average, modifier, msg_start, len(result))\n",
      "C:\\ProgramData\\Anaconda3\\lib\\site-packages\\sklearn\\metrics\\_classification.py:1248: UndefinedMetricWarning: Precision is ill-defined and being set to 0.0 due to no predicted samples. Use `zero_division` parameter to control this behavior.\n",
      "  _warn_prf(average, modifier, msg_start, len(result))\n"
     ]
    },
    {
     "data": {
      "text/plain": [
       "     fun: -0.1448437115431947\n",
       " message: 'Optimization terminated successfully.'\n",
       "    nfev: 47\n",
       "     nit: 2\n",
       " success: True\n",
       "       x: array([0.50106975])"
      ]
     },
     "execution_count": 30,
     "metadata": {},
     "output_type": "execute_result"
    }
   ],
   "source": [
    "optimization_pre = differential_evolution(\n",
    "    lambda c: -1*precision_score(y_train, np.array([0 if _ < c[0] else 1 for _ in y_pred_prob_2_train])), \n",
    "    [(0, 1)],\n",
    "    seed=SEED\n",
    ")\n",
    "optimization_pre"
   ]
  },
  {
   "cell_type": "code",
   "execution_count": null,
   "id": "3b7e1286-2f54-49b0-9511-0da58d50386e",
   "metadata": {},
   "outputs": [],
   "source": []
  },
  {
   "cell_type": "markdown",
   "id": "3bb8cc6e-9805-4032-b6a8-e16e51976cc3",
   "metadata": {},
   "source": [
    "#### >>> AUC"
   ]
  },
  {
   "cell_type": "code",
   "execution_count": 31,
   "id": "501ea2b0-d72b-480e-aaf0-c63782c37bbc",
   "metadata": {},
   "outputs": [
    {
     "data": {
      "text/plain": [
       "     fun: -0.5012837422346195\n",
       " message: 'Optimization terminated successfully.'\n",
       "    nfev: 32\n",
       "     nit: 1\n",
       " success: True\n",
       "       x: array([0.48979555])"
      ]
     },
     "execution_count": 31,
     "metadata": {},
     "output_type": "execute_result"
    }
   ],
   "source": [
    "optimization_auc = differential_evolution(\n",
    "    lambda c: -1*roc_auc_score(y_train, np.array([0 if _ < c[0] else 1 for _ in y_pred_prob_2_train])), \n",
    "    [(0, 1)],\n",
    "    seed=SEED\n",
    ")\n",
    "optimization_auc"
   ]
  },
  {
   "cell_type": "code",
   "execution_count": 32,
   "id": "2fe947ae-60bc-4fcc-aea4-2ffd517f131d",
   "metadata": {},
   "outputs": [
    {
     "data": {
      "text/plain": [
       "0.48979555486502585"
      ]
     },
     "execution_count": 32,
     "metadata": {},
     "output_type": "execute_result"
    }
   ],
   "source": [
    "corte_auc = optimization_auc['x'][0]\n",
    "corte_auc"
   ]
  },
  {
   "cell_type": "code",
   "execution_count": 33,
   "id": "2b7a4e33-2b7f-4601-b1ad-38ad776df862",
   "metadata": {},
   "outputs": [],
   "source": [
    "y_pred_class_train_2_auc = np.where(y_pred_prob_2_train < corte_auc, 0 , 1)\n",
    "y_pred_class_valid_2_auc = np.where(y_pred_prob_2_valid < corte_auc, 0 , 1)"
   ]
  },
  {
   "cell_type": "code",
   "execution_count": 34,
   "id": "a59cd7bf-51c8-4728-94f2-cb13da9b2cca",
   "metadata": {},
   "outputs": [
    {
     "data": {
      "text/plain": [
       "1    48882\n",
       "0     2238\n",
       "dtype: int64"
      ]
     },
     "execution_count": 34,
     "metadata": {},
     "output_type": "execute_result"
    }
   ],
   "source": [
    "pd.Series(y_pred_class_train_2_auc).value_counts()"
   ]
  },
  {
   "cell_type": "code",
   "execution_count": 35,
   "id": "9eb71106-5797-4f3d-a751-7c6503a847ec",
   "metadata": {},
   "outputs": [
    {
     "data": {
      "text/plain": [
       "1    12224\n",
       "0      557\n",
       "dtype: int64"
      ]
     },
     "execution_count": 35,
     "metadata": {},
     "output_type": "execute_result"
    }
   ],
   "source": [
    "pd.Series(y_pred_class_valid_2_auc).value_counts()"
   ]
  },
  {
   "cell_type": "code",
   "execution_count": 36,
   "id": "86edf21e-1992-48d8-8b2d-39f46f63993f",
   "metadata": {},
   "outputs": [
    {
     "name": "stdout",
     "output_type": "stream",
     "text": [
      "///////////////////////// TRAIN\n",
      "RECALL     : 0.95842572\n",
      "EFECTIVIDAD: 0.14148357\n",
      "F1 SCORE   : 0.24656851\n",
      "accuracy_score   : 0.17320031\n",
      "///////////////////////// VALIDATION\n",
      "RECALL     : 0.95232816\n",
      "EFECTIVIDAD: 0.14054319\n",
      "F1 SCORE   : 0.24493869\n",
      "accuracy_score   : 0.17126985\n"
     ]
    }
   ],
   "source": [
    "print(\"/\"*25, \"TRAIN\")\n",
    "print(\"RECALL     : %1.8f\" % recall_score(y_train, y_pred_class_train_2_auc))\n",
    "print(\"EFECTIVIDAD: %1.8f\" % precision_score(y_train, y_pred_class_train_2_auc))\n",
    "print(\"F1 SCORE   : %1.8f\" % f1_score(y_train, y_pred_class_train_2_auc))\n",
    "print(\"accuracy_score   : %1.8f\" % accuracy_score(y_train, y_pred_class_train_2_auc))\n",
    "\n",
    "print(\"/\"*25, \"VALIDATION\")\n",
    "print(\"RECALL     : %1.8f\" % recall_score(y_valid, y_pred_class_valid_2_auc))\n",
    "print(\"EFECTIVIDAD: %1.8f\" % precision_score(y_valid, y_pred_class_valid_2_auc))\n",
    "print(\"F1 SCORE   : %1.8f\" % f1_score(y_valid, y_pred_class_valid_2_auc))\n",
    "print(\"accuracy_score   : %1.8f\" % accuracy_score(y_valid, y_pred_class_valid_2_auc))"
   ]
  },
  {
   "cell_type": "markdown",
   "id": "4250957f-c68c-4d5a-97c1-4241ec5db073",
   "metadata": {},
   "source": [
    "### "
   ]
  },
  {
   "cell_type": "code",
   "execution_count": null,
   "id": "88fd174a-17cb-4152-9f09-1fda38ea2fe5",
   "metadata": {},
   "outputs": [],
   "source": []
  },
  {
   "cell_type": "code",
   "execution_count": null,
   "id": "fbbeecd2-63c4-46d3-b039-061eac9c4689",
   "metadata": {},
   "outputs": [],
   "source": []
  },
  {
   "cell_type": "code",
   "execution_count": null,
   "id": "cd6bf05d-dd52-4430-83a3-68a70c765d7c",
   "metadata": {},
   "outputs": [],
   "source": []
  },
  {
   "cell_type": "code",
   "execution_count": null,
   "id": "b04104da-6a33-4228-9120-1d67abdb7c20",
   "metadata": {},
   "outputs": [],
   "source": []
  },
  {
   "cell_type": "code",
   "execution_count": null,
   "id": "c7f52ef9-058a-4d1a-a362-989da54a1e31",
   "metadata": {},
   "outputs": [],
   "source": []
  },
  {
   "cell_type": "code",
   "execution_count": null,
   "id": "b6907203-ed12-4c94-a55d-5c61e92de7b8",
   "metadata": {},
   "outputs": [],
   "source": []
  },
  {
   "cell_type": "code",
   "execution_count": null,
   "id": "96f17014-7e7a-49f6-83f0-ea1de729c5a1",
   "metadata": {},
   "outputs": [],
   "source": []
  },
  {
   "cell_type": "code",
   "execution_count": null,
   "id": "26e98a1c-33a2-41ad-97d7-6e09555b9aa2",
   "metadata": {},
   "outputs": [],
   "source": []
  },
  {
   "cell_type": "code",
   "execution_count": null,
   "id": "2f347e15-0629-46b2-aebc-58cabeff0543",
   "metadata": {},
   "outputs": [],
   "source": []
  },
  {
   "cell_type": "code",
   "execution_count": null,
   "id": "c4c492f3-94ed-489d-b668-bfbf01da9e6d",
   "metadata": {},
   "outputs": [],
   "source": []
  }
 ],
 "metadata": {
  "kernelspec": {
   "display_name": "Python 3",
   "language": "python",
   "name": "python3"
  },
  "language_info": {
   "codemirror_mode": {
    "name": "ipython",
    "version": 3
   },
   "file_extension": ".py",
   "mimetype": "text/x-python",
   "name": "python",
   "nbconvert_exporter": "python",
   "pygments_lexer": "ipython3",
   "version": "3.8.5"
  }
 },
 "nbformat": 4,
 "nbformat_minor": 5
}
