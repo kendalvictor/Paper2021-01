{
 "cells": [
  {
   "cell_type": "code",
   "execution_count": 1,
   "id": "42ae479b-e86e-4735-837e-f6d147e99b12",
   "metadata": {},
   "outputs": [],
   "source": [
    "# Nativos\n",
    "import random as rn\n",
    "import os\n",
    "import sys\n",
    "import gc\n",
    "\n",
    "#calculo\n",
    "import numpy as np\n",
    "import pandas as pd\n",
    "import scipy\n",
    "\n",
    "import pandas as pd\n",
    "import scorecardpy as sc\n",
    "\n",
    "SEED = 29082013\n",
    "os.environ['PYTHONHASHSEED'] = str(SEED)\n",
    "np.random.seed(SEED)\n",
    "rn.seed(SEED)"
   ]
  },
  {
   "cell_type": "code",
   "execution_count": 2,
   "id": "801bea8d-50a7-4a50-af9b-6fe3c56e0ef3",
   "metadata": {},
   "outputs": [
    {
     "data": {
      "text/plain": [
       "((54315, 59), (9586, 59), (54315, 1), (9586, 1))"
      ]
     },
     "execution_count": 2,
     "metadata": {},
     "output_type": "execute_result"
    }
   ],
   "source": [
    "x_train = pd.read_csv(\"X_train.csv\")\n",
    "x_valid = pd.read_csv(\"X_valid.csv\")\n",
    "\n",
    "y_train = pd.read_csv(\"y_train.csv\")\n",
    "y_valid = pd.read_csv(\"y_valid.csv\")\n",
    "\n",
    "x_train.shape, x_valid.shape, y_train.shape, y_valid.shape"
   ]
  },
  {
   "cell_type": "code",
   "execution_count": 3,
   "id": "813eef17-49d7-472a-b487-726087e4f1c3",
   "metadata": {},
   "outputs": [],
   "source": [
    "def corr_detail(df_corr, min_value=0.85, show_detail=True, col_target='target'):\n",
    "    \n",
    "    corr_taret = df_corr[col_target].sort_values(ascending=False).apply(lambda _: abs(_)).sort_values(ascending=False)\n",
    "    \n",
    "    from itertools import combinations\n",
    "    def add_dicc(key, val, num, dicc):\n",
    "        if key in dicc:\n",
    "            dicc[key].append((val, num))\n",
    "        else:\n",
    "            dicc[key] = [(val, num)]\n",
    "        \n",
    "    set_unique, list_detected = set(), []\n",
    "    dicc_detected = {}\n",
    "    \n",
    "\n",
    "    for cols in combinations(list(df_corr.columns), 2):\n",
    "        corr_columns = np.fabs(df_corr[cols[0]][cols[1]])\n",
    "        \n",
    "        if corr_columns >= min_value:\n",
    "            set_unique.update(cols)\n",
    "            list_detected.extend(list(cols))\n",
    "            add_dicc(cols[0], cols[1], corr_columns, dicc_detected)\n",
    "            add_dicc(cols[1], cols[0], corr_columns, dicc_detected)        \n",
    "            \n",
    "    print(\"ANALISIS CORRELACION ENTRE COLUMNAS :\")\n",
    "    columnas_aparece = []\n",
    "    cols_del = []\n",
    "    for colc, cant in sorted(\n",
    "        [(col, list_detected.count(col)) for col in set_unique], key=lambda _: _[1], reverse=True):\n",
    "        \n",
    "        if colc not in columnas_aparece:\n",
    "            print(\"/\"*30)\n",
    "            print(\"-> \", colc, ' :::: ',cant, ' ///// ', corr_taret[colc])\n",
    "            columnas_aparece.append(colc)\n",
    "            if show_detail:\n",
    "                for _ in dicc_detected[colc]:\n",
    "                    print(\" \"*10, *_, '///// ',  corr_taret[_[0]])\n",
    "                    #columnas_aparece.append(_[0])\n",
    "                    \n",
    "                    if corr_taret[_[0]] <= corr_taret[colc]:\n",
    "                        cols_del.append(_[0])\n",
    "                    else:\n",
    "                        cols_del.append(colc)\n",
    "                    \n",
    "    del dicc_detected\n",
    "    del list_detected\n",
    "    del set_unique\n",
    "    return list(set(cols_del))"
   ]
  },
  {
   "cell_type": "markdown",
   "id": "7b5a3e62-7c46-4189-b4d5-467a76f6c52a",
   "metadata": {},
   "source": [
    "### >> Modleo TOP IV"
   ]
  },
  {
   "cell_type": "code",
   "execution_count": 4,
   "id": "17fad8f0-8b9f-4d08-a450-99d7e418352b",
   "metadata": {},
   "outputs": [],
   "source": [
    "cols_aporte = [\n",
    "     'autocontrol_x_confianza_entre_tiempo_empleo',\n",
    "     'saldo_cuenta_x_confianza_entre_tiempo_empleo',\n",
    "     'autocontrol_x_impulsividad_entre_tiempo_empleo',\n",
    "     'valor_prestamo_x_saldo_cuenta',\n",
    "     'valor_prestamo_x_impulsividad_entre_tiempo_empleo',\n",
    "     'saldo_cuenta_x_autocontrol',\n",
    "     'Saldo_cuenta',\n",
    "     'tiempo_empleo_x_impulsividad_entre_cuentas_otros',\n",
    "     'valor_prestamo_x_autocontrol_entre_tiempo_empleo',\n",
    "     'valor_prestamo_x_saldo_cuenta_entre_tiempo_empleo',\n",
    "     'impulsividad_x_confianza_entre_tiempo_empleo',\n",
    "     'cuentas_otros_x_impulsividad_entre_tiempo_empleo'\n",
    "]"
   ]
  },
  {
   "cell_type": "code",
   "execution_count": 5,
   "id": "d21cc8f4-e2a7-487a-820d-055eeae6fde0",
   "metadata": {},
   "outputs": [
    {
     "data": {
      "text/html": [
       "<style  type=\"text/css\" >\n",
       "#T_d38a7_row0_col0,#T_d38a7_row1_col1,#T_d38a7_row2_col2,#T_d38a7_row3_col3,#T_d38a7_row4_col4,#T_d38a7_row5_col5,#T_d38a7_row6_col6,#T_d38a7_row7_col7,#T_d38a7_row8_col8,#T_d38a7_row9_col9,#T_d38a7_row10_col10,#T_d38a7_row11_col11,#T_d38a7_row12_col12{\n",
       "            background-color:  #b40426;\n",
       "            color:  #f1f1f1;\n",
       "        }#T_d38a7_row0_col1,#T_d38a7_row1_col0{\n",
       "            background-color:  #96b7ff;\n",
       "            color:  #000000;\n",
       "        }#T_d38a7_row0_col2,#T_d38a7_row2_col0,#T_d38a7_row2_col10,#T_d38a7_row10_col2{\n",
       "            background-color:  #ca3b37;\n",
       "            color:  #f1f1f1;\n",
       "        }#T_d38a7_row0_col3,#T_d38a7_row1_col12,#T_d38a7_row2_col3,#T_d38a7_row3_col0,#T_d38a7_row3_col2,#T_d38a7_row3_col10,#T_d38a7_row3_col11,#T_d38a7_row3_col12,#T_d38a7_row4_col6,#T_d38a7_row6_col4,#T_d38a7_row6_col10,#T_d38a7_row6_col11,#T_d38a7_row6_col12,#T_d38a7_row9_col12,#T_d38a7_row10_col3,#T_d38a7_row10_col6,#T_d38a7_row11_col3,#T_d38a7_row11_col6,#T_d38a7_row12_col1,#T_d38a7_row12_col3,#T_d38a7_row12_col6,#T_d38a7_row12_col9{\n",
       "            background-color:  #688aef;\n",
       "            color:  #000000;\n",
       "        }#T_d38a7_row0_col4,#T_d38a7_row4_col0{\n",
       "            background-color:  #e97a5f;\n",
       "            color:  #000000;\n",
       "        }#T_d38a7_row0_col5,#T_d38a7_row3_col7,#T_d38a7_row5_col0,#T_d38a7_row5_col7,#T_d38a7_row5_col8,#T_d38a7_row6_col7,#T_d38a7_row7_col3,#T_d38a7_row7_col5,#T_d38a7_row7_col6,#T_d38a7_row8_col5{\n",
       "            background-color:  #6b8df0;\n",
       "            color:  #000000;\n",
       "        }#T_d38a7_row0_col6,#T_d38a7_row0_col12,#T_d38a7_row2_col6,#T_d38a7_row2_col12,#T_d38a7_row4_col5,#T_d38a7_row4_col12,#T_d38a7_row5_col4,#T_d38a7_row5_col10,#T_d38a7_row5_col11,#T_d38a7_row6_col0,#T_d38a7_row6_col2,#T_d38a7_row6_col8,#T_d38a7_row7_col12,#T_d38a7_row8_col6,#T_d38a7_row8_col12,#T_d38a7_row10_col5,#T_d38a7_row10_col12,#T_d38a7_row11_col5,#T_d38a7_row11_col12,#T_d38a7_row12_col0,#T_d38a7_row12_col2,#T_d38a7_row12_col4,#T_d38a7_row12_col7,#T_d38a7_row12_col8,#T_d38a7_row12_col10,#T_d38a7_row12_col11{\n",
       "            background-color:  #6a8bef;\n",
       "            color:  #000000;\n",
       "        }#T_d38a7_row0_col7,#T_d38a7_row7_col0{\n",
       "            background-color:  #3b4cc0;\n",
       "            color:  #f1f1f1;\n",
       "        }#T_d38a7_row0_col8,#T_d38a7_row2_col8,#T_d38a7_row4_col10,#T_d38a7_row8_col0,#T_d38a7_row8_col2,#T_d38a7_row10_col4{\n",
       "            background-color:  #df634e;\n",
       "            color:  #000000;\n",
       "        }#T_d38a7_row0_col9,#T_d38a7_row1_col10,#T_d38a7_row9_col0,#T_d38a7_row10_col1{\n",
       "            background-color:  #94b6ff;\n",
       "            color:  #000000;\n",
       "        }#T_d38a7_row0_col10,#T_d38a7_row10_col0{\n",
       "            background-color:  #c83836;\n",
       "            color:  #f1f1f1;\n",
       "        }#T_d38a7_row0_col11,#T_d38a7_row6_col9,#T_d38a7_row9_col6,#T_d38a7_row11_col0{\n",
       "            background-color:  #f2cab5;\n",
       "            color:  #000000;\n",
       "        }#T_d38a7_row1_col2,#T_d38a7_row2_col1{\n",
       "            background-color:  #92b4fe;\n",
       "            color:  #000000;\n",
       "        }#T_d38a7_row1_col3,#T_d38a7_row3_col1{\n",
       "            background-color:  #e9d5cb;\n",
       "            color:  #000000;\n",
       "        }#T_d38a7_row1_col4,#T_d38a7_row4_col1{\n",
       "            background-color:  #8caffe;\n",
       "            color:  #000000;\n",
       "        }#T_d38a7_row1_col5,#T_d38a7_row5_col1{\n",
       "            background-color:  #f7b194;\n",
       "            color:  #000000;\n",
       "        }#T_d38a7_row1_col6,#T_d38a7_row6_col1{\n",
       "            background-color:  #f7ba9f;\n",
       "            color:  #000000;\n",
       "        }#T_d38a7_row1_col7,#T_d38a7_row7_col1,#T_d38a7_row7_col11,#T_d38a7_row11_col7{\n",
       "            background-color:  #6384eb;\n",
       "            color:  #000000;\n",
       "        }#T_d38a7_row1_col8,#T_d38a7_row8_col1{\n",
       "            background-color:  #8db0fe;\n",
       "            color:  #000000;\n",
       "        }#T_d38a7_row1_col9,#T_d38a7_row9_col1{\n",
       "            background-color:  #d95847;\n",
       "            color:  #000000;\n",
       "        }#T_d38a7_row1_col11,#T_d38a7_row11_col1{\n",
       "            background-color:  #80a3fa;\n",
       "            color:  #000000;\n",
       "        }#T_d38a7_row2_col4,#T_d38a7_row4_col2{\n",
       "            background-color:  #de614d;\n",
       "            color:  #000000;\n",
       "        }#T_d38a7_row2_col5,#T_d38a7_row5_col2{\n",
       "            background-color:  #6c8ff1;\n",
       "            color:  #000000;\n",
       "        }#T_d38a7_row2_col7,#T_d38a7_row7_col2,#T_d38a7_row7_col8,#T_d38a7_row7_col10,#T_d38a7_row8_col7,#T_d38a7_row10_col7{\n",
       "            background-color:  #3e51c5;\n",
       "            color:  #f1f1f1;\n",
       "        }#T_d38a7_row2_col9,#T_d38a7_row9_col2,#T_d38a7_row9_col10,#T_d38a7_row10_col9{\n",
       "            background-color:  #93b5fe;\n",
       "            color:  #000000;\n",
       "        }#T_d38a7_row2_col11,#T_d38a7_row11_col2{\n",
       "            background-color:  #f5c0a7;\n",
       "            color:  #000000;\n",
       "        }#T_d38a7_row3_col4,#T_d38a7_row3_col8,#T_d38a7_row4_col3,#T_d38a7_row8_col3{\n",
       "            background-color:  #6f92f3;\n",
       "            color:  #000000;\n",
       "        }#T_d38a7_row3_col5,#T_d38a7_row5_col3{\n",
       "            background-color:  #dc5d4a;\n",
       "            color:  #000000;\n",
       "        }#T_d38a7_row3_col6,#T_d38a7_row6_col3{\n",
       "            background-color:  #d44e41;\n",
       "            color:  #000000;\n",
       "        }#T_d38a7_row3_col9,#T_d38a7_row9_col3{\n",
       "            background-color:  #f5c2aa;\n",
       "            color:  #000000;\n",
       "        }#T_d38a7_row4_col7,#T_d38a7_row7_col4{\n",
       "            background-color:  #4257c9;\n",
       "            color:  #f1f1f1;\n",
       "        }#T_d38a7_row4_col8,#T_d38a7_row8_col4{\n",
       "            background-color:  #c73635;\n",
       "            color:  #f1f1f1;\n",
       "        }#T_d38a7_row4_col9,#T_d38a7_row9_col4{\n",
       "            background-color:  #9abbff;\n",
       "            color:  #000000;\n",
       "        }#T_d38a7_row4_col11,#T_d38a7_row11_col4{\n",
       "            background-color:  #f0cdbb;\n",
       "            color:  #000000;\n",
       "        }#T_d38a7_row5_col6,#T_d38a7_row6_col5{\n",
       "            background-color:  #ba162b;\n",
       "            color:  #f1f1f1;\n",
       "        }#T_d38a7_row5_col9,#T_d38a7_row9_col5{\n",
       "            background-color:  #f5c4ac;\n",
       "            color:  #000000;\n",
       "        }#T_d38a7_row5_col12,#T_d38a7_row12_col5{\n",
       "            background-color:  #6788ee;\n",
       "            color:  #000000;\n",
       "        }#T_d38a7_row7_col9,#T_d38a7_row9_col7{\n",
       "            background-color:  #6282ea;\n",
       "            color:  #000000;\n",
       "        }#T_d38a7_row8_col9,#T_d38a7_row9_col8{\n",
       "            background-color:  #9bbcff;\n",
       "            color:  #000000;\n",
       "        }#T_d38a7_row8_col10,#T_d38a7_row10_col8{\n",
       "            background-color:  #ea7b60;\n",
       "            color:  #000000;\n",
       "        }#T_d38a7_row8_col11,#T_d38a7_row11_col8{\n",
       "            background-color:  #ebd3c6;\n",
       "            color:  #000000;\n",
       "        }#T_d38a7_row9_col11,#T_d38a7_row11_col9{\n",
       "            background-color:  #82a6fb;\n",
       "            color:  #000000;\n",
       "        }#T_d38a7_row10_col11,#T_d38a7_row11_col10{\n",
       "            background-color:  #f5c1a9;\n",
       "            color:  #000000;\n",
       "        }</style><table id=\"T_d38a7_\" ><thead>    <tr>        <th class=\"blank level0\" ></th>        <th class=\"col_heading level0 col0\" >autocontrol_x_confianza_entre_tiempo_empleo</th>        <th class=\"col_heading level0 col1\" >saldo_cuenta_x_confianza_entre_tiempo_empleo</th>        <th class=\"col_heading level0 col2\" >autocontrol_x_impulsividad_entre_tiempo_empleo</th>        <th class=\"col_heading level0 col3\" >valor_prestamo_x_saldo_cuenta</th>        <th class=\"col_heading level0 col4\" >valor_prestamo_x_impulsividad_entre_tiempo_empleo</th>        <th class=\"col_heading level0 col5\" >saldo_cuenta_x_autocontrol</th>        <th class=\"col_heading level0 col6\" >Saldo_cuenta</th>        <th class=\"col_heading level0 col7\" >tiempo_empleo_x_impulsividad_entre_cuentas_otros</th>        <th class=\"col_heading level0 col8\" >valor_prestamo_x_autocontrol_entre_tiempo_empleo</th>        <th class=\"col_heading level0 col9\" >valor_prestamo_x_saldo_cuenta_entre_tiempo_empleo</th>        <th class=\"col_heading level0 col10\" >impulsividad_x_confianza_entre_tiempo_empleo</th>        <th class=\"col_heading level0 col11\" >cuentas_otros_x_impulsividad_entre_tiempo_empleo</th>        <th class=\"col_heading level0 col12\" >target</th>    </tr></thead><tbody>\n",
       "                <tr>\n",
       "                        <th id=\"T_d38a7_level0_row0\" class=\"row_heading level0 row0\" >autocontrol_x_confianza_entre_tiempo_empleo</th>\n",
       "                        <td id=\"T_d38a7_row0_col0\" class=\"data row0 col0\" >1.00000</td>\n",
       "                        <td id=\"T_d38a7_row0_col1\" class=\"data row0 col1\" >0.14533</td>\n",
       "                        <td id=\"T_d38a7_row0_col2\" class=\"data row0 col2\" >0.93018</td>\n",
       "                        <td id=\"T_d38a7_row0_col3\" class=\"data row0 col3\" >-0.00328</td>\n",
       "                        <td id=\"T_d38a7_row0_col4\" class=\"data row0 col4\" >0.78968</td>\n",
       "                        <td id=\"T_d38a7_row0_col5\" class=\"data row0 col5\" >0.00625</td>\n",
       "                        <td id=\"T_d38a7_row0_col6\" class=\"data row0 col6\" >-0.00269</td>\n",
       "                        <td id=\"T_d38a7_row0_col7\" class=\"data row0 col7\" >-0.17761</td>\n",
       "                        <td id=\"T_d38a7_row0_col8\" class=\"data row0 col8\" >0.84778</td>\n",
       "                        <td id=\"T_d38a7_row0_col9\" class=\"data row0 col9\" >0.14250</td>\n",
       "                        <td id=\"T_d38a7_row0_col10\" class=\"data row0 col10\" >0.93212</td>\n",
       "                        <td id=\"T_d38a7_row0_col11\" class=\"data row0 col11\" >0.53352</td>\n",
       "                        <td id=\"T_d38a7_row0_col12\" class=\"data row0 col12\" >-0.00017</td>\n",
       "            </tr>\n",
       "            <tr>\n",
       "                        <th id=\"T_d38a7_level0_row1\" class=\"row_heading level0 row1\" >saldo_cuenta_x_confianza_entre_tiempo_empleo</th>\n",
       "                        <td id=\"T_d38a7_row1_col0\" class=\"data row1 col0\" >0.14533</td>\n",
       "                        <td id=\"T_d38a7_row1_col1\" class=\"data row1 col1\" >1.00000</td>\n",
       "                        <td id=\"T_d38a7_row1_col2\" class=\"data row1 col2\" >0.13475</td>\n",
       "                        <td id=\"T_d38a7_row1_col3\" class=\"data row1 col3\" >0.46674</td>\n",
       "                        <td id=\"T_d38a7_row1_col4\" class=\"data row1 col4\" >0.11634</td>\n",
       "                        <td id=\"T_d38a7_row1_col5\" class=\"data row1 col5\" >0.62795</td>\n",
       "                        <td id=\"T_d38a7_row1_col6\" class=\"data row1 col6\" >0.59896</td>\n",
       "                        <td id=\"T_d38a7_row1_col7\" class=\"data row1 col7\" >-0.02473</td>\n",
       "                        <td id=\"T_d38a7_row1_col8\" class=\"data row1 col8\" >0.12113</td>\n",
       "                        <td id=\"T_d38a7_row1_col9\" class=\"data row1 col9\" >0.86892</td>\n",
       "                        <td id=\"T_d38a7_row1_col10\" class=\"data row1 col10\" >0.14148</td>\n",
       "                        <td id=\"T_d38a7_row1_col11\" class=\"data row1 col11\" >0.07417</td>\n",
       "                        <td id=\"T_d38a7_row1_col12\" class=\"data row1 col12\" >-0.00394</td>\n",
       "            </tr>\n",
       "            <tr>\n",
       "                        <th id=\"T_d38a7_level0_row2\" class=\"row_heading level0 row2\" >autocontrol_x_impulsividad_entre_tiempo_empleo</th>\n",
       "                        <td id=\"T_d38a7_row2_col0\" class=\"data row2 col0\" >0.93018</td>\n",
       "                        <td id=\"T_d38a7_row2_col1\" class=\"data row2 col1\" >0.13475</td>\n",
       "                        <td id=\"T_d38a7_row2_col2\" class=\"data row2 col2\" >1.00000</td>\n",
       "                        <td id=\"T_d38a7_row2_col3\" class=\"data row2 col3\" >-0.00340</td>\n",
       "                        <td id=\"T_d38a7_row2_col4\" class=\"data row2 col4\" >0.84830</td>\n",
       "                        <td id=\"T_d38a7_row2_col5\" class=\"data row2 col5\" >0.00771</td>\n",
       "                        <td id=\"T_d38a7_row2_col6\" class=\"data row2 col6\" >-0.00133</td>\n",
       "                        <td id=\"T_d38a7_row2_col7\" class=\"data row2 col7\" >-0.16117</td>\n",
       "                        <td id=\"T_d38a7_row2_col8\" class=\"data row2 col8\" >0.84610</td>\n",
       "                        <td id=\"T_d38a7_row2_col9\" class=\"data row2 col9\" >0.13934</td>\n",
       "                        <td id=\"T_d38a7_row2_col10\" class=\"data row2 col10\" >0.93095</td>\n",
       "                        <td id=\"T_d38a7_row2_col11\" class=\"data row2 col11\" >0.57289</td>\n",
       "                        <td id=\"T_d38a7_row2_col12\" class=\"data row2 col12\" >-0.00092</td>\n",
       "            </tr>\n",
       "            <tr>\n",
       "                        <th id=\"T_d38a7_level0_row3\" class=\"row_heading level0 row3\" >valor_prestamo_x_saldo_cuenta</th>\n",
       "                        <td id=\"T_d38a7_row3_col0\" class=\"data row3 col0\" >-0.00328</td>\n",
       "                        <td id=\"T_d38a7_row3_col1\" class=\"data row3 col1\" >0.46674</td>\n",
       "                        <td id=\"T_d38a7_row3_col2\" class=\"data row3 col2\" >-0.00340</td>\n",
       "                        <td id=\"T_d38a7_row3_col3\" class=\"data row3 col3\" >1.00000</td>\n",
       "                        <td id=\"T_d38a7_row3_col4\" class=\"data row3 col4\" >0.01759</td>\n",
       "                        <td id=\"T_d38a7_row3_col5\" class=\"data row3 col5\" >0.86153</td>\n",
       "                        <td id=\"T_d38a7_row3_col6\" class=\"data row3 col6\" >0.89351</td>\n",
       "                        <td id=\"T_d38a7_row3_col7\" class=\"data row3 col7\" >0.00227</td>\n",
       "                        <td id=\"T_d38a7_row3_col8\" class=\"data row3 col8\" >0.01925</td>\n",
       "                        <td id=\"T_d38a7_row3_col9\" class=\"data row3 col9\" >0.56631</td>\n",
       "                        <td id=\"T_d38a7_row3_col10\" class=\"data row3 col10\" >-0.00525</td>\n",
       "                        <td id=\"T_d38a7_row3_col11\" class=\"data row3 col11\" >-0.00402</td>\n",
       "                        <td id=\"T_d38a7_row3_col12\" class=\"data row3 col12\" >-0.00645</td>\n",
       "            </tr>\n",
       "            <tr>\n",
       "                        <th id=\"T_d38a7_level0_row4\" class=\"row_heading level0 row4\" >valor_prestamo_x_impulsividad_entre_tiempo_empleo</th>\n",
       "                        <td id=\"T_d38a7_row4_col0\" class=\"data row4 col0\" >0.78968</td>\n",
       "                        <td id=\"T_d38a7_row4_col1\" class=\"data row4 col1\" >0.11634</td>\n",
       "                        <td id=\"T_d38a7_row4_col2\" class=\"data row4 col2\" >0.84830</td>\n",
       "                        <td id=\"T_d38a7_row4_col3\" class=\"data row4 col3\" >0.01759</td>\n",
       "                        <td id=\"T_d38a7_row4_col4\" class=\"data row4 col4\" >1.00000</td>\n",
       "                        <td id=\"T_d38a7_row4_col5\" class=\"data row4 col5\" >-0.00208</td>\n",
       "                        <td id=\"T_d38a7_row4_col6\" class=\"data row4 col6\" >-0.00449</td>\n",
       "                        <td id=\"T_d38a7_row4_col7\" class=\"data row4 col7\" >-0.14548</td>\n",
       "                        <td id=\"T_d38a7_row4_col8\" class=\"data row4 col8\" >0.93780</td>\n",
       "                        <td id=\"T_d38a7_row4_col9\" class=\"data row4 col9\" >0.16035</td>\n",
       "                        <td id=\"T_d38a7_row4_col10\" class=\"data row4 col10\" >0.84508</td>\n",
       "                        <td id=\"T_d38a7_row4_col11\" class=\"data row4 col11\" >0.51664</td>\n",
       "                        <td id=\"T_d38a7_row4_col12\" class=\"data row4 col12\" >0.00149</td>\n",
       "            </tr>\n",
       "            <tr>\n",
       "                        <th id=\"T_d38a7_level0_row5\" class=\"row_heading level0 row5\" >saldo_cuenta_x_autocontrol</th>\n",
       "                        <td id=\"T_d38a7_row5_col0\" class=\"data row5 col0\" >0.00625</td>\n",
       "                        <td id=\"T_d38a7_row5_col1\" class=\"data row5 col1\" >0.62795</td>\n",
       "                        <td id=\"T_d38a7_row5_col2\" class=\"data row5 col2\" >0.00771</td>\n",
       "                        <td id=\"T_d38a7_row5_col3\" class=\"data row5 col3\" >0.86153</td>\n",
       "                        <td id=\"T_d38a7_row5_col4\" class=\"data row5 col4\" >-0.00208</td>\n",
       "                        <td id=\"T_d38a7_row5_col5\" class=\"data row5 col5\" >1.00000</td>\n",
       "                        <td id=\"T_d38a7_row5_col6\" class=\"data row5 col6\" >0.98066</td>\n",
       "                        <td id=\"T_d38a7_row5_col7\" class=\"data row5 col7\" >0.00298</td>\n",
       "                        <td id=\"T_d38a7_row5_col8\" class=\"data row5 col8\" >0.00581</td>\n",
       "                        <td id=\"T_d38a7_row5_col9\" class=\"data row5 col9\" >0.56201</td>\n",
       "                        <td id=\"T_d38a7_row5_col10\" class=\"data row5 col10\" >-0.00151</td>\n",
       "                        <td id=\"T_d38a7_row5_col11\" class=\"data row5 col11\" >-0.00251</td>\n",
       "                        <td id=\"T_d38a7_row5_col12\" class=\"data row5 col12\" >-0.00743</td>\n",
       "            </tr>\n",
       "            <tr>\n",
       "                        <th id=\"T_d38a7_level0_row6\" class=\"row_heading level0 row6\" >Saldo_cuenta</th>\n",
       "                        <td id=\"T_d38a7_row6_col0\" class=\"data row6 col0\" >-0.00269</td>\n",
       "                        <td id=\"T_d38a7_row6_col1\" class=\"data row6 col1\" >0.59896</td>\n",
       "                        <td id=\"T_d38a7_row6_col2\" class=\"data row6 col2\" >-0.00133</td>\n",
       "                        <td id=\"T_d38a7_row6_col3\" class=\"data row6 col3\" >0.89351</td>\n",
       "                        <td id=\"T_d38a7_row6_col4\" class=\"data row6 col4\" >-0.00449</td>\n",
       "                        <td id=\"T_d38a7_row6_col5\" class=\"data row6 col5\" >0.98066</td>\n",
       "                        <td id=\"T_d38a7_row6_col6\" class=\"data row6 col6\" >1.00000</td>\n",
       "                        <td id=\"T_d38a7_row6_col7\" class=\"data row6 col7\" >0.00345</td>\n",
       "                        <td id=\"T_d38a7_row6_col8\" class=\"data row6 col8\" >-0.00261</td>\n",
       "                        <td id=\"T_d38a7_row6_col9\" class=\"data row6 col9\" >0.53292</td>\n",
       "                        <td id=\"T_d38a7_row6_col10\" class=\"data row6 col10\" >-0.00403</td>\n",
       "                        <td id=\"T_d38a7_row6_col11\" class=\"data row6 col11\" >-0.00472</td>\n",
       "                        <td id=\"T_d38a7_row6_col12\" class=\"data row6 col12\" >-0.00716</td>\n",
       "            </tr>\n",
       "            <tr>\n",
       "                        <th id=\"T_d38a7_level0_row7\" class=\"row_heading level0 row7\" >tiempo_empleo_x_impulsividad_entre_cuentas_otros</th>\n",
       "                        <td id=\"T_d38a7_row7_col0\" class=\"data row7 col0\" >-0.17761</td>\n",
       "                        <td id=\"T_d38a7_row7_col1\" class=\"data row7 col1\" >-0.02473</td>\n",
       "                        <td id=\"T_d38a7_row7_col2\" class=\"data row7 col2\" >-0.16117</td>\n",
       "                        <td id=\"T_d38a7_row7_col3\" class=\"data row7 col3\" >0.00227</td>\n",
       "                        <td id=\"T_d38a7_row7_col4\" class=\"data row7 col4\" >-0.14548</td>\n",
       "                        <td id=\"T_d38a7_row7_col5\" class=\"data row7 col5\" >0.00298</td>\n",
       "                        <td id=\"T_d38a7_row7_col6\" class=\"data row7 col6\" >0.00345</td>\n",
       "                        <td id=\"T_d38a7_row7_col7\" class=\"data row7 col7\" >1.00000</td>\n",
       "                        <td id=\"T_d38a7_row7_col8\" class=\"data row7 col8\" >-0.16040</td>\n",
       "                        <td id=\"T_d38a7_row7_col9\" class=\"data row7 col9\" >-0.02702</td>\n",
       "                        <td id=\"T_d38a7_row7_col10\" class=\"data row7 col10\" >-0.16117</td>\n",
       "                        <td id=\"T_d38a7_row7_col11\" class=\"data row7 col11\" >-0.02241</td>\n",
       "                        <td id=\"T_d38a7_row7_col12\" class=\"data row7 col12\" >-0.00043</td>\n",
       "            </tr>\n",
       "            <tr>\n",
       "                        <th id=\"T_d38a7_level0_row8\" class=\"row_heading level0 row8\" >valor_prestamo_x_autocontrol_entre_tiempo_empleo</th>\n",
       "                        <td id=\"T_d38a7_row8_col0\" class=\"data row8 col0\" >0.84778</td>\n",
       "                        <td id=\"T_d38a7_row8_col1\" class=\"data row8 col1\" >0.12113</td>\n",
       "                        <td id=\"T_d38a7_row8_col2\" class=\"data row8 col2\" >0.84610</td>\n",
       "                        <td id=\"T_d38a7_row8_col3\" class=\"data row8 col3\" >0.01925</td>\n",
       "                        <td id=\"T_d38a7_row8_col4\" class=\"data row8 col4\" >0.93780</td>\n",
       "                        <td id=\"T_d38a7_row8_col5\" class=\"data row8 col5\" >0.00581</td>\n",
       "                        <td id=\"T_d38a7_row8_col6\" class=\"data row8 col6\" >-0.00261</td>\n",
       "                        <td id=\"T_d38a7_row8_col7\" class=\"data row8 col7\" >-0.16040</td>\n",
       "                        <td id=\"T_d38a7_row8_col8\" class=\"data row8 col8\" >1.00000</td>\n",
       "                        <td id=\"T_d38a7_row8_col9\" class=\"data row8 col9\" >0.16676</td>\n",
       "                        <td id=\"T_d38a7_row8_col10\" class=\"data row8 col10\" >0.78519</td>\n",
       "                        <td id=\"T_d38a7_row8_col11\" class=\"data row8 col11\" >0.48258</td>\n",
       "                        <td id=\"T_d38a7_row8_col12\" class=\"data row8 col12\" >0.00010</td>\n",
       "            </tr>\n",
       "            <tr>\n",
       "                        <th id=\"T_d38a7_level0_row9\" class=\"row_heading level0 row9\" >valor_prestamo_x_saldo_cuenta_entre_tiempo_empleo</th>\n",
       "                        <td id=\"T_d38a7_row9_col0\" class=\"data row9 col0\" >0.14250</td>\n",
       "                        <td id=\"T_d38a7_row9_col1\" class=\"data row9 col1\" >0.86892</td>\n",
       "                        <td id=\"T_d38a7_row9_col2\" class=\"data row9 col2\" >0.13934</td>\n",
       "                        <td id=\"T_d38a7_row9_col3\" class=\"data row9 col3\" >0.56631</td>\n",
       "                        <td id=\"T_d38a7_row9_col4\" class=\"data row9 col4\" >0.16035</td>\n",
       "                        <td id=\"T_d38a7_row9_col5\" class=\"data row9 col5\" >0.56201</td>\n",
       "                        <td id=\"T_d38a7_row9_col6\" class=\"data row9 col6\" >0.53292</td>\n",
       "                        <td id=\"T_d38a7_row9_col7\" class=\"data row9 col7\" >-0.02702</td>\n",
       "                        <td id=\"T_d38a7_row9_col8\" class=\"data row9 col8\" >0.16676</td>\n",
       "                        <td id=\"T_d38a7_row9_col9\" class=\"data row9 col9\" >1.00000</td>\n",
       "                        <td id=\"T_d38a7_row9_col10\" class=\"data row9 col10\" >0.13610</td>\n",
       "                        <td id=\"T_d38a7_row9_col11\" class=\"data row9 col11\" >0.08118</td>\n",
       "                        <td id=\"T_d38a7_row9_col12\" class=\"data row9 col12\" >-0.00574</td>\n",
       "            </tr>\n",
       "            <tr>\n",
       "                        <th id=\"T_d38a7_level0_row10\" class=\"row_heading level0 row10\" >impulsividad_x_confianza_entre_tiempo_empleo</th>\n",
       "                        <td id=\"T_d38a7_row10_col0\" class=\"data row10 col0\" >0.93212</td>\n",
       "                        <td id=\"T_d38a7_row10_col1\" class=\"data row10 col1\" >0.14148</td>\n",
       "                        <td id=\"T_d38a7_row10_col2\" class=\"data row10 col2\" >0.93095</td>\n",
       "                        <td id=\"T_d38a7_row10_col3\" class=\"data row10 col3\" >-0.00525</td>\n",
       "                        <td id=\"T_d38a7_row10_col4\" class=\"data row10 col4\" >0.84508</td>\n",
       "                        <td id=\"T_d38a7_row10_col5\" class=\"data row10 col5\" >-0.00151</td>\n",
       "                        <td id=\"T_d38a7_row10_col6\" class=\"data row10 col6\" >-0.00403</td>\n",
       "                        <td id=\"T_d38a7_row10_col7\" class=\"data row10 col7\" >-0.16117</td>\n",
       "                        <td id=\"T_d38a7_row10_col8\" class=\"data row10 col8\" >0.78519</td>\n",
       "                        <td id=\"T_d38a7_row10_col9\" class=\"data row10 col9\" >0.13610</td>\n",
       "                        <td id=\"T_d38a7_row10_col10\" class=\"data row10 col10\" >1.00000</td>\n",
       "                        <td id=\"T_d38a7_row10_col11\" class=\"data row10 col11\" >0.57216</td>\n",
       "                        <td id=\"T_d38a7_row10_col12\" class=\"data row10 col12\" >0.00053</td>\n",
       "            </tr>\n",
       "            <tr>\n",
       "                        <th id=\"T_d38a7_level0_row11\" class=\"row_heading level0 row11\" >cuentas_otros_x_impulsividad_entre_tiempo_empleo</th>\n",
       "                        <td id=\"T_d38a7_row11_col0\" class=\"data row11 col0\" >0.53352</td>\n",
       "                        <td id=\"T_d38a7_row11_col1\" class=\"data row11 col1\" >0.07417</td>\n",
       "                        <td id=\"T_d38a7_row11_col2\" class=\"data row11 col2\" >0.57289</td>\n",
       "                        <td id=\"T_d38a7_row11_col3\" class=\"data row11 col3\" >-0.00402</td>\n",
       "                        <td id=\"T_d38a7_row11_col4\" class=\"data row11 col4\" >0.51664</td>\n",
       "                        <td id=\"T_d38a7_row11_col5\" class=\"data row11 col5\" >-0.00251</td>\n",
       "                        <td id=\"T_d38a7_row11_col6\" class=\"data row11 col6\" >-0.00472</td>\n",
       "                        <td id=\"T_d38a7_row11_col7\" class=\"data row11 col7\" >-0.02241</td>\n",
       "                        <td id=\"T_d38a7_row11_col8\" class=\"data row11 col8\" >0.48258</td>\n",
       "                        <td id=\"T_d38a7_row11_col9\" class=\"data row11 col9\" >0.08118</td>\n",
       "                        <td id=\"T_d38a7_row11_col10\" class=\"data row11 col10\" >0.57216</td>\n",
       "                        <td id=\"T_d38a7_row11_col11\" class=\"data row11 col11\" >1.00000</td>\n",
       "                        <td id=\"T_d38a7_row11_col12\" class=\"data row11 col12\" >0.00152</td>\n",
       "            </tr>\n",
       "            <tr>\n",
       "                        <th id=\"T_d38a7_level0_row12\" class=\"row_heading level0 row12\" >target</th>\n",
       "                        <td id=\"T_d38a7_row12_col0\" class=\"data row12 col0\" >-0.00017</td>\n",
       "                        <td id=\"T_d38a7_row12_col1\" class=\"data row12 col1\" >-0.00394</td>\n",
       "                        <td id=\"T_d38a7_row12_col2\" class=\"data row12 col2\" >-0.00092</td>\n",
       "                        <td id=\"T_d38a7_row12_col3\" class=\"data row12 col3\" >-0.00645</td>\n",
       "                        <td id=\"T_d38a7_row12_col4\" class=\"data row12 col4\" >0.00149</td>\n",
       "                        <td id=\"T_d38a7_row12_col5\" class=\"data row12 col5\" >-0.00743</td>\n",
       "                        <td id=\"T_d38a7_row12_col6\" class=\"data row12 col6\" >-0.00716</td>\n",
       "                        <td id=\"T_d38a7_row12_col7\" class=\"data row12 col7\" >-0.00043</td>\n",
       "                        <td id=\"T_d38a7_row12_col8\" class=\"data row12 col8\" >0.00010</td>\n",
       "                        <td id=\"T_d38a7_row12_col9\" class=\"data row12 col9\" >-0.00574</td>\n",
       "                        <td id=\"T_d38a7_row12_col10\" class=\"data row12 col10\" >0.00053</td>\n",
       "                        <td id=\"T_d38a7_row12_col11\" class=\"data row12 col11\" >0.00152</td>\n",
       "                        <td id=\"T_d38a7_row12_col12\" class=\"data row12 col12\" >1.00000</td>\n",
       "            </tr>\n",
       "    </tbody></table>"
      ],
      "text/plain": [
       "<pandas.io.formats.style.Styler at 0x1c689430ac0>"
      ]
     },
     "execution_count": 5,
     "metadata": {},
     "output_type": "execute_result"
    }
   ],
   "source": [
    "x_train['target'] = y_train.values\n",
    "matriz_corr = x_train[cols_aporte + ['target']].corr(method='pearson')\n",
    "\n",
    "matriz_corr.style.background_gradient(\n",
    "    cmap='coolwarm', axis=None\n",
    ").set_precision(5)"
   ]
  },
  {
   "cell_type": "code",
   "execution_count": 6,
   "id": "e288e8dc-164d-4b4d-b9ba-5ba5e1c46cf1",
   "metadata": {},
   "outputs": [
    {
     "data": {
      "text/html": [
       "<style  type=\"text/css\" >\n",
       "#T_37e33_row0_col0{\n",
       "            background-color:  #b40426;\n",
       "            color:  #f1f1f1;\n",
       "        }#T_37e33_row1_col0,#T_37e33_row2_col0,#T_37e33_row3_col0,#T_37e33_row4_col0{\n",
       "            background-color:  #3c4ec2;\n",
       "            color:  #f1f1f1;\n",
       "        }#T_37e33_row5_col0,#T_37e33_row6_col0,#T_37e33_row7_col0,#T_37e33_row8_col0,#T_37e33_row9_col0,#T_37e33_row10_col0,#T_37e33_row11_col0,#T_37e33_row12_col0{\n",
       "            background-color:  #3b4cc0;\n",
       "            color:  #f1f1f1;\n",
       "        }</style><table id=\"T_37e33_\" ><thead>    <tr>        <th class=\"blank level0\" ></th>        <th class=\"col_heading level0 col0\" >target</th>    </tr></thead><tbody>\n",
       "                <tr>\n",
       "                        <th id=\"T_37e33_level0_row0\" class=\"row_heading level0 row0\" >target</th>\n",
       "                        <td id=\"T_37e33_row0_col0\" class=\"data row0 col0\" >1.00000</td>\n",
       "            </tr>\n",
       "            <tr>\n",
       "                        <th id=\"T_37e33_level0_row1\" class=\"row_heading level0 row1\" >saldo_cuenta_x_autocontrol</th>\n",
       "                        <td id=\"T_37e33_row1_col0\" class=\"data row1 col0\" >0.00743</td>\n",
       "            </tr>\n",
       "            <tr>\n",
       "                        <th id=\"T_37e33_level0_row2\" class=\"row_heading level0 row2\" >Saldo_cuenta</th>\n",
       "                        <td id=\"T_37e33_row2_col0\" class=\"data row2 col0\" >0.00716</td>\n",
       "            </tr>\n",
       "            <tr>\n",
       "                        <th id=\"T_37e33_level0_row3\" class=\"row_heading level0 row3\" >valor_prestamo_x_saldo_cuenta</th>\n",
       "                        <td id=\"T_37e33_row3_col0\" class=\"data row3 col0\" >0.00645</td>\n",
       "            </tr>\n",
       "            <tr>\n",
       "                        <th id=\"T_37e33_level0_row4\" class=\"row_heading level0 row4\" >valor_prestamo_x_saldo_cuenta_entre_tiempo_empleo</th>\n",
       "                        <td id=\"T_37e33_row4_col0\" class=\"data row4 col0\" >0.00574</td>\n",
       "            </tr>\n",
       "            <tr>\n",
       "                        <th id=\"T_37e33_level0_row5\" class=\"row_heading level0 row5\" >saldo_cuenta_x_confianza_entre_tiempo_empleo</th>\n",
       "                        <td id=\"T_37e33_row5_col0\" class=\"data row5 col0\" >0.00394</td>\n",
       "            </tr>\n",
       "            <tr>\n",
       "                        <th id=\"T_37e33_level0_row6\" class=\"row_heading level0 row6\" >cuentas_otros_x_impulsividad_entre_tiempo_empleo</th>\n",
       "                        <td id=\"T_37e33_row6_col0\" class=\"data row6 col0\" >0.00152</td>\n",
       "            </tr>\n",
       "            <tr>\n",
       "                        <th id=\"T_37e33_level0_row7\" class=\"row_heading level0 row7\" >valor_prestamo_x_impulsividad_entre_tiempo_empleo</th>\n",
       "                        <td id=\"T_37e33_row7_col0\" class=\"data row7 col0\" >0.00149</td>\n",
       "            </tr>\n",
       "            <tr>\n",
       "                        <th id=\"T_37e33_level0_row8\" class=\"row_heading level0 row8\" >autocontrol_x_impulsividad_entre_tiempo_empleo</th>\n",
       "                        <td id=\"T_37e33_row8_col0\" class=\"data row8 col0\" >0.00092</td>\n",
       "            </tr>\n",
       "            <tr>\n",
       "                        <th id=\"T_37e33_level0_row9\" class=\"row_heading level0 row9\" >impulsividad_x_confianza_entre_tiempo_empleo</th>\n",
       "                        <td id=\"T_37e33_row9_col0\" class=\"data row9 col0\" >0.00053</td>\n",
       "            </tr>\n",
       "            <tr>\n",
       "                        <th id=\"T_37e33_level0_row10\" class=\"row_heading level0 row10\" >tiempo_empleo_x_impulsividad_entre_cuentas_otros</th>\n",
       "                        <td id=\"T_37e33_row10_col0\" class=\"data row10 col0\" >0.00043</td>\n",
       "            </tr>\n",
       "            <tr>\n",
       "                        <th id=\"T_37e33_level0_row11\" class=\"row_heading level0 row11\" >autocontrol_x_confianza_entre_tiempo_empleo</th>\n",
       "                        <td id=\"T_37e33_row11_col0\" class=\"data row11 col0\" >0.00017</td>\n",
       "            </tr>\n",
       "            <tr>\n",
       "                        <th id=\"T_37e33_level0_row12\" class=\"row_heading level0 row12\" >valor_prestamo_x_autocontrol_entre_tiempo_empleo</th>\n",
       "                        <td id=\"T_37e33_row12_col0\" class=\"data row12 col0\" >0.00010</td>\n",
       "            </tr>\n",
       "    </tbody></table>"
      ],
      "text/plain": [
       "<pandas.io.formats.style.Styler at 0x1c6895c18e0>"
      ]
     },
     "execution_count": 6,
     "metadata": {},
     "output_type": "execute_result"
    }
   ],
   "source": [
    "pd.DataFrame(matriz_corr['target'].abs().sort_values(ascending=False)).style.background_gradient(\n",
    "    cmap='coolwarm', axis=None\n",
    ").set_precision(5)"
   ]
  },
  {
   "cell_type": "code",
   "execution_count": 7,
   "id": "f18fd809-066e-4a39-99b9-d3e7bf92b239",
   "metadata": {},
   "outputs": [
    {
     "data": {
      "text/html": [
       "<style  type=\"text/css\" >\n",
       "#T_b0d03_row0_col0,#T_b0d03_row1_col1,#T_b0d03_row2_col2,#T_b0d03_row3_col3,#T_b0d03_row4_col4,#T_b0d03_row5_col5,#T_b0d03_row6_col6,#T_b0d03_row7_col7,#T_b0d03_row8_col8,#T_b0d03_row9_col9,#T_b0d03_row10_col10,#T_b0d03_row11_col11,#T_b0d03_row12_col12{\n",
       "            background-color:  #b40426;\n",
       "            color:  #f1f1f1;\n",
       "        }#T_b0d03_row0_col1,#T_b0d03_row1_col0,#T_b0d03_row1_col10,#T_b0d03_row10_col1{\n",
       "            background-color:  #f2cab5;\n",
       "            color:  #000000;\n",
       "        }#T_b0d03_row0_col2,#T_b0d03_row0_col10,#T_b0d03_row2_col0,#T_b0d03_row2_col10,#T_b0d03_row10_col0,#T_b0d03_row10_col2{\n",
       "            background-color:  #c43032;\n",
       "            color:  #f1f1f1;\n",
       "        }#T_b0d03_row0_col3,#T_b0d03_row1_col12,#T_b0d03_row2_col3,#T_b0d03_row3_col0,#T_b0d03_row3_col2,#T_b0d03_row3_col10,#T_b0d03_row3_col12,#T_b0d03_row5_col12,#T_b0d03_row6_col12,#T_b0d03_row10_col3,#T_b0d03_row12_col1,#T_b0d03_row12_col3,#T_b0d03_row12_col5,#T_b0d03_row12_col6{\n",
       "            background-color:  #3b4cc0;\n",
       "            color:  #f1f1f1;\n",
       "        }#T_b0d03_row0_col4,#T_b0d03_row4_col0,#T_b0d03_row8_col10,#T_b0d03_row10_col8{\n",
       "            background-color:  #f29072;\n",
       "            color:  #000000;\n",
       "        }#T_b0d03_row0_col5,#T_b0d03_row2_col5,#T_b0d03_row5_col0,#T_b0d03_row5_col2,#T_b0d03_row5_col8,#T_b0d03_row8_col5{\n",
       "            background-color:  #4257c9;\n",
       "            color:  #f1f1f1;\n",
       "        }#T_b0d03_row0_col6,#T_b0d03_row0_col12,#T_b0d03_row2_col12,#T_b0d03_row3_col11,#T_b0d03_row4_col12,#T_b0d03_row5_col7,#T_b0d03_row5_col10,#T_b0d03_row5_col11,#T_b0d03_row6_col0,#T_b0d03_row6_col7,#T_b0d03_row6_col10,#T_b0d03_row6_col11,#T_b0d03_row7_col5,#T_b0d03_row7_col6,#T_b0d03_row8_col12,#T_b0d03_row9_col12,#T_b0d03_row10_col5,#T_b0d03_row10_col6,#T_b0d03_row10_col12,#T_b0d03_row11_col3,#T_b0d03_row11_col5,#T_b0d03_row11_col6,#T_b0d03_row12_col0,#T_b0d03_row12_col2,#T_b0d03_row12_col4,#T_b0d03_row12_col8,#T_b0d03_row12_col9,#T_b0d03_row12_col10{\n",
       "            background-color:  #3c4ec2;\n",
       "            color:  #f1f1f1;\n",
       "        }#T_b0d03_row0_col7,#T_b0d03_row7_col0{\n",
       "            background-color:  #5572df;\n",
       "            color:  #000000;\n",
       "        }#T_b0d03_row0_col8,#T_b0d03_row3_col6,#T_b0d03_row4_col10,#T_b0d03_row6_col3,#T_b0d03_row8_col0,#T_b0d03_row10_col4{\n",
       "            background-color:  #ec8165;\n",
       "            color:  #000000;\n",
       "        }#T_b0d03_row0_col9,#T_b0d03_row2_col9,#T_b0d03_row9_col0,#T_b0d03_row9_col2,#T_b0d03_row9_col10,#T_b0d03_row10_col9{\n",
       "            background-color:  #e0dbd8;\n",
       "            color:  #000000;\n",
       "        }#T_b0d03_row0_col11,#T_b0d03_row11_col0{\n",
       "            background-color:  #d4dbe6;\n",
       "            color:  #000000;\n",
       "        }#T_b0d03_row1_col2,#T_b0d03_row2_col1{\n",
       "            background-color:  #f1cdba;\n",
       "            color:  #000000;\n",
       "        }#T_b0d03_row1_col3,#T_b0d03_row3_col1{\n",
       "            background-color:  #e4d9d2;\n",
       "            color:  #000000;\n",
       "        }#T_b0d03_row1_col4,#T_b0d03_row1_col8,#T_b0d03_row4_col1,#T_b0d03_row8_col1{\n",
       "            background-color:  #e1dad6;\n",
       "            color:  #000000;\n",
       "        }#T_b0d03_row1_col5,#T_b0d03_row5_col1{\n",
       "            background-color:  #f7bca1;\n",
       "            color:  #000000;\n",
       "        }#T_b0d03_row1_col6,#T_b0d03_row6_col1{\n",
       "            background-color:  #f7ba9f;\n",
       "            color:  #000000;\n",
       "        }#T_b0d03_row1_col7,#T_b0d03_row7_col1{\n",
       "            background-color:  #7ea1fa;\n",
       "            color:  #000000;\n",
       "        }#T_b0d03_row1_col9,#T_b0d03_row9_col1{\n",
       "            background-color:  #e46e56;\n",
       "            color:  #000000;\n",
       "        }#T_b0d03_row1_col11,#T_b0d03_row11_col1{\n",
       "            background-color:  #aec9fc;\n",
       "            color:  #000000;\n",
       "        }#T_b0d03_row2_col4,#T_b0d03_row2_col8,#T_b0d03_row4_col2,#T_b0d03_row8_col2{\n",
       "            background-color:  #ec7f63;\n",
       "            color:  #000000;\n",
       "        }#T_b0d03_row2_col6,#T_b0d03_row3_col7,#T_b0d03_row4_col5,#T_b0d03_row4_col6,#T_b0d03_row5_col4,#T_b0d03_row6_col2,#T_b0d03_row6_col4,#T_b0d03_row6_col8,#T_b0d03_row7_col3,#T_b0d03_row7_col12,#T_b0d03_row8_col6,#T_b0d03_row11_col12,#T_b0d03_row12_col7,#T_b0d03_row12_col11{\n",
       "            background-color:  #3d50c3;\n",
       "            color:  #f1f1f1;\n",
       "        }#T_b0d03_row2_col7,#T_b0d03_row7_col2,#T_b0d03_row7_col10,#T_b0d03_row10_col7{\n",
       "            background-color:  #5a78e4;\n",
       "            color:  #000000;\n",
       "        }#T_b0d03_row2_col11,#T_b0d03_row11_col2{\n",
       "            background-color:  #d8dce2;\n",
       "            color:  #000000;\n",
       "        }#T_b0d03_row3_col4,#T_b0d03_row3_col8,#T_b0d03_row4_col3,#T_b0d03_row8_col3{\n",
       "            background-color:  #8db0fe;\n",
       "            color:  #000000;\n",
       "        }#T_b0d03_row3_col5,#T_b0d03_row5_col3{\n",
       "            background-color:  #ed8366;\n",
       "            color:  #000000;\n",
       "        }#T_b0d03_row3_col9,#T_b0d03_row4_col9,#T_b0d03_row9_col3,#T_b0d03_row9_col4{\n",
       "            background-color:  #f7a889;\n",
       "            color:  #000000;\n",
       "        }#T_b0d03_row4_col7,#T_b0d03_row7_col4{\n",
       "            background-color:  #5e7de7;\n",
       "            color:  #000000;\n",
       "        }#T_b0d03_row4_col8,#T_b0d03_row8_col4{\n",
       "            background-color:  #c0282f;\n",
       "            color:  #f1f1f1;\n",
       "        }#T_b0d03_row4_col11,#T_b0d03_row11_col4{\n",
       "            background-color:  #c6d6f1;\n",
       "            color:  #000000;\n",
       "        }#T_b0d03_row5_col6,#T_b0d03_row6_col5{\n",
       "            background-color:  #b50927;\n",
       "            color:  #f1f1f1;\n",
       "        }#T_b0d03_row5_col9,#T_b0d03_row6_col9,#T_b0d03_row9_col5,#T_b0d03_row9_col6{\n",
       "            background-color:  #e6d7cf;\n",
       "            color:  #000000;\n",
       "        }#T_b0d03_row7_col8,#T_b0d03_row8_col7{\n",
       "            background-color:  #5977e3;\n",
       "            color:  #000000;\n",
       "        }#T_b0d03_row7_col9,#T_b0d03_row9_col7{\n",
       "            background-color:  #7a9df8;\n",
       "            color:  #000000;\n",
       "        }#T_b0d03_row7_col11,#T_b0d03_row11_col7{\n",
       "            background-color:  #f7b194;\n",
       "            color:  #000000;\n",
       "        }#T_b0d03_row8_col9,#T_b0d03_row9_col8{\n",
       "            background-color:  #f7a98b;\n",
       "            color:  #000000;\n",
       "        }#T_b0d03_row8_col11,#T_b0d03_row11_col8{\n",
       "            background-color:  #c1d4f4;\n",
       "            color:  #000000;\n",
       "        }#T_b0d03_row9_col11,#T_b0d03_row11_col9{\n",
       "            background-color:  #a1c0ff;\n",
       "            color:  #000000;\n",
       "        }#T_b0d03_row10_col11,#T_b0d03_row11_col10{\n",
       "            background-color:  #d9dce1;\n",
       "            color:  #000000;\n",
       "        }</style><table id=\"T_b0d03_\" ><thead>    <tr>        <th class=\"blank level0\" ></th>        <th class=\"col_heading level0 col0\" >autocontrol_x_confianza_entre_tiempo_empleo</th>        <th class=\"col_heading level0 col1\" >saldo_cuenta_x_confianza_entre_tiempo_empleo</th>        <th class=\"col_heading level0 col2\" >autocontrol_x_impulsividad_entre_tiempo_empleo</th>        <th class=\"col_heading level0 col3\" >valor_prestamo_x_saldo_cuenta</th>        <th class=\"col_heading level0 col4\" >valor_prestamo_x_impulsividad_entre_tiempo_empleo</th>        <th class=\"col_heading level0 col5\" >saldo_cuenta_x_autocontrol</th>        <th class=\"col_heading level0 col6\" >Saldo_cuenta</th>        <th class=\"col_heading level0 col7\" >tiempo_empleo_x_impulsividad_entre_cuentas_otros</th>        <th class=\"col_heading level0 col8\" >valor_prestamo_x_autocontrol_entre_tiempo_empleo</th>        <th class=\"col_heading level0 col9\" >valor_prestamo_x_saldo_cuenta_entre_tiempo_empleo</th>        <th class=\"col_heading level0 col10\" >impulsividad_x_confianza_entre_tiempo_empleo</th>        <th class=\"col_heading level0 col11\" >cuentas_otros_x_impulsividad_entre_tiempo_empleo</th>        <th class=\"col_heading level0 col12\" >target</th>    </tr></thead><tbody>\n",
       "                <tr>\n",
       "                        <th id=\"T_b0d03_level0_row0\" class=\"row_heading level0 row0\" >autocontrol_x_confianza_entre_tiempo_empleo</th>\n",
       "                        <td id=\"T_b0d03_row0_col0\" class=\"data row0 col0\" >1.00000</td>\n",
       "                        <td id=\"T_b0d03_row0_col1\" class=\"data row0 col1\" >0.60018</td>\n",
       "                        <td id=\"T_b0d03_row0_col2\" class=\"data row0 col2\" >0.95470</td>\n",
       "                        <td id=\"T_b0d03_row0_col3\" class=\"data row0 col3\" >-0.00655</td>\n",
       "                        <td id=\"T_b0d03_row0_col4\" class=\"data row0 col4\" >0.77150</td>\n",
       "                        <td id=\"T_b0d03_row0_col5\" class=\"data row0 col5\" >0.01728</td>\n",
       "                        <td id=\"T_b0d03_row0_col6\" class=\"data row0 col6\" >-0.00179</td>\n",
       "                        <td id=\"T_b0d03_row0_col7\" class=\"data row0 col7\" >0.08252</td>\n",
       "                        <td id=\"T_b0d03_row0_col8\" class=\"data row0 col8\" >0.80698</td>\n",
       "                        <td id=\"T_b0d03_row0_col9\" class=\"data row0 col9\" >0.50962</td>\n",
       "                        <td id=\"T_b0d03_row0_col10\" class=\"data row0 col10\" >0.95451</td>\n",
       "                        <td id=\"T_b0d03_row0_col11\" class=\"data row0 col11\" >0.46420</td>\n",
       "                        <td id=\"T_b0d03_row0_col12\" class=\"data row0 col12\" >0.00002</td>\n",
       "            </tr>\n",
       "            <tr>\n",
       "                        <th id=\"T_b0d03_level0_row1\" class=\"row_heading level0 row1\" >saldo_cuenta_x_confianza_entre_tiempo_empleo</th>\n",
       "                        <td id=\"T_b0d03_row1_col0\" class=\"data row1 col0\" >0.60018</td>\n",
       "                        <td id=\"T_b0d03_row1_col1\" class=\"data row1 col1\" >1.00000</td>\n",
       "                        <td id=\"T_b0d03_row1_col2\" class=\"data row1 col2\" >0.58752</td>\n",
       "                        <td id=\"T_b0d03_row1_col3\" class=\"data row1 col3\" >0.52606</td>\n",
       "                        <td id=\"T_b0d03_row1_col4\" class=\"data row1 col4\" >0.51362</td>\n",
       "                        <td id=\"T_b0d03_row1_col5\" class=\"data row1 col5\" >0.65296</td>\n",
       "                        <td id=\"T_b0d03_row1_col6\" class=\"data row1 col6\" >0.65698</td>\n",
       "                        <td id=\"T_b0d03_row1_col7\" class=\"data row1 col7\" >0.20156</td>\n",
       "                        <td id=\"T_b0d03_row1_col8\" class=\"data row1 col8\" >0.51246</td>\n",
       "                        <td id=\"T_b0d03_row1_col9\" class=\"data row1 col9\" >0.84420</td>\n",
       "                        <td id=\"T_b0d03_row1_col10\" class=\"data row1 col10\" >0.60151</td>\n",
       "                        <td id=\"T_b0d03_row1_col11\" class=\"data row1 col11\" >0.34056</td>\n",
       "                        <td id=\"T_b0d03_row1_col12\" class=\"data row1 col12\" >-0.00354</td>\n",
       "            </tr>\n",
       "            <tr>\n",
       "                        <th id=\"T_b0d03_level0_row2\" class=\"row_heading level0 row2\" >autocontrol_x_impulsividad_entre_tiempo_empleo</th>\n",
       "                        <td id=\"T_b0d03_row2_col0\" class=\"data row2 col0\" >0.95470</td>\n",
       "                        <td id=\"T_b0d03_row2_col1\" class=\"data row2 col1\" >0.58752</td>\n",
       "                        <td id=\"T_b0d03_row2_col2\" class=\"data row2 col2\" >1.00000</td>\n",
       "                        <td id=\"T_b0d03_row2_col3\" class=\"data row2 col3\" >-0.00395</td>\n",
       "                        <td id=\"T_b0d03_row2_col4\" class=\"data row2 col4\" >0.80738</td>\n",
       "                        <td id=\"T_b0d03_row2_col5\" class=\"data row2 col5\" >0.02010</td>\n",
       "                        <td id=\"T_b0d03_row2_col6\" class=\"data row2 col6\" >0.00109</td>\n",
       "                        <td id=\"T_b0d03_row2_col7\" class=\"data row2 col7\" >0.09759</td>\n",
       "                        <td id=\"T_b0d03_row2_col8\" class=\"data row2 col8\" >0.80747</td>\n",
       "                        <td id=\"T_b0d03_row2_col9\" class=\"data row2 col9\" >0.51177</td>\n",
       "                        <td id=\"T_b0d03_row2_col10\" class=\"data row2 col10\" >0.95444</td>\n",
       "                        <td id=\"T_b0d03_row2_col11\" class=\"data row2 col11\" >0.48061</td>\n",
       "                        <td id=\"T_b0d03_row2_col12\" class=\"data row2 col12\" >-0.00060</td>\n",
       "            </tr>\n",
       "            <tr>\n",
       "                        <th id=\"T_b0d03_level0_row3\" class=\"row_heading level0 row3\" >valor_prestamo_x_saldo_cuenta</th>\n",
       "                        <td id=\"T_b0d03_row3_col0\" class=\"data row3 col0\" >-0.00655</td>\n",
       "                        <td id=\"T_b0d03_row3_col1\" class=\"data row3 col1\" >0.52606</td>\n",
       "                        <td id=\"T_b0d03_row3_col2\" class=\"data row3 col2\" >-0.00395</td>\n",
       "                        <td id=\"T_b0d03_row3_col3\" class=\"data row3 col3\" >1.00000</td>\n",
       "                        <td id=\"T_b0d03_row3_col4\" class=\"data row3 col4\" >0.24650</td>\n",
       "                        <td id=\"T_b0d03_row3_col5\" class=\"data row3 col5\" >0.80159</td>\n",
       "                        <td id=\"T_b0d03_row3_col6\" class=\"data row3 col6\" >0.80612</td>\n",
       "                        <td id=\"T_b0d03_row3_col7\" class=\"data row3 col7\" >0.00177</td>\n",
       "                        <td id=\"T_b0d03_row3_col8\" class=\"data row3 col8\" >0.24554</td>\n",
       "                        <td id=\"T_b0d03_row3_col9\" class=\"data row3 col9\" >0.71250</td>\n",
       "                        <td id=\"T_b0d03_row3_col10\" class=\"data row3 col10\" >-0.00714</td>\n",
       "                        <td id=\"T_b0d03_row3_col11\" class=\"data row3 col11\" >-0.00047</td>\n",
       "                        <td id=\"T_b0d03_row3_col12\" class=\"data row3 col12\" >-0.00558</td>\n",
       "            </tr>\n",
       "            <tr>\n",
       "                        <th id=\"T_b0d03_level0_row4\" class=\"row_heading level0 row4\" >valor_prestamo_x_impulsividad_entre_tiempo_empleo</th>\n",
       "                        <td id=\"T_b0d03_row4_col0\" class=\"data row4 col0\" >0.77150</td>\n",
       "                        <td id=\"T_b0d03_row4_col1\" class=\"data row4 col1\" >0.51362</td>\n",
       "                        <td id=\"T_b0d03_row4_col2\" class=\"data row4 col2\" >0.80738</td>\n",
       "                        <td id=\"T_b0d03_row4_col3\" class=\"data row4 col3\" >0.24650</td>\n",
       "                        <td id=\"T_b0d03_row4_col4\" class=\"data row4 col4\" >1.00000</td>\n",
       "                        <td id=\"T_b0d03_row4_col5\" class=\"data row4 col5\" >0.00353</td>\n",
       "                        <td id=\"T_b0d03_row4_col6\" class=\"data row4 col6\" >0.00271</td>\n",
       "                        <td id=\"T_b0d03_row4_col7\" class=\"data row4 col7\" >0.10720</td>\n",
       "                        <td id=\"T_b0d03_row4_col8\" class=\"data row4 col8\" >0.96714</td>\n",
       "                        <td id=\"T_b0d03_row4_col9\" class=\"data row4 col9\" >0.70943</td>\n",
       "                        <td id=\"T_b0d03_row4_col10\" class=\"data row4 col10\" >0.80579</td>\n",
       "                        <td id=\"T_b0d03_row4_col11\" class=\"data row4 col11\" >0.41485</td>\n",
       "                        <td id=\"T_b0d03_row4_col12\" class=\"data row4 col12\" >0.00045</td>\n",
       "            </tr>\n",
       "            <tr>\n",
       "                        <th id=\"T_b0d03_level0_row5\" class=\"row_heading level0 row5\" >saldo_cuenta_x_autocontrol</th>\n",
       "                        <td id=\"T_b0d03_row5_col0\" class=\"data row5 col0\" >0.01728</td>\n",
       "                        <td id=\"T_b0d03_row5_col1\" class=\"data row5 col1\" >0.65296</td>\n",
       "                        <td id=\"T_b0d03_row5_col2\" class=\"data row5 col2\" >0.02010</td>\n",
       "                        <td id=\"T_b0d03_row5_col3\" class=\"data row5 col3\" >0.80159</td>\n",
       "                        <td id=\"T_b0d03_row5_col4\" class=\"data row5 col4\" >0.00353</td>\n",
       "                        <td id=\"T_b0d03_row5_col5\" class=\"data row5 col5\" >1.00000</td>\n",
       "                        <td id=\"T_b0d03_row5_col6\" class=\"data row5 col6\" >0.99383</td>\n",
       "                        <td id=\"T_b0d03_row5_col7\" class=\"data row5 col7\" >0.00002</td>\n",
       "                        <td id=\"T_b0d03_row5_col8\" class=\"data row5 col8\" >0.01746</td>\n",
       "                        <td id=\"T_b0d03_row5_col9\" class=\"data row5 col9\" >0.53259</td>\n",
       "                        <td id=\"T_b0d03_row5_col10\" class=\"data row5 col10\" >-0.00013</td>\n",
       "                        <td id=\"T_b0d03_row5_col11\" class=\"data row5 col11\" >-0.00062</td>\n",
       "                        <td id=\"T_b0d03_row5_col12\" class=\"data row5 col12\" >-0.00702</td>\n",
       "            </tr>\n",
       "            <tr>\n",
       "                        <th id=\"T_b0d03_level0_row6\" class=\"row_heading level0 row6\" >Saldo_cuenta</th>\n",
       "                        <td id=\"T_b0d03_row6_col0\" class=\"data row6 col0\" >-0.00179</td>\n",
       "                        <td id=\"T_b0d03_row6_col1\" class=\"data row6 col1\" >0.65698</td>\n",
       "                        <td id=\"T_b0d03_row6_col2\" class=\"data row6 col2\" >0.00109</td>\n",
       "                        <td id=\"T_b0d03_row6_col3\" class=\"data row6 col3\" >0.80612</td>\n",
       "                        <td id=\"T_b0d03_row6_col4\" class=\"data row6 col4\" >0.00271</td>\n",
       "                        <td id=\"T_b0d03_row6_col5\" class=\"data row6 col5\" >0.99383</td>\n",
       "                        <td id=\"T_b0d03_row6_col6\" class=\"data row6 col6\" >1.00000</td>\n",
       "                        <td id=\"T_b0d03_row6_col7\" class=\"data row6 col7\" >-0.00007</td>\n",
       "                        <td id=\"T_b0d03_row6_col8\" class=\"data row6 col8\" >0.00146</td>\n",
       "                        <td id=\"T_b0d03_row6_col9\" class=\"data row6 col9\" >0.53533</td>\n",
       "                        <td id=\"T_b0d03_row6_col10\" class=\"data row6 col10\" >-0.00032</td>\n",
       "                        <td id=\"T_b0d03_row6_col11\" class=\"data row6 col11\" >-0.00044</td>\n",
       "                        <td id=\"T_b0d03_row6_col12\" class=\"data row6 col12\" >-0.00680</td>\n",
       "            </tr>\n",
       "            <tr>\n",
       "                        <th id=\"T_b0d03_level0_row7\" class=\"row_heading level0 row7\" >tiempo_empleo_x_impulsividad_entre_cuentas_otros</th>\n",
       "                        <td id=\"T_b0d03_row7_col0\" class=\"data row7 col0\" >0.08252</td>\n",
       "                        <td id=\"T_b0d03_row7_col1\" class=\"data row7 col1\" >0.20156</td>\n",
       "                        <td id=\"T_b0d03_row7_col2\" class=\"data row7 col2\" >0.09759</td>\n",
       "                        <td id=\"T_b0d03_row7_col3\" class=\"data row7 col3\" >0.00177</td>\n",
       "                        <td id=\"T_b0d03_row7_col4\" class=\"data row7 col4\" >0.10720</td>\n",
       "                        <td id=\"T_b0d03_row7_col5\" class=\"data row7 col5\" >0.00002</td>\n",
       "                        <td id=\"T_b0d03_row7_col6\" class=\"data row7 col6\" >-0.00007</td>\n",
       "                        <td id=\"T_b0d03_row7_col7\" class=\"data row7 col7\" >1.00000</td>\n",
       "                        <td id=\"T_b0d03_row7_col8\" class=\"data row7 col8\" >0.09377</td>\n",
       "                        <td id=\"T_b0d03_row7_col9\" class=\"data row7 col9\" >0.19138</td>\n",
       "                        <td id=\"T_b0d03_row7_col10\" class=\"data row7 col10\" >0.09823</td>\n",
       "                        <td id=\"T_b0d03_row7_col11\" class=\"data row7 col11\" >0.68209</td>\n",
       "                        <td id=\"T_b0d03_row7_col12\" class=\"data row7 col12\" >0.00100</td>\n",
       "            </tr>\n",
       "            <tr>\n",
       "                        <th id=\"T_b0d03_level0_row8\" class=\"row_heading level0 row8\" >valor_prestamo_x_autocontrol_entre_tiempo_empleo</th>\n",
       "                        <td id=\"T_b0d03_row8_col0\" class=\"data row8 col0\" >0.80698</td>\n",
       "                        <td id=\"T_b0d03_row8_col1\" class=\"data row8 col1\" >0.51246</td>\n",
       "                        <td id=\"T_b0d03_row8_col2\" class=\"data row8 col2\" >0.80747</td>\n",
       "                        <td id=\"T_b0d03_row8_col3\" class=\"data row8 col3\" >0.24554</td>\n",
       "                        <td id=\"T_b0d03_row8_col4\" class=\"data row8 col4\" >0.96714</td>\n",
       "                        <td id=\"T_b0d03_row8_col5\" class=\"data row8 col5\" >0.01746</td>\n",
       "                        <td id=\"T_b0d03_row8_col6\" class=\"data row8 col6\" >0.00146</td>\n",
       "                        <td id=\"T_b0d03_row8_col7\" class=\"data row8 col7\" >0.09377</td>\n",
       "                        <td id=\"T_b0d03_row8_col8\" class=\"data row8 col8\" >1.00000</td>\n",
       "                        <td id=\"T_b0d03_row8_col9\" class=\"data row8 col9\" >0.70844</td>\n",
       "                        <td id=\"T_b0d03_row8_col10\" class=\"data row8 col10\" >0.76987</td>\n",
       "                        <td id=\"T_b0d03_row8_col11\" class=\"data row8 col11\" >0.40029</td>\n",
       "                        <td id=\"T_b0d03_row8_col12\" class=\"data row8 col12\" >0.00070</td>\n",
       "            </tr>\n",
       "            <tr>\n",
       "                        <th id=\"T_b0d03_level0_row9\" class=\"row_heading level0 row9\" >valor_prestamo_x_saldo_cuenta_entre_tiempo_empleo</th>\n",
       "                        <td id=\"T_b0d03_row9_col0\" class=\"data row9 col0\" >0.50962</td>\n",
       "                        <td id=\"T_b0d03_row9_col1\" class=\"data row9 col1\" >0.84420</td>\n",
       "                        <td id=\"T_b0d03_row9_col2\" class=\"data row9 col2\" >0.51177</td>\n",
       "                        <td id=\"T_b0d03_row9_col3\" class=\"data row9 col3\" >0.71250</td>\n",
       "                        <td id=\"T_b0d03_row9_col4\" class=\"data row9 col4\" >0.70943</td>\n",
       "                        <td id=\"T_b0d03_row9_col5\" class=\"data row9 col5\" >0.53259</td>\n",
       "                        <td id=\"T_b0d03_row9_col6\" class=\"data row9 col6\" >0.53533</td>\n",
       "                        <td id=\"T_b0d03_row9_col7\" class=\"data row9 col7\" >0.19138</td>\n",
       "                        <td id=\"T_b0d03_row9_col8\" class=\"data row9 col8\" >0.70844</td>\n",
       "                        <td id=\"T_b0d03_row9_col9\" class=\"data row9 col9\" >1.00000</td>\n",
       "                        <td id=\"T_b0d03_row9_col10\" class=\"data row9 col10\" >0.50905</td>\n",
       "                        <td id=\"T_b0d03_row9_col11\" class=\"data row9 col11\" >0.30247</td>\n",
       "                        <td id=\"T_b0d03_row9_col12\" class=\"data row9 col12\" >-0.00225</td>\n",
       "            </tr>\n",
       "            <tr>\n",
       "                        <th id=\"T_b0d03_level0_row10\" class=\"row_heading level0 row10\" >impulsividad_x_confianza_entre_tiempo_empleo</th>\n",
       "                        <td id=\"T_b0d03_row10_col0\" class=\"data row10 col0\" >0.95451</td>\n",
       "                        <td id=\"T_b0d03_row10_col1\" class=\"data row10 col1\" >0.60151</td>\n",
       "                        <td id=\"T_b0d03_row10_col2\" class=\"data row10 col2\" >0.95444</td>\n",
       "                        <td id=\"T_b0d03_row10_col3\" class=\"data row10 col3\" >-0.00714</td>\n",
       "                        <td id=\"T_b0d03_row10_col4\" class=\"data row10 col4\" >0.80579</td>\n",
       "                        <td id=\"T_b0d03_row10_col5\" class=\"data row10 col5\" >-0.00013</td>\n",
       "                        <td id=\"T_b0d03_row10_col6\" class=\"data row10 col6\" >-0.00032</td>\n",
       "                        <td id=\"T_b0d03_row10_col7\" class=\"data row10 col7\" >0.09823</td>\n",
       "                        <td id=\"T_b0d03_row10_col8\" class=\"data row10 col8\" >0.76987</td>\n",
       "                        <td id=\"T_b0d03_row10_col9\" class=\"data row10 col9\" >0.50905</td>\n",
       "                        <td id=\"T_b0d03_row10_col10\" class=\"data row10 col10\" >1.00000</td>\n",
       "                        <td id=\"T_b0d03_row10_col11\" class=\"data row10 col11\" >0.48129</td>\n",
       "                        <td id=\"T_b0d03_row10_col12\" class=\"data row10 col12\" >-0.00111</td>\n",
       "            </tr>\n",
       "            <tr>\n",
       "                        <th id=\"T_b0d03_level0_row11\" class=\"row_heading level0 row11\" >cuentas_otros_x_impulsividad_entre_tiempo_empleo</th>\n",
       "                        <td id=\"T_b0d03_row11_col0\" class=\"data row11 col0\" >0.46420</td>\n",
       "                        <td id=\"T_b0d03_row11_col1\" class=\"data row11 col1\" >0.34056</td>\n",
       "                        <td id=\"T_b0d03_row11_col2\" class=\"data row11 col2\" >0.48061</td>\n",
       "                        <td id=\"T_b0d03_row11_col3\" class=\"data row11 col3\" >-0.00047</td>\n",
       "                        <td id=\"T_b0d03_row11_col4\" class=\"data row11 col4\" >0.41485</td>\n",
       "                        <td id=\"T_b0d03_row11_col5\" class=\"data row11 col5\" >-0.00062</td>\n",
       "                        <td id=\"T_b0d03_row11_col6\" class=\"data row11 col6\" >-0.00044</td>\n",
       "                        <td id=\"T_b0d03_row11_col7\" class=\"data row11 col7\" >0.68209</td>\n",
       "                        <td id=\"T_b0d03_row11_col8\" class=\"data row11 col8\" >0.40029</td>\n",
       "                        <td id=\"T_b0d03_row11_col9\" class=\"data row11 col9\" >0.30247</td>\n",
       "                        <td id=\"T_b0d03_row11_col10\" class=\"data row11 col10\" >0.48129</td>\n",
       "                        <td id=\"T_b0d03_row11_col11\" class=\"data row11 col11\" >1.00000</td>\n",
       "                        <td id=\"T_b0d03_row11_col12\" class=\"data row11 col12\" >0.00233</td>\n",
       "            </tr>\n",
       "            <tr>\n",
       "                        <th id=\"T_b0d03_level0_row12\" class=\"row_heading level0 row12\" >target</th>\n",
       "                        <td id=\"T_b0d03_row12_col0\" class=\"data row12 col0\" >0.00002</td>\n",
       "                        <td id=\"T_b0d03_row12_col1\" class=\"data row12 col1\" >-0.00354</td>\n",
       "                        <td id=\"T_b0d03_row12_col2\" class=\"data row12 col2\" >-0.00060</td>\n",
       "                        <td id=\"T_b0d03_row12_col3\" class=\"data row12 col3\" >-0.00558</td>\n",
       "                        <td id=\"T_b0d03_row12_col4\" class=\"data row12 col4\" >0.00045</td>\n",
       "                        <td id=\"T_b0d03_row12_col5\" class=\"data row12 col5\" >-0.00702</td>\n",
       "                        <td id=\"T_b0d03_row12_col6\" class=\"data row12 col6\" >-0.00680</td>\n",
       "                        <td id=\"T_b0d03_row12_col7\" class=\"data row12 col7\" >0.00100</td>\n",
       "                        <td id=\"T_b0d03_row12_col8\" class=\"data row12 col8\" >0.00070</td>\n",
       "                        <td id=\"T_b0d03_row12_col9\" class=\"data row12 col9\" >-0.00225</td>\n",
       "                        <td id=\"T_b0d03_row12_col10\" class=\"data row12 col10\" >-0.00111</td>\n",
       "                        <td id=\"T_b0d03_row12_col11\" class=\"data row12 col11\" >0.00233</td>\n",
       "                        <td id=\"T_b0d03_row12_col12\" class=\"data row12 col12\" >1.00000</td>\n",
       "            </tr>\n",
       "    </tbody></table>"
      ],
      "text/plain": [
       "<pandas.io.formats.style.Styler at 0x1c6895c1ac0>"
      ]
     },
     "execution_count": 7,
     "metadata": {},
     "output_type": "execute_result"
    }
   ],
   "source": [
    "matriz_corr = x_train[cols_aporte + ['target']].corr(method='spearman')\n",
    "\n",
    "matriz_corr.style.background_gradient(\n",
    "    cmap='coolwarm', axis=None\n",
    ").set_precision(5)"
   ]
  },
  {
   "cell_type": "code",
   "execution_count": 8,
   "id": "f43ee10f-f127-4667-87e3-a31a69130539",
   "metadata": {},
   "outputs": [
    {
     "data": {
      "text/html": [
       "<style  type=\"text/css\" >\n",
       "#T_1043b_row0_col0{\n",
       "            background-color:  #b40426;\n",
       "            color:  #f1f1f1;\n",
       "        }#T_1043b_row1_col0,#T_1043b_row2_col0,#T_1043b_row3_col0{\n",
       "            background-color:  #3c4ec2;\n",
       "            color:  #f1f1f1;\n",
       "        }#T_1043b_row4_col0,#T_1043b_row5_col0,#T_1043b_row6_col0,#T_1043b_row7_col0,#T_1043b_row8_col0,#T_1043b_row9_col0,#T_1043b_row10_col0,#T_1043b_row11_col0,#T_1043b_row12_col0{\n",
       "            background-color:  #3b4cc0;\n",
       "            color:  #f1f1f1;\n",
       "        }</style><table id=\"T_1043b_\" ><thead>    <tr>        <th class=\"blank level0\" ></th>        <th class=\"col_heading level0 col0\" >target</th>    </tr></thead><tbody>\n",
       "                <tr>\n",
       "                        <th id=\"T_1043b_level0_row0\" class=\"row_heading level0 row0\" >target</th>\n",
       "                        <td id=\"T_1043b_row0_col0\" class=\"data row0 col0\" >1.00000</td>\n",
       "            </tr>\n",
       "            <tr>\n",
       "                        <th id=\"T_1043b_level0_row1\" class=\"row_heading level0 row1\" >saldo_cuenta_x_autocontrol</th>\n",
       "                        <td id=\"T_1043b_row1_col0\" class=\"data row1 col0\" >0.00702</td>\n",
       "            </tr>\n",
       "            <tr>\n",
       "                        <th id=\"T_1043b_level0_row2\" class=\"row_heading level0 row2\" >Saldo_cuenta</th>\n",
       "                        <td id=\"T_1043b_row2_col0\" class=\"data row2 col0\" >0.00680</td>\n",
       "            </tr>\n",
       "            <tr>\n",
       "                        <th id=\"T_1043b_level0_row3\" class=\"row_heading level0 row3\" >valor_prestamo_x_saldo_cuenta</th>\n",
       "                        <td id=\"T_1043b_row3_col0\" class=\"data row3 col0\" >0.00558</td>\n",
       "            </tr>\n",
       "            <tr>\n",
       "                        <th id=\"T_1043b_level0_row4\" class=\"row_heading level0 row4\" >saldo_cuenta_x_confianza_entre_tiempo_empleo</th>\n",
       "                        <td id=\"T_1043b_row4_col0\" class=\"data row4 col0\" >0.00354</td>\n",
       "            </tr>\n",
       "            <tr>\n",
       "                        <th id=\"T_1043b_level0_row5\" class=\"row_heading level0 row5\" >cuentas_otros_x_impulsividad_entre_tiempo_empleo</th>\n",
       "                        <td id=\"T_1043b_row5_col0\" class=\"data row5 col0\" >0.00233</td>\n",
       "            </tr>\n",
       "            <tr>\n",
       "                        <th id=\"T_1043b_level0_row6\" class=\"row_heading level0 row6\" >valor_prestamo_x_saldo_cuenta_entre_tiempo_empleo</th>\n",
       "                        <td id=\"T_1043b_row6_col0\" class=\"data row6 col0\" >0.00225</td>\n",
       "            </tr>\n",
       "            <tr>\n",
       "                        <th id=\"T_1043b_level0_row7\" class=\"row_heading level0 row7\" >impulsividad_x_confianza_entre_tiempo_empleo</th>\n",
       "                        <td id=\"T_1043b_row7_col0\" class=\"data row7 col0\" >0.00111</td>\n",
       "            </tr>\n",
       "            <tr>\n",
       "                        <th id=\"T_1043b_level0_row8\" class=\"row_heading level0 row8\" >tiempo_empleo_x_impulsividad_entre_cuentas_otros</th>\n",
       "                        <td id=\"T_1043b_row8_col0\" class=\"data row8 col0\" >0.00100</td>\n",
       "            </tr>\n",
       "            <tr>\n",
       "                        <th id=\"T_1043b_level0_row9\" class=\"row_heading level0 row9\" >valor_prestamo_x_autocontrol_entre_tiempo_empleo</th>\n",
       "                        <td id=\"T_1043b_row9_col0\" class=\"data row9 col0\" >0.00070</td>\n",
       "            </tr>\n",
       "            <tr>\n",
       "                        <th id=\"T_1043b_level0_row10\" class=\"row_heading level0 row10\" >autocontrol_x_impulsividad_entre_tiempo_empleo</th>\n",
       "                        <td id=\"T_1043b_row10_col0\" class=\"data row10 col0\" >0.00060</td>\n",
       "            </tr>\n",
       "            <tr>\n",
       "                        <th id=\"T_1043b_level0_row11\" class=\"row_heading level0 row11\" >valor_prestamo_x_impulsividad_entre_tiempo_empleo</th>\n",
       "                        <td id=\"T_1043b_row11_col0\" class=\"data row11 col0\" >0.00045</td>\n",
       "            </tr>\n",
       "            <tr>\n",
       "                        <th id=\"T_1043b_level0_row12\" class=\"row_heading level0 row12\" >autocontrol_x_confianza_entre_tiempo_empleo</th>\n",
       "                        <td id=\"T_1043b_row12_col0\" class=\"data row12 col0\" >0.00002</td>\n",
       "            </tr>\n",
       "    </tbody></table>"
      ],
      "text/plain": [
       "<pandas.io.formats.style.Styler at 0x1c6895b80d0>"
      ]
     },
     "execution_count": 8,
     "metadata": {},
     "output_type": "execute_result"
    }
   ],
   "source": [
    "pd.DataFrame(matriz_corr['target'].abs().sort_values(ascending=False)).style.background_gradient(\n",
    "    cmap='coolwarm', axis=None\n",
    ").set_precision(5)"
   ]
  },
  {
   "cell_type": "code",
   "execution_count": 9,
   "id": "03aa5cd1-03ce-46bf-a492-aa9307177019",
   "metadata": {},
   "outputs": [],
   "source": [
    "if 'target' in x_train.columns:\n",
    "    del x_train['target']"
   ]
  },
  {
   "cell_type": "code",
   "execution_count": 10,
   "id": "e53367b6-4532-467c-831c-0a9cfe4cbb4f",
   "metadata": {},
   "outputs": [
    {
     "name": "stdout",
     "output_type": "stream",
     "text": [
      "ANALISIS CORRELACION ENTRE COLUMNAS :\n",
      "//////////////////////////////\n",
      "->  impulsividad_x_confianza_entre_tiempo_empleo  ::::  2  /////  0.0011126990959377423\n",
      "           autocontrol_x_confianza_entre_tiempo_empleo 0.9545060404695965 /////  1.662654013981128e-05\n",
      "           autocontrol_x_impulsividad_entre_tiempo_empleo 0.9544394528853377 /////  0.0005952504145198434\n",
      "//////////////////////////////\n",
      "->  autocontrol_x_impulsividad_entre_tiempo_empleo  ::::  2  /////  0.0005952504145198434\n",
      "           autocontrol_x_confianza_entre_tiempo_empleo 0.9547004980012164 /////  1.662654013981128e-05\n",
      "           impulsividad_x_confianza_entre_tiempo_empleo 0.9544394528853377 /////  0.0011126990959377423\n",
      "//////////////////////////////\n",
      "->  autocontrol_x_confianza_entre_tiempo_empleo  ::::  2  /////  1.662654013981128e-05\n",
      "           autocontrol_x_impulsividad_entre_tiempo_empleo 0.9547004980012164 /////  0.0005952504145198434\n",
      "           impulsividad_x_confianza_entre_tiempo_empleo 0.9545060404695965 /////  0.0011126990959377423\n",
      "//////////////////////////////\n",
      "->  valor_prestamo_x_impulsividad_entre_tiempo_empleo  ::::  1  /////  0.000454691543075826\n",
      "           valor_prestamo_x_autocontrol_entre_tiempo_empleo 0.9671428791671608 /////  0.0006969499686060292\n",
      "//////////////////////////////\n",
      "->  valor_prestamo_x_autocontrol_entre_tiempo_empleo  ::::  1  /////  0.0006969499686060292\n",
      "           valor_prestamo_x_impulsividad_entre_tiempo_empleo 0.9671428791671608 /////  0.000454691543075826\n",
      "//////////////////////////////\n",
      "->  Saldo_cuenta  ::::  1  /////  0.006803505634866045\n",
      "           saldo_cuenta_x_autocontrol 0.9938255902509409 /////  0.007016285071055091\n",
      "//////////////////////////////\n",
      "->  saldo_cuenta_x_autocontrol  ::::  1  /////  0.007016285071055091\n",
      "           Saldo_cuenta 0.9938255902509409 /////  0.006803505634866045\n"
     ]
    },
    {
     "data": {
      "text/plain": [
       "['Saldo_cuenta',\n",
       " 'autocontrol_x_confianza_entre_tiempo_empleo',\n",
       " 'autocontrol_x_impulsividad_entre_tiempo_empleo',\n",
       " 'valor_prestamo_x_impulsividad_entre_tiempo_empleo']"
      ]
     },
     "execution_count": 10,
     "metadata": {},
     "output_type": "execute_result"
    }
   ],
   "source": [
    "corr_detail(matriz_corr, min_value=0.85, show_detail=True, col_target='target')"
   ]
  },
  {
   "cell_type": "code",
   "execution_count": 11,
   "id": "4c40b2b5-4be8-4176-9aef-732e0156376f",
   "metadata": {},
   "outputs": [],
   "source": [
    "for col in ['autocontrol_x_confianza_entre_tiempo_empleo', 'autocontrol_x_impulsividad_entre_tiempo_empleo',\n",
    "            'valor_prestamo_x_impulsividad_entre_tiempo_empleo', 'saldo_cuenta_x_autocontrol']:\n",
    "    del x_train[col]\n",
    "    del x_valid[col]\n",
    "    cols_aporte.remove(col)"
   ]
  },
  {
   "cell_type": "code",
   "execution_count": 12,
   "id": "0c2828e4-c9ee-4e88-abd8-132fe23bc78d",
   "metadata": {},
   "outputs": [
    {
     "name": "stdout",
     "output_type": "stream",
     "text": [
      "Optimization terminated successfully.\n",
      "         Current function value: 0.496180\n",
      "         Iterations 9\n"
     ]
    }
   ],
   "source": [
    "import statsmodels.api as sm\n",
    "\n",
    "logit_model_2 = sm.Logit(y_train , x_train[cols_aporte])\n",
    "result_2 = logit_model_2.fit()"
   ]
  },
  {
   "cell_type": "code",
   "execution_count": 13,
   "id": "0a77b32b-8318-4afd-9ba0-252f95e5d01a",
   "metadata": {},
   "outputs": [
    {
     "data": {
      "text/html": [
       "<table class=\"simpletable\">\n",
       "<tr>\n",
       "        <td>Model:</td>              <td>Logit</td>      <td>Pseudo R-squared:</td>   <td>-0.219</td>  \n",
       "</tr>\n",
       "<tr>\n",
       "  <td>Dependent Variable:</td>  <td>Incumplimiento</td>        <td>AIC:</td>        <td>53916.0614</td>\n",
       "</tr>\n",
       "<tr>\n",
       "         <td>Date:</td>        <td>2021-06-05 15:01</td>       <td>BIC:</td>        <td>53987.2818</td>\n",
       "</tr>\n",
       "<tr>\n",
       "   <td>No. Observations:</td>        <td>54315</td>       <td>Log-Likelihood:</td>    <td>-26950.</td> \n",
       "</tr>\n",
       "<tr>\n",
       "       <td>Df Model:</td>              <td>7</td>            <td>LL-Null:</td>        <td>-22109.</td> \n",
       "</tr>\n",
       "<tr>\n",
       "     <td>Df Residuals:</td>          <td>54307</td>        <td>LLR p-value:</td>      <td>1.0000</td>  \n",
       "</tr>\n",
       "<tr>\n",
       "      <td>Converged:</td>           <td>1.0000</td>           <td>Scale:</td>         <td>1.0000</td>  \n",
       "</tr>\n",
       "<tr>\n",
       "    <td>No. Iterations:</td>        <td>9.0000</td>              <td></td>               <td></td>     \n",
       "</tr>\n",
       "</table>\n",
       "<table class=\"simpletable\">\n",
       "<tr>\n",
       "                          <td></td>                            <th>Coef.</th>   <th>Std.Err.</th>     <th>z</th>     <th>P>|z|</th>  <th>[0.025</th>    <th>0.975]</th> \n",
       "</tr>\n",
       "<tr>\n",
       "  <th>saldo_cuenta_x_confianza_entre_tiempo_empleo</th>       <td>43.9220</td>   <td>8.2714</td>   <td>5.3101</td>  <td>0.0000</td>  <td>27.7102</td>   <td>60.1337</td>\n",
       "</tr>\n",
       "<tr>\n",
       "  <th>valor_prestamo_x_saldo_cuenta</th>                      <td>20.1275</td>   <td>15.3814</td>  <td>1.3086</td>  <td>0.1907</td> <td>-10.0194</td>   <td>50.2744</td>\n",
       "</tr>\n",
       "<tr>\n",
       "  <th>Saldo_cuenta</th>                                      <td>-115.7717</td>  <td>12.2433</td>  <td>-9.4559</td> <td>0.0000</td> <td>-139.7681</td> <td>-91.7753</td>\n",
       "</tr>\n",
       "<tr>\n",
       "  <th>tiempo_empleo_x_impulsividad_entre_cuentas_otros</th>   <td>-6.7834</td>   <td>0.1521</td>  <td>-44.5982</td> <td>0.0000</td>  <td>-7.0815</td>   <td>-6.4853</td>\n",
       "</tr>\n",
       "<tr>\n",
       "  <th>valor_prestamo_x_autocontrol_entre_tiempo_empleo</th>   <td>-2.7446</td>   <td>0.2165</td>  <td>-12.6778</td> <td>0.0000</td>  <td>-3.1690</td>   <td>-2.3203</td>\n",
       "</tr>\n",
       "<tr>\n",
       "  <th>valor_prestamo_x_saldo_cuenta_entre_tiempo_empleo</th>  <td>10.2202</td>   <td>5.8857</td>   <td>1.7364</td>  <td>0.0825</td>  <td>-1.3156</td>   <td>21.7559</td>\n",
       "</tr>\n",
       "<tr>\n",
       "  <th>impulsividad_x_confianza_entre_tiempo_empleo</th>       <td>-6.5445</td>   <td>0.2301</td>  <td>-28.4459</td> <td>0.0000</td>  <td>-6.9954</td>   <td>-6.0936</td>\n",
       "</tr>\n",
       "<tr>\n",
       "  <th>cuentas_otros_x_impulsividad_entre_tiempo_empleo</th>   <td>1.9831</td>    <td>0.3148</td>   <td>6.2999</td>  <td>0.0000</td>  <td>1.3662</td>    <td>2.6001</td> \n",
       "</tr>\n",
       "</table>"
      ],
      "text/plain": [
       "<class 'statsmodels.iolib.summary2.Summary'>\n",
       "\"\"\"\n",
       "                                            Results: Logit\n",
       "=======================================================================================================\n",
       "Model:                            Logit                        Pseudo R-squared:             -0.219    \n",
       "Dependent Variable:               Incumplimiento               AIC:                          53916.0614\n",
       "Date:                             2021-06-05 15:01             BIC:                          53987.2818\n",
       "No. Observations:                 54315                        Log-Likelihood:               -26950.   \n",
       "Df Model:                         7                            LL-Null:                      -22109.   \n",
       "Df Residuals:                     54307                        LLR p-value:                  1.0000    \n",
       "Converged:                        1.0000                       Scale:                        1.0000    \n",
       "No. Iterations:                   9.0000                                                               \n",
       "-------------------------------------------------------------------------------------------------------\n",
       "                                                    Coef.   Std.Err.    z     P>|z|    [0.025   0.975] \n",
       "-------------------------------------------------------------------------------------------------------\n",
       "saldo_cuenta_x_confianza_entre_tiempo_empleo        43.9220   8.2714   5.3101 0.0000   27.7102  60.1337\n",
       "valor_prestamo_x_saldo_cuenta                       20.1275  15.3814   1.3086 0.1907  -10.0194  50.2744\n",
       "Saldo_cuenta                                      -115.7717  12.2433  -9.4559 0.0000 -139.7681 -91.7753\n",
       "tiempo_empleo_x_impulsividad_entre_cuentas_otros    -6.7834   0.1521 -44.5982 0.0000   -7.0815  -6.4853\n",
       "valor_prestamo_x_autocontrol_entre_tiempo_empleo    -2.7446   0.2165 -12.6778 0.0000   -3.1690  -2.3203\n",
       "valor_prestamo_x_saldo_cuenta_entre_tiempo_empleo   10.2202   5.8857   1.7364 0.0825   -1.3156  21.7559\n",
       "impulsividad_x_confianza_entre_tiempo_empleo        -6.5445   0.2301 -28.4459 0.0000   -6.9954  -6.0936\n",
       "cuentas_otros_x_impulsividad_entre_tiempo_empleo     1.9831   0.3148   6.2999 0.0000    1.3662   2.6001\n",
       "=======================================================================================================\n",
       "\n",
       "\"\"\""
      ]
     },
     "execution_count": 13,
     "metadata": {},
     "output_type": "execute_result"
    }
   ],
   "source": [
    "result_2.summary2()"
   ]
  },
  {
   "cell_type": "code",
   "execution_count": 14,
   "id": "3c3cfef9-ae28-4f1e-9dde-c31586281913",
   "metadata": {},
   "outputs": [],
   "source": [
    "import numpy as np\n",
    "#prediciendo en base al modelo \n",
    "y_pred_prob_2_train = result_2.predict(x_train[cols_aporte])\n",
    "y_pred_class_2_train = np.where(y_pred_prob_2_train < 0.5, 0 , 1)\n",
    "\n",
    "y_pred_prob_2_valid = result_2.predict(x_valid[cols_aporte])\n",
    "y_pred_class_2_valid = np.where(y_pred_prob_2_valid < 0.5, 0 , 1)"
   ]
  },
  {
   "cell_type": "code",
   "execution_count": 15,
   "id": "20f71671-f9d9-4c36-8c40-86e2ddecd706",
   "metadata": {},
   "outputs": [
    {
     "data": {
      "text/plain": [
       "<AxesSubplot:>"
      ]
     },
     "execution_count": 15,
     "metadata": {},
     "output_type": "execute_result"
    },
    {
     "data": {
      "image/png": "[encoded data removed]",
      "text/plain": [
       "<Figure size 432x288 with 1 Axes>"
      ]
     },
     "metadata": {
      "needs_background": "light"
     },
     "output_type": "display_data"
    }
   ],
   "source": [
    "y_pred_prob_2_train.hist()"
   ]
  },
  {
   "cell_type": "code",
   "execution_count": 16,
   "id": "a3d40869-a171-4a83-8ff1-0b57dfbd3e1a",
   "metadata": {},
   "outputs": [
    {
     "data": {
      "text/plain": [
       "<AxesSubplot:>"
      ]
     },
     "execution_count": 16,
     "metadata": {},
     "output_type": "execute_result"
    },
    {
     "data": {
      "image/png": "[encoded data removed]",
      "text/plain": [
       "<Figure size 432x288 with 1 Axes>"
      ]
     },
     "metadata": {
      "needs_background": "light"
     },
     "output_type": "display_data"
    }
   ],
   "source": [
    "y_pred_prob_2_valid.hist()"
   ]
  },
  {
   "cell_type": "code",
   "execution_count": 17,
   "id": "15f84aeb-81b6-4389-aedb-a64f4cf4cded",
   "metadata": {},
   "outputs": [
    {
     "name": "stdout",
     "output_type": "stream",
     "text": [
      "///////////////////////// TRAIN\n",
      "AUC: 0.502\n",
      "GINI: 0.004\n",
      "///////////////////////// VALIDATION\n",
      "AUC: 0.482\n",
      "GINI: -0.035\n"
     ]
    }
   ],
   "source": [
    "from sklearn.metrics import precision_score, recall_score, f1_score, accuracy_score, roc_auc_score\n",
    "\n",
    "print(\"/\"*25, 'TRAIN')\n",
    "auc = roc_auc_score(y_train, y_pred_prob_2_train)\n",
    "print(\"AUC: %1.3f\" % auc)\n",
    "print(\"GINI: %1.3f\" % (2*auc-1))\n",
    "\n",
    "print(\"/\"*25, 'VALIDATION')\n",
    "auc_2 = roc_auc_score(y_valid, y_pred_prob_2_valid)\n",
    "print(\"AUC: %1.3f\" % auc_2)\n",
    "print(\"GINI: %1.3f\" % (2*auc_2-1))"
   ]
  },
  {
   "cell_type": "code",
   "execution_count": 18,
   "id": "79b3629f-c679-422d-9b22-95a422e3d2b6",
   "metadata": {},
   "outputs": [
    {
     "name": "stdout",
     "output_type": "stream",
     "text": [
      "///////////////////////// TRAIN\n",
      "RECALL     : 0.00013043\n",
      "EFECTIVIDAD: 0.20000000\n",
      "F1 SCORE   : 0.00026069\n",
      "///////////////////////// VALIDATION\n",
      "RECALL     : 0.00000000\n",
      "EFECTIVIDAD: 0.00000000\n",
      "F1 SCORE   : 0.00000000\n"
     ]
    },
    {
     "name": "stderr",
     "output_type": "stream",
     "text": [
      "C:\\ProgramData\\Anaconda3\\lib\\site-packages\\sklearn\\metrics\\_classification.py:1221: UndefinedMetricWarning: Precision is ill-defined and being set to 0.0 due to no predicted samples. Use `zero_division` parameter to control this behavior.\n",
      "  _warn_prf(average, modifier, msg_start, len(result))\n"
     ]
    }
   ],
   "source": [
    "print(\"/\"*25, 'TRAIN')\n",
    "print(\"RECALL     : %1.8f\" % recall_score(y_train, y_pred_class_2_train))\n",
    "print(\"EFECTIVIDAD: %1.8f\" % precision_score(y_train, y_pred_class_2_train))\n",
    "print(\"F1 SCORE   : %1.8f\" % f1_score(y_train, y_pred_class_2_train))\n",
    "\n",
    "print(\"/\"*25, 'VALIDATION')\n",
    "print(\"RECALL     : %1.8f\" % recall_score(y_valid, y_pred_class_2_valid))\n",
    "print(\"EFECTIVIDAD: %1.8f\" % precision_score(y_valid, y_pred_class_2_valid))\n",
    "print(\"F1 SCORE   : %1.8f\" % f1_score(y_valid, y_pred_class_2_valid))"
   ]
  },
  {
   "cell_type": "code",
   "execution_count": null,
   "id": "9561f6ee-180f-4a8a-8457-56097f122ac8",
   "metadata": {},
   "outputs": [],
   "source": []
  },
  {
   "cell_type": "markdown",
   "id": "05ac40c6-1cbe-4afb-b9b7-5e4a4b58008e",
   "metadata": {},
   "source": [
    "#### >>> RECALL"
   ]
  },
  {
   "cell_type": "code",
   "execution_count": 19,
   "id": "2d77863f-417b-4360-9906-83a17f3a836f",
   "metadata": {},
   "outputs": [
    {
     "data": {
      "text/plain": [
       "     fun: -0.9992174253293336\n",
       " message: 'Optimization terminated successfully.'\n",
       "    nfev: 212\n",
       "     nit: 13\n",
       " success: True\n",
       "       x: array([3.27700786e-05])"
      ]
     },
     "execution_count": 19,
     "metadata": {},
     "output_type": "execute_result"
    }
   ],
   "source": [
    "from scipy.optimize import differential_evolution\n",
    "\n",
    "\n",
    "optimization_rec = differential_evolution(\n",
    "    lambda c: -1*recall_score(y_train, np.array([0 if _ < c[0] else 1 for _ in y_pred_prob_2_train])), \n",
    "    [(0, 1)]\n",
    ")\n",
    "optimization_rec"
   ]
  },
  {
   "cell_type": "code",
   "execution_count": 20,
   "id": "66457ba9-9dbc-4dae-bb25-e9981a33eb1e",
   "metadata": {},
   "outputs": [
    {
     "data": {
      "text/plain": [
       "3.27700785932028e-05"
      ]
     },
     "execution_count": 20,
     "metadata": {},
     "output_type": "execute_result"
    }
   ],
   "source": [
    "corte_rec = optimization_rec['x'][0]\n",
    "corte_rec"
   ]
  },
  {
   "cell_type": "code",
   "execution_count": 21,
   "id": "597be65f-d57a-40f4-8cec-4625ff5e322c",
   "metadata": {},
   "outputs": [],
   "source": [
    "y_pred_class_train_2_rec = np.where(y_pred_prob_2_train < corte_rec, 0 , 1)\n",
    "y_pred_class_valid_2_rc = np.where(y_pred_prob_2_valid < corte_rec, 0 , 1)"
   ]
  },
  {
   "cell_type": "code",
   "execution_count": 22,
   "id": "4e5ec13b-6b27-4eaf-a1be-72098f916a9b",
   "metadata": {},
   "outputs": [
    {
     "data": {
      "text/plain": [
       "1    54260\n",
       "0       55\n",
       "dtype: int64"
      ]
     },
     "execution_count": 22,
     "metadata": {},
     "output_type": "execute_result"
    }
   ],
   "source": [
    "pd.Series(y_pred_class_train_2_rec).value_counts()"
   ]
  },
  {
   "cell_type": "code",
   "execution_count": 23,
   "id": "bceb32a4-90b2-43e1-ad56-281956e39015",
   "metadata": {},
   "outputs": [
    {
     "data": {
      "text/plain": [
       "1    9576\n",
       "0      10\n",
       "dtype: int64"
      ]
     },
     "execution_count": 23,
     "metadata": {},
     "output_type": "execute_result"
    }
   ],
   "source": [
    "pd.Series(y_pred_class_valid_2_rc).value_counts()"
   ]
  },
  {
   "cell_type": "code",
   "execution_count": 24,
   "id": "198229a3-f148-4601-8a76-67c15c07231d",
   "metadata": {},
   "outputs": [
    {
     "name": "stdout",
     "output_type": "stream",
     "text": [
      "///////////////////////// TRAIN\n",
      "RECALL     : 0.99921743\n",
      "EFECTIVIDAD: 0.14119056\n",
      "F1 SCORE   : 0.24742035\n",
      "///////////////////////// VALIDATION\n",
      "RECALL     : 0.99852180\n",
      "EFECTIVIDAD: 0.14108187\n",
      "F1 SCORE   : 0.24723213\n"
     ]
    }
   ],
   "source": [
    "print(\"/\"*25, \"TRAIN\")\n",
    "print(\"RECALL     : %1.8f\" % recall_score(y_train, y_pred_class_train_2_rec))\n",
    "print(\"EFECTIVIDAD: %1.8f\" % precision_score(y_train, y_pred_class_train_2_rec))\n",
    "print(\"F1 SCORE   : %1.8f\" % f1_score(y_train, y_pred_class_train_2_rec))\n",
    "\n",
    "print(\"/\"*25, \"VALIDATION\")\n",
    "print(\"RECALL     : %1.8f\" % recall_score(y_valid, y_pred_class_valid_2_rc))\n",
    "print(\"EFECTIVIDAD: %1.8f\" % precision_score(y_valid, y_pred_class_valid_2_rc))\n",
    "print(\"F1 SCORE   : %1.8f\" % f1_score(y_valid, y_pred_class_valid_2_rc))"
   ]
  },
  {
   "cell_type": "code",
   "execution_count": null,
   "id": "010f4b0e-de8c-450d-9a23-6b6686759336",
   "metadata": {},
   "outputs": [],
   "source": []
  },
  {
   "cell_type": "markdown",
   "id": "e3853f23-b161-4cbd-b97e-4052d694cfcd",
   "metadata": {},
   "source": [
    "#### >>> EFECTIVIDAD"
   ]
  },
  {
   "cell_type": "code",
   "execution_count": 25,
   "id": "d3a1c84a-b33b-433f-9580-07ac0911d5ec",
   "metadata": {},
   "outputs": [
    {
     "data": {
      "text/plain": [
       "     fun: -0.5\n",
       " message: 'Optimization terminated successfully.'\n",
       "    nfev: 137\n",
       "     nit: 8\n",
       " success: True\n",
       "       x: array([0.99242384])"
      ]
     },
     "execution_count": 25,
     "metadata": {},
     "output_type": "execute_result"
    }
   ],
   "source": [
    "optimization_pre = differential_evolution(\n",
    "    lambda c: -1*precision_score(y_train, np.array([0 if _ < c[0] else 1 for _ in y_pred_prob_2_train])), \n",
    "    [(0, 1)]\n",
    ")\n",
    "optimization_pre"
   ]
  },
  {
   "cell_type": "code",
   "execution_count": null,
   "id": "3b7e1286-2f54-49b0-9511-0da58d50386e",
   "metadata": {},
   "outputs": [],
   "source": []
  },
  {
   "cell_type": "markdown",
   "id": "3bb8cc6e-9805-4032-b6a8-e16e51976cc3",
   "metadata": {},
   "source": [
    "#### >>> AUC"
   ]
  },
  {
   "cell_type": "code",
   "execution_count": 26,
   "id": "501ea2b0-d72b-480e-aaf0-c63782c37bbc",
   "metadata": {},
   "outputs": [
    {
     "data": {
      "text/plain": [
       "     fun: -0.5021168825464934\n",
       " message: 'Optimization terminated successfully.'\n",
       "    nfev: 32\n",
       "     nit: 1\n",
       " success: True\n",
       "       x: array([0.17735067])"
      ]
     },
     "execution_count": 26,
     "metadata": {},
     "output_type": "execute_result"
    }
   ],
   "source": [
    "optimization_auc = differential_evolution(\n",
    "    lambda c: -1*roc_auc_score(y_train, np.array([0 if _ < c[0] else 1 for _ in y_pred_prob_2_train])), \n",
    "    [(0, 1)]\n",
    ")\n",
    "optimization_auc"
   ]
  },
  {
   "cell_type": "code",
   "execution_count": 27,
   "id": "2fe947ae-60bc-4fcc-aea4-2ffd517f131d",
   "metadata": {},
   "outputs": [
    {
     "data": {
      "text/plain": [
       "0.17735067086944034"
      ]
     },
     "execution_count": 27,
     "metadata": {},
     "output_type": "execute_result"
    }
   ],
   "source": [
    "corte_auc = optimization_auc['x'][0]\n",
    "corte_auc"
   ]
  },
  {
   "cell_type": "code",
   "execution_count": 28,
   "id": "2b7a4e33-2b7f-4601-b1ad-38ad776df862",
   "metadata": {},
   "outputs": [],
   "source": [
    "y_pred_class_train_2_auc = np.where(y_pred_prob_2_train < corte_auc, 0 , 1)\n",
    "y_pred_class_valid_2_auc = np.where(y_pred_prob_2_valid < corte_auc, 0 , 1)"
   ]
  },
  {
   "cell_type": "code",
   "execution_count": 29,
   "id": "ce291602-0ec7-4940-a7f6-def817d21f08",
   "metadata": {},
   "outputs": [
    {
     "data": {
      "text/plain": [
       "1    33644\n",
       "0    20671\n",
       "dtype: int64"
      ]
     },
     "execution_count": 29,
     "metadata": {},
     "output_type": "execute_result"
    }
   ],
   "source": [
    "pd.Series(y_pred_class_train_2_auc).value_counts()"
   ]
  },
  {
   "cell_type": "code",
   "execution_count": 30,
   "id": "65ac2381-0ed2-4fb5-a001-dfea2c294e7e",
   "metadata": {},
   "outputs": [
    {
     "data": {
      "text/plain": [
       "1    5963\n",
       "0    3623\n",
       "dtype: int64"
      ]
     },
     "execution_count": 30,
     "metadata": {},
     "output_type": "execute_result"
    }
   ],
   "source": [
    "pd.Series(y_pred_class_valid_2_auc).value_counts()"
   ]
  },
  {
   "cell_type": "code",
   "execution_count": 31,
   "id": "86edf21e-1992-48d8-8b2d-39f46f63993f",
   "metadata": {},
   "outputs": [
    {
     "name": "stdout",
     "output_type": "stream",
     "text": [
      "///////////////////////// TRAIN\n",
      "RECALL     : 0.62305987\n",
      "EFECTIVIDAD: 0.14198668\n",
      "F1 SCORE   : 0.23127012\n",
      "///////////////////////// VALIDATION\n",
      "RECALL     : 0.60384331\n",
      "EFECTIVIDAD: 0.13701157\n",
      "F1 SCORE   : 0.22334609\n"
     ]
    }
   ],
   "source": [
    "print(\"/\"*25, \"TRAIN\")\n",
    "print(\"RECALL     : %1.8f\" % recall_score(y_train, y_pred_class_train_2_auc))\n",
    "print(\"EFECTIVIDAD: %1.8f\" % precision_score(y_train, y_pred_class_train_2_auc))\n",
    "print(\"F1 SCORE   : %1.8f\" % f1_score(y_train, y_pred_class_train_2_auc))\n",
    "\n",
    "print(\"/\"*25, \"VALIDATION\")\n",
    "print(\"RECALL     : %1.8f\" % recall_score(y_valid, y_pred_class_valid_2_auc))\n",
    "print(\"EFECTIVIDAD: %1.8f\" % precision_score(y_valid, y_pred_class_valid_2_auc))\n",
    "print(\"F1 SCORE   : %1.8f\" % f1_score(y_valid, y_pred_class_valid_2_auc))"
   ]
  },
  {
   "cell_type": "code",
   "execution_count": null,
   "id": "295d2776-7875-4a59-ae59-183fcee27f10",
   "metadata": {},
   "outputs": [],
   "source": []
  }
 ],
 "metadata": {
  "kernelspec": {
   "display_name": "Python 3",
   "language": "python",
   "name": "python3"
  },
  "language_info": {
   "codemirror_mode": {
    "name": "ipython",
    "version": 3
   },
   "file_extension": ".py",
   "mimetype": "text/x-python",
   "name": "python",
   "nbconvert_exporter": "python",
   "pygments_lexer": "ipython3",
   "version": "3.8.5"
  }
 },
 "nbformat": 4,
 "nbformat_minor": 5
}
