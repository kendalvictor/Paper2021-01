{
 "cells": [
  {
   "cell_type": "code",
   "execution_count": 1,
   "metadata": {},
   "outputs": [
    {
     "data": {
      "text/plain": [
       "['CONTENT_CATEGORY.zip',\n",
       " 'CONTENT_CATEGORY_BOTTOM.zip',\n",
       " 'CONTENT_CATEGORY_TOP.zip',\n",
       " 'conversiones.zip',\n",
       " 'data.zip',\n",
       " 'data2.zip',\n",
       " 'device_data.zip',\n",
       " 'PAGE.zip',\n",
       " 'pageviews.zip',\n",
       " 'pageviews_complemento.zip',\n",
       " 'pageview_with_previous',\n",
       " 'pageview_with_previous_2',\n",
       " 'pageview_with_previous_2.csv',\n",
       " 'sampleSubmission.zip',\n",
       " 'SITE_ID.zip']"
      ]
     },
     "execution_count": 1,
     "metadata": {},
     "output_type": "execute_result"
    }
   ],
   "source": [
    "# Nativos\n",
    "import random as rn\n",
    "import os\n",
    "import sys\n",
    "import gc\n",
    "\n",
    "#calculo\n",
    "import numpy as np\n",
    "import pandas as pd\n",
    "import scipy as sp\n",
    "\n",
    "#grafico\n",
    "import matplotlib.pyplot as plt\n",
    "import seaborn as sns\n",
    "from IPython.display import display\n",
    "%matplotlib inline\n",
    "sns.set(style=\"whitegrid\")\n",
    "\n",
    "#warning ignore future\n",
    "import warnings\n",
    "# warnings.simplefilter(action='ignore', category=FutureWarning)\n",
    "warnings.filterwarnings(\"ignore\")\n",
    "gc.collect()\n",
    "\n",
    "BASE_DIR = os.path.dirname(os.getcwd())\n",
    "if BASE_DIR not in sys.path: sys.path.append(BASE_DIR)\n",
    "\n",
    "from utils import *\n",
    "#from graphs import *\n",
    "\n",
    "SEED = 29082013\n",
    "os.environ['PYTHONHASHSEED']=str(SEED)\n",
    "np.random.seed(SEED)\n",
    "rn.seed(SEED)\n",
    "\n",
    "subfolder = \"data\"\n",
    "os.listdir(subfolder)"
   ]
  },
  {
   "cell_type": "code",
   "execution_count": null,
   "metadata": {},
   "outputs": [],
   "source": []
  },
  {
   "cell_type": "markdown",
   "metadata": {},
   "source": [
    "### >> Load data"
   ]
  },
  {
   "cell_type": "code",
   "execution_count": 3,
   "metadata": {},
   "outputs": [
    {
     "data": {
      "text/plain": [
       "(17936934, 8)"
      ]
     },
     "execution_count": 3,
     "metadata": {},
     "output_type": "execute_result"
    }
   ],
   "source": [
    "col_user = 'USER_ID'\n",
    "data = pd.read_csv(\n",
    "    \"{}/pageviews.zip\".format(subfolder), parse_dates=[\"FEC_EVENT\"], dtype=str\n",
    ").sort_values(\n",
    "    [col_user, \"FEC_EVENT\"]\n",
    ")\n",
    "data.shape"
   ]
  },
  {
   "cell_type": "code",
   "execution_count": 4,
   "metadata": {},
   "outputs": [
    {
     "data": {
      "text/plain": [
       "(4933420, 8)"
      ]
     },
     "execution_count": 4,
     "metadata": {},
     "output_type": "execute_result"
    }
   ],
   "source": [
    "comp = pd.read_csv(\n",
    "    \"{}/pageviews_complemento.zip\".format(subfolder), parse_dates=[\"FEC_EVENT\"], dtype=str\n",
    ").sort_values(\n",
    "    [col_user, \"FEC_EVENT\"]\n",
    ")\n",
    "comp.shape"
   ]
  },
  {
   "cell_type": "code",
   "execution_count": 5,
   "metadata": {},
   "outputs": [
    {
     "data": {
      "text/html": [
       "<div>\n",
       "<style scoped>\n",
       "    .dataframe tbody tr th:only-of-type {\n",
       "        vertical-align: middle;\n",
       "    }\n",
       "\n",
       "    .dataframe tbody tr th {\n",
       "        vertical-align: top;\n",
       "    }\n",
       "\n",
       "    .dataframe thead th {\n",
       "        text-align: right;\n",
       "    }\n",
       "</style>\n",
       "<table border=\"1\" class=\"dataframe\">\n",
       "  <thead>\n",
       "    <tr style=\"text-align: right;\">\n",
       "      <th></th>\n",
       "      <th>FEC_EVENT</th>\n",
       "      <th>PAGE</th>\n",
       "      <th>CONTENT_CATEGORY</th>\n",
       "      <th>CONTENT_CATEGORY_TOP</th>\n",
       "      <th>CONTENT_CATEGORY_BOTTOM</th>\n",
       "      <th>SITE_ID</th>\n",
       "      <th>ON_SITE_SEARCH_TERM</th>\n",
       "      <th>USER_ID</th>\n",
       "    </tr>\n",
       "  </thead>\n",
       "  <tbody>\n",
       "    <tr>\n",
       "      <th>284</th>\n",
       "      <td>2018-01-01 09:56:47</td>\n",
       "      <td>14</td>\n",
       "      <td>4</td>\n",
       "      <td>2</td>\n",
       "      <td>4</td>\n",
       "      <td>2</td>\n",
       "      <td>1</td>\n",
       "      <td>0</td>\n",
       "    </tr>\n",
       "    <tr>\n",
       "      <th>285</th>\n",
       "      <td>2018-01-01 09:57:19</td>\n",
       "      <td>14</td>\n",
       "      <td>4</td>\n",
       "      <td>2</td>\n",
       "      <td>4</td>\n",
       "      <td>2</td>\n",
       "      <td>1</td>\n",
       "      <td>0</td>\n",
       "    </tr>\n",
       "    <tr>\n",
       "      <th>286</th>\n",
       "      <td>2018-01-01 09:57:48</td>\n",
       "      <td>12</td>\n",
       "      <td>4</td>\n",
       "      <td>2</td>\n",
       "      <td>4</td>\n",
       "      <td>2</td>\n",
       "      <td>1</td>\n",
       "      <td>0</td>\n",
       "    </tr>\n",
       "    <tr>\n",
       "      <th>287</th>\n",
       "      <td>2018-01-01 09:57:48</td>\n",
       "      <td>10</td>\n",
       "      <td>4</td>\n",
       "      <td>2</td>\n",
       "      <td>4</td>\n",
       "      <td>2</td>\n",
       "      <td>1</td>\n",
       "      <td>0</td>\n",
       "    </tr>\n",
       "    <tr>\n",
       "      <th>288</th>\n",
       "      <td>2018-01-01 09:57:49</td>\n",
       "      <td>11</td>\n",
       "      <td>4</td>\n",
       "      <td>2</td>\n",
       "      <td>4</td>\n",
       "      <td>2</td>\n",
       "      <td>1</td>\n",
       "      <td>0</td>\n",
       "    </tr>\n",
       "  </tbody>\n",
       "</table>\n",
       "</div>"
      ],
      "text/plain": [
       "              FEC_EVENT PAGE CONTENT_CATEGORY CONTENT_CATEGORY_TOP  \\\n",
       "284 2018-01-01 09:56:47   14                4                    2   \n",
       "285 2018-01-01 09:57:19   14                4                    2   \n",
       "286 2018-01-01 09:57:48   12                4                    2   \n",
       "287 2018-01-01 09:57:48   10                4                    2   \n",
       "288 2018-01-01 09:57:49   11                4                    2   \n",
       "\n",
       "    CONTENT_CATEGORY_BOTTOM SITE_ID ON_SITE_SEARCH_TERM USER_ID  \n",
       "284                       4       2                   1       0  \n",
       "285                       4       2                   1       0  \n",
       "286                       4       2                   1       0  \n",
       "287                       4       2                   1       0  \n",
       "288                       4       2                   1       0  "
      ]
     },
     "execution_count": 5,
     "metadata": {},
     "output_type": "execute_result"
    }
   ],
   "source": [
    "data.head()"
   ]
  },
  {
   "cell_type": "code",
   "execution_count": 6,
   "metadata": {},
   "outputs": [
    {
     "data": {
      "text/html": [
       "<div>\n",
       "<style scoped>\n",
       "    .dataframe tbody tr th:only-of-type {\n",
       "        vertical-align: middle;\n",
       "    }\n",
       "\n",
       "    .dataframe tbody tr th {\n",
       "        vertical-align: top;\n",
       "    }\n",
       "\n",
       "    .dataframe thead th {\n",
       "        text-align: right;\n",
       "    }\n",
       "</style>\n",
       "<table border=\"1\" class=\"dataframe\">\n",
       "  <thead>\n",
       "    <tr style=\"text-align: right;\">\n",
       "      <th></th>\n",
       "      <th>PAGE</th>\n",
       "      <th>CONTENT_CATEGORY</th>\n",
       "      <th>CONTENT_CATEGORY_TOP</th>\n",
       "      <th>CONTENT_CATEGORY_BOTTOM</th>\n",
       "      <th>SITE_ID</th>\n",
       "      <th>ON_SITE_SEARCH_TERM</th>\n",
       "      <th>USER_ID</th>\n",
       "      <th>FEC_EVENT</th>\n",
       "    </tr>\n",
       "  </thead>\n",
       "  <tbody>\n",
       "    <tr>\n",
       "      <th>3136070</th>\n",
       "      <td>2</td>\n",
       "      <td>2</td>\n",
       "      <td>2</td>\n",
       "      <td>2</td>\n",
       "      <td>2</td>\n",
       "      <td>1</td>\n",
       "      <td>10000</td>\n",
       "      <td>2018-07-10 19:14:34</td>\n",
       "    </tr>\n",
       "    <tr>\n",
       "      <th>3136071</th>\n",
       "      <td>99</td>\n",
       "      <td>2</td>\n",
       "      <td>2</td>\n",
       "      <td>2</td>\n",
       "      <td>3</td>\n",
       "      <td>1</td>\n",
       "      <td>10000</td>\n",
       "      <td>2018-07-10 19:14:47</td>\n",
       "    </tr>\n",
       "    <tr>\n",
       "      <th>3136072</th>\n",
       "      <td>2</td>\n",
       "      <td>2</td>\n",
       "      <td>2</td>\n",
       "      <td>2</td>\n",
       "      <td>2</td>\n",
       "      <td>1</td>\n",
       "      <td>10000</td>\n",
       "      <td>2018-07-10 19:14:50</td>\n",
       "    </tr>\n",
       "    <tr>\n",
       "      <th>3136073</th>\n",
       "      <td>2</td>\n",
       "      <td>2</td>\n",
       "      <td>2</td>\n",
       "      <td>2</td>\n",
       "      <td>2</td>\n",
       "      <td>1</td>\n",
       "      <td>10000</td>\n",
       "      <td>2018-07-10 19:15:05</td>\n",
       "    </tr>\n",
       "    <tr>\n",
       "      <th>3136074</th>\n",
       "      <td>3</td>\n",
       "      <td>2</td>\n",
       "      <td>2</td>\n",
       "      <td>2</td>\n",
       "      <td>3</td>\n",
       "      <td>1</td>\n",
       "      <td>10000</td>\n",
       "      <td>2018-07-10 19:15:26</td>\n",
       "    </tr>\n",
       "  </tbody>\n",
       "</table>\n",
       "</div>"
      ],
      "text/plain": [
       "        PAGE CONTENT_CATEGORY CONTENT_CATEGORY_TOP CONTENT_CATEGORY_BOTTOM  \\\n",
       "3136070    2                2                    2                       2   \n",
       "3136071   99                2                    2                       2   \n",
       "3136072    2                2                    2                       2   \n",
       "3136073    2                2                    2                       2   \n",
       "3136074    3                2                    2                       2   \n",
       "\n",
       "        SITE_ID ON_SITE_SEARCH_TERM USER_ID           FEC_EVENT  \n",
       "3136070       2                   1   10000 2018-07-10 19:14:34  \n",
       "3136071       3                   1   10000 2018-07-10 19:14:47  \n",
       "3136072       2                   1   10000 2018-07-10 19:14:50  \n",
       "3136073       2                   1   10000 2018-07-10 19:15:05  \n",
       "3136074       3                   1   10000 2018-07-10 19:15:26  "
      ]
     },
     "execution_count": 6,
     "metadata": {},
     "output_type": "execute_result"
    }
   ],
   "source": [
    "comp.head()"
   ]
  },
  {
   "cell_type": "code",
   "execution_count": 7,
   "metadata": {},
   "outputs": [
    {
     "data": {
      "text/plain": [
       "(Timestamp('2018-01-01 00:09:17'), Timestamp('2018-12-31 23:59:59'))"
      ]
     },
     "execution_count": 7,
     "metadata": {},
     "output_type": "execute_result"
    }
   ],
   "source": [
    "data['FEC_EVENT'].min(), data['FEC_EVENT'].max()"
   ]
  },
  {
   "cell_type": "code",
   "execution_count": 8,
   "metadata": {},
   "outputs": [
    {
     "data": {
      "text/plain": [
       "(Timestamp('2018-07-01 00:01:07'), Timestamp('2018-10-31 23:59:57'))"
      ]
     },
     "execution_count": 8,
     "metadata": {},
     "output_type": "execute_result"
    }
   ],
   "source": [
    "comp['FEC_EVENT'].min(), comp['FEC_EVENT'].max()"
   ]
  },
  {
   "cell_type": "code",
   "execution_count": null,
   "metadata": {},
   "outputs": [],
   "source": []
  },
  {
   "cell_type": "markdown",
   "metadata": {},
   "source": [
    "### >> Review unicidad"
   ]
  },
  {
   "cell_type": "code",
   "execution_count": 9,
   "metadata": {},
   "outputs": [
    {
     "name": "stdout",
     "output_type": "stream",
     "text": [
      "FEC_EVENT (10496454,)\n",
      "PAGE (1725,)\n",
      "CONTENT_CATEGORY (65,)\n",
      "CONTENT_CATEGORY_TOP (13,)\n",
      "CONTENT_CATEGORY_BOTTOM (65,)\n",
      "SITE_ID (4,)\n",
      "ON_SITE_SEARCH_TERM (294,)\n",
      "USER_ID (11676,)\n",
      "////////////////////////////////////////////////////////////////////////////////////////////////////\n",
      "PAGE (1233,)\n",
      "CONTENT_CATEGORY (59,)\n",
      "CONTENT_CATEGORY_TOP (11,)\n",
      "CONTENT_CATEGORY_BOTTOM (59,)\n",
      "SITE_ID (4,)\n",
      "ON_SITE_SEARCH_TERM (1,)\n",
      "USER_ID (6661,)\n",
      "FEC_EVENT (3209918,)\n"
     ]
    }
   ],
   "source": [
    "for col in data.columns:\n",
    "    print(col, data[col].unique().shape)\n",
    "\n",
    "print(\"/\"*100)\n",
    "\n",
    "for col in comp.columns:\n",
    "    print(col, comp[col].unique().shape)"
   ]
  },
  {
   "cell_type": "code",
   "execution_count": 10,
   "metadata": {},
   "outputs": [
    {
     "data": {
      "text/plain": [
       "['FEC_EVENT',\n",
       " 'PAGE',\n",
       " 'CONTENT_CATEGORY',\n",
       " 'CONTENT_CATEGORY_TOP',\n",
       " 'CONTENT_CATEGORY_BOTTOM',\n",
       " 'SITE_ID',\n",
       " 'ON_SITE_SEARCH_TERM',\n",
       " 'USER_ID']"
      ]
     },
     "execution_count": 10,
     "metadata": {},
     "output_type": "execute_result"
    }
   ],
   "source": [
    "order_columns = list(data.columns)\n",
    "order_columns"
   ]
  },
  {
   "cell_type": "code",
   "execution_count": null,
   "metadata": {},
   "outputs": [],
   "source": []
  },
  {
   "cell_type": "markdown",
   "metadata": {},
   "source": [
    "### >> Union data"
   ]
  },
  {
   "cell_type": "code",
   "execution_count": 11,
   "metadata": {},
   "outputs": [
    {
     "name": "stdout",
     "output_type": "stream",
     "text": [
      "(22870354, 8)\n"
     ]
    },
    {
     "data": {
      "text/html": [
       "<div>\n",
       "<style scoped>\n",
       "    .dataframe tbody tr th:only-of-type {\n",
       "        vertical-align: middle;\n",
       "    }\n",
       "\n",
       "    .dataframe tbody tr th {\n",
       "        vertical-align: top;\n",
       "    }\n",
       "\n",
       "    .dataframe thead th {\n",
       "        text-align: right;\n",
       "    }\n",
       "</style>\n",
       "<table border=\"1\" class=\"dataframe\">\n",
       "  <thead>\n",
       "    <tr style=\"text-align: right;\">\n",
       "      <th></th>\n",
       "      <th>FEC_EVENT</th>\n",
       "      <th>PAGE</th>\n",
       "      <th>CONTENT_CATEGORY</th>\n",
       "      <th>CONTENT_CATEGORY_TOP</th>\n",
       "      <th>CONTENT_CATEGORY_BOTTOM</th>\n",
       "      <th>SITE_ID</th>\n",
       "      <th>ON_SITE_SEARCH_TERM</th>\n",
       "      <th>USER_ID</th>\n",
       "    </tr>\n",
       "  </thead>\n",
       "  <tbody>\n",
       "    <tr>\n",
       "      <th>284</th>\n",
       "      <td>2018-01-01 09:56:47</td>\n",
       "      <td>14</td>\n",
       "      <td>4</td>\n",
       "      <td>2</td>\n",
       "      <td>4</td>\n",
       "      <td>2</td>\n",
       "      <td>1</td>\n",
       "      <td>0</td>\n",
       "    </tr>\n",
       "    <tr>\n",
       "      <th>285</th>\n",
       "      <td>2018-01-01 09:57:19</td>\n",
       "      <td>14</td>\n",
       "      <td>4</td>\n",
       "      <td>2</td>\n",
       "      <td>4</td>\n",
       "      <td>2</td>\n",
       "      <td>1</td>\n",
       "      <td>0</td>\n",
       "    </tr>\n",
       "    <tr>\n",
       "      <th>286</th>\n",
       "      <td>2018-01-01 09:57:48</td>\n",
       "      <td>12</td>\n",
       "      <td>4</td>\n",
       "      <td>2</td>\n",
       "      <td>4</td>\n",
       "      <td>2</td>\n",
       "      <td>1</td>\n",
       "      <td>0</td>\n",
       "    </tr>\n",
       "    <tr>\n",
       "      <th>287</th>\n",
       "      <td>2018-01-01 09:57:48</td>\n",
       "      <td>10</td>\n",
       "      <td>4</td>\n",
       "      <td>2</td>\n",
       "      <td>4</td>\n",
       "      <td>2</td>\n",
       "      <td>1</td>\n",
       "      <td>0</td>\n",
       "    </tr>\n",
       "    <tr>\n",
       "      <th>288</th>\n",
       "      <td>2018-01-01 09:57:49</td>\n",
       "      <td>11</td>\n",
       "      <td>4</td>\n",
       "      <td>2</td>\n",
       "      <td>4</td>\n",
       "      <td>2</td>\n",
       "      <td>1</td>\n",
       "      <td>0</td>\n",
       "    </tr>\n",
       "  </tbody>\n",
       "</table>\n",
       "</div>"
      ],
      "text/plain": [
       "              FEC_EVENT PAGE CONTENT_CATEGORY CONTENT_CATEGORY_TOP  \\\n",
       "284 2018-01-01 09:56:47   14                4                    2   \n",
       "285 2018-01-01 09:57:19   14                4                    2   \n",
       "286 2018-01-01 09:57:48   12                4                    2   \n",
       "287 2018-01-01 09:57:48   10                4                    2   \n",
       "288 2018-01-01 09:57:49   11                4                    2   \n",
       "\n",
       "    CONTENT_CATEGORY_BOTTOM SITE_ID ON_SITE_SEARCH_TERM USER_ID  \n",
       "284                       4       2                   1       0  \n",
       "285                       4       2                   1       0  \n",
       "286                       4       2                   1       0  \n",
       "287                       4       2                   1       0  \n",
       "288                       4       2                   1       0  "
      ]
     },
     "execution_count": 11,
     "metadata": {},
     "output_type": "execute_result"
    }
   ],
   "source": [
    "data = pd.concat(\n",
    "    [data[order_columns], comp[order_columns]], axis=0\n",
    ")\n",
    "del comp\n",
    "print(data.shape)\n",
    "\n",
    "data.head()"
   ]
  },
  {
   "cell_type": "code",
   "execution_count": 12,
   "metadata": {},
   "outputs": [
    {
     "data": {
      "text/plain": [
       "66"
      ]
     },
     "execution_count": 12,
     "metadata": {},
     "output_type": "execute_result"
    }
   ],
   "source": [
    "gc.collect()"
   ]
  },
  {
   "cell_type": "code",
   "execution_count": null,
   "metadata": {},
   "outputs": [],
   "source": []
  },
  {
   "cell_type": "code",
   "execution_count": 13,
   "metadata": {},
   "outputs": [
    {
     "data": {
      "text/plain": [
       "USER_ID\n",
       "11084    3\n",
       "11317    3\n",
       "11445    2\n",
       "11538    3\n",
       "11674    2\n",
       "Name: FEC_EVENT, dtype: int64"
      ]
     },
     "metadata": {},
     "output_type": "display_data"
    },
    {
     "name": "stdout",
     "output_type": "stream",
     "text": [
      "Wall time: 4.17 s\n"
     ]
    }
   ],
   "source": [
    "%%time\n",
    "serie_count = data.groupby(\n",
    "    by=[col_user]\n",
    ")['FEC_EVENT'].count()\n",
    "\n",
    "display(serie_count[serie_count <= 3])"
   ]
  },
  {
   "cell_type": "code",
   "execution_count": 14,
   "metadata": {},
   "outputs": [
    {
     "data": {
      "text/plain": [
       "FEC_EVENT                  datetime64[ns]\n",
       "PAGE                               object\n",
       "CONTENT_CATEGORY                   object\n",
       "CONTENT_CATEGORY_TOP               object\n",
       "CONTENT_CATEGORY_BOTTOM            object\n",
       "SITE_ID                            object\n",
       "ON_SITE_SEARCH_TERM                object\n",
       "USER_ID                            object\n",
       "dtype: object"
      ]
     },
     "metadata": {},
     "output_type": "display_data"
    }
   ],
   "source": [
    "display(data.dtypes)"
   ]
  },
  {
   "cell_type": "code",
   "execution_count": 15,
   "metadata": {},
   "outputs": [
    {
     "name": "stdout",
     "output_type": "stream",
     "text": [
      "FEC_EVENT (12397072,)\n",
      "PAGE (1733,)\n",
      "CONTENT_CATEGORY (65,)\n",
      "CONTENT_CATEGORY_TOP (13,)\n",
      "CONTENT_CATEGORY_BOTTOM (65,)\n",
      "SITE_ID (4,)\n",
      "ON_SITE_SEARCH_TERM (294,)\n",
      "USER_ID (11676,)\n"
     ]
    }
   ],
   "source": [
    "for col in data.columns:\n",
    "    print(col, data[col].unique().shape)"
   ]
  },
  {
   "cell_type": "raw",
   "metadata": {},
   "source": [
    "FEC_EVENT (10496454,)\n",
    "PAGE (1725,)\n",
    "CONTENT_CATEGORY (65,)\n",
    "CONTENT_CATEGORY_TOP (13,)\n",
    "CONTENT_CATEGORY_BOTTOM (65,)\n",
    "SITE_ID (4,)\n",
    "ON_SITE_SEARCH_TERM (294,)\n",
    "USER_ID (11676,)"
   ]
  },
  {
   "cell_type": "code",
   "execution_count": 16,
   "metadata": {},
   "outputs": [
    {
     "data": {
      "text/plain": [
       "<AxesSubplot:>"
      ]
     },
     "execution_count": 16,
     "metadata": {},
     "output_type": "execute_result"
    },
    {
     "data": {
      "image/png": "[encoded data removed]",
      "text/plain": [
       "<Figure size 432x288 with 1 Axes>"
      ]
     },
     "metadata": {},
     "output_type": "display_data"
    }
   ],
   "source": [
    "data['FEC_EVENT'].dt.day.hist()"
   ]
  },
  {
   "cell_type": "code",
   "execution_count": 17,
   "metadata": {},
   "outputs": [
    {
     "data": {
      "text/plain": [
       "<AxesSubplot:>"
      ]
     },
     "execution_count": 17,
     "metadata": {},
     "output_type": "execute_result"
    },
    {
     "data": {
      "image/png": "[encoded data removed]",
      "text/plain": [
       "<Figure size 432x288 with 1 Axes>"
      ]
     },
     "metadata": {},
     "output_type": "display_data"
    }
   ],
   "source": [
    "data['FEC_EVENT'].dt.hour.hist()"
   ]
  },
  {
   "cell_type": "code",
   "execution_count": 18,
   "metadata": {},
   "outputs": [
    {
     "data": {
      "text/plain": [
       "<AxesSubplot:>"
      ]
     },
     "execution_count": 18,
     "metadata": {},
     "output_type": "execute_result"
    },
    {
     "data": {
      "image/png": "[encoded data removed]",
      "text/plain": [
       "<Figure size 432x288 with 1 Axes>"
      ]
     },
     "metadata": {},
     "output_type": "display_data"
    }
   ],
   "source": [
    "data['FEC_EVENT'].dt.month.hist()"
   ]
  },
  {
   "cell_type": "code",
   "execution_count": 19,
   "metadata": {},
   "outputs": [],
   "source": [
    "def add_schedule_weekday(data):\n",
    "    data['weekday'] = data['FEC_EVENT'].dt.weekday\n",
    "    data['hour'] = data['FEC_EVENT'].dt.hour\n",
    "    data['day'] = data['FEC_EVENT'].dt.day\n",
    "    data['schedule'] = data['hour'].apply(get_schedule)\n",
    "    data['tipo_dias'] = data['day'].apply(get_day_cut)\n",
    "    data['month'] = data['FEC_EVENT'].dt.month\n",
    "    data['trimestre'] = data['month'].apply(get_trimestre)\n",
    "\n",
    "    for col in ['hour', 'day', 'month']:\n",
    "        if col in data.columns:\n",
    "            del data[col]\n",
    "    \n",
    "    return data"
   ]
  },
  {
   "cell_type": "code",
   "execution_count": 20,
   "metadata": {},
   "outputs": [
    {
     "data": {
      "text/plain": [
       "Index(['FEC_EVENT', 'PAGE', 'CONTENT_CATEGORY', 'CONTENT_CATEGORY_TOP',\n",
       "       'CONTENT_CATEGORY_BOTTOM', 'SITE_ID', 'ON_SITE_SEARCH_TERM', 'USER_ID',\n",
       "       'weekday', 'schedule', 'tipo_dias', 'trimestre'],\n",
       "      dtype='object')"
      ]
     },
     "execution_count": 20,
     "metadata": {},
     "output_type": "execute_result"
    }
   ],
   "source": [
    "data = add_schedule_weekday(data)\n",
    "data.columns"
   ]
  },
  {
   "cell_type": "code",
   "execution_count": 21,
   "metadata": {},
   "outputs": [
    {
     "data": {
      "text/html": [
       "<div>\n",
       "<style scoped>\n",
       "    .dataframe tbody tr th:only-of-type {\n",
       "        vertical-align: middle;\n",
       "    }\n",
       "\n",
       "    .dataframe tbody tr th {\n",
       "        vertical-align: top;\n",
       "    }\n",
       "\n",
       "    .dataframe thead th {\n",
       "        text-align: right;\n",
       "    }\n",
       "</style>\n",
       "<table border=\"1\" class=\"dataframe\">\n",
       "  <thead>\n",
       "    <tr style=\"text-align: right;\">\n",
       "      <th></th>\n",
       "      <th>FEC_EVENT</th>\n",
       "      <th>PAGE</th>\n",
       "      <th>CONTENT_CATEGORY</th>\n",
       "      <th>CONTENT_CATEGORY_TOP</th>\n",
       "      <th>CONTENT_CATEGORY_BOTTOM</th>\n",
       "      <th>SITE_ID</th>\n",
       "      <th>ON_SITE_SEARCH_TERM</th>\n",
       "      <th>USER_ID</th>\n",
       "      <th>weekday</th>\n",
       "      <th>schedule</th>\n",
       "      <th>tipo_dias</th>\n",
       "      <th>trimestre</th>\n",
       "    </tr>\n",
       "  </thead>\n",
       "  <tbody>\n",
       "    <tr>\n",
       "      <th>3104096</th>\n",
       "      <td>2018-01-01 00:09:17</td>\n",
       "      <td>2</td>\n",
       "      <td>2</td>\n",
       "      <td>2</td>\n",
       "      <td>2</td>\n",
       "      <td>2</td>\n",
       "      <td>1</td>\n",
       "      <td>7237</td>\n",
       "      <td>0</td>\n",
       "      <td>madrugada</td>\n",
       "      <td>inicio_mes</td>\n",
       "      <td>1</td>\n",
       "    </tr>\n",
       "    <tr>\n",
       "      <th>2084473</th>\n",
       "      <td>2018-01-01 00:14:17</td>\n",
       "      <td>2</td>\n",
       "      <td>2</td>\n",
       "      <td>2</td>\n",
       "      <td>2</td>\n",
       "      <td>2</td>\n",
       "      <td>1</td>\n",
       "      <td>4913</td>\n",
       "      <td>0</td>\n",
       "      <td>madrugada</td>\n",
       "      <td>inicio_mes</td>\n",
       "      <td>1</td>\n",
       "    </tr>\n",
       "    <tr>\n",
       "      <th>2084474</th>\n",
       "      <td>2018-01-01 00:14:18</td>\n",
       "      <td>2</td>\n",
       "      <td>2</td>\n",
       "      <td>2</td>\n",
       "      <td>2</td>\n",
       "      <td>2</td>\n",
       "      <td>1</td>\n",
       "      <td>4913</td>\n",
       "      <td>0</td>\n",
       "      <td>madrugada</td>\n",
       "      <td>inicio_mes</td>\n",
       "      <td>1</td>\n",
       "    </tr>\n",
       "    <tr>\n",
       "      <th>2084475</th>\n",
       "      <td>2018-01-01 00:14:26</td>\n",
       "      <td>3</td>\n",
       "      <td>2</td>\n",
       "      <td>2</td>\n",
       "      <td>2</td>\n",
       "      <td>3</td>\n",
       "      <td>1</td>\n",
       "      <td>4913</td>\n",
       "      <td>0</td>\n",
       "      <td>madrugada</td>\n",
       "      <td>inicio_mes</td>\n",
       "      <td>1</td>\n",
       "    </tr>\n",
       "    <tr>\n",
       "      <th>2084476</th>\n",
       "      <td>2018-01-01 00:14:32</td>\n",
       "      <td>20</td>\n",
       "      <td>2</td>\n",
       "      <td>2</td>\n",
       "      <td>2</td>\n",
       "      <td>3</td>\n",
       "      <td>1</td>\n",
       "      <td>4913</td>\n",
       "      <td>0</td>\n",
       "      <td>madrugada</td>\n",
       "      <td>inicio_mes</td>\n",
       "      <td>1</td>\n",
       "    </tr>\n",
       "  </tbody>\n",
       "</table>\n",
       "</div>"
      ],
      "text/plain": [
       "                  FEC_EVENT PAGE CONTENT_CATEGORY CONTENT_CATEGORY_TOP  \\\n",
       "3104096 2018-01-01 00:09:17    2                2                    2   \n",
       "2084473 2018-01-01 00:14:17    2                2                    2   \n",
       "2084474 2018-01-01 00:14:18    2                2                    2   \n",
       "2084475 2018-01-01 00:14:26    3                2                    2   \n",
       "2084476 2018-01-01 00:14:32   20                2                    2   \n",
       "\n",
       "        CONTENT_CATEGORY_BOTTOM SITE_ID ON_SITE_SEARCH_TERM USER_ID  weekday  \\\n",
       "3104096                       2       2                   1    7237        0   \n",
       "2084473                       2       2                   1    4913        0   \n",
       "2084474                       2       2                   1    4913        0   \n",
       "2084475                       2       3                   1    4913        0   \n",
       "2084476                       2       3                   1    4913        0   \n",
       "\n",
       "          schedule   tipo_dias  trimestre  \n",
       "3104096  madrugada  inicio_mes          1  \n",
       "2084473  madrugada  inicio_mes          1  \n",
       "2084474  madrugada  inicio_mes          1  \n",
       "2084475  madrugada  inicio_mes          1  \n",
       "2084476  madrugada  inicio_mes          1  "
      ]
     },
     "execution_count": 21,
     "metadata": {},
     "output_type": "execute_result"
    }
   ],
   "source": [
    "data = data.sort_values(by=['FEC_EVENT'], ascending=True)\n",
    "data.head()"
   ]
  },
  {
   "cell_type": "code",
   "execution_count": 22,
   "metadata": {},
   "outputs": [
    {
     "data": {
      "text/html": [
       "<div>\n",
       "<style scoped>\n",
       "    .dataframe tbody tr th:only-of-type {\n",
       "        vertical-align: middle;\n",
       "    }\n",
       "\n",
       "    .dataframe tbody tr th {\n",
       "        vertical-align: top;\n",
       "    }\n",
       "\n",
       "    .dataframe thead th {\n",
       "        text-align: right;\n",
       "    }\n",
       "</style>\n",
       "<table border=\"1\" class=\"dataframe\">\n",
       "  <thead>\n",
       "    <tr style=\"text-align: right;\">\n",
       "      <th></th>\n",
       "      <th>FEC_EVENT</th>\n",
       "      <th>PAGE</th>\n",
       "      <th>CONTENT_CATEGORY</th>\n",
       "      <th>CONTENT_CATEGORY_TOP</th>\n",
       "      <th>CONTENT_CATEGORY_BOTTOM</th>\n",
       "      <th>SITE_ID</th>\n",
       "      <th>ON_SITE_SEARCH_TERM</th>\n",
       "      <th>USER_ID</th>\n",
       "      <th>weekday</th>\n",
       "      <th>schedule</th>\n",
       "      <th>tipo_dias</th>\n",
       "      <th>trimestre</th>\n",
       "    </tr>\n",
       "  </thead>\n",
       "  <tbody>\n",
       "    <tr>\n",
       "      <th>12925825</th>\n",
       "      <td>2018-12-31 23:58:55</td>\n",
       "      <td>39</td>\n",
       "      <td>2</td>\n",
       "      <td>2</td>\n",
       "      <td>2</td>\n",
       "      <td>3</td>\n",
       "      <td>1</td>\n",
       "      <td>6721</td>\n",
       "      <td>0</td>\n",
       "      <td>luego_del_trabajo</td>\n",
       "      <td>18_24</td>\n",
       "      <td>4</td>\n",
       "    </tr>\n",
       "    <tr>\n",
       "      <th>13616247</th>\n",
       "      <td>2018-12-31 23:59:35</td>\n",
       "      <td>2</td>\n",
       "      <td>2</td>\n",
       "      <td>2</td>\n",
       "      <td>2</td>\n",
       "      <td>2</td>\n",
       "      <td>1</td>\n",
       "      <td>8452</td>\n",
       "      <td>0</td>\n",
       "      <td>luego_del_trabajo</td>\n",
       "      <td>18_24</td>\n",
       "      <td>4</td>\n",
       "    </tr>\n",
       "    <tr>\n",
       "      <th>13616248</th>\n",
       "      <td>2018-12-31 23:59:40</td>\n",
       "      <td>3</td>\n",
       "      <td>2</td>\n",
       "      <td>2</td>\n",
       "      <td>2</td>\n",
       "      <td>3</td>\n",
       "      <td>1</td>\n",
       "      <td>8452</td>\n",
       "      <td>0</td>\n",
       "      <td>luego_del_trabajo</td>\n",
       "      <td>18_24</td>\n",
       "      <td>4</td>\n",
       "    </tr>\n",
       "    <tr>\n",
       "      <th>13616249</th>\n",
       "      <td>2018-12-31 23:59:50</td>\n",
       "      <td>69</td>\n",
       "      <td>2</td>\n",
       "      <td>2</td>\n",
       "      <td>2</td>\n",
       "      <td>3</td>\n",
       "      <td>1</td>\n",
       "      <td>8452</td>\n",
       "      <td>0</td>\n",
       "      <td>luego_del_trabajo</td>\n",
       "      <td>18_24</td>\n",
       "      <td>4</td>\n",
       "    </tr>\n",
       "    <tr>\n",
       "      <th>13616250</th>\n",
       "      <td>2018-12-31 23:59:59</td>\n",
       "      <td>141</td>\n",
       "      <td>2</td>\n",
       "      <td>2</td>\n",
       "      <td>2</td>\n",
       "      <td>3</td>\n",
       "      <td>1</td>\n",
       "      <td>8452</td>\n",
       "      <td>0</td>\n",
       "      <td>luego_del_trabajo</td>\n",
       "      <td>18_24</td>\n",
       "      <td>4</td>\n",
       "    </tr>\n",
       "  </tbody>\n",
       "</table>\n",
       "</div>"
      ],
      "text/plain": [
       "                   FEC_EVENT PAGE CONTENT_CATEGORY CONTENT_CATEGORY_TOP  \\\n",
       "12925825 2018-12-31 23:58:55   39                2                    2   \n",
       "13616247 2018-12-31 23:59:35    2                2                    2   \n",
       "13616248 2018-12-31 23:59:40    3                2                    2   \n",
       "13616249 2018-12-31 23:59:50   69                2                    2   \n",
       "13616250 2018-12-31 23:59:59  141                2                    2   \n",
       "\n",
       "         CONTENT_CATEGORY_BOTTOM SITE_ID ON_SITE_SEARCH_TERM USER_ID  weekday  \\\n",
       "12925825                       2       3                   1    6721        0   \n",
       "13616247                       2       2                   1    8452        0   \n",
       "13616248                       2       3                   1    8452        0   \n",
       "13616249                       2       3                   1    8452        0   \n",
       "13616250                       2       3                   1    8452        0   \n",
       "\n",
       "                   schedule tipo_dias  trimestre  \n",
       "12925825  luego_del_trabajo     18_24          4  \n",
       "13616247  luego_del_trabajo     18_24          4  \n",
       "13616248  luego_del_trabajo     18_24          4  \n",
       "13616249  luego_del_trabajo     18_24          4  \n",
       "13616250  luego_del_trabajo     18_24          4  "
      ]
     },
     "execution_count": 22,
     "metadata": {},
     "output_type": "execute_result"
    }
   ],
   "source": [
    "data.tail()"
   ]
  },
  {
   "cell_type": "code",
   "execution_count": 23,
   "metadata": {},
   "outputs": [
    {
     "data": {
      "text/plain": [
       "FEC_EVENT                  datetime64[ns]\n",
       "PAGE                               object\n",
       "CONTENT_CATEGORY                   object\n",
       "CONTENT_CATEGORY_TOP               object\n",
       "CONTENT_CATEGORY_BOTTOM            object\n",
       "SITE_ID                            object\n",
       "ON_SITE_SEARCH_TERM                object\n",
       "USER_ID                            object\n",
       "weekday                             int64\n",
       "schedule                           object\n",
       "tipo_dias                          object\n",
       "trimestre                           int64\n",
       "dtype: object"
      ]
     },
     "execution_count": 23,
     "metadata": {},
     "output_type": "execute_result"
    }
   ],
   "source": [
    "data.dtypes"
   ]
  },
  {
   "cell_type": "code",
   "execution_count": 24,
   "metadata": {},
   "outputs": [],
   "source": [
    "def add_previous(userx):\n",
    "    historia = 2\n",
    "    \n",
    "    data_userx = data[data[col_user] == userx].reset_index(drop=True)\n",
    "    shape_data = data_userx.shape[0]\n",
    "    \n",
    "    data_userx['PAGE_PREVIOUS'] = data_userx['PAGE'].shift(1).fillna('none')\n",
    "    #data_userx['PAGE_PRE_PREVIOUS'] = data_userx['PAGE'].shift(2).fillna('none')\n",
    "    \n",
    "    #data_userx = data_userx.drop([0, 1],axis=0)\n",
    "    #data_userx['PAGE'] =  data_userx['PAGE_PRE_PREVIOUS'].astype(str) + '_' + data_userx['PAGE_PREVIOUS'].astype(str) + '_' + data_userx['PAGE'].astype(str)\n",
    "    data_userx['PAGE'] =  data_userx['PAGE_PREVIOUS'].astype(str) + '_' + data_userx['PAGE'].astype(str)\n",
    "    del data_userx['PAGE_PREVIOUS']\n",
    "    #del data_userx['PAGE_PRE_PREVIOUS']\n",
    "    \n",
    "    print(userx, end=' ')     \n",
    "    return data_userx"
   ]
  },
  {
   "cell_type": "code",
   "execution_count": 25,
   "metadata": {},
   "outputs": [
    {
     "name": "stdout",
     "output_type": "stream",
     "text": [
      "11676\n"
     ]
    }
   ],
   "source": [
    "usuarios = list(data[col_user].unique())\n",
    "print(len(usuarios))"
   ]
  },
  {
   "cell_type": "code",
   "execution_count": 26,
   "metadata": {},
   "outputs": [],
   "source": [
    "#ventana = 100\n",
    "\n",
    "#for posicion in range(ventana, len(usuarios) + ventana, ventana):\n",
    "#    print(posicion-ventana, posicion)   "
   ]
  },
  {
   "cell_type": "code",
   "execution_count": 27,
   "metadata": {},
   "outputs": [
    {
     "name": "stdout",
     "output_type": "stream",
     "text": [
      "7237 10901 8939 65718836  5269 7771 19559975 4913  10164 10302 10471 8799 4269 9796 6632 801 7160 8953 7414444  7539 492 2268 6335 7615 9428 2587 362 354 717 4081 4682 3720 2677 136847198526 5046   5648 3361 2604 221 3566 67 2410927 9686 10652 2771  7036 5170 2067403  113 216 8514 5006 8730 553 7387 3261 2033 7591 9468 7195 27063053 9344  3081 6061 9523 106119293  32747988 7584  6192 9935915 2644  8701 9276 3256258  7119 2945 8178 7700 4970151110029  98441247  2786  2178 10666 92574018  10502 8082 9169 3015 3038 956 88875695  5165 6150 2433 67711975  8288 2351 6056 9092 10855 4191 3424 76265751 6347 6120  80694654 8612  1108 3044 60986774  84326193 3888  6251 4275 6511 3886 2107 7325 10314 6199 7956 10008 4165 7873 6477 1264 8682 3699 3087 5853 2840 20932826 2360 6722  7139 3165 6893 10732 3098 5247 103922497  9972 6956 6614 87126703  3 5878 141 4241 10790 1936 9284389 10281 10712 3514  10364 0 68616394 16611709   6990 6086 9543 24176702  796 7383 99410472  4348 3293 8961 145 10607 9243 9634 10258 7197 238 69252591  8515 10413 5482 72008202 1977  1483 8576411  6278 6874 86475356 9028  9164 10486 9065 4800 26947310 8500  6787 8810 1319 1260 10329 10464 77449490 3636 1329 1549  10223 101522332  6762 7169 1525 3388 98021649 1701  2428 249 4568 6767 9314 48118729 7829  5192 7640 8811 66793482262 5535  529  3905 1055889188534  1240 10217  8316 2378 99457870 7977  10325 10151 3095 449 2839 8310 7288 9134 7380 6940 4877 10887 101 64649661  108198689714 54  8165 10154 6309 3006  103452669 7423  3613 7179 6050 8841 103 6815 28978040  155 10870 4520 5692 6682 7062 6733 2312 133 6084 4722 3683 3353 21631421 9971 5679  35 9144 1007 4997 10057 10664 44649179 479  571 7890 651438838031   49165220 286 1004  3846 1828 8463 1270 2784 70376844  8404 7460 8754 72865506  1160 4411 71346857  8271 67728055  1001 16118227 2739 1464  9045 6121 8158 303301  2276 4073 7356 7857 5604 7621 81996041  3863 7165 8097 500 43052981 5673 1304 8963 5275  9090 7793 3344 9201 3601 1360 8185 3119 1806 10635 107113752  4342 6556 2287 88728757 2470 5841 216610369 365 67931356   3837  6115 8442 3253 10850 4312 7579 5507 8451 279790864062  7048  2960 3853 7007 6611 61 10360 36127302 19848566   8589 9417629  2570 38574750  76965964  16554006 4060 357  55936984135  10077  1503 22998932  15064621 2710  6132 10240 3878 77464617  8958 4157 1941 848 3364 40962237 2072 1861 9306 3724  1237225  1844 9349 3106 1200 8294 4715 9877 103396456 2970  3650 1164 1285 3916 1659 9124 2476 8923 2610 2665 recolector:  500\n",
      "104482062  10371 2090457945  73624806 460  10279  10292 59341866 2802  50819287 63052891   595 1597766  2146 10462 7008 9747 64828677 1967  4417 95271005 6770  7950 3743 3848 5484576  91275769  641 6527 290 9980 5770 7618 8718 3324 52915099  10925 10735 58385301 4809 1429  7136 4726 88483741 3777  2395 2783 8822 8384728  87581020 9225 79436841 7958   6755 63659410 3926 8382  8557 3987 9669 96473271 4148  95366867 8792  62577547 2323  8147 6052 3825 7178 5497 335 10566 4090 50784753  8996 27025932 10622  3901 2313 98143977  4028 5071 6587 3607 5668 8074 3494 12317153 10775 7716  5048 4737 6470 6497 879 9958243 9003  50 753 1369 3959 6126 7987 5837 2294 6895 5045 1380 9382 9153 6454 10573 6046 8767 4489 735 5876423  7252 76 2521 6906 4123 4842 10754 10165 2449 924 1757 20386392 504  2133 7297 6879 10291 3678 9155 6712 2537 9465 4070 9331 45047273 52437861   539 675 10425 6058 42747296 9089 8306 10116 3220731 10215  2788  9166 2215 8585 10590 4020 4566 2480 2383 63583309 10359 58187642  6139  10794 77276371  7268 8865 4088 10764 5473 1422 6533 4125 3011 5776 80904804  1777 764910746  57941822  6923 26509941 106007084  2548888   462 1045 8244 220 10888 9848 3153 2402 5478 8406 1440 4472 9517 3887 3059 3937 9014 8798 8342 89 6594 3707 7826 7831 34238305 3263  96297606 1961 9375  9624 29645869  10445 75432177  84074080  10195 3225 8876 7824 4956 3722 4542 80194507  551882458685 8698   1418 10204 1523 7338 4109 3833726715  5737  2617 2309 7459 7578 74205781  7541 1159631 4856  5989 21581878  8155 524 5988 7607 6127 100439868 10225 749029591944837  4442    3643 8250 7091 9354 10545 207 1624 1203 2136 4201 5636 9374315  6609 4232 3093 9370 10613 6981 386 7796 10917 78686616 1072 8689 13301071  10650  5476 7530 4655 59389023  4977 2099617  5809 9515 10771 9668 85389032  78049919 2580 5894 85847900   1402 7289776 8973  4735 1920 107408709  84 1589 8601 8137 1277 88334414  2539 2241 3368 7655 6747 3815 10686 78648572  7166 3226 2950 6320 8668 4007 2009 8449 7752 6761 8856 1888 24510090  64038541 6935  337 3496 3600 9302 53475291283 5864   1064710023 4107  44369564  7060 3135 9204 69825834  5 416610719  24212958  8788 91605394 2430 8418  8469 10910 2845 1102 59496939  86878624  28838114 10914 1119 10868  225378998376  5241 4783 1897 7596  8710169  7524 504477181744   535 2567 9009 453907  7318 1622 4533 9399 10036 6224 3788 5882 9202961  308 3854 60541178  3760 7676 9255 7390 7396 7822 7413 6720 84914231  61113733 10033  5624 449610548  4324 3804 783 10690 4499 recolector:  1000\n",
      "5412 10776 1324 9826 82553411  57237425  3218 7482 6627 9962 4045177 8475  1062 6873 2718 7306 1718 1219 10069 2240 4285 3994 4647 3169 10351 108205981  1565 2808 3278 2273 144899439056  2953  241 1645 5109 10812 7456 6971 625355193405   723 145940043315   735310575 2067 9670  1591 186 3955 1500 7909 3404 1964 4286102  5290 148910671  39111087325964258 6729  9473   33746198 8630  4014 5149 4108 9677 7216 8151 8180 39531738  18336242  3652 3094 10306 68138181  5106 3820 2418 234 9215 8813 9726 1850 471314962290   7682 4899 7013 6440 1530 9658 10007 2626 392 8513 10619 3847 10385 1830 6577 10567773 9218 2111  9735 9909946  4483 10768 3511 6957 98163246 4510  4667 9927 9481 105577905 3631 7527 4153 9574  1577 7190 3919 6853 256 10555118  47305936  292 10546 7181 5532 10620 4513 10212148198919   5123  7533 448510244  7518 96871900  5286 6400 96268361 7123  9537 10738 10528 7464 1430 7129 29521540 2720  4254 6211 97561179  7675 10884 6405 4054 140 1054 4161 7713 6568 4714 38671374  2894 8769 7326 2249 3322 4292 9958 75768144 9247 10065  1007984772780  73401125   4288 5911 5304 8127 3079 5860 601 5760 3709 10674 7646 583 8454 14963013331 6569  2609  9049 7742 2584 3312 931150289272   978 4888 101171485  2765 8738 4851 6495 6836 9822 8159 5194 9529 4747 3823 103006871 10749 9846  45442926  7140 3067 8061 1085 10466 21416212046  3199  10041 1791 9235 6839 10163 1898 905409567941333  300  7734  36 107514636 546062583371  6435  3780  7866 2875 992914089575   5297 7192 7914 95335738  7367 54942145813 563 2642 2680  10209 1616  2030 3579 8450 4754 3485 65596272 6373 4311 637  10763 665 2364 9357 9103 1081 6092 643 762550989358   8096 1070 296520211832   3058 10121 67928894  7432 6737 5313 10073 6481173010928   1382 99561514  2171 85398818 107606589  7345  80309168 3454 26666055  3737 977 273  1080 573 9695 5954 6869 36636827  9386 4922 1241 4940 2904 5017 9925 1427 302245341248   8375 10265 3936 1699 5807 108298864775 4672   545 602 5405 7068 8291 2359 104449627  4174 590 1217 4134 2305 5439 68 2401188  35491396 14192392  1505  7790 25761036  8951 650620  1509 61678563  7002 4024 2187137 4509  1347 9532476 4531  2827 7351 7633 96144991  91879812 425710724   1583 533 7595 9332 5161 618 4187 928530144030 935   104951680  65581  32075021  9219 6283 9902 4328 10859 3056 8173 79252911  10379 9588 1683 745310572 2221966   3935 5245 9373 3359 421 9851 130 38779107877   1708 8991 102162611 10047  7320 5896 54984724 9845  1493 4041 2183 4046 1799 2050 213 7760 10514 3395 recolector:  1500\n",
      "10016 10778 3794 1176 1395 1607 7033 66059117  3801840 6968 7474  408 1365 2699 131 10761 1663759494   3628 7342 3734 10714 140526055950 10651 1018  5966  6200 1139 64187843  2407 3793 6494 7440 10757 2167 20196206  25410025 2649  4696 8436 8126 97114332  284610201  10869 1122 10051 3622 3873 731610213 9404  10188 9855 10205 30179230  4178 1273 6042 7339 3379 2083 514 6631 3192 93301034083416877   6824  3632 2582 3506389  170689160271727 4451    714 5982 10912 7401 5731 7030 3272 316306  1126 65743960  8574 47456817  51489841 2165 24418596451   10250  468 633581410242   8854 4874622 104988089   90546114 9171 77035293  2106 10063  9632 79807554  4361 6831 51739799 6898  2400 803 8990 1871 8546 6749 9788 8358 77694625 1316  9592 6263 6421 6270 85598462 7267 8938 9452  8860 10411 45455899  10179 198010863  82008600 85568726   8044 87858229 8984  608710037 5300 8606 6006  7135 3129 1720 4283 10287 4341 2913 402 2382 4035 18073335  6731 2457 73296742  6506 859210845 8658 10756 672 10277  2394 9544 10488 6218 409153933172   6194223  6376 3144 7348 10317 7907904726624881 9865 244   3467  765710319  7957 7375 10441 79085795  478079486607   8671 10578 38391031 24604309   2711 7786 6128 359 2257 13488416 4980  4212 9338 4401 301 3009 101369341 35019328   501 6570 119 377 4273 713810183  3996 34016899 2475  1626 5836 7259 406 8610 4987 75851640  6681 6510791613416890   5724 9030  28421625  26732949  18695960  304 174 179 3445 6680 4005 2753 1413 6219 83692844 8256  7889 2232 9776 10434 3693 2575 6157 8540 928110513 1116  3723 7558 7143 2026 784210308 400 31687878   7248 90211761  6590 75462027  8282 1099 5944 7910 2199 765 6496 80917645  1892 5122 1129 1393 7067 8112 8160 9463 937110173  7095 2838 69886420 1935 9878 4981  3710 595994581702  2168  17196959  187 10074 2191 9721 2493 403918022265  7613 3865 6201  5189 106 261 613 9772 33807604  10454 2810 6117 9384 10443 3333 3051 8571 8681 1516414  948 895460  3617 6606 6043 268149 5706  5246 120770775670  8146  7963 2940 9930 229 5998 97571424  1994 1463 41907979774180685996     6235 94073621  2916 9131 65801667  2643 7830 100065790  1482 8036 757189  2708 6297 79907616 10309  9113 3455 499410656 2424 41295363   598 4814 6748 2621 6635 6018 88494595 5669  10421 9601 9701 358 4875 64639157  867 10603 8399 9262 10130 2764 102186534 5380  6012 98969553  7145 10566634  2651 513 9310 7073 10745 10717 1674 7141 10103 10810 7880 9986 125 8521 8080 9818 3041 835 6963 7485 2376 7098 65012743  544 8048 10500 5501 2757 10543 2855 recolector:  2000\n",
      "26364865 381  2282 1789 806 103808720 61688198 9608  9511  441 9541 2919 2096 9145 1025658477015  5232  937 4767 65266499  7352 96 4551 6367 7984 7848 841 4247 3845 53981420 4944 6284  6870 9317854  3946 8785654  10086 86666564133 61236573 3117    6493 6622246391052912  1678   3180 8386 7688 4966 98 36196536 6932 2413  82066452  69956351 9391  230 9549 1567 7738448748 2860 2015   920 40669353  4431 2194 4224 1131 4843 7447 4259 6922 3686 9641 3432 10809 1721 1063 6342 578 9106 3812 6067 1987 8885 6475 4321 2996 4282 5219 4917 10192 2020 4847 15626268  4288642  51 1345 2216 1751 6966 29907663 1302 6809  6629 9220 9892 2051 8397 9906 4252 62206688 4939  10087 134 10483 10747 53468465 10140  3065 7536 6986 7309 4791 10075 10828 10808 5590 44699020  582 7184 6424 10563 8384 1194 67063829  8481 382 1612 4383 5127 6776 1614 9694 71037641  3521 10485 10592 1771 8123 2601 106821692 8235 6843  6311 10241 955 9398 4740 8354 2869 88143552 217 5792  3303 23858259  756110918  6613 6404 9413 56276443 4034 8520 6068  10811 2212 60759571 1903  148 8651 4802 9480 862 833610 6984 4846 3497 6169 6153  7946 8867 57085191 6786 4253 42931165   4094 1585 8801 73553898122   107879794  65288301 10323 8302  7784 9102 8878 38 981910208  1053627609133   1400 68583282  6483 4059 4162 2054 2658 9709 2957 2620 6692 7069 768 105 68658326  9165 3582 47295892 2483  5550 1235 1017 7105 2447 871 7736 8095 7205 10324 1949 4398 10315 3784 3696 10752 4336 390 2101 1976 3216 6914 8335 682 9355 10659 37597567  63 8125 53122984  5979 7203 1025517473875   1670 9119 3283 4517 2334 8238 6222 8568 8352 8980 4409 8273 2344 2409 70927218 7712  49366695  10108 69759343  1230 1553 4104 1320 85548107 1958 3123  10762 4099173  1113 9439 2729 4718 9516 10150 2438 8234 8394 60296566  5075 3300 27519790  8032 6625 96665517 29862566   1942 8700 51011275 6113 3638  340 106159882  10478 4121 8410 9110 5252 652 91939126 6938  8530 1090 8231 12194744833 991  4708 3574 6912  302 4871 88 80776562  8377 6129 7806 10691 20085948 6212  1224 1763479 50255762   5414 10299 1731782010391  7755  5870 6337 10779 2728 10027 4971 7509 6741 6752 1259 8870 7070 9793 8365 9948 444 9479 7308 5174 4281 10692 3018 632185995197   3756 1307 7704 6380 7223 103558892 10517  2089 3255 3767 852217362896   7612 7600 7226 4837 6705 1315 654310841  8390 91617622 3385  3418644  3893 5317 60992011  1978 4616 8087 9237 6546 8194 41021959  8223 946177883824   7959 9195 5339 100093422 1644  8995 928 972 10759 96187725  90386967  1077 676 recolector:  2500\n",
      "8790 8038 5333 45058994  7117 42057693105045449    10559 7031 6636 10032 9395 39304032 2646  6415 398916089831  1748  906801 10646 6286  3060 3077 667010263  2261 425 737810723 9318  7969 795479996022  5514 81932977   98934717  750721563313  34183115 4432   6552 2451 4766 93407580  8387 1921 3390 1079538 8362 5806  475 3391 379 1361 2363 75732920  4488 4327 9087 1780 2725 1846 5334 10404 889899043350   9526 8863 2800 750683046147  3648  40 96637038  2396 6619 2866 3872 5564 2546819  9430 9267 9015 10056 3000 4925 37 68023719 1834  6711 21736462 882510237   5525 9890 7838951810429  1772 5680 657  8313 2615 3860 9730 399510232 10229 8321  9764 3206 61762801 8494 6458  8131 793 4068 10156 7701 9387 1439 63458064  8697 1754 8639 6343 2785 2691 2484 4606 5388 7430 4725 610410111  79781560 100  3273 3692 7066 2306 1573 9189 2094 346 8969 1288 7815 21821084 4822  89472590 3921 9872 6738 1572  2504 4346 95994466  14804016  3515 2870 4943 6188 5689 1221 7874 796280656108  3392  75895076  1318 7597 2714 114971424307  5639 10099  2908 6277 10505 3580 4046118 3757 5208 9785 6254  5664 8640 1762 4491 89147859 5980  8113 1962 5931 251 2272 7061053 1363 3175  786 1024 7304 851 1513 7780 6432 5951 5049 87557276  5577 94478655  9301 70346409 2791 4798 8503  8703 144 9887 692 35089589 2931 600  21242884  2367 6355 10442 10390 6322355  3147 6900 2308 9350628  8890 6231 1883 7903 3546 6431 4338 863 5820 7492 9961 7975 5997 6313 33403178  1599 4538 7800 8832 6485 5702 2028 63401957 13594057 7498   9850 7209 5746 42 20522452 8059 592  8027 2349 7104 9637 77292455 9029  6718 5038 8562 5671 3872324374   68309399388 6395 8768  10133  8528 10831 10882167168552064  1251  9416 6434 589 3576  6672 469 608 9396 2415 3811 915210658  8847 8547 9863 4631808 4238  1087610381  8628 2207 5429 8286 5763 1222 8699 5451 4844 2227 1434 6384 334 6001 10823 670 464 39231032851753232    8426 1266 2242 5420 85027720 8904  739 7475 106969898 82 105519817 7328  6539 10564  8480 10220 2014 7149 3400 870223656190  9128 8413 2329 3629 756 1685  8124 351 102062350  74116447107 9213 1654 7562  2303  5861 6213 9664 8545 3635 2664 2818598 9431  10038 25331391  5056 1795 2722 2059 10190450 3633  2717 1415 9806 6255 10560 1034 9055 4359 6325 79706066 5376 3717  5029 1874 2084274887   8487 3530 5714 6545 8344 9734 947 9380 10053 9309 7565 7997 648 6390 4137 2055112710667 9795   85917535  8824 10157 3352 7052 649 9823 4838 6133 2890 7697 8789 108212967  219 2149 422 516 10595 885 3891 7079 5270 recolector:  3000\n",
      "101484578  5812 6091 8429 10105 8276 6962 2211 6847 10539 8950416 19301823  1739  1557 7721 4886 128 4130 7715 6860 1620 600910326 3951 1814  1991 32019725 8140 9963 2403  403 10035 3920 72923290  10055 9690 7491 9839 3481 5873 9147 5830973 7058  106751087410196   384722  7502 5314 1678164  2829647  6790519 10034  371 59256745  3978 1001010461  4376 19606704 4536  7667 5659 10817 8943 5646 2692 8073 952 9085934 1462  6572 4251 4996 7685 9487 320 9289 745582091243 1646 658282983601524      7684 10175 264 8254 9176 11637603 7100 8455  3843 5088782 895  8128 7665 5493 48262481 63306003  123  4340527 8884  9100 9633 2607 4983 77955090 1189 54953897   2154 2752841 9104  6601 9830 10599 6665 26849928  3121 465255376179  4353  72872833  9387454  43856455645 16726727  3183  4184  9766 10898 2120 1312 1633 6303 2748 3446 82894404 9199  5084 10333 5821 2006 5888 6997 7163 6060 4948 2544 10637 36822223  1467 22747728 1443  10424 5826 1804 8680 89158578  1561 3500156 10367 9578  6964 771804  3764 65818830 2553  9424 6144 2876 9660 8795 5733 2862 893 4493 11583209  473 9959 1245 77 8357 7133 70148862  5771 72331713 9787 9974  4240 1234 4964 659304010846 7998  3414  6336 8842 1632 5928 4829 65178804  2818 296 1279 2777 5489 1600 2037 101584546  52887051  9561 92652794  8076 8917 9099 69 324277723669   2103 70939493566 9715  709  10509 6323 8161 35777660 10430 9630 9337 699  3529 1574 6726 93839748 10899 63178504 9835 5720  2375 663  7214 9821 6267 6604 3540 9818293  8629 27964019283   6492 2190 4749 4663 10550 7497 667 69289880  7039 80 560710159 73010162   1141 5633 3465 8650 9994 2016 9944 5210 3055 4075 10020 1950 9456 8807 5083 7559 104 70537088 4294 4660 836 10070  810 9891 90817808  781 5213 10849 108423034  79211048  9508 7479 9684 1026294 5900  3161 2386 8062 329610799  107507489  9291269183   5961 4358 958 6797 522 8122 1050 4992 9710 7608 9454 1810 2297 2634 102851544  895910510  4366 5116 11923389  72586992 802210568  5884  84687264  1478 5935 1011 1350 10347 5987 809 6226 3789 6241 7393 73 7927 5536 8046 7764 1258 77541104  104805112  8981 38363088 2602 385  11062486  5623 2423 9426 5839 87222560 107373066   10542 2554 80839625  7 10172 10060 10593797255   3043 7253 6929 6894 13521988  8964 9253 6182957 6025  8705 9659 9997 8067 3318 2018 5903 9960 97812372  1857 2151 9931 8763 9628 10586 5526725 1566  8535 3217 9139 10784 1618 2416 9453 2593189 10913 4038  7814 5227 5796 5163 8482 4140 5385 2269 2039 7469 8866 1971 7155 6641 7465 9186 2113 recolector:  3500\n",
      "9699 8762 1776 996 46443250933   7457 1284 86537247  565 80471253  313 412 3931 1662 1044 1993 6789 6004 7732 570997438459 4973 10924   13117478 477 6806 7974  8385 725 1734 9319 6369 1030 215 521 4373 737 9141 645961222723  83179321  92793330639    69941603  20744851637 90672871  9750  2525  610565305634  3775 907884562330    868450078085  8840 9491 7705  103629590  10578353  5866 7445 56768615 5133 6332 5477 9607  6405897  2368 3998 10109 8467 2429 906958 1732 4765 9509  8374 10177 1118 1445 49692517 6948  9713 2238 1109722 8012  4669 89083819  1902 4382 5103 25349667  68887108 53953039  3956 6471  8666 104002043  10147 5712 3070 2458 10437 5130 78371212  8219 580 4402 15103294 7636  23568018  9022 6617727229244813    7148 439 2993 7082 7359 26763163  3665 4543 10479 59 6159 8066 3251 8072 10101 37451610 9673 30057552   8523 6324 1926 7041 4429 4426 6256 1014 8760 10576 4440 60134703 9236  3270 101719446 4265 33629175   73493892  9429 8136 10378 8955 7290 4428 4778 3787 852 1729 397910374  6909 6350 9455 6181 90642125  7159 596 7128 6498 63483367 6491 734  5742 4880 8150 9123 11571877  5095 1890 14716658  2230 4605 203110458  10278 5117 7777 10549 9203 2631 4954 8907605 1875  1819 2776 738 53519027 9459 7972 3796  93233141  6191 652998041447 1399  6834 8920  59059425 348  8060 8638 7816 4512 1653 10807 5881 6338 9621 291790071035369616818    1326 10338  8708 5176 10015 4976 3929 4755 8464 16608355 4371 5952 2512 2425 1159 7354  24406716 607 3750  1512 111536499755   1322367  10767 4021 7363 9434 12066565  617730573556  7680  9268 2362 2081 4264 180 106657006 7911  6116 3744 9758 1280 43257120  21539603  2320 1245893  8731 10926 951 9499 9907 211 617 1677 8564 6294 66427173  2520 8320 561 361 10066 96469939 8182 6076 4063  95194658  3614 75516316 3063 10137 8537  1223 1049652944885   10398 4439 7408 5992 7386 6668 46715097  1029 7193 4598 2044 51545614 972710184 3114   10725 1086217371474  5755  4031 6825 525 7371 8218 52091191 4645  10561 8478 510 4555 6955 9682 9241 184 270 1760 9052 2482 13885094 9405  3803 9992 3248 9039 5373 10286 5062 8912 2705 4651 59901082  9304 375 10271 4999 4470 763 8802 23257239 247 2652  11734839  7172 6650 10146 8152 20958236  4112 9752 10470 14505619  1765 4932 54199376 6447  1518 92499775  4494373153   9767 9619 107153369  4077 922 14093838  3210 4329 349825 1576  3236 1666 3415 7581 3986 3381 3695 10312 96729077  210 84483190  4624 10511 194 872 49294170  4561 6265 5345 3264 5305 1635 9305 2545 9296 5319 777 recolector:  4000\n",
      "9212 185410059  5322 10708 15638327  353 8761 9111 4394 5206 2143089  10368 3984 6250 9530 2707 9522 10824 312 370 456210438483 8054   8008 5699 4819 5154955 39123973 10200   3630 7819 7865 95664484  10031 6795 12977059  89683458  1470 13341695157 5823   4335 986 10193885 8222 7926 8135 3746  3851 772 2347 7517 2628 1755 16886524 9300 1313  6417 3363 33578895  472 8190 10356 7508 893510813 3928  7635 5567373 9998 4387 6427  6165739 1813 1331  10617 5764 2185 5480 2656883710492   3325 6207 29348175  4405 4093 4216 4230 7473 2688 15423679  1690 7650 88454360  58877010 4089 9258  6290 1201 5630 1433 5843 2142 66187711 42995672 8781   7904 7225 4923 3813 5261 9593 59402489 6160 9708 45729231 4319   1909 29991177721   70 8308 711 9129 5181 5221 2414 7577 9729 8855 3774 5921 1199 9170 10318 6785 76784529 9905  654 3505 8444 12 7511 24324101  1912 9654 25155693  5251 7571 1800 6349 10676 919622  67464 7346 6791 704  1596 1276 5182 9443 9242 3152 9313 74495505 9279244   6659 97 3486 55301868  2474 50009838 5754 143  136 3443 5649 5521 1578 7009 5418 1268 20791477 7164  86549336  3653 9824 419 205 1372 1064 10139 3624 8493 2024 504236094751  6979 5701  52408086 2126  5711 8922 11204648 3542  9950 10601 105264577  440 97447619 1711  7514 8627 9036 1849 2246 858 1495 3523 4065 6366 6883 750467289325 10161  64  9707 5369 4302 8443 64579688 8617  79021475 925  541 7534 7940 1028 5828 5674 4632 16093705  102262099  7335 5780 7568 9415 5403 5344 1070510283  6474 280 7022 4876 4742 8277 5643 7550 7658 8285 27035666  764333  3595 8770 7032 1937 6819 8732 3412 7198 5496 10908 7563 2854 35172180 50419542  2522  7312 26635310 1697  49041117  4183 7265 9397 10515 5644 8903 5085 76688078  34310276  9918 3441 2856 1491 2310 6137 10134 9282 3349 5778 295 28674611 599 6469  8162 111 4271 10630 4979 16912420 6110  6295 480864  37828553 10160 10187 9639 1182  5684 59918957 9497  2774 10911 9616 2075 6312 905739762561 5335   10050 3786 809443178621 9088  10268 8871  4356 10440 8116 973210623 718  5665 8506 4235 2236608  10307 10199282  8340 10780 7564 7812 1664 5693296683   865751112861   5504 2893 8960 9005 8673 4911 3314 10262 1873 374 4541 8992284  7858 5557 914610657 6174 7556 2058158 5697 6083   10508 10294 2358677 3522 7096 727  8633 59295901  6149 1805 32 36707933 9552750 5675 29323473    50204015  10447 7336 8558 4482 3783 3943 30218525  4680 521614901639   5757 8446 3534 2660 6664 1227 6171 317 3233 100455100  9620235  9347 8445 3208 1093 1880 8257 3785 recolector:  4500\n",
      "10612 5520 4782 2179 27674450  10104 9557 28910068 6378 445  103344463  8433 1303 767 66113815846 10788 6289   8573 10071 3472 10772 7299 10465 8283 5015 7324 3110 2923 2930 4370 1066166 9222  6461 8023 6937 68899546 2734  1979 4197 89779820 4908 10755 9342  675358229178 4686   108522068 8900  7856 9988 443 5833 624 9197 2204 7841 8597 1538 3554 10468 9182 900 2640 9209 23409702  3772 5272 5868 8925 276 12506433 955172018261   2387  9148 7021 3453 4120 59076446 10227  3902 3202 7429 6354 100583307 3431  4852 6697 7294728  4890 271 3068 6547 2119 875310489  184710524 2283  6035 9717 2750 81293673 982  2336 7154 520 8858 3186 5361 9674795  41559031 2934554 10207  2781  5650 2346 4787 1379 6655 46577113  52252690  8882 7131 1487 2925 8665 10048 5613 102707949 3970  609 9878258  6229 9883 82149588411   10331 1895 250854338746 7391  4268 342 8806  1793 694937953215   5891 45307782  9365 9866 3286 10332689  8296 2217 1948 216173577757   770 6353 3573 1568 80456158 7094  2558 1176763  10727 1686 10224 7416 7028 1101 84529924  7207 318 6333 4912 9648 4670 29438851 701  10436 10384 2730 1855 539084351371   1055210290  102384594 3266  1552 5777 4568869  9502 7501 43807931 8561  10519 8893 7283 3072 3572 104910891 7883  3654 6262 305761 2468 4537 10141  10538 4117 1973 78921575 2176 4906 87917653   827 62 59725422  2143 4330 74188815  7519 7928870  9024 7745 8224 10301 9678 7072 5832 1886 5073 10660 6138 3753 76834887  919 64109528 6319  10245 9728 52395348  4002 9881 332910001  9894 658 24927775  2471 8169 332 8714850 7976 49418569  7410  7361 7872 1401 7991 6034 43672657  3204 5231 6911 8266 9901146 3035 2135  345910795  537 1394 3852 4721 8414 1532 60486751 5682 7740  7382 6519 86201103  1476 9406 4898 5185 6296 9569 5292 7480 5546 7602 8686 4959 2619 2411 424 5495370 9610 7695  6430 8252 10619696  1417 9797 8428 3700 56841819264 6532  7855 10934  8212 1002 2381 3304 4058 6757 6172 8529 664 755 9568 8706 9046 18871721110  889 10826  4424 92268796 51245628  4995  41181089  3941 48795789 2624 7520  3821 860 9885 8319 10297 6713 12729294  4554909 1423 7651  3589 60471015 964  39725384743 9317   9360 22246264  9095 2572 8197 339 19666675  102936208  6551 7937 10602 7185 9886 9611 6926 8719190 615  44798997 5768 10100 1588  58153922  7228 628010003  78074868 10349 9297 9540  9471 6775 4050 3831 8184 760 2629 31888809 10405208   10222 28683658  4575 1550 9234 5450 2264 5918 23173903  68593156  10344265  5448 2234 559 8021 1 2837 9263 14544474  7266 2371 7431 recolector:  5000\n",
      "1537 10571 1502 43686913  3716 10816 8587132 8868  10825 5061 1123828 79646647   9352 4393 6917 6465 1792 6973 843 5093062  1663 48631465  8877 873610541  1473 4013 8496 6352 9327 975 10687 6161 7261 37478247  5353 4316 6249 2137 678815268672 9645   2391 8388 9094 8474 10143 1756 4126 9334 10028 1999 446 153 10909 6 4869 10897 1031047897365   330 3626543 10131  4308774 7947  3228861  34628479  437186 7157  2645 94031797  3311 4012 1712 1650 3558 106395113 10921  3738 10741 1463222  56375033  81 849 8740 35275279  436 10092 8828 5772 678 968 55879978 2968  2836108678179   8309 8634 6019 9449 9656 597 3355 4579 3880 338 5872 32802069 9720  4720 10176 3258 4736 263 8230 8649 23534586 5691 8942  60302852 7557  8204 95 2857 126 986265556306  212 9644  86 5382 502377233440   100391965  2972 6954 14977124  38089076  172070 2170 7366  387995963298   7523 5428 85811733 8378 4988 7183  7593 222238706623  4550  709910883  7483 4064 8420 10336 20668274  201210919  7968 5224 1531 6239 2236 2244 471 1390 1183 2951 2998 3876 9973 10866 65604501 10847 10397  9177 8156 67248431  5725 3990 4825 8196 6438 26010585  5683 9409 66878360  3110663 89411027   1323 8268 10782 44927412 8533  6072 696 906 4215 9274 46944138  1783 4823 274023  54792251564  10460  1111 989 6089 624894333728   50243993 75609250   4689 5741 1714 40782701  4473997  7313 7319 9742 5003 5409 8604 58981815  9335 1770 91914277 83251383  5765  3241 6478 2557 6915 2213 1551 6924 10097 9011 1554 8594 839 1449 3957 6101226 54419368   4017 3030477613539196  3964 3399  8829  101868011  833 3980 10710 6085 3915 70247235  3625 88271051 1188 10412  2978 1355 3182 7242 10067 6985 9158 5329 3083 3884 6119 10833 10929 5849 4889642 9985  6507 9805 8187 15 10365 7249 4812 8314 9192 1630 4263 1327 465934646686  7012  805081324553 7236 8580  4339 5284  2547 2613 7611 95837314 253434 7823 1548 4441   106935036 2434  6300 2132 1718834704294767284     3736 2205 65385186 9853  5749 2352 7624 23 7674 9070 5282 1638 960 23485501236  9759  108531170  776761469685 488   9445 9875 5238 1024987833416  5788 4613  9210 9051 2606 7893 7344 35102159 6505 4695  7150 1723 1479 6271 7047 10155 8518 3237 2792 3127 7132 8211 101324326 2895 3963 3541 151  715 5728 9137 66335890  7488 25288042  4576 9957 8713 14375325  5002 9889 66519731  2490 4103 60955647  2121 31321403 3219  2509 509110753  627 64223086807   6671 18211787 4457 10361  8393 4399 3373 6735 2326 7472 6612 560 6028 9982 10594 6760 62614465  8000 10202 4935 8233 recolector:  5500\n",
      "58584061  4664 6227 6399 26676079  36089412  4649 10625 4246 2731 3862 8174 252373843536 5610  890  3694570 5263  3645 4179 3408 20911426  9771 8691 69899280  22146535  7224970544788692    4614 10197 10837 10149 247736813664  5784  78285072  8149033  3457 1149936  3338746810081  9736 3954 6024  7146 4860 690 6663 3833 10923 104944716  5747 1494 591489052010  834  6036 4362 10636 4748 1190 25629050 1916  4926 7748 1087941522053 325  4092 9167  63838531  9777150  32674154943 8902   3193 2487 90919815  94888295  91310350 6377 7220  58193337 5916142  4145 8053  979 1055 227 9582 594 95201047336330236203    41  8570 5092 832 3560 105843268  3828 6314 8472 6941 1292 8350 7901822 6998  75 107301452  2679 1658 87477245 9136  7592726  6866980  8579 656 4171 42846016 7446 6273 683510632  4453  65088400  4773 8177 4633 3475 7623127 89868213  10052  9273 2279 8930 6872 59109437  5343 102955050 4596  4938 1074 2459 6479 10305 9580 46671613687 10907 9740   10803356 1090466433981    10581 6557 48327278  9500 8270 10527 8844 5915963  8088 9987 10030 3356 9836 512 517710920 6624271616652686     7086 8548 3185 747030081378 4539423  1041   3327548710734   2324 4083 5298 5779 10822 3166 733 6910 5425 9010 7090 968310670 10616  52264262 43976214 10313  4593 8079  34364739  7399 1442 396970357993  4211  59561252 8695 19865442   7537 4210 9981 6996 697 2906 8010 9942 9547 10288 10706 1404 79235242 8602  6070 7877 10892 242 13876960 4779  6065 9712 8831 1972 7885 3602804310120 399   6814 677943552291  8607 3711  7379 8717 2130 64902991  8460 1582 604 9211747 2036  65987789968  7372  7587 8484 1130 7532 2228 2370 5262 5999 7989 10902 3448 6215 7450 2994 1054010346  5939 5423 8470548  2379 8333 5160 3689 10836 8473 373528  5422289  6736 9483 992817 4042 3702 1932  67591529 6615 6344  2719 5483 83958663  481 7477 2737 5157 8611 934810518  2318 7256 5320 9807 10680 10783 15599401  5831 44381232 5710  1308 9216 50278108  30107785  7779 1186 2229 6437 1498 7827 6243 9556 8505 7189 438 3173 7739 9012 5383 10366 2380 8215 4119 3413 22478970 2109  7583 3861 500522 5110  3042 7484 94183726  4808 3386 3213 681 6807 2745 84927671  1927 10054 7627 603 2585 54683818  3277 78396466856   5678 7522 4615 1317 6154 7802 182 9737 23987137  3637 5917 635757826868  69529200   8965 3674 3346 84051773 3763  353910562 8901  5845 6674 1210 9037 70783302  38162693  1533 10246 9859 1397 89371461 6837 10697  575391409385   9832 195 5248 108143680  5063 3131 23411242  5337 4349 2874 2790 632 8750 6359 recolector:  6000\n",
      "5119 9205 405 3442 6379 2625 4896 65154395 437 2769  7915 9254 7789 72774604 8779 9436 255  8239 80582304  4400 4345 10800 3365 278 1088 7126 6101 10582 5842 6875 7330 42257240 8332  4612 10815 59063003 3295 7229  840341765121 88174408  3254   74054443 7673  9840 2502 6645 3565 22313548 5531  311 915942361952  266 4261  4677 10153 4590 2186 5035 2092 248 6386 497 5971 8056 59222065  1457 6234 4477 1555 1069 526 6504 2162 2390 107448985 8248  9946 3211003  7935 7538 55986953  2115 7942 10699 9378 2293 51402835 7040 2873061   2339 6408 5114 94216942 797  1249 1229 9857 9749 7281 4202 44815865  638210393  10348 5485 75455502  707 43147263 10523  1208 694 25163108 5856  406710124 3450  1271695 6413  62752903  5490 6554 58118345  10851 7891 17753859  467 10383 10861 1407 8119 40744628  9116 2828 1244 665766446993  869 6591 1758  17902929  5215 2761 3913 8186 10261 942710521  4289 10583 3641 405179923962   10792 7486 17048577  4709 105033103  2909 10547 598610135 7513  3900 99768590 35922456 5622  2443  498 7377 725789788024   2373 9392 4953 4203 94147305 2063 4008 3031  10453 7849 3045 81021929 3507  86366904 1370 61808933   8383 47344221  8501 7737 7017 20873814  10662 9947 1136 9379 8343 109067402 10046 8864 23746593   5434 6781 7960 2355 530 106107549691   3950 5410 4396 2164 73888626  6484101101860   75755018 5993  2946 77686919 8299  8170 10219 7747 1901 1455 2809 5984106788297  9495 7726  7941 10499 97782155  8536 1629 10423 81896586  10072 10766 76949457 67731981   6109 10569 65842772  82219450 1935862  10736  13924407 7698 13  8517 490580178037   7156211796053550   6777  6204 10774 2695 7871 61367698249   1039 61249765 775 9002  10781 2992 5687 7791 9586 109 2184 4772 49275835 9655 8409999 5266  3561 7887  40874128  8471 7421 8035 5696 4233 1617 6588 2882 31372618 1472 6553 2847 3947879   10707 1024856624732   2453 57294666  99516361  2473 8009 9563 8711 1998 10716 85954300  2262 6732 2532 9693 108758756 5941  2300 10174 8879 1156 2048 7965 1040 6407 4350 288 81541679  70761595 3721  165780264707 3800   18209810  1753 108774  92217435  811810403 8510  631 105076602  25783583  6810 18582319584 8897   7426 54012963 3142 4354  846 5105 319 9700 2675 8070 5734 7722622  6439 1301 3925 2817435  5767 4122 9320 622842506846  8207 6017  90410214  9270 2157 8993 708710785 95148101  10893  3109 6714 5803 102212139 7227  8704 46837075 2131  105568614  8109 8773 29353387 486  9510 6388 62694085 203  78863176  7617 5408 664010257  10387 6684 10605 100212843  8001 5775 2263 6140 recolector:  6500\n",
      "270048459333 192   2123 917 6334 4859 8260 19838739 10532 2112 3149 6225  3531 50376661  4159 4692 1013 83484630 7285  6709 5690 9792 708355  1148 10178 9303 4705536  1881 1023 3275 9966 8425 812187342595 1147  6743810   9689 9469 10 84408776  8875 795110435 3332  3033 2592 5726 3360 100423568 2514  682827527813  1825 3581 5621  98999559 7778 9910  7995 48922832  67508183  7516 3420 3590 6381 75252235  1968 1451 24106414 1124  12027898  4603 2998749 1675  1543 42047074  104769228 55889903   7023 8771 7212 7844 1623 7632 23311140  5391 7906 7648 505393087063   241210481  1338 558910273 2189 6038  6856 9016 62213474  6690 8588 2056 1627 5727 120 7018 8157 9363 1167 6965 851168008246 1598   5152 8613 10185 3342 4565 82402661 3516 302842187241  7202  10530  103032252  936992143790  6419983  12389364 4011   6585 6078 2495 9534 10793 89676744  85652464 5509  7114 8104 7097 64809719  77511114 4757  397 7629 2338 8896 11625735  9843 9478 413 8105 2208 5229 7601 48914861  10739 3138 6567 48033075  2878 324 5354 5953 5060 976 2674 10681 1839 2807 1519 984 9467 6944 4242 29186189368  6732328 73506428    10881776579865379    8983 9362 3543 6509 2509035  8603 63708278 1781  902 10886 9269 5719 2525026  83347669 6881  19183591 4209  8201 6620 1337 8551 38719600 1619  3537 6897 48204127  101426886 2466  38354455 33777389   3429 7494 9025 1746 106775470 3203  7395 58803555  10801 3691 7817 3594 4609 10284407 780 5640 2865 3769  121610533  5461 76144186 10770  8998 94707428  4462 4882 65236237  908 3111 8524303 27389464  24464607   10182 1717 10457 3690 9018364  9970 4558 3245 52117512 1025  5311 272778941134  4853  10417 1067736 8098  2110 2510766  4199 2266 10181 3372 25502498  10144 8013 8241 8226 4795 8370 10621 81036540 815  4894 28993834433   8512 2671 8120 43185785  10259 35515829  5375 2853 10922 7044 85823050  2569 7122 49846202 3701 7019  46433366565210234    2974 10577 7434 10210 20291586 2148  892 9784 4710 1351956 10641 2795 10865  9829 6032 228 17498262 5338  170 9061 9058 3493 87646197  10574213815714106  5387   5801 5943 163452  10640 572 7717 4276 4761 6472912 57837920   63621385  5667 9746 9227 6326 7269 3439 2540 10827 909 11522563  6292 66531779 9188166   10477 20 2747 12184306  7924 141665208772  2007 44105443   7833 58166281  9101 69762506 6093 5681  802 2536 5685 8111 200 7594 3535 2687 2704 5930 18570806673   8148 10088 811 4937 27246592  16761539   297 2586 67216441 6812  2435 5359 5054 3672 5528 93076245 546 3869  1801 1977162  6184 recolector:  7000\n",
      "3319 54322169  72153024 4817  8172 7003 2574 10835 2248 41323167  1073 4357 4100268  92071012  4406 3396 4291 72744998 8979 8724  1274 10078 6185 49331121 3321  3506 6784 1492 2530 92 35199513  86568225  51183238  1922 8263 29882426 930  6021 3850 5797 7832 5817 10840 369 6802174 4202076  10858 1602 13448499  3140  7922 4626 15694172  3460 1764 10168843 9042 6010  6637 7020 10896 10645 6699 2726 1078 1592 9573 99532804  10475 2598 8693 2887 2254 107021872 8311  1080410731  4697 1951 5332 15155253 7121 78  9503 1095 56977088683  2479  2589 6318 5134 4870 2209 751 6396105913509   60401752 4597 4468  4752 1597 9779 8618 6896 75217110 547 35751845  4208 746  1501 8280 812 3646 10565 623 75709188  35254415  69701933 3427  4522 10005 5196630717008605   3961 9044  2122 470610253  3644 1641 6425 9548196  3470 6450 329 5716 218 1606 9679 9135 1009 740710118  7709 7724 1411 6329 8909 1809 109168888 8800 4928 283144566327    7358 8857 6664378  3002 89525967  1294 1098 7213 2255 4635 47444985 7888 3143  6583 3116 8835 6969 9597 7151 76210230 2782 4048 5147 2278 3438 52683668 3768   2744 82372848 1299  4828 83898312 43923048  11967882   90808874  3567 214078253844 9130   67664419114410275    64018982 9498  41151605  4592 1520 10838 7599 13623662 6832  7409 5677 169 6364 10316 8852 38566595  7291 6216 5218 2864 705 4635744  2073 684 7381 2233 7659 2526 9723 21959991  1686500  7714 1100944 10274 6892  7208 3456 4768 4206 1811 2759 85443559  5358 45213151 3781  9245 755372951910   97396660 2612  51686882 1298  1083 8003 5743 7750 4792 12878542 2105 2659  2302 349910330  10395 103829562  7692 1884 10490 68514608 2638 68167913 10915   8527 7182 3792 5155 5603 46024082  8516 34263661  3409 6195 579 901831347884  63419724   1728 3802 45733345  181 33419791 86099440  8949 959  4320 3410 7487 2439 634 6315 30918948  6521117410668 6916  8850  10115 61257994 2275  6558 5774 891310089  9753 2286 6368 10107 37515626528 4639   3020 567 29985  5663 24968971  9733 1436 2017 5065 3376 10166409781538826    8014 97618766  39823822 9955 2956 1590 3234  7056 645183189585   2830 10247 5492 9482 8659 7331 76649567 19744918  518 2445 9066  3308 10239 80079938  99897847  10377 71583491  9780 2513 9676 50931989  57184495  7945 323 4001 94326196  1885 91204831  84129595  1376 5656 4248 6073 4599 859 5178458013671882  6005   1205 6758 3841 3025 9098 7451 5703 2741345  7397 3599 8910 59246406  8751 10848 7210 10880 1970 60236908  7246 16435538 57878461   7860 1759 2478 4372 1766 1133 3223 418 recolector:  7500\n",
      "6252 660 1384 932 6274 410 5962 7763 7783 845 2933 2097 8275 2851 1794799 3228  5183 9606 8264 7609 45 2004 40491546 9286  5108 7199 5280 1817 2552824 8992  4850 7167 594210327 43521265  8946  2633 237 7743 60597061  662650861750 7572  10629 8051 710  46006621  73033247 3758 1870 1824 1246  72321431 1458  2888 60962863  1035 711810948643  3881  505 9013 5259 99 4895 8989 826 7598 10520 832878973764910    2535 8999 1239 70273211 1137  7400 10373 1358 9949 97459071  267 8728277  2388 4467 77734571 2013  789 83682431  6880 1526057  64606387 835687336236  164 655 7369   57055799  10512 788 346820774301 10018  6130 6449  7106 5328 10684 21507702  2210 72823136  2322 5631 9983 328 8359 8063 60494559 4564  502 6473 8381 1343 9984 6308 1138 1864916 720 702615417756   2712  5302 8251 33985362  67395759828710773 713   74436884   3170 6698 34443755  4883 8794 9538 3739 3323 9921 10011 104654457376  1696 87844475 1742  2915 1703 3907 742  23166063  58572814 9438 9920  1058934846805 3545 3598   3007 4308 4960 9869 1255 7510 29552366 7337679 62823659    8284 10597 1925 9657 10758 7177 549184152593   4790 769185868421  4460 6833  6194 2709 81765316 3754  9798 34619185  8349 9198 46616100  5756 67686037 6756 10522  8660 8667 3765 130610456 19909259  7054 10703 8228 7374  9271 5800 349892461816  240 6259  6931 10414 1087 57042583 4945  6152 7307 3205651442 7254 7315   14389001461 8330  5957 7222 7370  2647 5057 9809 7332 4769 4637 6393 3958 5299 6820 133536677000  10272  101193933 103379174 31964337   1923 3520  54562921  308552671818  1743  8775 562 686348 953  46 10084 4515 8742 1214 1848 5840 1893 6676 1788 7845 6011 4297 2821 10335 6103 19133779 29385156 8940   6131 1180 2683 9233 847915  9550 7049226 10661 7735 8823  21081904 3128 9681 19117691109   4113  10700 356217842858   7670106283026 10627   2082 6489 8485 4196 2654 9277 33176233 107214072   10357 7797 3195 8081 4255 2834 2198 5732 10830 10501 9525 7792 12206564 8049 101801740 10372   10321 2641 6901 7862 3490 1741 102528921  40403616  8507 100179122  7904278  3615 8188 6561 6064 7081 10878 7333 9837 6145 4570 1435 6240 8853 1460 4557 5440 84277876 8696 2823  45324114 8819  64888743  116 74992639  34023827  2042 95872250  4668478  8338 2114 965 6112 21 754410433 6442 34258710  6090 2773 78533407   10885 2271 4563 4957 4476 8575 5657 6710 805710698  4581 47419121  588 10748 6876 3647 1339 6247 558108646693   4386 3071 625 9911 751510211  1058 35473421  9849 7102 2218 3729 5073528  2260 3773 10123 1613 recolector:  8000\n",
      "194310931 10409 5159 10269  3985 51453361019110061   4173 3798  1262 273212675212   44205064 4786  50310516  9560 55234702  9190 6646 2942 45113706 5164  3967 5908 7168 3495 23845179 8392  359341944381   46901466429   10588 3269 6576523  8664 781838401145  7719  10394 76618881 3712  352 4486 10463 10024975193396947    929 1006 65503394  132818385620  7662 10648 7762  4867 7347 1634 2025 96439194  82039602  79391432 3557 2467 954  63971517 34892881 298   18892 19972040 24721835    2172 6293 1841 199 6175 10320 27494528 8424 3640 9671  90175289102355851 5793  10606  8966  7441 2616 8988 8339 7147 79859082 6071 2627  3064 8099 104086453 8265 10455  2682 688 10049 2021694  9680 4445 8041 7116 2503 2987 703 9268669  1570 8975 9754 4591196910871  4110  7869 2939 7852 9813 4043758 8495 9635  8347874  310 9224 1859 272 1722 423743842756  683 4623 942  642683008029  20886734   8661 5051 10282 97639079 25244784   6516 1406395 1604  374210742612  6298  11844160  1579 52339521  3397 277592615568  9996  41921398  1673 8899 7944 9420 593 3868 2824 9138 12544907 10428  4296 3252 7656 31798752  96091155  24622925139   10843 2954 2969 6537 5994 398 5357 349 4458 3732962 19397531 2354  3968  90935315 6862  243 9965 88059248  29378926 8583  642991088787   98584071  9691 8688 44256652  9638 10761171 25597647 5969 17743384 4866  2803   3181 9232 28855810 2653 4497  5260 3503 71011907 10701  6811 26811032  7476 92525686  4421 8422 5761 472710704  52045014  854 85552448  9870 3348 91144687 3584 2057  8744880 10587687  9783 3660 5034  3262034 4862  957971  3656 8409 8631 7392 1011261438192   291 5848 10342 1300 10260 2754347861   5043 57 162 1534 9505 955531002880 9034 5975   5030 9581 415 833774634699  5126  4638 73233437 7971 8322  4629 7298 2910 8401 3603 74045406 8292 1628 4830 78059411   165551  6266 48347251  3105 5717294859748674   3145  10642 2002 10264 6531 2437 1293 7794 7652 2877 74275748 9377  10193 1181 9496 2080 9183 3082 2327 3888210  6934 2648 4377 1954734110358  45742519   9462 1040710786  745 8167 6678 10432 5855 19 4949 4434 4116 10497 1894 4227577366105217   106448648  5645  443710679 8821  3817 4793 87152715 4298575828051161     27873805  659931304946  5256  6468 2668 6444 3230528340524412 7417  3037   8015 3354 52787666  7540 40339916  5203 5257 10083 105314164 9504 9636  3725 7005 84887495  9361 4560 8616 3403 1726 3451 7071 1105 7230 5306 9922 2465 10439 4147 3727 782 53246548 2944  6062 4704 1296 3538 4535 5457 96132298  454 39651851  636 9915 recolector:  8500\n",
      "1879 1346 6310 9181 6933 41939477  3776 21476156 5205  2419 8423 1642 903 9299 5688 8508 4968 95778398 4733  626 915110431  4245794 9662 6246  51259786  60145798 201 46421349  8232  45199995 7271  863284667840   3570 12575067 7918  3675 3393 3078 50403906  5632 120910713 49029760  9565  6696 3080 531 865 9923 450014  5223 8272 8438 2778 10469 44226689 1282 9864 5104  10004 3771 9097 10525 5655 511 12134540 2763 2315  9083 6782 884 36857929  61554139  9006 10769 7466 60885107 39102630 1716   10420 9266 9143 56603849  9697 9240 56532740  52371924  914 13546165 6331  84531444  68502296 3762  1767 29799026  14778519895   4158 5472 21524665  6164 8483 90724589  1689 222 43312244972 1295   1865105803133 102661601 4234   610210832 8519   11935386 3124  4587 328110484 1996 2672 2541 6822 7419  7311 5465911 607710672  614  3092 4884 3715 3187 13056578  4010 1587 513659761225 5481 7343 3239   6927 5827 3096 444779362770 716  1135  2116 7588 4036 3326 4403 409 9492 9423257  10529649 10062  2505 8838 59208329 580210493  4304  8006 7706 63748549  56121269  10384144 9651  6958 8839 5511 6210 3807 3533 27936328  5077 10376 51957654  9698 10040 37144243 5199 11073940   344 5407 6891 179810789  2961 670020603194 950 947210298 5661  7967   1059 971 90535342  24425618  5430 10544 1065 9125 1831 784683711905  4711 71119531   10296 236 23338662 8346  747836  10535 45161547  4584 178 9112 309 5913 5426 8447 83232045 71769485  1097 5013  8646 6685 2202 2427 6649 28227217  8084 5958 10935 7774 9389 9288 3651 9460 3585 7637 6707 10304 10626 8171 1428 4805 6719 426 582510426  5377 45524674825  30272226   20987364 10138  4009 25188457 7196 7234  8216 9572 5143 1919 1891 459 7952708  4150 2144 7528 3466 9706 7930 8141 2529 9444 3518 9901 5277 9238 58134076  95123620 7555  154 2307 792 2962 5730 6069 2335 103961707 6549  3740 3697 4873 10654 10370 33514662 9861  15357046  10655 9769 458310673 8110 6141  61424195575  1321 2193  5287 5698 744 3604 6730 57009926  4056 819110777  71918336  10570 4965 3908 5367 5281 8331 92177634  105531710  7966 702 11545153  5089 255613891687  23217875 10446   3073327910624  6920  1581 2936 4796 9594 10236 5973 6974 57509741  5895 448 10451 9828 77584777  3718 2078 6907 10720 7710 671 458 8962 7275 6639 3406 9292 4256 15211564  4641 2568 712 10419 108561022 5009 8928  3339 100919048  10415 14995923 9900  5889 5132 16010129  5374 36845766  9871 7912 6683382  9019 6723 5397 5234 5694 52554364  71128489  6503 1112 10085 15585859  8623 1389172  1278 3526 2314 recolector:  9000\n",
      "3866 8725 5415 44481778  5970 746110688 10834  7152 9180 6662 1827 434770641169  59461621 7280 10203   8786 3512 5616 7406 7610 5458 6513 1724 661187 1291 7687 8880129   2766 8117 112 68401185  3778 70851142 8707 5135 67431128   14843162  34339912  93665381  9539 56381995 4413 7368 936 6783 638  422610101938   759 7045 69469789 8106  7569 9937 5707 5454 8637 10614 18562488  6603 6978 5330 91637787  7630 63858417  8434 4975 5850 4858 8690 93812200  8929 1068932876044   7194 10251 3212 391810796  695110474 7809 6031  1876 3915146 6162  144183243766  8253 6178  7799 9856 106946106  8217 9954 102546279 9393 3259  9967 8143 5874 8303 102676903 4673  2318133 10126  6918 28258723  5556000 82909075  5722  31585087  6260 1172 2454 38265273 2243 8812 3932  5985 6638 94930479419   988 1545 75744433 693  2239 498981457834   9451 7689 6015 2564 46563036  6416 10618 9312 762810791  86258873  8220 5162 9206 873 79738532 53313894 1414  3703  2907 1332 8797 3328 9718 45479008 9642 8139  29667016 373 9150  10653 4920 240431547436 5001  2469  41825360 2408  7642873  2345 3966 2922 9278 5102525421  7243  1228 5308 5327 823 5617 752690595791   26979063  9888 76812206  8678 434 343510352  1931606  9803 3480 7385 6398 501224624816   2736 8430 2600 4471 3708 9833 540 9043 3623 9827 7753 4685 10872 1233 4731 94084993  8497 2555 3316 10743 9884 2335904  10102 3249 3698 4785 9692 7895 3101 49 5968 1768 10125 3343 9535 8906 62852565 3046 6945 47976360  420013738889    9558 3492108778539402   6020  78213942  7761791 3488 4738  5945 3483 74718820 4025  4760 3952 5625 6677 44984585 1507  5058 54595230 4974  10895 1896 2491 2192 6238 635 9173 72 10491 10233 7590175 9932  5983 8025 6518 5088 385510418  1829 7442 894 10634 8694 963 3939 1086784 62443054   5658 10401 5214 487417258498  4180 2698  69503157  2976 196329852816  68786972  8075 3477  8945 27910402 8476  364 8208 3370 5404 9234931  1469 769018374854284    6541 63023927  98977932  5876 8016 10805 754 9223 4506 3419 2594 1336 5879 81957424427  4950 331  2100 9996708  9768 10168 71743569  6848 4698 5436 3090 9372 1410260810289   9598 67013383  805 10695 9674691  4827 2855249 10450  1211 11539149  7171 7109 43336667  8039 3102 6717 52584650 752  5079 6769 1763 961239 7043  3299 62099484  7686 6796 6544 5190 10080 51843809  7770 881 7204 5752 8071 5608 855 96528267  307 1204 9773 1310 4640 7270 20054620 2485  4508 5080 5392 5804 126110386 2819 22566852 4810   2927 6845 1906 6838 1037 2527 36119156  7644 2399 1953 6276 recolector:  9500\n",
      "9062 3336 73214878 1647  3917 75664459 43693214   1681 59129703  6299 5366 5326 69992337 9914 7638 5508 4295 2129  4840 4391 3257 6898927 7188 108394214   333 86357262  686449145271 65426230    229560086525   5642 9295 2511 10094 34176173  69911836 6983  474 8034 9675 1357 7279 4086 6187 3889 3084253 3992 3292  3983 393 107189811  5611 4807 1648 444910506 7467  10044 5004 2588 3999 69028891 5599  6288 2603 35443099 6339 8974582 2849   93 7360 7955 7001 5629 7004 4619 1446 4712 5352 35246356 9390 1289 9934  4678 9184 13511008  6829 574 1656 4229 10905 193410416  6648 2436 1453 7414 7730 5740 6987 10406 161 3938 7415 5082 4952 8281 7301 5265 3882 1168 8490 1528 2900 2696 7500 10818 1908 1091 10933 1862586 10467 2872  3513 5047 4743 89342405  5074 5187 8100 8727 9762 7180 6080 1785 4379 1063810280 7798 4351  5285 5871 22452902 95545228   816 9867 729 9260 7238 7803 1425 2543 1215 20224900  10889 3289 1947 46279162  7881 3197 431 49038956 6363  10537 7055 6045 3164 8367 5158 6134 5427 3502491  1021 5886 5844 4915 90001715  87164175  107 2450 7050 5635 9322 4430 3076 5378 90602571 3125  830 9650 78671915 5867  2201 3597 5469 1682 779 5400 8883 9435 1006410733  9400 1698 5947 3904 15845455  94412551  47582733 9545  10375 7996 101897776 7781  3221 8138 470 9290 5169 4764 2361 79198846 5250 6669  46799940  1593 8269 5172597  2369 3991 3634 4855 5488 72445365  1198 7394 5641 2768 6346 10932 7542 2086 1668 1684 506 92511340  327610198  3832 3174 7462 7620 502230978816   3001 145610683  4942 6186 7496 80025552 3449 9874 9367811 37611468    81303358 4990 7458 59268315   28066502  10534 5413 10389 2219 9576 4198 829 38064446  7811 6887 30692280  41422542 3120 5069  90405512 490  7170720683917250  921  10026  4490 1940 7801 4848 10194 653 54665542 876  5068 5296 1042 3004 2134 6930 20493155 2941 3074 3284  7448 3948396  55009876 9640 4921 4963  2735 6936 6885 9935 5651 225996048560  6740 482  6826 26786691 4315 8092  9979 501175821946   10554 5995 7438 9584 3159 10709 5180 5877 9324 98607731 1786  210447 4849  641210231  1309 4893 42803265 107652220  82145096  8205039 9132   1982 3375 9506 7300 4169 7115 8859 4029 842 99937437 4272 2623 2997 9351  6033 9653 8808 3049 1735 7835 7481 42077863  7759 10106 10013 5474 8886 52549908  2501 8441 5437 9782 5965 3463 6804 4770 7961 10596 3642 10631 8675 1745 7677 10022 72191342 7983  10482 9977 2758 8976 61168541985  100192637   5066 9346 58052971 9316  5529 3749 84193288  9834 8987 3240 662 6232 6445 8550 4365 10082 532 10452 2197 recolector:  10000\n",
      "7439 6943 6391 9716 5138 4003 49628402 6799 3378  5137 2267 2632 2755 1488 4961 3899 1867 6163 31189208 3605  7982 101459879  1636 5808 5303 4363 2531 5909 8679 6765 3858 6039 2995 4375 2538 9275 8396 5396 970 58546411 9326 4844244   4037 787 6287 2573 41857334  98476666  1669 2947 3032 49243469 4177 9692813 4313 4901  3285  23891508  2914 4044 5786 79388765 6921 3504 87219990   5977 10014 10399 3896 4487 6522 10579 5452 2461 70652343  4801577 7934 6094  3799 94868168 5824489 327  6600  8380 35633052  77073260  4388 5350 7953 5188 432 2357 22775554 1486  5736 8307 6402 4746 6372 4514 10894 6694 5875 3184 3662041 5902 5010  6597 5389 10228 5978426039496170   2837422   5563 8936 7322 44543564  8020 944947  3532 47014523  6486 2285 33101853 7187  1394841 8543  10388 239310857 798  5295 2288 7505 3988 13666798 4149 7231  100959501 7260 4781 9917  5424 10798 30131080672937672  7493  1043  4836 1992 6074 10096 3704 6764 6487 438931775524  3971  1808 8379 64361899  3452 1917 8735 85 257710449  3171 45691826 10363  5222 10000 1195 1034340262085  1705 2614 10002  10170 8509 940 4136646  2049256 4835  4156 630 3297 4821 3113 8363 3476557 4502  6842 5444 424973271945  10930  3797 96158373 2811 5852 3262 5721 3016  3229 493 4676 773346817433 4343   4982 5548 41315471  4503 5235 8052 56095309 6563  8437 8670 5549 6051 7144 3148 2500 46017398  39445340 5510  8608 50553019 2779 4818  1522 82051377 4526  1150 40697850 10341 3713 4756  5144 7452 4567 665454673126 10598 62912886  3305   109005927 1652  6596 5059417 4427 1412 5572  4000 3150 818 4759 2746 2499 10854 1060 10722 106431536 239 10844  4653 8838759 2301 1096 5166 95702000  4872  52363596  5201 1047 5031 3864 2905258134714763    3139 48644675 19148641  7679  9808 44189704  5464279910427   8652 4588 2071 69774824  5561 63047503  8033 465 4390 7586 3890 1132 3791 5475 7211 93949359  74831468005  3306  36555372  898 4693 13645150 3639  10729 8821286  4815941  4047 5142 7125 3122 4480 5522 34306223 556944527175 4220 4303  6803   3235 2032 5070 55031911 55344168 800   1166 5435 1375 8803 4951 5565 1842 7548 49672989 6007 4646 7917  4700 3320 5318 94229442  2397 42397444 1693 3606  910 5321 4222 3618 4167 831 836625491143  2789  2102 2342 1000 89115167 2898 7639  20032203  3244 5553 5566 4416 98526476  5016 55511386 42174266  5411  58855364  5193 4423 3243 6905 8737 5933 8741 2311 3934 4344 1556 74913253924   5463 6778 3104 3571 2128 2281 5540 8622 1615 378 198 5513 1812 6628 3770 2815 732 3107 8924 5541 5567 recolector:  10500\n",
      "96658028 5937669   55624146  42136808  998 3666 10685 47238778 4548 10608  1314 5560 101274919 5556  249441053224  5349 2579 45253478 2196   9952 5581314  6053 97708916  22701092  498610669 3671 32911580  5008 52024794   84088279  35872377 1080210076 8745 2127   6082 9475 5274 76318115  4684 534761514788   76052928  519810529  844 4518 5129 4618 3830 496 5141 55595244 10890 2889 3801 10332  5516 1504 7749 8458 1281 9489 5570 3487 3347 10311 5462 41892118  5576 5547 55739345  4279 9623 3586 8134 6166 86764930 8372 2685 7057  2892 4310 373051318969298    9109 9524 5336 22254267857  724 1631  30298619 6081 9873 2980 54471803   106092742 8567  8242512836886575 4524   1796  87775558 3578  4027 7025 9774 10422 28507317  9356 9074 4228 6823 19285276 81633945 5574  4762  785 4527 585103222879 8093  4322  2035367610167  5499 2975  9229 5355 10487 76992622 7127  5200 4771 9041 9591 5863 3627 2901 10113 54383334  6217 8486 5264 4634 1075 58839004  10410 5584 5171 3909 90684610  5515 10633 9801494 4323 6849  5586 9096 5453 37489913 10860  10728 3914 3112 10354 8004 5431 55788931  5172 87935571 875 1843  54465368 6448  5120 2061 3428101286183 2655   2444 8439 8593 1175107264473  6148  495 2175 9800 32311594  9118 32273191 4055  53075745 2820 6630  6866974 6512 4098  54177896 67804287 4334 9073   5543 980 20477981 3160996445569854    5545  44612160 2798  997 5371 3947 1263 42192973  685 8972 5602 9315 9448 3677 7130 6205 2983 1197 10797 8552 5526 50322507 1256 5539  7089 3874 7221 9084 4897 2422 8944 18636754 5019  26354857 2982  5955 2406 6135 4774 6579 59195115 8645 1068  57155585  5533 11515713  7029 5592534110459 2670   5323 9239 558010903  740 3657 70018 5052 5582 3012 4079 5555 5575 1852  9969 412447995399  1651 5579 5151  6002 5486 60974143 32004084  3895  4934719 10012  499 46883447  5527 89745595  6026 4022 2001 7011 5591 6467 56012713 5544  3842 55454022181  10093 3198  1527 106041782 2258 9507  91424188  4151 5597 11036 4053 5596 2599 11144 2023 11196 1107068219842 2762   1290 4270 1012210937  10988 110654978 4435 11097 6107  411111242 11136 11189 21885605 2721   10970 1113210243 11205  11210 973811072 112609154 4019   560011274  1110911020  4290 41632859 11062  5615 11022 11304 11250 11190 5606 11117 1011410956  5594 2812 8351 11271 11305 7810 3588 1104611135 11125  878010936  11220 11033100989115  109483975   11112 1107811122  11310 9933 11201109451064911115   558311006 11079   45493974  11106 4141 1099011213 5207 11241 11227  35539466  10968 11278 8142 112695416  11049 1108411222  1111611138  11010 11096 11068 10947 11092 11276 recolector:  11000\n",
      "11082 11044 11244 11016 10975 11265 11076 11193 11197 11142 1110511103 10977 11240 11291  11267 11235 11003 11257 11212 10973 11051 11066 11057 10980 1113911128 11153  10962 10999 1123710967  10991 11301 10992 11273 11133 11058 11283 1109110993  11126 11038 111241128910998 1101311088 11131    11258 10997 10957 11295 11150 109501131211202   10996 1097611252 10939 11015 11230112941108711134   11031   1105011268  11085 11037 11226 11093 11218 11270 11055 11233 1115411040 11041  11004 11042 11140 1114110972 1096610994  11236 11063 11032  1105410982 11030  10984 11309 1111011145  11095 11113 11163 11073 1119811021 11130 11167 11137 11069  11277 10987 11101 111551096011083   1122410954 11053  1110811149 1101411284  11228  11207 11282 11000 109581131311290   10941 11208 11239 11118 10946 10971 11259 11100 11179 11023 11231 11005 11123 11170 11099 11209 11251 11019 10952 1119111285  1128111007 11071 11216111611117511026    11229  11111 11001 11172 11025 1120611114 11307 11119  1105211127 11077  11181 1108611243  11169 1116210938 11255 11261  11011 10979 11157 10964 11018 1130611017 10942 1129211047 11094   11287 11263 1130811090  1119211148 11012  1104311176  11061 1117711297  1106411045 11217  11168 112531103510944  10989 11002  11299 111831103411238   11107 11199 11121 1099511027 11056 11272  1100911219 10955 11151 1128611081   1123411302 10965  11158 11248 11293 11264 11247 109811130010969 11165  1097811102 11147 11129   11104 10963 11275 1114611060  11143 11159 1119511178  11166 1130311262 11185  11266 11221 10974 11211 1107511254  11288 11246 11171 11215 1115611160  11180 11074 11204 11089 11249 11483 1156710983 11203  11296 11232 10953 11184 11668 11409 1131110951  1118811152 11547 11473  10943 11173 11424 11480 1119411599 11298 11669 11316 11402 11067 11418 10985 11554  11225112451164711623  11319   11039 10959 113431135711489  11256  11186 1162511637  11200 11174 1159511475 10940  11348 11353 11029 11048 1136911457 1116411425 11375 1102411080   11607 11279  11546 11490 1160011028 11008  11370 11617 11414 10986 11223 1139711466 11620 1148511455 11187  10961 11596 11280 11059 11340  11214 11365 11469 11661 11482 11410 11320 11098 11314 11479 115761146711382 11598 11575   11335 1146511120 11363  11563 11429 11472 11658 10949 1143911392  1161111478 11651  115641143511468   1145311556 1143411476   11493 11182 11461 1148411339 11559 11364 11675 11367  115521166311612 1161011428 11486 11591    11649 11608 1148711413  11481 11597 11448 1150811325  1150211496 11330 11462 1167111657   11634 11573 11569 11557 1136611352 11426  11384 11351 11504 11415 11633 11630 11488 11506 11412 11344 11499 1138011495 11560 11463 11431  11443 11341 1144911646  11603 11602 11627 11347 11464 1142011566  11470 11638 11628 114581157111333  11349  11558 11635 1158311436 11474 115881143711491   11579  11565 11659 1149711614 1165011644   113261133411550   11511 1140011507  11451 1167311388  11376 11394 1154911324 11450  11322 11642 1156111427  115121164511652   11505 11362 11666 recolector:  11500\n",
      "11639 11419 11494 11509 1166711372  11338 1162611570 11452 11586 11390 11358  116041131511447 11662 11515   11416 11609 11423 11648 11654 1154811321 1158111501   11374 11323 1145911498  11578 11387116701162111572  11665  11442  11553 11674 11656 11643 1165511585 11664 11381  11346 1134211377 11355 11672 1134511624   1151311590  11403 11520 1153111582  115301147711396 11605  11592  1144611636 11430  1159311523 11361 11422 11594  1158411527  1165311433  11528 1161911405 11519  1158011601  1155111524  11378 11337 1161511516  11399 11438 11318 11589 11389 1153811386 11525 114011153211574   1152211613   11359 11407 11331 113681152111329  11536  1139111518 11332  11454 11555 11537 11408 1156811618 11517  11606 11456 1137311460  11660 114441138311542 11356 11471   1154111533 113601137911417    1139311622 11371 11440  11503 1150011492 1144511327   11328 11544 11534 1152911540 11404 11545  11640 11577 1163111629  11514 11526 11510 11395 11539 11385 1131711336 11616 1143211587  1141111441   11535 1140611421  11354 11350 11562 1163211543  11641 11398 recolector:  11676\n",
      "Wall time: 5h 30min 36s\n"
     ]
    }
   ],
   "source": [
    "%%time\n",
    "from multiprocessing.dummy import Pool as ThreadPool\n",
    "\n",
    "new_data = []\n",
    "ventana = 500\n",
    "\n",
    "for posicion in range(ventana, len(usuarios) + ventana, ventana):\n",
    "    \n",
    "    recolector = []\n",
    "    pool = ThreadPool(10)     \n",
    "    for respon in pool.map(\n",
    "                     add_previous, \n",
    "                     usuarios[posicion-ventana:posicion]):\n",
    "        recolector.append(respon)\n",
    "    \n",
    "    pool.close() \n",
    "    pool.join()\n",
    "    \n",
    "    new_data.extend(recolector)\n",
    "    print('recolector: ', len(new_data))"
   ]
  },
  {
   "cell_type": "code",
   "execution_count": null,
   "metadata": {},
   "outputs": [],
   "source": []
  },
  {
   "cell_type": "code",
   "execution_count": 28,
   "metadata": {},
   "outputs": [
    {
     "name": "stdout",
     "output_type": "stream",
     "text": [
      "(22870354, 12)\n"
     ]
    },
    {
     "data": {
      "text/plain": [
       "0"
      ]
     },
     "execution_count": 28,
     "metadata": {},
     "output_type": "execute_result"
    }
   ],
   "source": [
    "data = pd.concat(new_data, axis=0)\n",
    "del new_data\n",
    "print(data.shape)\n",
    "gc.collect()"
   ]
  },
  {
   "cell_type": "code",
   "execution_count": null,
   "metadata": {},
   "outputs": [],
   "source": []
  },
  {
   "cell_type": "code",
   "execution_count": null,
   "metadata": {},
   "outputs": [],
   "source": []
  },
  {
   "cell_type": "code",
   "execution_count": 29,
   "metadata": {},
   "outputs": [
    {
     "data": {
      "text/plain": [
       "True"
      ]
     },
     "execution_count": 29,
     "metadata": {},
     "output_type": "execute_result"
    }
   ],
   "source": [
    "(data['CONTENT_CATEGORY'] == data['CONTENT_CATEGORY_BOTTOM']).all()"
   ]
  },
  {
   "cell_type": "code",
   "execution_count": 30,
   "metadata": {},
   "outputs": [],
   "source": [
    "del data['CONTENT_CATEGORY_BOTTOM']"
   ]
  },
  {
   "cell_type": "code",
   "execution_count": 31,
   "metadata": {},
   "outputs": [
    {
     "data": {
      "text/plain": [
       "0    2_2\n",
       "1    1_1\n",
       "2    9_4\n",
       "3    2_2\n",
       "4    2_2\n",
       "Name: CONTENT_CATEGORY, dtype: object"
      ]
     },
     "execution_count": 31,
     "metadata": {},
     "output_type": "execute_result"
    }
   ],
   "source": [
    "data['CONTENT_CATEGORY'] =  data['CONTENT_CATEGORY'] + '_' + data['CONTENT_CATEGORY_TOP']\n",
    "data['CONTENT_CATEGORY'].head()"
   ]
  },
  {
   "cell_type": "code",
   "execution_count": 32,
   "metadata": {},
   "outputs": [],
   "source": [
    "del data['CONTENT_CATEGORY_TOP']"
   ]
  },
  {
   "cell_type": "code",
   "execution_count": 33,
   "metadata": {},
   "outputs": [
    {
     "data": {
      "text/html": [
       "<div>\n",
       "<style scoped>\n",
       "    .dataframe tbody tr th:only-of-type {\n",
       "        vertical-align: middle;\n",
       "    }\n",
       "\n",
       "    .dataframe tbody tr th {\n",
       "        vertical-align: top;\n",
       "    }\n",
       "\n",
       "    .dataframe thead th {\n",
       "        text-align: right;\n",
       "    }\n",
       "</style>\n",
       "<table border=\"1\" class=\"dataframe\">\n",
       "  <thead>\n",
       "    <tr style=\"text-align: right;\">\n",
       "      <th></th>\n",
       "      <th>FEC_EVENT</th>\n",
       "      <th>PAGE</th>\n",
       "      <th>CONTENT_CATEGORY</th>\n",
       "      <th>SITE_ID</th>\n",
       "      <th>ON_SITE_SEARCH_TERM</th>\n",
       "      <th>USER_ID</th>\n",
       "      <th>weekday</th>\n",
       "      <th>schedule</th>\n",
       "      <th>tipo_dias</th>\n",
       "      <th>trimestre</th>\n",
       "    </tr>\n",
       "  </thead>\n",
       "  <tbody>\n",
       "    <tr>\n",
       "      <th>0</th>\n",
       "      <td>2018-01-01 00:09:17</td>\n",
       "      <td>none_2</td>\n",
       "      <td>2_2</td>\n",
       "      <td>2</td>\n",
       "      <td>1</td>\n",
       "      <td>7237</td>\n",
       "      <td>0</td>\n",
       "      <td>madrugada</td>\n",
       "      <td>inicio_mes</td>\n",
       "      <td>1</td>\n",
       "    </tr>\n",
       "    <tr>\n",
       "      <th>0</th>\n",
       "      <td>2018-01-01 00:14:17</td>\n",
       "      <td>none_2</td>\n",
       "      <td>2_2</td>\n",
       "      <td>2</td>\n",
       "      <td>1</td>\n",
       "      <td>4913</td>\n",
       "      <td>0</td>\n",
       "      <td>madrugada</td>\n",
       "      <td>inicio_mes</td>\n",
       "      <td>1</td>\n",
       "    </tr>\n",
       "    <tr>\n",
       "      <th>1</th>\n",
       "      <td>2018-01-01 00:14:18</td>\n",
       "      <td>2_2</td>\n",
       "      <td>2_2</td>\n",
       "      <td>2</td>\n",
       "      <td>1</td>\n",
       "      <td>4913</td>\n",
       "      <td>0</td>\n",
       "      <td>madrugada</td>\n",
       "      <td>inicio_mes</td>\n",
       "      <td>1</td>\n",
       "    </tr>\n",
       "    <tr>\n",
       "      <th>2</th>\n",
       "      <td>2018-01-01 00:14:26</td>\n",
       "      <td>2_3</td>\n",
       "      <td>2_2</td>\n",
       "      <td>3</td>\n",
       "      <td>1</td>\n",
       "      <td>4913</td>\n",
       "      <td>0</td>\n",
       "      <td>madrugada</td>\n",
       "      <td>inicio_mes</td>\n",
       "      <td>1</td>\n",
       "    </tr>\n",
       "    <tr>\n",
       "      <th>3</th>\n",
       "      <td>2018-01-01 00:14:32</td>\n",
       "      <td>3_20</td>\n",
       "      <td>2_2</td>\n",
       "      <td>3</td>\n",
       "      <td>1</td>\n",
       "      <td>4913</td>\n",
       "      <td>0</td>\n",
       "      <td>madrugada</td>\n",
       "      <td>inicio_mes</td>\n",
       "      <td>1</td>\n",
       "    </tr>\n",
       "  </tbody>\n",
       "</table>\n",
       "</div>"
      ],
      "text/plain": [
       "            FEC_EVENT    PAGE CONTENT_CATEGORY SITE_ID ON_SITE_SEARCH_TERM  \\\n",
       "0 2018-01-01 00:09:17  none_2              2_2       2                   1   \n",
       "0 2018-01-01 00:14:17  none_2              2_2       2                   1   \n",
       "1 2018-01-01 00:14:18     2_2              2_2       2                   1   \n",
       "2 2018-01-01 00:14:26     2_3              2_2       3                   1   \n",
       "3 2018-01-01 00:14:32    3_20              2_2       3                   1   \n",
       "\n",
       "  USER_ID  weekday   schedule   tipo_dias  trimestre  \n",
       "0    7237        0  madrugada  inicio_mes          1  \n",
       "0    4913        0  madrugada  inicio_mes          1  \n",
       "1    4913        0  madrugada  inicio_mes          1  \n",
       "2    4913        0  madrugada  inicio_mes          1  \n",
       "3    4913        0  madrugada  inicio_mes          1  "
      ]
     },
     "execution_count": 33,
     "metadata": {},
     "output_type": "execute_result"
    }
   ],
   "source": [
    "data = data.sort_values(by=['FEC_EVENT'], ascending=True)\n",
    "data.head()"
   ]
  },
  {
   "cell_type": "code",
   "execution_count": 34,
   "metadata": {},
   "outputs": [
    {
     "data": {
      "text/html": [
       "<div>\n",
       "<style scoped>\n",
       "    .dataframe tbody tr th:only-of-type {\n",
       "        vertical-align: middle;\n",
       "    }\n",
       "\n",
       "    .dataframe tbody tr th {\n",
       "        vertical-align: top;\n",
       "    }\n",
       "\n",
       "    .dataframe thead th {\n",
       "        text-align: right;\n",
       "    }\n",
       "</style>\n",
       "<table border=\"1\" class=\"dataframe\">\n",
       "  <thead>\n",
       "    <tr style=\"text-align: right;\">\n",
       "      <th></th>\n",
       "      <th>FEC_EVENT</th>\n",
       "      <th>PAGE</th>\n",
       "      <th>CONTENT_CATEGORY</th>\n",
       "      <th>SITE_ID</th>\n",
       "      <th>ON_SITE_SEARCH_TERM</th>\n",
       "      <th>USER_ID</th>\n",
       "      <th>weekday</th>\n",
       "      <th>schedule</th>\n",
       "      <th>tipo_dias</th>\n",
       "      <th>trimestre</th>\n",
       "    </tr>\n",
       "  </thead>\n",
       "  <tbody>\n",
       "    <tr>\n",
       "      <th>2698</th>\n",
       "      <td>2018-12-31 23:58:55</td>\n",
       "      <td>57_39</td>\n",
       "      <td>2_2</td>\n",
       "      <td>3</td>\n",
       "      <td>1</td>\n",
       "      <td>6721</td>\n",
       "      <td>0</td>\n",
       "      <td>luego_del_trabajo</td>\n",
       "      <td>18_24</td>\n",
       "      <td>4</td>\n",
       "    </tr>\n",
       "    <tr>\n",
       "      <th>9453</th>\n",
       "      <td>2018-12-31 23:59:35</td>\n",
       "      <td>5_2</td>\n",
       "      <td>2_2</td>\n",
       "      <td>2</td>\n",
       "      <td>1</td>\n",
       "      <td>8452</td>\n",
       "      <td>0</td>\n",
       "      <td>luego_del_trabajo</td>\n",
       "      <td>18_24</td>\n",
       "      <td>4</td>\n",
       "    </tr>\n",
       "    <tr>\n",
       "      <th>9454</th>\n",
       "      <td>2018-12-31 23:59:40</td>\n",
       "      <td>2_3</td>\n",
       "      <td>2_2</td>\n",
       "      <td>3</td>\n",
       "      <td>1</td>\n",
       "      <td>8452</td>\n",
       "      <td>0</td>\n",
       "      <td>luego_del_trabajo</td>\n",
       "      <td>18_24</td>\n",
       "      <td>4</td>\n",
       "    </tr>\n",
       "    <tr>\n",
       "      <th>9455</th>\n",
       "      <td>2018-12-31 23:59:50</td>\n",
       "      <td>3_69</td>\n",
       "      <td>2_2</td>\n",
       "      <td>3</td>\n",
       "      <td>1</td>\n",
       "      <td>8452</td>\n",
       "      <td>0</td>\n",
       "      <td>luego_del_trabajo</td>\n",
       "      <td>18_24</td>\n",
       "      <td>4</td>\n",
       "    </tr>\n",
       "    <tr>\n",
       "      <th>9456</th>\n",
       "      <td>2018-12-31 23:59:59</td>\n",
       "      <td>69_141</td>\n",
       "      <td>2_2</td>\n",
       "      <td>3</td>\n",
       "      <td>1</td>\n",
       "      <td>8452</td>\n",
       "      <td>0</td>\n",
       "      <td>luego_del_trabajo</td>\n",
       "      <td>18_24</td>\n",
       "      <td>4</td>\n",
       "    </tr>\n",
       "  </tbody>\n",
       "</table>\n",
       "</div>"
      ],
      "text/plain": [
       "               FEC_EVENT    PAGE CONTENT_CATEGORY SITE_ID ON_SITE_SEARCH_TERM  \\\n",
       "2698 2018-12-31 23:58:55   57_39              2_2       3                   1   \n",
       "9453 2018-12-31 23:59:35     5_2              2_2       2                   1   \n",
       "9454 2018-12-31 23:59:40     2_3              2_2       3                   1   \n",
       "9455 2018-12-31 23:59:50    3_69              2_2       3                   1   \n",
       "9456 2018-12-31 23:59:59  69_141              2_2       3                   1   \n",
       "\n",
       "     USER_ID  weekday           schedule tipo_dias  trimestre  \n",
       "2698    6721        0  luego_del_trabajo     18_24          4  \n",
       "9453    8452        0  luego_del_trabajo     18_24          4  \n",
       "9454    8452        0  luego_del_trabajo     18_24          4  \n",
       "9455    8452        0  luego_del_trabajo     18_24          4  \n",
       "9456    8452        0  luego_del_trabajo     18_24          4  "
      ]
     },
     "execution_count": 34,
     "metadata": {},
     "output_type": "execute_result"
    }
   ],
   "source": [
    "data.tail()"
   ]
  },
  {
   "cell_type": "code",
   "execution_count": 35,
   "metadata": {},
   "outputs": [
    {
     "data": {
      "text/plain": [
       "2_3        2198917\n",
       "2_2         692878\n",
       "3_2         609674\n",
       "40_2        544159\n",
       "5_2         513825\n",
       "            ...   \n",
       "48_72            1\n",
       "454_21           1\n",
       "3_1210           1\n",
       "21_321           1\n",
       "106_267          1\n",
       "Name: PAGE, Length: 49150, dtype: int64"
      ]
     },
     "execution_count": 35,
     "metadata": {},
     "output_type": "execute_result"
    }
   ],
   "source": [
    "count = data['PAGE'].value_counts()\n",
    "count"
   ]
  },
  {
   "cell_type": "code",
   "execution_count": 41,
   "metadata": {},
   "outputs": [],
   "source": [
    "#help(data['weekday'].plot)"
   ]
  },
  {
   "cell_type": "code",
   "execution_count": null,
   "metadata": {},
   "outputs": [],
   "source": [
    "data['weekday'].plot(kind='bar')"
   ]
  },
  {
   "cell_type": "code",
   "execution_count": 36,
   "metadata": {},
   "outputs": [
    {
     "data": {
      "text/plain": [
       "838_155    2\n",
       "3_656      2\n",
       "25_1464    2\n",
       "300_369    2\n",
       "7_505      2\n",
       "          ..\n",
       "48_72      1\n",
       "454_21     1\n",
       "3_1210     1\n",
       "21_321     1\n",
       "106_267    1\n",
       "Name: PAGE, Length: 27386, dtype: int64"
      ]
     },
     "execution_count": 36,
     "metadata": {},
     "output_type": "execute_result"
    }
   ],
   "source": [
    "count[count <= 2]"
   ]
  },
  {
   "cell_type": "code",
   "execution_count": null,
   "metadata": {},
   "outputs": [],
   "source": []
  },
  {
   "cell_type": "code",
   "execution_count": 37,
   "metadata": {},
   "outputs": [],
   "source": [
    "data.to_csv('data/pageview_with_previous_2.csv', index=False)"
   ]
  },
  {
   "cell_type": "code",
   "execution_count": null,
   "metadata": {},
   "outputs": [],
   "source": [
    "\"\"\"\n",
    "Only 3 hiatorical:   11084\n",
    "Only 3 hiatorical:   11317\n",
    "Only 2 hiatorical:   11445\n",
    "Only 3 hiatorical:   11538\n",
    "Only 2 hiatorical:   11674\n",
    "\n",
    "\"\"\""
   ]
  }
 ],
 "metadata": {
  "kernelspec": {
   "display_name": "Python 3",
   "language": "python",
   "name": "python3"
  },
  "language_info": {
   "codemirror_mode": {
    "name": "ipython",
    "version": 3
   },
   "file_extension": ".py",
   "mimetype": "text/x-python",
   "name": "python",
   "nbconvert_exporter": "python",
   "pygments_lexer": "ipython3",
   "version": "3.8.5"
  }
 },
 "nbformat": 4,
 "nbformat_minor": 4
}
