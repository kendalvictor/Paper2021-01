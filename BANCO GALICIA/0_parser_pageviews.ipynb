{
 "cells": [
  {
   "cell_type": "code",
   "execution_count": 1,
   "metadata": {},
   "outputs": [
    {
     "data": {
      "text/plain": [
       "['.ipynb_checkpoints',\n",
       " 'CONTENT_CATEGORY.zip',\n",
       " 'CONTENT_CATEGORY_BOTTOM.zip',\n",
       " 'CONTENT_CATEGORY_TOP.zip',\n",
       " 'conversiones.zip',\n",
       " 'data.zip',\n",
       " 'data2.zip',\n",
       " 'device_data.zip',\n",
       " 'PAGE.zip',\n",
       " 'pageviews.zip',\n",
       " 'pageviews_complemento.zip',\n",
       " 'pageview_with_previous_2.csv',\n",
       " 'sampleSubmission.zip',\n",
       " 'SITE_ID.zip']"
      ]
     },
     "execution_count": 1,
     "metadata": {},
     "output_type": "execute_result"
    }
   ],
   "source": [
    "# Nativos\n",
    "import random as rn\n",
    "import os\n",
    "import sys\n",
    "import gc\n",
    "\n",
    "#calculo\n",
    "import numpy as np\n",
    "import pandas as pd\n",
    "import scipy as sp\n",
    "\n",
    "#grafico\n",
    "import matplotlib.pyplot as plt\n",
    "import seaborn as sns\n",
    "from IPython.display import display\n",
    "%matplotlib inline\n",
    "sns.set(style=\"whitegrid\")\n",
    "\n",
    "#warning ignore future\n",
    "import warnings\n",
    "# warnings.simplefilter(action='ignore', category=FutureWarning)\n",
    "warnings.filterwarnings(\"ignore\")\n",
    "gc.collect()\n",
    "\n",
    "BASE_DIR = os.path.dirname(os.getcwd())\n",
    "if BASE_DIR not in sys.path: sys.path.append(BASE_DIR)\n",
    "\n",
    "from utils import *\n",
    "#from graphs import *\n",
    "\n",
    "SEED = 29082013\n",
    "os.environ['PYTHONHASHSEED']=str(SEED)\n",
    "np.random.seed(SEED)\n",
    "rn.seed(SEED)\n",
    "\n",
    "subfolder = \"data\"\n",
    "os.listdir(subfolder)"
   ]
  },
  {
   "cell_type": "code",
   "execution_count": null,
   "metadata": {},
   "outputs": [],
   "source": []
  },
  {
   "cell_type": "markdown",
   "metadata": {},
   "source": [
    "### >> Load data"
   ]
  },
  {
   "cell_type": "code",
   "execution_count": 2,
   "metadata": {},
   "outputs": [
    {
     "data": {
      "text/plain": [
       "(17936934, 8)"
      ]
     },
     "execution_count": 2,
     "metadata": {},
     "output_type": "execute_result"
    }
   ],
   "source": [
    "col_user = 'USER_ID'\n",
    "data = pd.read_csv(\n",
    "    \"{}/pageviews.zip\".format(subfolder), parse_dates=[\"FEC_EVENT\"], dtype=str\n",
    ").sort_values(\n",
    "    [col_user, \"FEC_EVENT\"]\n",
    ")\n",
    "data.shape"
   ]
  },
  {
   "cell_type": "code",
   "execution_count": 3,
   "metadata": {},
   "outputs": [
    {
     "data": {
      "text/plain": [
       "(4933420, 8)"
      ]
     },
     "execution_count": 3,
     "metadata": {},
     "output_type": "execute_result"
    }
   ],
   "source": [
    "comp = pd.read_csv(\n",
    "    \"{}/pageviews_complemento.zip\".format(subfolder), parse_dates=[\"FEC_EVENT\"], dtype=str\n",
    ").sort_values(\n",
    "    [col_user, \"FEC_EVENT\"]\n",
    ")\n",
    "comp.shape"
   ]
  },
  {
   "cell_type": "code",
   "execution_count": 4,
   "metadata": {},
   "outputs": [
    {
     "data": {
      "text/html": [
       "<div>\n",
       "<style scoped>\n",
       "    .dataframe tbody tr th:only-of-type {\n",
       "        vertical-align: middle;\n",
       "    }\n",
       "\n",
       "    .dataframe tbody tr th {\n",
       "        vertical-align: top;\n",
       "    }\n",
       "\n",
       "    .dataframe thead th {\n",
       "        text-align: right;\n",
       "    }\n",
       "</style>\n",
       "<table border=\"1\" class=\"dataframe\">\n",
       "  <thead>\n",
       "    <tr style=\"text-align: right;\">\n",
       "      <th></th>\n",
       "      <th>FEC_EVENT</th>\n",
       "      <th>PAGE</th>\n",
       "      <th>CONTENT_CATEGORY</th>\n",
       "      <th>CONTENT_CATEGORY_TOP</th>\n",
       "      <th>CONTENT_CATEGORY_BOTTOM</th>\n",
       "      <th>SITE_ID</th>\n",
       "      <th>ON_SITE_SEARCH_TERM</th>\n",
       "      <th>USER_ID</th>\n",
       "    </tr>\n",
       "  </thead>\n",
       "  <tbody>\n",
       "    <tr>\n",
       "      <th>284</th>\n",
       "      <td>2018-01-01 09:56:47</td>\n",
       "      <td>14</td>\n",
       "      <td>4</td>\n",
       "      <td>2</td>\n",
       "      <td>4</td>\n",
       "      <td>2</td>\n",
       "      <td>1</td>\n",
       "      <td>0</td>\n",
       "    </tr>\n",
       "    <tr>\n",
       "      <th>285</th>\n",
       "      <td>2018-01-01 09:57:19</td>\n",
       "      <td>14</td>\n",
       "      <td>4</td>\n",
       "      <td>2</td>\n",
       "      <td>4</td>\n",
       "      <td>2</td>\n",
       "      <td>1</td>\n",
       "      <td>0</td>\n",
       "    </tr>\n",
       "    <tr>\n",
       "      <th>286</th>\n",
       "      <td>2018-01-01 09:57:48</td>\n",
       "      <td>12</td>\n",
       "      <td>4</td>\n",
       "      <td>2</td>\n",
       "      <td>4</td>\n",
       "      <td>2</td>\n",
       "      <td>1</td>\n",
       "      <td>0</td>\n",
       "    </tr>\n",
       "    <tr>\n",
       "      <th>287</th>\n",
       "      <td>2018-01-01 09:57:48</td>\n",
       "      <td>10</td>\n",
       "      <td>4</td>\n",
       "      <td>2</td>\n",
       "      <td>4</td>\n",
       "      <td>2</td>\n",
       "      <td>1</td>\n",
       "      <td>0</td>\n",
       "    </tr>\n",
       "    <tr>\n",
       "      <th>288</th>\n",
       "      <td>2018-01-01 09:57:49</td>\n",
       "      <td>11</td>\n",
       "      <td>4</td>\n",
       "      <td>2</td>\n",
       "      <td>4</td>\n",
       "      <td>2</td>\n",
       "      <td>1</td>\n",
       "      <td>0</td>\n",
       "    </tr>\n",
       "  </tbody>\n",
       "</table>\n",
       "</div>"
      ],
      "text/plain": [
       "              FEC_EVENT PAGE CONTENT_CATEGORY CONTENT_CATEGORY_TOP  \\\n",
       "284 2018-01-01 09:56:47   14                4                    2   \n",
       "285 2018-01-01 09:57:19   14                4                    2   \n",
       "286 2018-01-01 09:57:48   12                4                    2   \n",
       "287 2018-01-01 09:57:48   10                4                    2   \n",
       "288 2018-01-01 09:57:49   11                4                    2   \n",
       "\n",
       "    CONTENT_CATEGORY_BOTTOM SITE_ID ON_SITE_SEARCH_TERM USER_ID  \n",
       "284                       4       2                   1       0  \n",
       "285                       4       2                   1       0  \n",
       "286                       4       2                   1       0  \n",
       "287                       4       2                   1       0  \n",
       "288                       4       2                   1       0  "
      ]
     },
     "execution_count": 4,
     "metadata": {},
     "output_type": "execute_result"
    }
   ],
   "source": [
    "data.head()"
   ]
  },
  {
   "cell_type": "code",
   "execution_count": 5,
   "metadata": {},
   "outputs": [
    {
     "data": {
      "text/html": [
       "<div>\n",
       "<style scoped>\n",
       "    .dataframe tbody tr th:only-of-type {\n",
       "        vertical-align: middle;\n",
       "    }\n",
       "\n",
       "    .dataframe tbody tr th {\n",
       "        vertical-align: top;\n",
       "    }\n",
       "\n",
       "    .dataframe thead th {\n",
       "        text-align: right;\n",
       "    }\n",
       "</style>\n",
       "<table border=\"1\" class=\"dataframe\">\n",
       "  <thead>\n",
       "    <tr style=\"text-align: right;\">\n",
       "      <th></th>\n",
       "      <th>PAGE</th>\n",
       "      <th>CONTENT_CATEGORY</th>\n",
       "      <th>CONTENT_CATEGORY_TOP</th>\n",
       "      <th>CONTENT_CATEGORY_BOTTOM</th>\n",
       "      <th>SITE_ID</th>\n",
       "      <th>ON_SITE_SEARCH_TERM</th>\n",
       "      <th>USER_ID</th>\n",
       "      <th>FEC_EVENT</th>\n",
       "    </tr>\n",
       "  </thead>\n",
       "  <tbody>\n",
       "    <tr>\n",
       "      <th>3136070</th>\n",
       "      <td>2</td>\n",
       "      <td>2</td>\n",
       "      <td>2</td>\n",
       "      <td>2</td>\n",
       "      <td>2</td>\n",
       "      <td>1</td>\n",
       "      <td>10000</td>\n",
       "      <td>2018-07-10 19:14:34</td>\n",
       "    </tr>\n",
       "    <tr>\n",
       "      <th>3136071</th>\n",
       "      <td>99</td>\n",
       "      <td>2</td>\n",
       "      <td>2</td>\n",
       "      <td>2</td>\n",
       "      <td>3</td>\n",
       "      <td>1</td>\n",
       "      <td>10000</td>\n",
       "      <td>2018-07-10 19:14:47</td>\n",
       "    </tr>\n",
       "    <tr>\n",
       "      <th>3136072</th>\n",
       "      <td>2</td>\n",
       "      <td>2</td>\n",
       "      <td>2</td>\n",
       "      <td>2</td>\n",
       "      <td>2</td>\n",
       "      <td>1</td>\n",
       "      <td>10000</td>\n",
       "      <td>2018-07-10 19:14:50</td>\n",
       "    </tr>\n",
       "    <tr>\n",
       "      <th>3136073</th>\n",
       "      <td>2</td>\n",
       "      <td>2</td>\n",
       "      <td>2</td>\n",
       "      <td>2</td>\n",
       "      <td>2</td>\n",
       "      <td>1</td>\n",
       "      <td>10000</td>\n",
       "      <td>2018-07-10 19:15:05</td>\n",
       "    </tr>\n",
       "    <tr>\n",
       "      <th>3136074</th>\n",
       "      <td>3</td>\n",
       "      <td>2</td>\n",
       "      <td>2</td>\n",
       "      <td>2</td>\n",
       "      <td>3</td>\n",
       "      <td>1</td>\n",
       "      <td>10000</td>\n",
       "      <td>2018-07-10 19:15:26</td>\n",
       "    </tr>\n",
       "  </tbody>\n",
       "</table>\n",
       "</div>"
      ],
      "text/plain": [
       "        PAGE CONTENT_CATEGORY CONTENT_CATEGORY_TOP CONTENT_CATEGORY_BOTTOM  \\\n",
       "3136070    2                2                    2                       2   \n",
       "3136071   99                2                    2                       2   \n",
       "3136072    2                2                    2                       2   \n",
       "3136073    2                2                    2                       2   \n",
       "3136074    3                2                    2                       2   \n",
       "\n",
       "        SITE_ID ON_SITE_SEARCH_TERM USER_ID           FEC_EVENT  \n",
       "3136070       2                   1   10000 2018-07-10 19:14:34  \n",
       "3136071       3                   1   10000 2018-07-10 19:14:47  \n",
       "3136072       2                   1   10000 2018-07-10 19:14:50  \n",
       "3136073       2                   1   10000 2018-07-10 19:15:05  \n",
       "3136074       3                   1   10000 2018-07-10 19:15:26  "
      ]
     },
     "execution_count": 5,
     "metadata": {},
     "output_type": "execute_result"
    }
   ],
   "source": [
    "comp.head()"
   ]
  },
  {
   "cell_type": "code",
   "execution_count": 6,
   "metadata": {},
   "outputs": [
    {
     "data": {
      "text/plain": [
       "(Timestamp('2018-01-01 00:09:17'), Timestamp('2018-12-31 23:59:59'))"
      ]
     },
     "execution_count": 6,
     "metadata": {},
     "output_type": "execute_result"
    }
   ],
   "source": [
    "data['FEC_EVENT'].min(), data['FEC_EVENT'].max()"
   ]
  },
  {
   "cell_type": "code",
   "execution_count": 7,
   "metadata": {},
   "outputs": [
    {
     "data": {
      "text/plain": [
       "(Timestamp('2018-07-01 00:01:07'), Timestamp('2018-10-31 23:59:57'))"
      ]
     },
     "execution_count": 7,
     "metadata": {},
     "output_type": "execute_result"
    }
   ],
   "source": [
    "comp['FEC_EVENT'].min(), comp['FEC_EVENT'].max()"
   ]
  },
  {
   "cell_type": "code",
   "execution_count": null,
   "metadata": {},
   "outputs": [],
   "source": []
  },
  {
   "cell_type": "markdown",
   "metadata": {},
   "source": [
    "### >> Review unicidad"
   ]
  },
  {
   "cell_type": "code",
   "execution_count": 8,
   "metadata": {},
   "outputs": [
    {
     "name": "stdout",
     "output_type": "stream",
     "text": [
      "FEC_EVENT (10496454,)\n",
      "PAGE (1725,)\n",
      "CONTENT_CATEGORY (65,)\n",
      "CONTENT_CATEGORY_TOP (13,)\n",
      "CONTENT_CATEGORY_BOTTOM (65,)\n",
      "SITE_ID (4,)\n",
      "ON_SITE_SEARCH_TERM (294,)\n",
      "USER_ID (11676,)\n",
      "////////////////////////////////////////////////////////////////////////////////////////////////////\n",
      "PAGE (1233,)\n",
      "CONTENT_CATEGORY (59,)\n",
      "CONTENT_CATEGORY_TOP (11,)\n",
      "CONTENT_CATEGORY_BOTTOM (59,)\n",
      "SITE_ID (4,)\n",
      "ON_SITE_SEARCH_TERM (1,)\n",
      "USER_ID (6661,)\n",
      "FEC_EVENT (3209918,)\n"
     ]
    }
   ],
   "source": [
    "for col in data.columns:\n",
    "    print(col, data[col].unique().shape)\n",
    "\n",
    "print(\"/\"*100)\n",
    "\n",
    "for col in comp.columns:\n",
    "    print(col, comp[col].unique().shape)"
   ]
  },
  {
   "cell_type": "code",
   "execution_count": 9,
   "metadata": {},
   "outputs": [
    {
     "data": {
      "text/plain": [
       "['FEC_EVENT',\n",
       " 'PAGE',\n",
       " 'CONTENT_CATEGORY',\n",
       " 'CONTENT_CATEGORY_TOP',\n",
       " 'CONTENT_CATEGORY_BOTTOM',\n",
       " 'SITE_ID',\n",
       " 'ON_SITE_SEARCH_TERM',\n",
       " 'USER_ID']"
      ]
     },
     "execution_count": 9,
     "metadata": {},
     "output_type": "execute_result"
    }
   ],
   "source": [
    "order_columns = list(data.columns)\n",
    "order_columns"
   ]
  },
  {
   "cell_type": "code",
   "execution_count": null,
   "metadata": {},
   "outputs": [],
   "source": []
  },
  {
   "cell_type": "markdown",
   "metadata": {},
   "source": [
    "### >> Union data"
   ]
  },
  {
   "cell_type": "code",
   "execution_count": 10,
   "metadata": {},
   "outputs": [
    {
     "name": "stdout",
     "output_type": "stream",
     "text": [
      "(22870354, 8)\n"
     ]
    },
    {
     "data": {
      "text/html": [
       "<div>\n",
       "<style scoped>\n",
       "    .dataframe tbody tr th:only-of-type {\n",
       "        vertical-align: middle;\n",
       "    }\n",
       "\n",
       "    .dataframe tbody tr th {\n",
       "        vertical-align: top;\n",
       "    }\n",
       "\n",
       "    .dataframe thead th {\n",
       "        text-align: right;\n",
       "    }\n",
       "</style>\n",
       "<table border=\"1\" class=\"dataframe\">\n",
       "  <thead>\n",
       "    <tr style=\"text-align: right;\">\n",
       "      <th></th>\n",
       "      <th>FEC_EVENT</th>\n",
       "      <th>PAGE</th>\n",
       "      <th>CONTENT_CATEGORY</th>\n",
       "      <th>CONTENT_CATEGORY_TOP</th>\n",
       "      <th>CONTENT_CATEGORY_BOTTOM</th>\n",
       "      <th>SITE_ID</th>\n",
       "      <th>ON_SITE_SEARCH_TERM</th>\n",
       "      <th>USER_ID</th>\n",
       "    </tr>\n",
       "  </thead>\n",
       "  <tbody>\n",
       "    <tr>\n",
       "      <th>284</th>\n",
       "      <td>2018-01-01 09:56:47</td>\n",
       "      <td>14</td>\n",
       "      <td>4</td>\n",
       "      <td>2</td>\n",
       "      <td>4</td>\n",
       "      <td>2</td>\n",
       "      <td>1</td>\n",
       "      <td>0</td>\n",
       "    </tr>\n",
       "    <tr>\n",
       "      <th>285</th>\n",
       "      <td>2018-01-01 09:57:19</td>\n",
       "      <td>14</td>\n",
       "      <td>4</td>\n",
       "      <td>2</td>\n",
       "      <td>4</td>\n",
       "      <td>2</td>\n",
       "      <td>1</td>\n",
       "      <td>0</td>\n",
       "    </tr>\n",
       "    <tr>\n",
       "      <th>286</th>\n",
       "      <td>2018-01-01 09:57:48</td>\n",
       "      <td>12</td>\n",
       "      <td>4</td>\n",
       "      <td>2</td>\n",
       "      <td>4</td>\n",
       "      <td>2</td>\n",
       "      <td>1</td>\n",
       "      <td>0</td>\n",
       "    </tr>\n",
       "    <tr>\n",
       "      <th>287</th>\n",
       "      <td>2018-01-01 09:57:48</td>\n",
       "      <td>10</td>\n",
       "      <td>4</td>\n",
       "      <td>2</td>\n",
       "      <td>4</td>\n",
       "      <td>2</td>\n",
       "      <td>1</td>\n",
       "      <td>0</td>\n",
       "    </tr>\n",
       "    <tr>\n",
       "      <th>288</th>\n",
       "      <td>2018-01-01 09:57:49</td>\n",
       "      <td>11</td>\n",
       "      <td>4</td>\n",
       "      <td>2</td>\n",
       "      <td>4</td>\n",
       "      <td>2</td>\n",
       "      <td>1</td>\n",
       "      <td>0</td>\n",
       "    </tr>\n",
       "  </tbody>\n",
       "</table>\n",
       "</div>"
      ],
      "text/plain": [
       "              FEC_EVENT PAGE CONTENT_CATEGORY CONTENT_CATEGORY_TOP  \\\n",
       "284 2018-01-01 09:56:47   14                4                    2   \n",
       "285 2018-01-01 09:57:19   14                4                    2   \n",
       "286 2018-01-01 09:57:48   12                4                    2   \n",
       "287 2018-01-01 09:57:48   10                4                    2   \n",
       "288 2018-01-01 09:57:49   11                4                    2   \n",
       "\n",
       "    CONTENT_CATEGORY_BOTTOM SITE_ID ON_SITE_SEARCH_TERM USER_ID  \n",
       "284                       4       2                   1       0  \n",
       "285                       4       2                   1       0  \n",
       "286                       4       2                   1       0  \n",
       "287                       4       2                   1       0  \n",
       "288                       4       2                   1       0  "
      ]
     },
     "execution_count": 10,
     "metadata": {},
     "output_type": "execute_result"
    }
   ],
   "source": [
    "data = pd.concat(\n",
    "    [data[order_columns], comp[order_columns]], axis=0\n",
    ")\n",
    "del comp\n",
    "print(data.shape)\n",
    "\n",
    "data.head()"
   ]
  },
  {
   "cell_type": "code",
   "execution_count": 11,
   "metadata": {},
   "outputs": [
    {
     "data": {
      "text/plain": [
       "FEC_EVENT                  datetime64[ns]\n",
       "PAGE                               object\n",
       "CONTENT_CATEGORY                   object\n",
       "CONTENT_CATEGORY_TOP               object\n",
       "CONTENT_CATEGORY_BOTTOM            object\n",
       "SITE_ID                            object\n",
       "ON_SITE_SEARCH_TERM                object\n",
       "USER_ID                            object\n",
       "dtype: object"
      ]
     },
     "execution_count": 11,
     "metadata": {},
     "output_type": "execute_result"
    }
   ],
   "source": [
    "data.dtypes"
   ]
  },
  {
   "cell_type": "code",
   "execution_count": 12,
   "metadata": {},
   "outputs": [
    {
     "data": {
      "text/plain": [
       "44"
      ]
     },
     "execution_count": 12,
     "metadata": {},
     "output_type": "execute_result"
    }
   ],
   "source": [
    "gc.collect()"
   ]
  },
  {
   "cell_type": "code",
   "execution_count": null,
   "metadata": {},
   "outputs": [],
   "source": []
  },
  {
   "cell_type": "code",
   "execution_count": 13,
   "metadata": {},
   "outputs": [
    {
     "data": {
      "text/plain": [
       "2     3776445\n",
       "3     3663187\n",
       "21     944796\n",
       "27     859865\n",
       "5      842710\n",
       "40     768472\n",
       "4      698399\n",
       "20     671358\n",
       "26     578360\n",
       "23     527174\n",
       "Name: PAGE, dtype: int64"
      ]
     },
     "execution_count": 13,
     "metadata": {},
     "output_type": "execute_result"
    }
   ],
   "source": [
    "data['PAGE'].value_counts().head(10)"
   ]
  },
  {
   "cell_type": "code",
   "execution_count": 26,
   "metadata": {},
   "outputs": [
    {
     "data": {
      "text/plain": [
       "<list_reverseiterator at 0x28a4973d700>"
      ]
     },
     "execution_count": 26,
     "metadata": {},
     "output_type": "execute_result"
    }
   ],
   "source": []
  },
  {
   "cell_type": "code",
   "execution_count": 27,
   "metadata": {},
   "outputs": [
    {
     "data": {
      "text/plain": [
       "<seaborn.axisgrid.FacetGrid at 0x289891d31f0>"
      ]
     },
     "execution_count": 27,
     "metadata": {},
     "output_type": "execute_result"
    },
    {
     "data": {
      "image/png": "[encoded data removed]",
      "text/plain": [
       "<Figure size 360x360 with 1 Axes>"
      ]
     },
     "metadata": {},
     "output_type": "display_data"
    }
   ],
   "source": [
    "sns.catplot(\n",
    "    x=\"PAGE\",\n",
    "    data=data[data['PAGE'].isin(list(data['PAGE'].value_counts().head(10).index))], \n",
    "    kind=\"count\",\n",
    "    order = data['PAGE'].value_counts().head(10).index,\n",
    "    palette=reversed(sns.color_palette('Blues_d'))#\"Blues_d\" #\"ch:s=.25,rot=-.25\"\n",
    ")"
   ]
  },
  {
   "cell_type": "code",
   "execution_count": 28,
   "metadata": {},
   "outputs": [
    {
     "data": {
      "text/plain": [
       "<seaborn.axisgrid.FacetGrid at 0x28a34da5a60>"
      ]
     },
     "execution_count": 28,
     "metadata": {},
     "output_type": "execute_result"
    },
    {
     "data": {
      "image/png": "[encoded data removed]",
      "text/plain": [
       "<Figure size 360x360 with 1 Axes>"
      ]
     },
     "metadata": {},
     "output_type": "display_data"
    }
   ],
   "source": [
    "col_ = 'CONTENT_CATEGORY'\n",
    "sns.catplot(\n",
    "    x=col_,\n",
    "    data=data[data[col_].isin(list(data[col_].value_counts().head(10).index))], \n",
    "    kind=\"count\",\n",
    "    order = data[col_].value_counts().head(10).index,\n",
    "    palette=reversed(sns.color_palette('Blues_d'))#\"Blues_d\" #\"ch:s=.25,rot=-.25\"\n",
    ")"
   ]
  },
  {
   "cell_type": "code",
   "execution_count": 29,
   "metadata": {},
   "outputs": [
    {
     "data": {
      "text/plain": [
       "<seaborn.axisgrid.FacetGrid at 0x28a62b3fc10>"
      ]
     },
     "execution_count": 29,
     "metadata": {},
     "output_type": "execute_result"
    },
    {
     "data": {
      "image/png": "[encoded data removed]",
      "text/plain": [
       "<Figure size 360x360 with 1 Axes>"
      ]
     },
     "metadata": {},
     "output_type": "display_data"
    }
   ],
   "source": [
    "col_ = 'CONTENT_CATEGORY_TOP'\n",
    "sns.catplot(\n",
    "    x=col_,\n",
    "    data=data[data[col_].isin(list(data[col_].value_counts().head(10).index))], \n",
    "    kind=\"count\",\n",
    "    order = data[col_].value_counts().head(10).index,\n",
    "    palette=reversed(sns.color_palette('Blues_d'))#\"Blues_d\" #\"ch:s=.25,rot=-.25\"\n",
    ")"
   ]
  },
  {
   "cell_type": "code",
   "execution_count": 30,
   "metadata": {},
   "outputs": [
    {
     "data": {
      "text/plain": [
       "<seaborn.axisgrid.FacetGrid at 0x28a4c440580>"
      ]
     },
     "execution_count": 30,
     "metadata": {},
     "output_type": "execute_result"
    },
    {
     "data": {
      "image/png": "[encoded data removed]",
      "text/plain": [
       "<Figure size 360x360 with 1 Axes>"
      ]
     },
     "metadata": {},
     "output_type": "display_data"
    }
   ],
   "source": [
    "col_ = 'SITE_ID'\n",
    "sns.catplot(\n",
    "    x=col_,\n",
    "    data=data[data[col_].isin(list(data[col_].value_counts().head(10).index))], \n",
    "    kind=\"count\",\n",
    "    order = data[col_].value_counts().head(10).index,\n",
    "    palette=reversed(sns.color_palette('Blues_d'))#\"Blues_d\" #\"ch:s=.25,rot=-.25\"\n",
    ")"
   ]
  },
  {
   "cell_type": "code",
   "execution_count": 23,
   "metadata": {},
   "outputs": [],
   "source": [
    "#sns.color_palette(\"ch:s=.25,rot=-.25\", as_cmap=True)"
   ]
  },
  {
   "cell_type": "code",
   "execution_count": 15,
   "metadata": {},
   "outputs": [
    {
     "data": {
      "text/plain": [
       "USER_ID\n",
       "11084    3\n",
       "11317    3\n",
       "11445    2\n",
       "11538    3\n",
       "11674    2\n",
       "Name: FEC_EVENT, dtype: int64"
      ]
     },
     "metadata": {},
     "output_type": "display_data"
    },
    {
     "name": "stdout",
     "output_type": "stream",
     "text": [
      "Wall time: 2.01 s\n"
     ]
    }
   ],
   "source": [
    "%%time\n",
    "serie_count = data.groupby(\n",
    "    by=[col_user]\n",
    ")['FEC_EVENT'].count()\n",
    "\n",
    "display(serie_count[serie_count <= 3])"
   ]
  },
  {
   "cell_type": "code",
   "execution_count": 31,
   "metadata": {},
   "outputs": [
    {
     "data": {
      "text/plain": [
       "FEC_EVENT                  datetime64[ns]\n",
       "PAGE                               object\n",
       "CONTENT_CATEGORY                   object\n",
       "CONTENT_CATEGORY_TOP               object\n",
       "CONTENT_CATEGORY_BOTTOM            object\n",
       "SITE_ID                            object\n",
       "ON_SITE_SEARCH_TERM                object\n",
       "USER_ID                            object\n",
       "dtype: object"
      ]
     },
     "metadata": {},
     "output_type": "display_data"
    }
   ],
   "source": [
    "display(data.dtypes)"
   ]
  },
  {
   "cell_type": "code",
   "execution_count": 32,
   "metadata": {},
   "outputs": [
    {
     "name": "stdout",
     "output_type": "stream",
     "text": [
      "FEC_EVENT (12397072,)\n",
      "PAGE (1733,)\n",
      "CONTENT_CATEGORY (65,)\n",
      "CONTENT_CATEGORY_TOP (13,)\n",
      "CONTENT_CATEGORY_BOTTOM (65,)\n",
      "SITE_ID (4,)\n",
      "ON_SITE_SEARCH_TERM (294,)\n",
      "USER_ID (11676,)\n"
     ]
    }
   ],
   "source": [
    "for col in data.columns:\n",
    "    print(col, data[col].unique().shape)"
   ]
  },
  {
   "cell_type": "raw",
   "metadata": {},
   "source": [
    "FEC_EVENT (10496454,)\n",
    "PAGE (1725,)\n",
    "CONTENT_CATEGORY (65,)\n",
    "CONTENT_CATEGORY_TOP (13,)\n",
    "CONTENT_CATEGORY_BOTTOM (65,)\n",
    "SITE_ID (4,)\n",
    "ON_SITE_SEARCH_TERM (294,)\n",
    "USER_ID (11676,)"
   ]
  },
  {
   "cell_type": "code",
   "execution_count": null,
   "metadata": {},
   "outputs": [],
   "source": [
    "#data['FEC_EVENT'].dt.day.hist()"
   ]
  },
  {
   "cell_type": "code",
   "execution_count": null,
   "metadata": {},
   "outputs": [],
   "source": [
    "#data['FEC_EVENT'].dt.hour.hist()"
   ]
  },
  {
   "cell_type": "code",
   "execution_count": null,
   "metadata": {},
   "outputs": [],
   "source": [
    "#data['FEC_EVENT'].dt.month.hist()"
   ]
  },
  {
   "cell_type": "code",
   "execution_count": 33,
   "metadata": {},
   "outputs": [],
   "source": [
    "def add_schedule_weekday(data):\n",
    "    data['weekday'] = data['FEC_EVENT'].dt.weekday\n",
    "    data['hour'] = data['FEC_EVENT'].dt.hour\n",
    "    data['day'] = data['FEC_EVENT'].dt.day\n",
    "    data['schedule'] = data['hour'].apply(get_schedule)\n",
    "    data['tipo_dias'] = data['day'].apply(get_day_cut)\n",
    "    data['month'] = data['FEC_EVENT'].dt.month\n",
    "    data['trimestre'] = data['month'].apply(get_trimestre)\n",
    "\n",
    "    for col in ['hour', 'day', 'month']:\n",
    "        if col in data.columns:\n",
    "            del data[col]\n",
    "    \n",
    "    return data"
   ]
  },
  {
   "cell_type": "code",
   "execution_count": 34,
   "metadata": {},
   "outputs": [
    {
     "data": {
      "text/plain": [
       "Index(['FEC_EVENT', 'PAGE', 'CONTENT_CATEGORY', 'CONTENT_CATEGORY_TOP',\n",
       "       'CONTENT_CATEGORY_BOTTOM', 'SITE_ID', 'ON_SITE_SEARCH_TERM', 'USER_ID',\n",
       "       'weekday', 'schedule', 'tipo_dias', 'trimestre'],\n",
       "      dtype='object')"
      ]
     },
     "execution_count": 34,
     "metadata": {},
     "output_type": "execute_result"
    }
   ],
   "source": [
    "data = add_schedule_weekday(data)\n",
    "data.columns"
   ]
  },
  {
   "cell_type": "code",
   "execution_count": 35,
   "metadata": {},
   "outputs": [
    {
     "data": {
      "text/plain": [
       "<seaborn.axisgrid.FacetGrid at 0x28a11221e20>"
      ]
     },
     "execution_count": 35,
     "metadata": {},
     "output_type": "execute_result"
    },
    {
     "data": {
      "image/png": "[encoded data removed]",
      "text/plain": [
       "<Figure size 360x360 with 1 Axes>"
      ]
     },
     "metadata": {},
     "output_type": "display_data"
    }
   ],
   "source": [
    "col_ = 'trimestre'\n",
    "sns.catplot(\n",
    "    x=col_,\n",
    "    data=data[data[col_].isin(list(data[col_].value_counts().head(10).index))], \n",
    "    kind=\"count\",\n",
    "    order = data[col_].value_counts().head(10).index,\n",
    "    palette=reversed(sns.color_palette('Blues_d'))#\"Blues_d\" #\"ch:s=.25,rot=-.25\"\n",
    ")"
   ]
  },
  {
   "cell_type": "code",
   "execution_count": null,
   "metadata": {},
   "outputs": [],
   "source": [
    "col_ = 'weekday'\n",
    "sns.catplot(\n",
    "    x=col_,\n",
    "    data=data[data[col_].isin(list(data[col_].value_counts().head(10).index))], \n",
    "    kind=\"count\",\n",
    "    order = data[col_].value_counts().head(10).index,\n",
    "    palette=reversed(sns.color_palette('Blues_d'))#\"Blues_d\" #\"ch:s=.25,rot=-.25\"\n",
    ")"
   ]
  },
  {
   "cell_type": "code",
   "execution_count": null,
   "metadata": {},
   "outputs": [],
   "source": [
    "col_ = 'tipo_dias'\n",
    "sns.catplot(\n",
    "    x=col_,\n",
    "    data=data[data[col_].isin(list(data[col_].value_counts().head(10).index))], \n",
    "    kind=\"count\",\n",
    "    order = data[col_].value_counts().head(10).index,\n",
    "    palette=reversed(sns.color_palette('Blues_d'))#\"Blues_d\" #\"ch:s=.25,rot=-.25\"\n",
    ")"
   ]
  },
  {
   "cell_type": "code",
   "execution_count": null,
   "metadata": {},
   "outputs": [],
   "source": []
  },
  {
   "cell_type": "code",
   "execution_count": null,
   "metadata": {},
   "outputs": [],
   "source": []
  },
  {
   "cell_type": "code",
   "execution_count": null,
   "metadata": {},
   "outputs": [],
   "source": []
  },
  {
   "cell_type": "code",
   "execution_count": null,
   "metadata": {},
   "outputs": [],
   "source": [
    "data = data.sort_values(by=['FEC_EVENT'], ascending=True)\n",
    "data.head()"
   ]
  },
  {
   "cell_type": "code",
   "execution_count": null,
   "metadata": {},
   "outputs": [],
   "source": [
    "data.tail()"
   ]
  },
  {
   "cell_type": "code",
   "execution_count": null,
   "metadata": {},
   "outputs": [],
   "source": [
    "data.dtypes"
   ]
  },
  {
   "cell_type": "code",
   "execution_count": null,
   "metadata": {},
   "outputs": [],
   "source": [
    "def add_previous(userx):\n",
    "    historia = 2\n",
    "    \n",
    "    data_userx = data[data[col_user] == userx].reset_index(drop=True)\n",
    "    shape_data = data_userx.shape[0]\n",
    "    \n",
    "    data_userx['PAGE_PREVIOUS'] = data_userx['PAGE'].shift(1).fillna('none')\n",
    "    #data_userx['PAGE_PRE_PREVIOUS'] = data_userx['PAGE'].shift(2).fillna('none')\n",
    "    \n",
    "    #data_userx = data_userx.drop([0, 1],axis=0)\n",
    "    #data_userx['PAGE'] =  data_userx['PAGE_PRE_PREVIOUS'].astype(str) + '_' + data_userx['PAGE_PREVIOUS'].astype(str) + '_' + data_userx['PAGE'].astype(str)\n",
    "    data_userx['PAGE'] =  data_userx['PAGE_PREVIOUS'].astype(str) + '_' + data_userx['PAGE'].astype(str)\n",
    "    del data_userx['PAGE_PREVIOUS']\n",
    "    #del data_userx['PAGE_PRE_PREVIOUS']\n",
    "    \n",
    "    print(userx, end=' ')     \n",
    "    return data_userx"
   ]
  },
  {
   "cell_type": "code",
   "execution_count": null,
   "metadata": {},
   "outputs": [],
   "source": [
    "usuarios = list(data[col_user].unique())\n",
    "print(len(usuarios))"
   ]
  },
  {
   "cell_type": "code",
   "execution_count": null,
   "metadata": {},
   "outputs": [],
   "source": [
    "#ventana = 100\n",
    "\n",
    "#for posicion in range(ventana, len(usuarios) + ventana, ventana):\n",
    "#    print(posicion-ventana, posicion)   "
   ]
  },
  {
   "cell_type": "code",
   "execution_count": null,
   "metadata": {},
   "outputs": [],
   "source": [
    "%%time\n",
    "from multiprocessing.dummy import Pool as ThreadPool\n",
    "\n",
    "new_data = []\n",
    "ventana = 500\n",
    "\n",
    "for posicion in range(ventana, len(usuarios) + ventana, ventana):\n",
    "    \n",
    "    recolector = []\n",
    "    pool = ThreadPool(10)     \n",
    "    for respon in pool.map(\n",
    "                     add_previous, \n",
    "                     usuarios[posicion-ventana:posicion]):\n",
    "        recolector.append(respon)\n",
    "    \n",
    "    pool.close() \n",
    "    pool.join()\n",
    "    \n",
    "    new_data.extend(recolector)\n",
    "    print('recolector: ', len(new_data))"
   ]
  },
  {
   "cell_type": "code",
   "execution_count": null,
   "metadata": {},
   "outputs": [],
   "source": []
  },
  {
   "cell_type": "code",
   "execution_count": null,
   "metadata": {},
   "outputs": [],
   "source": [
    "data = pd.concat(new_data, axis=0)\n",
    "del new_data\n",
    "print(data.shape)\n",
    "gc.collect()"
   ]
  },
  {
   "cell_type": "code",
   "execution_count": null,
   "metadata": {},
   "outputs": [],
   "source": []
  },
  {
   "cell_type": "code",
   "execution_count": null,
   "metadata": {},
   "outputs": [],
   "source": []
  },
  {
   "cell_type": "code",
   "execution_count": null,
   "metadata": {},
   "outputs": [],
   "source": [
    "(data['CONTENT_CATEGORY'] == data['CONTENT_CATEGORY_BOTTOM']).all()"
   ]
  },
  {
   "cell_type": "code",
   "execution_count": null,
   "metadata": {},
   "outputs": [],
   "source": [
    "del data['CONTENT_CATEGORY_BOTTOM']"
   ]
  },
  {
   "cell_type": "code",
   "execution_count": null,
   "metadata": {},
   "outputs": [],
   "source": [
    "data['CONTENT_CATEGORY'] =  data['CONTENT_CATEGORY'] + '_' + data['CONTENT_CATEGORY_TOP']\n",
    "data['CONTENT_CATEGORY'].head()"
   ]
  },
  {
   "cell_type": "code",
   "execution_count": null,
   "metadata": {},
   "outputs": [],
   "source": [
    "del data['CONTENT_CATEGORY_TOP']"
   ]
  },
  {
   "cell_type": "code",
   "execution_count": null,
   "metadata": {},
   "outputs": [],
   "source": [
    "data = data.sort_values(by=['FEC_EVENT'], ascending=True)\n",
    "data.head()"
   ]
  },
  {
   "cell_type": "code",
   "execution_count": null,
   "metadata": {},
   "outputs": [],
   "source": [
    "data.tail()"
   ]
  },
  {
   "cell_type": "code",
   "execution_count": null,
   "metadata": {},
   "outputs": [],
   "source": [
    "count = data['PAGE'].value_counts()\n",
    "count"
   ]
  },
  {
   "cell_type": "code",
   "execution_count": null,
   "metadata": {},
   "outputs": [],
   "source": [
    "#help(data['weekday'].plot)"
   ]
  },
  {
   "cell_type": "code",
   "execution_count": null,
   "metadata": {},
   "outputs": [],
   "source": [
    "data['weekday'].plot(kind='bar')"
   ]
  },
  {
   "cell_type": "code",
   "execution_count": null,
   "metadata": {},
   "outputs": [],
   "source": [
    "count[count <= 2]"
   ]
  },
  {
   "cell_type": "code",
   "execution_count": null,
   "metadata": {},
   "outputs": [],
   "source": []
  },
  {
   "cell_type": "code",
   "execution_count": null,
   "metadata": {},
   "outputs": [],
   "source": [
    "data.to_csv('data/pageview_with_previous_2.csv', index=False)"
   ]
  },
  {
   "cell_type": "code",
   "execution_count": null,
   "metadata": {},
   "outputs": [],
   "source": [
    "\"\"\"\n",
    "Only 3 hiatorical:   11084\n",
    "Only 3 hiatorical:   11317\n",
    "Only 2 hiatorical:   11445\n",
    "Only 3 hiatorical:   11538\n",
    "Only 2 hiatorical:   11674\n",
    "\n",
    "\"\"\""
   ]
  }
 ],
 "metadata": {
  "kernelspec": {
   "display_name": "Python 3",
   "language": "python",
   "name": "python3"
  },
  "language_info": {
   "codemirror_mode": {
    "name": "ipython",
    "version": 3
   },
   "file_extension": ".py",
   "mimetype": "text/x-python",
   "name": "python",
   "nbconvert_exporter": "python",
   "pygments_lexer": "ipython3",
   "version": "3.8.5"
  }
 },
 "nbformat": 4,
 "nbformat_minor": 4
}
