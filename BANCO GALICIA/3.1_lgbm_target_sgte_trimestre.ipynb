{
 "cells": [
  {
   "cell_type": "code",
   "execution_count": 1,
   "id": "c2f1e6c7-0a62-49be-8a71-7d898f224d24",
   "metadata": {},
   "outputs": [
    {
     "data": {
      "text/plain": [
       "['.ipynb_checkpoints',\n",
       " 'CONTENT_CATEGORY.zip',\n",
       " 'CONTENT_CATEGORY_BOTTOM.zip',\n",
       " 'CONTENT_CATEGORY_TOP.zip',\n",
       " 'conversiones.zip',\n",
       " 'data.zip',\n",
       " 'data2.zip',\n",
       " 'device_data.zip',\n",
       " 'PAGE.zip',\n",
       " 'pageviews.zip',\n",
       " 'pageviews_complemento.zip',\n",
       " 'pageview_with_previous_2.csv',\n",
       " 'sampleSubmission.zip',\n",
       " 'SITE_ID.zip']"
      ]
     },
     "execution_count": 1,
     "metadata": {},
     "output_type": "execute_result"
    }
   ],
   "source": [
    "# Nativos\n",
    "import random as rn\n",
    "import os\n",
    "import sys\n",
    "import gc\n",
    "import json\n",
    "\n",
    "#calculo\n",
    "import numpy as np\n",
    "import pandas as pd\n",
    "import scipy as sp\n",
    "\n",
    "#grafico\n",
    "import matplotlib.pyplot as plt\n",
    "import seaborn as sns\n",
    "from IPython.display import display\n",
    "%matplotlib inline\n",
    "sns.set(style=\"whitegrid\")\n",
    "\n",
    "#warning ignore future\n",
    "import warnings\n",
    "# warnings.simplefilter(action='ignore', category=FutureWarning)\n",
    "warnings.filterwarnings(\"ignore\")\n",
    "gc.collect()\n",
    "\n",
    "BASE_DIR = os.path.dirname(os.getcwd())\n",
    "if BASE_DIR not in sys.path: sys.path.append(BASE_DIR)\n",
    "\n",
    "from utils import *\n",
    "#from graphs import *\n",
    "\n",
    "SEED = 29082013\n",
    "os.environ['PYTHONHASHSEED']=str(SEED)\n",
    "np.random.seed(SEED)\n",
    "rn.seed(SEED)\n",
    "\n",
    "subfolder = \"data\"\n",
    "os.listdir(subfolder)"
   ]
  },
  {
   "cell_type": "code",
   "execution_count": 2,
   "id": "81bf48bc-ddc8-472e-97f2-af9fe8c20389",
   "metadata": {},
   "outputs": [
    {
     "name": "stdout",
     "output_type": "stream",
     "text": [
      "(44924, 4079)\n"
     ]
    },
    {
     "data": {
      "text/html": [
       "<div>\n",
       "<style scoped>\n",
       "    .dataframe tbody tr th:only-of-type {\n",
       "        vertical-align: middle;\n",
       "    }\n",
       "\n",
       "    .dataframe tbody tr th {\n",
       "        vertical-align: top;\n",
       "    }\n",
       "\n",
       "    .dataframe thead th {\n",
       "        text-align: right;\n",
       "    }\n",
       "</style>\n",
       "<table border=\"1\" class=\"dataframe\">\n",
       "  <thead>\n",
       "    <tr style=\"text-align: right;\">\n",
       "      <th></th>\n",
       "      <th>trimestre</th>\n",
       "      <th>USER_ID</th>\n",
       "      <th>1000_1000</th>\n",
       "      <th>1000_2</th>\n",
       "      <th>1000_40</th>\n",
       "      <th>1000_611</th>\n",
       "      <th>100_2</th>\n",
       "      <th>100_40</th>\n",
       "      <th>102_154</th>\n",
       "      <th>102_2</th>\n",
       "      <th>...</th>\n",
       "      <th>none_2</th>\n",
       "      <th>none_202</th>\n",
       "      <th>none_203</th>\n",
       "      <th>none_268</th>\n",
       "      <th>none_369</th>\n",
       "      <th>none_40</th>\n",
       "      <th>none_45</th>\n",
       "      <th>none_5</th>\n",
       "      <th>none_85</th>\n",
       "      <th>none_9</th>\n",
       "    </tr>\n",
       "  </thead>\n",
       "  <tbody>\n",
       "    <tr>\n",
       "      <th>0</th>\n",
       "      <td>1</td>\n",
       "      <td>0</td>\n",
       "      <td>0</td>\n",
       "      <td>0</td>\n",
       "      <td>0</td>\n",
       "      <td>0</td>\n",
       "      <td>0</td>\n",
       "      <td>0</td>\n",
       "      <td>0</td>\n",
       "      <td>0</td>\n",
       "      <td>...</td>\n",
       "      <td>0</td>\n",
       "      <td>0</td>\n",
       "      <td>0</td>\n",
       "      <td>0</td>\n",
       "      <td>0</td>\n",
       "      <td>0</td>\n",
       "      <td>0</td>\n",
       "      <td>0</td>\n",
       "      <td>0</td>\n",
       "      <td>0</td>\n",
       "    </tr>\n",
       "    <tr>\n",
       "      <th>1</th>\n",
       "      <td>1</td>\n",
       "      <td>1</td>\n",
       "      <td>0</td>\n",
       "      <td>0</td>\n",
       "      <td>0</td>\n",
       "      <td>0</td>\n",
       "      <td>0</td>\n",
       "      <td>0</td>\n",
       "      <td>0</td>\n",
       "      <td>0</td>\n",
       "      <td>...</td>\n",
       "      <td>0</td>\n",
       "      <td>0</td>\n",
       "      <td>0</td>\n",
       "      <td>0</td>\n",
       "      <td>0</td>\n",
       "      <td>0</td>\n",
       "      <td>0</td>\n",
       "      <td>0</td>\n",
       "      <td>0</td>\n",
       "      <td>0</td>\n",
       "    </tr>\n",
       "    <tr>\n",
       "      <th>2</th>\n",
       "      <td>1</td>\n",
       "      <td>2</td>\n",
       "      <td>0</td>\n",
       "      <td>0</td>\n",
       "      <td>0</td>\n",
       "      <td>0</td>\n",
       "      <td>0</td>\n",
       "      <td>0</td>\n",
       "      <td>0</td>\n",
       "      <td>0</td>\n",
       "      <td>...</td>\n",
       "      <td>0</td>\n",
       "      <td>0</td>\n",
       "      <td>0</td>\n",
       "      <td>0</td>\n",
       "      <td>0</td>\n",
       "      <td>0</td>\n",
       "      <td>0</td>\n",
       "      <td>0</td>\n",
       "      <td>0</td>\n",
       "      <td>0</td>\n",
       "    </tr>\n",
       "    <tr>\n",
       "      <th>3</th>\n",
       "      <td>1</td>\n",
       "      <td>3</td>\n",
       "      <td>0</td>\n",
       "      <td>0</td>\n",
       "      <td>0</td>\n",
       "      <td>0</td>\n",
       "      <td>0</td>\n",
       "      <td>0</td>\n",
       "      <td>0</td>\n",
       "      <td>0</td>\n",
       "      <td>...</td>\n",
       "      <td>0</td>\n",
       "      <td>0</td>\n",
       "      <td>0</td>\n",
       "      <td>0</td>\n",
       "      <td>0</td>\n",
       "      <td>0</td>\n",
       "      <td>0</td>\n",
       "      <td>0</td>\n",
       "      <td>0</td>\n",
       "      <td>0</td>\n",
       "    </tr>\n",
       "    <tr>\n",
       "      <th>4</th>\n",
       "      <td>1</td>\n",
       "      <td>4</td>\n",
       "      <td>0</td>\n",
       "      <td>0</td>\n",
       "      <td>0</td>\n",
       "      <td>0</td>\n",
       "      <td>0</td>\n",
       "      <td>0</td>\n",
       "      <td>5</td>\n",
       "      <td>0</td>\n",
       "      <td>...</td>\n",
       "      <td>1</td>\n",
       "      <td>0</td>\n",
       "      <td>0</td>\n",
       "      <td>0</td>\n",
       "      <td>0</td>\n",
       "      <td>0</td>\n",
       "      <td>0</td>\n",
       "      <td>0</td>\n",
       "      <td>0</td>\n",
       "      <td>0</td>\n",
       "    </tr>\n",
       "  </tbody>\n",
       "</table>\n",
       "<p>5 rows × 4079 columns</p>\n",
       "</div>"
      ],
      "text/plain": [
       "   trimestre  USER_ID  1000_1000  1000_2  1000_40  1000_611  100_2  100_40  \\\n",
       "0          1        0          0       0        0         0      0       0   \n",
       "1          1        1          0       0        0         0      0       0   \n",
       "2          1        2          0       0        0         0      0       0   \n",
       "3          1        3          0       0        0         0      0       0   \n",
       "4          1        4          0       0        0         0      0       0   \n",
       "\n",
       "   102_154  102_2  ...  none_2  none_202  none_203  none_268  none_369  \\\n",
       "0        0      0  ...       0         0         0         0         0   \n",
       "1        0      0  ...       0         0         0         0         0   \n",
       "2        0      0  ...       0         0         0         0         0   \n",
       "3        0      0  ...       0         0         0         0         0   \n",
       "4        5      0  ...       1         0         0         0         0   \n",
       "\n",
       "   none_40  none_45  none_5  none_85  none_9  \n",
       "0        0        0       0        0       0  \n",
       "1        0        0       0        0       0  \n",
       "2        0        0       0        0       0  \n",
       "3        0        0       0        0       0  \n",
       "4        0        0       0        0       0  \n",
       "\n",
       "[5 rows x 4079 columns]"
      ]
     },
     "execution_count": 2,
     "metadata": {},
     "output_type": "execute_result"
    }
   ],
   "source": [
    "pageview = pd.read_csv('pageview_trimestral.csv')\n",
    "print(pageview.shape)\n",
    "\n",
    "pageview.head()"
   ]
  },
  {
   "cell_type": "code",
   "execution_count": 3,
   "id": "7652dc04-8e09-4d8d-910a-5074f74fe2a3",
   "metadata": {},
   "outputs": [
    {
     "data": {
      "text/plain": [
       "4"
      ]
     },
     "execution_count": 3,
     "metadata": {},
     "output_type": "execute_result"
    }
   ],
   "source": [
    "with open('convertions.json', 'r') as outfile_names:\n",
    "    dict_conversion = json.load(outfile_names)\n",
    "\n",
    "len(dict_conversion)"
   ]
  },
  {
   "cell_type": "code",
   "execution_count": 4,
   "id": "2564a035-7a29-465b-9f1b-2643b1338874",
   "metadata": {},
   "outputs": [
    {
     "name": "stdout",
     "output_type": "stream",
     "text": [
      "1 246\n",
      "2 374\n",
      "3 392\n",
      "4 391\n"
     ]
    }
   ],
   "source": [
    "for trim in pageview['trimestre'].unique():\n",
    "    print(trim, len(dict_conversion[str(trim)]))"
   ]
  },
  {
   "cell_type": "code",
   "execution_count": 5,
   "id": "ef62dc22-8b00-4576-8bbf-dae85afeb2e3",
   "metadata": {},
   "outputs": [
    {
     "name": "stdout",
     "output_type": "stream",
     "text": [
      "1 374\n",
      "2 392\n",
      "3 391\n",
      "4 0\n"
     ]
    }
   ],
   "source": [
    "for trim in pageview['trimestre'].unique():\n",
    "    print(\n",
    "        trim, \n",
    "        len(dict_conversion.get(str(trim + 1), []))\n",
    "    )"
   ]
  },
  {
   "cell_type": "code",
   "execution_count": 6,
   "id": "cc206b63-2557-4700-b76b-73b628276b33",
   "metadata": {},
   "outputs": [
    {
     "data": {
      "text/html": [
       "<div>\n",
       "<style scoped>\n",
       "    .dataframe tbody tr th:only-of-type {\n",
       "        vertical-align: middle;\n",
       "    }\n",
       "\n",
       "    .dataframe tbody tr th {\n",
       "        vertical-align: top;\n",
       "    }\n",
       "\n",
       "    .dataframe thead th {\n",
       "        text-align: right;\n",
       "    }\n",
       "</style>\n",
       "<table border=\"1\" class=\"dataframe\">\n",
       "  <thead>\n",
       "    <tr style=\"text-align: right;\">\n",
       "      <th></th>\n",
       "      <th>trimestre</th>\n",
       "      <th>USER_ID</th>\n",
       "      <th>1000_1000</th>\n",
       "      <th>1000_2</th>\n",
       "      <th>1000_40</th>\n",
       "      <th>1000_611</th>\n",
       "      <th>100_2</th>\n",
       "      <th>100_40</th>\n",
       "      <th>102_154</th>\n",
       "      <th>102_2</th>\n",
       "      <th>...</th>\n",
       "      <th>none_202</th>\n",
       "      <th>none_203</th>\n",
       "      <th>none_268</th>\n",
       "      <th>none_369</th>\n",
       "      <th>none_40</th>\n",
       "      <th>none_45</th>\n",
       "      <th>none_5</th>\n",
       "      <th>none_85</th>\n",
       "      <th>none_9</th>\n",
       "      <th>hizo_conversion_este_mes</th>\n",
       "    </tr>\n",
       "  </thead>\n",
       "  <tbody>\n",
       "    <tr>\n",
       "      <th>0</th>\n",
       "      <td>1</td>\n",
       "      <td>0</td>\n",
       "      <td>0</td>\n",
       "      <td>0</td>\n",
       "      <td>0</td>\n",
       "      <td>0</td>\n",
       "      <td>0</td>\n",
       "      <td>0</td>\n",
       "      <td>0</td>\n",
       "      <td>0</td>\n",
       "      <td>...</td>\n",
       "      <td>0</td>\n",
       "      <td>0</td>\n",
       "      <td>0</td>\n",
       "      <td>0</td>\n",
       "      <td>0</td>\n",
       "      <td>0</td>\n",
       "      <td>0</td>\n",
       "      <td>0</td>\n",
       "      <td>0</td>\n",
       "      <td>0</td>\n",
       "    </tr>\n",
       "    <tr>\n",
       "      <th>1</th>\n",
       "      <td>1</td>\n",
       "      <td>1</td>\n",
       "      <td>0</td>\n",
       "      <td>0</td>\n",
       "      <td>0</td>\n",
       "      <td>0</td>\n",
       "      <td>0</td>\n",
       "      <td>0</td>\n",
       "      <td>0</td>\n",
       "      <td>0</td>\n",
       "      <td>...</td>\n",
       "      <td>0</td>\n",
       "      <td>0</td>\n",
       "      <td>0</td>\n",
       "      <td>0</td>\n",
       "      <td>0</td>\n",
       "      <td>0</td>\n",
       "      <td>0</td>\n",
       "      <td>0</td>\n",
       "      <td>0</td>\n",
       "      <td>0</td>\n",
       "    </tr>\n",
       "    <tr>\n",
       "      <th>2</th>\n",
       "      <td>1</td>\n",
       "      <td>2</td>\n",
       "      <td>0</td>\n",
       "      <td>0</td>\n",
       "      <td>0</td>\n",
       "      <td>0</td>\n",
       "      <td>0</td>\n",
       "      <td>0</td>\n",
       "      <td>0</td>\n",
       "      <td>0</td>\n",
       "      <td>...</td>\n",
       "      <td>0</td>\n",
       "      <td>0</td>\n",
       "      <td>0</td>\n",
       "      <td>0</td>\n",
       "      <td>0</td>\n",
       "      <td>0</td>\n",
       "      <td>0</td>\n",
       "      <td>0</td>\n",
       "      <td>0</td>\n",
       "      <td>0</td>\n",
       "    </tr>\n",
       "    <tr>\n",
       "      <th>3</th>\n",
       "      <td>1</td>\n",
       "      <td>3</td>\n",
       "      <td>0</td>\n",
       "      <td>0</td>\n",
       "      <td>0</td>\n",
       "      <td>0</td>\n",
       "      <td>0</td>\n",
       "      <td>0</td>\n",
       "      <td>0</td>\n",
       "      <td>0</td>\n",
       "      <td>...</td>\n",
       "      <td>0</td>\n",
       "      <td>0</td>\n",
       "      <td>0</td>\n",
       "      <td>0</td>\n",
       "      <td>0</td>\n",
       "      <td>0</td>\n",
       "      <td>0</td>\n",
       "      <td>0</td>\n",
       "      <td>0</td>\n",
       "      <td>0</td>\n",
       "    </tr>\n",
       "    <tr>\n",
       "      <th>4</th>\n",
       "      <td>1</td>\n",
       "      <td>4</td>\n",
       "      <td>0</td>\n",
       "      <td>0</td>\n",
       "      <td>0</td>\n",
       "      <td>0</td>\n",
       "      <td>0</td>\n",
       "      <td>0</td>\n",
       "      <td>5</td>\n",
       "      <td>0</td>\n",
       "      <td>...</td>\n",
       "      <td>0</td>\n",
       "      <td>0</td>\n",
       "      <td>0</td>\n",
       "      <td>0</td>\n",
       "      <td>0</td>\n",
       "      <td>0</td>\n",
       "      <td>0</td>\n",
       "      <td>0</td>\n",
       "      <td>0</td>\n",
       "      <td>0</td>\n",
       "    </tr>\n",
       "  </tbody>\n",
       "</table>\n",
       "<p>5 rows × 4080 columns</p>\n",
       "</div>"
      ],
      "text/plain": [
       "   trimestre  USER_ID  1000_1000  1000_2  1000_40  1000_611  100_2  100_40  \\\n",
       "0          1        0          0       0        0         0      0       0   \n",
       "1          1        1          0       0        0         0      0       0   \n",
       "2          1        2          0       0        0         0      0       0   \n",
       "3          1        3          0       0        0         0      0       0   \n",
       "4          1        4          0       0        0         0      0       0   \n",
       "\n",
       "   102_154  102_2  ...  none_202  none_203  none_268  none_369  none_40  \\\n",
       "0        0      0  ...         0         0         0         0        0   \n",
       "1        0      0  ...         0         0         0         0        0   \n",
       "2        0      0  ...         0         0         0         0        0   \n",
       "3        0      0  ...         0         0         0         0        0   \n",
       "4        5      0  ...         0         0         0         0        0   \n",
       "\n",
       "   none_45  none_5  none_85  none_9  hizo_conversion_este_mes  \n",
       "0        0       0        0       0                         0  \n",
       "1        0       0        0       0                         0  \n",
       "2        0       0        0       0                         0  \n",
       "3        0       0        0       0                         0  \n",
       "4        0       0        0       0                         0  \n",
       "\n",
       "[5 rows x 4080 columns]"
      ]
     },
     "execution_count": 6,
     "metadata": {},
     "output_type": "execute_result"
    }
   ],
   "source": [
    "pageview['hizo_conversion_este_mes'] = pageview[['trimestre', 'USER_ID']].apply(\n",
    "    lambda _: _[1] in dict_conversion.get(str(_[0]), []), axis=1\n",
    ").astype(int)\n",
    "\n",
    "pageview.head()"
   ]
  },
  {
   "cell_type": "code",
   "execution_count": 7,
   "id": "91b27fed-7c7d-4375-b74d-7516886f619c",
   "metadata": {},
   "outputs": [
    {
     "data": {
      "text/html": [
       "<div>\n",
       "<style scoped>\n",
       "    .dataframe tbody tr th:only-of-type {\n",
       "        vertical-align: middle;\n",
       "    }\n",
       "\n",
       "    .dataframe tbody tr th {\n",
       "        vertical-align: top;\n",
       "    }\n",
       "\n",
       "    .dataframe thead th {\n",
       "        text-align: right;\n",
       "    }\n",
       "</style>\n",
       "<table border=\"1\" class=\"dataframe\">\n",
       "  <thead>\n",
       "    <tr style=\"text-align: right;\">\n",
       "      <th></th>\n",
       "      <th>trimestre</th>\n",
       "      <th>USER_ID</th>\n",
       "      <th>1000_1000</th>\n",
       "      <th>1000_2</th>\n",
       "      <th>1000_40</th>\n",
       "      <th>1000_611</th>\n",
       "      <th>100_2</th>\n",
       "      <th>100_40</th>\n",
       "      <th>102_154</th>\n",
       "      <th>102_2</th>\n",
       "      <th>...</th>\n",
       "      <th>none_203</th>\n",
       "      <th>none_268</th>\n",
       "      <th>none_369</th>\n",
       "      <th>none_40</th>\n",
       "      <th>none_45</th>\n",
       "      <th>none_5</th>\n",
       "      <th>none_85</th>\n",
       "      <th>none_9</th>\n",
       "      <th>hizo_conversion_este_mes</th>\n",
       "      <th>convertion</th>\n",
       "    </tr>\n",
       "  </thead>\n",
       "  <tbody>\n",
       "    <tr>\n",
       "      <th>0</th>\n",
       "      <td>1</td>\n",
       "      <td>0</td>\n",
       "      <td>0</td>\n",
       "      <td>0</td>\n",
       "      <td>0</td>\n",
       "      <td>0</td>\n",
       "      <td>0</td>\n",
       "      <td>0</td>\n",
       "      <td>0</td>\n",
       "      <td>0</td>\n",
       "      <td>...</td>\n",
       "      <td>0</td>\n",
       "      <td>0</td>\n",
       "      <td>0</td>\n",
       "      <td>0</td>\n",
       "      <td>0</td>\n",
       "      <td>0</td>\n",
       "      <td>0</td>\n",
       "      <td>0</td>\n",
       "      <td>0</td>\n",
       "      <td>0</td>\n",
       "    </tr>\n",
       "    <tr>\n",
       "      <th>1</th>\n",
       "      <td>1</td>\n",
       "      <td>1</td>\n",
       "      <td>0</td>\n",
       "      <td>0</td>\n",
       "      <td>0</td>\n",
       "      <td>0</td>\n",
       "      <td>0</td>\n",
       "      <td>0</td>\n",
       "      <td>0</td>\n",
       "      <td>0</td>\n",
       "      <td>...</td>\n",
       "      <td>0</td>\n",
       "      <td>0</td>\n",
       "      <td>0</td>\n",
       "      <td>0</td>\n",
       "      <td>0</td>\n",
       "      <td>0</td>\n",
       "      <td>0</td>\n",
       "      <td>0</td>\n",
       "      <td>0</td>\n",
       "      <td>0</td>\n",
       "    </tr>\n",
       "    <tr>\n",
       "      <th>2</th>\n",
       "      <td>1</td>\n",
       "      <td>2</td>\n",
       "      <td>0</td>\n",
       "      <td>0</td>\n",
       "      <td>0</td>\n",
       "      <td>0</td>\n",
       "      <td>0</td>\n",
       "      <td>0</td>\n",
       "      <td>0</td>\n",
       "      <td>0</td>\n",
       "      <td>...</td>\n",
       "      <td>0</td>\n",
       "      <td>0</td>\n",
       "      <td>0</td>\n",
       "      <td>0</td>\n",
       "      <td>0</td>\n",
       "      <td>0</td>\n",
       "      <td>0</td>\n",
       "      <td>0</td>\n",
       "      <td>0</td>\n",
       "      <td>0</td>\n",
       "    </tr>\n",
       "    <tr>\n",
       "      <th>3</th>\n",
       "      <td>1</td>\n",
       "      <td>3</td>\n",
       "      <td>0</td>\n",
       "      <td>0</td>\n",
       "      <td>0</td>\n",
       "      <td>0</td>\n",
       "      <td>0</td>\n",
       "      <td>0</td>\n",
       "      <td>0</td>\n",
       "      <td>0</td>\n",
       "      <td>...</td>\n",
       "      <td>0</td>\n",
       "      <td>0</td>\n",
       "      <td>0</td>\n",
       "      <td>0</td>\n",
       "      <td>0</td>\n",
       "      <td>0</td>\n",
       "      <td>0</td>\n",
       "      <td>0</td>\n",
       "      <td>0</td>\n",
       "      <td>0</td>\n",
       "    </tr>\n",
       "    <tr>\n",
       "      <th>4</th>\n",
       "      <td>1</td>\n",
       "      <td>4</td>\n",
       "      <td>0</td>\n",
       "      <td>0</td>\n",
       "      <td>0</td>\n",
       "      <td>0</td>\n",
       "      <td>0</td>\n",
       "      <td>0</td>\n",
       "      <td>5</td>\n",
       "      <td>0</td>\n",
       "      <td>...</td>\n",
       "      <td>0</td>\n",
       "      <td>0</td>\n",
       "      <td>0</td>\n",
       "      <td>0</td>\n",
       "      <td>0</td>\n",
       "      <td>0</td>\n",
       "      <td>0</td>\n",
       "      <td>0</td>\n",
       "      <td>0</td>\n",
       "      <td>0</td>\n",
       "    </tr>\n",
       "  </tbody>\n",
       "</table>\n",
       "<p>5 rows × 4081 columns</p>\n",
       "</div>"
      ],
      "text/plain": [
       "   trimestre  USER_ID  1000_1000  1000_2  1000_40  1000_611  100_2  100_40  \\\n",
       "0          1        0          0       0        0         0      0       0   \n",
       "1          1        1          0       0        0         0      0       0   \n",
       "2          1        2          0       0        0         0      0       0   \n",
       "3          1        3          0       0        0         0      0       0   \n",
       "4          1        4          0       0        0         0      0       0   \n",
       "\n",
       "   102_154  102_2  ...  none_203  none_268  none_369  none_40  none_45  \\\n",
       "0        0      0  ...         0         0         0        0        0   \n",
       "1        0      0  ...         0         0         0        0        0   \n",
       "2        0      0  ...         0         0         0        0        0   \n",
       "3        0      0  ...         0         0         0        0        0   \n",
       "4        5      0  ...         0         0         0        0        0   \n",
       "\n",
       "   none_5  none_85  none_9  hizo_conversion_este_mes  convertion  \n",
       "0       0        0       0                         0           0  \n",
       "1       0        0       0                         0           0  \n",
       "2       0        0       0                         0           0  \n",
       "3       0        0       0                         0           0  \n",
       "4       0        0       0                         0           0  \n",
       "\n",
       "[5 rows x 4081 columns]"
      ]
     },
     "execution_count": 7,
     "metadata": {},
     "output_type": "execute_result"
    }
   ],
   "source": [
    "pageview['convertion'] = pageview[['trimestre', 'USER_ID']].apply(\n",
    "    lambda _: _[1] in dict_conversion.get(str(_[0] + 1), []), axis=1\n",
    ").astype(int)\n",
    "\n",
    "pageview.head()"
   ]
  },
  {
   "cell_type": "code",
   "execution_count": 8,
   "id": "9300c901-9c6f-48e9-a5cc-44667d1674cc",
   "metadata": {},
   "outputs": [
    {
     "data": {
      "text/html": [
       "<div>\n",
       "<style scoped>\n",
       "    .dataframe tbody tr th:only-of-type {\n",
       "        vertical-align: middle;\n",
       "    }\n",
       "\n",
       "    .dataframe tbody tr th {\n",
       "        vertical-align: top;\n",
       "    }\n",
       "\n",
       "    .dataframe thead th {\n",
       "        text-align: right;\n",
       "    }\n",
       "</style>\n",
       "<table border=\"1\" class=\"dataframe\">\n",
       "  <thead>\n",
       "    <tr style=\"text-align: right;\">\n",
       "      <th>convertion</th>\n",
       "      <th>0</th>\n",
       "      <th>1</th>\n",
       "    </tr>\n",
       "    <tr>\n",
       "      <th>hizo_conversion_este_mes</th>\n",
       "      <th></th>\n",
       "      <th></th>\n",
       "    </tr>\n",
       "  </thead>\n",
       "  <tbody>\n",
       "    <tr>\n",
       "      <th>0</th>\n",
       "      <td>42619</td>\n",
       "      <td>902</td>\n",
       "    </tr>\n",
       "    <tr>\n",
       "      <th>1</th>\n",
       "      <td>1163</td>\n",
       "      <td>240</td>\n",
       "    </tr>\n",
       "  </tbody>\n",
       "</table>\n",
       "</div>"
      ],
      "text/plain": [
       "convertion                    0    1\n",
       "hizo_conversion_este_mes            \n",
       "0                         42619  902\n",
       "1                          1163  240"
      ]
     },
     "execution_count": 8,
     "metadata": {},
     "output_type": "execute_result"
    }
   ],
   "source": [
    "pd.crosstab(\n",
    "    pageview['hizo_conversion_este_mes'], pageview['convertion']\n",
    ")"
   ]
  },
  {
   "cell_type": "code",
   "execution_count": 9,
   "id": "91dd0b86-a639-4137-9a1d-0bf672f11875",
   "metadata": {},
   "outputs": [
    {
     "data": {
      "text/html": [
       "<div>\n",
       "<style scoped>\n",
       "    .dataframe tbody tr th:only-of-type {\n",
       "        vertical-align: middle;\n",
       "    }\n",
       "\n",
       "    .dataframe tbody tr th {\n",
       "        vertical-align: top;\n",
       "    }\n",
       "\n",
       "    .dataframe thead th {\n",
       "        text-align: right;\n",
       "    }\n",
       "</style>\n",
       "<table border=\"1\" class=\"dataframe\">\n",
       "  <thead>\n",
       "    <tr style=\"text-align: right;\">\n",
       "      <th></th>\n",
       "      <th>trimestre</th>\n",
       "      <th>USER_ID</th>\n",
       "      <th>1000_1000</th>\n",
       "      <th>1000_2</th>\n",
       "      <th>1000_40</th>\n",
       "      <th>1000_611</th>\n",
       "      <th>100_2</th>\n",
       "      <th>100_40</th>\n",
       "      <th>102_154</th>\n",
       "      <th>102_2</th>\n",
       "      <th>...</th>\n",
       "      <th>none_203</th>\n",
       "      <th>none_268</th>\n",
       "      <th>none_369</th>\n",
       "      <th>none_40</th>\n",
       "      <th>none_45</th>\n",
       "      <th>none_5</th>\n",
       "      <th>none_85</th>\n",
       "      <th>none_9</th>\n",
       "      <th>hizo_conversion_este_mes</th>\n",
       "      <th>convertion</th>\n",
       "    </tr>\n",
       "  </thead>\n",
       "  <tbody>\n",
       "    <tr>\n",
       "      <th>44919</th>\n",
       "      <td>4</td>\n",
       "      <td>11665</td>\n",
       "      <td>0</td>\n",
       "      <td>0</td>\n",
       "      <td>0</td>\n",
       "      <td>0</td>\n",
       "      <td>0</td>\n",
       "      <td>0</td>\n",
       "      <td>0</td>\n",
       "      <td>0</td>\n",
       "      <td>...</td>\n",
       "      <td>0</td>\n",
       "      <td>0</td>\n",
       "      <td>0</td>\n",
       "      <td>0</td>\n",
       "      <td>0</td>\n",
       "      <td>0</td>\n",
       "      <td>0</td>\n",
       "      <td>0</td>\n",
       "      <td>0</td>\n",
       "      <td>0</td>\n",
       "    </tr>\n",
       "    <tr>\n",
       "      <th>44920</th>\n",
       "      <td>4</td>\n",
       "      <td>11670</td>\n",
       "      <td>0</td>\n",
       "      <td>0</td>\n",
       "      <td>0</td>\n",
       "      <td>0</td>\n",
       "      <td>0</td>\n",
       "      <td>0</td>\n",
       "      <td>0</td>\n",
       "      <td>0</td>\n",
       "      <td>...</td>\n",
       "      <td>0</td>\n",
       "      <td>0</td>\n",
       "      <td>0</td>\n",
       "      <td>0</td>\n",
       "      <td>0</td>\n",
       "      <td>0</td>\n",
       "      <td>0</td>\n",
       "      <td>0</td>\n",
       "      <td>0</td>\n",
       "      <td>0</td>\n",
       "    </tr>\n",
       "    <tr>\n",
       "      <th>44921</th>\n",
       "      <td>4</td>\n",
       "      <td>11671</td>\n",
       "      <td>0</td>\n",
       "      <td>0</td>\n",
       "      <td>0</td>\n",
       "      <td>0</td>\n",
       "      <td>0</td>\n",
       "      <td>0</td>\n",
       "      <td>0</td>\n",
       "      <td>0</td>\n",
       "      <td>...</td>\n",
       "      <td>0</td>\n",
       "      <td>0</td>\n",
       "      <td>0</td>\n",
       "      <td>0</td>\n",
       "      <td>0</td>\n",
       "      <td>0</td>\n",
       "      <td>0</td>\n",
       "      <td>0</td>\n",
       "      <td>0</td>\n",
       "      <td>0</td>\n",
       "    </tr>\n",
       "    <tr>\n",
       "      <th>44922</th>\n",
       "      <td>4</td>\n",
       "      <td>11673</td>\n",
       "      <td>0</td>\n",
       "      <td>0</td>\n",
       "      <td>0</td>\n",
       "      <td>0</td>\n",
       "      <td>0</td>\n",
       "      <td>0</td>\n",
       "      <td>0</td>\n",
       "      <td>0</td>\n",
       "      <td>...</td>\n",
       "      <td>0</td>\n",
       "      <td>0</td>\n",
       "      <td>0</td>\n",
       "      <td>0</td>\n",
       "      <td>0</td>\n",
       "      <td>0</td>\n",
       "      <td>0</td>\n",
       "      <td>0</td>\n",
       "      <td>0</td>\n",
       "      <td>0</td>\n",
       "    </tr>\n",
       "    <tr>\n",
       "      <th>44923</th>\n",
       "      <td>4</td>\n",
       "      <td>11675</td>\n",
       "      <td>0</td>\n",
       "      <td>0</td>\n",
       "      <td>0</td>\n",
       "      <td>0</td>\n",
       "      <td>0</td>\n",
       "      <td>0</td>\n",
       "      <td>0</td>\n",
       "      <td>0</td>\n",
       "      <td>...</td>\n",
       "      <td>0</td>\n",
       "      <td>0</td>\n",
       "      <td>0</td>\n",
       "      <td>0</td>\n",
       "      <td>0</td>\n",
       "      <td>0</td>\n",
       "      <td>0</td>\n",
       "      <td>0</td>\n",
       "      <td>0</td>\n",
       "      <td>0</td>\n",
       "    </tr>\n",
       "  </tbody>\n",
       "</table>\n",
       "<p>5 rows × 4081 columns</p>\n",
       "</div>"
      ],
      "text/plain": [
       "       trimestre  USER_ID  1000_1000  1000_2  1000_40  1000_611  100_2  \\\n",
       "44919          4    11665          0       0        0         0      0   \n",
       "44920          4    11670          0       0        0         0      0   \n",
       "44921          4    11671          0       0        0         0      0   \n",
       "44922          4    11673          0       0        0         0      0   \n",
       "44923          4    11675          0       0        0         0      0   \n",
       "\n",
       "       100_40  102_154  102_2  ...  none_203  none_268  none_369  none_40  \\\n",
       "44919       0        0      0  ...         0         0         0        0   \n",
       "44920       0        0      0  ...         0         0         0        0   \n",
       "44921       0        0      0  ...         0         0         0        0   \n",
       "44922       0        0      0  ...         0         0         0        0   \n",
       "44923       0        0      0  ...         0         0         0        0   \n",
       "\n",
       "       none_45  none_5  none_85  none_9  hizo_conversion_este_mes  convertion  \n",
       "44919        0       0        0       0                         0           0  \n",
       "44920        0       0        0       0                         0           0  \n",
       "44921        0       0        0       0                         0           0  \n",
       "44922        0       0        0       0                         0           0  \n",
       "44923        0       0        0       0                         0           0  \n",
       "\n",
       "[5 rows x 4081 columns]"
      ]
     },
     "execution_count": 9,
     "metadata": {},
     "output_type": "execute_result"
    }
   ],
   "source": [
    "pageview.tail()"
   ]
  },
  {
   "cell_type": "code",
   "execution_count": 10,
   "id": "98ea264c-de6d-4c0a-b13e-50536b44407b",
   "metadata": {},
   "outputs": [
    {
     "data": {
      "text/plain": [
       "trimestre    int64\n",
       "USER_ID      int64\n",
       "dtype: object"
      ]
     },
     "execution_count": 10,
     "metadata": {},
     "output_type": "execute_result"
    }
   ],
   "source": [
    "pageview.dtypes.head(2)"
   ]
  },
  {
   "cell_type": "code",
   "execution_count": null,
   "id": "a8b37f7f-15d6-477a-915b-578770ecd19d",
   "metadata": {},
   "outputs": [],
   "source": []
  },
  {
   "cell_type": "code",
   "execution_count": null,
   "id": "7566641c-f037-44f6-a3d9-7269a8d68d34",
   "metadata": {},
   "outputs": [],
   "source": []
  },
  {
   "cell_type": "markdown",
   "id": "e624f109-a8bf-4257-8bbe-4e2dea5e51ed",
   "metadata": {},
   "source": [
    "### SPEED"
   ]
  },
  {
   "cell_type": "code",
   "execution_count": 11,
   "id": "9d3aaeea-a427-4107-902e-2a839b884c71",
   "metadata": {},
   "outputs": [
    {
     "name": "stdout",
     "output_type": "stream",
     "text": [
      "(44893, 6)\n"
     ]
    },
    {
     "data": {
      "text/html": [
       "<div>\n",
       "<style scoped>\n",
       "    .dataframe tbody tr th:only-of-type {\n",
       "        vertical-align: middle;\n",
       "    }\n",
       "\n",
       "    .dataframe tbody tr th {\n",
       "        vertical-align: top;\n",
       "    }\n",
       "\n",
       "    .dataframe thead th {\n",
       "        text-align: right;\n",
       "    }\n",
       "</style>\n",
       "<table border=\"1\" class=\"dataframe\">\n",
       "  <thead>\n",
       "    <tr style=\"text-align: right;\">\n",
       "      <th></th>\n",
       "      <th>trimestre</th>\n",
       "      <th>USER_ID</th>\n",
       "      <th>speed_0</th>\n",
       "      <th>speed_1</th>\n",
       "      <th>speed_2</th>\n",
       "      <th>speed_3</th>\n",
       "    </tr>\n",
       "  </thead>\n",
       "  <tbody>\n",
       "    <tr>\n",
       "      <th>0</th>\n",
       "      <td>4</td>\n",
       "      <td>0</td>\n",
       "      <td>2</td>\n",
       "      <td>49</td>\n",
       "      <td>0</td>\n",
       "      <td>61</td>\n",
       "    </tr>\n",
       "    <tr>\n",
       "      <th>1</th>\n",
       "      <td>4</td>\n",
       "      <td>1</td>\n",
       "      <td>38</td>\n",
       "      <td>15</td>\n",
       "      <td>6</td>\n",
       "      <td>0</td>\n",
       "    </tr>\n",
       "    <tr>\n",
       "      <th>2</th>\n",
       "      <td>4</td>\n",
       "      <td>2</td>\n",
       "      <td>0</td>\n",
       "      <td>46</td>\n",
       "      <td>12</td>\n",
       "      <td>16</td>\n",
       "    </tr>\n",
       "    <tr>\n",
       "      <th>3</th>\n",
       "      <td>4</td>\n",
       "      <td>3</td>\n",
       "      <td>0</td>\n",
       "      <td>55</td>\n",
       "      <td>2</td>\n",
       "      <td>0</td>\n",
       "    </tr>\n",
       "    <tr>\n",
       "      <th>4</th>\n",
       "      <td>4</td>\n",
       "      <td>4</td>\n",
       "      <td>0</td>\n",
       "      <td>40</td>\n",
       "      <td>8</td>\n",
       "      <td>0</td>\n",
       "    </tr>\n",
       "  </tbody>\n",
       "</table>\n",
       "</div>"
      ],
      "text/plain": [
       "   trimestre  USER_ID  speed_0  speed_1  speed_2  speed_3\n",
       "0          4        0        2       49        0       61\n",
       "1          4        1       38       15        6        0\n",
       "2          4        2        0       46       12       16\n",
       "3          4        3        0       55        2        0\n",
       "4          4        4        0       40        8        0"
      ]
     },
     "execution_count": 11,
     "metadata": {},
     "output_type": "execute_result"
    }
   ],
   "source": [
    "spped = pd.read_csv('speed_trimestral.csv')\n",
    "print(spped.shape)\n",
    "\n",
    "spped.head()"
   ]
  },
  {
   "cell_type": "code",
   "execution_count": 12,
   "id": "c04ee76e-b336-425e-8785-528eb1452453",
   "metadata": {},
   "outputs": [
    {
     "name": "stdout",
     "output_type": "stream",
     "text": [
      "(44924, 4081)\n",
      "(44924, 4085)\n"
     ]
    }
   ],
   "source": [
    "print(pageview.shape)\n",
    "pageview = pageview.merge(spped, how='left', on=[\"trimestre\", \"USER_ID\"])\n",
    "print(pageview.shape)"
   ]
  },
  {
   "cell_type": "code",
   "execution_count": 13,
   "id": "2c7d1e6b-5fef-4407-9887-c75c57192d3c",
   "metadata": {},
   "outputs": [],
   "source": [
    "del spped"
   ]
  },
  {
   "cell_type": "code",
   "execution_count": null,
   "id": "163dd4d8-c974-40c6-9c0d-95ebfc92d608",
   "metadata": {},
   "outputs": [],
   "source": []
  },
  {
   "cell_type": "markdown",
   "id": "8f2b53a1-1031-437b-808a-8d04c5db9d80",
   "metadata": {},
   "source": [
    "### DEVICE"
   ]
  },
  {
   "cell_type": "code",
   "execution_count": 14,
   "id": "ea261e19-380b-4f6e-aa47-5cb2ddac697f",
   "metadata": {},
   "outputs": [
    {
     "name": "stdout",
     "output_type": "stream",
     "text": [
      "(44893, 4)\n"
     ]
    },
    {
     "data": {
      "text/html": [
       "<div>\n",
       "<style scoped>\n",
       "    .dataframe tbody tr th:only-of-type {\n",
       "        vertical-align: middle;\n",
       "    }\n",
       "\n",
       "    .dataframe tbody tr th {\n",
       "        vertical-align: top;\n",
       "    }\n",
       "\n",
       "    .dataframe thead th {\n",
       "        text-align: right;\n",
       "    }\n",
       "</style>\n",
       "<table border=\"1\" class=\"dataframe\">\n",
       "  <thead>\n",
       "    <tr style=\"text-align: right;\">\n",
       "      <th></th>\n",
       "      <th>trimestre</th>\n",
       "      <th>USER_ID</th>\n",
       "      <th>device_0</th>\n",
       "      <th>device_1</th>\n",
       "    </tr>\n",
       "  </thead>\n",
       "  <tbody>\n",
       "    <tr>\n",
       "      <th>0</th>\n",
       "      <td>4</td>\n",
       "      <td>0</td>\n",
       "      <td>0</td>\n",
       "      <td>112</td>\n",
       "    </tr>\n",
       "    <tr>\n",
       "      <th>1</th>\n",
       "      <td>4</td>\n",
       "      <td>1</td>\n",
       "      <td>9</td>\n",
       "      <td>50</td>\n",
       "    </tr>\n",
       "    <tr>\n",
       "      <th>2</th>\n",
       "      <td>4</td>\n",
       "      <td>2</td>\n",
       "      <td>19</td>\n",
       "      <td>55</td>\n",
       "    </tr>\n",
       "    <tr>\n",
       "      <th>3</th>\n",
       "      <td>4</td>\n",
       "      <td>3</td>\n",
       "      <td>5</td>\n",
       "      <td>52</td>\n",
       "    </tr>\n",
       "    <tr>\n",
       "      <th>4</th>\n",
       "      <td>4</td>\n",
       "      <td>4</td>\n",
       "      <td>46</td>\n",
       "      <td>2</td>\n",
       "    </tr>\n",
       "  </tbody>\n",
       "</table>\n",
       "</div>"
      ],
      "text/plain": [
       "   trimestre  USER_ID  device_0  device_1\n",
       "0          4        0         0       112\n",
       "1          4        1         9        50\n",
       "2          4        2        19        55\n",
       "3          4        3         5        52\n",
       "4          4        4        46         2"
      ]
     },
     "execution_count": 14,
     "metadata": {},
     "output_type": "execute_result"
    }
   ],
   "source": [
    "device = pd.read_csv('device_trimestral.csv')\n",
    "print(device.shape)\n",
    "\n",
    "device.head()"
   ]
  },
  {
   "cell_type": "code",
   "execution_count": 15,
   "id": "40624fe0-de1e-43ac-b9ea-19ffd7aee4f9",
   "metadata": {},
   "outputs": [
    {
     "name": "stdout",
     "output_type": "stream",
     "text": [
      "(44924, 4085)\n",
      "(44924, 4087)\n"
     ]
    }
   ],
   "source": [
    "print(pageview.shape)\n",
    "pageview = pageview.merge(device, how='left', on=[\"trimestre\", \"USER_ID\"])\n",
    "print(pageview.shape)"
   ]
  },
  {
   "cell_type": "code",
   "execution_count": 16,
   "id": "96b5210a-f1dc-4ea3-a1ee-53294eef196b",
   "metadata": {},
   "outputs": [],
   "source": [
    "del device"
   ]
  },
  {
   "cell_type": "code",
   "execution_count": null,
   "id": "e0bb630f-8df6-474d-987e-43d8212fb2c4",
   "metadata": {},
   "outputs": [],
   "source": []
  },
  {
   "cell_type": "markdown",
   "id": "3f6ebb64-3d70-4859-ad2c-14f628004785",
   "metadata": {},
   "source": [
    "### SITE_ID"
   ]
  },
  {
   "cell_type": "code",
   "execution_count": 17,
   "id": "3e3153e8-8a25-4271-b280-b9beafa0253b",
   "metadata": {},
   "outputs": [
    {
     "name": "stdout",
     "output_type": "stream",
     "text": [
      "(44924, 6)\n"
     ]
    },
    {
     "data": {
      "text/html": [
       "<div>\n",
       "<style scoped>\n",
       "    .dataframe tbody tr th:only-of-type {\n",
       "        vertical-align: middle;\n",
       "    }\n",
       "\n",
       "    .dataframe tbody tr th {\n",
       "        vertical-align: top;\n",
       "    }\n",
       "\n",
       "    .dataframe thead th {\n",
       "        text-align: right;\n",
       "    }\n",
       "</style>\n",
       "<table border=\"1\" class=\"dataframe\">\n",
       "  <thead>\n",
       "    <tr style=\"text-align: right;\">\n",
       "      <th></th>\n",
       "      <th>trimestre</th>\n",
       "      <th>USER_ID</th>\n",
       "      <th>1</th>\n",
       "      <th>2</th>\n",
       "      <th>3</th>\n",
       "      <th>4</th>\n",
       "    </tr>\n",
       "  </thead>\n",
       "  <tbody>\n",
       "    <tr>\n",
       "      <th>0</th>\n",
       "      <td>1</td>\n",
       "      <td>0</td>\n",
       "      <td>121</td>\n",
       "      <td>1547</td>\n",
       "      <td>173</td>\n",
       "      <td>0</td>\n",
       "    </tr>\n",
       "    <tr>\n",
       "      <th>1</th>\n",
       "      <td>1</td>\n",
       "      <td>1</td>\n",
       "      <td>82</td>\n",
       "      <td>483</td>\n",
       "      <td>58</td>\n",
       "      <td>0</td>\n",
       "    </tr>\n",
       "    <tr>\n",
       "      <th>2</th>\n",
       "      <td>1</td>\n",
       "      <td>2</td>\n",
       "      <td>103</td>\n",
       "      <td>196</td>\n",
       "      <td>120</td>\n",
       "      <td>0</td>\n",
       "    </tr>\n",
       "    <tr>\n",
       "      <th>3</th>\n",
       "      <td>1</td>\n",
       "      <td>3</td>\n",
       "      <td>46</td>\n",
       "      <td>284</td>\n",
       "      <td>16</td>\n",
       "      <td>0</td>\n",
       "    </tr>\n",
       "    <tr>\n",
       "      <th>4</th>\n",
       "      <td>1</td>\n",
       "      <td>4</td>\n",
       "      <td>57</td>\n",
       "      <td>820</td>\n",
       "      <td>388</td>\n",
       "      <td>16</td>\n",
       "    </tr>\n",
       "  </tbody>\n",
       "</table>\n",
       "</div>"
      ],
      "text/plain": [
       "   trimestre  USER_ID    1     2    3   4\n",
       "0          1        0  121  1547  173   0\n",
       "1          1        1   82   483   58   0\n",
       "2          1        2  103   196  120   0\n",
       "3          1        3   46   284   16   0\n",
       "4          1        4   57   820  388  16"
      ]
     },
     "execution_count": 17,
     "metadata": {},
     "output_type": "execute_result"
    }
   ],
   "source": [
    "site_id = pd.read_csv('site_id_trimestral.csv')\n",
    "print(site_id.shape)\n",
    "\n",
    "site_id.head()"
   ]
  },
  {
   "cell_type": "code",
   "execution_count": 18,
   "id": "142c4d96-6769-4f6c-a19c-45214b1e9dec",
   "metadata": {},
   "outputs": [
    {
     "name": "stdout",
     "output_type": "stream",
     "text": [
      "(44924, 4087)\n",
      "(44924, 4091)\n"
     ]
    }
   ],
   "source": [
    "print(pageview.shape)\n",
    "pageview = pageview.merge(site_id, how='left', on=[\"trimestre\", \"USER_ID\"])\n",
    "print(pageview.shape)"
   ]
  },
  {
   "cell_type": "code",
   "execution_count": 19,
   "id": "4997b532-719a-4f57-8ac9-d173cd336ed1",
   "metadata": {},
   "outputs": [],
   "source": [
    "del site_id"
   ]
  },
  {
   "cell_type": "code",
   "execution_count": null,
   "id": "44873790-0b0d-4a3e-b52b-ca2f52ef2646",
   "metadata": {},
   "outputs": [],
   "source": []
  },
  {
   "cell_type": "markdown",
   "id": "8de519e9-b409-41fa-8fc5-f0bf3851ca40",
   "metadata": {},
   "source": [
    "### SCHEDULE"
   ]
  },
  {
   "cell_type": "code",
   "execution_count": 20,
   "id": "86820435-7590-4644-856a-e4f61987d1bc",
   "metadata": {},
   "outputs": [
    {
     "name": "stdout",
     "output_type": "stream",
     "text": [
      "(44924, 44)\n"
     ]
    },
    {
     "data": {
      "text/html": [
       "<div>\n",
       "<style scoped>\n",
       "    .dataframe tbody tr th:only-of-type {\n",
       "        vertical-align: middle;\n",
       "    }\n",
       "\n",
       "    .dataframe tbody tr th {\n",
       "        vertical-align: top;\n",
       "    }\n",
       "\n",
       "    .dataframe thead th {\n",
       "        text-align: right;\n",
       "    }\n",
       "</style>\n",
       "<table border=\"1\" class=\"dataframe\">\n",
       "  <thead>\n",
       "    <tr style=\"text-align: right;\">\n",
       "      <th></th>\n",
       "      <th>trimestre</th>\n",
       "      <th>USER_ID</th>\n",
       "      <th>0_almuerzo</th>\n",
       "      <th>0_antes_del_trabajo</th>\n",
       "      <th>0_luego_del_trabajo</th>\n",
       "      <th>0_madrugada</th>\n",
       "      <th>0_trabajo_manana</th>\n",
       "      <th>0_trabajo_tarde</th>\n",
       "      <th>1_almuerzo</th>\n",
       "      <th>1_antes_del_trabajo</th>\n",
       "      <th>...</th>\n",
       "      <th>5_luego_del_trabajo</th>\n",
       "      <th>5_madrugada</th>\n",
       "      <th>5_trabajo_manana</th>\n",
       "      <th>5_trabajo_tarde</th>\n",
       "      <th>6_almuerzo</th>\n",
       "      <th>6_antes_del_trabajo</th>\n",
       "      <th>6_luego_del_trabajo</th>\n",
       "      <th>6_madrugada</th>\n",
       "      <th>6_trabajo_manana</th>\n",
       "      <th>6_trabajo_tarde</th>\n",
       "    </tr>\n",
       "  </thead>\n",
       "  <tbody>\n",
       "    <tr>\n",
       "      <th>0</th>\n",
       "      <td>1</td>\n",
       "      <td>0</td>\n",
       "      <td>41</td>\n",
       "      <td>25</td>\n",
       "      <td>58</td>\n",
       "      <td>0</td>\n",
       "      <td>179</td>\n",
       "      <td>17</td>\n",
       "      <td>46</td>\n",
       "      <td>5</td>\n",
       "      <td>...</td>\n",
       "      <td>23</td>\n",
       "      <td>0</td>\n",
       "      <td>28</td>\n",
       "      <td>36</td>\n",
       "      <td>6</td>\n",
       "      <td>0</td>\n",
       "      <td>0</td>\n",
       "      <td>0</td>\n",
       "      <td>12</td>\n",
       "      <td>25</td>\n",
       "    </tr>\n",
       "    <tr>\n",
       "      <th>1</th>\n",
       "      <td>1</td>\n",
       "      <td>1</td>\n",
       "      <td>53</td>\n",
       "      <td>0</td>\n",
       "      <td>0</td>\n",
       "      <td>0</td>\n",
       "      <td>38</td>\n",
       "      <td>0</td>\n",
       "      <td>8</td>\n",
       "      <td>0</td>\n",
       "      <td>...</td>\n",
       "      <td>13</td>\n",
       "      <td>0</td>\n",
       "      <td>19</td>\n",
       "      <td>0</td>\n",
       "      <td>11</td>\n",
       "      <td>0</td>\n",
       "      <td>12</td>\n",
       "      <td>0</td>\n",
       "      <td>22</td>\n",
       "      <td>0</td>\n",
       "    </tr>\n",
       "    <tr>\n",
       "      <th>2</th>\n",
       "      <td>1</td>\n",
       "      <td>2</td>\n",
       "      <td>93</td>\n",
       "      <td>0</td>\n",
       "      <td>4</td>\n",
       "      <td>0</td>\n",
       "      <td>21</td>\n",
       "      <td>0</td>\n",
       "      <td>31</td>\n",
       "      <td>0</td>\n",
       "      <td>...</td>\n",
       "      <td>0</td>\n",
       "      <td>0</td>\n",
       "      <td>6</td>\n",
       "      <td>0</td>\n",
       "      <td>0</td>\n",
       "      <td>0</td>\n",
       "      <td>0</td>\n",
       "      <td>0</td>\n",
       "      <td>4</td>\n",
       "      <td>0</td>\n",
       "    </tr>\n",
       "    <tr>\n",
       "      <th>3</th>\n",
       "      <td>1</td>\n",
       "      <td>3</td>\n",
       "      <td>30</td>\n",
       "      <td>0</td>\n",
       "      <td>2</td>\n",
       "      <td>0</td>\n",
       "      <td>16</td>\n",
       "      <td>32</td>\n",
       "      <td>10</td>\n",
       "      <td>0</td>\n",
       "      <td>...</td>\n",
       "      <td>0</td>\n",
       "      <td>8</td>\n",
       "      <td>4</td>\n",
       "      <td>18</td>\n",
       "      <td>2</td>\n",
       "      <td>0</td>\n",
       "      <td>4</td>\n",
       "      <td>0</td>\n",
       "      <td>11</td>\n",
       "      <td>5</td>\n",
       "    </tr>\n",
       "    <tr>\n",
       "      <th>4</th>\n",
       "      <td>1</td>\n",
       "      <td>4</td>\n",
       "      <td>118</td>\n",
       "      <td>40</td>\n",
       "      <td>23</td>\n",
       "      <td>57</td>\n",
       "      <td>41</td>\n",
       "      <td>11</td>\n",
       "      <td>17</td>\n",
       "      <td>11</td>\n",
       "      <td>...</td>\n",
       "      <td>24</td>\n",
       "      <td>7</td>\n",
       "      <td>4</td>\n",
       "      <td>3</td>\n",
       "      <td>0</td>\n",
       "      <td>0</td>\n",
       "      <td>5</td>\n",
       "      <td>22</td>\n",
       "      <td>10</td>\n",
       "      <td>8</td>\n",
       "    </tr>\n",
       "  </tbody>\n",
       "</table>\n",
       "<p>5 rows × 44 columns</p>\n",
       "</div>"
      ],
      "text/plain": [
       "   trimestre  USER_ID  0_almuerzo  0_antes_del_trabajo  0_luego_del_trabajo  \\\n",
       "0          1        0          41                   25                   58   \n",
       "1          1        1          53                    0                    0   \n",
       "2          1        2          93                    0                    4   \n",
       "3          1        3          30                    0                    2   \n",
       "4          1        4         118                   40                   23   \n",
       "\n",
       "   0_madrugada  0_trabajo_manana  0_trabajo_tarde  1_almuerzo  \\\n",
       "0            0               179               17          46   \n",
       "1            0                38                0           8   \n",
       "2            0                21                0          31   \n",
       "3            0                16               32          10   \n",
       "4           57                41               11          17   \n",
       "\n",
       "   1_antes_del_trabajo  ...  5_luego_del_trabajo  5_madrugada  \\\n",
       "0                    5  ...                   23            0   \n",
       "1                    0  ...                   13            0   \n",
       "2                    0  ...                    0            0   \n",
       "3                    0  ...                    0            8   \n",
       "4                   11  ...                   24            7   \n",
       "\n",
       "   5_trabajo_manana  5_trabajo_tarde  6_almuerzo  6_antes_del_trabajo  \\\n",
       "0                28               36           6                    0   \n",
       "1                19                0          11                    0   \n",
       "2                 6                0           0                    0   \n",
       "3                 4               18           2                    0   \n",
       "4                 4                3           0                    0   \n",
       "\n",
       "   6_luego_del_trabajo  6_madrugada  6_trabajo_manana  6_trabajo_tarde  \n",
       "0                    0            0                12               25  \n",
       "1                   12            0                22                0  \n",
       "2                    0            0                 4                0  \n",
       "3                    4            0                11                5  \n",
       "4                    5           22                10                8  \n",
       "\n",
       "[5 rows x 44 columns]"
      ]
     },
     "execution_count": 20,
     "metadata": {},
     "output_type": "execute_result"
    }
   ],
   "source": [
    "schedule = pd.read_csv('schedule_trimestral.csv')\n",
    "print(schedule.shape)\n",
    "\n",
    "schedule.head()"
   ]
  },
  {
   "cell_type": "code",
   "execution_count": 21,
   "id": "71a077e9-dfdc-4ecf-a1eb-7319c2e24f22",
   "metadata": {},
   "outputs": [
    {
     "name": "stdout",
     "output_type": "stream",
     "text": [
      "(44924, 4091)\n",
      "(44924, 4133)\n"
     ]
    }
   ],
   "source": [
    "print(pageview.shape)\n",
    "pageview = pageview.merge(schedule, how='left', on=[\"trimestre\", \"USER_ID\"])\n",
    "print(pageview.shape)"
   ]
  },
  {
   "cell_type": "code",
   "execution_count": 22,
   "id": "bccde0a2-ad32-47c3-9778-89ec8b98fed1",
   "metadata": {},
   "outputs": [],
   "source": [
    "del schedule"
   ]
  },
  {
   "cell_type": "code",
   "execution_count": null,
   "id": "a04d36ca-1471-44ac-8904-68c53aa738a7",
   "metadata": {},
   "outputs": [],
   "source": []
  },
  {
   "cell_type": "markdown",
   "id": "8afa202f-98fd-4291-95dd-1638df33b57c",
   "metadata": {},
   "source": [
    "### RANGO DÍAS"
   ]
  },
  {
   "cell_type": "code",
   "execution_count": 23,
   "id": "9b0c8766-3375-4256-b0bb-566eb97186ac",
   "metadata": {},
   "outputs": [
    {
     "name": "stdout",
     "output_type": "stream",
     "text": [
      "(44924, 7)\n"
     ]
    },
    {
     "data": {
      "text/html": [
       "<div>\n",
       "<style scoped>\n",
       "    .dataframe tbody tr th:only-of-type {\n",
       "        vertical-align: middle;\n",
       "    }\n",
       "\n",
       "    .dataframe tbody tr th {\n",
       "        vertical-align: top;\n",
       "    }\n",
       "\n",
       "    .dataframe thead th {\n",
       "        text-align: right;\n",
       "    }\n",
       "</style>\n",
       "<table border=\"1\" class=\"dataframe\">\n",
       "  <thead>\n",
       "    <tr style=\"text-align: right;\">\n",
       "      <th></th>\n",
       "      <th>trimestre</th>\n",
       "      <th>USER_ID</th>\n",
       "      <th>18_24</th>\n",
       "      <th>7_12</th>\n",
       "      <th>fin_de_mes</th>\n",
       "      <th>inicio_mes</th>\n",
       "      <th>quincena</th>\n",
       "    </tr>\n",
       "  </thead>\n",
       "  <tbody>\n",
       "    <tr>\n",
       "      <th>0</th>\n",
       "      <td>1</td>\n",
       "      <td>0</td>\n",
       "      <td>269</td>\n",
       "      <td>421</td>\n",
       "      <td>264</td>\n",
       "      <td>657</td>\n",
       "      <td>230</td>\n",
       "    </tr>\n",
       "    <tr>\n",
       "      <th>1</th>\n",
       "      <td>1</td>\n",
       "      <td>1</td>\n",
       "      <td>124</td>\n",
       "      <td>109</td>\n",
       "      <td>142</td>\n",
       "      <td>144</td>\n",
       "      <td>104</td>\n",
       "    </tr>\n",
       "    <tr>\n",
       "      <th>2</th>\n",
       "      <td>1</td>\n",
       "      <td>2</td>\n",
       "      <td>94</td>\n",
       "      <td>147</td>\n",
       "      <td>50</td>\n",
       "      <td>51</td>\n",
       "      <td>77</td>\n",
       "    </tr>\n",
       "    <tr>\n",
       "      <th>3</th>\n",
       "      <td>1</td>\n",
       "      <td>3</td>\n",
       "      <td>51</td>\n",
       "      <td>58</td>\n",
       "      <td>65</td>\n",
       "      <td>93</td>\n",
       "      <td>79</td>\n",
       "    </tr>\n",
       "    <tr>\n",
       "      <th>4</th>\n",
       "      <td>1</td>\n",
       "      <td>4</td>\n",
       "      <td>215</td>\n",
       "      <td>680</td>\n",
       "      <td>96</td>\n",
       "      <td>199</td>\n",
       "      <td>91</td>\n",
       "    </tr>\n",
       "  </tbody>\n",
       "</table>\n",
       "</div>"
      ],
      "text/plain": [
       "   trimestre  USER_ID  18_24  7_12  fin_de_mes  inicio_mes  quincena\n",
       "0          1        0    269   421         264         657       230\n",
       "1          1        1    124   109         142         144       104\n",
       "2          1        2     94   147          50          51        77\n",
       "3          1        3     51    58          65          93        79\n",
       "4          1        4    215   680          96         199        91"
      ]
     },
     "execution_count": 23,
     "metadata": {},
     "output_type": "execute_result"
    }
   ],
   "source": [
    "dias = pd.read_csv('rango_dias_trimestral.csv')\n",
    "print(dias.shape)\n",
    "\n",
    "dias.head()"
   ]
  },
  {
   "cell_type": "code",
   "execution_count": 24,
   "id": "917aad08-12a2-4f2f-92d0-52fac7f1ae7d",
   "metadata": {},
   "outputs": [
    {
     "name": "stdout",
     "output_type": "stream",
     "text": [
      "(44924, 4133)\n",
      "(44924, 4138)\n"
     ]
    }
   ],
   "source": [
    "print(pageview.shape)\n",
    "pageview = pageview.merge(dias, how='left', on=[\"trimestre\", \"USER_ID\"])\n",
    "print(pageview.shape)"
   ]
  },
  {
   "cell_type": "code",
   "execution_count": 25,
   "id": "68331ccc-e5c1-4aa0-89af-b77917932767",
   "metadata": {},
   "outputs": [],
   "source": [
    "del dias"
   ]
  },
  {
   "cell_type": "code",
   "execution_count": null,
   "id": "450d2e49-ac0c-47e5-9822-26519be76b5f",
   "metadata": {},
   "outputs": [],
   "source": []
  },
  {
   "cell_type": "markdown",
   "id": "09917162-709e-4a89-9114-79825e561dde",
   "metadata": {},
   "source": [
    "### CATEGORIA DE CONTENIDO"
   ]
  },
  {
   "cell_type": "code",
   "execution_count": 26,
   "id": "4014fee0-a04f-4234-aeb7-5981bcbe976d",
   "metadata": {},
   "outputs": [
    {
     "name": "stdout",
     "output_type": "stream",
     "text": [
      "(44924, 46)\n"
     ]
    },
    {
     "data": {
      "text/html": [
       "<div>\n",
       "<style scoped>\n",
       "    .dataframe tbody tr th:only-of-type {\n",
       "        vertical-align: middle;\n",
       "    }\n",
       "\n",
       "    .dataframe tbody tr th {\n",
       "        vertical-align: top;\n",
       "    }\n",
       "\n",
       "    .dataframe thead th {\n",
       "        text-align: right;\n",
       "    }\n",
       "</style>\n",
       "<table border=\"1\" class=\"dataframe\">\n",
       "  <thead>\n",
       "    <tr style=\"text-align: right;\">\n",
       "      <th></th>\n",
       "      <th>trimestre</th>\n",
       "      <th>USER_ID</th>\n",
       "      <th>10_5</th>\n",
       "      <th>11_4</th>\n",
       "      <th>12_4</th>\n",
       "      <th>13_4</th>\n",
       "      <th>14_5</th>\n",
       "      <th>15_5</th>\n",
       "      <th>16_2</th>\n",
       "      <th>17_2</th>\n",
       "      <th>...</th>\n",
       "      <th>50_5</th>\n",
       "      <th>59_2</th>\n",
       "      <th>5_2</th>\n",
       "      <th>60_2</th>\n",
       "      <th>61_2</th>\n",
       "      <th>63_2</th>\n",
       "      <th>6_4</th>\n",
       "      <th>7_5</th>\n",
       "      <th>8_5</th>\n",
       "      <th>9_4</th>\n",
       "    </tr>\n",
       "  </thead>\n",
       "  <tbody>\n",
       "    <tr>\n",
       "      <th>0</th>\n",
       "      <td>1</td>\n",
       "      <td>0</td>\n",
       "      <td>1</td>\n",
       "      <td>0</td>\n",
       "      <td>0</td>\n",
       "      <td>0</td>\n",
       "      <td>0</td>\n",
       "      <td>0</td>\n",
       "      <td>0</td>\n",
       "      <td>0</td>\n",
       "      <td>...</td>\n",
       "      <td>0</td>\n",
       "      <td>0</td>\n",
       "      <td>10</td>\n",
       "      <td>0</td>\n",
       "      <td>0</td>\n",
       "      <td>0</td>\n",
       "      <td>5</td>\n",
       "      <td>3</td>\n",
       "      <td>1</td>\n",
       "      <td>1</td>\n",
       "    </tr>\n",
       "    <tr>\n",
       "      <th>1</th>\n",
       "      <td>1</td>\n",
       "      <td>1</td>\n",
       "      <td>1</td>\n",
       "      <td>0</td>\n",
       "      <td>0</td>\n",
       "      <td>0</td>\n",
       "      <td>0</td>\n",
       "      <td>0</td>\n",
       "      <td>0</td>\n",
       "      <td>0</td>\n",
       "      <td>...</td>\n",
       "      <td>0</td>\n",
       "      <td>0</td>\n",
       "      <td>1</td>\n",
       "      <td>0</td>\n",
       "      <td>0</td>\n",
       "      <td>0</td>\n",
       "      <td>3</td>\n",
       "      <td>0</td>\n",
       "      <td>0</td>\n",
       "      <td>0</td>\n",
       "    </tr>\n",
       "    <tr>\n",
       "      <th>2</th>\n",
       "      <td>1</td>\n",
       "      <td>2</td>\n",
       "      <td>1</td>\n",
       "      <td>4</td>\n",
       "      <td>13</td>\n",
       "      <td>8</td>\n",
       "      <td>5</td>\n",
       "      <td>2</td>\n",
       "      <td>0</td>\n",
       "      <td>0</td>\n",
       "      <td>...</td>\n",
       "      <td>0</td>\n",
       "      <td>0</td>\n",
       "      <td>6</td>\n",
       "      <td>0</td>\n",
       "      <td>0</td>\n",
       "      <td>0</td>\n",
       "      <td>4</td>\n",
       "      <td>1</td>\n",
       "      <td>1</td>\n",
       "      <td>0</td>\n",
       "    </tr>\n",
       "    <tr>\n",
       "      <th>3</th>\n",
       "      <td>1</td>\n",
       "      <td>3</td>\n",
       "      <td>0</td>\n",
       "      <td>0</td>\n",
       "      <td>0</td>\n",
       "      <td>0</td>\n",
       "      <td>0</td>\n",
       "      <td>0</td>\n",
       "      <td>0</td>\n",
       "      <td>0</td>\n",
       "      <td>...</td>\n",
       "      <td>0</td>\n",
       "      <td>0</td>\n",
       "      <td>4</td>\n",
       "      <td>0</td>\n",
       "      <td>0</td>\n",
       "      <td>0</td>\n",
       "      <td>0</td>\n",
       "      <td>0</td>\n",
       "      <td>0</td>\n",
       "      <td>1</td>\n",
       "    </tr>\n",
       "    <tr>\n",
       "      <th>4</th>\n",
       "      <td>1</td>\n",
       "      <td>4</td>\n",
       "      <td>0</td>\n",
       "      <td>0</td>\n",
       "      <td>0</td>\n",
       "      <td>1</td>\n",
       "      <td>0</td>\n",
       "      <td>0</td>\n",
       "      <td>15</td>\n",
       "      <td>7</td>\n",
       "      <td>...</td>\n",
       "      <td>0</td>\n",
       "      <td>0</td>\n",
       "      <td>16</td>\n",
       "      <td>0</td>\n",
       "      <td>0</td>\n",
       "      <td>0</td>\n",
       "      <td>12</td>\n",
       "      <td>7</td>\n",
       "      <td>0</td>\n",
       "      <td>2</td>\n",
       "    </tr>\n",
       "  </tbody>\n",
       "</table>\n",
       "<p>5 rows × 46 columns</p>\n",
       "</div>"
      ],
      "text/plain": [
       "   trimestre  USER_ID  10_5  11_4  12_4  13_4  14_5  15_5  16_2  17_2  ...  \\\n",
       "0          1        0     1     0     0     0     0     0     0     0  ...   \n",
       "1          1        1     1     0     0     0     0     0     0     0  ...   \n",
       "2          1        2     1     4    13     8     5     2     0     0  ...   \n",
       "3          1        3     0     0     0     0     0     0     0     0  ...   \n",
       "4          1        4     0     0     0     1     0     0    15     7  ...   \n",
       "\n",
       "   50_5  59_2  5_2  60_2  61_2  63_2  6_4  7_5  8_5  9_4  \n",
       "0     0     0   10     0     0     0    5    3    1    1  \n",
       "1     0     0    1     0     0     0    3    0    0    0  \n",
       "2     0     0    6     0     0     0    4    1    1    0  \n",
       "3     0     0    4     0     0     0    0    0    0    1  \n",
       "4     0     0   16     0     0     0   12    7    0    2  \n",
       "\n",
       "[5 rows x 46 columns]"
      ]
     },
     "execution_count": 26,
     "metadata": {},
     "output_type": "execute_result"
    }
   ],
   "source": [
    "category = pd.read_csv('content_category_trimestral.csv')\n",
    "print(category.shape)\n",
    "\n",
    "category.head()"
   ]
  },
  {
   "cell_type": "code",
   "execution_count": 27,
   "id": "ec63e3ce-9b32-446b-bf5a-5084340ccdf8",
   "metadata": {},
   "outputs": [
    {
     "name": "stdout",
     "output_type": "stream",
     "text": [
      "(44924, 4138)\n",
      "(44924, 4182)\n"
     ]
    }
   ],
   "source": [
    "print(pageview.shape)\n",
    "pageview = pageview.merge(category, how='left', on=[\"trimestre\", \"USER_ID\"])\n",
    "print(pageview.shape)"
   ]
  },
  {
   "cell_type": "code",
   "execution_count": 28,
   "id": "4998f2e8-7296-476a-a9be-2d1612e5c7ae",
   "metadata": {},
   "outputs": [],
   "source": [
    "del category"
   ]
  },
  {
   "cell_type": "code",
   "execution_count": null,
   "id": "43aa51d9-5019-40a7-9381-c74de9119a9f",
   "metadata": {},
   "outputs": [],
   "source": []
  },
  {
   "cell_type": "markdown",
   "id": "9c5fe829-e1f1-48b2-9aab-2ea81dda91a8",
   "metadata": {},
   "source": [
    "### BUSQUEDA"
   ]
  },
  {
   "cell_type": "code",
   "execution_count": 29,
   "id": "6081d3a7-8498-4641-b32b-e585f5c3255c",
   "metadata": {},
   "outputs": [
    {
     "name": "stdout",
     "output_type": "stream",
     "text": [
      "(44924, 3)\n"
     ]
    },
    {
     "data": {
      "text/html": [
       "<div>\n",
       "<style scoped>\n",
       "    .dataframe tbody tr th:only-of-type {\n",
       "        vertical-align: middle;\n",
       "    }\n",
       "\n",
       "    .dataframe tbody tr th {\n",
       "        vertical-align: top;\n",
       "    }\n",
       "\n",
       "    .dataframe thead th {\n",
       "        text-align: right;\n",
       "    }\n",
       "</style>\n",
       "<table border=\"1\" class=\"dataframe\">\n",
       "  <thead>\n",
       "    <tr style=\"text-align: right;\">\n",
       "      <th></th>\n",
       "      <th>trimestre</th>\n",
       "      <th>USER_ID</th>\n",
       "      <th>1</th>\n",
       "    </tr>\n",
       "  </thead>\n",
       "  <tbody>\n",
       "    <tr>\n",
       "      <th>0</th>\n",
       "      <td>1</td>\n",
       "      <td>0</td>\n",
       "      <td>1841</td>\n",
       "    </tr>\n",
       "    <tr>\n",
       "      <th>1</th>\n",
       "      <td>1</td>\n",
       "      <td>1</td>\n",
       "      <td>623</td>\n",
       "    </tr>\n",
       "    <tr>\n",
       "      <th>2</th>\n",
       "      <td>1</td>\n",
       "      <td>2</td>\n",
       "      <td>419</td>\n",
       "    </tr>\n",
       "    <tr>\n",
       "      <th>3</th>\n",
       "      <td>1</td>\n",
       "      <td>3</td>\n",
       "      <td>346</td>\n",
       "    </tr>\n",
       "    <tr>\n",
       "      <th>4</th>\n",
       "      <td>1</td>\n",
       "      <td>4</td>\n",
       "      <td>1281</td>\n",
       "    </tr>\n",
       "  </tbody>\n",
       "</table>\n",
       "</div>"
      ],
      "text/plain": [
       "   trimestre  USER_ID     1\n",
       "0          1        0  1841\n",
       "1          1        1   623\n",
       "2          1        2   419\n",
       "3          1        3   346\n",
       "4          1        4  1281"
      ]
     },
     "execution_count": 29,
     "metadata": {},
     "output_type": "execute_result"
    }
   ],
   "source": [
    "search = pd.read_csv('search_trimestral.csv')\n",
    "print(search.shape)\n",
    "\n",
    "search.head()"
   ]
  },
  {
   "cell_type": "code",
   "execution_count": 30,
   "id": "bf3ab987-1a63-4abb-8941-cb47886b53e5",
   "metadata": {},
   "outputs": [
    {
     "name": "stdout",
     "output_type": "stream",
     "text": [
      "(44924, 4182)\n",
      "(44924, 4183)\n"
     ]
    }
   ],
   "source": [
    "print(pageview.shape)\n",
    "pageview = pageview.merge(search, how='left', on=[\"trimestre\", \"USER_ID\"])\n",
    "print(pageview.shape)"
   ]
  },
  {
   "cell_type": "code",
   "execution_count": 31,
   "id": "012f68de-4b19-46d6-9a3b-124e55b0ae39",
   "metadata": {},
   "outputs": [],
   "source": [
    "del search"
   ]
  },
  {
   "cell_type": "code",
   "execution_count": null,
   "id": "f61ec9d0-29f1-4f82-bc8e-92302efd7830",
   "metadata": {},
   "outputs": [],
   "source": []
  },
  {
   "cell_type": "markdown",
   "id": "c9e34de3-0c0d-4b7b-96aa-fbbcfdb19186",
   "metadata": {},
   "source": [
    "### PAGINA SOLA"
   ]
  },
  {
   "cell_type": "code",
   "execution_count": 32,
   "id": "5fe13252-34f1-4335-a54d-4baf962fdc1c",
   "metadata": {},
   "outputs": [
    {
     "name": "stdout",
     "output_type": "stream",
     "text": [
      "(44924, 798)\n"
     ]
    },
    {
     "data": {
      "text/html": [
       "<div>\n",
       "<style scoped>\n",
       "    .dataframe tbody tr th:only-of-type {\n",
       "        vertical-align: middle;\n",
       "    }\n",
       "\n",
       "    .dataframe tbody tr th {\n",
       "        vertical-align: top;\n",
       "    }\n",
       "\n",
       "    .dataframe thead th {\n",
       "        text-align: right;\n",
       "    }\n",
       "</style>\n",
       "<table border=\"1\" class=\"dataframe\">\n",
       "  <thead>\n",
       "    <tr style=\"text-align: right;\">\n",
       "      <th></th>\n",
       "      <th>trimestre</th>\n",
       "      <th>USER_ID</th>\n",
       "      <th>page_1</th>\n",
       "      <th>page_10</th>\n",
       "      <th>page_100</th>\n",
       "      <th>page_1000</th>\n",
       "      <th>page_1001</th>\n",
       "      <th>page_1018</th>\n",
       "      <th>page_1019</th>\n",
       "      <th>page_102</th>\n",
       "      <th>...</th>\n",
       "      <th>page_950</th>\n",
       "      <th>page_96</th>\n",
       "      <th>page_963</th>\n",
       "      <th>page_97</th>\n",
       "      <th>page_972</th>\n",
       "      <th>page_98</th>\n",
       "      <th>page_980</th>\n",
       "      <th>page_99</th>\n",
       "      <th>page_994</th>\n",
       "      <th>page_997</th>\n",
       "    </tr>\n",
       "  </thead>\n",
       "  <tbody>\n",
       "    <tr>\n",
       "      <th>0</th>\n",
       "      <td>1</td>\n",
       "      <td>0</td>\n",
       "      <td>107</td>\n",
       "      <td>327</td>\n",
       "      <td>0</td>\n",
       "      <td>0</td>\n",
       "      <td>0</td>\n",
       "      <td>0</td>\n",
       "      <td>0</td>\n",
       "      <td>0</td>\n",
       "      <td>...</td>\n",
       "      <td>0</td>\n",
       "      <td>0</td>\n",
       "      <td>0</td>\n",
       "      <td>0</td>\n",
       "      <td>0</td>\n",
       "      <td>0</td>\n",
       "      <td>0</td>\n",
       "      <td>0</td>\n",
       "      <td>0</td>\n",
       "      <td>0</td>\n",
       "    </tr>\n",
       "    <tr>\n",
       "      <th>1</th>\n",
       "      <td>1</td>\n",
       "      <td>1</td>\n",
       "      <td>78</td>\n",
       "      <td>110</td>\n",
       "      <td>0</td>\n",
       "      <td>0</td>\n",
       "      <td>0</td>\n",
       "      <td>0</td>\n",
       "      <td>0</td>\n",
       "      <td>0</td>\n",
       "      <td>...</td>\n",
       "      <td>0</td>\n",
       "      <td>0</td>\n",
       "      <td>0</td>\n",
       "      <td>0</td>\n",
       "      <td>0</td>\n",
       "      <td>0</td>\n",
       "      <td>0</td>\n",
       "      <td>0</td>\n",
       "      <td>0</td>\n",
       "      <td>0</td>\n",
       "    </tr>\n",
       "    <tr>\n",
       "      <th>2</th>\n",
       "      <td>1</td>\n",
       "      <td>2</td>\n",
       "      <td>16</td>\n",
       "      <td>61</td>\n",
       "      <td>0</td>\n",
       "      <td>0</td>\n",
       "      <td>0</td>\n",
       "      <td>0</td>\n",
       "      <td>0</td>\n",
       "      <td>0</td>\n",
       "      <td>...</td>\n",
       "      <td>0</td>\n",
       "      <td>0</td>\n",
       "      <td>0</td>\n",
       "      <td>0</td>\n",
       "      <td>0</td>\n",
       "      <td>0</td>\n",
       "      <td>0</td>\n",
       "      <td>0</td>\n",
       "      <td>0</td>\n",
       "      <td>0</td>\n",
       "    </tr>\n",
       "    <tr>\n",
       "      <th>3</th>\n",
       "      <td>1</td>\n",
       "      <td>3</td>\n",
       "      <td>0</td>\n",
       "      <td>0</td>\n",
       "      <td>0</td>\n",
       "      <td>0</td>\n",
       "      <td>0</td>\n",
       "      <td>0</td>\n",
       "      <td>0</td>\n",
       "      <td>0</td>\n",
       "      <td>...</td>\n",
       "      <td>0</td>\n",
       "      <td>0</td>\n",
       "      <td>0</td>\n",
       "      <td>0</td>\n",
       "      <td>0</td>\n",
       "      <td>0</td>\n",
       "      <td>0</td>\n",
       "      <td>0</td>\n",
       "      <td>0</td>\n",
       "      <td>0</td>\n",
       "    </tr>\n",
       "    <tr>\n",
       "      <th>4</th>\n",
       "      <td>1</td>\n",
       "      <td>4</td>\n",
       "      <td>25</td>\n",
       "      <td>347</td>\n",
       "      <td>3</td>\n",
       "      <td>0</td>\n",
       "      <td>0</td>\n",
       "      <td>0</td>\n",
       "      <td>0</td>\n",
       "      <td>6</td>\n",
       "      <td>...</td>\n",
       "      <td>0</td>\n",
       "      <td>1</td>\n",
       "      <td>0</td>\n",
       "      <td>1</td>\n",
       "      <td>0</td>\n",
       "      <td>1</td>\n",
       "      <td>0</td>\n",
       "      <td>6</td>\n",
       "      <td>0</td>\n",
       "      <td>0</td>\n",
       "    </tr>\n",
       "  </tbody>\n",
       "</table>\n",
       "<p>5 rows × 798 columns</p>\n",
       "</div>"
      ],
      "text/plain": [
       "   trimestre  USER_ID  page_1  page_10  page_100  page_1000  page_1001  \\\n",
       "0          1        0     107      327         0          0          0   \n",
       "1          1        1      78      110         0          0          0   \n",
       "2          1        2      16       61         0          0          0   \n",
       "3          1        3       0        0         0          0          0   \n",
       "4          1        4      25      347         3          0          0   \n",
       "\n",
       "   page_1018  page_1019  page_102  ...  page_950  page_96  page_963  page_97  \\\n",
       "0          0          0         0  ...         0        0         0        0   \n",
       "1          0          0         0  ...         0        0         0        0   \n",
       "2          0          0         0  ...         0        0         0        0   \n",
       "3          0          0         0  ...         0        0         0        0   \n",
       "4          0          0         6  ...         0        1         0        1   \n",
       "\n",
       "   page_972  page_98  page_980  page_99  page_994  page_997  \n",
       "0         0        0         0        0         0         0  \n",
       "1         0        0         0        0         0         0  \n",
       "2         0        0         0        0         0         0  \n",
       "3         0        0         0        0         0         0  \n",
       "4         0        1         0        6         0         0  \n",
       "\n",
       "[5 rows x 798 columns]"
      ]
     },
     "execution_count": 32,
     "metadata": {},
     "output_type": "execute_result"
    }
   ],
   "source": [
    "simple = pd.read_csv('pageview_simple_trimestral.csv')\n",
    "print(simple.shape)\n",
    "\n",
    "simple.head()"
   ]
  },
  {
   "cell_type": "code",
   "execution_count": 33,
   "id": "9b740105-fdfa-41d5-8afb-4efbdd74614b",
   "metadata": {},
   "outputs": [
    {
     "name": "stdout",
     "output_type": "stream",
     "text": [
      "(44924, 4183)\n",
      "(44924, 4979)\n"
     ]
    }
   ],
   "source": [
    "print(pageview.shape)\n",
    "pageview = pageview.merge(simple, how='left', on=[\"trimestre\", \"USER_ID\"])\n",
    "print(pageview.shape)"
   ]
  },
  {
   "cell_type": "code",
   "execution_count": 34,
   "id": "7bb82f2d-f396-4cfe-842e-90c68cb46c95",
   "metadata": {},
   "outputs": [],
   "source": [
    "del simple"
   ]
  },
  {
   "cell_type": "code",
   "execution_count": null,
   "id": "bf44dd73-ca07-4b0d-a4b7-fc30b9f0a1c9",
   "metadata": {},
   "outputs": [],
   "source": []
  },
  {
   "cell_type": "code",
   "execution_count": 35,
   "id": "fb14d90c-1c18-45c7-a7f9-930db345b6eb",
   "metadata": {},
   "outputs": [
    {
     "data": {
      "text/plain": [
       "speed_0     32\n",
       "speed_1     32\n",
       "speed_2     32\n",
       "speed_3     32\n",
       "device_0    32\n",
       "device_1    32\n",
       "dtype: int64"
      ]
     },
     "execution_count": 35,
     "metadata": {},
     "output_type": "execute_result"
    }
   ],
   "source": [
    "nulos = pageview.isnull().sum()\n",
    "nulos[nulos > 0]"
   ]
  },
  {
   "cell_type": "code",
   "execution_count": 36,
   "id": "3bdd942d-aac5-49f3-9185-4e2cb1158b18",
   "metadata": {},
   "outputs": [],
   "source": [
    "pageview = pageview.fillna(0)"
   ]
  },
  {
   "cell_type": "code",
   "execution_count": null,
   "id": "8fb10e03-9a8f-43ff-9d39-a493552d12fd",
   "metadata": {},
   "outputs": [],
   "source": []
  },
  {
   "cell_type": "code",
   "execution_count": null,
   "id": "6e357e1b-7b48-437d-9b64-4b3dc3b49533",
   "metadata": {},
   "outputs": [],
   "source": []
  },
  {
   "cell_type": "markdown",
   "id": "e29e15e8-43f4-4b94-9214-1ec83d20e6ab",
   "metadata": {},
   "source": [
    "# MODELAMIENTO"
   ]
  },
  {
   "cell_type": "code",
   "execution_count": 37,
   "id": "bfb5a247-7d4f-4f54-8f37-ffa46a1ef9f1",
   "metadata": {},
   "outputs": [],
   "source": [
    "from sklearn.linear_model import LassoCV\n",
    "from sklearn.feature_selection import SelectFromModel\n",
    "from lightgbm import LGBMClassifier\n",
    "from sklearn import model_selection\n",
    "from sklearn.metrics import roc_auc_score\n",
    "from sklearn.model_selection import StratifiedShuffleSplit, StratifiedKFold, TimeSeriesSplit, RandomizedSearchCV\n",
    "from sklearn.model_selection import GridSearchCV\n",
    "from sklearn import model_selection\n",
    "from sklearn.metrics import roc_auc_score\n",
    "from sklearn.model_selection import StratifiedShuffleSplit, StratifiedKFold, TimeSeriesSplit\n",
    "from sklearn.model_selection import GridSearchCV\n",
    "from sklearn.model_selection import TimeSeriesSplit, cross_val_score, GridSearchCV\n",
    "from sklearn.linear_model import LogisticRegression\n",
    "from sklearn.discriminant_analysis import QuadraticDiscriminantAnalysis\n",
    "from sklearn.feature_selection import VarianceThreshold\n",
    "from sklearn.decomposition import PCA\n",
    "from sklearn.cluster import KMeans\n",
    "from sklearn.neighbors import KNeighborsClassifier\n",
    "\n",
    "time_split = TimeSeriesSplit(\n",
    "    n_splits=10\n",
    ")"
   ]
  },
  {
   "cell_type": "code",
   "execution_count": 38,
   "id": "5b6ff631-fb57-41c9-b3ab-cbeded4a9264",
   "metadata": {},
   "outputs": [],
   "source": [
    "X_train = pageview[pageview['trimestre'].astype(str).isin(['1', '2', '3'])].drop(['trimestre', 'USER_ID', 'convertion'], axis=1)\n",
    "X_test = pageview[pageview['trimestre'].astype(str).isin(['4'])].drop(['trimestre', 'USER_ID', 'convertion'], axis=1)\n",
    "users_test = pageview[pageview['trimestre'].astype(str).isin(['4'])]['USER_ID']\n",
    "users_train = pageview[pageview['trimestre'].astype(str).isin(['1', '2', '3'])]['USER_ID']\n",
    "y_train = pageview[pageview['trimestre'].astype(str).isin(['1', '2', '3'])]['convertion']"
   ]
  },
  {
   "cell_type": "code",
   "execution_count": 39,
   "id": "0a92fa10-0f0b-4171-9f43-3eebbc1e9a04",
   "metadata": {},
   "outputs": [
    {
     "data": {
      "text/plain": [
       "(11429,)"
      ]
     },
     "execution_count": 39,
     "metadata": {},
     "output_type": "execute_result"
    }
   ],
   "source": [
    "users_test.shape"
   ]
  },
  {
   "cell_type": "code",
   "execution_count": 40,
   "id": "30f279d5-2aa2-40bd-b44f-9669cdbb605d",
   "metadata": {},
   "outputs": [
    {
     "data": {
      "text/plain": [
       "(33495, 4976)"
      ]
     },
     "execution_count": 40,
     "metadata": {},
     "output_type": "execute_result"
    }
   ],
   "source": [
    "X_train.shape"
   ]
  },
  {
   "cell_type": "code",
   "execution_count": 41,
   "id": "2923d6cb-b921-4f20-8e16-5d7baded5370",
   "metadata": {},
   "outputs": [
    {
     "data": {
      "text/plain": [
       "(11429, 4976)"
      ]
     },
     "execution_count": 41,
     "metadata": {},
     "output_type": "execute_result"
    }
   ],
   "source": [
    "X_test.shape"
   ]
  },
  {
   "cell_type": "code",
   "execution_count": 42,
   "id": "f1d8a272-945c-4f61-a385-4611e29a193b",
   "metadata": {},
   "outputs": [
    {
     "data": {
      "text/plain": [
       "(33495,)"
      ]
     },
     "execution_count": 42,
     "metadata": {},
     "output_type": "execute_result"
    }
   ],
   "source": [
    "y_train.shape"
   ]
  },
  {
   "cell_type": "code",
   "execution_count": 43,
   "id": "83676026-0837-460f-96d7-8219cba2fb20",
   "metadata": {},
   "outputs": [
    {
     "data": {
      "text/plain": [
       "110"
      ]
     },
     "execution_count": 43,
     "metadata": {},
     "output_type": "execute_result"
    }
   ],
   "source": [
    "#del pageview\n",
    "gc.collect()"
   ]
  },
  {
   "cell_type": "code",
   "execution_count": 92,
   "id": "c6925800-3823-4d96-9603-ee50cdfcb315",
   "metadata": {},
   "outputs": [],
   "source": [
    "from sklearn.model_selection import RepeatedStratifiedKFold\n",
    "\n",
    "repeat = RepeatedStratifiedKFold(\n",
    "    n_splits=4, n_repeats=2, random_state=SEED\n",
    ")"
   ]
  },
  {
   "cell_type": "code",
   "execution_count": 93,
   "id": "5eeb400a-b1f0-4711-a82e-c046188177f1",
   "metadata": {},
   "outputs": [
    {
     "name": "stderr",
     "output_type": "stream",
     "text": [
      "[Parallel(n_jobs=4)]: Using backend ThreadingBackend with 4 concurrent workers.\n",
      "................................................................................................................................................................................................................................................................................................................................................................................................................................................................................................................................................................................................................................................................................................................................................................................................................................[Parallel(n_jobs=4)]: Done   8 out of   8 | elapsed:  3.6min finished\n"
     ]
    },
    {
     "data": {
      "text/plain": [
       "SelectFromModel(estimator=LassoCV(cv=RepeatedStratifiedKFold(n_repeats=2, n_splits=4, random_state=29082013),\n",
       "                                  n_jobs=4, random_state=29082013, verbose=1))"
      ]
     },
     "execution_count": 93,
     "metadata": {},
     "output_type": "execute_result"
    }
   ],
   "source": [
    "lasso_cv = LassoCV(\n",
    "    cv=repeat, \n",
    "    selection='cyclic',\n",
    "    random_state=SEED, \n",
    "    verbose=1,\n",
    "    normalize=False,\n",
    "    n_jobs=4\n",
    ")\n",
    "\n",
    "sfm = SelectFromModel(lasso_cv)\n",
    "sfm.fit(\n",
    "    X_train, y_train\n",
    ")"
   ]
  },
  {
   "cell_type": "code",
   "execution_count": 94,
   "id": "7cc6f71a-67d2-42b4-819b-61bd45e31b4d",
   "metadata": {},
   "outputs": [],
   "source": [
    "def var_cols_relevants(sfm, X):\n",
    "    bool_select_var = list(sfm.get_support())\n",
    "    list_columns = list(X.columns)\n",
    "    return list({\n",
    "       list_columns[i]: bool_select_var[i] for i in range(len(list_columns)) if bool_select_var[i]\n",
    "    }.keys())"
   ]
  },
  {
   "cell_type": "code",
   "execution_count": 95,
   "id": "87d650bc-ab62-4cec-b4e3-225d90a2f37c",
   "metadata": {},
   "outputs": [
    {
     "name": "stdout",
     "output_type": "stream",
     "text": [
      "77\n"
     ]
    }
   ],
   "source": [
    "list_var_relevants = var_cols_relevants(sfm, X_train)\n",
    "print(len(list_var_relevants))"
   ]
  },
  {
   "cell_type": "code",
   "execution_count": 47,
   "id": "8c6a56b4-8e57-4304-99e3-7f9087520b49",
   "metadata": {},
   "outputs": [
    {
     "data": {
      "text/html": [
       "<div>\n",
       "<style scoped>\n",
       "    .dataframe tbody tr th:only-of-type {\n",
       "        vertical-align: middle;\n",
       "    }\n",
       "\n",
       "    .dataframe tbody tr th {\n",
       "        vertical-align: top;\n",
       "    }\n",
       "\n",
       "    .dataframe thead th {\n",
       "        text-align: right;\n",
       "    }\n",
       "</style>\n",
       "<table border=\"1\" class=\"dataframe\">\n",
       "  <thead>\n",
       "    <tr style=\"text-align: right;\">\n",
       "      <th></th>\n",
       "      <th>10_10</th>\n",
       "      <th>110_57</th>\n",
       "      <th>168_168</th>\n",
       "      <th>1_2</th>\n",
       "      <th>2_2_x</th>\n",
       "      <th>3_20</th>\n",
       "      <th>3_27</th>\n",
       "      <th>3_4</th>\n",
       "      <th>40_2</th>\n",
       "      <th>85_85</th>\n",
       "      <th>...</th>\n",
       "      <th>page_2</th>\n",
       "      <th>page_20</th>\n",
       "      <th>page_21</th>\n",
       "      <th>page_3</th>\n",
       "      <th>page_32</th>\n",
       "      <th>page_39</th>\n",
       "      <th>page_4</th>\n",
       "      <th>page_41</th>\n",
       "      <th>page_57</th>\n",
       "      <th>page_85</th>\n",
       "    </tr>\n",
       "  </thead>\n",
       "  <tbody>\n",
       "    <tr>\n",
       "      <th>0</th>\n",
       "      <td>6</td>\n",
       "      <td>0</td>\n",
       "      <td>0</td>\n",
       "      <td>43</td>\n",
       "      <td>17</td>\n",
       "      <td>13</td>\n",
       "      <td>3</td>\n",
       "      <td>10</td>\n",
       "      <td>1</td>\n",
       "      <td>0</td>\n",
       "      <td>...</td>\n",
       "      <td>125</td>\n",
       "      <td>28</td>\n",
       "      <td>13</td>\n",
       "      <td>44</td>\n",
       "      <td>3</td>\n",
       "      <td>3</td>\n",
       "      <td>15</td>\n",
       "      <td>1</td>\n",
       "      <td>1</td>\n",
       "      <td>0</td>\n",
       "    </tr>\n",
       "    <tr>\n",
       "      <th>1</th>\n",
       "      <td>18</td>\n",
       "      <td>0</td>\n",
       "      <td>0</td>\n",
       "      <td>48</td>\n",
       "      <td>9</td>\n",
       "      <td>4</td>\n",
       "      <td>0</td>\n",
       "      <td>4</td>\n",
       "      <td>0</td>\n",
       "      <td>0</td>\n",
       "      <td>...</td>\n",
       "      <td>75</td>\n",
       "      <td>11</td>\n",
       "      <td>8</td>\n",
       "      <td>17</td>\n",
       "      <td>2</td>\n",
       "      <td>0</td>\n",
       "      <td>9</td>\n",
       "      <td>0</td>\n",
       "      <td>0</td>\n",
       "      <td>0</td>\n",
       "    </tr>\n",
       "    <tr>\n",
       "      <th>2</th>\n",
       "      <td>27</td>\n",
       "      <td>0</td>\n",
       "      <td>0</td>\n",
       "      <td>7</td>\n",
       "      <td>7</td>\n",
       "      <td>2</td>\n",
       "      <td>2</td>\n",
       "      <td>7</td>\n",
       "      <td>31</td>\n",
       "      <td>0</td>\n",
       "      <td>...</td>\n",
       "      <td>66</td>\n",
       "      <td>11</td>\n",
       "      <td>14</td>\n",
       "      <td>32</td>\n",
       "      <td>0</td>\n",
       "      <td>0</td>\n",
       "      <td>9</td>\n",
       "      <td>0</td>\n",
       "      <td>1</td>\n",
       "      <td>0</td>\n",
       "    </tr>\n",
       "    <tr>\n",
       "      <th>3</th>\n",
       "      <td>0</td>\n",
       "      <td>0</td>\n",
       "      <td>0</td>\n",
       "      <td>0</td>\n",
       "      <td>2</td>\n",
       "      <td>0</td>\n",
       "      <td>1</td>\n",
       "      <td>1</td>\n",
       "      <td>21</td>\n",
       "      <td>10</td>\n",
       "      <td>...</td>\n",
       "      <td>40</td>\n",
       "      <td>0</td>\n",
       "      <td>2</td>\n",
       "      <td>8</td>\n",
       "      <td>0</td>\n",
       "      <td>1</td>\n",
       "      <td>1</td>\n",
       "      <td>0</td>\n",
       "      <td>0</td>\n",
       "      <td>90</td>\n",
       "    </tr>\n",
       "    <tr>\n",
       "      <th>4</th>\n",
       "      <td>194</td>\n",
       "      <td>5</td>\n",
       "      <td>0</td>\n",
       "      <td>4</td>\n",
       "      <td>38</td>\n",
       "      <td>2</td>\n",
       "      <td>22</td>\n",
       "      <td>0</td>\n",
       "      <td>2</td>\n",
       "      <td>2</td>\n",
       "      <td>...</td>\n",
       "      <td>123</td>\n",
       "      <td>4</td>\n",
       "      <td>0</td>\n",
       "      <td>94</td>\n",
       "      <td>0</td>\n",
       "      <td>0</td>\n",
       "      <td>0</td>\n",
       "      <td>8</td>\n",
       "      <td>14</td>\n",
       "      <td>11</td>\n",
       "    </tr>\n",
       "  </tbody>\n",
       "</table>\n",
       "<p>5 rows × 44 columns</p>\n",
       "</div>"
      ],
      "text/plain": [
       "   10_10  110_57  168_168  1_2  2_2_x  3_20  3_27  3_4  40_2  85_85  ...  \\\n",
       "0      6       0        0   43     17    13     3   10     1      0  ...   \n",
       "1     18       0        0   48      9     4     0    4     0      0  ...   \n",
       "2     27       0        0    7      7     2     2    7    31      0  ...   \n",
       "3      0       0        0    0      2     0     1    1    21     10  ...   \n",
       "4    194       5        0    4     38     2    22    0     2      2  ...   \n",
       "\n",
       "   page_2  page_20  page_21  page_3  page_32  page_39  page_4  page_41  \\\n",
       "0     125       28       13      44        3        3      15        1   \n",
       "1      75       11        8      17        2        0       9        0   \n",
       "2      66       11       14      32        0        0       9        0   \n",
       "3      40        0        2       8        0        1       1        0   \n",
       "4     123        4        0      94        0        0       0        8   \n",
       "\n",
       "   page_57  page_85  \n",
       "0        1        0  \n",
       "1        0        0  \n",
       "2        1        0  \n",
       "3        0       90  \n",
       "4       14       11  \n",
       "\n",
       "[5 rows x 44 columns]"
      ]
     },
     "execution_count": 47,
     "metadata": {},
     "output_type": "execute_result"
    }
   ],
   "source": [
    "X_train[list_var_relevants].head()"
   ]
  },
  {
   "cell_type": "code",
   "execution_count": 48,
   "id": "bf4dad5a-5de1-4d9b-b4cb-6b03a00a8bca",
   "metadata": {},
   "outputs": [
    {
     "data": {
      "text/plain": [
       "SelectKBest(k=250, score_func=<function chi2 at 0x000002433C4A8B80>)"
      ]
     },
     "execution_count": 48,
     "metadata": {},
     "output_type": "execute_result"
    }
   ],
   "source": [
    "from sklearn.feature_selection import SelectKBest, chi2\n",
    "\n",
    "best = SelectKBest(chi2, k=250)\n",
    "best.fit(\n",
    "    X_train, y_train\n",
    ")"
   ]
  },
  {
   "cell_type": "code",
   "execution_count": 49,
   "id": "2797ff15-0d9f-4286-9266-15ed01caaf79",
   "metadata": {},
   "outputs": [
    {
     "name": "stdout",
     "output_type": "stream",
     "text": [
      "250\n"
     ]
    }
   ],
   "source": [
    "list_var_chi = var_cols_relevants(best, X_train)\n",
    "print(len(list_var_chi))"
   ]
  },
  {
   "cell_type": "code",
   "execution_count": 50,
   "id": "3c82eda5-ccd3-4520-8969-bc3147347b1f",
   "metadata": {},
   "outputs": [
    {
     "data": {
      "text/html": [
       "<div>\n",
       "<style scoped>\n",
       "    .dataframe tbody tr th:only-of-type {\n",
       "        vertical-align: middle;\n",
       "    }\n",
       "\n",
       "    .dataframe tbody tr th {\n",
       "        vertical-align: top;\n",
       "    }\n",
       "\n",
       "    .dataframe thead th {\n",
       "        text-align: right;\n",
       "    }\n",
       "</style>\n",
       "<table border=\"1\" class=\"dataframe\">\n",
       "  <thead>\n",
       "    <tr style=\"text-align: right;\">\n",
       "      <th></th>\n",
       "      <th>108_109</th>\n",
       "      <th>108_110</th>\n",
       "      <th>108_1247</th>\n",
       "      <th>108_41</th>\n",
       "      <th>109_108</th>\n",
       "      <th>109_110</th>\n",
       "      <th>10_12</th>\n",
       "      <th>110_109</th>\n",
       "      <th>110_110</th>\n",
       "      <th>110_1259</th>\n",
       "      <th>...</th>\n",
       "      <th>page_50</th>\n",
       "      <th>page_57</th>\n",
       "      <th>page_64</th>\n",
       "      <th>page_65</th>\n",
       "      <th>page_69</th>\n",
       "      <th>page_721</th>\n",
       "      <th>page_85</th>\n",
       "      <th>page_88</th>\n",
       "      <th>page_89</th>\n",
       "      <th>page_9</th>\n",
       "    </tr>\n",
       "  </thead>\n",
       "  <tbody>\n",
       "    <tr>\n",
       "      <th>0</th>\n",
       "      <td>0</td>\n",
       "      <td>0</td>\n",
       "      <td>0</td>\n",
       "      <td>0</td>\n",
       "      <td>0</td>\n",
       "      <td>0</td>\n",
       "      <td>144</td>\n",
       "      <td>0</td>\n",
       "      <td>0</td>\n",
       "      <td>0</td>\n",
       "      <td>...</td>\n",
       "      <td>1</td>\n",
       "      <td>1</td>\n",
       "      <td>0</td>\n",
       "      <td>0</td>\n",
       "      <td>0</td>\n",
       "      <td>0</td>\n",
       "      <td>0</td>\n",
       "      <td>0</td>\n",
       "      <td>0</td>\n",
       "      <td>78</td>\n",
       "    </tr>\n",
       "    <tr>\n",
       "      <th>1</th>\n",
       "      <td>0</td>\n",
       "      <td>0</td>\n",
       "      <td>0</td>\n",
       "      <td>0</td>\n",
       "      <td>0</td>\n",
       "      <td>0</td>\n",
       "      <td>35</td>\n",
       "      <td>0</td>\n",
       "      <td>0</td>\n",
       "      <td>0</td>\n",
       "      <td>...</td>\n",
       "      <td>0</td>\n",
       "      <td>0</td>\n",
       "      <td>0</td>\n",
       "      <td>0</td>\n",
       "      <td>0</td>\n",
       "      <td>0</td>\n",
       "      <td>0</td>\n",
       "      <td>0</td>\n",
       "      <td>0</td>\n",
       "      <td>29</td>\n",
       "    </tr>\n",
       "    <tr>\n",
       "      <th>2</th>\n",
       "      <td>0</td>\n",
       "      <td>0</td>\n",
       "      <td>0</td>\n",
       "      <td>0</td>\n",
       "      <td>0</td>\n",
       "      <td>0</td>\n",
       "      <td>0</td>\n",
       "      <td>0</td>\n",
       "      <td>0</td>\n",
       "      <td>0</td>\n",
       "      <td>...</td>\n",
       "      <td>0</td>\n",
       "      <td>1</td>\n",
       "      <td>7</td>\n",
       "      <td>3</td>\n",
       "      <td>4</td>\n",
       "      <td>0</td>\n",
       "      <td>0</td>\n",
       "      <td>0</td>\n",
       "      <td>0</td>\n",
       "      <td>19</td>\n",
       "    </tr>\n",
       "    <tr>\n",
       "      <th>3</th>\n",
       "      <td>0</td>\n",
       "      <td>0</td>\n",
       "      <td>0</td>\n",
       "      <td>0</td>\n",
       "      <td>0</td>\n",
       "      <td>0</td>\n",
       "      <td>0</td>\n",
       "      <td>0</td>\n",
       "      <td>0</td>\n",
       "      <td>0</td>\n",
       "      <td>...</td>\n",
       "      <td>0</td>\n",
       "      <td>0</td>\n",
       "      <td>0</td>\n",
       "      <td>0</td>\n",
       "      <td>0</td>\n",
       "      <td>0</td>\n",
       "      <td>90</td>\n",
       "      <td>9</td>\n",
       "      <td>4</td>\n",
       "      <td>0</td>\n",
       "    </tr>\n",
       "    <tr>\n",
       "      <th>4</th>\n",
       "      <td>5</td>\n",
       "      <td>0</td>\n",
       "      <td>0</td>\n",
       "      <td>0</td>\n",
       "      <td>0</td>\n",
       "      <td>5</td>\n",
       "      <td>0</td>\n",
       "      <td>0</td>\n",
       "      <td>0</td>\n",
       "      <td>0</td>\n",
       "      <td>...</td>\n",
       "      <td>0</td>\n",
       "      <td>14</td>\n",
       "      <td>2</td>\n",
       "      <td>7</td>\n",
       "      <td>13</td>\n",
       "      <td>0</td>\n",
       "      <td>11</td>\n",
       "      <td>0</td>\n",
       "      <td>5</td>\n",
       "      <td>3</td>\n",
       "    </tr>\n",
       "  </tbody>\n",
       "</table>\n",
       "<p>5 rows × 250 columns</p>\n",
       "</div>"
      ],
      "text/plain": [
       "   108_109  108_110  108_1247  108_41  109_108  109_110  10_12  110_109  \\\n",
       "0        0        0         0       0        0        0    144        0   \n",
       "1        0        0         0       0        0        0     35        0   \n",
       "2        0        0         0       0        0        0      0        0   \n",
       "3        0        0         0       0        0        0      0        0   \n",
       "4        5        0         0       0        0        5      0        0   \n",
       "\n",
       "   110_110  110_1259  ...  page_50  page_57  page_64  page_65  page_69  \\\n",
       "0        0         0  ...        1        1        0        0        0   \n",
       "1        0         0  ...        0        0        0        0        0   \n",
       "2        0         0  ...        0        1        7        3        4   \n",
       "3        0         0  ...        0        0        0        0        0   \n",
       "4        0         0  ...        0       14        2        7       13   \n",
       "\n",
       "   page_721  page_85  page_88  page_89  page_9  \n",
       "0         0        0        0        0      78  \n",
       "1         0        0        0        0      29  \n",
       "2         0        0        0        0      19  \n",
       "3         0       90        9        4       0  \n",
       "4         0       11        0        5       3  \n",
       "\n",
       "[5 rows x 250 columns]"
      ]
     },
     "execution_count": 50,
     "metadata": {},
     "output_type": "execute_result"
    }
   ],
   "source": [
    "X_train[list_var_chi].head()"
   ]
  },
  {
   "cell_type": "code",
   "execution_count": 51,
   "id": "f9e23c21-270a-474b-b0d8-c3700ea58ec6",
   "metadata": {},
   "outputs": [
    {
     "data": {
      "text/plain": [
       "SelectKBest(k=250)"
      ]
     },
     "execution_count": 51,
     "metadata": {},
     "output_type": "execute_result"
    }
   ],
   "source": [
    "from sklearn.feature_selection import f_classif\n",
    "\n",
    "anova = SelectKBest(f_classif, k=250)\n",
    "anova.fit(\n",
    "    X_train, y_train\n",
    ")"
   ]
  },
  {
   "cell_type": "code",
   "execution_count": 52,
   "id": "d1d39acd-5d38-47a1-89da-8e2a046cc3b1",
   "metadata": {},
   "outputs": [
    {
     "name": "stdout",
     "output_type": "stream",
     "text": [
      "250\n"
     ]
    }
   ],
   "source": [
    "list_var_anova = var_cols_relevants(anova, X_train)\n",
    "print(len(list_var_anova))"
   ]
  },
  {
   "cell_type": "code",
   "execution_count": 53,
   "id": "f24ad5ed-d2c1-4612-b047-1bba916cb437",
   "metadata": {},
   "outputs": [
    {
     "data": {
      "text/html": [
       "<div>\n",
       "<style scoped>\n",
       "    .dataframe tbody tr th:only-of-type {\n",
       "        vertical-align: middle;\n",
       "    }\n",
       "\n",
       "    .dataframe tbody tr th {\n",
       "        vertical-align: top;\n",
       "    }\n",
       "\n",
       "    .dataframe thead th {\n",
       "        text-align: right;\n",
       "    }\n",
       "</style>\n",
       "<table border=\"1\" class=\"dataframe\">\n",
       "  <thead>\n",
       "    <tr style=\"text-align: right;\">\n",
       "      <th></th>\n",
       "      <th>102_154</th>\n",
       "      <th>108_109</th>\n",
       "      <th>108_110</th>\n",
       "      <th>108_1247</th>\n",
       "      <th>108_2</th>\n",
       "      <th>108_3</th>\n",
       "      <th>108_41</th>\n",
       "      <th>108_5</th>\n",
       "      <th>109_108</th>\n",
       "      <th>109_110</th>\n",
       "      <th>...</th>\n",
       "      <th>page_42</th>\n",
       "      <th>page_455</th>\n",
       "      <th>page_457</th>\n",
       "      <th>page_49</th>\n",
       "      <th>page_50</th>\n",
       "      <th>page_57</th>\n",
       "      <th>page_64</th>\n",
       "      <th>page_65</th>\n",
       "      <th>page_69</th>\n",
       "      <th>page_89</th>\n",
       "    </tr>\n",
       "  </thead>\n",
       "  <tbody>\n",
       "    <tr>\n",
       "      <th>0</th>\n",
       "      <td>0</td>\n",
       "      <td>0</td>\n",
       "      <td>0</td>\n",
       "      <td>0</td>\n",
       "      <td>0</td>\n",
       "      <td>0</td>\n",
       "      <td>0</td>\n",
       "      <td>0</td>\n",
       "      <td>0</td>\n",
       "      <td>0</td>\n",
       "      <td>...</td>\n",
       "      <td>3</td>\n",
       "      <td>0</td>\n",
       "      <td>0</td>\n",
       "      <td>1</td>\n",
       "      <td>1</td>\n",
       "      <td>1</td>\n",
       "      <td>0</td>\n",
       "      <td>0</td>\n",
       "      <td>0</td>\n",
       "      <td>0</td>\n",
       "    </tr>\n",
       "    <tr>\n",
       "      <th>1</th>\n",
       "      <td>0</td>\n",
       "      <td>0</td>\n",
       "      <td>0</td>\n",
       "      <td>0</td>\n",
       "      <td>0</td>\n",
       "      <td>0</td>\n",
       "      <td>0</td>\n",
       "      <td>0</td>\n",
       "      <td>0</td>\n",
       "      <td>0</td>\n",
       "      <td>...</td>\n",
       "      <td>0</td>\n",
       "      <td>0</td>\n",
       "      <td>0</td>\n",
       "      <td>0</td>\n",
       "      <td>0</td>\n",
       "      <td>0</td>\n",
       "      <td>0</td>\n",
       "      <td>0</td>\n",
       "      <td>0</td>\n",
       "      <td>0</td>\n",
       "    </tr>\n",
       "    <tr>\n",
       "      <th>2</th>\n",
       "      <td>0</td>\n",
       "      <td>0</td>\n",
       "      <td>0</td>\n",
       "      <td>0</td>\n",
       "      <td>0</td>\n",
       "      <td>0</td>\n",
       "      <td>0</td>\n",
       "      <td>0</td>\n",
       "      <td>0</td>\n",
       "      <td>0</td>\n",
       "      <td>...</td>\n",
       "      <td>3</td>\n",
       "      <td>0</td>\n",
       "      <td>0</td>\n",
       "      <td>0</td>\n",
       "      <td>0</td>\n",
       "      <td>1</td>\n",
       "      <td>7</td>\n",
       "      <td>3</td>\n",
       "      <td>4</td>\n",
       "      <td>0</td>\n",
       "    </tr>\n",
       "    <tr>\n",
       "      <th>3</th>\n",
       "      <td>0</td>\n",
       "      <td>0</td>\n",
       "      <td>0</td>\n",
       "      <td>0</td>\n",
       "      <td>0</td>\n",
       "      <td>0</td>\n",
       "      <td>0</td>\n",
       "      <td>0</td>\n",
       "      <td>0</td>\n",
       "      <td>0</td>\n",
       "      <td>...</td>\n",
       "      <td>1</td>\n",
       "      <td>0</td>\n",
       "      <td>0</td>\n",
       "      <td>0</td>\n",
       "      <td>0</td>\n",
       "      <td>0</td>\n",
       "      <td>0</td>\n",
       "      <td>0</td>\n",
       "      <td>0</td>\n",
       "      <td>4</td>\n",
       "    </tr>\n",
       "    <tr>\n",
       "      <th>4</th>\n",
       "      <td>5</td>\n",
       "      <td>5</td>\n",
       "      <td>0</td>\n",
       "      <td>0</td>\n",
       "      <td>0</td>\n",
       "      <td>0</td>\n",
       "      <td>0</td>\n",
       "      <td>0</td>\n",
       "      <td>0</td>\n",
       "      <td>5</td>\n",
       "      <td>...</td>\n",
       "      <td>5</td>\n",
       "      <td>0</td>\n",
       "      <td>0</td>\n",
       "      <td>0</td>\n",
       "      <td>0</td>\n",
       "      <td>14</td>\n",
       "      <td>2</td>\n",
       "      <td>7</td>\n",
       "      <td>13</td>\n",
       "      <td>5</td>\n",
       "    </tr>\n",
       "  </tbody>\n",
       "</table>\n",
       "<p>5 rows × 250 columns</p>\n",
       "</div>"
      ],
      "text/plain": [
       "   102_154  108_109  108_110  108_1247  108_2  108_3  108_41  108_5  109_108  \\\n",
       "0        0        0        0         0      0      0       0      0        0   \n",
       "1        0        0        0         0      0      0       0      0        0   \n",
       "2        0        0        0         0      0      0       0      0        0   \n",
       "3        0        0        0         0      0      0       0      0        0   \n",
       "4        5        5        0         0      0      0       0      0        0   \n",
       "\n",
       "   109_110  ...  page_42  page_455  page_457  page_49  page_50  page_57  \\\n",
       "0        0  ...        3         0         0        1        1        1   \n",
       "1        0  ...        0         0         0        0        0        0   \n",
       "2        0  ...        3         0         0        0        0        1   \n",
       "3        0  ...        1         0         0        0        0        0   \n",
       "4        5  ...        5         0         0        0        0       14   \n",
       "\n",
       "   page_64  page_65  page_69  page_89  \n",
       "0        0        0        0        0  \n",
       "1        0        0        0        0  \n",
       "2        7        3        4        0  \n",
       "3        0        0        0        4  \n",
       "4        2        7       13        5  \n",
       "\n",
       "[5 rows x 250 columns]"
      ]
     },
     "execution_count": 53,
     "metadata": {},
     "output_type": "execute_result"
    }
   ],
   "source": [
    "X_train[list_var_anova].head()"
   ]
  },
  {
   "cell_type": "code",
   "execution_count": null,
   "id": "1f630846-821f-408d-a40a-7462fad4ec5d",
   "metadata": {},
   "outputs": [],
   "source": []
  },
  {
   "cell_type": "code",
   "execution_count": 54,
   "id": "c978581f-981e-4d10-a7e4-ddbd07fee026",
   "metadata": {},
   "outputs": [
    {
     "name": "stdout",
     "output_type": "stream",
     "text": [
      "['10_10', '110_57', '168_168', '1_2', '2_2_x', '3_20', '3_27', '3_4', '40_2', '85_85', '9_9', 'speed_1', '1_x', '3', '0_trabajo_manana', '1_almuerzo', '1_antes_del_trabajo', '1_luego_del_trabajo', '1_madrugada', '1_trabajo_manana', '2_antes_del_trabajo', '2_luego_del_trabajo', '2_trabajo_manana', '3_trabajo_manana', '4_trabajo_tarde', '5_almuerzo', '5_trabajo_manana', '6_trabajo_tarde', '18_24', 'inicio_mes', 'quincena', '16_2', 'page_110', 'page_153', 'page_2', 'page_20', 'page_21', 'page_3', 'page_32', 'page_39', 'page_4', 'page_41', 'page_57', 'page_85']\n"
     ]
    }
   ],
   "source": [
    "print(list_var_relevants)"
   ]
  },
  {
   "cell_type": "code",
   "execution_count": 55,
   "id": "ea953710-bc28-4a12-a689-cde7273c71c9",
   "metadata": {},
   "outputs": [
    {
     "name": "stdout",
     "output_type": "stream",
     "text": [
      "['108_109', '108_110', '108_1247', '108_41', '109_108', '109_110', '10_12', '110_109', '110_110', '110_1259', '110_2', '110_20', '110_21', '110_27', '110_285', '110_296', '110_3', '110_40', '110_41', '110_42', '110_5', '110_57', '111_10', '1247_1248', '1248_1249', '1250_1251', '1259_110', '140_146', '146_186', '153_2', '153_23', '153_3', '153_41', '168_168', '186_187', '187_27', '202_203', '20_27', '20_41', '21_41', '23_153', '23_27', '23_3', '23_41', '23_65', '24_25', '25_49', '26_41', '27_153', '27_2', '27_20', '27_23', '27_3', '27_41', '27_65', '27_69', '285_110', '285_286', '285_41', '286_285', '286_287', '287_133', '287_286', '287_345', '287_61', '296_110', '296_41', '2_2_x', '2_3', '2_5', '321_321', '321_455', '321_85', '321_89', '32_41', '345_41', '39_41', '3_108', '3_1259', '3_2', '3_21', '3_23', '3_27', '3_3_x', '3_4', '3_41', '3_42', '3_69', '40_2', '40_426', '41_108', '41_109', '41_110', '41_2', '41_20', '41_21', '41_27', '41_285', '41_296', '41_3', '41_39', '41_40', '41_41', '41_42', '41_5', '41_57', '42_3', '42_41', '455_85', '461_461', '47_111', '49_50', '4_24', '4_3', '4_41', '50_26', '57_110', '57_2', '57_27', '57_3', '57_41', '5_2_x', '5_5', '61_345', '65_27', '65_41', '69_140', '69_27', '69_3', '69_41', '69_64', '85_321', '85_85', '85_89', '89_321', '9_9', 'hizo_conversion_este_mes', 'speed_0', 'speed_1', 'speed_2', 'speed_3', 'device_0', 'device_1', '2', '3', '0_almuerzo', '0_antes_del_trabajo', '0_luego_del_trabajo', '0_madrugada', '0_trabajo_manana', '0_trabajo_tarde', '1_almuerzo', '1_antes_del_trabajo', '1_luego_del_trabajo', '1_madrugada', '1_trabajo_manana', '1_trabajo_tarde', '2_almuerzo', '2_antes_del_trabajo', '2_luego_del_trabajo', '2_madrugada', '2_trabajo_manana', '2_trabajo_tarde', '3_almuerzo', '3_antes_del_trabajo', '3_luego_del_trabajo', '3_madrugada', '3_trabajo_manana', '3_trabajo_tarde', '4_almuerzo', '4_antes_del_trabajo', '4_luego_del_trabajo', '4_madrugada', '4_trabajo_manana', '4_trabajo_tarde', '5_almuerzo', '5_antes_del_trabajo', '5_luego_del_trabajo', '5_madrugada', '5_trabajo_manana', '5_trabajo_tarde', '6_almuerzo', '6_luego_del_trabajo', '6_madrugada', '6_trabajo_manana', '6_trabajo_tarde', '18_24', '7_12', 'fin_de_mes', 'inicio_mes', 'quincena', '16_2', '2_2_y', '1_y', 'page_10', 'page_102', 'page_108', 'page_109', 'page_110', 'page_111', 'page_12', 'page_1247', 'page_1248', 'page_1249', 'page_1250', 'page_1251', 'page_1259', 'page_140', 'page_146', 'page_153', 'page_168', 'page_18', 'page_186', 'page_187', 'page_2', 'page_20', 'page_202', 'page_203', 'page_21', 'page_23', 'page_24', 'page_25', 'page_26', 'page_27', 'page_285', 'page_286', 'page_287', 'page_289', 'page_296', 'page_3', 'page_321', 'page_345', 'page_4', 'page_40', 'page_41', 'page_42', 'page_451', 'page_455', 'page_49', 'page_5', 'page_50', 'page_57', 'page_64', 'page_65', 'page_69', 'page_721', 'page_85', 'page_88', 'page_89', 'page_9']\n"
     ]
    }
   ],
   "source": [
    "print(list_var_chi)"
   ]
  },
  {
   "cell_type": "code",
   "execution_count": 56,
   "id": "920665a2-91b6-405d-b515-543897fd97a2",
   "metadata": {},
   "outputs": [
    {
     "name": "stdout",
     "output_type": "stream",
     "text": [
      "['102_154', '108_109', '108_110', '108_1247', '108_2', '108_3', '108_41', '108_5', '109_108', '109_110', '109_2', '109_27', '109_3', '109_41', '109_57', '110_1', '110_108', '110_109', '110_110', '110_1259', '110_2', '110_20', '110_21', '110_26', '110_27', '110_285', '110_296', '110_3', '110_369', '110_39', '110_40', '110_41', '110_42', '110_45', '110_5', '110_57', '1247_108', '1247_1248', '1248_1247', '1248_1249', '1249_1248', '1249_1250', '1250_1251', '1251_57', '1259_110', '1259_2', '1259_3', '1259_41', '133_345', '138_2', '140_146', '1464_41', '146_186', '153_2', '153_23', '153_3', '153_41', '153_5', '154_159', '166_41', '186_187', '187_27', '187_3', '20_108', '20_1259', '20_41', '21_108', '21_1259', '21_41', '23_102', '23_140', '23_153', '23_27', '23_41', '23_61', '23_65', '24_25', '25_49', '26_27', '26_41', '27_108', '27_140', '27_153', '27_2', '27_23', '27_3', '27_41', '27_65', '27_69', '285_110', '285_286', '285_41', '285_5', '286_285', '286_287', '287_133', '287_286', '287_345', '287_41', '287_61', '289_2', '296_110', '296_41', '2_108', '2_2_x', '2_289', '2_3', '2_41', '321_2', '321_455', '321_85', '321_88', '32_41', '345_3', '345_41', '345_57', '39_41', '3_108', '3_109', '3_110', '3_1259', '3_2', '3_23', '3_27', '3_296', '3_41', '3_42', '3_65', '40_289', '41_108', '41_109', '41_110', '41_2', '41_20', '41_21', '41_26', '41_27', '41_285', '41_296', '41_3', '41_39', '41_40', '41_41', '41_42', '41_45', '41_5', '41_55', '41_57', '41_6', '42_3', '42_41', '42_57', '455_85', '456_457', '49_50', '4_41', '50_26', '57_110', '57_2', '57_20', '57_27', '57_3', '57_40', '57_41', '57_42', '61_345', '61_41', '61_57', '64_3', '64_41', '65_27', '65_3', '65_41', '69_140', '69_41', '69_64', '6_41', '85_321', '85_89', '89_321', 'hizo_conversion_este_mes', 'speed_2', 'device_0', '3', '0_luego_del_trabajo', '0_trabajo_manana', '1_luego_del_trabajo', '1_trabajo_manana', '1_trabajo_tarde', '2_luego_del_trabajo', '3_luego_del_trabajo', '3_trabajo_manana', '4_luego_del_trabajo', '4_trabajo_manana', '4_trabajo_tarde', '5_almuerzo', '5_luego_del_trabajo', '5_trabajo_manana', '5_trabajo_tarde', '18_24', '7_12', 'fin_de_mes', 'inicio_mes', 'quincena', '16_2', '2_2_y', '1_y', 'page_102', 'page_108', 'page_109', 'page_110', 'page_111', 'page_1247', 'page_1248', 'page_1249', 'page_1250', 'page_1251', 'page_1259', 'page_138', 'page_140', 'page_146', 'page_153', 'page_154', 'page_159', 'page_166', 'page_186', 'page_187', 'page_2', 'page_23', 'page_25', 'page_27', 'page_285', 'page_286', 'page_287', 'page_289', 'page_296', 'page_3', 'page_321', 'page_345', 'page_41', 'page_42', 'page_455', 'page_457', 'page_49', 'page_50', 'page_57', 'page_64', 'page_65', 'page_69', 'page_89']\n"
     ]
    }
   ],
   "source": [
    "print(list_var_anova)"
   ]
  },
  {
   "cell_type": "code",
   "execution_count": null,
   "id": "7a2fadf2-1b0e-4b06-a86e-562f9ba2faa9",
   "metadata": {},
   "outputs": [],
   "source": []
  },
  {
   "cell_type": "code",
   "execution_count": null,
   "id": "d96bdee7-b29d-478f-94bb-aa46f2a08e2b",
   "metadata": {},
   "outputs": [],
   "source": []
  },
  {
   "cell_type": "code",
   "execution_count": 57,
   "id": "fc8d5ef8-104a-42b7-8d63-b1bec109a602",
   "metadata": {},
   "outputs": [],
   "source": [
    "import lightgbm as lgb\n",
    "fit_params = {\n",
    "    \"eval_metric\" : 'auc', \n",
    "    'verbose': 2\n",
    "}\n",
    "\n",
    "lgbm_grid = {\n",
    "    'bagging_fraction': [0.65, 0.75, 0.85, 0.95],\n",
    "    'feature_fraction': [0.15, 0.25, 0.35, 0.45],\n",
    "    'n_estimators': [150, 450, 750],\n",
    "    'num_leaves': [65, 129],\n",
    "    'max_depth': [3, 5, 7],\n",
    "    'learning_rate': [0.025, 0.05, 0.1, 0.15],\n",
    "    'min_data_in_leaf': [100, 500],\n",
    "    'extra_trees': [True, False],\n",
    "    'deterministic': [True, False],\n",
    "    'tree_learner': ['serial'],\n",
    "    'boosting': ['gbdt'],\n",
    "    'lambda_l2': [0],\n",
    "    'lambda_l1': [0],\n",
    "    'is_unbalance': [True],\n",
    "    'min_gain_to_split': [1]\n",
    "}"
   ]
  },
  {
   "cell_type": "code",
   "execution_count": 58,
   "id": "e12a95dc-fc04-4444-ba49-379f4b82315f",
   "metadata": {},
   "outputs": [],
   "source": [
    "def apply_lgbm(X_train_part, X_test_part, y_train, users, add='', cv=None):\n",
    "    model_lgbm = lgb.LGBMClassifier(\n",
    "        seed=SEED, \n",
    "        feature_fraction_seed=SEED, \n",
    "        drop_seed=SEED,\n",
    "        bagging_seed=SEED\n",
    "    )\n",
    "    grid = RandomizedSearchCV(\n",
    "        model_lgbm, lgbm_grid, cv=cv, \n",
    "        n_jobs=-1, \n",
    "        scoring='roc_auc', \n",
    "        verbose=1,\n",
    "        n_iter=100\n",
    "    )\n",
    "    grid.fit(X_train_part, y_train, **fit_params)\n",
    "    print(\"-> \", grid.best_score_)\n",
    "    \n",
    "    predict_test = grid.best_estimator_.predict_proba(X_test_part)[:,1]\n",
    "    predict_test = pd.DataFrame(\n",
    "        {'USER_ID':users, \n",
    "         'SCORE':predict_test} \n",
    "    )\n",
    "    display(predict_test.head())\n",
    "    print(predict_test[predict_test['SCORE'] < 0.01].shape)\n",
    "    print(predict_test[predict_test['SCORE'] > 0.5].shape)\n",
    "    print(predict_test[predict_test['SCORE'] > 0.99].shape)\n",
    "    \n",
    "    return grid, predict_test"
   ]
  },
  {
   "cell_type": "code",
   "execution_count": 59,
   "id": "879eb04c-75b4-4147-b035-b80f608663d4",
   "metadata": {},
   "outputs": [
    {
     "data": {
      "text/plain": [
       "((33495, 4976), (11429, 4976))"
      ]
     },
     "execution_count": 59,
     "metadata": {},
     "output_type": "execute_result"
    }
   ],
   "source": [
    "X_train.shape, X_test.shape"
   ]
  },
  {
   "cell_type": "code",
   "execution_count": 60,
   "id": "d79a8689-d821-44a8-ba19-0b4877cbac0d",
   "metadata": {},
   "outputs": [
    {
     "name": "stdout",
     "output_type": "stream",
     "text": [
      "Fitting 10 folds for each of 100 candidates, totalling 1000 fits\n",
      "[LightGBM] [Warning] boosting is set=gbdt, boosting_type=gbdt will be ignored. Current value: boosting=gbdt\n",
      "[LightGBM] [Warning] feature_fraction is set=0.45, colsample_bytree=1.0 will be ignored. Current value: feature_fraction=0.45\n",
      "[LightGBM] [Warning] min_data_in_leaf is set=500, min_child_samples=20 will be ignored. Current value: min_data_in_leaf=500\n",
      "[LightGBM] [Warning] min_gain_to_split is set=1, min_split_gain=0.0 will be ignored. Current value: min_gain_to_split=1\n",
      "[LightGBM] [Warning] lambda_l1 is set=0, reg_alpha=0.0 will be ignored. Current value: lambda_l1=0\n",
      "[LightGBM] [Warning] bagging_fraction is set=0.75, subsample=1.0 will be ignored. Current value: bagging_fraction=0.75\n",
      "[LightGBM] [Warning] lambda_l2 is set=0, reg_lambda=0.0 will be ignored. Current value: lambda_l2=0\n",
      "->  0.822694067156106\n"
     ]
    },
    {
     "data": {
      "text/html": [
       "<div>\n",
       "<style scoped>\n",
       "    .dataframe tbody tr th:only-of-type {\n",
       "        vertical-align: middle;\n",
       "    }\n",
       "\n",
       "    .dataframe tbody tr th {\n",
       "        vertical-align: top;\n",
       "    }\n",
       "\n",
       "    .dataframe thead th {\n",
       "        text-align: right;\n",
       "    }\n",
       "</style>\n",
       "<table border=\"1\" class=\"dataframe\">\n",
       "  <thead>\n",
       "    <tr style=\"text-align: right;\">\n",
       "      <th></th>\n",
       "      <th>USER_ID</th>\n",
       "      <th>SCORE</th>\n",
       "    </tr>\n",
       "  </thead>\n",
       "  <tbody>\n",
       "    <tr>\n",
       "      <th>33495</th>\n",
       "      <td>0</td>\n",
       "      <td>0.324268</td>\n",
       "    </tr>\n",
       "    <tr>\n",
       "      <th>33496</th>\n",
       "      <td>1</td>\n",
       "      <td>0.231111</td>\n",
       "    </tr>\n",
       "    <tr>\n",
       "      <th>33497</th>\n",
       "      <td>2</td>\n",
       "      <td>0.176565</td>\n",
       "    </tr>\n",
       "    <tr>\n",
       "      <th>33498</th>\n",
       "      <td>3</td>\n",
       "      <td>0.369659</td>\n",
       "    </tr>\n",
       "    <tr>\n",
       "      <th>33499</th>\n",
       "      <td>4</td>\n",
       "      <td>0.333910</td>\n",
       "    </tr>\n",
       "  </tbody>\n",
       "</table>\n",
       "</div>"
      ],
      "text/plain": [
       "       USER_ID     SCORE\n",
       "33495        0  0.324268\n",
       "33496        1  0.231111\n",
       "33497        2  0.176565\n",
       "33498        3  0.369659\n",
       "33499        4  0.333910"
      ]
     },
     "metadata": {},
     "output_type": "display_data"
    },
    {
     "name": "stdout",
     "output_type": "stream",
     "text": [
      "(0, 2)\n",
      "(2300, 2)\n",
      "(0, 2)\n",
      "Wall time: 10min 11s\n"
     ]
    },
    {
     "data": {
      "text/plain": [
       "4311"
      ]
     },
     "execution_count": 60,
     "metadata": {},
     "output_type": "execute_result"
    }
   ],
   "source": [
    "%%time\n",
    "\n",
    "grid_1, predict_1 = apply_lgbm(\n",
    "    X_train[list_var_relevants], \n",
    "    X_test[list_var_relevants], \n",
    "    y_train, \n",
    "    users_test, \n",
    "    add='lasso',\n",
    "    cv=time_split\n",
    ")\n",
    "gc.collect()"
   ]
  },
  {
   "cell_type": "code",
   "execution_count": 61,
   "id": "500820e1-ffbe-4271-8871-c71351eb06fc",
   "metadata": {},
   "outputs": [
    {
     "name": "stdout",
     "output_type": "stream",
     "text": [
      "Fitting 10 folds for each of 100 candidates, totalling 1000 fits\n",
      "[LightGBM] [Warning] boosting is set=gbdt, boosting_type=gbdt will be ignored. Current value: boosting=gbdt\n",
      "[LightGBM] [Warning] feature_fraction is set=0.25, colsample_bytree=1.0 will be ignored. Current value: feature_fraction=0.25\n",
      "[LightGBM] [Warning] min_data_in_leaf is set=100, min_child_samples=20 will be ignored. Current value: min_data_in_leaf=100\n",
      "[LightGBM] [Warning] min_gain_to_split is set=1, min_split_gain=0.0 will be ignored. Current value: min_gain_to_split=1\n",
      "[LightGBM] [Warning] lambda_l1 is set=0, reg_alpha=0.0 will be ignored. Current value: lambda_l1=0\n",
      "[LightGBM] [Warning] bagging_fraction is set=0.95, subsample=1.0 will be ignored. Current value: bagging_fraction=0.95\n",
      "[LightGBM] [Warning] lambda_l2 is set=0, reg_lambda=0.0 will be ignored. Current value: lambda_l2=0\n",
      "->  0.8300850532172875\n"
     ]
    },
    {
     "data": {
      "text/html": [
       "<div>\n",
       "<style scoped>\n",
       "    .dataframe tbody tr th:only-of-type {\n",
       "        vertical-align: middle;\n",
       "    }\n",
       "\n",
       "    .dataframe tbody tr th {\n",
       "        vertical-align: top;\n",
       "    }\n",
       "\n",
       "    .dataframe thead th {\n",
       "        text-align: right;\n",
       "    }\n",
       "</style>\n",
       "<table border=\"1\" class=\"dataframe\">\n",
       "  <thead>\n",
       "    <tr style=\"text-align: right;\">\n",
       "      <th></th>\n",
       "      <th>USER_ID</th>\n",
       "      <th>SCORE</th>\n",
       "    </tr>\n",
       "  </thead>\n",
       "  <tbody>\n",
       "    <tr>\n",
       "      <th>33495</th>\n",
       "      <td>0</td>\n",
       "      <td>0.227085</td>\n",
       "    </tr>\n",
       "    <tr>\n",
       "      <th>33496</th>\n",
       "      <td>1</td>\n",
       "      <td>0.206639</td>\n",
       "    </tr>\n",
       "    <tr>\n",
       "      <th>33497</th>\n",
       "      <td>2</td>\n",
       "      <td>0.151076</td>\n",
       "    </tr>\n",
       "    <tr>\n",
       "      <th>33498</th>\n",
       "      <td>3</td>\n",
       "      <td>0.255553</td>\n",
       "    </tr>\n",
       "    <tr>\n",
       "      <th>33499</th>\n",
       "      <td>4</td>\n",
       "      <td>0.410654</td>\n",
       "    </tr>\n",
       "  </tbody>\n",
       "</table>\n",
       "</div>"
      ],
      "text/plain": [
       "       USER_ID     SCORE\n",
       "33495        0  0.227085\n",
       "33496        1  0.206639\n",
       "33497        2  0.151076\n",
       "33498        3  0.255553\n",
       "33499        4  0.410654"
      ]
     },
     "metadata": {},
     "output_type": "display_data"
    },
    {
     "name": "stdout",
     "output_type": "stream",
     "text": [
      "(0, 2)\n",
      "(2031, 2)\n",
      "(0, 2)\n",
      "Wall time: 27min 51s\n"
     ]
    },
    {
     "data": {
      "text/plain": [
       "4914"
      ]
     },
     "execution_count": 61,
     "metadata": {},
     "output_type": "execute_result"
    }
   ],
   "source": [
    "%%time\n",
    "\n",
    "grid_2, predict_2 = apply_lgbm(\n",
    "    X_train[list_var_chi], \n",
    "    X_test[list_var_chi], \n",
    "    y_train, \n",
    "    users_test, \n",
    "    add='chi',\n",
    "    cv=time_split\n",
    ")\n",
    "gc.collect()"
   ]
  },
  {
   "cell_type": "code",
   "execution_count": 62,
   "id": "1579aa46-f4f4-4233-b409-cc5efa6e4a68",
   "metadata": {},
   "outputs": [
    {
     "name": "stdout",
     "output_type": "stream",
     "text": [
      "Fitting 10 folds for each of 100 candidates, totalling 1000 fits\n",
      "[LightGBM] [Warning] boosting is set=gbdt, boosting_type=gbdt will be ignored. Current value: boosting=gbdt\n",
      "[LightGBM] [Warning] feature_fraction is set=0.45, colsample_bytree=1.0 will be ignored. Current value: feature_fraction=0.45\n",
      "[LightGBM] [Warning] min_data_in_leaf is set=100, min_child_samples=20 will be ignored. Current value: min_data_in_leaf=100\n",
      "[LightGBM] [Warning] min_gain_to_split is set=1, min_split_gain=0.0 will be ignored. Current value: min_gain_to_split=1\n",
      "[LightGBM] [Warning] lambda_l1 is set=0, reg_alpha=0.0 will be ignored. Current value: lambda_l1=0\n",
      "[LightGBM] [Warning] bagging_fraction is set=0.65, subsample=1.0 will be ignored. Current value: bagging_fraction=0.65\n",
      "[LightGBM] [Warning] lambda_l2 is set=0, reg_lambda=0.0 will be ignored. Current value: lambda_l2=0\n",
      "->  0.830760018882202\n"
     ]
    },
    {
     "data": {
      "text/html": [
       "<div>\n",
       "<style scoped>\n",
       "    .dataframe tbody tr th:only-of-type {\n",
       "        vertical-align: middle;\n",
       "    }\n",
       "\n",
       "    .dataframe tbody tr th {\n",
       "        vertical-align: top;\n",
       "    }\n",
       "\n",
       "    .dataframe thead th {\n",
       "        text-align: right;\n",
       "    }\n",
       "</style>\n",
       "<table border=\"1\" class=\"dataframe\">\n",
       "  <thead>\n",
       "    <tr style=\"text-align: right;\">\n",
       "      <th></th>\n",
       "      <th>USER_ID</th>\n",
       "      <th>SCORE</th>\n",
       "    </tr>\n",
       "  </thead>\n",
       "  <tbody>\n",
       "    <tr>\n",
       "      <th>33495</th>\n",
       "      <td>0</td>\n",
       "      <td>0.181663</td>\n",
       "    </tr>\n",
       "    <tr>\n",
       "      <th>33496</th>\n",
       "      <td>1</td>\n",
       "      <td>0.204653</td>\n",
       "    </tr>\n",
       "    <tr>\n",
       "      <th>33497</th>\n",
       "      <td>2</td>\n",
       "      <td>0.206486</td>\n",
       "    </tr>\n",
       "    <tr>\n",
       "      <th>33498</th>\n",
       "      <td>3</td>\n",
       "      <td>0.275689</td>\n",
       "    </tr>\n",
       "    <tr>\n",
       "      <th>33499</th>\n",
       "      <td>4</td>\n",
       "      <td>0.304443</td>\n",
       "    </tr>\n",
       "  </tbody>\n",
       "</table>\n",
       "</div>"
      ],
      "text/plain": [
       "       USER_ID     SCORE\n",
       "33495        0  0.181663\n",
       "33496        1  0.204653\n",
       "33497        2  0.206486\n",
       "33498        3  0.275689\n",
       "33499        4  0.304443"
      ]
     },
     "metadata": {},
     "output_type": "display_data"
    },
    {
     "name": "stdout",
     "output_type": "stream",
     "text": [
      "(0, 2)\n",
      "(2187, 2)\n",
      "(0, 2)\n",
      "Wall time: 20min 32s\n"
     ]
    },
    {
     "data": {
      "text/plain": [
       "4625"
      ]
     },
     "execution_count": 62,
     "metadata": {},
     "output_type": "execute_result"
    }
   ],
   "source": [
    "%%time\n",
    "\n",
    "grid_3, predict_3 = apply_lgbm(\n",
    "    X_train[list_var_anova], \n",
    "    X_test[list_var_anova], \n",
    "    y_train, \n",
    "    users_test, \n",
    "    add='anova',\n",
    "    cv=time_split\n",
    ")\n",
    "gc.collect()"
   ]
  },
  {
   "cell_type": "code",
   "execution_count": 63,
   "id": "29ed5cf7-0df3-4ba3-9a3b-6ea8a9a91b50",
   "metadata": {},
   "outputs": [],
   "source": [
    "#grid_3.best_estimator_.feature_importances_"
   ]
  },
  {
   "cell_type": "code",
   "execution_count": 64,
   "id": "917a3c30-59f4-4ebc-9513-d1b1f93ad00b",
   "metadata": {},
   "outputs": [],
   "source": [
    "#print(dir(grid_3.best_estimator_))"
   ]
  },
  {
   "cell_type": "markdown",
   "id": "149c3272-cbe1-4bcf-8985-8f802dcf3a8a",
   "metadata": {},
   "source": [
    "### UP"
   ]
  },
  {
   "cell_type": "code",
   "execution_count": 65,
   "id": "6853f9a2-f064-4521-8167-0d085f2d002a",
   "metadata": {},
   "outputs": [],
   "source": [
    "def _save(predict): \n",
    "    sub = pd.read_csv('data/sampleSubmission.zip')\n",
    "    sub = sub.merge(\n",
    "        predict, \n",
    "        how='left', \n",
    "        on=['USER_ID']\n",
    "    )\n",
    "    \n",
    "    sub['SCORE'] = sub['SCORE_y'].combine_first(sub['SCORE_x'])\n",
    "    del sub['SCORE_y']\n",
    "    del sub['SCORE_x']\n",
    "    \n",
    "    return sub"
   ]
  },
  {
   "cell_type": "code",
   "execution_count": 66,
   "id": "b31edc49-90e1-4889-a8f5-1d18bdcffe8d",
   "metadata": {},
   "outputs": [],
   "source": [
    "predict_1_ = _save(predict_1)\n",
    "predict_1_.to_csv('lgbm_time_split_lasso_1.csv', index=False)"
   ]
  },
  {
   "cell_type": "code",
   "execution_count": 67,
   "id": "72e73734-d257-4906-8cd3-755b2b9bce6d",
   "metadata": {},
   "outputs": [],
   "source": [
    "predict_2_ = _save(predict_2)\n",
    "predict_2_.to_csv('lgbm_time_split_chi_1.csv', index=False)"
   ]
  },
  {
   "cell_type": "code",
   "execution_count": 68,
   "id": "e505eaef-02a6-4cf3-866e-f14b0554a15d",
   "metadata": {},
   "outputs": [],
   "source": [
    "predict_3_ = _save(predict_3)\n",
    "predict_3_.to_csv('lgbm_time_split_anova_1.csv', index=False)"
   ]
  },
  {
   "cell_type": "code",
   "execution_count": null,
   "id": "cac1fd23-65ee-452a-a12e-af06985d736f",
   "metadata": {},
   "outputs": [],
   "source": []
  },
  {
   "cell_type": "code",
   "execution_count": null,
   "id": "ca3f4ea6-e9c0-4402-bfbc-35cd373f4eb5",
   "metadata": {},
   "outputs": [],
   "source": []
  },
  {
   "cell_type": "markdown",
   "id": "f82e44d5-4bc2-462c-9a41-6d2e19446f44",
   "metadata": {},
   "source": [
    "### STRATIFICACION"
   ]
  },
  {
   "cell_type": "code",
   "execution_count": 70,
   "id": "7d339320-f5a2-4701-b99d-20a93544611d",
   "metadata": {},
   "outputs": [
    {
     "name": "stdout",
     "output_type": "stream",
     "text": [
      "Fitting 8 folds for each of 100 candidates, totalling 800 fits\n",
      "[LightGBM] [Warning] boosting is set=gbdt, boosting_type=gbdt will be ignored. Current value: boosting=gbdt\n",
      "[LightGBM] [Warning] feature_fraction is set=0.45, colsample_bytree=1.0 will be ignored. Current value: feature_fraction=0.45\n",
      "[LightGBM] [Warning] min_data_in_leaf is set=100, min_child_samples=20 will be ignored. Current value: min_data_in_leaf=100\n",
      "[LightGBM] [Warning] min_gain_to_split is set=1, min_split_gain=0.0 will be ignored. Current value: min_gain_to_split=1\n",
      "[LightGBM] [Warning] lambda_l1 is set=0, reg_alpha=0.0 will be ignored. Current value: lambda_l1=0\n",
      "[LightGBM] [Warning] bagging_fraction is set=0.65, subsample=1.0 will be ignored. Current value: bagging_fraction=0.65\n",
      "[LightGBM] [Warning] lambda_l2 is set=0, reg_lambda=0.0 will be ignored. Current value: lambda_l2=0\n",
      "->  0.8231472017653282\n"
     ]
    },
    {
     "data": {
      "text/html": [
       "<div>\n",
       "<style scoped>\n",
       "    .dataframe tbody tr th:only-of-type {\n",
       "        vertical-align: middle;\n",
       "    }\n",
       "\n",
       "    .dataframe tbody tr th {\n",
       "        vertical-align: top;\n",
       "    }\n",
       "\n",
       "    .dataframe thead th {\n",
       "        text-align: right;\n",
       "    }\n",
       "</style>\n",
       "<table border=\"1\" class=\"dataframe\">\n",
       "  <thead>\n",
       "    <tr style=\"text-align: right;\">\n",
       "      <th></th>\n",
       "      <th>USER_ID</th>\n",
       "      <th>SCORE</th>\n",
       "    </tr>\n",
       "  </thead>\n",
       "  <tbody>\n",
       "    <tr>\n",
       "      <th>33495</th>\n",
       "      <td>0</td>\n",
       "      <td>0.185781</td>\n",
       "    </tr>\n",
       "    <tr>\n",
       "      <th>33496</th>\n",
       "      <td>1</td>\n",
       "      <td>0.175924</td>\n",
       "    </tr>\n",
       "    <tr>\n",
       "      <th>33497</th>\n",
       "      <td>2</td>\n",
       "      <td>0.224617</td>\n",
       "    </tr>\n",
       "    <tr>\n",
       "      <th>33498</th>\n",
       "      <td>3</td>\n",
       "      <td>0.317516</td>\n",
       "    </tr>\n",
       "    <tr>\n",
       "      <th>33499</th>\n",
       "      <td>4</td>\n",
       "      <td>0.295783</td>\n",
       "    </tr>\n",
       "  </tbody>\n",
       "</table>\n",
       "</div>"
      ],
      "text/plain": [
       "       USER_ID     SCORE\n",
       "33495        0  0.185781\n",
       "33496        1  0.175924\n",
       "33497        2  0.224617\n",
       "33498        3  0.317516\n",
       "33499        4  0.295783"
      ]
     },
     "metadata": {},
     "output_type": "display_data"
    },
    {
     "name": "stdout",
     "output_type": "stream",
     "text": [
      "(0, 2)\n",
      "(2582, 2)\n",
      "(0, 2)\n",
      "Wall time: 11min 4s\n"
     ]
    },
    {
     "data": {
      "text/plain": [
       "2789"
      ]
     },
     "execution_count": 70,
     "metadata": {},
     "output_type": "execute_result"
    }
   ],
   "source": [
    "%%time\n",
    "\n",
    "grid_1_r, predict_1_r = apply_lgbm(\n",
    "    X_train[list_var_relevants], \n",
    "    X_test[list_var_relevants], \n",
    "    y_train, \n",
    "    users_test, \n",
    "    add='lasso',\n",
    "    cv=repeat\n",
    ")\n",
    "gc.collect()"
   ]
  },
  {
   "cell_type": "code",
   "execution_count": 71,
   "id": "23d27afe-5e9f-4d4f-9258-72fe7989a13d",
   "metadata": {},
   "outputs": [
    {
     "name": "stdout",
     "output_type": "stream",
     "text": [
      "Fitting 8 folds for each of 100 candidates, totalling 800 fits\n",
      "[LightGBM] [Warning] boosting is set=gbdt, boosting_type=gbdt will be ignored. Current value: boosting=gbdt\n",
      "[LightGBM] [Warning] feature_fraction is set=0.35, colsample_bytree=1.0 will be ignored. Current value: feature_fraction=0.35\n",
      "[LightGBM] [Warning] min_data_in_leaf is set=500, min_child_samples=20 will be ignored. Current value: min_data_in_leaf=500\n",
      "[LightGBM] [Warning] min_gain_to_split is set=1, min_split_gain=0.0 will be ignored. Current value: min_gain_to_split=1\n",
      "[LightGBM] [Warning] lambda_l1 is set=0, reg_alpha=0.0 will be ignored. Current value: lambda_l1=0\n",
      "[LightGBM] [Warning] bagging_fraction is set=0.95, subsample=1.0 will be ignored. Current value: bagging_fraction=0.95\n",
      "[LightGBM] [Warning] lambda_l2 is set=0, reg_lambda=0.0 will be ignored. Current value: lambda_l2=0\n",
      "->  0.8352546088594217\n"
     ]
    },
    {
     "data": {
      "text/html": [
       "<div>\n",
       "<style scoped>\n",
       "    .dataframe tbody tr th:only-of-type {\n",
       "        vertical-align: middle;\n",
       "    }\n",
       "\n",
       "    .dataframe tbody tr th {\n",
       "        vertical-align: top;\n",
       "    }\n",
       "\n",
       "    .dataframe thead th {\n",
       "        text-align: right;\n",
       "    }\n",
       "</style>\n",
       "<table border=\"1\" class=\"dataframe\">\n",
       "  <thead>\n",
       "    <tr style=\"text-align: right;\">\n",
       "      <th></th>\n",
       "      <th>USER_ID</th>\n",
       "      <th>SCORE</th>\n",
       "    </tr>\n",
       "  </thead>\n",
       "  <tbody>\n",
       "    <tr>\n",
       "      <th>33495</th>\n",
       "      <td>0</td>\n",
       "      <td>0.215737</td>\n",
       "    </tr>\n",
       "    <tr>\n",
       "      <th>33496</th>\n",
       "      <td>1</td>\n",
       "      <td>0.200173</td>\n",
       "    </tr>\n",
       "    <tr>\n",
       "      <th>33497</th>\n",
       "      <td>2</td>\n",
       "      <td>0.199624</td>\n",
       "    </tr>\n",
       "    <tr>\n",
       "      <th>33498</th>\n",
       "      <td>3</td>\n",
       "      <td>0.227701</td>\n",
       "    </tr>\n",
       "    <tr>\n",
       "      <th>33499</th>\n",
       "      <td>4</td>\n",
       "      <td>0.398858</td>\n",
       "    </tr>\n",
       "  </tbody>\n",
       "</table>\n",
       "</div>"
      ],
      "text/plain": [
       "       USER_ID     SCORE\n",
       "33495        0  0.215737\n",
       "33496        1  0.200173\n",
       "33497        2  0.199624\n",
       "33498        3  0.227701\n",
       "33499        4  0.398858"
      ]
     },
     "metadata": {},
     "output_type": "display_data"
    },
    {
     "name": "stdout",
     "output_type": "stream",
     "text": [
      "(0, 2)\n",
      "(2446, 2)\n",
      "(0, 2)\n",
      "Wall time: 35min 47s\n"
     ]
    },
    {
     "data": {
      "text/plain": [
       "2279"
      ]
     },
     "execution_count": 71,
     "metadata": {},
     "output_type": "execute_result"
    }
   ],
   "source": [
    "%%time\n",
    "\n",
    "grid_2_r, predict_2_r = apply_lgbm(\n",
    "    X_train[list_var_chi], \n",
    "    X_test[list_var_chi], \n",
    "    y_train, \n",
    "    users_test, \n",
    "    add='chi',\n",
    "    cv=repeat\n",
    ")\n",
    "gc.collect()"
   ]
  },
  {
   "cell_type": "code",
   "execution_count": 72,
   "id": "1cce6569-ceb5-401c-991b-494f2b123c4f",
   "metadata": {},
   "outputs": [
    {
     "name": "stdout",
     "output_type": "stream",
     "text": [
      "Fitting 8 folds for each of 100 candidates, totalling 800 fits\n",
      "[LightGBM] [Warning] boosting is set=gbdt, boosting_type=gbdt will be ignored. Current value: boosting=gbdt\n",
      "[LightGBM] [Warning] feature_fraction is set=0.25, colsample_bytree=1.0 will be ignored. Current value: feature_fraction=0.25\n",
      "[LightGBM] [Warning] min_data_in_leaf is set=500, min_child_samples=20 will be ignored. Current value: min_data_in_leaf=500\n",
      "[LightGBM] [Warning] min_gain_to_split is set=1, min_split_gain=0.0 will be ignored. Current value: min_gain_to_split=1\n",
      "[LightGBM] [Warning] lambda_l1 is set=0, reg_alpha=0.0 will be ignored. Current value: lambda_l1=0\n",
      "[LightGBM] [Warning] bagging_fraction is set=0.85, subsample=1.0 will be ignored. Current value: bagging_fraction=0.85\n",
      "[LightGBM] [Warning] lambda_l2 is set=0, reg_lambda=0.0 will be ignored. Current value: lambda_l2=0\n",
      "->  0.8344579221826559\n"
     ]
    },
    {
     "data": {
      "text/html": [
       "<div>\n",
       "<style scoped>\n",
       "    .dataframe tbody tr th:only-of-type {\n",
       "        vertical-align: middle;\n",
       "    }\n",
       "\n",
       "    .dataframe tbody tr th {\n",
       "        vertical-align: top;\n",
       "    }\n",
       "\n",
       "    .dataframe thead th {\n",
       "        text-align: right;\n",
       "    }\n",
       "</style>\n",
       "<table border=\"1\" class=\"dataframe\">\n",
       "  <thead>\n",
       "    <tr style=\"text-align: right;\">\n",
       "      <th></th>\n",
       "      <th>USER_ID</th>\n",
       "      <th>SCORE</th>\n",
       "    </tr>\n",
       "  </thead>\n",
       "  <tbody>\n",
       "    <tr>\n",
       "      <th>33495</th>\n",
       "      <td>0</td>\n",
       "      <td>0.208625</td>\n",
       "    </tr>\n",
       "    <tr>\n",
       "      <th>33496</th>\n",
       "      <td>1</td>\n",
       "      <td>0.198590</td>\n",
       "    </tr>\n",
       "    <tr>\n",
       "      <th>33497</th>\n",
       "      <td>2</td>\n",
       "      <td>0.191934</td>\n",
       "    </tr>\n",
       "    <tr>\n",
       "      <th>33498</th>\n",
       "      <td>3</td>\n",
       "      <td>0.255557</td>\n",
       "    </tr>\n",
       "    <tr>\n",
       "      <th>33499</th>\n",
       "      <td>4</td>\n",
       "      <td>0.340801</td>\n",
       "    </tr>\n",
       "  </tbody>\n",
       "</table>\n",
       "</div>"
      ],
      "text/plain": [
       "       USER_ID     SCORE\n",
       "33495        0  0.208625\n",
       "33496        1  0.198590\n",
       "33497        2  0.191934\n",
       "33498        3  0.255557\n",
       "33499        4  0.340801"
      ]
     },
     "metadata": {},
     "output_type": "display_data"
    },
    {
     "name": "stdout",
     "output_type": "stream",
     "text": [
      "(0, 2)\n",
      "(2457, 2)\n",
      "(0, 2)\n",
      "Wall time: 26min 41s\n"
     ]
    },
    {
     "data": {
      "text/plain": [
       "2279"
      ]
     },
     "execution_count": 72,
     "metadata": {},
     "output_type": "execute_result"
    }
   ],
   "source": [
    "%%time\n",
    "\n",
    "grid_3_r, predict_3_r = apply_lgbm(\n",
    "    X_train[list_var_anova], \n",
    "    X_test[list_var_anova], \n",
    "    y_train, \n",
    "    users_test, \n",
    "    add='anova',\n",
    "    cv=repeat\n",
    ")\n",
    "gc.collect()"
   ]
  },
  {
   "cell_type": "code",
   "execution_count": 73,
   "id": "7526f3a0-4eba-42eb-b56d-3b8bd2834912",
   "metadata": {},
   "outputs": [],
   "source": [
    "predict_1_r_ = _save(predict_1_r)\n",
    "predict_1_r_.to_csv('lgbm_repeat_stratify_lasso_1.csv', index=False)"
   ]
  },
  {
   "cell_type": "code",
   "execution_count": 74,
   "id": "84cb6876-6126-4abb-af62-caaa51b17d39",
   "metadata": {},
   "outputs": [],
   "source": [
    "predict_2_r_ = _save(predict_2_r)\n",
    "predict_2_r_.to_csv('lgbm_repeat_stratify_chi_1.csv', index=False)"
   ]
  },
  {
   "cell_type": "code",
   "execution_count": 75,
   "id": "f1f28c2e-3789-43bc-8aab-abe6de8867df",
   "metadata": {},
   "outputs": [],
   "source": [
    "predict_3_r_ = _save(predict_3_r)\n",
    "predict_3_r_.to_csv('lgbm_repeat_stratify_anova_1.csv', index=False)"
   ]
  },
  {
   "cell_type": "code",
   "execution_count": null,
   "id": "5487be21-151e-4d27-aac8-277aed192d01",
   "metadata": {},
   "outputs": [],
   "source": []
  },
  {
   "cell_type": "code",
   "execution_count": 76,
   "id": "c73f44c5-1518-47c1-a919-eb4bd0674d32",
   "metadata": {},
   "outputs": [
    {
     "data": {
      "text/html": [
       "<div>\n",
       "<style scoped>\n",
       "    .dataframe tbody tr th:only-of-type {\n",
       "        vertical-align: middle;\n",
       "    }\n",
       "\n",
       "    .dataframe tbody tr th {\n",
       "        vertical-align: top;\n",
       "    }\n",
       "\n",
       "    .dataframe thead th {\n",
       "        text-align: right;\n",
       "    }\n",
       "</style>\n",
       "<table border=\"1\" class=\"dataframe\">\n",
       "  <thead>\n",
       "    <tr style=\"text-align: right;\">\n",
       "      <th></th>\n",
       "      <th>USER_ID</th>\n",
       "      <th>SCORE_x</th>\n",
       "      <th>SCORE_y</th>\n",
       "      <th>SCORE</th>\n",
       "    </tr>\n",
       "  </thead>\n",
       "  <tbody>\n",
       "    <tr>\n",
       "      <th>0</th>\n",
       "      <td>0</td>\n",
       "      <td>0.185781</td>\n",
       "      <td>0.215737</td>\n",
       "      <td>0.208625</td>\n",
       "    </tr>\n",
       "    <tr>\n",
       "      <th>1</th>\n",
       "      <td>1</td>\n",
       "      <td>0.175924</td>\n",
       "      <td>0.200173</td>\n",
       "      <td>0.198590</td>\n",
       "    </tr>\n",
       "    <tr>\n",
       "      <th>2</th>\n",
       "      <td>2</td>\n",
       "      <td>0.224617</td>\n",
       "      <td>0.199624</td>\n",
       "      <td>0.191934</td>\n",
       "    </tr>\n",
       "    <tr>\n",
       "      <th>3</th>\n",
       "      <td>3</td>\n",
       "      <td>0.317516</td>\n",
       "      <td>0.227701</td>\n",
       "      <td>0.255557</td>\n",
       "    </tr>\n",
       "    <tr>\n",
       "      <th>4</th>\n",
       "      <td>4</td>\n",
       "      <td>0.295783</td>\n",
       "      <td>0.398858</td>\n",
       "      <td>0.340801</td>\n",
       "    </tr>\n",
       "  </tbody>\n",
       "</table>\n",
       "</div>"
      ],
      "text/plain": [
       "   USER_ID   SCORE_x   SCORE_y     SCORE\n",
       "0        0  0.185781  0.215737  0.208625\n",
       "1        1  0.175924  0.200173  0.198590\n",
       "2        2  0.224617  0.199624  0.191934\n",
       "3        3  0.317516  0.227701  0.255557\n",
       "4        4  0.295783  0.398858  0.340801"
      ]
     },
     "execution_count": 76,
     "metadata": {},
     "output_type": "execute_result"
    }
   ],
   "source": [
    "predict_r = predict_1_r_.merge(\n",
    "    predict_2_r_, how='left', on='USER_ID'\n",
    ").merge(\n",
    "    predict_3_r_, how='left', on='USER_ID'\n",
    ")\n",
    "predict_r.head()"
   ]
  },
  {
   "cell_type": "code",
   "execution_count": 77,
   "id": "d58e65de-78c2-4a82-ab6d-79667410e73e",
   "metadata": {},
   "outputs": [
    {
     "data": {
      "text/plain": [
       "<AxesSubplot:>"
      ]
     },
     "execution_count": 77,
     "metadata": {},
     "output_type": "execute_result"
    },
    {
     "data": {
      "image/png": "[encoded data removed]",
      "text/plain": [
       "<Figure size 432x288 with 1 Axes>"
      ]
     },
     "metadata": {},
     "output_type": "display_data"
    }
   ],
   "source": [
    "predict_r['SCORE'] = predict_r[['SCORE_x', 'SCORE_y', 'SCORE']].mean(axis=1)\n",
    "predict_r['SCORE'].hist()"
   ]
  },
  {
   "cell_type": "code",
   "execution_count": 78,
   "id": "8b7e7e12-0af8-4df4-841c-bd71fe75c4e7",
   "metadata": {},
   "outputs": [],
   "source": [
    "predict_r[['USER_ID','SCORE']].to_csv('lgbm_repeat_stratify_ensamble_1.csv', index=False)"
   ]
  },
  {
   "cell_type": "code",
   "execution_count": null,
   "id": "2dc36f5b-5ba9-4486-989e-596a1d50e9f0",
   "metadata": {},
   "outputs": [],
   "source": []
  },
  {
   "cell_type": "code",
   "execution_count": null,
   "id": "8e9d62bc-723a-479d-8259-dd064a37b602",
   "metadata": {},
   "outputs": [],
   "source": []
  },
  {
   "cell_type": "markdown",
   "id": "23dd7db5-7d58-455e-b9a7-a3fab7cc62b9",
   "metadata": {},
   "source": [
    "### PREDICT ALL TRIMESTER"
   ]
  },
  {
   "cell_type": "code",
   "execution_count": 79,
   "id": "80753aff-a610-4364-9b94-a8b57457ec57",
   "metadata": {},
   "outputs": [
    {
     "data": {
      "text/html": [
       "<div>\n",
       "<style scoped>\n",
       "    .dataframe tbody tr th:only-of-type {\n",
       "        vertical-align: middle;\n",
       "    }\n",
       "\n",
       "    .dataframe tbody tr th {\n",
       "        vertical-align: top;\n",
       "    }\n",
       "\n",
       "    .dataframe thead th {\n",
       "        text-align: right;\n",
       "    }\n",
       "</style>\n",
       "<table border=\"1\" class=\"dataframe\">\n",
       "  <thead>\n",
       "    <tr style=\"text-align: right;\">\n",
       "      <th></th>\n",
       "      <th>trimestre</th>\n",
       "      <th>USER_ID</th>\n",
       "      <th>1000_1000</th>\n",
       "      <th>1000_2</th>\n",
       "      <th>1000_40</th>\n",
       "      <th>1000_611</th>\n",
       "      <th>100_2</th>\n",
       "      <th>100_40</th>\n",
       "      <th>102_154</th>\n",
       "      <th>102_2</th>\n",
       "      <th>...</th>\n",
       "      <th>page_950</th>\n",
       "      <th>page_96</th>\n",
       "      <th>page_963</th>\n",
       "      <th>page_97</th>\n",
       "      <th>page_972</th>\n",
       "      <th>page_98</th>\n",
       "      <th>page_980</th>\n",
       "      <th>page_99</th>\n",
       "      <th>page_994</th>\n",
       "      <th>page_997</th>\n",
       "    </tr>\n",
       "  </thead>\n",
       "  <tbody>\n",
       "    <tr>\n",
       "      <th>0</th>\n",
       "      <td>1</td>\n",
       "      <td>0</td>\n",
       "      <td>0</td>\n",
       "      <td>0</td>\n",
       "      <td>0</td>\n",
       "      <td>0</td>\n",
       "      <td>0</td>\n",
       "      <td>0</td>\n",
       "      <td>0</td>\n",
       "      <td>0</td>\n",
       "      <td>...</td>\n",
       "      <td>0</td>\n",
       "      <td>0</td>\n",
       "      <td>0</td>\n",
       "      <td>0</td>\n",
       "      <td>0</td>\n",
       "      <td>0</td>\n",
       "      <td>0</td>\n",
       "      <td>0</td>\n",
       "      <td>0</td>\n",
       "      <td>0</td>\n",
       "    </tr>\n",
       "    <tr>\n",
       "      <th>1</th>\n",
       "      <td>1</td>\n",
       "      <td>1</td>\n",
       "      <td>0</td>\n",
       "      <td>0</td>\n",
       "      <td>0</td>\n",
       "      <td>0</td>\n",
       "      <td>0</td>\n",
       "      <td>0</td>\n",
       "      <td>0</td>\n",
       "      <td>0</td>\n",
       "      <td>...</td>\n",
       "      <td>0</td>\n",
       "      <td>0</td>\n",
       "      <td>0</td>\n",
       "      <td>0</td>\n",
       "      <td>0</td>\n",
       "      <td>0</td>\n",
       "      <td>0</td>\n",
       "      <td>0</td>\n",
       "      <td>0</td>\n",
       "      <td>0</td>\n",
       "    </tr>\n",
       "    <tr>\n",
       "      <th>2</th>\n",
       "      <td>1</td>\n",
       "      <td>2</td>\n",
       "      <td>0</td>\n",
       "      <td>0</td>\n",
       "      <td>0</td>\n",
       "      <td>0</td>\n",
       "      <td>0</td>\n",
       "      <td>0</td>\n",
       "      <td>0</td>\n",
       "      <td>0</td>\n",
       "      <td>...</td>\n",
       "      <td>0</td>\n",
       "      <td>0</td>\n",
       "      <td>0</td>\n",
       "      <td>0</td>\n",
       "      <td>0</td>\n",
       "      <td>0</td>\n",
       "      <td>0</td>\n",
       "      <td>0</td>\n",
       "      <td>0</td>\n",
       "      <td>0</td>\n",
       "    </tr>\n",
       "    <tr>\n",
       "      <th>3</th>\n",
       "      <td>1</td>\n",
       "      <td>3</td>\n",
       "      <td>0</td>\n",
       "      <td>0</td>\n",
       "      <td>0</td>\n",
       "      <td>0</td>\n",
       "      <td>0</td>\n",
       "      <td>0</td>\n",
       "      <td>0</td>\n",
       "      <td>0</td>\n",
       "      <td>...</td>\n",
       "      <td>0</td>\n",
       "      <td>0</td>\n",
       "      <td>0</td>\n",
       "      <td>0</td>\n",
       "      <td>0</td>\n",
       "      <td>0</td>\n",
       "      <td>0</td>\n",
       "      <td>0</td>\n",
       "      <td>0</td>\n",
       "      <td>0</td>\n",
       "    </tr>\n",
       "    <tr>\n",
       "      <th>4</th>\n",
       "      <td>1</td>\n",
       "      <td>4</td>\n",
       "      <td>0</td>\n",
       "      <td>0</td>\n",
       "      <td>0</td>\n",
       "      <td>0</td>\n",
       "      <td>0</td>\n",
       "      <td>0</td>\n",
       "      <td>5</td>\n",
       "      <td>0</td>\n",
       "      <td>...</td>\n",
       "      <td>0</td>\n",
       "      <td>1</td>\n",
       "      <td>0</td>\n",
       "      <td>1</td>\n",
       "      <td>0</td>\n",
       "      <td>1</td>\n",
       "      <td>0</td>\n",
       "      <td>6</td>\n",
       "      <td>0</td>\n",
       "      <td>0</td>\n",
       "    </tr>\n",
       "  </tbody>\n",
       "</table>\n",
       "<p>5 rows × 4979 columns</p>\n",
       "</div>"
      ],
      "text/plain": [
       "   trimestre  USER_ID  1000_1000  1000_2  1000_40  1000_611  100_2  100_40  \\\n",
       "0          1        0          0       0        0         0      0       0   \n",
       "1          1        1          0       0        0         0      0       0   \n",
       "2          1        2          0       0        0         0      0       0   \n",
       "3          1        3          0       0        0         0      0       0   \n",
       "4          1        4          0       0        0         0      0       0   \n",
       "\n",
       "   102_154  102_2  ...  page_950  page_96  page_963  page_97  page_972  \\\n",
       "0        0      0  ...         0        0         0        0         0   \n",
       "1        0      0  ...         0        0         0        0         0   \n",
       "2        0      0  ...         0        0         0        0         0   \n",
       "3        0      0  ...         0        0         0        0         0   \n",
       "4        5      0  ...         0        1         0        1         0   \n",
       "\n",
       "   page_98  page_980  page_99  page_994  page_997  \n",
       "0        0         0        0         0         0  \n",
       "1        0         0        0         0         0  \n",
       "2        0         0        0         0         0  \n",
       "3        0         0        0         0         0  \n",
       "4        1         0        6         0         0  \n",
       "\n",
       "[5 rows x 4979 columns]"
      ]
     },
     "execution_count": 79,
     "metadata": {},
     "output_type": "execute_result"
    }
   ],
   "source": [
    "pageview.head()"
   ]
  },
  {
   "cell_type": "code",
   "execution_count": 85,
   "id": "ea294e45-e385-45d6-b95f-76d29076fc10",
   "metadata": {},
   "outputs": [],
   "source": [
    "def predict_lgbm_all(grid, X_test_part, users, add='', tipo=''):\n",
    "    predict_test = grid.best_estimator_.predict_proba(X_test_part)[:,1]\n",
    "    predict_test = pd.DataFrame(\n",
    "        {'USER_ID':users, \n",
    "         'SCORE':predict_test} \n",
    "    )\n",
    "    #display(predict_test.head())\n",
    "    print(predict_test[predict_test['SCORE'] < 0.01].shape)\n",
    "    print(predict_test[predict_test['SCORE'] > 0.5].shape)\n",
    "    print(predict_test[predict_test['SCORE'] > 0.99].shape)\n",
    "    \n",
    "    predict_test.groupby(by=['USER_ID'])['SCORE'].mean().to_csv('lgbm_{}_{}_{}_mean.csv'.format(tipo, grid.best_score_, add), index=True)\n",
    "    predict_test.groupby(by=['USER_ID'])['SCORE'].median().to_csv('lgbm_{}_{}_{}_median.csv'.format(tipo, grid.best_score_, add), index=True)\n",
    "    return predict_test"
   ]
  },
  {
   "cell_type": "code",
   "execution_count": 86,
   "id": "1a7e2beb-6fd2-40f0-a2fd-3ff97e0bb950",
   "metadata": {},
   "outputs": [
    {
     "name": "stdout",
     "output_type": "stream",
     "text": [
      "(0, 2)\n",
      "(8640, 2)\n",
      "(0, 2)\n"
     ]
    },
    {
     "data": {
      "text/plain": [
       "<AxesSubplot:>"
      ]
     },
     "execution_count": 86,
     "metadata": {},
     "output_type": "execute_result"
    },
    {
     "data": {
      "image/png": "[encoded data removed]",
      "text/plain": [
       "<Figure size 432x288 with 1 Axes>"
      ]
     },
     "metadata": {},
     "output_type": "display_data"
    }
   ],
   "source": [
    "predict_all_1 = predict_lgbm_all(grid_1, pageview[list_var_relevants], pageview['USER_ID'], add='lasso', tipo='time_split')\n",
    "predict_all_1['SCORE'].hist()"
   ]
  },
  {
   "cell_type": "code",
   "execution_count": 87,
   "id": "b4074623-c2e0-457d-8686-a492a0c09b5e",
   "metadata": {},
   "outputs": [
    {
     "name": "stdout",
     "output_type": "stream",
     "text": [
      "(0, 2)\n",
      "(8155, 2)\n",
      "(0, 2)\n"
     ]
    },
    {
     "data": {
      "text/plain": [
       "<AxesSubplot:>"
      ]
     },
     "execution_count": 87,
     "metadata": {},
     "output_type": "execute_result"
    },
    {
     "data": {
      "image/png": "[encoded data removed]",
      "text/plain": [
       "<Figure size 432x288 with 1 Axes>"
      ]
     },
     "metadata": {},
     "output_type": "display_data"
    }
   ],
   "source": [
    "predict_all_2 = predict_lgbm_all(grid_2, pageview[list_var_chi], pageview['USER_ID'], add='chi', tipo='time_split')\n",
    "predict_all_2['SCORE'].hist()"
   ]
  },
  {
   "cell_type": "code",
   "execution_count": 88,
   "id": "348aaaa6-548a-4748-89cc-06e1e2213246",
   "metadata": {},
   "outputs": [
    {
     "name": "stdout",
     "output_type": "stream",
     "text": [
      "(0, 2)\n",
      "(8537, 2)\n",
      "(0, 2)\n"
     ]
    },
    {
     "data": {
      "text/plain": [
       "<AxesSubplot:>"
      ]
     },
     "execution_count": 88,
     "metadata": {},
     "output_type": "execute_result"
    },
    {
     "data": {
      "image/png": "[encoded data removed]",
      "text/plain": [
       "<Figure size 432x288 with 1 Axes>"
      ]
     },
     "metadata": {},
     "output_type": "display_data"
    }
   ],
   "source": [
    "predict_all_3 = predict_lgbm_all(grid_3, pageview[list_var_anova], pageview['USER_ID'], add='anova', tipo='time_split')\n",
    "predict_all_3['SCORE'].hist()"
   ]
  },
  {
   "cell_type": "code",
   "execution_count": 89,
   "id": "80b59ada-b527-4919-9743-1c2d91bef7c7",
   "metadata": {},
   "outputs": [
    {
     "name": "stdout",
     "output_type": "stream",
     "text": [
      "(3, 2)\n",
      "(10093, 2)\n",
      "(0, 2)\n"
     ]
    },
    {
     "data": {
      "text/plain": [
       "<AxesSubplot:>"
      ]
     },
     "execution_count": 89,
     "metadata": {},
     "output_type": "execute_result"
    },
    {
     "data": {
      "image/png": "[encoded data removed]",
      "text/plain": [
       "<Figure size 432x288 with 1 Axes>"
      ]
     },
     "metadata": {},
     "output_type": "display_data"
    }
   ],
   "source": [
    "predict_all_1_r = predict_lgbm_all(grid_1_r, pageview[list_var_relevants], pageview['USER_ID'], add='lasso', tipo='repeat_stratify')\n",
    "predict_all_1_r['SCORE'].hist()"
   ]
  },
  {
   "cell_type": "code",
   "execution_count": 90,
   "id": "94a1c917-afe7-4351-afd7-d4eccc963216",
   "metadata": {},
   "outputs": [
    {
     "name": "stdout",
     "output_type": "stream",
     "text": [
      "(0, 2)\n",
      "(9990, 2)\n",
      "(0, 2)\n"
     ]
    },
    {
     "data": {
      "text/plain": [
       "<AxesSubplot:>"
      ]
     },
     "execution_count": 90,
     "metadata": {},
     "output_type": "execute_result"
    },
    {
     "data": {
      "image/png": "[encoded data removed]",
      "text/plain": [
       "<Figure size 432x288 with 1 Axes>"
      ]
     },
     "metadata": {},
     "output_type": "display_data"
    }
   ],
   "source": [
    "predict_all_2_r = predict_lgbm_all(grid_2_r, pageview[list_var_chi], pageview['USER_ID'], add='chi', tipo='repeat_stratify')\n",
    "predict_all_2_r['SCORE'].hist()"
   ]
  },
  {
   "cell_type": "code",
   "execution_count": 91,
   "id": "94aeb6aa-fb3f-4281-834b-26fcc748915a",
   "metadata": {},
   "outputs": [
    {
     "name": "stdout",
     "output_type": "stream",
     "text": [
      "(0, 2)\n",
      "(10013, 2)\n",
      "(0, 2)\n"
     ]
    },
    {
     "data": {
      "text/plain": [
       "<AxesSubplot:>"
      ]
     },
     "execution_count": 91,
     "metadata": {},
     "output_type": "execute_result"
    },
    {
     "data": {
      "image/png": "[encoded data removed]",
      "text/plain": [
       "<Figure size 432x288 with 1 Axes>"
      ]
     },
     "metadata": {},
     "output_type": "display_data"
    }
   ],
   "source": [
    "predict_all_3_r = predict_lgbm_all(grid_3_r, pageview[list_var_anova], pageview['USER_ID'], add='anova', tipo='repeat_stratify')\n",
    "predict_all_3_r['SCORE'].hist()"
   ]
  },
  {
   "cell_type": "code",
   "execution_count": null,
   "id": "f0ed4549-4c1f-4290-9610-384188f397a5",
   "metadata": {},
   "outputs": [],
   "source": []
  }
 ],
 "metadata": {
  "kernelspec": {
   "display_name": "Python 3",
   "language": "python",
   "name": "python3"
  },
  "language_info": {
   "codemirror_mode": {
    "name": "ipython",
    "version": 3
   },
   "file_extension": ".py",
   "mimetype": "text/x-python",
   "name": "python",
   "nbconvert_exporter": "python",
   "pygments_lexer": "ipython3",
   "version": "3.8.5"
  }
 },
 "nbformat": 4,
 "nbformat_minor": 5
}
