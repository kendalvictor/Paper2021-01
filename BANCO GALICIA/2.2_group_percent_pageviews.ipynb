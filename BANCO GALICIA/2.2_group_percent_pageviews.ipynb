{
 "cells": [
  {
   "cell_type": "code",
   "execution_count": null,
   "id": "cbf56b62-11a9-4248-a463-2c1f408c75f0",
   "metadata": {},
   "outputs": [],
   "source": [
    "# Nativos\n",
    "import random as rn\n",
    "import os\n",
    "import sys\n",
    "import gc\n",
    "\n",
    "#calculo\n",
    "import numpy as np\n",
    "import pandas as pd\n",
    "import scipy as sp\n",
    "\n",
    "#grafico\n",
    "import matplotlib.pyplot as plt\n",
    "import seaborn as sns\n",
    "from IPython.display import display\n",
    "%matplotlib inline\n",
    "sns.set(style=\"whitegrid\")\n",
    "\n",
    "#warning ignore future\n",
    "import warnings\n",
    "# warnings.simplefilter(action='ignore', category=FutureWarning)\n",
    "warnings.filterwarnings(\"ignore\")\n",
    "gc.collect()\n",
    "\n",
    "BASE_DIR = os.path.dirname(os.getcwd())\n",
    "if BASE_DIR not in sys.path: sys.path.append(BASE_DIR)\n",
    "\n",
    "from utils import *\n",
    "#from graphs import *\n",
    "\n",
    "SEED = 29082013\n",
    "os.environ['PYTHONHASHSEED']=str(SEED)\n",
    "np.random.seed(SEED)\n",
    "rn.seed(SEED)\n",
    "\n",
    "subfolder = \"data\"\n",
    "os.listdir(subfolder)"
   ]
  },
  {
   "cell_type": "markdown",
   "id": "739a898a-a76e-4e00-973e-84fa6bb2f0a4",
   "metadata": {},
   "source": [
    "## PAGINA SIMPLE"
   ]
  },
  {
   "cell_type": "code",
   "execution_count": 2,
   "id": "c3f090f0-2b0b-4651-b14a-42d49c749e8b",
   "metadata": {},
   "outputs": [],
   "source": [
    "col_user = 'USER_ID'\n",
    "one_hot_1 = 'PAGE'"
   ]
  },
  {
   "cell_type": "code",
   "execution_count": 3,
   "id": "b9aae558-87ee-4436-9bc9-697329cf0c5e",
   "metadata": {},
   "outputs": [
    {
     "name": "stderr",
     "output_type": "stream",
     "text": [
      "ERROR:root:Internal Python error in the inspect module.\n",
      "Below is the traceback from this internal error.\n",
      "\n"
     ]
    },
    {
     "name": "stdout",
     "output_type": "stream",
     "text": [
      "Traceback (most recent call last):\n",
      "  File \"C:\\ProgramData\\Anaconda3\\lib\\site-packages\\IPython\\core\\interactiveshell.py\", line 3437, in run_code\n",
      "    exec(code_obj, self.user_global_ns, self.user_ns)\n",
      "  File \"<ipython-input-3-7d5d86118cb9>\", line 1, in <module>\n",
      "    pageview = pd.read_csv(\n",
      "  File \"C:\\ProgramData\\Anaconda3\\lib\\site-packages\\pandas\\io\\parsers.py\", line 610, in read_csv\n",
      "    return _read(filepath_or_buffer, kwds)\n",
      "  File \"C:\\ProgramData\\Anaconda3\\lib\\site-packages\\pandas\\io\\parsers.py\", line 468, in _read\n",
      "    return parser.read(nrows)\n",
      "  File \"C:\\ProgramData\\Anaconda3\\lib\\site-packages\\pandas\\io\\parsers.py\", line 1057, in read\n",
      "    index, columns, col_dict = self._engine.read(nrows)\n",
      "  File \"C:\\ProgramData\\Anaconda3\\lib\\site-packages\\pandas\\io\\parsers.py\", line 2061, in read\n",
      "    data = self._reader.read(nrows)\n",
      "  File \"pandas\\_libs\\parsers.pyx\", line 756, in pandas._libs.parsers.TextReader.read\n",
      "  File \"pandas\\_libs\\parsers.pyx\", line 771, in pandas._libs.parsers.TextReader._read_low_memory\n",
      "  File \"pandas\\_libs\\parsers.pyx\", line 827, in pandas._libs.parsers.TextReader._read_rows\n",
      "  File \"pandas\\_libs\\parsers.pyx\", line 814, in pandas._libs.parsers.TextReader._tokenize_rows\n",
      "  File \"pandas\\_libs\\parsers.pyx\", line 1951, in pandas._libs.parsers.raise_parser_error\n",
      "pandas.errors.ParserError: Error tokenizing data. C error: Calling read(nbytes) on source failed. Try engine='python'.\n",
      "\n",
      "During handling of the above exception, another exception occurred:\n",
      "\n",
      "Traceback (most recent call last):\n",
      "  File \"C:\\ProgramData\\Anaconda3\\lib\\site-packages\\IPython\\core\\interactiveshell.py\", line 2061, in showtraceback\n",
      "    stb = value._render_traceback_()\n",
      "AttributeError: 'ParserError' object has no attribute '_render_traceback_'\n",
      "\n",
      "During handling of the above exception, another exception occurred:\n",
      "\n",
      "Traceback (most recent call last):\n",
      "  File \"C:\\ProgramData\\Anaconda3\\lib\\site-packages\\IPython\\core\\ultratb.py\", line 1101, in get_records\n",
      "    return _fixed_getinnerframes(etb, number_of_lines_of_context, tb_offset)\n",
      "  File \"C:\\ProgramData\\Anaconda3\\lib\\site-packages\\IPython\\core\\ultratb.py\", line 248, in wrapped\n",
      "    return f(*args, **kwargs)\n",
      "  File \"C:\\ProgramData\\Anaconda3\\lib\\site-packages\\IPython\\core\\ultratb.py\", line 281, in _fixed_getinnerframes\n",
      "    records = fix_frame_records_filenames(inspect.getinnerframes(etb, context))\n",
      "  File \"C:\\ProgramData\\Anaconda3\\lib\\inspect.py\", line 1503, in getinnerframes\n",
      "    frameinfo = (tb.tb_frame,) + getframeinfo(tb, context)\n",
      "  File \"C:\\ProgramData\\Anaconda3\\lib\\inspect.py\", line 1461, in getframeinfo\n",
      "    filename = getsourcefile(frame) or getfile(frame)\n",
      "  File \"C:\\ProgramData\\Anaconda3\\lib\\inspect.py\", line 708, in getsourcefile\n",
      "    if getattr(getmodule(object, filename), '__loader__', None) is not None:\n",
      "  File \"C:\\ProgramData\\Anaconda3\\lib\\inspect.py\", line 754, in getmodule\n",
      "    os.path.realpath(f)] = module.__name__\n",
      "  File \"C:\\ProgramData\\Anaconda3\\lib\\ntpath.py\", line 647, in realpath\n",
      "    path = _getfinalpathname(path)\n",
      "KeyboardInterrupt\n"
     ]
    },
    {
     "ename": "TypeError",
     "evalue": "object of type 'NoneType' has no len()",
     "output_type": "error",
     "traceback": [
      "\u001b[1;31m---------------------------------------------------------------------------\u001b[0m",
      "\u001b[1;31mParserError\u001b[0m                               Traceback (most recent call last)",
      "    \u001b[1;31m[... skipping hidden 1 frame]\u001b[0m\n",
      "\u001b[1;32m<ipython-input-3-7d5d86118cb9>\u001b[0m in \u001b[0;36m<module>\u001b[1;34m\u001b[0m\n\u001b[1;32m----> 1\u001b[1;33m pageview = pd.read_csv(\n\u001b[0m\u001b[0;32m      2\u001b[0m     \u001b[1;34m\"{}/pageview_with_previous_2.csv\"\u001b[0m\u001b[1;33m.\u001b[0m\u001b[0mformat\u001b[0m\u001b[1;33m(\u001b[0m\u001b[0msubfolder\u001b[0m\u001b[1;33m)\u001b[0m\u001b[1;33m,\u001b[0m \u001b[0mparse_dates\u001b[0m\u001b[1;33m=\u001b[0m\u001b[1;33m[\u001b[0m\u001b[1;34m\"FEC_EVENT\"\u001b[0m\u001b[1;33m]\u001b[0m\u001b[1;33m,\u001b[0m \u001b[0mdtype\u001b[0m\u001b[1;33m=\u001b[0m\u001b[0mstr\u001b[0m\u001b[1;33m\u001b[0m\u001b[1;33m\u001b[0m\u001b[0m\n\u001b[0;32m      3\u001b[0m \u001b[1;33m)\u001b[0m\u001b[1;33m.\u001b[0m\u001b[0msort_values\u001b[0m\u001b[1;33m(\u001b[0m\u001b[1;33m\u001b[0m\u001b[1;33m\u001b[0m\u001b[0m\n",
      "\u001b[1;32mC:\\ProgramData\\Anaconda3\\lib\\site-packages\\pandas\\io\\parsers.py\u001b[0m in \u001b[0;36mread_csv\u001b[1;34m(filepath_or_buffer, sep, delimiter, header, names, index_col, usecols, squeeze, prefix, mangle_dupe_cols, dtype, engine, converters, true_values, false_values, skipinitialspace, skiprows, skipfooter, nrows, na_values, keep_default_na, na_filter, verbose, skip_blank_lines, parse_dates, infer_datetime_format, keep_date_col, date_parser, dayfirst, cache_dates, iterator, chunksize, compression, thousands, decimal, lineterminator, quotechar, quoting, doublequote, escapechar, comment, encoding, dialect, error_bad_lines, warn_bad_lines, delim_whitespace, low_memory, memory_map, float_precision, storage_options)\u001b[0m\n\u001b[0;32m    609\u001b[0m \u001b[1;33m\u001b[0m\u001b[0m\n\u001b[1;32m--> 610\u001b[1;33m     \u001b[1;32mreturn\u001b[0m \u001b[0m_read\u001b[0m\u001b[1;33m(\u001b[0m\u001b[0mfilepath_or_buffer\u001b[0m\u001b[1;33m,\u001b[0m \u001b[0mkwds\u001b[0m\u001b[1;33m)\u001b[0m\u001b[1;33m\u001b[0m\u001b[1;33m\u001b[0m\u001b[0m\n\u001b[0m\u001b[0;32m    611\u001b[0m \u001b[1;33m\u001b[0m\u001b[0m\n",
      "\u001b[1;32mC:\\ProgramData\\Anaconda3\\lib\\site-packages\\pandas\\io\\parsers.py\u001b[0m in \u001b[0;36m_read\u001b[1;34m(filepath_or_buffer, kwds)\u001b[0m\n\u001b[0;32m    467\u001b[0m     \u001b[1;32mwith\u001b[0m \u001b[0mparser\u001b[0m\u001b[1;33m:\u001b[0m\u001b[1;33m\u001b[0m\u001b[1;33m\u001b[0m\u001b[0m\n\u001b[1;32m--> 468\u001b[1;33m         \u001b[1;32mreturn\u001b[0m \u001b[0mparser\u001b[0m\u001b[1;33m.\u001b[0m\u001b[0mread\u001b[0m\u001b[1;33m(\u001b[0m\u001b[0mnrows\u001b[0m\u001b[1;33m)\u001b[0m\u001b[1;33m\u001b[0m\u001b[1;33m\u001b[0m\u001b[0m\n\u001b[0m\u001b[0;32m    469\u001b[0m \u001b[1;33m\u001b[0m\u001b[0m\n",
      "\u001b[1;32mC:\\ProgramData\\Anaconda3\\lib\\site-packages\\pandas\\io\\parsers.py\u001b[0m in \u001b[0;36mread\u001b[1;34m(self, nrows)\u001b[0m\n\u001b[0;32m   1056\u001b[0m         \u001b[0mnrows\u001b[0m \u001b[1;33m=\u001b[0m \u001b[0mvalidate_integer\u001b[0m\u001b[1;33m(\u001b[0m\u001b[1;34m\"nrows\"\u001b[0m\u001b[1;33m,\u001b[0m \u001b[0mnrows\u001b[0m\u001b[1;33m)\u001b[0m\u001b[1;33m\u001b[0m\u001b[1;33m\u001b[0m\u001b[0m\n\u001b[1;32m-> 1057\u001b[1;33m         \u001b[0mindex\u001b[0m\u001b[1;33m,\u001b[0m \u001b[0mcolumns\u001b[0m\u001b[1;33m,\u001b[0m \u001b[0mcol_dict\u001b[0m \u001b[1;33m=\u001b[0m \u001b[0mself\u001b[0m\u001b[1;33m.\u001b[0m\u001b[0m_engine\u001b[0m\u001b[1;33m.\u001b[0m\u001b[0mread\u001b[0m\u001b[1;33m(\u001b[0m\u001b[0mnrows\u001b[0m\u001b[1;33m)\u001b[0m\u001b[1;33m\u001b[0m\u001b[1;33m\u001b[0m\u001b[0m\n\u001b[0m\u001b[0;32m   1058\u001b[0m \u001b[1;33m\u001b[0m\u001b[0m\n",
      "\u001b[1;32mC:\\ProgramData\\Anaconda3\\lib\\site-packages\\pandas\\io\\parsers.py\u001b[0m in \u001b[0;36mread\u001b[1;34m(self, nrows)\u001b[0m\n\u001b[0;32m   2060\u001b[0m         \u001b[1;32mtry\u001b[0m\u001b[1;33m:\u001b[0m\u001b[1;33m\u001b[0m\u001b[1;33m\u001b[0m\u001b[0m\n\u001b[1;32m-> 2061\u001b[1;33m             \u001b[0mdata\u001b[0m \u001b[1;33m=\u001b[0m \u001b[0mself\u001b[0m\u001b[1;33m.\u001b[0m\u001b[0m_reader\u001b[0m\u001b[1;33m.\u001b[0m\u001b[0mread\u001b[0m\u001b[1;33m(\u001b[0m\u001b[0mnrows\u001b[0m\u001b[1;33m)\u001b[0m\u001b[1;33m\u001b[0m\u001b[1;33m\u001b[0m\u001b[0m\n\u001b[0m\u001b[0;32m   2062\u001b[0m         \u001b[1;32mexcept\u001b[0m \u001b[0mStopIteration\u001b[0m\u001b[1;33m:\u001b[0m\u001b[1;33m\u001b[0m\u001b[1;33m\u001b[0m\u001b[0m\n",
      "\u001b[1;32mpandas\\_libs\\parsers.pyx\u001b[0m in \u001b[0;36mpandas._libs.parsers.TextReader.read\u001b[1;34m()\u001b[0m\n",
      "\u001b[1;32mpandas\\_libs\\parsers.pyx\u001b[0m in \u001b[0;36mpandas._libs.parsers.TextReader._read_low_memory\u001b[1;34m()\u001b[0m\n",
      "\u001b[1;32mpandas\\_libs\\parsers.pyx\u001b[0m in \u001b[0;36mpandas._libs.parsers.TextReader._read_rows\u001b[1;34m()\u001b[0m\n",
      "\u001b[1;32mpandas\\_libs\\parsers.pyx\u001b[0m in \u001b[0;36mpandas._libs.parsers.TextReader._tokenize_rows\u001b[1;34m()\u001b[0m\n",
      "\u001b[1;32mpandas\\_libs\\parsers.pyx\u001b[0m in \u001b[0;36mpandas._libs.parsers.raise_parser_error\u001b[1;34m()\u001b[0m\n",
      "\u001b[1;31mParserError\u001b[0m: Error tokenizing data. C error: Calling read(nbytes) on source failed. Try engine='python'.",
      "\nDuring handling of the above exception, another exception occurred:\n",
      "\u001b[1;31mAttributeError\u001b[0m                            Traceback (most recent call last)",
      "\u001b[1;32mC:\\ProgramData\\Anaconda3\\lib\\site-packages\\IPython\\core\\interactiveshell.py\u001b[0m in \u001b[0;36mshowtraceback\u001b[1;34m(self, exc_tuple, filename, tb_offset, exception_only, running_compiled_code)\u001b[0m\n\u001b[0;32m   2060\u001b[0m                         \u001b[1;31m# in the engines. This should return a list of strings.\u001b[0m\u001b[1;33m\u001b[0m\u001b[1;33m\u001b[0m\u001b[1;33m\u001b[0m\u001b[0m\n\u001b[1;32m-> 2061\u001b[1;33m                         \u001b[0mstb\u001b[0m \u001b[1;33m=\u001b[0m \u001b[0mvalue\u001b[0m\u001b[1;33m.\u001b[0m\u001b[0m_render_traceback_\u001b[0m\u001b[1;33m(\u001b[0m\u001b[1;33m)\u001b[0m\u001b[1;33m\u001b[0m\u001b[1;33m\u001b[0m\u001b[0m\n\u001b[0m\u001b[0;32m   2062\u001b[0m                     \u001b[1;32mexcept\u001b[0m \u001b[0mException\u001b[0m\u001b[1;33m:\u001b[0m\u001b[1;33m\u001b[0m\u001b[1;33m\u001b[0m\u001b[0m\n",
      "\u001b[1;31mAttributeError\u001b[0m: 'ParserError' object has no attribute '_render_traceback_'",
      "\nDuring handling of the above exception, another exception occurred:\n",
      "\u001b[1;31mTypeError\u001b[0m                                 Traceback (most recent call last)",
      "    \u001b[1;31m[... skipping hidden 1 frame]\u001b[0m\n",
      "\u001b[1;32mC:\\ProgramData\\Anaconda3\\lib\\site-packages\\IPython\\core\\interactiveshell.py\u001b[0m in \u001b[0;36mshowtraceback\u001b[1;34m(self, exc_tuple, filename, tb_offset, exception_only, running_compiled_code)\u001b[0m\n\u001b[0;32m   2061\u001b[0m                         \u001b[0mstb\u001b[0m \u001b[1;33m=\u001b[0m \u001b[0mvalue\u001b[0m\u001b[1;33m.\u001b[0m\u001b[0m_render_traceback_\u001b[0m\u001b[1;33m(\u001b[0m\u001b[1;33m)\u001b[0m\u001b[1;33m\u001b[0m\u001b[1;33m\u001b[0m\u001b[0m\n\u001b[0;32m   2062\u001b[0m                     \u001b[1;32mexcept\u001b[0m \u001b[0mException\u001b[0m\u001b[1;33m:\u001b[0m\u001b[1;33m\u001b[0m\u001b[1;33m\u001b[0m\u001b[0m\n\u001b[1;32m-> 2063\u001b[1;33m                         stb = self.InteractiveTB.structured_traceback(etype,\n\u001b[0m\u001b[0;32m   2064\u001b[0m                                             value, tb, tb_offset=tb_offset)\n\u001b[0;32m   2065\u001b[0m \u001b[1;33m\u001b[0m\u001b[0m\n",
      "\u001b[1;32mC:\\ProgramData\\Anaconda3\\lib\\site-packages\\IPython\\core\\ultratb.py\u001b[0m in \u001b[0;36mstructured_traceback\u001b[1;34m(self, etype, value, tb, tb_offset, number_of_lines_of_context)\u001b[0m\n\u001b[0;32m   1365\u001b[0m         \u001b[1;32melse\u001b[0m\u001b[1;33m:\u001b[0m\u001b[1;33m\u001b[0m\u001b[1;33m\u001b[0m\u001b[0m\n\u001b[0;32m   1366\u001b[0m             \u001b[0mself\u001b[0m\u001b[1;33m.\u001b[0m\u001b[0mtb\u001b[0m \u001b[1;33m=\u001b[0m \u001b[0mtb\u001b[0m\u001b[1;33m\u001b[0m\u001b[1;33m\u001b[0m\u001b[0m\n\u001b[1;32m-> 1367\u001b[1;33m         return FormattedTB.structured_traceback(\n\u001b[0m\u001b[0;32m   1368\u001b[0m             self, etype, value, tb, tb_offset, number_of_lines_of_context)\n\u001b[0;32m   1369\u001b[0m \u001b[1;33m\u001b[0m\u001b[0m\n",
      "\u001b[1;32mC:\\ProgramData\\Anaconda3\\lib\\site-packages\\IPython\\core\\ultratb.py\u001b[0m in \u001b[0;36mstructured_traceback\u001b[1;34m(self, etype, value, tb, tb_offset, number_of_lines_of_context)\u001b[0m\n\u001b[0;32m   1265\u001b[0m         \u001b[1;32mif\u001b[0m \u001b[0mmode\u001b[0m \u001b[1;32min\u001b[0m \u001b[0mself\u001b[0m\u001b[1;33m.\u001b[0m\u001b[0mverbose_modes\u001b[0m\u001b[1;33m:\u001b[0m\u001b[1;33m\u001b[0m\u001b[1;33m\u001b[0m\u001b[0m\n\u001b[0;32m   1266\u001b[0m             \u001b[1;31m# Verbose modes need a full traceback\u001b[0m\u001b[1;33m\u001b[0m\u001b[1;33m\u001b[0m\u001b[1;33m\u001b[0m\u001b[0m\n\u001b[1;32m-> 1267\u001b[1;33m             return VerboseTB.structured_traceback(\n\u001b[0m\u001b[0;32m   1268\u001b[0m                 \u001b[0mself\u001b[0m\u001b[1;33m,\u001b[0m \u001b[0metype\u001b[0m\u001b[1;33m,\u001b[0m \u001b[0mvalue\u001b[0m\u001b[1;33m,\u001b[0m \u001b[0mtb\u001b[0m\u001b[1;33m,\u001b[0m \u001b[0mtb_offset\u001b[0m\u001b[1;33m,\u001b[0m \u001b[0mnumber_of_lines_of_context\u001b[0m\u001b[1;33m\u001b[0m\u001b[1;33m\u001b[0m\u001b[0m\n\u001b[0;32m   1269\u001b[0m             )\n",
      "\u001b[1;32mC:\\ProgramData\\Anaconda3\\lib\\site-packages\\IPython\\core\\ultratb.py\u001b[0m in \u001b[0;36mstructured_traceback\u001b[1;34m(self, etype, evalue, etb, tb_offset, number_of_lines_of_context)\u001b[0m\n\u001b[0;32m   1122\u001b[0m         \u001b[1;34m\"\"\"Return a nice text document describing the traceback.\"\"\"\u001b[0m\u001b[1;33m\u001b[0m\u001b[1;33m\u001b[0m\u001b[0m\n\u001b[0;32m   1123\u001b[0m \u001b[1;33m\u001b[0m\u001b[0m\n\u001b[1;32m-> 1124\u001b[1;33m         formatted_exception = self.format_exception_as_a_whole(etype, evalue, etb, number_of_lines_of_context,\n\u001b[0m\u001b[0;32m   1125\u001b[0m                                                                tb_offset)\n\u001b[0;32m   1126\u001b[0m \u001b[1;33m\u001b[0m\u001b[0m\n",
      "\u001b[1;32mC:\\ProgramData\\Anaconda3\\lib\\site-packages\\IPython\\core\\ultratb.py\u001b[0m in \u001b[0;36mformat_exception_as_a_whole\u001b[1;34m(self, etype, evalue, etb, number_of_lines_of_context, tb_offset)\u001b[0m\n\u001b[0;32m   1080\u001b[0m \u001b[1;33m\u001b[0m\u001b[0m\n\u001b[0;32m   1081\u001b[0m \u001b[1;33m\u001b[0m\u001b[0m\n\u001b[1;32m-> 1082\u001b[1;33m         \u001b[0mlast_unique\u001b[0m\u001b[1;33m,\u001b[0m \u001b[0mrecursion_repeat\u001b[0m \u001b[1;33m=\u001b[0m \u001b[0mfind_recursion\u001b[0m\u001b[1;33m(\u001b[0m\u001b[0morig_etype\u001b[0m\u001b[1;33m,\u001b[0m \u001b[0mevalue\u001b[0m\u001b[1;33m,\u001b[0m \u001b[0mrecords\u001b[0m\u001b[1;33m)\u001b[0m\u001b[1;33m\u001b[0m\u001b[1;33m\u001b[0m\u001b[0m\n\u001b[0m\u001b[0;32m   1083\u001b[0m \u001b[1;33m\u001b[0m\u001b[0m\n\u001b[0;32m   1084\u001b[0m         \u001b[0mframes\u001b[0m \u001b[1;33m=\u001b[0m \u001b[0mself\u001b[0m\u001b[1;33m.\u001b[0m\u001b[0mformat_records\u001b[0m\u001b[1;33m(\u001b[0m\u001b[0mrecords\u001b[0m\u001b[1;33m,\u001b[0m \u001b[0mlast_unique\u001b[0m\u001b[1;33m,\u001b[0m \u001b[0mrecursion_repeat\u001b[0m\u001b[1;33m)\u001b[0m\u001b[1;33m\u001b[0m\u001b[1;33m\u001b[0m\u001b[0m\n",
      "\u001b[1;32mC:\\ProgramData\\Anaconda3\\lib\\site-packages\\IPython\\core\\ultratb.py\u001b[0m in \u001b[0;36mfind_recursion\u001b[1;34m(etype, value, records)\u001b[0m\n\u001b[0;32m    380\u001b[0m     \u001b[1;31m# first frame (from in to out) that looks different.\u001b[0m\u001b[1;33m\u001b[0m\u001b[1;33m\u001b[0m\u001b[1;33m\u001b[0m\u001b[0m\n\u001b[0;32m    381\u001b[0m     \u001b[1;32mif\u001b[0m \u001b[1;32mnot\u001b[0m \u001b[0mis_recursion_error\u001b[0m\u001b[1;33m(\u001b[0m\u001b[0metype\u001b[0m\u001b[1;33m,\u001b[0m \u001b[0mvalue\u001b[0m\u001b[1;33m,\u001b[0m \u001b[0mrecords\u001b[0m\u001b[1;33m)\u001b[0m\u001b[1;33m:\u001b[0m\u001b[1;33m\u001b[0m\u001b[1;33m\u001b[0m\u001b[0m\n\u001b[1;32m--> 382\u001b[1;33m         \u001b[1;32mreturn\u001b[0m \u001b[0mlen\u001b[0m\u001b[1;33m(\u001b[0m\u001b[0mrecords\u001b[0m\u001b[1;33m)\u001b[0m\u001b[1;33m,\u001b[0m \u001b[1;36m0\u001b[0m\u001b[1;33m\u001b[0m\u001b[1;33m\u001b[0m\u001b[0m\n\u001b[0m\u001b[0;32m    383\u001b[0m \u001b[1;33m\u001b[0m\u001b[0m\n\u001b[0;32m    384\u001b[0m     \u001b[1;31m# Select filename, lineno, func_name to track frames with\u001b[0m\u001b[1;33m\u001b[0m\u001b[1;33m\u001b[0m\u001b[1;33m\u001b[0m\u001b[0m\n",
      "\u001b[1;31mTypeError\u001b[0m: object of type 'NoneType' has no len()"
     ]
    }
   ],
   "source": [
    "pageview = pd.read_csv(\n",
    "    \"{}/pageview_with_previous_2.csv\".format(subfolder), parse_dates=[\"FEC_EVENT\"], dtype=str\n",
    ").sort_values(\n",
    "    [\"FEC_EVENT\"]\n",
    ")[[col_user, 'trimestre', one_hot_1]]\n",
    "\n",
    "pageview['USER_ID'] = pageview['USER_ID'].astype(int)\n",
    "pageview[one_hot_1] = pageview[one_hot_1].apply(lambda _: 'page_' + str(_.split('_')[-1]))\n",
    "print(pageview.shape)\n",
    "gc.collect()\n",
    "\n",
    "pageview.head()"
   ]
  },
  {
   "cell_type": "code",
   "execution_count": null,
   "id": "802e4581-26c0-4372-aa79-248eb0e89162",
   "metadata": {},
   "outputs": [],
   "source": [
    "cruce = pd.crosstab(\n",
    "    index=pageview[col_user], columns=pageview[one_hot_1]\n",
    ")\n",
    "print(cruce.shape)\n",
    "cruce.head()"
   ]
  },
  {
   "cell_type": "code",
   "execution_count": null,
   "id": "26a4d56f-522e-406b-9938-25b9ca4714c7",
   "metadata": {},
   "outputs": [],
   "source": [
    "cruce = cruce.apply(lambda x: x / x.sum(), axis=1)\n",
    "cruce = cruce.reset_index()\n",
    "gc.collect()\n",
    "\n",
    "cruce.head()"
   ]
  },
  {
   "cell_type": "code",
   "execution_count": null,
   "id": "1df7e8c2-ed9a-4cc6-8bd3-fe6efc270e78",
   "metadata": {},
   "outputs": [],
   "source": [
    "\n",
    "print(cruce.shape)\n",
    "cruce.head()"
   ]
  },
  {
   "cell_type": "code",
   "execution_count": null,
   "id": "288aed8d-59b3-44e7-af4b-2312797d2d2a",
   "metadata": {},
   "outputs": [],
   "source": [
    "del pageview\n",
    "gc.collect()"
   ]
  },
  {
   "cell_type": "code",
   "execution_count": null,
   "id": "6c5df0af-a32b-445c-b78b-6b2b853734fc",
   "metadata": {},
   "outputs": [],
   "source": [
    "treshold = cruce.shape[0]*1/200\n",
    "treshold"
   ]
  },
  {
   "cell_type": "code",
   "execution_count": null,
   "id": "110c8a35-ac37-49f9-b943-d23bb4abe6c3",
   "metadata": {},
   "outputs": [],
   "source": [
    "cols_del = []\n",
    "for col in list(cruce.columns)[1:]:\n",
    "    \n",
    "    columna = cruce[col]\n",
    "    size = len(columna[columna > 0])\n",
    "    \n",
    "    if size < treshold:\n",
    "        cols_del.append(col) \n",
    "        \n",
    "print(\"len(cols_del): \", len(cols_del))\n",
    "\n",
    "cruce = cruce.drop(cols_del, axis=1)\n",
    "print(cruce.shape)\n",
    "\n",
    "cols_select = list(cruce.columns)\n",
    "del cruce\n",
    "gc.collect()\n",
    "len(cols_select)"
   ]
  },
  {
   "cell_type": "code",
   "execution_count": null,
   "id": "286ce61f-ff9c-4fd1-a2cb-bdcfc07085a2",
   "metadata": {},
   "outputs": [],
   "source": [
    "pageview = pd.read_csv(\n",
    "    \"{}/pageview_with_previous_2.csv\".format(subfolder), parse_dates=[\"FEC_EVENT\"], dtype=str\n",
    ").sort_values(\n",
    "    [\"FEC_EVENT\"]\n",
    ")[[col_user, 'trimestre', one_hot_1]]\n",
    "\n",
    "pageview['USER_ID'] = pageview['USER_ID'].astype(int)\n",
    "print(pageview.shape)\n",
    "gc.collect()\n",
    "\n",
    "pageview.head()"
   ]
  },
  {
   "cell_type": "code",
   "execution_count": null,
   "id": "cdcd41a6-36da-408e-87c3-aca61e4bb72a",
   "metadata": {},
   "outputs": [],
   "source": [
    "pageview[one_hot_1] = pageview[one_hot_1].apply(lambda _: 'page_' + str(_.split('_')[-1]))\n",
    "pageview.head()"
   ]
  },
  {
   "cell_type": "code",
   "execution_count": null,
   "id": "f6e91820-d8c8-4136-bde6-d0042b39c53f",
   "metadata": {},
   "outputs": [],
   "source": [
    "trimestral = []\n",
    "\n",
    "for trimestre in pageview['trimestre'].unique():\n",
    "    print(\"/\"*50, \" trimestre: \", trimestre)\n",
    "    cruce = pd.crosstab(\n",
    "        pageview[pageview['trimestre'] == trimestre][col_user], \n",
    "        pageview[pageview['trimestre'] == trimestre][one_hot_1]\n",
    "    )\n",
    "    cruce = cruce.apply(lambda x: x / x.sum(), axis=1)\n",
    "    cruce = cruce.reset_index()\n",
    "    \n",
    "    cols_cruce = list(cruce.columns)\n",
    "    cols_del = set(cols_cruce) - set(cols_select)\n",
    "    print(\"cols_del: \", len(cols_del))\n",
    "    \n",
    "    cols_autocompletar = set(cols_select) - set(cols_cruce)\n",
    "    print(\"cols_autocompletar: \", len(cols_autocompletar))\n",
    "    for col in cols_autocompletar:\n",
    "        cruce[col] = 0\n",
    "    \n",
    "    cruce['trimestre'] = trimestre\n",
    "    \n",
    "    trimestral.append(cruce[['trimestre'] + cols_select])\n",
    "    del cols_cruce\n",
    "    del cruce\n",
    "    \n",
    "    pageview = pageview[pageview['trimestre'] != trimestre]\n",
    "    gc.collect()"
   ]
  },
  {
   "cell_type": "code",
   "execution_count": null,
   "id": "93b53b7b-30d1-4c17-ab47-d3d5645c4f34",
   "metadata": {},
   "outputs": [],
   "source": [
    "pageview = pd.concat(\n",
    "    trimestral,\n",
    "    ignore_index=True,\n",
    "    axis=0\n",
    ")\n",
    "\n",
    "pageview.shape"
   ]
  },
  {
   "cell_type": "code",
   "execution_count": null,
   "id": "4ea93640-9b4b-4654-bdfb-80d79ac66970",
   "metadata": {},
   "outputs": [],
   "source": [
    "pageview.to_csv('pageview_simple_trimestral_percent.csv', index=False)\n",
    "pageview.head()"
   ]
  },
  {
   "cell_type": "code",
   "execution_count": null,
   "id": "1698c4c2-728e-4060-b0e7-4ad34564abdf",
   "metadata": {},
   "outputs": [],
   "source": [
    "try:\n",
    "    gc.collect()\n",
    "    del pageview\n",
    "    gc.collect()\n",
    "except: \n",
    "    pass"
   ]
  },
  {
   "cell_type": "code",
   "execution_count": null,
   "id": "78a62397-b1a5-4696-8c77-94258fe35a9f",
   "metadata": {},
   "outputs": [],
   "source": [
    "try:\n",
    "    gc.collect()\n",
    "    del trimestral\n",
    "    gc.collect()\n",
    "except: \n",
    "    pass"
   ]
  },
  {
   "cell_type": "code",
   "execution_count": null,
   "id": "9984193e-9d16-4e2e-aea8-94d75c6fbd93",
   "metadata": {},
   "outputs": [],
   "source": [
    "try:\n",
    "    gc.collect()\n",
    "    del cruce\n",
    "    gc.collect()\n",
    "except: \n",
    "    pass"
   ]
  },
  {
   "cell_type": "code",
   "execution_count": null,
   "id": "d1d88d07-ead8-4cdc-80b7-6fd2bfd3bb5e",
   "metadata": {},
   "outputs": [],
   "source": [
    "gc.collect()"
   ]
  },
  {
   "cell_type": "markdown",
   "id": "957db948-bcec-40bf-8b34-fbebcb1da7a6",
   "metadata": {},
   "source": [
    "## PAGINA"
   ]
  },
  {
   "cell_type": "code",
   "execution_count": null,
   "id": "bf280f5d-b527-491d-955a-005aa46a07af",
   "metadata": {},
   "outputs": [],
   "source": [
    "col_user = 'USER_ID'\n",
    "one_hot_1 = 'PAGE'"
   ]
  },
  {
   "cell_type": "code",
   "execution_count": null,
   "id": "6eb54dd5-482b-4085-9299-ac40c12f8f39",
   "metadata": {},
   "outputs": [],
   "source": []
  },
  {
   "cell_type": "code",
   "execution_count": null,
   "id": "4317c975-0502-4b7b-bbaa-c1d310065306",
   "metadata": {},
   "outputs": [],
   "source": [
    "pageview = pd.read_csv(\n",
    "    \"{}/pageview_with_previous_2.csv\".format(subfolder), parse_dates=[\"FEC_EVENT\"], dtype=str\n",
    ").sort_values(\n",
    "    [\"FEC_EVENT\"]\n",
    ")[[col_user, 'trimestre', one_hot_1]]\n",
    "\n",
    "pageview['USER_ID'] = pageview['USER_ID'].astype(int)\n",
    "print(pageview.shape)\n",
    "gc.collect()\n",
    "\n",
    "pageview.head()"
   ]
  },
  {
   "cell_type": "code",
   "execution_count": null,
   "id": "bc4ae664-c587-41e9-a5cc-8f8651805012",
   "metadata": {},
   "outputs": [],
   "source": [
    "pageview.dtypes"
   ]
  },
  {
   "cell_type": "code",
   "execution_count": null,
   "id": "de069189-e51f-4934-af9b-3772121de395",
   "metadata": {},
   "outputs": [],
   "source": [
    "cruce = pd.crosstab(\n",
    "    index=pageview[col_user], columns=pageview[one_hot_1]\n",
    ")\n",
    "gc.collect()\n",
    "cruce.shape"
   ]
  },
  {
   "cell_type": "code",
   "execution_count": null,
   "id": "47aa3738-806f-4cca-8427-58a6fcc96f09",
   "metadata": {},
   "outputs": [],
   "source": [
    "del pageview"
   ]
  },
  {
   "cell_type": "code",
   "execution_count": null,
   "id": "1b9158e3-ca3b-40eb-bd37-cb00fa124321",
   "metadata": {},
   "outputs": [],
   "source": [
    "gc.collect()"
   ]
  },
  {
   "cell_type": "code",
   "execution_count": null,
   "id": "26c6b508-92e0-4721-bd68-b99149f47678",
   "metadata": {},
   "outputs": [],
   "source": [
    "cruce['total'] = cruce.sum(axis=1)"
   ]
  },
  {
   "cell_type": "code",
   "execution_count": null,
   "id": "4d30552a-ef2d-48ca-a490-8e6eae8615eb",
   "metadata": {},
   "outputs": [],
   "source": [
    "cruce = cruce.apply(lambda x: x / x.sum(), axis=1)\n",
    "cruce = cruce.reset_index()"
   ]
  },
  {
   "cell_type": "code",
   "execution_count": null,
   "id": "368bde9a-6265-4d66-ba57-73687ecd897b",
   "metadata": {},
   "outputs": [],
   "source": [
    "del cruce['total']\n",
    "gc.collect()\n",
    "cruce.head()"
   ]
  },
  {
   "cell_type": "code",
   "execution_count": null,
   "id": "64e57199-3d35-45c6-a3c4-ee076d12e52b",
   "metadata": {},
   "outputs": [],
   "source": []
  },
  {
   "cell_type": "markdown",
   "id": "4cb6564d-feb3-48a6-b380-7c4ce2ba440e",
   "metadata": {},
   "source": [
    "### Select columns con recurrencia > 0.5%"
   ]
  },
  {
   "cell_type": "code",
   "execution_count": null,
   "id": "c2ee100d-9bd2-4a65-a482-e6fe452ad694",
   "metadata": {},
   "outputs": [],
   "source": [
    "cols_del = []\n",
    "for col in list(cruce.columns)[1:]:\n",
    "    \n",
    "    columna = cruce[col]\n",
    "    size = len(columna[columna > 0])\n",
    "    \n",
    "    if size < treshold:\n",
    "        cols_del.append(col) \n",
    "        \n",
    "print(\"len(cols_del): \", len(cols_del))\n",
    "\n",
    "cruce = cruce.drop(cols_del, axis=1)\n",
    "print(cruce.shape)\n",
    "\n",
    "cols_select = list(cruce.columns)\n",
    "del cruce\n",
    "gc.collect()\n",
    "len(cols_select)"
   ]
  },
  {
   "cell_type": "markdown",
   "id": "f6a3543a-3409-430d-b84b-7d57a49266b3",
   "metadata": {},
   "source": [
    "### Denuevo cargamos las visitas"
   ]
  },
  {
   "cell_type": "code",
   "execution_count": null,
   "id": "50f15bc3-c3bd-45a9-8c80-b425ef57ddd8",
   "metadata": {},
   "outputs": [],
   "source": [
    "pageview = pd.read_csv(\n",
    "    \"{}/pageview_with_previous_2.csv\".format(subfolder), parse_dates=[\"FEC_EVENT\"], dtype=str\n",
    ").sort_values(\n",
    "    [\"FEC_EVENT\"]\n",
    ")[[col_user, 'trimestre', one_hot_1]]\n",
    "\n",
    "pageview['USER_ID'] = pageview['USER_ID'].astype(int)\n",
    "print(pageview.shape)\n",
    "gc.collect()\n",
    "\n",
    "pageview.head()"
   ]
  },
  {
   "cell_type": "code",
   "execution_count": null,
   "id": "c4a4c8d8-2abf-45a0-8a17-08d40ff106ff",
   "metadata": {},
   "outputs": [],
   "source": [
    "for trimestre in pageview['trimestre'].unique():\n",
    "    print(\n",
    "        trimestre,\n",
    "        pageview[pageview['trimestre'] == trimestre]['USER_ID'].unique().shape\n",
    "    )"
   ]
  },
  {
   "cell_type": "code",
   "execution_count": null,
   "id": "f8469d77-4a12-4083-82bb-0744c0495663",
   "metadata": {},
   "outputs": [],
   "source": [
    "trimestral = []\n",
    "\n",
    "for trimestre in pageview['trimestre'].unique():\n",
    "    print(\"/\"*50, \" trimestre: \", trimestre)\n",
    "    cruce = pd.crosstab(\n",
    "        pageview[pageview['trimestre'] == trimestre][col_user], \n",
    "        pageview[pageview['trimestre'] == trimestre][one_hot_1]\n",
    "    )\n",
    "    cruce = cruce.apply(lambda x: x / x.sum(), axis=1)\n",
    "    cruce = cruce.reset_index()\n",
    "    \n",
    "    cols_cruce = list(cruce.columns)\n",
    "    cols_del = set(cols_cruce) - set(cols_select)\n",
    "    print(\"cols_del: \", len(cols_del))\n",
    "    \n",
    "    cols_autocompletar = set(cols_select) - set(cols_cruce)\n",
    "    print(\"cols_autocompletar: \", len(cols_autocompletar))\n",
    "    for col in cols_autocompletar:\n",
    "        cruce[col] = 0\n",
    "    \n",
    "    cruce['trimestre'] = trimestre\n",
    "    \n",
    "    trimestral.append(cruce[['trimestre'] + cols_select])\n",
    "    del cols_cruce\n",
    "    del cruce\n",
    "    \n",
    "    pageview = pageview[pageview['trimestre'] != trimestre]\n",
    "    gc.collect()"
   ]
  },
  {
   "cell_type": "code",
   "execution_count": null,
   "id": "93215f35-ef4a-441b-a17b-568822f7df61",
   "metadata": {},
   "outputs": [],
   "source": [
    "try:\n",
    "    gc.collect()\n",
    "    del cruce\n",
    "    gc.collect\n",
    "except: \n",
    "    pass"
   ]
  },
  {
   "cell_type": "code",
   "execution_count": null,
   "id": "58b64e45-e27a-468c-8900-406e0fac38b4",
   "metadata": {},
   "outputs": [],
   "source": [
    "try:\n",
    "    gc.collect()\n",
    "    del pageview\n",
    "    gc.collect\n",
    "except: \n",
    "    pass"
   ]
  },
  {
   "cell_type": "code",
   "execution_count": null,
   "id": "4a44facd-e3c9-490c-bb11-8831f765a168",
   "metadata": {},
   "outputs": [],
   "source": [
    "len(trimestral)"
   ]
  },
  {
   "cell_type": "code",
   "execution_count": null,
   "id": "1c5f050e-48e0-472c-8893-5fd4d8854f32",
   "metadata": {},
   "outputs": [],
   "source": [
    "pageview = pd.concat(\n",
    "    trimestral,\n",
    "    ignore_index=True,\n",
    "    axis=0\n",
    ")\n",
    "\n",
    "pageview.shape"
   ]
  },
  {
   "cell_type": "code",
   "execution_count": null,
   "id": "4a313a5b-9eb4-4c4a-abf7-7a33eafe1467",
   "metadata": {},
   "outputs": [],
   "source": [
    "pageview.to_csv('pageview_trimestral_percent.csv', index=False)\n",
    "pageview.head()"
   ]
  },
  {
   "cell_type": "code",
   "execution_count": null,
   "id": "e50aa3ed-5450-48f2-9101-bcce6ca35608",
   "metadata": {},
   "outputs": [],
   "source": [
    "try:\n",
    "    gc.collect()\n",
    "    del pageview\n",
    "    gc.collect\n",
    "except: \n",
    "    pass"
   ]
  },
  {
   "cell_type": "code",
   "execution_count": null,
   "id": "9c1c17ba-7919-4ae1-9ae4-cea29bfe61e4",
   "metadata": {},
   "outputs": [],
   "source": [
    "try:\n",
    "    gc.collect()\n",
    "    del trimestral\n",
    "    gc.collect\n",
    "except: \n",
    "    pass"
   ]
  },
  {
   "cell_type": "code",
   "execution_count": null,
   "id": "1ee58d9e-45e0-484f-a103-5b985627a658",
   "metadata": {},
   "outputs": [],
   "source": []
  },
  {
   "cell_type": "code",
   "execution_count": null,
   "id": "44c3472f-dc72-4b8e-9425-8a21fbed5aa7",
   "metadata": {},
   "outputs": [],
   "source": []
  },
  {
   "cell_type": "markdown",
   "id": "6e38650b-d047-471c-8ea9-7dbafb19a658",
   "metadata": {},
   "source": [
    "## CATEGORIA"
   ]
  },
  {
   "cell_type": "code",
   "execution_count": null,
   "id": "3db92c4c-e412-4eec-9bd3-8358431dd61b",
   "metadata": {},
   "outputs": [],
   "source": [
    "one_hot_2 = 'CONTENT_CATEGORY'"
   ]
  },
  {
   "cell_type": "code",
   "execution_count": null,
   "id": "777a8837-c7eb-448e-b641-47f76ce3c3f1",
   "metadata": {},
   "outputs": [],
   "source": [
    "pageview = pd.read_csv(\n",
    "    \"{}/pageview_with_previous_2.csv\".format(subfolder), parse_dates=[\"FEC_EVENT\"], dtype=str\n",
    ").sort_values(\n",
    "    [\"FEC_EVENT\"]\n",
    ")[[col_user, 'trimestre', one_hot_2]]\n",
    "\n",
    "pageview['USER_ID'] = pageview['USER_ID'].astype(int)\n",
    "print(pageview.shape)\n",
    "gc.collect()\n",
    "\n",
    "pageview.head()"
   ]
  },
  {
   "cell_type": "code",
   "execution_count": null,
   "id": "1097600b-3128-4d53-a380-dca4adad3216",
   "metadata": {},
   "outputs": [],
   "source": [
    "cruce = pd.crosstab(\n",
    "    index=pageview[col_user], columns=pageview[one_hot_2]\n",
    ")\n",
    "cruce = cruce.apply(lambda x: x / x.sum(), axis=1)\n",
    "cruce = cruce.reset_index()\n",
    "gc.collect()\n",
    "\n",
    "del pageview\n",
    "gc.collect()\n",
    "cruce.head()"
   ]
  },
  {
   "cell_type": "code",
   "execution_count": null,
   "id": "9c710188-705a-424d-9103-a9c0fbfc6a49",
   "metadata": {},
   "outputs": [],
   "source": [
    "treshold"
   ]
  },
  {
   "cell_type": "code",
   "execution_count": null,
   "id": "f4864702-1ae5-4446-b166-4fe762bad873",
   "metadata": {},
   "outputs": [],
   "source": [
    "cols_del = []\n",
    "for col in list(cruce.columns)[1:]:\n",
    "    \n",
    "    columna = cruce[col]\n",
    "    size = len(columna[columna > 0])\n",
    "    \n",
    "    if size < treshold:\n",
    "        cols_del.append(col) "
   ]
  },
  {
   "cell_type": "code",
   "execution_count": null,
   "id": "232cd3b1-442c-4097-b34e-5446c2c543bb",
   "metadata": {},
   "outputs": [],
   "source": [
    "len(cols_del)"
   ]
  },
  {
   "cell_type": "code",
   "execution_count": null,
   "id": "85d2b665-ff6e-4a13-b4e6-b4dff4b55bb9",
   "metadata": {},
   "outputs": [],
   "source": [
    "cruce = cruce.drop(cols_del, axis=1)\n",
    "print(cruce.shape)\n",
    "\n",
    "cols_select = list(cruce.columns)\n",
    "del cruce\n",
    "gc.collect()\n",
    "len(cols_select)"
   ]
  },
  {
   "cell_type": "code",
   "execution_count": null,
   "id": "66ba0dfe-d15c-4908-a350-dab02b2106a8",
   "metadata": {},
   "outputs": [],
   "source": [
    "pageview = pd.read_csv(\n",
    "    \"{}/pageview_with_previous_2.csv\".format(subfolder), parse_dates=[\"FEC_EVENT\"], dtype=str\n",
    ").sort_values(\n",
    "    [\"FEC_EVENT\"]\n",
    ")[[col_user, 'trimestre', one_hot_2]]\n",
    "\n",
    "pageview['USER_ID'] = pageview['USER_ID'].astype(int)\n",
    "print(pageview.shape)\n",
    "gc.collect()\n",
    "\n",
    "pageview.head()"
   ]
  },
  {
   "cell_type": "code",
   "execution_count": null,
   "id": "60d5e034-e411-4993-8b20-ec3b739866c0",
   "metadata": {},
   "outputs": [],
   "source": [
    "trimestral = []\n",
    "\n",
    "for trimestre in pageview['trimestre'].unique():\n",
    "    print(\"/\"*50, \" trimestre: \", trimestre)\n",
    "    cruce = pd.crosstab(\n",
    "        pageview[pageview['trimestre'] == trimestre][col_user], \n",
    "        pageview[pageview['trimestre'] == trimestre][one_hot_2]\n",
    "    )\n",
    "    cruce = cruce.apply(lambda x: x / x.sum(), axis=1)\n",
    "    cruce = cruce.reset_index()\n",
    "    \n",
    "    cols_cruce = list(cruce.columns)\n",
    "    cols_del = set(cols_cruce) - set(cols_select)\n",
    "    print(\"cols_del: \", len(cols_del))\n",
    "    \n",
    "    cols_autocompletar = set(cols_select) - set(cols_cruce)\n",
    "    print(\"cols_autocompletar: \", len(cols_autocompletar))\n",
    "    for col in cols_autocompletar:\n",
    "        cruce[col] = 0\n",
    "    \n",
    "    cruce['trimestre'] = trimestre\n",
    "    \n",
    "    trimestral.append(cruce[['trimestre'] + cols_select])\n",
    "    del cols_cruce\n",
    "    del cruce\n",
    "    \n",
    "    pageview = pageview[pageview['trimestre'] != trimestre]\n",
    "    gc.collect()"
   ]
  },
  {
   "cell_type": "code",
   "execution_count": null,
   "id": "9ff678cb-687a-4867-8aa6-e859b29f37b8",
   "metadata": {},
   "outputs": [],
   "source": [
    "try:\n",
    "    gc.collect()\n",
    "    del cruce\n",
    "    gc.collect\n",
    "except: \n",
    "    pass"
   ]
  },
  {
   "cell_type": "code",
   "execution_count": null,
   "id": "23535092-0d9d-46a9-bc93-1a2f4c4ebaef",
   "metadata": {},
   "outputs": [],
   "source": [
    "pageview = pd.concat(\n",
    "    trimestral,\n",
    "    ignore_index=True,\n",
    "    axis=0\n",
    ")\n",
    "\n",
    "print(pageview.shape)\n",
    "pageview.head()"
   ]
  },
  {
   "cell_type": "code",
   "execution_count": null,
   "id": "3b4e859c-c888-4eb0-b905-a7fdc502f61d",
   "metadata": {},
   "outputs": [],
   "source": [
    "pageview.to_csv('content_category_trimestral_percent.csv', index=False)\n",
    "pageview.head()"
   ]
  },
  {
   "cell_type": "code",
   "execution_count": null,
   "id": "396c6e37-b943-4a8d-97a1-1d2665906b80",
   "metadata": {},
   "outputs": [],
   "source": [
    "try:\n",
    "    gc.collect()\n",
    "    del pageview\n",
    "    gc.collect\n",
    "except: \n",
    "    pass"
   ]
  },
  {
   "cell_type": "code",
   "execution_count": null,
   "id": "0ebd51ad-3c7a-49d9-9492-68b969186e9a",
   "metadata": {},
   "outputs": [],
   "source": [
    "try:\n",
    "    gc.collect()\n",
    "    del trimestal\n",
    "    gc.collect\n",
    "except: \n",
    "    pass"
   ]
  },
  {
   "cell_type": "code",
   "execution_count": null,
   "id": "af1b27bb-621f-4bc5-8745-654dc7af7c19",
   "metadata": {},
   "outputs": [],
   "source": []
  },
  {
   "cell_type": "code",
   "execution_count": null,
   "id": "6e174c5e-ffda-41be-b0e3-1193ca73035d",
   "metadata": {},
   "outputs": [],
   "source": []
  },
  {
   "cell_type": "markdown",
   "id": "e20556b3-0d4f-4e1e-a6c0-d740fd2c4cdd",
   "metadata": {},
   "source": [
    "## SITE ID"
   ]
  },
  {
   "cell_type": "code",
   "execution_count": null,
   "id": "2a8159b3-2638-4a1a-883e-88a27154a73a",
   "metadata": {},
   "outputs": [],
   "source": []
  },
  {
   "cell_type": "code",
   "execution_count": null,
   "id": "43527229-ab34-413e-b0f7-4d30e67b01b5",
   "metadata": {},
   "outputs": [],
   "source": [
    "one_hot_2 = 'SITE_ID'\n",
    "\n",
    "pageview = pd.read_csv(\n",
    "    \"{}/pageview_with_previous_2.csv\".format(subfolder), parse_dates=[\"FEC_EVENT\"], dtype=str\n",
    ").sort_values(\n",
    "    [\"FEC_EVENT\"]\n",
    ")[[col_user, 'trimestre', one_hot_2]]\n",
    "\n",
    "pageview['USER_ID'] = pageview['USER_ID'].astype(int)\n",
    "print(pageview.shape)\n",
    "gc.collect()\n",
    "\n",
    "cruce = pd.crosstab(\n",
    "    index=pageview[col_user], columns=pageview[one_hot_2]\n",
    ")\n",
    "cruce = cruce.apply(lambda x: x / x.sum(), axis=1)\n",
    "cruce = cruce.reset_index()\n",
    "gc.collect()\n",
    "\n",
    "del pageview\n",
    "gc.collect()\n",
    "cruce.head()"
   ]
  },
  {
   "cell_type": "code",
   "execution_count": null,
   "id": "60bced8c-ba51-40ca-9d24-235fcb330943",
   "metadata": {},
   "outputs": [],
   "source": [
    "treshold"
   ]
  },
  {
   "cell_type": "code",
   "execution_count": null,
   "id": "60800b55-ea54-46f2-9305-90b4cfdb1d39",
   "metadata": {},
   "outputs": [],
   "source": [
    "cols_del = []\n",
    "for col in list(cruce.columns)[1:]:\n",
    "    \n",
    "    columna = cruce[col]\n",
    "    size = len(columna[columna > 0])\n",
    "    \n",
    "    if size < treshold:\n",
    "        cols_del.append(col) \n",
    "        \n",
    "print(len(cols_del))\n",
    "\n",
    "cruce = cruce.drop(cols_del, axis=1)\n",
    "print(cruce.shape)\n",
    "\n",
    "cols_select = list(cruce.columns)\n",
    "del cruce\n",
    "gc.collect()\n",
    "len(cols_select)"
   ]
  },
  {
   "cell_type": "code",
   "execution_count": null,
   "id": "0c45a765-0e77-43aa-8ab6-daed8a4bee4a",
   "metadata": {},
   "outputs": [],
   "source": [
    "pageview = pd.read_csv(\n",
    "    \"{}/pageview_with_previous_2.csv\".format(subfolder), parse_dates=[\"FEC_EVENT\"], dtype=str\n",
    ").sort_values(\n",
    "    [\"FEC_EVENT\"]\n",
    ")[[col_user, 'trimestre', one_hot_2]]\n",
    "\n",
    "pageview['USER_ID'] = pageview['USER_ID'].astype(int)\n",
    "print(pageview.shape)\n",
    "gc.collect()\n",
    "\n",
    "trimestral = []\n",
    "\n",
    "for trimestre in pageview['trimestre'].unique():\n",
    "    print(\"/\"*50, \" trimestre: \", trimestre)\n",
    "    cruce = pd.crosstab(\n",
    "        pageview[pageview['trimestre'] == trimestre][col_user], \n",
    "        pageview[pageview['trimestre'] == trimestre][one_hot_2]\n",
    "    )\n",
    "    cruce = cruce.apply(lambda x: x / x.sum(), axis=1)\n",
    "    cruce = cruce.reset_index()\n",
    "    \n",
    "    cols_cruce = list(cruce.columns)\n",
    "    cols_del = set(cols_cruce) - set(cols_select)\n",
    "    print(\"cols_del: \", len(cols_del))\n",
    "    \n",
    "    cols_autocompletar = set(cols_select) - set(cols_cruce)\n",
    "    print(\"cols_autocompletar: \", len(cols_autocompletar))\n",
    "    for col in cols_autocompletar:\n",
    "        cruce[col] = 0\n",
    "    \n",
    "    cruce['trimestre'] = trimestre\n",
    "    \n",
    "    trimestral.append(cruce[['trimestre'] + cols_select])\n",
    "    del cols_cruce\n",
    "    del cruce\n",
    "    \n",
    "    pageview = pageview[pageview['trimestre'] != trimestre]\n",
    "    gc.collect()"
   ]
  },
  {
   "cell_type": "code",
   "execution_count": null,
   "id": "e6f30288-3eaa-4fae-b972-5d632d7af1d2",
   "metadata": {},
   "outputs": [],
   "source": [
    "pageview = pd.concat(\n",
    "    trimestral,\n",
    "    ignore_index=True,\n",
    "    axis=0\n",
    ")\n",
    "\n",
    "print(pageview.shape)\n",
    "pageview.to_csv('site_id_trimestral_percent.csv', index=False)"
   ]
  },
  {
   "cell_type": "code",
   "execution_count": null,
   "id": "6476908c-152c-4523-962f-2acaba7b39af",
   "metadata": {},
   "outputs": [],
   "source": [
    "pageview.head()"
   ]
  },
  {
   "cell_type": "code",
   "execution_count": null,
   "id": "64c00e2f-35a0-46d2-bc26-e8110914a3e4",
   "metadata": {},
   "outputs": [],
   "source": []
  },
  {
   "cell_type": "code",
   "execution_count": null,
   "id": "5aa2afe7-22a3-4e35-a9fb-6f76f368542c",
   "metadata": {},
   "outputs": [],
   "source": []
  },
  {
   "cell_type": "markdown",
   "id": "ef6c2678-9134-4e70-baf4-5f6829e7b072",
   "metadata": {},
   "source": [
    "### BUSQUEDAS"
   ]
  },
  {
   "cell_type": "code",
   "execution_count": null,
   "id": "5cfc4b07-c7e7-45d1-8d9a-ab0909195da8",
   "metadata": {},
   "outputs": [],
   "source": [
    "one_hot_2 = 'ON_SITE_SEARCH_TERM'\n",
    "\n",
    "pageview = pd.read_csv(\n",
    "    \"{}/pageview_with_previous_2.csv\".format(subfolder), parse_dates=[\"FEC_EVENT\"], dtype=str\n",
    ").sort_values(\n",
    "    [\"FEC_EVENT\"]\n",
    ")[[col_user, 'trimestre', one_hot_2]]\n",
    "\n",
    "pageview['USER_ID'] = pageview['USER_ID'].astype(int)\n",
    "print(pageview.shape)\n",
    "gc.collect()\n",
    "\n",
    "cruce = pd.crosstab(\n",
    "    index=pageview[col_user], columns=pageview[one_hot_2]\n",
    ")\n",
    "cruce = cruce.apply(lambda x: x / x.sum(), axis=1)\n",
    "cruce = cruce.reset_index()\n",
    "gc.collect()\n",
    "\n",
    "del pageview\n",
    "gc.collect()\n",
    "cruce.head()"
   ]
  },
  {
   "cell_type": "code",
   "execution_count": null,
   "id": "43fb8cda-d5b1-45a3-8f2e-c4ccc14e8138",
   "metadata": {},
   "outputs": [],
   "source": [
    "cols_del = []\n",
    "print(treshold)\n",
    "\n",
    "\n",
    "for col in list(cruce.columns)[1:]:\n",
    "    \n",
    "    columna = cruce[col]\n",
    "    size = len(columna[columna > 0])\n",
    "    \n",
    "    if size < treshold:\n",
    "        cols_del.append(col) \n",
    "        \n",
    "print(len(cols_del))\n",
    "\n",
    "cruce = cruce.drop(cols_del, axis=1)\n",
    "print(cruce.shape)\n",
    "\n",
    "cols_select = list(cruce.columns)\n",
    "del cruce\n",
    "gc.collect()\n",
    "len(cols_select)"
   ]
  },
  {
   "cell_type": "code",
   "execution_count": null,
   "id": "3dfbd846-e52d-44c5-80be-8c994638cf28",
   "metadata": {},
   "outputs": [],
   "source": [
    "pageview = pd.read_csv(\n",
    "    \"{}/pageview_with_previous_2.csv\".format(subfolder), parse_dates=[\"FEC_EVENT\"], dtype=str\n",
    ").sort_values(\n",
    "    [\"FEC_EVENT\"]\n",
    ")[[col_user, 'trimestre', one_hot_2]]\n",
    "\n",
    "pageview['USER_ID'] = pageview['USER_ID'].astype(int)\n",
    "print(pageview.shape)\n",
    "gc.collect()\n",
    "\n",
    "trimestral = []\n",
    "\n",
    "for trimestre in pageview['trimestre'].unique():\n",
    "    print(\"/\"*50, \" trimestre: \", trimestre)\n",
    "    cruce = pd.crosstab(\n",
    "        pageview[pageview['trimestre'] == trimestre][col_user], \n",
    "        pageview[pageview['trimestre'] == trimestre][one_hot_2]\n",
    "    )\n",
    "    cruce = cruce.apply(lambda x: x / x.sum(), axis=1)\n",
    "    cruce = cruce.reset_index()\n",
    "    \n",
    "    cols_cruce = list(cruce.columns)\n",
    "    cols_del = set(cols_cruce) - set(cols_select)\n",
    "    print(\"cols_del: \", len(cols_del))\n",
    "    \n",
    "    cols_autocompletar = set(cols_select) - set(cols_cruce)\n",
    "    print(\"cols_autocompletar: \", len(cols_autocompletar))\n",
    "    for col in cols_autocompletar:\n",
    "        cruce[col] = 0\n",
    "    \n",
    "    cruce['trimestre'] = trimestre\n",
    "    \n",
    "    trimestral.append(cruce[['trimestre'] + cols_select])\n",
    "    del cols_cruce\n",
    "    del cruce\n",
    "    \n",
    "    pageview = pageview[pageview['trimestre'] != trimestre]\n",
    "    gc.collect()"
   ]
  },
  {
   "cell_type": "code",
   "execution_count": null,
   "id": "e3ab560d-fef8-4de1-8284-96400ce7da46",
   "metadata": {},
   "outputs": [],
   "source": [
    "pageview = pd.concat(\n",
    "    trimestral,\n",
    "    ignore_index=True,\n",
    "    axis=0\n",
    ")\n",
    "\n",
    "print(pageview.shape)\n",
    "pageview.to_csv('search_trimestral_percent.csv', index=False)"
   ]
  },
  {
   "cell_type": "code",
   "execution_count": null,
   "id": "da6bbd77-0111-4daa-b64e-e67df0ab2929",
   "metadata": {},
   "outputs": [],
   "source": [
    "pageview.head()"
   ]
  },
  {
   "cell_type": "code",
   "execution_count": null,
   "id": "486c0d70-eede-4572-86f2-32f55930f48f",
   "metadata": {},
   "outputs": [],
   "source": [
    "cols_select"
   ]
  },
  {
   "cell_type": "code",
   "execution_count": null,
   "id": "2e71c319-d02e-4ca8-b388-b54e778b6358",
   "metadata": {},
   "outputs": [],
   "source": []
  },
  {
   "cell_type": "code",
   "execution_count": null,
   "id": "6ef98d6d-cabe-483d-b111-b684a0607ad1",
   "metadata": {},
   "outputs": [],
   "source": []
  },
  {
   "cell_type": "markdown",
   "id": "b5b4e4ce-dbce-4125-bc8a-b1f1017c6687",
   "metadata": {},
   "source": [
    "### DAYS"
   ]
  },
  {
   "cell_type": "code",
   "execution_count": null,
   "id": "523a2f65-2067-405b-9c05-ba4444256bcd",
   "metadata": {},
   "outputs": [],
   "source": [
    "one_hot_2 = 'tipo_dias'\n",
    "\n",
    "pageview = pd.read_csv(\n",
    "    \"{}/pageview_with_previous_2.csv\".format(subfolder), parse_dates=[\"FEC_EVENT\"], dtype=str\n",
    ").sort_values(\n",
    "    [\"FEC_EVENT\"]\n",
    ")[[col_user, 'trimestre', 'FEC_EVENT']]\n",
    "\n",
    "pageview['USER_ID'] = pageview['USER_ID'].astype(int)\n",
    "pageview['day'] = pageview['FEC_EVENT'].dt.day\n",
    "pageview['tipo_dias'] = pageview['day'].apply(get_day_cut)\n",
    "print(pageview.shape)\n",
    "gc.collect()\n",
    "\n",
    "cruce = pd.crosstab(\n",
    "    index=pageview[col_user], columns=pageview[one_hot_2]\n",
    ")\n",
    "cruce = cruce.apply(lambda x: x / x.sum(), axis=1)\n",
    "cruce = cruce.reset_index()\n",
    "gc.collect()\n",
    "\n",
    "del pageview\n",
    "gc.collect()\n",
    "cruce.head()"
   ]
  },
  {
   "cell_type": "code",
   "execution_count": null,
   "id": "04f53825-164b-427c-ace3-50109459c86a",
   "metadata": {},
   "outputs": [],
   "source": [
    "cols_del = []\n",
    "print(treshold)\n",
    "\n",
    "\n",
    "for col in list(cruce.columns)[1:]:\n",
    "    \n",
    "    columna = cruce[col]\n",
    "    size = len(columna[columna > 0])\n",
    "    \n",
    "    if size < treshold:\n",
    "        cols_del.append(col) \n",
    "        \n",
    "print(len(cols_del))\n",
    "\n",
    "cruce = cruce.drop(cols_del, axis=1)\n",
    "print(cruce.shape)\n",
    "\n",
    "cols_select = list(cruce.columns)\n",
    "del cruce\n",
    "gc.collect()\n",
    "len(cols_select)"
   ]
  },
  {
   "cell_type": "code",
   "execution_count": null,
   "id": "1a9ce83b-580e-4a12-b39c-8fad4b48cabd",
   "metadata": {},
   "outputs": [],
   "source": [
    "pageview = pd.read_csv(\n",
    "    \"{}/pageview_with_previous_2.csv\".format(subfolder), parse_dates=[\"FEC_EVENT\"], dtype=str\n",
    ").sort_values(\n",
    "    [\"FEC_EVENT\"]\n",
    ")[[col_user, 'trimestre', 'FEC_EVENT']]\n",
    "\n",
    "pageview['USER_ID'] = pageview['USER_ID'].astype(int)\n",
    "pageview['day'] = pageview['FEC_EVENT'].dt.day\n",
    "pageview['tipo_dias'] = pageview['day'].apply(get_day_cut)\n",
    "print(pageview.shape)\n",
    "gc.collect()\n",
    "\n",
    "trimestral = []\n",
    "\n",
    "for trimestre in pageview['trimestre'].unique():\n",
    "    print(\"/\"*50, \" trimestre: \", trimestre)\n",
    "    cruce = pd.crosstab(\n",
    "        pageview[pageview['trimestre'] == trimestre][col_user], \n",
    "        pageview[pageview['trimestre'] == trimestre][one_hot_2]\n",
    "    )\n",
    "    cruce = cruce.apply(lambda x: x / x.sum(), axis=1)\n",
    "    cruce = cruce.reset_index()\n",
    "    \n",
    "    cols_cruce = list(cruce.columns)\n",
    "    cols_del = set(cols_cruce) - set(cols_select)\n",
    "    print(\"cols_del: \", len(cols_del))\n",
    "    \n",
    "    cols_autocompletar = set(cols_select) - set(cols_cruce)\n",
    "    print(\"cols_autocompletar: \", len(cols_autocompletar))\n",
    "    for col in cols_autocompletar:\n",
    "        cruce[col] = 0\n",
    "    \n",
    "    cruce['trimestre'] = trimestre\n",
    "    \n",
    "    trimestral.append(cruce[['trimestre'] + cols_select])\n",
    "    del cols_cruce\n",
    "    del cruce\n",
    "    \n",
    "    pageview = pageview[pageview['trimestre'] != trimestre]\n",
    "    gc.collect()"
   ]
  },
  {
   "cell_type": "code",
   "execution_count": null,
   "id": "d4c65cb0-87c5-4dfe-a229-8f9d1af29d31",
   "metadata": {},
   "outputs": [],
   "source": [
    "pageview = pd.concat(\n",
    "    trimestral,\n",
    "    ignore_index=True,\n",
    "    axis=0\n",
    ")\n",
    "\n",
    "print(pageview.shape)\n",
    "pageview.to_csv('rango_dias_trimestral_percent.csv', index=False)"
   ]
  },
  {
   "cell_type": "code",
   "execution_count": null,
   "id": "3fd4d74c-d6fc-45a0-9947-039950f0609e",
   "metadata": {},
   "outputs": [],
   "source": [
    "pageview.head()"
   ]
  },
  {
   "cell_type": "code",
   "execution_count": null,
   "id": "e3d542c9-d5ac-4211-b00d-04797aa576bb",
   "metadata": {},
   "outputs": [],
   "source": []
  },
  {
   "cell_type": "code",
   "execution_count": null,
   "id": "313bc632-08c7-46ef-8b1c-740bd301b3f5",
   "metadata": {},
   "outputs": [],
   "source": []
  },
  {
   "cell_type": "markdown",
   "id": "6bc6e614-5d99-4aff-a663-aa227b101711",
   "metadata": {},
   "source": [
    "### SCHEDULE"
   ]
  },
  {
   "cell_type": "code",
   "execution_count": null,
   "id": "5bf43f42-c25e-44ad-ada4-2f682195afbb",
   "metadata": {},
   "outputs": [],
   "source": [
    "one_hot_2 = 'horario'\n",
    "\n",
    "pageview = pd.read_csv(\n",
    "    \"{}/pageview_with_previous_2.csv\".format(subfolder), parse_dates=[\"FEC_EVENT\"], dtype=str\n",
    ").sort_values(\n",
    "    [\"FEC_EVENT\"]\n",
    ")[[col_user, 'trimestre', 'schedule', 'weekday']]\n",
    "\n",
    "\n",
    "pageview['USER_ID'] = pageview['USER_ID'].astype(int)\n",
    "pageview[one_hot_2] = pageview['weekday'] + '_' + pageview['schedule']\n",
    "print(pageview.shape)\n",
    "gc.collect()\n",
    "\n",
    "cruce = pd.crosstab(\n",
    "    index=pageview[col_user], columns=pageview[one_hot_2]\n",
    ")\n",
    "cruce = cruce.apply(lambda x: x / x.sum(), axis=1)\n",
    "cruce = cruce.reset_index()\n",
    "gc.collect()\n",
    "\n",
    "del pageview\n",
    "gc.collect()\n",
    "cruce.head()"
   ]
  },
  {
   "cell_type": "code",
   "execution_count": null,
   "id": "a83bf42b-a10f-43cb-925d-590a0ade6deb",
   "metadata": {},
   "outputs": [],
   "source": [
    "cols_del = []\n",
    "print(treshold)\n",
    "\n",
    "\n",
    "for col in list(cruce.columns)[1:]:\n",
    "    \n",
    "    columna = cruce[col]\n",
    "    size = len(columna[columna > 0])\n",
    "    \n",
    "    if size < treshold:\n",
    "        cols_del.append(col) \n",
    "        \n",
    "print(len(cols_del))\n",
    "\n",
    "cruce = cruce.drop(cols_del, axis=1)\n",
    "print(cruce.shape)\n",
    "\n",
    "cols_select = list(cruce.columns)\n",
    "del cruce\n",
    "gc.collect()\n",
    "len(cols_select)"
   ]
  },
  {
   "cell_type": "code",
   "execution_count": null,
   "id": "2001765a-1581-4485-ade0-9ac9af6e1b95",
   "metadata": {},
   "outputs": [],
   "source": [
    "pageview = pd.read_csv(\n",
    "    \"{}/pageview_with_previous_2.csv\".format(subfolder), parse_dates=[\"FEC_EVENT\"], dtype=str\n",
    ").sort_values(\n",
    "    [\"FEC_EVENT\"]\n",
    ")[[col_user, 'trimestre', 'schedule', 'weekday']]\n",
    "\n",
    "pageview['USER_ID'] = pageview['USER_ID'].astype(int)\n",
    "pageview[one_hot_2] = pageview['weekday'] + '_' + pageview['schedule']\n",
    "print(pageview.shape)\n",
    "gc.collect()\n",
    "\n",
    "trimestral = []\n",
    "\n",
    "for trimestre in pageview['trimestre'].unique():\n",
    "    print(\"/\"*50, \" trimestre: \", trimestre)\n",
    "    cruce = pd.crosstab(\n",
    "        pageview[pageview['trimestre'] == trimestre][col_user], \n",
    "        pageview[pageview['trimestre'] == trimestre][one_hot_2]\n",
    "    )\n",
    "    cruce = cruce.apply(lambda x: x / x.sum(), axis=1)\n",
    "    cruce = cruce.reset_index()\n",
    "    \n",
    "    cols_cruce = list(cruce.columns)\n",
    "    cols_del = set(cols_cruce) - set(cols_select)\n",
    "    print(\"cols_del: \", len(cols_del))\n",
    "    \n",
    "    cols_autocompletar = set(cols_select) - set(cols_cruce)\n",
    "    print(\"cols_autocompletar: \", len(cols_autocompletar))\n",
    "    for col in cols_autocompletar:\n",
    "        cruce[col] = 0\n",
    "    \n",
    "    cruce['trimestre'] = trimestre\n",
    "    \n",
    "    trimestral.append(cruce[['trimestre'] + cols_select])\n",
    "    del cols_cruce\n",
    "    del cruce\n",
    "    \n",
    "    pageview = pageview[pageview['trimestre'] != trimestre]\n",
    "    gc.collect()"
   ]
  },
  {
   "cell_type": "code",
   "execution_count": null,
   "id": "3c12bd8a-d9a4-4272-b4db-e97aa99df489",
   "metadata": {},
   "outputs": [],
   "source": [
    "pageview = pd.concat(\n",
    "    trimestral,\n",
    "    ignore_index=True,\n",
    "    axis=0\n",
    ")\n",
    "\n",
    "print(pageview.shape)\n",
    "pageview.to_csv('schedule_trimestral_percent.csv', index=False)"
   ]
  },
  {
   "cell_type": "code",
   "execution_count": null,
   "id": "37837369-67bb-4613-942a-a82d4f1f68c8",
   "metadata": {},
   "outputs": [],
   "source": [
    "pageview.head()"
   ]
  },
  {
   "cell_type": "code",
   "execution_count": null,
   "id": "ef5d46a1-c6e0-489f-be57-ee422228510b",
   "metadata": {},
   "outputs": [],
   "source": [
    "try:\n",
    "    gc.collect()\n",
    "    del pageview\n",
    "except:\n",
    "    pass"
   ]
  },
  {
   "cell_type": "code",
   "execution_count": null,
   "id": "8bec5fc4-0da9-4543-8bf2-aeca83b7d7e6",
   "metadata": {},
   "outputs": [],
   "source": [
    "try:\n",
    "    gc.collect()\n",
    "    del cruce\n",
    "except:\n",
    "    pass"
   ]
  },
  {
   "cell_type": "code",
   "execution_count": null,
   "id": "2d7c4d74-ccc7-4e91-991a-87a3e5af9352",
   "metadata": {},
   "outputs": [],
   "source": [
    "try:\n",
    "    gc.collect()\n",
    "    del trimestral\n",
    "except:\n",
    "    pass"
   ]
  },
  {
   "cell_type": "code",
   "execution_count": null,
   "id": "bbd565ed-4e15-439e-8d58-c4fc224609e9",
   "metadata": {},
   "outputs": [],
   "source": []
  },
  {
   "cell_type": "code",
   "execution_count": null,
   "id": "c6959d99-dcec-4856-a719-301042f1720d",
   "metadata": {},
   "outputs": [],
   "source": []
  },
  {
   "cell_type": "markdown",
   "id": "f5813963-3c67-4a25-be3b-0ba2babfc86d",
   "metadata": {},
   "source": [
    "#### MISMO DIA"
   ]
  },
  {
   "cell_type": "code",
   "execution_count": null,
   "id": "c2abf41b-fbd9-4cfc-a4bf-1faef08cf649",
   "metadata": {},
   "outputs": [],
   "source": [
    "one_hot_2 = 'schedule'\n",
    "\n",
    "pageview = pd.read_csv(\n",
    "    \"{}/pageview_with_previous_2.csv\".format(subfolder), parse_dates=[\"FEC_EVENT\"], dtype=str\n",
    ").sort_values(\n",
    "    [\"FEC_EVENT\"]\n",
    ")[[col_user, 'trimestre','schedule']]\n",
    "\n",
    "pageview['USER_ID'] = pageview['USER_ID'].astype(int)\n",
    "print(pageview.shape)\n",
    "gc.collect()\n",
    "\n",
    "cruce = pd.crosstab(\n",
    "    index=pageview[col_user], columns=pageview[one_hot_2]\n",
    ")\n",
    "cruce = cruce.apply(lambda x: x / x.sum(), axis=1)\n",
    "cruce = cruce.reset_index()\n",
    "gc.collect()\n",
    "\n",
    "del pageview\n",
    "gc.collect()\n",
    "cruce.head()"
   ]
  },
  {
   "cell_type": "code",
   "execution_count": null,
   "id": "f00f2b75-b121-427b-b7c3-856e91b65e9d",
   "metadata": {},
   "outputs": [],
   "source": [
    "cols_del = []\n",
    "print(treshold)\n",
    "\n",
    "for col in list(cruce.columns)[1:]:\n",
    "    columna = cruce[col]\n",
    "    size = len(columna[columna > 0])\n",
    "    \n",
    "    if size < treshold:\n",
    "        cols_del.append(col) \n",
    "\n",
    "print(len(cols_del))\n",
    "\n",
    "cruce = cruce.drop(cols_del, axis=1)\n",
    "print(cruce.shape)\n",
    "\n",
    "cols_select = list(cruce.columns)\n",
    "del cruce\n",
    "gc.collect()\n",
    "len(cols_select)"
   ]
  },
  {
   "cell_type": "code",
   "execution_count": null,
   "id": "289f725f-bc32-434f-a0d7-6cff816c6635",
   "metadata": {},
   "outputs": [],
   "source": [
    "one_hot_2"
   ]
  },
  {
   "cell_type": "code",
   "execution_count": null,
   "id": "0bd43554-2004-4959-af33-47e18279c94c",
   "metadata": {},
   "outputs": [],
   "source": [
    "pageview = pd.read_csv(\n",
    "    \"{}/pageview_with_previous_2.csv\".format(subfolder), parse_dates=[\"FEC_EVENT\"], dtype=str\n",
    ").sort_values(\n",
    "    [\"FEC_EVENT\"]\n",
    ")[[col_user, 'trimestre', one_hot_2]]\n",
    "\n",
    "pageview['USER_ID'] = pageview['USER_ID'].astype(int)\n",
    "print(pageview.shape)\n",
    "gc.collect()"
   ]
  },
  {
   "cell_type": "code",
   "execution_count": null,
   "id": "7d4c12d2-adef-4006-914c-9410eecf5a2d",
   "metadata": {},
   "outputs": [],
   "source": [
    "trimestral = []\n",
    "\n",
    "for trimestre in pageview['trimestre'].unique():\n",
    "    print(\"/\"*50, \" trimestre: \", trimestre)\n",
    "    cruce = pd.crosstab(\n",
    "        pageview[pageview['trimestre'] == trimestre][col_user], \n",
    "        pageview[pageview['trimestre'] == trimestre][one_hot_2]\n",
    "    )\n",
    "    cruce = cruce.apply(lambda x: x / x.sum(), axis=1)\n",
    "    cruce = cruce.reset_index()\n",
    "    \n",
    "    cols_cruce = list(cruce.columns)\n",
    "    cols_del = set(cols_cruce) - set(cols_select)\n",
    "    print(\"cols_del: \", len(cols_del))\n",
    "    \n",
    "    cols_autocompletar = set(cols_select) - set(cols_cruce)\n",
    "    print(\"cols_autocompletar: \", len(cols_autocompletar))\n",
    "    for col in cols_autocompletar:\n",
    "        cruce[col] = 0\n",
    "    \n",
    "    cruce['trimestre'] = trimestre\n",
    "    \n",
    "    trimestral.append(cruce[['trimestre'] + cols_select])\n",
    "    del cols_cruce\n",
    "    del cruce\n",
    "    \n",
    "    pageview = pageview[pageview['trimestre'] != trimestre]\n",
    "    gc.collect()"
   ]
  },
  {
   "cell_type": "code",
   "execution_count": null,
   "id": "649f7960-9840-4183-bd92-8fc93fe8d15f",
   "metadata": {},
   "outputs": [],
   "source": [
    "pageview = pd.concat(\n",
    "    trimestral,\n",
    "    ignore_index=True,\n",
    "    axis=0\n",
    ")\n",
    "\n",
    "print(pageview.shape)\n",
    "pageview.to_csv('mismo_trimestral_percent.csv', index=False)\n",
    "pageview.head()"
   ]
  },
  {
   "cell_type": "code",
   "execution_count": null,
   "id": "932247bb-372a-497b-85ea-bb05db9b798a",
   "metadata": {},
   "outputs": [],
   "source": [
    "del pageview\n",
    "del trimestral"
   ]
  },
  {
   "cell_type": "code",
   "execution_count": null,
   "id": "810d2a9b-4e0a-4ab6-a1fd-35fec69d8b28",
   "metadata": {},
   "outputs": [],
   "source": []
  }
 ],
 "metadata": {
  "kernelspec": {
   "display_name": "Python 3",
   "language": "python",
   "name": "python3"
  },
  "language_info": {
   "codemirror_mode": {
    "name": "ipython",
    "version": 3
   },
   "file_extension": ".py",
   "mimetype": "text/x-python",
   "name": "python",
   "nbconvert_exporter": "python",
   "pygments_lexer": "ipython3",
   "version": "3.8.5"
  }
 },
 "nbformat": 4,
 "nbformat_minor": 5
}
