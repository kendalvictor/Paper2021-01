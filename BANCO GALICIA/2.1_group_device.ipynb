{
 "cells": [
  {
   "cell_type": "code",
   "execution_count": 1,
   "id": "cbf56b62-11a9-4248-a463-2c1f408c75f0",
   "metadata": {},
   "outputs": [
    {
     "data": {
      "text/plain": [
       "['.ipynb_checkpoints',\n",
       " 'CONTENT_CATEGORY.zip',\n",
       " 'CONTENT_CATEGORY_BOTTOM.zip',\n",
       " 'CONTENT_CATEGORY_TOP.zip',\n",
       " 'conversiones.zip',\n",
       " 'data.zip',\n",
       " 'data2.zip',\n",
       " 'device_data.zip',\n",
       " 'PAGE.zip',\n",
       " 'pageviews.zip',\n",
       " 'pageviews_complemento.zip',\n",
       " 'pageview_with_previous_2.csv',\n",
       " 'sampleSubmission.zip',\n",
       " 'SITE_ID.zip']"
      ]
     },
     "execution_count": 1,
     "metadata": {},
     "output_type": "execute_result"
    }
   ],
   "source": [
    "# Nativos\n",
    "import random as rn\n",
    "import os\n",
    "import sys\n",
    "import gc\n",
    "\n",
    "#calculo\n",
    "import numpy as np\n",
    "import pandas as pd\n",
    "import scipy as sp\n",
    "\n",
    "#grafico\n",
    "import matplotlib.pyplot as plt\n",
    "import seaborn as sns\n",
    "from IPython.display import display\n",
    "%matplotlib inline\n",
    "sns.set(style=\"whitegrid\")\n",
    "\n",
    "#warning ignore future\n",
    "import warnings\n",
    "# warnings.simplefilter(action='ignore', category=FutureWarning)\n",
    "warnings.filterwarnings(\"ignore\")\n",
    "gc.collect()\n",
    "\n",
    "BASE_DIR = os.path.dirname(os.getcwd())\n",
    "if BASE_DIR not in sys.path: sys.path.append(BASE_DIR)\n",
    "\n",
    "from utils import *\n",
    "#from graphs import *\n",
    "\n",
    "SEED = 29082013\n",
    "os.environ['PYTHONHASHSEED']=str(SEED)\n",
    "np.random.seed(SEED)\n",
    "rn.seed(SEED)\n",
    "\n",
    "subfolder = \"data\"\n",
    "os.listdir(subfolder)"
   ]
  },
  {
   "cell_type": "code",
   "execution_count": null,
   "id": "c3f090f0-2b0b-4651-b14a-42d49c749e8b",
   "metadata": {},
   "outputs": [],
   "source": []
  },
  {
   "cell_type": "markdown",
   "id": "957db948-bcec-40bf-8b34-fbebcb1da7a6",
   "metadata": {},
   "source": [
    "### Config"
   ]
  },
  {
   "cell_type": "code",
   "execution_count": 2,
   "id": "bf280f5d-b527-491d-955a-005aa46a07af",
   "metadata": {},
   "outputs": [],
   "source": [
    "col_user = 'USER_ID'\n",
    "one_hot_1 = 'CONNECTION_SPEED'"
   ]
  },
  {
   "cell_type": "code",
   "execution_count": 3,
   "id": "6eb54dd5-482b-4085-9299-ac40c12f8f39",
   "metadata": {},
   "outputs": [
    {
     "data": {
      "text/html": [
       "<div>\n",
       "<style scoped>\n",
       "    .dataframe tbody tr th:only-of-type {\n",
       "        vertical-align: middle;\n",
       "    }\n",
       "\n",
       "    .dataframe tbody tr th {\n",
       "        vertical-align: top;\n",
       "    }\n",
       "\n",
       "    .dataframe thead th {\n",
       "        text-align: right;\n",
       "    }\n",
       "</style>\n",
       "<table border=\"1\" class=\"dataframe\">\n",
       "  <thead>\n",
       "    <tr style=\"text-align: right;\">\n",
       "      <th></th>\n",
       "      <th>FEC_EVENT</th>\n",
       "      <th>CONNECTION_SPEED</th>\n",
       "      <th>IS_MOBILE_DEVICE</th>\n",
       "      <th>USER_ID</th>\n",
       "      <th>month</th>\n",
       "      <th>trimestre</th>\n",
       "    </tr>\n",
       "  </thead>\n",
       "  <tbody>\n",
       "    <tr>\n",
       "      <th>0</th>\n",
       "      <td>2018-11-22 10:15:38</td>\n",
       "      <td>speed_1</td>\n",
       "      <td>1</td>\n",
       "      <td>0</td>\n",
       "      <td>11</td>\n",
       "      <td>4</td>\n",
       "    </tr>\n",
       "    <tr>\n",
       "      <th>1</th>\n",
       "      <td>2018-09-11 09:39:41</td>\n",
       "      <td>speed_1</td>\n",
       "      <td>1</td>\n",
       "      <td>0</td>\n",
       "      <td>9</td>\n",
       "      <td>3</td>\n",
       "    </tr>\n",
       "    <tr>\n",
       "      <th>2</th>\n",
       "      <td>2018-11-29 16:29:03</td>\n",
       "      <td>speed_3</td>\n",
       "      <td>1</td>\n",
       "      <td>0</td>\n",
       "      <td>11</td>\n",
       "      <td>4</td>\n",
       "    </tr>\n",
       "    <tr>\n",
       "      <th>3</th>\n",
       "      <td>2018-05-16 21:12:54</td>\n",
       "      <td>speed_3</td>\n",
       "      <td>1</td>\n",
       "      <td>0</td>\n",
       "      <td>5</td>\n",
       "      <td>2</td>\n",
       "    </tr>\n",
       "    <tr>\n",
       "      <th>4</th>\n",
       "      <td>2018-10-12 19:28:23</td>\n",
       "      <td>speed_3</td>\n",
       "      <td>1</td>\n",
       "      <td>0</td>\n",
       "      <td>10</td>\n",
       "      <td>4</td>\n",
       "    </tr>\n",
       "  </tbody>\n",
       "</table>\n",
       "</div>"
      ],
      "text/plain": [
       "            FEC_EVENT CONNECTION_SPEED IS_MOBILE_DEVICE  USER_ID  month  \\\n",
       "0 2018-11-22 10:15:38          speed_1                1        0     11   \n",
       "1 2018-09-11 09:39:41          speed_1                1        0      9   \n",
       "2 2018-11-29 16:29:03          speed_3                1        0     11   \n",
       "3 2018-05-16 21:12:54          speed_3                1        0      5   \n",
       "4 2018-10-12 19:28:23          speed_3                1        0     10   \n",
       "\n",
       "   trimestre  \n",
       "0          4  \n",
       "1          3  \n",
       "2          4  \n",
       "3          2  \n",
       "4          4  "
      ]
     },
     "execution_count": 3,
     "metadata": {},
     "output_type": "execute_result"
    }
   ],
   "source": [
    "device = pd.read_csv(\n",
    "    \"{}/device_data.zip\".format(subfolder), parse_dates=[\"FEC_EVENT\"], dtype=str\n",
    ")\n",
    "device['USER_ID'] = device['USER_ID'].apply(lambda _: str(_).split('.')[0]).astype(int)\n",
    "device['month'] = device['FEC_EVENT'].dt.month\n",
    "device['trimestre'] = device['month'].apply(get_trimestre)\n",
    "device[one_hot_1] = device[one_hot_1].apply(lambda _: 'speed_' + str(_))\n",
    "\n",
    "device.head()"
   ]
  },
  {
   "cell_type": "code",
   "execution_count": 4,
   "id": "66b3eafe-d838-4bb0-ae41-e0c185f270bb",
   "metadata": {},
   "outputs": [
    {
     "data": {
      "text/plain": [
       "array(['speed_1', 'speed_3', 'speed_0', 'speed_2'], dtype=object)"
      ]
     },
     "execution_count": 4,
     "metadata": {},
     "output_type": "execute_result"
    }
   ],
   "source": [
    "device['CONNECTION_SPEED'].unique()"
   ]
  },
  {
   "cell_type": "code",
   "execution_count": 5,
   "id": "7a06634d-c2c9-4de4-aca8-142babaf903d",
   "metadata": {},
   "outputs": [
    {
     "data": {
      "text/plain": [
       "array(['1', '0'], dtype=object)"
      ]
     },
     "execution_count": 5,
     "metadata": {},
     "output_type": "execute_result"
    }
   ],
   "source": [
    "device['IS_MOBILE_DEVICE'].unique()"
   ]
  },
  {
   "cell_type": "code",
   "execution_count": 6,
   "id": "de069189-e51f-4934-af9b-3772121de395",
   "metadata": {},
   "outputs": [
    {
     "name": "stdout",
     "output_type": "stream",
     "text": [
      "(11676, 5)\n"
     ]
    },
    {
     "data": {
      "text/html": [
       "<div>\n",
       "<style scoped>\n",
       "    .dataframe tbody tr th:only-of-type {\n",
       "        vertical-align: middle;\n",
       "    }\n",
       "\n",
       "    .dataframe tbody tr th {\n",
       "        vertical-align: top;\n",
       "    }\n",
       "\n",
       "    .dataframe thead th {\n",
       "        text-align: right;\n",
       "    }\n",
       "</style>\n",
       "<table border=\"1\" class=\"dataframe\">\n",
       "  <thead>\n",
       "    <tr style=\"text-align: right;\">\n",
       "      <th>CONNECTION_SPEED</th>\n",
       "      <th>USER_ID</th>\n",
       "      <th>speed_0</th>\n",
       "      <th>speed_1</th>\n",
       "      <th>speed_2</th>\n",
       "      <th>speed_3</th>\n",
       "    </tr>\n",
       "  </thead>\n",
       "  <tbody>\n",
       "    <tr>\n",
       "      <th>0</th>\n",
       "      <td>0</td>\n",
       "      <td>7</td>\n",
       "      <td>396</td>\n",
       "      <td>0</td>\n",
       "      <td>200</td>\n",
       "    </tr>\n",
       "    <tr>\n",
       "      <th>1</th>\n",
       "      <td>1</td>\n",
       "      <td>183</td>\n",
       "      <td>29</td>\n",
       "      <td>12</td>\n",
       "      <td>0</td>\n",
       "    </tr>\n",
       "    <tr>\n",
       "      <th>2</th>\n",
       "      <td>2</td>\n",
       "      <td>20</td>\n",
       "      <td>182</td>\n",
       "      <td>33</td>\n",
       "      <td>41</td>\n",
       "    </tr>\n",
       "    <tr>\n",
       "      <th>3</th>\n",
       "      <td>3</td>\n",
       "      <td>1</td>\n",
       "      <td>300</td>\n",
       "      <td>2</td>\n",
       "      <td>1</td>\n",
       "    </tr>\n",
       "    <tr>\n",
       "      <th>4</th>\n",
       "      <td>4</td>\n",
       "      <td>0</td>\n",
       "      <td>224</td>\n",
       "      <td>115</td>\n",
       "      <td>10</td>\n",
       "    </tr>\n",
       "  </tbody>\n",
       "</table>\n",
       "</div>"
      ],
      "text/plain": [
       "CONNECTION_SPEED  USER_ID  speed_0  speed_1  speed_2  speed_3\n",
       "0                       0        7      396        0      200\n",
       "1                       1      183       29       12        0\n",
       "2                       2       20      182       33       41\n",
       "3                       3        1      300        2        1\n",
       "4                       4        0      224      115       10"
      ]
     },
     "execution_count": 6,
     "metadata": {},
     "output_type": "execute_result"
    }
   ],
   "source": [
    "cruce = pd.crosstab(\n",
    "    index=device[col_user], columns=device[one_hot_1]\n",
    ").reset_index()\n",
    "gc.collect()\n",
    "\n",
    "print(cruce.shape)\n",
    "gc.collect()\n",
    "cruce.head()"
   ]
  },
  {
   "cell_type": "code",
   "execution_count": 7,
   "id": "64e57199-3d35-45c6-a3c4-ee076d12e52b",
   "metadata": {},
   "outputs": [
    {
     "data": {
      "text/plain": [
       "58.38"
      ]
     },
     "execution_count": 7,
     "metadata": {},
     "output_type": "execute_result"
    }
   ],
   "source": [
    "treshold = cruce.shape[0]*1/200\n",
    "treshold"
   ]
  },
  {
   "cell_type": "markdown",
   "id": "4cb6564d-feb3-48a6-b380-7c4ce2ba440e",
   "metadata": {},
   "source": [
    "### Select columns con recurrencia > 1%"
   ]
  },
  {
   "cell_type": "code",
   "execution_count": 8,
   "id": "c2ee100d-9bd2-4a65-a482-e6fe452ad694",
   "metadata": {},
   "outputs": [],
   "source": [
    "cols_del = []\n",
    "for col in list(cruce.columns)[1:]:\n",
    "    \n",
    "    columna = cruce[col]\n",
    "    size = len(columna[columna > 0])\n",
    "    \n",
    "    if size < treshold:\n",
    "        cols_del.append(col) "
   ]
  },
  {
   "cell_type": "code",
   "execution_count": 9,
   "id": "a5094b05-82b8-45bb-b492-aa210ec1eabe",
   "metadata": {},
   "outputs": [
    {
     "data": {
      "text/plain": [
       "0"
      ]
     },
     "execution_count": 9,
     "metadata": {},
     "output_type": "execute_result"
    }
   ],
   "source": [
    "len(cols_del)"
   ]
  },
  {
   "cell_type": "code",
   "execution_count": 10,
   "id": "57b7827a-b17e-481a-92ea-2b0ecab4eee2",
   "metadata": {},
   "outputs": [
    {
     "name": "stdout",
     "output_type": "stream",
     "text": [
      "(11676, 5)\n"
     ]
    },
    {
     "data": {
      "text/html": [
       "<div>\n",
       "<style scoped>\n",
       "    .dataframe tbody tr th:only-of-type {\n",
       "        vertical-align: middle;\n",
       "    }\n",
       "\n",
       "    .dataframe tbody tr th {\n",
       "        vertical-align: top;\n",
       "    }\n",
       "\n",
       "    .dataframe thead th {\n",
       "        text-align: right;\n",
       "    }\n",
       "</style>\n",
       "<table border=\"1\" class=\"dataframe\">\n",
       "  <thead>\n",
       "    <tr style=\"text-align: right;\">\n",
       "      <th>CONNECTION_SPEED</th>\n",
       "      <th>USER_ID</th>\n",
       "      <th>speed_0</th>\n",
       "      <th>speed_1</th>\n",
       "      <th>speed_2</th>\n",
       "      <th>speed_3</th>\n",
       "    </tr>\n",
       "  </thead>\n",
       "  <tbody>\n",
       "    <tr>\n",
       "      <th>0</th>\n",
       "      <td>0</td>\n",
       "      <td>7</td>\n",
       "      <td>396</td>\n",
       "      <td>0</td>\n",
       "      <td>200</td>\n",
       "    </tr>\n",
       "    <tr>\n",
       "      <th>1</th>\n",
       "      <td>1</td>\n",
       "      <td>183</td>\n",
       "      <td>29</td>\n",
       "      <td>12</td>\n",
       "      <td>0</td>\n",
       "    </tr>\n",
       "    <tr>\n",
       "      <th>2</th>\n",
       "      <td>2</td>\n",
       "      <td>20</td>\n",
       "      <td>182</td>\n",
       "      <td>33</td>\n",
       "      <td>41</td>\n",
       "    </tr>\n",
       "    <tr>\n",
       "      <th>3</th>\n",
       "      <td>3</td>\n",
       "      <td>1</td>\n",
       "      <td>300</td>\n",
       "      <td>2</td>\n",
       "      <td>1</td>\n",
       "    </tr>\n",
       "    <tr>\n",
       "      <th>4</th>\n",
       "      <td>4</td>\n",
       "      <td>0</td>\n",
       "      <td>224</td>\n",
       "      <td>115</td>\n",
       "      <td>10</td>\n",
       "    </tr>\n",
       "  </tbody>\n",
       "</table>\n",
       "</div>"
      ],
      "text/plain": [
       "CONNECTION_SPEED  USER_ID  speed_0  speed_1  speed_2  speed_3\n",
       "0                       0        7      396        0      200\n",
       "1                       1      183       29       12        0\n",
       "2                       2       20      182       33       41\n",
       "3                       3        1      300        2        1\n",
       "4                       4        0      224      115       10"
      ]
     },
     "execution_count": 10,
     "metadata": {},
     "output_type": "execute_result"
    }
   ],
   "source": [
    "cruce = cruce.drop(cols_del, axis=1)\n",
    "print(cruce.shape)\n",
    "\n",
    "cruce.head()"
   ]
  },
  {
   "cell_type": "code",
   "execution_count": 11,
   "id": "79d88e1b-f45a-4933-8af4-c95c5d4be5c1",
   "metadata": {},
   "outputs": [
    {
     "data": {
      "text/plain": [
       "5"
      ]
     },
     "execution_count": 11,
     "metadata": {},
     "output_type": "execute_result"
    }
   ],
   "source": [
    "cols_select = list(cruce.columns)\n",
    "del cruce\n",
    "gc.collect()\n",
    "len(cols_select)"
   ]
  },
  {
   "cell_type": "code",
   "execution_count": 12,
   "id": "f8469d77-4a12-4083-82bb-0744c0495663",
   "metadata": {},
   "outputs": [
    {
     "name": "stdout",
     "output_type": "stream",
     "text": [
      "//////////////////////////////////////////////////  trimestre:  4\n",
      "cols_del:  0\n",
      "cols_autocompletar:  0\n",
      "//////////////////////////////////////////////////  trimestre:  3\n",
      "cols_del:  0\n",
      "cols_autocompletar:  0\n",
      "//////////////////////////////////////////////////  trimestre:  2\n",
      "cols_del:  0\n",
      "cols_autocompletar:  0\n",
      "//////////////////////////////////////////////////  trimestre:  1\n",
      "cols_del:  0\n",
      "cols_autocompletar:  0\n"
     ]
    }
   ],
   "source": [
    "trimestral = []\n",
    "\n",
    "for trimestre in device['trimestre'].unique():\n",
    "    print(\"/\"*50, \" trimestre: \", trimestre)\n",
    "    cruce = pd.crosstab(\n",
    "        device[device['trimestre'] == trimestre][col_user], \n",
    "        device[device['trimestre'] == trimestre][one_hot_1]\n",
    "    ).reset_index()\n",
    "    \n",
    "    cols_cruce = list(cruce.columns)\n",
    "    cols_del = set(cols_cruce) - set(cols_select)\n",
    "    print(\"cols_del: \", len(cols_del))\n",
    "    \n",
    "    cols_autocompletar = set(cols_select) - set(cols_cruce)\n",
    "    print(\"cols_autocompletar: \", len(cols_autocompletar))\n",
    "    for col in cols_autocompletar:\n",
    "        cruce[col] = 0\n",
    "    \n",
    "    cruce['trimestre'] = trimestre\n",
    "    \n",
    "    trimestral.append(cruce[['trimestre'] + cols_select])\n",
    "    del cols_cruce\n",
    "    del cruce\n",
    "    \n",
    "    gc.collect()"
   ]
  },
  {
   "cell_type": "code",
   "execution_count": 13,
   "id": "93215f35-ef4a-441b-a17b-568822f7df61",
   "metadata": {},
   "outputs": [],
   "source": [
    "try:\n",
    "    gc.collect()\n",
    "    del cruce\n",
    "    gc.collect\n",
    "except: \n",
    "    pass"
   ]
  },
  {
   "cell_type": "code",
   "execution_count": 14,
   "id": "58b64e45-e27a-468c-8900-406e0fac38b4",
   "metadata": {},
   "outputs": [
    {
     "data": {
      "text/plain": [
       "(44893, 6)"
      ]
     },
     "execution_count": 14,
     "metadata": {},
     "output_type": "execute_result"
    }
   ],
   "source": [
    "save = pd.concat(\n",
    "    trimestral,\n",
    "    ignore_index=True,\n",
    "    axis=0\n",
    ")\n",
    "\n",
    "save.shape"
   ]
  },
  {
   "cell_type": "code",
   "execution_count": 16,
   "id": "d55838d1-4fc2-4115-964d-b641eb05d177",
   "metadata": {},
   "outputs": [
    {
     "data": {
      "text/html": [
       "<div>\n",
       "<style scoped>\n",
       "    .dataframe tbody tr th:only-of-type {\n",
       "        vertical-align: middle;\n",
       "    }\n",
       "\n",
       "    .dataframe tbody tr th {\n",
       "        vertical-align: top;\n",
       "    }\n",
       "\n",
       "    .dataframe thead th {\n",
       "        text-align: right;\n",
       "    }\n",
       "</style>\n",
       "<table border=\"1\" class=\"dataframe\">\n",
       "  <thead>\n",
       "    <tr style=\"text-align: right;\">\n",
       "      <th>CONNECTION_SPEED</th>\n",
       "      <th>trimestre</th>\n",
       "      <th>USER_ID</th>\n",
       "      <th>speed_0</th>\n",
       "      <th>speed_1</th>\n",
       "      <th>speed_2</th>\n",
       "      <th>speed_3</th>\n",
       "    </tr>\n",
       "  </thead>\n",
       "  <tbody>\n",
       "    <tr>\n",
       "      <th>0</th>\n",
       "      <td>4</td>\n",
       "      <td>0</td>\n",
       "      <td>2</td>\n",
       "      <td>49</td>\n",
       "      <td>0</td>\n",
       "      <td>61</td>\n",
       "    </tr>\n",
       "    <tr>\n",
       "      <th>1</th>\n",
       "      <td>4</td>\n",
       "      <td>1</td>\n",
       "      <td>38</td>\n",
       "      <td>15</td>\n",
       "      <td>6</td>\n",
       "      <td>0</td>\n",
       "    </tr>\n",
       "    <tr>\n",
       "      <th>2</th>\n",
       "      <td>4</td>\n",
       "      <td>2</td>\n",
       "      <td>0</td>\n",
       "      <td>46</td>\n",
       "      <td>12</td>\n",
       "      <td>16</td>\n",
       "    </tr>\n",
       "    <tr>\n",
       "      <th>3</th>\n",
       "      <td>4</td>\n",
       "      <td>3</td>\n",
       "      <td>0</td>\n",
       "      <td>55</td>\n",
       "      <td>2</td>\n",
       "      <td>0</td>\n",
       "    </tr>\n",
       "    <tr>\n",
       "      <th>4</th>\n",
       "      <td>4</td>\n",
       "      <td>4</td>\n",
       "      <td>0</td>\n",
       "      <td>40</td>\n",
       "      <td>8</td>\n",
       "      <td>0</td>\n",
       "    </tr>\n",
       "  </tbody>\n",
       "</table>\n",
       "</div>"
      ],
      "text/plain": [
       "CONNECTION_SPEED  trimestre  USER_ID  speed_0  speed_1  speed_2  speed_3\n",
       "0                         4        0        2       49        0       61\n",
       "1                         4        1       38       15        6        0\n",
       "2                         4        2        0       46       12       16\n",
       "3                         4        3        0       55        2        0\n",
       "4                         4        4        0       40        8        0"
      ]
     },
     "execution_count": 16,
     "metadata": {},
     "output_type": "execute_result"
    }
   ],
   "source": [
    "save.head()"
   ]
  },
  {
   "cell_type": "code",
   "execution_count": 15,
   "id": "4a44facd-e3c9-490c-bb11-8831f765a168",
   "metadata": {},
   "outputs": [],
   "source": [
    "save.to_csv('speed_trimestral.csv', index=False)"
   ]
  },
  {
   "cell_type": "code",
   "execution_count": null,
   "id": "1c5f050e-48e0-472c-8893-5fd4d8854f32",
   "metadata": {},
   "outputs": [],
   "source": []
  },
  {
   "cell_type": "code",
   "execution_count": null,
   "id": "4a313a5b-9eb4-4c4a-abf7-7a33eafe1467",
   "metadata": {},
   "outputs": [],
   "source": []
  },
  {
   "cell_type": "code",
   "execution_count": null,
   "id": "e50aa3ed-5450-48f2-9101-bcce6ca35608",
   "metadata": {},
   "outputs": [],
   "source": []
  },
  {
   "cell_type": "code",
   "execution_count": null,
   "id": "9c1c17ba-7919-4ae1-9ae4-cea29bfe61e4",
   "metadata": {},
   "outputs": [],
   "source": []
  },
  {
   "cell_type": "code",
   "execution_count": 17,
   "id": "3db92c4c-e412-4eec-9bd3-8358431dd61b",
   "metadata": {},
   "outputs": [],
   "source": [
    "one_hot_1 = 'IS_MOBILE_DEVICE'"
   ]
  },
  {
   "cell_type": "code",
   "execution_count": 18,
   "id": "777a8837-c7eb-448e-b641-47f76ce3c3f1",
   "metadata": {},
   "outputs": [
    {
     "name": "stdout",
     "output_type": "stream",
     "text": [
      "(11676, 3)\n"
     ]
    },
    {
     "data": {
      "text/html": [
       "<div>\n",
       "<style scoped>\n",
       "    .dataframe tbody tr th:only-of-type {\n",
       "        vertical-align: middle;\n",
       "    }\n",
       "\n",
       "    .dataframe tbody tr th {\n",
       "        vertical-align: top;\n",
       "    }\n",
       "\n",
       "    .dataframe thead th {\n",
       "        text-align: right;\n",
       "    }\n",
       "</style>\n",
       "<table border=\"1\" class=\"dataframe\">\n",
       "  <thead>\n",
       "    <tr style=\"text-align: right;\">\n",
       "      <th>IS_MOBILE_DEVICE</th>\n",
       "      <th>USER_ID</th>\n",
       "      <th>device_0</th>\n",
       "      <th>device_1</th>\n",
       "    </tr>\n",
       "  </thead>\n",
       "  <tbody>\n",
       "    <tr>\n",
       "      <th>0</th>\n",
       "      <td>0</td>\n",
       "      <td>0</td>\n",
       "      <td>603</td>\n",
       "    </tr>\n",
       "    <tr>\n",
       "      <th>1</th>\n",
       "      <td>1</td>\n",
       "      <td>23</td>\n",
       "      <td>201</td>\n",
       "    </tr>\n",
       "    <tr>\n",
       "      <th>2</th>\n",
       "      <td>2</td>\n",
       "      <td>108</td>\n",
       "      <td>168</td>\n",
       "    </tr>\n",
       "    <tr>\n",
       "      <th>3</th>\n",
       "      <td>3</td>\n",
       "      <td>5</td>\n",
       "      <td>299</td>\n",
       "    </tr>\n",
       "    <tr>\n",
       "      <th>4</th>\n",
       "      <td>4</td>\n",
       "      <td>341</td>\n",
       "      <td>8</td>\n",
       "    </tr>\n",
       "  </tbody>\n",
       "</table>\n",
       "</div>"
      ],
      "text/plain": [
       "IS_MOBILE_DEVICE  USER_ID  device_0  device_1\n",
       "0                       0         0       603\n",
       "1                       1        23       201\n",
       "2                       2       108       168\n",
       "3                       3         5       299\n",
       "4                       4       341         8"
      ]
     },
     "execution_count": 18,
     "metadata": {},
     "output_type": "execute_result"
    }
   ],
   "source": [
    "device[one_hot_1] = device[one_hot_1].apply(lambda _: 'device_' + str(_))\n",
    "\n",
    "cruce = pd.crosstab(\n",
    "    index=device[col_user], columns=device[one_hot_1]\n",
    ").reset_index()\n",
    "gc.collect()\n",
    "\n",
    "print(cruce.shape)\n",
    "gc.collect()\n",
    "cruce.head()"
   ]
  },
  {
   "cell_type": "code",
   "execution_count": 19,
   "id": "0bd46959-8399-421b-88b6-0241819a77b0",
   "metadata": {},
   "outputs": [
    {
     "data": {
      "text/plain": [
       "58.38"
      ]
     },
     "execution_count": 19,
     "metadata": {},
     "output_type": "execute_result"
    }
   ],
   "source": [
    "treshold"
   ]
  },
  {
   "cell_type": "code",
   "execution_count": 20,
   "id": "68b0d528-9d87-495c-9ef8-115ec746cef2",
   "metadata": {},
   "outputs": [],
   "source": [
    "cols_del = []\n",
    "for col in list(cruce.columns)[1:]:\n",
    "    \n",
    "    columna = cruce[col]\n",
    "    size = len(columna[columna > 0])\n",
    "    \n",
    "    if size < treshold:\n",
    "        cols_del.append(col) "
   ]
  },
  {
   "cell_type": "code",
   "execution_count": 21,
   "id": "21e25c3e-11ae-4a47-916d-0d32478eb724",
   "metadata": {},
   "outputs": [
    {
     "data": {
      "text/plain": [
       "3"
      ]
     },
     "execution_count": 21,
     "metadata": {},
     "output_type": "execute_result"
    }
   ],
   "source": [
    "cols_select = list(cruce.columns)\n",
    "del cruce\n",
    "gc.collect()\n",
    "len(cols_select)"
   ]
  },
  {
   "cell_type": "code",
   "execution_count": 22,
   "id": "7148ff4f-dfd8-4159-9e33-32be2d89f588",
   "metadata": {},
   "outputs": [
    {
     "data": {
      "text/plain": [
       "['USER_ID', 'device_0', 'device_1']"
      ]
     },
     "execution_count": 22,
     "metadata": {},
     "output_type": "execute_result"
    }
   ],
   "source": [
    "cols_select"
   ]
  },
  {
   "cell_type": "code",
   "execution_count": 23,
   "id": "153ed959-cf18-4b76-9e79-c8f5acb1109e",
   "metadata": {},
   "outputs": [
    {
     "name": "stdout",
     "output_type": "stream",
     "text": [
      "//////////////////////////////////////////////////  trimestre:  4\n",
      "cols_del:  0\n",
      "cols_autocompletar:  0\n",
      "//////////////////////////////////////////////////  trimestre:  3\n",
      "cols_del:  0\n",
      "cols_autocompletar:  0\n",
      "//////////////////////////////////////////////////  trimestre:  2\n",
      "cols_del:  0\n",
      "cols_autocompletar:  0\n",
      "//////////////////////////////////////////////////  trimestre:  1\n",
      "cols_del:  0\n",
      "cols_autocompletar:  0\n"
     ]
    }
   ],
   "source": [
    "trimestral = []\n",
    "\n",
    "for trimestre in device['trimestre'].unique():\n",
    "    print(\"/\"*50, \" trimestre: \", trimestre)\n",
    "    cruce = pd.crosstab(\n",
    "        device[device['trimestre'] == trimestre][col_user], \n",
    "        device[device['trimestre'] == trimestre][one_hot_1]\n",
    "    ).reset_index()\n",
    "    \n",
    "    cols_cruce = list(cruce.columns)\n",
    "    cols_del = set(cols_cruce) - set(cols_select)\n",
    "    print(\"cols_del: \", len(cols_del))\n",
    "    \n",
    "    cols_autocompletar = set(cols_select) - set(cols_cruce)\n",
    "    print(\"cols_autocompletar: \", len(cols_autocompletar))\n",
    "    for col in cols_autocompletar:\n",
    "        cruce[col] = 0\n",
    "    \n",
    "    cruce['trimestre'] = trimestre\n",
    "    \n",
    "    trimestral.append(cruce[['trimestre'] + cols_select])\n",
    "    del cols_cruce\n",
    "    del cruce\n",
    "    \n",
    "    gc.collect()"
   ]
  },
  {
   "cell_type": "code",
   "execution_count": 24,
   "id": "7db46492-fe99-4e3b-a0d4-2727483a0f3f",
   "metadata": {},
   "outputs": [
    {
     "data": {
      "text/plain": [
       "(44893, 4)"
      ]
     },
     "execution_count": 24,
     "metadata": {},
     "output_type": "execute_result"
    }
   ],
   "source": [
    "save = pd.concat(\n",
    "    trimestral,\n",
    "    ignore_index=True,\n",
    "    axis=0\n",
    ")\n",
    "\n",
    "save.shape"
   ]
  },
  {
   "cell_type": "code",
   "execution_count": 25,
   "id": "7d44e3cf-d4bc-4019-8b04-a17baebbd0b6",
   "metadata": {},
   "outputs": [
    {
     "data": {
      "text/html": [
       "<div>\n",
       "<style scoped>\n",
       "    .dataframe tbody tr th:only-of-type {\n",
       "        vertical-align: middle;\n",
       "    }\n",
       "\n",
       "    .dataframe tbody tr th {\n",
       "        vertical-align: top;\n",
       "    }\n",
       "\n",
       "    .dataframe thead th {\n",
       "        text-align: right;\n",
       "    }\n",
       "</style>\n",
       "<table border=\"1\" class=\"dataframe\">\n",
       "  <thead>\n",
       "    <tr style=\"text-align: right;\">\n",
       "      <th>IS_MOBILE_DEVICE</th>\n",
       "      <th>trimestre</th>\n",
       "      <th>USER_ID</th>\n",
       "      <th>device_0</th>\n",
       "      <th>device_1</th>\n",
       "    </tr>\n",
       "  </thead>\n",
       "  <tbody>\n",
       "    <tr>\n",
       "      <th>0</th>\n",
       "      <td>4</td>\n",
       "      <td>0</td>\n",
       "      <td>0</td>\n",
       "      <td>112</td>\n",
       "    </tr>\n",
       "    <tr>\n",
       "      <th>1</th>\n",
       "      <td>4</td>\n",
       "      <td>1</td>\n",
       "      <td>9</td>\n",
       "      <td>50</td>\n",
       "    </tr>\n",
       "    <tr>\n",
       "      <th>2</th>\n",
       "      <td>4</td>\n",
       "      <td>2</td>\n",
       "      <td>19</td>\n",
       "      <td>55</td>\n",
       "    </tr>\n",
       "    <tr>\n",
       "      <th>3</th>\n",
       "      <td>4</td>\n",
       "      <td>3</td>\n",
       "      <td>5</td>\n",
       "      <td>52</td>\n",
       "    </tr>\n",
       "    <tr>\n",
       "      <th>4</th>\n",
       "      <td>4</td>\n",
       "      <td>4</td>\n",
       "      <td>46</td>\n",
       "      <td>2</td>\n",
       "    </tr>\n",
       "  </tbody>\n",
       "</table>\n",
       "</div>"
      ],
      "text/plain": [
       "IS_MOBILE_DEVICE  trimestre  USER_ID  device_0  device_1\n",
       "0                         4        0         0       112\n",
       "1                         4        1         9        50\n",
       "2                         4        2        19        55\n",
       "3                         4        3         5        52\n",
       "4                         4        4        46         2"
      ]
     },
     "execution_count": 25,
     "metadata": {},
     "output_type": "execute_result"
    }
   ],
   "source": [
    "save.head()"
   ]
  },
  {
   "cell_type": "code",
   "execution_count": 26,
   "id": "a5cb97ae-16c7-4ac5-8d3c-0e32fe473d88",
   "metadata": {},
   "outputs": [],
   "source": [
    "save.to_csv('device_trimestral.csv', index=False)"
   ]
  },
  {
   "cell_type": "code",
   "execution_count": null,
   "id": "6f51d0d3-0a4e-4127-9335-1a1d67750126",
   "metadata": {},
   "outputs": [],
   "source": []
  },
  {
   "cell_type": "code",
   "execution_count": null,
   "id": "882e98b8-e17f-451f-be3e-6ec94a1a248a",
   "metadata": {},
   "outputs": [],
   "source": []
  },
  {
   "cell_type": "code",
   "execution_count": null,
   "id": "3786d716-5515-4c5d-a02b-2245ae4c30c6",
   "metadata": {},
   "outputs": [],
   "source": []
  },
  {
   "cell_type": "code",
   "execution_count": null,
   "id": "84e2bcd4-f36e-4c5a-883e-6716dcc07c35",
   "metadata": {},
   "outputs": [],
   "source": []
  }
 ],
 "metadata": {
  "kernelspec": {
   "display_name": "Python 3",
   "language": "python",
   "name": "python3"
  },
  "language_info": {
   "codemirror_mode": {
    "name": "ipython",
    "version": 3
   },
   "file_extension": ".py",
   "mimetype": "text/x-python",
   "name": "python",
   "nbconvert_exporter": "python",
   "pygments_lexer": "ipython3",
   "version": "3.8.5"
  }
 },
 "nbformat": 4,
 "nbformat_minor": 5
}
