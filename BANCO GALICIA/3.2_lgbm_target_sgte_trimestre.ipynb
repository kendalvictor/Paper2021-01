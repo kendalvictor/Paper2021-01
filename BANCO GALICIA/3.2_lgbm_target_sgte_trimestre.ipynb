{
 "cells": [
  {
   "cell_type": "code",
   "execution_count": null,
   "id": "c2f1e6c7-0a62-49be-8a71-7d898f224d24",
   "metadata": {},
   "outputs": [],
   "source": [
    "# Nativos\n",
    "import random as rn\n",
    "import os\n",
    "import sys\n",
    "import gc\n",
    "import json\n",
    "\n",
    "#calculo\n",
    "import numpy as np\n",
    "import pandas as pd\n",
    "import scipy as sp\n",
    "\n",
    "#grafico\n",
    "import matplotlib.pyplot as plt\n",
    "import seaborn as sns\n",
    "from IPython.display import display\n",
    "%matplotlib inline\n",
    "sns.set(style=\"whitegrid\")\n",
    "\n",
    "#warning ignore future\n",
    "import warnings\n",
    "# warnings.simplefilter(action='ignore', category=FutureWarning)\n",
    "warnings.filterwarnings(\"ignore\")\n",
    "gc.collect()\n",
    "\n",
    "BASE_DIR = os.path.dirname(os.getcwd())\n",
    "if BASE_DIR not in sys.path: sys.path.append(BASE_DIR)\n",
    "\n",
    "from utils import *\n",
    "#from graphs import *\n",
    "\n",
    "SEED = 29082013\n",
    "os.environ['PYTHONHASHSEED']=str(SEED)\n",
    "np.random.seed(SEED)\n",
    "rn.seed(SEED)\n",
    "\n",
    "subfolder = \"data\"\n",
    "os.listdir(subfolder)"
   ]
  },
  {
   "cell_type": "code",
   "execution_count": null,
   "id": "81bf48bc-ddc8-472e-97f2-af9fe8c20389",
   "metadata": {},
   "outputs": [],
   "source": [
    "pageview = pd.read_csv('pageview_trimestral_percent.csv')\n",
    "print(pageview.shape)\n",
    "\n",
    "pageview.head()"
   ]
  },
  {
   "cell_type": "code",
   "execution_count": null,
   "id": "464cc7cf-2ed1-4aaa-b477-74069f5a936d",
   "metadata": {},
   "outputs": [],
   "source": [
    "pageview.dtypes"
   ]
  },
  {
   "cell_type": "code",
   "execution_count": null,
   "id": "7652dc04-8e09-4d8d-910a-5074f74fe2a3",
   "metadata": {},
   "outputs": [],
   "source": [
    "with open('convertions.json', 'r') as outfile_names:\n",
    "    dict_conversion = json.load(outfile_names)\n",
    "\n",
    "len(dict_conversion)"
   ]
  },
  {
   "cell_type": "code",
   "execution_count": null,
   "id": "2564a035-7a29-465b-9f1b-2643b1338874",
   "metadata": {},
   "outputs": [],
   "source": [
    "for trim in pageview['trimestre'].unique():\n",
    "    print(trim, len(dict_conversion[str(trim)]))"
   ]
  },
  {
   "cell_type": "code",
   "execution_count": null,
   "id": "ef62dc22-8b00-4576-8bbf-dae85afeb2e3",
   "metadata": {},
   "outputs": [],
   "source": [
    "for trim in pageview['trimestre'].unique():\n",
    "    print(\n",
    "        trim, \n",
    "        len(dict_conversion.get(str(trim + 1), []))\n",
    "    )"
   ]
  },
  {
   "cell_type": "code",
   "execution_count": null,
   "id": "cc206b63-2557-4700-b76b-73b628276b33",
   "metadata": {},
   "outputs": [],
   "source": [
    "pageview['hizo_conversion_este_mes'] = pageview[['trimestre', 'USER_ID']].apply(\n",
    "    lambda _: _[1] in dict_conversion.get(str(_[0]), []), axis=1\n",
    ").astype(int)\n",
    "\n",
    "pageview.head()"
   ]
  },
  {
   "cell_type": "code",
   "execution_count": null,
   "id": "91b27fed-7c7d-4375-b74d-7516886f619c",
   "metadata": {},
   "outputs": [],
   "source": [
    "pageview['convertion'] = pageview[['trimestre', 'USER_ID']].apply(\n",
    "    lambda _: _[1] in dict_conversion.get(str(_[0] + 1), []), axis=1\n",
    ").astype(int)\n",
    "\n",
    "pageview.head()"
   ]
  },
  {
   "cell_type": "code",
   "execution_count": null,
   "id": "827e7d16-598e-44e5-ae49-1caa9472e296",
   "metadata": {},
   "outputs": [],
   "source": [
    "pageview['hizo_conversion_trim_pasado'] = pageview[['trimestre', 'USER_ID']].apply(\n",
    "    lambda _: _[1] in dict_conversion.get(str(_[0] - 1), []), axis=1\n",
    ").astype(int)\n",
    "\n",
    "pageview.head()"
   ]
  },
  {
   "cell_type": "code",
   "execution_count": null,
   "id": "38f23292-32bd-4a20-948b-7b3d3c241d62",
   "metadata": {},
   "outputs": [],
   "source": [
    "pageview['convertion'] = pageview['convertion'].fillna(0)\n",
    "pd.crosstab(\n",
    "    pageview['convertion'], pageview['trimestre']\n",
    ")"
   ]
  },
  {
   "cell_type": "code",
   "execution_count": null,
   "id": "9300c901-9c6f-48e9-a5cc-44667d1674cc",
   "metadata": {},
   "outputs": [],
   "source": [
    "pageview['hizo_conversion_este_mes'] = pageview['hizo_conversion_este_mes'].fillna(0)\n",
    "pd.crosstab(\n",
    "    pageview['hizo_conversion_este_mes'], pageview['trimestre']\n",
    ")"
   ]
  },
  {
   "cell_type": "code",
   "execution_count": null,
   "id": "91dd0b86-a639-4137-9a1d-0bf672f11875",
   "metadata": {},
   "outputs": [],
   "source": [
    "pageview['hizo_conversion_trim_pasado'] = pageview['hizo_conversion_trim_pasado'].fillna(0)\n",
    "pd.crosstab(\n",
    "    pageview['hizo_conversion_trim_pasado'], pageview['trimestre']\n",
    ")"
   ]
  },
  {
   "cell_type": "code",
   "execution_count": null,
   "id": "c15ffe80-1bf2-4a5c-80c4-5f3bc128bcec",
   "metadata": {},
   "outputs": [],
   "source": [
    "pageview['2_conversiones_seguidas'] = pageview[['hizo_conversion_este_mes', 'hizo_conversion_trim_pasado']].apply(\n",
    "    lambda _: _[0] == 1 and _[1] == 1, axis=1\n",
    ").astype(int)\n",
    "\n",
    "pd.crosstab(\n",
    "    pageview['2_conversiones_seguidas']  , pageview['trimestre']\n",
    ")"
   ]
  },
  {
   "cell_type": "code",
   "execution_count": null,
   "id": "98ea264c-de6d-4c0a-b13e-50536b44407b",
   "metadata": {},
   "outputs": [],
   "source": [
    "pageview.dtypes.head(2)"
   ]
  },
  {
   "cell_type": "code",
   "execution_count": null,
   "id": "a8b37f7f-15d6-477a-915b-578770ecd19d",
   "metadata": {},
   "outputs": [],
   "source": []
  },
  {
   "cell_type": "code",
   "execution_count": null,
   "id": "7566641c-f037-44f6-a3d9-7269a8d68d34",
   "metadata": {},
   "outputs": [],
   "source": []
  },
  {
   "cell_type": "markdown",
   "id": "e624f109-a8bf-4257-8bbe-4e2dea5e51ed",
   "metadata": {},
   "source": [
    "### SPEED"
   ]
  },
  {
   "cell_type": "code",
   "execution_count": null,
   "id": "9d3aaeea-a427-4107-902e-2a839b884c71",
   "metadata": {},
   "outputs": [],
   "source": [
    "spped = pd.read_csv('speed_trimestral_percent.csv')\n",
    "print(spped.shape)\n",
    "\n",
    "spped.head()"
   ]
  },
  {
   "cell_type": "code",
   "execution_count": null,
   "id": "c04ee76e-b336-425e-8785-528eb1452453",
   "metadata": {},
   "outputs": [],
   "source": [
    "print(pageview.shape)\n",
    "pageview = pageview.merge(spped, how='left', on=[\"trimestre\", \"USER_ID\"])\n",
    "print(pageview.shape)"
   ]
  },
  {
   "cell_type": "code",
   "execution_count": null,
   "id": "2c7d1e6b-5fef-4407-9887-c75c57192d3c",
   "metadata": {},
   "outputs": [],
   "source": [
    "del spped"
   ]
  },
  {
   "cell_type": "code",
   "execution_count": null,
   "id": "163dd4d8-c974-40c6-9c0d-95ebfc92d608",
   "metadata": {},
   "outputs": [],
   "source": []
  },
  {
   "cell_type": "markdown",
   "id": "8f2b53a1-1031-437b-808a-8d04c5db9d80",
   "metadata": {},
   "source": [
    "### DEVICE"
   ]
  },
  {
   "cell_type": "code",
   "execution_count": null,
   "id": "ea261e19-380b-4f6e-aa47-5cb2ddac697f",
   "metadata": {},
   "outputs": [],
   "source": [
    "device = pd.read_csv('device_trimestral_percent.csv')\n",
    "print(device.shape)\n",
    "\n",
    "device.head()"
   ]
  },
  {
   "cell_type": "code",
   "execution_count": null,
   "id": "40624fe0-de1e-43ac-b9ea-19ffd7aee4f9",
   "metadata": {},
   "outputs": [],
   "source": [
    "print(pageview.shape)\n",
    "pageview = pageview.merge(device, how='left', on=[\"trimestre\", \"USER_ID\"])\n",
    "print(pageview.shape)"
   ]
  },
  {
   "cell_type": "code",
   "execution_count": null,
   "id": "96b5210a-f1dc-4ea3-a1ee-53294eef196b",
   "metadata": {},
   "outputs": [],
   "source": [
    "del device"
   ]
  },
  {
   "cell_type": "code",
   "execution_count": null,
   "id": "e0bb630f-8df6-474d-987e-43d8212fb2c4",
   "metadata": {},
   "outputs": [],
   "source": []
  },
  {
   "cell_type": "markdown",
   "id": "3f6ebb64-3d70-4859-ad2c-14f628004785",
   "metadata": {},
   "source": [
    "### SITE_ID"
   ]
  },
  {
   "cell_type": "code",
   "execution_count": null,
   "id": "3e3153e8-8a25-4271-b280-b9beafa0253b",
   "metadata": {},
   "outputs": [],
   "source": [
    "site_id = pd.read_csv('site_id_trimestral_percent.csv')\n",
    "print(site_id.shape)\n",
    "\n",
    "site_id.head()"
   ]
  },
  {
   "cell_type": "code",
   "execution_count": null,
   "id": "142c4d96-6769-4f6c-a19c-45214b1e9dec",
   "metadata": {},
   "outputs": [],
   "source": [
    "print(pageview.shape)\n",
    "pageview = pageview.merge(site_id, how='left', on=[\"trimestre\", \"USER_ID\"])\n",
    "print(pageview.shape)"
   ]
  },
  {
   "cell_type": "code",
   "execution_count": null,
   "id": "4997b532-719a-4f57-8ac9-d173cd336ed1",
   "metadata": {},
   "outputs": [],
   "source": [
    "del site_id"
   ]
  },
  {
   "cell_type": "code",
   "execution_count": null,
   "id": "44873790-0b0d-4a3e-b52b-ca2f52ef2646",
   "metadata": {},
   "outputs": [],
   "source": []
  },
  {
   "cell_type": "markdown",
   "id": "8de519e9-b409-41fa-8fc5-f0bf3851ca40",
   "metadata": {},
   "source": [
    "### SCHEDULE"
   ]
  },
  {
   "cell_type": "code",
   "execution_count": null,
   "id": "86820435-7590-4644-856a-e4f61987d1bc",
   "metadata": {},
   "outputs": [],
   "source": [
    "schedule = pd.read_csv('schedule_trimestral_percent.csv')\n",
    "print(schedule.shape)\n",
    "\n",
    "schedule.head()"
   ]
  },
  {
   "cell_type": "code",
   "execution_count": null,
   "id": "71a077e9-dfdc-4ecf-a1eb-7319c2e24f22",
   "metadata": {},
   "outputs": [],
   "source": [
    "print(pageview.shape)\n",
    "pageview = pageview.merge(schedule, how='left', on=[\"trimestre\", \"USER_ID\"])\n",
    "print(pageview.shape)"
   ]
  },
  {
   "cell_type": "code",
   "execution_count": null,
   "id": "bccde0a2-ad32-47c3-9778-89ec8b98fed1",
   "metadata": {},
   "outputs": [],
   "source": [
    "del schedule"
   ]
  },
  {
   "cell_type": "code",
   "execution_count": null,
   "id": "a04d36ca-1471-44ac-8904-68c53aa738a7",
   "metadata": {},
   "outputs": [],
   "source": []
  },
  {
   "cell_type": "markdown",
   "id": "8afa202f-98fd-4291-95dd-1638df33b57c",
   "metadata": {},
   "source": [
    "### RANGO DÍAS"
   ]
  },
  {
   "cell_type": "code",
   "execution_count": null,
   "id": "9b0c8766-3375-4256-b0bb-566eb97186ac",
   "metadata": {},
   "outputs": [],
   "source": [
    "dias = pd.read_csv('rango_dias_trimestral_percent.csv')\n",
    "print(dias.shape)\n",
    "\n",
    "dias.head()"
   ]
  },
  {
   "cell_type": "code",
   "execution_count": null,
   "id": "917aad08-12a2-4f2f-92d0-52fac7f1ae7d",
   "metadata": {},
   "outputs": [],
   "source": [
    "print(pageview.shape)\n",
    "pageview = pageview.merge(dias, how='left', on=[\"trimestre\", \"USER_ID\"])\n",
    "print(pageview.shape)"
   ]
  },
  {
   "cell_type": "code",
   "execution_count": null,
   "id": "68331ccc-e5c1-4aa0-89af-b77917932767",
   "metadata": {},
   "outputs": [],
   "source": [
    "del dias"
   ]
  },
  {
   "cell_type": "code",
   "execution_count": null,
   "id": "450d2e49-ac0c-47e5-9822-26519be76b5f",
   "metadata": {},
   "outputs": [],
   "source": []
  },
  {
   "cell_type": "markdown",
   "id": "09917162-709e-4a89-9114-79825e561dde",
   "metadata": {},
   "source": [
    "### CATEGORIA DE CONTENIDO"
   ]
  },
  {
   "cell_type": "code",
   "execution_count": null,
   "id": "4014fee0-a04f-4234-aeb7-5981bcbe976d",
   "metadata": {},
   "outputs": [],
   "source": [
    "category = pd.read_csv('content_category_trimestral_percent.csv')\n",
    "print(category.shape)\n",
    "\n",
    "category.head()"
   ]
  },
  {
   "cell_type": "code",
   "execution_count": null,
   "id": "ec63e3ce-9b32-446b-bf5a-5084340ccdf8",
   "metadata": {},
   "outputs": [],
   "source": [
    "print(pageview.shape)\n",
    "pageview = pageview.merge(category, how='left', on=[\"trimestre\", \"USER_ID\"])\n",
    "print(pageview.shape)"
   ]
  },
  {
   "cell_type": "code",
   "execution_count": null,
   "id": "4998f2e8-7296-476a-a9be-2d1612e5c7ae",
   "metadata": {},
   "outputs": [],
   "source": [
    "del category"
   ]
  },
  {
   "cell_type": "code",
   "execution_count": null,
   "id": "43aa51d9-5019-40a7-9381-c74de9119a9f",
   "metadata": {},
   "outputs": [],
   "source": []
  },
  {
   "cell_type": "markdown",
   "id": "9c5fe829-e1f1-48b2-9aab-2ea81dda91a8",
   "metadata": {},
   "source": [
    "### BUSQUEDA"
   ]
  },
  {
   "cell_type": "code",
   "execution_count": null,
   "id": "6081d3a7-8498-4641-b32b-e585f5c3255c",
   "metadata": {},
   "outputs": [],
   "source": [
    "search = pd.read_csv('search_trimestral_percent.csv')\n",
    "print(search.shape)\n",
    "\n",
    "search.head()"
   ]
  },
  {
   "cell_type": "code",
   "execution_count": null,
   "id": "bf3ab987-1a63-4abb-8941-cb47886b53e5",
   "metadata": {},
   "outputs": [],
   "source": [
    "print(pageview.shape)\n",
    "pageview = pageview.merge(search, how='left', on=[\"trimestre\", \"USER_ID\"])\n",
    "print(pageview.shape)"
   ]
  },
  {
   "cell_type": "code",
   "execution_count": null,
   "id": "012f68de-4b19-46d6-9a3b-124e55b0ae39",
   "metadata": {},
   "outputs": [],
   "source": [
    "del search"
   ]
  },
  {
   "cell_type": "code",
   "execution_count": null,
   "id": "f61ec9d0-29f1-4f82-bc8e-92302efd7830",
   "metadata": {},
   "outputs": [],
   "source": []
  },
  {
   "cell_type": "markdown",
   "id": "c9e34de3-0c0d-4b7b-96aa-fbbcfdb19186",
   "metadata": {},
   "source": [
    "### PAGINA SOLA"
   ]
  },
  {
   "cell_type": "code",
   "execution_count": null,
   "id": "5fe13252-34f1-4335-a54d-4baf962fdc1c",
   "metadata": {},
   "outputs": [],
   "source": [
    "simple = pd.read_csv('pageview_simple_trimestral_percent.csv')\n",
    "print(simple.shape)\n",
    "\n",
    "simple.head()"
   ]
  },
  {
   "cell_type": "code",
   "execution_count": null,
   "id": "9b740105-fdfa-41d5-8afb-4efbdd74614b",
   "metadata": {},
   "outputs": [],
   "source": [
    "print(pageview.shape)\n",
    "pageview = pageview.merge(simple, how='left', on=[\"trimestre\", \"USER_ID\"])\n",
    "print(pageview.shape)"
   ]
  },
  {
   "cell_type": "code",
   "execution_count": null,
   "id": "7bb82f2d-f396-4cfe-842e-90c68cb46c95",
   "metadata": {},
   "outputs": [],
   "source": [
    "del simple"
   ]
  },
  {
   "cell_type": "code",
   "execution_count": null,
   "id": "bf44dd73-ca07-4b0d-a4b7-fc30b9f0a1c9",
   "metadata": {},
   "outputs": [],
   "source": []
  },
  {
   "cell_type": "code",
   "execution_count": null,
   "id": "fb14d90c-1c18-45c7-a7f9-930db345b6eb",
   "metadata": {},
   "outputs": [],
   "source": [
    "nulos = pageview.isnull().sum()\n",
    "nulos[nulos > 0]"
   ]
  },
  {
   "cell_type": "code",
   "execution_count": null,
   "id": "3bdd942d-aac5-49f3-9185-4e2cb1158b18",
   "metadata": {},
   "outputs": [],
   "source": [
    "pageview = pageview.fillna(0)"
   ]
  },
  {
   "cell_type": "code",
   "execution_count": null,
   "id": "8fb10e03-9a8f-43ff-9d39-a493552d12fd",
   "metadata": {},
   "outputs": [],
   "source": [
    "pageview.head()"
   ]
  },
  {
   "cell_type": "code",
   "execution_count": null,
   "id": "6e357e1b-7b48-437d-9b64-4b3dc3b49533",
   "metadata": {},
   "outputs": [],
   "source": []
  },
  {
   "cell_type": "code",
   "execution_count": null,
   "id": "190bab8c-73ed-4201-9ca0-3803d7ee6041",
   "metadata": {},
   "outputs": [],
   "source": [
    "historico_conversiones = pageview[['trimestre', 'USER_ID', '2_conversiones_seguidas', 'hizo_conversion_este_mes', 'hizo_conversion_trim_pasado', 'convertion']]\n",
    "historico_conversiones.head()"
   ]
  },
  {
   "cell_type": "code",
   "execution_count": null,
   "id": "b60a36cc-b897-4661-8767-a0aba3cab7bc",
   "metadata": {},
   "outputs": [],
   "source": [
    "historico_conversiones.shape"
   ]
  },
  {
   "cell_type": "code",
   "execution_count": null,
   "id": "257be691-8f1d-4359-a36f-9d4e0e4e0931",
   "metadata": {},
   "outputs": [],
   "source": [
    "del pageview['2_conversiones_seguidas']\n",
    "del pageview['hizo_conversion_este_mes']\n",
    "del pageview['hizo_conversion_trim_pasado']\n",
    "del pageview['convertion']"
   ]
  },
  {
   "cell_type": "code",
   "execution_count": null,
   "id": "2180a8c4-7dd5-4f18-ab1f-5912c7d127de",
   "metadata": {},
   "outputs": [],
   "source": [
    "pageview['trimestre'].unique()"
   ]
  },
  {
   "cell_type": "code",
   "execution_count": null,
   "id": "febd345b-8f4a-42c0-8f80-63496caa119c",
   "metadata": {},
   "outputs": [],
   "source": [
    "pageview['trimestre'] = pageview['trimestre'].astype(int)"
   ]
  },
  {
   "cell_type": "code",
   "execution_count": null,
   "id": "a6e817cc-1aff-419d-b5d9-1b3efe8a259e",
   "metadata": {},
   "outputs": [],
   "source": [
    "data = []\n",
    "\n",
    "for trim in [2, 3, 4]:\n",
    "    print(trim, trim-1)\n",
    "    \n",
    "    grupo = pageview[pageview['trimestre'].isin([trim, trim-1])].groupby(by=['USER_ID']).mean().reset_index()\n",
    "    grupo['trimestre'] = trim\n",
    "    data.append(grupo)\n",
    "    del grupo"
   ]
  },
  {
   "cell_type": "code",
   "execution_count": null,
   "id": "d0565d40-a26c-4ad0-82f3-0c38a840ddb0",
   "metadata": {},
   "outputs": [],
   "source": [
    "del pageview"
   ]
  },
  {
   "cell_type": "code",
   "execution_count": null,
   "id": "216a6463-09e2-4c62-a6f1-09b76a448f44",
   "metadata": {},
   "outputs": [],
   "source": [
    "pageview = pd.concat(\n",
    "    data, \n",
    "    ignore_index=True,\n",
    "    axis=0\n",
    ")\n",
    "pageview.head()"
   ]
  },
  {
   "cell_type": "code",
   "execution_count": null,
   "id": "d4087957-6a9d-4170-9424-a9899f456447",
   "metadata": {},
   "outputs": [],
   "source": [
    "pageview.shape"
   ]
  },
  {
   "cell_type": "code",
   "execution_count": null,
   "id": "24f760a1-8573-4a92-9f5f-b62bb6f6165b",
   "metadata": {},
   "outputs": [],
   "source": [
    "pageview.dtypes.head(3)"
   ]
  },
  {
   "cell_type": "code",
   "execution_count": null,
   "id": "a7908ead-e832-426b-ac55-548d042ac937",
   "metadata": {},
   "outputs": [],
   "source": [
    "historico_conversiones.dtypes.head(3)"
   ]
  },
  {
   "cell_type": "code",
   "execution_count": null,
   "id": "de841105-7c94-45eb-9a25-e02dee7b9f9f",
   "metadata": {},
   "outputs": [],
   "source": [
    "historico_conversiones.groupby(by=['trimestre']).size()"
   ]
  },
  {
   "cell_type": "code",
   "execution_count": null,
   "id": "87522a11-eb5f-40aa-9e03-78a090657c2d",
   "metadata": {},
   "outputs": [],
   "source": [
    "for trim in historico_conversiones['trimestre'].unique():\n",
    "    print(trim, historico_conversiones[historico_conversiones['trimestre'] == trim]['USER_ID'].unique().shape)"
   ]
  },
  {
   "cell_type": "code",
   "execution_count": null,
   "id": "792cf49a-22cc-4203-8dcc-839d5c3cd6fc",
   "metadata": {},
   "outputs": [],
   "source": [
    "pageview.groupby(by=['trimestre']).size()"
   ]
  },
  {
   "cell_type": "code",
   "execution_count": null,
   "id": "72a20cd6-a62a-4e29-8ced-fc6f6b081cb5",
   "metadata": {},
   "outputs": [],
   "source": [
    "for trim in pageview['trimestre'].unique():\n",
    "    print(trim, \n",
    "          pageview[pageview['trimestre'] == trim]['USER_ID'].unique().shape,\n",
    "          len(set(pageview[pageview['trimestre'] == trim]['USER_ID'].unique()) & set(historico_conversiones[historico_conversiones['trimestre'] == trim]['USER_ID'].unique()))\n",
    "         )"
   ]
  },
  {
   "cell_type": "code",
   "execution_count": null,
   "id": "b6335de7-13e4-4772-835f-f8a251019858",
   "metadata": {},
   "outputs": [],
   "source": [
    "#11589 - 11429, 11489 - 11356, 11314 - 11203"
   ]
  },
  {
   "cell_type": "code",
   "execution_count": null,
   "id": "77c909bc-6464-47e8-bd35-0f5ac7e35154",
   "metadata": {},
   "outputs": [],
   "source": [
    "null = historico_conversiones.isnull().sum()\n",
    "null[null > 0]"
   ]
  },
  {
   "cell_type": "code",
   "execution_count": null,
   "id": "81fffebb-e596-4685-87c3-958c19765241",
   "metadata": {},
   "outputs": [],
   "source": [
    "historico_conversiones = historico_conversiones.fillna(0)"
   ]
  },
  {
   "cell_type": "code",
   "execution_count": null,
   "id": "023e745d-1a61-486b-ae1c-300c3ebf9a7d",
   "metadata": {},
   "outputs": [],
   "source": [
    "pageview = pageview.merge(\n",
    "    historico_conversiones, how='left', on=['USER_ID', 'trimestre'])\n",
    "pageview.head()"
   ]
  },
  {
   "cell_type": "code",
   "execution_count": null,
   "id": "d5e49496-9f9f-48f8-9b6d-0c9a8430bef6",
   "metadata": {},
   "outputs": [],
   "source": [
    "nulo = pageview.isnull().sum()\n",
    "nulo[nulo > 0]"
   ]
  },
  {
   "cell_type": "code",
   "execution_count": null,
   "id": "cf680064-6f30-4f51-af2b-b80131d0259f",
   "metadata": {},
   "outputs": [],
   "source": [
    "pageview = pageview.fillna(0)"
   ]
  },
  {
   "cell_type": "markdown",
   "id": "e29e15e8-43f4-4b94-9214-1ec83d20e6ab",
   "metadata": {},
   "source": [
    "# MODELAMIENTO"
   ]
  },
  {
   "cell_type": "code",
   "execution_count": null,
   "id": "bfb5a247-7d4f-4f54-8f37-ffa46a1ef9f1",
   "metadata": {},
   "outputs": [],
   "source": [
    "from sklearn.linear_model import LassoCV\n",
    "from sklearn.feature_selection import SelectFromModel\n",
    "from lightgbm import LGBMClassifier\n",
    "from sklearn import model_selection\n",
    "from sklearn.metrics import roc_auc_score\n",
    "from sklearn.model_selection import StratifiedShuffleSplit, StratifiedKFold, TimeSeriesSplit, RandomizedSearchCV\n",
    "from sklearn.model_selection import GridSearchCV\n",
    "from sklearn import model_selection\n",
    "from sklearn.metrics import roc_auc_score\n",
    "from sklearn.model_selection import StratifiedShuffleSplit, StratifiedKFold, TimeSeriesSplit\n",
    "from sklearn.model_selection import GridSearchCV\n",
    "from sklearn.model_selection import TimeSeriesSplit, cross_val_score, GridSearchCV\n",
    "from sklearn.linear_model import LogisticRegression\n",
    "from sklearn.discriminant_analysis import QuadraticDiscriminantAnalysis\n",
    "from sklearn.feature_selection import VarianceThreshold\n",
    "from sklearn.decomposition import PCA\n",
    "from sklearn.cluster import KMeans\n",
    "from sklearn.neighbors import KNeighborsClassifier\n",
    "\n",
    "time_split = TimeSeriesSplit(\n",
    "    n_splits=10\n",
    ")"
   ]
  },
  {
   "cell_type": "code",
   "execution_count": null,
   "id": "5b6ff631-fb57-41c9-b3ab-cbeded4a9264",
   "metadata": {},
   "outputs": [],
   "source": [
    "X_train = pageview[pageview['trimestre'].astype(str).isin(['2', '3'])].drop(['trimestre', 'USER_ID', 'convertion'], axis=1)\n",
    "X_test = pageview[pageview['trimestre'].astype(str).isin(['4'])].drop(['trimestre', 'USER_ID', 'convertion'], axis=1)\n",
    "users_test = pageview[pageview['trimestre'].astype(str).isin(['4'])]['USER_ID']\n",
    "users_train = pageview[pageview['trimestre'].astype(str).isin(['2', '3'])]['USER_ID']\n",
    "y_train = pageview[pageview['trimestre'].astype(str).isin(['2', '3'])]['convertion']"
   ]
  },
  {
   "cell_type": "code",
   "execution_count": null,
   "id": "0a92fa10-0f0b-4171-9f43-3eebbc1e9a04",
   "metadata": {},
   "outputs": [],
   "source": [
    "users_test.shape"
   ]
  },
  {
   "cell_type": "code",
   "execution_count": null,
   "id": "30f279d5-2aa2-40bd-b44f-9669cdbb605d",
   "metadata": {},
   "outputs": [],
   "source": [
    "X_train.shape"
   ]
  },
  {
   "cell_type": "code",
   "execution_count": null,
   "id": "2923d6cb-b921-4f20-8e16-5d7baded5370",
   "metadata": {},
   "outputs": [],
   "source": [
    "X_test.shape"
   ]
  },
  {
   "cell_type": "code",
   "execution_count": null,
   "id": "f1d8a272-945c-4f61-a385-4611e29a193b",
   "metadata": {},
   "outputs": [],
   "source": [
    "y_train.shape"
   ]
  },
  {
   "cell_type": "code",
   "execution_count": null,
   "id": "83676026-0837-460f-96d7-8219cba2fb20",
   "metadata": {},
   "outputs": [],
   "source": [
    "#del pageview\n",
    "gc.collect()"
   ]
  },
  {
   "cell_type": "code",
   "execution_count": null,
   "id": "c6925800-3823-4d96-9603-ee50cdfcb315",
   "metadata": {},
   "outputs": [],
   "source": [
    "from sklearn.model_selection import RepeatedStratifiedKFold\n",
    "\n",
    "repeat = RepeatedStratifiedKFold(\n",
    "    n_splits=4, n_repeats=2, random_state=SEED\n",
    ")"
   ]
  },
  {
   "cell_type": "code",
   "execution_count": null,
   "id": "5eeb400a-b1f0-4711-a82e-c046188177f1",
   "metadata": {},
   "outputs": [],
   "source": [
    "lasso_cv = LassoCV(\n",
    "    cv=repeat, \n",
    "    selection='cyclic',\n",
    "    random_state=SEED, \n",
    "    verbose=1,\n",
    "    normalize=False,\n",
    "    n_jobs=4\n",
    ")\n",
    "\n",
    "sfm = SelectFromModel(lasso_cv)\n",
    "sfm.fit(\n",
    "    X_train, y_train\n",
    ")"
   ]
  },
  {
   "cell_type": "code",
   "execution_count": null,
   "id": "7cc6f71a-67d2-42b4-819b-61bd45e31b4d",
   "metadata": {},
   "outputs": [],
   "source": [
    "def var_cols_relevants(sfm, X):\n",
    "    bool_select_var = list(sfm.get_support())\n",
    "    list_columns = list(X.columns)\n",
    "    return list({\n",
    "       list_columns[i]: bool_select_var[i] for i in range(len(list_columns)) if bool_select_var[i]\n",
    "    }.keys())"
   ]
  },
  {
   "cell_type": "code",
   "execution_count": null,
   "id": "87d650bc-ab62-4cec-b4e3-225d90a2f37c",
   "metadata": {},
   "outputs": [],
   "source": [
    "list_var_relevants_r = var_cols_relevants(sfm, X_train)\n",
    "print(len(list_var_relevants_r))"
   ]
  },
  {
   "cell_type": "code",
   "execution_count": null,
   "id": "8c6a56b4-8e57-4304-99e3-7f9087520b49",
   "metadata": {},
   "outputs": [],
   "source": [
    "X_train[list_var_relevants_r].head()"
   ]
  },
  {
   "cell_type": "code",
   "execution_count": null,
   "id": "1aa388b1-1e24-40b8-8621-b3321d26912e",
   "metadata": {},
   "outputs": [],
   "source": [
    "lasso_cv = LassoCV(\n",
    "    cv=time_split, \n",
    "    selection='cyclic',\n",
    "    random_state=SEED, \n",
    "    verbose=1,\n",
    "    normalize=False,\n",
    "    n_jobs=4\n",
    ")\n",
    "\n",
    "sfm = SelectFromModel(lasso_cv)\n",
    "sfm.fit(\n",
    "    X_train, y_train\n",
    ")"
   ]
  },
  {
   "cell_type": "code",
   "execution_count": null,
   "id": "8fe776ec-da35-46d9-8744-ab782ec1a4fd",
   "metadata": {},
   "outputs": [],
   "source": [
    "list_var_relevants = var_cols_relevants(sfm, X_train)\n",
    "print(len(list_var_relevants))"
   ]
  },
  {
   "cell_type": "code",
   "execution_count": null,
   "id": "c1f31ba0-3e65-49e3-aa98-a12caef786ea",
   "metadata": {},
   "outputs": [],
   "source": [
    "X_train[list_var_relevants].head()"
   ]
  },
  {
   "cell_type": "code",
   "execution_count": null,
   "id": "2cc01bff-2619-4512-9650-27293f21fd9b",
   "metadata": {},
   "outputs": [],
   "source": []
  },
  {
   "cell_type": "code",
   "execution_count": null,
   "id": "aea84d8a-3f0b-4397-8f2f-90055f13ed96",
   "metadata": {},
   "outputs": [],
   "source": [
    "print(list_var_relevants)"
   ]
  },
  {
   "cell_type": "code",
   "execution_count": null,
   "id": "669a4987-b230-411e-b7ab-808dfe6fb7e2",
   "metadata": {},
   "outputs": [],
   "source": [
    "print(list_var_relevants_r)"
   ]
  },
  {
   "cell_type": "code",
   "execution_count": null,
   "id": "e495e1fc-83a5-4dd6-b9b3-6d00392cc4b4",
   "metadata": {},
   "outputs": [],
   "source": []
  },
  {
   "cell_type": "code",
   "execution_count": null,
   "id": "bf4dad5a-5de1-4d9b-b4cb-6b03a00a8bca",
   "metadata": {},
   "outputs": [],
   "source": [
    "from sklearn.feature_selection import SelectKBest, chi2\n",
    "\n",
    "best = SelectKBest(chi2, k=300)\n",
    "best.fit(\n",
    "    X_train, y_train\n",
    ")"
   ]
  },
  {
   "cell_type": "code",
   "execution_count": null,
   "id": "2797ff15-0d9f-4286-9266-15ed01caaf79",
   "metadata": {},
   "outputs": [],
   "source": [
    "list_var_chi = var_cols_relevants(best, X_train)\n",
    "print(len(list_var_chi))"
   ]
  },
  {
   "cell_type": "code",
   "execution_count": null,
   "id": "3c82eda5-ccd3-4520-8969-bc3147347b1f",
   "metadata": {},
   "outputs": [],
   "source": [
    "X_train[list_var_chi].head()"
   ]
  },
  {
   "cell_type": "code",
   "execution_count": null,
   "id": "4d1d0cbe-1cc8-4390-8bad-596e2c3202ea",
   "metadata": {},
   "outputs": [],
   "source": [
    "print(list_var_chi)"
   ]
  },
  {
   "cell_type": "code",
   "execution_count": null,
   "id": "f9e23c21-270a-474b-b0d8-c3700ea58ec6",
   "metadata": {},
   "outputs": [],
   "source": [
    "from sklearn.feature_selection import f_classif\n",
    "\n",
    "anova = SelectKBest(f_classif, k=300)\n",
    "anova.fit(\n",
    "    X_train, y_train\n",
    ")"
   ]
  },
  {
   "cell_type": "code",
   "execution_count": null,
   "id": "d1d39acd-5d38-47a1-89da-8e2a046cc3b1",
   "metadata": {},
   "outputs": [],
   "source": [
    "list_var_anova = var_cols_relevants(anova, X_train)\n",
    "print(len(list_var_anova))"
   ]
  },
  {
   "cell_type": "code",
   "execution_count": null,
   "id": "f24ad5ed-d2c1-4612-b047-1bba916cb437",
   "metadata": {},
   "outputs": [],
   "source": [
    "X_train[list_var_anova].head()"
   ]
  },
  {
   "cell_type": "code",
   "execution_count": null,
   "id": "1f630846-821f-408d-a40a-7462fad4ec5d",
   "metadata": {},
   "outputs": [],
   "source": [
    "print(list_var_anova)"
   ]
  },
  {
   "cell_type": "code",
   "execution_count": null,
   "id": "7a2fadf2-1b0e-4b06-a86e-562f9ba2faa9",
   "metadata": {},
   "outputs": [],
   "source": []
  },
  {
   "cell_type": "code",
   "execution_count": null,
   "id": "d96bdee7-b29d-478f-94bb-aa46f2a08e2b",
   "metadata": {},
   "outputs": [],
   "source": []
  },
  {
   "cell_type": "code",
   "execution_count": null,
   "id": "fc8d5ef8-104a-42b7-8d63-b1bec109a602",
   "metadata": {},
   "outputs": [],
   "source": [
    "import lightgbm as lgb\n",
    "fit_params = {\n",
    "    \"eval_metric\" : 'auc', \n",
    "    'verbose': 2\n",
    "}\n",
    "\n",
    "lgbm_grid = {\n",
    "    'bagging_fraction': [0.65, 0.75, 0.85, 0.95],\n",
    "    'feature_fraction': [0.15, 0.25, 0.35, 0.45],\n",
    "    'n_estimators': [150, 450, 750],\n",
    "    'num_leaves': [33, 65],\n",
    "    'max_depth': [5, 3, 7],\n",
    "    'learning_rate': [0.025, 0.05, 0.1, 0.15],\n",
    "    'min_data_in_leaf': [100, 500],\n",
    "    'extra_trees': [True, False],\n",
    "    'deterministic': [True, False],\n",
    "    'tree_learner': ['serial'],\n",
    "    'boosting': ['gbdt'],\n",
    "    'lambda_l2': [0],\n",
    "    'lambda_l1': [0],\n",
    "    'is_unbalance': [True],\n",
    "    'min_gain_to_split': [1]\n",
    "}"
   ]
  },
  {
   "cell_type": "code",
   "execution_count": null,
   "id": "e12a95dc-fc04-4444-ba49-379f4b82315f",
   "metadata": {},
   "outputs": [],
   "source": [
    "def apply_lgbm(X_train_part, X_test_part, y_train, users, add='', cv=None):\n",
    "    model_lgbm = lgb.LGBMClassifier(\n",
    "        seed=SEED, \n",
    "        feature_fraction_seed=SEED, \n",
    "        drop_seed=SEED,\n",
    "        bagging_seed=SEED\n",
    "    )\n",
    "    grid = RandomizedSearchCV(\n",
    "        model_lgbm, lgbm_grid, cv=cv, \n",
    "        n_jobs=-1, \n",
    "        scoring='roc_auc', \n",
    "        verbose=1,\n",
    "        n_iter=100\n",
    "    )\n",
    "    grid.fit(X_train_part, y_train, **fit_params)\n",
    "    print(\"-> \", grid.best_score_)\n",
    "    \n",
    "    predict_test = grid.best_estimator_.predict_proba(X_test_part)[:,1]\n",
    "    predict_test = pd.DataFrame(\n",
    "        {'USER_ID':users, \n",
    "         'SCORE':predict_test} \n",
    "    )\n",
    "    display(predict_test.head())\n",
    "    print(predict_test[predict_test['SCORE'] < 0.01].shape)\n",
    "    print(predict_test[predict_test['SCORE'] > 0.5].shape)\n",
    "    print(predict_test[predict_test['SCORE'] > 0.99].shape)\n",
    "    \n",
    "    return grid, predict_test"
   ]
  },
  {
   "cell_type": "code",
   "execution_count": null,
   "id": "879eb04c-75b4-4147-b035-b80f608663d4",
   "metadata": {},
   "outputs": [],
   "source": [
    "X_train.shape, X_test.shape"
   ]
  },
  {
   "cell_type": "code",
   "execution_count": null,
   "id": "d79a8689-d821-44a8-ba19-0b4877cbac0d",
   "metadata": {},
   "outputs": [],
   "source": [
    "%%time\n",
    "\n",
    "grid_1, predict_1 = apply_lgbm(\n",
    "    X_train[list_var_relevants], \n",
    "    X_test[list_var_relevants], \n",
    "    y_train, \n",
    "    users_test, \n",
    "    add='lasso',\n",
    "    cv=time_split\n",
    ")\n",
    "gc.collect()"
   ]
  },
  {
   "cell_type": "code",
   "execution_count": null,
   "id": "500820e1-ffbe-4271-8871-c71351eb06fc",
   "metadata": {},
   "outputs": [],
   "source": [
    "%%time\n",
    "\n",
    "grid_2, predict_2 = apply_lgbm(\n",
    "    X_train[list_var_chi], \n",
    "    X_test[list_var_chi], \n",
    "    y_train, \n",
    "    users_test, \n",
    "    add='chi',\n",
    "    cv=time_split\n",
    ")\n",
    "gc.collect()"
   ]
  },
  {
   "cell_type": "code",
   "execution_count": null,
   "id": "1579aa46-f4f4-4233-b409-cc5efa6e4a68",
   "metadata": {},
   "outputs": [],
   "source": [
    "%%time\n",
    "\n",
    "grid_3, predict_3 = apply_lgbm(\n",
    "    X_train[list_var_anova], \n",
    "    X_test[list_var_anova], \n",
    "    y_train, \n",
    "    users_test, \n",
    "    add='anova',\n",
    "    cv=time_split\n",
    ")\n",
    "gc.collect()"
   ]
  },
  {
   "cell_type": "code",
   "execution_count": null,
   "id": "29ed5cf7-0df3-4ba3-9a3b-6ea8a9a91b50",
   "metadata": {},
   "outputs": [],
   "source": [
    "#grid_3.best_estimator_.feature_importances_"
   ]
  },
  {
   "cell_type": "code",
   "execution_count": null,
   "id": "917a3c30-59f4-4ebc-9513-d1b1f93ad00b",
   "metadata": {},
   "outputs": [],
   "source": [
    "#print(dir(grid_3.best_estimator_))"
   ]
  },
  {
   "cell_type": "markdown",
   "id": "149c3272-cbe1-4bcf-8985-8f802dcf3a8a",
   "metadata": {},
   "source": [
    "### UP"
   ]
  },
  {
   "cell_type": "code",
   "execution_count": null,
   "id": "6853f9a2-f064-4521-8167-0d085f2d002a",
   "metadata": {},
   "outputs": [],
   "source": [
    "def _save(predict): \n",
    "    sub = pd.read_csv('data/sampleSubmission.zip')\n",
    "    sub = sub.merge(\n",
    "        predict, \n",
    "        how='left', \n",
    "        on=['USER_ID']\n",
    "    )\n",
    "    \n",
    "    sub['SCORE'] = sub['SCORE_y'].combine_first(sub['SCORE_x'])\n",
    "    del sub['SCORE_y']\n",
    "    del sub['SCORE_x']\n",
    "    \n",
    "    return sub"
   ]
  },
  {
   "cell_type": "code",
   "execution_count": null,
   "id": "b31edc49-90e1-4889-a8f5-1d18bdcffe8d",
   "metadata": {},
   "outputs": [],
   "source": [
    "predict_1_ = _save(predict_1)\n",
    "predict_1_.to_csv('lgbm_time_split_lasso_2.csv', index=False)"
   ]
  },
  {
   "cell_type": "code",
   "execution_count": null,
   "id": "72e73734-d257-4906-8cd3-755b2b9bce6d",
   "metadata": {},
   "outputs": [],
   "source": [
    "predict_2_ = _save(predict_2)\n",
    "predict_2_.to_csv('lgbm_time_split_chi_2.csv', index=False)"
   ]
  },
  {
   "cell_type": "code",
   "execution_count": null,
   "id": "e505eaef-02a6-4cf3-866e-f14b0554a15d",
   "metadata": {},
   "outputs": [],
   "source": [
    "predict_3_ = _save(predict_3)\n",
    "predict_3_.to_csv('lgbm_time_split_anova_2.csv', index=False)"
   ]
  },
  {
   "cell_type": "code",
   "execution_count": null,
   "id": "cac1fd23-65ee-452a-a12e-af06985d736f",
   "metadata": {},
   "outputs": [],
   "source": []
  },
  {
   "cell_type": "code",
   "execution_count": null,
   "id": "ca3f4ea6-e9c0-4402-bfbc-35cd373f4eb5",
   "metadata": {},
   "outputs": [],
   "source": []
  },
  {
   "cell_type": "markdown",
   "id": "f82e44d5-4bc2-462c-9a41-6d2e19446f44",
   "metadata": {},
   "source": [
    "### STRATIFICACION"
   ]
  },
  {
   "cell_type": "code",
   "execution_count": null,
   "id": "7d339320-f5a2-4701-b99d-20a93544611d",
   "metadata": {},
   "outputs": [],
   "source": [
    "%%time\n",
    "\n",
    "grid_1_r, predict_1_r = apply_lgbm(\n",
    "    X_train[list_var_relevants_r], \n",
    "    X_test[list_var_relevants_r], \n",
    "    y_train, \n",
    "    users_test, \n",
    "    add='lasso',\n",
    "    cv=repeat\n",
    ")\n",
    "gc.collect()"
   ]
  },
  {
   "cell_type": "code",
   "execution_count": null,
   "id": "23d27afe-5e9f-4d4f-9258-72fe7989a13d",
   "metadata": {},
   "outputs": [],
   "source": [
    "%%time\n",
    "\n",
    "grid_2_r, predict_2_r = apply_lgbm(\n",
    "    X_train[list_var_chi], \n",
    "    X_test[list_var_chi], \n",
    "    y_train, \n",
    "    users_test, \n",
    "    add='chi',\n",
    "    cv=repeat\n",
    ")\n",
    "gc.collect()"
   ]
  },
  {
   "cell_type": "code",
   "execution_count": null,
   "id": "1cce6569-ceb5-401c-991b-494f2b123c4f",
   "metadata": {},
   "outputs": [],
   "source": [
    "%%time\n",
    "\n",
    "grid_3_r, predict_3_r = apply_lgbm(\n",
    "    X_train[list_var_anova], \n",
    "    X_test[list_var_anova], \n",
    "    y_train, \n",
    "    users_test, \n",
    "    add='anova',\n",
    "    cv=repeat\n",
    ")\n",
    "gc.collect()"
   ]
  },
  {
   "cell_type": "code",
   "execution_count": null,
   "id": "7526f3a0-4eba-42eb-b56d-3b8bd2834912",
   "metadata": {},
   "outputs": [],
   "source": [
    "predict_1_r_ = _save(predict_1_r)\n",
    "predict_1_r_.to_csv('lgbm_repeat_stratify_lasso_2.csv', index=False)"
   ]
  },
  {
   "cell_type": "code",
   "execution_count": null,
   "id": "84cb6876-6126-4abb-af62-caaa51b17d39",
   "metadata": {},
   "outputs": [],
   "source": [
    "predict_2_r_ = _save(predict_2_r)\n",
    "predict_2_r_.to_csv('lgbm_repeat_stratify_chi_2.csv', index=False)"
   ]
  },
  {
   "cell_type": "code",
   "execution_count": null,
   "id": "f1f28c2e-3789-43bc-8aab-abe6de8867df",
   "metadata": {},
   "outputs": [],
   "source": [
    "predict_3_r_ = _save(predict_3_r)\n",
    "predict_3_r_.to_csv('lgbm_repeat_stratify_anova_2.csv', index=False)"
   ]
  },
  {
   "cell_type": "code",
   "execution_count": null,
   "id": "5487be21-151e-4d27-aac8-277aed192d01",
   "metadata": {},
   "outputs": [],
   "source": []
  },
  {
   "cell_type": "code",
   "execution_count": null,
   "id": "c73f44c5-1518-47c1-a919-eb4bd0674d32",
   "metadata": {},
   "outputs": [],
   "source": [
    "predict_r = predict_1_r_.merge(\n",
    "    predict_2_r_, how='left', on='USER_ID'\n",
    ").merge(\n",
    "    predict_3_r_, how='left', on='USER_ID'\n",
    ")\n",
    "predict_r.head()"
   ]
  },
  {
   "cell_type": "code",
   "execution_count": null,
   "id": "d58e65de-78c2-4a82-ab6d-79667410e73e",
   "metadata": {},
   "outputs": [],
   "source": [
    "predict_r['SCORE'] = predict_r[['SCORE_x', 'SCORE_y', 'SCORE']].mean(axis=1)\n",
    "predict_r['SCORE'].hist()"
   ]
  },
  {
   "cell_type": "code",
   "execution_count": null,
   "id": "8b7e7e12-0af8-4df4-841c-bd71fe75c4e7",
   "metadata": {},
   "outputs": [],
   "source": [
    "predict_r[['USER_ID','SCORE']].to_csv('lgbm_repeat_stratify_ensamble_2.csv', index=False)"
   ]
  },
  {
   "cell_type": "code",
   "execution_count": null,
   "id": "2dc36f5b-5ba9-4486-989e-596a1d50e9f0",
   "metadata": {},
   "outputs": [],
   "source": []
  },
  {
   "cell_type": "code",
   "execution_count": null,
   "id": "8e9d62bc-723a-479d-8259-dd064a37b602",
   "metadata": {},
   "outputs": [],
   "source": []
  },
  {
   "cell_type": "markdown",
   "id": "23dd7db5-7d58-455e-b9a7-a3fab7cc62b9",
   "metadata": {},
   "source": [
    "### PREDICT ALL TRIMESTER"
   ]
  },
  {
   "cell_type": "code",
   "execution_count": null,
   "id": "80753aff-a610-4364-9b94-a8b57457ec57",
   "metadata": {},
   "outputs": [],
   "source": [
    "pageview.head()"
   ]
  },
  {
   "cell_type": "code",
   "execution_count": null,
   "id": "ea294e45-e385-45d6-b95f-76d29076fc10",
   "metadata": {},
   "outputs": [],
   "source": [
    "def predict_lgbm_all(grid, X_test_part, users, add='', tipo=''):\n",
    "    predict_test = grid.best_estimator_.predict_proba(X_test_part)[:,1]\n",
    "    predict_test = pd.DataFrame(\n",
    "        {'USER_ID':users, \n",
    "         'SCORE':predict_test} \n",
    "    )\n",
    "    #display(predict_test.head())\n",
    "    print(predict_test[predict_test['SCORE'] < 0.01].shape)\n",
    "    print(predict_test[predict_test['SCORE'] > 0.5].shape)\n",
    "    print(predict_test[predict_test['SCORE'] > 0.99].shape)\n",
    "    \n",
    "    predict_test.groupby(by=['USER_ID'])['SCORE'].mean().to_csv('lgbm_{}_{}_{}_mean.csv'.format(tipo, grid.best_score_, add), index=True)\n",
    "    predict_test.groupby(by=['USER_ID'])['SCORE'].median().to_csv('lgbm_{}_{}_{}_median.csv'.format(tipo, grid.best_score_, add), index=True)\n",
    "    return predict_test"
   ]
  },
  {
   "cell_type": "code",
   "execution_count": null,
   "id": "1a7e2beb-6fd2-40f0-a2fd-3ff97e0bb950",
   "metadata": {},
   "outputs": [],
   "source": [
    "predict_all_1 = predict_lgbm_all(grid_1, pageview[list_var_relevants], pageview['USER_ID'], add='lasso', tipo='time_split')\n",
    "predict_all_1['SCORE'].hist()"
   ]
  },
  {
   "cell_type": "code",
   "execution_count": null,
   "id": "b4074623-c2e0-457d-8686-a492a0c09b5e",
   "metadata": {},
   "outputs": [],
   "source": [
    "predict_all_2 = predict_lgbm_all(grid_2, pageview[list_var_chi], pageview['USER_ID'], add='chi', tipo='time_split')\n",
    "predict_all_2['SCORE'].hist()"
   ]
  },
  {
   "cell_type": "code",
   "execution_count": null,
   "id": "348aaaa6-548a-4748-89cc-06e1e2213246",
   "metadata": {},
   "outputs": [],
   "source": [
    "predict_all_3 = predict_lgbm_all(grid_3, pageview[list_var_anova], pageview['USER_ID'], add='anova', tipo='time_split')\n",
    "predict_all_3['SCORE'].hist()"
   ]
  },
  {
   "cell_type": "code",
   "execution_count": null,
   "id": "80b59ada-b527-4919-9743-1c2d91bef7c7",
   "metadata": {},
   "outputs": [],
   "source": [
    "predict_all_1_r = predict_lgbm_all(grid_1_r, pageview[list_var_relevants_r], pageview['USER_ID'], add='lasso', tipo='repeat_stratify')\n",
    "predict_all_1_r['SCORE'].hist()"
   ]
  },
  {
   "cell_type": "code",
   "execution_count": null,
   "id": "94a1c917-afe7-4351-afd7-d4eccc963216",
   "metadata": {},
   "outputs": [],
   "source": [
    "predict_all_2_r = predict_lgbm_all(grid_2_r, pageview[list_var_chi], pageview['USER_ID'], add='chi', tipo='repeat_stratify')\n",
    "predict_all_2_r['SCORE'].hist()"
   ]
  },
  {
   "cell_type": "code",
   "execution_count": null,
   "id": "94aeb6aa-fb3f-4281-834b-26fcc748915a",
   "metadata": {},
   "outputs": [],
   "source": [
    "predict_all_3_r = predict_lgbm_all(grid_3_r, pageview[list_var_anova], pageview['USER_ID'], add='anova', tipo='repeat_stratify')\n",
    "predict_all_3_r['SCORE'].hist()"
   ]
  },
  {
   "cell_type": "code",
   "execution_count": null,
   "id": "f0ed4549-4c1f-4290-9610-384188f397a5",
   "metadata": {},
   "outputs": [],
   "source": []
  },
  {
   "cell_type": "code",
   "execution_count": null,
   "id": "4b1e92c0-4fcf-4628-bc7e-05c8b37f659c",
   "metadata": {},
   "outputs": [],
   "source": []
  },
  {
   "cell_type": "code",
   "execution_count": null,
   "id": "a6d337dd-6a59-4fc9-b86d-a06dfe8ee2f6",
   "metadata": {},
   "outputs": [],
   "source": []
  }
 ],
 "metadata": {
  "kernelspec": {
   "display_name": "Python 3",
   "language": "python",
   "name": "python3"
  },
  "language_info": {
   "codemirror_mode": {
    "name": "ipython",
    "version": 3
   },
   "file_extension": ".py",
   "mimetype": "text/x-python",
   "name": "python",
   "nbconvert_exporter": "python",
   "pygments_lexer": "ipython3",
   "version": "3.8.5"
  }
 },
 "nbformat": 4,
 "nbformat_minor": 5
}
