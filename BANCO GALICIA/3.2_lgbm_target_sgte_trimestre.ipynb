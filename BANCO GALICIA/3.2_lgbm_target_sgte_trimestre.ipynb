{
 "cells": [
  {
   "cell_type": "code",
   "execution_count": 1,
   "id": "c2f1e6c7-0a62-49be-8a71-7d898f224d24",
   "metadata": {},
   "outputs": [
    {
     "data": {
      "text/plain": [
       "['.ipynb_checkpoints',\n",
       " 'CONTENT_CATEGORY.zip',\n",
       " 'CONTENT_CATEGORY_BOTTOM.zip',\n",
       " 'CONTENT_CATEGORY_TOP.zip',\n",
       " 'conversiones.zip',\n",
       " 'data.zip',\n",
       " 'data2.zip',\n",
       " 'device_data.zip',\n",
       " 'PAGE.zip',\n",
       " 'pageviews.zip',\n",
       " 'pageviews_complemento.zip',\n",
       " 'pageview_with_previous_2.csv',\n",
       " 'sampleSubmission.zip',\n",
       " 'SITE_ID.zip']"
      ]
     },
     "execution_count": 1,
     "metadata": {},
     "output_type": "execute_result"
    }
   ],
   "source": [
    "# Nativos\n",
    "import random as rn\n",
    "import os\n",
    "import sys\n",
    "import gc\n",
    "import json\n",
    "\n",
    "#calculo\n",
    "import numpy as np\n",
    "import pandas as pd\n",
    "import scipy as sp\n",
    "\n",
    "#grafico\n",
    "import matplotlib.pyplot as plt\n",
    "import seaborn as sns\n",
    "from IPython.display import display\n",
    "%matplotlib inline\n",
    "sns.set(style=\"whitegrid\")\n",
    "\n",
    "#warning ignore future\n",
    "import warnings\n",
    "# warnings.simplefilter(action='ignore', category=FutureWarning)\n",
    "warnings.filterwarnings(\"ignore\")\n",
    "gc.collect()\n",
    "\n",
    "BASE_DIR = os.path.dirname(os.getcwd())\n",
    "if BASE_DIR not in sys.path: sys.path.append(BASE_DIR)\n",
    "\n",
    "from utils import *\n",
    "#from graphs import *\n",
    "\n",
    "SEED = 29082013\n",
    "os.environ['PYTHONHASHSEED']=str(SEED)\n",
    "np.random.seed(SEED)\n",
    "rn.seed(SEED)\n",
    "\n",
    "subfolder = \"data\"\n",
    "os.listdir(subfolder)"
   ]
  },
  {
   "cell_type": "code",
   "execution_count": 2,
   "id": "81bf48bc-ddc8-472e-97f2-af9fe8c20389",
   "metadata": {},
   "outputs": [
    {
     "name": "stdout",
     "output_type": "stream",
     "text": [
      "(44924, 4079)\n"
     ]
    },
    {
     "data": {
      "text/html": [
       "<div>\n",
       "<style scoped>\n",
       "    .dataframe tbody tr th:only-of-type {\n",
       "        vertical-align: middle;\n",
       "    }\n",
       "\n",
       "    .dataframe tbody tr th {\n",
       "        vertical-align: top;\n",
       "    }\n",
       "\n",
       "    .dataframe thead th {\n",
       "        text-align: right;\n",
       "    }\n",
       "</style>\n",
       "<table border=\"1\" class=\"dataframe\">\n",
       "  <thead>\n",
       "    <tr style=\"text-align: right;\">\n",
       "      <th></th>\n",
       "      <th>trimestre</th>\n",
       "      <th>USER_ID</th>\n",
       "      <th>1000_1000</th>\n",
       "      <th>1000_2</th>\n",
       "      <th>1000_40</th>\n",
       "      <th>1000_611</th>\n",
       "      <th>100_2</th>\n",
       "      <th>100_40</th>\n",
       "      <th>102_154</th>\n",
       "      <th>102_2</th>\n",
       "      <th>...</th>\n",
       "      <th>none_2</th>\n",
       "      <th>none_202</th>\n",
       "      <th>none_203</th>\n",
       "      <th>none_268</th>\n",
       "      <th>none_369</th>\n",
       "      <th>none_40</th>\n",
       "      <th>none_45</th>\n",
       "      <th>none_5</th>\n",
       "      <th>none_85</th>\n",
       "      <th>none_9</th>\n",
       "    </tr>\n",
       "  </thead>\n",
       "  <tbody>\n",
       "    <tr>\n",
       "      <th>0</th>\n",
       "      <td>1</td>\n",
       "      <td>0</td>\n",
       "      <td>0.0</td>\n",
       "      <td>0.0</td>\n",
       "      <td>0.0</td>\n",
       "      <td>0.0</td>\n",
       "      <td>0.0</td>\n",
       "      <td>0.0</td>\n",
       "      <td>0.000000</td>\n",
       "      <td>0.0</td>\n",
       "      <td>...</td>\n",
       "      <td>0.000000</td>\n",
       "      <td>0.0</td>\n",
       "      <td>0.0</td>\n",
       "      <td>0.0</td>\n",
       "      <td>0.0</td>\n",
       "      <td>0.0</td>\n",
       "      <td>0.0</td>\n",
       "      <td>0.0</td>\n",
       "      <td>0.0</td>\n",
       "      <td>0.0</td>\n",
       "    </tr>\n",
       "    <tr>\n",
       "      <th>1</th>\n",
       "      <td>1</td>\n",
       "      <td>1</td>\n",
       "      <td>0.0</td>\n",
       "      <td>0.0</td>\n",
       "      <td>0.0</td>\n",
       "      <td>0.0</td>\n",
       "      <td>0.0</td>\n",
       "      <td>0.0</td>\n",
       "      <td>0.000000</td>\n",
       "      <td>0.0</td>\n",
       "      <td>...</td>\n",
       "      <td>0.000000</td>\n",
       "      <td>0.0</td>\n",
       "      <td>0.0</td>\n",
       "      <td>0.0</td>\n",
       "      <td>0.0</td>\n",
       "      <td>0.0</td>\n",
       "      <td>0.0</td>\n",
       "      <td>0.0</td>\n",
       "      <td>0.0</td>\n",
       "      <td>0.0</td>\n",
       "    </tr>\n",
       "    <tr>\n",
       "      <th>2</th>\n",
       "      <td>1</td>\n",
       "      <td>2</td>\n",
       "      <td>0.0</td>\n",
       "      <td>0.0</td>\n",
       "      <td>0.0</td>\n",
       "      <td>0.0</td>\n",
       "      <td>0.0</td>\n",
       "      <td>0.0</td>\n",
       "      <td>0.000000</td>\n",
       "      <td>0.0</td>\n",
       "      <td>...</td>\n",
       "      <td>0.000000</td>\n",
       "      <td>0.0</td>\n",
       "      <td>0.0</td>\n",
       "      <td>0.0</td>\n",
       "      <td>0.0</td>\n",
       "      <td>0.0</td>\n",
       "      <td>0.0</td>\n",
       "      <td>0.0</td>\n",
       "      <td>0.0</td>\n",
       "      <td>0.0</td>\n",
       "    </tr>\n",
       "    <tr>\n",
       "      <th>3</th>\n",
       "      <td>1</td>\n",
       "      <td>3</td>\n",
       "      <td>0.0</td>\n",
       "      <td>0.0</td>\n",
       "      <td>0.0</td>\n",
       "      <td>0.0</td>\n",
       "      <td>0.0</td>\n",
       "      <td>0.0</td>\n",
       "      <td>0.000000</td>\n",
       "      <td>0.0</td>\n",
       "      <td>...</td>\n",
       "      <td>0.000000</td>\n",
       "      <td>0.0</td>\n",
       "      <td>0.0</td>\n",
       "      <td>0.0</td>\n",
       "      <td>0.0</td>\n",
       "      <td>0.0</td>\n",
       "      <td>0.0</td>\n",
       "      <td>0.0</td>\n",
       "      <td>0.0</td>\n",
       "      <td>0.0</td>\n",
       "    </tr>\n",
       "    <tr>\n",
       "      <th>4</th>\n",
       "      <td>1</td>\n",
       "      <td>4</td>\n",
       "      <td>0.0</td>\n",
       "      <td>0.0</td>\n",
       "      <td>0.0</td>\n",
       "      <td>0.0</td>\n",
       "      <td>0.0</td>\n",
       "      <td>0.0</td>\n",
       "      <td>0.003903</td>\n",
       "      <td>0.0</td>\n",
       "      <td>...</td>\n",
       "      <td>0.000781</td>\n",
       "      <td>0.0</td>\n",
       "      <td>0.0</td>\n",
       "      <td>0.0</td>\n",
       "      <td>0.0</td>\n",
       "      <td>0.0</td>\n",
       "      <td>0.0</td>\n",
       "      <td>0.0</td>\n",
       "      <td>0.0</td>\n",
       "      <td>0.0</td>\n",
       "    </tr>\n",
       "  </tbody>\n",
       "</table>\n",
       "<p>5 rows × 4079 columns</p>\n",
       "</div>"
      ],
      "text/plain": [
       "   trimestre  USER_ID  1000_1000  1000_2  1000_40  1000_611  100_2  100_40  \\\n",
       "0          1        0        0.0     0.0      0.0       0.0    0.0     0.0   \n",
       "1          1        1        0.0     0.0      0.0       0.0    0.0     0.0   \n",
       "2          1        2        0.0     0.0      0.0       0.0    0.0     0.0   \n",
       "3          1        3        0.0     0.0      0.0       0.0    0.0     0.0   \n",
       "4          1        4        0.0     0.0      0.0       0.0    0.0     0.0   \n",
       "\n",
       "    102_154  102_2  ...    none_2  none_202  none_203  none_268  none_369  \\\n",
       "0  0.000000    0.0  ...  0.000000       0.0       0.0       0.0       0.0   \n",
       "1  0.000000    0.0  ...  0.000000       0.0       0.0       0.0       0.0   \n",
       "2  0.000000    0.0  ...  0.000000       0.0       0.0       0.0       0.0   \n",
       "3  0.000000    0.0  ...  0.000000       0.0       0.0       0.0       0.0   \n",
       "4  0.003903    0.0  ...  0.000781       0.0       0.0       0.0       0.0   \n",
       "\n",
       "   none_40  none_45  none_5  none_85  none_9  \n",
       "0      0.0      0.0     0.0      0.0     0.0  \n",
       "1      0.0      0.0     0.0      0.0     0.0  \n",
       "2      0.0      0.0     0.0      0.0     0.0  \n",
       "3      0.0      0.0     0.0      0.0     0.0  \n",
       "4      0.0      0.0     0.0      0.0     0.0  \n",
       "\n",
       "[5 rows x 4079 columns]"
      ]
     },
     "execution_count": 2,
     "metadata": {},
     "output_type": "execute_result"
    }
   ],
   "source": [
    "pageview = pd.read_csv('pageview_trimestral_percent.csv')\n",
    "print(pageview.shape)\n",
    "\n",
    "pageview.head()"
   ]
  },
  {
   "cell_type": "code",
   "execution_count": 3,
   "id": "464cc7cf-2ed1-4aaa-b477-74069f5a936d",
   "metadata": {},
   "outputs": [
    {
     "data": {
      "text/plain": [
       "trimestre      int64\n",
       "USER_ID        int64\n",
       "1000_1000    float64\n",
       "1000_2       float64\n",
       "1000_40      float64\n",
       "              ...   \n",
       "none_40      float64\n",
       "none_45      float64\n",
       "none_5       float64\n",
       "none_85      float64\n",
       "none_9       float64\n",
       "Length: 4079, dtype: object"
      ]
     },
     "execution_count": 3,
     "metadata": {},
     "output_type": "execute_result"
    }
   ],
   "source": [
    "pageview.dtypes"
   ]
  },
  {
   "cell_type": "code",
   "execution_count": 4,
   "id": "7652dc04-8e09-4d8d-910a-5074f74fe2a3",
   "metadata": {},
   "outputs": [
    {
     "data": {
      "text/plain": [
       "4"
      ]
     },
     "execution_count": 4,
     "metadata": {},
     "output_type": "execute_result"
    }
   ],
   "source": [
    "with open('convertions.json', 'r') as outfile_names:\n",
    "    dict_conversion = json.load(outfile_names)\n",
    "\n",
    "len(dict_conversion)"
   ]
  },
  {
   "cell_type": "code",
   "execution_count": 5,
   "id": "2564a035-7a29-465b-9f1b-2643b1338874",
   "metadata": {},
   "outputs": [
    {
     "name": "stdout",
     "output_type": "stream",
     "text": [
      "1 246\n",
      "2 374\n",
      "3 392\n",
      "4 391\n"
     ]
    }
   ],
   "source": [
    "for trim in pageview['trimestre'].unique():\n",
    "    print(trim, len(dict_conversion[str(trim)]))"
   ]
  },
  {
   "cell_type": "code",
   "execution_count": 6,
   "id": "ef62dc22-8b00-4576-8bbf-dae85afeb2e3",
   "metadata": {},
   "outputs": [
    {
     "name": "stdout",
     "output_type": "stream",
     "text": [
      "1 374\n",
      "2 392\n",
      "3 391\n",
      "4 0\n"
     ]
    }
   ],
   "source": [
    "for trim in pageview['trimestre'].unique():\n",
    "    print(\n",
    "        trim, \n",
    "        len(dict_conversion.get(str(trim + 1), []))\n",
    "    )"
   ]
  },
  {
   "cell_type": "code",
   "execution_count": 7,
   "id": "cc206b63-2557-4700-b76b-73b628276b33",
   "metadata": {},
   "outputs": [
    {
     "data": {
      "text/html": [
       "<div>\n",
       "<style scoped>\n",
       "    .dataframe tbody tr th:only-of-type {\n",
       "        vertical-align: middle;\n",
       "    }\n",
       "\n",
       "    .dataframe tbody tr th {\n",
       "        vertical-align: top;\n",
       "    }\n",
       "\n",
       "    .dataframe thead th {\n",
       "        text-align: right;\n",
       "    }\n",
       "</style>\n",
       "<table border=\"1\" class=\"dataframe\">\n",
       "  <thead>\n",
       "    <tr style=\"text-align: right;\">\n",
       "      <th></th>\n",
       "      <th>trimestre</th>\n",
       "      <th>USER_ID</th>\n",
       "      <th>1000_1000</th>\n",
       "      <th>1000_2</th>\n",
       "      <th>1000_40</th>\n",
       "      <th>1000_611</th>\n",
       "      <th>100_2</th>\n",
       "      <th>100_40</th>\n",
       "      <th>102_154</th>\n",
       "      <th>102_2</th>\n",
       "      <th>...</th>\n",
       "      <th>none_202</th>\n",
       "      <th>none_203</th>\n",
       "      <th>none_268</th>\n",
       "      <th>none_369</th>\n",
       "      <th>none_40</th>\n",
       "      <th>none_45</th>\n",
       "      <th>none_5</th>\n",
       "      <th>none_85</th>\n",
       "      <th>none_9</th>\n",
       "      <th>hizo_conversion_este_mes</th>\n",
       "    </tr>\n",
       "  </thead>\n",
       "  <tbody>\n",
       "    <tr>\n",
       "      <th>0</th>\n",
       "      <td>1</td>\n",
       "      <td>0</td>\n",
       "      <td>0.0</td>\n",
       "      <td>0.0</td>\n",
       "      <td>0.0</td>\n",
       "      <td>0.0</td>\n",
       "      <td>0.0</td>\n",
       "      <td>0.0</td>\n",
       "      <td>0.000000</td>\n",
       "      <td>0.0</td>\n",
       "      <td>...</td>\n",
       "      <td>0.0</td>\n",
       "      <td>0.0</td>\n",
       "      <td>0.0</td>\n",
       "      <td>0.0</td>\n",
       "      <td>0.0</td>\n",
       "      <td>0.0</td>\n",
       "      <td>0.0</td>\n",
       "      <td>0.0</td>\n",
       "      <td>0.0</td>\n",
       "      <td>0</td>\n",
       "    </tr>\n",
       "    <tr>\n",
       "      <th>1</th>\n",
       "      <td>1</td>\n",
       "      <td>1</td>\n",
       "      <td>0.0</td>\n",
       "      <td>0.0</td>\n",
       "      <td>0.0</td>\n",
       "      <td>0.0</td>\n",
       "      <td>0.0</td>\n",
       "      <td>0.0</td>\n",
       "      <td>0.000000</td>\n",
       "      <td>0.0</td>\n",
       "      <td>...</td>\n",
       "      <td>0.0</td>\n",
       "      <td>0.0</td>\n",
       "      <td>0.0</td>\n",
       "      <td>0.0</td>\n",
       "      <td>0.0</td>\n",
       "      <td>0.0</td>\n",
       "      <td>0.0</td>\n",
       "      <td>0.0</td>\n",
       "      <td>0.0</td>\n",
       "      <td>0</td>\n",
       "    </tr>\n",
       "    <tr>\n",
       "      <th>2</th>\n",
       "      <td>1</td>\n",
       "      <td>2</td>\n",
       "      <td>0.0</td>\n",
       "      <td>0.0</td>\n",
       "      <td>0.0</td>\n",
       "      <td>0.0</td>\n",
       "      <td>0.0</td>\n",
       "      <td>0.0</td>\n",
       "      <td>0.000000</td>\n",
       "      <td>0.0</td>\n",
       "      <td>...</td>\n",
       "      <td>0.0</td>\n",
       "      <td>0.0</td>\n",
       "      <td>0.0</td>\n",
       "      <td>0.0</td>\n",
       "      <td>0.0</td>\n",
       "      <td>0.0</td>\n",
       "      <td>0.0</td>\n",
       "      <td>0.0</td>\n",
       "      <td>0.0</td>\n",
       "      <td>0</td>\n",
       "    </tr>\n",
       "    <tr>\n",
       "      <th>3</th>\n",
       "      <td>1</td>\n",
       "      <td>3</td>\n",
       "      <td>0.0</td>\n",
       "      <td>0.0</td>\n",
       "      <td>0.0</td>\n",
       "      <td>0.0</td>\n",
       "      <td>0.0</td>\n",
       "      <td>0.0</td>\n",
       "      <td>0.000000</td>\n",
       "      <td>0.0</td>\n",
       "      <td>...</td>\n",
       "      <td>0.0</td>\n",
       "      <td>0.0</td>\n",
       "      <td>0.0</td>\n",
       "      <td>0.0</td>\n",
       "      <td>0.0</td>\n",
       "      <td>0.0</td>\n",
       "      <td>0.0</td>\n",
       "      <td>0.0</td>\n",
       "      <td>0.0</td>\n",
       "      <td>0</td>\n",
       "    </tr>\n",
       "    <tr>\n",
       "      <th>4</th>\n",
       "      <td>1</td>\n",
       "      <td>4</td>\n",
       "      <td>0.0</td>\n",
       "      <td>0.0</td>\n",
       "      <td>0.0</td>\n",
       "      <td>0.0</td>\n",
       "      <td>0.0</td>\n",
       "      <td>0.0</td>\n",
       "      <td>0.003903</td>\n",
       "      <td>0.0</td>\n",
       "      <td>...</td>\n",
       "      <td>0.0</td>\n",
       "      <td>0.0</td>\n",
       "      <td>0.0</td>\n",
       "      <td>0.0</td>\n",
       "      <td>0.0</td>\n",
       "      <td>0.0</td>\n",
       "      <td>0.0</td>\n",
       "      <td>0.0</td>\n",
       "      <td>0.0</td>\n",
       "      <td>0</td>\n",
       "    </tr>\n",
       "  </tbody>\n",
       "</table>\n",
       "<p>5 rows × 4080 columns</p>\n",
       "</div>"
      ],
      "text/plain": [
       "   trimestre  USER_ID  1000_1000  1000_2  1000_40  1000_611  100_2  100_40  \\\n",
       "0          1        0        0.0     0.0      0.0       0.0    0.0     0.0   \n",
       "1          1        1        0.0     0.0      0.0       0.0    0.0     0.0   \n",
       "2          1        2        0.0     0.0      0.0       0.0    0.0     0.0   \n",
       "3          1        3        0.0     0.0      0.0       0.0    0.0     0.0   \n",
       "4          1        4        0.0     0.0      0.0       0.0    0.0     0.0   \n",
       "\n",
       "    102_154  102_2  ...  none_202  none_203  none_268  none_369  none_40  \\\n",
       "0  0.000000    0.0  ...       0.0       0.0       0.0       0.0      0.0   \n",
       "1  0.000000    0.0  ...       0.0       0.0       0.0       0.0      0.0   \n",
       "2  0.000000    0.0  ...       0.0       0.0       0.0       0.0      0.0   \n",
       "3  0.000000    0.0  ...       0.0       0.0       0.0       0.0      0.0   \n",
       "4  0.003903    0.0  ...       0.0       0.0       0.0       0.0      0.0   \n",
       "\n",
       "   none_45  none_5  none_85  none_9  hizo_conversion_este_mes  \n",
       "0      0.0     0.0      0.0     0.0                         0  \n",
       "1      0.0     0.0      0.0     0.0                         0  \n",
       "2      0.0     0.0      0.0     0.0                         0  \n",
       "3      0.0     0.0      0.0     0.0                         0  \n",
       "4      0.0     0.0      0.0     0.0                         0  \n",
       "\n",
       "[5 rows x 4080 columns]"
      ]
     },
     "execution_count": 7,
     "metadata": {},
     "output_type": "execute_result"
    }
   ],
   "source": [
    "pageview['hizo_conversion_este_mes'] = pageview[['trimestre', 'USER_ID']].apply(\n",
    "    lambda _: _[1] in dict_conversion.get(str(_[0]), []), axis=1\n",
    ").astype(int)\n",
    "\n",
    "pageview.head()"
   ]
  },
  {
   "cell_type": "code",
   "execution_count": 8,
   "id": "91b27fed-7c7d-4375-b74d-7516886f619c",
   "metadata": {},
   "outputs": [
    {
     "data": {
      "text/html": [
       "<div>\n",
       "<style scoped>\n",
       "    .dataframe tbody tr th:only-of-type {\n",
       "        vertical-align: middle;\n",
       "    }\n",
       "\n",
       "    .dataframe tbody tr th {\n",
       "        vertical-align: top;\n",
       "    }\n",
       "\n",
       "    .dataframe thead th {\n",
       "        text-align: right;\n",
       "    }\n",
       "</style>\n",
       "<table border=\"1\" class=\"dataframe\">\n",
       "  <thead>\n",
       "    <tr style=\"text-align: right;\">\n",
       "      <th></th>\n",
       "      <th>trimestre</th>\n",
       "      <th>USER_ID</th>\n",
       "      <th>1000_1000</th>\n",
       "      <th>1000_2</th>\n",
       "      <th>1000_40</th>\n",
       "      <th>1000_611</th>\n",
       "      <th>100_2</th>\n",
       "      <th>100_40</th>\n",
       "      <th>102_154</th>\n",
       "      <th>102_2</th>\n",
       "      <th>...</th>\n",
       "      <th>none_203</th>\n",
       "      <th>none_268</th>\n",
       "      <th>none_369</th>\n",
       "      <th>none_40</th>\n",
       "      <th>none_45</th>\n",
       "      <th>none_5</th>\n",
       "      <th>none_85</th>\n",
       "      <th>none_9</th>\n",
       "      <th>hizo_conversion_este_mes</th>\n",
       "      <th>convertion</th>\n",
       "    </tr>\n",
       "  </thead>\n",
       "  <tbody>\n",
       "    <tr>\n",
       "      <th>0</th>\n",
       "      <td>1</td>\n",
       "      <td>0</td>\n",
       "      <td>0.0</td>\n",
       "      <td>0.0</td>\n",
       "      <td>0.0</td>\n",
       "      <td>0.0</td>\n",
       "      <td>0.0</td>\n",
       "      <td>0.0</td>\n",
       "      <td>0.000000</td>\n",
       "      <td>0.0</td>\n",
       "      <td>...</td>\n",
       "      <td>0.0</td>\n",
       "      <td>0.0</td>\n",
       "      <td>0.0</td>\n",
       "      <td>0.0</td>\n",
       "      <td>0.0</td>\n",
       "      <td>0.0</td>\n",
       "      <td>0.0</td>\n",
       "      <td>0.0</td>\n",
       "      <td>0</td>\n",
       "      <td>0</td>\n",
       "    </tr>\n",
       "    <tr>\n",
       "      <th>1</th>\n",
       "      <td>1</td>\n",
       "      <td>1</td>\n",
       "      <td>0.0</td>\n",
       "      <td>0.0</td>\n",
       "      <td>0.0</td>\n",
       "      <td>0.0</td>\n",
       "      <td>0.0</td>\n",
       "      <td>0.0</td>\n",
       "      <td>0.000000</td>\n",
       "      <td>0.0</td>\n",
       "      <td>...</td>\n",
       "      <td>0.0</td>\n",
       "      <td>0.0</td>\n",
       "      <td>0.0</td>\n",
       "      <td>0.0</td>\n",
       "      <td>0.0</td>\n",
       "      <td>0.0</td>\n",
       "      <td>0.0</td>\n",
       "      <td>0.0</td>\n",
       "      <td>0</td>\n",
       "      <td>0</td>\n",
       "    </tr>\n",
       "    <tr>\n",
       "      <th>2</th>\n",
       "      <td>1</td>\n",
       "      <td>2</td>\n",
       "      <td>0.0</td>\n",
       "      <td>0.0</td>\n",
       "      <td>0.0</td>\n",
       "      <td>0.0</td>\n",
       "      <td>0.0</td>\n",
       "      <td>0.0</td>\n",
       "      <td>0.000000</td>\n",
       "      <td>0.0</td>\n",
       "      <td>...</td>\n",
       "      <td>0.0</td>\n",
       "      <td>0.0</td>\n",
       "      <td>0.0</td>\n",
       "      <td>0.0</td>\n",
       "      <td>0.0</td>\n",
       "      <td>0.0</td>\n",
       "      <td>0.0</td>\n",
       "      <td>0.0</td>\n",
       "      <td>0</td>\n",
       "      <td>0</td>\n",
       "    </tr>\n",
       "    <tr>\n",
       "      <th>3</th>\n",
       "      <td>1</td>\n",
       "      <td>3</td>\n",
       "      <td>0.0</td>\n",
       "      <td>0.0</td>\n",
       "      <td>0.0</td>\n",
       "      <td>0.0</td>\n",
       "      <td>0.0</td>\n",
       "      <td>0.0</td>\n",
       "      <td>0.000000</td>\n",
       "      <td>0.0</td>\n",
       "      <td>...</td>\n",
       "      <td>0.0</td>\n",
       "      <td>0.0</td>\n",
       "      <td>0.0</td>\n",
       "      <td>0.0</td>\n",
       "      <td>0.0</td>\n",
       "      <td>0.0</td>\n",
       "      <td>0.0</td>\n",
       "      <td>0.0</td>\n",
       "      <td>0</td>\n",
       "      <td>0</td>\n",
       "    </tr>\n",
       "    <tr>\n",
       "      <th>4</th>\n",
       "      <td>1</td>\n",
       "      <td>4</td>\n",
       "      <td>0.0</td>\n",
       "      <td>0.0</td>\n",
       "      <td>0.0</td>\n",
       "      <td>0.0</td>\n",
       "      <td>0.0</td>\n",
       "      <td>0.0</td>\n",
       "      <td>0.003903</td>\n",
       "      <td>0.0</td>\n",
       "      <td>...</td>\n",
       "      <td>0.0</td>\n",
       "      <td>0.0</td>\n",
       "      <td>0.0</td>\n",
       "      <td>0.0</td>\n",
       "      <td>0.0</td>\n",
       "      <td>0.0</td>\n",
       "      <td>0.0</td>\n",
       "      <td>0.0</td>\n",
       "      <td>0</td>\n",
       "      <td>0</td>\n",
       "    </tr>\n",
       "  </tbody>\n",
       "</table>\n",
       "<p>5 rows × 4081 columns</p>\n",
       "</div>"
      ],
      "text/plain": [
       "   trimestre  USER_ID  1000_1000  1000_2  1000_40  1000_611  100_2  100_40  \\\n",
       "0          1        0        0.0     0.0      0.0       0.0    0.0     0.0   \n",
       "1          1        1        0.0     0.0      0.0       0.0    0.0     0.0   \n",
       "2          1        2        0.0     0.0      0.0       0.0    0.0     0.0   \n",
       "3          1        3        0.0     0.0      0.0       0.0    0.0     0.0   \n",
       "4          1        4        0.0     0.0      0.0       0.0    0.0     0.0   \n",
       "\n",
       "    102_154  102_2  ...  none_203  none_268  none_369  none_40  none_45  \\\n",
       "0  0.000000    0.0  ...       0.0       0.0       0.0      0.0      0.0   \n",
       "1  0.000000    0.0  ...       0.0       0.0       0.0      0.0      0.0   \n",
       "2  0.000000    0.0  ...       0.0       0.0       0.0      0.0      0.0   \n",
       "3  0.000000    0.0  ...       0.0       0.0       0.0      0.0      0.0   \n",
       "4  0.003903    0.0  ...       0.0       0.0       0.0      0.0      0.0   \n",
       "\n",
       "   none_5  none_85  none_9  hizo_conversion_este_mes  convertion  \n",
       "0     0.0      0.0     0.0                         0           0  \n",
       "1     0.0      0.0     0.0                         0           0  \n",
       "2     0.0      0.0     0.0                         0           0  \n",
       "3     0.0      0.0     0.0                         0           0  \n",
       "4     0.0      0.0     0.0                         0           0  \n",
       "\n",
       "[5 rows x 4081 columns]"
      ]
     },
     "execution_count": 8,
     "metadata": {},
     "output_type": "execute_result"
    }
   ],
   "source": [
    "pageview['convertion'] = pageview[['trimestre', 'USER_ID']].apply(\n",
    "    lambda _: _[1] in dict_conversion.get(str(_[0] + 1), []), axis=1\n",
    ").astype(int)\n",
    "\n",
    "pageview.head()"
   ]
  },
  {
   "cell_type": "code",
   "execution_count": 9,
   "id": "827e7d16-598e-44e5-ae49-1caa9472e296",
   "metadata": {},
   "outputs": [
    {
     "data": {
      "text/html": [
       "<div>\n",
       "<style scoped>\n",
       "    .dataframe tbody tr th:only-of-type {\n",
       "        vertical-align: middle;\n",
       "    }\n",
       "\n",
       "    .dataframe tbody tr th {\n",
       "        vertical-align: top;\n",
       "    }\n",
       "\n",
       "    .dataframe thead th {\n",
       "        text-align: right;\n",
       "    }\n",
       "</style>\n",
       "<table border=\"1\" class=\"dataframe\">\n",
       "  <thead>\n",
       "    <tr style=\"text-align: right;\">\n",
       "      <th></th>\n",
       "      <th>trimestre</th>\n",
       "      <th>USER_ID</th>\n",
       "      <th>1000_1000</th>\n",
       "      <th>1000_2</th>\n",
       "      <th>1000_40</th>\n",
       "      <th>1000_611</th>\n",
       "      <th>100_2</th>\n",
       "      <th>100_40</th>\n",
       "      <th>102_154</th>\n",
       "      <th>102_2</th>\n",
       "      <th>...</th>\n",
       "      <th>none_268</th>\n",
       "      <th>none_369</th>\n",
       "      <th>none_40</th>\n",
       "      <th>none_45</th>\n",
       "      <th>none_5</th>\n",
       "      <th>none_85</th>\n",
       "      <th>none_9</th>\n",
       "      <th>hizo_conversion_este_mes</th>\n",
       "      <th>convertion</th>\n",
       "      <th>hizo_conversion_trim_pasado</th>\n",
       "    </tr>\n",
       "  </thead>\n",
       "  <tbody>\n",
       "    <tr>\n",
       "      <th>0</th>\n",
       "      <td>1</td>\n",
       "      <td>0</td>\n",
       "      <td>0.0</td>\n",
       "      <td>0.0</td>\n",
       "      <td>0.0</td>\n",
       "      <td>0.0</td>\n",
       "      <td>0.0</td>\n",
       "      <td>0.0</td>\n",
       "      <td>0.000000</td>\n",
       "      <td>0.0</td>\n",
       "      <td>...</td>\n",
       "      <td>0.0</td>\n",
       "      <td>0.0</td>\n",
       "      <td>0.0</td>\n",
       "      <td>0.0</td>\n",
       "      <td>0.0</td>\n",
       "      <td>0.0</td>\n",
       "      <td>0.0</td>\n",
       "      <td>0</td>\n",
       "      <td>0</td>\n",
       "      <td>0</td>\n",
       "    </tr>\n",
       "    <tr>\n",
       "      <th>1</th>\n",
       "      <td>1</td>\n",
       "      <td>1</td>\n",
       "      <td>0.0</td>\n",
       "      <td>0.0</td>\n",
       "      <td>0.0</td>\n",
       "      <td>0.0</td>\n",
       "      <td>0.0</td>\n",
       "      <td>0.0</td>\n",
       "      <td>0.000000</td>\n",
       "      <td>0.0</td>\n",
       "      <td>...</td>\n",
       "      <td>0.0</td>\n",
       "      <td>0.0</td>\n",
       "      <td>0.0</td>\n",
       "      <td>0.0</td>\n",
       "      <td>0.0</td>\n",
       "      <td>0.0</td>\n",
       "      <td>0.0</td>\n",
       "      <td>0</td>\n",
       "      <td>0</td>\n",
       "      <td>0</td>\n",
       "    </tr>\n",
       "    <tr>\n",
       "      <th>2</th>\n",
       "      <td>1</td>\n",
       "      <td>2</td>\n",
       "      <td>0.0</td>\n",
       "      <td>0.0</td>\n",
       "      <td>0.0</td>\n",
       "      <td>0.0</td>\n",
       "      <td>0.0</td>\n",
       "      <td>0.0</td>\n",
       "      <td>0.000000</td>\n",
       "      <td>0.0</td>\n",
       "      <td>...</td>\n",
       "      <td>0.0</td>\n",
       "      <td>0.0</td>\n",
       "      <td>0.0</td>\n",
       "      <td>0.0</td>\n",
       "      <td>0.0</td>\n",
       "      <td>0.0</td>\n",
       "      <td>0.0</td>\n",
       "      <td>0</td>\n",
       "      <td>0</td>\n",
       "      <td>0</td>\n",
       "    </tr>\n",
       "    <tr>\n",
       "      <th>3</th>\n",
       "      <td>1</td>\n",
       "      <td>3</td>\n",
       "      <td>0.0</td>\n",
       "      <td>0.0</td>\n",
       "      <td>0.0</td>\n",
       "      <td>0.0</td>\n",
       "      <td>0.0</td>\n",
       "      <td>0.0</td>\n",
       "      <td>0.000000</td>\n",
       "      <td>0.0</td>\n",
       "      <td>...</td>\n",
       "      <td>0.0</td>\n",
       "      <td>0.0</td>\n",
       "      <td>0.0</td>\n",
       "      <td>0.0</td>\n",
       "      <td>0.0</td>\n",
       "      <td>0.0</td>\n",
       "      <td>0.0</td>\n",
       "      <td>0</td>\n",
       "      <td>0</td>\n",
       "      <td>0</td>\n",
       "    </tr>\n",
       "    <tr>\n",
       "      <th>4</th>\n",
       "      <td>1</td>\n",
       "      <td>4</td>\n",
       "      <td>0.0</td>\n",
       "      <td>0.0</td>\n",
       "      <td>0.0</td>\n",
       "      <td>0.0</td>\n",
       "      <td>0.0</td>\n",
       "      <td>0.0</td>\n",
       "      <td>0.003903</td>\n",
       "      <td>0.0</td>\n",
       "      <td>...</td>\n",
       "      <td>0.0</td>\n",
       "      <td>0.0</td>\n",
       "      <td>0.0</td>\n",
       "      <td>0.0</td>\n",
       "      <td>0.0</td>\n",
       "      <td>0.0</td>\n",
       "      <td>0.0</td>\n",
       "      <td>0</td>\n",
       "      <td>0</td>\n",
       "      <td>0</td>\n",
       "    </tr>\n",
       "  </tbody>\n",
       "</table>\n",
       "<p>5 rows × 4082 columns</p>\n",
       "</div>"
      ],
      "text/plain": [
       "   trimestre  USER_ID  1000_1000  1000_2  1000_40  1000_611  100_2  100_40  \\\n",
       "0          1        0        0.0     0.0      0.0       0.0    0.0     0.0   \n",
       "1          1        1        0.0     0.0      0.0       0.0    0.0     0.0   \n",
       "2          1        2        0.0     0.0      0.0       0.0    0.0     0.0   \n",
       "3          1        3        0.0     0.0      0.0       0.0    0.0     0.0   \n",
       "4          1        4        0.0     0.0      0.0       0.0    0.0     0.0   \n",
       "\n",
       "    102_154  102_2  ...  none_268  none_369  none_40  none_45  none_5  \\\n",
       "0  0.000000    0.0  ...       0.0       0.0      0.0      0.0     0.0   \n",
       "1  0.000000    0.0  ...       0.0       0.0      0.0      0.0     0.0   \n",
       "2  0.000000    0.0  ...       0.0       0.0      0.0      0.0     0.0   \n",
       "3  0.000000    0.0  ...       0.0       0.0      0.0      0.0     0.0   \n",
       "4  0.003903    0.0  ...       0.0       0.0      0.0      0.0     0.0   \n",
       "\n",
       "   none_85  none_9  hizo_conversion_este_mes  convertion  \\\n",
       "0      0.0     0.0                         0           0   \n",
       "1      0.0     0.0                         0           0   \n",
       "2      0.0     0.0                         0           0   \n",
       "3      0.0     0.0                         0           0   \n",
       "4      0.0     0.0                         0           0   \n",
       "\n",
       "   hizo_conversion_trim_pasado  \n",
       "0                            0  \n",
       "1                            0  \n",
       "2                            0  \n",
       "3                            0  \n",
       "4                            0  \n",
       "\n",
       "[5 rows x 4082 columns]"
      ]
     },
     "execution_count": 9,
     "metadata": {},
     "output_type": "execute_result"
    }
   ],
   "source": [
    "pageview['hizo_conversion_trim_pasado'] = pageview[['trimestre', 'USER_ID']].apply(\n",
    "    lambda _: _[1] in dict_conversion.get(str(_[0] - 1), []), axis=1\n",
    ").astype(int)\n",
    "\n",
    "pageview.head()"
   ]
  },
  {
   "cell_type": "code",
   "execution_count": 10,
   "id": "38f23292-32bd-4a20-948b-7b3d3c241d62",
   "metadata": {},
   "outputs": [
    {
     "data": {
      "text/html": [
       "<div>\n",
       "<style scoped>\n",
       "    .dataframe tbody tr th:only-of-type {\n",
       "        vertical-align: middle;\n",
       "    }\n",
       "\n",
       "    .dataframe tbody tr th {\n",
       "        vertical-align: top;\n",
       "    }\n",
       "\n",
       "    .dataframe thead th {\n",
       "        text-align: right;\n",
       "    }\n",
       "</style>\n",
       "<table border=\"1\" class=\"dataframe\">\n",
       "  <thead>\n",
       "    <tr style=\"text-align: right;\">\n",
       "      <th>trimestre</th>\n",
       "      <th>1</th>\n",
       "      <th>2</th>\n",
       "      <th>3</th>\n",
       "      <th>4</th>\n",
       "    </tr>\n",
       "    <tr>\n",
       "      <th>convertion</th>\n",
       "      <th></th>\n",
       "      <th></th>\n",
       "      <th></th>\n",
       "      <th></th>\n",
       "    </tr>\n",
       "  </thead>\n",
       "  <tbody>\n",
       "    <tr>\n",
       "      <th>0</th>\n",
       "      <td>10567</td>\n",
       "      <td>10816</td>\n",
       "      <td>10970</td>\n",
       "      <td>11429</td>\n",
       "    </tr>\n",
       "    <tr>\n",
       "      <th>1</th>\n",
       "      <td>369</td>\n",
       "      <td>387</td>\n",
       "      <td>386</td>\n",
       "      <td>0</td>\n",
       "    </tr>\n",
       "  </tbody>\n",
       "</table>\n",
       "</div>"
      ],
      "text/plain": [
       "trimestre       1      2      3      4\n",
       "convertion                            \n",
       "0           10567  10816  10970  11429\n",
       "1             369    387    386      0"
      ]
     },
     "execution_count": 10,
     "metadata": {},
     "output_type": "execute_result"
    }
   ],
   "source": [
    "pageview['convertion'] = pageview['convertion'].fillna(0)\n",
    "pd.crosstab(\n",
    "    pageview['convertion'], pageview['trimestre']\n",
    ")"
   ]
  },
  {
   "cell_type": "code",
   "execution_count": 11,
   "id": "9300c901-9c6f-48e9-a5cc-44667d1674cc",
   "metadata": {},
   "outputs": [
    {
     "data": {
      "text/html": [
       "<div>\n",
       "<style scoped>\n",
       "    .dataframe tbody tr th:only-of-type {\n",
       "        vertical-align: middle;\n",
       "    }\n",
       "\n",
       "    .dataframe tbody tr th {\n",
       "        vertical-align: top;\n",
       "    }\n",
       "\n",
       "    .dataframe thead th {\n",
       "        text-align: right;\n",
       "    }\n",
       "</style>\n",
       "<table border=\"1\" class=\"dataframe\">\n",
       "  <thead>\n",
       "    <tr style=\"text-align: right;\">\n",
       "      <th>trimestre</th>\n",
       "      <th>1</th>\n",
       "      <th>2</th>\n",
       "      <th>3</th>\n",
       "      <th>4</th>\n",
       "    </tr>\n",
       "    <tr>\n",
       "      <th>hizo_conversion_este_mes</th>\n",
       "      <th></th>\n",
       "      <th></th>\n",
       "      <th></th>\n",
       "      <th></th>\n",
       "    </tr>\n",
       "  </thead>\n",
       "  <tbody>\n",
       "    <tr>\n",
       "      <th>0</th>\n",
       "      <td>10690</td>\n",
       "      <td>10829</td>\n",
       "      <td>10964</td>\n",
       "      <td>11038</td>\n",
       "    </tr>\n",
       "    <tr>\n",
       "      <th>1</th>\n",
       "      <td>246</td>\n",
       "      <td>374</td>\n",
       "      <td>392</td>\n",
       "      <td>391</td>\n",
       "    </tr>\n",
       "  </tbody>\n",
       "</table>\n",
       "</div>"
      ],
      "text/plain": [
       "trimestre                     1      2      3      4\n",
       "hizo_conversion_este_mes                            \n",
       "0                         10690  10829  10964  11038\n",
       "1                           246    374    392    391"
      ]
     },
     "execution_count": 11,
     "metadata": {},
     "output_type": "execute_result"
    }
   ],
   "source": [
    "pageview['hizo_conversion_este_mes'] = pageview['hizo_conversion_este_mes'].fillna(0)\n",
    "pd.crosstab(\n",
    "    pageview['hizo_conversion_este_mes'], pageview['trimestre']\n",
    ")"
   ]
  },
  {
   "cell_type": "code",
   "execution_count": 12,
   "id": "91dd0b86-a639-4137-9a1d-0bf672f11875",
   "metadata": {},
   "outputs": [
    {
     "data": {
      "text/html": [
       "<div>\n",
       "<style scoped>\n",
       "    .dataframe tbody tr th:only-of-type {\n",
       "        vertical-align: middle;\n",
       "    }\n",
       "\n",
       "    .dataframe tbody tr th {\n",
       "        vertical-align: top;\n",
       "    }\n",
       "\n",
       "    .dataframe thead th {\n",
       "        text-align: right;\n",
       "    }\n",
       "</style>\n",
       "<table border=\"1\" class=\"dataframe\">\n",
       "  <thead>\n",
       "    <tr style=\"text-align: right;\">\n",
       "      <th>trimestre</th>\n",
       "      <th>1</th>\n",
       "      <th>2</th>\n",
       "      <th>3</th>\n",
       "      <th>4</th>\n",
       "    </tr>\n",
       "    <tr>\n",
       "      <th>hizo_conversion_trim_pasado</th>\n",
       "      <th></th>\n",
       "      <th></th>\n",
       "      <th></th>\n",
       "      <th></th>\n",
       "    </tr>\n",
       "  </thead>\n",
       "  <tbody>\n",
       "    <tr>\n",
       "      <th>0</th>\n",
       "      <td>10936</td>\n",
       "      <td>10957</td>\n",
       "      <td>10982</td>\n",
       "      <td>11037</td>\n",
       "    </tr>\n",
       "    <tr>\n",
       "      <th>1</th>\n",
       "      <td>0</td>\n",
       "      <td>246</td>\n",
       "      <td>374</td>\n",
       "      <td>392</td>\n",
       "    </tr>\n",
       "  </tbody>\n",
       "</table>\n",
       "</div>"
      ],
      "text/plain": [
       "trimestre                        1      2      3      4\n",
       "hizo_conversion_trim_pasado                            \n",
       "0                            10936  10957  10982  11037\n",
       "1                                0    246    374    392"
      ]
     },
     "execution_count": 12,
     "metadata": {},
     "output_type": "execute_result"
    }
   ],
   "source": [
    "pageview['hizo_conversion_trim_pasado'] = pageview['hizo_conversion_trim_pasado'].fillna(0)\n",
    "pd.crosstab(\n",
    "    pageview['hizo_conversion_trim_pasado'], pageview['trimestre']\n",
    ")"
   ]
  },
  {
   "cell_type": "code",
   "execution_count": 13,
   "id": "c15ffe80-1bf2-4a5c-80c4-5f3bc128bcec",
   "metadata": {},
   "outputs": [
    {
     "data": {
      "text/html": [
       "<div>\n",
       "<style scoped>\n",
       "    .dataframe tbody tr th:only-of-type {\n",
       "        vertical-align: middle;\n",
       "    }\n",
       "\n",
       "    .dataframe tbody tr th {\n",
       "        vertical-align: top;\n",
       "    }\n",
       "\n",
       "    .dataframe thead th {\n",
       "        text-align: right;\n",
       "    }\n",
       "</style>\n",
       "<table border=\"1\" class=\"dataframe\">\n",
       "  <thead>\n",
       "    <tr style=\"text-align: right;\">\n",
       "      <th>trimestre</th>\n",
       "      <th>1</th>\n",
       "      <th>2</th>\n",
       "      <th>3</th>\n",
       "      <th>4</th>\n",
       "    </tr>\n",
       "    <tr>\n",
       "      <th>2_conversiones_seguidas</th>\n",
       "      <th></th>\n",
       "      <th></th>\n",
       "      <th></th>\n",
       "      <th></th>\n",
       "    </tr>\n",
       "  </thead>\n",
       "  <tbody>\n",
       "    <tr>\n",
       "      <th>0</th>\n",
       "      <td>10936</td>\n",
       "      <td>11145</td>\n",
       "      <td>11268</td>\n",
       "      <td>11335</td>\n",
       "    </tr>\n",
       "    <tr>\n",
       "      <th>1</th>\n",
       "      <td>0</td>\n",
       "      <td>58</td>\n",
       "      <td>88</td>\n",
       "      <td>94</td>\n",
       "    </tr>\n",
       "  </tbody>\n",
       "</table>\n",
       "</div>"
      ],
      "text/plain": [
       "trimestre                    1      2      3      4\n",
       "2_conversiones_seguidas                            \n",
       "0                        10936  11145  11268  11335\n",
       "1                            0     58     88     94"
      ]
     },
     "execution_count": 13,
     "metadata": {},
     "output_type": "execute_result"
    }
   ],
   "source": [
    "pageview['2_conversiones_seguidas'] = pageview[['hizo_conversion_este_mes', 'hizo_conversion_trim_pasado']].apply(\n",
    "    lambda _: _[0] == 1 and _[1] == 1, axis=1\n",
    ").astype(int)\n",
    "\n",
    "pd.crosstab(\n",
    "    pageview['2_conversiones_seguidas']  , pageview['trimestre']\n",
    ")"
   ]
  },
  {
   "cell_type": "code",
   "execution_count": 14,
   "id": "98ea264c-de6d-4c0a-b13e-50536b44407b",
   "metadata": {},
   "outputs": [
    {
     "data": {
      "text/plain": [
       "trimestre    int64\n",
       "USER_ID      int64\n",
       "dtype: object"
      ]
     },
     "execution_count": 14,
     "metadata": {},
     "output_type": "execute_result"
    }
   ],
   "source": [
    "pageview.dtypes.head(2)"
   ]
  },
  {
   "cell_type": "code",
   "execution_count": null,
   "id": "a8b37f7f-15d6-477a-915b-578770ecd19d",
   "metadata": {},
   "outputs": [],
   "source": []
  },
  {
   "cell_type": "code",
   "execution_count": null,
   "id": "7566641c-f037-44f6-a3d9-7269a8d68d34",
   "metadata": {},
   "outputs": [],
   "source": []
  },
  {
   "cell_type": "markdown",
   "id": "e624f109-a8bf-4257-8bbe-4e2dea5e51ed",
   "metadata": {},
   "source": [
    "### SPEED"
   ]
  },
  {
   "cell_type": "code",
   "execution_count": 15,
   "id": "9d3aaeea-a427-4107-902e-2a839b884c71",
   "metadata": {},
   "outputs": [
    {
     "name": "stdout",
     "output_type": "stream",
     "text": [
      "(44893, 6)\n"
     ]
    },
    {
     "data": {
      "text/html": [
       "<div>\n",
       "<style scoped>\n",
       "    .dataframe tbody tr th:only-of-type {\n",
       "        vertical-align: middle;\n",
       "    }\n",
       "\n",
       "    .dataframe tbody tr th {\n",
       "        vertical-align: top;\n",
       "    }\n",
       "\n",
       "    .dataframe thead th {\n",
       "        text-align: right;\n",
       "    }\n",
       "</style>\n",
       "<table border=\"1\" class=\"dataframe\">\n",
       "  <thead>\n",
       "    <tr style=\"text-align: right;\">\n",
       "      <th></th>\n",
       "      <th>trimestre</th>\n",
       "      <th>USER_ID</th>\n",
       "      <th>speed_0</th>\n",
       "      <th>speed_1</th>\n",
       "      <th>speed_2</th>\n",
       "      <th>speed_3</th>\n",
       "    </tr>\n",
       "  </thead>\n",
       "  <tbody>\n",
       "    <tr>\n",
       "      <th>0</th>\n",
       "      <td>4</td>\n",
       "      <td>0</td>\n",
       "      <td>0.017857</td>\n",
       "      <td>0.437500</td>\n",
       "      <td>0.000000</td>\n",
       "      <td>0.544643</td>\n",
       "    </tr>\n",
       "    <tr>\n",
       "      <th>1</th>\n",
       "      <td>4</td>\n",
       "      <td>1</td>\n",
       "      <td>0.644068</td>\n",
       "      <td>0.254237</td>\n",
       "      <td>0.101695</td>\n",
       "      <td>0.000000</td>\n",
       "    </tr>\n",
       "    <tr>\n",
       "      <th>2</th>\n",
       "      <td>4</td>\n",
       "      <td>2</td>\n",
       "      <td>0.000000</td>\n",
       "      <td>0.621622</td>\n",
       "      <td>0.162162</td>\n",
       "      <td>0.216216</td>\n",
       "    </tr>\n",
       "    <tr>\n",
       "      <th>3</th>\n",
       "      <td>4</td>\n",
       "      <td>3</td>\n",
       "      <td>0.000000</td>\n",
       "      <td>0.964912</td>\n",
       "      <td>0.035088</td>\n",
       "      <td>0.000000</td>\n",
       "    </tr>\n",
       "    <tr>\n",
       "      <th>4</th>\n",
       "      <td>4</td>\n",
       "      <td>4</td>\n",
       "      <td>0.000000</td>\n",
       "      <td>0.833333</td>\n",
       "      <td>0.166667</td>\n",
       "      <td>0.000000</td>\n",
       "    </tr>\n",
       "  </tbody>\n",
       "</table>\n",
       "</div>"
      ],
      "text/plain": [
       "   trimestre  USER_ID   speed_0   speed_1   speed_2   speed_3\n",
       "0          4        0  0.017857  0.437500  0.000000  0.544643\n",
       "1          4        1  0.644068  0.254237  0.101695  0.000000\n",
       "2          4        2  0.000000  0.621622  0.162162  0.216216\n",
       "3          4        3  0.000000  0.964912  0.035088  0.000000\n",
       "4          4        4  0.000000  0.833333  0.166667  0.000000"
      ]
     },
     "execution_count": 15,
     "metadata": {},
     "output_type": "execute_result"
    }
   ],
   "source": [
    "spped = pd.read_csv('speed_trimestral_percent.csv')\n",
    "print(spped.shape)\n",
    "\n",
    "spped.head()"
   ]
  },
  {
   "cell_type": "code",
   "execution_count": 16,
   "id": "c04ee76e-b336-425e-8785-528eb1452453",
   "metadata": {},
   "outputs": [
    {
     "name": "stdout",
     "output_type": "stream",
     "text": [
      "(44924, 4083)\n",
      "(44924, 4087)\n"
     ]
    }
   ],
   "source": [
    "print(pageview.shape)\n",
    "pageview = pageview.merge(spped, how='left', on=[\"trimestre\", \"USER_ID\"])\n",
    "print(pageview.shape)"
   ]
  },
  {
   "cell_type": "code",
   "execution_count": 17,
   "id": "2c7d1e6b-5fef-4407-9887-c75c57192d3c",
   "metadata": {},
   "outputs": [],
   "source": [
    "del spped"
   ]
  },
  {
   "cell_type": "code",
   "execution_count": null,
   "id": "163dd4d8-c974-40c6-9c0d-95ebfc92d608",
   "metadata": {},
   "outputs": [],
   "source": []
  },
  {
   "cell_type": "markdown",
   "id": "8f2b53a1-1031-437b-808a-8d04c5db9d80",
   "metadata": {},
   "source": [
    "### DEVICE"
   ]
  },
  {
   "cell_type": "code",
   "execution_count": 18,
   "id": "ea261e19-380b-4f6e-aa47-5cb2ddac697f",
   "metadata": {},
   "outputs": [
    {
     "name": "stdout",
     "output_type": "stream",
     "text": [
      "(44893, 4)\n"
     ]
    },
    {
     "data": {
      "text/html": [
       "<div>\n",
       "<style scoped>\n",
       "    .dataframe tbody tr th:only-of-type {\n",
       "        vertical-align: middle;\n",
       "    }\n",
       "\n",
       "    .dataframe tbody tr th {\n",
       "        vertical-align: top;\n",
       "    }\n",
       "\n",
       "    .dataframe thead th {\n",
       "        text-align: right;\n",
       "    }\n",
       "</style>\n",
       "<table border=\"1\" class=\"dataframe\">\n",
       "  <thead>\n",
       "    <tr style=\"text-align: right;\">\n",
       "      <th></th>\n",
       "      <th>trimestre</th>\n",
       "      <th>USER_ID</th>\n",
       "      <th>device_0</th>\n",
       "      <th>device_1</th>\n",
       "    </tr>\n",
       "  </thead>\n",
       "  <tbody>\n",
       "    <tr>\n",
       "      <th>0</th>\n",
       "      <td>4</td>\n",
       "      <td>0</td>\n",
       "      <td>0.000000</td>\n",
       "      <td>1.000000</td>\n",
       "    </tr>\n",
       "    <tr>\n",
       "      <th>1</th>\n",
       "      <td>4</td>\n",
       "      <td>1</td>\n",
       "      <td>0.152542</td>\n",
       "      <td>0.847458</td>\n",
       "    </tr>\n",
       "    <tr>\n",
       "      <th>2</th>\n",
       "      <td>4</td>\n",
       "      <td>2</td>\n",
       "      <td>0.256757</td>\n",
       "      <td>0.743243</td>\n",
       "    </tr>\n",
       "    <tr>\n",
       "      <th>3</th>\n",
       "      <td>4</td>\n",
       "      <td>3</td>\n",
       "      <td>0.087719</td>\n",
       "      <td>0.912281</td>\n",
       "    </tr>\n",
       "    <tr>\n",
       "      <th>4</th>\n",
       "      <td>4</td>\n",
       "      <td>4</td>\n",
       "      <td>0.958333</td>\n",
       "      <td>0.041667</td>\n",
       "    </tr>\n",
       "  </tbody>\n",
       "</table>\n",
       "</div>"
      ],
      "text/plain": [
       "   trimestre  USER_ID  device_0  device_1\n",
       "0          4        0  0.000000  1.000000\n",
       "1          4        1  0.152542  0.847458\n",
       "2          4        2  0.256757  0.743243\n",
       "3          4        3  0.087719  0.912281\n",
       "4          4        4  0.958333  0.041667"
      ]
     },
     "execution_count": 18,
     "metadata": {},
     "output_type": "execute_result"
    }
   ],
   "source": [
    "device = pd.read_csv('device_trimestral_percent.csv')\n",
    "print(device.shape)\n",
    "\n",
    "device.head()"
   ]
  },
  {
   "cell_type": "code",
   "execution_count": 19,
   "id": "40624fe0-de1e-43ac-b9ea-19ffd7aee4f9",
   "metadata": {},
   "outputs": [
    {
     "name": "stdout",
     "output_type": "stream",
     "text": [
      "(44924, 4087)\n",
      "(44924, 4089)\n"
     ]
    }
   ],
   "source": [
    "print(pageview.shape)\n",
    "pageview = pageview.merge(device, how='left', on=[\"trimestre\", \"USER_ID\"])\n",
    "print(pageview.shape)"
   ]
  },
  {
   "cell_type": "code",
   "execution_count": 20,
   "id": "96b5210a-f1dc-4ea3-a1ee-53294eef196b",
   "metadata": {},
   "outputs": [],
   "source": [
    "del device"
   ]
  },
  {
   "cell_type": "code",
   "execution_count": null,
   "id": "e0bb630f-8df6-474d-987e-43d8212fb2c4",
   "metadata": {},
   "outputs": [],
   "source": []
  },
  {
   "cell_type": "markdown",
   "id": "3f6ebb64-3d70-4859-ad2c-14f628004785",
   "metadata": {},
   "source": [
    "### SITE_ID"
   ]
  },
  {
   "cell_type": "code",
   "execution_count": 21,
   "id": "3e3153e8-8a25-4271-b280-b9beafa0253b",
   "metadata": {},
   "outputs": [
    {
     "name": "stdout",
     "output_type": "stream",
     "text": [
      "(44924, 6)\n"
     ]
    },
    {
     "data": {
      "text/html": [
       "<div>\n",
       "<style scoped>\n",
       "    .dataframe tbody tr th:only-of-type {\n",
       "        vertical-align: middle;\n",
       "    }\n",
       "\n",
       "    .dataframe tbody tr th {\n",
       "        vertical-align: top;\n",
       "    }\n",
       "\n",
       "    .dataframe thead th {\n",
       "        text-align: right;\n",
       "    }\n",
       "</style>\n",
       "<table border=\"1\" class=\"dataframe\">\n",
       "  <thead>\n",
       "    <tr style=\"text-align: right;\">\n",
       "      <th></th>\n",
       "      <th>trimestre</th>\n",
       "      <th>USER_ID</th>\n",
       "      <th>1</th>\n",
       "      <th>2</th>\n",
       "      <th>3</th>\n",
       "      <th>4</th>\n",
       "    </tr>\n",
       "  </thead>\n",
       "  <tbody>\n",
       "    <tr>\n",
       "      <th>0</th>\n",
       "      <td>1</td>\n",
       "      <td>0</td>\n",
       "      <td>0.065725</td>\n",
       "      <td>0.840304</td>\n",
       "      <td>0.093971</td>\n",
       "      <td>0.00000</td>\n",
       "    </tr>\n",
       "    <tr>\n",
       "      <th>1</th>\n",
       "      <td>1</td>\n",
       "      <td>1</td>\n",
       "      <td>0.131621</td>\n",
       "      <td>0.775281</td>\n",
       "      <td>0.093098</td>\n",
       "      <td>0.00000</td>\n",
       "    </tr>\n",
       "    <tr>\n",
       "      <th>2</th>\n",
       "      <td>1</td>\n",
       "      <td>2</td>\n",
       "      <td>0.245823</td>\n",
       "      <td>0.467780</td>\n",
       "      <td>0.286396</td>\n",
       "      <td>0.00000</td>\n",
       "    </tr>\n",
       "    <tr>\n",
       "      <th>3</th>\n",
       "      <td>1</td>\n",
       "      <td>3</td>\n",
       "      <td>0.132948</td>\n",
       "      <td>0.820809</td>\n",
       "      <td>0.046243</td>\n",
       "      <td>0.00000</td>\n",
       "    </tr>\n",
       "    <tr>\n",
       "      <th>4</th>\n",
       "      <td>1</td>\n",
       "      <td>4</td>\n",
       "      <td>0.044496</td>\n",
       "      <td>0.640125</td>\n",
       "      <td>0.302888</td>\n",
       "      <td>0.01249</td>\n",
       "    </tr>\n",
       "  </tbody>\n",
       "</table>\n",
       "</div>"
      ],
      "text/plain": [
       "   trimestre  USER_ID         1         2         3        4\n",
       "0          1        0  0.065725  0.840304  0.093971  0.00000\n",
       "1          1        1  0.131621  0.775281  0.093098  0.00000\n",
       "2          1        2  0.245823  0.467780  0.286396  0.00000\n",
       "3          1        3  0.132948  0.820809  0.046243  0.00000\n",
       "4          1        4  0.044496  0.640125  0.302888  0.01249"
      ]
     },
     "execution_count": 21,
     "metadata": {},
     "output_type": "execute_result"
    }
   ],
   "source": [
    "site_id = pd.read_csv('site_id_trimestral_percent.csv')\n",
    "print(site_id.shape)\n",
    "\n",
    "site_id.head()"
   ]
  },
  {
   "cell_type": "code",
   "execution_count": 22,
   "id": "142c4d96-6769-4f6c-a19c-45214b1e9dec",
   "metadata": {},
   "outputs": [
    {
     "name": "stdout",
     "output_type": "stream",
     "text": [
      "(44924, 4089)\n",
      "(44924, 4093)\n"
     ]
    }
   ],
   "source": [
    "print(pageview.shape)\n",
    "pageview = pageview.merge(site_id, how='left', on=[\"trimestre\", \"USER_ID\"])\n",
    "print(pageview.shape)"
   ]
  },
  {
   "cell_type": "code",
   "execution_count": 23,
   "id": "4997b532-719a-4f57-8ac9-d173cd336ed1",
   "metadata": {},
   "outputs": [],
   "source": [
    "del site_id"
   ]
  },
  {
   "cell_type": "code",
   "execution_count": null,
   "id": "44873790-0b0d-4a3e-b52b-ca2f52ef2646",
   "metadata": {},
   "outputs": [],
   "source": []
  },
  {
   "cell_type": "markdown",
   "id": "8de519e9-b409-41fa-8fc5-f0bf3851ca40",
   "metadata": {},
   "source": [
    "### SCHEDULE"
   ]
  },
  {
   "cell_type": "code",
   "execution_count": 24,
   "id": "86820435-7590-4644-856a-e4f61987d1bc",
   "metadata": {},
   "outputs": [
    {
     "name": "stdout",
     "output_type": "stream",
     "text": [
      "(44924, 44)\n"
     ]
    },
    {
     "data": {
      "text/html": [
       "<div>\n",
       "<style scoped>\n",
       "    .dataframe tbody tr th:only-of-type {\n",
       "        vertical-align: middle;\n",
       "    }\n",
       "\n",
       "    .dataframe tbody tr th {\n",
       "        vertical-align: top;\n",
       "    }\n",
       "\n",
       "    .dataframe thead th {\n",
       "        text-align: right;\n",
       "    }\n",
       "</style>\n",
       "<table border=\"1\" class=\"dataframe\">\n",
       "  <thead>\n",
       "    <tr style=\"text-align: right;\">\n",
       "      <th></th>\n",
       "      <th>trimestre</th>\n",
       "      <th>USER_ID</th>\n",
       "      <th>0_almuerzo</th>\n",
       "      <th>0_antes_del_trabajo</th>\n",
       "      <th>0_luego_del_trabajo</th>\n",
       "      <th>0_madrugada</th>\n",
       "      <th>0_trabajo_manana</th>\n",
       "      <th>0_trabajo_tarde</th>\n",
       "      <th>1_almuerzo</th>\n",
       "      <th>1_antes_del_trabajo</th>\n",
       "      <th>...</th>\n",
       "      <th>5_luego_del_trabajo</th>\n",
       "      <th>5_madrugada</th>\n",
       "      <th>5_trabajo_manana</th>\n",
       "      <th>5_trabajo_tarde</th>\n",
       "      <th>6_almuerzo</th>\n",
       "      <th>6_antes_del_trabajo</th>\n",
       "      <th>6_luego_del_trabajo</th>\n",
       "      <th>6_madrugada</th>\n",
       "      <th>6_trabajo_manana</th>\n",
       "      <th>6_trabajo_tarde</th>\n",
       "    </tr>\n",
       "  </thead>\n",
       "  <tbody>\n",
       "    <tr>\n",
       "      <th>0</th>\n",
       "      <td>1</td>\n",
       "      <td>0</td>\n",
       "      <td>0.022271</td>\n",
       "      <td>0.013580</td>\n",
       "      <td>0.031505</td>\n",
       "      <td>0.000000</td>\n",
       "      <td>0.097230</td>\n",
       "      <td>0.009234</td>\n",
       "      <td>0.024986</td>\n",
       "      <td>0.002716</td>\n",
       "      <td>...</td>\n",
       "      <td>0.012493</td>\n",
       "      <td>0.000000</td>\n",
       "      <td>0.015209</td>\n",
       "      <td>0.019555</td>\n",
       "      <td>0.003259</td>\n",
       "      <td>0.0</td>\n",
       "      <td>0.000000</td>\n",
       "      <td>0.000000</td>\n",
       "      <td>0.006518</td>\n",
       "      <td>0.013580</td>\n",
       "    </tr>\n",
       "    <tr>\n",
       "      <th>1</th>\n",
       "      <td>1</td>\n",
       "      <td>1</td>\n",
       "      <td>0.085072</td>\n",
       "      <td>0.000000</td>\n",
       "      <td>0.000000</td>\n",
       "      <td>0.000000</td>\n",
       "      <td>0.060995</td>\n",
       "      <td>0.000000</td>\n",
       "      <td>0.012841</td>\n",
       "      <td>0.000000</td>\n",
       "      <td>...</td>\n",
       "      <td>0.020867</td>\n",
       "      <td>0.000000</td>\n",
       "      <td>0.030498</td>\n",
       "      <td>0.000000</td>\n",
       "      <td>0.017657</td>\n",
       "      <td>0.0</td>\n",
       "      <td>0.019262</td>\n",
       "      <td>0.000000</td>\n",
       "      <td>0.035313</td>\n",
       "      <td>0.000000</td>\n",
       "    </tr>\n",
       "    <tr>\n",
       "      <th>2</th>\n",
       "      <td>1</td>\n",
       "      <td>2</td>\n",
       "      <td>0.221957</td>\n",
       "      <td>0.000000</td>\n",
       "      <td>0.009547</td>\n",
       "      <td>0.000000</td>\n",
       "      <td>0.050119</td>\n",
       "      <td>0.000000</td>\n",
       "      <td>0.073986</td>\n",
       "      <td>0.000000</td>\n",
       "      <td>...</td>\n",
       "      <td>0.000000</td>\n",
       "      <td>0.000000</td>\n",
       "      <td>0.014320</td>\n",
       "      <td>0.000000</td>\n",
       "      <td>0.000000</td>\n",
       "      <td>0.0</td>\n",
       "      <td>0.000000</td>\n",
       "      <td>0.000000</td>\n",
       "      <td>0.009547</td>\n",
       "      <td>0.000000</td>\n",
       "    </tr>\n",
       "    <tr>\n",
       "      <th>3</th>\n",
       "      <td>1</td>\n",
       "      <td>3</td>\n",
       "      <td>0.086705</td>\n",
       "      <td>0.000000</td>\n",
       "      <td>0.005780</td>\n",
       "      <td>0.000000</td>\n",
       "      <td>0.046243</td>\n",
       "      <td>0.092486</td>\n",
       "      <td>0.028902</td>\n",
       "      <td>0.000000</td>\n",
       "      <td>...</td>\n",
       "      <td>0.000000</td>\n",
       "      <td>0.023121</td>\n",
       "      <td>0.011561</td>\n",
       "      <td>0.052023</td>\n",
       "      <td>0.005780</td>\n",
       "      <td>0.0</td>\n",
       "      <td>0.011561</td>\n",
       "      <td>0.000000</td>\n",
       "      <td>0.031792</td>\n",
       "      <td>0.014451</td>\n",
       "    </tr>\n",
       "    <tr>\n",
       "      <th>4</th>\n",
       "      <td>1</td>\n",
       "      <td>4</td>\n",
       "      <td>0.092116</td>\n",
       "      <td>0.031226</td>\n",
       "      <td>0.017955</td>\n",
       "      <td>0.044496</td>\n",
       "      <td>0.032006</td>\n",
       "      <td>0.008587</td>\n",
       "      <td>0.013271</td>\n",
       "      <td>0.008587</td>\n",
       "      <td>...</td>\n",
       "      <td>0.018735</td>\n",
       "      <td>0.005464</td>\n",
       "      <td>0.003123</td>\n",
       "      <td>0.002342</td>\n",
       "      <td>0.000000</td>\n",
       "      <td>0.0</td>\n",
       "      <td>0.003903</td>\n",
       "      <td>0.017174</td>\n",
       "      <td>0.007806</td>\n",
       "      <td>0.006245</td>\n",
       "    </tr>\n",
       "  </tbody>\n",
       "</table>\n",
       "<p>5 rows × 44 columns</p>\n",
       "</div>"
      ],
      "text/plain": [
       "   trimestre  USER_ID  0_almuerzo  0_antes_del_trabajo  0_luego_del_trabajo  \\\n",
       "0          1        0    0.022271             0.013580             0.031505   \n",
       "1          1        1    0.085072             0.000000             0.000000   \n",
       "2          1        2    0.221957             0.000000             0.009547   \n",
       "3          1        3    0.086705             0.000000             0.005780   \n",
       "4          1        4    0.092116             0.031226             0.017955   \n",
       "\n",
       "   0_madrugada  0_trabajo_manana  0_trabajo_tarde  1_almuerzo  \\\n",
       "0     0.000000          0.097230         0.009234    0.024986   \n",
       "1     0.000000          0.060995         0.000000    0.012841   \n",
       "2     0.000000          0.050119         0.000000    0.073986   \n",
       "3     0.000000          0.046243         0.092486    0.028902   \n",
       "4     0.044496          0.032006         0.008587    0.013271   \n",
       "\n",
       "   1_antes_del_trabajo  ...  5_luego_del_trabajo  5_madrugada  \\\n",
       "0             0.002716  ...             0.012493     0.000000   \n",
       "1             0.000000  ...             0.020867     0.000000   \n",
       "2             0.000000  ...             0.000000     0.000000   \n",
       "3             0.000000  ...             0.000000     0.023121   \n",
       "4             0.008587  ...             0.018735     0.005464   \n",
       "\n",
       "   5_trabajo_manana  5_trabajo_tarde  6_almuerzo  6_antes_del_trabajo  \\\n",
       "0          0.015209         0.019555    0.003259                  0.0   \n",
       "1          0.030498         0.000000    0.017657                  0.0   \n",
       "2          0.014320         0.000000    0.000000                  0.0   \n",
       "3          0.011561         0.052023    0.005780                  0.0   \n",
       "4          0.003123         0.002342    0.000000                  0.0   \n",
       "\n",
       "   6_luego_del_trabajo  6_madrugada  6_trabajo_manana  6_trabajo_tarde  \n",
       "0             0.000000     0.000000          0.006518         0.013580  \n",
       "1             0.019262     0.000000          0.035313         0.000000  \n",
       "2             0.000000     0.000000          0.009547         0.000000  \n",
       "3             0.011561     0.000000          0.031792         0.014451  \n",
       "4             0.003903     0.017174          0.007806         0.006245  \n",
       "\n",
       "[5 rows x 44 columns]"
      ]
     },
     "execution_count": 24,
     "metadata": {},
     "output_type": "execute_result"
    }
   ],
   "source": [
    "schedule = pd.read_csv('schedule_trimestral_percent.csv')\n",
    "print(schedule.shape)\n",
    "\n",
    "schedule.head()"
   ]
  },
  {
   "cell_type": "code",
   "execution_count": 25,
   "id": "71a077e9-dfdc-4ecf-a1eb-7319c2e24f22",
   "metadata": {},
   "outputs": [
    {
     "name": "stdout",
     "output_type": "stream",
     "text": [
      "(44924, 4093)\n",
      "(44924, 4135)\n"
     ]
    }
   ],
   "source": [
    "print(pageview.shape)\n",
    "pageview = pageview.merge(schedule, how='left', on=[\"trimestre\", \"USER_ID\"])\n",
    "print(pageview.shape)"
   ]
  },
  {
   "cell_type": "code",
   "execution_count": 26,
   "id": "bccde0a2-ad32-47c3-9778-89ec8b98fed1",
   "metadata": {},
   "outputs": [],
   "source": [
    "del schedule"
   ]
  },
  {
   "cell_type": "code",
   "execution_count": null,
   "id": "a04d36ca-1471-44ac-8904-68c53aa738a7",
   "metadata": {},
   "outputs": [],
   "source": []
  },
  {
   "cell_type": "markdown",
   "id": "8afa202f-98fd-4291-95dd-1638df33b57c",
   "metadata": {},
   "source": [
    "### RANGO DÍAS"
   ]
  },
  {
   "cell_type": "code",
   "execution_count": 27,
   "id": "9b0c8766-3375-4256-b0bb-566eb97186ac",
   "metadata": {},
   "outputs": [
    {
     "name": "stdout",
     "output_type": "stream",
     "text": [
      "(44924, 7)\n"
     ]
    },
    {
     "data": {
      "text/html": [
       "<div>\n",
       "<style scoped>\n",
       "    .dataframe tbody tr th:only-of-type {\n",
       "        vertical-align: middle;\n",
       "    }\n",
       "\n",
       "    .dataframe tbody tr th {\n",
       "        vertical-align: top;\n",
       "    }\n",
       "\n",
       "    .dataframe thead th {\n",
       "        text-align: right;\n",
       "    }\n",
       "</style>\n",
       "<table border=\"1\" class=\"dataframe\">\n",
       "  <thead>\n",
       "    <tr style=\"text-align: right;\">\n",
       "      <th></th>\n",
       "      <th>trimestre</th>\n",
       "      <th>USER_ID</th>\n",
       "      <th>18_24</th>\n",
       "      <th>7_12</th>\n",
       "      <th>fin_de_mes</th>\n",
       "      <th>inicio_mes</th>\n",
       "      <th>quincena</th>\n",
       "    </tr>\n",
       "  </thead>\n",
       "  <tbody>\n",
       "    <tr>\n",
       "      <th>0</th>\n",
       "      <td>1</td>\n",
       "      <td>0</td>\n",
       "      <td>0.146116</td>\n",
       "      <td>0.228680</td>\n",
       "      <td>0.143400</td>\n",
       "      <td>0.356871</td>\n",
       "      <td>0.124932</td>\n",
       "    </tr>\n",
       "    <tr>\n",
       "      <th>1</th>\n",
       "      <td>1</td>\n",
       "      <td>1</td>\n",
       "      <td>0.199037</td>\n",
       "      <td>0.174960</td>\n",
       "      <td>0.227929</td>\n",
       "      <td>0.231140</td>\n",
       "      <td>0.166934</td>\n",
       "    </tr>\n",
       "    <tr>\n",
       "      <th>2</th>\n",
       "      <td>1</td>\n",
       "      <td>2</td>\n",
       "      <td>0.224344</td>\n",
       "      <td>0.350835</td>\n",
       "      <td>0.119332</td>\n",
       "      <td>0.121718</td>\n",
       "      <td>0.183771</td>\n",
       "    </tr>\n",
       "    <tr>\n",
       "      <th>3</th>\n",
       "      <td>1</td>\n",
       "      <td>3</td>\n",
       "      <td>0.147399</td>\n",
       "      <td>0.167630</td>\n",
       "      <td>0.187861</td>\n",
       "      <td>0.268786</td>\n",
       "      <td>0.228324</td>\n",
       "    </tr>\n",
       "    <tr>\n",
       "      <th>4</th>\n",
       "      <td>1</td>\n",
       "      <td>4</td>\n",
       "      <td>0.167838</td>\n",
       "      <td>0.530835</td>\n",
       "      <td>0.074941</td>\n",
       "      <td>0.155347</td>\n",
       "      <td>0.071038</td>\n",
       "    </tr>\n",
       "  </tbody>\n",
       "</table>\n",
       "</div>"
      ],
      "text/plain": [
       "   trimestre  USER_ID     18_24      7_12  fin_de_mes  inicio_mes  quincena\n",
       "0          1        0  0.146116  0.228680    0.143400    0.356871  0.124932\n",
       "1          1        1  0.199037  0.174960    0.227929    0.231140  0.166934\n",
       "2          1        2  0.224344  0.350835    0.119332    0.121718  0.183771\n",
       "3          1        3  0.147399  0.167630    0.187861    0.268786  0.228324\n",
       "4          1        4  0.167838  0.530835    0.074941    0.155347  0.071038"
      ]
     },
     "execution_count": 27,
     "metadata": {},
     "output_type": "execute_result"
    }
   ],
   "source": [
    "dias = pd.read_csv('rango_dias_trimestral_percent.csv')\n",
    "print(dias.shape)\n",
    "\n",
    "dias.head()"
   ]
  },
  {
   "cell_type": "code",
   "execution_count": 28,
   "id": "917aad08-12a2-4f2f-92d0-52fac7f1ae7d",
   "metadata": {},
   "outputs": [
    {
     "name": "stdout",
     "output_type": "stream",
     "text": [
      "(44924, 4135)\n",
      "(44924, 4140)\n"
     ]
    }
   ],
   "source": [
    "print(pageview.shape)\n",
    "pageview = pageview.merge(dias, how='left', on=[\"trimestre\", \"USER_ID\"])\n",
    "print(pageview.shape)"
   ]
  },
  {
   "cell_type": "code",
   "execution_count": 29,
   "id": "68331ccc-e5c1-4aa0-89af-b77917932767",
   "metadata": {},
   "outputs": [],
   "source": [
    "del dias"
   ]
  },
  {
   "cell_type": "code",
   "execution_count": null,
   "id": "450d2e49-ac0c-47e5-9822-26519be76b5f",
   "metadata": {},
   "outputs": [],
   "source": []
  },
  {
   "cell_type": "markdown",
   "id": "09917162-709e-4a89-9114-79825e561dde",
   "metadata": {},
   "source": [
    "### CATEGORIA DE CONTENIDO"
   ]
  },
  {
   "cell_type": "code",
   "execution_count": 30,
   "id": "4014fee0-a04f-4234-aeb7-5981bcbe976d",
   "metadata": {},
   "outputs": [
    {
     "name": "stdout",
     "output_type": "stream",
     "text": [
      "(44924, 46)\n"
     ]
    },
    {
     "data": {
      "text/html": [
       "<div>\n",
       "<style scoped>\n",
       "    .dataframe tbody tr th:only-of-type {\n",
       "        vertical-align: middle;\n",
       "    }\n",
       "\n",
       "    .dataframe tbody tr th {\n",
       "        vertical-align: top;\n",
       "    }\n",
       "\n",
       "    .dataframe thead th {\n",
       "        text-align: right;\n",
       "    }\n",
       "</style>\n",
       "<table border=\"1\" class=\"dataframe\">\n",
       "  <thead>\n",
       "    <tr style=\"text-align: right;\">\n",
       "      <th></th>\n",
       "      <th>trimestre</th>\n",
       "      <th>USER_ID</th>\n",
       "      <th>10_5</th>\n",
       "      <th>11_4</th>\n",
       "      <th>12_4</th>\n",
       "      <th>13_4</th>\n",
       "      <th>14_5</th>\n",
       "      <th>15_5</th>\n",
       "      <th>16_2</th>\n",
       "      <th>17_2</th>\n",
       "      <th>...</th>\n",
       "      <th>50_5</th>\n",
       "      <th>59_2</th>\n",
       "      <th>5_2</th>\n",
       "      <th>60_2</th>\n",
       "      <th>61_2</th>\n",
       "      <th>63_2</th>\n",
       "      <th>6_4</th>\n",
       "      <th>7_5</th>\n",
       "      <th>8_5</th>\n",
       "      <th>9_4</th>\n",
       "    </tr>\n",
       "  </thead>\n",
       "  <tbody>\n",
       "    <tr>\n",
       "      <th>0</th>\n",
       "      <td>1</td>\n",
       "      <td>0</td>\n",
       "      <td>0.000543</td>\n",
       "      <td>0.000000</td>\n",
       "      <td>0.000000</td>\n",
       "      <td>0.000000</td>\n",
       "      <td>0.000000</td>\n",
       "      <td>0.000000</td>\n",
       "      <td>0.00000</td>\n",
       "      <td>0.000000</td>\n",
       "      <td>...</td>\n",
       "      <td>0.0</td>\n",
       "      <td>0.0</td>\n",
       "      <td>0.005432</td>\n",
       "      <td>0.0</td>\n",
       "      <td>0.0</td>\n",
       "      <td>0.0</td>\n",
       "      <td>0.002716</td>\n",
       "      <td>0.001630</td>\n",
       "      <td>0.000543</td>\n",
       "      <td>0.000543</td>\n",
       "    </tr>\n",
       "    <tr>\n",
       "      <th>1</th>\n",
       "      <td>1</td>\n",
       "      <td>1</td>\n",
       "      <td>0.001605</td>\n",
       "      <td>0.000000</td>\n",
       "      <td>0.000000</td>\n",
       "      <td>0.000000</td>\n",
       "      <td>0.000000</td>\n",
       "      <td>0.000000</td>\n",
       "      <td>0.00000</td>\n",
       "      <td>0.000000</td>\n",
       "      <td>...</td>\n",
       "      <td>0.0</td>\n",
       "      <td>0.0</td>\n",
       "      <td>0.001605</td>\n",
       "      <td>0.0</td>\n",
       "      <td>0.0</td>\n",
       "      <td>0.0</td>\n",
       "      <td>0.004815</td>\n",
       "      <td>0.000000</td>\n",
       "      <td>0.000000</td>\n",
       "      <td>0.000000</td>\n",
       "    </tr>\n",
       "    <tr>\n",
       "      <th>2</th>\n",
       "      <td>1</td>\n",
       "      <td>2</td>\n",
       "      <td>0.002387</td>\n",
       "      <td>0.009547</td>\n",
       "      <td>0.031026</td>\n",
       "      <td>0.019093</td>\n",
       "      <td>0.011933</td>\n",
       "      <td>0.004773</td>\n",
       "      <td>0.00000</td>\n",
       "      <td>0.000000</td>\n",
       "      <td>...</td>\n",
       "      <td>0.0</td>\n",
       "      <td>0.0</td>\n",
       "      <td>0.014320</td>\n",
       "      <td>0.0</td>\n",
       "      <td>0.0</td>\n",
       "      <td>0.0</td>\n",
       "      <td>0.009547</td>\n",
       "      <td>0.002387</td>\n",
       "      <td>0.002387</td>\n",
       "      <td>0.000000</td>\n",
       "    </tr>\n",
       "    <tr>\n",
       "      <th>3</th>\n",
       "      <td>1</td>\n",
       "      <td>3</td>\n",
       "      <td>0.000000</td>\n",
       "      <td>0.000000</td>\n",
       "      <td>0.000000</td>\n",
       "      <td>0.000000</td>\n",
       "      <td>0.000000</td>\n",
       "      <td>0.000000</td>\n",
       "      <td>0.00000</td>\n",
       "      <td>0.000000</td>\n",
       "      <td>...</td>\n",
       "      <td>0.0</td>\n",
       "      <td>0.0</td>\n",
       "      <td>0.011561</td>\n",
       "      <td>0.0</td>\n",
       "      <td>0.0</td>\n",
       "      <td>0.0</td>\n",
       "      <td>0.000000</td>\n",
       "      <td>0.000000</td>\n",
       "      <td>0.000000</td>\n",
       "      <td>0.002890</td>\n",
       "    </tr>\n",
       "    <tr>\n",
       "      <th>4</th>\n",
       "      <td>1</td>\n",
       "      <td>4</td>\n",
       "      <td>0.000000</td>\n",
       "      <td>0.000000</td>\n",
       "      <td>0.000000</td>\n",
       "      <td>0.000781</td>\n",
       "      <td>0.000000</td>\n",
       "      <td>0.000000</td>\n",
       "      <td>0.01171</td>\n",
       "      <td>0.005464</td>\n",
       "      <td>...</td>\n",
       "      <td>0.0</td>\n",
       "      <td>0.0</td>\n",
       "      <td>0.012490</td>\n",
       "      <td>0.0</td>\n",
       "      <td>0.0</td>\n",
       "      <td>0.0</td>\n",
       "      <td>0.009368</td>\n",
       "      <td>0.005464</td>\n",
       "      <td>0.000000</td>\n",
       "      <td>0.001561</td>\n",
       "    </tr>\n",
       "  </tbody>\n",
       "</table>\n",
       "<p>5 rows × 46 columns</p>\n",
       "</div>"
      ],
      "text/plain": [
       "   trimestre  USER_ID      10_5      11_4      12_4      13_4      14_5  \\\n",
       "0          1        0  0.000543  0.000000  0.000000  0.000000  0.000000   \n",
       "1          1        1  0.001605  0.000000  0.000000  0.000000  0.000000   \n",
       "2          1        2  0.002387  0.009547  0.031026  0.019093  0.011933   \n",
       "3          1        3  0.000000  0.000000  0.000000  0.000000  0.000000   \n",
       "4          1        4  0.000000  0.000000  0.000000  0.000781  0.000000   \n",
       "\n",
       "       15_5     16_2      17_2  ...  50_5  59_2       5_2  60_2  61_2  63_2  \\\n",
       "0  0.000000  0.00000  0.000000  ...   0.0   0.0  0.005432   0.0   0.0   0.0   \n",
       "1  0.000000  0.00000  0.000000  ...   0.0   0.0  0.001605   0.0   0.0   0.0   \n",
       "2  0.004773  0.00000  0.000000  ...   0.0   0.0  0.014320   0.0   0.0   0.0   \n",
       "3  0.000000  0.00000  0.000000  ...   0.0   0.0  0.011561   0.0   0.0   0.0   \n",
       "4  0.000000  0.01171  0.005464  ...   0.0   0.0  0.012490   0.0   0.0   0.0   \n",
       "\n",
       "        6_4       7_5       8_5       9_4  \n",
       "0  0.002716  0.001630  0.000543  0.000543  \n",
       "1  0.004815  0.000000  0.000000  0.000000  \n",
       "2  0.009547  0.002387  0.002387  0.000000  \n",
       "3  0.000000  0.000000  0.000000  0.002890  \n",
       "4  0.009368  0.005464  0.000000  0.001561  \n",
       "\n",
       "[5 rows x 46 columns]"
      ]
     },
     "execution_count": 30,
     "metadata": {},
     "output_type": "execute_result"
    }
   ],
   "source": [
    "category = pd.read_csv('content_category_trimestral_percent.csv')\n",
    "print(category.shape)\n",
    "\n",
    "category.head()"
   ]
  },
  {
   "cell_type": "code",
   "execution_count": 31,
   "id": "ec63e3ce-9b32-446b-bf5a-5084340ccdf8",
   "metadata": {},
   "outputs": [
    {
     "name": "stdout",
     "output_type": "stream",
     "text": [
      "(44924, 4140)\n",
      "(44924, 4184)\n"
     ]
    }
   ],
   "source": [
    "print(pageview.shape)\n",
    "pageview = pageview.merge(category, how='left', on=[\"trimestre\", \"USER_ID\"])\n",
    "print(pageview.shape)"
   ]
  },
  {
   "cell_type": "code",
   "execution_count": 32,
   "id": "4998f2e8-7296-476a-a9be-2d1612e5c7ae",
   "metadata": {},
   "outputs": [],
   "source": [
    "del category"
   ]
  },
  {
   "cell_type": "code",
   "execution_count": null,
   "id": "43aa51d9-5019-40a7-9381-c74de9119a9f",
   "metadata": {},
   "outputs": [],
   "source": []
  },
  {
   "cell_type": "markdown",
   "id": "9c5fe829-e1f1-48b2-9aab-2ea81dda91a8",
   "metadata": {},
   "source": [
    "### BUSQUEDA"
   ]
  },
  {
   "cell_type": "code",
   "execution_count": 33,
   "id": "6081d3a7-8498-4641-b32b-e585f5c3255c",
   "metadata": {},
   "outputs": [
    {
     "name": "stdout",
     "output_type": "stream",
     "text": [
      "(44924, 3)\n"
     ]
    },
    {
     "data": {
      "text/html": [
       "<div>\n",
       "<style scoped>\n",
       "    .dataframe tbody tr th:only-of-type {\n",
       "        vertical-align: middle;\n",
       "    }\n",
       "\n",
       "    .dataframe tbody tr th {\n",
       "        vertical-align: top;\n",
       "    }\n",
       "\n",
       "    .dataframe thead th {\n",
       "        text-align: right;\n",
       "    }\n",
       "</style>\n",
       "<table border=\"1\" class=\"dataframe\">\n",
       "  <thead>\n",
       "    <tr style=\"text-align: right;\">\n",
       "      <th></th>\n",
       "      <th>trimestre</th>\n",
       "      <th>USER_ID</th>\n",
       "      <th>1</th>\n",
       "    </tr>\n",
       "  </thead>\n",
       "  <tbody>\n",
       "    <tr>\n",
       "      <th>0</th>\n",
       "      <td>1</td>\n",
       "      <td>0</td>\n",
       "      <td>1.0</td>\n",
       "    </tr>\n",
       "    <tr>\n",
       "      <th>1</th>\n",
       "      <td>1</td>\n",
       "      <td>1</td>\n",
       "      <td>1.0</td>\n",
       "    </tr>\n",
       "    <tr>\n",
       "      <th>2</th>\n",
       "      <td>1</td>\n",
       "      <td>2</td>\n",
       "      <td>1.0</td>\n",
       "    </tr>\n",
       "    <tr>\n",
       "      <th>3</th>\n",
       "      <td>1</td>\n",
       "      <td>3</td>\n",
       "      <td>1.0</td>\n",
       "    </tr>\n",
       "    <tr>\n",
       "      <th>4</th>\n",
       "      <td>1</td>\n",
       "      <td>4</td>\n",
       "      <td>1.0</td>\n",
       "    </tr>\n",
       "  </tbody>\n",
       "</table>\n",
       "</div>"
      ],
      "text/plain": [
       "   trimestre  USER_ID    1\n",
       "0          1        0  1.0\n",
       "1          1        1  1.0\n",
       "2          1        2  1.0\n",
       "3          1        3  1.0\n",
       "4          1        4  1.0"
      ]
     },
     "execution_count": 33,
     "metadata": {},
     "output_type": "execute_result"
    }
   ],
   "source": [
    "search = pd.read_csv('search_trimestral_percent.csv')\n",
    "print(search.shape)\n",
    "\n",
    "search.head()"
   ]
  },
  {
   "cell_type": "code",
   "execution_count": 34,
   "id": "bf3ab987-1a63-4abb-8941-cb47886b53e5",
   "metadata": {},
   "outputs": [
    {
     "name": "stdout",
     "output_type": "stream",
     "text": [
      "(44924, 4184)\n",
      "(44924, 4185)\n"
     ]
    }
   ],
   "source": [
    "print(pageview.shape)\n",
    "pageview = pageview.merge(search, how='left', on=[\"trimestre\", \"USER_ID\"])\n",
    "print(pageview.shape)"
   ]
  },
  {
   "cell_type": "code",
   "execution_count": 35,
   "id": "012f68de-4b19-46d6-9a3b-124e55b0ae39",
   "metadata": {},
   "outputs": [],
   "source": [
    "del search"
   ]
  },
  {
   "cell_type": "code",
   "execution_count": null,
   "id": "f61ec9d0-29f1-4f82-bc8e-92302efd7830",
   "metadata": {},
   "outputs": [],
   "source": []
  },
  {
   "cell_type": "markdown",
   "id": "c9e34de3-0c0d-4b7b-96aa-fbbcfdb19186",
   "metadata": {},
   "source": [
    "### PAGINA SOLA"
   ]
  },
  {
   "cell_type": "code",
   "execution_count": 36,
   "id": "5fe13252-34f1-4335-a54d-4baf962fdc1c",
   "metadata": {},
   "outputs": [
    {
     "name": "stdout",
     "output_type": "stream",
     "text": [
      "(44924, 798)\n"
     ]
    },
    {
     "data": {
      "text/html": [
       "<div>\n",
       "<style scoped>\n",
       "    .dataframe tbody tr th:only-of-type {\n",
       "        vertical-align: middle;\n",
       "    }\n",
       "\n",
       "    .dataframe tbody tr th {\n",
       "        vertical-align: top;\n",
       "    }\n",
       "\n",
       "    .dataframe thead th {\n",
       "        text-align: right;\n",
       "    }\n",
       "</style>\n",
       "<table border=\"1\" class=\"dataframe\">\n",
       "  <thead>\n",
       "    <tr style=\"text-align: right;\">\n",
       "      <th></th>\n",
       "      <th>trimestre</th>\n",
       "      <th>USER_ID</th>\n",
       "      <th>page_1</th>\n",
       "      <th>page_10</th>\n",
       "      <th>page_100</th>\n",
       "      <th>page_1000</th>\n",
       "      <th>page_1001</th>\n",
       "      <th>page_1018</th>\n",
       "      <th>page_1019</th>\n",
       "      <th>page_102</th>\n",
       "      <th>...</th>\n",
       "      <th>page_950</th>\n",
       "      <th>page_96</th>\n",
       "      <th>page_963</th>\n",
       "      <th>page_97</th>\n",
       "      <th>page_972</th>\n",
       "      <th>page_98</th>\n",
       "      <th>page_980</th>\n",
       "      <th>page_99</th>\n",
       "      <th>page_994</th>\n",
       "      <th>page_997</th>\n",
       "    </tr>\n",
       "  </thead>\n",
       "  <tbody>\n",
       "    <tr>\n",
       "      <th>0</th>\n",
       "      <td>1</td>\n",
       "      <td>0</td>\n",
       "      <td>0.058121</td>\n",
       "      <td>0.177621</td>\n",
       "      <td>0.000000</td>\n",
       "      <td>0.0</td>\n",
       "      <td>0.0</td>\n",
       "      <td>0.0</td>\n",
       "      <td>0.0</td>\n",
       "      <td>0.000000</td>\n",
       "      <td>...</td>\n",
       "      <td>0.0</td>\n",
       "      <td>0.000000</td>\n",
       "      <td>0.0</td>\n",
       "      <td>0.000000</td>\n",
       "      <td>0.0</td>\n",
       "      <td>0.000000</td>\n",
       "      <td>0.0</td>\n",
       "      <td>0.000000</td>\n",
       "      <td>0.0</td>\n",
       "      <td>0.0</td>\n",
       "    </tr>\n",
       "    <tr>\n",
       "      <th>1</th>\n",
       "      <td>1</td>\n",
       "      <td>1</td>\n",
       "      <td>0.125201</td>\n",
       "      <td>0.176565</td>\n",
       "      <td>0.000000</td>\n",
       "      <td>0.0</td>\n",
       "      <td>0.0</td>\n",
       "      <td>0.0</td>\n",
       "      <td>0.0</td>\n",
       "      <td>0.000000</td>\n",
       "      <td>...</td>\n",
       "      <td>0.0</td>\n",
       "      <td>0.000000</td>\n",
       "      <td>0.0</td>\n",
       "      <td>0.000000</td>\n",
       "      <td>0.0</td>\n",
       "      <td>0.000000</td>\n",
       "      <td>0.0</td>\n",
       "      <td>0.000000</td>\n",
       "      <td>0.0</td>\n",
       "      <td>0.0</td>\n",
       "    </tr>\n",
       "    <tr>\n",
       "      <th>2</th>\n",
       "      <td>1</td>\n",
       "      <td>2</td>\n",
       "      <td>0.038186</td>\n",
       "      <td>0.145585</td>\n",
       "      <td>0.000000</td>\n",
       "      <td>0.0</td>\n",
       "      <td>0.0</td>\n",
       "      <td>0.0</td>\n",
       "      <td>0.0</td>\n",
       "      <td>0.000000</td>\n",
       "      <td>...</td>\n",
       "      <td>0.0</td>\n",
       "      <td>0.000000</td>\n",
       "      <td>0.0</td>\n",
       "      <td>0.000000</td>\n",
       "      <td>0.0</td>\n",
       "      <td>0.000000</td>\n",
       "      <td>0.0</td>\n",
       "      <td>0.000000</td>\n",
       "      <td>0.0</td>\n",
       "      <td>0.0</td>\n",
       "    </tr>\n",
       "    <tr>\n",
       "      <th>3</th>\n",
       "      <td>1</td>\n",
       "      <td>3</td>\n",
       "      <td>0.000000</td>\n",
       "      <td>0.000000</td>\n",
       "      <td>0.000000</td>\n",
       "      <td>0.0</td>\n",
       "      <td>0.0</td>\n",
       "      <td>0.0</td>\n",
       "      <td>0.0</td>\n",
       "      <td>0.000000</td>\n",
       "      <td>...</td>\n",
       "      <td>0.0</td>\n",
       "      <td>0.000000</td>\n",
       "      <td>0.0</td>\n",
       "      <td>0.000000</td>\n",
       "      <td>0.0</td>\n",
       "      <td>0.000000</td>\n",
       "      <td>0.0</td>\n",
       "      <td>0.000000</td>\n",
       "      <td>0.0</td>\n",
       "      <td>0.0</td>\n",
       "    </tr>\n",
       "    <tr>\n",
       "      <th>4</th>\n",
       "      <td>1</td>\n",
       "      <td>4</td>\n",
       "      <td>0.019516</td>\n",
       "      <td>0.270882</td>\n",
       "      <td>0.002342</td>\n",
       "      <td>0.0</td>\n",
       "      <td>0.0</td>\n",
       "      <td>0.0</td>\n",
       "      <td>0.0</td>\n",
       "      <td>0.004684</td>\n",
       "      <td>...</td>\n",
       "      <td>0.0</td>\n",
       "      <td>0.000781</td>\n",
       "      <td>0.0</td>\n",
       "      <td>0.000781</td>\n",
       "      <td>0.0</td>\n",
       "      <td>0.000781</td>\n",
       "      <td>0.0</td>\n",
       "      <td>0.004684</td>\n",
       "      <td>0.0</td>\n",
       "      <td>0.0</td>\n",
       "    </tr>\n",
       "  </tbody>\n",
       "</table>\n",
       "<p>5 rows × 798 columns</p>\n",
       "</div>"
      ],
      "text/plain": [
       "   trimestre  USER_ID    page_1   page_10  page_100  page_1000  page_1001  \\\n",
       "0          1        0  0.058121  0.177621  0.000000        0.0        0.0   \n",
       "1          1        1  0.125201  0.176565  0.000000        0.0        0.0   \n",
       "2          1        2  0.038186  0.145585  0.000000        0.0        0.0   \n",
       "3          1        3  0.000000  0.000000  0.000000        0.0        0.0   \n",
       "4          1        4  0.019516  0.270882  0.002342        0.0        0.0   \n",
       "\n",
       "   page_1018  page_1019  page_102  ...  page_950   page_96  page_963  \\\n",
       "0        0.0        0.0  0.000000  ...       0.0  0.000000       0.0   \n",
       "1        0.0        0.0  0.000000  ...       0.0  0.000000       0.0   \n",
       "2        0.0        0.0  0.000000  ...       0.0  0.000000       0.0   \n",
       "3        0.0        0.0  0.000000  ...       0.0  0.000000       0.0   \n",
       "4        0.0        0.0  0.004684  ...       0.0  0.000781       0.0   \n",
       "\n",
       "    page_97  page_972   page_98  page_980   page_99  page_994  page_997  \n",
       "0  0.000000       0.0  0.000000       0.0  0.000000       0.0       0.0  \n",
       "1  0.000000       0.0  0.000000       0.0  0.000000       0.0       0.0  \n",
       "2  0.000000       0.0  0.000000       0.0  0.000000       0.0       0.0  \n",
       "3  0.000000       0.0  0.000000       0.0  0.000000       0.0       0.0  \n",
       "4  0.000781       0.0  0.000781       0.0  0.004684       0.0       0.0  \n",
       "\n",
       "[5 rows x 798 columns]"
      ]
     },
     "execution_count": 36,
     "metadata": {},
     "output_type": "execute_result"
    }
   ],
   "source": [
    "simple = pd.read_csv('pageview_simple_trimestral_percent.csv')\n",
    "print(simple.shape)\n",
    "\n",
    "simple.head()"
   ]
  },
  {
   "cell_type": "code",
   "execution_count": 37,
   "id": "9b740105-fdfa-41d5-8afb-4efbdd74614b",
   "metadata": {},
   "outputs": [
    {
     "name": "stdout",
     "output_type": "stream",
     "text": [
      "(44924, 4185)\n",
      "(44924, 4981)\n"
     ]
    }
   ],
   "source": [
    "print(pageview.shape)\n",
    "pageview = pageview.merge(simple, how='left', on=[\"trimestre\", \"USER_ID\"])\n",
    "print(pageview.shape)"
   ]
  },
  {
   "cell_type": "code",
   "execution_count": 38,
   "id": "7bb82f2d-f396-4cfe-842e-90c68cb46c95",
   "metadata": {},
   "outputs": [],
   "source": [
    "del simple"
   ]
  },
  {
   "cell_type": "code",
   "execution_count": null,
   "id": "bf44dd73-ca07-4b0d-a4b7-fc30b9f0a1c9",
   "metadata": {},
   "outputs": [],
   "source": []
  },
  {
   "cell_type": "code",
   "execution_count": 39,
   "id": "fb14d90c-1c18-45c7-a7f9-930db345b6eb",
   "metadata": {},
   "outputs": [
    {
     "data": {
      "text/plain": [
       "speed_0     32\n",
       "speed_1     32\n",
       "speed_2     32\n",
       "speed_3     32\n",
       "device_0    32\n",
       "device_1    32\n",
       "dtype: int64"
      ]
     },
     "execution_count": 39,
     "metadata": {},
     "output_type": "execute_result"
    }
   ],
   "source": [
    "nulos = pageview.isnull().sum()\n",
    "nulos[nulos > 0]"
   ]
  },
  {
   "cell_type": "code",
   "execution_count": 40,
   "id": "3bdd942d-aac5-49f3-9185-4e2cb1158b18",
   "metadata": {},
   "outputs": [],
   "source": [
    "pageview = pageview.fillna(0)"
   ]
  },
  {
   "cell_type": "code",
   "execution_count": 41,
   "id": "8fb10e03-9a8f-43ff-9d39-a493552d12fd",
   "metadata": {},
   "outputs": [
    {
     "data": {
      "text/html": [
       "<div>\n",
       "<style scoped>\n",
       "    .dataframe tbody tr th:only-of-type {\n",
       "        vertical-align: middle;\n",
       "    }\n",
       "\n",
       "    .dataframe tbody tr th {\n",
       "        vertical-align: top;\n",
       "    }\n",
       "\n",
       "    .dataframe thead th {\n",
       "        text-align: right;\n",
       "    }\n",
       "</style>\n",
       "<table border=\"1\" class=\"dataframe\">\n",
       "  <thead>\n",
       "    <tr style=\"text-align: right;\">\n",
       "      <th></th>\n",
       "      <th>trimestre</th>\n",
       "      <th>USER_ID</th>\n",
       "      <th>1000_1000</th>\n",
       "      <th>1000_2</th>\n",
       "      <th>1000_40</th>\n",
       "      <th>1000_611</th>\n",
       "      <th>100_2</th>\n",
       "      <th>100_40</th>\n",
       "      <th>102_154</th>\n",
       "      <th>102_2</th>\n",
       "      <th>...</th>\n",
       "      <th>page_950</th>\n",
       "      <th>page_96</th>\n",
       "      <th>page_963</th>\n",
       "      <th>page_97</th>\n",
       "      <th>page_972</th>\n",
       "      <th>page_98</th>\n",
       "      <th>page_980</th>\n",
       "      <th>page_99</th>\n",
       "      <th>page_994</th>\n",
       "      <th>page_997</th>\n",
       "    </tr>\n",
       "  </thead>\n",
       "  <tbody>\n",
       "    <tr>\n",
       "      <th>0</th>\n",
       "      <td>1</td>\n",
       "      <td>0</td>\n",
       "      <td>0.0</td>\n",
       "      <td>0.0</td>\n",
       "      <td>0.0</td>\n",
       "      <td>0.0</td>\n",
       "      <td>0.0</td>\n",
       "      <td>0.0</td>\n",
       "      <td>0.000000</td>\n",
       "      <td>0.0</td>\n",
       "      <td>...</td>\n",
       "      <td>0.0</td>\n",
       "      <td>0.000000</td>\n",
       "      <td>0.0</td>\n",
       "      <td>0.000000</td>\n",
       "      <td>0.0</td>\n",
       "      <td>0.000000</td>\n",
       "      <td>0.0</td>\n",
       "      <td>0.000000</td>\n",
       "      <td>0.0</td>\n",
       "      <td>0.0</td>\n",
       "    </tr>\n",
       "    <tr>\n",
       "      <th>1</th>\n",
       "      <td>1</td>\n",
       "      <td>1</td>\n",
       "      <td>0.0</td>\n",
       "      <td>0.0</td>\n",
       "      <td>0.0</td>\n",
       "      <td>0.0</td>\n",
       "      <td>0.0</td>\n",
       "      <td>0.0</td>\n",
       "      <td>0.000000</td>\n",
       "      <td>0.0</td>\n",
       "      <td>...</td>\n",
       "      <td>0.0</td>\n",
       "      <td>0.000000</td>\n",
       "      <td>0.0</td>\n",
       "      <td>0.000000</td>\n",
       "      <td>0.0</td>\n",
       "      <td>0.000000</td>\n",
       "      <td>0.0</td>\n",
       "      <td>0.000000</td>\n",
       "      <td>0.0</td>\n",
       "      <td>0.0</td>\n",
       "    </tr>\n",
       "    <tr>\n",
       "      <th>2</th>\n",
       "      <td>1</td>\n",
       "      <td>2</td>\n",
       "      <td>0.0</td>\n",
       "      <td>0.0</td>\n",
       "      <td>0.0</td>\n",
       "      <td>0.0</td>\n",
       "      <td>0.0</td>\n",
       "      <td>0.0</td>\n",
       "      <td>0.000000</td>\n",
       "      <td>0.0</td>\n",
       "      <td>...</td>\n",
       "      <td>0.0</td>\n",
       "      <td>0.000000</td>\n",
       "      <td>0.0</td>\n",
       "      <td>0.000000</td>\n",
       "      <td>0.0</td>\n",
       "      <td>0.000000</td>\n",
       "      <td>0.0</td>\n",
       "      <td>0.000000</td>\n",
       "      <td>0.0</td>\n",
       "      <td>0.0</td>\n",
       "    </tr>\n",
       "    <tr>\n",
       "      <th>3</th>\n",
       "      <td>1</td>\n",
       "      <td>3</td>\n",
       "      <td>0.0</td>\n",
       "      <td>0.0</td>\n",
       "      <td>0.0</td>\n",
       "      <td>0.0</td>\n",
       "      <td>0.0</td>\n",
       "      <td>0.0</td>\n",
       "      <td>0.000000</td>\n",
       "      <td>0.0</td>\n",
       "      <td>...</td>\n",
       "      <td>0.0</td>\n",
       "      <td>0.000000</td>\n",
       "      <td>0.0</td>\n",
       "      <td>0.000000</td>\n",
       "      <td>0.0</td>\n",
       "      <td>0.000000</td>\n",
       "      <td>0.0</td>\n",
       "      <td>0.000000</td>\n",
       "      <td>0.0</td>\n",
       "      <td>0.0</td>\n",
       "    </tr>\n",
       "    <tr>\n",
       "      <th>4</th>\n",
       "      <td>1</td>\n",
       "      <td>4</td>\n",
       "      <td>0.0</td>\n",
       "      <td>0.0</td>\n",
       "      <td>0.0</td>\n",
       "      <td>0.0</td>\n",
       "      <td>0.0</td>\n",
       "      <td>0.0</td>\n",
       "      <td>0.003903</td>\n",
       "      <td>0.0</td>\n",
       "      <td>...</td>\n",
       "      <td>0.0</td>\n",
       "      <td>0.000781</td>\n",
       "      <td>0.0</td>\n",
       "      <td>0.000781</td>\n",
       "      <td>0.0</td>\n",
       "      <td>0.000781</td>\n",
       "      <td>0.0</td>\n",
       "      <td>0.004684</td>\n",
       "      <td>0.0</td>\n",
       "      <td>0.0</td>\n",
       "    </tr>\n",
       "  </tbody>\n",
       "</table>\n",
       "<p>5 rows × 4981 columns</p>\n",
       "</div>"
      ],
      "text/plain": [
       "   trimestre  USER_ID  1000_1000  1000_2  1000_40  1000_611  100_2  100_40  \\\n",
       "0          1        0        0.0     0.0      0.0       0.0    0.0     0.0   \n",
       "1          1        1        0.0     0.0      0.0       0.0    0.0     0.0   \n",
       "2          1        2        0.0     0.0      0.0       0.0    0.0     0.0   \n",
       "3          1        3        0.0     0.0      0.0       0.0    0.0     0.0   \n",
       "4          1        4        0.0     0.0      0.0       0.0    0.0     0.0   \n",
       "\n",
       "    102_154  102_2  ...  page_950   page_96  page_963   page_97  page_972  \\\n",
       "0  0.000000    0.0  ...       0.0  0.000000       0.0  0.000000       0.0   \n",
       "1  0.000000    0.0  ...       0.0  0.000000       0.0  0.000000       0.0   \n",
       "2  0.000000    0.0  ...       0.0  0.000000       0.0  0.000000       0.0   \n",
       "3  0.000000    0.0  ...       0.0  0.000000       0.0  0.000000       0.0   \n",
       "4  0.003903    0.0  ...       0.0  0.000781       0.0  0.000781       0.0   \n",
       "\n",
       "    page_98  page_980   page_99  page_994  page_997  \n",
       "0  0.000000       0.0  0.000000       0.0       0.0  \n",
       "1  0.000000       0.0  0.000000       0.0       0.0  \n",
       "2  0.000000       0.0  0.000000       0.0       0.0  \n",
       "3  0.000000       0.0  0.000000       0.0       0.0  \n",
       "4  0.000781       0.0  0.004684       0.0       0.0  \n",
       "\n",
       "[5 rows x 4981 columns]"
      ]
     },
     "execution_count": 41,
     "metadata": {},
     "output_type": "execute_result"
    }
   ],
   "source": [
    "pageview.head()"
   ]
  },
  {
   "cell_type": "code",
   "execution_count": null,
   "id": "6e357e1b-7b48-437d-9b64-4b3dc3b49533",
   "metadata": {},
   "outputs": [],
   "source": []
  },
  {
   "cell_type": "code",
   "execution_count": 42,
   "id": "190bab8c-73ed-4201-9ca0-3803d7ee6041",
   "metadata": {},
   "outputs": [
    {
     "data": {
      "text/html": [
       "<div>\n",
       "<style scoped>\n",
       "    .dataframe tbody tr th:only-of-type {\n",
       "        vertical-align: middle;\n",
       "    }\n",
       "\n",
       "    .dataframe tbody tr th {\n",
       "        vertical-align: top;\n",
       "    }\n",
       "\n",
       "    .dataframe thead th {\n",
       "        text-align: right;\n",
       "    }\n",
       "</style>\n",
       "<table border=\"1\" class=\"dataframe\">\n",
       "  <thead>\n",
       "    <tr style=\"text-align: right;\">\n",
       "      <th></th>\n",
       "      <th>trimestre</th>\n",
       "      <th>USER_ID</th>\n",
       "      <th>2_conversiones_seguidas</th>\n",
       "      <th>hizo_conversion_este_mes</th>\n",
       "      <th>hizo_conversion_trim_pasado</th>\n",
       "      <th>convertion</th>\n",
       "    </tr>\n",
       "  </thead>\n",
       "  <tbody>\n",
       "    <tr>\n",
       "      <th>0</th>\n",
       "      <td>1</td>\n",
       "      <td>0</td>\n",
       "      <td>0</td>\n",
       "      <td>0</td>\n",
       "      <td>0</td>\n",
       "      <td>0</td>\n",
       "    </tr>\n",
       "    <tr>\n",
       "      <th>1</th>\n",
       "      <td>1</td>\n",
       "      <td>1</td>\n",
       "      <td>0</td>\n",
       "      <td>0</td>\n",
       "      <td>0</td>\n",
       "      <td>0</td>\n",
       "    </tr>\n",
       "    <tr>\n",
       "      <th>2</th>\n",
       "      <td>1</td>\n",
       "      <td>2</td>\n",
       "      <td>0</td>\n",
       "      <td>0</td>\n",
       "      <td>0</td>\n",
       "      <td>0</td>\n",
       "    </tr>\n",
       "    <tr>\n",
       "      <th>3</th>\n",
       "      <td>1</td>\n",
       "      <td>3</td>\n",
       "      <td>0</td>\n",
       "      <td>0</td>\n",
       "      <td>0</td>\n",
       "      <td>0</td>\n",
       "    </tr>\n",
       "    <tr>\n",
       "      <th>4</th>\n",
       "      <td>1</td>\n",
       "      <td>4</td>\n",
       "      <td>0</td>\n",
       "      <td>0</td>\n",
       "      <td>0</td>\n",
       "      <td>0</td>\n",
       "    </tr>\n",
       "  </tbody>\n",
       "</table>\n",
       "</div>"
      ],
      "text/plain": [
       "   trimestre  USER_ID  2_conversiones_seguidas  hizo_conversion_este_mes  \\\n",
       "0          1        0                        0                         0   \n",
       "1          1        1                        0                         0   \n",
       "2          1        2                        0                         0   \n",
       "3          1        3                        0                         0   \n",
       "4          1        4                        0                         0   \n",
       "\n",
       "   hizo_conversion_trim_pasado  convertion  \n",
       "0                            0           0  \n",
       "1                            0           0  \n",
       "2                            0           0  \n",
       "3                            0           0  \n",
       "4                            0           0  "
      ]
     },
     "execution_count": 42,
     "metadata": {},
     "output_type": "execute_result"
    }
   ],
   "source": [
    "historico_conversiones = pageview[['trimestre', 'USER_ID', '2_conversiones_seguidas', 'hizo_conversion_este_mes', 'hizo_conversion_trim_pasado', 'convertion']]\n",
    "historico_conversiones.head()"
   ]
  },
  {
   "cell_type": "code",
   "execution_count": 43,
   "id": "b60a36cc-b897-4661-8767-a0aba3cab7bc",
   "metadata": {},
   "outputs": [
    {
     "data": {
      "text/plain": [
       "(44924, 6)"
      ]
     },
     "execution_count": 43,
     "metadata": {},
     "output_type": "execute_result"
    }
   ],
   "source": [
    "historico_conversiones.shape"
   ]
  },
  {
   "cell_type": "code",
   "execution_count": 44,
   "id": "257be691-8f1d-4359-a36f-9d4e0e4e0931",
   "metadata": {},
   "outputs": [],
   "source": [
    "del pageview['2_conversiones_seguidas']\n",
    "del pageview['hizo_conversion_este_mes']\n",
    "del pageview['hizo_conversion_trim_pasado']\n",
    "del pageview['convertion']"
   ]
  },
  {
   "cell_type": "code",
   "execution_count": 45,
   "id": "2180a8c4-7dd5-4f18-ab1f-5912c7d127de",
   "metadata": {},
   "outputs": [
    {
     "data": {
      "text/plain": [
       "array([1, 2, 3, 4], dtype=int64)"
      ]
     },
     "execution_count": 45,
     "metadata": {},
     "output_type": "execute_result"
    }
   ],
   "source": [
    "pageview['trimestre'].unique()"
   ]
  },
  {
   "cell_type": "code",
   "execution_count": 46,
   "id": "febd345b-8f4a-42c0-8f80-63496caa119c",
   "metadata": {},
   "outputs": [],
   "source": [
    "pageview['trimestre'] = pageview['trimestre'].astype(int)"
   ]
  },
  {
   "cell_type": "code",
   "execution_count": 47,
   "id": "a6e817cc-1aff-419d-b5d9-1b3efe8a259e",
   "metadata": {},
   "outputs": [
    {
     "name": "stdout",
     "output_type": "stream",
     "text": [
      "2 1\n",
      "3 2\n",
      "4 3\n"
     ]
    }
   ],
   "source": [
    "data = []\n",
    "\n",
    "for trim in [2, 3, 4]:\n",
    "    print(trim, trim-1)\n",
    "    \n",
    "    grupo = pageview[pageview['trimestre'].isin([trim, trim-1])].groupby(by=['USER_ID']).mean().reset_index()\n",
    "    grupo['trimestre'] = trim\n",
    "    data.append(grupo)\n",
    "    del grupo"
   ]
  },
  {
   "cell_type": "code",
   "execution_count": 48,
   "id": "d0565d40-a26c-4ad0-82f3-0c38a840ddb0",
   "metadata": {},
   "outputs": [],
   "source": [
    "del pageview"
   ]
  },
  {
   "cell_type": "code",
   "execution_count": 49,
   "id": "216a6463-09e2-4c62-a6f1-09b76a448f44",
   "metadata": {},
   "outputs": [
    {
     "data": {
      "text/html": [
       "<div>\n",
       "<style scoped>\n",
       "    .dataframe tbody tr th:only-of-type {\n",
       "        vertical-align: middle;\n",
       "    }\n",
       "\n",
       "    .dataframe tbody tr th {\n",
       "        vertical-align: top;\n",
       "    }\n",
       "\n",
       "    .dataframe thead th {\n",
       "        text-align: right;\n",
       "    }\n",
       "</style>\n",
       "<table border=\"1\" class=\"dataframe\">\n",
       "  <thead>\n",
       "    <tr style=\"text-align: right;\">\n",
       "      <th></th>\n",
       "      <th>USER_ID</th>\n",
       "      <th>trimestre</th>\n",
       "      <th>1000_1000</th>\n",
       "      <th>1000_2</th>\n",
       "      <th>1000_40</th>\n",
       "      <th>1000_611</th>\n",
       "      <th>100_2</th>\n",
       "      <th>100_40</th>\n",
       "      <th>102_154</th>\n",
       "      <th>102_2</th>\n",
       "      <th>...</th>\n",
       "      <th>page_950</th>\n",
       "      <th>page_96</th>\n",
       "      <th>page_963</th>\n",
       "      <th>page_97</th>\n",
       "      <th>page_972</th>\n",
       "      <th>page_98</th>\n",
       "      <th>page_980</th>\n",
       "      <th>page_99</th>\n",
       "      <th>page_994</th>\n",
       "      <th>page_997</th>\n",
       "    </tr>\n",
       "  </thead>\n",
       "  <tbody>\n",
       "    <tr>\n",
       "      <th>0</th>\n",
       "      <td>0</td>\n",
       "      <td>2</td>\n",
       "      <td>0.0</td>\n",
       "      <td>0.0</td>\n",
       "      <td>0.0</td>\n",
       "      <td>0.0</td>\n",
       "      <td>0.0</td>\n",
       "      <td>0.0</td>\n",
       "      <td>0.000000</td>\n",
       "      <td>0.0</td>\n",
       "      <td>...</td>\n",
       "      <td>0.0</td>\n",
       "      <td>0.00037</td>\n",
       "      <td>0.0</td>\n",
       "      <td>0.00037</td>\n",
       "      <td>0.0</td>\n",
       "      <td>0.00037</td>\n",
       "      <td>0.0</td>\n",
       "      <td>0.001110</td>\n",
       "      <td>0.0</td>\n",
       "      <td>0.0</td>\n",
       "    </tr>\n",
       "    <tr>\n",
       "      <th>1</th>\n",
       "      <td>1</td>\n",
       "      <td>2</td>\n",
       "      <td>0.0</td>\n",
       "      <td>0.0</td>\n",
       "      <td>0.0</td>\n",
       "      <td>0.0</td>\n",
       "      <td>0.0</td>\n",
       "      <td>0.0</td>\n",
       "      <td>0.000000</td>\n",
       "      <td>0.0</td>\n",
       "      <td>...</td>\n",
       "      <td>0.0</td>\n",
       "      <td>0.00000</td>\n",
       "      <td>0.0</td>\n",
       "      <td>0.00000</td>\n",
       "      <td>0.0</td>\n",
       "      <td>0.00000</td>\n",
       "      <td>0.0</td>\n",
       "      <td>0.000000</td>\n",
       "      <td>0.0</td>\n",
       "      <td>0.0</td>\n",
       "    </tr>\n",
       "    <tr>\n",
       "      <th>2</th>\n",
       "      <td>2</td>\n",
       "      <td>2</td>\n",
       "      <td>0.0</td>\n",
       "      <td>0.0</td>\n",
       "      <td>0.0</td>\n",
       "      <td>0.0</td>\n",
       "      <td>0.0</td>\n",
       "      <td>0.0</td>\n",
       "      <td>0.000000</td>\n",
       "      <td>0.0</td>\n",
       "      <td>...</td>\n",
       "      <td>0.0</td>\n",
       "      <td>0.00000</td>\n",
       "      <td>0.0</td>\n",
       "      <td>0.00000</td>\n",
       "      <td>0.0</td>\n",
       "      <td>0.00000</td>\n",
       "      <td>0.0</td>\n",
       "      <td>0.000973</td>\n",
       "      <td>0.0</td>\n",
       "      <td>0.0</td>\n",
       "    </tr>\n",
       "    <tr>\n",
       "      <th>3</th>\n",
       "      <td>3</td>\n",
       "      <td>2</td>\n",
       "      <td>0.0</td>\n",
       "      <td>0.0</td>\n",
       "      <td>0.0</td>\n",
       "      <td>0.0</td>\n",
       "      <td>0.0</td>\n",
       "      <td>0.0</td>\n",
       "      <td>0.000000</td>\n",
       "      <td>0.0</td>\n",
       "      <td>...</td>\n",
       "      <td>0.0</td>\n",
       "      <td>0.00000</td>\n",
       "      <td>0.0</td>\n",
       "      <td>0.00000</td>\n",
       "      <td>0.0</td>\n",
       "      <td>0.00000</td>\n",
       "      <td>0.0</td>\n",
       "      <td>0.001445</td>\n",
       "      <td>0.0</td>\n",
       "      <td>0.0</td>\n",
       "    </tr>\n",
       "    <tr>\n",
       "      <th>4</th>\n",
       "      <td>4</td>\n",
       "      <td>2</td>\n",
       "      <td>0.0</td>\n",
       "      <td>0.0</td>\n",
       "      <td>0.0</td>\n",
       "      <td>0.0</td>\n",
       "      <td>0.0</td>\n",
       "      <td>0.0</td>\n",
       "      <td>0.008918</td>\n",
       "      <td>0.0</td>\n",
       "      <td>...</td>\n",
       "      <td>0.0</td>\n",
       "      <td>0.00039</td>\n",
       "      <td>0.0</td>\n",
       "      <td>0.00039</td>\n",
       "      <td>0.0</td>\n",
       "      <td>0.00039</td>\n",
       "      <td>0.0</td>\n",
       "      <td>0.006212</td>\n",
       "      <td>0.0</td>\n",
       "      <td>0.0</td>\n",
       "    </tr>\n",
       "  </tbody>\n",
       "</table>\n",
       "<p>5 rows × 4977 columns</p>\n",
       "</div>"
      ],
      "text/plain": [
       "   USER_ID  trimestre  1000_1000  1000_2  1000_40  1000_611  100_2  100_40  \\\n",
       "0        0          2        0.0     0.0      0.0       0.0    0.0     0.0   \n",
       "1        1          2        0.0     0.0      0.0       0.0    0.0     0.0   \n",
       "2        2          2        0.0     0.0      0.0       0.0    0.0     0.0   \n",
       "3        3          2        0.0     0.0      0.0       0.0    0.0     0.0   \n",
       "4        4          2        0.0     0.0      0.0       0.0    0.0     0.0   \n",
       "\n",
       "    102_154  102_2  ...  page_950  page_96  page_963  page_97  page_972  \\\n",
       "0  0.000000    0.0  ...       0.0  0.00037       0.0  0.00037       0.0   \n",
       "1  0.000000    0.0  ...       0.0  0.00000       0.0  0.00000       0.0   \n",
       "2  0.000000    0.0  ...       0.0  0.00000       0.0  0.00000       0.0   \n",
       "3  0.000000    0.0  ...       0.0  0.00000       0.0  0.00000       0.0   \n",
       "4  0.008918    0.0  ...       0.0  0.00039       0.0  0.00039       0.0   \n",
       "\n",
       "   page_98  page_980   page_99  page_994  page_997  \n",
       "0  0.00037       0.0  0.001110       0.0       0.0  \n",
       "1  0.00000       0.0  0.000000       0.0       0.0  \n",
       "2  0.00000       0.0  0.000973       0.0       0.0  \n",
       "3  0.00000       0.0  0.001445       0.0       0.0  \n",
       "4  0.00039       0.0  0.006212       0.0       0.0  \n",
       "\n",
       "[5 rows x 4977 columns]"
      ]
     },
     "execution_count": 49,
     "metadata": {},
     "output_type": "execute_result"
    }
   ],
   "source": [
    "pageview = pd.concat(\n",
    "    data, \n",
    "    ignore_index=True,\n",
    "    axis=0\n",
    ")\n",
    "pageview.head()"
   ]
  },
  {
   "cell_type": "code",
   "execution_count": 50,
   "id": "d4087957-6a9d-4170-9424-a9899f456447",
   "metadata": {},
   "outputs": [
    {
     "data": {
      "text/plain": [
       "(34392, 4977)"
      ]
     },
     "execution_count": 50,
     "metadata": {},
     "output_type": "execute_result"
    }
   ],
   "source": [
    "pageview.shape"
   ]
  },
  {
   "cell_type": "code",
   "execution_count": 51,
   "id": "24f760a1-8573-4a92-9f5f-b62bb6f6165b",
   "metadata": {},
   "outputs": [
    {
     "data": {
      "text/plain": [
       "USER_ID        int64\n",
       "trimestre      int64\n",
       "1000_1000    float64\n",
       "dtype: object"
      ]
     },
     "execution_count": 51,
     "metadata": {},
     "output_type": "execute_result"
    }
   ],
   "source": [
    "pageview.dtypes.head(3)"
   ]
  },
  {
   "cell_type": "code",
   "execution_count": 52,
   "id": "a7908ead-e832-426b-ac55-548d042ac937",
   "metadata": {},
   "outputs": [
    {
     "data": {
      "text/plain": [
       "trimestre                  int64\n",
       "USER_ID                    int64\n",
       "2_conversiones_seguidas    int32\n",
       "dtype: object"
      ]
     },
     "execution_count": 52,
     "metadata": {},
     "output_type": "execute_result"
    }
   ],
   "source": [
    "historico_conversiones.dtypes.head(3)"
   ]
  },
  {
   "cell_type": "code",
   "execution_count": 53,
   "id": "de841105-7c94-45eb-9a25-e02dee7b9f9f",
   "metadata": {},
   "outputs": [
    {
     "data": {
      "text/plain": [
       "trimestre\n",
       "1    10936\n",
       "2    11203\n",
       "3    11356\n",
       "4    11429\n",
       "dtype: int64"
      ]
     },
     "execution_count": 53,
     "metadata": {},
     "output_type": "execute_result"
    }
   ],
   "source": [
    "historico_conversiones.groupby(by=['trimestre']).size()"
   ]
  },
  {
   "cell_type": "code",
   "execution_count": 55,
   "id": "87522a11-eb5f-40aa-9e03-78a090657c2d",
   "metadata": {},
   "outputs": [
    {
     "name": "stdout",
     "output_type": "stream",
     "text": [
      "1 (10936,)\n",
      "2 (11203,)\n",
      "3 (11356,)\n",
      "4 (11429,)\n"
     ]
    }
   ],
   "source": [
    "for trim in historico_conversiones['trimestre'].unique():\n",
    "    print(trim, historico_conversiones[historico_conversiones['trimestre'] == trim]['USER_ID'].unique().shape)"
   ]
  },
  {
   "cell_type": "code",
   "execution_count": 56,
   "id": "792cf49a-22cc-4203-8dcc-839d5c3cd6fc",
   "metadata": {},
   "outputs": [
    {
     "data": {
      "text/plain": [
       "trimestre\n",
       "2    11314\n",
       "3    11489\n",
       "4    11589\n",
       "dtype: int64"
      ]
     },
     "execution_count": 56,
     "metadata": {},
     "output_type": "execute_result"
    }
   ],
   "source": [
    "pageview.groupby(by=['trimestre']).size()"
   ]
  },
  {
   "cell_type": "code",
   "execution_count": 58,
   "id": "72a20cd6-a62a-4e29-8ced-fc6f6b081cb5",
   "metadata": {},
   "outputs": [
    {
     "name": "stdout",
     "output_type": "stream",
     "text": [
      "2 (11314,) 11203\n",
      "3 (11489,) 11356\n",
      "4 (11589,) 11429\n"
     ]
    }
   ],
   "source": [
    "for trim in pageview['trimestre'].unique():\n",
    "    print(trim, \n",
    "          pageview[pageview['trimestre'] == trim]['USER_ID'].unique().shape,\n",
    "          len(set(pageview[pageview['trimestre'] == trim]['USER_ID'].unique()) & set(historico_conversiones[historico_conversiones['trimestre'] == trim]['USER_ID'].unique()))\n",
    "         )"
   ]
  },
  {
   "cell_type": "code",
   "execution_count": 66,
   "id": "b6335de7-13e4-4772-835f-f8a251019858",
   "metadata": {},
   "outputs": [],
   "source": [
    "#11589 - 11429, 11489 - 11356, 11314 - 11203"
   ]
  },
  {
   "cell_type": "code",
   "execution_count": 59,
   "id": "77c909bc-6464-47e8-bd35-0f5ac7e35154",
   "metadata": {},
   "outputs": [
    {
     "data": {
      "text/plain": [
       "Series([], dtype: int64)"
      ]
     },
     "execution_count": 59,
     "metadata": {},
     "output_type": "execute_result"
    }
   ],
   "source": [
    "null = historico_conversiones.isnull().sum()\n",
    "null[null > 0]"
   ]
  },
  {
   "cell_type": "code",
   "execution_count": 60,
   "id": "81fffebb-e596-4685-87c3-958c19765241",
   "metadata": {},
   "outputs": [],
   "source": [
    "historico_conversiones = historico_conversiones.fillna(0)"
   ]
  },
  {
   "cell_type": "code",
   "execution_count": 61,
   "id": "023e745d-1a61-486b-ae1c-300c3ebf9a7d",
   "metadata": {},
   "outputs": [
    {
     "data": {
      "text/html": [
       "<div>\n",
       "<style scoped>\n",
       "    .dataframe tbody tr th:only-of-type {\n",
       "        vertical-align: middle;\n",
       "    }\n",
       "\n",
       "    .dataframe tbody tr th {\n",
       "        vertical-align: top;\n",
       "    }\n",
       "\n",
       "    .dataframe thead th {\n",
       "        text-align: right;\n",
       "    }\n",
       "</style>\n",
       "<table border=\"1\" class=\"dataframe\">\n",
       "  <thead>\n",
       "    <tr style=\"text-align: right;\">\n",
       "      <th></th>\n",
       "      <th>USER_ID</th>\n",
       "      <th>trimestre</th>\n",
       "      <th>1000_1000</th>\n",
       "      <th>1000_2</th>\n",
       "      <th>1000_40</th>\n",
       "      <th>1000_611</th>\n",
       "      <th>100_2</th>\n",
       "      <th>100_40</th>\n",
       "      <th>102_154</th>\n",
       "      <th>102_2</th>\n",
       "      <th>...</th>\n",
       "      <th>page_972</th>\n",
       "      <th>page_98</th>\n",
       "      <th>page_980</th>\n",
       "      <th>page_99</th>\n",
       "      <th>page_994</th>\n",
       "      <th>page_997</th>\n",
       "      <th>2_conversiones_seguidas</th>\n",
       "      <th>hizo_conversion_este_mes</th>\n",
       "      <th>hizo_conversion_trim_pasado</th>\n",
       "      <th>convertion</th>\n",
       "    </tr>\n",
       "  </thead>\n",
       "  <tbody>\n",
       "    <tr>\n",
       "      <th>0</th>\n",
       "      <td>0</td>\n",
       "      <td>2</td>\n",
       "      <td>0.0</td>\n",
       "      <td>0.0</td>\n",
       "      <td>0.0</td>\n",
       "      <td>0.0</td>\n",
       "      <td>0.0</td>\n",
       "      <td>0.0</td>\n",
       "      <td>0.000000</td>\n",
       "      <td>0.0</td>\n",
       "      <td>...</td>\n",
       "      <td>0.0</td>\n",
       "      <td>0.00037</td>\n",
       "      <td>0.0</td>\n",
       "      <td>0.001110</td>\n",
       "      <td>0.0</td>\n",
       "      <td>0.0</td>\n",
       "      <td>0.0</td>\n",
       "      <td>0.0</td>\n",
       "      <td>0.0</td>\n",
       "      <td>0.0</td>\n",
       "    </tr>\n",
       "    <tr>\n",
       "      <th>1</th>\n",
       "      <td>1</td>\n",
       "      <td>2</td>\n",
       "      <td>0.0</td>\n",
       "      <td>0.0</td>\n",
       "      <td>0.0</td>\n",
       "      <td>0.0</td>\n",
       "      <td>0.0</td>\n",
       "      <td>0.0</td>\n",
       "      <td>0.000000</td>\n",
       "      <td>0.0</td>\n",
       "      <td>...</td>\n",
       "      <td>0.0</td>\n",
       "      <td>0.00000</td>\n",
       "      <td>0.0</td>\n",
       "      <td>0.000000</td>\n",
       "      <td>0.0</td>\n",
       "      <td>0.0</td>\n",
       "      <td>0.0</td>\n",
       "      <td>0.0</td>\n",
       "      <td>0.0</td>\n",
       "      <td>0.0</td>\n",
       "    </tr>\n",
       "    <tr>\n",
       "      <th>2</th>\n",
       "      <td>2</td>\n",
       "      <td>2</td>\n",
       "      <td>0.0</td>\n",
       "      <td>0.0</td>\n",
       "      <td>0.0</td>\n",
       "      <td>0.0</td>\n",
       "      <td>0.0</td>\n",
       "      <td>0.0</td>\n",
       "      <td>0.000000</td>\n",
       "      <td>0.0</td>\n",
       "      <td>...</td>\n",
       "      <td>0.0</td>\n",
       "      <td>0.00000</td>\n",
       "      <td>0.0</td>\n",
       "      <td>0.000973</td>\n",
       "      <td>0.0</td>\n",
       "      <td>0.0</td>\n",
       "      <td>0.0</td>\n",
       "      <td>0.0</td>\n",
       "      <td>0.0</td>\n",
       "      <td>0.0</td>\n",
       "    </tr>\n",
       "    <tr>\n",
       "      <th>3</th>\n",
       "      <td>3</td>\n",
       "      <td>2</td>\n",
       "      <td>0.0</td>\n",
       "      <td>0.0</td>\n",
       "      <td>0.0</td>\n",
       "      <td>0.0</td>\n",
       "      <td>0.0</td>\n",
       "      <td>0.0</td>\n",
       "      <td>0.000000</td>\n",
       "      <td>0.0</td>\n",
       "      <td>...</td>\n",
       "      <td>0.0</td>\n",
       "      <td>0.00000</td>\n",
       "      <td>0.0</td>\n",
       "      <td>0.001445</td>\n",
       "      <td>0.0</td>\n",
       "      <td>0.0</td>\n",
       "      <td>0.0</td>\n",
       "      <td>0.0</td>\n",
       "      <td>0.0</td>\n",
       "      <td>0.0</td>\n",
       "    </tr>\n",
       "    <tr>\n",
       "      <th>4</th>\n",
       "      <td>4</td>\n",
       "      <td>2</td>\n",
       "      <td>0.0</td>\n",
       "      <td>0.0</td>\n",
       "      <td>0.0</td>\n",
       "      <td>0.0</td>\n",
       "      <td>0.0</td>\n",
       "      <td>0.0</td>\n",
       "      <td>0.008918</td>\n",
       "      <td>0.0</td>\n",
       "      <td>...</td>\n",
       "      <td>0.0</td>\n",
       "      <td>0.00039</td>\n",
       "      <td>0.0</td>\n",
       "      <td>0.006212</td>\n",
       "      <td>0.0</td>\n",
       "      <td>0.0</td>\n",
       "      <td>0.0</td>\n",
       "      <td>0.0</td>\n",
       "      <td>0.0</td>\n",
       "      <td>0.0</td>\n",
       "    </tr>\n",
       "  </tbody>\n",
       "</table>\n",
       "<p>5 rows × 4981 columns</p>\n",
       "</div>"
      ],
      "text/plain": [
       "   USER_ID  trimestre  1000_1000  1000_2  1000_40  1000_611  100_2  100_40  \\\n",
       "0        0          2        0.0     0.0      0.0       0.0    0.0     0.0   \n",
       "1        1          2        0.0     0.0      0.0       0.0    0.0     0.0   \n",
       "2        2          2        0.0     0.0      0.0       0.0    0.0     0.0   \n",
       "3        3          2        0.0     0.0      0.0       0.0    0.0     0.0   \n",
       "4        4          2        0.0     0.0      0.0       0.0    0.0     0.0   \n",
       "\n",
       "    102_154  102_2  ...  page_972  page_98  page_980   page_99  page_994  \\\n",
       "0  0.000000    0.0  ...       0.0  0.00037       0.0  0.001110       0.0   \n",
       "1  0.000000    0.0  ...       0.0  0.00000       0.0  0.000000       0.0   \n",
       "2  0.000000    0.0  ...       0.0  0.00000       0.0  0.000973       0.0   \n",
       "3  0.000000    0.0  ...       0.0  0.00000       0.0  0.001445       0.0   \n",
       "4  0.008918    0.0  ...       0.0  0.00039       0.0  0.006212       0.0   \n",
       "\n",
       "   page_997  2_conversiones_seguidas  hizo_conversion_este_mes  \\\n",
       "0       0.0                      0.0                       0.0   \n",
       "1       0.0                      0.0                       0.0   \n",
       "2       0.0                      0.0                       0.0   \n",
       "3       0.0                      0.0                       0.0   \n",
       "4       0.0                      0.0                       0.0   \n",
       "\n",
       "   hizo_conversion_trim_pasado  convertion  \n",
       "0                          0.0         0.0  \n",
       "1                          0.0         0.0  \n",
       "2                          0.0         0.0  \n",
       "3                          0.0         0.0  \n",
       "4                          0.0         0.0  \n",
       "\n",
       "[5 rows x 4981 columns]"
      ]
     },
     "execution_count": 61,
     "metadata": {},
     "output_type": "execute_result"
    }
   ],
   "source": [
    "pageview = pageview.merge(\n",
    "    historico_conversiones, how='left', on=['USER_ID', 'trimestre'])\n",
    "pageview.head()"
   ]
  },
  {
   "cell_type": "code",
   "execution_count": 62,
   "id": "d5e49496-9f9f-48f8-9b6d-0c9a8430bef6",
   "metadata": {},
   "outputs": [
    {
     "data": {
      "text/plain": [
       "2_conversiones_seguidas        404\n",
       "hizo_conversion_este_mes       404\n",
       "hizo_conversion_trim_pasado    404\n",
       "convertion                     404\n",
       "dtype: int64"
      ]
     },
     "execution_count": 62,
     "metadata": {},
     "output_type": "execute_result"
    }
   ],
   "source": [
    "nulo = pageview.isnull().sum()\n",
    "nulo[nulo > 0]"
   ]
  },
  {
   "cell_type": "code",
   "execution_count": 65,
   "id": "cf680064-6f30-4f51-af2b-b80131d0259f",
   "metadata": {},
   "outputs": [],
   "source": [
    "pageview = pageview.fillna(0)"
   ]
  },
  {
   "cell_type": "markdown",
   "id": "e29e15e8-43f4-4b94-9214-1ec83d20e6ab",
   "metadata": {},
   "source": [
    "# MODELAMIENTO"
   ]
  },
  {
   "cell_type": "code",
   "execution_count": 67,
   "id": "bfb5a247-7d4f-4f54-8f37-ffa46a1ef9f1",
   "metadata": {},
   "outputs": [],
   "source": [
    "from sklearn.linear_model import LassoCV\n",
    "from sklearn.feature_selection import SelectFromModel\n",
    "from lightgbm import LGBMClassifier\n",
    "from sklearn import model_selection\n",
    "from sklearn.metrics import roc_auc_score\n",
    "from sklearn.model_selection import StratifiedShuffleSplit, StratifiedKFold, TimeSeriesSplit, RandomizedSearchCV\n",
    "from sklearn.model_selection import GridSearchCV\n",
    "from sklearn import model_selection\n",
    "from sklearn.metrics import roc_auc_score\n",
    "from sklearn.model_selection import StratifiedShuffleSplit, StratifiedKFold, TimeSeriesSplit\n",
    "from sklearn.model_selection import GridSearchCV\n",
    "from sklearn.model_selection import TimeSeriesSplit, cross_val_score, GridSearchCV\n",
    "from sklearn.linear_model import LogisticRegression\n",
    "from sklearn.discriminant_analysis import QuadraticDiscriminantAnalysis\n",
    "from sklearn.feature_selection import VarianceThreshold\n",
    "from sklearn.decomposition import PCA\n",
    "from sklearn.cluster import KMeans\n",
    "from sklearn.neighbors import KNeighborsClassifier\n",
    "\n",
    "time_split = TimeSeriesSplit(\n",
    "    n_splits=10\n",
    ")"
   ]
  },
  {
   "cell_type": "code",
   "execution_count": 68,
   "id": "5b6ff631-fb57-41c9-b3ab-cbeded4a9264",
   "metadata": {},
   "outputs": [],
   "source": [
    "X_train = pageview[pageview['trimestre'].astype(str).isin(['2', '3'])].drop(['trimestre', 'USER_ID', 'convertion'], axis=1)\n",
    "X_test = pageview[pageview['trimestre'].astype(str).isin(['4'])].drop(['trimestre', 'USER_ID', 'convertion'], axis=1)\n",
    "users_test = pageview[pageview['trimestre'].astype(str).isin(['4'])]['USER_ID']\n",
    "users_train = pageview[pageview['trimestre'].astype(str).isin(['2', '3'])]['USER_ID']\n",
    "y_train = pageview[pageview['trimestre'].astype(str).isin(['2', '3'])]['convertion']"
   ]
  },
  {
   "cell_type": "code",
   "execution_count": 69,
   "id": "0a92fa10-0f0b-4171-9f43-3eebbc1e9a04",
   "metadata": {},
   "outputs": [
    {
     "data": {
      "text/plain": [
       "(11589,)"
      ]
     },
     "execution_count": 69,
     "metadata": {},
     "output_type": "execute_result"
    }
   ],
   "source": [
    "users_test.shape"
   ]
  },
  {
   "cell_type": "code",
   "execution_count": 70,
   "id": "30f279d5-2aa2-40bd-b44f-9669cdbb605d",
   "metadata": {},
   "outputs": [
    {
     "data": {
      "text/plain": [
       "(22803, 4978)"
      ]
     },
     "execution_count": 70,
     "metadata": {},
     "output_type": "execute_result"
    }
   ],
   "source": [
    "X_train.shape"
   ]
  },
  {
   "cell_type": "code",
   "execution_count": 71,
   "id": "2923d6cb-b921-4f20-8e16-5d7baded5370",
   "metadata": {},
   "outputs": [
    {
     "data": {
      "text/plain": [
       "(11589, 4978)"
      ]
     },
     "execution_count": 71,
     "metadata": {},
     "output_type": "execute_result"
    }
   ],
   "source": [
    "X_test.shape"
   ]
  },
  {
   "cell_type": "code",
   "execution_count": 72,
   "id": "f1d8a272-945c-4f61-a385-4611e29a193b",
   "metadata": {},
   "outputs": [
    {
     "data": {
      "text/plain": [
       "(22803,)"
      ]
     },
     "execution_count": 72,
     "metadata": {},
     "output_type": "execute_result"
    }
   ],
   "source": [
    "y_train.shape"
   ]
  },
  {
   "cell_type": "code",
   "execution_count": 73,
   "id": "83676026-0837-460f-96d7-8219cba2fb20",
   "metadata": {},
   "outputs": [
    {
     "data": {
      "text/plain": [
       "110"
      ]
     },
     "execution_count": 73,
     "metadata": {},
     "output_type": "execute_result"
    }
   ],
   "source": [
    "#del pageview\n",
    "gc.collect()"
   ]
  },
  {
   "cell_type": "code",
   "execution_count": 74,
   "id": "c6925800-3823-4d96-9603-ee50cdfcb315",
   "metadata": {},
   "outputs": [],
   "source": [
    "from sklearn.model_selection import RepeatedStratifiedKFold\n",
    "\n",
    "repeat = RepeatedStratifiedKFold(\n",
    "    n_splits=4, n_repeats=2, random_state=SEED\n",
    ")"
   ]
  },
  {
   "cell_type": "code",
   "execution_count": 75,
   "id": "5eeb400a-b1f0-4711-a82e-c046188177f1",
   "metadata": {},
   "outputs": [
    {
     "name": "stderr",
     "output_type": "stream",
     "text": [
      "[Parallel(n_jobs=4)]: Using backend ThreadingBackend with 4 concurrent workers.\n",
      "................................................................................................................................................................................................................................................................................................................................................................................................................................................................................................................................................................................................................................................................................................................................................................................................................................[Parallel(n_jobs=4)]: Done   8 out of   8 | elapsed:  2.6min finished\n"
     ]
    },
    {
     "data": {
      "text/plain": [
       "SelectFromModel(estimator=LassoCV(cv=RepeatedStratifiedKFold(n_repeats=2, n_splits=4, random_state=29082013),\n",
       "                                  n_jobs=4, random_state=29082013, verbose=1))"
      ]
     },
     "execution_count": 75,
     "metadata": {},
     "output_type": "execute_result"
    }
   ],
   "source": [
    "lasso_cv = LassoCV(\n",
    "    cv=repeat, \n",
    "    selection='cyclic',\n",
    "    random_state=SEED, \n",
    "    verbose=1,\n",
    "    normalize=False,\n",
    "    n_jobs=4\n",
    ")\n",
    "\n",
    "sfm = SelectFromModel(lasso_cv)\n",
    "sfm.fit(\n",
    "    X_train, y_train\n",
    ")"
   ]
  },
  {
   "cell_type": "code",
   "execution_count": 76,
   "id": "7cc6f71a-67d2-42b4-819b-61bd45e31b4d",
   "metadata": {},
   "outputs": [],
   "source": [
    "def var_cols_relevants(sfm, X):\n",
    "    bool_select_var = list(sfm.get_support())\n",
    "    list_columns = list(X.columns)\n",
    "    return list({\n",
    "       list_columns[i]: bool_select_var[i] for i in range(len(list_columns)) if bool_select_var[i]\n",
    "    }.keys())"
   ]
  },
  {
   "cell_type": "code",
   "execution_count": 77,
   "id": "87d650bc-ab62-4cec-b4e3-225d90a2f37c",
   "metadata": {},
   "outputs": [
    {
     "name": "stdout",
     "output_type": "stream",
     "text": [
      "110\n"
     ]
    }
   ],
   "source": [
    "list_var_relevants_r = var_cols_relevants(sfm, X_train)\n",
    "print(len(list_var_relevants_r))"
   ]
  },
  {
   "cell_type": "code",
   "execution_count": 78,
   "id": "8c6a56b4-8e57-4304-99e3-7f9087520b49",
   "metadata": {},
   "outputs": [
    {
     "data": {
      "text/html": [
       "<div>\n",
       "<style scoped>\n",
       "    .dataframe tbody tr th:only-of-type {\n",
       "        vertical-align: middle;\n",
       "    }\n",
       "\n",
       "    .dataframe tbody tr th {\n",
       "        vertical-align: top;\n",
       "    }\n",
       "\n",
       "    .dataframe thead th {\n",
       "        text-align: right;\n",
       "    }\n",
       "</style>\n",
       "<table border=\"1\" class=\"dataframe\">\n",
       "  <thead>\n",
       "    <tr style=\"text-align: right;\">\n",
       "      <th></th>\n",
       "      <th>108_109</th>\n",
       "      <th>10_10</th>\n",
       "      <th>110_57</th>\n",
       "      <th>14_2</th>\n",
       "      <th>1_2</th>\n",
       "      <th>202_202</th>\n",
       "      <th>20_4</th>\n",
       "      <th>21_32</th>\n",
       "      <th>21_57</th>\n",
       "      <th>23_3</th>\n",
       "      <th>...</th>\n",
       "      <th>page_57</th>\n",
       "      <th>page_6</th>\n",
       "      <th>page_65</th>\n",
       "      <th>page_85</th>\n",
       "      <th>page_87</th>\n",
       "      <th>page_88</th>\n",
       "      <th>page_89</th>\n",
       "      <th>2_conversiones_seguidas</th>\n",
       "      <th>hizo_conversion_este_mes</th>\n",
       "      <th>hizo_conversion_trim_pasado</th>\n",
       "    </tr>\n",
       "  </thead>\n",
       "  <tbody>\n",
       "    <tr>\n",
       "      <th>0</th>\n",
       "      <td>0.000000</td>\n",
       "      <td>0.003110</td>\n",
       "      <td>0.000000</td>\n",
       "      <td>0.000272</td>\n",
       "      <td>0.027963</td>\n",
       "      <td>0.0</td>\n",
       "      <td>0.002468</td>\n",
       "      <td>0.001283</td>\n",
       "      <td>0.000000</td>\n",
       "      <td>0.001110</td>\n",
       "      <td>...</td>\n",
       "      <td>0.000642</td>\n",
       "      <td>0.004369</td>\n",
       "      <td>0.000370</td>\n",
       "      <td>0.000000</td>\n",
       "      <td>0.000000</td>\n",
       "      <td>0.000000</td>\n",
       "      <td>0.000000</td>\n",
       "      <td>0.0</td>\n",
       "      <td>0.0</td>\n",
       "      <td>0.0</td>\n",
       "    </tr>\n",
       "    <tr>\n",
       "      <th>1</th>\n",
       "      <td>0.000000</td>\n",
       "      <td>0.030421</td>\n",
       "      <td>0.000000</td>\n",
       "      <td>0.000000</td>\n",
       "      <td>0.076862</td>\n",
       "      <td>0.0</td>\n",
       "      <td>0.004013</td>\n",
       "      <td>0.001605</td>\n",
       "      <td>0.000000</td>\n",
       "      <td>0.000000</td>\n",
       "      <td>...</td>\n",
       "      <td>0.000000</td>\n",
       "      <td>0.000803</td>\n",
       "      <td>0.000000</td>\n",
       "      <td>0.000000</td>\n",
       "      <td>0.000000</td>\n",
       "      <td>0.000000</td>\n",
       "      <td>0.000000</td>\n",
       "      <td>0.0</td>\n",
       "      <td>0.0</td>\n",
       "      <td>0.0</td>\n",
       "    </tr>\n",
       "    <tr>\n",
       "      <th>2</th>\n",
       "      <td>0.000000</td>\n",
       "      <td>0.053620</td>\n",
       "      <td>0.000000</td>\n",
       "      <td>0.000000</td>\n",
       "      <td>0.015163</td>\n",
       "      <td>0.0</td>\n",
       "      <td>0.004332</td>\n",
       "      <td>0.000000</td>\n",
       "      <td>0.003139</td>\n",
       "      <td>0.000000</td>\n",
       "      <td>...</td>\n",
       "      <td>0.005084</td>\n",
       "      <td>0.000973</td>\n",
       "      <td>0.006498</td>\n",
       "      <td>0.000000</td>\n",
       "      <td>0.000000</td>\n",
       "      <td>0.000000</td>\n",
       "      <td>0.000000</td>\n",
       "      <td>0.0</td>\n",
       "      <td>0.0</td>\n",
       "      <td>0.0</td>\n",
       "    </tr>\n",
       "    <tr>\n",
       "      <th>3</th>\n",
       "      <td>0.000000</td>\n",
       "      <td>0.000000</td>\n",
       "      <td>0.000000</td>\n",
       "      <td>0.005058</td>\n",
       "      <td>0.000000</td>\n",
       "      <td>0.0</td>\n",
       "      <td>0.006503</td>\n",
       "      <td>0.010116</td>\n",
       "      <td>0.000723</td>\n",
       "      <td>0.000723</td>\n",
       "      <td>...</td>\n",
       "      <td>0.007948</td>\n",
       "      <td>0.005058</td>\n",
       "      <td>0.002168</td>\n",
       "      <td>0.158237</td>\n",
       "      <td>0.072977</td>\n",
       "      <td>0.015896</td>\n",
       "      <td>0.007948</td>\n",
       "      <td>0.0</td>\n",
       "      <td>0.0</td>\n",
       "      <td>0.0</td>\n",
       "    </tr>\n",
       "    <tr>\n",
       "      <th>4</th>\n",
       "      <td>0.005048</td>\n",
       "      <td>0.129902</td>\n",
       "      <td>0.005048</td>\n",
       "      <td>0.000000</td>\n",
       "      <td>0.002335</td>\n",
       "      <td>0.0</td>\n",
       "      <td>0.000774</td>\n",
       "      <td>0.000000</td>\n",
       "      <td>0.000000</td>\n",
       "      <td>0.007403</td>\n",
       "      <td>...</td>\n",
       "      <td>0.024040</td>\n",
       "      <td>0.026019</td>\n",
       "      <td>0.011246</td>\n",
       "      <td>0.012033</td>\n",
       "      <td>0.000000</td>\n",
       "      <td>0.000000</td>\n",
       "      <td>0.005822</td>\n",
       "      <td>0.0</td>\n",
       "      <td>0.0</td>\n",
       "      <td>0.0</td>\n",
       "    </tr>\n",
       "  </tbody>\n",
       "</table>\n",
       "<p>5 rows × 110 columns</p>\n",
       "</div>"
      ],
      "text/plain": [
       "    108_109     10_10    110_57      14_2       1_2  202_202      20_4  \\\n",
       "0  0.000000  0.003110  0.000000  0.000272  0.027963      0.0  0.002468   \n",
       "1  0.000000  0.030421  0.000000  0.000000  0.076862      0.0  0.004013   \n",
       "2  0.000000  0.053620  0.000000  0.000000  0.015163      0.0  0.004332   \n",
       "3  0.000000  0.000000  0.000000  0.005058  0.000000      0.0  0.006503   \n",
       "4  0.005048  0.129902  0.005048  0.000000  0.002335      0.0  0.000774   \n",
       "\n",
       "      21_32     21_57      23_3  ...   page_57    page_6   page_65   page_85  \\\n",
       "0  0.001283  0.000000  0.001110  ...  0.000642  0.004369  0.000370  0.000000   \n",
       "1  0.001605  0.000000  0.000000  ...  0.000000  0.000803  0.000000  0.000000   \n",
       "2  0.000000  0.003139  0.000000  ...  0.005084  0.000973  0.006498  0.000000   \n",
       "3  0.010116  0.000723  0.000723  ...  0.007948  0.005058  0.002168  0.158237   \n",
       "4  0.000000  0.000000  0.007403  ...  0.024040  0.026019  0.011246  0.012033   \n",
       "\n",
       "    page_87   page_88   page_89  2_conversiones_seguidas  \\\n",
       "0  0.000000  0.000000  0.000000                      0.0   \n",
       "1  0.000000  0.000000  0.000000                      0.0   \n",
       "2  0.000000  0.000000  0.000000                      0.0   \n",
       "3  0.072977  0.015896  0.007948                      0.0   \n",
       "4  0.000000  0.000000  0.005822                      0.0   \n",
       "\n",
       "   hizo_conversion_este_mes  hizo_conversion_trim_pasado  \n",
       "0                       0.0                          0.0  \n",
       "1                       0.0                          0.0  \n",
       "2                       0.0                          0.0  \n",
       "3                       0.0                          0.0  \n",
       "4                       0.0                          0.0  \n",
       "\n",
       "[5 rows x 110 columns]"
      ]
     },
     "execution_count": 78,
     "metadata": {},
     "output_type": "execute_result"
    }
   ],
   "source": [
    "X_train[list_var_relevants_r].head()"
   ]
  },
  {
   "cell_type": "code",
   "execution_count": 79,
   "id": "1aa388b1-1e24-40b8-8621-b3321d26912e",
   "metadata": {},
   "outputs": [
    {
     "name": "stderr",
     "output_type": "stream",
     "text": [
      "[Parallel(n_jobs=4)]: Using backend ThreadingBackend with 4 concurrent workers.\n",
      "........................................................................................................................................................................................................................................................................................................................................................................................................................................................................................................................................................................................................................................................................................................................................................................................................................................................................................................................................................................................................................................[Parallel(n_jobs=4)]: Done  10 out of  10 | elapsed:  4.4min finished\n"
     ]
    },
    {
     "data": {
      "text/plain": [
       "SelectFromModel(estimator=LassoCV(cv=TimeSeriesSplit(gap=0, max_train_size=None, n_splits=10, test_size=None),\n",
       "                                  n_jobs=4, random_state=29082013, verbose=1))"
      ]
     },
     "execution_count": 79,
     "metadata": {},
     "output_type": "execute_result"
    }
   ],
   "source": [
    "lasso_cv = LassoCV(\n",
    "    cv=time_split, \n",
    "    selection='cyclic',\n",
    "    random_state=SEED, \n",
    "    verbose=1,\n",
    "    normalize=False,\n",
    "    n_jobs=4\n",
    ")\n",
    "\n",
    "sfm = SelectFromModel(lasso_cv)\n",
    "sfm.fit(\n",
    "    X_train, y_train\n",
    ")"
   ]
  },
  {
   "cell_type": "code",
   "execution_count": 80,
   "id": "8fe776ec-da35-46d9-8744-ab782ec1a4fd",
   "metadata": {},
   "outputs": [
    {
     "name": "stdout",
     "output_type": "stream",
     "text": [
      "29\n"
     ]
    }
   ],
   "source": [
    "list_var_relevants = var_cols_relevants(sfm, X_train)\n",
    "print(len(list_var_relevants))"
   ]
  },
  {
   "cell_type": "code",
   "execution_count": 81,
   "id": "c1f31ba0-3e65-49e3-aa98-a12caef786ea",
   "metadata": {},
   "outputs": [
    {
     "data": {
      "text/html": [
       "<div>\n",
       "<style scoped>\n",
       "    .dataframe tbody tr th:only-of-type {\n",
       "        vertical-align: middle;\n",
       "    }\n",
       "\n",
       "    .dataframe tbody tr th {\n",
       "        vertical-align: top;\n",
       "    }\n",
       "\n",
       "    .dataframe thead th {\n",
       "        text-align: right;\n",
       "    }\n",
       "</style>\n",
       "<table border=\"1\" class=\"dataframe\">\n",
       "  <thead>\n",
       "    <tr style=\"text-align: right;\">\n",
       "      <th></th>\n",
       "      <th>2_2_x</th>\n",
       "      <th>2_3</th>\n",
       "      <th>speed_0</th>\n",
       "      <th>speed_2</th>\n",
       "      <th>speed_3</th>\n",
       "      <th>1_x</th>\n",
       "      <th>3</th>\n",
       "      <th>0_luego_del_trabajo</th>\n",
       "      <th>0_trabajo_manana</th>\n",
       "      <th>2_luego_del_trabajo</th>\n",
       "      <th>...</th>\n",
       "      <th>page_2</th>\n",
       "      <th>page_20</th>\n",
       "      <th>page_39</th>\n",
       "      <th>page_4</th>\n",
       "      <th>page_41</th>\n",
       "      <th>page_43</th>\n",
       "      <th>page_85</th>\n",
       "      <th>2_conversiones_seguidas</th>\n",
       "      <th>hizo_conversion_este_mes</th>\n",
       "      <th>hizo_conversion_trim_pasado</th>\n",
       "    </tr>\n",
       "  </thead>\n",
       "  <tbody>\n",
       "    <tr>\n",
       "      <th>0</th>\n",
       "      <td>0.012389</td>\n",
       "      <td>0.010810</td>\n",
       "      <td>0.015210</td>\n",
       "      <td>0.000000</td>\n",
       "      <td>0.210692</td>\n",
       "      <td>0.052478</td>\n",
       "      <td>0.091397</td>\n",
       "      <td>0.025745</td>\n",
       "      <td>0.114122</td>\n",
       "      <td>0.058788</td>\n",
       "      <td>...</td>\n",
       "      <td>0.094275</td>\n",
       "      <td>0.009825</td>\n",
       "      <td>0.001555</td>\n",
       "      <td>0.007775</td>\n",
       "      <td>0.000272</td>\n",
       "      <td>0.000543</td>\n",
       "      <td>0.000000</td>\n",
       "      <td>0.0</td>\n",
       "      <td>0.0</td>\n",
       "      <td>0.0</td>\n",
       "    </tr>\n",
       "    <tr>\n",
       "      <th>1</th>\n",
       "      <td>0.011217</td>\n",
       "      <td>0.008018</td>\n",
       "      <td>0.927286</td>\n",
       "      <td>0.000000</td>\n",
       "      <td>0.000000</td>\n",
       "      <td>0.128910</td>\n",
       "      <td>0.051341</td>\n",
       "      <td>0.055911</td>\n",
       "      <td>0.100785</td>\n",
       "      <td>0.058387</td>\n",
       "      <td>...</td>\n",
       "      <td>0.120895</td>\n",
       "      <td>0.009627</td>\n",
       "      <td>0.000000</td>\n",
       "      <td>0.007223</td>\n",
       "      <td>0.000000</td>\n",
       "      <td>0.000803</td>\n",
       "      <td>0.000000</td>\n",
       "      <td>0.0</td>\n",
       "      <td>0.0</td>\n",
       "      <td>0.0</td>\n",
       "    </tr>\n",
       "    <tr>\n",
       "      <th>2</th>\n",
       "      <td>0.031700</td>\n",
       "      <td>0.038548</td>\n",
       "      <td>0.165207</td>\n",
       "      <td>0.047403</td>\n",
       "      <td>0.093242</td>\n",
       "      <td>0.219215</td>\n",
       "      <td>0.319268</td>\n",
       "      <td>0.004773</td>\n",
       "      <td>0.028951</td>\n",
       "      <td>0.021259</td>\n",
       "      <td>...</td>\n",
       "      <td>0.167280</td>\n",
       "      <td>0.021881</td>\n",
       "      <td>0.012646</td>\n",
       "      <td>0.014631</td>\n",
       "      <td>0.000000</td>\n",
       "      <td>0.000973</td>\n",
       "      <td>0.000000</td>\n",
       "      <td>0.0</td>\n",
       "      <td>0.0</td>\n",
       "      <td>0.0</td>\n",
       "    </tr>\n",
       "    <tr>\n",
       "      <th>3</th>\n",
       "      <td>0.019509</td>\n",
       "      <td>0.061416</td>\n",
       "      <td>0.005102</td>\n",
       "      <td>0.000000</td>\n",
       "      <td>0.005102</td>\n",
       "      <td>0.091040</td>\n",
       "      <td>0.302023</td>\n",
       "      <td>0.002890</td>\n",
       "      <td>0.040462</td>\n",
       "      <td>0.032514</td>\n",
       "      <td>...</td>\n",
       "      <td>0.156069</td>\n",
       "      <td>0.011561</td>\n",
       "      <td>0.002168</td>\n",
       "      <td>0.025289</td>\n",
       "      <td>0.000723</td>\n",
       "      <td>0.000000</td>\n",
       "      <td>0.158237</td>\n",
       "      <td>0.0</td>\n",
       "      <td>0.0</td>\n",
       "      <td>0.0</td>\n",
       "    </tr>\n",
       "    <tr>\n",
       "      <th>4</th>\n",
       "      <td>0.025668</td>\n",
       "      <td>0.036517</td>\n",
       "      <td>0.000000</td>\n",
       "      <td>0.310250</td>\n",
       "      <td>0.012658</td>\n",
       "      <td>0.041598</td>\n",
       "      <td>0.375128</td>\n",
       "      <td>0.033745</td>\n",
       "      <td>0.046189</td>\n",
       "      <td>0.115903</td>\n",
       "      <td>...</td>\n",
       "      <td>0.091353</td>\n",
       "      <td>0.006205</td>\n",
       "      <td>0.000000</td>\n",
       "      <td>0.003096</td>\n",
       "      <td>0.006219</td>\n",
       "      <td>0.007026</td>\n",
       "      <td>0.012033</td>\n",
       "      <td>0.0</td>\n",
       "      <td>0.0</td>\n",
       "      <td>0.0</td>\n",
       "    </tr>\n",
       "  </tbody>\n",
       "</table>\n",
       "<p>5 rows × 29 columns</p>\n",
       "</div>"
      ],
      "text/plain": [
       "      2_2_x       2_3   speed_0   speed_2   speed_3       1_x         3  \\\n",
       "0  0.012389  0.010810  0.015210  0.000000  0.210692  0.052478  0.091397   \n",
       "1  0.011217  0.008018  0.927286  0.000000  0.000000  0.128910  0.051341   \n",
       "2  0.031700  0.038548  0.165207  0.047403  0.093242  0.219215  0.319268   \n",
       "3  0.019509  0.061416  0.005102  0.000000  0.005102  0.091040  0.302023   \n",
       "4  0.025668  0.036517  0.000000  0.310250  0.012658  0.041598  0.375128   \n",
       "\n",
       "   0_luego_del_trabajo  0_trabajo_manana  2_luego_del_trabajo  ...    page_2  \\\n",
       "0             0.025745          0.114122             0.058788  ...  0.094275   \n",
       "1             0.055911          0.100785             0.058387  ...  0.120895   \n",
       "2             0.004773          0.028951             0.021259  ...  0.167280   \n",
       "3             0.002890          0.040462             0.032514  ...  0.156069   \n",
       "4             0.033745          0.046189             0.115903  ...  0.091353   \n",
       "\n",
       "    page_20   page_39    page_4   page_41   page_43   page_85  \\\n",
       "0  0.009825  0.001555  0.007775  0.000272  0.000543  0.000000   \n",
       "1  0.009627  0.000000  0.007223  0.000000  0.000803  0.000000   \n",
       "2  0.021881  0.012646  0.014631  0.000000  0.000973  0.000000   \n",
       "3  0.011561  0.002168  0.025289  0.000723  0.000000  0.158237   \n",
       "4  0.006205  0.000000  0.003096  0.006219  0.007026  0.012033   \n",
       "\n",
       "   2_conversiones_seguidas  hizo_conversion_este_mes  \\\n",
       "0                      0.0                       0.0   \n",
       "1                      0.0                       0.0   \n",
       "2                      0.0                       0.0   \n",
       "3                      0.0                       0.0   \n",
       "4                      0.0                       0.0   \n",
       "\n",
       "   hizo_conversion_trim_pasado  \n",
       "0                          0.0  \n",
       "1                          0.0  \n",
       "2                          0.0  \n",
       "3                          0.0  \n",
       "4                          0.0  \n",
       "\n",
       "[5 rows x 29 columns]"
      ]
     },
     "execution_count": 81,
     "metadata": {},
     "output_type": "execute_result"
    }
   ],
   "source": [
    "X_train[list_var_relevants].head()"
   ]
  },
  {
   "cell_type": "code",
   "execution_count": null,
   "id": "2cc01bff-2619-4512-9650-27293f21fd9b",
   "metadata": {},
   "outputs": [],
   "source": []
  },
  {
   "cell_type": "code",
   "execution_count": 82,
   "id": "aea84d8a-3f0b-4397-8f2f-90055f13ed96",
   "metadata": {},
   "outputs": [
    {
     "name": "stdout",
     "output_type": "stream",
     "text": [
      "['2_2_x', '2_3', 'speed_0', 'speed_2', 'speed_3', '1_x', '3', '0_luego_del_trabajo', '0_trabajo_manana', '2_luego_del_trabajo', '2_trabajo_tarde', '3_luego_del_trabajo', '5_antes_del_trabajo', '18_24', 'fin_de_mes', 'inicio_mes', '16_2', '4_2_y', 'page_110', 'page_2', 'page_20', 'page_39', 'page_4', 'page_41', 'page_43', 'page_85', '2_conversiones_seguidas', 'hizo_conversion_este_mes', 'hizo_conversion_trim_pasado']\n"
     ]
    }
   ],
   "source": [
    "print(list_var_relevants)"
   ]
  },
  {
   "cell_type": "code",
   "execution_count": 83,
   "id": "669a4987-b230-411e-b7ab-808dfe6fb7e2",
   "metadata": {},
   "outputs": [
    {
     "name": "stdout",
     "output_type": "stream",
     "text": [
      "['108_109', '10_10', '110_57', '14_2', '1_2', '202_202', '20_4', '21_32', '21_57', '23_3', '27_27', '27_69', '2_14', '2_2_x', '2_3', '2_9', '321_321', '3_20', '3_21', '3_27', '41_43', '451_451', '45_2', '5_2_x', '82_182', '85_14', 'speed_0', 'speed_1', 'speed_2', 'speed_3', 'device_0', 'device_1', '1_x', '3', '0_antes_del_trabajo', '0_luego_del_trabajo', '0_madrugada', '0_trabajo_manana', '1_almuerzo', '1_antes_del_trabajo', '1_madrugada', '1_trabajo_manana', '1_trabajo_tarde', '2_antes_del_trabajo', '2_luego_del_trabajo', '2_madrugada', '2_trabajo_tarde', '3_almuerzo', '3_antes_del_trabajo', '3_luego_del_trabajo', '3_trabajo_manana', '3_trabajo_tarde', '4_antes_del_trabajo', '4_luego_del_trabajo', '4_madrugada', '4_trabajo_manana', '4_trabajo_tarde', '5_almuerzo', '5_antes_del_trabajo', '5_luego_del_trabajo', '5_madrugada', '5_trabajo_manana', '5_trabajo_tarde', '6_almuerzo', '6_luego_del_trabajo', '6_madrugada', '6_trabajo_tarde', '18_24', 'fin_de_mes', 'inicio_mes', '16_2', '1_1_y', '2_2_y', '4_2_y', '7_5', 'page_1', 'page_10', 'page_110', 'page_113', 'page_1259', 'page_133', 'page_153', 'page_179', 'page_182', 'page_190', 'page_2', 'page_20', 'page_203', 'page_26', 'page_27', 'page_272', 'page_316', 'page_369', 'page_39', 'page_4', 'page_40', 'page_41', 'page_42', 'page_43', 'page_49', 'page_57', 'page_6', 'page_65', 'page_85', 'page_87', 'page_88', 'page_89', '2_conversiones_seguidas', 'hizo_conversion_este_mes', 'hizo_conversion_trim_pasado']\n"
     ]
    }
   ],
   "source": [
    "print(list_var_relevants_r)"
   ]
  },
  {
   "cell_type": "code",
   "execution_count": null,
   "id": "e495e1fc-83a5-4dd6-b9b3-6d00392cc4b4",
   "metadata": {},
   "outputs": [],
   "source": []
  },
  {
   "cell_type": "code",
   "execution_count": 84,
   "id": "bf4dad5a-5de1-4d9b-b4cb-6b03a00a8bca",
   "metadata": {},
   "outputs": [
    {
     "data": {
      "text/plain": [
       "SelectKBest(k=300, score_func=<function chi2 at 0x000001FD10E7A940>)"
      ]
     },
     "execution_count": 84,
     "metadata": {},
     "output_type": "execute_result"
    }
   ],
   "source": [
    "from sklearn.feature_selection import SelectKBest, chi2\n",
    "\n",
    "best = SelectKBest(chi2, k=300)\n",
    "best.fit(\n",
    "    X_train, y_train\n",
    ")"
   ]
  },
  {
   "cell_type": "code",
   "execution_count": 85,
   "id": "2797ff15-0d9f-4286-9266-15ed01caaf79",
   "metadata": {},
   "outputs": [
    {
     "name": "stdout",
     "output_type": "stream",
     "text": [
      "300\n"
     ]
    }
   ],
   "source": [
    "list_var_chi = var_cols_relevants(best, X_train)\n",
    "print(len(list_var_chi))"
   ]
  },
  {
   "cell_type": "code",
   "execution_count": 86,
   "id": "3c82eda5-ccd3-4520-8969-bc3147347b1f",
   "metadata": {},
   "outputs": [
    {
     "data": {
      "text/html": [
       "<div>\n",
       "<style scoped>\n",
       "    .dataframe tbody tr th:only-of-type {\n",
       "        vertical-align: middle;\n",
       "    }\n",
       "\n",
       "    .dataframe tbody tr th {\n",
       "        vertical-align: top;\n",
       "    }\n",
       "\n",
       "    .dataframe thead th {\n",
       "        text-align: right;\n",
       "    }\n",
       "</style>\n",
       "<table border=\"1\" class=\"dataframe\">\n",
       "  <thead>\n",
       "    <tr style=\"text-align: right;\">\n",
       "      <th></th>\n",
       "      <th>108_109</th>\n",
       "      <th>108_110</th>\n",
       "      <th>108_1247</th>\n",
       "      <th>108_41</th>\n",
       "      <th>108_43</th>\n",
       "      <th>109_108</th>\n",
       "      <th>109_109</th>\n",
       "      <th>109_110</th>\n",
       "      <th>109_2</th>\n",
       "      <th>109_41</th>\n",
       "      <th>...</th>\n",
       "      <th>page_831</th>\n",
       "      <th>page_85</th>\n",
       "      <th>page_87</th>\n",
       "      <th>page_88</th>\n",
       "      <th>page_89</th>\n",
       "      <th>page_9</th>\n",
       "      <th>page_91</th>\n",
       "      <th>2_conversiones_seguidas</th>\n",
       "      <th>hizo_conversion_este_mes</th>\n",
       "      <th>hizo_conversion_trim_pasado</th>\n",
       "    </tr>\n",
       "  </thead>\n",
       "  <tbody>\n",
       "    <tr>\n",
       "      <th>0</th>\n",
       "      <td>0.000000</td>\n",
       "      <td>0.0</td>\n",
       "      <td>0.0</td>\n",
       "      <td>0.0</td>\n",
       "      <td>0.0</td>\n",
       "      <td>0.0</td>\n",
       "      <td>0.0</td>\n",
       "      <td>0.000000</td>\n",
       "      <td>0.0</td>\n",
       "      <td>0.0</td>\n",
       "      <td>...</td>\n",
       "      <td>0.0</td>\n",
       "      <td>0.000000</td>\n",
       "      <td>0.000000</td>\n",
       "      <td>0.000000</td>\n",
       "      <td>0.000000</td>\n",
       "      <td>0.071517</td>\n",
       "      <td>0.000000</td>\n",
       "      <td>0.0</td>\n",
       "      <td>0.0</td>\n",
       "      <td>0.0</td>\n",
       "    </tr>\n",
       "    <tr>\n",
       "      <th>1</th>\n",
       "      <td>0.000000</td>\n",
       "      <td>0.0</td>\n",
       "      <td>0.0</td>\n",
       "      <td>0.0</td>\n",
       "      <td>0.0</td>\n",
       "      <td>0.0</td>\n",
       "      <td>0.0</td>\n",
       "      <td>0.000000</td>\n",
       "      <td>0.0</td>\n",
       "      <td>0.0</td>\n",
       "      <td>...</td>\n",
       "      <td>0.0</td>\n",
       "      <td>0.000000</td>\n",
       "      <td>0.000000</td>\n",
       "      <td>0.000000</td>\n",
       "      <td>0.000000</td>\n",
       "      <td>0.075191</td>\n",
       "      <td>0.000000</td>\n",
       "      <td>0.0</td>\n",
       "      <td>0.0</td>\n",
       "      <td>0.0</td>\n",
       "    </tr>\n",
       "    <tr>\n",
       "      <th>2</th>\n",
       "      <td>0.000000</td>\n",
       "      <td>0.0</td>\n",
       "      <td>0.0</td>\n",
       "      <td>0.0</td>\n",
       "      <td>0.0</td>\n",
       "      <td>0.0</td>\n",
       "      <td>0.0</td>\n",
       "      <td>0.000000</td>\n",
       "      <td>0.0</td>\n",
       "      <td>0.0</td>\n",
       "      <td>...</td>\n",
       "      <td>0.0</td>\n",
       "      <td>0.000000</td>\n",
       "      <td>0.000000</td>\n",
       "      <td>0.000000</td>\n",
       "      <td>0.000000</td>\n",
       "      <td>0.061584</td>\n",
       "      <td>0.000000</td>\n",
       "      <td>0.0</td>\n",
       "      <td>0.0</td>\n",
       "      <td>0.0</td>\n",
       "    </tr>\n",
       "    <tr>\n",
       "      <th>3</th>\n",
       "      <td>0.000000</td>\n",
       "      <td>0.0</td>\n",
       "      <td>0.0</td>\n",
       "      <td>0.0</td>\n",
       "      <td>0.0</td>\n",
       "      <td>0.0</td>\n",
       "      <td>0.0</td>\n",
       "      <td>0.000000</td>\n",
       "      <td>0.0</td>\n",
       "      <td>0.0</td>\n",
       "      <td>...</td>\n",
       "      <td>0.0</td>\n",
       "      <td>0.158237</td>\n",
       "      <td>0.072977</td>\n",
       "      <td>0.015896</td>\n",
       "      <td>0.007948</td>\n",
       "      <td>0.000000</td>\n",
       "      <td>0.002168</td>\n",
       "      <td>0.0</td>\n",
       "      <td>0.0</td>\n",
       "      <td>0.0</td>\n",
       "    </tr>\n",
       "    <tr>\n",
       "      <th>4</th>\n",
       "      <td>0.005048</td>\n",
       "      <td>0.0</td>\n",
       "      <td>0.0</td>\n",
       "      <td>0.0</td>\n",
       "      <td>0.0</td>\n",
       "      <td>0.0</td>\n",
       "      <td>0.0</td>\n",
       "      <td>0.005048</td>\n",
       "      <td>0.0</td>\n",
       "      <td>0.0</td>\n",
       "      <td>...</td>\n",
       "      <td>0.0</td>\n",
       "      <td>0.012033</td>\n",
       "      <td>0.000000</td>\n",
       "      <td>0.000000</td>\n",
       "      <td>0.005822</td>\n",
       "      <td>0.001171</td>\n",
       "      <td>0.000390</td>\n",
       "      <td>0.0</td>\n",
       "      <td>0.0</td>\n",
       "      <td>0.0</td>\n",
       "    </tr>\n",
       "  </tbody>\n",
       "</table>\n",
       "<p>5 rows × 300 columns</p>\n",
       "</div>"
      ],
      "text/plain": [
       "    108_109  108_110  108_1247  108_41  108_43  109_108  109_109   109_110  \\\n",
       "0  0.000000      0.0       0.0     0.0     0.0      0.0      0.0  0.000000   \n",
       "1  0.000000      0.0       0.0     0.0     0.0      0.0      0.0  0.000000   \n",
       "2  0.000000      0.0       0.0     0.0     0.0      0.0      0.0  0.000000   \n",
       "3  0.000000      0.0       0.0     0.0     0.0      0.0      0.0  0.000000   \n",
       "4  0.005048      0.0       0.0     0.0     0.0      0.0      0.0  0.005048   \n",
       "\n",
       "   109_2  109_41  ...  page_831   page_85   page_87   page_88   page_89  \\\n",
       "0    0.0     0.0  ...       0.0  0.000000  0.000000  0.000000  0.000000   \n",
       "1    0.0     0.0  ...       0.0  0.000000  0.000000  0.000000  0.000000   \n",
       "2    0.0     0.0  ...       0.0  0.000000  0.000000  0.000000  0.000000   \n",
       "3    0.0     0.0  ...       0.0  0.158237  0.072977  0.015896  0.007948   \n",
       "4    0.0     0.0  ...       0.0  0.012033  0.000000  0.000000  0.005822   \n",
       "\n",
       "     page_9   page_91  2_conversiones_seguidas  hizo_conversion_este_mes  \\\n",
       "0  0.071517  0.000000                      0.0                       0.0   \n",
       "1  0.075191  0.000000                      0.0                       0.0   \n",
       "2  0.061584  0.000000                      0.0                       0.0   \n",
       "3  0.000000  0.002168                      0.0                       0.0   \n",
       "4  0.001171  0.000390                      0.0                       0.0   \n",
       "\n",
       "   hizo_conversion_trim_pasado  \n",
       "0                          0.0  \n",
       "1                          0.0  \n",
       "2                          0.0  \n",
       "3                          0.0  \n",
       "4                          0.0  \n",
       "\n",
       "[5 rows x 300 columns]"
      ]
     },
     "execution_count": 86,
     "metadata": {},
     "output_type": "execute_result"
    }
   ],
   "source": [
    "X_train[list_var_chi].head()"
   ]
  },
  {
   "cell_type": "code",
   "execution_count": 87,
   "id": "4d1d0cbe-1cc8-4390-8bad-596e2c3202ea",
   "metadata": {},
   "outputs": [
    {
     "name": "stdout",
     "output_type": "stream",
     "text": [
      "['108_109', '108_110', '108_1247', '108_41', '108_43', '109_108', '109_109', '109_110', '109_2', '109_41', '10_1', '10_111', '10_12', '10_123', '10_15', '10_18', '110_109', '110_110', '110_1259', '110_2', '110_20', '110_21', '110_27', '110_285', '110_296', '110_3', '110_40', '110_41', '110_42', '110_5', '110_57', '111_1', '111_10', '111_254', '1227_1227', '1227_611', '123_111', '1247_1248', '1248_1249', '1249_1250', '1250_1251', '1251_57', '1259_110', '12_10', '133_345', '153_2', '153_3', '153_41', '153_5', '15_1', '163_164', '164_165', '165_210', '168_168', '190_163', '1_1_x', '1_2', '202_202', '202_203', '202_40', '203_202', '203_203', '203_40', '20_39', '20_4', '20_41', '210_211', '211_212', '212_39', '21_41', '23_153', '23_41', '24_25', '25_49', '26_41', '26_43', '27_153', '27_23', '27_41', '27_69', '285_110', '285_285', '285_286', '285_41', '286_285', '286_287', '287_133', '287_286', '287_345', '287_57', '287_61', '289_2', '296_110', '296_41', '2_1', '2_14', '2_27', '2_40', '2_83', '2_9', '321_14', '321_2', '321_321', '321_360', '321_40', '321_455', '321_85', '321_89', '32_41', '345_41', '360_321', '39_190', '39_2', '39_20', '39_3', '39_39', '39_5', '3_108', '3_1259', '3_2', '3_20', '3_23', '3_27', '3_39', '3_4', '3_41', '3_69', '40_2', '40_202', '40_426', '41_108', '41_109', '41_110', '41_2', '41_20', '41_21', '41_26', '41_27', '41_285', '41_296', '41_3', '41_40', '41_41', '41_42', '41_5', '41_57', '42_41', '451_451', '455_321', '455_456', '455_85', '456_457', '457_85', '47_111', '49_50', '4_2_x', '4_39', '4_41', '4_5', '50_26', '516_611', '57_110', '57_2', '57_3', '57_41', '611_612', '611_831', '612_1254', '61_345', '61_57', '65_41', '671_57', '69_3', '69_41', '85_321', '85_360', '85_85', '85_88', '85_89', '87_360', '88_85', '89_321', '89_85', '9_10', '9_9', 'none_1227', 'none_2', 'speed_0', 'speed_1', 'speed_2', 'device_0', 'device_1', '1_x', '2', '3', '4', '0_madrugada', '1_almuerzo', '1_antes_del_trabajo', '1_trabajo_manana', '2_almuerzo', '2_antes_del_trabajo', '2_madrugada', '2_trabajo_tarde', '3_antes_del_trabajo', '4_antes_del_trabajo', '4_luego_del_trabajo', '4_trabajo_manana', '5_antes_del_trabajo', '6_madrugada', '18_24', '16_2', '18_2_y', '1_1_y', '20_3_y', '2_2_y', '34_2_y', '4_2_y', '6_4_y', 'page_1', 'page_10', 'page_106', 'page_108', 'page_109', 'page_110', 'page_111', 'page_12', 'page_121', 'page_1227', 'page_123', 'page_1247', 'page_1248', 'page_1249', 'page_1250', 'page_1251', 'page_1254', 'page_1259', 'page_135', 'page_14', 'page_15', 'page_153', 'page_163', 'page_164', 'page_165', 'page_168', 'page_179', 'page_18', 'page_190', 'page_2', 'page_20', 'page_202', 'page_203', 'page_210', 'page_211', 'page_212', 'page_23', 'page_243', 'page_25', 'page_254', 'page_27', 'page_285', 'page_286', 'page_287', 'page_289', 'page_296', 'page_321', 'page_33', 'page_345', 'page_360', 'page_39', 'page_4', 'page_40', 'page_41', 'page_426', 'page_451', 'page_455', 'page_456', 'page_457', 'page_49', 'page_50', 'page_516', 'page_541', 'page_542', 'page_564', 'page_57', 'page_6', 'page_611', 'page_612', 'page_660', 'page_69', 'page_831', 'page_85', 'page_87', 'page_88', 'page_89', 'page_9', 'page_91', '2_conversiones_seguidas', 'hizo_conversion_este_mes', 'hizo_conversion_trim_pasado']\n"
     ]
    }
   ],
   "source": [
    "print(list_var_chi)"
   ]
  },
  {
   "cell_type": "code",
   "execution_count": 88,
   "id": "f9e23c21-270a-474b-b0d8-c3700ea58ec6",
   "metadata": {},
   "outputs": [
    {
     "data": {
      "text/plain": [
       "SelectKBest(k=300)"
      ]
     },
     "execution_count": 88,
     "metadata": {},
     "output_type": "execute_result"
    }
   ],
   "source": [
    "from sklearn.feature_selection import f_classif\n",
    "\n",
    "anova = SelectKBest(f_classif, k=300)\n",
    "anova.fit(\n",
    "    X_train, y_train\n",
    ")"
   ]
  },
  {
   "cell_type": "code",
   "execution_count": 89,
   "id": "d1d39acd-5d38-47a1-89da-8e2a046cc3b1",
   "metadata": {},
   "outputs": [
    {
     "name": "stdout",
     "output_type": "stream",
     "text": [
      "300\n"
     ]
    }
   ],
   "source": [
    "list_var_anova = var_cols_relevants(anova, X_train)\n",
    "print(len(list_var_anova))"
   ]
  },
  {
   "cell_type": "code",
   "execution_count": 90,
   "id": "f24ad5ed-d2c1-4612-b047-1bba916cb437",
   "metadata": {},
   "outputs": [
    {
     "data": {
      "text/html": [
       "<div>\n",
       "<style scoped>\n",
       "    .dataframe tbody tr th:only-of-type {\n",
       "        vertical-align: middle;\n",
       "    }\n",
       "\n",
       "    .dataframe tbody tr th {\n",
       "        vertical-align: top;\n",
       "    }\n",
       "\n",
       "    .dataframe thead th {\n",
       "        text-align: right;\n",
       "    }\n",
       "</style>\n",
       "<table border=\"1\" class=\"dataframe\">\n",
       "  <thead>\n",
       "    <tr style=\"text-align: right;\">\n",
       "      <th></th>\n",
       "      <th>102_154</th>\n",
       "      <th>108_109</th>\n",
       "      <th>108_110</th>\n",
       "      <th>108_1247</th>\n",
       "      <th>108_2</th>\n",
       "      <th>108_41</th>\n",
       "      <th>108_5</th>\n",
       "      <th>109_108</th>\n",
       "      <th>109_109</th>\n",
       "      <th>109_110</th>\n",
       "      <th>...</th>\n",
       "      <th>page_56</th>\n",
       "      <th>page_57</th>\n",
       "      <th>page_634</th>\n",
       "      <th>page_69</th>\n",
       "      <th>page_786</th>\n",
       "      <th>page_89</th>\n",
       "      <th>page_91</th>\n",
       "      <th>2_conversiones_seguidas</th>\n",
       "      <th>hizo_conversion_este_mes</th>\n",
       "      <th>hizo_conversion_trim_pasado</th>\n",
       "    </tr>\n",
       "  </thead>\n",
       "  <tbody>\n",
       "    <tr>\n",
       "      <th>0</th>\n",
       "      <td>0.000000</td>\n",
       "      <td>0.000000</td>\n",
       "      <td>0.0</td>\n",
       "      <td>0.0</td>\n",
       "      <td>0.0</td>\n",
       "      <td>0.0</td>\n",
       "      <td>0.0</td>\n",
       "      <td>0.0</td>\n",
       "      <td>0.0</td>\n",
       "      <td>0.000000</td>\n",
       "      <td>...</td>\n",
       "      <td>0.000272</td>\n",
       "      <td>0.000642</td>\n",
       "      <td>0.0</td>\n",
       "      <td>0.000370</td>\n",
       "      <td>0.0</td>\n",
       "      <td>0.000000</td>\n",
       "      <td>0.000000</td>\n",
       "      <td>0.0</td>\n",
       "      <td>0.0</td>\n",
       "      <td>0.0</td>\n",
       "    </tr>\n",
       "    <tr>\n",
       "      <th>1</th>\n",
       "      <td>0.000000</td>\n",
       "      <td>0.000000</td>\n",
       "      <td>0.0</td>\n",
       "      <td>0.0</td>\n",
       "      <td>0.0</td>\n",
       "      <td>0.0</td>\n",
       "      <td>0.0</td>\n",
       "      <td>0.0</td>\n",
       "      <td>0.0</td>\n",
       "      <td>0.000000</td>\n",
       "      <td>...</td>\n",
       "      <td>0.000000</td>\n",
       "      <td>0.000000</td>\n",
       "      <td>0.0</td>\n",
       "      <td>0.000000</td>\n",
       "      <td>0.0</td>\n",
       "      <td>0.000000</td>\n",
       "      <td>0.000000</td>\n",
       "      <td>0.0</td>\n",
       "      <td>0.0</td>\n",
       "      <td>0.0</td>\n",
       "    </tr>\n",
       "    <tr>\n",
       "      <th>2</th>\n",
       "      <td>0.000000</td>\n",
       "      <td>0.000000</td>\n",
       "      <td>0.0</td>\n",
       "      <td>0.0</td>\n",
       "      <td>0.0</td>\n",
       "      <td>0.0</td>\n",
       "      <td>0.0</td>\n",
       "      <td>0.0</td>\n",
       "      <td>0.0</td>\n",
       "      <td>0.000000</td>\n",
       "      <td>...</td>\n",
       "      <td>0.000000</td>\n",
       "      <td>0.005084</td>\n",
       "      <td>0.0</td>\n",
       "      <td>0.004773</td>\n",
       "      <td>0.0</td>\n",
       "      <td>0.000000</td>\n",
       "      <td>0.000000</td>\n",
       "      <td>0.0</td>\n",
       "      <td>0.0</td>\n",
       "      <td>0.0</td>\n",
       "    </tr>\n",
       "    <tr>\n",
       "      <th>3</th>\n",
       "      <td>0.000000</td>\n",
       "      <td>0.000000</td>\n",
       "      <td>0.0</td>\n",
       "      <td>0.0</td>\n",
       "      <td>0.0</td>\n",
       "      <td>0.0</td>\n",
       "      <td>0.0</td>\n",
       "      <td>0.0</td>\n",
       "      <td>0.0</td>\n",
       "      <td>0.000000</td>\n",
       "      <td>...</td>\n",
       "      <td>0.000000</td>\n",
       "      <td>0.007948</td>\n",
       "      <td>0.0</td>\n",
       "      <td>0.001445</td>\n",
       "      <td>0.0</td>\n",
       "      <td>0.007948</td>\n",
       "      <td>0.002168</td>\n",
       "      <td>0.0</td>\n",
       "      <td>0.0</td>\n",
       "      <td>0.0</td>\n",
       "    </tr>\n",
       "    <tr>\n",
       "      <th>4</th>\n",
       "      <td>0.008918</td>\n",
       "      <td>0.005048</td>\n",
       "      <td>0.0</td>\n",
       "      <td>0.0</td>\n",
       "      <td>0.0</td>\n",
       "      <td>0.0</td>\n",
       "      <td>0.0</td>\n",
       "      <td>0.0</td>\n",
       "      <td>0.0</td>\n",
       "      <td>0.005048</td>\n",
       "      <td>...</td>\n",
       "      <td>0.000000</td>\n",
       "      <td>0.024040</td>\n",
       "      <td>0.0</td>\n",
       "      <td>0.008944</td>\n",
       "      <td>0.0</td>\n",
       "      <td>0.005822</td>\n",
       "      <td>0.000390</td>\n",
       "      <td>0.0</td>\n",
       "      <td>0.0</td>\n",
       "      <td>0.0</td>\n",
       "    </tr>\n",
       "  </tbody>\n",
       "</table>\n",
       "<p>5 rows × 300 columns</p>\n",
       "</div>"
      ],
      "text/plain": [
       "    102_154   108_109  108_110  108_1247  108_2  108_41  108_5  109_108  \\\n",
       "0  0.000000  0.000000      0.0       0.0    0.0     0.0    0.0      0.0   \n",
       "1  0.000000  0.000000      0.0       0.0    0.0     0.0    0.0      0.0   \n",
       "2  0.000000  0.000000      0.0       0.0    0.0     0.0    0.0      0.0   \n",
       "3  0.000000  0.000000      0.0       0.0    0.0     0.0    0.0      0.0   \n",
       "4  0.008918  0.005048      0.0       0.0    0.0     0.0    0.0      0.0   \n",
       "\n",
       "   109_109   109_110  ...   page_56   page_57  page_634   page_69  page_786  \\\n",
       "0      0.0  0.000000  ...  0.000272  0.000642       0.0  0.000370       0.0   \n",
       "1      0.0  0.000000  ...  0.000000  0.000000       0.0  0.000000       0.0   \n",
       "2      0.0  0.000000  ...  0.000000  0.005084       0.0  0.004773       0.0   \n",
       "3      0.0  0.000000  ...  0.000000  0.007948       0.0  0.001445       0.0   \n",
       "4      0.0  0.005048  ...  0.000000  0.024040       0.0  0.008944       0.0   \n",
       "\n",
       "    page_89   page_91  2_conversiones_seguidas  hizo_conversion_este_mes  \\\n",
       "0  0.000000  0.000000                      0.0                       0.0   \n",
       "1  0.000000  0.000000                      0.0                       0.0   \n",
       "2  0.000000  0.000000                      0.0                       0.0   \n",
       "3  0.007948  0.002168                      0.0                       0.0   \n",
       "4  0.005822  0.000390                      0.0                       0.0   \n",
       "\n",
       "   hizo_conversion_trim_pasado  \n",
       "0                          0.0  \n",
       "1                          0.0  \n",
       "2                          0.0  \n",
       "3                          0.0  \n",
       "4                          0.0  \n",
       "\n",
       "[5 rows x 300 columns]"
      ]
     },
     "execution_count": 90,
     "metadata": {},
     "output_type": "execute_result"
    }
   ],
   "source": [
    "X_train[list_var_anova].head()"
   ]
  },
  {
   "cell_type": "code",
   "execution_count": 91,
   "id": "1f630846-821f-408d-a40a-7462fad4ec5d",
   "metadata": {},
   "outputs": [
    {
     "name": "stdout",
     "output_type": "stream",
     "text": [
      "['102_154', '108_109', '108_110', '108_1247', '108_2', '108_41', '108_5', '109_108', '109_109', '109_110', '109_2', '109_27', '109_3', '109_41', '109_5', '109_57', '10_111', '10_123', '110_1', '110_109', '110_110', '110_1259', '110_14', '110_2', '110_20', '110_21', '110_26', '110_27', '110_285', '110_296', '110_3', '110_369', '110_39', '110_40', '110_41', '110_42', '110_45', '110_5', '110_57', '111_1', '111_10', '111_2', '111_254', '114_2', '1227_3', '123_111', '1247_108', '1247_1248', '1248_1247', '1248_1249', '1249_1248', '1249_1250', '1250_1251', '1250_41', '1251_1250', '1251_57', '1259_110', '1259_3', '1259_41', '129_3', '133_345', '138_2', '153_2', '153_20', '153_23', '153_27', '153_3', '153_369', '153_40', '153_41', '153_5', '154_57', '163_164', '164_165', '165_210', '179_5', '190_163', '190_260', '190_39', '1_138', '1_2', '1_289', '20_1259', '20_39', '20_4', '20_41', '210_211', '211_212', '212_39', '21_1259', '21_1477', '21_41', '23_102', '23_1494', '23_153', '23_41', '23_61', '24_25', '25_49', '260_261', '261_262', '262_263', '26_41', '26_50', '272_360', '27_108', '27_1259', '27_153', '27_186', '27_296', '27_41', '27_61', '27_69', '285_110', '285_2', '285_285', '285_286', '285_3', '285_41', '285_5', '286_285', '286_287', '286_41', '287_133', '287_286', '287_345', '287_41', '287_57', '287_61', '287_786', '296_110', '296_41', '2_109', '2_138', '2_41', '303_3', '31_1', '321_14', '321_2', '321_321', '321_360', '321_40', '321_455', '321_85', '321_88', '321_89', '32_41', '33_41', '33_56', '345_3', '345_41', '345_57', '360_321', '39_190', '39_2', '39_20', '39_3', '39_39', '39_41', '39_5', '3_108', '3_109', '3_110', '3_1259', '3_20', '3_27', '3_296', '3_39', '3_41', '40_426', '41_108', '41_109', '41_110', '41_1265', '41_2', '41_20', '41_21', '41_26', '41_27', '41_285', '41_296', '41_3', '41_369', '41_39', '41_40', '41_41', '41_42', '41_5', '41_55', '41_57', '41_6', '42_41', '455_321', '455_456', '455_85', '456_457', '457_85', '47_111', '49_50', '4_2_x', '4_316', '4_39', '4_41', '4_5', '50_26', '55_303', '57_109', '57_110', '57_2', '57_3', '57_40', '57_41', '57_82', '5_41', '61_153', '61_345', '61_41', '61_57', '65_41', '671_57', '69_140', '69_3', '69_41', '778_749', '85_321', '85_360', '85_89', '85_91', '87_321', '87_360', '88_89', '89_321', '89_85', '89_91', '91_89', '93_5', 'speed_2', 'device_0', 'device_1', '1_x', '3', '5_antes_del_trabajo', '16_2', '1_1_y', '2_2_y', 'page_1', 'page_108', 'page_109', 'page_110', 'page_111', 'page_123', 'page_1247', 'page_1248', 'page_1249', 'page_1250', 'page_1251', 'page_1259', 'page_1265', 'page_138', 'page_153', 'page_154', 'page_163', 'page_164', 'page_165', 'page_190', 'page_2', 'page_210', 'page_211', 'page_212', 'page_25', 'page_254', 'page_261', 'page_263', 'page_285', 'page_286', 'page_287', 'page_296', 'page_303', 'page_321', 'page_33', 'page_345', 'page_360', 'page_39', 'page_4', 'page_41', 'page_455', 'page_456', 'page_457', 'page_49', 'page_50', 'page_56', 'page_57', 'page_634', 'page_69', 'page_786', 'page_89', 'page_91', '2_conversiones_seguidas', 'hizo_conversion_este_mes', 'hizo_conversion_trim_pasado']\n"
     ]
    }
   ],
   "source": [
    "print(list_var_anova)"
   ]
  },
  {
   "cell_type": "code",
   "execution_count": null,
   "id": "7a2fadf2-1b0e-4b06-a86e-562f9ba2faa9",
   "metadata": {},
   "outputs": [],
   "source": []
  },
  {
   "cell_type": "code",
   "execution_count": null,
   "id": "d96bdee7-b29d-478f-94bb-aa46f2a08e2b",
   "metadata": {},
   "outputs": [],
   "source": []
  },
  {
   "cell_type": "code",
   "execution_count": 92,
   "id": "fc8d5ef8-104a-42b7-8d63-b1bec109a602",
   "metadata": {},
   "outputs": [],
   "source": [
    "import lightgbm as lgb\n",
    "fit_params = {\n",
    "    \"eval_metric\" : 'auc', \n",
    "    'verbose': 2\n",
    "}\n",
    "\n",
    "lgbm_grid = {\n",
    "    'bagging_fraction': [0.65, 0.75, 0.85, 0.95],\n",
    "    'feature_fraction': [0.15, 0.25, 0.35, 0.45],\n",
    "    'n_estimators': [150, 450, 750],\n",
    "    'num_leaves': [33, 65],\n",
    "    'max_depth': [5, 3, 7],\n",
    "    'learning_rate': [0.025, 0.05, 0.1, 0.15],\n",
    "    'min_data_in_leaf': [100, 500],\n",
    "    'extra_trees': [True, False],\n",
    "    'deterministic': [True, False],\n",
    "    'tree_learner': ['serial'],\n",
    "    'boosting': ['gbdt'],\n",
    "    'lambda_l2': [0],\n",
    "    'lambda_l1': [0],\n",
    "    'is_unbalance': [True],\n",
    "    'min_gain_to_split': [1]\n",
    "}"
   ]
  },
  {
   "cell_type": "code",
   "execution_count": 93,
   "id": "e12a95dc-fc04-4444-ba49-379f4b82315f",
   "metadata": {},
   "outputs": [],
   "source": [
    "def apply_lgbm(X_train_part, X_test_part, y_train, users, add='', cv=None):\n",
    "    model_lgbm = lgb.LGBMClassifier(\n",
    "        seed=SEED, \n",
    "        feature_fraction_seed=SEED, \n",
    "        drop_seed=SEED,\n",
    "        bagging_seed=SEED\n",
    "    )\n",
    "    grid = RandomizedSearchCV(\n",
    "        model_lgbm, lgbm_grid, cv=cv, \n",
    "        n_jobs=-1, \n",
    "        scoring='roc_auc', \n",
    "        verbose=1,\n",
    "        n_iter=100\n",
    "    )\n",
    "    grid.fit(X_train_part, y_train, **fit_params)\n",
    "    print(\"-> \", grid.best_score_)\n",
    "    \n",
    "    predict_test = grid.best_estimator_.predict_proba(X_test_part)[:,1]\n",
    "    predict_test = pd.DataFrame(\n",
    "        {'USER_ID':users, \n",
    "         'SCORE':predict_test} \n",
    "    )\n",
    "    display(predict_test.head())\n",
    "    print(predict_test[predict_test['SCORE'] < 0.01].shape)\n",
    "    print(predict_test[predict_test['SCORE'] > 0.5].shape)\n",
    "    print(predict_test[predict_test['SCORE'] > 0.99].shape)\n",
    "    \n",
    "    return grid, predict_test"
   ]
  },
  {
   "cell_type": "code",
   "execution_count": 94,
   "id": "879eb04c-75b4-4147-b035-b80f608663d4",
   "metadata": {},
   "outputs": [
    {
     "data": {
      "text/plain": [
       "((22803, 4978), (11589, 4978))"
      ]
     },
     "execution_count": 94,
     "metadata": {},
     "output_type": "execute_result"
    }
   ],
   "source": [
    "X_train.shape, X_test.shape"
   ]
  },
  {
   "cell_type": "code",
   "execution_count": 95,
   "id": "d79a8689-d821-44a8-ba19-0b4877cbac0d",
   "metadata": {},
   "outputs": [
    {
     "name": "stdout",
     "output_type": "stream",
     "text": [
      "Fitting 10 folds for each of 100 candidates, totalling 1000 fits\n",
      "[LightGBM] [Warning] boosting is set=gbdt, boosting_type=gbdt will be ignored. Current value: boosting=gbdt\n",
      "[LightGBM] [Warning] feature_fraction is set=0.15, colsample_bytree=1.0 will be ignored. Current value: feature_fraction=0.15\n",
      "[LightGBM] [Warning] min_data_in_leaf is set=100, min_child_samples=20 will be ignored. Current value: min_data_in_leaf=100\n",
      "[LightGBM] [Warning] min_gain_to_split is set=1, min_split_gain=0.0 will be ignored. Current value: min_gain_to_split=1\n",
      "[LightGBM] [Warning] lambda_l1 is set=0, reg_alpha=0.0 will be ignored. Current value: lambda_l1=0\n",
      "[LightGBM] [Warning] bagging_fraction is set=0.75, subsample=1.0 will be ignored. Current value: bagging_fraction=0.75\n",
      "[LightGBM] [Warning] lambda_l2 is set=0, reg_lambda=0.0 will be ignored. Current value: lambda_l2=0\n",
      "->  0.8416221501543918\n"
     ]
    },
    {
     "data": {
      "text/html": [
       "<div>\n",
       "<style scoped>\n",
       "    .dataframe tbody tr th:only-of-type {\n",
       "        vertical-align: middle;\n",
       "    }\n",
       "\n",
       "    .dataframe tbody tr th {\n",
       "        vertical-align: top;\n",
       "    }\n",
       "\n",
       "    .dataframe thead th {\n",
       "        text-align: right;\n",
       "    }\n",
       "</style>\n",
       "<table border=\"1\" class=\"dataframe\">\n",
       "  <thead>\n",
       "    <tr style=\"text-align: right;\">\n",
       "      <th></th>\n",
       "      <th>USER_ID</th>\n",
       "      <th>SCORE</th>\n",
       "    </tr>\n",
       "  </thead>\n",
       "  <tbody>\n",
       "    <tr>\n",
       "      <th>22803</th>\n",
       "      <td>0</td>\n",
       "      <td>0.207773</td>\n",
       "    </tr>\n",
       "    <tr>\n",
       "      <th>22804</th>\n",
       "      <td>1</td>\n",
       "      <td>0.148465</td>\n",
       "    </tr>\n",
       "    <tr>\n",
       "      <th>22805</th>\n",
       "      <td>2</td>\n",
       "      <td>0.094441</td>\n",
       "    </tr>\n",
       "    <tr>\n",
       "      <th>22806</th>\n",
       "      <td>3</td>\n",
       "      <td>0.246417</td>\n",
       "    </tr>\n",
       "    <tr>\n",
       "      <th>22807</th>\n",
       "      <td>4</td>\n",
       "      <td>0.626685</td>\n",
       "    </tr>\n",
       "  </tbody>\n",
       "</table>\n",
       "</div>"
      ],
      "text/plain": [
       "       USER_ID     SCORE\n",
       "22803        0  0.207773\n",
       "22804        1  0.148465\n",
       "22805        2  0.094441\n",
       "22806        3  0.246417\n",
       "22807        4  0.626685"
      ]
     },
     "metadata": {},
     "output_type": "display_data"
    },
    {
     "name": "stdout",
     "output_type": "stream",
     "text": [
      "(0, 2)\n",
      "(3069, 2)\n",
      "(0, 2)\n",
      "Wall time: 4min 34s\n"
     ]
    },
    {
     "data": {
      "text/plain": [
       "962"
      ]
     },
     "execution_count": 95,
     "metadata": {},
     "output_type": "execute_result"
    }
   ],
   "source": [
    "%%time\n",
    "\n",
    "grid_1, predict_1 = apply_lgbm(\n",
    "    X_train[list_var_relevants], \n",
    "    X_test[list_var_relevants], \n",
    "    y_train, \n",
    "    users_test, \n",
    "    add='lasso',\n",
    "    cv=time_split\n",
    ")\n",
    "gc.collect()"
   ]
  },
  {
   "cell_type": "code",
   "execution_count": 96,
   "id": "500820e1-ffbe-4271-8871-c71351eb06fc",
   "metadata": {},
   "outputs": [
    {
     "name": "stdout",
     "output_type": "stream",
     "text": [
      "Fitting 10 folds for each of 100 candidates, totalling 1000 fits\n",
      "[LightGBM] [Warning] boosting is set=gbdt, boosting_type=gbdt will be ignored. Current value: boosting=gbdt\n",
      "[LightGBM] [Warning] feature_fraction is set=0.25, colsample_bytree=1.0 will be ignored. Current value: feature_fraction=0.25\n",
      "[LightGBM] [Warning] min_data_in_leaf is set=100, min_child_samples=20 will be ignored. Current value: min_data_in_leaf=100\n",
      "[LightGBM] [Warning] min_gain_to_split is set=1, min_split_gain=0.0 will be ignored. Current value: min_gain_to_split=1\n",
      "[LightGBM] [Warning] lambda_l1 is set=0, reg_alpha=0.0 will be ignored. Current value: lambda_l1=0\n",
      "[LightGBM] [Warning] bagging_fraction is set=0.65, subsample=1.0 will be ignored. Current value: bagging_fraction=0.65\n",
      "[LightGBM] [Warning] lambda_l2 is set=0, reg_lambda=0.0 will be ignored. Current value: lambda_l2=0\n",
      "->  0.8511793948043426\n"
     ]
    },
    {
     "data": {
      "text/html": [
       "<div>\n",
       "<style scoped>\n",
       "    .dataframe tbody tr th:only-of-type {\n",
       "        vertical-align: middle;\n",
       "    }\n",
       "\n",
       "    .dataframe tbody tr th {\n",
       "        vertical-align: top;\n",
       "    }\n",
       "\n",
       "    .dataframe thead th {\n",
       "        text-align: right;\n",
       "    }\n",
       "</style>\n",
       "<table border=\"1\" class=\"dataframe\">\n",
       "  <thead>\n",
       "    <tr style=\"text-align: right;\">\n",
       "      <th></th>\n",
       "      <th>USER_ID</th>\n",
       "      <th>SCORE</th>\n",
       "    </tr>\n",
       "  </thead>\n",
       "  <tbody>\n",
       "    <tr>\n",
       "      <th>22803</th>\n",
       "      <td>0</td>\n",
       "      <td>0.218047</td>\n",
       "    </tr>\n",
       "    <tr>\n",
       "      <th>22804</th>\n",
       "      <td>1</td>\n",
       "      <td>0.079863</td>\n",
       "    </tr>\n",
       "    <tr>\n",
       "      <th>22805</th>\n",
       "      <td>2</td>\n",
       "      <td>0.090647</td>\n",
       "    </tr>\n",
       "    <tr>\n",
       "      <th>22806</th>\n",
       "      <td>3</td>\n",
       "      <td>0.164530</td>\n",
       "    </tr>\n",
       "    <tr>\n",
       "      <th>22807</th>\n",
       "      <td>4</td>\n",
       "      <td>0.547215</td>\n",
       "    </tr>\n",
       "  </tbody>\n",
       "</table>\n",
       "</div>"
      ],
      "text/plain": [
       "       USER_ID     SCORE\n",
       "22803        0  0.218047\n",
       "22804        1  0.079863\n",
       "22805        2  0.090647\n",
       "22806        3  0.164530\n",
       "22807        4  0.547215"
      ]
     },
     "metadata": {},
     "output_type": "display_data"
    },
    {
     "name": "stdout",
     "output_type": "stream",
     "text": [
      "(31, 2)\n",
      "(2839, 2)\n",
      "(0, 2)\n",
      "Wall time: 18min 32s\n"
     ]
    },
    {
     "data": {
      "text/plain": [
       "4880"
      ]
     },
     "execution_count": 96,
     "metadata": {},
     "output_type": "execute_result"
    }
   ],
   "source": [
    "%%time\n",
    "\n",
    "grid_2, predict_2 = apply_lgbm(\n",
    "    X_train[list_var_chi], \n",
    "    X_test[list_var_chi], \n",
    "    y_train, \n",
    "    users_test, \n",
    "    add='chi',\n",
    "    cv=time_split\n",
    ")\n",
    "gc.collect()"
   ]
  },
  {
   "cell_type": "code",
   "execution_count": 97,
   "id": "1579aa46-f4f4-4233-b409-cc5efa6e4a68",
   "metadata": {},
   "outputs": [
    {
     "name": "stdout",
     "output_type": "stream",
     "text": [
      "Fitting 10 folds for each of 100 candidates, totalling 1000 fits\n",
      "[LightGBM] [Warning] boosting is set=gbdt, boosting_type=gbdt will be ignored. Current value: boosting=gbdt\n",
      "[LightGBM] [Warning] feature_fraction is set=0.25, colsample_bytree=1.0 will be ignored. Current value: feature_fraction=0.25\n",
      "[LightGBM] [Warning] min_data_in_leaf is set=100, min_child_samples=20 will be ignored. Current value: min_data_in_leaf=100\n",
      "[LightGBM] [Warning] min_gain_to_split is set=1, min_split_gain=0.0 will be ignored. Current value: min_gain_to_split=1\n",
      "[LightGBM] [Warning] lambda_l1 is set=0, reg_alpha=0.0 will be ignored. Current value: lambda_l1=0\n",
      "[LightGBM] [Warning] bagging_fraction is set=0.85, subsample=1.0 will be ignored. Current value: bagging_fraction=0.85\n",
      "[LightGBM] [Warning] lambda_l2 is set=0, reg_lambda=0.0 will be ignored. Current value: lambda_l2=0\n",
      "->  0.8497982292103254\n"
     ]
    },
    {
     "data": {
      "text/html": [
       "<div>\n",
       "<style scoped>\n",
       "    .dataframe tbody tr th:only-of-type {\n",
       "        vertical-align: middle;\n",
       "    }\n",
       "\n",
       "    .dataframe tbody tr th {\n",
       "        vertical-align: top;\n",
       "    }\n",
       "\n",
       "    .dataframe thead th {\n",
       "        text-align: right;\n",
       "    }\n",
       "</style>\n",
       "<table border=\"1\" class=\"dataframe\">\n",
       "  <thead>\n",
       "    <tr style=\"text-align: right;\">\n",
       "      <th></th>\n",
       "      <th>USER_ID</th>\n",
       "      <th>SCORE</th>\n",
       "    </tr>\n",
       "  </thead>\n",
       "  <tbody>\n",
       "    <tr>\n",
       "      <th>22803</th>\n",
       "      <td>0</td>\n",
       "      <td>0.197731</td>\n",
       "    </tr>\n",
       "    <tr>\n",
       "      <th>22804</th>\n",
       "      <td>1</td>\n",
       "      <td>0.097343</td>\n",
       "    </tr>\n",
       "    <tr>\n",
       "      <th>22805</th>\n",
       "      <td>2</td>\n",
       "      <td>0.093607</td>\n",
       "    </tr>\n",
       "    <tr>\n",
       "      <th>22806</th>\n",
       "      <td>3</td>\n",
       "      <td>0.130613</td>\n",
       "    </tr>\n",
       "    <tr>\n",
       "      <th>22807</th>\n",
       "      <td>4</td>\n",
       "      <td>0.640548</td>\n",
       "    </tr>\n",
       "  </tbody>\n",
       "</table>\n",
       "</div>"
      ],
      "text/plain": [
       "       USER_ID     SCORE\n",
       "22803        0  0.197731\n",
       "22804        1  0.097343\n",
       "22805        2  0.093607\n",
       "22806        3  0.130613\n",
       "22807        4  0.640548"
      ]
     },
     "metadata": {},
     "output_type": "display_data"
    },
    {
     "name": "stdout",
     "output_type": "stream",
     "text": [
      "(87, 2)\n",
      "(2731, 2)\n",
      "(0, 2)\n",
      "Wall time: 14min 48s\n"
     ]
    },
    {
     "data": {
      "text/plain": [
       "4540"
      ]
     },
     "execution_count": 97,
     "metadata": {},
     "output_type": "execute_result"
    }
   ],
   "source": [
    "%%time\n",
    "\n",
    "grid_3, predict_3 = apply_lgbm(\n",
    "    X_train[list_var_anova], \n",
    "    X_test[list_var_anova], \n",
    "    y_train, \n",
    "    users_test, \n",
    "    add='anova',\n",
    "    cv=time_split\n",
    ")\n",
    "gc.collect()"
   ]
  },
  {
   "cell_type": "code",
   "execution_count": 98,
   "id": "29ed5cf7-0df3-4ba3-9a3b-6ea8a9a91b50",
   "metadata": {},
   "outputs": [],
   "source": [
    "#grid_3.best_estimator_.feature_importances_"
   ]
  },
  {
   "cell_type": "code",
   "execution_count": 99,
   "id": "917a3c30-59f4-4ebc-9513-d1b1f93ad00b",
   "metadata": {},
   "outputs": [],
   "source": [
    "#print(dir(grid_3.best_estimator_))"
   ]
  },
  {
   "cell_type": "markdown",
   "id": "149c3272-cbe1-4bcf-8985-8f802dcf3a8a",
   "metadata": {},
   "source": [
    "### UP"
   ]
  },
  {
   "cell_type": "code",
   "execution_count": 100,
   "id": "6853f9a2-f064-4521-8167-0d085f2d002a",
   "metadata": {},
   "outputs": [],
   "source": [
    "def _save(predict): \n",
    "    sub = pd.read_csv('data/sampleSubmission.zip')\n",
    "    sub = sub.merge(\n",
    "        predict, \n",
    "        how='left', \n",
    "        on=['USER_ID']\n",
    "    )\n",
    "    \n",
    "    sub['SCORE'] = sub['SCORE_y'].combine_first(sub['SCORE_x'])\n",
    "    del sub['SCORE_y']\n",
    "    del sub['SCORE_x']\n",
    "    \n",
    "    return sub"
   ]
  },
  {
   "cell_type": "code",
   "execution_count": 101,
   "id": "b31edc49-90e1-4889-a8f5-1d18bdcffe8d",
   "metadata": {},
   "outputs": [],
   "source": [
    "predict_1_ = _save(predict_1)\n",
    "predict_1_.to_csv('lgbm_time_split_lasso_2.csv', index=False)"
   ]
  },
  {
   "cell_type": "code",
   "execution_count": 102,
   "id": "72e73734-d257-4906-8cd3-755b2b9bce6d",
   "metadata": {},
   "outputs": [],
   "source": [
    "predict_2_ = _save(predict_2)\n",
    "predict_2_.to_csv('lgbm_time_split_chi_2.csv', index=False)"
   ]
  },
  {
   "cell_type": "code",
   "execution_count": 103,
   "id": "e505eaef-02a6-4cf3-866e-f14b0554a15d",
   "metadata": {},
   "outputs": [],
   "source": [
    "predict_3_ = _save(predict_3)\n",
    "predict_3_.to_csv('lgbm_time_split_anova_2.csv', index=False)"
   ]
  },
  {
   "cell_type": "code",
   "execution_count": null,
   "id": "cac1fd23-65ee-452a-a12e-af06985d736f",
   "metadata": {},
   "outputs": [],
   "source": []
  },
  {
   "cell_type": "code",
   "execution_count": null,
   "id": "ca3f4ea6-e9c0-4402-bfbc-35cd373f4eb5",
   "metadata": {},
   "outputs": [],
   "source": []
  },
  {
   "cell_type": "markdown",
   "id": "f82e44d5-4bc2-462c-9a41-6d2e19446f44",
   "metadata": {},
   "source": [
    "### STRATIFICACION"
   ]
  },
  {
   "cell_type": "code",
   "execution_count": 104,
   "id": "7d339320-f5a2-4701-b99d-20a93544611d",
   "metadata": {},
   "outputs": [
    {
     "name": "stdout",
     "output_type": "stream",
     "text": [
      "Fitting 8 folds for each of 100 candidates, totalling 800 fits\n",
      "[LightGBM] [Warning] boosting is set=gbdt, boosting_type=gbdt will be ignored. Current value: boosting=gbdt\n",
      "[LightGBM] [Warning] feature_fraction is set=0.25, colsample_bytree=1.0 will be ignored. Current value: feature_fraction=0.25\n",
      "[LightGBM] [Warning] min_data_in_leaf is set=100, min_child_samples=20 will be ignored. Current value: min_data_in_leaf=100\n",
      "[LightGBM] [Warning] min_gain_to_split is set=1, min_split_gain=0.0 will be ignored. Current value: min_gain_to_split=1\n",
      "[LightGBM] [Warning] lambda_l1 is set=0, reg_alpha=0.0 will be ignored. Current value: lambda_l1=0\n",
      "[LightGBM] [Warning] bagging_fraction is set=0.95, subsample=1.0 will be ignored. Current value: bagging_fraction=0.95\n",
      "[LightGBM] [Warning] lambda_l2 is set=0, reg_lambda=0.0 will be ignored. Current value: lambda_l2=0\n",
      "->  0.850689152287569\n"
     ]
    },
    {
     "data": {
      "text/html": [
       "<div>\n",
       "<style scoped>\n",
       "    .dataframe tbody tr th:only-of-type {\n",
       "        vertical-align: middle;\n",
       "    }\n",
       "\n",
       "    .dataframe tbody tr th {\n",
       "        vertical-align: top;\n",
       "    }\n",
       "\n",
       "    .dataframe thead th {\n",
       "        text-align: right;\n",
       "    }\n",
       "</style>\n",
       "<table border=\"1\" class=\"dataframe\">\n",
       "  <thead>\n",
       "    <tr style=\"text-align: right;\">\n",
       "      <th></th>\n",
       "      <th>USER_ID</th>\n",
       "      <th>SCORE</th>\n",
       "    </tr>\n",
       "  </thead>\n",
       "  <tbody>\n",
       "    <tr>\n",
       "      <th>22803</th>\n",
       "      <td>0</td>\n",
       "      <td>0.267986</td>\n",
       "    </tr>\n",
       "    <tr>\n",
       "      <th>22804</th>\n",
       "      <td>1</td>\n",
       "      <td>0.133923</td>\n",
       "    </tr>\n",
       "    <tr>\n",
       "      <th>22805</th>\n",
       "      <td>2</td>\n",
       "      <td>0.091340</td>\n",
       "    </tr>\n",
       "    <tr>\n",
       "      <th>22806</th>\n",
       "      <td>3</td>\n",
       "      <td>0.268071</td>\n",
       "    </tr>\n",
       "    <tr>\n",
       "      <th>22807</th>\n",
       "      <td>4</td>\n",
       "      <td>0.535489</td>\n",
       "    </tr>\n",
       "  </tbody>\n",
       "</table>\n",
       "</div>"
      ],
      "text/plain": [
       "       USER_ID     SCORE\n",
       "22803        0  0.267986\n",
       "22804        1  0.133923\n",
       "22805        2  0.091340\n",
       "22806        3  0.268071\n",
       "22807        4  0.535489"
      ]
     },
     "metadata": {},
     "output_type": "display_data"
    },
    {
     "name": "stdout",
     "output_type": "stream",
     "text": [
      "(0, 2)\n",
      "(2883, 2)\n",
      "(0, 2)\n",
      "Wall time: 16min 55s\n"
     ]
    },
    {
     "data": {
      "text/plain": [
       "2823"
      ]
     },
     "execution_count": 104,
     "metadata": {},
     "output_type": "execute_result"
    }
   ],
   "source": [
    "%%time\n",
    "\n",
    "grid_1_r, predict_1_r = apply_lgbm(\n",
    "    X_train[list_var_relevants_r], \n",
    "    X_test[list_var_relevants_r], \n",
    "    y_train, \n",
    "    users_test, \n",
    "    add='lasso',\n",
    "    cv=repeat\n",
    ")\n",
    "gc.collect()"
   ]
  },
  {
   "cell_type": "code",
   "execution_count": 105,
   "id": "23d27afe-5e9f-4d4f-9258-72fe7989a13d",
   "metadata": {},
   "outputs": [
    {
     "name": "stdout",
     "output_type": "stream",
     "text": [
      "Fitting 8 folds for each of 100 candidates, totalling 800 fits\n",
      "[LightGBM] [Warning] boosting is set=gbdt, boosting_type=gbdt will be ignored. Current value: boosting=gbdt\n",
      "[LightGBM] [Warning] feature_fraction is set=0.45, colsample_bytree=1.0 will be ignored. Current value: feature_fraction=0.45\n",
      "[LightGBM] [Warning] min_data_in_leaf is set=500, min_child_samples=20 will be ignored. Current value: min_data_in_leaf=500\n",
      "[LightGBM] [Warning] min_gain_to_split is set=1, min_split_gain=0.0 will be ignored. Current value: min_gain_to_split=1\n",
      "[LightGBM] [Warning] lambda_l1 is set=0, reg_alpha=0.0 will be ignored. Current value: lambda_l1=0\n",
      "[LightGBM] [Warning] bagging_fraction is set=0.75, subsample=1.0 will be ignored. Current value: bagging_fraction=0.75\n",
      "[LightGBM] [Warning] lambda_l2 is set=0, reg_lambda=0.0 will be ignored. Current value: lambda_l2=0\n",
      "->  0.8523648209600481\n"
     ]
    },
    {
     "data": {
      "text/html": [
       "<div>\n",
       "<style scoped>\n",
       "    .dataframe tbody tr th:only-of-type {\n",
       "        vertical-align: middle;\n",
       "    }\n",
       "\n",
       "    .dataframe tbody tr th {\n",
       "        vertical-align: top;\n",
       "    }\n",
       "\n",
       "    .dataframe thead th {\n",
       "        text-align: right;\n",
       "    }\n",
       "</style>\n",
       "<table border=\"1\" class=\"dataframe\">\n",
       "  <thead>\n",
       "    <tr style=\"text-align: right;\">\n",
       "      <th></th>\n",
       "      <th>USER_ID</th>\n",
       "      <th>SCORE</th>\n",
       "    </tr>\n",
       "  </thead>\n",
       "  <tbody>\n",
       "    <tr>\n",
       "      <th>22803</th>\n",
       "      <td>0</td>\n",
       "      <td>0.197129</td>\n",
       "    </tr>\n",
       "    <tr>\n",
       "      <th>22804</th>\n",
       "      <td>1</td>\n",
       "      <td>0.100021</td>\n",
       "    </tr>\n",
       "    <tr>\n",
       "      <th>22805</th>\n",
       "      <td>2</td>\n",
       "      <td>0.048370</td>\n",
       "    </tr>\n",
       "    <tr>\n",
       "      <th>22806</th>\n",
       "      <td>3</td>\n",
       "      <td>0.134725</td>\n",
       "    </tr>\n",
       "    <tr>\n",
       "      <th>22807</th>\n",
       "      <td>4</td>\n",
       "      <td>0.585246</td>\n",
       "    </tr>\n",
       "  </tbody>\n",
       "</table>\n",
       "</div>"
      ],
      "text/plain": [
       "       USER_ID     SCORE\n",
       "22803        0  0.197129\n",
       "22804        1  0.100021\n",
       "22805        2  0.048370\n",
       "22806        3  0.134725\n",
       "22807        4  0.585246"
      ]
     },
     "metadata": {},
     "output_type": "display_data"
    },
    {
     "name": "stdout",
     "output_type": "stream",
     "text": [
      "(61, 2)\n",
      "(2884, 2)\n",
      "(0, 2)\n",
      "Wall time: 25min 49s\n"
     ]
    },
    {
     "data": {
      "text/plain": [
       "2194"
      ]
     },
     "execution_count": 105,
     "metadata": {},
     "output_type": "execute_result"
    }
   ],
   "source": [
    "%%time\n",
    "\n",
    "grid_2_r, predict_2_r = apply_lgbm(\n",
    "    X_train[list_var_chi], \n",
    "    X_test[list_var_chi], \n",
    "    y_train, \n",
    "    users_test, \n",
    "    add='chi',\n",
    "    cv=repeat\n",
    ")\n",
    "gc.collect()"
   ]
  },
  {
   "cell_type": "code",
   "execution_count": 106,
   "id": "1cce6569-ceb5-401c-991b-494f2b123c4f",
   "metadata": {},
   "outputs": [
    {
     "name": "stdout",
     "output_type": "stream",
     "text": [
      "Fitting 8 folds for each of 100 candidates, totalling 800 fits\n",
      "[LightGBM] [Warning] boosting is set=gbdt, boosting_type=gbdt will be ignored. Current value: boosting=gbdt\n",
      "[LightGBM] [Warning] feature_fraction is set=0.15, colsample_bytree=1.0 will be ignored. Current value: feature_fraction=0.15\n",
      "[LightGBM] [Warning] min_data_in_leaf is set=500, min_child_samples=20 will be ignored. Current value: min_data_in_leaf=500\n",
      "[LightGBM] [Warning] min_gain_to_split is set=1, min_split_gain=0.0 will be ignored. Current value: min_gain_to_split=1\n",
      "[LightGBM] [Warning] lambda_l1 is set=0, reg_alpha=0.0 will be ignored. Current value: lambda_l1=0\n",
      "[LightGBM] [Warning] bagging_fraction is set=0.65, subsample=1.0 will be ignored. Current value: bagging_fraction=0.65\n",
      "[LightGBM] [Warning] lambda_l2 is set=0, reg_lambda=0.0 will be ignored. Current value: lambda_l2=0\n",
      "->  0.8509317505163173\n"
     ]
    },
    {
     "data": {
      "text/html": [
       "<div>\n",
       "<style scoped>\n",
       "    .dataframe tbody tr th:only-of-type {\n",
       "        vertical-align: middle;\n",
       "    }\n",
       "\n",
       "    .dataframe tbody tr th {\n",
       "        vertical-align: top;\n",
       "    }\n",
       "\n",
       "    .dataframe thead th {\n",
       "        text-align: right;\n",
       "    }\n",
       "</style>\n",
       "<table border=\"1\" class=\"dataframe\">\n",
       "  <thead>\n",
       "    <tr style=\"text-align: right;\">\n",
       "      <th></th>\n",
       "      <th>USER_ID</th>\n",
       "      <th>SCORE</th>\n",
       "    </tr>\n",
       "  </thead>\n",
       "  <tbody>\n",
       "    <tr>\n",
       "      <th>22803</th>\n",
       "      <td>0</td>\n",
       "      <td>0.285457</td>\n",
       "    </tr>\n",
       "    <tr>\n",
       "      <th>22804</th>\n",
       "      <td>1</td>\n",
       "      <td>0.117107</td>\n",
       "    </tr>\n",
       "    <tr>\n",
       "      <th>22805</th>\n",
       "      <td>2</td>\n",
       "      <td>0.064090</td>\n",
       "    </tr>\n",
       "    <tr>\n",
       "      <th>22806</th>\n",
       "      <td>3</td>\n",
       "      <td>0.113079</td>\n",
       "    </tr>\n",
       "    <tr>\n",
       "      <th>22807</th>\n",
       "      <td>4</td>\n",
       "      <td>0.582346</td>\n",
       "    </tr>\n",
       "  </tbody>\n",
       "</table>\n",
       "</div>"
      ],
      "text/plain": [
       "       USER_ID     SCORE\n",
       "22803        0  0.285457\n",
       "22804        1  0.117107\n",
       "22805        2  0.064090\n",
       "22806        3  0.113079\n",
       "22807        4  0.582346"
      ]
     },
     "metadata": {},
     "output_type": "display_data"
    },
    {
     "name": "stdout",
     "output_type": "stream",
     "text": [
      "(105, 2)\n",
      "(2742, 2)\n",
      "(0, 2)\n",
      "Wall time: 17min 57s\n"
     ]
    },
    {
     "data": {
      "text/plain": [
       "2109"
      ]
     },
     "execution_count": 106,
     "metadata": {},
     "output_type": "execute_result"
    }
   ],
   "source": [
    "%%time\n",
    "\n",
    "grid_3_r, predict_3_r = apply_lgbm(\n",
    "    X_train[list_var_anova], \n",
    "    X_test[list_var_anova], \n",
    "    y_train, \n",
    "    users_test, \n",
    "    add='anova',\n",
    "    cv=repeat\n",
    ")\n",
    "gc.collect()"
   ]
  },
  {
   "cell_type": "code",
   "execution_count": 107,
   "id": "7526f3a0-4eba-42eb-b56d-3b8bd2834912",
   "metadata": {},
   "outputs": [],
   "source": [
    "predict_1_r_ = _save(predict_1_r)\n",
    "predict_1_r_.to_csv('lgbm_repeat_stratify_lasso_2.csv', index=False)"
   ]
  },
  {
   "cell_type": "code",
   "execution_count": 108,
   "id": "84cb6876-6126-4abb-af62-caaa51b17d39",
   "metadata": {},
   "outputs": [],
   "source": [
    "predict_2_r_ = _save(predict_2_r)\n",
    "predict_2_r_.to_csv('lgbm_repeat_stratify_chi_2.csv', index=False)"
   ]
  },
  {
   "cell_type": "code",
   "execution_count": 109,
   "id": "f1f28c2e-3789-43bc-8aab-abe6de8867df",
   "metadata": {},
   "outputs": [],
   "source": [
    "predict_3_r_ = _save(predict_3_r)\n",
    "predict_3_r_.to_csv('lgbm_repeat_stratify_anova_2.csv', index=False)"
   ]
  },
  {
   "cell_type": "code",
   "execution_count": null,
   "id": "5487be21-151e-4d27-aac8-277aed192d01",
   "metadata": {},
   "outputs": [],
   "source": []
  },
  {
   "cell_type": "code",
   "execution_count": 110,
   "id": "c73f44c5-1518-47c1-a919-eb4bd0674d32",
   "metadata": {},
   "outputs": [
    {
     "data": {
      "text/html": [
       "<div>\n",
       "<style scoped>\n",
       "    .dataframe tbody tr th:only-of-type {\n",
       "        vertical-align: middle;\n",
       "    }\n",
       "\n",
       "    .dataframe tbody tr th {\n",
       "        vertical-align: top;\n",
       "    }\n",
       "\n",
       "    .dataframe thead th {\n",
       "        text-align: right;\n",
       "    }\n",
       "</style>\n",
       "<table border=\"1\" class=\"dataframe\">\n",
       "  <thead>\n",
       "    <tr style=\"text-align: right;\">\n",
       "      <th></th>\n",
       "      <th>USER_ID</th>\n",
       "      <th>SCORE_x</th>\n",
       "      <th>SCORE_y</th>\n",
       "      <th>SCORE</th>\n",
       "    </tr>\n",
       "  </thead>\n",
       "  <tbody>\n",
       "    <tr>\n",
       "      <th>0</th>\n",
       "      <td>0</td>\n",
       "      <td>0.267986</td>\n",
       "      <td>0.197129</td>\n",
       "      <td>0.285457</td>\n",
       "    </tr>\n",
       "    <tr>\n",
       "      <th>1</th>\n",
       "      <td>1</td>\n",
       "      <td>0.133923</td>\n",
       "      <td>0.100021</td>\n",
       "      <td>0.117107</td>\n",
       "    </tr>\n",
       "    <tr>\n",
       "      <th>2</th>\n",
       "      <td>2</td>\n",
       "      <td>0.091340</td>\n",
       "      <td>0.048370</td>\n",
       "      <td>0.064090</td>\n",
       "    </tr>\n",
       "    <tr>\n",
       "      <th>3</th>\n",
       "      <td>3</td>\n",
       "      <td>0.268071</td>\n",
       "      <td>0.134725</td>\n",
       "      <td>0.113079</td>\n",
       "    </tr>\n",
       "    <tr>\n",
       "      <th>4</th>\n",
       "      <td>4</td>\n",
       "      <td>0.535489</td>\n",
       "      <td>0.585246</td>\n",
       "      <td>0.582346</td>\n",
       "    </tr>\n",
       "  </tbody>\n",
       "</table>\n",
       "</div>"
      ],
      "text/plain": [
       "   USER_ID   SCORE_x   SCORE_y     SCORE\n",
       "0        0  0.267986  0.197129  0.285457\n",
       "1        1  0.133923  0.100021  0.117107\n",
       "2        2  0.091340  0.048370  0.064090\n",
       "3        3  0.268071  0.134725  0.113079\n",
       "4        4  0.535489  0.585246  0.582346"
      ]
     },
     "execution_count": 110,
     "metadata": {},
     "output_type": "execute_result"
    }
   ],
   "source": [
    "predict_r = predict_1_r_.merge(\n",
    "    predict_2_r_, how='left', on='USER_ID'\n",
    ").merge(\n",
    "    predict_3_r_, how='left', on='USER_ID'\n",
    ")\n",
    "predict_r.head()"
   ]
  },
  {
   "cell_type": "code",
   "execution_count": 111,
   "id": "d58e65de-78c2-4a82-ab6d-79667410e73e",
   "metadata": {},
   "outputs": [
    {
     "data": {
      "text/plain": [
       "<AxesSubplot:>"
      ]
     },
     "execution_count": 111,
     "metadata": {},
     "output_type": "execute_result"
    },
    {
     "data": {
      "image/png": "[encoded data removed]",
      "text/plain": [
       "<Figure size 432x288 with 1 Axes>"
      ]
     },
     "metadata": {},
     "output_type": "display_data"
    }
   ],
   "source": [
    "predict_r['SCORE'] = predict_r[['SCORE_x', 'SCORE_y', 'SCORE']].mean(axis=1)\n",
    "predict_r['SCORE'].hist()"
   ]
  },
  {
   "cell_type": "code",
   "execution_count": 112,
   "id": "8b7e7e12-0af8-4df4-841c-bd71fe75c4e7",
   "metadata": {},
   "outputs": [],
   "source": [
    "predict_r[['USER_ID','SCORE']].to_csv('lgbm_repeat_stratify_ensamble_2.csv', index=False)"
   ]
  },
  {
   "cell_type": "code",
   "execution_count": null,
   "id": "2dc36f5b-5ba9-4486-989e-596a1d50e9f0",
   "metadata": {},
   "outputs": [],
   "source": []
  },
  {
   "cell_type": "code",
   "execution_count": null,
   "id": "8e9d62bc-723a-479d-8259-dd064a37b602",
   "metadata": {},
   "outputs": [],
   "source": []
  },
  {
   "cell_type": "markdown",
   "id": "23dd7db5-7d58-455e-b9a7-a3fab7cc62b9",
   "metadata": {},
   "source": [
    "### PREDICT ALL TRIMESTER"
   ]
  },
  {
   "cell_type": "code",
   "execution_count": 113,
   "id": "80753aff-a610-4364-9b94-a8b57457ec57",
   "metadata": {},
   "outputs": [
    {
     "data": {
      "text/html": [
       "<div>\n",
       "<style scoped>\n",
       "    .dataframe tbody tr th:only-of-type {\n",
       "        vertical-align: middle;\n",
       "    }\n",
       "\n",
       "    .dataframe tbody tr th {\n",
       "        vertical-align: top;\n",
       "    }\n",
       "\n",
       "    .dataframe thead th {\n",
       "        text-align: right;\n",
       "    }\n",
       "</style>\n",
       "<table border=\"1\" class=\"dataframe\">\n",
       "  <thead>\n",
       "    <tr style=\"text-align: right;\">\n",
       "      <th></th>\n",
       "      <th>USER_ID</th>\n",
       "      <th>trimestre</th>\n",
       "      <th>1000_1000</th>\n",
       "      <th>1000_2</th>\n",
       "      <th>1000_40</th>\n",
       "      <th>1000_611</th>\n",
       "      <th>100_2</th>\n",
       "      <th>100_40</th>\n",
       "      <th>102_154</th>\n",
       "      <th>102_2</th>\n",
       "      <th>...</th>\n",
       "      <th>page_972</th>\n",
       "      <th>page_98</th>\n",
       "      <th>page_980</th>\n",
       "      <th>page_99</th>\n",
       "      <th>page_994</th>\n",
       "      <th>page_997</th>\n",
       "      <th>2_conversiones_seguidas</th>\n",
       "      <th>hizo_conversion_este_mes</th>\n",
       "      <th>hizo_conversion_trim_pasado</th>\n",
       "      <th>convertion</th>\n",
       "    </tr>\n",
       "  </thead>\n",
       "  <tbody>\n",
       "    <tr>\n",
       "      <th>0</th>\n",
       "      <td>0</td>\n",
       "      <td>2</td>\n",
       "      <td>0.0</td>\n",
       "      <td>0.0</td>\n",
       "      <td>0.0</td>\n",
       "      <td>0.0</td>\n",
       "      <td>0.0</td>\n",
       "      <td>0.0</td>\n",
       "      <td>0.000000</td>\n",
       "      <td>0.0</td>\n",
       "      <td>...</td>\n",
       "      <td>0.0</td>\n",
       "      <td>0.00037</td>\n",
       "      <td>0.0</td>\n",
       "      <td>0.001110</td>\n",
       "      <td>0.0</td>\n",
       "      <td>0.0</td>\n",
       "      <td>0.0</td>\n",
       "      <td>0.0</td>\n",
       "      <td>0.0</td>\n",
       "      <td>0.0</td>\n",
       "    </tr>\n",
       "    <tr>\n",
       "      <th>1</th>\n",
       "      <td>1</td>\n",
       "      <td>2</td>\n",
       "      <td>0.0</td>\n",
       "      <td>0.0</td>\n",
       "      <td>0.0</td>\n",
       "      <td>0.0</td>\n",
       "      <td>0.0</td>\n",
       "      <td>0.0</td>\n",
       "      <td>0.000000</td>\n",
       "      <td>0.0</td>\n",
       "      <td>...</td>\n",
       "      <td>0.0</td>\n",
       "      <td>0.00000</td>\n",
       "      <td>0.0</td>\n",
       "      <td>0.000000</td>\n",
       "      <td>0.0</td>\n",
       "      <td>0.0</td>\n",
       "      <td>0.0</td>\n",
       "      <td>0.0</td>\n",
       "      <td>0.0</td>\n",
       "      <td>0.0</td>\n",
       "    </tr>\n",
       "    <tr>\n",
       "      <th>2</th>\n",
       "      <td>2</td>\n",
       "      <td>2</td>\n",
       "      <td>0.0</td>\n",
       "      <td>0.0</td>\n",
       "      <td>0.0</td>\n",
       "      <td>0.0</td>\n",
       "      <td>0.0</td>\n",
       "      <td>0.0</td>\n",
       "      <td>0.000000</td>\n",
       "      <td>0.0</td>\n",
       "      <td>...</td>\n",
       "      <td>0.0</td>\n",
       "      <td>0.00000</td>\n",
       "      <td>0.0</td>\n",
       "      <td>0.000973</td>\n",
       "      <td>0.0</td>\n",
       "      <td>0.0</td>\n",
       "      <td>0.0</td>\n",
       "      <td>0.0</td>\n",
       "      <td>0.0</td>\n",
       "      <td>0.0</td>\n",
       "    </tr>\n",
       "    <tr>\n",
       "      <th>3</th>\n",
       "      <td>3</td>\n",
       "      <td>2</td>\n",
       "      <td>0.0</td>\n",
       "      <td>0.0</td>\n",
       "      <td>0.0</td>\n",
       "      <td>0.0</td>\n",
       "      <td>0.0</td>\n",
       "      <td>0.0</td>\n",
       "      <td>0.000000</td>\n",
       "      <td>0.0</td>\n",
       "      <td>...</td>\n",
       "      <td>0.0</td>\n",
       "      <td>0.00000</td>\n",
       "      <td>0.0</td>\n",
       "      <td>0.001445</td>\n",
       "      <td>0.0</td>\n",
       "      <td>0.0</td>\n",
       "      <td>0.0</td>\n",
       "      <td>0.0</td>\n",
       "      <td>0.0</td>\n",
       "      <td>0.0</td>\n",
       "    </tr>\n",
       "    <tr>\n",
       "      <th>4</th>\n",
       "      <td>4</td>\n",
       "      <td>2</td>\n",
       "      <td>0.0</td>\n",
       "      <td>0.0</td>\n",
       "      <td>0.0</td>\n",
       "      <td>0.0</td>\n",
       "      <td>0.0</td>\n",
       "      <td>0.0</td>\n",
       "      <td>0.008918</td>\n",
       "      <td>0.0</td>\n",
       "      <td>...</td>\n",
       "      <td>0.0</td>\n",
       "      <td>0.00039</td>\n",
       "      <td>0.0</td>\n",
       "      <td>0.006212</td>\n",
       "      <td>0.0</td>\n",
       "      <td>0.0</td>\n",
       "      <td>0.0</td>\n",
       "      <td>0.0</td>\n",
       "      <td>0.0</td>\n",
       "      <td>0.0</td>\n",
       "    </tr>\n",
       "  </tbody>\n",
       "</table>\n",
       "<p>5 rows × 4981 columns</p>\n",
       "</div>"
      ],
      "text/plain": [
       "   USER_ID  trimestre  1000_1000  1000_2  1000_40  1000_611  100_2  100_40  \\\n",
       "0        0          2        0.0     0.0      0.0       0.0    0.0     0.0   \n",
       "1        1          2        0.0     0.0      0.0       0.0    0.0     0.0   \n",
       "2        2          2        0.0     0.0      0.0       0.0    0.0     0.0   \n",
       "3        3          2        0.0     0.0      0.0       0.0    0.0     0.0   \n",
       "4        4          2        0.0     0.0      0.0       0.0    0.0     0.0   \n",
       "\n",
       "    102_154  102_2  ...  page_972  page_98  page_980   page_99  page_994  \\\n",
       "0  0.000000    0.0  ...       0.0  0.00037       0.0  0.001110       0.0   \n",
       "1  0.000000    0.0  ...       0.0  0.00000       0.0  0.000000       0.0   \n",
       "2  0.000000    0.0  ...       0.0  0.00000       0.0  0.000973       0.0   \n",
       "3  0.000000    0.0  ...       0.0  0.00000       0.0  0.001445       0.0   \n",
       "4  0.008918    0.0  ...       0.0  0.00039       0.0  0.006212       0.0   \n",
       "\n",
       "   page_997  2_conversiones_seguidas  hizo_conversion_este_mes  \\\n",
       "0       0.0                      0.0                       0.0   \n",
       "1       0.0                      0.0                       0.0   \n",
       "2       0.0                      0.0                       0.0   \n",
       "3       0.0                      0.0                       0.0   \n",
       "4       0.0                      0.0                       0.0   \n",
       "\n",
       "   hizo_conversion_trim_pasado  convertion  \n",
       "0                          0.0         0.0  \n",
       "1                          0.0         0.0  \n",
       "2                          0.0         0.0  \n",
       "3                          0.0         0.0  \n",
       "4                          0.0         0.0  \n",
       "\n",
       "[5 rows x 4981 columns]"
      ]
     },
     "execution_count": 113,
     "metadata": {},
     "output_type": "execute_result"
    }
   ],
   "source": [
    "pageview.head()"
   ]
  },
  {
   "cell_type": "code",
   "execution_count": 114,
   "id": "ea294e45-e385-45d6-b95f-76d29076fc10",
   "metadata": {},
   "outputs": [],
   "source": [
    "def predict_lgbm_all(grid, X_test_part, users, add='', tipo=''):\n",
    "    predict_test = grid.best_estimator_.predict_proba(X_test_part)[:,1]\n",
    "    predict_test = pd.DataFrame(\n",
    "        {'USER_ID':users, \n",
    "         'SCORE':predict_test} \n",
    "    )\n",
    "    #display(predict_test.head())\n",
    "    print(predict_test[predict_test['SCORE'] < 0.01].shape)\n",
    "    print(predict_test[predict_test['SCORE'] > 0.5].shape)\n",
    "    print(predict_test[predict_test['SCORE'] > 0.99].shape)\n",
    "    \n",
    "    predict_test.groupby(by=['USER_ID'])['SCORE'].mean().to_csv('lgbm_{}_{}_{}_mean.csv'.format(tipo, grid.best_score_, add), index=True)\n",
    "    predict_test.groupby(by=['USER_ID'])['SCORE'].median().to_csv('lgbm_{}_{}_{}_median.csv'.format(tipo, grid.best_score_, add), index=True)\n",
    "    return predict_test"
   ]
  },
  {
   "cell_type": "code",
   "execution_count": 115,
   "id": "1a7e2beb-6fd2-40f0-a2fd-3ff97e0bb950",
   "metadata": {},
   "outputs": [
    {
     "name": "stdout",
     "output_type": "stream",
     "text": [
      "(0, 2)\n",
      "(8644, 2)\n",
      "(0, 2)\n"
     ]
    },
    {
     "data": {
      "text/plain": [
       "<AxesSubplot:>"
      ]
     },
     "execution_count": 115,
     "metadata": {},
     "output_type": "execute_result"
    },
    {
     "data": {
      "image/png": "[encoded data removed]",
      "text/plain": [
       "<Figure size 432x288 with 1 Axes>"
      ]
     },
     "metadata": {},
     "output_type": "display_data"
    }
   ],
   "source": [
    "predict_all_1 = predict_lgbm_all(grid_1, pageview[list_var_relevants], pageview['USER_ID'], add='lasso', tipo='time_split')\n",
    "predict_all_1['SCORE'].hist()"
   ]
  },
  {
   "cell_type": "code",
   "execution_count": 116,
   "id": "b4074623-c2e0-457d-8686-a492a0c09b5e",
   "metadata": {},
   "outputs": [
    {
     "name": "stdout",
     "output_type": "stream",
     "text": [
      "(69, 2)\n",
      "(8076, 2)\n",
      "(0, 2)\n"
     ]
    },
    {
     "data": {
      "text/plain": [
       "<AxesSubplot:>"
      ]
     },
     "execution_count": 116,
     "metadata": {},
     "output_type": "execute_result"
    },
    {
     "data": {
      "image/png": "[encoded data removed]",
      "text/plain": [
       "<Figure size 432x288 with 1 Axes>"
      ]
     },
     "metadata": {},
     "output_type": "display_data"
    }
   ],
   "source": [
    "predict_all_2 = predict_lgbm_all(grid_2, pageview[list_var_chi], pageview['USER_ID'], add='chi', tipo='time_split')\n",
    "predict_all_2['SCORE'].hist()"
   ]
  },
  {
   "cell_type": "code",
   "execution_count": 117,
   "id": "348aaaa6-548a-4748-89cc-06e1e2213246",
   "metadata": {},
   "outputs": [
    {
     "name": "stdout",
     "output_type": "stream",
     "text": [
      "(204, 2)\n",
      "(7625, 2)\n",
      "(0, 2)\n"
     ]
    },
    {
     "data": {
      "text/plain": [
       "<AxesSubplot:>"
      ]
     },
     "execution_count": 117,
     "metadata": {},
     "output_type": "execute_result"
    },
    {
     "data": {
      "image/png": "[encoded data removed]",
      "text/plain": [
       "<Figure size 432x288 with 1 Axes>"
      ]
     },
     "metadata": {},
     "output_type": "display_data"
    }
   ],
   "source": [
    "predict_all_3 = predict_lgbm_all(grid_3, pageview[list_var_anova], pageview['USER_ID'], add='anova', tipo='time_split')\n",
    "predict_all_3['SCORE'].hist()"
   ]
  },
  {
   "cell_type": "code",
   "execution_count": 118,
   "id": "80b59ada-b527-4919-9743-1c2d91bef7c7",
   "metadata": {},
   "outputs": [
    {
     "name": "stdout",
     "output_type": "stream",
     "text": [
      "(0, 2)\n",
      "(8183, 2)\n",
      "(0, 2)\n"
     ]
    },
    {
     "data": {
      "text/plain": [
       "<AxesSubplot:>"
      ]
     },
     "execution_count": 118,
     "metadata": {},
     "output_type": "execute_result"
    },
    {
     "data": {
      "image/png": "[encoded data removed]",
      "text/plain": [
       "<Figure size 432x288 with 1 Axes>"
      ]
     },
     "metadata": {},
     "output_type": "display_data"
    }
   ],
   "source": [
    "predict_all_1_r = predict_lgbm_all(grid_1_r, pageview[list_var_relevants_r], pageview['USER_ID'], add='lasso', tipo='repeat_stratify')\n",
    "predict_all_1_r['SCORE'].hist()"
   ]
  },
  {
   "cell_type": "code",
   "execution_count": 119,
   "id": "94a1c917-afe7-4351-afd7-d4eccc963216",
   "metadata": {},
   "outputs": [
    {
     "name": "stdout",
     "output_type": "stream",
     "text": [
      "(149, 2)\n",
      "(8207, 2)\n",
      "(0, 2)\n"
     ]
    },
    {
     "data": {
      "text/plain": [
       "<AxesSubplot:>"
      ]
     },
     "execution_count": 119,
     "metadata": {},
     "output_type": "execute_result"
    },
    {
     "data": {
      "image/png": "[encoded data removed]",
      "text/plain": [
       "<Figure size 432x288 with 1 Axes>"
      ]
     },
     "metadata": {},
     "output_type": "display_data"
    }
   ],
   "source": [
    "predict_all_2_r = predict_lgbm_all(grid_2_r, pageview[list_var_chi], pageview['USER_ID'], add='chi', tipo='repeat_stratify')\n",
    "predict_all_2_r['SCORE'].hist()"
   ]
  },
  {
   "cell_type": "code",
   "execution_count": 120,
   "id": "94aeb6aa-fb3f-4281-834b-26fcc748915a",
   "metadata": {},
   "outputs": [
    {
     "name": "stdout",
     "output_type": "stream",
     "text": [
      "(248, 2)\n",
      "(7783, 2)\n",
      "(0, 2)\n"
     ]
    },
    {
     "data": {
      "text/plain": [
       "<AxesSubplot:>"
      ]
     },
     "execution_count": 120,
     "metadata": {},
     "output_type": "execute_result"
    },
    {
     "data": {
      "image/png": "[encoded data removed]",
      "text/plain": [
       "<Figure size 432x288 with 1 Axes>"
      ]
     },
     "metadata": {},
     "output_type": "display_data"
    }
   ],
   "source": [
    "predict_all_3_r = predict_lgbm_all(grid_3_r, pageview[list_var_anova], pageview['USER_ID'], add='anova', tipo='repeat_stratify')\n",
    "predict_all_3_r['SCORE'].hist()"
   ]
  },
  {
   "cell_type": "code",
   "execution_count": null,
   "id": "f0ed4549-4c1f-4290-9610-384188f397a5",
   "metadata": {},
   "outputs": [],
   "source": []
  },
  {
   "cell_type": "code",
   "execution_count": null,
   "id": "4b1e92c0-4fcf-4628-bc7e-05c8b37f659c",
   "metadata": {},
   "outputs": [],
   "source": []
  },
  {
   "cell_type": "code",
   "execution_count": null,
   "id": "a6d337dd-6a59-4fc9-b86d-a06dfe8ee2f6",
   "metadata": {},
   "outputs": [],
   "source": []
  }
 ],
 "metadata": {
  "kernelspec": {
   "display_name": "Python 3",
   "language": "python",
   "name": "python3"
  },
  "language_info": {
   "codemirror_mode": {
    "name": "ipython",
    "version": 3
   },
   "file_extension": ".py",
   "mimetype": "text/x-python",
   "name": "python",
   "nbconvert_exporter": "python",
   "pygments_lexer": "ipython3",
   "version": "3.8.5"
  }
 },
 "nbformat": 4,
 "nbformat_minor": 5
}
