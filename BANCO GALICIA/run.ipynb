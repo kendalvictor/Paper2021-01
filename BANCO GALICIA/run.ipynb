{
 "cells": [
  {
   "cell_type": "code",
   "execution_count": 1,
   "metadata": {},
   "outputs": [
    {
     "data": {
      "text/plain": [
       "['.ipynb_checkpoints',\n",
       " 'CONTENT_CATEGORY.zip',\n",
       " 'CONTENT_CATEGORY_BOTTOM.zip',\n",
       " 'CONTENT_CATEGORY_TOP.zip',\n",
       " 'conversiones.zip',\n",
       " 'data.zip',\n",
       " 'data2.zip',\n",
       " 'device_data.zip',\n",
       " 'PAGE.zip',\n",
       " 'pageviews.zip',\n",
       " 'pageviews_complemento.zip',\n",
       " 'pageview_with_previous',\n",
       " 'pageview_with_previous_2.csv',\n",
       " 'sampleSubmission.zip',\n",
       " 'SITE_ID.zip']"
      ]
     },
     "execution_count": 1,
     "metadata": {},
     "output_type": "execute_result"
    }
   ],
   "source": [
    "# Nativos\n",
    "import random as rn\n",
    "import os\n",
    "import sys\n",
    "import gc\n",
    "\n",
    "#calculo\n",
    "import numpy as np\n",
    "import pandas as pd\n",
    "import scipy as sp\n",
    "\n",
    "#grafico\n",
    "import matplotlib.pyplot as plt\n",
    "import seaborn as sns\n",
    "from IPython.display import display\n",
    "%matplotlib inline\n",
    "sns.set(style=\"whitegrid\")\n",
    "\n",
    "#warning ignore future\n",
    "import warnings\n",
    "# warnings.simplefilter(action='ignore', category=FutureWarning)\n",
    "warnings.filterwarnings(\"ignore\")\n",
    "gc.collect()\n",
    "\n",
    "BASE_DIR = os.path.dirname(os.getcwd())\n",
    "if BASE_DIR not in sys.path: sys.path.append(BASE_DIR)\n",
    "\n",
    "#from utils import *\n",
    "#from graphs import *\n",
    "\n",
    "SEED = 29082013\n",
    "os.environ['PYTHONHASHSEED']=str(SEED)\n",
    "np.random.seed(SEED)\n",
    "rn.seed(SEED)\n",
    "\n",
    "subfolder = \"data\"\n",
    "os.listdir(subfolder)"
   ]
  },
  {
   "cell_type": "markdown",
   "metadata": {},
   "source": [
    "## LOAD PAGE VIEWS INFO"
   ]
  },
  {
   "cell_type": "code",
   "execution_count": 2,
   "metadata": {},
   "outputs": [
    {
     "name": "stdout",
     "output_type": "stream",
     "text": [
      "(22870354, 10)\n"
     ]
    },
    {
     "data": {
      "text/html": [
       "<div>\n",
       "<style scoped>\n",
       "    .dataframe tbody tr th:only-of-type {\n",
       "        vertical-align: middle;\n",
       "    }\n",
       "\n",
       "    .dataframe tbody tr th {\n",
       "        vertical-align: top;\n",
       "    }\n",
       "\n",
       "    .dataframe thead th {\n",
       "        text-align: right;\n",
       "    }\n",
       "</style>\n",
       "<table border=\"1\" class=\"dataframe\">\n",
       "  <thead>\n",
       "    <tr style=\"text-align: right;\">\n",
       "      <th></th>\n",
       "      <th>FEC_EVENT</th>\n",
       "      <th>PAGE</th>\n",
       "      <th>CONTENT_CATEGORY</th>\n",
       "      <th>SITE_ID</th>\n",
       "      <th>ON_SITE_SEARCH_TERM</th>\n",
       "      <th>USER_ID</th>\n",
       "      <th>weekday</th>\n",
       "      <th>schedule</th>\n",
       "      <th>tipo_dias</th>\n",
       "      <th>trimestre</th>\n",
       "    </tr>\n",
       "  </thead>\n",
       "  <tbody>\n",
       "    <tr>\n",
       "      <th>1354</th>\n",
       "      <td>2018-01-01 09:56:47</td>\n",
       "      <td>none_14</td>\n",
       "      <td>4_2</td>\n",
       "      <td>2</td>\n",
       "      <td>1</td>\n",
       "      <td>0</td>\n",
       "      <td>0</td>\n",
       "      <td>trabajo_manana</td>\n",
       "      <td>7_12</td>\n",
       "      <td>1</td>\n",
       "    </tr>\n",
       "    <tr>\n",
       "      <th>1357</th>\n",
       "      <td>2018-01-01 09:57:19</td>\n",
       "      <td>14_14</td>\n",
       "      <td>4_2</td>\n",
       "      <td>2</td>\n",
       "      <td>1</td>\n",
       "      <td>0</td>\n",
       "      <td>0</td>\n",
       "      <td>trabajo_manana</td>\n",
       "      <td>7_12</td>\n",
       "      <td>1</td>\n",
       "    </tr>\n",
       "    <tr>\n",
       "      <th>1361</th>\n",
       "      <td>2018-01-01 09:57:48</td>\n",
       "      <td>14_10</td>\n",
       "      <td>4_2</td>\n",
       "      <td>2</td>\n",
       "      <td>1</td>\n",
       "      <td>0</td>\n",
       "      <td>0</td>\n",
       "      <td>trabajo_manana</td>\n",
       "      <td>7_12</td>\n",
       "      <td>1</td>\n",
       "    </tr>\n",
       "    <tr>\n",
       "      <th>1362</th>\n",
       "      <td>2018-01-01 09:57:48</td>\n",
       "      <td>10_12</td>\n",
       "      <td>4_2</td>\n",
       "      <td>2</td>\n",
       "      <td>1</td>\n",
       "      <td>0</td>\n",
       "      <td>0</td>\n",
       "      <td>trabajo_manana</td>\n",
       "      <td>7_12</td>\n",
       "      <td>1</td>\n",
       "    </tr>\n",
       "    <tr>\n",
       "      <th>1363</th>\n",
       "      <td>2018-01-01 09:57:49</td>\n",
       "      <td>12_11</td>\n",
       "      <td>4_2</td>\n",
       "      <td>2</td>\n",
       "      <td>1</td>\n",
       "      <td>0</td>\n",
       "      <td>0</td>\n",
       "      <td>trabajo_manana</td>\n",
       "      <td>7_12</td>\n",
       "      <td>1</td>\n",
       "    </tr>\n",
       "  </tbody>\n",
       "</table>\n",
       "</div>"
      ],
      "text/plain": [
       "               FEC_EVENT     PAGE CONTENT_CATEGORY SITE_ID  \\\n",
       "1354 2018-01-01 09:56:47  none_14              4_2       2   \n",
       "1357 2018-01-01 09:57:19    14_14              4_2       2   \n",
       "1361 2018-01-01 09:57:48    14_10              4_2       2   \n",
       "1362 2018-01-01 09:57:48    10_12              4_2       2   \n",
       "1363 2018-01-01 09:57:49    12_11              4_2       2   \n",
       "\n",
       "     ON_SITE_SEARCH_TERM  USER_ID weekday        schedule tipo_dias trimestre  \n",
       "1354                   1        0       0  trabajo_manana      7_12         1  \n",
       "1357                   1        0       0  trabajo_manana      7_12         1  \n",
       "1361                   1        0       0  trabajo_manana      7_12         1  \n",
       "1362                   1        0       0  trabajo_manana      7_12         1  \n",
       "1363                   1        0       0  trabajo_manana      7_12         1  "
      ]
     },
     "execution_count": 2,
     "metadata": {},
     "output_type": "execute_result"
    }
   ],
   "source": [
    "col_user = 'USER_ID'\n",
    "pageview = pd.read_csv(\n",
    "    \"{}/pageview_with_previous_2.csv\".format(subfolder), parse_dates=[\"FEC_EVENT\"], dtype=str\n",
    ").sort_values(\n",
    "    [col_user, \"FEC_EVENT\"]\n",
    ")\n",
    "pageview['USER_ID'] = pageview['USER_ID'].astype(int)\n",
    "#pageview['PAGE_PREVIOUS'] = pageview['PAGE_PREVIOUS'].apply(lambda _: _.split('_')[0])\n",
    "print(pageview.shape)\n",
    "\n",
    "pageview.head()"
   ]
  },
  {
   "cell_type": "code",
   "execution_count": 3,
   "metadata": {},
   "outputs": [
    {
     "data": {
      "text/plain": [
       "FEC_EVENT              datetime64[ns]\n",
       "PAGE                           object\n",
       "CONTENT_CATEGORY               object\n",
       "SITE_ID                        object\n",
       "ON_SITE_SEARCH_TERM            object\n",
       "USER_ID                         int32\n",
       "weekday                        object\n",
       "schedule                       object\n",
       "tipo_dias                      object\n",
       "trimestre                      object\n",
       "dtype: object"
      ]
     },
     "execution_count": 3,
     "metadata": {},
     "output_type": "execute_result"
    }
   ],
   "source": [
    "pageview.dtypes"
   ]
  },
  {
   "cell_type": "code",
   "execution_count": 4,
   "metadata": {},
   "outputs": [
    {
     "data": {
      "text/html": [
       "<div>\n",
       "<style scoped>\n",
       "    .dataframe tbody tr th:only-of-type {\n",
       "        vertical-align: middle;\n",
       "    }\n",
       "\n",
       "    .dataframe tbody tr th {\n",
       "        vertical-align: top;\n",
       "    }\n",
       "\n",
       "    .dataframe thead th {\n",
       "        text-align: right;\n",
       "    }\n",
       "</style>\n",
       "<table border=\"1\" class=\"dataframe\">\n",
       "  <thead>\n",
       "    <tr style=\"text-align: right;\">\n",
       "      <th></th>\n",
       "      <th>USER_ID</th>\n",
       "      <th>SCORE</th>\n",
       "    </tr>\n",
       "  </thead>\n",
       "  <tbody>\n",
       "    <tr>\n",
       "      <th>0</th>\n",
       "      <td>0</td>\n",
       "      <td>0</td>\n",
       "    </tr>\n",
       "    <tr>\n",
       "      <th>1</th>\n",
       "      <td>1</td>\n",
       "      <td>0</td>\n",
       "    </tr>\n",
       "    <tr>\n",
       "      <th>2</th>\n",
       "      <td>2</td>\n",
       "      <td>0</td>\n",
       "    </tr>\n",
       "    <tr>\n",
       "      <th>3</th>\n",
       "      <td>3</td>\n",
       "      <td>0</td>\n",
       "    </tr>\n",
       "    <tr>\n",
       "      <th>4</th>\n",
       "      <td>4</td>\n",
       "      <td>0</td>\n",
       "    </tr>\n",
       "  </tbody>\n",
       "</table>\n",
       "</div>"
      ],
      "text/plain": [
       "   USER_ID  SCORE\n",
       "0        0      0\n",
       "1        1      0\n",
       "2        2      0\n",
       "3        3      0\n",
       "4        4      0"
      ]
     },
     "execution_count": 4,
     "metadata": {},
     "output_type": "execute_result"
    }
   ],
   "source": [
    "sub = pd.read_csv(\"{}/sampleSubmission.zip\".format(subfolder))\n",
    "sub.head()"
   ]
  },
  {
   "cell_type": "code",
   "execution_count": 6,
   "metadata": {},
   "outputs": [
    {
     "data": {
      "text/plain": [
       "USER_ID    int64\n",
       "SCORE      int64\n",
       "dtype: object"
      ]
     },
     "execution_count": 6,
     "metadata": {},
     "output_type": "execute_result"
    }
   ],
   "source": [
    "sub.dtypes"
   ]
  },
  {
   "cell_type": "code",
   "execution_count": 7,
   "metadata": {},
   "outputs": [
    {
     "data": {
      "text/plain": [
       "(11676, 2)"
      ]
     },
     "execution_count": 7,
     "metadata": {},
     "output_type": "execute_result"
    }
   ],
   "source": [
    "sub.shape"
   ]
  },
  {
   "cell_type": "code",
   "execution_count": 13,
   "metadata": {},
   "outputs": [
    {
     "data": {
      "text/plain": [
       "True"
      ]
     },
     "execution_count": 13,
     "metadata": {},
     "output_type": "execute_result"
    }
   ],
   "source": [
    "set(pageview['USER_ID'].unique()) == set(sub['USER_ID'].unique())"
   ]
  },
  {
   "cell_type": "code",
   "execution_count": 14,
   "metadata": {},
   "outputs": [
    {
     "data": {
      "text/plain": [
       "False"
      ]
     },
     "execution_count": 14,
     "metadata": {},
     "output_type": "execute_result"
    }
   ],
   "source": [
    "set(~pageview[pageview['PAGE'].str.contains('none')]['USER_ID'].unique()) == set(sub['USER_ID'].unique())"
   ]
  },
  {
   "cell_type": "code",
   "execution_count": null,
   "metadata": {},
   "outputs": [],
   "source": []
  },
  {
   "cell_type": "code",
   "execution_count": 18,
   "metadata": {},
   "outputs": [
    {
     "data": {
      "text/plain": [
       "((2871406, 4),\n",
       " Timestamp('2018-01-12 00:00:06'),\n",
       " Timestamp('2018-12-31 23:59:35'))"
      ]
     },
     "execution_count": 18,
     "metadata": {},
     "output_type": "execute_result"
    }
   ],
   "source": [
    "col_user = 'USER_ID'\n",
    "device_data = pd.read_csv(\n",
    "    \"{}/device_data.zip\".format(subfolder), parse_dates=[\"FEC_EVENT\"]\n",
    ").sort_values(\n",
    "    [col_user, \"FEC_EVENT\"]\n",
    ")\n",
    "\n",
    "device_data['USER_ID'] = device_data['USER_ID'].astype(int)\n",
    "device_data['CONNECTION_SPEED'] = device_data['CONNECTION_SPEED'].astype(str)\n",
    "device_data['IS_MOBILE_DEVICE'] = device_data['IS_MOBILE_DEVICE'].astype(str)\n",
    "\n",
    "device_data.shape, device_data['FEC_EVENT'].min(), device_data['FEC_EVENT'].max()"
   ]
  },
  {
   "cell_type": "code",
   "execution_count": 19,
   "metadata": {},
   "outputs": [
    {
     "data": {
      "text/plain": [
       "((22870354, 10),\n",
       " Timestamp('2018-01-01 00:09:17'),\n",
       " Timestamp('2018-12-31 23:59:59'))"
      ]
     },
     "execution_count": 19,
     "metadata": {},
     "output_type": "execute_result"
    }
   ],
   "source": [
    "pageview.shape, pageview['FEC_EVENT'].min(), pageview['FEC_EVENT'].max()"
   ]
  },
  {
   "cell_type": "code",
   "execution_count": 15,
   "metadata": {},
   "outputs": [
    {
     "data": {
      "text/plain": [
       "FEC_EVENT              0\n",
       "PAGE                   0\n",
       "CONTENT_CATEGORY       0\n",
       "SITE_ID                0\n",
       "ON_SITE_SEARCH_TERM    0\n",
       "USER_ID                0\n",
       "weekday                0\n",
       "schedule               0\n",
       "tipo_dias              0\n",
       "trimestre              0\n",
       "dtype: int64"
      ]
     },
     "execution_count": 15,
     "metadata": {},
     "output_type": "execute_result"
    }
   ],
   "source": [
    "pageview.isnull().sum()"
   ]
  },
  {
   "cell_type": "code",
   "execution_count": 16,
   "metadata": {},
   "outputs": [
    {
     "data": {
      "text/plain": [
       "FEC_EVENT           0\n",
       "CONNECTION_SPEED    0\n",
       "IS_MOBILE_DEVICE    0\n",
       "USER_ID             0\n",
       "dtype: int64"
      ]
     },
     "execution_count": 16,
     "metadata": {},
     "output_type": "execute_result"
    }
   ],
   "source": [
    "device_data.isnull().sum()"
   ]
  },
  {
   "cell_type": "code",
   "execution_count": 11,
   "metadata": {},
   "outputs": [
    {
     "data": {
      "text/plain": [
       "FEC_EVENT              datetime64[ns]\n",
       "PAGE                           object\n",
       "CONTENT_CATEGORY               object\n",
       "SITE_ID                        object\n",
       "ON_SITE_SEARCH_TERM            object\n",
       "USER_ID                         int32\n",
       "weekday                        object\n",
       "schedule                       object\n",
       "tipo_dias                      object\n",
       "trimestre                      object\n",
       "dtype: object"
      ]
     },
     "execution_count": 11,
     "metadata": {},
     "output_type": "execute_result"
    }
   ],
   "source": [
    "pageview.dtypes"
   ]
  },
  {
   "cell_type": "code",
   "execution_count": 12,
   "metadata": {},
   "outputs": [
    {
     "data": {
      "text/plain": [
       "FEC_EVENT           datetime64[ns]\n",
       "CONNECTION_SPEED            object\n",
       "IS_MOBILE_DEVICE            object\n",
       "USER_ID                      int32\n",
       "dtype: object"
      ]
     },
     "execution_count": 12,
     "metadata": {},
     "output_type": "execute_result"
    }
   ],
   "source": [
    "device_data.dtypes"
   ]
  },
  {
   "cell_type": "code",
   "execution_count": 13,
   "metadata": {},
   "outputs": [
    {
     "name": "stdout",
     "output_type": "stream",
     "text": [
      "FEC_EVENT :  12397072\n",
      "PAGE :  49150\n",
      "CONTENT_CATEGORY :  65\n",
      "SITE_ID :  4\n",
      "ON_SITE_SEARCH_TERM :  294\n",
      "USER_ID :  11676\n",
      "weekday :  7\n",
      "schedule :  6\n",
      "tipo_dias :  4\n",
      "trimestre :  4\n",
      "//////////////////////////////////////////////////\n",
      "FEC_EVENT :  2592597\n",
      "CONNECTION_SPEED :  4\n",
      "IS_MOBILE_DEVICE :  2\n",
      "USER_ID :  11676\n"
     ]
    }
   ],
   "source": [
    "for col in pageview.columns:\n",
    "    print(col, ': ', pageview[col].unique().shape[0])\n",
    "print(\"/\"*50)\n",
    "\n",
    "for col in device_data.columns:\n",
    "    print(col, ': ',device_data[col].unique().shape[0])"
   ]
  },
  {
   "cell_type": "code",
   "execution_count": 20,
   "metadata": {},
   "outputs": [],
   "source": [
    "from IPython.display import display_html\n",
    "\n",
    "def display_horizontal(*args, percent_sep=5):\n",
    "    html_str=''\n",
    "    for table in args:\n",
    "        df = table if isinstance(table, pd.DataFrame) else  pd.DataFrame(table)\n",
    "        html_str+=df.to_html()\n",
    "    display_html(\n",
    "        html_str.replace(\n",
    "            'table','table style=\"display:inline;padding-right:{}%\"'.format(percent_sep)\n",
    "        ), \n",
    "        raw=True)"
   ]
  },
  {
   "cell_type": "code",
   "execution_count": 15,
   "metadata": {},
   "outputs": [
    {
     "data": {
      "text/plain": [
       "(array([1, 2, 3, 4], dtype=int64), array([1, 2, 3, 4], dtype=int64))"
      ]
     },
     "execution_count": 15,
     "metadata": {},
     "output_type": "execute_result"
    }
   ],
   "source": [
    "sufijo_view = 'view'\n",
    "sufijo_device = 'device'\n",
    "cols_select = ['PAGE', 'CONTENT_CATEGORY', \n",
    "               'CONTENT_CATEGORY_TOP', 'PAGE_PREVIOUS',\n",
    "               'SITE_ID', 'ON_SITE_SEARCH_TERM',\n",
    "               'CONNECTION_SPEED', 'IS_MOBILE_DEVICE',\n",
    "               'weekday_{}'.format(sufijo_view), \n",
    "               'schedule_{}'.format(sufijo_view), \n",
    "               'day_cut_{}'.format(sufijo_view),\n",
    "               'weekday_{}'.format(sufijo_device), \n",
    "               'schedule_{}'.format(sufijo_device), \n",
    "               'day_cut_{}'.format(sufijo_device)]\n",
    "\n",
    "def get_trimestre(val):\n",
    "    if val <= 3:\n",
    "        return 1\n",
    "    elif val <= 6:\n",
    "        return 2\n",
    "    elif val <= 9:\n",
    "        return 3\n",
    "    elif val <= 12:\n",
    "        return 4\n",
    "    return 0\n",
    "\n",
    "def get_schedule(val):\n",
    "    if val < 6:\n",
    "        return 'madrugada'\n",
    "    elif val < 13:\n",
    "        return 'manana'\n",
    "    elif val < 19:\n",
    "        return 'tarde'\n",
    "    else:\n",
    "        return 'noche'\n",
    "\n",
    "def get_day_cut(val):\n",
    "    if val < 7:\n",
    "        return 'inicio_mes'\n",
    "    elif val < 13:\n",
    "        return '7_12'\n",
    "    elif val < 18:\n",
    "        return 'quincena'\n",
    "    elif val < 25:\n",
    "        return '18_24'\n",
    "    else:\n",
    "        return 'fin_de_mes'\n",
    "    \n",
    "def add_schedule_weekday(data, sufijo=sufijo_view):\n",
    "    data['hour'] = data['FEC_EVENT'].dt.hour\n",
    "    data['day'] = data['FEC_EVENT'].dt.day\n",
    "    data['weekday_{}'.format(sufijo_view)] = data['FEC_EVENT'].dt.weekday\n",
    "    data['schedule_{}'.format(sufijo_view)] = data['hour'].apply(get_schedule)\n",
    "    data['day_cut_{}'.format(sufijo_view)] = data['hour'].apply(get_day_cut)\n",
    "    \n",
    "    for col in ['CONTENT_CATEGORY_BOTTOM', 'hour', 'month', 'day']:\n",
    "        if col in data.columns:\n",
    "            del data[col]\n",
    "    \n",
    "    return data\n",
    "\n",
    "def get_format_data(data):\n",
    "    X_data = []\n",
    "    \n",
    "    for col in cols_select:\n",
    "        if col in data.columns:\n",
    "            print(\"-----> \", col)\n",
    "\n",
    "            temp = pd.crosstab(\n",
    "                data.USER_ID, data[col]\n",
    "            )\n",
    "            temp.columns = [col + \"_\" + str(v) for v in temp.columns]\n",
    "            X_data.append(\n",
    "                temp.apply(lambda x: x / x.sum(), axis=1)\n",
    "            )\n",
    "\n",
    "    return pd.concat(X_data, axis=1)\n",
    "\n",
    "\n",
    "\n",
    "pageview['month'] = pageview['FEC_EVENT'].dt.month\n",
    "pageview['trimestre'] = pageview['month'].apply(get_trimestre)\n",
    "\n",
    "device_data['month'] = device_data['FEC_EVENT'].dt.month\n",
    "device_data['trimestre'] = device_data['month'].apply(get_trimestre)\n",
    "\n",
    "## del pageview['month']\n",
    "pageview['trimestre'].unique(), device_data['trimestre'].unique()"
   ]
  },
  {
   "cell_type": "code",
   "execution_count": 16,
   "metadata": {},
   "outputs": [],
   "source": [
    "# pageview[list(pageview.columns[1:])].corr()"
   ]
  },
  {
   "cell_type": "code",
   "execution_count": 17,
   "metadata": {},
   "outputs": [],
   "source": [
    "if 'CONTENT_CATEGORY_BOTTOM' in pageview.columns:\n",
    "    del pageview['CONTENT_CATEGORY_BOTTOM']\n",
    "\n",
    "if 'month' in pageview.columns:\n",
    "    del pageview['month']\n",
    "\n",
    "if 'month' in device_data.columns:\n",
    "    del device_data['month']"
   ]
  },
  {
   "cell_type": "code",
   "execution_count": 21,
   "metadata": {},
   "outputs": [
    {
     "data": {
      "text/html": [
       "<table style=\"display:inline;padding-right:5%\" border=\"1\" class=\"dataframe\">\n",
       "  <thead>\n",
       "    <tr style=\"text-align: right;\">\n",
       "      <th></th>\n",
       "      <th>USER_ID</th>\n",
       "    </tr>\n",
       "    <tr>\n",
       "      <th>trimestre</th>\n",
       "      <th></th>\n",
       "    </tr>\n",
       "  </thead>\n",
       "  <tbody>\n",
       "    <tr>\n",
       "      <th>1</th>\n",
       "      <td>4861441</td>\n",
       "    </tr>\n",
       "    <tr>\n",
       "      <th>2</th>\n",
       "      <td>5677125</td>\n",
       "    </tr>\n",
       "    <tr>\n",
       "      <th>3</th>\n",
       "      <td>6154632</td>\n",
       "    </tr>\n",
       "    <tr>\n",
       "      <th>4</th>\n",
       "      <td>6177156</td>\n",
       "    </tr>\n",
       "  </tbody>\n",
       "</table style=\"display:inline;padding-right:5%\"><table style=\"display:inline;padding-right:5%\" border=\"1\" class=\"dataframe\">\n",
       "  <thead>\n",
       "    <tr style=\"text-align: right;\">\n",
       "      <th></th>\n",
       "      <th>USER_ID</th>\n",
       "    </tr>\n",
       "    <tr>\n",
       "      <th>trimestre</th>\n",
       "      <th></th>\n",
       "    </tr>\n",
       "  </thead>\n",
       "  <tbody>\n",
       "    <tr>\n",
       "      <th>1</th>\n",
       "      <td>565179</td>\n",
       "    </tr>\n",
       "    <tr>\n",
       "      <th>2</th>\n",
       "      <td>746963</td>\n",
       "    </tr>\n",
       "    <tr>\n",
       "      <th>3</th>\n",
       "      <td>781129</td>\n",
       "    </tr>\n",
       "    <tr>\n",
       "      <th>4</th>\n",
       "      <td>778135</td>\n",
       "    </tr>\n",
       "  </tbody>\n",
       "</table style=\"display:inline;padding-right:5%\">"
      ]
     },
     "metadata": {},
     "output_type": "display_data"
    }
   ],
   "source": [
    "display_horizontal(\n",
    "    pageview.groupby(['trimestre']).count()[col_user], \n",
    "    device_data.groupby(['trimestre']).count()[col_user]\n",
    ")"
   ]
  },
  {
   "cell_type": "code",
   "execution_count": 22,
   "metadata": {},
   "outputs": [
    {
     "data": {
      "text/plain": [
       "11676"
      ]
     },
     "execution_count": 22,
     "metadata": {},
     "output_type": "execute_result"
    }
   ],
   "source": [
    "all_user = set(list(pageview[col_user].unique()))\n",
    "len(all_user)"
   ]
  },
  {
   "cell_type": "code",
   "execution_count": null,
   "metadata": {},
   "outputs": [
    {
     "name": "stdout",
     "output_type": "stream",
     "text": [
      "----->  PAGE\n"
     ]
    }
   ],
   "source": [
    "X_test = get_format_data(add_schedule_weekday(pageview.copy()))\n",
    "X_test.shape"
   ]
  },
  {
   "cell_type": "code",
   "execution_count": null,
   "metadata": {},
   "outputs": [],
   "source": [
    "X_device = get_format_data(add_schedule_weekday(device_data.copy(), sufijo=sufijo_device))\n",
    "X_device.shape"
   ]
  },
  {
   "cell_type": "code",
   "execution_count": null,
   "metadata": {},
   "outputs": [],
   "source": [
    "all_columns = list(X_test.columns)\n",
    "X_test_mini = X_test[list(X_test.columns)[:2]].sort_index()\n",
    "display(X_test_mini.head())\n",
    "\n",
    "len(all_columns), type(X_test)"
   ]
  },
  {
   "cell_type": "code",
   "execution_count": null,
   "metadata": {},
   "outputs": [],
   "source": [
    "data_view = []\n",
    "cols_common_view = set()\n",
    "\n",
    "for val in list(pageview['trimestre'].unique())[:-1]:\n",
    "    print(\"/\"*20, val, end=' ')\n",
    "    page_trim = pageview[pageview['trimestre'] <= val]\n",
    "    print(page_trim.shape, ' usuarios detectados: ',len(set(page_trim[col_user].unique())))\n",
    "\n",
    "    # FORMAT DATA\n",
    "    X_test_intern = get_format_data(add_schedule_weekday(page_trim))\n",
    "    print(\"X_test_intern: \", X_test_intern.shape)\n",
    "    \n",
    "    # SELECT COMMON COLUMNSX_test_intern\n",
    "    cols_common_view = set(X_test_intern.columns) if not cols_common_view else cols_common_view.intersection(set(X_test_intern.columns))\n",
    "    print(\"cols_common_view:: \", len(cols_common_view))\n",
    "    \n",
    "    data_view.append(X_test_intern.copy())\n",
    "    del X_test_intern\n",
    "    del page_trim\n",
    "\n",
    "# data_view = pd.concat(data_view, axis=0)\n",
    "del pageview"
   ]
  },
  {
   "cell_type": "code",
   "execution_count": null,
   "metadata": {},
   "outputs": [],
   "source": [
    "len(data_view)"
   ]
  },
  {
   "cell_type": "code",
   "execution_count": null,
   "metadata": {},
   "outputs": [],
   "source": [
    "\n",
    "data_view = [_[list(cols_common_view)] for _ in data_view]\n",
    "\n",
    "for dat in data_view:\n",
    "    print(dat.shape)\n"
   ]
  },
  {
   "cell_type": "markdown",
   "metadata": {},
   "source": [
    "## LOAD CONVERTIONS"
   ]
  },
  {
   "cell_type": "code",
   "execution_count": null,
   "metadata": {},
   "outputs": [],
   "source": [
    "convertion = pd.read_csv(\n",
    "    \"{}/conversiones.csv\".format(subfolder), dtype={col_user: int, 'mes': int}\n",
    ").drop_duplicates()[['USER_ID','mes']].sort_values(\n",
    "    ['USER_ID','mes']\n",
    ").reset_index(drop=True)\n",
    "\n",
    "display(convertion.head())\n",
    "convertion.shape"
   ]
  },
  {
   "cell_type": "code",
   "execution_count": null,
   "metadata": {},
   "outputs": [],
   "source": [
    "convertion['trimestre'] = convertion['mes'].apply(get_trimestre)\n",
    "for col in convertion.columns:\n",
    "    print(col, convertion[col].unique().shape)\n",
    "\n",
    "del convertion['mes']\n",
    "convertion.head()"
   ]
  },
  {
   "cell_type": "code",
   "execution_count": null,
   "metadata": {},
   "outputs": [],
   "source": [
    "len(cols_common_view), type(cols_common_view)"
   ]
  },
  {
   "cell_type": "code",
   "execution_count": null,
   "metadata": {},
   "outputs": [],
   "source": [
    "data_conv = []\n",
    "col_target = 'TARGET'\n",
    "\n",
    "\n",
    "def get_convertions(data_trim, data_analysis):\n",
    "    users_data = data_analysis.index\n",
    "    current = pd.Series(0, index=users_data)\n",
    "    \n",
    "    idx = set(\n",
    "        data_trim.USER_ID.unique()\n",
    "    ).intersection(\n",
    "        set(users_data)\n",
    "    )\n",
    "\n",
    "    current.loc[list(idx)] = 1\n",
    "    return current\n",
    "\n",
    "for val in sorted(list(convertion['trimestre'].unique())):\n",
    "    print(\"/\"*20, val)\n",
    "    conv_trim = convertion[convertion['trimestre'] == val].drop_duplicates().reset_index(drop=True)\n",
    "    \n",
    "    if val <= len(data_view):\n",
    "        data_view[val-1]['current'] = get_convertions(conv_trim, data_view[val-1])\n",
    "        \n",
    "    elif val == len(data_view) + 1:\n",
    "        X_test['current'] = get_convertions(conv_trim, X_test)\n",
    "        \n",
    "    if val > 1:\n",
    "        data_view[val-2][col_target] = get_convertions(conv_trim, data_view[val-2])\n",
    "            \n",
    "    \n",
    "cols_common_view.add('current')\n",
    "len(cols_common_view)"
   ]
  },
  {
   "cell_type": "code",
   "execution_count": null,
   "metadata": {},
   "outputs": [],
   "source": [
    "for dat in data_view:\n",
    "    print(type(dat), dat.shape, col_target in dat.columns, 'current' in dat.columns)"
   ]
  },
  {
   "cell_type": "code",
   "execution_count": null,
   "metadata": {},
   "outputs": [],
   "source": [
    "X_test.shape, 'current' in X_test.columns"
   ]
  },
  {
   "cell_type": "code",
   "execution_count": null,
   "metadata": {},
   "outputs": [],
   "source": [
    "len(cols_common_view), 'current' in list(cols_common_view)"
   ]
  },
  {
   "cell_type": "code",
   "execution_count": null,
   "metadata": {},
   "outputs": [],
   "source": [
    "cols_common_view = list(cols_common_view)\n",
    "X_test = X_test[cols_common_view]\n",
    " \n",
    "cols_common_view = cols_common_view + [col_target]\n",
    "\n",
    "data = pd.concat(\n",
    "    [_[cols_common_view] for _ in data_view], axis=0\n",
    ")                    \n",
    "data = data.drop_duplicates()\n",
    "print(\"data:\", data.shape)\n",
    "\n",
    "X_train = data.drop([col_target], axis=1)\n",
    "y_train = data[col_target]\n",
    "\n",
    "del data\n",
    "X_train.shape, X_test.shape, y_train.shape"
   ]
  },
  {
   "cell_type": "code",
   "execution_count": null,
   "metadata": {},
   "outputs": [],
   "source": [
    "y_train.value_counts(dropna=False, normalize=True)"
   ]
  },
  {
   "cell_type": "code",
   "execution_count": null,
   "metadata": {},
   "outputs": [],
   "source": [
    "def var_cols_relevants(sfm, X):\n",
    "    bool_select_var = list(sfm.get_support())\n",
    "    list_columns = list(X.columns)\n",
    "    return list({\n",
    "       list_columns[i]: bool_select_var[i] for i in range(len(list_columns)) if bool_select_var[i]\n",
    "    }.keys())"
   ]
  },
  {
   "cell_type": "code",
   "execution_count": null,
   "metadata": {},
   "outputs": [],
   "source": []
  },
  {
   "cell_type": "code",
   "execution_count": null,
   "metadata": {},
   "outputs": [],
   "source": []
  },
  {
   "cell_type": "code",
   "execution_count": null,
   "metadata": {},
   "outputs": [],
   "source": []
  },
  {
   "cell_type": "code",
   "execution_count": null,
   "metadata": {},
   "outputs": [],
   "source": []
  },
  {
   "cell_type": "markdown",
   "metadata": {},
   "source": [
    "## PREPARATE DATA"
   ]
  },
  {
   "cell_type": "code",
   "execution_count": null,
   "metadata": {},
   "outputs": [],
   "source": [
    "from sklearn.linear_model import LassoCV\n",
    "from sklearn.feature_selection import SelectFromModel\n",
    "from lightgbm import LGBMClassifier\n",
    "from sklearn import model_selection\n",
    "from sklearn.metrics import roc_auc_score\n",
    "from sklearn.model_selection import StratifiedShuffleSplit, StratifiedKFold, TimeSeriesSplit\n",
    "from sklearn.model_selection import GridSearchCV\n",
    "from sklearn import model_selection\n",
    "from sklearn.metrics import roc_auc_score\n",
    "from sklearn.model_selection import StratifiedShuffleSplit, StratifiedKFold, TimeSeriesSplit\n",
    "from sklearn.model_selection import GridSearchCV\n",
    "from sklearn.model_selection import TimeSeriesSplit, cross_val_score, GridSearchCV\n",
    "from sklearn.linear_model import LogisticRegression\n",
    "from sklearn.discriminant_analysis import QuadraticDiscriminantAnalysis\n",
    "from sklearn.feature_selection import VarianceThreshold\n",
    "from sklearn.decomposition import PCA\n",
    "from sklearn.cluster import KMeans\n",
    "from sklearn.neighbors import KNeighborsClassifier\n",
    "\n",
    "kfold_off = StratifiedKFold(\n",
    "    n_splits=10, \n",
    "    shuffle=False, \n",
    "    random_state=SEED\n",
    ")\n",
    "time_split = TimeSeriesSplit(\n",
    "    n_splits=10\n",
    ")\n",
    "\n",
    "\"\"\"\n",
    "lasso_cv = LassoCV(cv=kfold_off, random_state=SEED, verbose=1, n_jobs=4)\n",
    "sfm = SelectFromModel(lasso_cv)\n",
    "sfm.fit(X_train, y_train)\n",
    "\n",
    "list_var_relevants = var_cols_relevants(sfm, X_train)\n",
    "print(list_var_relevants)\n",
    "X_train = X_train[list_var_relevants]\n",
    "X_test_k = X_test_k[list_var_relevants]\n",
    "\"\"\""
   ]
  },
  {
   "cell_type": "code",
   "execution_count": null,
   "metadata": {},
   "outputs": [],
   "source": [
    "%%time\n",
    "\"\"\"\n",
    "logit = LogisticRegression(\n",
    "    C=2.3263050671536263, \n",
    "    random_state=SEED, \n",
    "    solver='saga', \n",
    "    class_weight='balanced', \n",
    "    penalty='l2', \n",
    "    n_jobs = 4\n",
    ")\n",
    "cv_scores1 = cross_val_score(\n",
    "    logit, X_train, y_train, cv=kfold_off, \n",
    "    scoring='roc_auc', n_jobs=4\n",
    ")\n",
    "\n",
    "print(cv_scores1)\n",
    "print(\"/\"*20, cv_scores1.mean())\n",
    "\"\"\""
   ]
  },
  {
   "cell_type": "code",
   "execution_count": null,
   "metadata": {},
   "outputs": [],
   "source": [
    "%%time\n",
    "\"\"\"\n",
    "best_parameter = {\n",
    "    'bagging_fraction': 0.95, \n",
    "    'boosting': 'dart', \n",
    "    'feature_fraction': 0.1, \n",
    "    'is_unbalance': True, \n",
    "    'learning_rate': 0.025, \n",
    "    'max_depth': 55, \n",
    "    'metric': 'auc', \n",
    "    'min_gain_to_split': 1, \n",
    "    'n_estimators': 500,\n",
    "    'skip_drop': 0.5,\n",
    "    'tree_learner': 'serial',\n",
    "    'xgboost_dart_mode': False\n",
    "}\n",
    "\n",
    "model_lgbm =  LGBMClassifier(\n",
    "    seed=SEED, **best_parameter\n",
    ")\n",
    "cv_scores2 = cross_val_score(\n",
    "    model_lgbm, X_train, y_train, cv=kfold_off, \n",
    "    scoring='roc_auc', n_jobs=4\n",
    ")\n",
    "\n",
    "print(cv_scores2)\n",
    "print(\"/\"*20, cv_scores2.mean())\n",
    "\"\"\""
   ]
  },
  {
   "cell_type": "code",
   "execution_count": null,
   "metadata": {},
   "outputs": [],
   "source": [
    "%%time\n",
    "\"\"\"\n",
    "model_knn = KNeighborsClassifier(\n",
    "    n_neighbors=7,\n",
    "    p=2, weights='distance'\n",
    ")\n",
    "cv_scores4 = cross_val_score(\n",
    "    model_knn, X_train, y_train, cv=kfold_off, \n",
    "    scoring='roc_auc', n_jobs=4\n",
    ")\n",
    "\n",
    "print(cv_scores4)\n",
    "print(\"/\"*20, cv_scores4.mean())\n",
    "\"\"\""
   ]
  },
  {
   "cell_type": "code",
   "execution_count": null,
   "metadata": {},
   "outputs": [],
   "source": []
  },
  {
   "cell_type": "markdown",
   "metadata": {},
   "source": [
    "# INIT PREDICTIONS"
   ]
  },
  {
   "cell_type": "code",
   "execution_count": null,
   "metadata": {},
   "outputs": [],
   "source": [
    "from sklearn.feature_selection import SelectKBest, chi2, f_classif\n",
    "num_cols = [_*int(X_train.shape[1] / 12) for _ in range(1,12)]\n",
    "num_cols[1:-2]"
   ]
  },
  {
   "cell_type": "code",
   "execution_count": null,
   "metadata": {},
   "outputs": [],
   "source": [
    "del data_view"
   ]
  },
  {
   "cell_type": "code",
   "execution_count": null,
   "metadata": {},
   "outputs": [],
   "source": [
    "import lightgbm as lgb\n",
    "\n",
    "best_parameter = {\n",
    "    'bagging_fraction': 0.95, \n",
    "    'boosting': 'dart', \n",
    "    'feature_fraction': 0.1, \n",
    "    'is_unbalance': True, \n",
    "    'learning_rate': 0.025, \n",
    "    'max_depth': 55, \n",
    "    'metric': 'auc', \n",
    "    'min_gain_to_split': 1, \n",
    "    'n_estimators': 500,\n",
    "    'skip_drop': 0.5,\n",
    "    'tree_learner': 'serial',\n",
    "    'xgboost_dart_mode': False\n",
    "}\n",
    "\n",
    "param_grid = {\n",
    "    k: [v] if not isinstance(v, list) else v for k, v in best_parameter.items()\n",
    "}\n",
    "\n",
    "fit_params = {\n",
    "    \"eval_metric\" : 'auc', \n",
    "    'verbose': 2\n",
    "}\n",
    "\n",
    "def apply_lgbm(X_train_part, X_test_part, y_train):\n",
    "    model_lgbm = lgb.LGBMClassifier(\n",
    "        seed=SEED, \n",
    "        feature_fraction_seed=SEED, \n",
    "        drop_seed=SEED\n",
    "    )\n",
    "    grid = RandomizedSearchCV(\n",
    "        model_lgbm, param_grid, cv=kfold_off, \n",
    "        n_jobs=-1, scoring='roc_auc', verbose=1,\n",
    "        n_iter=100\n",
    "    )\n",
    "    grid.fit(X_train_part, y_train, **fit_params)\n",
    "    \n",
    "    # best_params_ = grid.best_params_\n",
    "    # model_ = grid.best_estimator_\n",
    "    # score_ = grid.best_score_\n",
    "\n",
    "    print(\"-> \", grid.best_score_)\n",
    "    \n",
    "    predict_test = grid.best_estimator_.predict_proba(X_test_part)[:,1]\n",
    "    predict_test = pd.DataFrame(\n",
    "        {'USER_ID':index_test, \n",
    "         'SCORE':predict_test} \n",
    "    )\n",
    "    display(predict_test.head())\n",
    "    print(predict_test[predict_test['SCORE'] < 0.01].shape)\n",
    "    print(predict_test[predict_test['SCORE'] > 0.5].shape)\n",
    "    print(predict_test[predict_test['SCORE'] > 0.99].shape)\n",
    "    \n",
    "    predict_test.to_csv('lgbm_time_split_{}.csv'.format(intent), index=False)"
   ]
  },
  {
   "cell_type": "code",
   "execution_count": null,
   "metadata": {},
   "outputs": [],
   "source": [
    "index_test = X_test.index\n",
    "\n",
    "for num_col in num_cols[:-2]:\n",
    "    sb = SelectKBest(f_classif, num_col)\n",
    "    \n",
    "    X_train_part = sb.fit_transform(X_train, y_train)\n",
    "    X_test_part = sb.transform(X_test)\n",
    "\n",
    "    \n",
    "    X_test_part = sp.sparse.csr_matrix(X_test_part)\n",
    "    X_train_part = sp.sparse.csr_matrix(X_train_part)\n",
    "    print(\">\"*3, X_train_part.shape, X_test_part.shape, y_train.shape)\n",
    "    \n",
    "    intent = 'train_{}_rows_{}_cols'.format(*list(X_train_part.shape))\n",
    "    print(intent)\n",
    "    apply_lgbm(X_train_part, X_test_part, y_train)"
   ]
  },
  {
   "cell_type": "code",
   "execution_count": null,
   "metadata": {},
   "outputs": [],
   "source": []
  },
  {
   "cell_type": "code",
   "execution_count": null,
   "metadata": {},
   "outputs": [],
   "source": []
  },
  {
   "cell_type": "code",
   "execution_count": null,
   "metadata": {},
   "outputs": [],
   "source": []
  },
  {
   "cell_type": "code",
   "execution_count": null,
   "metadata": {},
   "outputs": [],
   "source": []
  },
  {
   "cell_type": "code",
   "execution_count": null,
   "metadata": {},
   "outputs": [],
   "source": []
  },
  {
   "cell_type": "markdown",
   "metadata": {},
   "source": [
    "### FORCE RAISE"
   ]
  },
  {
   "cell_type": "code",
   "execution_count": null,
   "metadata": {},
   "outputs": [],
   "source": [
    "raise"
   ]
  },
  {
   "cell_type": "code",
   "execution_count": null,
   "metadata": {},
   "outputs": [],
   "source": [
    "c_values = np.logspace(0, 0.75, 20)\n",
    "c_values"
   ]
  },
  {
   "cell_type": "code",
   "execution_count": null,
   "metadata": {},
   "outputs": [],
   "source": [
    "from sklearn.linear_model import LogisticRegression\n",
    "\n",
    "param_log = {\n",
    "    'C': c_values,\n",
    "    'class_weight': ['balanced'],\n",
    "    'solver': ['saga', 'newton-cg', 'sag'],\n",
    "    'penalty': ['l2']\n",
    "}\n",
    "\n",
    "model_log = LogisticRegression(\n",
    "    random_state=SEED, \n",
    "    n_jobs = 4\n",
    ")\n",
    "\n",
    "grid = GridSearchCV(\n",
    "    model_log, param_log, cv=kfold_off, \n",
    "    n_jobs=-1, scoring='roc_auc', verbose=1\n",
    ")\n",
    "grid.fit(X_train, y_train)\n",
    "\n",
    "best_params_ = grid.best_params_\n",
    "model_ = grid.best_estimator_\n",
    "score_ = grid.best_score_\n",
    "\n",
    "print(score_, best_params_)"
   ]
  },
  {
   "cell_type": "code",
   "execution_count": null,
   "metadata": {},
   "outputs": [],
   "source": [
    "predict_test_log = grid.best_estimator_.predict_proba(X_test_k)[:,1]   # 0.7757083940054187\n",
    "predict_test_log, predict_test_log.shape"
   ]
  },
  {
   "cell_type": "code",
   "execution_count": null,
   "metadata": {},
   "outputs": [],
   "source": [
    "predict_test_log = pd.DataFrame(\n",
    "    {'USER_ID':index_test, 'SCORE':predict_test_log} \n",
    ")\n",
    "predict_test_log.head()"
   ]
  },
  {
   "cell_type": "code",
   "execution_count": null,
   "metadata": {},
   "outputs": [],
   "source": [
    "print(predict_test_log[predict_test_log['SCORE'] < 0.01].shape)\n",
    "print(predict_test_log[predict_test_log['SCORE'] > 0.5].shape)\n",
    "print(predict_test_log[predict_test_log['SCORE'] > 0.99].shape)\n",
    "predict_test_log.to_csv('analysis_log_kof_{}x.csv'.format(intent), index=False)"
   ]
  },
  {
   "cell_type": "code",
   "execution_count": null,
   "metadata": {},
   "outputs": [],
   "source": [
    "\"\"\"\n",
    "(2033, 2)\n",
    "(330, 2)\n",
    "(8, 2)\n",
    "\n",
    "(31, 2)\n",
    "(6123, 2)\n",
    "(153, 2)\n",
    "\n",
    "(1641, 2)\n",
    "(573, 2)\n",
    "(297, 2)\n",
    "\"\"\""
   ]
  },
  {
   "cell_type": "code",
   "execution_count": null,
   "metadata": {},
   "outputs": [],
   "source": [
    "gc.collect()"
   ]
  },
  {
   "cell_type": "code",
   "execution_count": null,
   "metadata": {},
   "outputs": [],
   "source": []
  }
 ],
 "metadata": {
  "kernelspec": {
   "display_name": "Python 3",
   "language": "python",
   "name": "python3"
  },
  "language_info": {
   "codemirror_mode": {
    "name": "ipython",
    "version": 3
   },
   "file_extension": ".py",
   "mimetype": "text/x-python",
   "name": "python",
   "nbconvert_exporter": "python",
   "pygments_lexer": "ipython3",
   "version": "3.8.5"
  }
 },
 "nbformat": 4,
 "nbformat_minor": 4
}
