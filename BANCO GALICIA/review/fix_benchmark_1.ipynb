{
 "cells": [
  {
   "cell_type": "code",
   "execution_count": 1,
   "metadata": {
    "_cell_guid": "b1076dfc-b9ad-4769-8c92-a6c4dae69d19",
    "_uuid": "8f2839f25d086af736a60e9eeb907d3b93b6e0e5"
   },
   "outputs": [
    {
     "data": {
      "text/plain": [
       "['CONTENT_CATEGORY.csv',\n",
       " '.ipynb_checkpoints',\n",
       " 'device_data.csv',\n",
       " 'sampleSubmission.csv',\n",
       " 'SITE_ID.csv',\n",
       " 'PAGE.csv',\n",
       " 'CONTENT_CATEGORY_TOP.csv',\n",
       " 'conversiones.csv',\n",
       " 'CONTENT_CATEGORY_BOTTOM.csv',\n",
       " 'pageviews.csv']"
      ]
     },
     "execution_count": 1,
     "metadata": {},
     "output_type": "execute_result"
    }
   ],
   "source": [
    "# Nativos\n",
    "import random as rn\n",
    "import os\n",
    "import sys\n",
    "import gc\n",
    "\n",
    "#calculo\n",
    "import numpy as np\n",
    "import pandas as pd\n",
    "import scipy as sp\n",
    "\n",
    "#grafico\n",
    "import matplotlib.pyplot as plt\n",
    "import seaborn as sns\n",
    "from IPython.display import display\n",
    "%matplotlib inline\n",
    "sns.set(style=\"whitegrid\")\n",
    "\n",
    "#warning ignore future\n",
    "import warnings\n",
    "# warnings.simplefilter(action='ignore', category=FutureWarning)\n",
    "warnings.filterwarnings(\"ignore\")\n",
    "gc.collect()\n",
    "\n",
    "BASE_DIR = os.path.dirname(os.getcwd())\n",
    "if BASE_DIR not in sys.path: sys.path.append(BASE_DIR)\n",
    "\n",
    "from utils import *\n",
    "from graphs import *\n",
    "\n",
    "SEED = 29082013\n",
    "os.environ['PYTHONHASHSEED']=str(SEED)\n",
    "np.random.seed(SEED)\n",
    "rn.seed(SEED)\n",
    "\n",
    "subfolder = \"data\"\n",
    "os.listdir(subfolder)"
   ]
  },
  {
   "cell_type": "code",
   "execution_count": 2,
   "metadata": {},
   "outputs": [],
   "source": [
    "def get_schedule(val):\n",
    "    if val < 6:\n",
    "        return 'madrugada'\n",
    "    elif val < 9:\n",
    "        return 'antes_del_trabajo'\n",
    "    elif val < 13:\n",
    "        return 'trabajo_manana'\n",
    "    elif val < 16:\n",
    "        return 'almuerzo'\n",
    "    elif val < 19:\n",
    "        return 'trabajo_tarde'\n",
    "    else:\n",
    "        return 'luego_del_trabajo'"
   ]
  },
  {
   "cell_type": "code",
   "execution_count": 3,
   "metadata": {
    "_cell_guid": "79c7e3d0-c299-4dcb-8224-4455121ee9b0",
    "_uuid": "d629ff2d2480ee46fbb7e2d37f6b5fab8052498a"
   },
   "outputs": [
    {
     "data": {
      "text/plain": [
       "(2871406, 4)"
      ]
     },
     "execution_count": 3,
     "metadata": {},
     "output_type": "execute_result"
    }
   ],
   "source": [
    "col_user = 'USER_ID'\n",
    "device_data = pd.read_csv(\n",
    "    \"{}/device_data.csv\".format(subfolder), parse_dates=[\"FEC_EVENT\"]\n",
    ").sort_values(\n",
    "    [col_user, \"FEC_EVENT\"]\n",
    ")\n",
    "device_data.shape"
   ]
  },
  {
   "cell_type": "code",
   "execution_count": 4,
   "metadata": {},
   "outputs": [
    {
     "data": {
      "text/plain": [
       "Index(['FEC_EVENT', 'CONNECTION_SPEED', 'IS_MOBILE_DEVICE', 'USER_ID'], dtype='object')"
      ]
     },
     "execution_count": 4,
     "metadata": {},
     "output_type": "execute_result"
    }
   ],
   "source": [
    "device_data.columns"
   ]
  },
  {
   "cell_type": "code",
   "execution_count": 5,
   "metadata": {},
   "outputs": [
    {
     "data": {
      "text/plain": [
       "(17936934, 8)"
      ]
     },
     "execution_count": 5,
     "metadata": {},
     "output_type": "execute_result"
    }
   ],
   "source": [
    "data = pd.read_csv(\n",
    "    \"{}/pageviews.csv\".format(subfolder), parse_dates=[\"FEC_EVENT\"]\n",
    ").sort_values(\n",
    "    [col_user, \"FEC_EVENT\"]\n",
    ")\n",
    "data.shape"
   ]
  },
  {
   "cell_type": "code",
   "execution_count": 6,
   "metadata": {},
   "outputs": [
    {
     "data": {
      "text/plain": [
       "Index(['FEC_EVENT', 'PAGE', 'CONTENT_CATEGORY', 'CONTENT_CATEGORY_TOP',\n",
       "       'CONTENT_CATEGORY_BOTTOM', 'SITE_ID', 'ON_SITE_SEARCH_TERM', 'USER_ID'],\n",
       "      dtype='object')"
      ]
     },
     "execution_count": 6,
     "metadata": {},
     "output_type": "execute_result"
    }
   ],
   "source": [
    "data.columns"
   ]
  },
  {
   "cell_type": "code",
   "execution_count": 7,
   "metadata": {},
   "outputs": [],
   "source": [
    "del data['CONTENT_CATEGORY_BOTTOM']\n",
    "\n",
    "data['weekday_view'] = data['FEC_EVENT'].dt.weekday\n",
    "device_data['weekday_device'] = device_data['FEC_EVENT'].dt.weekday\n",
    "\n",
    "data['hour'] = data['FEC_EVENT'].dt.hour\n",
    "device_data['hour'] = device_data['FEC_EVENT'].dt.hour\n",
    "data['schedule_view'] = data['hour'].apply(get_schedule)\n",
    "device_data['schedule_device'] = device_data['hour'].apply(get_schedule)\n",
    "\n",
    "del data['hour']\n",
    "del device_data['hour']"
   ]
  },
  {
   "cell_type": "code",
   "execution_count": 8,
   "metadata": {},
   "outputs": [
    {
     "data": {
      "text/plain": [
       "(['PAGE',\n",
       "  'CONTENT_CATEGORY',\n",
       "  'CONTENT_CATEGORY_TOP',\n",
       "  'SITE_ID',\n",
       "  'ON_SITE_SEARCH_TERM',\n",
       "  'weekday_view',\n",
       "  'schedule_view'],\n",
       " ['CONNECTION_SPEED', 'IS_MOBILE_DEVICE', 'weekday_device', 'schedule_device'])"
      ]
     },
     "execution_count": 8,
     "metadata": {},
     "output_type": "execute_result"
    }
   ],
   "source": [
    "cols = list(data.columns)[1:-3] + ['weekday_view', 'schedule_view']\n",
    "cols_device = list(device_data.columns)[1:-3] + ['weekday_device', 'schedule_device']\n",
    "\n",
    "cols, cols_device"
   ]
  },
  {
   "cell_type": "code",
   "execution_count": 9,
   "metadata": {},
   "outputs": [
    {
     "name": "stdout",
     "output_type": "stream",
     "text": [
      "--> PAGE\n",
      "--> CONTENT_CATEGORY\n",
      "--> CONTENT_CATEGORY_TOP\n",
      "--> SITE_ID\n",
      "--> ON_SITE_SEARCH_TERM\n",
      "--> weekday_view\n",
      "--> schedule_view\n",
      "--> CONNECTION_SPEED\n",
      "--> IS_MOBILE_DEVICE\n",
      "--> weekday_device\n",
      "--> schedule_device\n"
     ]
    },
    {
     "data": {
      "text/plain": [
       "(11676, 2133)"
      ]
     },
     "execution_count": 9,
     "metadata": {},
     "output_type": "execute_result"
    }
   ],
   "source": [
    "trimestre_data = data[data.FEC_EVENT.dt.month > 0]\n",
    "trimestre_data_device = device_data[device_data.FEC_EVENT.dt.month > 0]\n",
    "\n",
    "X_test = []\n",
    "\n",
    "for c in cols:\n",
    "    print(\"-->\", c)\n",
    "    temp = pd.crosstab(trimestre_data.USER_ID, trimestre_data[c]).sort_index()\n",
    "    temp.columns = [c + \"_\" + str(v) for v in temp.columns]\n",
    "    X_test.append(temp.apply(lambda x: x / x.sum(), axis=1))\n",
    "    del temp\n",
    "\n",
    "for c in cols_device:\n",
    "    print(\"-->\", c)\n",
    "    temp = pd.crosstab(trimestre_data_device.USER_ID, trimestre_data_device[c]).sort_index()\n",
    "    temp.columns = [c + \"_\" + str(v) for v in temp.columns]\n",
    "    X_test.append(temp.apply(lambda x: x / x.sum(), axis=1))\n",
    "    del temp\n",
    "    \n",
    "X_test = pd.concat(X_test, axis=1)\n",
    "del trimestre_data\n",
    "del trimestre_data_device\n",
    "X_test.shape"
   ]
  },
  {
   "cell_type": "code",
   "execution_count": 10,
   "metadata": {},
   "outputs": [
    {
     "data": {
      "text/plain": [
       "0"
      ]
     },
     "execution_count": 10,
     "metadata": {},
     "output_type": "execute_result"
    }
   ],
   "source": [
    "X_test.isnull().sum().sum()"
   ]
  },
  {
   "cell_type": "code",
   "execution_count": 11,
   "metadata": {},
   "outputs": [
    {
     "name": "stdout",
     "output_type": "stream",
     "text": [
      "--> PAGE\n",
      "--> CONTENT_CATEGORY\n",
      "--> CONTENT_CATEGORY_TOP\n",
      "--> SITE_ID\n",
      "--> ON_SITE_SEARCH_TERM\n",
      "--> weekday_view\n",
      "--> schedule_view\n",
      "--> CONNECTION_SPEED\n",
      "--> IS_MOBILE_DEVICE\n",
      "--> weekday_device\n",
      "--> schedule_device\n",
      "(11387, 1946) (11528, 20)\n"
     ]
    },
    {
     "data": {
      "text/plain": [
       "(11386, 1965)"
      ]
     },
     "execution_count": 11,
     "metadata": {},
     "output_type": "execute_result"
    }
   ],
   "source": [
    "trimestre_data = data[data.FEC_EVENT.dt.month < 10]\n",
    "trimestre_data_device = device_data[device_data.FEC_EVENT.dt.month < 10]\n",
    "\n",
    "X_train = []\n",
    "X_train_device = []\n",
    "\n",
    "for c in cols:\n",
    "    print(\"-->\", c)\n",
    "    temp = pd.crosstab(trimestre_data.USER_ID, trimestre_data[c]).sort_index()\n",
    "    temp.columns = [c + \"_\" + str(v) for v in temp.columns]\n",
    "    X_train.append(temp.apply(lambda x: x / x.sum(), axis=1))\n",
    "    del temp\n",
    "\n",
    "for c in cols_device:\n",
    "    print(\"-->\", c)\n",
    "    temp = pd.crosstab(trimestre_data_device.USER_ID, trimestre_data_device[c]).sort_index()\n",
    "    temp.columns = [c + \"_\" + str(v) for v in temp.columns]\n",
    "    X_train_device.append(temp.apply(lambda x: x / x.sum(), axis=1))\n",
    "    del temp\n",
    "    \n",
    "X_train = pd.concat(X_train, axis=1)\n",
    "X_train_device = pd.concat(X_train_device, axis=1)\n",
    "\n",
    "X_train[col_user] = X_train.index\n",
    "del X_train.index.name\n",
    "X_train_device[col_user] = X_train_device.index\n",
    "del X_train_device.index.name\n",
    "print(X_train.shape, X_train_device.shape)\n",
    "\n",
    "X_train = pd.merge(X_train, X_train_device, on=col_user, how='inner')\n",
    "\n",
    "\n",
    "del X_train_device\n",
    "del trimestre_data\n",
    "del trimestre_data_device\n",
    "del data\n",
    "X_train.shape"
   ]
  },
  {
   "cell_type": "code",
   "execution_count": 12,
   "metadata": {},
   "outputs": [
    {
     "data": {
      "text/plain": [
       "(0, (11386, 1965), (11676, 2133))"
      ]
     },
     "execution_count": 12,
     "metadata": {},
     "output_type": "execute_result"
    }
   ],
   "source": [
    "X_train.isnull().sum().sum(), X_train.shape, X_test.shape"
   ]
  },
  {
   "cell_type": "code",
   "execution_count": 13,
   "metadata": {},
   "outputs": [
    {
     "data": {
      "text/plain": [
       "(['weekday_device_3',\n",
       "  'weekday_device_4',\n",
       "  'weekday_device_5',\n",
       "  'weekday_device_6',\n",
       "  'schedule_device_almuerzo',\n",
       "  'schedule_device_antes_del_trabajo',\n",
       "  'schedule_device_luego_del_trabajo',\n",
       "  'schedule_device_madrugada',\n",
       "  'schedule_device_trabajo_manana',\n",
       "  'schedule_device_trabajo_tarde'],\n",
       " ['weekday_device_3',\n",
       "  'weekday_device_4',\n",
       "  'weekday_device_5',\n",
       "  'weekday_device_6',\n",
       "  'schedule_device_almuerzo',\n",
       "  'schedule_device_antes_del_trabajo',\n",
       "  'schedule_device_luego_del_trabajo',\n",
       "  'schedule_device_madrugada',\n",
       "  'schedule_device_trabajo_manana',\n",
       "  'schedule_device_trabajo_tarde'])"
      ]
     },
     "execution_count": 13,
     "metadata": {},
     "output_type": "execute_result"
    }
   ],
   "source": [
    "list(X_test.columns[-10:]), list(X_train.columns[-10:])"
   ]
  },
  {
   "cell_type": "code",
   "execution_count": 14,
   "metadata": {},
   "outputs": [
    {
     "name": "stdout",
     "output_type": "stream",
     "text": [
      "features:  1964\n"
     ]
    }
   ],
   "source": [
    "features = list(set(X_train.columns).intersection(set(X_test.columns)))\n",
    "print(\"features: \", len(features))\n",
    "X_train = X_train[features]\n",
    "X_test = X_test[features]"
   ]
  },
  {
   "cell_type": "code",
   "execution_count": 15,
   "metadata": {},
   "outputs": [],
   "source": [
    "y_prev = pd.read_csv(\"data/conversiones.csv\")\n",
    "y_train = pd.Series(0, index=X_train.index)\n",
    "idx = set(y_prev[y_prev.mes >= 10].USER_ID.unique()).intersection(\n",
    "        set(X_train.index))\n",
    "y_train.loc[list(idx)] = 1"
   ]
  },
  {
   "cell_type": "code",
   "execution_count": 16,
   "metadata": {},
   "outputs": [
    {
     "data": {
      "text/plain": [
       "((11386, 1964), (11676, 1964), (11386,))"
      ]
     },
     "execution_count": 16,
     "metadata": {},
     "output_type": "execute_result"
    }
   ],
   "source": [
    "X_train.shape, X_test.shape, y_train.shape"
   ]
  },
  {
   "cell_type": "code",
   "execution_count": null,
   "metadata": {},
   "outputs": [],
   "source": []
  },
  {
   "cell_type": "code",
   "execution_count": 17,
   "metadata": {},
   "outputs": [
    {
     "name": "stdout",
     "output_type": "stream",
     "text": [
      "USER_ID (1086,)\n",
      "mes (12,)\n",
      "trimestre (4,)\n"
     ]
    },
    {
     "data": {
      "text/html": [
       "<div>\n",
       "<style scoped>\n",
       "    .dataframe tbody tr th:only-of-type {\n",
       "        vertical-align: middle;\n",
       "    }\n",
       "\n",
       "    .dataframe tbody tr th {\n",
       "        vertical-align: top;\n",
       "    }\n",
       "\n",
       "    .dataframe thead th {\n",
       "        text-align: right;\n",
       "    }\n",
       "</style>\n",
       "<table border=\"1\" class=\"dataframe\">\n",
       "  <thead>\n",
       "    <tr style=\"text-align: right;\">\n",
       "      <th></th>\n",
       "      <th>USER_ID</th>\n",
       "      <th>trimestre</th>\n",
       "    </tr>\n",
       "  </thead>\n",
       "  <tbody>\n",
       "    <tr>\n",
       "      <th>0</th>\n",
       "      <td>13</td>\n",
       "      <td>3</td>\n",
       "    </tr>\n",
       "    <tr>\n",
       "      <th>1</th>\n",
       "      <td>22</td>\n",
       "      <td>4</td>\n",
       "    </tr>\n",
       "    <tr>\n",
       "      <th>2</th>\n",
       "      <td>40</td>\n",
       "      <td>1</td>\n",
       "    </tr>\n",
       "    <tr>\n",
       "      <th>3</th>\n",
       "      <td>57</td>\n",
       "      <td>2</td>\n",
       "    </tr>\n",
       "    <tr>\n",
       "      <th>4</th>\n",
       "      <td>92</td>\n",
       "      <td>1</td>\n",
       "    </tr>\n",
       "  </tbody>\n",
       "</table>\n",
       "</div>"
      ],
      "text/plain": [
       "   USER_ID  trimestre\n",
       "0       13          3\n",
       "1       22          4\n",
       "2       40          1\n",
       "3       57          2\n",
       "4       92          1"
      ]
     },
     "execution_count": 17,
     "metadata": {},
     "output_type": "execute_result"
    }
   ],
   "source": [
    "convertion = pd.read_csv(\"{}/conversiones.csv\".format(subfolder)).drop_duplicates()[['USER_ID','mes']].sort_values(['USER_ID','mes']).reset_index(drop=True)\n",
    "for col in convertion.columns:\n",
    "    convertion[col] = convertion[col].astype(int)\n",
    "\n",
    "convertion.dtypes\n",
    "def get_trimestre(val):\n",
    "    if val <= 3:\n",
    "        return 1\n",
    "    elif val <= 6:\n",
    "        return 2\n",
    "    elif val <= 9:\n",
    "        return 3\n",
    "    elif val <= 12:\n",
    "        return 4\n",
    "    return 0\n",
    "\n",
    "convertion['trimestre'] = convertion['mes'].apply(get_trimestre)\n",
    "for col in convertion.columns:\n",
    "    print(col, convertion[col].unique().shape)\n",
    "\n",
    "del convertion['mes']\n",
    "convertion.head()\n"
   ]
  },
  {
   "cell_type": "code",
   "execution_count": 18,
   "metadata": {},
   "outputs": [
    {
     "name": "stdout",
     "output_type": "stream",
     "text": [
      "11676\n",
      "X_test_intern post::  (11676, 1)\n",
      "X_test_intern post::  (11676, 1)\n",
      "X_test_intern post::  (11676, 1)\n",
      "X_test_intern post::  (11676, 1)\n"
     ]
    },
    {
     "data": {
      "text/html": [
       "<div>\n",
       "<style scoped>\n",
       "    .dataframe tbody tr th:only-of-type {\n",
       "        vertical-align: middle;\n",
       "    }\n",
       "\n",
       "    .dataframe tbody tr th {\n",
       "        vertical-align: top;\n",
       "    }\n",
       "\n",
       "    .dataframe thead th {\n",
       "        text-align: right;\n",
       "    }\n",
       "</style>\n",
       "<table border=\"1\" class=\"dataframe\">\n",
       "  <thead>\n",
       "    <tr style=\"text-align: right;\">\n",
       "      <th></th>\n",
       "      <th>TARGET_1</th>\n",
       "      <th>TARGET_2</th>\n",
       "      <th>TARGET_3</th>\n",
       "      <th>TARGET_4</th>\n",
       "    </tr>\n",
       "  </thead>\n",
       "  <tbody>\n",
       "    <tr>\n",
       "      <th>0</th>\n",
       "      <td>0</td>\n",
       "      <td>0</td>\n",
       "      <td>0</td>\n",
       "      <td>0</td>\n",
       "    </tr>\n",
       "    <tr>\n",
       "      <th>1</th>\n",
       "      <td>0</td>\n",
       "      <td>0</td>\n",
       "      <td>0</td>\n",
       "      <td>0</td>\n",
       "    </tr>\n",
       "    <tr>\n",
       "      <th>2</th>\n",
       "      <td>0</td>\n",
       "      <td>0</td>\n",
       "      <td>0</td>\n",
       "      <td>0</td>\n",
       "    </tr>\n",
       "    <tr>\n",
       "      <th>3</th>\n",
       "      <td>0</td>\n",
       "      <td>0</td>\n",
       "      <td>0</td>\n",
       "      <td>0</td>\n",
       "    </tr>\n",
       "    <tr>\n",
       "      <th>4</th>\n",
       "      <td>0</td>\n",
       "      <td>0</td>\n",
       "      <td>0</td>\n",
       "      <td>0</td>\n",
       "    </tr>\n",
       "    <tr>\n",
       "      <th>5</th>\n",
       "      <td>0</td>\n",
       "      <td>0</td>\n",
       "      <td>0</td>\n",
       "      <td>0</td>\n",
       "    </tr>\n",
       "    <tr>\n",
       "      <th>6</th>\n",
       "      <td>0</td>\n",
       "      <td>0</td>\n",
       "      <td>0</td>\n",
       "      <td>0</td>\n",
       "    </tr>\n",
       "    <tr>\n",
       "      <th>7</th>\n",
       "      <td>0</td>\n",
       "      <td>0</td>\n",
       "      <td>0</td>\n",
       "      <td>0</td>\n",
       "    </tr>\n",
       "    <tr>\n",
       "      <th>8</th>\n",
       "      <td>0</td>\n",
       "      <td>0</td>\n",
       "      <td>0</td>\n",
       "      <td>0</td>\n",
       "    </tr>\n",
       "    <tr>\n",
       "      <th>9</th>\n",
       "      <td>0</td>\n",
       "      <td>0</td>\n",
       "      <td>0</td>\n",
       "      <td>0</td>\n",
       "    </tr>\n",
       "    <tr>\n",
       "      <th>10</th>\n",
       "      <td>0</td>\n",
       "      <td>0</td>\n",
       "      <td>0</td>\n",
       "      <td>0</td>\n",
       "    </tr>\n",
       "    <tr>\n",
       "      <th>11</th>\n",
       "      <td>0</td>\n",
       "      <td>0</td>\n",
       "      <td>0</td>\n",
       "      <td>0</td>\n",
       "    </tr>\n",
       "    <tr>\n",
       "      <th>12</th>\n",
       "      <td>0</td>\n",
       "      <td>0</td>\n",
       "      <td>0</td>\n",
       "      <td>0</td>\n",
       "    </tr>\n",
       "    <tr>\n",
       "      <th>13</th>\n",
       "      <td>0</td>\n",
       "      <td>0</td>\n",
       "      <td>1</td>\n",
       "      <td>0</td>\n",
       "    </tr>\n",
       "    <tr>\n",
       "      <th>14</th>\n",
       "      <td>0</td>\n",
       "      <td>0</td>\n",
       "      <td>0</td>\n",
       "      <td>0</td>\n",
       "    </tr>\n",
       "  </tbody>\n",
       "</table>\n",
       "</div>"
      ],
      "text/plain": [
       "    TARGET_1  TARGET_2  TARGET_3  TARGET_4\n",
       "0          0         0         0         0\n",
       "1          0         0         0         0\n",
       "2          0         0         0         0\n",
       "3          0         0         0         0\n",
       "4          0         0         0         0\n",
       "5          0         0         0         0\n",
       "6          0         0         0         0\n",
       "7          0         0         0         0\n",
       "8          0         0         0         0\n",
       "9          0         0         0         0\n",
       "10         0         0         0         0\n",
       "11         0         0         0         0\n",
       "12         0         0         0         0\n",
       "13         0         0         1         0\n",
       "14         0         0         0         0"
      ]
     },
     "metadata": {},
     "output_type": "display_data"
    }
   ],
   "source": [
    "\n",
    "col_user = 'USER_ID'\n",
    "pageview = pd.read_csv(\"{}/pageviews.csv\".format(subfolder), parse_dates=[\"FEC_EVENT\"]).sort_values([col_user, \"FEC_EVENT\"])\n",
    "all_user = set(list(pageview[col_user].unique()))\n",
    "print(len(all_user))\n",
    "del pageview\n",
    "\n",
    "data_conv = []\n",
    "\n",
    "for val in sorted(list(convertion['trimestre'].unique())):\n",
    "    col_target = 'TARGET_{}'.format(val)\n",
    "    conv_trim = convertion[convertion['trimestre'] == val].drop_duplicates().reset_index(drop=True)\n",
    "    unique_users_conv = set(list(conv_trim[col_user].unique()))\n",
    "    conv_trim.index = conv_trim[col_user]\n",
    "    \n",
    "    conv_trim[col_target] = 1\n",
    "    \n",
    "    del conv_trim.index.name\n",
    "    del conv_trim[col_user]\n",
    "    del conv_trim['trimestre']\n",
    "\n",
    "    temp0 = pd.DataFrame(0, index=list(all_user - unique_users_conv), columns=[col_target])\n",
    "    X_test_intern = pd.concat([conv_trim, temp0]).sort_index()\n",
    "\n",
    "    print(\"X_test_intern post:: \", X_test_intern.shape)\n",
    "    \n",
    "    data_conv.append(X_test_intern.copy())\n",
    "    del X_test_intern\n",
    "    del conv_trim\n",
    "\n",
    "\n",
    "data_conv = pd.concat(data_conv, axis=1)\n",
    "del convertion\n",
    "\n",
    "display(data_conv.head(15))\n"
   ]
  },
  {
   "cell_type": "code",
   "execution_count": 19,
   "metadata": {},
   "outputs": [],
   "source": [
    "\n",
    "current_col = 'current_convertion'\n",
    "previous_col = 'previous_convertion'\n",
    "before_previous_col = 'before_previous_convertion'\n",
    "\n",
    "X_train[current_col] = data_conv['TARGET_3']\n",
    "X_train[previous_col] = data_conv['TARGET_2']\n",
    "X_train[before_previous_col] = data_conv['TARGET_1']\n",
    "\n",
    "X_test[current_col] = data_conv['TARGET_4']\n",
    "X_test[previous_col] = data_conv['TARGET_3']\n",
    "X_test[before_previous_col] = data_conv['TARGET_2']\n",
    "\n",
    "del data_conv\n"
   ]
  },
  {
   "cell_type": "code",
   "execution_count": 20,
   "metadata": {},
   "outputs": [
    {
     "data": {
      "text/plain": [
       "((11386, 1967), (11676, 1967), (11386,))"
      ]
     },
     "execution_count": 20,
     "metadata": {},
     "output_type": "execute_result"
    }
   ],
   "source": [
    "X_train.shape, X_test.shape, y_train.shape"
   ]
  },
  {
   "cell_type": "code",
   "execution_count": 21,
   "metadata": {},
   "outputs": [
    {
     "data": {
      "text/plain": [
       "[281, 562, 843, 1124, 1405, 1686]"
      ]
     },
     "execution_count": 21,
     "metadata": {},
     "output_type": "execute_result"
    }
   ],
   "source": [
    "from sklearn.feature_selection import SelectKBest, chi2, f_classif\n",
    "num_cols = [_*int(X_train.shape[1] / 7) for _ in range(1,7)]\n",
    "num_cols"
   ]
  },
  {
   "cell_type": "code",
   "execution_count": 22,
   "metadata": {},
   "outputs": [
    {
     "name": "stdout",
     "output_type": "stream",
     "text": [
      "(11386, 281) (11676, 281) (11386,)\n",
      "(11386, 562) (11676, 562) (11386,)\n",
      "(11386, 843) (11676, 843) (11386,)\n",
      "(11386, 1124) (11676, 1124) (11386,)\n",
      "(11386, 1405) (11676, 1405) (11386,)\n",
      "(11386, 1686) (11676, 1686) (11386,)\n"
     ]
    }
   ],
   "source": [
    "index_test = X_test.index\n",
    "prediction_group = []\n",
    "\n",
    "for num_col in num_cols:\n",
    "    sb = SelectKBest(f_classif, num_col)\n",
    "    \n",
    "    X_train_part = sb.fit_transform(X_train, y_train)\n",
    "    X_test_part = sb.transform(X_test)\n",
    "    print(X_train_part.shape, X_test_part.shape, y_train.shape)\n",
    "    \n",
    "    prediction_group.append(\n",
    "        (X_train_part, X_test_part)\n",
    "    )"
   ]
  },
  {
   "cell_type": "code",
   "execution_count": null,
   "metadata": {},
   "outputs": [],
   "source": []
  },
  {
   "cell_type": "code",
   "execution_count": 23,
   "metadata": {},
   "outputs": [
    {
     "data": {
      "text/plain": [
       "(10998, 388)"
      ]
     },
     "execution_count": 23,
     "metadata": {},
     "output_type": "execute_result"
    }
   ],
   "source": [
    "y_train[y_train == 0].shape[0], y_train[y_train == 1].shape[0]"
   ]
  },
  {
   "cell_type": "code",
   "execution_count": 24,
   "metadata": {},
   "outputs": [
    {
     "data": {
      "text/plain": [
       "0.035279141662120386"
      ]
     },
     "execution_count": 24,
     "metadata": {},
     "output_type": "execute_result"
    }
   ],
   "source": [
    "ratio_pos = np.sum(y_train == 1) / np.sum(y_train == 0)\n",
    "ratio_pos"
   ]
  },
  {
   "cell_type": "code",
   "execution_count": 47,
   "metadata": {},
   "outputs": [
    {
     "name": "stdout",
     "output_type": "stream",
     "text": [
      "================================================== (11386, 281) (11676, 281)\n",
      "Fitting 10 folds for each of 4 candidates, totalling 40 fits\n"
     ]
    },
    {
     "name": "stderr",
     "output_type": "stream",
     "text": [
      "[Parallel(n_jobs=4)]: Using backend LokyBackend with 4 concurrent workers.\n",
      "[Parallel(n_jobs=4)]: Done  40 out of  40 | elapsed: 11.5min finished\n"
     ]
    },
    {
     "name": "stdout",
     "output_type": "stream",
     "text": [
      "0.8325793608981065 {'bagging_fraction': 0.95, 'boosting': 'dart', 'feature_fraction': 0.1, 'is_unbalance': True, 'learning_rate': 0.025, 'max_depth': 55, 'metric': 'auc', 'min_gain_to_split': 1, 'n_estimators': 500, 'num_threads': 4, 'skip_drop': 0.15, 'tree_learner': 'serial', 'xgboost_dart_mode': False}\n",
      "####################################################################################################\n",
      "================================================== (11386, 562) (11676, 562)\n",
      "Fitting 10 folds for each of 4 candidates, totalling 40 fits\n"
     ]
    },
    {
     "name": "stderr",
     "output_type": "stream",
     "text": [
      "[Parallel(n_jobs=4)]: Using backend LokyBackend with 4 concurrent workers.\n"
     ]
    },
    {
     "ename": "KeyboardInterrupt",
     "evalue": "",
     "output_type": "error",
     "traceback": [
      "\u001b[0;31m---------------------------------------------------------------------------\u001b[0m",
      "\u001b[0;31mKeyboardInterrupt\u001b[0m                         Traceback (most recent call last)",
      "\u001b[0;32m<ipython-input-47-2426dc25e090>\u001b[0m in \u001b[0;36m<module>\u001b[0;34m\u001b[0m\n\u001b[1;32m     40\u001b[0m         \u001b[0mn_jobs\u001b[0m\u001b[0;34m=\u001b[0m\u001b[0;36m4\u001b[0m\u001b[0;34m,\u001b[0m \u001b[0mscoring\u001b[0m\u001b[0;34m=\u001b[0m\u001b[0;34m'roc_auc'\u001b[0m\u001b[0;34m,\u001b[0m \u001b[0mverbose\u001b[0m\u001b[0;34m=\u001b[0m\u001b[0;36m1\u001b[0m\u001b[0;34m\u001b[0m\u001b[0;34m\u001b[0m\u001b[0m\n\u001b[1;32m     41\u001b[0m     )\n\u001b[0;32m---> 42\u001b[0;31m     \u001b[0mgrid\u001b[0m\u001b[0;34m.\u001b[0m\u001b[0mfit\u001b[0m\u001b[0;34m(\u001b[0m\u001b[0mX_train_part\u001b[0m\u001b[0;34m,\u001b[0m \u001b[0my_train\u001b[0m\u001b[0;34m)\u001b[0m\u001b[0;34m\u001b[0m\u001b[0;34m\u001b[0m\u001b[0m\n\u001b[0m\u001b[1;32m     43\u001b[0m \u001b[0;34m\u001b[0m\u001b[0m\n\u001b[1;32m     44\u001b[0m     \u001b[0mbest_params_\u001b[0m \u001b[0;34m=\u001b[0m \u001b[0mgrid\u001b[0m\u001b[0;34m.\u001b[0m\u001b[0mbest_params_\u001b[0m\u001b[0;34m\u001b[0m\u001b[0;34m\u001b[0m\u001b[0m\n",
      "\u001b[0;32m~/anaconda3/lib/python3.6/site-packages/sklearn/model_selection/_search.py\u001b[0m in \u001b[0;36mfit\u001b[0;34m(self, X, y, groups, **fit_params)\u001b[0m\n\u001b[1;32m    720\u001b[0m                 \u001b[0;32mreturn\u001b[0m \u001b[0mresults_container\u001b[0m\u001b[0;34m[\u001b[0m\u001b[0;36m0\u001b[0m\u001b[0;34m]\u001b[0m\u001b[0;34m\u001b[0m\u001b[0;34m\u001b[0m\u001b[0m\n\u001b[1;32m    721\u001b[0m \u001b[0;34m\u001b[0m\u001b[0m\n\u001b[0;32m--> 722\u001b[0;31m             \u001b[0mself\u001b[0m\u001b[0;34m.\u001b[0m\u001b[0m_run_search\u001b[0m\u001b[0;34m(\u001b[0m\u001b[0mevaluate_candidates\u001b[0m\u001b[0;34m)\u001b[0m\u001b[0;34m\u001b[0m\u001b[0;34m\u001b[0m\u001b[0m\n\u001b[0m\u001b[1;32m    723\u001b[0m \u001b[0;34m\u001b[0m\u001b[0m\n\u001b[1;32m    724\u001b[0m         \u001b[0mresults\u001b[0m \u001b[0;34m=\u001b[0m \u001b[0mresults_container\u001b[0m\u001b[0;34m[\u001b[0m\u001b[0;36m0\u001b[0m\u001b[0;34m]\u001b[0m\u001b[0;34m\u001b[0m\u001b[0;34m\u001b[0m\u001b[0m\n",
      "\u001b[0;32m~/anaconda3/lib/python3.6/site-packages/sklearn/model_selection/_search.py\u001b[0m in \u001b[0;36m_run_search\u001b[0;34m(self, evaluate_candidates)\u001b[0m\n\u001b[1;32m   1189\u001b[0m     \u001b[0;32mdef\u001b[0m \u001b[0m_run_search\u001b[0m\u001b[0;34m(\u001b[0m\u001b[0mself\u001b[0m\u001b[0;34m,\u001b[0m \u001b[0mevaluate_candidates\u001b[0m\u001b[0;34m)\u001b[0m\u001b[0;34m:\u001b[0m\u001b[0;34m\u001b[0m\u001b[0;34m\u001b[0m\u001b[0m\n\u001b[1;32m   1190\u001b[0m         \u001b[0;34m\"\"\"Search all candidates in param_grid\"\"\"\u001b[0m\u001b[0;34m\u001b[0m\u001b[0;34m\u001b[0m\u001b[0m\n\u001b[0;32m-> 1191\u001b[0;31m         \u001b[0mevaluate_candidates\u001b[0m\u001b[0;34m(\u001b[0m\u001b[0mParameterGrid\u001b[0m\u001b[0;34m(\u001b[0m\u001b[0mself\u001b[0m\u001b[0;34m.\u001b[0m\u001b[0mparam_grid\u001b[0m\u001b[0;34m)\u001b[0m\u001b[0;34m)\u001b[0m\u001b[0;34m\u001b[0m\u001b[0;34m\u001b[0m\u001b[0m\n\u001b[0m\u001b[1;32m   1192\u001b[0m \u001b[0;34m\u001b[0m\u001b[0m\n\u001b[1;32m   1193\u001b[0m \u001b[0;34m\u001b[0m\u001b[0m\n",
      "\u001b[0;32m~/anaconda3/lib/python3.6/site-packages/sklearn/model_selection/_search.py\u001b[0m in \u001b[0;36mevaluate_candidates\u001b[0;34m(candidate_params)\u001b[0m\n\u001b[1;32m    709\u001b[0m                                \u001b[0;32mfor\u001b[0m \u001b[0mparameters\u001b[0m\u001b[0;34m,\u001b[0m \u001b[0;34m(\u001b[0m\u001b[0mtrain\u001b[0m\u001b[0;34m,\u001b[0m \u001b[0mtest\u001b[0m\u001b[0;34m)\u001b[0m\u001b[0;34m\u001b[0m\u001b[0;34m\u001b[0m\u001b[0m\n\u001b[1;32m    710\u001b[0m                                in product(candidate_params,\n\u001b[0;32m--> 711\u001b[0;31m                                           cv.split(X, y, groups)))\n\u001b[0m\u001b[1;32m    712\u001b[0m \u001b[0;34m\u001b[0m\u001b[0m\n\u001b[1;32m    713\u001b[0m                 \u001b[0mall_candidate_params\u001b[0m\u001b[0;34m.\u001b[0m\u001b[0mextend\u001b[0m\u001b[0;34m(\u001b[0m\u001b[0mcandidate_params\u001b[0m\u001b[0;34m)\u001b[0m\u001b[0;34m\u001b[0m\u001b[0;34m\u001b[0m\u001b[0m\n",
      "\u001b[0;32m~/anaconda3/lib/python3.6/site-packages/sklearn/externals/joblib/parallel.py\u001b[0m in \u001b[0;36m__call__\u001b[0;34m(self, iterable)\u001b[0m\n\u001b[1;32m    928\u001b[0m \u001b[0;34m\u001b[0m\u001b[0m\n\u001b[1;32m    929\u001b[0m             \u001b[0;32mwith\u001b[0m \u001b[0mself\u001b[0m\u001b[0;34m.\u001b[0m\u001b[0m_backend\u001b[0m\u001b[0;34m.\u001b[0m\u001b[0mretrieval_context\u001b[0m\u001b[0;34m(\u001b[0m\u001b[0;34m)\u001b[0m\u001b[0;34m:\u001b[0m\u001b[0;34m\u001b[0m\u001b[0;34m\u001b[0m\u001b[0m\n\u001b[0;32m--> 930\u001b[0;31m                 \u001b[0mself\u001b[0m\u001b[0;34m.\u001b[0m\u001b[0mretrieve\u001b[0m\u001b[0;34m(\u001b[0m\u001b[0;34m)\u001b[0m\u001b[0;34m\u001b[0m\u001b[0;34m\u001b[0m\u001b[0m\n\u001b[0m\u001b[1;32m    931\u001b[0m             \u001b[0;31m# Make sure that we get a last message telling us we are done\u001b[0m\u001b[0;34m\u001b[0m\u001b[0;34m\u001b[0m\u001b[0;34m\u001b[0m\u001b[0m\n\u001b[1;32m    932\u001b[0m             \u001b[0melapsed_time\u001b[0m \u001b[0;34m=\u001b[0m \u001b[0mtime\u001b[0m\u001b[0;34m.\u001b[0m\u001b[0mtime\u001b[0m\u001b[0;34m(\u001b[0m\u001b[0;34m)\u001b[0m \u001b[0;34m-\u001b[0m \u001b[0mself\u001b[0m\u001b[0;34m.\u001b[0m\u001b[0m_start_time\u001b[0m\u001b[0;34m\u001b[0m\u001b[0;34m\u001b[0m\u001b[0m\n",
      "\u001b[0;32m~/anaconda3/lib/python3.6/site-packages/sklearn/externals/joblib/parallel.py\u001b[0m in \u001b[0;36mretrieve\u001b[0;34m(self)\u001b[0m\n\u001b[1;32m    831\u001b[0m             \u001b[0;32mtry\u001b[0m\u001b[0;34m:\u001b[0m\u001b[0;34m\u001b[0m\u001b[0;34m\u001b[0m\u001b[0m\n\u001b[1;32m    832\u001b[0m                 \u001b[0;32mif\u001b[0m \u001b[0mgetattr\u001b[0m\u001b[0;34m(\u001b[0m\u001b[0mself\u001b[0m\u001b[0;34m.\u001b[0m\u001b[0m_backend\u001b[0m\u001b[0;34m,\u001b[0m \u001b[0;34m'supports_timeout'\u001b[0m\u001b[0;34m,\u001b[0m \u001b[0;32mFalse\u001b[0m\u001b[0;34m)\u001b[0m\u001b[0;34m:\u001b[0m\u001b[0;34m\u001b[0m\u001b[0;34m\u001b[0m\u001b[0m\n\u001b[0;32m--> 833\u001b[0;31m                     \u001b[0mself\u001b[0m\u001b[0;34m.\u001b[0m\u001b[0m_output\u001b[0m\u001b[0;34m.\u001b[0m\u001b[0mextend\u001b[0m\u001b[0;34m(\u001b[0m\u001b[0mjob\u001b[0m\u001b[0;34m.\u001b[0m\u001b[0mget\u001b[0m\u001b[0;34m(\u001b[0m\u001b[0mtimeout\u001b[0m\u001b[0;34m=\u001b[0m\u001b[0mself\u001b[0m\u001b[0;34m.\u001b[0m\u001b[0mtimeout\u001b[0m\u001b[0;34m)\u001b[0m\u001b[0;34m)\u001b[0m\u001b[0;34m\u001b[0m\u001b[0;34m\u001b[0m\u001b[0m\n\u001b[0m\u001b[1;32m    834\u001b[0m                 \u001b[0;32melse\u001b[0m\u001b[0;34m:\u001b[0m\u001b[0;34m\u001b[0m\u001b[0;34m\u001b[0m\u001b[0m\n\u001b[1;32m    835\u001b[0m                     \u001b[0mself\u001b[0m\u001b[0;34m.\u001b[0m\u001b[0m_output\u001b[0m\u001b[0;34m.\u001b[0m\u001b[0mextend\u001b[0m\u001b[0;34m(\u001b[0m\u001b[0mjob\u001b[0m\u001b[0;34m.\u001b[0m\u001b[0mget\u001b[0m\u001b[0;34m(\u001b[0m\u001b[0;34m)\u001b[0m\u001b[0;34m)\u001b[0m\u001b[0;34m\u001b[0m\u001b[0;34m\u001b[0m\u001b[0m\n",
      "\u001b[0;32m~/anaconda3/lib/python3.6/site-packages/sklearn/externals/joblib/_parallel_backends.py\u001b[0m in \u001b[0;36mwrap_future_result\u001b[0;34m(future, timeout)\u001b[0m\n\u001b[1;32m    519\u001b[0m         AsyncResults.get from multiprocessing.\"\"\"\n\u001b[1;32m    520\u001b[0m         \u001b[0;32mtry\u001b[0m\u001b[0;34m:\u001b[0m\u001b[0;34m\u001b[0m\u001b[0;34m\u001b[0m\u001b[0m\n\u001b[0;32m--> 521\u001b[0;31m             \u001b[0;32mreturn\u001b[0m \u001b[0mfuture\u001b[0m\u001b[0;34m.\u001b[0m\u001b[0mresult\u001b[0m\u001b[0;34m(\u001b[0m\u001b[0mtimeout\u001b[0m\u001b[0;34m=\u001b[0m\u001b[0mtimeout\u001b[0m\u001b[0;34m)\u001b[0m\u001b[0;34m\u001b[0m\u001b[0;34m\u001b[0m\u001b[0m\n\u001b[0m\u001b[1;32m    522\u001b[0m         \u001b[0;32mexcept\u001b[0m \u001b[0mLokyTimeoutError\u001b[0m\u001b[0;34m:\u001b[0m\u001b[0;34m\u001b[0m\u001b[0;34m\u001b[0m\u001b[0m\n\u001b[1;32m    523\u001b[0m             \u001b[0;32mraise\u001b[0m \u001b[0mTimeoutError\u001b[0m\u001b[0;34m(\u001b[0m\u001b[0;34m)\u001b[0m\u001b[0;34m\u001b[0m\u001b[0;34m\u001b[0m\u001b[0m\n",
      "\u001b[0;32m~/anaconda3/lib/python3.6/concurrent/futures/_base.py\u001b[0m in \u001b[0;36mresult\u001b[0;34m(self, timeout)\u001b[0m\n\u001b[1;32m    425\u001b[0m                 \u001b[0;32mreturn\u001b[0m \u001b[0mself\u001b[0m\u001b[0;34m.\u001b[0m\u001b[0m__get_result\u001b[0m\u001b[0;34m(\u001b[0m\u001b[0;34m)\u001b[0m\u001b[0;34m\u001b[0m\u001b[0;34m\u001b[0m\u001b[0m\n\u001b[1;32m    426\u001b[0m \u001b[0;34m\u001b[0m\u001b[0m\n\u001b[0;32m--> 427\u001b[0;31m             \u001b[0mself\u001b[0m\u001b[0;34m.\u001b[0m\u001b[0m_condition\u001b[0m\u001b[0;34m.\u001b[0m\u001b[0mwait\u001b[0m\u001b[0;34m(\u001b[0m\u001b[0mtimeout\u001b[0m\u001b[0;34m)\u001b[0m\u001b[0;34m\u001b[0m\u001b[0;34m\u001b[0m\u001b[0m\n\u001b[0m\u001b[1;32m    428\u001b[0m \u001b[0;34m\u001b[0m\u001b[0m\n\u001b[1;32m    429\u001b[0m             \u001b[0;32mif\u001b[0m \u001b[0mself\u001b[0m\u001b[0;34m.\u001b[0m\u001b[0m_state\u001b[0m \u001b[0;32min\u001b[0m \u001b[0;34m[\u001b[0m\u001b[0mCANCELLED\u001b[0m\u001b[0;34m,\u001b[0m \u001b[0mCANCELLED_AND_NOTIFIED\u001b[0m\u001b[0;34m]\u001b[0m\u001b[0;34m:\u001b[0m\u001b[0;34m\u001b[0m\u001b[0;34m\u001b[0m\u001b[0m\n",
      "\u001b[0;32m~/anaconda3/lib/python3.6/threading.py\u001b[0m in \u001b[0;36mwait\u001b[0;34m(self, timeout)\u001b[0m\n\u001b[1;32m    293\u001b[0m         \u001b[0;32mtry\u001b[0m\u001b[0;34m:\u001b[0m    \u001b[0;31m# restore state no matter what (e.g., KeyboardInterrupt)\u001b[0m\u001b[0;34m\u001b[0m\u001b[0;34m\u001b[0m\u001b[0m\n\u001b[1;32m    294\u001b[0m             \u001b[0;32mif\u001b[0m \u001b[0mtimeout\u001b[0m \u001b[0;32mis\u001b[0m \u001b[0;32mNone\u001b[0m\u001b[0;34m:\u001b[0m\u001b[0;34m\u001b[0m\u001b[0;34m\u001b[0m\u001b[0m\n\u001b[0;32m--> 295\u001b[0;31m                 \u001b[0mwaiter\u001b[0m\u001b[0;34m.\u001b[0m\u001b[0macquire\u001b[0m\u001b[0;34m(\u001b[0m\u001b[0;34m)\u001b[0m\u001b[0;34m\u001b[0m\u001b[0;34m\u001b[0m\u001b[0m\n\u001b[0m\u001b[1;32m    296\u001b[0m                 \u001b[0mgotit\u001b[0m \u001b[0;34m=\u001b[0m \u001b[0;32mTrue\u001b[0m\u001b[0;34m\u001b[0m\u001b[0;34m\u001b[0m\u001b[0m\n\u001b[1;32m    297\u001b[0m             \u001b[0;32melse\u001b[0m\u001b[0;34m:\u001b[0m\u001b[0;34m\u001b[0m\u001b[0;34m\u001b[0m\u001b[0m\n",
      "\u001b[0;31mKeyboardInterrupt\u001b[0m: "
     ]
    }
   ],
   "source": [
    "from lightgbm import LGBMClassifier\n",
    "from sklearn import model_selection\n",
    "from sklearn.metrics import roc_auc_score\n",
    "from sklearn.model_selection import StratifiedShuffleSplit, StratifiedKFold, TimeSeriesSplit\n",
    "from sklearn.model_selection import GridSearchCV\n",
    "\n",
    "#   QUIT  'scale_pos_weight': [ratio_pos], AND SET is_unbalance = True\n",
    "\n",
    "param_grid_lgbm = {\n",
    "    'n_estimators': [500],\n",
    "    'feature_fraction': [0.1],\n",
    "    'bagging_fraction': [0.95, 0.85],\n",
    "    'max_depth':[55],\n",
    "    'learning_rate': [0.025],\n",
    "    'boosting': ['dart'],\n",
    "    'min_gain_to_split': [1],\n",
    "    'is_unbalance': [True],\n",
    "    'metric': ['auc'],\n",
    "    'tree_learner': ['serial'],\n",
    "    'xgboost_dart_mode': [False],\n",
    "    'skip_drop': [0.15, 0.25],\n",
    "    'num_threads': [4]\n",
    "}\n",
    "    \n",
    "kfold_off = StratifiedKFold(\n",
    "    n_splits=10, \n",
    "    shuffle=False, \n",
    "    random_state=SEED\n",
    ")\n",
    "model_lgbm = LGBMClassifier(\n",
    "    seed=SEED, \n",
    "    feature_fraction_seed=SEED, \n",
    "    drop_seed=SEED\n",
    ")\n",
    "\n",
    "for X_train_part, X_test_part in prediction_group:\n",
    "    print(\"=\"*50, X_train_part.shape, X_test_part.shape)\n",
    "    grid = GridSearchCV(\n",
    "        model_lgbm, param_grid_lgbm, cv=kfold_off, \n",
    "        n_jobs=4, scoring='roc_auc', verbose=1\n",
    "    )\n",
    "    grid.fit(X_train_part, y_train)\n",
    "\n",
    "    best_params_ = grid.best_params_\n",
    "    model_ = grid.best_estimator_\n",
    "    score_ = grid.best_score_\n",
    "    print(score_, best_params_)\n",
    "    print(\"#\"*100)"
   ]
  },
  {
   "cell_type": "code",
   "execution_count": null,
   "metadata": {},
   "outputs": [],
   "source": []
  },
  {
   "cell_type": "code",
   "execution_count": null,
   "metadata": {},
   "outputs": [],
   "source": []
  },
  {
   "cell_type": "code",
   "execution_count": null,
   "metadata": {},
   "outputs": [],
   "source": []
  },
  {
   "cell_type": "code",
   "execution_count": null,
   "metadata": {},
   "outputs": [],
   "source": []
  },
  {
   "cell_type": "code",
   "execution_count": null,
   "metadata": {},
   "outputs": [],
   "source": []
  },
  {
   "cell_type": "code",
   "execution_count": 77,
   "metadata": {},
   "outputs": [
    {
     "name": "stdout",
     "output_type": "stream",
     "text": [
      "Fitting 10 folds for each of 1 candidates, totalling 10 fits\n"
     ]
    },
    {
     "name": "stderr",
     "output_type": "stream",
     "text": [
      "[Parallel(n_jobs=-1)]: Using backend LokyBackend with 4 concurrent workers.\n",
      "[Parallel(n_jobs=-1)]: Done  10 out of  10 | elapsed:  1.8min finished\n"
     ]
    },
    {
     "name": "stdout",
     "output_type": "stream",
     "text": [
      "0.8174835229258388 {'bagging_fraction': 0.95, 'boosting': 'dart', 'feature_fraction': 0.1, 'is_unbalance': True, 'learning_rate': 0.05, 'max_depth': 55, 'metric': 'auc', 'min_gain_to_split': 1, 'n_estimators': 500, 'skip_drop': 0.45, 'tree_learner': 'serial', 'xgboost_dart_mode': False}\n",
      "[0.04836903 0.05744049 0.04874279 ... 0.10705118 0.06378427 0.06132863] (11676,)\n"
     ]
    },
    {
     "data": {
      "text/html": [
       "<div>\n",
       "<style scoped>\n",
       "    .dataframe tbody tr th:only-of-type {\n",
       "        vertical-align: middle;\n",
       "    }\n",
       "\n",
       "    .dataframe tbody tr th {\n",
       "        vertical-align: top;\n",
       "    }\n",
       "\n",
       "    .dataframe thead th {\n",
       "        text-align: right;\n",
       "    }\n",
       "</style>\n",
       "<table border=\"1\" class=\"dataframe\">\n",
       "  <thead>\n",
       "    <tr style=\"text-align: right;\">\n",
       "      <th></th>\n",
       "      <th>USER_ID</th>\n",
       "      <th>SCORE</th>\n",
       "    </tr>\n",
       "  </thead>\n",
       "  <tbody>\n",
       "    <tr>\n",
       "      <th>0</th>\n",
       "      <td>0</td>\n",
       "      <td>0.048369</td>\n",
       "    </tr>\n",
       "    <tr>\n",
       "      <th>1</th>\n",
       "      <td>1</td>\n",
       "      <td>0.057440</td>\n",
       "    </tr>\n",
       "    <tr>\n",
       "      <th>2</th>\n",
       "      <td>2</td>\n",
       "      <td>0.048743</td>\n",
       "    </tr>\n",
       "    <tr>\n",
       "      <th>3</th>\n",
       "      <td>3</td>\n",
       "      <td>0.094482</td>\n",
       "    </tr>\n",
       "    <tr>\n",
       "      <th>4</th>\n",
       "      <td>4</td>\n",
       "      <td>0.202073</td>\n",
       "    </tr>\n",
       "  </tbody>\n",
       "</table>\n",
       "</div>"
      ],
      "text/plain": [
       "   USER_ID     SCORE\n",
       "0        0  0.048369\n",
       "1        1  0.057440\n",
       "2        2  0.048743\n",
       "3        3  0.094482\n",
       "4        4  0.202073"
      ]
     },
     "metadata": {},
     "output_type": "display_data"
    }
   ],
   "source": [
    "X_train_part, X_test_part = prediction_group[2]\n",
    "\n",
    "param_grid_final = {\n",
    "    'n_estimators': [500],\n",
    "    'feature_fraction': [0.1],\n",
    "    'bagging_fraction': [0.95],\n",
    "    'max_depth':[55],\n",
    "    'learning_rate': [0.05],\n",
    "    'boosting': ['dart'],\n",
    "    'min_gain_to_split': [1],\n",
    "    'is_unbalance': [True],\n",
    "    'metric': ['auc'],\n",
    "    'tree_learner': ['serial'],\n",
    "    'xgboost_dart_mode': [False],\n",
    "    'skip_drop': [0.45]\n",
    "}\n",
    "\n",
    "grid = GridSearchCV(\n",
    "    model_lgbm, param_grid_final, cv=kfold_off, \n",
    "    n_jobs=-1, scoring='roc_auc', verbose=1\n",
    ")\n",
    "grid.fit(X_train_part, y_train)\n",
    "\n",
    "best_params_ = grid.best_params_\n",
    "model_ = grid.best_estimator_\n",
    "score_ = grid.best_score_\n",
    "print(score_, best_params_)\n",
    "\n",
    "predict_test = grid.best_estimator_.predict_proba(X_test_part)[:,1]\n",
    "print(predict_test, predict_test.shape)\n",
    "predict_test = pd.DataFrame(\n",
    "    {'USER_ID':index_test, 'SCORE':predict_test} \n",
    ")\n",
    "display(predict_test.head())"
   ]
  },
  {
   "cell_type": "code",
   "execution_count": 78,
   "metadata": {},
   "outputs": [
    {
     "data": {
      "text/plain": [
       "(11676, 2)"
      ]
     },
     "execution_count": 78,
     "metadata": {},
     "output_type": "execute_result"
    }
   ],
   "source": [
    "predict_test.shape"
   ]
  },
  {
   "cell_type": "code",
   "execution_count": 79,
   "metadata": {},
   "outputs": [
    {
     "name": "stdout",
     "output_type": "stream",
     "text": [
      "(14, 2)\n",
      "(875, 2)\n",
      "(0, 2)\n"
     ]
    }
   ],
   "source": [
    "print(predict_test[predict_test['SCORE'] < 0.01].shape)\n",
    "print(predict_test[predict_test['SCORE'] > 0.5].shape)\n",
    "print(predict_test[predict_test['SCORE'] > 0.99].shape)"
   ]
  },
  {
   "cell_type": "code",
   "execution_count": 66,
   "metadata": {},
   "outputs": [
    {
     "data": {
      "text/plain": [
       "'\\n# 1 / 7\\n(0, 2)\\n(1444, 2)\\n(0, 2)\\n\\n# 2 / 7\\n(0, 2)\\n(1359, 2)\\n(0, 2)\\n\\n# 3 / 7\\n(0, 2)\\n(1277, 2)\\n(0, 2)\\n\\n# 4 / 7\\n(0, 2)\\n(1299, 2) -----------> 0.82098\\n(0, 2)\\n\\n# 5 / 7\\n(0, 2)\\n(1263, 2)\\n(0, 2)\\n\\nREPLACE is_umbalanced --> scale_pos_weight \\n\\n# 6 / 7 - 5 / 7\\n(0, 2)\\n(3578, 2)\\n(0, 2)\\n\\n# 4 / 7 \\n(0, 2)\\n(4501, 2)\\n(0, 2)\\n\\nRETURN umbalanced add more parameter dart\\n\\n# 1 / 7\\n(0, 2)\\n(1894, 2) ----------->  0.80580\\n(0, 2)\\n\\n# 2 / 7\\n(0, 2)\\n(1879, 2)\\n(0, 2)\\n\\n# 3 / 7\\n(0, 2)\\n(1823, 2)\\n(0, 2)\\n\\n'"
      ]
     },
     "execution_count": 66,
     "metadata": {},
     "output_type": "execute_result"
    }
   ],
   "source": [
    "\"\"\"\n",
    "# 1 / 7\n",
    "(0, 2)\n",
    "(1444, 2)\n",
    "(0, 2)\n",
    "\n",
    "# 2 / 7\n",
    "(0, 2)\n",
    "(1359, 2)\n",
    "(0, 2)\n",
    "\n",
    "# 3 / 7\n",
    "(0, 2)\n",
    "(1277, 2)\n",
    "(0, 2)\n",
    "\n",
    "# 4 / 7\n",
    "(0, 2)\n",
    "(1299, 2) -----------> 0.82098\n",
    "(0, 2)\n",
    "\n",
    "# 5 / 7\n",
    "(0, 2)\n",
    "(1263, 2)\n",
    "(0, 2)\n",
    "\n",
    "REPLACE is_umbalanced --> scale_pos_weight \n",
    "\n",
    "# 6 / 7 - 5 / 7\n",
    "(0, 2)\n",
    "(3578, 2)\n",
    "(0, 2)\n",
    "\n",
    "# 4 / 7 \n",
    "(0, 2)\n",
    "(4501, 2)\n",
    "(0, 2)\n",
    "\n",
    "RETURN umbalanced add more parameter dart\n",
    "\n",
    "# 1 / 7\n",
    "(0, 2)\n",
    "(1894, 2) ----------->  0.80580\n",
    "(0, 2)\n",
    "\n",
    "# 2 / 7\n",
    "(0, 2)\n",
    "(1879, 2)\n",
    "(0, 2)\n",
    "\n",
    "# 3 / 7\n",
    "(0, 2)\n",
    "(1823, 2)\n",
    "(0, 2)\n",
    "\n",
    "# 4 / 7\n",
    "(0, 2)\n",
    "(1775, 2)\n",
    "(0, 2)\n",
    "\n",
    "# REACTIVATE skip_drop\n",
    "\n",
    "# 4 / 7  0.5\n",
    "(0, 2)\n",
    "(1241, 2)  --------->  0.81764\n",
    "(0, 2)\n",
    "\n",
    "# 4 / 7  0.6\n",
    "(0, 2)\n",
    "(1077, 2)\n",
    "(0, 2)\n",
    "\n",
    "# \n",
    "\"\"\""
   ]
  },
  {
   "cell_type": "code",
   "execution_count": 81,
   "metadata": {},
   "outputs": [],
   "source": [
    "predict_test.to_csv('add_vars_scale_is_umbalanced_skd045__slr005_fm3-7.csv', index=False)"
   ]
  },
  {
   "cell_type": "code",
   "execution_count": null,
   "metadata": {},
   "outputs": [],
   "source": []
  },
  {
   "cell_type": "code",
   "execution_count": null,
   "metadata": {},
   "outputs": [],
   "source": []
  }
 ],
 "metadata": {
  "kernelspec": {
   "display_name": "Python 3",
   "language": "python",
   "name": "python3"
  },
  "language_info": {
   "codemirror_mode": {
    "name": "ipython",
    "version": 3
   },
   "file_extension": ".py",
   "mimetype": "text/x-python",
   "name": "python",
   "nbconvert_exporter": "python",
   "pygments_lexer": "ipython3",
   "version": "3.6.8"
  }
 },
 "nbformat": 4,
 "nbformat_minor": 2
}
