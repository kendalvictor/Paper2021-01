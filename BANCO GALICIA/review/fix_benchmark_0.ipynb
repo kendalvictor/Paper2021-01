{
 "cells": [
  {
   "cell_type": "code",
   "execution_count": 1,
   "metadata": {
    "_cell_guid": "b1076dfc-b9ad-4769-8c92-a6c4dae69d19",
    "_uuid": "8f2839f25d086af736a60e9eeb907d3b93b6e0e5"
   },
   "outputs": [
    {
     "name": "stderr",
     "output_type": "stream",
     "text": [
      "/home/villacorta/anaconda3/lib/python3.6/importlib/_bootstrap.py:219: RuntimeWarning: numpy.dtype size changed, may indicate binary incompatibility. Expected 96, got 88\n",
      "  return f(*args, **kwds)\n",
      "/home/villacorta/anaconda3/lib/python3.6/importlib/_bootstrap.py:219: RuntimeWarning: numpy.dtype size changed, may indicate binary incompatibility. Expected 96, got 88\n",
      "  return f(*args, **kwds)\n"
     ]
    },
    {
     "data": {
      "text/plain": [
       "['CONTENT_CATEGORY.csv',\n",
       " '.ipynb_checkpoints',\n",
       " 'conversiones.csv',\n",
       " 'sampleSubmission.csv',\n",
       " 'pageviews.csv',\n",
       " 'CONTENT_CATEGORY_TOP.csv',\n",
       " 'device_data.csv',\n",
       " 'PAGE.csv',\n",
       " 'SITE_ID.csv',\n",
       " 'CONTENT_CATEGORY_BOTTOM.csv']"
      ]
     },
     "execution_count": 1,
     "metadata": {},
     "output_type": "execute_result"
    }
   ],
   "source": [
    "# Nativos\n",
    "import random as rn\n",
    "import os\n",
    "import sys\n",
    "import gc\n",
    "\n",
    "#calculo\n",
    "import numpy as np\n",
    "import pandas as pd\n",
    "import scipy as sp\n",
    "\n",
    "#grafico\n",
    "import matplotlib.pyplot as plt\n",
    "import seaborn as sns\n",
    "from IPython.display import display\n",
    "%matplotlib inline\n",
    "sns.set(style=\"whitegrid\")\n",
    "\n",
    "#warning ignore future\n",
    "import warnings\n",
    "# warnings.simplefilter(action='ignore', category=FutureWarning)\n",
    "warnings.filterwarnings(\"ignore\")\n",
    "gc.collect()\n",
    "\n",
    "BASE_DIR = os.path.dirname(os.getcwd())\n",
    "if BASE_DIR not in sys.path: sys.path.append(BASE_DIR)\n",
    "\n",
    "from utils import *\n",
    "from graphs import *\n",
    "\n",
    "SEED = 29082013\n",
    "os.environ['PYTHONHASHSEED']=str(SEED)\n",
    "np.random.seed(SEED)\n",
    "rn.seed(SEED)\n",
    "\n",
    "subfolder = \"data\"\n",
    "os.listdir(subfolder)"
   ]
  },
  {
   "cell_type": "code",
   "execution_count": 2,
   "metadata": {},
   "outputs": [],
   "source": [
    "def get_schedule(val):\n",
    "    if val < 6:\n",
    "        return 'madrugada'\n",
    "    elif val < 9:\n",
    "        return 'antes_del_trabajo'\n",
    "    elif val < 13:\n",
    "        return 'trabajo_manana'\n",
    "    elif val < 16:\n",
    "        return 'almuerzo'\n",
    "    elif val < 19:\n",
    "        return 'trabajo_tarde'\n",
    "    else:\n",
    "        return 'luego_del_trabajo'"
   ]
  },
  {
   "cell_type": "code",
   "execution_count": 3,
   "metadata": {
    "_cell_guid": "79c7e3d0-c299-4dcb-8224-4455121ee9b0",
    "_uuid": "d629ff2d2480ee46fbb7e2d37f6b5fab8052498a"
   },
   "outputs": [
    {
     "data": {
      "text/plain": [
       "(17936934, 8)"
      ]
     },
     "execution_count": 3,
     "metadata": {},
     "output_type": "execute_result"
    }
   ],
   "source": [
    "col_user = 'USER_ID'\n",
    "data = pd.read_csv(\n",
    "    \"{}/pageviews.csv\".format(subfolder), parse_dates=[\"FEC_EVENT\"]\n",
    ").sort_values(\n",
    "    [col_user, \"FEC_EVENT\"]\n",
    ")\n",
    "data.shape"
   ]
  },
  {
   "cell_type": "code",
   "execution_count": 4,
   "metadata": {},
   "outputs": [],
   "source": [
    "del data['CONTENT_CATEGORY_BOTTOM']\n",
    "data['weekday_view'] = data['FEC_EVENT'].dt.weekday\n",
    "data['hour'] = data['FEC_EVENT'].dt.hour\n",
    "data['schedule_view'] = data['hour'].apply(get_schedule)\n",
    "del data['hour']"
   ]
  },
  {
   "cell_type": "code",
   "execution_count": 5,
   "metadata": {},
   "outputs": [
    {
     "data": {
      "text/plain": [
       "['PAGE',\n",
       " 'CONTENT_CATEGORY',\n",
       " 'CONTENT_CATEGORY_TOP',\n",
       " 'SITE_ID',\n",
       " 'ON_SITE_SEARCH_TERM',\n",
       " 'weekday_view',\n",
       " 'schedule_view']"
      ]
     },
     "execution_count": 5,
     "metadata": {},
     "output_type": "execute_result"
    }
   ],
   "source": [
    "cols = list(data.columns)[1:-3] + ['weekday_view', 'schedule_view']\n",
    "cols"
   ]
  },
  {
   "cell_type": "code",
   "execution_count": 6,
   "metadata": {},
   "outputs": [
    {
     "name": "stdout",
     "output_type": "stream",
     "text": [
      "--> PAGE\n",
      "--> CONTENT_CATEGORY\n",
      "--> CONTENT_CATEGORY_TOP\n",
      "--> SITE_ID\n",
      "--> ON_SITE_SEARCH_TERM\n",
      "--> weekday_view\n",
      "--> schedule_view\n"
     ]
    }
   ],
   "source": [
    "trimestre_data = data[data.FEC_EVENT.dt.month > 0]\n",
    "\n",
    "X_test = []\n",
    "\n",
    "for c in cols:\n",
    "    print(\"-->\", c)\n",
    "    temp = pd.crosstab(trimestre_data.USER_ID, trimestre_data[c])\n",
    "    temp.columns = [c + \"_\" + str(v) for v in temp.columns]\n",
    "    X_test.append(temp.apply(lambda x: x / x.sum(), axis=1))\n",
    "    del temp\n",
    "    \n",
    "X_test = pd.concat(X_test, axis=1)\n",
    "del trimestre_data"
   ]
  },
  {
   "cell_type": "code",
   "execution_count": 7,
   "metadata": {},
   "outputs": [
    {
     "name": "stdout",
     "output_type": "stream",
     "text": [
      "haciendo PAGE\n",
      "haciendo CONTENT_CATEGORY\n",
      "haciendo CONTENT_CATEGORY_TOP\n",
      "haciendo SITE_ID\n",
      "haciendo ON_SITE_SEARCH_TERM\n",
      "haciendo weekday_view\n",
      "haciendo schedule_view\n"
     ]
    }
   ],
   "source": [
    "data = data[data.FEC_EVENT.dt.month < 10]\n",
    "\n",
    "X_train = []\n",
    "for c in cols:\n",
    "    print(\"haciendo\", c)\n",
    "    temp = pd.crosstab(data.USER_ID, data[c])\n",
    "    temp.columns = [c + \"_\" + str(v) for v in temp.columns]\n",
    "    X_train.append(temp.apply(lambda x: x / x.sum(), axis=1))\n",
    "    \n",
    "X_train = pd.concat(X_train, axis=1)"
   ]
  },
  {
   "cell_type": "code",
   "execution_count": 8,
   "metadata": {},
   "outputs": [
    {
     "data": {
      "text/plain": [
       "((11387, 1945), (11676, 2114))"
      ]
     },
     "execution_count": 8,
     "metadata": {},
     "output_type": "execute_result"
    }
   ],
   "source": [
    "X_train.shape, X_test.shape"
   ]
  },
  {
   "cell_type": "code",
   "execution_count": 9,
   "metadata": {},
   "outputs": [
    {
     "data": {
      "text/plain": [
       "['weekday_view_3',\n",
       " 'weekday_view_4',\n",
       " 'weekday_view_5',\n",
       " 'weekday_view_6',\n",
       " 'schedule_view_almuerzo',\n",
       " 'schedule_view_antes_del_trabajo',\n",
       " 'schedule_view_luego_del_trabajo',\n",
       " 'schedule_view_madrugada',\n",
       " 'schedule_view_trabajo_manana',\n",
       " 'schedule_view_trabajo_tarde']"
      ]
     },
     "execution_count": 9,
     "metadata": {},
     "output_type": "execute_result"
    }
   ],
   "source": [
    "list(X_test.columns[-10:])"
   ]
  },
  {
   "cell_type": "code",
   "execution_count": 10,
   "metadata": {},
   "outputs": [],
   "source": [
    "features = list(set(X_train.columns).intersection(set(X_test.columns)))\n",
    "X_train = X_train[features]\n",
    "X_test = X_test[features]"
   ]
  },
  {
   "cell_type": "code",
   "execution_count": 11,
   "metadata": {},
   "outputs": [],
   "source": [
    "y_prev = pd.read_csv(\"data/conversiones.csv\")\n",
    "y_train = pd.Series(0, index=X_train.index)\n",
    "idx = set(y_prev[y_prev.mes >= 10].USER_ID.unique()).intersection(\n",
    "        set(X_train.index))\n",
    "y_train.loc[list(idx)] = 1"
   ]
  },
  {
   "cell_type": "code",
   "execution_count": 12,
   "metadata": {},
   "outputs": [
    {
     "data": {
      "text/plain": [
       "((11387, 1945), (11676, 1945), (11387,))"
      ]
     },
     "execution_count": 12,
     "metadata": {},
     "output_type": "execute_result"
    }
   ],
   "source": [
    "X_train.shape, X_test.shape, y_train.shape"
   ]
  },
  {
   "cell_type": "code",
   "execution_count": null,
   "metadata": {},
   "outputs": [],
   "source": []
  },
  {
   "cell_type": "code",
   "execution_count": 13,
   "metadata": {},
   "outputs": [
    {
     "name": "stdout",
     "output_type": "stream",
     "text": [
      "USER_ID (1086,)\n",
      "mes (12,)\n",
      "trimestre (4,)\n"
     ]
    },
    {
     "data": {
      "text/html": [
       "<div>\n",
       "<style scoped>\n",
       "    .dataframe tbody tr th:only-of-type {\n",
       "        vertical-align: middle;\n",
       "    }\n",
       "\n",
       "    .dataframe tbody tr th {\n",
       "        vertical-align: top;\n",
       "    }\n",
       "\n",
       "    .dataframe thead th {\n",
       "        text-align: right;\n",
       "    }\n",
       "</style>\n",
       "<table border=\"1\" class=\"dataframe\">\n",
       "  <thead>\n",
       "    <tr style=\"text-align: right;\">\n",
       "      <th></th>\n",
       "      <th>USER_ID</th>\n",
       "      <th>trimestre</th>\n",
       "    </tr>\n",
       "  </thead>\n",
       "  <tbody>\n",
       "    <tr>\n",
       "      <th>0</th>\n",
       "      <td>13</td>\n",
       "      <td>3</td>\n",
       "    </tr>\n",
       "    <tr>\n",
       "      <th>1</th>\n",
       "      <td>22</td>\n",
       "      <td>4</td>\n",
       "    </tr>\n",
       "    <tr>\n",
       "      <th>2</th>\n",
       "      <td>40</td>\n",
       "      <td>1</td>\n",
       "    </tr>\n",
       "    <tr>\n",
       "      <th>3</th>\n",
       "      <td>57</td>\n",
       "      <td>2</td>\n",
       "    </tr>\n",
       "    <tr>\n",
       "      <th>4</th>\n",
       "      <td>92</td>\n",
       "      <td>1</td>\n",
       "    </tr>\n",
       "  </tbody>\n",
       "</table>\n",
       "</div>"
      ],
      "text/plain": [
       "   USER_ID  trimestre\n",
       "0       13          3\n",
       "1       22          4\n",
       "2       40          1\n",
       "3       57          2\n",
       "4       92          1"
      ]
     },
     "execution_count": 13,
     "metadata": {},
     "output_type": "execute_result"
    }
   ],
   "source": [
    "convertion = pd.read_csv(\"{}/conversiones.csv\".format(subfolder)).drop_duplicates()[['USER_ID','mes']].sort_values(['USER_ID','mes']).reset_index(drop=True)\n",
    "for col in convertion.columns:\n",
    "    convertion[col] = convertion[col].astype(int)\n",
    "\n",
    "convertion.dtypes\n",
    "def get_trimestre(val):\n",
    "    if val <= 3:\n",
    "        return 1\n",
    "    elif val <= 6:\n",
    "        return 2\n",
    "    elif val <= 9:\n",
    "        return 3\n",
    "    elif val <= 12:\n",
    "        return 4\n",
    "    return 0\n",
    "\n",
    "convertion['trimestre'] = convertion['mes'].apply(get_trimestre)\n",
    "for col in convertion.columns:\n",
    "    print(col, convertion[col].unique().shape)\n",
    "\n",
    "del convertion['mes']\n",
    "convertion.head()\n"
   ]
  },
  {
   "cell_type": "code",
   "execution_count": 14,
   "metadata": {},
   "outputs": [
    {
     "name": "stdout",
     "output_type": "stream",
     "text": [
      "11676\n",
      "X_test_intern post::  (11676, 1)\n",
      "X_test_intern post::  (11676, 1)\n",
      "X_test_intern post::  (11676, 1)\n",
      "X_test_intern post::  (11676, 1)\n"
     ]
    },
    {
     "data": {
      "text/html": [
       "<div>\n",
       "<style scoped>\n",
       "    .dataframe tbody tr th:only-of-type {\n",
       "        vertical-align: middle;\n",
       "    }\n",
       "\n",
       "    .dataframe tbody tr th {\n",
       "        vertical-align: top;\n",
       "    }\n",
       "\n",
       "    .dataframe thead th {\n",
       "        text-align: right;\n",
       "    }\n",
       "</style>\n",
       "<table border=\"1\" class=\"dataframe\">\n",
       "  <thead>\n",
       "    <tr style=\"text-align: right;\">\n",
       "      <th></th>\n",
       "      <th>TARGET_1</th>\n",
       "      <th>TARGET_2</th>\n",
       "      <th>TARGET_3</th>\n",
       "      <th>TARGET_4</th>\n",
       "    </tr>\n",
       "  </thead>\n",
       "  <tbody>\n",
       "    <tr>\n",
       "      <th>0</th>\n",
       "      <td>0</td>\n",
       "      <td>0</td>\n",
       "      <td>0</td>\n",
       "      <td>0</td>\n",
       "    </tr>\n",
       "    <tr>\n",
       "      <th>1</th>\n",
       "      <td>0</td>\n",
       "      <td>0</td>\n",
       "      <td>0</td>\n",
       "      <td>0</td>\n",
       "    </tr>\n",
       "    <tr>\n",
       "      <th>2</th>\n",
       "      <td>0</td>\n",
       "      <td>0</td>\n",
       "      <td>0</td>\n",
       "      <td>0</td>\n",
       "    </tr>\n",
       "    <tr>\n",
       "      <th>3</th>\n",
       "      <td>0</td>\n",
       "      <td>0</td>\n",
       "      <td>0</td>\n",
       "      <td>0</td>\n",
       "    </tr>\n",
       "    <tr>\n",
       "      <th>4</th>\n",
       "      <td>0</td>\n",
       "      <td>0</td>\n",
       "      <td>0</td>\n",
       "      <td>0</td>\n",
       "    </tr>\n",
       "    <tr>\n",
       "      <th>5</th>\n",
       "      <td>0</td>\n",
       "      <td>0</td>\n",
       "      <td>0</td>\n",
       "      <td>0</td>\n",
       "    </tr>\n",
       "    <tr>\n",
       "      <th>6</th>\n",
       "      <td>0</td>\n",
       "      <td>0</td>\n",
       "      <td>0</td>\n",
       "      <td>0</td>\n",
       "    </tr>\n",
       "    <tr>\n",
       "      <th>7</th>\n",
       "      <td>0</td>\n",
       "      <td>0</td>\n",
       "      <td>0</td>\n",
       "      <td>0</td>\n",
       "    </tr>\n",
       "    <tr>\n",
       "      <th>8</th>\n",
       "      <td>0</td>\n",
       "      <td>0</td>\n",
       "      <td>0</td>\n",
       "      <td>0</td>\n",
       "    </tr>\n",
       "    <tr>\n",
       "      <th>9</th>\n",
       "      <td>0</td>\n",
       "      <td>0</td>\n",
       "      <td>0</td>\n",
       "      <td>0</td>\n",
       "    </tr>\n",
       "    <tr>\n",
       "      <th>10</th>\n",
       "      <td>0</td>\n",
       "      <td>0</td>\n",
       "      <td>0</td>\n",
       "      <td>0</td>\n",
       "    </tr>\n",
       "    <tr>\n",
       "      <th>11</th>\n",
       "      <td>0</td>\n",
       "      <td>0</td>\n",
       "      <td>0</td>\n",
       "      <td>0</td>\n",
       "    </tr>\n",
       "    <tr>\n",
       "      <th>12</th>\n",
       "      <td>0</td>\n",
       "      <td>0</td>\n",
       "      <td>0</td>\n",
       "      <td>0</td>\n",
       "    </tr>\n",
       "    <tr>\n",
       "      <th>13</th>\n",
       "      <td>0</td>\n",
       "      <td>0</td>\n",
       "      <td>1</td>\n",
       "      <td>0</td>\n",
       "    </tr>\n",
       "    <tr>\n",
       "      <th>14</th>\n",
       "      <td>0</td>\n",
       "      <td>0</td>\n",
       "      <td>0</td>\n",
       "      <td>0</td>\n",
       "    </tr>\n",
       "  </tbody>\n",
       "</table>\n",
       "</div>"
      ],
      "text/plain": [
       "    TARGET_1  TARGET_2  TARGET_3  TARGET_4\n",
       "0          0         0         0         0\n",
       "1          0         0         0         0\n",
       "2          0         0         0         0\n",
       "3          0         0         0         0\n",
       "4          0         0         0         0\n",
       "5          0         0         0         0\n",
       "6          0         0         0         0\n",
       "7          0         0         0         0\n",
       "8          0         0         0         0\n",
       "9          0         0         0         0\n",
       "10         0         0         0         0\n",
       "11         0         0         0         0\n",
       "12         0         0         0         0\n",
       "13         0         0         1         0\n",
       "14         0         0         0         0"
      ]
     },
     "metadata": {},
     "output_type": "display_data"
    }
   ],
   "source": [
    "\n",
    "col_user = 'USER_ID'\n",
    "pageview = pd.read_csv(\"{}/pageviews.csv\".format(subfolder), parse_dates=[\"FEC_EVENT\"]).sort_values([col_user, \"FEC_EVENT\"])\n",
    "all_user = set(list(pageview[col_user].unique()))\n",
    "print(len(all_user))\n",
    "del pageview\n",
    "\n",
    "data_conv = []\n",
    "\n",
    "for val in sorted(list(convertion['trimestre'].unique())):\n",
    "    col_target = 'TARGET_{}'.format(val)\n",
    "    conv_trim = convertion[convertion['trimestre'] == val].drop_duplicates().reset_index(drop=True)\n",
    "    unique_users_conv = set(list(conv_trim[col_user].unique()))\n",
    "    conv_trim.index = conv_trim[col_user]\n",
    "    \n",
    "    conv_trim[col_target] = 1\n",
    "    \n",
    "    del conv_trim.index.name\n",
    "    del conv_trim[col_user]\n",
    "    del conv_trim['trimestre']\n",
    "\n",
    "    temp0 = pd.DataFrame(0, index=list(all_user - unique_users_conv), columns=[col_target])\n",
    "    X_test_intern = pd.concat([conv_trim, temp0]).sort_index()\n",
    "\n",
    "    print(\"X_test_intern post:: \", X_test_intern.shape)\n",
    "    \n",
    "    data_conv.append(X_test_intern.copy())\n",
    "    del X_test_intern\n",
    "    del conv_trim\n",
    "\n",
    "\n",
    "data_conv = pd.concat(data_conv, axis=1)\n",
    "del convertion\n",
    "\n",
    "display(data_conv.head(15))\n"
   ]
  },
  {
   "cell_type": "code",
   "execution_count": 15,
   "metadata": {},
   "outputs": [],
   "source": [
    "\n",
    "current_col = 'current_convertion'\n",
    "previous_col = 'previous_convertion'\n",
    "before_previous_col = 'before_previous_convertion'\n",
    "\n",
    "X_train[current_col] = data_conv['TARGET_3']\n",
    "X_train[previous_col] = data_conv['TARGET_2']\n",
    "X_train[before_previous_col] = data_conv['TARGET_1']\n",
    "\n",
    "X_test[current_col] = data_conv['TARGET_4']\n",
    "X_test[previous_col] = data_conv['TARGET_3']\n",
    "X_test[before_previous_col] = data_conv['TARGET_2']\n",
    "\n",
    "del data_conv\n"
   ]
  },
  {
   "cell_type": "code",
   "execution_count": 16,
   "metadata": {},
   "outputs": [
    {
     "data": {
      "text/plain": [
       "((11387, 1948), (11676, 1948), (11387,))"
      ]
     },
     "execution_count": 16,
     "metadata": {},
     "output_type": "execute_result"
    }
   ],
   "source": [
    "X_train.shape, X_test.shape, y_train.shape"
   ]
  },
  {
   "cell_type": "code",
   "execution_count": 17,
   "metadata": {},
   "outputs": [
    {
     "name": "stdout",
     "output_type": "stream",
     "text": [
      "Fitting 10 folds for each of 1 candidates, totalling 10 fits\n"
     ]
    },
    {
     "name": "stderr",
     "output_type": "stream",
     "text": [
      "[Parallel(n_jobs=-1)]: Using backend LokyBackend with 4 concurrent workers.\n",
      "[Parallel(n_jobs=-1)]: Done  10 out of  10 | elapsed:  2.6min finished\n"
     ]
    },
    {
     "name": "stdout",
     "output_type": "stream",
     "text": [
      "0.8001376861053056 {'bagging_fraction': 0.8, 'feature_fraction': 0.4, 'learning_rate': 0.05, 'max_depth': 55, 'n_estimators': 500}\n"
     ]
    }
   ],
   "source": [
    "from lightgbm import LGBMClassifier\n",
    "from sklearn import model_selection\n",
    "from sklearn.metrics import roc_auc_score\n",
    "from sklearn.model_selection import StratifiedShuffleSplit, StratifiedKFold, TimeSeriesSplit\n",
    "from sklearn.model_selection import GridSearchCV\n",
    "\n",
    "param_grid = {\n",
    "    'n_estimators': [500],\n",
    "    'feature_fraction': [0.4],\n",
    "    'bagging_fraction': [0.8],\n",
    "    'max_depth':[55],\n",
    "    'learning_rate': [0.05]\n",
    "}\n",
    "    \n",
    "kfold_off = StratifiedKFold(\n",
    "    n_splits=10, \n",
    "    shuffle=False, \n",
    "    random_state=SEED\n",
    ")\n",
    "model_lgbm = LGBMClassifier(seed=SEED)\n",
    "\n",
    "grid = GridSearchCV(\n",
    "    model_lgbm, param_grid, cv=kfold_off, \n",
    "    n_jobs=-1, scoring='roc_auc', verbose=1\n",
    ")\n",
    "grid.fit(X_train, y_train)\n",
    "\n",
    "best_params_ = grid.best_params_\n",
    "model_ = grid.best_estimator_\n",
    "score_ = grid.best_score_\n",
    "print(score_, best_params_)"
   ]
  },
  {
   "cell_type": "code",
   "execution_count": 18,
   "metadata": {},
   "outputs": [
    {
     "name": "stdout",
     "output_type": "stream",
     "text": [
      "[2.06738960e-04 1.12786108e-04 1.91262875e-05 ... 5.39646384e-05\n",
      " 4.37300033e-05 4.60241062e-05] (11676,)\n"
     ]
    },
    {
     "data": {
      "text/html": [
       "<div>\n",
       "<style scoped>\n",
       "    .dataframe tbody tr th:only-of-type {\n",
       "        vertical-align: middle;\n",
       "    }\n",
       "\n",
       "    .dataframe tbody tr th {\n",
       "        vertical-align: top;\n",
       "    }\n",
       "\n",
       "    .dataframe thead th {\n",
       "        text-align: right;\n",
       "    }\n",
       "</style>\n",
       "<table border=\"1\" class=\"dataframe\">\n",
       "  <thead>\n",
       "    <tr style=\"text-align: right;\">\n",
       "      <th></th>\n",
       "      <th>USER_ID</th>\n",
       "      <th>SCORE</th>\n",
       "    </tr>\n",
       "  </thead>\n",
       "  <tbody>\n",
       "    <tr>\n",
       "      <th>0</th>\n",
       "      <td>0</td>\n",
       "      <td>0.000207</td>\n",
       "    </tr>\n",
       "    <tr>\n",
       "      <th>1</th>\n",
       "      <td>1</td>\n",
       "      <td>0.000113</td>\n",
       "    </tr>\n",
       "    <tr>\n",
       "      <th>2</th>\n",
       "      <td>2</td>\n",
       "      <td>0.000019</td>\n",
       "    </tr>\n",
       "    <tr>\n",
       "      <th>3</th>\n",
       "      <td>3</td>\n",
       "      <td>0.000043</td>\n",
       "    </tr>\n",
       "    <tr>\n",
       "      <th>4</th>\n",
       "      <td>4</td>\n",
       "      <td>0.001177</td>\n",
       "    </tr>\n",
       "  </tbody>\n",
       "</table>\n",
       "</div>"
      ],
      "text/plain": [
       "   USER_ID     SCORE\n",
       "0        0  0.000207\n",
       "1        1  0.000113\n",
       "2        2  0.000019\n",
       "3        3  0.000043\n",
       "4        4  0.001177"
      ]
     },
     "execution_count": 18,
     "metadata": {},
     "output_type": "execute_result"
    }
   ],
   "source": [
    "predict_test = grid.best_estimator_.predict_proba(X_test)[:,1]\n",
    "print(predict_test, predict_test.shape)\n",
    "predict_test = pd.DataFrame(\n",
    "    {'USER_ID':X_test.index, 'SCORE':predict_test} \n",
    ")\n",
    "predict_test.head()"
   ]
  },
  {
   "cell_type": "code",
   "execution_count": 19,
   "metadata": {},
   "outputs": [
    {
     "data": {
      "text/plain": [
       "(11676, 2)"
      ]
     },
     "execution_count": 19,
     "metadata": {},
     "output_type": "execute_result"
    }
   ],
   "source": [
    "predict_test.shape"
   ]
  },
  {
   "cell_type": "code",
   "execution_count": 20,
   "metadata": {},
   "outputs": [
    {
     "data": {
      "text/plain": [
       "\"\\nidx_faltantes = list(set(X_train.index) - set(predict_test['USER_ID'].unique()))\\nlen(idx_faltantes)\\n\""
      ]
     },
     "execution_count": 20,
     "metadata": {},
     "output_type": "execute_result"
    }
   ],
   "source": [
    "\"\"\"\n",
    "idx_faltantes = list(set(X_train.index) - set(predict_test['USER_ID'].unique()))\n",
    "len(idx_faltantes)\n",
    "\"\"\""
   ]
  },
  {
   "cell_type": "code",
   "execution_count": 21,
   "metadata": {},
   "outputs": [
    {
     "data": {
      "text/plain": [
       "\"\\nfaltantes = pd.DataFrame({\\n    'USER_ID':idx_faltantes, 'SCORE': [y_train_2[_] for _ in idx_faltantes]\\n})\\nfaltantes.head()\\n\""
      ]
     },
     "execution_count": 21,
     "metadata": {},
     "output_type": "execute_result"
    }
   ],
   "source": [
    "\"\"\"\n",
    "faltantes = pd.DataFrame({\n",
    "    'USER_ID':idx_faltantes, 'SCORE': [y_train_2[_] for _ in idx_faltantes]\n",
    "})\n",
    "faltantes.head()\n",
    "\"\"\""
   ]
  },
  {
   "cell_type": "code",
   "execution_count": 22,
   "metadata": {},
   "outputs": [
    {
     "data": {
      "text/plain": [
       "\"\\npredict_test = pd.concat([predict_test, faltantes], axis=0).sort_values(['USER_ID'])\\npredict_test.shape\\n\""
      ]
     },
     "execution_count": 22,
     "metadata": {},
     "output_type": "execute_result"
    }
   ],
   "source": [
    "\"\"\"\n",
    "predict_test = pd.concat([predict_test, faltantes], axis=0).sort_values(['USER_ID'])\n",
    "predict_test.shape\n",
    "\"\"\""
   ]
  },
  {
   "cell_type": "code",
   "execution_count": 24,
   "metadata": {},
   "outputs": [],
   "source": [
    "predict_test.to_csv('fix_brenchmark_again.csv_test_3trimestres_beforev.csv', index=False)"
   ]
  },
  {
   "cell_type": "code",
   "execution_count": null,
   "metadata": {},
   "outputs": [],
   "source": []
  },
  {
   "cell_type": "code",
   "execution_count": null,
   "metadata": {},
   "outputs": [],
   "source": []
  }
 ],
 "metadata": {
  "kernelspec": {
   "display_name": "Python 3",
   "language": "python",
   "name": "python3"
  },
  "language_info": {
   "codemirror_mode": {
    "name": "ipython",
    "version": 3
   },
   "file_extension": ".py",
   "mimetype": "text/x-python",
   "name": "python",
   "nbconvert_exporter": "python",
   "pygments_lexer": "ipython3",
   "version": "3.6.5"
  }
 },
 "nbformat": 4,
 "nbformat_minor": 2
}
