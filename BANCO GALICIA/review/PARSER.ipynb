{
 "cells": [
  {
   "cell_type": "code",
   "execution_count": 1,
   "metadata": {},
   "outputs": [
    {
     "name": "stderr",
     "output_type": "stream",
     "text": [
      "/home/villacorta/anaconda3/lib/python3.6/importlib/_bootstrap.py:219: RuntimeWarning: numpy.dtype size changed, may indicate binary incompatibility. Expected 96, got 88\n",
      "  return f(*args, **kwds)\n",
      "/home/villacorta/anaconda3/lib/python3.6/importlib/_bootstrap.py:219: RuntimeWarning: numpy.dtype size changed, may indicate binary incompatibility. Expected 96, got 88\n",
      "  return f(*args, **kwds)\n"
     ]
    },
    {
     "data": {
      "text/plain": [
       "['CONTENT_CATEGORY.csv',\n",
       " '.ipynb_checkpoints',\n",
       " 'pageviews_complemento.csv',\n",
       " 'conversiones.csv',\n",
       " 'sampleSubmission.csv',\n",
       " 'pageviews.csv',\n",
       " 'CONTENT_CATEGORY_TOP.csv',\n",
       " 'pageview_with_previous.csv',\n",
       " 'device_data.csv',\n",
       " 'PAGE.csv',\n",
       " 'SITE_ID.csv',\n",
       " 'CONTENT_CATEGORY_BOTTOM.csv']"
      ]
     },
     "execution_count": 1,
     "metadata": {},
     "output_type": "execute_result"
    }
   ],
   "source": [
    "# Nativos\n",
    "import random as rn\n",
    "import os\n",
    "import sys\n",
    "import gc\n",
    "\n",
    "#calculo\n",
    "import numpy as np\n",
    "import pandas as pd\n",
    "import scipy as sp\n",
    "\n",
    "#grafico\n",
    "import matplotlib.pyplot as plt\n",
    "import seaborn as sns\n",
    "from IPython.display import display\n",
    "%matplotlib inline\n",
    "sns.set(style=\"whitegrid\")\n",
    "\n",
    "#warning ignore future\n",
    "import warnings\n",
    "# warnings.simplefilter(action='ignore', category=FutureWarning)\n",
    "warnings.filterwarnings(\"ignore\")\n",
    "gc.collect()\n",
    "\n",
    "BASE_DIR = os.path.dirname(os.getcwd())\n",
    "if BASE_DIR not in sys.path: sys.path.append(BASE_DIR)\n",
    "\n",
    "from utils import *\n",
    "from graphs import *\n",
    "\n",
    "SEED = 29082013\n",
    "os.environ['PYTHONHASHSEED']=str(SEED)\n",
    "np.random.seed(SEED)\n",
    "rn.seed(SEED)\n",
    "\n",
    "subfolder = \"data\"\n",
    "os.listdir(subfolder)"
   ]
  },
  {
   "cell_type": "code",
   "execution_count": 2,
   "metadata": {},
   "outputs": [],
   "source": [
    "def get_schedule(val):\n",
    "    if val < 6:\n",
    "        return 'madrugada'\n",
    "    elif val < 9:\n",
    "        return 'antes_del_trabajo'\n",
    "    elif val < 13:\n",
    "        return 'trabajo_manana'\n",
    "    elif val < 16:\n",
    "        return 'almuerzo'\n",
    "    elif val < 19:\n",
    "        return 'trabajo_tarde'\n",
    "    else:\n",
    "        return 'luego_del_trabajo'\n",
    "    \n",
    "def get_day_cut(val):\n",
    "    if val < 7:\n",
    "        return 'inicio_mes'\n",
    "    elif val < 13:\n",
    "        return '7_12'\n",
    "    elif val < 18:\n",
    "        return 'quincena'\n",
    "    elif val < 25:\n",
    "        return '18_24'\n",
    "    else:\n",
    "        return 'fin_de_mes'\n",
    "    \n",
    "def get_trimestre(val):\n",
    "    if val <= 3:\n",
    "        return 1\n",
    "    elif val <= 6:\n",
    "        return 2\n",
    "    elif val <= 9:\n",
    "        return 3\n",
    "    elif val <= 12:\n",
    "        return 4\n",
    "    return 0"
   ]
  },
  {
   "cell_type": "code",
   "execution_count": 3,
   "metadata": {},
   "outputs": [
    {
     "data": {
      "text/plain": [
       "(17936934, 8)"
      ]
     },
     "execution_count": 3,
     "metadata": {},
     "output_type": "execute_result"
    }
   ],
   "source": [
    "col_user = 'USER_ID'\n",
    "data = pd.read_csv(\n",
    "    \"{}/pageviews.csv\".format(subfolder), parse_dates=[\"FEC_EVENT\"], dtype=str\n",
    ").sort_values(\n",
    "    [col_user, \"FEC_EVENT\"]\n",
    ")\n",
    "data.shape"
   ]
  },
  {
   "cell_type": "code",
   "execution_count": 4,
   "metadata": {},
   "outputs": [
    {
     "data": {
      "text/plain": [
       "(4933420, 8)"
      ]
     },
     "execution_count": 4,
     "metadata": {},
     "output_type": "execute_result"
    }
   ],
   "source": [
    "comp = pd.read_csv(\n",
    "    \"{}/pageviews_complemento.csv\".format(subfolder), parse_dates=[\"FEC_EVENT\"], dtype=str\n",
    ").sort_values(\n",
    "    [col_user, \"FEC_EVENT\"]\n",
    ")\n",
    "comp.shape"
   ]
  },
  {
   "cell_type": "code",
   "execution_count": 5,
   "metadata": {},
   "outputs": [
    {
     "data": {
      "text/html": [
       "<div>\n",
       "<style scoped>\n",
       "    .dataframe tbody tr th:only-of-type {\n",
       "        vertical-align: middle;\n",
       "    }\n",
       "\n",
       "    .dataframe tbody tr th {\n",
       "        vertical-align: top;\n",
       "    }\n",
       "\n",
       "    .dataframe thead th {\n",
       "        text-align: right;\n",
       "    }\n",
       "</style>\n",
       "<table border=\"1\" class=\"dataframe\">\n",
       "  <thead>\n",
       "    <tr style=\"text-align: right;\">\n",
       "      <th></th>\n",
       "      <th>FEC_EVENT</th>\n",
       "      <th>PAGE</th>\n",
       "      <th>CONTENT_CATEGORY</th>\n",
       "      <th>CONTENT_CATEGORY_TOP</th>\n",
       "      <th>CONTENT_CATEGORY_BOTTOM</th>\n",
       "      <th>SITE_ID</th>\n",
       "      <th>ON_SITE_SEARCH_TERM</th>\n",
       "      <th>USER_ID</th>\n",
       "    </tr>\n",
       "  </thead>\n",
       "  <tbody>\n",
       "    <tr>\n",
       "      <th>284</th>\n",
       "      <td>2018-01-01 09:56:47</td>\n",
       "      <td>14</td>\n",
       "      <td>4</td>\n",
       "      <td>2</td>\n",
       "      <td>4</td>\n",
       "      <td>2</td>\n",
       "      <td>1</td>\n",
       "      <td>0</td>\n",
       "    </tr>\n",
       "    <tr>\n",
       "      <th>285</th>\n",
       "      <td>2018-01-01 09:57:19</td>\n",
       "      <td>14</td>\n",
       "      <td>4</td>\n",
       "      <td>2</td>\n",
       "      <td>4</td>\n",
       "      <td>2</td>\n",
       "      <td>1</td>\n",
       "      <td>0</td>\n",
       "    </tr>\n",
       "    <tr>\n",
       "      <th>286</th>\n",
       "      <td>2018-01-01 09:57:48</td>\n",
       "      <td>12</td>\n",
       "      <td>4</td>\n",
       "      <td>2</td>\n",
       "      <td>4</td>\n",
       "      <td>2</td>\n",
       "      <td>1</td>\n",
       "      <td>0</td>\n",
       "    </tr>\n",
       "    <tr>\n",
       "      <th>287</th>\n",
       "      <td>2018-01-01 09:57:48</td>\n",
       "      <td>10</td>\n",
       "      <td>4</td>\n",
       "      <td>2</td>\n",
       "      <td>4</td>\n",
       "      <td>2</td>\n",
       "      <td>1</td>\n",
       "      <td>0</td>\n",
       "    </tr>\n",
       "    <tr>\n",
       "      <th>288</th>\n",
       "      <td>2018-01-01 09:57:49</td>\n",
       "      <td>11</td>\n",
       "      <td>4</td>\n",
       "      <td>2</td>\n",
       "      <td>4</td>\n",
       "      <td>2</td>\n",
       "      <td>1</td>\n",
       "      <td>0</td>\n",
       "    </tr>\n",
       "  </tbody>\n",
       "</table>\n",
       "</div>"
      ],
      "text/plain": [
       "              FEC_EVENT PAGE CONTENT_CATEGORY CONTENT_CATEGORY_TOP  \\\n",
       "284 2018-01-01 09:56:47   14                4                    2   \n",
       "285 2018-01-01 09:57:19   14                4                    2   \n",
       "286 2018-01-01 09:57:48   12                4                    2   \n",
       "287 2018-01-01 09:57:48   10                4                    2   \n",
       "288 2018-01-01 09:57:49   11                4                    2   \n",
       "\n",
       "    CONTENT_CATEGORY_BOTTOM SITE_ID ON_SITE_SEARCH_TERM USER_ID  \n",
       "284                       4       2                   1       0  \n",
       "285                       4       2                   1       0  \n",
       "286                       4       2                   1       0  \n",
       "287                       4       2                   1       0  \n",
       "288                       4       2                   1       0  "
      ]
     },
     "execution_count": 5,
     "metadata": {},
     "output_type": "execute_result"
    }
   ],
   "source": [
    "data.head()"
   ]
  },
  {
   "cell_type": "code",
   "execution_count": 6,
   "metadata": {},
   "outputs": [
    {
     "data": {
      "text/html": [
       "<div>\n",
       "<style scoped>\n",
       "    .dataframe tbody tr th:only-of-type {\n",
       "        vertical-align: middle;\n",
       "    }\n",
       "\n",
       "    .dataframe tbody tr th {\n",
       "        vertical-align: top;\n",
       "    }\n",
       "\n",
       "    .dataframe thead th {\n",
       "        text-align: right;\n",
       "    }\n",
       "</style>\n",
       "<table border=\"1\" class=\"dataframe\">\n",
       "  <thead>\n",
       "    <tr style=\"text-align: right;\">\n",
       "      <th></th>\n",
       "      <th>PAGE</th>\n",
       "      <th>CONTENT_CATEGORY</th>\n",
       "      <th>CONTENT_CATEGORY_TOP</th>\n",
       "      <th>CONTENT_CATEGORY_BOTTOM</th>\n",
       "      <th>SITE_ID</th>\n",
       "      <th>ON_SITE_SEARCH_TERM</th>\n",
       "      <th>USER_ID</th>\n",
       "      <th>FEC_EVENT</th>\n",
       "    </tr>\n",
       "  </thead>\n",
       "  <tbody>\n",
       "    <tr>\n",
       "      <th>3136070</th>\n",
       "      <td>2</td>\n",
       "      <td>2</td>\n",
       "      <td>2</td>\n",
       "      <td>2</td>\n",
       "      <td>2</td>\n",
       "      <td>1</td>\n",
       "      <td>10000</td>\n",
       "      <td>2018-07-10 19:14:34</td>\n",
       "    </tr>\n",
       "    <tr>\n",
       "      <th>3136071</th>\n",
       "      <td>99</td>\n",
       "      <td>2</td>\n",
       "      <td>2</td>\n",
       "      <td>2</td>\n",
       "      <td>3</td>\n",
       "      <td>1</td>\n",
       "      <td>10000</td>\n",
       "      <td>2018-07-10 19:14:47</td>\n",
       "    </tr>\n",
       "    <tr>\n",
       "      <th>3136072</th>\n",
       "      <td>2</td>\n",
       "      <td>2</td>\n",
       "      <td>2</td>\n",
       "      <td>2</td>\n",
       "      <td>2</td>\n",
       "      <td>1</td>\n",
       "      <td>10000</td>\n",
       "      <td>2018-07-10 19:14:50</td>\n",
       "    </tr>\n",
       "    <tr>\n",
       "      <th>3136073</th>\n",
       "      <td>2</td>\n",
       "      <td>2</td>\n",
       "      <td>2</td>\n",
       "      <td>2</td>\n",
       "      <td>2</td>\n",
       "      <td>1</td>\n",
       "      <td>10000</td>\n",
       "      <td>2018-07-10 19:15:05</td>\n",
       "    </tr>\n",
       "    <tr>\n",
       "      <th>3136074</th>\n",
       "      <td>3</td>\n",
       "      <td>2</td>\n",
       "      <td>2</td>\n",
       "      <td>2</td>\n",
       "      <td>3</td>\n",
       "      <td>1</td>\n",
       "      <td>10000</td>\n",
       "      <td>2018-07-10 19:15:26</td>\n",
       "    </tr>\n",
       "  </tbody>\n",
       "</table>\n",
       "</div>"
      ],
      "text/plain": [
       "        PAGE CONTENT_CATEGORY CONTENT_CATEGORY_TOP CONTENT_CATEGORY_BOTTOM  \\\n",
       "3136070    2                2                    2                       2   \n",
       "3136071   99                2                    2                       2   \n",
       "3136072    2                2                    2                       2   \n",
       "3136073    2                2                    2                       2   \n",
       "3136074    3                2                    2                       2   \n",
       "\n",
       "        SITE_ID ON_SITE_SEARCH_TERM USER_ID           FEC_EVENT  \n",
       "3136070       2                   1   10000 2018-07-10 19:14:34  \n",
       "3136071       3                   1   10000 2018-07-10 19:14:47  \n",
       "3136072       2                   1   10000 2018-07-10 19:14:50  \n",
       "3136073       2                   1   10000 2018-07-10 19:15:05  \n",
       "3136074       3                   1   10000 2018-07-10 19:15:26  "
      ]
     },
     "execution_count": 6,
     "metadata": {},
     "output_type": "execute_result"
    }
   ],
   "source": [
    "comp.head()"
   ]
  },
  {
   "cell_type": "code",
   "execution_count": 7,
   "metadata": {},
   "outputs": [
    {
     "name": "stdout",
     "output_type": "stream",
     "text": [
      "FEC_EVENT (10496454,)\n",
      "PAGE (1725,)\n",
      "CONTENT_CATEGORY (65,)\n",
      "CONTENT_CATEGORY_TOP (13,)\n",
      "CONTENT_CATEGORY_BOTTOM (65,)\n",
      "SITE_ID (4,)\n",
      "ON_SITE_SEARCH_TERM (294,)\n",
      "USER_ID (11676,)\n",
      "////////////////////////////////////////////////////////////////////////////////////////////////////\n",
      "PAGE (1233,)\n",
      "CONTENT_CATEGORY (59,)\n",
      "CONTENT_CATEGORY_TOP (11,)\n",
      "CONTENT_CATEGORY_BOTTOM (59,)\n",
      "SITE_ID (4,)\n",
      "ON_SITE_SEARCH_TERM (1,)\n",
      "USER_ID (6661,)\n",
      "FEC_EVENT (3209918,)\n"
     ]
    }
   ],
   "source": [
    "for col in data.columns:\n",
    "    print(col, data[col].unique().shape)\n",
    "\n",
    "print(\"/\"*100)\n",
    "\n",
    "for col in comp.columns:\n",
    "    print(col, comp[col].unique().shape)"
   ]
  },
  {
   "cell_type": "code",
   "execution_count": 8,
   "metadata": {},
   "outputs": [
    {
     "data": {
      "text/plain": [
       "['FEC_EVENT',\n",
       " 'PAGE',\n",
       " 'CONTENT_CATEGORY',\n",
       " 'CONTENT_CATEGORY_TOP',\n",
       " 'CONTENT_CATEGORY_BOTTOM',\n",
       " 'SITE_ID',\n",
       " 'ON_SITE_SEARCH_TERM',\n",
       " 'USER_ID']"
      ]
     },
     "execution_count": 8,
     "metadata": {},
     "output_type": "execute_result"
    }
   ],
   "source": [
    "order_columns = list(data.columns)\n",
    "order_columns"
   ]
  },
  {
   "cell_type": "code",
   "execution_count": 9,
   "metadata": {},
   "outputs": [
    {
     "data": {
      "text/plain": [
       "((22870354, 8),\n",
       "               FEC_EVENT PAGE CONTENT_CATEGORY CONTENT_CATEGORY_TOP  \\\n",
       " 284 2018-01-01 09:56:47   14                4                    2   \n",
       " 285 2018-01-01 09:57:19   14                4                    2   \n",
       " 286 2018-01-01 09:57:48   12                4                    2   \n",
       " 287 2018-01-01 09:57:48   10                4                    2   \n",
       " 288 2018-01-01 09:57:49   11                4                    2   \n",
       " \n",
       "     CONTENT_CATEGORY_BOTTOM SITE_ID ON_SITE_SEARCH_TERM USER_ID  \n",
       " 284                       4       2                   1       0  \n",
       " 285                       4       2                   1       0  \n",
       " 286                       4       2                   1       0  \n",
       " 287                       4       2                   1       0  \n",
       " 288                       4       2                   1       0  )"
      ]
     },
     "execution_count": 9,
     "metadata": {},
     "output_type": "execute_result"
    }
   ],
   "source": [
    "data = pd.concat(\n",
    "    [data[order_columns], comp[order_columns]], axis=0\n",
    ")\n",
    "del comp\n",
    "data.shape, data.head()"
   ]
  },
  {
   "cell_type": "code",
   "execution_count": 10,
   "metadata": {},
   "outputs": [
    {
     "data": {
      "text/plain": [
       "USER_ID\n",
       "11084    3\n",
       "11317    3\n",
       "11445    2\n",
       "11538    3\n",
       "11674    2\n",
       "Name: FEC_EVENT, dtype: int64"
      ]
     },
     "metadata": {},
     "output_type": "display_data"
    },
    {
     "name": "stdout",
     "output_type": "stream",
     "text": [
      "CPU times: user 1.28 s, sys: 140 ms, total: 1.42 s\n",
      "Wall time: 1.3 s\n"
     ]
    }
   ],
   "source": [
    "%%time\n",
    "serie_count = data.groupby(by=[col_user])['FEC_EVENT'].count()\n",
    "display(serie_count[serie_count <= 3])"
   ]
  },
  {
   "cell_type": "code",
   "execution_count": 11,
   "metadata": {},
   "outputs": [
    {
     "data": {
      "text/plain": [
       "FEC_EVENT                  datetime64[ns]\n",
       "PAGE                               object\n",
       "CONTENT_CATEGORY                   object\n",
       "CONTENT_CATEGORY_TOP               object\n",
       "CONTENT_CATEGORY_BOTTOM            object\n",
       "SITE_ID                            object\n",
       "ON_SITE_SEARCH_TERM                object\n",
       "USER_ID                            object\n",
       "dtype: object"
      ]
     },
     "metadata": {},
     "output_type": "display_data"
    }
   ],
   "source": [
    "display(data.dtypes)"
   ]
  },
  {
   "cell_type": "code",
   "execution_count": 12,
   "metadata": {},
   "outputs": [
    {
     "name": "stdout",
     "output_type": "stream",
     "text": [
      "FEC_EVENT (12397072,)\n",
      "PAGE (1733,)\n",
      "CONTENT_CATEGORY (65,)\n",
      "CONTENT_CATEGORY_TOP (13,)\n",
      "CONTENT_CATEGORY_BOTTOM (65,)\n",
      "SITE_ID (4,)\n",
      "ON_SITE_SEARCH_TERM (294,)\n",
      "USER_ID (11676,)\n"
     ]
    }
   ],
   "source": [
    "for col in data.columns:\n",
    "    print(col, data[col].unique().shape)"
   ]
  },
  {
   "cell_type": "code",
   "execution_count": 13,
   "metadata": {},
   "outputs": [
    {
     "name": "stdout",
     "output_type": "stream",
     "text": [
      "Only 3 hiatorical:   11084\n",
      "Only 3 hiatorical:   11317\n",
      "Only 2 hiatorical:   11445\n",
      "Only 3 hiatorical:   11538\n",
      "Only 2 hiatorical:   11674\n",
      "(22858678, 9)\n"
     ]
    }
   ],
   "source": [
    "new_data = []\n",
    "for userx in data[col_user].unique():\n",
    "    data_userx = data[data[col_user] == userx].reset_index(drop=True)\n",
    "    shape_data = data_userx.shape[0]\n",
    "    \n",
    "    if shape_data <= 3:\n",
    "        print(\"Only {} hiatorical:  \".format(shape_data), userx)\n",
    "    \n",
    "    \n",
    "    if shape_data > 1:\n",
    "        data_userx['PAGE_PREVIOUS'] = data_userx['PAGE'].shift(1)\n",
    "        \n",
    "        # data_userx['PAGE_PRE_PREVIOUS'] = data_userx['PAGE'].shift(2)\n",
    "        data_userx = data_userx.drop([0],axis=0)\n",
    "\n",
    "        data_userx['PAGE_PREVIOUS'] = data_userx[['PAGE', 'PAGE_PREVIOUS']].apply(\n",
    "            lambda _: str(_.PAGE) + '_' + str(_.PAGE_PREVIOUS), axis=1\n",
    "        )\n",
    "\n",
    "        #data_userx['PAGE_PRE_PREVIOUS'] = data_userx[['PAGE_PREVIOUS', 'PAGE_PRE_PREVIOUS']].apply(\n",
    "        #    lambda _: str(_.PAGE_PREVIOUS) + '_' + str(_.PAGE_PRE_PREVIOUS), axis=1\n",
    "        #)\n",
    "\n",
    "        new_data.append(data_userx)\n",
    "    else:\n",
    "        print(\"user with only one historical ::: \", userx)\n",
    "\n",
    "data = pd.concat(new_data, axis=0)\n",
    "del new_data\n",
    "print(data.shape)"
   ]
  },
  {
   "cell_type": "code",
   "execution_count": 14,
   "metadata": {},
   "outputs": [],
   "source": [
    "data.to_csv('data/pageview_with_previous', index=False)"
   ]
  },
  {
   "cell_type": "code",
   "execution_count": null,
   "metadata": {},
   "outputs": [],
   "source": []
  },
  {
   "cell_type": "code",
   "execution_count": null,
   "metadata": {},
   "outputs": [],
   "source": []
  },
  {
   "cell_type": "code",
   "execution_count": null,
   "metadata": {},
   "outputs": [],
   "source": [
    "\"\"\"\n",
    "Only 3 hiatorical:   11084\n",
    "Only 3 hiatorical:   11317\n",
    "Only 2 hiatorical:   11445\n",
    "Only 3 hiatorical:   11538\n",
    "Only 2 hiatorical:   11674\n",
    "\n",
    "\"\"\""
   ]
  }
 ],
 "metadata": {
  "kernelspec": {
   "display_name": "Python 3",
   "language": "python",
   "name": "python3"
  },
  "language_info": {
   "codemirror_mode": {
    "name": "ipython",
    "version": 3
   },
   "file_extension": ".py",
   "mimetype": "text/x-python",
   "name": "python",
   "nbconvert_exporter": "python",
   "pygments_lexer": "ipython3",
   "version": "3.6.5"
  }
 },
 "nbformat": 4,
 "nbformat_minor": 2
}
