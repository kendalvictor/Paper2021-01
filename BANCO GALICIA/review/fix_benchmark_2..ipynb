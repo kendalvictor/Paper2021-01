{
 "cells": [
  {
   "cell_type": "code",
   "execution_count": 1,
   "metadata": {
    "_cell_guid": "b1076dfc-b9ad-4769-8c92-a6c4dae69d19",
    "_uuid": "8f2839f25d086af736a60e9eeb907d3b93b6e0e5"
   },
   "outputs": [
    {
     "name": "stderr",
     "output_type": "stream",
     "text": [
      "/home/villacorta/anaconda3/lib/python3.6/importlib/_bootstrap.py:219: RuntimeWarning: numpy.dtype size changed, may indicate binary incompatibility. Expected 96, got 88\n",
      "  return f(*args, **kwds)\n",
      "/home/villacorta/anaconda3/lib/python3.6/importlib/_bootstrap.py:219: RuntimeWarning: numpy.dtype size changed, may indicate binary incompatibility. Expected 96, got 88\n",
      "  return f(*args, **kwds)\n"
     ]
    },
    {
     "data": {
      "text/plain": [
       "['CONTENT_CATEGORY.csv',\n",
       " '.ipynb_checkpoints',\n",
       " 'pageviews_complemento.csv',\n",
       " 'conversiones.csv',\n",
       " 'sampleSubmission.csv',\n",
       " 'pageviews.csv',\n",
       " 'CONTENT_CATEGORY_TOP.csv',\n",
       " 'pageview_with_previous.csv',\n",
       " 'device_data.csv',\n",
       " 'PAGE.csv',\n",
       " 'SITE_ID.csv',\n",
       " 'CONTENT_CATEGORY_BOTTOM.csv']"
      ]
     },
     "execution_count": 1,
     "metadata": {},
     "output_type": "execute_result"
    }
   ],
   "source": [
    "# Nativos\n",
    "import random as rn\n",
    "import os\n",
    "import sys\n",
    "import gc\n",
    "\n",
    "#calculo\n",
    "import numpy as np\n",
    "import pandas as pd\n",
    "import scipy as sp\n",
    "\n",
    "#grafico\n",
    "import matplotlib.pyplot as plt\n",
    "import seaborn as sns\n",
    "from IPython.display import display\n",
    "%matplotlib inline\n",
    "sns.set(style=\"whitegrid\")\n",
    "\n",
    "#warning ignore future\n",
    "import warnings\n",
    "# warnings.simplefilter(action='ignore', category=FutureWarning)\n",
    "warnings.filterwarnings(\"ignore\")\n",
    "gc.collect()\n",
    "\n",
    "BASE_DIR = os.path.dirname(os.getcwd())\n",
    "if BASE_DIR not in sys.path: sys.path.append(BASE_DIR)\n",
    "\n",
    "from utils import *\n",
    "from graphs import *\n",
    "\n",
    "SEED = 29082013\n",
    "os.environ['PYTHONHASHSEED']=str(SEED)\n",
    "np.random.seed(SEED)\n",
    "rn.seed(SEED)\n",
    "\n",
    "subfolder = \"data\"\n",
    "os.listdir(subfolder)"
   ]
  },
  {
   "cell_type": "code",
   "execution_count": 2,
   "metadata": {},
   "outputs": [],
   "source": [
    "def get_schedule(val):\n",
    "    if val < 6:\n",
    "        return 'madrugada'\n",
    "    elif val < 9:\n",
    "        return 'antes_del_trabajo'\n",
    "    elif val < 13:\n",
    "        return 'trabajo_manana'\n",
    "    elif val < 16:\n",
    "        return 'almuerzo'\n",
    "    elif val < 19:\n",
    "        return 'trabajo_tarde'\n",
    "    else:\n",
    "        return 'luego_del_trabajo'\n",
    "    \n",
    "def get_day_cut(val):\n",
    "    if val < 7:\n",
    "        return 'inicio_mes'\n",
    "    elif val < 13:\n",
    "        return '7_12'\n",
    "    elif val < 18:\n",
    "        return 'quincena'\n",
    "    elif val < 25:\n",
    "        return '18_24'\n",
    "    else:\n",
    "        return 'fin_de_mes'"
   ]
  },
  {
   "cell_type": "code",
   "execution_count": 3,
   "metadata": {
    "_cell_guid": "79c7e3d0-c299-4dcb-8224-4455121ee9b0",
    "_uuid": "d629ff2d2480ee46fbb7e2d37f6b5fab8052498a"
   },
   "outputs": [
    {
     "data": {
      "text/plain": [
       "(2871406, 4)"
      ]
     },
     "execution_count": 3,
     "metadata": {},
     "output_type": "execute_result"
    }
   ],
   "source": [
    "col_user = 'USER_ID'\n",
    "device_data = pd.read_csv(\n",
    "    \"{}/device_data.csv\".format(subfolder), parse_dates=[\"FEC_EVENT\"]\n",
    ").sort_values(\n",
    "    [col_user, \"FEC_EVENT\"]\n",
    ")\n",
    "\n",
    "device_data['USER_ID'] = device_data['USER_ID'].astype(int)\n",
    "device_data['CONNECTION_SPEED'] = device_data['CONNECTION_SPEED'].astype(str)\n",
    "device_data['IS_MOBILE_DEVICE'] = device_data['IS_MOBILE_DEVICE'].astype(str)\n",
    "device_data.shape"
   ]
  },
  {
   "cell_type": "code",
   "execution_count": 4,
   "metadata": {},
   "outputs": [
    {
     "data": {
      "text/html": [
       "<div>\n",
       "<style scoped>\n",
       "    .dataframe tbody tr th:only-of-type {\n",
       "        vertical-align: middle;\n",
       "    }\n",
       "\n",
       "    .dataframe tbody tr th {\n",
       "        vertical-align: top;\n",
       "    }\n",
       "\n",
       "    .dataframe thead th {\n",
       "        text-align: right;\n",
       "    }\n",
       "</style>\n",
       "<table border=\"1\" class=\"dataframe\">\n",
       "  <thead>\n",
       "    <tr style=\"text-align: right;\">\n",
       "      <th></th>\n",
       "      <th>FEC_EVENT</th>\n",
       "      <th>CONNECTION_SPEED</th>\n",
       "      <th>IS_MOBILE_DEVICE</th>\n",
       "      <th>USER_ID</th>\n",
       "    </tr>\n",
       "  </thead>\n",
       "  <tbody>\n",
       "    <tr>\n",
       "      <th>572</th>\n",
       "      <td>2018-01-12 08:43:12</td>\n",
       "      <td>1</td>\n",
       "      <td>1</td>\n",
       "      <td>0</td>\n",
       "    </tr>\n",
       "    <tr>\n",
       "      <th>474</th>\n",
       "      <td>2018-01-12 08:59:19</td>\n",
       "      <td>1</td>\n",
       "      <td>1</td>\n",
       "      <td>0</td>\n",
       "    </tr>\n",
       "    <tr>\n",
       "      <th>315</th>\n",
       "      <td>2018-01-13 12:45:54</td>\n",
       "      <td>1</td>\n",
       "      <td>1</td>\n",
       "      <td>0</td>\n",
       "    </tr>\n",
       "    <tr>\n",
       "      <th>364</th>\n",
       "      <td>2018-01-13 12:50:15</td>\n",
       "      <td>1</td>\n",
       "      <td>1</td>\n",
       "      <td>0</td>\n",
       "    </tr>\n",
       "    <tr>\n",
       "      <th>187</th>\n",
       "      <td>2018-01-15 07:52:33</td>\n",
       "      <td>1</td>\n",
       "      <td>1</td>\n",
       "      <td>0</td>\n",
       "    </tr>\n",
       "  </tbody>\n",
       "</table>\n",
       "</div>"
      ],
      "text/plain": [
       "              FEC_EVENT CONNECTION_SPEED IS_MOBILE_DEVICE  USER_ID\n",
       "572 2018-01-12 08:43:12                1                1        0\n",
       "474 2018-01-12 08:59:19                1                1        0\n",
       "315 2018-01-13 12:45:54                1                1        0\n",
       "364 2018-01-13 12:50:15                1                1        0\n",
       "187 2018-01-15 07:52:33                1                1        0"
      ]
     },
     "execution_count": 4,
     "metadata": {},
     "output_type": "execute_result"
    }
   ],
   "source": [
    "device_data.head()"
   ]
  },
  {
   "cell_type": "code",
   "execution_count": 5,
   "metadata": {},
   "outputs": [
    {
     "data": {
      "text/plain": [
       "FEC_EVENT           datetime64[ns]\n",
       "CONNECTION_SPEED            object\n",
       "IS_MOBILE_DEVICE            object\n",
       "USER_ID                      int64\n",
       "dtype: object"
      ]
     },
     "execution_count": 5,
     "metadata": {},
     "output_type": "execute_result"
    }
   ],
   "source": [
    "device_data.dtypes"
   ]
  },
  {
   "cell_type": "code",
   "execution_count": 6,
   "metadata": {},
   "outputs": [
    {
     "data": {
      "text/plain": [
       "Index(['FEC_EVENT', 'CONNECTION_SPEED', 'IS_MOBILE_DEVICE', 'USER_ID'], dtype='object')"
      ]
     },
     "execution_count": 6,
     "metadata": {},
     "output_type": "execute_result"
    }
   ],
   "source": [
    "device_data.columns"
   ]
  },
  {
   "cell_type": "code",
   "execution_count": 7,
   "metadata": {},
   "outputs": [
    {
     "data": {
      "text/plain": [
       "(22858678, 9)"
      ]
     },
     "execution_count": 7,
     "metadata": {},
     "output_type": "execute_result"
    }
   ],
   "source": [
    "data = pd.read_csv(\n",
    "    \"{}/pageview_with_previous.csv\".format(subfolder), parse_dates=[\"FEC_EVENT\"], dtype=str\n",
    ").sort_values(\n",
    "    [col_user, \"FEC_EVENT\"]\n",
    ")\n",
    "\n",
    "data['USER_ID'] = data['USER_ID'].astype(int)\n",
    "data.shape"
   ]
  },
  {
   "cell_type": "code",
   "execution_count": 8,
   "metadata": {},
   "outputs": [
    {
     "data": {
      "text/html": [
       "<div>\n",
       "<style scoped>\n",
       "    .dataframe tbody tr th:only-of-type {\n",
       "        vertical-align: middle;\n",
       "    }\n",
       "\n",
       "    .dataframe tbody tr th {\n",
       "        vertical-align: top;\n",
       "    }\n",
       "\n",
       "    .dataframe thead th {\n",
       "        text-align: right;\n",
       "    }\n",
       "</style>\n",
       "<table border=\"1\" class=\"dataframe\">\n",
       "  <thead>\n",
       "    <tr style=\"text-align: right;\">\n",
       "      <th></th>\n",
       "      <th>FEC_EVENT</th>\n",
       "      <th>PAGE</th>\n",
       "      <th>CONTENT_CATEGORY</th>\n",
       "      <th>CONTENT_CATEGORY_TOP</th>\n",
       "      <th>CONTENT_CATEGORY_BOTTOM</th>\n",
       "      <th>SITE_ID</th>\n",
       "      <th>ON_SITE_SEARCH_TERM</th>\n",
       "      <th>USER_ID</th>\n",
       "      <th>PAGE_PREVIOUS</th>\n",
       "    </tr>\n",
       "  </thead>\n",
       "  <tbody>\n",
       "    <tr>\n",
       "      <th>0</th>\n",
       "      <td>2018-01-01 09:57:19</td>\n",
       "      <td>14</td>\n",
       "      <td>4</td>\n",
       "      <td>2</td>\n",
       "      <td>4</td>\n",
       "      <td>2</td>\n",
       "      <td>1</td>\n",
       "      <td>0</td>\n",
       "      <td>14_14</td>\n",
       "    </tr>\n",
       "    <tr>\n",
       "      <th>1</th>\n",
       "      <td>2018-01-01 09:57:48</td>\n",
       "      <td>12</td>\n",
       "      <td>4</td>\n",
       "      <td>2</td>\n",
       "      <td>4</td>\n",
       "      <td>2</td>\n",
       "      <td>1</td>\n",
       "      <td>0</td>\n",
       "      <td>12_14</td>\n",
       "    </tr>\n",
       "    <tr>\n",
       "      <th>2</th>\n",
       "      <td>2018-01-01 09:57:48</td>\n",
       "      <td>10</td>\n",
       "      <td>4</td>\n",
       "      <td>2</td>\n",
       "      <td>4</td>\n",
       "      <td>2</td>\n",
       "      <td>1</td>\n",
       "      <td>0</td>\n",
       "      <td>10_12</td>\n",
       "    </tr>\n",
       "    <tr>\n",
       "      <th>3</th>\n",
       "      <td>2018-01-01 09:57:49</td>\n",
       "      <td>11</td>\n",
       "      <td>4</td>\n",
       "      <td>2</td>\n",
       "      <td>4</td>\n",
       "      <td>2</td>\n",
       "      <td>1</td>\n",
       "      <td>0</td>\n",
       "      <td>11_10</td>\n",
       "    </tr>\n",
       "    <tr>\n",
       "      <th>4</th>\n",
       "      <td>2018-01-01 10:02:09</td>\n",
       "      <td>11</td>\n",
       "      <td>4</td>\n",
       "      <td>2</td>\n",
       "      <td>4</td>\n",
       "      <td>2</td>\n",
       "      <td>1</td>\n",
       "      <td>0</td>\n",
       "      <td>11_11</td>\n",
       "    </tr>\n",
       "  </tbody>\n",
       "</table>\n",
       "</div>"
      ],
      "text/plain": [
       "            FEC_EVENT PAGE CONTENT_CATEGORY CONTENT_CATEGORY_TOP  \\\n",
       "0 2018-01-01 09:57:19   14                4                    2   \n",
       "1 2018-01-01 09:57:48   12                4                    2   \n",
       "2 2018-01-01 09:57:48   10                4                    2   \n",
       "3 2018-01-01 09:57:49   11                4                    2   \n",
       "4 2018-01-01 10:02:09   11                4                    2   \n",
       "\n",
       "  CONTENT_CATEGORY_BOTTOM SITE_ID ON_SITE_SEARCH_TERM  USER_ID PAGE_PREVIOUS  \n",
       "0                       4       2                   1        0         14_14  \n",
       "1                       4       2                   1        0         12_14  \n",
       "2                       4       2                   1        0         10_12  \n",
       "3                       4       2                   1        0         11_10  \n",
       "4                       4       2                   1        0         11_11  "
      ]
     },
     "execution_count": 8,
     "metadata": {},
     "output_type": "execute_result"
    }
   ],
   "source": [
    "data.head()"
   ]
  },
  {
   "cell_type": "code",
   "execution_count": 9,
   "metadata": {},
   "outputs": [
    {
     "name": "stdout",
     "output_type": "stream",
     "text": [
      "FEC_EVENT (12393421,)\n",
      "PAGE (1733,)\n",
      "CONTENT_CATEGORY (65,)\n",
      "CONTENT_CATEGORY_TOP (13,)\n",
      "CONTENT_CATEGORY_BOTTOM (65,)\n",
      "SITE_ID (4,)\n",
      "ON_SITE_SEARCH_TERM (294,)\n",
      "USER_ID (11676,)\n",
      "PAGE_PREVIOUS (48516,)\n",
      "////////////////////////////////////////////////////////////////////////////////////////////////////\n",
      "FEC_EVENT (2592597,)\n",
      "CONNECTION_SPEED (4,)\n",
      "IS_MOBILE_DEVICE (2,)\n",
      "USER_ID (11676,)\n"
     ]
    }
   ],
   "source": [
    "for col in data.columns:\n",
    "    print(col, data[col].unique().shape)\n",
    "print(\"/\"*100)\n",
    "for col in device_data.columns:\n",
    "    print(col, device_data[col].unique().shape)"
   ]
  },
  {
   "cell_type": "code",
   "execution_count": 10,
   "metadata": {},
   "outputs": [
    {
     "data": {
      "text/plain": [
       "FEC_EVENT                  datetime64[ns]\n",
       "PAGE                               object\n",
       "CONTENT_CATEGORY                   object\n",
       "CONTENT_CATEGORY_TOP               object\n",
       "CONTENT_CATEGORY_BOTTOM            object\n",
       "SITE_ID                            object\n",
       "ON_SITE_SEARCH_TERM                object\n",
       "USER_ID                             int64\n",
       "PAGE_PREVIOUS                      object\n",
       "dtype: object"
      ]
     },
     "metadata": {},
     "output_type": "display_data"
    },
    {
     "name": "stdout",
     "output_type": "stream",
     "text": [
      "////////////////////////////////////////////////////////////////////////////////////////////////////\n"
     ]
    },
    {
     "data": {
      "text/plain": [
       "FEC_EVENT           datetime64[ns]\n",
       "CONNECTION_SPEED            object\n",
       "IS_MOBILE_DEVICE            object\n",
       "USER_ID                      int64\n",
       "dtype: object"
      ]
     },
     "metadata": {},
     "output_type": "display_data"
    }
   ],
   "source": [
    "display(data.dtypes)\n",
    "print(\"/\"*100)\n",
    "display(device_data.dtypes)"
   ]
  },
  {
   "cell_type": "code",
   "execution_count": 11,
   "metadata": {},
   "outputs": [
    {
     "data": {
      "text/html": [
       "<div>\n",
       "<style scoped>\n",
       "    .dataframe tbody tr th:only-of-type {\n",
       "        vertical-align: middle;\n",
       "    }\n",
       "\n",
       "    .dataframe tbody tr th {\n",
       "        vertical-align: top;\n",
       "    }\n",
       "\n",
       "    .dataframe thead th {\n",
       "        text-align: right;\n",
       "    }\n",
       "</style>\n",
       "<table border=\"1\" class=\"dataframe\">\n",
       "  <thead>\n",
       "    <tr style=\"text-align: right;\">\n",
       "      <th></th>\n",
       "      <th>FEC_EVENT</th>\n",
       "      <th>PAGE</th>\n",
       "      <th>CONTENT_CATEGORY</th>\n",
       "      <th>CONTENT_CATEGORY_TOP</th>\n",
       "      <th>CONTENT_CATEGORY_BOTTOM</th>\n",
       "      <th>SITE_ID</th>\n",
       "      <th>ON_SITE_SEARCH_TERM</th>\n",
       "      <th>USER_ID</th>\n",
       "      <th>PAGE_PREVIOUS</th>\n",
       "    </tr>\n",
       "  </thead>\n",
       "  <tbody>\n",
       "    <tr>\n",
       "      <th>0</th>\n",
       "      <td>2018-01-01 09:57:19</td>\n",
       "      <td>14</td>\n",
       "      <td>4</td>\n",
       "      <td>2</td>\n",
       "      <td>4</td>\n",
       "      <td>2</td>\n",
       "      <td>1</td>\n",
       "      <td>0</td>\n",
       "      <td>14</td>\n",
       "    </tr>\n",
       "    <tr>\n",
       "      <th>1</th>\n",
       "      <td>2018-01-01 09:57:48</td>\n",
       "      <td>12</td>\n",
       "      <td>4</td>\n",
       "      <td>2</td>\n",
       "      <td>4</td>\n",
       "      <td>2</td>\n",
       "      <td>1</td>\n",
       "      <td>0</td>\n",
       "      <td>12</td>\n",
       "    </tr>\n",
       "    <tr>\n",
       "      <th>2</th>\n",
       "      <td>2018-01-01 09:57:48</td>\n",
       "      <td>10</td>\n",
       "      <td>4</td>\n",
       "      <td>2</td>\n",
       "      <td>4</td>\n",
       "      <td>2</td>\n",
       "      <td>1</td>\n",
       "      <td>0</td>\n",
       "      <td>10</td>\n",
       "    </tr>\n",
       "    <tr>\n",
       "      <th>3</th>\n",
       "      <td>2018-01-01 09:57:49</td>\n",
       "      <td>11</td>\n",
       "      <td>4</td>\n",
       "      <td>2</td>\n",
       "      <td>4</td>\n",
       "      <td>2</td>\n",
       "      <td>1</td>\n",
       "      <td>0</td>\n",
       "      <td>11</td>\n",
       "    </tr>\n",
       "    <tr>\n",
       "      <th>4</th>\n",
       "      <td>2018-01-01 10:02:09</td>\n",
       "      <td>11</td>\n",
       "      <td>4</td>\n",
       "      <td>2</td>\n",
       "      <td>4</td>\n",
       "      <td>2</td>\n",
       "      <td>1</td>\n",
       "      <td>0</td>\n",
       "      <td>11</td>\n",
       "    </tr>\n",
       "  </tbody>\n",
       "</table>\n",
       "</div>"
      ],
      "text/plain": [
       "            FEC_EVENT PAGE CONTENT_CATEGORY CONTENT_CATEGORY_TOP  \\\n",
       "0 2018-01-01 09:57:19   14                4                    2   \n",
       "1 2018-01-01 09:57:48   12                4                    2   \n",
       "2 2018-01-01 09:57:48   10                4                    2   \n",
       "3 2018-01-01 09:57:49   11                4                    2   \n",
       "4 2018-01-01 10:02:09   11                4                    2   \n",
       "\n",
       "  CONTENT_CATEGORY_BOTTOM SITE_ID ON_SITE_SEARCH_TERM  USER_ID PAGE_PREVIOUS  \n",
       "0                       4       2                   1        0            14  \n",
       "1                       4       2                   1        0            12  \n",
       "2                       4       2                   1        0            10  \n",
       "3                       4       2                   1        0            11  \n",
       "4                       4       2                   1        0            11  "
      ]
     },
     "execution_count": 11,
     "metadata": {},
     "output_type": "execute_result"
    }
   ],
   "source": [
    "\"\"\"\n",
    "new_data = []\n",
    "for userx in data[col_user].unique():\n",
    "    data_userx = data[data[col_user] == userx].reset_index(drop=True)\n",
    "    shape_data = data_userx.shape[0]\n",
    "    \n",
    "    if shape_data <= 3:\n",
    "        print(\"Only {} hiatorical:  \".format(shape_data), userx)\n",
    "    \n",
    "    \n",
    "    if shape_data > 1:\n",
    "        data_userx['PAGE_PREVIOUS'] = data_userx['PAGE'].shift(1)\n",
    "        \n",
    "        # data_userx['PAGE_PRE_PREVIOUS'] = data_userx['PAGE'].shift(2)\n",
    "        data_userx = data_userx.drop([0],axis=0)\n",
    "\n",
    "        #data_userx['PAGE_PREVIOUS'] = data_userx[['PAGE', 'PAGE_PREVIOUS']].apply(\n",
    "        #    lambda _: str(_.PAGE) + '_' + str(_.PAGE_PREVIOUS), axis=1\n",
    "        #)\n",
    "\n",
    "        #data_userx['PAGE_PRE_PREVIOUS'] = data_userx[['PAGE_PREVIOUS', 'PAGE_PRE_PREVIOUS']].apply(\n",
    "        #    lambda _: str(_.PAGE_PREVIOUS) + '_' + str(_.PAGE_PRE_PREVIOUS), axis=1\n",
    "        #)\n",
    "\n",
    "        new_data.append(data_userx)\n",
    "    else:\n",
    "        print(\"user with only one historical ::: \", userx)\n",
    "\n",
    "data = pd.concat(new_data, axis=0)\n",
    "del new_data\n",
    "print(data.shape)\n",
    "\"\"\"\n",
    "\n",
    "\n",
    "data['PAGE_PREVIOUS'] = data['PAGE_PREVIOUS'].apply(lambda _: _.split('_')[0])\n",
    "data.head()"
   ]
  },
  {
   "cell_type": "code",
   "execution_count": 12,
   "metadata": {},
   "outputs": [
    {
     "data": {
      "text/plain": [
       "(0, 0)"
      ]
     },
     "execution_count": 12,
     "metadata": {},
     "output_type": "execute_result"
    }
   ],
   "source": [
    "data.isnull().sum().sum(), device_data.isnull().sum().sum()"
   ]
  },
  {
   "cell_type": "code",
   "execution_count": 14,
   "metadata": {},
   "outputs": [
    {
     "data": {
      "text/plain": [
       "(0, 0)"
      ]
     },
     "execution_count": 14,
     "metadata": {},
     "output_type": "execute_result"
    }
   ],
   "source": [
    "if 'CONTENT_CATEGORY_BOTTOM' in data.columns:\n",
    "    del data['CONTENT_CATEGORY_BOTTOM']\n",
    "\n",
    "# WEEKDAY\n",
    "data['weekday_view'] = data['FEC_EVENT'].dt.weekday.astype(str)\n",
    "device_data['weekday_device'] = device_data['FEC_EVENT'].dt.weekday\n",
    "\n",
    "# SCHEDULE\n",
    "data['hour'] = data['FEC_EVENT'].dt.hour\n",
    "device_data['hour'] = device_data['FEC_EVENT'].dt.hour\n",
    "data['schedule_view'] = data['hour'].apply(get_schedule)\n",
    "device_data['schedule_device'] = device_data['hour'].apply(get_schedule)\n",
    "\n",
    "# DAYS OF MONTH\n",
    "data['day'] = data['FEC_EVENT'].dt.day\n",
    "device_data['day'] = device_data['FEC_EVENT'].dt.day\n",
    "data['day_view'] = data['day'].apply(get_day_cut)\n",
    "device_data['day_device'] = device_data['day'].apply(get_day_cut)\n",
    "\n",
    "del data['hour']\n",
    "del device_data['hour']\n",
    "del data['day']\n",
    "del device_data['day']\n",
    "\n",
    "data.isnull().sum().sum(), device_data.isnull().sum().sum()"
   ]
  },
  {
   "cell_type": "code",
   "execution_count": 15,
   "metadata": {},
   "outputs": [
    {
     "data": {
      "text/plain": [
       "(['PAGE_PREVIOUS',\n",
       "  'PAGE',\n",
       "  'CONTENT_CATEGORY',\n",
       "  'CONTENT_CATEGORY_TOP',\n",
       "  'SITE_ID',\n",
       "  'ON_SITE_SEARCH_TERM',\n",
       "  'weekday_view',\n",
       "  'schedule_view',\n",
       "  'day_view'],\n",
       " ['CONNECTION_SPEED',\n",
       "  'IS_MOBILE_DEVICE',\n",
       "  'weekday_device',\n",
       "  'schedule_device',\n",
       "  'day_device'])"
      ]
     },
     "execution_count": 15,
     "metadata": {},
     "output_type": "execute_result"
    }
   ],
   "source": [
    "cols = [\n",
    "  'PAGE_PREVIOUS',\n",
    "  'PAGE',\n",
    "  'CONTENT_CATEGORY',\n",
    "  'CONTENT_CATEGORY_TOP',\n",
    "  'SITE_ID',\n",
    "  'ON_SITE_SEARCH_TERM',\n",
    "  'weekday_view',\n",
    "  'schedule_view',\n",
    "  'day_view'\n",
    "]\n",
    "\n",
    "cols_device =  [\n",
    "  'CONNECTION_SPEED',\n",
    "  'IS_MOBILE_DEVICE',\n",
    "  'weekday_device',\n",
    "  'schedule_device',\n",
    "  'day_device'\n",
    "]\n",
    "\n",
    "cols, cols_device"
   ]
  },
  {
   "cell_type": "code",
   "execution_count": 16,
   "metadata": {},
   "outputs": [
    {
     "name": "stdout",
     "output_type": "stream",
     "text": [
      "-|-> PAGE_PREVIOUS\n",
      "-|-> PAGE\n",
      "-|-> CONTENT_CATEGORY\n",
      "-|-> CONTENT_CATEGORY_TOP\n",
      "-|-> SITE_ID\n",
      "-|-> ON_SITE_SEARCH_TERM\n",
      "-|-> weekday_view\n",
      "-|-> schedule_view\n",
      "-|-> day_view\n",
      "////////////////////////////////////////////////////////////////////////////////////////////////////\n",
      "-/-> CONNECTION_SPEED\n",
      "-/-> IS_MOBILE_DEVICE\n",
      "-/-> weekday_device\n",
      "-/-> schedule_device\n",
      "-/-> day_device\n"
     ]
    },
    {
     "data": {
      "text/plain": [
       "((11676, 3884), 0)"
      ]
     },
     "execution_count": 16,
     "metadata": {},
     "output_type": "execute_result"
    }
   ],
   "source": [
    "X_test = []\n",
    "\n",
    "for c in cols:\n",
    "    print(\"-|->\", c)\n",
    "    temp = pd.crosstab(data.USER_ID, data[c]).sort_index()\n",
    "    temp.columns = [c + \"__\" + str(v) for v in temp.columns]\n",
    "    X_test.append(temp.apply(lambda x: x / x.sum() if x.sum() > 0 else x, axis=1))\n",
    "    del temp\n",
    "\n",
    "print(\"/\"*100)\n",
    "\n",
    "for c in cols_device:\n",
    "    print(\"-/->\", c)\n",
    "    temp = pd.crosstab(device_data.USER_ID, device_data[c]).sort_index()\n",
    "    temp.columns = [c + \"__\" + str(v) for v in temp.columns]\n",
    "    X_test.append(temp.apply(lambda x: x / x.sum(), axis=1))\n",
    "    del temp\n",
    "    \n",
    "X_test = pd.concat(X_test, axis=1)\n",
    "\n",
    "X_test.shape, X_test.isnull().sum().sum()"
   ]
  },
  {
   "cell_type": "code",
   "execution_count": 17,
   "metadata": {},
   "outputs": [
    {
     "name": "stdout",
     "output_type": "stream",
     "text": [
      "--> PAGE_PREVIOUS\n",
      "--> PAGE\n",
      "--> CONTENT_CATEGORY\n",
      "--> CONTENT_CATEGORY_TOP\n",
      "--> SITE_ID\n",
      "--> ON_SITE_SEARCH_TERM\n",
      "--> weekday_view\n",
      "--> schedule_view\n",
      "--> day_view\n",
      "--> CONNECTION_SPEED\n",
      "--> IS_MOBILE_DEVICE\n",
      "--> weekday_device\n",
      "--> schedule_device\n",
      "--> day_device\n",
      "(11528, 3564) (11528, 25)\n"
     ]
    },
    {
     "data": {
      "text/plain": [
       "(11527, 3588)"
      ]
     },
     "execution_count": 17,
     "metadata": {},
     "output_type": "execute_result"
    }
   ],
   "source": [
    "trimestre_data = data[data.FEC_EVENT.dt.month < 10]\n",
    "trimestre_data_device = device_data[device_data.FEC_EVENT.dt.month < 10]\n",
    "\n",
    "X_train = []\n",
    "X_train_device = []\n",
    "\n",
    "for c in cols:\n",
    "    print(\"-->\", c)\n",
    "    temp = pd.crosstab(trimestre_data.USER_ID, trimestre_data[c]).sort_index()\n",
    "    temp.columns = [c + \"__\" + str(v) for v in temp.columns]\n",
    "    X_train.append(temp.apply(lambda x: x / x.sum(), axis=1))\n",
    "    del temp\n",
    "\n",
    "for c in cols_device:\n",
    "    print(\"-->\", c)\n",
    "    temp = pd.crosstab(trimestre_data_device.USER_ID, trimestre_data_device[c]).sort_index()\n",
    "    temp.columns = [c + \"__\" + str(v) for v in temp.columns]\n",
    "    X_train_device.append(temp.apply(lambda x: x / x.sum(), axis=1))\n",
    "    del temp\n",
    "    \n",
    "X_train = pd.concat(X_train, axis=1)\n",
    "X_train_device = pd.concat(X_train_device, axis=1)\n",
    "\n",
    "X_train[col_user] = X_train.index\n",
    "del X_train.index.name\n",
    "X_train_device[col_user] = X_train_device.index\n",
    "del X_train_device.index.name\n",
    "print(X_train.shape, X_train_device.shape)\n",
    "\n",
    "X_train = pd.merge(X_train, X_train_device, on=col_user, how='inner')\n",
    "\n",
    "del X_train_device\n",
    "del trimestre_data\n",
    "del trimestre_data_device\n",
    "del data\n",
    "\n",
    "X_train.shape"
   ]
  },
  {
   "cell_type": "code",
   "execution_count": 18,
   "metadata": {},
   "outputs": [
    {
     "data": {
      "text/plain": [
       "(0, (11527, 3588), (11676, 3884))"
      ]
     },
     "execution_count": 18,
     "metadata": {},
     "output_type": "execute_result"
    }
   ],
   "source": [
    "X_train.isnull().sum().sum(), X_train.shape, X_test.shape"
   ]
  },
  {
   "cell_type": "code",
   "execution_count": 19,
   "metadata": {},
   "outputs": [
    {
     "data": {
      "text/plain": [
       "(['schedule_device__antes_del_trabajo',\n",
       "  'schedule_device__luego_del_trabajo',\n",
       "  'schedule_device__madrugada',\n",
       "  'schedule_device__trabajo_manana',\n",
       "  'schedule_device__trabajo_tarde',\n",
       "  'day_device__18_24',\n",
       "  'day_device__7_12',\n",
       "  'day_device__fin_de_mes',\n",
       "  'day_device__inicio_mes',\n",
       "  'day_device__quincena'],\n",
       " ['schedule_device__antes_del_trabajo',\n",
       "  'schedule_device__luego_del_trabajo',\n",
       "  'schedule_device__madrugada',\n",
       "  'schedule_device__trabajo_manana',\n",
       "  'schedule_device__trabajo_tarde',\n",
       "  'day_device__18_24',\n",
       "  'day_device__7_12',\n",
       "  'day_device__fin_de_mes',\n",
       "  'day_device__inicio_mes',\n",
       "  'day_device__quincena'])"
      ]
     },
     "execution_count": 19,
     "metadata": {},
     "output_type": "execute_result"
    }
   ],
   "source": [
    "list(X_test.columns[-10:]), list(X_train.columns[-10:])"
   ]
  },
  {
   "cell_type": "code",
   "execution_count": 20,
   "metadata": {},
   "outputs": [
    {
     "name": "stdout",
     "output_type": "stream",
     "text": [
      "features:  3587\n"
     ]
    }
   ],
   "source": [
    "features = list(set(X_train.columns).intersection(set(X_test.columns)))\n",
    "print(\"features: \", len(features))\n",
    "X_train = X_train[features]\n",
    "X_test = X_test[features]"
   ]
  },
  {
   "cell_type": "code",
   "execution_count": 21,
   "metadata": {},
   "outputs": [],
   "source": [
    "y_prev = pd.read_csv(\"data/conversiones.csv\")\n",
    "y_train = pd.Series(0, index=X_train.index)\n",
    "idx = set(y_prev[y_prev.mes >= 10].USER_ID.unique()).intersection(\n",
    "        set(X_train.index))\n",
    "y_train.loc[list(idx)] = 1"
   ]
  },
  {
   "cell_type": "code",
   "execution_count": 22,
   "metadata": {},
   "outputs": [
    {
     "data": {
      "text/plain": [
       "((11527, 3587), (11676, 3587), (11527,))"
      ]
     },
     "execution_count": 22,
     "metadata": {},
     "output_type": "execute_result"
    }
   ],
   "source": [
    "X_train.shape, X_test.shape, y_train.shape"
   ]
  },
  {
   "cell_type": "code",
   "execution_count": null,
   "metadata": {},
   "outputs": [],
   "source": []
  },
  {
   "cell_type": "code",
   "execution_count": 23,
   "metadata": {},
   "outputs": [
    {
     "name": "stdout",
     "output_type": "stream",
     "text": [
      "USER_ID (1086,)\n",
      "mes (12,)\n",
      "trimestre (4,)\n"
     ]
    },
    {
     "data": {
      "text/html": [
       "<div>\n",
       "<style scoped>\n",
       "    .dataframe tbody tr th:only-of-type {\n",
       "        vertical-align: middle;\n",
       "    }\n",
       "\n",
       "    .dataframe tbody tr th {\n",
       "        vertical-align: top;\n",
       "    }\n",
       "\n",
       "    .dataframe thead th {\n",
       "        text-align: right;\n",
       "    }\n",
       "</style>\n",
       "<table border=\"1\" class=\"dataframe\">\n",
       "  <thead>\n",
       "    <tr style=\"text-align: right;\">\n",
       "      <th></th>\n",
       "      <th>USER_ID</th>\n",
       "      <th>trimestre</th>\n",
       "    </tr>\n",
       "  </thead>\n",
       "  <tbody>\n",
       "    <tr>\n",
       "      <th>0</th>\n",
       "      <td>13</td>\n",
       "      <td>3</td>\n",
       "    </tr>\n",
       "    <tr>\n",
       "      <th>1</th>\n",
       "      <td>22</td>\n",
       "      <td>4</td>\n",
       "    </tr>\n",
       "    <tr>\n",
       "      <th>2</th>\n",
       "      <td>40</td>\n",
       "      <td>1</td>\n",
       "    </tr>\n",
       "    <tr>\n",
       "      <th>3</th>\n",
       "      <td>57</td>\n",
       "      <td>2</td>\n",
       "    </tr>\n",
       "    <tr>\n",
       "      <th>4</th>\n",
       "      <td>92</td>\n",
       "      <td>1</td>\n",
       "    </tr>\n",
       "  </tbody>\n",
       "</table>\n",
       "</div>"
      ],
      "text/plain": [
       "   USER_ID  trimestre\n",
       "0       13          3\n",
       "1       22          4\n",
       "2       40          1\n",
       "3       57          2\n",
       "4       92          1"
      ]
     },
     "execution_count": 23,
     "metadata": {},
     "output_type": "execute_result"
    }
   ],
   "source": [
    "convertion = pd.read_csv(\"{}/conversiones.csv\".format(subfolder)).drop_duplicates()[['USER_ID','mes']].sort_values(['USER_ID','mes']).reset_index(drop=True)\n",
    "for col in convertion.columns:\n",
    "    convertion[col] = convertion[col].astype(int)\n",
    "\n",
    "convertion.dtypes\n",
    "def get_trimestre(val):\n",
    "    if val <= 3:\n",
    "        return 1\n",
    "    elif val <= 6:\n",
    "        return 2\n",
    "    elif val <= 9:\n",
    "        return 3\n",
    "    elif val <= 12:\n",
    "        return 4\n",
    "    return 0\n",
    "\n",
    "convertion['trimestre'] = convertion['mes'].apply(get_trimestre)\n",
    "for col in convertion.columns:\n",
    "    print(col, convertion[col].unique().shape)\n",
    "\n",
    "del convertion['mes']\n",
    "convertion.head()\n"
   ]
  },
  {
   "cell_type": "code",
   "execution_count": 24,
   "metadata": {},
   "outputs": [
    {
     "name": "stdout",
     "output_type": "stream",
     "text": [
      "11676\n",
      "X_test_intern post::  (11676, 1)\n",
      "X_test_intern post::  (11676, 1)\n",
      "X_test_intern post::  (11676, 1)\n",
      "X_test_intern post::  (11676, 1)\n"
     ]
    },
    {
     "data": {
      "text/html": [
       "<div>\n",
       "<style scoped>\n",
       "    .dataframe tbody tr th:only-of-type {\n",
       "        vertical-align: middle;\n",
       "    }\n",
       "\n",
       "    .dataframe tbody tr th {\n",
       "        vertical-align: top;\n",
       "    }\n",
       "\n",
       "    .dataframe thead th {\n",
       "        text-align: right;\n",
       "    }\n",
       "</style>\n",
       "<table border=\"1\" class=\"dataframe\">\n",
       "  <thead>\n",
       "    <tr style=\"text-align: right;\">\n",
       "      <th></th>\n",
       "      <th>TARGET_1</th>\n",
       "      <th>TARGET_2</th>\n",
       "      <th>TARGET_3</th>\n",
       "      <th>TARGET_4</th>\n",
       "    </tr>\n",
       "  </thead>\n",
       "  <tbody>\n",
       "    <tr>\n",
       "      <th>0</th>\n",
       "      <td>0</td>\n",
       "      <td>0</td>\n",
       "      <td>0</td>\n",
       "      <td>0</td>\n",
       "    </tr>\n",
       "    <tr>\n",
       "      <th>1</th>\n",
       "      <td>0</td>\n",
       "      <td>0</td>\n",
       "      <td>0</td>\n",
       "      <td>0</td>\n",
       "    </tr>\n",
       "    <tr>\n",
       "      <th>2</th>\n",
       "      <td>0</td>\n",
       "      <td>0</td>\n",
       "      <td>0</td>\n",
       "      <td>0</td>\n",
       "    </tr>\n",
       "    <tr>\n",
       "      <th>3</th>\n",
       "      <td>0</td>\n",
       "      <td>0</td>\n",
       "      <td>0</td>\n",
       "      <td>0</td>\n",
       "    </tr>\n",
       "    <tr>\n",
       "      <th>4</th>\n",
       "      <td>0</td>\n",
       "      <td>0</td>\n",
       "      <td>0</td>\n",
       "      <td>0</td>\n",
       "    </tr>\n",
       "    <tr>\n",
       "      <th>5</th>\n",
       "      <td>0</td>\n",
       "      <td>0</td>\n",
       "      <td>0</td>\n",
       "      <td>0</td>\n",
       "    </tr>\n",
       "    <tr>\n",
       "      <th>6</th>\n",
       "      <td>0</td>\n",
       "      <td>0</td>\n",
       "      <td>0</td>\n",
       "      <td>0</td>\n",
       "    </tr>\n",
       "    <tr>\n",
       "      <th>7</th>\n",
       "      <td>0</td>\n",
       "      <td>0</td>\n",
       "      <td>0</td>\n",
       "      <td>0</td>\n",
       "    </tr>\n",
       "    <tr>\n",
       "      <th>8</th>\n",
       "      <td>0</td>\n",
       "      <td>0</td>\n",
       "      <td>0</td>\n",
       "      <td>0</td>\n",
       "    </tr>\n",
       "    <tr>\n",
       "      <th>9</th>\n",
       "      <td>0</td>\n",
       "      <td>0</td>\n",
       "      <td>0</td>\n",
       "      <td>0</td>\n",
       "    </tr>\n",
       "    <tr>\n",
       "      <th>10</th>\n",
       "      <td>0</td>\n",
       "      <td>0</td>\n",
       "      <td>0</td>\n",
       "      <td>0</td>\n",
       "    </tr>\n",
       "    <tr>\n",
       "      <th>11</th>\n",
       "      <td>0</td>\n",
       "      <td>0</td>\n",
       "      <td>0</td>\n",
       "      <td>0</td>\n",
       "    </tr>\n",
       "    <tr>\n",
       "      <th>12</th>\n",
       "      <td>0</td>\n",
       "      <td>0</td>\n",
       "      <td>0</td>\n",
       "      <td>0</td>\n",
       "    </tr>\n",
       "    <tr>\n",
       "      <th>13</th>\n",
       "      <td>0</td>\n",
       "      <td>0</td>\n",
       "      <td>1</td>\n",
       "      <td>0</td>\n",
       "    </tr>\n",
       "    <tr>\n",
       "      <th>14</th>\n",
       "      <td>0</td>\n",
       "      <td>0</td>\n",
       "      <td>0</td>\n",
       "      <td>0</td>\n",
       "    </tr>\n",
       "  </tbody>\n",
       "</table>\n",
       "</div>"
      ],
      "text/plain": [
       "    TARGET_1  TARGET_2  TARGET_3  TARGET_4\n",
       "0          0         0         0         0\n",
       "1          0         0         0         0\n",
       "2          0         0         0         0\n",
       "3          0         0         0         0\n",
       "4          0         0         0         0\n",
       "5          0         0         0         0\n",
       "6          0         0         0         0\n",
       "7          0         0         0         0\n",
       "8          0         0         0         0\n",
       "9          0         0         0         0\n",
       "10         0         0         0         0\n",
       "11         0         0         0         0\n",
       "12         0         0         0         0\n",
       "13         0         0         1         0\n",
       "14         0         0         0         0"
      ]
     },
     "metadata": {},
     "output_type": "display_data"
    }
   ],
   "source": [
    "col_user = 'USER_ID'\n",
    "pageview = pd.read_csv(\"{}/pageviews.csv\".format(subfolder), parse_dates=[\"FEC_EVENT\"]).sort_values([col_user, \"FEC_EVENT\"])\n",
    "all_user = set(list(pageview[col_user].unique()))\n",
    "print(len(all_user))\n",
    "del pageview\n",
    "\n",
    "data_conv = []\n",
    "\n",
    "for val in sorted(list(convertion['trimestre'].unique())):\n",
    "    col_target = 'TARGET_{}'.format(val)\n",
    "    conv_trim = convertion[convertion['trimestre'] == val].drop_duplicates().reset_index(drop=True)\n",
    "    unique_users_conv = set(list(conv_trim[col_user].unique()))\n",
    "    conv_trim.index = conv_trim[col_user]\n",
    "    \n",
    "    conv_trim[col_target] = 1\n",
    "    \n",
    "    del conv_trim.index.name\n",
    "    del conv_trim[col_user]\n",
    "    del conv_trim['trimestre']\n",
    "\n",
    "    temp0 = pd.DataFrame(0, index=list(all_user - unique_users_conv), columns=[col_target])\n",
    "    X_test_intern = pd.concat([conv_trim, temp0]).sort_index()\n",
    "\n",
    "    print(\"X_test_intern post:: \", X_test_intern.shape)\n",
    "    \n",
    "    data_conv.append(X_test_intern.copy())\n",
    "    del X_test_intern\n",
    "    del conv_trim\n",
    "\n",
    "\n",
    "data_conv = pd.concat(data_conv, axis=1)\n",
    "del convertion\n",
    "\n",
    "display(data_conv.head(15))"
   ]
  },
  {
   "cell_type": "code",
   "execution_count": 25,
   "metadata": {},
   "outputs": [],
   "source": [
    "\n",
    "current_col = 'current_convertion'\n",
    "previous_col = 'previous_convertion'\n",
    "before_previous_col = 'before_previous_convertion'\n",
    "\n",
    "X_train[current_col] = data_conv['TARGET_3']\n",
    "X_train[previous_col] = data_conv['TARGET_2']\n",
    "X_train[before_previous_col] = data_conv['TARGET_1']\n",
    "\n",
    "X_test[current_col] = data_conv['TARGET_4']\n",
    "X_test[previous_col] = data_conv['TARGET_3']\n",
    "X_test[before_previous_col] = data_conv['TARGET_2']\n",
    "\n",
    "del data_conv"
   ]
  },
  {
   "cell_type": "code",
   "execution_count": 26,
   "metadata": {},
   "outputs": [
    {
     "data": {
      "text/plain": [
       "((11527, 3590), (11676, 3590), (11527,))"
      ]
     },
     "execution_count": 26,
     "metadata": {},
     "output_type": "execute_result"
    }
   ],
   "source": [
    "X_train.shape, X_test.shape, y_train.shape"
   ]
  },
  {
   "cell_type": "code",
   "execution_count": 27,
   "metadata": {},
   "outputs": [
    {
     "data": {
      "text/plain": [
       "[299, 598, 897, 1196, 1495, 1794, 2093, 2392, 2691]"
      ]
     },
     "execution_count": 27,
     "metadata": {},
     "output_type": "execute_result"
    }
   ],
   "source": [
    "from sklearn.feature_selection import SelectKBest, chi2, f_classif\n",
    "num_cols = [_*int(X_train.shape[1] / 12) for _ in range(1,12)]\n",
    "num_cols[:-2]"
   ]
  },
  {
   "cell_type": "code",
   "execution_count": 28,
   "metadata": {},
   "outputs": [
    {
     "name": "stdout",
     "output_type": "stream",
     "text": [
      "(11527, 299) (11676, 299) (11527,)\n",
      "(11527, 598) (11676, 598) (11527,)\n",
      "(11527, 897) (11676, 897) (11527,)\n",
      "(11527, 1196) (11676, 1196) (11527,)\n",
      "(11527, 1495) (11676, 1495) (11527,)\n",
      "(11527, 1794) (11676, 1794) (11527,)\n",
      "(11527, 2093) (11676, 2093) (11527,)\n",
      "(11527, 2392) (11676, 2392) (11527,)\n",
      "(11527, 2691) (11676, 2691) (11527,)\n"
     ]
    }
   ],
   "source": [
    "index_test = X_test.index\n",
    "prediction_group = []\n",
    "\n",
    "for num_col in num_cols[:-2]:\n",
    "    sb = SelectKBest(f_classif, num_col)\n",
    "    \n",
    "    X_train_part = sb.fit_transform(X_train, y_train)\n",
    "    X_test_part = sb.transform(X_test)\n",
    "    print(X_train_part.shape, X_test_part.shape, y_train.shape)\n",
    "    \n",
    "    prediction_group.append(\n",
    "        (X_train_part, X_test_part)\n",
    "    )"
   ]
  },
  {
   "cell_type": "code",
   "execution_count": 29,
   "metadata": {},
   "outputs": [
    {
     "data": {
      "text/plain": [
       "(11138, 389)"
      ]
     },
     "execution_count": 29,
     "metadata": {},
     "output_type": "execute_result"
    }
   ],
   "source": [
    "y_train[y_train == 0].shape[0], y_train[y_train == 1].shape[0] "
   ]
  },
  {
   "cell_type": "code",
   "execution_count": 30,
   "metadata": {},
   "outputs": [
    {
     "data": {
      "text/plain": [
       "0.03492548033758305"
      ]
     },
     "execution_count": 30,
     "metadata": {},
     "output_type": "execute_result"
    }
   ],
   "source": [
    "ratio_pos = np.sum(y_train == 1) / np.sum(y_train == 0)\n",
    "ratio_pos"
   ]
  },
  {
   "cell_type": "code",
   "execution_count": 31,
   "metadata": {},
   "outputs": [
    {
     "name": "stdout",
     "output_type": "stream",
     "text": [
      "(11527, 299) (11527,) (11676, 299)\n",
      "(11527, 598) (11527,) (11676, 598)\n",
      "(11527, 897) (11527,) (11676, 897)\n",
      "(11527, 1196) (11527,) (11676, 1196)\n",
      "(11527, 1495) (11527,) (11676, 1495)\n",
      "(11527, 1794) (11527,) (11676, 1794)\n",
      "(11527, 2093) (11527,) (11676, 2093)\n",
      "(11527, 2392) (11527,) (11676, 2392)\n",
      "(11527, 2691) (11527,) (11676, 2691)\n"
     ]
    }
   ],
   "source": [
    "for X_train_part, X_test_part in prediction_group:\n",
    "    print(X_train_part.shape, y_train.shape, X_test_part.shape)"
   ]
  },
  {
   "cell_type": "code",
   "execution_count": null,
   "metadata": {},
   "outputs": [],
   "source": []
  },
  {
   "cell_type": "code",
   "execution_count": null,
   "metadata": {},
   "outputs": [],
   "source": []
  },
  {
   "cell_type": "code",
   "execution_count": null,
   "metadata": {},
   "outputs": [],
   "source": []
  },
  {
   "cell_type": "code",
   "execution_count": 32,
   "metadata": {},
   "outputs": [],
   "source": [
    "from lightgbm import LGBMClassifier\n",
    "from sklearn import model_selection\n",
    "from sklearn.metrics import roc_auc_score\n",
    "from sklearn.model_selection import StratifiedShuffleSplit, StratifiedKFold, TimeSeriesSplit\n",
    "from sklearn.model_selection import GridSearchCV\n",
    "import xgboost as xgb"
   ]
  },
  {
   "cell_type": "code",
   "execution_count": 35,
   "metadata": {},
   "outputs": [
    {
     "name": "stdout",
     "output_type": "stream",
     "text": [
      "================================================== (11527, 299) (11676, 299)\n",
      "Fitting 10 folds for each of 96 candidates, totalling 960 fits\n"
     ]
    },
    {
     "name": "stderr",
     "output_type": "stream",
     "text": [
      "[Parallel(n_jobs=4)]: Using backend LokyBackend with 4 concurrent workers.\n",
      "[Parallel(n_jobs=4)]: Done  42 tasks      | elapsed:  6.4min\n",
      "[Parallel(n_jobs=4)]: Done 192 tasks      | elapsed: 27.5min\n",
      "[Parallel(n_jobs=4)]: Done 442 tasks      | elapsed: 64.3min\n",
      "[Parallel(n_jobs=4)]: Done 792 tasks      | elapsed: 113.6min\n",
      "[Parallel(n_jobs=4)]: Done 960 out of 960 | elapsed: 140.1min finished\n"
     ]
    },
    {
     "name": "stdout",
     "output_type": "stream",
     "text": [
      "0.8469586765518159 {'bagging_fraction': 0.95, 'boosting': 'dart', 'feature_fraction': 0.1, 'is_unbalance': True, 'learning_rate': 0.025, 'max_depth': 55, 'metric': 'auc', 'min_gain_to_split': 1, 'n_estimators': 500, 'skip_drop': 0.45, 'tree_learner': 'serial', 'xgboost_dart_mode': False}\n",
      "####################################################################################################\n",
      "================================================== (11527, 598) (11676, 598)\n",
      "Fitting 10 folds for each of 96 candidates, totalling 960 fits\n"
     ]
    },
    {
     "name": "stderr",
     "output_type": "stream",
     "text": [
      "[Parallel(n_jobs=4)]: Using backend LokyBackend with 4 concurrent workers.\n",
      "[Parallel(n_jobs=4)]: Done  42 tasks      | elapsed:  9.0min\n",
      "[Parallel(n_jobs=4)]: Done 192 tasks      | elapsed: 39.1min\n",
      "[Parallel(n_jobs=4)]: Done 442 tasks      | elapsed: 92.1min\n",
      "[Parallel(n_jobs=4)]: Done 792 tasks      | elapsed: 162.7min\n",
      "[Parallel(n_jobs=4)]: Done 960 out of 960 | elapsed: 202.3min finished\n"
     ]
    },
    {
     "name": "stdout",
     "output_type": "stream",
     "text": [
      "0.8503630425760671 {'bagging_fraction': 0.95, 'boosting': 'dart', 'feature_fraction': 0.05, 'is_unbalance': True, 'learning_rate': 0.025, 'max_depth': 55, 'metric': 'auc', 'min_gain_to_split': 1, 'n_estimators': 500, 'skip_drop': 0.45, 'tree_learner': 'serial', 'xgboost_dart_mode': False}\n",
      "####################################################################################################\n",
      "================================================== (11527, 897) (11676, 897)\n",
      "Fitting 10 folds for each of 96 candidates, totalling 960 fits\n"
     ]
    },
    {
     "name": "stderr",
     "output_type": "stream",
     "text": [
      "[Parallel(n_jobs=4)]: Using backend LokyBackend with 4 concurrent workers.\n",
      "[Parallel(n_jobs=4)]: Done  42 tasks      | elapsed: 10.8min\n",
      "[Parallel(n_jobs=4)]: Done 192 tasks      | elapsed: 46.9min\n",
      "[Parallel(n_jobs=4)]: Done 442 tasks      | elapsed: 110.8min\n",
      "[Parallel(n_jobs=4)]: Done 792 tasks      | elapsed: 195.2min\n",
      "[Parallel(n_jobs=4)]: Done 960 out of 960 | elapsed: 243.1min finished\n"
     ]
    },
    {
     "name": "stdout",
     "output_type": "stream",
     "text": [
      "0.849574357074766 {'bagging_fraction': 0.95, 'boosting': 'dart', 'feature_fraction': 0.05, 'is_unbalance': True, 'learning_rate': 0.025, 'max_depth': 55, 'metric': 'auc', 'min_gain_to_split': 1, 'n_estimators': 500, 'skip_drop': 0.5, 'tree_learner': 'serial', 'xgboost_dart_mode': False}\n",
      "####################################################################################################\n",
      "================================================== (11527, 1196) (11676, 1196)\n",
      "Fitting 10 folds for each of 96 candidates, totalling 960 fits\n"
     ]
    },
    {
     "name": "stderr",
     "output_type": "stream",
     "text": [
      "[Parallel(n_jobs=4)]: Using backend LokyBackend with 4 concurrent workers.\n",
      "[Parallel(n_jobs=4)]: Done  42 tasks      | elapsed: 12.2min\n",
      "[Parallel(n_jobs=4)]: Done 192 tasks      | elapsed: 52.6min\n",
      "[Parallel(n_jobs=4)]: Done 442 tasks      | elapsed: 123.5min\n",
      "[Parallel(n_jobs=4)]: Done 792 tasks      | elapsed: 227.8min\n",
      "[Parallel(n_jobs=4)]: Done 960 out of 960 | elapsed: 312.7min finished\n"
     ]
    },
    {
     "name": "stdout",
     "output_type": "stream",
     "text": [
      "0.8490755891027538 {'bagging_fraction': 0.95, 'boosting': 'dart', 'feature_fraction': 0.05, 'is_unbalance': True, 'learning_rate': 0.025, 'max_depth': 55, 'metric': 'auc', 'min_gain_to_split': 1, 'n_estimators': 500, 'skip_drop': 0.5, 'tree_learner': 'serial', 'xgboost_dart_mode': False}\n",
      "####################################################################################################\n",
      "================================================== (11527, 1495) (11676, 1495)\n",
      "Fitting 10 folds for each of 96 candidates, totalling 960 fits\n"
     ]
    },
    {
     "name": "stderr",
     "output_type": "stream",
     "text": [
      "[Parallel(n_jobs=4)]: Using backend LokyBackend with 4 concurrent workers.\n",
      "[Parallel(n_jobs=4)]: Done  42 tasks      | elapsed: 20.3min\n",
      "[Parallel(n_jobs=4)]: Done 192 tasks      | elapsed: 63.5min\n",
      "[Parallel(n_jobs=4)]: Done 442 tasks      | elapsed: 145.2min\n",
      "[Parallel(n_jobs=4)]: Done 792 tasks      | elapsed: 244.4min\n",
      "[Parallel(n_jobs=4)]: Done 960 out of 960 | elapsed: 300.2min finished\n"
     ]
    },
    {
     "name": "stdout",
     "output_type": "stream",
     "text": [
      "0.8477170888754343 {'bagging_fraction': 0.95, 'boosting': 'dart', 'feature_fraction': 0.1, 'is_unbalance': True, 'learning_rate': 0.025, 'max_depth': 55, 'metric': 'auc', 'min_gain_to_split': 1, 'n_estimators': 500, 'skip_drop': 0.5, 'tree_learner': 'serial', 'xgboost_dart_mode': False}\n",
      "####################################################################################################\n",
      "================================================== (11527, 1794) (11676, 1794)\n",
      "Fitting 10 folds for each of 96 candidates, totalling 960 fits\n"
     ]
    },
    {
     "name": "stderr",
     "output_type": "stream",
     "text": [
      "[Parallel(n_jobs=4)]: Using backend LokyBackend with 4 concurrent workers.\n",
      "[Parallel(n_jobs=4)]: Done  42 tasks      | elapsed: 13.6min\n",
      "[Parallel(n_jobs=4)]: Done 192 tasks      | elapsed: 58.5min\n",
      "[Parallel(n_jobs=4)]: Done 442 tasks      | elapsed: 137.3min\n",
      "[Parallel(n_jobs=4)]: Done 792 tasks      | elapsed: 240.0min\n",
      "[Parallel(n_jobs=4)]: Done 960 out of 960 | elapsed: 298.9min finished\n"
     ]
    },
    {
     "name": "stdout",
     "output_type": "stream",
     "text": [
      "0.8502420678749328 {'bagging_fraction': 0.95, 'boosting': 'dart', 'feature_fraction': 0.1, 'is_unbalance': True, 'learning_rate': 0.035, 'max_depth': 55, 'metric': 'auc', 'min_gain_to_split': 1, 'n_estimators': 500, 'skip_drop': 0.45, 'tree_learner': 'serial', 'xgboost_dart_mode': False}\n",
      "####################################################################################################\n",
      "================================================== (11527, 2093) (11676, 2093)\n",
      "Fitting 10 folds for each of 96 candidates, totalling 960 fits\n"
     ]
    },
    {
     "name": "stderr",
     "output_type": "stream",
     "text": [
      "[Parallel(n_jobs=4)]: Using backend LokyBackend with 4 concurrent workers.\n",
      "[Parallel(n_jobs=4)]: Done  42 tasks      | elapsed: 14.1min\n",
      "[Parallel(n_jobs=4)]: Done 192 tasks      | elapsed: 60.1min\n",
      "[Parallel(n_jobs=4)]: Done 442 tasks      | elapsed: 141.0min\n",
      "[Parallel(n_jobs=4)]: Done 792 tasks      | elapsed: 247.7min\n",
      "[Parallel(n_jobs=4)]: Done 960 out of 960 | elapsed: 307.9min finished\n"
     ]
    },
    {
     "name": "stdout",
     "output_type": "stream",
     "text": [
      "0.8470547355900317 {'bagging_fraction': 0.95, 'boosting': 'dart', 'feature_fraction': 0.1, 'is_unbalance': True, 'learning_rate': 0.025, 'max_depth': 55, 'metric': 'auc', 'min_gain_to_split': 1, 'n_estimators': 500, 'skip_drop': 0.5, 'tree_learner': 'serial', 'xgboost_dart_mode': False}\n",
      "####################################################################################################\n",
      "================================================== (11527, 2392) (11676, 2392)\n",
      "Fitting 10 folds for each of 96 candidates, totalling 960 fits\n"
     ]
    },
    {
     "name": "stderr",
     "output_type": "stream",
     "text": [
      "[Parallel(n_jobs=4)]: Using backend LokyBackend with 4 concurrent workers.\n"
     ]
    },
    {
     "ename": "KeyboardInterrupt",
     "evalue": "",
     "output_type": "error",
     "traceback": [
      "\u001b[0;31m---------------------------------------------------------------------------\u001b[0m",
      "\u001b[0;31mKeyboardInterrupt\u001b[0m                         Traceback (most recent call last)",
      "\u001b[0;32m<ipython-input-35-b7152dc5e67a>\u001b[0m in \u001b[0;36m<module>\u001b[0;34m\u001b[0m\n\u001b[1;32m     49\u001b[0m         \u001b[0mmodel_lgbm\u001b[0m\u001b[0;34m,\u001b[0m \u001b[0mparam_grid_lgbm\u001b[0m\u001b[0;34m,\u001b[0m \u001b[0mcv\u001b[0m\u001b[0;34m=\u001b[0m\u001b[0mkfold_off\u001b[0m\u001b[0;34m,\u001b[0m \u001b[0mn_jobs\u001b[0m\u001b[0;34m=\u001b[0m\u001b[0;36m4\u001b[0m\u001b[0;34m,\u001b[0m \u001b[0mscoring\u001b[0m\u001b[0;34m=\u001b[0m\u001b[0;34m'roc_auc'\u001b[0m\u001b[0;34m,\u001b[0m \u001b[0mverbose\u001b[0m\u001b[0;34m=\u001b[0m\u001b[0;36m1\u001b[0m\u001b[0;34m\u001b[0m\u001b[0m\n\u001b[1;32m     50\u001b[0m     )\n\u001b[0;32m---> 51\u001b[0;31m     \u001b[0mgrid\u001b[0m\u001b[0;34m.\u001b[0m\u001b[0mfit\u001b[0m\u001b[0;34m(\u001b[0m\u001b[0mX_train_part\u001b[0m\u001b[0;34m,\u001b[0m \u001b[0my_train\u001b[0m\u001b[0;34m,\u001b[0m \u001b[0meval_metric\u001b[0m\u001b[0;34m=\u001b[0m\u001b[0;34m'auc'\u001b[0m\u001b[0;34m)\u001b[0m\u001b[0;34m\u001b[0m\u001b[0m\n\u001b[0m\u001b[1;32m     52\u001b[0m \u001b[0;34m\u001b[0m\u001b[0m\n\u001b[1;32m     53\u001b[0m     \u001b[0mbest_params_\u001b[0m \u001b[0;34m=\u001b[0m \u001b[0mgrid\u001b[0m\u001b[0;34m.\u001b[0m\u001b[0mbest_params_\u001b[0m\u001b[0;34m\u001b[0m\u001b[0m\n",
      "\u001b[0;32m~/anaconda3/lib/python3.6/site-packages/sklearn/model_selection/_search.py\u001b[0m in \u001b[0;36mfit\u001b[0;34m(self, X, y, groups, **fit_params)\u001b[0m\n\u001b[1;32m    685\u001b[0m                 \u001b[0;32mreturn\u001b[0m \u001b[0mresults\u001b[0m\u001b[0;34m\u001b[0m\u001b[0m\n\u001b[1;32m    686\u001b[0m \u001b[0;34m\u001b[0m\u001b[0m\n\u001b[0;32m--> 687\u001b[0;31m             \u001b[0mself\u001b[0m\u001b[0;34m.\u001b[0m\u001b[0m_run_search\u001b[0m\u001b[0;34m(\u001b[0m\u001b[0mevaluate_candidates\u001b[0m\u001b[0;34m)\u001b[0m\u001b[0;34m\u001b[0m\u001b[0m\n\u001b[0m\u001b[1;32m    688\u001b[0m \u001b[0;34m\u001b[0m\u001b[0m\n\u001b[1;32m    689\u001b[0m         \u001b[0;31m# For multi-metric evaluation, store the best_index_, best_params_ and\u001b[0m\u001b[0;34m\u001b[0m\u001b[0;34m\u001b[0m\u001b[0m\n",
      "\u001b[0;32m~/anaconda3/lib/python3.6/site-packages/sklearn/model_selection/_search.py\u001b[0m in \u001b[0;36m_run_search\u001b[0;34m(self, evaluate_candidates)\u001b[0m\n\u001b[1;32m   1146\u001b[0m     \u001b[0;32mdef\u001b[0m \u001b[0m_run_search\u001b[0m\u001b[0;34m(\u001b[0m\u001b[0mself\u001b[0m\u001b[0;34m,\u001b[0m \u001b[0mevaluate_candidates\u001b[0m\u001b[0;34m)\u001b[0m\u001b[0;34m:\u001b[0m\u001b[0;34m\u001b[0m\u001b[0m\n\u001b[1;32m   1147\u001b[0m         \u001b[0;34m\"\"\"Search all candidates in param_grid\"\"\"\u001b[0m\u001b[0;34m\u001b[0m\u001b[0m\n\u001b[0;32m-> 1148\u001b[0;31m         \u001b[0mevaluate_candidates\u001b[0m\u001b[0;34m(\u001b[0m\u001b[0mParameterGrid\u001b[0m\u001b[0;34m(\u001b[0m\u001b[0mself\u001b[0m\u001b[0;34m.\u001b[0m\u001b[0mparam_grid\u001b[0m\u001b[0;34m)\u001b[0m\u001b[0;34m)\u001b[0m\u001b[0;34m\u001b[0m\u001b[0m\n\u001b[0m\u001b[1;32m   1149\u001b[0m \u001b[0;34m\u001b[0m\u001b[0m\n\u001b[1;32m   1150\u001b[0m \u001b[0;34m\u001b[0m\u001b[0m\n",
      "\u001b[0;32m~/anaconda3/lib/python3.6/site-packages/sklearn/model_selection/_search.py\u001b[0m in \u001b[0;36mevaluate_candidates\u001b[0;34m(candidate_params)\u001b[0m\n\u001b[1;32m    664\u001b[0m                                \u001b[0;32mfor\u001b[0m \u001b[0mparameters\u001b[0m\u001b[0;34m,\u001b[0m \u001b[0;34m(\u001b[0m\u001b[0mtrain\u001b[0m\u001b[0;34m,\u001b[0m \u001b[0mtest\u001b[0m\u001b[0;34m)\u001b[0m\u001b[0;34m\u001b[0m\u001b[0m\n\u001b[1;32m    665\u001b[0m                                in product(candidate_params,\n\u001b[0;32m--> 666\u001b[0;31m                                           cv.split(X, y, groups)))\n\u001b[0m\u001b[1;32m    667\u001b[0m \u001b[0;34m\u001b[0m\u001b[0m\n\u001b[1;32m    668\u001b[0m                 \u001b[0;32mif\u001b[0m \u001b[0mlen\u001b[0m\u001b[0;34m(\u001b[0m\u001b[0mout\u001b[0m\u001b[0;34m)\u001b[0m \u001b[0;34m<\u001b[0m \u001b[0;36m1\u001b[0m\u001b[0;34m:\u001b[0m\u001b[0;34m\u001b[0m\u001b[0m\n",
      "\u001b[0;32m~/anaconda3/lib/python3.6/site-packages/joblib/parallel.py\u001b[0m in \u001b[0;36m__call__\u001b[0;34m(self, iterable)\u001b[0m\n\u001b[1;32m    992\u001b[0m \u001b[0;34m\u001b[0m\u001b[0m\n\u001b[1;32m    993\u001b[0m             \u001b[0;32mwith\u001b[0m \u001b[0mself\u001b[0m\u001b[0;34m.\u001b[0m\u001b[0m_backend\u001b[0m\u001b[0;34m.\u001b[0m\u001b[0mretrieval_context\u001b[0m\u001b[0;34m(\u001b[0m\u001b[0;34m)\u001b[0m\u001b[0;34m:\u001b[0m\u001b[0;34m\u001b[0m\u001b[0m\n\u001b[0;32m--> 994\u001b[0;31m                 \u001b[0mself\u001b[0m\u001b[0;34m.\u001b[0m\u001b[0mretrieve\u001b[0m\u001b[0;34m(\u001b[0m\u001b[0;34m)\u001b[0m\u001b[0;34m\u001b[0m\u001b[0m\n\u001b[0m\u001b[1;32m    995\u001b[0m             \u001b[0;31m# Make sure that we get a last message telling us we are done\u001b[0m\u001b[0;34m\u001b[0m\u001b[0;34m\u001b[0m\u001b[0m\n\u001b[1;32m    996\u001b[0m             \u001b[0melapsed_time\u001b[0m \u001b[0;34m=\u001b[0m \u001b[0mtime\u001b[0m\u001b[0;34m.\u001b[0m\u001b[0mtime\u001b[0m\u001b[0;34m(\u001b[0m\u001b[0;34m)\u001b[0m \u001b[0;34m-\u001b[0m \u001b[0mself\u001b[0m\u001b[0;34m.\u001b[0m\u001b[0m_start_time\u001b[0m\u001b[0;34m\u001b[0m\u001b[0m\n",
      "\u001b[0;32m~/anaconda3/lib/python3.6/site-packages/joblib/parallel.py\u001b[0m in \u001b[0;36mretrieve\u001b[0;34m(self)\u001b[0m\n\u001b[1;32m    895\u001b[0m             \u001b[0;32mtry\u001b[0m\u001b[0;34m:\u001b[0m\u001b[0;34m\u001b[0m\u001b[0m\n\u001b[1;32m    896\u001b[0m                 \u001b[0;32mif\u001b[0m \u001b[0mgetattr\u001b[0m\u001b[0;34m(\u001b[0m\u001b[0mself\u001b[0m\u001b[0;34m.\u001b[0m\u001b[0m_backend\u001b[0m\u001b[0;34m,\u001b[0m \u001b[0;34m'supports_timeout'\u001b[0m\u001b[0;34m,\u001b[0m \u001b[0;32mFalse\u001b[0m\u001b[0;34m)\u001b[0m\u001b[0;34m:\u001b[0m\u001b[0;34m\u001b[0m\u001b[0m\n\u001b[0;32m--> 897\u001b[0;31m                     \u001b[0mself\u001b[0m\u001b[0;34m.\u001b[0m\u001b[0m_output\u001b[0m\u001b[0;34m.\u001b[0m\u001b[0mextend\u001b[0m\u001b[0;34m(\u001b[0m\u001b[0mjob\u001b[0m\u001b[0;34m.\u001b[0m\u001b[0mget\u001b[0m\u001b[0;34m(\u001b[0m\u001b[0mtimeout\u001b[0m\u001b[0;34m=\u001b[0m\u001b[0mself\u001b[0m\u001b[0;34m.\u001b[0m\u001b[0mtimeout\u001b[0m\u001b[0;34m)\u001b[0m\u001b[0;34m)\u001b[0m\u001b[0;34m\u001b[0m\u001b[0m\n\u001b[0m\u001b[1;32m    898\u001b[0m                 \u001b[0;32melse\u001b[0m\u001b[0;34m:\u001b[0m\u001b[0;34m\u001b[0m\u001b[0m\n\u001b[1;32m    899\u001b[0m                     \u001b[0mself\u001b[0m\u001b[0;34m.\u001b[0m\u001b[0m_output\u001b[0m\u001b[0;34m.\u001b[0m\u001b[0mextend\u001b[0m\u001b[0;34m(\u001b[0m\u001b[0mjob\u001b[0m\u001b[0;34m.\u001b[0m\u001b[0mget\u001b[0m\u001b[0;34m(\u001b[0m\u001b[0;34m)\u001b[0m\u001b[0;34m)\u001b[0m\u001b[0;34m\u001b[0m\u001b[0m\n",
      "\u001b[0;32m~/anaconda3/lib/python3.6/site-packages/joblib/_parallel_backends.py\u001b[0m in \u001b[0;36mwrap_future_result\u001b[0;34m(future, timeout)\u001b[0m\n\u001b[1;32m    513\u001b[0m         AsyncResults.get from multiprocessing.\"\"\"\n\u001b[1;32m    514\u001b[0m         \u001b[0;32mtry\u001b[0m\u001b[0;34m:\u001b[0m\u001b[0;34m\u001b[0m\u001b[0m\n\u001b[0;32m--> 515\u001b[0;31m             \u001b[0;32mreturn\u001b[0m \u001b[0mfuture\u001b[0m\u001b[0;34m.\u001b[0m\u001b[0mresult\u001b[0m\u001b[0;34m(\u001b[0m\u001b[0mtimeout\u001b[0m\u001b[0;34m=\u001b[0m\u001b[0mtimeout\u001b[0m\u001b[0;34m)\u001b[0m\u001b[0;34m\u001b[0m\u001b[0m\n\u001b[0m\u001b[1;32m    516\u001b[0m         \u001b[0;32mexcept\u001b[0m \u001b[0mLokyTimeoutError\u001b[0m\u001b[0;34m:\u001b[0m\u001b[0;34m\u001b[0m\u001b[0m\n\u001b[1;32m    517\u001b[0m             \u001b[0;32mraise\u001b[0m \u001b[0mTimeoutError\u001b[0m\u001b[0;34m(\u001b[0m\u001b[0;34m)\u001b[0m\u001b[0;34m\u001b[0m\u001b[0m\n",
      "\u001b[0;32m~/anaconda3/lib/python3.6/site-packages/joblib/externals/loky/_base.py\u001b[0m in \u001b[0;36mresult\u001b[0;34m(self, timeout)\u001b[0m\n\u001b[1;32m    424\u001b[0m                 \u001b[0;32mreturn\u001b[0m \u001b[0mself\u001b[0m\u001b[0;34m.\u001b[0m\u001b[0m__get_result\u001b[0m\u001b[0;34m(\u001b[0m\u001b[0;34m)\u001b[0m\u001b[0;34m\u001b[0m\u001b[0m\n\u001b[1;32m    425\u001b[0m \u001b[0;34m\u001b[0m\u001b[0m\n\u001b[0;32m--> 426\u001b[0;31m             \u001b[0mself\u001b[0m\u001b[0;34m.\u001b[0m\u001b[0m_condition\u001b[0m\u001b[0;34m.\u001b[0m\u001b[0mwait\u001b[0m\u001b[0;34m(\u001b[0m\u001b[0mtimeout\u001b[0m\u001b[0;34m)\u001b[0m\u001b[0;34m\u001b[0m\u001b[0m\n\u001b[0m\u001b[1;32m    427\u001b[0m \u001b[0;34m\u001b[0m\u001b[0m\n\u001b[1;32m    428\u001b[0m             \u001b[0;32mif\u001b[0m \u001b[0mself\u001b[0m\u001b[0;34m.\u001b[0m\u001b[0m_state\u001b[0m \u001b[0;32min\u001b[0m \u001b[0;34m[\u001b[0m\u001b[0mCANCELLED\u001b[0m\u001b[0;34m,\u001b[0m \u001b[0mCANCELLED_AND_NOTIFIED\u001b[0m\u001b[0;34m]\u001b[0m\u001b[0;34m:\u001b[0m\u001b[0;34m\u001b[0m\u001b[0m\n",
      "\u001b[0;32m~/anaconda3/lib/python3.6/threading.py\u001b[0m in \u001b[0;36mwait\u001b[0;34m(self, timeout)\u001b[0m\n\u001b[1;32m    293\u001b[0m         \u001b[0;32mtry\u001b[0m\u001b[0;34m:\u001b[0m    \u001b[0;31m# restore state no matter what (e.g., KeyboardInterrupt)\u001b[0m\u001b[0;34m\u001b[0m\u001b[0m\n\u001b[1;32m    294\u001b[0m             \u001b[0;32mif\u001b[0m \u001b[0mtimeout\u001b[0m \u001b[0;32mis\u001b[0m \u001b[0;32mNone\u001b[0m\u001b[0;34m:\u001b[0m\u001b[0;34m\u001b[0m\u001b[0m\n\u001b[0;32m--> 295\u001b[0;31m                 \u001b[0mwaiter\u001b[0m\u001b[0;34m.\u001b[0m\u001b[0macquire\u001b[0m\u001b[0;34m(\u001b[0m\u001b[0;34m)\u001b[0m\u001b[0;34m\u001b[0m\u001b[0m\n\u001b[0m\u001b[1;32m    296\u001b[0m                 \u001b[0mgotit\u001b[0m \u001b[0;34m=\u001b[0m \u001b[0;32mTrue\u001b[0m\u001b[0;34m\u001b[0m\u001b[0m\n\u001b[1;32m    297\u001b[0m             \u001b[0;32melse\u001b[0m\u001b[0;34m:\u001b[0m\u001b[0;34m\u001b[0m\u001b[0m\n",
      "\u001b[0;31mKeyboardInterrupt\u001b[0m: "
     ]
    }
   ],
   "source": [
    "\n",
    "\n",
    "#   QUIT  'scale_pos_weight': [ratio_pos], AND SET is_unbalance = True\n",
    "\n",
    "param_grid_lgbm = {\n",
    "    'n_estimators': [250, 750],\n",
    "    'feature_fraction': [0.6, 0.7, 0.8, 0.9],\n",
    "    'bagging_fraction': [0.95],\n",
    "    'max_depth':[3, 4, 5, 6],\n",
    "    'learning_rate': [0.05, 0.1, 0,0.2],\n",
    "    'boosting': ['dart', 'gbdt'],\n",
    "    'min_gain_to_split': [1],\n",
    "    'is_unbalance': [True],\n",
    "    'metric': ['auc'],\n",
    "    'tree_learner': ['serial', 'feature', 'data', 'voting'],\n",
    "    'xgboost_dart_mode': [False, True],\n",
    "    'skip_drop': [0.45, 0.5]\n",
    "}\n",
    "\n",
    "param_grid_xgb = {\n",
    "    'n_estimators': [500, 700],\n",
    "    'colsample_bytree': [0.1, 0.05, 0.15],\n",
    "    'subsample': [0.95],\n",
    "    'max_depth':[55],\n",
    "    'learning_rate': [0.025, 0.035],\n",
    "    'booster': ['dart', 'gbdt'],\n",
    "    'scale_pos_weight': [ratio_pos],\n",
    "    'max_delta_step': [1, 5],\n",
    "    'base_score': [0.5, 0.85],\n",
    "    'min_child_weight':[1]\n",
    "}\n",
    "    \n",
    "kfold_off = StratifiedKFold(\n",
    "    n_splits=10, \n",
    "    shuffle=False, \n",
    "    random_state=SEED\n",
    ")\n",
    "model_lgbm = LGBMClassifier(\n",
    "    seed=SEED, feature_fraction_seed=SEED, drop_seed=SEED\n",
    ")\n",
    "model_xgb = xgb.XGBClassifier(\n",
    "    seed=SEED\n",
    ")\n",
    "\n",
    "for X_train_part, X_test_part in prediction_group:\n",
    "    print(\"=\"*50, X_train_part.shape, X_test_part.shape)\n",
    "    \n",
    "    grid = GridSearchCV(\n",
    "        model_lgbm, param_grid_lgbm, cv=kfold_off, n_jobs=4, scoring='roc_auc', verbose=1\n",
    "    )\n",
    "    grid.fit(X_train_part, y_train, eval_metric='auc')\n",
    "    \n",
    "    best_params_ = grid.best_params_\n",
    "    model_ = grid.best_estimator_\n",
    "    score_ = grid.best_score_\n",
    "    print(score_, best_params_)\n",
    "    print(\"#\"*100)"
   ]
  },
  {
   "cell_type": "code",
   "execution_count": null,
   "metadata": {},
   "outputs": [],
   "source": []
  },
  {
   "cell_type": "code",
   "execution_count": null,
   "metadata": {},
   "outputs": [],
   "source": [
    "\"\"\"\n",
    "0 0.8469586765518159 {'bagging_fraction': 0.95, 'boosting': 'dart', 'feature_fraction': 0.1, 'is_unbalance': True, 'learning_rate': 0.025, 'max_depth': 55, 'metric': 'auc', 'min_gain_to_split': 1, 'n_estimators': 500, 'skip_drop': 0.45, 'tree_learner': 'serial', 'xgboost_dart_mode': False}\n",
    "1 0.8503630425760671 {'bagging_fraction': 0.95, 'boosting': 'dart', 'feature_fraction': 0.05, 'is_unbalance': True, 'learning_rate': 0.025, 'max_depth': 55, 'metric': 'auc', 'min_gain_to_split': 1, 'n_estimators': 500, 'skip_drop': 0.45, 'tree_learner': 'serial', 'xgboost_dart_mode': False}\n",
    "2 0.849574357074766 {'bagging_fraction': 0.95, 'boosting': 'dart', 'feature_fraction': 0.05, 'is_unbalance': True, 'learning_rate': 0.025, 'max_depth': 55, 'metric': 'auc', 'min_gain_to_split': 1, 'n_estimators': 500, 'skip_drop': 0.5, 'tree_learner': 'serial', 'xgboost_dart_mode': False}\n",
    "3 0.8490755891027538 {'bagging_fraction': 0.95, 'boosting': 'dart', 'feature_fraction': 0.05, 'is_unbalance': True, 'learning_rate': 0.025, 'max_depth': 55, 'metric': 'auc', 'min_gain_to_split': 1, 'n_estimators': 500, 'skip_drop': 0.5, 'tree_learner': 'serial', 'xgboost_dart_mode': False}\n",
    "4 0.8477170888754343 {'bagging_fraction': 0.95, 'boosting': 'dart', 'feature_fraction': 0.1, 'is_unbalance': True, 'learning_rate': 0.025, 'max_depth': 55, 'metric': 'auc', 'min_gain_to_split': 1, 'n_estimators': 500, 'skip_drop': 0.5, 'tree_learner': 'serial', 'xgboost_dart_mode': False}\n",
    "5 0.8502420678749328 {'bagging_fraction': 0.95, 'boosting': 'dart', 'feature_fraction': 0.1, 'is_unbalance': True, 'learning_rate': 0.035, 'max_depth': 55, 'metric': 'auc', 'min_gain_to_split': 1, 'n_estimators': 500, 'skip_drop': 0.45, 'tree_learner': 'serial', 'xgboost_dart_mode': False}\n",
    "6 0.8470547355900317 {'bagging_fraction': 0.95, 'boosting': 'dart', 'feature_fraction': 0.1, 'is_unbalance': True, 'learning_rate': 0.025, 'max_depth': 55, 'metric': 'auc', 'min_gain_to_split': 1, 'n_estimators': 500, 'skip_drop': 0.5, 'tree_learner': 'serial', 'xgboost_dart_mode': False}\n",
    "\n",
    "\"\"\""
   ]
  },
  {
   "cell_type": "code",
   "execution_count": null,
   "metadata": {},
   "outputs": [],
   "source": []
  },
  {
   "cell_type": "code",
   "execution_count": null,
   "metadata": {},
   "outputs": [],
   "source": []
  },
  {
   "cell_type": "code",
   "execution_count": null,
   "metadata": {},
   "outputs": [],
   "source": []
  },
  {
   "cell_type": "code",
   "execution_count": 73,
   "metadata": {},
   "outputs": [
    {
     "name": "stdout",
     "output_type": "stream",
     "text": [
      "Fitting 10 folds for each of 1 candidates, totalling 10 fits\n"
     ]
    },
    {
     "name": "stderr",
     "output_type": "stream",
     "text": [
      "[Parallel(n_jobs=-1)]: Using backend LokyBackend with 4 concurrent workers.\n",
      "[Parallel(n_jobs=-1)]: Done  10 out of  10 | elapsed:  3.0min finished\n"
     ]
    },
    {
     "name": "stdout",
     "output_type": "stream",
     "text": [
      "0.843799742876587 {'bagging_fraction': 0.95, 'boosting': 'dart', 'feature_fraction': 0.1, 'is_unbalance': True, 'learning_rate': 0.025, 'max_depth': 55, 'metric': 'auc', 'min_gain_to_split': 1, 'n_estimators': 500, 'skip_drop': 0.5, 'tree_learner': 'serial', 'xgboost_dart_mode': False}\n",
      "[0.0643391  0.05722939 0.03124529 ... 0.17221013 0.2122971  0.19528629] (11676,)\n"
     ]
    },
    {
     "data": {
      "text/html": [
       "<div>\n",
       "<style scoped>\n",
       "    .dataframe tbody tr th:only-of-type {\n",
       "        vertical-align: middle;\n",
       "    }\n",
       "\n",
       "    .dataframe tbody tr th {\n",
       "        vertical-align: top;\n",
       "    }\n",
       "\n",
       "    .dataframe thead th {\n",
       "        text-align: right;\n",
       "    }\n",
       "</style>\n",
       "<table border=\"1\" class=\"dataframe\">\n",
       "  <thead>\n",
       "    <tr style=\"text-align: right;\">\n",
       "      <th></th>\n",
       "      <th>USER_ID</th>\n",
       "      <th>SCORE</th>\n",
       "    </tr>\n",
       "  </thead>\n",
       "  <tbody>\n",
       "    <tr>\n",
       "      <th>0</th>\n",
       "      <td>0</td>\n",
       "      <td>0.064339</td>\n",
       "    </tr>\n",
       "    <tr>\n",
       "      <th>1</th>\n",
       "      <td>1</td>\n",
       "      <td>0.057229</td>\n",
       "    </tr>\n",
       "    <tr>\n",
       "      <th>2</th>\n",
       "      <td>2</td>\n",
       "      <td>0.031245</td>\n",
       "    </tr>\n",
       "    <tr>\n",
       "      <th>3</th>\n",
       "      <td>3</td>\n",
       "      <td>0.126990</td>\n",
       "    </tr>\n",
       "    <tr>\n",
       "      <th>4</th>\n",
       "      <td>4</td>\n",
       "      <td>0.295542</td>\n",
       "    </tr>\n",
       "  </tbody>\n",
       "</table>\n",
       "</div>"
      ],
      "text/plain": [
       "   USER_ID     SCORE\n",
       "0        0  0.064339\n",
       "1        1  0.057229\n",
       "2        2  0.031245\n",
       "3        3  0.126990\n",
       "4        4  0.295542"
      ]
     },
     "metadata": {},
     "output_type": "display_data"
    }
   ],
   "source": [
    "X_train_part, X_test_part = prediction_group[8]\n",
    "\n",
    "best_parameter = {'bagging_fraction': 0.95, 'boosting': 'dart', 'feature_fraction': 0.1, 'is_unbalance': True, 'learning_rate': 0.025, 'max_depth': 55, 'metric': 'auc', 'min_gain_to_split': 1, 'n_estimators': 500, 'skip_drop': 0.5, 'tree_learner': 'serial', 'xgboost_dart_mode': False}\n",
    "\n",
    "param_grid_final = {}\n",
    "for k,v in best_parameter.items():\n",
    "    param_grid_final[k] = [v]\n",
    "\n",
    "kfold_off = StratifiedKFold(\n",
    "    n_splits=10, \n",
    "    shuffle=False, \n",
    "    random_state=SEED\n",
    ")\n",
    "model_lgbm = LGBMClassifier(\n",
    "    seed=SEED, feature_fraction_seed=SEED, drop_seed=SEED\n",
    ")\n",
    "grid = GridSearchCV(\n",
    "    model_lgbm, param_grid_final, cv=kfold_off, \n",
    "    n_jobs=-1, scoring='roc_auc', verbose=1\n",
    ")\n",
    "grid.fit(X_train_part, y_train)\n",
    "\n",
    "best_params_ = grid.best_params_\n",
    "model_ = grid.best_estimator_\n",
    "score_ = grid.best_score_\n",
    "print(score_, best_params_)\n",
    "\n",
    "predict_test = grid.best_estimator_.predict_proba(X_test_part)[:,1]\n",
    "print(predict_test, predict_test.shape)\n",
    "predict_test = pd.DataFrame(\n",
    "    {'USER_ID':index_test, 'SCORE':predict_test} \n",
    ")\n",
    "display(predict_test.head())"
   ]
  },
  {
   "cell_type": "code",
   "execution_count": 74,
   "metadata": {},
   "outputs": [
    {
     "data": {
      "text/plain": [
       "(11676, 2)"
      ]
     },
     "execution_count": 74,
     "metadata": {},
     "output_type": "execute_result"
    }
   ],
   "source": [
    "predict_test.shape"
   ]
  },
  {
   "cell_type": "code",
   "execution_count": 75,
   "metadata": {},
   "outputs": [
    {
     "name": "stdout",
     "output_type": "stream",
     "text": [
      "(0, 2)\n",
      "(1322, 2)\n",
      "(0, 2)\n"
     ]
    }
   ],
   "source": [
    "print(predict_test[predict_test['SCORE'] < 0.01].shape)\n",
    "print(predict_test[predict_test['SCORE'] > 0.5].shape)\n",
    "print(predict_test[predict_test['SCORE'] > 0.99].shape)"
   ]
  },
  {
   "cell_type": "code",
   "execution_count": 76,
   "metadata": {},
   "outputs": [
    {
     "data": {
      "text/plain": [
       "'\\nADD SCHEDULE AND WEEKDAY\\n\\n(0, 2)\\n(1444, 2)\\n(0, 2)\\n\\n(0, 2)\\n(1359, 2)\\n(0, 2)\\n\\n(0, 2)\\n(1277, 2)\\n(0, 2)\\n\\n(0, 2)\\n(1299, 2) -----------> 0.82098\\n(0, 2)\\n\\n(0, 2)\\n(1263, 2)\\n(0, 2)\\n\\nADD PREVIOUS\\n\\n(0, 2)\\n(1836, 2) -----------> 0.81141\\n(0, 2)\\n\\n(0, 2)\\n(1715, 2) -----------> 0.81687    \\n(0, 2)\\n\\n(0, 2)\\n(1647, 2)\\n(0, 2)\\n\\nDATA COMPLEMENTARIA - ADD PREVIOUS\\n\\n(0, 2)\\n(1619, 2) -------------> 0.83848\\n(0, 2)\\n\\n(0, 2)\\n(1353, 2) --------------> 0.84530\\n(0, 2)\\n\\n(0, 2)\\n(1352, 2)\\n(0, 2)\\n\\n(0, 2)\\n(1228, 2)\\n(0, 2)\\n\\n//////////// MORE OPTION \\n1196\\n(0, 2)\\n(1412, 2)\\n(0, 2)\\n\\n\\n'"
      ]
     },
     "execution_count": 76,
     "metadata": {},
     "output_type": "execute_result"
    }
   ],
   "source": [
    "\"\"\"\n",
    "ADD SCHEDULE AND WEEKDAY\n",
    "\n",
    "(0, 2)\n",
    "(1444, 2)\n",
    "(0, 2)\n",
    "\n",
    "(0, 2)\n",
    "(1359, 2)\n",
    "(0, 2)\n",
    "\n",
    "(0, 2)\n",
    "(1277, 2)\n",
    "(0, 2)\n",
    "\n",
    "(0, 2)\n",
    "(1299, 2) -----------> 0.82098\n",
    "(0, 2)\n",
    "\n",
    "(0, 2)\n",
    "(1263, 2)\n",
    "(0, 2)\n",
    "\n",
    "ADD PREVIOUS\n",
    "\n",
    "(0, 2)\n",
    "(1836, 2) -----------> 0.81141\n",
    "(0, 2)\n",
    "\n",
    "(0, 2)\n",
    "(1715, 2) -----------> 0.81687    \n",
    "(0, 2)\n",
    "\n",
    "(0, 2)\n",
    "(1647, 2)\n",
    "(0, 2)\n",
    "\n",
    "DATA COMPLEMENTARIA - ADD PREVIOUS\n",
    "\n",
    "(0, 2)\n",
    "(1619, 2) -------------> 0.83848\n",
    "(0, 2)\n",
    "\n",
    "(0, 2)\n",
    "(1353, 2) --------------> 0.84530\n",
    "(0, 2)\n",
    "\n",
    "(0, 2)\n",
    "(1352, 2)\n",
    "(0, 2)\n",
    "\n",
    "(0, 2)\n",
    "(1228, 2)\n",
    "(0, 2)\n",
    "\n",
    "//////////// MORE OPTION \n",
    "1196\n",
    "(0, 2)\n",
    "(1412, 2)\n",
    "(0, 2)\n",
    "\n",
    "\n",
    "\"\"\""
   ]
  },
  {
   "cell_type": "code",
   "execution_count": 77,
   "metadata": {},
   "outputs": [],
   "source": [
    "predict_test.to_csv('complementary_add_previous_option_sfm9-10.csv', index=False)"
   ]
  },
  {
   "cell_type": "code",
   "execution_count": null,
   "metadata": {},
   "outputs": [],
   "source": []
  },
  {
   "cell_type": "code",
   "execution_count": null,
   "metadata": {},
   "outputs": [],
   "source": []
  }
 ],
 "metadata": {
  "kernelspec": {
   "display_name": "Python 3",
   "language": "python",
   "name": "python3"
  },
  "language_info": {
   "codemirror_mode": {
    "name": "ipython",
    "version": 3
   },
   "file_extension": ".py",
   "mimetype": "text/x-python",
   "name": "python",
   "nbconvert_exporter": "python",
   "pygments_lexer": "ipython3",
   "version": "3.8.5"
  }
 },
 "nbformat": 4,
 "nbformat_minor": 4
}
