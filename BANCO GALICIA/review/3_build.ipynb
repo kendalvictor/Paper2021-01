{
 "cells": [
  {
   "cell_type": "code",
   "execution_count": 1,
   "metadata": {},
   "outputs": [
    {
     "data": {
      "text/plain": [
       "['CONTENT_CATEGORY.csv',\n",
       " '.ipynb_checkpoints',\n",
       " 'pageviews_complemento.csv',\n",
       " 'conversiones.csv',\n",
       " 'sampleSubmission.csv',\n",
       " 'pageviews.csv',\n",
       " 'CONTENT_CATEGORY_TOP.csv',\n",
       " 'pageview_with_previous.csv',\n",
       " 'device_data.csv',\n",
       " 'PAGE.csv',\n",
       " 'SITE_ID.csv',\n",
       " 'CONTENT_CATEGORY_BOTTOM.csv']"
      ]
     },
     "execution_count": 1,
     "metadata": {},
     "output_type": "execute_result"
    }
   ],
   "source": [
    "# Nativos\n",
    "import random as rn\n",
    "import os\n",
    "import sys\n",
    "import gc\n",
    "\n",
    "#calculo\n",
    "import numpy as np\n",
    "import pandas as pd\n",
    "import scipy as sp\n",
    "\n",
    "#grafico\n",
    "import matplotlib.pyplot as plt\n",
    "import seaborn as sns\n",
    "from IPython.display import display\n",
    "%matplotlib inline\n",
    "sns.set(style=\"whitegrid\")\n",
    "\n",
    "#warning ignore future\n",
    "import warnings\n",
    "# warnings.simplefilter(action='ignore', category=FutureWarning)\n",
    "warnings.filterwarnings(\"ignore\")\n",
    "gc.collect()\n",
    "\n",
    "BASE_DIR = os.path.dirname(os.getcwd())\n",
    "if BASE_DIR not in sys.path: sys.path.append(BASE_DIR)\n",
    "\n",
    "from utils import *\n",
    "from graphs import *\n",
    "\n",
    "SEED = 29082013\n",
    "os.environ['PYTHONHASHSEED']=str(SEED)\n",
    "np.random.seed(SEED)\n",
    "rn.seed(SEED)\n",
    "\n",
    "subfolder = \"data\"\n",
    "os.listdir(subfolder)"
   ]
  },
  {
   "cell_type": "markdown",
   "metadata": {},
   "source": [
    "## LOAD PAGE VIEWS INFO"
   ]
  },
  {
   "cell_type": "code",
   "execution_count": 2,
   "metadata": {},
   "outputs": [
    {
     "data": {
      "text/plain": [
       "(22858678, 9)"
      ]
     },
     "execution_count": 2,
     "metadata": {},
     "output_type": "execute_result"
    }
   ],
   "source": [
    "col_user = 'USER_ID'\n",
    "pageview = pd.read_csv(\n",
    "    \"{}/pageview_with_previous.csv\".format(subfolder), parse_dates=[\"FEC_EVENT\"], dtype=str\n",
    ").sort_values(\n",
    "    [col_user, \"FEC_EVENT\"]\n",
    ")\n",
    "\n",
    "pageview['USER_ID'] = pageview['USER_ID'].astype(int)\n",
    "pageview['PAGE_PREVIOUS'] = pageview['PAGE_PREVIOUS'].apply(lambda _: _.split('_')[0])\n",
    "pageview.shape"
   ]
  },
  {
   "cell_type": "code",
   "execution_count": 3,
   "metadata": {},
   "outputs": [
    {
     "data": {
      "text/plain": [
       "(2871406, 4)"
      ]
     },
     "execution_count": 3,
     "metadata": {},
     "output_type": "execute_result"
    }
   ],
   "source": [
    "col_user = 'USER_ID'\n",
    "device_data = pd.read_csv(\n",
    "    \"{}/device_data.csv\".format(subfolder), parse_dates=[\"FEC_EVENT\"]\n",
    ").sort_values(\n",
    "    [col_user, \"FEC_EVENT\"]\n",
    ")\n",
    "\n",
    "device_data['USER_ID'] = device_data['USER_ID'].astype(int)\n",
    "device_data['CONNECTION_SPEED'] = device_data['CONNECTION_SPEED'].astype(str)\n",
    "device_data['IS_MOBILE_DEVICE'] = device_data['IS_MOBILE_DEVICE'].astype(str)\n",
    "device_data.shape"
   ]
  },
  {
   "cell_type": "code",
   "execution_count": 4,
   "metadata": {},
   "outputs": [
    {
     "data": {
      "text/html": [
       "<table style=\"display:inline;padding-right:5%\" border=\"1\" class=\"dataframe\">\n",
       "  <thead>\n",
       "    <tr style=\"text-align: right;\">\n",
       "      <th></th>\n",
       "      <th>0</th>\n",
       "    </tr>\n",
       "  </thead>\n",
       "  <tbody>\n",
       "    <tr>\n",
       "      <th>msje</th>\n",
       "      <td>DATA LIMPIA DE NULOS</td>\n",
       "    </tr>\n",
       "  </tbody>\n",
       "</table style=\"display:inline;padding-right:5%\"><table style=\"display:inline;padding-right:5%\" border=\"1\" class=\"dataframe\">\n",
       "  <thead>\n",
       "    <tr style=\"text-align: right;\">\n",
       "      <th></th>\n",
       "      <th>0</th>\n",
       "    </tr>\n",
       "  </thead>\n",
       "  <tbody>\n",
       "    <tr>\n",
       "      <th>msje</th>\n",
       "      <td>DATA LIMPIA DE NULOS</td>\n",
       "    </tr>\n",
       "  </tbody>\n",
       "</table style=\"display:inline;padding-right:5%\">"
      ]
     },
     "metadata": {},
     "output_type": "display_data"
    }
   ],
   "source": [
    "display_horizontal(\n",
    "    null_verificator(pageview), null_verificator(device_data)\n",
    ")"
   ]
  },
  {
   "cell_type": "code",
   "execution_count": 5,
   "metadata": {},
   "outputs": [
    {
     "data": {
      "text/html": [
       "<table style=\"display:inline;padding-right:5%\" border=\"1\" class=\"dataframe\">\n",
       "  <thead>\n",
       "    <tr style=\"text-align: right;\">\n",
       "      <th></th>\n",
       "      <th>0</th>\n",
       "    </tr>\n",
       "  </thead>\n",
       "  <tbody>\n",
       "    <tr>\n",
       "      <th>FEC_EVENT</th>\n",
       "      <td>datetime64[ns]</td>\n",
       "    </tr>\n",
       "    <tr>\n",
       "      <th>PAGE</th>\n",
       "      <td>object</td>\n",
       "    </tr>\n",
       "    <tr>\n",
       "      <th>CONTENT_CATEGORY</th>\n",
       "      <td>object</td>\n",
       "    </tr>\n",
       "    <tr>\n",
       "      <th>CONTENT_CATEGORY_TOP</th>\n",
       "      <td>object</td>\n",
       "    </tr>\n",
       "    <tr>\n",
       "      <th>CONTENT_CATEGORY_BOTTOM</th>\n",
       "      <td>object</td>\n",
       "    </tr>\n",
       "    <tr>\n",
       "      <th>SITE_ID</th>\n",
       "      <td>object</td>\n",
       "    </tr>\n",
       "    <tr>\n",
       "      <th>ON_SITE_SEARCH_TERM</th>\n",
       "      <td>object</td>\n",
       "    </tr>\n",
       "    <tr>\n",
       "      <th>USER_ID</th>\n",
       "      <td>int64</td>\n",
       "    </tr>\n",
       "    <tr>\n",
       "      <th>PAGE_PREVIOUS</th>\n",
       "      <td>object</td>\n",
       "    </tr>\n",
       "  </tbody>\n",
       "</table style=\"display:inline;padding-right:5%\"><table style=\"display:inline;padding-right:5%\" border=\"1\" class=\"dataframe\">\n",
       "  <thead>\n",
       "    <tr style=\"text-align: right;\">\n",
       "      <th></th>\n",
       "      <th>0</th>\n",
       "    </tr>\n",
       "  </thead>\n",
       "  <tbody>\n",
       "    <tr>\n",
       "      <th>FEC_EVENT</th>\n",
       "      <td>datetime64[ns]</td>\n",
       "    </tr>\n",
       "    <tr>\n",
       "      <th>CONNECTION_SPEED</th>\n",
       "      <td>object</td>\n",
       "    </tr>\n",
       "    <tr>\n",
       "      <th>IS_MOBILE_DEVICE</th>\n",
       "      <td>object</td>\n",
       "    </tr>\n",
       "    <tr>\n",
       "      <th>USER_ID</th>\n",
       "      <td>int64</td>\n",
       "    </tr>\n",
       "  </tbody>\n",
       "</table style=\"display:inline;padding-right:5%\">"
      ]
     },
     "metadata": {},
     "output_type": "display_data"
    }
   ],
   "source": [
    "display_horizontal(\n",
    "    pageview.dtypes, device_data.dtypes\n",
    ")"
   ]
  },
  {
   "cell_type": "code",
   "execution_count": 6,
   "metadata": {},
   "outputs": [
    {
     "name": "stdout",
     "output_type": "stream",
     "text": [
      "FEC_EVENT :  12393421\n",
      "PAGE :  1733\n",
      "CONTENT_CATEGORY :  65\n",
      "CONTENT_CATEGORY_TOP :  13\n",
      "CONTENT_CATEGORY_BOTTOM :  65\n",
      "SITE_ID :  4\n",
      "ON_SITE_SEARCH_TERM :  294\n",
      "USER_ID :  11676\n",
      "PAGE_PREVIOUS :  1733\n",
      "//////////////////////////////////////////////////\n",
      "FEC_EVENT :  2592597\n",
      "CONNECTION_SPEED :  4\n",
      "IS_MOBILE_DEVICE :  2\n",
      "USER_ID :  11676\n"
     ]
    }
   ],
   "source": [
    "for col in pageview.columns:\n",
    "    print(col, ': ', pageview[col].unique().shape[0])\n",
    "print(\"/\"*50)\n",
    "\n",
    "for col in device_data.columns:\n",
    "    print(col, ': ',device_data[col].unique().shape[0])"
   ]
  },
  {
   "cell_type": "code",
   "execution_count": 7,
   "metadata": {},
   "outputs": [
    {
     "data": {
      "text/plain": [
       "(array([1, 2, 3, 4]), array([1, 2, 3, 4]))"
      ]
     },
     "execution_count": 7,
     "metadata": {},
     "output_type": "execute_result"
    }
   ],
   "source": [
    "sufijo_view = 'view'\n",
    "sufijo_device = 'device'\n",
    "cols_select = ['PAGE', 'CONTENT_CATEGORY', \n",
    "               'CONTENT_CATEGORY_TOP', 'PAGE_PREVIOUS',\n",
    "               'SITE_ID', 'ON_SITE_SEARCH_TERM',\n",
    "               'CONNECTION_SPEED', 'IS_MOBILE_DEVICE',\n",
    "               'weekday_{}'.format(sufijo_view), \n",
    "               'schedule_{}'.format(sufijo_view), \n",
    "               'day_cut_{}'.format(sufijo_view),\n",
    "               'weekday_{}'.format(sufijo_device), \n",
    "               'schedule_{}'.format(sufijo_device), \n",
    "               'day_cut_{}'.format(sufijo_device)]\n",
    "\n",
    "def get_trimestre(val):\n",
    "    if val <= 3:\n",
    "        return 1\n",
    "    elif val <= 6:\n",
    "        return 2\n",
    "    elif val <= 9:\n",
    "        return 3\n",
    "    elif val <= 12:\n",
    "        return 4\n",
    "    return 0\n",
    "\n",
    "def get_schedule(val):\n",
    "    if val < 6:\n",
    "        return 'madrugada'\n",
    "    elif val < 13:\n",
    "        return 'manana'\n",
    "    elif val < 19:\n",
    "        return 'tarde'\n",
    "    else:\n",
    "        return 'noche'\n",
    "\n",
    "def get_day_cut(val):\n",
    "    if val < 7:\n",
    "        return 'inicio_mes'\n",
    "    elif val < 13:\n",
    "        return '7_12'\n",
    "    elif val < 18:\n",
    "        return 'quincena'\n",
    "    elif val < 25:\n",
    "        return '18_24'\n",
    "    else:\n",
    "        return 'fin_de_mes'\n",
    "    \n",
    "def add_schedule_weekday(data, sufijo=sufijo_view):\n",
    "    data['hour'] = data['FEC_EVENT'].dt.hour\n",
    "    data['day'] = data['FEC_EVENT'].dt.day\n",
    "    data['weekday_{}'.format(sufijo_view)] = data['FEC_EVENT'].dt.weekday\n",
    "    data['schedule_{}'.format(sufijo_view)] = data['hour'].apply(get_schedule)\n",
    "    data['day_cut_{}'.format(sufijo_view)] = data['hour'].apply(get_day_cut)\n",
    "    \n",
    "    for col in ['CONTENT_CATEGORY_BOTTOM', 'hour', 'month', 'day']:\n",
    "        if col in data.columns:\n",
    "            del data[col]\n",
    "    \n",
    "    return data\n",
    "\n",
    "def get_format_data(data):\n",
    "    X_data = []\n",
    "    \n",
    "    for col in cols_select:\n",
    "        if col in data.columns:\n",
    "            print(\"-----> \", col)\n",
    "\n",
    "            temp = pd.crosstab(\n",
    "                data.USER_ID, data[col]\n",
    "            )\n",
    "            temp.columns = [col + \"_\" + str(v) for v in temp.columns]\n",
    "            X_data.append(\n",
    "                temp.apply(lambda x: x / x.sum(), axis=1)\n",
    "            )\n",
    "\n",
    "    return pd.concat(X_data, axis=1)\n",
    "\n",
    "\n",
    "\n",
    "pageview['month'] = pageview['FEC_EVENT'].dt.month\n",
    "pageview['trimestre'] = pageview['month'].apply(get_trimestre)\n",
    "\n",
    "device_data['month'] = device_data['FEC_EVENT'].dt.month\n",
    "device_data['trimestre'] = device_data['month'].apply(get_trimestre)\n",
    "\n",
    "## del pageview['month']\n",
    "pageview['trimestre'].unique(), device_data['trimestre'].unique()"
   ]
  },
  {
   "cell_type": "code",
   "execution_count": 8,
   "metadata": {},
   "outputs": [],
   "source": [
    "# pageview[list(pageview.columns[1:])].corr()"
   ]
  },
  {
   "cell_type": "code",
   "execution_count": 9,
   "metadata": {},
   "outputs": [],
   "source": [
    "if 'CONTENT_CATEGORY_BOTTOM' in pageview.columns:\n",
    "    del pageview['CONTENT_CATEGORY_BOTTOM']\n",
    "\n",
    "if 'month' in pageview.columns:\n",
    "    del pageview['month']\n",
    "\n",
    "if 'month' in device_data.columns:\n",
    "    del device_data['month']"
   ]
  },
  {
   "cell_type": "code",
   "execution_count": 10,
   "metadata": {},
   "outputs": [
    {
     "data": {
      "text/html": [
       "<table style=\"display:inline;padding-right:5%\" border=\"1\" class=\"dataframe\">\n",
       "  <thead>\n",
       "    <tr style=\"text-align: right;\">\n",
       "      <th></th>\n",
       "      <th>USER_ID</th>\n",
       "    </tr>\n",
       "    <tr>\n",
       "      <th>trimestre</th>\n",
       "      <th></th>\n",
       "    </tr>\n",
       "  </thead>\n",
       "  <tbody>\n",
       "    <tr>\n",
       "      <th>1</th>\n",
       "      <td>4850505</td>\n",
       "    </tr>\n",
       "    <tr>\n",
       "      <th>2</th>\n",
       "      <td>5676747</td>\n",
       "    </tr>\n",
       "    <tr>\n",
       "      <th>3</th>\n",
       "      <td>6154559</td>\n",
       "    </tr>\n",
       "    <tr>\n",
       "      <th>4</th>\n",
       "      <td>6176867</td>\n",
       "    </tr>\n",
       "  </tbody>\n",
       "</table style=\"display:inline;padding-right:5%\"><table style=\"display:inline;padding-right:5%\" border=\"1\" class=\"dataframe\">\n",
       "  <thead>\n",
       "    <tr style=\"text-align: right;\">\n",
       "      <th></th>\n",
       "      <th>USER_ID</th>\n",
       "    </tr>\n",
       "    <tr>\n",
       "      <th>trimestre</th>\n",
       "      <th></th>\n",
       "    </tr>\n",
       "  </thead>\n",
       "  <tbody>\n",
       "    <tr>\n",
       "      <th>1</th>\n",
       "      <td>565179</td>\n",
       "    </tr>\n",
       "    <tr>\n",
       "      <th>2</th>\n",
       "      <td>746963</td>\n",
       "    </tr>\n",
       "    <tr>\n",
       "      <th>3</th>\n",
       "      <td>781129</td>\n",
       "    </tr>\n",
       "    <tr>\n",
       "      <th>4</th>\n",
       "      <td>778135</td>\n",
       "    </tr>\n",
       "  </tbody>\n",
       "</table style=\"display:inline;padding-right:5%\">"
      ]
     },
     "metadata": {},
     "output_type": "display_data"
    }
   ],
   "source": [
    "display_horizontal(\n",
    "    pageview.groupby(['trimestre']).count()[col_user], \n",
    "    device_data.groupby(['trimestre']).count()[col_user]\n",
    ")"
   ]
  },
  {
   "cell_type": "code",
   "execution_count": 11,
   "metadata": {},
   "outputs": [
    {
     "data": {
      "text/plain": [
       "11676"
      ]
     },
     "execution_count": 11,
     "metadata": {},
     "output_type": "execute_result"
    }
   ],
   "source": [
    "all_user = set(list(pageview[col_user].unique()))\n",
    "len(all_user)"
   ]
  },
  {
   "cell_type": "code",
   "execution_count": 12,
   "metadata": {},
   "outputs": [
    {
     "name": "stdout",
     "output_type": "stream",
     "text": [
      "----->  PAGE\n",
      "----->  CONTENT_CATEGORY\n",
      "----->  CONTENT_CATEGORY_TOP\n",
      "----->  PAGE_PREVIOUS\n",
      "----->  SITE_ID\n",
      "----->  ON_SITE_SEARCH_TERM\n",
      "----->  weekday_view\n",
      "----->  schedule_view\n",
      "----->  day_cut_view\n"
     ]
    },
    {
     "data": {
      "text/plain": [
       "(11676, 3857)"
      ]
     },
     "execution_count": 12,
     "metadata": {},
     "output_type": "execute_result"
    }
   ],
   "source": [
    "X_test = get_format_data(add_schedule_weekday(pageview.copy()))\n",
    "X_test.shape"
   ]
  },
  {
   "cell_type": "code",
   "execution_count": 13,
   "metadata": {},
   "outputs": [
    {
     "name": "stdout",
     "output_type": "stream",
     "text": [
      "----->  CONNECTION_SPEED\n",
      "----->  IS_MOBILE_DEVICE\n",
      "----->  weekday_view\n",
      "----->  schedule_view\n",
      "----->  day_cut_view\n"
     ]
    },
    {
     "data": {
      "text/plain": [
       "(11676, 21)"
      ]
     },
     "execution_count": 13,
     "metadata": {},
     "output_type": "execute_result"
    }
   ],
   "source": [
    "X_device = get_format_data(add_schedule_weekday(device_data.copy(), sufijo=sufijo_device))\n",
    "X_device.shape"
   ]
  },
  {
   "cell_type": "code",
   "execution_count": 14,
   "metadata": {},
   "outputs": [
    {
     "data": {
      "text/html": [
       "<div>\n",
       "<style scoped>\n",
       "    .dataframe tbody tr th:only-of-type {\n",
       "        vertical-align: middle;\n",
       "    }\n",
       "\n",
       "    .dataframe tbody tr th {\n",
       "        vertical-align: top;\n",
       "    }\n",
       "\n",
       "    .dataframe thead th {\n",
       "        text-align: right;\n",
       "    }\n",
       "</style>\n",
       "<table border=\"1\" class=\"dataframe\">\n",
       "  <thead>\n",
       "    <tr style=\"text-align: right;\">\n",
       "      <th></th>\n",
       "      <th>PAGE_1</th>\n",
       "      <th>PAGE_10</th>\n",
       "    </tr>\n",
       "    <tr>\n",
       "      <th>USER_ID</th>\n",
       "      <th></th>\n",
       "      <th></th>\n",
       "    </tr>\n",
       "  </thead>\n",
       "  <tbody>\n",
       "    <tr>\n",
       "      <th>0</th>\n",
       "      <td>0.028305</td>\n",
       "      <td>0.114619</td>\n",
       "    </tr>\n",
       "    <tr>\n",
       "      <th>1</th>\n",
       "      <td>0.103318</td>\n",
       "      <td>0.128436</td>\n",
       "    </tr>\n",
       "    <tr>\n",
       "      <th>2</th>\n",
       "      <td>0.032531</td>\n",
       "      <td>0.059992</td>\n",
       "    </tr>\n",
       "    <tr>\n",
       "      <th>3</th>\n",
       "      <td>0.005171</td>\n",
       "      <td>0.000000</td>\n",
       "    </tr>\n",
       "    <tr>\n",
       "      <th>4</th>\n",
       "      <td>0.010631</td>\n",
       "      <td>0.176546</td>\n",
       "    </tr>\n",
       "  </tbody>\n",
       "</table>\n",
       "</div>"
      ],
      "text/plain": [
       "           PAGE_1   PAGE_10\n",
       "USER_ID                    \n",
       "0        0.028305  0.114619\n",
       "1        0.103318  0.128436\n",
       "2        0.032531  0.059992\n",
       "3        0.005171  0.000000\n",
       "4        0.010631  0.176546"
      ]
     },
     "metadata": {},
     "output_type": "display_data"
    },
    {
     "data": {
      "text/plain": [
       "(3857, pandas.core.frame.DataFrame)"
      ]
     },
     "execution_count": 14,
     "metadata": {},
     "output_type": "execute_result"
    }
   ],
   "source": [
    "all_columns = list(X_test.columns)\n",
    "X_test_mini = X_test[list(X_test.columns)[:2]].sort_index()\n",
    "display(X_test_mini.head())\n",
    "\n",
    "len(all_columns), type(X_test)"
   ]
  },
  {
   "cell_type": "code",
   "execution_count": 15,
   "metadata": {},
   "outputs": [
    {
     "name": "stdout",
     "output_type": "stream",
     "text": [
      "//////////////////// 1 (4850505, 9)  usuarios detectados:  10935\n",
      "----->  PAGE\n",
      "----->  CONTENT_CATEGORY\n",
      "----->  CONTENT_CATEGORY_TOP\n",
      "----->  PAGE_PREVIOUS\n",
      "----->  SITE_ID\n",
      "----->  ON_SITE_SEARCH_TERM\n",
      "----->  weekday_view\n",
      "----->  schedule_view\n",
      "----->  day_cut_view\n",
      "X_test_intern:  (10935, 2833)\n",
      "cols_common_view::  2833\n",
      "//////////////////// 2 (10527252, 9)  usuarios detectados:  11313\n",
      "----->  PAGE\n",
      "----->  CONTENT_CATEGORY\n",
      "----->  CONTENT_CATEGORY_TOP\n",
      "----->  PAGE_PREVIOUS\n",
      "----->  SITE_ID\n",
      "----->  ON_SITE_SEARCH_TERM\n",
      "----->  weekday_view\n",
      "----->  schedule_view\n",
      "----->  day_cut_view\n",
      "X_test_intern:  (11313, 3303)\n",
      "cols_common_view::  2833\n",
      "//////////////////// 3 (16681811, 9)  usuarios detectados:  11528\n",
      "----->  PAGE\n",
      "----->  CONTENT_CATEGORY\n",
      "----->  CONTENT_CATEGORY_TOP\n",
      "----->  PAGE_PREVIOUS\n",
      "----->  SITE_ID\n",
      "----->  ON_SITE_SEARCH_TERM\n",
      "----->  weekday_view\n",
      "----->  schedule_view\n",
      "----->  day_cut_view\n",
      "X_test_intern:  (11528, 3560)\n",
      "cols_common_view::  2833\n"
     ]
    }
   ],
   "source": [
    "data_view = []\n",
    "cols_common_view = set()\n",
    "\n",
    "for val in list(pageview['trimestre'].unique())[:-1]:\n",
    "    print(\"/\"*20, val, end=' ')\n",
    "    page_trim = pageview[pageview['trimestre'] <= val]\n",
    "    print(page_trim.shape, ' usuarios detectados: ',len(set(page_trim[col_user].unique())))\n",
    "\n",
    "    # FORMAT DATA\n",
    "    X_test_intern = get_format_data(add_schedule_weekday(page_trim))\n",
    "    print(\"X_test_intern: \", X_test_intern.shape)\n",
    "    \n",
    "    # SELECT COMMON COLUMNSX_test_intern\n",
    "    cols_common_view = set(X_test_intern.columns) if not cols_common_view else cols_common_view.intersection(set(X_test_intern.columns))\n",
    "    print(\"cols_common_view:: \", len(cols_common_view))\n",
    "    \n",
    "    data_view.append(X_test_intern.copy())\n",
    "    del X_test_intern\n",
    "    del page_trim\n",
    "\n",
    "# data_view = pd.concat(data_view, axis=0)\n",
    "del pageview"
   ]
  },
  {
   "cell_type": "code",
   "execution_count": 16,
   "metadata": {},
   "outputs": [
    {
     "data": {
      "text/plain": [
       "3"
      ]
     },
     "execution_count": 16,
     "metadata": {},
     "output_type": "execute_result"
    }
   ],
   "source": [
    "len(data_view)"
   ]
  },
  {
   "cell_type": "code",
   "execution_count": 17,
   "metadata": {},
   "outputs": [
    {
     "name": "stdout",
     "output_type": "stream",
     "text": [
      "(10935, 2833)\n",
      "(11313, 2833)\n",
      "(11528, 2833)\n"
     ]
    }
   ],
   "source": [
    "\n",
    "data_view = [_[list(cols_common_view)] for _ in data_view]\n",
    "\n",
    "for dat in data_view:\n",
    "    print(dat.shape)\n"
   ]
  },
  {
   "cell_type": "markdown",
   "metadata": {},
   "source": [
    "## LOAD CONVERTIONS"
   ]
  },
  {
   "cell_type": "code",
   "execution_count": 18,
   "metadata": {},
   "outputs": [
    {
     "data": {
      "text/html": [
       "<div>\n",
       "<style scoped>\n",
       "    .dataframe tbody tr th:only-of-type {\n",
       "        vertical-align: middle;\n",
       "    }\n",
       "\n",
       "    .dataframe tbody tr th {\n",
       "        vertical-align: top;\n",
       "    }\n",
       "\n",
       "    .dataframe thead th {\n",
       "        text-align: right;\n",
       "    }\n",
       "</style>\n",
       "<table border=\"1\" class=\"dataframe\">\n",
       "  <thead>\n",
       "    <tr style=\"text-align: right;\">\n",
       "      <th></th>\n",
       "      <th>USER_ID</th>\n",
       "      <th>mes</th>\n",
       "    </tr>\n",
       "  </thead>\n",
       "  <tbody>\n",
       "    <tr>\n",
       "      <th>0</th>\n",
       "      <td>13</td>\n",
       "      <td>8</td>\n",
       "    </tr>\n",
       "    <tr>\n",
       "      <th>1</th>\n",
       "      <td>22</td>\n",
       "      <td>12</td>\n",
       "    </tr>\n",
       "    <tr>\n",
       "      <th>2</th>\n",
       "      <td>40</td>\n",
       "      <td>1</td>\n",
       "    </tr>\n",
       "    <tr>\n",
       "      <th>3</th>\n",
       "      <td>57</td>\n",
       "      <td>6</td>\n",
       "    </tr>\n",
       "    <tr>\n",
       "      <th>4</th>\n",
       "      <td>92</td>\n",
       "      <td>3</td>\n",
       "    </tr>\n",
       "  </tbody>\n",
       "</table>\n",
       "</div>"
      ],
      "text/plain": [
       "   USER_ID  mes\n",
       "0       13    8\n",
       "1       22   12\n",
       "2       40    1\n",
       "3       57    6\n",
       "4       92    3"
      ]
     },
     "metadata": {},
     "output_type": "display_data"
    },
    {
     "data": {
      "text/plain": [
       "(1564, 2)"
      ]
     },
     "execution_count": 18,
     "metadata": {},
     "output_type": "execute_result"
    }
   ],
   "source": [
    "convertion = pd.read_csv(\n",
    "    \"{}/conversiones.csv\".format(subfolder), dtype={col_user: int, 'mes': int}\n",
    ").drop_duplicates()[['USER_ID','mes']].sort_values(\n",
    "    ['USER_ID','mes']\n",
    ").reset_index(drop=True)\n",
    "\n",
    "display(convertion.head())\n",
    "convertion.shape"
   ]
  },
  {
   "cell_type": "code",
   "execution_count": 19,
   "metadata": {},
   "outputs": [
    {
     "name": "stdout",
     "output_type": "stream",
     "text": [
      "USER_ID (1086,)\n",
      "mes (12,)\n",
      "trimestre (4,)\n"
     ]
    },
    {
     "data": {
      "text/html": [
       "<div>\n",
       "<style scoped>\n",
       "    .dataframe tbody tr th:only-of-type {\n",
       "        vertical-align: middle;\n",
       "    }\n",
       "\n",
       "    .dataframe tbody tr th {\n",
       "        vertical-align: top;\n",
       "    }\n",
       "\n",
       "    .dataframe thead th {\n",
       "        text-align: right;\n",
       "    }\n",
       "</style>\n",
       "<table border=\"1\" class=\"dataframe\">\n",
       "  <thead>\n",
       "    <tr style=\"text-align: right;\">\n",
       "      <th></th>\n",
       "      <th>USER_ID</th>\n",
       "      <th>trimestre</th>\n",
       "    </tr>\n",
       "  </thead>\n",
       "  <tbody>\n",
       "    <tr>\n",
       "      <th>0</th>\n",
       "      <td>13</td>\n",
       "      <td>3</td>\n",
       "    </tr>\n",
       "    <tr>\n",
       "      <th>1</th>\n",
       "      <td>22</td>\n",
       "      <td>4</td>\n",
       "    </tr>\n",
       "    <tr>\n",
       "      <th>2</th>\n",
       "      <td>40</td>\n",
       "      <td>1</td>\n",
       "    </tr>\n",
       "    <tr>\n",
       "      <th>3</th>\n",
       "      <td>57</td>\n",
       "      <td>2</td>\n",
       "    </tr>\n",
       "    <tr>\n",
       "      <th>4</th>\n",
       "      <td>92</td>\n",
       "      <td>1</td>\n",
       "    </tr>\n",
       "  </tbody>\n",
       "</table>\n",
       "</div>"
      ],
      "text/plain": [
       "   USER_ID  trimestre\n",
       "0       13          3\n",
       "1       22          4\n",
       "2       40          1\n",
       "3       57          2\n",
       "4       92          1"
      ]
     },
     "execution_count": 19,
     "metadata": {},
     "output_type": "execute_result"
    }
   ],
   "source": [
    "convertion['trimestre'] = convertion['mes'].apply(get_trimestre)\n",
    "for col in convertion.columns:\n",
    "    print(col, convertion[col].unique().shape)\n",
    "\n",
    "del convertion['mes']\n",
    "convertion.head()"
   ]
  },
  {
   "cell_type": "code",
   "execution_count": 20,
   "metadata": {},
   "outputs": [
    {
     "data": {
      "text/plain": [
       "(2833, set)"
      ]
     },
     "execution_count": 20,
     "metadata": {},
     "output_type": "execute_result"
    }
   ],
   "source": [
    "len(cols_common_view), type(cols_common_view)"
   ]
  },
  {
   "cell_type": "code",
   "execution_count": 21,
   "metadata": {},
   "outputs": [
    {
     "name": "stdout",
     "output_type": "stream",
     "text": [
      "//////////////////// 1\n",
      "//////////////////// 2\n",
      "//////////////////// 3\n",
      "//////////////////// 4\n"
     ]
    },
    {
     "data": {
      "text/plain": [
       "2834"
      ]
     },
     "execution_count": 21,
     "metadata": {},
     "output_type": "execute_result"
    }
   ],
   "source": [
    "data_conv = []\n",
    "col_target = 'TARGET'\n",
    "\n",
    "\n",
    "def get_convertions(data_trim, data_analysis):\n",
    "    users_data = data_analysis.index\n",
    "    current = pd.Series(0, index=users_data)\n",
    "    \n",
    "    idx = set(\n",
    "        data_trim.USER_ID.unique()\n",
    "    ).intersection(\n",
    "        set(users_data)\n",
    "    )\n",
    "\n",
    "    current.loc[list(idx)] = 1\n",
    "    return current\n",
    "\n",
    "for val in sorted(list(convertion['trimestre'].unique())):\n",
    "    print(\"/\"*20, val)\n",
    "    conv_trim = convertion[convertion['trimestre'] == val].drop_duplicates().reset_index(drop=True)\n",
    "    \n",
    "    if val <= len(data_view):\n",
    "        data_view[val-1]['current'] = get_convertions(conv_trim, data_view[val-1])\n",
    "        \n",
    "    elif val == len(data_view) + 1:\n",
    "        X_test['current'] = get_convertions(conv_trim, X_test)\n",
    "        \n",
    "    if val > 1:\n",
    "        data_view[val-2][col_target] = get_convertions(conv_trim, data_view[val-2])\n",
    "            \n",
    "    \n",
    "cols_common_view.add('current')\n",
    "len(cols_common_view)"
   ]
  },
  {
   "cell_type": "code",
   "execution_count": 22,
   "metadata": {},
   "outputs": [
    {
     "name": "stdout",
     "output_type": "stream",
     "text": [
      "<class 'pandas.core.frame.DataFrame'> (10935, 2835) True True\n",
      "<class 'pandas.core.frame.DataFrame'> (11313, 2835) True True\n",
      "<class 'pandas.core.frame.DataFrame'> (11528, 2835) True True\n"
     ]
    }
   ],
   "source": [
    "for dat in data_view:\n",
    "    print(type(dat), dat.shape, col_target in dat.columns, 'current' in dat.columns)"
   ]
  },
  {
   "cell_type": "code",
   "execution_count": 23,
   "metadata": {},
   "outputs": [
    {
     "data": {
      "text/plain": [
       "((11676, 3858), True)"
      ]
     },
     "execution_count": 23,
     "metadata": {},
     "output_type": "execute_result"
    }
   ],
   "source": [
    "X_test.shape, 'current' in X_test.columns"
   ]
  },
  {
   "cell_type": "code",
   "execution_count": 24,
   "metadata": {},
   "outputs": [
    {
     "data": {
      "text/plain": [
       "(2834, True)"
      ]
     },
     "execution_count": 24,
     "metadata": {},
     "output_type": "execute_result"
    }
   ],
   "source": [
    "len(cols_common_view), 'current' in list(cols_common_view)"
   ]
  },
  {
   "cell_type": "code",
   "execution_count": 25,
   "metadata": {},
   "outputs": [
    {
     "name": "stdout",
     "output_type": "stream",
     "text": [
      "data: (33498, 2835)\n"
     ]
    },
    {
     "data": {
      "text/plain": [
       "((33498, 2834), (11676, 2834), (33498,))"
      ]
     },
     "execution_count": 25,
     "metadata": {},
     "output_type": "execute_result"
    }
   ],
   "source": [
    "cols_common_view = list(cols_common_view)\n",
    "X_test = X_test[cols_common_view]\n",
    " \n",
    "cols_common_view = cols_common_view + [col_target]\n",
    "\n",
    "data = pd.concat(\n",
    "    [_[cols_common_view] for _ in data_view], axis=0\n",
    ")                    \n",
    "data = data.drop_duplicates()\n",
    "print(\"data:\", data.shape)\n",
    "\n",
    "X_train = data.drop([col_target], axis=1)\n",
    "y_train = data[col_target]\n",
    "\n",
    "del data\n",
    "X_train.shape, X_test.shape, y_train.shape"
   ]
  },
  {
   "cell_type": "code",
   "execution_count": 26,
   "metadata": {},
   "outputs": [
    {
     "data": {
      "text/plain": [
       "0    0.965729\n",
       "1    0.034271\n",
       "Name: TARGET, dtype: float64"
      ]
     },
     "execution_count": 26,
     "metadata": {},
     "output_type": "execute_result"
    }
   ],
   "source": [
    "y_train.value_counts(dropna=False, normalize=True)"
   ]
  },
  {
   "cell_type": "code",
   "execution_count": 27,
   "metadata": {},
   "outputs": [],
   "source": [
    "def var_cols_relevants(sfm, X):\n",
    "    bool_select_var = list(sfm.get_support())\n",
    "    list_columns = list(X.columns)\n",
    "    return list({\n",
    "       list_columns[i]: bool_select_var[i] for i in range(len(list_columns)) if bool_select_var[i]\n",
    "    }.keys())"
   ]
  },
  {
   "cell_type": "code",
   "execution_count": null,
   "metadata": {},
   "outputs": [],
   "source": []
  },
  {
   "cell_type": "code",
   "execution_count": null,
   "metadata": {},
   "outputs": [],
   "source": []
  },
  {
   "cell_type": "code",
   "execution_count": null,
   "metadata": {},
   "outputs": [],
   "source": []
  },
  {
   "cell_type": "code",
   "execution_count": null,
   "metadata": {},
   "outputs": [],
   "source": []
  },
  {
   "cell_type": "markdown",
   "metadata": {},
   "source": [
    "## PREPARATE DATA"
   ]
  },
  {
   "cell_type": "code",
   "execution_count": 28,
   "metadata": {},
   "outputs": [
    {
     "data": {
      "text/plain": [
       "'\\nlasso_cv = LassoCV(cv=kfold_off, random_state=SEED, verbose=1, n_jobs=4)\\nsfm = SelectFromModel(lasso_cv)\\nsfm.fit(X_train, y_train)\\n\\nlist_var_relevants = var_cols_relevants(sfm, X_train)\\nprint(list_var_relevants)\\nX_train = X_train[list_var_relevants]\\nX_test_k = X_test_k[list_var_relevants]\\n'"
      ]
     },
     "execution_count": 28,
     "metadata": {},
     "output_type": "execute_result"
    }
   ],
   "source": [
    "from sklearn.linear_model import LassoCV\n",
    "from sklearn.feature_selection import SelectFromModel\n",
    "from lightgbm import LGBMClassifier\n",
    "from sklearn import model_selection\n",
    "from sklearn.metrics import roc_auc_score\n",
    "from sklearn.model_selection import StratifiedShuffleSplit, StratifiedKFold, TimeSeriesSplit\n",
    "from sklearn.model_selection import GridSearchCV\n",
    "from sklearn import model_selection\n",
    "from sklearn.metrics import roc_auc_score\n",
    "from sklearn.model_selection import StratifiedShuffleSplit, StratifiedKFold, TimeSeriesSplit\n",
    "from sklearn.model_selection import GridSearchCV\n",
    "from sklearn.model_selection import TimeSeriesSplit, cross_val_score, GridSearchCV\n",
    "from sklearn.linear_model import LogisticRegression\n",
    "from sklearn.discriminant_analysis import QuadraticDiscriminantAnalysis\n",
    "from sklearn.feature_selection import VarianceThreshold\n",
    "from sklearn.decomposition import PCA\n",
    "from sklearn.cluster import KMeans\n",
    "from sklearn.neighbors import KNeighborsClassifier\n",
    "\n",
    "kfold_off = StratifiedKFold(\n",
    "    n_splits=10, \n",
    "    shuffle=False, \n",
    "    random_state=SEED\n",
    ")\n",
    "time_split = TimeSeriesSplit(\n",
    "    n_splits=10\n",
    ")\n",
    "\n",
    "\"\"\"\n",
    "lasso_cv = LassoCV(cv=kfold_off, random_state=SEED, verbose=1, n_jobs=4)\n",
    "sfm = SelectFromModel(lasso_cv)\n",
    "sfm.fit(X_train, y_train)\n",
    "\n",
    "list_var_relevants = var_cols_relevants(sfm, X_train)\n",
    "print(list_var_relevants)\n",
    "X_train = X_train[list_var_relevants]\n",
    "X_test_k = X_test_k[list_var_relevants]\n",
    "\"\"\""
   ]
  },
  {
   "cell_type": "code",
   "execution_count": 29,
   "metadata": {},
   "outputs": [
    {
     "name": "stdout",
     "output_type": "stream",
     "text": [
      "CPU times: user 3 µs, sys: 0 ns, total: 3 µs\n",
      "Wall time: 6.91 µs\n"
     ]
    },
    {
     "data": {
      "text/plain": [
       "'\\nlogit = LogisticRegression(\\n    C=2.3263050671536263, \\n    random_state=SEED, \\n    solver=\\'saga\\', \\n    class_weight=\\'balanced\\', \\n    penalty=\\'l2\\', \\n    n_jobs = 4\\n)\\ncv_scores1 = cross_val_score(\\n    logit, X_train, y_train, cv=kfold_off, \\n    scoring=\\'roc_auc\\', n_jobs=4\\n)\\n\\nprint(cv_scores1)\\nprint(\"/\"*20, cv_scores1.mean())\\n'"
      ]
     },
     "execution_count": 29,
     "metadata": {},
     "output_type": "execute_result"
    }
   ],
   "source": [
    "%%time\n",
    "\"\"\"\n",
    "logit = LogisticRegression(\n",
    "    C=2.3263050671536263, \n",
    "    random_state=SEED, \n",
    "    solver='saga', \n",
    "    class_weight='balanced', \n",
    "    penalty='l2', \n",
    "    n_jobs = 4\n",
    ")\n",
    "cv_scores1 = cross_val_score(\n",
    "    logit, X_train, y_train, cv=kfold_off, \n",
    "    scoring='roc_auc', n_jobs=4\n",
    ")\n",
    "\n",
    "print(cv_scores1)\n",
    "print(\"/\"*20, cv_scores1.mean())\n",
    "\"\"\""
   ]
  },
  {
   "cell_type": "code",
   "execution_count": 30,
   "metadata": {},
   "outputs": [
    {
     "name": "stdout",
     "output_type": "stream",
     "text": [
      "CPU times: user 3 µs, sys: 1e+03 ns, total: 4 µs\n",
      "Wall time: 6.44 µs\n"
     ]
    },
    {
     "data": {
      "text/plain": [
       "'\\nbest_parameter = {\\n    \\'bagging_fraction\\': 0.95, \\n    \\'boosting\\': \\'dart\\', \\n    \\'feature_fraction\\': 0.1, \\n    \\'is_unbalance\\': True, \\n    \\'learning_rate\\': 0.025, \\n    \\'max_depth\\': 55, \\n    \\'metric\\': \\'auc\\', \\n    \\'min_gain_to_split\\': 1, \\n    \\'n_estimators\\': 500,\\n    \\'skip_drop\\': 0.5,\\n    \\'tree_learner\\': \\'serial\\',\\n    \\'xgboost_dart_mode\\': False\\n}\\n\\nmodel_lgbm =  LGBMClassifier(\\n    seed=SEED, **best_parameter\\n)\\ncv_scores2 = cross_val_score(\\n    model_lgbm, X_train, y_train, cv=kfold_off, \\n    scoring=\\'roc_auc\\', n_jobs=4\\n)\\n\\nprint(cv_scores2)\\nprint(\"/\"*20, cv_scores2.mean())\\n'"
      ]
     },
     "execution_count": 30,
     "metadata": {},
     "output_type": "execute_result"
    }
   ],
   "source": [
    "%%time\n",
    "\"\"\"\n",
    "best_parameter = {\n",
    "    'bagging_fraction': 0.95, \n",
    "    'boosting': 'dart', \n",
    "    'feature_fraction': 0.1, \n",
    "    'is_unbalance': True, \n",
    "    'learning_rate': 0.025, \n",
    "    'max_depth': 55, \n",
    "    'metric': 'auc', \n",
    "    'min_gain_to_split': 1, \n",
    "    'n_estimators': 500,\n",
    "    'skip_drop': 0.5,\n",
    "    'tree_learner': 'serial',\n",
    "    'xgboost_dart_mode': False\n",
    "}\n",
    "\n",
    "model_lgbm =  LGBMClassifier(\n",
    "    seed=SEED, **best_parameter\n",
    ")\n",
    "cv_scores2 = cross_val_score(\n",
    "    model_lgbm, X_train, y_train, cv=kfold_off, \n",
    "    scoring='roc_auc', n_jobs=4\n",
    ")\n",
    "\n",
    "print(cv_scores2)\n",
    "print(\"/\"*20, cv_scores2.mean())\n",
    "\"\"\""
   ]
  },
  {
   "cell_type": "code",
   "execution_count": 31,
   "metadata": {},
   "outputs": [
    {
     "name": "stdout",
     "output_type": "stream",
     "text": [
      "CPU times: user 5 µs, sys: 1e+03 ns, total: 6 µs\n",
      "Wall time: 10 µs\n"
     ]
    },
    {
     "data": {
      "text/plain": [
       "'\\nmodel_knn = KNeighborsClassifier(\\n    n_neighbors=7,\\n    p=2, weights=\\'distance\\'\\n)\\ncv_scores4 = cross_val_score(\\n    model_knn, X_train, y_train, cv=kfold_off, \\n    scoring=\\'roc_auc\\', n_jobs=4\\n)\\n\\nprint(cv_scores4)\\nprint(\"/\"*20, cv_scores4.mean())\\n'"
      ]
     },
     "execution_count": 31,
     "metadata": {},
     "output_type": "execute_result"
    }
   ],
   "source": [
    "%%time\n",
    "\"\"\"\n",
    "model_knn = KNeighborsClassifier(\n",
    "    n_neighbors=7,\n",
    "    p=2, weights='distance'\n",
    ")\n",
    "cv_scores4 = cross_val_score(\n",
    "    model_knn, X_train, y_train, cv=kfold_off, \n",
    "    scoring='roc_auc', n_jobs=4\n",
    ")\n",
    "\n",
    "print(cv_scores4)\n",
    "print(\"/\"*20, cv_scores4.mean())\n",
    "\"\"\""
   ]
  },
  {
   "cell_type": "code",
   "execution_count": null,
   "metadata": {},
   "outputs": [],
   "source": []
  },
  {
   "cell_type": "markdown",
   "metadata": {},
   "source": [
    "# INIT PREDICTIONS"
   ]
  },
  {
   "cell_type": "code",
   "execution_count": 33,
   "metadata": {},
   "outputs": [
    {
     "data": {
      "text/plain": [
       "[472, 708, 944, 1180, 1416, 1652, 1888, 2124]"
      ]
     },
     "execution_count": 33,
     "metadata": {},
     "output_type": "execute_result"
    }
   ],
   "source": [
    "from sklearn.feature_selection import SelectKBest, chi2, f_classif\n",
    "num_cols = [_*int(X_train.shape[1] / 12) for _ in range(1,12)]\n",
    "num_cols[1:-2]"
   ]
  },
  {
   "cell_type": "code",
   "execution_count": 35,
   "metadata": {},
   "outputs": [],
   "source": [
    "del data_view"
   ]
  },
  {
   "cell_type": "code",
   "execution_count": 43,
   "metadata": {},
   "outputs": [],
   "source": [
    "import lightgbm as lgb\n",
    "\n",
    "best_parameter = {\n",
    "    'bagging_fraction': 0.95, \n",
    "    'boosting': 'dart', \n",
    "    'feature_fraction': 0.1, \n",
    "    'is_unbalance': True, \n",
    "    'learning_rate': 0.025, \n",
    "    'max_depth': 55, \n",
    "    'metric': 'auc', \n",
    "    'min_gain_to_split': 1, \n",
    "    'n_estimators': 500,\n",
    "    'skip_drop': 0.5,\n",
    "    'tree_learner': 'serial',\n",
    "    'xgboost_dart_mode': False\n",
    "}\n",
    "\n",
    "param_grid = {\n",
    "    k: [v] if not isinstance(v, list) else v for k, v in best_parameter.items()\n",
    "}\n",
    "\n",
    "fit_params = {\n",
    "    \"eval_metric\" : 'auc', \n",
    "    'verbose': 2\n",
    "}\n",
    "\n",
    "def apply_lgbm(X_train_part, X_test_part, y_train):\n",
    "    model_lgbm = lgb.LGBMClassifier(\n",
    "        seed=SEED, \n",
    "        feature_fraction_seed=SEED, \n",
    "        drop_seed=SEED\n",
    "    )\n",
    "    grid = GridSearchCV(\n",
    "        model_lgbm, param_grid, cv=kfold_off, \n",
    "        n_jobs=-1, scoring='roc_auc', verbose=1\n",
    "    )\n",
    "    grid.fit(X_train_part, y_train, **fit_params)\n",
    "\n",
    "    # best_params_ = grid.best_params_\n",
    "    # model_ = grid.best_estimator_\n",
    "    # score_ = grid.best_score_\n",
    "\n",
    "    print(\"-> \", grid.best_score_)\n",
    "    \n",
    "    predict_test = grid.best_estimator_.predict_proba(X_test_part)[:,1]\n",
    "    predict_test = pd.DataFrame(\n",
    "        {'USER_ID':index_test, \n",
    "         'SCORE':predict_test} \n",
    "    )\n",
    "    display(predict_test.head())\n",
    "    print(predict_test[predict_test['SCORE'] < 0.01].shape)\n",
    "    print(predict_test[predict_test['SCORE'] > 0.5].shape)\n",
    "    print(predict_test[predict_test['SCORE'] > 0.99].shape)\n",
    "    \n",
    "    predict_test.to_csv('analysis_lgbm_kof_{}.csv'.format(intent), index=False)"
   ]
  },
  {
   "cell_type": "code",
   "execution_count": 44,
   "metadata": {},
   "outputs": [
    {
     "name": "stdout",
     "output_type": "stream",
     "text": [
      ">>> (33498, 236) (11676, 236) (33498,)\n",
      "train_33498_rows_236_cols\n",
      "Fitting 10 folds for each of 1 candidates, totalling 10 fits\n"
     ]
    },
    {
     "name": "stderr",
     "output_type": "stream",
     "text": [
      "[Parallel(n_jobs=-1)]: Using backend LokyBackend with 4 concurrent workers.\n",
      "[Parallel(n_jobs=-1)]: Done  10 out of  10 | elapsed:  3.0min finished\n"
     ]
    },
    {
     "name": "stdout",
     "output_type": "stream",
     "text": [
      "->  0.8382843751812991\n"
     ]
    },
    {
     "data": {
      "text/html": [
       "<div>\n",
       "<style scoped>\n",
       "    .dataframe tbody tr th:only-of-type {\n",
       "        vertical-align: middle;\n",
       "    }\n",
       "\n",
       "    .dataframe tbody tr th {\n",
       "        vertical-align: top;\n",
       "    }\n",
       "\n",
       "    .dataframe thead th {\n",
       "        text-align: right;\n",
       "    }\n",
       "</style>\n",
       "<table border=\"1\" class=\"dataframe\">\n",
       "  <thead>\n",
       "    <tr style=\"text-align: right;\">\n",
       "      <th></th>\n",
       "      <th>USER_ID</th>\n",
       "      <th>SCORE</th>\n",
       "    </tr>\n",
       "  </thead>\n",
       "  <tbody>\n",
       "    <tr>\n",
       "      <th>0</th>\n",
       "      <td>0</td>\n",
       "      <td>0.127352</td>\n",
       "    </tr>\n",
       "    <tr>\n",
       "      <th>1</th>\n",
       "      <td>1</td>\n",
       "      <td>0.114441</td>\n",
       "    </tr>\n",
       "    <tr>\n",
       "      <th>2</th>\n",
       "      <td>2</td>\n",
       "      <td>0.105543</td>\n",
       "    </tr>\n",
       "    <tr>\n",
       "      <th>3</th>\n",
       "      <td>3</td>\n",
       "      <td>0.240049</td>\n",
       "    </tr>\n",
       "    <tr>\n",
       "      <th>4</th>\n",
       "      <td>4</td>\n",
       "      <td>0.584474</td>\n",
       "    </tr>\n",
       "  </tbody>\n",
       "</table>\n",
       "</div>"
      ],
      "text/plain": [
       "   USER_ID     SCORE\n",
       "0        0  0.127352\n",
       "1        1  0.114441\n",
       "2        2  0.105543\n",
       "3        3  0.240049\n",
       "4        4  0.584474"
      ]
     },
     "metadata": {},
     "output_type": "display_data"
    },
    {
     "name": "stdout",
     "output_type": "stream",
     "text": [
      "(0, 2)\n",
      "(2883, 2)\n",
      "(0, 2)\n",
      ">>> (33498, 472) (11676, 472) (33498,)\n",
      "train_33498_rows_472_cols\n",
      "Fitting 10 folds for each of 1 candidates, totalling 10 fits\n"
     ]
    },
    {
     "name": "stderr",
     "output_type": "stream",
     "text": [
      "[Parallel(n_jobs=-1)]: Using backend LokyBackend with 4 concurrent workers.\n",
      "[Parallel(n_jobs=-1)]: Done  10 out of  10 | elapsed:  3.6min finished\n"
     ]
    },
    {
     "name": "stdout",
     "output_type": "stream",
     "text": [
      "->  0.8407915130528555\n"
     ]
    },
    {
     "data": {
      "text/html": [
       "<div>\n",
       "<style scoped>\n",
       "    .dataframe tbody tr th:only-of-type {\n",
       "        vertical-align: middle;\n",
       "    }\n",
       "\n",
       "    .dataframe tbody tr th {\n",
       "        vertical-align: top;\n",
       "    }\n",
       "\n",
       "    .dataframe thead th {\n",
       "        text-align: right;\n",
       "    }\n",
       "</style>\n",
       "<table border=\"1\" class=\"dataframe\">\n",
       "  <thead>\n",
       "    <tr style=\"text-align: right;\">\n",
       "      <th></th>\n",
       "      <th>USER_ID</th>\n",
       "      <th>SCORE</th>\n",
       "    </tr>\n",
       "  </thead>\n",
       "  <tbody>\n",
       "    <tr>\n",
       "      <th>0</th>\n",
       "      <td>0</td>\n",
       "      <td>0.133942</td>\n",
       "    </tr>\n",
       "    <tr>\n",
       "      <th>1</th>\n",
       "      <td>1</td>\n",
       "      <td>0.144071</td>\n",
       "    </tr>\n",
       "    <tr>\n",
       "      <th>2</th>\n",
       "      <td>2</td>\n",
       "      <td>0.083338</td>\n",
       "    </tr>\n",
       "    <tr>\n",
       "      <th>3</th>\n",
       "      <td>3</td>\n",
       "      <td>0.171644</td>\n",
       "    </tr>\n",
       "    <tr>\n",
       "      <th>4</th>\n",
       "      <td>4</td>\n",
       "      <td>0.461158</td>\n",
       "    </tr>\n",
       "  </tbody>\n",
       "</table>\n",
       "</div>"
      ],
      "text/plain": [
       "   USER_ID     SCORE\n",
       "0        0  0.133942\n",
       "1        1  0.144071\n",
       "2        2  0.083338\n",
       "3        3  0.171644\n",
       "4        4  0.461158"
      ]
     },
     "metadata": {},
     "output_type": "display_data"
    },
    {
     "name": "stdout",
     "output_type": "stream",
     "text": [
      "(0, 2)\n",
      "(2734, 2)\n",
      "(0, 2)\n",
      ">>> (33498, 708) (11676, 708) (33498,)\n",
      "train_33498_rows_708_cols\n",
      "Fitting 10 folds for each of 1 candidates, totalling 10 fits\n"
     ]
    },
    {
     "name": "stderr",
     "output_type": "stream",
     "text": [
      "[Parallel(n_jobs=-1)]: Using backend LokyBackend with 4 concurrent workers.\n",
      "[Parallel(n_jobs=-1)]: Done  10 out of  10 | elapsed:  3.9min finished\n"
     ]
    },
    {
     "name": "stdout",
     "output_type": "stream",
     "text": [
      "->  0.8404953264141511\n"
     ]
    },
    {
     "data": {
      "text/html": [
       "<div>\n",
       "<style scoped>\n",
       "    .dataframe tbody tr th:only-of-type {\n",
       "        vertical-align: middle;\n",
       "    }\n",
       "\n",
       "    .dataframe tbody tr th {\n",
       "        vertical-align: top;\n",
       "    }\n",
       "\n",
       "    .dataframe thead th {\n",
       "        text-align: right;\n",
       "    }\n",
       "</style>\n",
       "<table border=\"1\" class=\"dataframe\">\n",
       "  <thead>\n",
       "    <tr style=\"text-align: right;\">\n",
       "      <th></th>\n",
       "      <th>USER_ID</th>\n",
       "      <th>SCORE</th>\n",
       "    </tr>\n",
       "  </thead>\n",
       "  <tbody>\n",
       "    <tr>\n",
       "      <th>0</th>\n",
       "      <td>0</td>\n",
       "      <td>0.121275</td>\n",
       "    </tr>\n",
       "    <tr>\n",
       "      <th>1</th>\n",
       "      <td>1</td>\n",
       "      <td>0.131428</td>\n",
       "    </tr>\n",
       "    <tr>\n",
       "      <th>2</th>\n",
       "      <td>2</td>\n",
       "      <td>0.086441</td>\n",
       "    </tr>\n",
       "    <tr>\n",
       "      <th>3</th>\n",
       "      <td>3</td>\n",
       "      <td>0.208730</td>\n",
       "    </tr>\n",
       "    <tr>\n",
       "      <th>4</th>\n",
       "      <td>4</td>\n",
       "      <td>0.549783</td>\n",
       "    </tr>\n",
       "  </tbody>\n",
       "</table>\n",
       "</div>"
      ],
      "text/plain": [
       "   USER_ID     SCORE\n",
       "0        0  0.121275\n",
       "1        1  0.131428\n",
       "2        2  0.086441\n",
       "3        3  0.208730\n",
       "4        4  0.549783"
      ]
     },
     "metadata": {},
     "output_type": "display_data"
    },
    {
     "name": "stdout",
     "output_type": "stream",
     "text": [
      "(0, 2)\n",
      "(2642, 2)\n",
      "(0, 2)\n",
      ">>> (33498, 944) (11676, 944) (33498,)\n",
      "train_33498_rows_944_cols\n",
      "Fitting 10 folds for each of 1 candidates, totalling 10 fits\n"
     ]
    },
    {
     "name": "stderr",
     "output_type": "stream",
     "text": [
      "[Parallel(n_jobs=-1)]: Using backend LokyBackend with 4 concurrent workers.\n",
      "[Parallel(n_jobs=-1)]: Done  10 out of  10 | elapsed:  4.3min finished\n"
     ]
    },
    {
     "name": "stdout",
     "output_type": "stream",
     "text": [
      "->  0.8417676301373057\n"
     ]
    },
    {
     "data": {
      "text/html": [
       "<div>\n",
       "<style scoped>\n",
       "    .dataframe tbody tr th:only-of-type {\n",
       "        vertical-align: middle;\n",
       "    }\n",
       "\n",
       "    .dataframe tbody tr th {\n",
       "        vertical-align: top;\n",
       "    }\n",
       "\n",
       "    .dataframe thead th {\n",
       "        text-align: right;\n",
       "    }\n",
       "</style>\n",
       "<table border=\"1\" class=\"dataframe\">\n",
       "  <thead>\n",
       "    <tr style=\"text-align: right;\">\n",
       "      <th></th>\n",
       "      <th>USER_ID</th>\n",
       "      <th>SCORE</th>\n",
       "    </tr>\n",
       "  </thead>\n",
       "  <tbody>\n",
       "    <tr>\n",
       "      <th>0</th>\n",
       "      <td>0</td>\n",
       "      <td>0.123286</td>\n",
       "    </tr>\n",
       "    <tr>\n",
       "      <th>1</th>\n",
       "      <td>1</td>\n",
       "      <td>0.117239</td>\n",
       "    </tr>\n",
       "    <tr>\n",
       "      <th>2</th>\n",
       "      <td>2</td>\n",
       "      <td>0.063655</td>\n",
       "    </tr>\n",
       "    <tr>\n",
       "      <th>3</th>\n",
       "      <td>3</td>\n",
       "      <td>0.201167</td>\n",
       "    </tr>\n",
       "    <tr>\n",
       "      <th>4</th>\n",
       "      <td>4</td>\n",
       "      <td>0.533792</td>\n",
       "    </tr>\n",
       "  </tbody>\n",
       "</table>\n",
       "</div>"
      ],
      "text/plain": [
       "   USER_ID     SCORE\n",
       "0        0  0.123286\n",
       "1        1  0.117239\n",
       "2        2  0.063655\n",
       "3        3  0.201167\n",
       "4        4  0.533792"
      ]
     },
     "metadata": {},
     "output_type": "display_data"
    },
    {
     "name": "stdout",
     "output_type": "stream",
     "text": [
      "(0, 2)\n",
      "(2622, 2)\n",
      "(0, 2)\n",
      ">>> (33498, 1180) (11676, 1180) (33498,)\n",
      "train_33498_rows_1180_cols\n",
      "Fitting 10 folds for each of 1 candidates, totalling 10 fits\n"
     ]
    },
    {
     "name": "stderr",
     "output_type": "stream",
     "text": [
      "[Parallel(n_jobs=-1)]: Using backend LokyBackend with 4 concurrent workers.\n",
      "[Parallel(n_jobs=-1)]: Done  10 out of  10 | elapsed:  4.6min finished\n"
     ]
    },
    {
     "name": "stdout",
     "output_type": "stream",
     "text": [
      "->  0.841079776538091\n"
     ]
    },
    {
     "data": {
      "text/html": [
       "<div>\n",
       "<style scoped>\n",
       "    .dataframe tbody tr th:only-of-type {\n",
       "        vertical-align: middle;\n",
       "    }\n",
       "\n",
       "    .dataframe tbody tr th {\n",
       "        vertical-align: top;\n",
       "    }\n",
       "\n",
       "    .dataframe thead th {\n",
       "        text-align: right;\n",
       "    }\n",
       "</style>\n",
       "<table border=\"1\" class=\"dataframe\">\n",
       "  <thead>\n",
       "    <tr style=\"text-align: right;\">\n",
       "      <th></th>\n",
       "      <th>USER_ID</th>\n",
       "      <th>SCORE</th>\n",
       "    </tr>\n",
       "  </thead>\n",
       "  <tbody>\n",
       "    <tr>\n",
       "      <th>0</th>\n",
       "      <td>0</td>\n",
       "      <td>0.116894</td>\n",
       "    </tr>\n",
       "    <tr>\n",
       "      <th>1</th>\n",
       "      <td>1</td>\n",
       "      <td>0.127357</td>\n",
       "    </tr>\n",
       "    <tr>\n",
       "      <th>2</th>\n",
       "      <td>2</td>\n",
       "      <td>0.085897</td>\n",
       "    </tr>\n",
       "    <tr>\n",
       "      <th>3</th>\n",
       "      <td>3</td>\n",
       "      <td>0.219291</td>\n",
       "    </tr>\n",
       "    <tr>\n",
       "      <th>4</th>\n",
       "      <td>4</td>\n",
       "      <td>0.521358</td>\n",
       "    </tr>\n",
       "  </tbody>\n",
       "</table>\n",
       "</div>"
      ],
      "text/plain": [
       "   USER_ID     SCORE\n",
       "0        0  0.116894\n",
       "1        1  0.127357\n",
       "2        2  0.085897\n",
       "3        3  0.219291\n",
       "4        4  0.521358"
      ]
     },
     "metadata": {},
     "output_type": "display_data"
    },
    {
     "name": "stdout",
     "output_type": "stream",
     "text": [
      "(0, 2)\n",
      "(2610, 2)\n",
      "(0, 2)\n",
      ">>> (33498, 1416) (11676, 1416) (33498,)\n",
      "train_33498_rows_1416_cols\n",
      "Fitting 10 folds for each of 1 candidates, totalling 10 fits\n"
     ]
    },
    {
     "name": "stderr",
     "output_type": "stream",
     "text": [
      "[Parallel(n_jobs=-1)]: Using backend LokyBackend with 4 concurrent workers.\n",
      "[Parallel(n_jobs=-1)]: Done  10 out of  10 | elapsed:  4.8min finished\n"
     ]
    },
    {
     "name": "stdout",
     "output_type": "stream",
     "text": [
      "->  0.8429287551152649\n"
     ]
    },
    {
     "data": {
      "text/html": [
       "<div>\n",
       "<style scoped>\n",
       "    .dataframe tbody tr th:only-of-type {\n",
       "        vertical-align: middle;\n",
       "    }\n",
       "\n",
       "    .dataframe tbody tr th {\n",
       "        vertical-align: top;\n",
       "    }\n",
       "\n",
       "    .dataframe thead th {\n",
       "        text-align: right;\n",
       "    }\n",
       "</style>\n",
       "<table border=\"1\" class=\"dataframe\">\n",
       "  <thead>\n",
       "    <tr style=\"text-align: right;\">\n",
       "      <th></th>\n",
       "      <th>USER_ID</th>\n",
       "      <th>SCORE</th>\n",
       "    </tr>\n",
       "  </thead>\n",
       "  <tbody>\n",
       "    <tr>\n",
       "      <th>0</th>\n",
       "      <td>0</td>\n",
       "      <td>0.147002</td>\n",
       "    </tr>\n",
       "    <tr>\n",
       "      <th>1</th>\n",
       "      <td>1</td>\n",
       "      <td>0.134261</td>\n",
       "    </tr>\n",
       "    <tr>\n",
       "      <th>2</th>\n",
       "      <td>2</td>\n",
       "      <td>0.076289</td>\n",
       "    </tr>\n",
       "    <tr>\n",
       "      <th>3</th>\n",
       "      <td>3</td>\n",
       "      <td>0.173833</td>\n",
       "    </tr>\n",
       "    <tr>\n",
       "      <th>4</th>\n",
       "      <td>4</td>\n",
       "      <td>0.513476</td>\n",
       "    </tr>\n",
       "  </tbody>\n",
       "</table>\n",
       "</div>"
      ],
      "text/plain": [
       "   USER_ID     SCORE\n",
       "0        0  0.147002\n",
       "1        1  0.134261\n",
       "2        2  0.076289\n",
       "3        3  0.173833\n",
       "4        4  0.513476"
      ]
     },
     "metadata": {},
     "output_type": "display_data"
    },
    {
     "name": "stdout",
     "output_type": "stream",
     "text": [
      "(0, 2)\n",
      "(2686, 2)\n",
      "(0, 2)\n",
      ">>> (33498, 1652) (11676, 1652) (33498,)\n",
      "train_33498_rows_1652_cols\n",
      "Fitting 10 folds for each of 1 candidates, totalling 10 fits\n"
     ]
    },
    {
     "name": "stderr",
     "output_type": "stream",
     "text": [
      "[Parallel(n_jobs=-1)]: Using backend LokyBackend with 4 concurrent workers.\n",
      "[Parallel(n_jobs=-1)]: Done  10 out of  10 | elapsed:  4.9min finished\n"
     ]
    },
    {
     "name": "stdout",
     "output_type": "stream",
     "text": [
      "->  0.8423753191723978\n"
     ]
    },
    {
     "data": {
      "text/html": [
       "<div>\n",
       "<style scoped>\n",
       "    .dataframe tbody tr th:only-of-type {\n",
       "        vertical-align: middle;\n",
       "    }\n",
       "\n",
       "    .dataframe tbody tr th {\n",
       "        vertical-align: top;\n",
       "    }\n",
       "\n",
       "    .dataframe thead th {\n",
       "        text-align: right;\n",
       "    }\n",
       "</style>\n",
       "<table border=\"1\" class=\"dataframe\">\n",
       "  <thead>\n",
       "    <tr style=\"text-align: right;\">\n",
       "      <th></th>\n",
       "      <th>USER_ID</th>\n",
       "      <th>SCORE</th>\n",
       "    </tr>\n",
       "  </thead>\n",
       "  <tbody>\n",
       "    <tr>\n",
       "      <th>0</th>\n",
       "      <td>0</td>\n",
       "      <td>0.137068</td>\n",
       "    </tr>\n",
       "    <tr>\n",
       "      <th>1</th>\n",
       "      <td>1</td>\n",
       "      <td>0.126414</td>\n",
       "    </tr>\n",
       "    <tr>\n",
       "      <th>2</th>\n",
       "      <td>2</td>\n",
       "      <td>0.072403</td>\n",
       "    </tr>\n",
       "    <tr>\n",
       "      <th>3</th>\n",
       "      <td>3</td>\n",
       "      <td>0.213507</td>\n",
       "    </tr>\n",
       "    <tr>\n",
       "      <th>4</th>\n",
       "      <td>4</td>\n",
       "      <td>0.475466</td>\n",
       "    </tr>\n",
       "  </tbody>\n",
       "</table>\n",
       "</div>"
      ],
      "text/plain": [
       "   USER_ID     SCORE\n",
       "0        0  0.137068\n",
       "1        1  0.126414\n",
       "2        2  0.072403\n",
       "3        3  0.213507\n",
       "4        4  0.475466"
      ]
     },
     "metadata": {},
     "output_type": "display_data"
    },
    {
     "name": "stdout",
     "output_type": "stream",
     "text": [
      "(0, 2)\n",
      "(2662, 2)\n",
      "(0, 2)\n",
      ">>> (33498, 1888) (11676, 1888) (33498,)\n",
      "train_33498_rows_1888_cols\n",
      "Fitting 10 folds for each of 1 candidates, totalling 10 fits\n"
     ]
    },
    {
     "name": "stderr",
     "output_type": "stream",
     "text": [
      "[Parallel(n_jobs=-1)]: Using backend LokyBackend with 4 concurrent workers.\n",
      "[Parallel(n_jobs=-1)]: Done  10 out of  10 | elapsed:  5.0min finished\n"
     ]
    },
    {
     "name": "stdout",
     "output_type": "stream",
     "text": [
      "->  0.8408806512331933\n"
     ]
    },
    {
     "data": {
      "text/html": [
       "<div>\n",
       "<style scoped>\n",
       "    .dataframe tbody tr th:only-of-type {\n",
       "        vertical-align: middle;\n",
       "    }\n",
       "\n",
       "    .dataframe tbody tr th {\n",
       "        vertical-align: top;\n",
       "    }\n",
       "\n",
       "    .dataframe thead th {\n",
       "        text-align: right;\n",
       "    }\n",
       "</style>\n",
       "<table border=\"1\" class=\"dataframe\">\n",
       "  <thead>\n",
       "    <tr style=\"text-align: right;\">\n",
       "      <th></th>\n",
       "      <th>USER_ID</th>\n",
       "      <th>SCORE</th>\n",
       "    </tr>\n",
       "  </thead>\n",
       "  <tbody>\n",
       "    <tr>\n",
       "      <th>0</th>\n",
       "      <td>0</td>\n",
       "      <td>0.121170</td>\n",
       "    </tr>\n",
       "    <tr>\n",
       "      <th>1</th>\n",
       "      <td>1</td>\n",
       "      <td>0.123501</td>\n",
       "    </tr>\n",
       "    <tr>\n",
       "      <th>2</th>\n",
       "      <td>2</td>\n",
       "      <td>0.077260</td>\n",
       "    </tr>\n",
       "    <tr>\n",
       "      <th>3</th>\n",
       "      <td>3</td>\n",
       "      <td>0.227011</td>\n",
       "    </tr>\n",
       "    <tr>\n",
       "      <th>4</th>\n",
       "      <td>4</td>\n",
       "      <td>0.470493</td>\n",
       "    </tr>\n",
       "  </tbody>\n",
       "</table>\n",
       "</div>"
      ],
      "text/plain": [
       "   USER_ID     SCORE\n",
       "0        0  0.121170\n",
       "1        1  0.123501\n",
       "2        2  0.077260\n",
       "3        3  0.227011\n",
       "4        4  0.470493"
      ]
     },
     "metadata": {},
     "output_type": "display_data"
    },
    {
     "name": "stdout",
     "output_type": "stream",
     "text": [
      "(0, 2)\n",
      "(2590, 2)\n",
      "(0, 2)\n",
      ">>> (33498, 2124) (11676, 2124) (33498,)\n",
      "train_33498_rows_2124_cols\n",
      "Fitting 10 folds for each of 1 candidates, totalling 10 fits\n"
     ]
    },
    {
     "name": "stderr",
     "output_type": "stream",
     "text": [
      "[Parallel(n_jobs=-1)]: Using backend LokyBackend with 4 concurrent workers.\n",
      "[Parallel(n_jobs=-1)]: Done  10 out of  10 | elapsed:  5.1min finished\n"
     ]
    },
    {
     "name": "stdout",
     "output_type": "stream",
     "text": [
      "->  0.8418768344247353\n"
     ]
    },
    {
     "data": {
      "text/html": [
       "<div>\n",
       "<style scoped>\n",
       "    .dataframe tbody tr th:only-of-type {\n",
       "        vertical-align: middle;\n",
       "    }\n",
       "\n",
       "    .dataframe tbody tr th {\n",
       "        vertical-align: top;\n",
       "    }\n",
       "\n",
       "    .dataframe thead th {\n",
       "        text-align: right;\n",
       "    }\n",
       "</style>\n",
       "<table border=\"1\" class=\"dataframe\">\n",
       "  <thead>\n",
       "    <tr style=\"text-align: right;\">\n",
       "      <th></th>\n",
       "      <th>USER_ID</th>\n",
       "      <th>SCORE</th>\n",
       "    </tr>\n",
       "  </thead>\n",
       "  <tbody>\n",
       "    <tr>\n",
       "      <th>0</th>\n",
       "      <td>0</td>\n",
       "      <td>0.121743</td>\n",
       "    </tr>\n",
       "    <tr>\n",
       "      <th>1</th>\n",
       "      <td>1</td>\n",
       "      <td>0.125040</td>\n",
       "    </tr>\n",
       "    <tr>\n",
       "      <th>2</th>\n",
       "      <td>2</td>\n",
       "      <td>0.084152</td>\n",
       "    </tr>\n",
       "    <tr>\n",
       "      <th>3</th>\n",
       "      <td>3</td>\n",
       "      <td>0.209336</td>\n",
       "    </tr>\n",
       "    <tr>\n",
       "      <th>4</th>\n",
       "      <td>4</td>\n",
       "      <td>0.448845</td>\n",
       "    </tr>\n",
       "  </tbody>\n",
       "</table>\n",
       "</div>"
      ],
      "text/plain": [
       "   USER_ID     SCORE\n",
       "0        0  0.121743\n",
       "1        1  0.125040\n",
       "2        2  0.084152\n",
       "3        3  0.209336\n",
       "4        4  0.448845"
      ]
     },
     "metadata": {},
     "output_type": "display_data"
    },
    {
     "name": "stdout",
     "output_type": "stream",
     "text": [
      "(0, 2)\n",
      "(2643, 2)\n",
      "(0, 2)\n"
     ]
    }
   ],
   "source": [
    "index_test = X_test.index\n",
    "\n",
    "for num_col in num_cols[:-2]:\n",
    "    sb = SelectKBest(f_classif, num_col)\n",
    "    \n",
    "    X_train_part = sb.fit_transform(X_train, y_train)\n",
    "    X_test_part = sb.transform(X_test)\n",
    "\n",
    "    \n",
    "    X_test_part = sp.sparse.csr_matrix(X_test_part)\n",
    "    X_train_part = sp.sparse.csr_matrix(X_train_part)\n",
    "    print(\">\"*3, X_train_part.shape, X_test_part.shape, y_train.shape)\n",
    "    \n",
    "    intent = 'train_{}_rows_{}_cols'.format(*list(X_train_part.shape))\n",
    "    print(intent)\n",
    "    apply_lgbm(X_train_part, X_test_part, y_train)"
   ]
  },
  {
   "cell_type": "code",
   "execution_count": null,
   "metadata": {},
   "outputs": [],
   "source": []
  },
  {
   "cell_type": "code",
   "execution_count": null,
   "metadata": {},
   "outputs": [],
   "source": []
  },
  {
   "cell_type": "code",
   "execution_count": null,
   "metadata": {},
   "outputs": [],
   "source": []
  },
  {
   "cell_type": "code",
   "execution_count": null,
   "metadata": {},
   "outputs": [],
   "source": []
  },
  {
   "cell_type": "code",
   "execution_count": null,
   "metadata": {},
   "outputs": [],
   "source": []
  },
  {
   "cell_type": "markdown",
   "metadata": {},
   "source": [
    "### FORCE RAISE"
   ]
  },
  {
   "cell_type": "code",
   "execution_count": 42,
   "metadata": {},
   "outputs": [
    {
     "ename": "RuntimeError",
     "evalue": "No active exception to reraise",
     "output_type": "error",
     "traceback": [
      "\u001b[0;31m-------------------------------------------------------------------------\u001b[0m",
      "\u001b[0;31mRuntimeError\u001b[0m                            Traceback (most recent call last)",
      "\u001b[0;32m<ipython-input-42-9c9a2cba73bf>\u001b[0m in \u001b[0;36m<module>\u001b[0;34m\u001b[0m\n\u001b[0;32m----> 1\u001b[0;31m \u001b[0;32mraise\u001b[0m\u001b[0;34m\u001b[0m\u001b[0;34m\u001b[0m\u001b[0m\n\u001b[0m",
      "\u001b[0;31mRuntimeError\u001b[0m: No active exception to reraise"
     ]
    }
   ],
   "source": [
    "raise"
   ]
  },
  {
   "cell_type": "code",
   "execution_count": null,
   "metadata": {},
   "outputs": [],
   "source": [
    "c_values = np.logspace(0, 0.75, 20)\n",
    "c_values"
   ]
  },
  {
   "cell_type": "code",
   "execution_count": null,
   "metadata": {},
   "outputs": [],
   "source": [
    "from sklearn.linear_model import LogisticRegression\n",
    "\n",
    "param_log = {\n",
    "    'C': c_values,\n",
    "    'class_weight': ['balanced'],\n",
    "    'solver': ['saga', 'newton-cg', 'sag'],\n",
    "    'penalty': ['l2']\n",
    "}\n",
    "\n",
    "model_log = LogisticRegression(\n",
    "    random_state=SEED, \n",
    "    n_jobs = 4\n",
    ")\n",
    "\n",
    "grid = GridSearchCV(\n",
    "    model_log, param_log, cv=kfold_off, \n",
    "    n_jobs=-1, scoring='roc_auc', verbose=1\n",
    ")\n",
    "grid.fit(X_train, y_train)\n",
    "\n",
    "best_params_ = grid.best_params_\n",
    "model_ = grid.best_estimator_\n",
    "score_ = grid.best_score_\n",
    "\n",
    "print(score_, best_params_)"
   ]
  },
  {
   "cell_type": "code",
   "execution_count": null,
   "metadata": {},
   "outputs": [],
   "source": [
    "predict_test_log = grid.best_estimator_.predict_proba(X_test_k)[:,1]   # 0.7757083940054187\n",
    "predict_test_log, predict_test_log.shape"
   ]
  },
  {
   "cell_type": "code",
   "execution_count": null,
   "metadata": {},
   "outputs": [],
   "source": [
    "predict_test_log = pd.DataFrame(\n",
    "    {'USER_ID':index_test, 'SCORE':predict_test_log} \n",
    ")\n",
    "predict_test_log.head()"
   ]
  },
  {
   "cell_type": "code",
   "execution_count": null,
   "metadata": {},
   "outputs": [],
   "source": [
    "print(predict_test_log[predict_test_log['SCORE'] < 0.01].shape)\n",
    "print(predict_test_log[predict_test_log['SCORE'] > 0.5].shape)\n",
    "print(predict_test_log[predict_test_log['SCORE'] > 0.99].shape)\n",
    "predict_test_log.to_csv('analysis_log_kof_{}x.csv'.format(intent), index=False)"
   ]
  },
  {
   "cell_type": "code",
   "execution_count": null,
   "metadata": {},
   "outputs": [],
   "source": [
    "\"\"\"\n",
    "(2033, 2)\n",
    "(330, 2)\n",
    "(8, 2)\n",
    "\n",
    "(31, 2)\n",
    "(6123, 2)\n",
    "(153, 2)\n",
    "\n",
    "(1641, 2)\n",
    "(573, 2)\n",
    "(297, 2)\n",
    "\"\"\""
   ]
  },
  {
   "cell_type": "code",
   "execution_count": null,
   "metadata": {},
   "outputs": [],
   "source": [
    "gc.collect()"
   ]
  },
  {
   "cell_type": "code",
   "execution_count": null,
   "metadata": {},
   "outputs": [],
   "source": []
  }
 ],
 "metadata": {
  "kernelspec": {
   "display_name": "Python 3",
   "language": "python",
   "name": "python3"
  },
  "language_info": {
   "codemirror_mode": {
    "name": "ipython",
    "version": 3
   },
   "file_extension": ".py",
   "mimetype": "text/x-python",
   "name": "python",
   "nbconvert_exporter": "python",
   "pygments_lexer": "ipython3",
   "version": "3.8.5"
  }
 },
 "nbformat": 4,
 "nbformat_minor": 4
}
