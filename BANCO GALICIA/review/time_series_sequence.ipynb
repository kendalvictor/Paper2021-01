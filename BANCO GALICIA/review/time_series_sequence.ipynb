{
 "cells": [
  {
   "cell_type": "code",
   "execution_count": 1,
   "metadata": {},
   "outputs": [
    {
     "data": {
      "text/plain": [
       "['CONTENT_CATEGORY.csv',\n",
       " '.ipynb_checkpoints',\n",
       " 'device_data.csv',\n",
       " 'sampleSubmission.csv',\n",
       " 'SITE_ID.csv',\n",
       " 'PAGE.csv',\n",
       " 'CONTENT_CATEGORY_TOP.csv',\n",
       " 'conversiones.csv',\n",
       " 'CONTENT_CATEGORY_BOTTOM.csv',\n",
       " 'pageviews.csv']"
      ]
     },
     "execution_count": 1,
     "metadata": {},
     "output_type": "execute_result"
    }
   ],
   "source": [
    "# Nativos\n",
    "import random as rn\n",
    "import os\n",
    "import sys\n",
    "import gc\n",
    "\n",
    "#calculo\n",
    "import numpy as np\n",
    "import pandas as pd\n",
    "import scipy as sp\n",
    "\n",
    "#grafico\n",
    "import matplotlib.pyplot as plt\n",
    "import seaborn as sns\n",
    "from IPython.display import display\n",
    "%matplotlib inline\n",
    "sns.set(style=\"whitegrid\")\n",
    "\n",
    "#warning ignore future\n",
    "import warnings\n",
    "# warnings.simplefilter(action='ignore', category=FutureWarning)\n",
    "warnings.filterwarnings(\"ignore\")\n",
    "gc.collect()\n",
    "\n",
    "BASE_DIR = os.path.dirname(os.getcwd())\n",
    "if BASE_DIR not in sys.path: sys.path.append(BASE_DIR)\n",
    "\n",
    "from utils import *\n",
    "from graphs import *\n",
    "\n",
    "SEED = 29082013\n",
    "os.environ['PYTHONHASHSEED']=str(SEED)\n",
    "np.random.seed(SEED)\n",
    "rn.seed(SEED)\n",
    "\n",
    "subfolder = \"data\"\n",
    "os.listdir(subfolder)"
   ]
  },
  {
   "cell_type": "code",
   "execution_count": 2,
   "metadata": {},
   "outputs": [
    {
     "data": {
      "text/html": [
       "<div>\n",
       "<style scoped>\n",
       "    .dataframe tbody tr th:only-of-type {\n",
       "        vertical-align: middle;\n",
       "    }\n",
       "\n",
       "    .dataframe tbody tr th {\n",
       "        vertical-align: top;\n",
       "    }\n",
       "\n",
       "    .dataframe thead th {\n",
       "        text-align: right;\n",
       "    }\n",
       "</style>\n",
       "<table border=\"1\" class=\"dataframe\">\n",
       "  <thead>\n",
       "    <tr style=\"text-align: right;\">\n",
       "      <th></th>\n",
       "      <th>USER_ID</th>\n",
       "      <th>mes</th>\n",
       "    </tr>\n",
       "  </thead>\n",
       "  <tbody>\n",
       "    <tr>\n",
       "      <th>0</th>\n",
       "      <td>13.0</td>\n",
       "      <td>8.0</td>\n",
       "    </tr>\n",
       "    <tr>\n",
       "      <th>1</th>\n",
       "      <td>22.0</td>\n",
       "      <td>12.0</td>\n",
       "    </tr>\n",
       "    <tr>\n",
       "      <th>2</th>\n",
       "      <td>40.0</td>\n",
       "      <td>1.0</td>\n",
       "    </tr>\n",
       "    <tr>\n",
       "      <th>3</th>\n",
       "      <td>57.0</td>\n",
       "      <td>6.0</td>\n",
       "    </tr>\n",
       "    <tr>\n",
       "      <th>4</th>\n",
       "      <td>92.0</td>\n",
       "      <td>3.0</td>\n",
       "    </tr>\n",
       "  </tbody>\n",
       "</table>\n",
       "</div>"
      ],
      "text/plain": [
       "   USER_ID   mes\n",
       "0     13.0   8.0\n",
       "1     22.0  12.0\n",
       "2     40.0   1.0\n",
       "3     57.0   6.0\n",
       "4     92.0   3.0"
      ]
     },
     "execution_count": 2,
     "metadata": {},
     "output_type": "execute_result"
    }
   ],
   "source": [
    "convertion = pd.read_csv(\n",
    "    \"{}/conversiones.csv\".format(subfolder)\n",
    ").drop_duplicates()[['USER_ID','mes']].sort_values(['USER_ID','mes']).reset_index(drop=True)\n",
    "\n",
    "convertion.head()"
   ]
  },
  {
   "cell_type": "code",
   "execution_count": 3,
   "metadata": {},
   "outputs": [
    {
     "data": {
      "text/plain": [
       "USER_ID    int64\n",
       "mes        int64\n",
       "dtype: object"
      ]
     },
     "metadata": {},
     "output_type": "display_data"
    },
    {
     "data": {
      "text/html": [
       "<div>\n",
       "<style scoped>\n",
       "    .dataframe tbody tr th:only-of-type {\n",
       "        vertical-align: middle;\n",
       "    }\n",
       "\n",
       "    .dataframe tbody tr th {\n",
       "        vertical-align: top;\n",
       "    }\n",
       "\n",
       "    .dataframe thead th {\n",
       "        text-align: right;\n",
       "    }\n",
       "</style>\n",
       "<table border=\"1\" class=\"dataframe\">\n",
       "  <thead>\n",
       "    <tr style=\"text-align: right;\">\n",
       "      <th></th>\n",
       "      <th>USER_ID</th>\n",
       "      <th>mes</th>\n",
       "    </tr>\n",
       "  </thead>\n",
       "  <tbody>\n",
       "    <tr>\n",
       "      <th>0</th>\n",
       "      <td>13</td>\n",
       "      <td>8</td>\n",
       "    </tr>\n",
       "    <tr>\n",
       "      <th>1</th>\n",
       "      <td>22</td>\n",
       "      <td>12</td>\n",
       "    </tr>\n",
       "    <tr>\n",
       "      <th>2</th>\n",
       "      <td>40</td>\n",
       "      <td>1</td>\n",
       "    </tr>\n",
       "    <tr>\n",
       "      <th>3</th>\n",
       "      <td>57</td>\n",
       "      <td>6</td>\n",
       "    </tr>\n",
       "    <tr>\n",
       "      <th>4</th>\n",
       "      <td>92</td>\n",
       "      <td>3</td>\n",
       "    </tr>\n",
       "  </tbody>\n",
       "</table>\n",
       "</div>"
      ],
      "text/plain": [
       "   USER_ID  mes\n",
       "0       13    8\n",
       "1       22   12\n",
       "2       40    1\n",
       "3       57    6\n",
       "4       92    3"
      ]
     },
     "execution_count": 3,
     "metadata": {},
     "output_type": "execute_result"
    }
   ],
   "source": [
    "for col in convertion.columns:\n",
    "    convertion[col] = convertion[col].astype(int)\n",
    "\n",
    "display(convertion.dtypes)\n",
    "convertion.head()"
   ]
  },
  {
   "cell_type": "code",
   "execution_count": 4,
   "metadata": {},
   "outputs": [
    {
     "data": {
      "text/plain": [
       "(1086,)"
      ]
     },
     "execution_count": 4,
     "metadata": {},
     "output_type": "execute_result"
    }
   ],
   "source": [
    "convertion['USER_ID'].unique().shape"
   ]
  },
  {
   "cell_type": "code",
   "execution_count": null,
   "metadata": {},
   "outputs": [
    {
     "name": "stdout",
     "output_type": "stream",
     "text": [
      "(1, 2) (1, 2) (1, 2) (1, 2) (2, 2) (1, 2) (1, 2) (1, 2) (1, 2) (1, 2) (1, 2) (1, 2) (1, 2) (1, 2) (1, 2) (2, 2) (1, 2) (1, 2) (1, 2) (1, 2) (1, 2) (2, 2) (1, 2) (1, 2) (1, 2) (1, 2) (1, 2) (1, 2) (1, 2) (1, 2) (3, 2) (2, 2) (1, 2) (1, 2) (2, 2) (1, 2) (2, 2) (4, 2) (2, 2) (1, 2) (1, 2) (1, 2) (1, 2) (3, 2) (4, 2) (2, 2) (2, 2) (1, 2) (1, 2) (1, 2) (2, 2) (1, 2) (1, 2) (1, 2) (3, 2) (2, 2) (1, 2) (2, 2) (1, 2) (4, 2) (1, 2) (1, 2) (2, 2) (1, 2) (1, 2) (1, 2) (1, 2) (1, 2) (1, 2) (1, 2) (1, 2) (1, 2) (1, 2) (1, 2) (1, 2) (1, 2) (2, 2) (3, 2) (1, 2) (1, 2) (1, 2) (4, 2) (1, 2) (2, 2) (1, 2) (1, 2) (2, 2) (1, 2) (1, 2) (2, 2) (1, 2) (1, 2) (2, 2) (1, 2) (1, 2) (1, 2) (1, 2) (2, 2) (1, 2) (1, 2) (3, 2) (1, 2) (1, 2) (2, 2) (2, 2) (1, 2) (3, 2) (1, 2) (1, 2) (1, 2) (1, 2) (2, 2) (2, 2) (3, 2) (2, 2) (2, 2) (1, 2) (1, 2) (1, 2) (2, 2) (1, 2) (1, 2) (1, 2) (1, 2) (2, 2) (1, 2) (1, 2) (1, 2) (1, 2) (1, 2) (2, 2) (1, 2) (1, 2) (1, 2) (1, 2) (1, 2) (1, 2) (4, 2) (1, 2) (4, 2) (1, 2) (3, 2) (2, 2) (1, 2) (2, 2) (2, 2) (1, 2) (1, 2) (1, 2) (1, 2) (1, 2) (1, 2) (2, 2) (1, 2) (5, 2) (2, 2) (1, 2) (1, 2) (1, 2) (1, 2) (1, 2) (2, 2) (1, 2) (1, 2) (1, 2) (1, 2) (1, 2) (1, 2) (1, 2) (1, 2) (1, 2) (1, 2) (2, 2) (2, 2) (2, 2) (1, 2) (1, 2) (1, 2) (2, 2) (2, 2) (1, 2) (2, 2) (1, 2) (1, 2) (3, 2) (1, 2) (2, 2) (1, 2) (1, 2) (1, 2) (2, 2) (1, 2) (1, 2) (1, 2) (1, 2) (1, 2) (1, 2) (2, 2) (2, 2) (1, 2) (3, 2) (1, 2) (1, 2) (2, 2) (1, 2) (2, 2) (1, 2) (1, 2) (1, 2) (1, 2) (1, 2) (1, 2) (1, 2) (1, 2) (1, 2) (3, 2) (3, 2) (1, 2) (2, 2) (1, 2) (1, 2) (1, 2) (1, 2) (1, 2) (2, 2) (2, 2) (1, 2) (2, 2) (3, 2) (1, 2) (4, 2) (3, 2) (1, 2) (1, 2) (1, 2) (3, 2) (4, 2) (2, 2) (1, 2) (1, 2) (1, 2) (1, 2) (1, 2) (2, 2) (1, 2) (3, 2) (1, 2) (4, 2) (1, 2) (3, 2) (2, 2) (1, 2) (1, 2) (1, 2) (2, 2) (3, 2) (1, 2) (1, 2) (1, 2) (2, 2) (2, 2) (3, 2) (1, 2) (1, 2) (1, 2) (1, 2) (3, 2) (1, 2) (5, 2) (1, 2) (2, 2) (2, 2) (1, 2) (1, 2) (2, 2) (1, 2) (1, 2) (2, 2) (1, 2) (1, 2) (2, 2) (1, 2) (1, 2) (1, 2) (1, 2) (1, 2) (1, 2) (1, 2) (1, 2) (1, 2) (1, 2) (1, 2) (1, 2) (1, 2) (1, 2) (3, 2) (1, 2) (2, 2) (1, 2) (2, 2) (1, 2) (1, 2) (1, 2) (1, 2) (3, 2) (2, 2) (1, 2) (1, 2) (1, 2) (1, 2) (1, 2) (1, 2) (1, 2) (1, 2) (2, 2) (1, 2) (1, 2) (1, 2) (1, 2) (1, 2) (1, 2) (1, 2) (2, 2) (2, 2) (1, 2) (1, 2) (2, 2) (1, 2) (1, 2) (1, 2) (2, 2) (1, 2) (1, 2) (2, 2) (1, 2) (1, 2) (1, 2) (1, 2) (1, 2) (1, 2) (1, 2) (1, 2) (1, 2) (2, 2) (2, 2) (1, 2) (3, 2) (2, 2) (2, 2) (1, 2) (1, 2) (1, 2) (1, 2) (1, 2) (1, 2) (1, 2) (1, 2) (1, 2) (2, 2) (2, 2) (1, 2) (2, 2) (1, 2) (1, 2) (3, 2) (1, 2) (1, 2) (1, 2) (1, 2) (1, 2) (1, 2) (4, 2) (1, 2) (2, 2) (1, 2) (1, 2) (1, 2) (1, 2) (1, 2) (1, 2) (2, 2) (4, 2) (1, 2) (1, 2) (2, 2) (3, 2) (1, 2) (1, 2) (1, 2) (1, 2) (1, 2) (1, 2) (1, 2) (1, 2) (2, 2) (1, 2) (4, 2) (1, 2) (1, 2) (1, 2) (1, 2) (1, 2) (1, 2) (1, 2) (1, 2) (2, 2) (1, 2) (1, 2) (1, 2) (2, 2) (1, 2) (2, 2) (2, 2) (1, 2) (1, 2) (1, 2) (1, 2) (1, 2) (3, 2) (2, 2) (1, 2) (1, 2) (1, 2) (1, 2) (2, 2) (1, 2) (1, 2) (1, 2) (1, 2) (1, 2) (1, 2) (2, 2) (1, 2) (1, 2) (1, 2) (2, 2) (1, 2) (1, 2) (1, 2) (1, 2) (1, 2) (1, 2) (4, 2) (5, 2) (1, 2) (3, 2) (1, 2) (1, 2) (1, 2) (1, 2) (3, 2) (1, 2) (1, 2) (2, 2) (2, 2) (1, 2) (1, 2) (1, 2) (2, 2) (1, 2) (2, 2) (1, 2) (1, 2) (2, 2) (3, 2) (1, 2) (3, 2) (2, 2) (1, 2) (1, 2) (1, 2) (1, 2) (1, 2) (3, 2) (1, 2) (1, 2) (1, 2) (4, 2) (1, 2) (1, 2) (1, 2) (5, 2) (1, 2) (2, 2) (1, 2) (1, 2) (2, 2) (1, 2) (2, 2) (1, 2) (1, 2) (2, 2) (1, 2) (2, 2) (1, 2) (1, 2) (1, 2) (1, 2) (2, 2) (1, 2) (1, 2) (5, 2) (2, 2) (1, 2) (1, 2) (1, 2) (1, 2) (1, 2) (1, 2) (3, 2) (1, 2) (2, 2) (1, 2) (1, 2) (1, 2) (1, 2) (2, 2) (1, 2) (1, 2) (1, 2) (3, 2) (1, 2) (1, 2) (1, 2) (1, 2) (1, 2) (1, 2) (3, 2) (1, 2) (1, 2) (1, 2) (3, 2) (1, 2) (1, 2) (1, 2) (1, 2) (1, 2) (1, 2) (1, 2) (1, 2) (2, 2) (1, 2) (1, 2) (2, 2) (1, 2) (1, 2) (2, 2) (1, 2) (2, 2) (1, 2) (2, 2) (1, 2) (1, 2) (1, 2) (1, 2) (2, 2) (1, 2) (1, 2) (1, 2) (1, 2) (1, 2) (1, 2) (1, 2) (1, 2) (1, 2) (1, 2) (1, 2) (1, 2) (1, 2) (2, 2) (1, 2) (1, 2) (1, 2) (2, 2) (3, 2) (1, 2) (1, 2) (2, 2) (1, 2) (1, 2) (2, 2) (3, 2) (2, 2) (2, 2) (1, 2) (1, 2) (3, 2) (1, 2) (1, 2) (1, 2) (1, 2) (1, 2) (1, 2) (1, 2) (1, 2) (3, 2) (1, 2) (2, 2) (2, 2) (2, 2) (2, 2) (1, 2) (2, 2) (4, 2) (1, 2) (1, 2) (1, 2) (1, 2) (1, 2) (1, 2) (1, 2) (1, 2) (1, 2) (1, 2) (1, 2) (1, 2) (1, 2) (2, 2) (2, 2) (1, 2) (1, 2) (1, 2) (1, 2) (1, 2) (1, 2) (1, 2) (1, 2) (2, 2) (1, 2) (1, 2) (1, 2) (1, 2) (2, 2) (1, 2) (1, 2) (1, 2) (1, 2) (1, 2) (1, 2) (1, 2) (3, 2) (2, 2) (1, 2) (1, 2) (3, 2) (1, 2) (2, 2) (3, 2) (1, 2) (1, 2) (4, 2) (1, 2) (1, 2) (1, 2) (3, 2) (2, 2) (1, 2) (2, 2) (1, 2) (1, 2) (1, 2) (1, 2) (1, 2) (1, 2) (1, 2) (1, 2) (1, 2) (2, 2) (1, 2) (2, 2) (1, 2) (2, 2) (1, 2) (1, 2) (1, 2) (1, 2) (1, 2) (2, 2) (1, 2) (1, 2) (2, 2) (2, 2) (1, 2) (1, 2) (1, 2) (1, 2) (1, 2) (1, 2) (1, 2) (2, 2) (10, 2) (1, 2) (5, 2) (1, 2) (1, 2) (1, 2) (4, 2) (1, 2) (1, 2) (1, 2) (1, 2) (1, 2) (2, 2) (2, 2) (2, 2) (2, 2) (2, 2) (4, 2) (1, 2) (2, 2) (1, 2) (2, 2) (1, 2) (1, 2) (1, 2) (2, 2) (1, 2) (1, 2) (1, 2) (3, 2) (1, 2) (1, 2) (1, 2) (2, 2) (1, 2) (2, 2) (1, 2) (1, 2) (1, 2) (1, 2) (1, 2) (1, 2) (1, 2) (1, 2) (1, 2) (1, 2) (3, 2) (3, 2) (2, 2) (1, 2) (1, 2) (1, 2) (1, 2) (1, 2) (3, 2) (1, 2) (1, 2) (1, 2) (1, 2) (1, 2) (1, 2) (1, 2) (1, 2) (2, 2) (1, 2) (3, 2) (1, 2) (1, 2) (1, 2) (1, 2) (1, 2) (3, 2) (1, 2) (1, 2) (1, 2) (1, 2) (1, 2) (1, 2) (1, 2) (1, 2) (1, 2) (1, 2) (1, 2) (1, 2) (1, 2) (1, 2) (1, 2) (1, 2) (2, 2) (1, 2) (1, 2) (2, 2) (1, 2) (1, 2) (1, 2) (2, 2) (2, 2) (2, 2) (3, 2) (1, 2) (1, 2) (1, 2) (1, 2) (1, 2) (1, 2) (1, 2) (1, 2) (1, 2) (2, 2) (2, 2) (1, 2) (4, 2) (1, 2) (9, 2) (1, 2) (5, 2) (1, 2) (4, 2) (1, 2) (1, 2) (1, 2) (1, 2) (3, 2) (1, 2) (1, 2) (2, 2) (1, 2) (1, 2) (1, 2) (1, 2) (1, 2) (2, 2) (1, 2) (1, 2) (1, 2) (1, 2) (1, 2) (1, 2) (1, 2) (1, 2) (3, 2) (2, 2) (2, 2) (1, 2) (2, 2) (1, 2) (1, 2) (1, 2) (1, 2) (1, 2) (1, 2) (1, 2) (1, 2) (2, 2) (1, 2) (2, 2) (1, 2) (1, 2) (2, 2) (2, 2) (1, 2) (1, 2) (1, 2) (3, 2) (1, 2) (1, 2) (1, 2) (1, 2) (1, 2) (1, 2) (1, 2) (1, 2) (1, 2) (1, 2) (1, 2) (1, 2) (1, 2) (1, 2) (1, 2) (1, 2) (1, 2) (1, 2) (1, 2) (1, 2) (1, 2) (2, 2) (8, 2) (1, 2) (2, 2) (1, 2) (1, 2) (2, 2) (4, 2) (1, 2) (1, 2) (1, 2) (1, 2) (1, 2) (4, 2) (1, 2) (1, 2) (1, 2) (1, 2) (1, 2) (1, 2) (1, 2) (1, 2) (2, 2) (4, 2) (1, 2) (1, 2) (1, 2) (1, 2) (2, 2) (2, 2) (1, 2) (4, 2) (3, 2) (1, 2) (1, 2) (1, 2) (1, 2) (4, 2) (1, 2) (1, 2) (1, 2) (1, 2) (1, 2) (4, 2) (1, 2) (2, 2) (1, 2) (1, 2) (1, 2) (1, 2) (2, 2) (4, 2) (2, 2) (3, 2) (1, 2) (1, 2) (1, 2) (1, 2) (4, 2) (1, 2) (1, 2) (2, 2) (1, 2) (1, 2) (1, 2) (1, 2) (1, 2) (1, 2) (1, 2) (1, 2) (1, 2) (1, 2) (1, 2) (1, 2) (3, 2) (1, 2) (2, 2) (1, 2) (2, 2) (1, 2) (1, 2) (1, 2) (1, 2) (1, 2) (1, 2) (4, 2) (1, 2) (2, 2) (1, 2) (1, 2) (1, 2) (1, 2) (1, 2) (1, 2) (1, 2) (1, 2) (2, 2) (1, 2) (2, 2) (1, 2) (1, 2) (1, 2) (1, 2) (1, 2) (3, 2) (1, 2) (2, 2) (1, 2) (1, 2) (1, 2) (4, 2) (1, 2) (6, 2) (1, 2) (2, 2) (1, 2) (1, 2) (1, 2) (1, 2) (3, 2) (1, 2) (1, 2) (1, 2) (1, 2) (2, 2) (1, 2) (1, 2) (1, 2) (2, 2) (1, 2) (1, 2) (2, 2) (1, 2) (3, 2) (1, 2) (1, 2) (3, 2) (1, 2) (1, 2) (1, 2) (1, 2) (1, 2) (1, 2) (1, 2) (1, 2) (1, 2) (1, 2) (1, 2) (1, 2) (3, 2) (3, 2) (1, 2) (2, 2) (1, 2) (2, 2) (1, 2) (1, 2) (1, 2) (1, 2) (1, 2) (2, 2) (1, 2) (2, 2) (3, 2) (2, 2) (1, 2) (2, 2) (1, 2) (1, 2) (2, 2) (1, 2) (2, 2) (1, 2) (6, 2) (1, 2) (1, 2) (1, 2) (1, 2) (2, 2) (2, 2) (1, 2) (1, 2) (1, 2) (1, 2) (1, 2) (1, 2) (1, 2) (2, 2) (1, 2) (1, 2) (1, 2) (1, 2) (1, 2) (1, 2) (5, 2) (1, 2) (1, 2) (1, 2) (1, 2) (1, 2) (1, 2) (1, 2) (1, 2) (1, 2) (1, 2) (1, 2) (1, 2) (1, 2) (1, 2) (2, 2) (1, 2) "
     ]
    }
   ],
   "source": [
    "for user in convertion['USER_ID'].unique():\n",
    "    user_conv = convertion[convertion['USER_ID'] == user]\n",
    "    print(user_conv.shape, end=' ')"
   ]
  },
  {
   "cell_type": "markdown",
   "metadata": {},
   "source": [
    "# Se concluye que no hay suficiente informacion historica para realizar un serie de tiempo por usuario, por lo tanto procedemos a centrarno en comportamientos."
   ]
  },
  {
   "cell_type": "code",
   "execution_count": null,
   "metadata": {},
   "outputs": [],
   "source": [
    "def get_trimestre(val):\n",
    "    if val <= 3:\n",
    "        return 1\n",
    "    elif val <= 6:\n",
    "        return 2\n",
    "    elif val <= 9:\n",
    "        return 3\n",
    "    elif val <= 12:\n",
    "        return 4\n",
    "    return 0"
   ]
  },
  {
   "cell_type": "code",
   "execution_count": null,
   "metadata": {},
   "outputs": [
    {
     "data": {
      "text/html": [
       "<div>\n",
       "<style scoped>\n",
       "    .dataframe tbody tr th:only-of-type {\n",
       "        vertical-align: middle;\n",
       "    }\n",
       "\n",
       "    .dataframe tbody tr th {\n",
       "        vertical-align: top;\n",
       "    }\n",
       "\n",
       "    .dataframe thead th {\n",
       "        text-align: right;\n",
       "    }\n",
       "</style>\n",
       "<table border=\"1\" class=\"dataframe\">\n",
       "  <thead>\n",
       "    <tr style=\"text-align: right;\">\n",
       "      <th></th>\n",
       "      <th>FEC_EVENT</th>\n",
       "      <th>PAGE</th>\n",
       "      <th>USER_ID</th>\n",
       "      <th>month</th>\n",
       "      <th>trimestre</th>\n",
       "      <th>date_user</th>\n",
       "    </tr>\n",
       "  </thead>\n",
       "  <tbody>\n",
       "    <tr>\n",
       "      <th>284</th>\n",
       "      <td>2018-01-01 09:56:47</td>\n",
       "      <td>14</td>\n",
       "      <td>0</td>\n",
       "      <td>1</td>\n",
       "      <td>1</td>\n",
       "      <td>2018-01-01</td>\n",
       "    </tr>\n",
       "    <tr>\n",
       "      <th>285</th>\n",
       "      <td>2018-01-01 09:57:19</td>\n",
       "      <td>14</td>\n",
       "      <td>0</td>\n",
       "      <td>1</td>\n",
       "      <td>1</td>\n",
       "      <td>2018-01-01</td>\n",
       "    </tr>\n",
       "    <tr>\n",
       "      <th>286</th>\n",
       "      <td>2018-01-01 09:57:48</td>\n",
       "      <td>12</td>\n",
       "      <td>0</td>\n",
       "      <td>1</td>\n",
       "      <td>1</td>\n",
       "      <td>2018-01-01</td>\n",
       "    </tr>\n",
       "    <tr>\n",
       "      <th>287</th>\n",
       "      <td>2018-01-01 09:57:48</td>\n",
       "      <td>10</td>\n",
       "      <td>0</td>\n",
       "      <td>1</td>\n",
       "      <td>1</td>\n",
       "      <td>2018-01-01</td>\n",
       "    </tr>\n",
       "    <tr>\n",
       "      <th>288</th>\n",
       "      <td>2018-01-01 09:57:49</td>\n",
       "      <td>11</td>\n",
       "      <td>0</td>\n",
       "      <td>1</td>\n",
       "      <td>1</td>\n",
       "      <td>2018-01-01</td>\n",
       "    </tr>\n",
       "    <tr>\n",
       "      <th>289</th>\n",
       "      <td>2018-01-01 10:02:09</td>\n",
       "      <td>11</td>\n",
       "      <td>0</td>\n",
       "      <td>1</td>\n",
       "      <td>1</td>\n",
       "      <td>2018-01-01</td>\n",
       "    </tr>\n",
       "    <tr>\n",
       "      <th>290</th>\n",
       "      <td>2018-01-01 10:02:09</td>\n",
       "      <td>12</td>\n",
       "      <td>0</td>\n",
       "      <td>1</td>\n",
       "      <td>1</td>\n",
       "      <td>2018-01-01</td>\n",
       "    </tr>\n",
       "    <tr>\n",
       "      <th>291</th>\n",
       "      <td>2018-01-01 10:02:09</td>\n",
       "      <td>10</td>\n",
       "      <td>0</td>\n",
       "      <td>1</td>\n",
       "      <td>1</td>\n",
       "      <td>2018-01-01</td>\n",
       "    </tr>\n",
       "    <tr>\n",
       "      <th>292</th>\n",
       "      <td>2018-01-01 10:07:12</td>\n",
       "      <td>11</td>\n",
       "      <td>0</td>\n",
       "      <td>1</td>\n",
       "      <td>1</td>\n",
       "      <td>2018-01-01</td>\n",
       "    </tr>\n",
       "    <tr>\n",
       "      <th>293</th>\n",
       "      <td>2018-01-01 10:07:12</td>\n",
       "      <td>12</td>\n",
       "      <td>0</td>\n",
       "      <td>1</td>\n",
       "      <td>1</td>\n",
       "      <td>2018-01-01</td>\n",
       "    </tr>\n",
       "  </tbody>\n",
       "</table>\n",
       "</div>"
      ],
      "text/plain": [
       "              FEC_EVENT  PAGE  USER_ID  month  trimestre   date_user\n",
       "284 2018-01-01 09:56:47    14        0      1          1  2018-01-01\n",
       "285 2018-01-01 09:57:19    14        0      1          1  2018-01-01\n",
       "286 2018-01-01 09:57:48    12        0      1          1  2018-01-01\n",
       "287 2018-01-01 09:57:48    10        0      1          1  2018-01-01\n",
       "288 2018-01-01 09:57:49    11        0      1          1  2018-01-01\n",
       "289 2018-01-01 10:02:09    11        0      1          1  2018-01-01\n",
       "290 2018-01-01 10:02:09    12        0      1          1  2018-01-01\n",
       "291 2018-01-01 10:02:09    10        0      1          1  2018-01-01\n",
       "292 2018-01-01 10:07:12    11        0      1          1  2018-01-01\n",
       "293 2018-01-01 10:07:12    12        0      1          1  2018-01-01"
      ]
     },
     "execution_count": 7,
     "metadata": {},
     "output_type": "execute_result"
    }
   ],
   "source": [
    "data = pd.read_csv(\n",
    "    \"{}/pageviews.csv\".format(subfolder),\n",
    "    parse_dates=[\"FEC_EVENT\"],\n",
    "    usecols=['USER_ID', 'FEC_EVENT', 'PAGE']\n",
    ").sort_values(\n",
    "    ['USER_ID', 'FEC_EVENT']\n",
    ")\n",
    "\n",
    "data['month'] = data['FEC_EVENT'].dt.month\n",
    "data['trimestre'] = data['month'].apply(get_trimestre)\n",
    "data['date_user'] = data['FEC_EVENT'].dt.date\n",
    "data.head(10)"
   ]
  },
  {
   "cell_type": "code",
   "execution_count": null,
   "metadata": {},
   "outputs": [],
   "source": [
    "def get_session(user, datex):\n",
    "    sesion = data[\n",
    "        (data['date_user'] == datex) & (data['USER_ID'] == user)\n",
    "    ]\n",
    "    return ' '.join(list(\n",
    "        sesion['PAGE'].astype(str)\n",
    "    ))"
   ]
  },
  {
   "cell_type": "code",
   "execution_count": null,
   "metadata": {},
   "outputs": [],
   "source": [
    "data_group = data.groupby(by=['USER_ID', 'date_user']).agg({'month': max, 'trimestre': max}).reset_index()\n",
    "\n",
    "data_group['sesion'] = data[['USER_ID', 'date_user']].apply(lambda _: get_session(_.USER_ID, _.date_user), axis=1)\n",
    "data_group.head()"
   ]
  },
  {
   "cell_type": "code",
   "execution_count": null,
   "metadata": {},
   "outputs": [],
   "source": [
    "data_group.dtypes"
   ]
  },
  {
   "cell_type": "code",
   "execution_count": null,
   "metadata": {},
   "outputs": [],
   "source": []
  },
  {
   "cell_type": "code",
   "execution_count": null,
   "metadata": {},
   "outputs": [],
   "source": []
  },
  {
   "cell_type": "code",
   "execution_count": null,
   "metadata": {},
   "outputs": [],
   "source": []
  },
  {
   "cell_type": "code",
   "execution_count": null,
   "metadata": {},
   "outputs": [],
   "source": []
  },
  {
   "cell_type": "code",
   "execution_count": null,
   "metadata": {},
   "outputs": [],
   "source": []
  },
  {
   "cell_type": "code",
   "execution_count": null,
   "metadata": {},
   "outputs": [],
   "source": []
  },
  {
   "cell_type": "code",
   "execution_count": null,
   "metadata": {},
   "outputs": [],
   "source": []
  },
  {
   "cell_type": "code",
   "execution_count": null,
   "metadata": {},
   "outputs": [],
   "source": []
  }
 ],
 "metadata": {
  "kernelspec": {
   "display_name": "Python 3",
   "language": "python",
   "name": "python3"
  },
  "language_info": {
   "codemirror_mode": {
    "name": "ipython",
    "version": 3
   },
   "file_extension": ".py",
   "mimetype": "text/x-python",
   "name": "python",
   "nbconvert_exporter": "python",
   "pygments_lexer": "ipython3",
   "version": "3.6.8"
  }
 },
 "nbformat": 4,
 "nbformat_minor": 2
}
