{
 "cells": [
  {
   "cell_type": "code",
   "execution_count": 1,
   "id": "f8f53ba9-b53f-42a5-8ac1-a4a8b54e06a5",
   "metadata": {},
   "outputs": [
    {
     "data": {
      "text/plain": [
       "['.ipynb_checkpoints',\n",
       " 'CONTENT_CATEGORY.zip',\n",
       " 'CONTENT_CATEGORY_BOTTOM.zip',\n",
       " 'CONTENT_CATEGORY_TOP.zip',\n",
       " 'conversiones.zip',\n",
       " 'data.zip',\n",
       " 'data2.zip',\n",
       " 'device_data.zip',\n",
       " 'PAGE.zip',\n",
       " 'pageviews.zip',\n",
       " 'pageviews_complemento.zip',\n",
       " 'pageview_with_previous_2.csv',\n",
       " 'sampleSubmission.zip',\n",
       " 'SITE_ID.zip']"
      ]
     },
     "execution_count": 1,
     "metadata": {},
     "output_type": "execute_result"
    }
   ],
   "source": [
    "# Nativos\n",
    "import random as rn\n",
    "import os\n",
    "import sys\n",
    "import gc\n",
    "import json\n",
    "\n",
    "#calculo\n",
    "import numpy as np\n",
    "import pandas as pd\n",
    "import scipy as sp\n",
    "\n",
    "#grafico\n",
    "import matplotlib.pyplot as plt\n",
    "import seaborn as sns\n",
    "from IPython.display import display\n",
    "%matplotlib inline\n",
    "sns.set(style=\"whitegrid\")\n",
    "\n",
    "#warning ignore future\n",
    "import warnings\n",
    "# warnings.simplefilter(action='ignore', category=FutureWarning)\n",
    "warnings.filterwarnings(\"ignore\")\n",
    "gc.collect()\n",
    "\n",
    "BASE_DIR = os.path.dirname(os.getcwd())\n",
    "if BASE_DIR not in sys.path: sys.path.append(BASE_DIR)\n",
    "\n",
    "#from utils import *\n",
    "#from graphs import *\n",
    "\n",
    "SEED = 29082013\n",
    "os.environ['PYTHONHASHSEED']=str(SEED)\n",
    "np.random.seed(SEED)\n",
    "rn.seed(SEED)\n",
    "\n",
    "subfolder = \"data\"\n",
    "os.listdir(subfolder)"
   ]
  },
  {
   "cell_type": "code",
   "execution_count": null,
   "id": "8bd332ea-d51a-481e-a9f0-3d7d18673caf",
   "metadata": {},
   "outputs": [],
   "source": []
  },
  {
   "cell_type": "markdown",
   "id": "aabcc0e6-fd39-42d5-911d-8694d056fd57",
   "metadata": {},
   "source": [
    "### Configuración"
   ]
  },
  {
   "cell_type": "code",
   "execution_count": 2,
   "id": "0eb7bfff-dbfd-4fab-ad14-a484329f3fe1",
   "metadata": {},
   "outputs": [],
   "source": [
    "col_user = 'USER_ID'"
   ]
  },
  {
   "cell_type": "code",
   "execution_count": null,
   "id": "3bfb1df5-a10b-4762-ae4a-350f4c6d3f66",
   "metadata": {},
   "outputs": [],
   "source": []
  },
  {
   "cell_type": "code",
   "execution_count": 3,
   "id": "e2cf7f8d-d859-4745-8bb7-2e0cbcc01ffd",
   "metadata": {},
   "outputs": [
    {
     "data": {
      "text/html": [
       "<div>\n",
       "<style scoped>\n",
       "    .dataframe tbody tr th:only-of-type {\n",
       "        vertical-align: middle;\n",
       "    }\n",
       "\n",
       "    .dataframe tbody tr th {\n",
       "        vertical-align: top;\n",
       "    }\n",
       "\n",
       "    .dataframe thead th {\n",
       "        text-align: right;\n",
       "    }\n",
       "</style>\n",
       "<table border=\"1\" class=\"dataframe\">\n",
       "  <thead>\n",
       "    <tr style=\"text-align: right;\">\n",
       "      <th></th>\n",
       "      <th>USER_ID</th>\n",
       "      <th>mes</th>\n",
       "    </tr>\n",
       "  </thead>\n",
       "  <tbody>\n",
       "    <tr>\n",
       "      <th>0</th>\n",
       "      <td>13</td>\n",
       "      <td>8</td>\n",
       "    </tr>\n",
       "    <tr>\n",
       "      <th>1</th>\n",
       "      <td>22</td>\n",
       "      <td>12</td>\n",
       "    </tr>\n",
       "    <tr>\n",
       "      <th>2</th>\n",
       "      <td>40</td>\n",
       "      <td>1</td>\n",
       "    </tr>\n",
       "    <tr>\n",
       "      <th>3</th>\n",
       "      <td>57</td>\n",
       "      <td>6</td>\n",
       "    </tr>\n",
       "    <tr>\n",
       "      <th>4</th>\n",
       "      <td>92</td>\n",
       "      <td>3</td>\n",
       "    </tr>\n",
       "  </tbody>\n",
       "</table>\n",
       "</div>"
      ],
      "text/plain": [
       "   USER_ID  mes\n",
       "0       13    8\n",
       "1       22   12\n",
       "2       40    1\n",
       "3       57    6\n",
       "4       92    3"
      ]
     },
     "metadata": {},
     "output_type": "display_data"
    },
    {
     "data": {
      "text/plain": [
       "(1564, 2)"
      ]
     },
     "execution_count": 3,
     "metadata": {},
     "output_type": "execute_result"
    }
   ],
   "source": [
    "convertion = pd.read_csv(\n",
    "    \"{}/conversiones.zip\".format(subfolder), dtype={col_user: int, 'mes': int}\n",
    ").drop_duplicates()[['USER_ID','mes']].sort_values(\n",
    "    [col_user,'mes']\n",
    ").reset_index(drop=True)\n",
    "\n",
    "display(convertion.head())\n",
    "convertion.shape"
   ]
  },
  {
   "cell_type": "code",
   "execution_count": 4,
   "id": "0a436272-790c-47c5-be5b-db66a4aea295",
   "metadata": {},
   "outputs": [
    {
     "name": "stdout",
     "output_type": "stream",
     "text": [
      "USER_ID (1086,)\n",
      "mes (12,)\n",
      "trimestre (4,)\n"
     ]
    },
    {
     "data": {
      "text/html": [
       "<div>\n",
       "<style scoped>\n",
       "    .dataframe tbody tr th:only-of-type {\n",
       "        vertical-align: middle;\n",
       "    }\n",
       "\n",
       "    .dataframe tbody tr th {\n",
       "        vertical-align: top;\n",
       "    }\n",
       "\n",
       "    .dataframe thead th {\n",
       "        text-align: right;\n",
       "    }\n",
       "</style>\n",
       "<table border=\"1\" class=\"dataframe\">\n",
       "  <thead>\n",
       "    <tr style=\"text-align: right;\">\n",
       "      <th></th>\n",
       "      <th>USER_ID</th>\n",
       "      <th>trimestre</th>\n",
       "    </tr>\n",
       "  </thead>\n",
       "  <tbody>\n",
       "    <tr>\n",
       "      <th>0</th>\n",
       "      <td>13</td>\n",
       "      <td>3</td>\n",
       "    </tr>\n",
       "    <tr>\n",
       "      <th>1</th>\n",
       "      <td>22</td>\n",
       "      <td>4</td>\n",
       "    </tr>\n",
       "    <tr>\n",
       "      <th>2</th>\n",
       "      <td>40</td>\n",
       "      <td>1</td>\n",
       "    </tr>\n",
       "    <tr>\n",
       "      <th>3</th>\n",
       "      <td>57</td>\n",
       "      <td>2</td>\n",
       "    </tr>\n",
       "    <tr>\n",
       "      <th>4</th>\n",
       "      <td>92</td>\n",
       "      <td>1</td>\n",
       "    </tr>\n",
       "  </tbody>\n",
       "</table>\n",
       "</div>"
      ],
      "text/plain": [
       "   USER_ID  trimestre\n",
       "0       13          3\n",
       "1       22          4\n",
       "2       40          1\n",
       "3       57          2\n",
       "4       92          1"
      ]
     },
     "execution_count": 4,
     "metadata": {},
     "output_type": "execute_result"
    }
   ],
   "source": [
    "def get_trimestre(val):\n",
    "    if val <= 3:\n",
    "        return 1\n",
    "    elif val <= 6:\n",
    "        return 2\n",
    "    elif val <= 9:\n",
    "        return 3\n",
    "    elif val <= 12:\n",
    "        return 4\n",
    "    return 0\n",
    "\n",
    "convertion['trimestre'] = convertion['mes'].apply(get_trimestre)\n",
    "for col in convertion.columns:\n",
    "    print(col, convertion[col].unique().shape)\n",
    "\n",
    "del convertion['mes']\n",
    "convertion.head()"
   ]
  },
  {
   "cell_type": "code",
   "execution_count": 5,
   "id": "a19d5bbb-b709-4fa9-ae72-514be744e941",
   "metadata": {},
   "outputs": [
    {
     "data": {
      "text/plain": [
       "((1403, 2), (1403,))"
      ]
     },
     "execution_count": 5,
     "metadata": {},
     "output_type": "execute_result"
    }
   ],
   "source": [
    "convertion = convertion.drop_duplicates()[['USER_ID','trimestre']]\n",
    "convertion.shape, convertion.groupby(by=['USER_ID', 'trimestre']).size().shape"
   ]
  },
  {
   "cell_type": "code",
   "execution_count": 6,
   "id": "a15c9f9d-c046-45ce-b923-4e4f07eaf4c0",
   "metadata": {},
   "outputs": [
    {
     "data": {
      "text/plain": [
       "(1086,)"
      ]
     },
     "execution_count": 6,
     "metadata": {},
     "output_type": "execute_result"
    }
   ],
   "source": [
    "convertion['USER_ID'].unique().shape"
   ]
  },
  {
   "cell_type": "code",
   "execution_count": 15,
   "id": "65f774dd-0628-4bfb-97b7-d785860c585f",
   "metadata": {},
   "outputs": [
    {
     "name": "stdout",
     "output_type": "stream",
     "text": [
      "1   246   -> 2.09 %\n",
      "2   374   -> 3.18 %\n",
      "3   392   -> 3.33 %\n",
      "4   391   -> 3.32 %\n"
     ]
    }
   ],
   "source": [
    "dict_conversion = convertion.groupby(\n",
    "    by=['trimestre']\n",
    ")['USER_ID'].apply(\n",
    "    lambda _: list(_)\n",
    ").to_dict()\n",
    "\n",
    "for k, v in dict_conversion.items():\n",
    "    print(k, ' ',len(v), '  ->',str(round(len(v)*100/11767, 2)), '%')"
   ]
  },
  {
   "cell_type": "code",
   "execution_count": 16,
   "id": "01dd384c-0ad9-41cd-869a-8aae96a725c7",
   "metadata": {},
   "outputs": [
    {
     "data": {
      "text/plain": [
       "66"
      ]
     },
     "execution_count": 16,
     "metadata": {},
     "output_type": "execute_result"
    }
   ],
   "source": [
    "gc.collect()"
   ]
  },
  {
   "cell_type": "code",
   "execution_count": 9,
   "id": "f0a45fae-4659-47e0-b8f0-f0a2c8837824",
   "metadata": {},
   "outputs": [],
   "source": [
    "with open('convertions.json', 'w') as outfile_names:\n",
    "    json.dump(dict_conversion, outfile_names)"
   ]
  },
  {
   "cell_type": "code",
   "execution_count": null,
   "id": "c492537f-cdb2-426c-85cf-403962656f16",
   "metadata": {},
   "outputs": [],
   "source": []
  },
  {
   "cell_type": "code",
   "execution_count": null,
   "id": "242ec3fc-f235-441c-97f2-a94a2dc344b7",
   "metadata": {},
   "outputs": [],
   "source": []
  },
  {
   "cell_type": "code",
   "execution_count": null,
   "id": "52b51a5e-d560-4076-ae98-10f71c775ec5",
   "metadata": {},
   "outputs": [],
   "source": []
  }
 ],
 "metadata": {
  "kernelspec": {
   "display_name": "Python 3",
   "language": "python",
   "name": "python3"
  },
  "language_info": {
   "codemirror_mode": {
    "name": "ipython",
    "version": 3
   },
   "file_extension": ".py",
   "mimetype": "text/x-python",
   "name": "python",
   "nbconvert_exporter": "python",
   "pygments_lexer": "ipython3",
   "version": "3.8.5"
  }
 },
 "nbformat": 4,
 "nbformat_minor": 5
}
